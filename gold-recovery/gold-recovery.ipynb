{
 "cells": [
  {
   "cell_type": "markdown",
   "metadata": {},
   "source": [
    "# Восстановление золота из руды"
   ]
  },
  {
   "cell_type": "markdown",
   "metadata": {},
   "source": [
    "Необходимо подготовить прототип модели машинного обучения для «Цифры». Компания разрабатывает решения для эффективной работы промышленных предприятий.\n",
    "\n",
    "Модель должна предсказать коэффициент восстановления золота из золотосодержащей руды. Для этой цели будем использовать данные с параметрами добычи и очистки. \n",
    "\n",
    "Модель поможет оптимизировать производство, чтобы не запускать предприятие с убыточными характеристиками.\n",
    "\n",
    "Необходимо выполнить этапы:\n",
    "\n",
    "1. Подготовить данные;\n",
    "2. Провести исследовательский анализ данных;\n",
    "3. Построить и обучить модель."
   ]
  },
  {
   "cell_type": "markdown",
   "metadata": {
    "toc": true
   },
   "source": [
    "<h1>Содержание<span class=\"tocSkip\"></span></h1>\n",
    "<div class=\"toc\"><ul class=\"toc-item\"><li><span><a href=\"#Подготовка-данных\" data-toc-modified-id=\"Подготовка-данных-1\"><span class=\"toc-item-num\">1&nbsp;&nbsp;</span>Подготовка данных</a></span></li><li><span><a href=\"#Анализ-данных\" data-toc-modified-id=\"Анализ-данных-2\"><span class=\"toc-item-num\">2&nbsp;&nbsp;</span>Анализ данных</a></span></li><li><span><a href=\"#Модель\" data-toc-modified-id=\"Модель-3\"><span class=\"toc-item-num\">3&nbsp;&nbsp;</span>Модель</a></span><ul class=\"toc-item\"><li><span><a href=\"#Модель-линейной-регрессии\" data-toc-modified-id=\"Модель-линейной-регрессии-3.1\"><span class=\"toc-item-num\">3.1&nbsp;&nbsp;</span>Модель линейной регрессии</a></span></li><li><span><a href=\"#Модель-решающего-дерева\" data-toc-modified-id=\"Модель-решающего-дерева-3.2\"><span class=\"toc-item-num\">3.2&nbsp;&nbsp;</span>Модель решающего дерева</a></span></li><li><span><a href=\"#Модель-случайного-леса\" data-toc-modified-id=\"Модель-случайного-леса-3.3\"><span class=\"toc-item-num\">3.3&nbsp;&nbsp;</span>Модель случайного леса</a></span></li><li><span><a href=\"#Проверка-модели-на-тестовой-выборке\" data-toc-modified-id=\"Проверка-модели-на-тестовой-выборке-3.4\"><span class=\"toc-item-num\">3.4&nbsp;&nbsp;</span>Проверка модели на тестовой выборке</a></span></li></ul></li><li><span><a href=\"#Чек-лист-готовности-проекта\" data-toc-modified-id=\"Чек-лист-готовности-проекта-4\"><span class=\"toc-item-num\">4&nbsp;&nbsp;</span>Чек-лист готовности проекта</a></span></li></ul></div>"
   ]
  },
  {
   "cell_type": "markdown",
   "metadata": {},
   "source": [
    "## Подготовка данных"
   ]
  },
  {
   "cell_type": "code",
   "execution_count": 128,
   "metadata": {},
   "outputs": [],
   "source": [
    "# Загрузим необходимые для работы библиотеки\n",
    "import pandas as pd\n",
    "import numpy as np\n",
    "import matplotlib.pyplot as plt\n",
    "from sklearn.linear_model import LinearRegression\n",
    "from sklearn.tree import DecisionTreeRegressor\n",
    "from sklearn.ensemble import RandomForestRegressor\n",
    "from sklearn.model_selection import cross_val_score\n",
    "from sklearn.model_selection import train_test_split\n",
    "from sklearn.metrics import mean_absolute_error\n",
    "from sklearn.dummy import DummyRegressor\n",
    "from numpy.random import RandomState\n",
    "pd.options.mode.chained_assignment = None"
   ]
  },
  {
   "cell_type": "markdown",
   "metadata": {},
   "source": [
    "Все данные разделены на три таблицы: обучающую выборку, тестовую выборку и исходные данные. Сохраним их в отдельных таблицах."
   ]
  },
  {
   "cell_type": "code",
   "execution_count": 129,
   "metadata": {},
   "outputs": [],
   "source": [
    "df_train = pd.read_csv('/datasets/gold_recovery_train_new.csv') # - обучающая выборка\n",
    "df_test = pd.read_csv('/datasets/gold_recovery_test_new.csv') # - тестовая выборка\n",
    "df_full = pd.read_csv('/datasets/gold_recovery_full_new.csv') # - исходные данные"
   ]
  },
  {
   "cell_type": "markdown",
   "metadata": {},
   "source": [
    "Изучим каждую выборку в отдельности."
   ]
  },
  {
   "cell_type": "code",
   "execution_count": 130,
   "metadata": {},
   "outputs": [
    {
     "data": {
      "text/html": [
       "<div>\n",
       "<style scoped>\n",
       "    .dataframe tbody tr th:only-of-type {\n",
       "        vertical-align: middle;\n",
       "    }\n",
       "\n",
       "    .dataframe tbody tr th {\n",
       "        vertical-align: top;\n",
       "    }\n",
       "\n",
       "    .dataframe thead th {\n",
       "        text-align: right;\n",
       "    }\n",
       "</style>\n",
       "<table border=\"1\" class=\"dataframe\">\n",
       "  <thead>\n",
       "    <tr style=\"text-align: right;\">\n",
       "      <th></th>\n",
       "      <th>date</th>\n",
       "      <th>final.output.concentrate_ag</th>\n",
       "      <th>final.output.concentrate_pb</th>\n",
       "      <th>final.output.concentrate_sol</th>\n",
       "      <th>final.output.concentrate_au</th>\n",
       "      <th>final.output.recovery</th>\n",
       "      <th>final.output.tail_ag</th>\n",
       "      <th>final.output.tail_pb</th>\n",
       "      <th>final.output.tail_sol</th>\n",
       "      <th>final.output.tail_au</th>\n",
       "      <th>...</th>\n",
       "      <th>secondary_cleaner.state.floatbank4_a_air</th>\n",
       "      <th>secondary_cleaner.state.floatbank4_a_level</th>\n",
       "      <th>secondary_cleaner.state.floatbank4_b_air</th>\n",
       "      <th>secondary_cleaner.state.floatbank4_b_level</th>\n",
       "      <th>secondary_cleaner.state.floatbank5_a_air</th>\n",
       "      <th>secondary_cleaner.state.floatbank5_a_level</th>\n",
       "      <th>secondary_cleaner.state.floatbank5_b_air</th>\n",
       "      <th>secondary_cleaner.state.floatbank5_b_level</th>\n",
       "      <th>secondary_cleaner.state.floatbank6_a_air</th>\n",
       "      <th>secondary_cleaner.state.floatbank6_a_level</th>\n",
       "    </tr>\n",
       "  </thead>\n",
       "  <tbody>\n",
       "    <tr>\n",
       "      <td>0</td>\n",
       "      <td>2016-01-15 00:00:00</td>\n",
       "      <td>6.055403</td>\n",
       "      <td>9.889648</td>\n",
       "      <td>5.507324</td>\n",
       "      <td>42.192020</td>\n",
       "      <td>70.541216</td>\n",
       "      <td>10.411962</td>\n",
       "      <td>0.895447</td>\n",
       "      <td>16.904297</td>\n",
       "      <td>2.143149</td>\n",
       "      <td>...</td>\n",
       "      <td>14.016835</td>\n",
       "      <td>-502.488007</td>\n",
       "      <td>12.099931</td>\n",
       "      <td>-504.715942</td>\n",
       "      <td>9.925633</td>\n",
       "      <td>-498.310211</td>\n",
       "      <td>8.079666</td>\n",
       "      <td>-500.470978</td>\n",
       "      <td>14.151341</td>\n",
       "      <td>-605.841980</td>\n",
       "    </tr>\n",
       "    <tr>\n",
       "      <td>1</td>\n",
       "      <td>2016-01-15 01:00:00</td>\n",
       "      <td>6.029369</td>\n",
       "      <td>9.968944</td>\n",
       "      <td>5.257781</td>\n",
       "      <td>42.701629</td>\n",
       "      <td>69.266198</td>\n",
       "      <td>10.462676</td>\n",
       "      <td>0.927452</td>\n",
       "      <td>16.634514</td>\n",
       "      <td>2.224930</td>\n",
       "      <td>...</td>\n",
       "      <td>13.992281</td>\n",
       "      <td>-505.503262</td>\n",
       "      <td>11.950531</td>\n",
       "      <td>-501.331529</td>\n",
       "      <td>10.039245</td>\n",
       "      <td>-500.169983</td>\n",
       "      <td>7.984757</td>\n",
       "      <td>-500.582168</td>\n",
       "      <td>13.998353</td>\n",
       "      <td>-599.787184</td>\n",
       "    </tr>\n",
       "    <tr>\n",
       "      <td>2</td>\n",
       "      <td>2016-01-15 02:00:00</td>\n",
       "      <td>6.055926</td>\n",
       "      <td>10.213995</td>\n",
       "      <td>5.383759</td>\n",
       "      <td>42.657501</td>\n",
       "      <td>68.116445</td>\n",
       "      <td>10.507046</td>\n",
       "      <td>0.953716</td>\n",
       "      <td>16.208849</td>\n",
       "      <td>2.257889</td>\n",
       "      <td>...</td>\n",
       "      <td>14.015015</td>\n",
       "      <td>-502.520901</td>\n",
       "      <td>11.912783</td>\n",
       "      <td>-501.133383</td>\n",
       "      <td>10.070913</td>\n",
       "      <td>-500.129135</td>\n",
       "      <td>8.013877</td>\n",
       "      <td>-500.517572</td>\n",
       "      <td>14.028663</td>\n",
       "      <td>-601.427363</td>\n",
       "    </tr>\n",
       "    <tr>\n",
       "      <td>3</td>\n",
       "      <td>2016-01-15 03:00:00</td>\n",
       "      <td>6.047977</td>\n",
       "      <td>9.977019</td>\n",
       "      <td>4.858634</td>\n",
       "      <td>42.689819</td>\n",
       "      <td>68.347543</td>\n",
       "      <td>10.422762</td>\n",
       "      <td>0.883763</td>\n",
       "      <td>16.532835</td>\n",
       "      <td>2.146849</td>\n",
       "      <td>...</td>\n",
       "      <td>14.036510</td>\n",
       "      <td>-500.857308</td>\n",
       "      <td>11.999550</td>\n",
       "      <td>-501.193686</td>\n",
       "      <td>9.970366</td>\n",
       "      <td>-499.201640</td>\n",
       "      <td>7.977324</td>\n",
       "      <td>-500.255908</td>\n",
       "      <td>14.005551</td>\n",
       "      <td>-599.996129</td>\n",
       "    </tr>\n",
       "    <tr>\n",
       "      <td>4</td>\n",
       "      <td>2016-01-15 04:00:00</td>\n",
       "      <td>6.148599</td>\n",
       "      <td>10.142511</td>\n",
       "      <td>4.939416</td>\n",
       "      <td>42.774141</td>\n",
       "      <td>66.927016</td>\n",
       "      <td>10.360302</td>\n",
       "      <td>0.792826</td>\n",
       "      <td>16.525686</td>\n",
       "      <td>2.055292</td>\n",
       "      <td>...</td>\n",
       "      <td>14.027298</td>\n",
       "      <td>-499.838632</td>\n",
       "      <td>11.953070</td>\n",
       "      <td>-501.053894</td>\n",
       "      <td>9.925709</td>\n",
       "      <td>-501.686727</td>\n",
       "      <td>7.894242</td>\n",
       "      <td>-500.356035</td>\n",
       "      <td>13.996647</td>\n",
       "      <td>-601.496691</td>\n",
       "    </tr>\n",
       "    <tr>\n",
       "      <td>5</td>\n",
       "      <td>2016-01-15 05:00:00</td>\n",
       "      <td>6.482968</td>\n",
       "      <td>10.049416</td>\n",
       "      <td>5.480257</td>\n",
       "      <td>41.633678</td>\n",
       "      <td>69.465816</td>\n",
       "      <td>10.182708</td>\n",
       "      <td>0.664118</td>\n",
       "      <td>16.999638</td>\n",
       "      <td>1.918586</td>\n",
       "      <td>...</td>\n",
       "      <td>13.938497</td>\n",
       "      <td>-500.970168</td>\n",
       "      <td>11.883350</td>\n",
       "      <td>-500.395298</td>\n",
       "      <td>10.054147</td>\n",
       "      <td>-496.374715</td>\n",
       "      <td>7.965083</td>\n",
       "      <td>-499.364752</td>\n",
       "      <td>14.017067</td>\n",
       "      <td>-599.707915</td>\n",
       "    </tr>\n",
       "    <tr>\n",
       "      <td>6</td>\n",
       "      <td>2016-01-15 06:00:00</td>\n",
       "      <td>6.533849</td>\n",
       "      <td>10.058141</td>\n",
       "      <td>4.569100</td>\n",
       "      <td>41.995316</td>\n",
       "      <td>69.300835</td>\n",
       "      <td>10.304598</td>\n",
       "      <td>0.807342</td>\n",
       "      <td>16.723575</td>\n",
       "      <td>2.058913</td>\n",
       "      <td>...</td>\n",
       "      <td>14.046819</td>\n",
       "      <td>-500.971133</td>\n",
       "      <td>12.091543</td>\n",
       "      <td>-500.501426</td>\n",
       "      <td>10.003247</td>\n",
       "      <td>-497.083180</td>\n",
       "      <td>8.010890</td>\n",
       "      <td>-500.002423</td>\n",
       "      <td>14.029649</td>\n",
       "      <td>-600.905470</td>\n",
       "    </tr>\n",
       "    <tr>\n",
       "      <td>7</td>\n",
       "      <td>2016-01-15 07:00:00</td>\n",
       "      <td>6.130823</td>\n",
       "      <td>9.935481</td>\n",
       "      <td>4.389813</td>\n",
       "      <td>42.452727</td>\n",
       "      <td>70.230976</td>\n",
       "      <td>10.443288</td>\n",
       "      <td>0.949346</td>\n",
       "      <td>16.689959</td>\n",
       "      <td>2.143437</td>\n",
       "      <td>...</td>\n",
       "      <td>13.974691</td>\n",
       "      <td>-501.819696</td>\n",
       "      <td>12.101324</td>\n",
       "      <td>-500.583446</td>\n",
       "      <td>9.873169</td>\n",
       "      <td>-499.171928</td>\n",
       "      <td>7.993381</td>\n",
       "      <td>-499.794518</td>\n",
       "      <td>13.984498</td>\n",
       "      <td>-600.411070</td>\n",
       "    </tr>\n",
       "    <tr>\n",
       "      <td>8</td>\n",
       "      <td>2016-01-15 08:00:00</td>\n",
       "      <td>5.834140</td>\n",
       "      <td>10.071156</td>\n",
       "      <td>4.876389</td>\n",
       "      <td>43.404078</td>\n",
       "      <td>69.688595</td>\n",
       "      <td>10.420140</td>\n",
       "      <td>1.065453</td>\n",
       "      <td>17.201948</td>\n",
       "      <td>2.209881</td>\n",
       "      <td>...</td>\n",
       "      <td>13.964030</td>\n",
       "      <td>-504.252450</td>\n",
       "      <td>12.060738</td>\n",
       "      <td>-501.174549</td>\n",
       "      <td>10.033838</td>\n",
       "      <td>-501.178133</td>\n",
       "      <td>7.881604</td>\n",
       "      <td>-499.729434</td>\n",
       "      <td>13.967135</td>\n",
       "      <td>-599.061188</td>\n",
       "    </tr>\n",
       "    <tr>\n",
       "      <td>9</td>\n",
       "      <td>2016-01-15 09:00:00</td>\n",
       "      <td>5.687063</td>\n",
       "      <td>9.980404</td>\n",
       "      <td>5.282514</td>\n",
       "      <td>43.235220</td>\n",
       "      <td>70.279619</td>\n",
       "      <td>10.487013</td>\n",
       "      <td>1.159805</td>\n",
       "      <td>17.483979</td>\n",
       "      <td>2.209593</td>\n",
       "      <td>...</td>\n",
       "      <td>13.989632</td>\n",
       "      <td>-503.195299</td>\n",
       "      <td>12.052233</td>\n",
       "      <td>-500.928547</td>\n",
       "      <td>9.962574</td>\n",
       "      <td>-502.986357</td>\n",
       "      <td>7.979219</td>\n",
       "      <td>-500.146835</td>\n",
       "      <td>13.981614</td>\n",
       "      <td>-598.070855</td>\n",
       "    </tr>\n",
       "  </tbody>\n",
       "</table>\n",
       "<p>10 rows × 87 columns</p>\n",
       "</div>"
      ],
      "text/plain": [
       "                  date  final.output.concentrate_ag  \\\n",
       "0  2016-01-15 00:00:00                     6.055403   \n",
       "1  2016-01-15 01:00:00                     6.029369   \n",
       "2  2016-01-15 02:00:00                     6.055926   \n",
       "3  2016-01-15 03:00:00                     6.047977   \n",
       "4  2016-01-15 04:00:00                     6.148599   \n",
       "5  2016-01-15 05:00:00                     6.482968   \n",
       "6  2016-01-15 06:00:00                     6.533849   \n",
       "7  2016-01-15 07:00:00                     6.130823   \n",
       "8  2016-01-15 08:00:00                     5.834140   \n",
       "9  2016-01-15 09:00:00                     5.687063   \n",
       "\n",
       "   final.output.concentrate_pb  final.output.concentrate_sol  \\\n",
       "0                     9.889648                      5.507324   \n",
       "1                     9.968944                      5.257781   \n",
       "2                    10.213995                      5.383759   \n",
       "3                     9.977019                      4.858634   \n",
       "4                    10.142511                      4.939416   \n",
       "5                    10.049416                      5.480257   \n",
       "6                    10.058141                      4.569100   \n",
       "7                     9.935481                      4.389813   \n",
       "8                    10.071156                      4.876389   \n",
       "9                     9.980404                      5.282514   \n",
       "\n",
       "   final.output.concentrate_au  final.output.recovery  final.output.tail_ag  \\\n",
       "0                    42.192020              70.541216             10.411962   \n",
       "1                    42.701629              69.266198             10.462676   \n",
       "2                    42.657501              68.116445             10.507046   \n",
       "3                    42.689819              68.347543             10.422762   \n",
       "4                    42.774141              66.927016             10.360302   \n",
       "5                    41.633678              69.465816             10.182708   \n",
       "6                    41.995316              69.300835             10.304598   \n",
       "7                    42.452727              70.230976             10.443288   \n",
       "8                    43.404078              69.688595             10.420140   \n",
       "9                    43.235220              70.279619             10.487013   \n",
       "\n",
       "   final.output.tail_pb  final.output.tail_sol  final.output.tail_au  ...  \\\n",
       "0              0.895447              16.904297              2.143149  ...   \n",
       "1              0.927452              16.634514              2.224930  ...   \n",
       "2              0.953716              16.208849              2.257889  ...   \n",
       "3              0.883763              16.532835              2.146849  ...   \n",
       "4              0.792826              16.525686              2.055292  ...   \n",
       "5              0.664118              16.999638              1.918586  ...   \n",
       "6              0.807342              16.723575              2.058913  ...   \n",
       "7              0.949346              16.689959              2.143437  ...   \n",
       "8              1.065453              17.201948              2.209881  ...   \n",
       "9              1.159805              17.483979              2.209593  ...   \n",
       "\n",
       "   secondary_cleaner.state.floatbank4_a_air  \\\n",
       "0                                 14.016835   \n",
       "1                                 13.992281   \n",
       "2                                 14.015015   \n",
       "3                                 14.036510   \n",
       "4                                 14.027298   \n",
       "5                                 13.938497   \n",
       "6                                 14.046819   \n",
       "7                                 13.974691   \n",
       "8                                 13.964030   \n",
       "9                                 13.989632   \n",
       "\n",
       "   secondary_cleaner.state.floatbank4_a_level  \\\n",
       "0                                 -502.488007   \n",
       "1                                 -505.503262   \n",
       "2                                 -502.520901   \n",
       "3                                 -500.857308   \n",
       "4                                 -499.838632   \n",
       "5                                 -500.970168   \n",
       "6                                 -500.971133   \n",
       "7                                 -501.819696   \n",
       "8                                 -504.252450   \n",
       "9                                 -503.195299   \n",
       "\n",
       "   secondary_cleaner.state.floatbank4_b_air  \\\n",
       "0                                 12.099931   \n",
       "1                                 11.950531   \n",
       "2                                 11.912783   \n",
       "3                                 11.999550   \n",
       "4                                 11.953070   \n",
       "5                                 11.883350   \n",
       "6                                 12.091543   \n",
       "7                                 12.101324   \n",
       "8                                 12.060738   \n",
       "9                                 12.052233   \n",
       "\n",
       "   secondary_cleaner.state.floatbank4_b_level  \\\n",
       "0                                 -504.715942   \n",
       "1                                 -501.331529   \n",
       "2                                 -501.133383   \n",
       "3                                 -501.193686   \n",
       "4                                 -501.053894   \n",
       "5                                 -500.395298   \n",
       "6                                 -500.501426   \n",
       "7                                 -500.583446   \n",
       "8                                 -501.174549   \n",
       "9                                 -500.928547   \n",
       "\n",
       "   secondary_cleaner.state.floatbank5_a_air  \\\n",
       "0                                  9.925633   \n",
       "1                                 10.039245   \n",
       "2                                 10.070913   \n",
       "3                                  9.970366   \n",
       "4                                  9.925709   \n",
       "5                                 10.054147   \n",
       "6                                 10.003247   \n",
       "7                                  9.873169   \n",
       "8                                 10.033838   \n",
       "9                                  9.962574   \n",
       "\n",
       "   secondary_cleaner.state.floatbank5_a_level  \\\n",
       "0                                 -498.310211   \n",
       "1                                 -500.169983   \n",
       "2                                 -500.129135   \n",
       "3                                 -499.201640   \n",
       "4                                 -501.686727   \n",
       "5                                 -496.374715   \n",
       "6                                 -497.083180   \n",
       "7                                 -499.171928   \n",
       "8                                 -501.178133   \n",
       "9                                 -502.986357   \n",
       "\n",
       "   secondary_cleaner.state.floatbank5_b_air  \\\n",
       "0                                  8.079666   \n",
       "1                                  7.984757   \n",
       "2                                  8.013877   \n",
       "3                                  7.977324   \n",
       "4                                  7.894242   \n",
       "5                                  7.965083   \n",
       "6                                  8.010890   \n",
       "7                                  7.993381   \n",
       "8                                  7.881604   \n",
       "9                                  7.979219   \n",
       "\n",
       "   secondary_cleaner.state.floatbank5_b_level  \\\n",
       "0                                 -500.470978   \n",
       "1                                 -500.582168   \n",
       "2                                 -500.517572   \n",
       "3                                 -500.255908   \n",
       "4                                 -500.356035   \n",
       "5                                 -499.364752   \n",
       "6                                 -500.002423   \n",
       "7                                 -499.794518   \n",
       "8                                 -499.729434   \n",
       "9                                 -500.146835   \n",
       "\n",
       "   secondary_cleaner.state.floatbank6_a_air  \\\n",
       "0                                 14.151341   \n",
       "1                                 13.998353   \n",
       "2                                 14.028663   \n",
       "3                                 14.005551   \n",
       "4                                 13.996647   \n",
       "5                                 14.017067   \n",
       "6                                 14.029649   \n",
       "7                                 13.984498   \n",
       "8                                 13.967135   \n",
       "9                                 13.981614   \n",
       "\n",
       "   secondary_cleaner.state.floatbank6_a_level  \n",
       "0                                 -605.841980  \n",
       "1                                 -599.787184  \n",
       "2                                 -601.427363  \n",
       "3                                 -599.996129  \n",
       "4                                 -601.496691  \n",
       "5                                 -599.707915  \n",
       "6                                 -600.905470  \n",
       "7                                 -600.411070  \n",
       "8                                 -599.061188  \n",
       "9                                 -598.070855  \n",
       "\n",
       "[10 rows x 87 columns]"
      ]
     },
     "execution_count": 130,
     "metadata": {},
     "output_type": "execute_result"
    }
   ],
   "source": [
    "# Посмотрим на первые 10 строк обучающей выборки\n",
    "df_train.head(10)"
   ]
  },
  {
   "cell_type": "code",
   "execution_count": 131,
   "metadata": {},
   "outputs": [
    {
     "data": {
      "text/html": [
       "<div>\n",
       "<style scoped>\n",
       "    .dataframe tbody tr th:only-of-type {\n",
       "        vertical-align: middle;\n",
       "    }\n",
       "\n",
       "    .dataframe tbody tr th {\n",
       "        vertical-align: top;\n",
       "    }\n",
       "\n",
       "    .dataframe thead th {\n",
       "        text-align: right;\n",
       "    }\n",
       "</style>\n",
       "<table border=\"1\" class=\"dataframe\">\n",
       "  <thead>\n",
       "    <tr style=\"text-align: right;\">\n",
       "      <th></th>\n",
       "      <th>date</th>\n",
       "      <th>primary_cleaner.input.sulfate</th>\n",
       "      <th>primary_cleaner.input.depressant</th>\n",
       "      <th>primary_cleaner.input.feed_size</th>\n",
       "      <th>primary_cleaner.input.xanthate</th>\n",
       "      <th>primary_cleaner.state.floatbank8_a_air</th>\n",
       "      <th>primary_cleaner.state.floatbank8_a_level</th>\n",
       "      <th>primary_cleaner.state.floatbank8_b_air</th>\n",
       "      <th>primary_cleaner.state.floatbank8_b_level</th>\n",
       "      <th>primary_cleaner.state.floatbank8_c_air</th>\n",
       "      <th>...</th>\n",
       "      <th>secondary_cleaner.state.floatbank4_a_air</th>\n",
       "      <th>secondary_cleaner.state.floatbank4_a_level</th>\n",
       "      <th>secondary_cleaner.state.floatbank4_b_air</th>\n",
       "      <th>secondary_cleaner.state.floatbank4_b_level</th>\n",
       "      <th>secondary_cleaner.state.floatbank5_a_air</th>\n",
       "      <th>secondary_cleaner.state.floatbank5_a_level</th>\n",
       "      <th>secondary_cleaner.state.floatbank5_b_air</th>\n",
       "      <th>secondary_cleaner.state.floatbank5_b_level</th>\n",
       "      <th>secondary_cleaner.state.floatbank6_a_air</th>\n",
       "      <th>secondary_cleaner.state.floatbank6_a_level</th>\n",
       "    </tr>\n",
       "  </thead>\n",
       "  <tbody>\n",
       "    <tr>\n",
       "      <td>0</td>\n",
       "      <td>2016-09-01 00:59:59</td>\n",
       "      <td>210.800909</td>\n",
       "      <td>14.993118</td>\n",
       "      <td>8.080000</td>\n",
       "      <td>1.005021</td>\n",
       "      <td>1398.981301</td>\n",
       "      <td>-500.225577</td>\n",
       "      <td>1399.144926</td>\n",
       "      <td>-499.919735</td>\n",
       "      <td>1400.102998</td>\n",
       "      <td>...</td>\n",
       "      <td>12.023554</td>\n",
       "      <td>-497.795834</td>\n",
       "      <td>8.016656</td>\n",
       "      <td>-501.289139</td>\n",
       "      <td>7.946562</td>\n",
       "      <td>-432.317850</td>\n",
       "      <td>4.872511</td>\n",
       "      <td>-500.037437</td>\n",
       "      <td>26.705889</td>\n",
       "      <td>-499.709414</td>\n",
       "    </tr>\n",
       "    <tr>\n",
       "      <td>1</td>\n",
       "      <td>2016-09-01 01:59:59</td>\n",
       "      <td>215.392455</td>\n",
       "      <td>14.987471</td>\n",
       "      <td>8.080000</td>\n",
       "      <td>0.990469</td>\n",
       "      <td>1398.777912</td>\n",
       "      <td>-500.057435</td>\n",
       "      <td>1398.055362</td>\n",
       "      <td>-499.778182</td>\n",
       "      <td>1396.151033</td>\n",
       "      <td>...</td>\n",
       "      <td>12.058140</td>\n",
       "      <td>-498.695773</td>\n",
       "      <td>8.130979</td>\n",
       "      <td>-499.634209</td>\n",
       "      <td>7.958270</td>\n",
       "      <td>-525.839648</td>\n",
       "      <td>4.878850</td>\n",
       "      <td>-500.162375</td>\n",
       "      <td>25.019940</td>\n",
       "      <td>-499.819438</td>\n",
       "    </tr>\n",
       "    <tr>\n",
       "      <td>2</td>\n",
       "      <td>2016-09-01 02:59:59</td>\n",
       "      <td>215.259946</td>\n",
       "      <td>12.884934</td>\n",
       "      <td>7.786667</td>\n",
       "      <td>0.996043</td>\n",
       "      <td>1398.493666</td>\n",
       "      <td>-500.868360</td>\n",
       "      <td>1398.860436</td>\n",
       "      <td>-499.764529</td>\n",
       "      <td>1398.075709</td>\n",
       "      <td>...</td>\n",
       "      <td>11.962366</td>\n",
       "      <td>-498.767484</td>\n",
       "      <td>8.096893</td>\n",
       "      <td>-500.827423</td>\n",
       "      <td>8.071056</td>\n",
       "      <td>-500.801673</td>\n",
       "      <td>4.905125</td>\n",
       "      <td>-499.828510</td>\n",
       "      <td>24.994862</td>\n",
       "      <td>-500.622559</td>\n",
       "    </tr>\n",
       "    <tr>\n",
       "      <td>3</td>\n",
       "      <td>2016-09-01 03:59:59</td>\n",
       "      <td>215.336236</td>\n",
       "      <td>12.006805</td>\n",
       "      <td>7.640000</td>\n",
       "      <td>0.863514</td>\n",
       "      <td>1399.618111</td>\n",
       "      <td>-498.863574</td>\n",
       "      <td>1397.440120</td>\n",
       "      <td>-499.211024</td>\n",
       "      <td>1400.129303</td>\n",
       "      <td>...</td>\n",
       "      <td>12.033091</td>\n",
       "      <td>-498.350935</td>\n",
       "      <td>8.074946</td>\n",
       "      <td>-499.474407</td>\n",
       "      <td>7.897085</td>\n",
       "      <td>-500.868509</td>\n",
       "      <td>4.931400</td>\n",
       "      <td>-499.963623</td>\n",
       "      <td>24.948919</td>\n",
       "      <td>-498.709987</td>\n",
       "    </tr>\n",
       "    <tr>\n",
       "      <td>4</td>\n",
       "      <td>2016-09-01 04:59:59</td>\n",
       "      <td>199.099327</td>\n",
       "      <td>10.682530</td>\n",
       "      <td>7.530000</td>\n",
       "      <td>0.805575</td>\n",
       "      <td>1401.268123</td>\n",
       "      <td>-500.808305</td>\n",
       "      <td>1398.128818</td>\n",
       "      <td>-499.504543</td>\n",
       "      <td>1402.172226</td>\n",
       "      <td>...</td>\n",
       "      <td>12.025367</td>\n",
       "      <td>-500.786497</td>\n",
       "      <td>8.054678</td>\n",
       "      <td>-500.397500</td>\n",
       "      <td>8.107890</td>\n",
       "      <td>-509.526725</td>\n",
       "      <td>4.957674</td>\n",
       "      <td>-500.360026</td>\n",
       "      <td>25.003331</td>\n",
       "      <td>-500.856333</td>\n",
       "    </tr>\n",
       "    <tr>\n",
       "      <td>5</td>\n",
       "      <td>2016-09-01 05:59:59</td>\n",
       "      <td>168.485085</td>\n",
       "      <td>8.817007</td>\n",
       "      <td>7.420000</td>\n",
       "      <td>0.791191</td>\n",
       "      <td>1402.826803</td>\n",
       "      <td>-499.299521</td>\n",
       "      <td>1401.511119</td>\n",
       "      <td>-499.205357</td>\n",
       "      <td>1404.088107</td>\n",
       "      <td>...</td>\n",
       "      <td>12.029797</td>\n",
       "      <td>-499.814895</td>\n",
       "      <td>8.036586</td>\n",
       "      <td>-500.371492</td>\n",
       "      <td>8.041446</td>\n",
       "      <td>-510.037054</td>\n",
       "      <td>4.983949</td>\n",
       "      <td>-499.990990</td>\n",
       "      <td>24.978973</td>\n",
       "      <td>-500.475640</td>\n",
       "    </tr>\n",
       "    <tr>\n",
       "      <td>6</td>\n",
       "      <td>2016-09-01 06:59:59</td>\n",
       "      <td>144.133440</td>\n",
       "      <td>7.924610</td>\n",
       "      <td>7.420000</td>\n",
       "      <td>0.788838</td>\n",
       "      <td>1398.252401</td>\n",
       "      <td>-499.748672</td>\n",
       "      <td>1393.255503</td>\n",
       "      <td>-499.195380</td>\n",
       "      <td>1396.738566</td>\n",
       "      <td>...</td>\n",
       "      <td>12.026296</td>\n",
       "      <td>-499.473127</td>\n",
       "      <td>8.027984</td>\n",
       "      <td>-500.983079</td>\n",
       "      <td>7.907340</td>\n",
       "      <td>-507.964971</td>\n",
       "      <td>5.010224</td>\n",
       "      <td>-500.043697</td>\n",
       "      <td>25.040709</td>\n",
       "      <td>-499.501984</td>\n",
       "    </tr>\n",
       "    <tr>\n",
       "      <td>7</td>\n",
       "      <td>2016-09-01 07:59:59</td>\n",
       "      <td>133.513396</td>\n",
       "      <td>8.055252</td>\n",
       "      <td>6.988000</td>\n",
       "      <td>0.801871</td>\n",
       "      <td>1401.669677</td>\n",
       "      <td>-501.777839</td>\n",
       "      <td>1400.754446</td>\n",
       "      <td>-502.514024</td>\n",
       "      <td>1400.465244</td>\n",
       "      <td>...</td>\n",
       "      <td>12.040911</td>\n",
       "      <td>-501.293852</td>\n",
       "      <td>8.020490</td>\n",
       "      <td>-499.185229</td>\n",
       "      <td>8.116897</td>\n",
       "      <td>-511.927561</td>\n",
       "      <td>5.036498</td>\n",
       "      <td>-500.149615</td>\n",
       "      <td>25.032580</td>\n",
       "      <td>-503.970657</td>\n",
       "    </tr>\n",
       "    <tr>\n",
       "      <td>8</td>\n",
       "      <td>2016-09-01 08:59:59</td>\n",
       "      <td>133.735356</td>\n",
       "      <td>7.999618</td>\n",
       "      <td>6.935000</td>\n",
       "      <td>0.789329</td>\n",
       "      <td>1402.358981</td>\n",
       "      <td>-499.981597</td>\n",
       "      <td>1400.985954</td>\n",
       "      <td>-496.802968</td>\n",
       "      <td>1401.168584</td>\n",
       "      <td>...</td>\n",
       "      <td>11.998184</td>\n",
       "      <td>-499.481608</td>\n",
       "      <td>8.012610</td>\n",
       "      <td>-500.896783</td>\n",
       "      <td>7.974422</td>\n",
       "      <td>-521.199104</td>\n",
       "      <td>5.061599</td>\n",
       "      <td>-499.791519</td>\n",
       "      <td>25.005063</td>\n",
       "      <td>-497.613716</td>\n",
       "    </tr>\n",
       "    <tr>\n",
       "      <td>9</td>\n",
       "      <td>2016-09-01 09:59:59</td>\n",
       "      <td>126.961069</td>\n",
       "      <td>8.017856</td>\n",
       "      <td>7.030000</td>\n",
       "      <td>0.805298</td>\n",
       "      <td>1400.816120</td>\n",
       "      <td>-499.014158</td>\n",
       "      <td>1399.975401</td>\n",
       "      <td>-499.570552</td>\n",
       "      <td>1401.871924</td>\n",
       "      <td>...</td>\n",
       "      <td>12.040725</td>\n",
       "      <td>-499.987743</td>\n",
       "      <td>7.989503</td>\n",
       "      <td>-499.750625</td>\n",
       "      <td>7.989710</td>\n",
       "      <td>-509.946737</td>\n",
       "      <td>5.068811</td>\n",
       "      <td>-499.293900</td>\n",
       "      <td>24.992741</td>\n",
       "      <td>-499.272255</td>\n",
       "    </tr>\n",
       "  </tbody>\n",
       "</table>\n",
       "<p>10 rows × 53 columns</p>\n",
       "</div>"
      ],
      "text/plain": [
       "                  date  primary_cleaner.input.sulfate  \\\n",
       "0  2016-09-01 00:59:59                     210.800909   \n",
       "1  2016-09-01 01:59:59                     215.392455   \n",
       "2  2016-09-01 02:59:59                     215.259946   \n",
       "3  2016-09-01 03:59:59                     215.336236   \n",
       "4  2016-09-01 04:59:59                     199.099327   \n",
       "5  2016-09-01 05:59:59                     168.485085   \n",
       "6  2016-09-01 06:59:59                     144.133440   \n",
       "7  2016-09-01 07:59:59                     133.513396   \n",
       "8  2016-09-01 08:59:59                     133.735356   \n",
       "9  2016-09-01 09:59:59                     126.961069   \n",
       "\n",
       "   primary_cleaner.input.depressant  primary_cleaner.input.feed_size  \\\n",
       "0                         14.993118                         8.080000   \n",
       "1                         14.987471                         8.080000   \n",
       "2                         12.884934                         7.786667   \n",
       "3                         12.006805                         7.640000   \n",
       "4                         10.682530                         7.530000   \n",
       "5                          8.817007                         7.420000   \n",
       "6                          7.924610                         7.420000   \n",
       "7                          8.055252                         6.988000   \n",
       "8                          7.999618                         6.935000   \n",
       "9                          8.017856                         7.030000   \n",
       "\n",
       "   primary_cleaner.input.xanthate  primary_cleaner.state.floatbank8_a_air  \\\n",
       "0                        1.005021                             1398.981301   \n",
       "1                        0.990469                             1398.777912   \n",
       "2                        0.996043                             1398.493666   \n",
       "3                        0.863514                             1399.618111   \n",
       "4                        0.805575                             1401.268123   \n",
       "5                        0.791191                             1402.826803   \n",
       "6                        0.788838                             1398.252401   \n",
       "7                        0.801871                             1401.669677   \n",
       "8                        0.789329                             1402.358981   \n",
       "9                        0.805298                             1400.816120   \n",
       "\n",
       "   primary_cleaner.state.floatbank8_a_level  \\\n",
       "0                               -500.225577   \n",
       "1                               -500.057435   \n",
       "2                               -500.868360   \n",
       "3                               -498.863574   \n",
       "4                               -500.808305   \n",
       "5                               -499.299521   \n",
       "6                               -499.748672   \n",
       "7                               -501.777839   \n",
       "8                               -499.981597   \n",
       "9                               -499.014158   \n",
       "\n",
       "   primary_cleaner.state.floatbank8_b_air  \\\n",
       "0                             1399.144926   \n",
       "1                             1398.055362   \n",
       "2                             1398.860436   \n",
       "3                             1397.440120   \n",
       "4                             1398.128818   \n",
       "5                             1401.511119   \n",
       "6                             1393.255503   \n",
       "7                             1400.754446   \n",
       "8                             1400.985954   \n",
       "9                             1399.975401   \n",
       "\n",
       "   primary_cleaner.state.floatbank8_b_level  \\\n",
       "0                               -499.919735   \n",
       "1                               -499.778182   \n",
       "2                               -499.764529   \n",
       "3                               -499.211024   \n",
       "4                               -499.504543   \n",
       "5                               -499.205357   \n",
       "6                               -499.195380   \n",
       "7                               -502.514024   \n",
       "8                               -496.802968   \n",
       "9                               -499.570552   \n",
       "\n",
       "   primary_cleaner.state.floatbank8_c_air  ...  \\\n",
       "0                             1400.102998  ...   \n",
       "1                             1396.151033  ...   \n",
       "2                             1398.075709  ...   \n",
       "3                             1400.129303  ...   \n",
       "4                             1402.172226  ...   \n",
       "5                             1404.088107  ...   \n",
       "6                             1396.738566  ...   \n",
       "7                             1400.465244  ...   \n",
       "8                             1401.168584  ...   \n",
       "9                             1401.871924  ...   \n",
       "\n",
       "   secondary_cleaner.state.floatbank4_a_air  \\\n",
       "0                                 12.023554   \n",
       "1                                 12.058140   \n",
       "2                                 11.962366   \n",
       "3                                 12.033091   \n",
       "4                                 12.025367   \n",
       "5                                 12.029797   \n",
       "6                                 12.026296   \n",
       "7                                 12.040911   \n",
       "8                                 11.998184   \n",
       "9                                 12.040725   \n",
       "\n",
       "   secondary_cleaner.state.floatbank4_a_level  \\\n",
       "0                                 -497.795834   \n",
       "1                                 -498.695773   \n",
       "2                                 -498.767484   \n",
       "3                                 -498.350935   \n",
       "4                                 -500.786497   \n",
       "5                                 -499.814895   \n",
       "6                                 -499.473127   \n",
       "7                                 -501.293852   \n",
       "8                                 -499.481608   \n",
       "9                                 -499.987743   \n",
       "\n",
       "   secondary_cleaner.state.floatbank4_b_air  \\\n",
       "0                                  8.016656   \n",
       "1                                  8.130979   \n",
       "2                                  8.096893   \n",
       "3                                  8.074946   \n",
       "4                                  8.054678   \n",
       "5                                  8.036586   \n",
       "6                                  8.027984   \n",
       "7                                  8.020490   \n",
       "8                                  8.012610   \n",
       "9                                  7.989503   \n",
       "\n",
       "   secondary_cleaner.state.floatbank4_b_level  \\\n",
       "0                                 -501.289139   \n",
       "1                                 -499.634209   \n",
       "2                                 -500.827423   \n",
       "3                                 -499.474407   \n",
       "4                                 -500.397500   \n",
       "5                                 -500.371492   \n",
       "6                                 -500.983079   \n",
       "7                                 -499.185229   \n",
       "8                                 -500.896783   \n",
       "9                                 -499.750625   \n",
       "\n",
       "   secondary_cleaner.state.floatbank5_a_air  \\\n",
       "0                                  7.946562   \n",
       "1                                  7.958270   \n",
       "2                                  8.071056   \n",
       "3                                  7.897085   \n",
       "4                                  8.107890   \n",
       "5                                  8.041446   \n",
       "6                                  7.907340   \n",
       "7                                  8.116897   \n",
       "8                                  7.974422   \n",
       "9                                  7.989710   \n",
       "\n",
       "   secondary_cleaner.state.floatbank5_a_level  \\\n",
       "0                                 -432.317850   \n",
       "1                                 -525.839648   \n",
       "2                                 -500.801673   \n",
       "3                                 -500.868509   \n",
       "4                                 -509.526725   \n",
       "5                                 -510.037054   \n",
       "6                                 -507.964971   \n",
       "7                                 -511.927561   \n",
       "8                                 -521.199104   \n",
       "9                                 -509.946737   \n",
       "\n",
       "   secondary_cleaner.state.floatbank5_b_air  \\\n",
       "0                                  4.872511   \n",
       "1                                  4.878850   \n",
       "2                                  4.905125   \n",
       "3                                  4.931400   \n",
       "4                                  4.957674   \n",
       "5                                  4.983949   \n",
       "6                                  5.010224   \n",
       "7                                  5.036498   \n",
       "8                                  5.061599   \n",
       "9                                  5.068811   \n",
       "\n",
       "   secondary_cleaner.state.floatbank5_b_level  \\\n",
       "0                                 -500.037437   \n",
       "1                                 -500.162375   \n",
       "2                                 -499.828510   \n",
       "3                                 -499.963623   \n",
       "4                                 -500.360026   \n",
       "5                                 -499.990990   \n",
       "6                                 -500.043697   \n",
       "7                                 -500.149615   \n",
       "8                                 -499.791519   \n",
       "9                                 -499.293900   \n",
       "\n",
       "   secondary_cleaner.state.floatbank6_a_air  \\\n",
       "0                                 26.705889   \n",
       "1                                 25.019940   \n",
       "2                                 24.994862   \n",
       "3                                 24.948919   \n",
       "4                                 25.003331   \n",
       "5                                 24.978973   \n",
       "6                                 25.040709   \n",
       "7                                 25.032580   \n",
       "8                                 25.005063   \n",
       "9                                 24.992741   \n",
       "\n",
       "   secondary_cleaner.state.floatbank6_a_level  \n",
       "0                                 -499.709414  \n",
       "1                                 -499.819438  \n",
       "2                                 -500.622559  \n",
       "3                                 -498.709987  \n",
       "4                                 -500.856333  \n",
       "5                                 -500.475640  \n",
       "6                                 -499.501984  \n",
       "7                                 -503.970657  \n",
       "8                                 -497.613716  \n",
       "9                                 -499.272255  \n",
       "\n",
       "[10 rows x 53 columns]"
      ]
     },
     "execution_count": 131,
     "metadata": {},
     "output_type": "execute_result"
    }
   ],
   "source": [
    "# Посмотрим на первые 10 строк тестовой выборки\n",
    "df_test.head(10)"
   ]
  },
  {
   "cell_type": "code",
   "execution_count": 132,
   "metadata": {},
   "outputs": [
    {
     "data": {
      "text/html": [
       "<div>\n",
       "<style scoped>\n",
       "    .dataframe tbody tr th:only-of-type {\n",
       "        vertical-align: middle;\n",
       "    }\n",
       "\n",
       "    .dataframe tbody tr th {\n",
       "        vertical-align: top;\n",
       "    }\n",
       "\n",
       "    .dataframe thead th {\n",
       "        text-align: right;\n",
       "    }\n",
       "</style>\n",
       "<table border=\"1\" class=\"dataframe\">\n",
       "  <thead>\n",
       "    <tr style=\"text-align: right;\">\n",
       "      <th></th>\n",
       "      <th>date</th>\n",
       "      <th>final.output.concentrate_ag</th>\n",
       "      <th>final.output.concentrate_pb</th>\n",
       "      <th>final.output.concentrate_sol</th>\n",
       "      <th>final.output.concentrate_au</th>\n",
       "      <th>final.output.recovery</th>\n",
       "      <th>final.output.tail_ag</th>\n",
       "      <th>final.output.tail_pb</th>\n",
       "      <th>final.output.tail_sol</th>\n",
       "      <th>final.output.tail_au</th>\n",
       "      <th>...</th>\n",
       "      <th>secondary_cleaner.state.floatbank4_a_air</th>\n",
       "      <th>secondary_cleaner.state.floatbank4_a_level</th>\n",
       "      <th>secondary_cleaner.state.floatbank4_b_air</th>\n",
       "      <th>secondary_cleaner.state.floatbank4_b_level</th>\n",
       "      <th>secondary_cleaner.state.floatbank5_a_air</th>\n",
       "      <th>secondary_cleaner.state.floatbank5_a_level</th>\n",
       "      <th>secondary_cleaner.state.floatbank5_b_air</th>\n",
       "      <th>secondary_cleaner.state.floatbank5_b_level</th>\n",
       "      <th>secondary_cleaner.state.floatbank6_a_air</th>\n",
       "      <th>secondary_cleaner.state.floatbank6_a_level</th>\n",
       "    </tr>\n",
       "  </thead>\n",
       "  <tbody>\n",
       "    <tr>\n",
       "      <td>0</td>\n",
       "      <td>2016-01-15 00:00:00</td>\n",
       "      <td>6.055403</td>\n",
       "      <td>9.889648</td>\n",
       "      <td>5.507324</td>\n",
       "      <td>42.192020</td>\n",
       "      <td>70.541216</td>\n",
       "      <td>10.411962</td>\n",
       "      <td>0.895447</td>\n",
       "      <td>16.904297</td>\n",
       "      <td>2.143149</td>\n",
       "      <td>...</td>\n",
       "      <td>14.016835</td>\n",
       "      <td>-502.488007</td>\n",
       "      <td>12.099931</td>\n",
       "      <td>-504.715942</td>\n",
       "      <td>9.925633</td>\n",
       "      <td>-498.310211</td>\n",
       "      <td>8.079666</td>\n",
       "      <td>-500.470978</td>\n",
       "      <td>14.151341</td>\n",
       "      <td>-605.841980</td>\n",
       "    </tr>\n",
       "    <tr>\n",
       "      <td>1</td>\n",
       "      <td>2016-01-15 01:00:00</td>\n",
       "      <td>6.029369</td>\n",
       "      <td>9.968944</td>\n",
       "      <td>5.257781</td>\n",
       "      <td>42.701629</td>\n",
       "      <td>69.266198</td>\n",
       "      <td>10.462676</td>\n",
       "      <td>0.927452</td>\n",
       "      <td>16.634514</td>\n",
       "      <td>2.224930</td>\n",
       "      <td>...</td>\n",
       "      <td>13.992281</td>\n",
       "      <td>-505.503262</td>\n",
       "      <td>11.950531</td>\n",
       "      <td>-501.331529</td>\n",
       "      <td>10.039245</td>\n",
       "      <td>-500.169983</td>\n",
       "      <td>7.984757</td>\n",
       "      <td>-500.582168</td>\n",
       "      <td>13.998353</td>\n",
       "      <td>-599.787184</td>\n",
       "    </tr>\n",
       "    <tr>\n",
       "      <td>2</td>\n",
       "      <td>2016-01-15 02:00:00</td>\n",
       "      <td>6.055926</td>\n",
       "      <td>10.213995</td>\n",
       "      <td>5.383759</td>\n",
       "      <td>42.657501</td>\n",
       "      <td>68.116445</td>\n",
       "      <td>10.507046</td>\n",
       "      <td>0.953716</td>\n",
       "      <td>16.208849</td>\n",
       "      <td>2.257889</td>\n",
       "      <td>...</td>\n",
       "      <td>14.015015</td>\n",
       "      <td>-502.520901</td>\n",
       "      <td>11.912783</td>\n",
       "      <td>-501.133383</td>\n",
       "      <td>10.070913</td>\n",
       "      <td>-500.129135</td>\n",
       "      <td>8.013877</td>\n",
       "      <td>-500.517572</td>\n",
       "      <td>14.028663</td>\n",
       "      <td>-601.427363</td>\n",
       "    </tr>\n",
       "    <tr>\n",
       "      <td>3</td>\n",
       "      <td>2016-01-15 03:00:00</td>\n",
       "      <td>6.047977</td>\n",
       "      <td>9.977019</td>\n",
       "      <td>4.858634</td>\n",
       "      <td>42.689819</td>\n",
       "      <td>68.347543</td>\n",
       "      <td>10.422762</td>\n",
       "      <td>0.883763</td>\n",
       "      <td>16.532835</td>\n",
       "      <td>2.146849</td>\n",
       "      <td>...</td>\n",
       "      <td>14.036510</td>\n",
       "      <td>-500.857308</td>\n",
       "      <td>11.999550</td>\n",
       "      <td>-501.193686</td>\n",
       "      <td>9.970366</td>\n",
       "      <td>-499.201640</td>\n",
       "      <td>7.977324</td>\n",
       "      <td>-500.255908</td>\n",
       "      <td>14.005551</td>\n",
       "      <td>-599.996129</td>\n",
       "    </tr>\n",
       "    <tr>\n",
       "      <td>4</td>\n",
       "      <td>2016-01-15 04:00:00</td>\n",
       "      <td>6.148599</td>\n",
       "      <td>10.142511</td>\n",
       "      <td>4.939416</td>\n",
       "      <td>42.774141</td>\n",
       "      <td>66.927016</td>\n",
       "      <td>10.360302</td>\n",
       "      <td>0.792826</td>\n",
       "      <td>16.525686</td>\n",
       "      <td>2.055292</td>\n",
       "      <td>...</td>\n",
       "      <td>14.027298</td>\n",
       "      <td>-499.838632</td>\n",
       "      <td>11.953070</td>\n",
       "      <td>-501.053894</td>\n",
       "      <td>9.925709</td>\n",
       "      <td>-501.686727</td>\n",
       "      <td>7.894242</td>\n",
       "      <td>-500.356035</td>\n",
       "      <td>13.996647</td>\n",
       "      <td>-601.496691</td>\n",
       "    </tr>\n",
       "    <tr>\n",
       "      <td>5</td>\n",
       "      <td>2016-01-15 05:00:00</td>\n",
       "      <td>6.482968</td>\n",
       "      <td>10.049416</td>\n",
       "      <td>5.480257</td>\n",
       "      <td>41.633678</td>\n",
       "      <td>69.465816</td>\n",
       "      <td>10.182708</td>\n",
       "      <td>0.664118</td>\n",
       "      <td>16.999638</td>\n",
       "      <td>1.918586</td>\n",
       "      <td>...</td>\n",
       "      <td>13.938497</td>\n",
       "      <td>-500.970168</td>\n",
       "      <td>11.883350</td>\n",
       "      <td>-500.395298</td>\n",
       "      <td>10.054147</td>\n",
       "      <td>-496.374715</td>\n",
       "      <td>7.965083</td>\n",
       "      <td>-499.364752</td>\n",
       "      <td>14.017067</td>\n",
       "      <td>-599.707915</td>\n",
       "    </tr>\n",
       "    <tr>\n",
       "      <td>6</td>\n",
       "      <td>2016-01-15 06:00:00</td>\n",
       "      <td>6.533849</td>\n",
       "      <td>10.058141</td>\n",
       "      <td>4.569100</td>\n",
       "      <td>41.995316</td>\n",
       "      <td>69.300835</td>\n",
       "      <td>10.304598</td>\n",
       "      <td>0.807342</td>\n",
       "      <td>16.723575</td>\n",
       "      <td>2.058913</td>\n",
       "      <td>...</td>\n",
       "      <td>14.046819</td>\n",
       "      <td>-500.971133</td>\n",
       "      <td>12.091543</td>\n",
       "      <td>-500.501426</td>\n",
       "      <td>10.003247</td>\n",
       "      <td>-497.083180</td>\n",
       "      <td>8.010890</td>\n",
       "      <td>-500.002423</td>\n",
       "      <td>14.029649</td>\n",
       "      <td>-600.905470</td>\n",
       "    </tr>\n",
       "    <tr>\n",
       "      <td>7</td>\n",
       "      <td>2016-01-15 07:00:00</td>\n",
       "      <td>6.130823</td>\n",
       "      <td>9.935481</td>\n",
       "      <td>4.389813</td>\n",
       "      <td>42.452727</td>\n",
       "      <td>70.230976</td>\n",
       "      <td>10.443288</td>\n",
       "      <td>0.949346</td>\n",
       "      <td>16.689959</td>\n",
       "      <td>2.143437</td>\n",
       "      <td>...</td>\n",
       "      <td>13.974691</td>\n",
       "      <td>-501.819696</td>\n",
       "      <td>12.101324</td>\n",
       "      <td>-500.583446</td>\n",
       "      <td>9.873169</td>\n",
       "      <td>-499.171928</td>\n",
       "      <td>7.993381</td>\n",
       "      <td>-499.794518</td>\n",
       "      <td>13.984498</td>\n",
       "      <td>-600.411070</td>\n",
       "    </tr>\n",
       "    <tr>\n",
       "      <td>8</td>\n",
       "      <td>2016-01-15 08:00:00</td>\n",
       "      <td>5.834140</td>\n",
       "      <td>10.071156</td>\n",
       "      <td>4.876389</td>\n",
       "      <td>43.404078</td>\n",
       "      <td>69.688595</td>\n",
       "      <td>10.420140</td>\n",
       "      <td>1.065453</td>\n",
       "      <td>17.201948</td>\n",
       "      <td>2.209881</td>\n",
       "      <td>...</td>\n",
       "      <td>13.964030</td>\n",
       "      <td>-504.252450</td>\n",
       "      <td>12.060738</td>\n",
       "      <td>-501.174549</td>\n",
       "      <td>10.033838</td>\n",
       "      <td>-501.178133</td>\n",
       "      <td>7.881604</td>\n",
       "      <td>-499.729434</td>\n",
       "      <td>13.967135</td>\n",
       "      <td>-599.061188</td>\n",
       "    </tr>\n",
       "    <tr>\n",
       "      <td>9</td>\n",
       "      <td>2016-01-15 09:00:00</td>\n",
       "      <td>5.687063</td>\n",
       "      <td>9.980404</td>\n",
       "      <td>5.282514</td>\n",
       "      <td>43.235220</td>\n",
       "      <td>70.279619</td>\n",
       "      <td>10.487013</td>\n",
       "      <td>1.159805</td>\n",
       "      <td>17.483979</td>\n",
       "      <td>2.209593</td>\n",
       "      <td>...</td>\n",
       "      <td>13.989632</td>\n",
       "      <td>-503.195299</td>\n",
       "      <td>12.052233</td>\n",
       "      <td>-500.928547</td>\n",
       "      <td>9.962574</td>\n",
       "      <td>-502.986357</td>\n",
       "      <td>7.979219</td>\n",
       "      <td>-500.146835</td>\n",
       "      <td>13.981614</td>\n",
       "      <td>-598.070855</td>\n",
       "    </tr>\n",
       "  </tbody>\n",
       "</table>\n",
       "<p>10 rows × 87 columns</p>\n",
       "</div>"
      ],
      "text/plain": [
       "                  date  final.output.concentrate_ag  \\\n",
       "0  2016-01-15 00:00:00                     6.055403   \n",
       "1  2016-01-15 01:00:00                     6.029369   \n",
       "2  2016-01-15 02:00:00                     6.055926   \n",
       "3  2016-01-15 03:00:00                     6.047977   \n",
       "4  2016-01-15 04:00:00                     6.148599   \n",
       "5  2016-01-15 05:00:00                     6.482968   \n",
       "6  2016-01-15 06:00:00                     6.533849   \n",
       "7  2016-01-15 07:00:00                     6.130823   \n",
       "8  2016-01-15 08:00:00                     5.834140   \n",
       "9  2016-01-15 09:00:00                     5.687063   \n",
       "\n",
       "   final.output.concentrate_pb  final.output.concentrate_sol  \\\n",
       "0                     9.889648                      5.507324   \n",
       "1                     9.968944                      5.257781   \n",
       "2                    10.213995                      5.383759   \n",
       "3                     9.977019                      4.858634   \n",
       "4                    10.142511                      4.939416   \n",
       "5                    10.049416                      5.480257   \n",
       "6                    10.058141                      4.569100   \n",
       "7                     9.935481                      4.389813   \n",
       "8                    10.071156                      4.876389   \n",
       "9                     9.980404                      5.282514   \n",
       "\n",
       "   final.output.concentrate_au  final.output.recovery  final.output.tail_ag  \\\n",
       "0                    42.192020              70.541216             10.411962   \n",
       "1                    42.701629              69.266198             10.462676   \n",
       "2                    42.657501              68.116445             10.507046   \n",
       "3                    42.689819              68.347543             10.422762   \n",
       "4                    42.774141              66.927016             10.360302   \n",
       "5                    41.633678              69.465816             10.182708   \n",
       "6                    41.995316              69.300835             10.304598   \n",
       "7                    42.452727              70.230976             10.443288   \n",
       "8                    43.404078              69.688595             10.420140   \n",
       "9                    43.235220              70.279619             10.487013   \n",
       "\n",
       "   final.output.tail_pb  final.output.tail_sol  final.output.tail_au  ...  \\\n",
       "0              0.895447              16.904297              2.143149  ...   \n",
       "1              0.927452              16.634514              2.224930  ...   \n",
       "2              0.953716              16.208849              2.257889  ...   \n",
       "3              0.883763              16.532835              2.146849  ...   \n",
       "4              0.792826              16.525686              2.055292  ...   \n",
       "5              0.664118              16.999638              1.918586  ...   \n",
       "6              0.807342              16.723575              2.058913  ...   \n",
       "7              0.949346              16.689959              2.143437  ...   \n",
       "8              1.065453              17.201948              2.209881  ...   \n",
       "9              1.159805              17.483979              2.209593  ...   \n",
       "\n",
       "   secondary_cleaner.state.floatbank4_a_air  \\\n",
       "0                                 14.016835   \n",
       "1                                 13.992281   \n",
       "2                                 14.015015   \n",
       "3                                 14.036510   \n",
       "4                                 14.027298   \n",
       "5                                 13.938497   \n",
       "6                                 14.046819   \n",
       "7                                 13.974691   \n",
       "8                                 13.964030   \n",
       "9                                 13.989632   \n",
       "\n",
       "   secondary_cleaner.state.floatbank4_a_level  \\\n",
       "0                                 -502.488007   \n",
       "1                                 -505.503262   \n",
       "2                                 -502.520901   \n",
       "3                                 -500.857308   \n",
       "4                                 -499.838632   \n",
       "5                                 -500.970168   \n",
       "6                                 -500.971133   \n",
       "7                                 -501.819696   \n",
       "8                                 -504.252450   \n",
       "9                                 -503.195299   \n",
       "\n",
       "   secondary_cleaner.state.floatbank4_b_air  \\\n",
       "0                                 12.099931   \n",
       "1                                 11.950531   \n",
       "2                                 11.912783   \n",
       "3                                 11.999550   \n",
       "4                                 11.953070   \n",
       "5                                 11.883350   \n",
       "6                                 12.091543   \n",
       "7                                 12.101324   \n",
       "8                                 12.060738   \n",
       "9                                 12.052233   \n",
       "\n",
       "   secondary_cleaner.state.floatbank4_b_level  \\\n",
       "0                                 -504.715942   \n",
       "1                                 -501.331529   \n",
       "2                                 -501.133383   \n",
       "3                                 -501.193686   \n",
       "4                                 -501.053894   \n",
       "5                                 -500.395298   \n",
       "6                                 -500.501426   \n",
       "7                                 -500.583446   \n",
       "8                                 -501.174549   \n",
       "9                                 -500.928547   \n",
       "\n",
       "   secondary_cleaner.state.floatbank5_a_air  \\\n",
       "0                                  9.925633   \n",
       "1                                 10.039245   \n",
       "2                                 10.070913   \n",
       "3                                  9.970366   \n",
       "4                                  9.925709   \n",
       "5                                 10.054147   \n",
       "6                                 10.003247   \n",
       "7                                  9.873169   \n",
       "8                                 10.033838   \n",
       "9                                  9.962574   \n",
       "\n",
       "   secondary_cleaner.state.floatbank5_a_level  \\\n",
       "0                                 -498.310211   \n",
       "1                                 -500.169983   \n",
       "2                                 -500.129135   \n",
       "3                                 -499.201640   \n",
       "4                                 -501.686727   \n",
       "5                                 -496.374715   \n",
       "6                                 -497.083180   \n",
       "7                                 -499.171928   \n",
       "8                                 -501.178133   \n",
       "9                                 -502.986357   \n",
       "\n",
       "   secondary_cleaner.state.floatbank5_b_air  \\\n",
       "0                                  8.079666   \n",
       "1                                  7.984757   \n",
       "2                                  8.013877   \n",
       "3                                  7.977324   \n",
       "4                                  7.894242   \n",
       "5                                  7.965083   \n",
       "6                                  8.010890   \n",
       "7                                  7.993381   \n",
       "8                                  7.881604   \n",
       "9                                  7.979219   \n",
       "\n",
       "   secondary_cleaner.state.floatbank5_b_level  \\\n",
       "0                                 -500.470978   \n",
       "1                                 -500.582168   \n",
       "2                                 -500.517572   \n",
       "3                                 -500.255908   \n",
       "4                                 -500.356035   \n",
       "5                                 -499.364752   \n",
       "6                                 -500.002423   \n",
       "7                                 -499.794518   \n",
       "8                                 -499.729434   \n",
       "9                                 -500.146835   \n",
       "\n",
       "   secondary_cleaner.state.floatbank6_a_air  \\\n",
       "0                                 14.151341   \n",
       "1                                 13.998353   \n",
       "2                                 14.028663   \n",
       "3                                 14.005551   \n",
       "4                                 13.996647   \n",
       "5                                 14.017067   \n",
       "6                                 14.029649   \n",
       "7                                 13.984498   \n",
       "8                                 13.967135   \n",
       "9                                 13.981614   \n",
       "\n",
       "   secondary_cleaner.state.floatbank6_a_level  \n",
       "0                                 -605.841980  \n",
       "1                                 -599.787184  \n",
       "2                                 -601.427363  \n",
       "3                                 -599.996129  \n",
       "4                                 -601.496691  \n",
       "5                                 -599.707915  \n",
       "6                                 -600.905470  \n",
       "7                                 -600.411070  \n",
       "8                                 -599.061188  \n",
       "9                                 -598.070855  \n",
       "\n",
       "[10 rows x 87 columns]"
      ]
     },
     "execution_count": 132,
     "metadata": {},
     "output_type": "execute_result"
    }
   ],
   "source": [
    "# Посмотрим на первые 10 строк исходных данных\n",
    "df_full.head(10)"
   ]
  },
  {
   "cell_type": "code",
   "execution_count": 133,
   "metadata": {},
   "outputs": [
    {
     "name": "stdout",
     "output_type": "stream",
     "text": [
      "<class 'pandas.core.frame.DataFrame'>\n",
      "RangeIndex: 14149 entries, 0 to 14148\n",
      "Data columns (total 87 columns):\n",
      "date                                                  14149 non-null object\n",
      "final.output.concentrate_ag                           14148 non-null float64\n",
      "final.output.concentrate_pb                           14148 non-null float64\n",
      "final.output.concentrate_sol                          13938 non-null float64\n",
      "final.output.concentrate_au                           14149 non-null float64\n",
      "final.output.recovery                                 14149 non-null float64\n",
      "final.output.tail_ag                                  14149 non-null float64\n",
      "final.output.tail_pb                                  14049 non-null float64\n",
      "final.output.tail_sol                                 14144 non-null float64\n",
      "final.output.tail_au                                  14149 non-null float64\n",
      "primary_cleaner.input.sulfate                         14129 non-null float64\n",
      "primary_cleaner.input.depressant                      14117 non-null float64\n",
      "primary_cleaner.input.feed_size                       14149 non-null float64\n",
      "primary_cleaner.input.xanthate                        14049 non-null float64\n",
      "primary_cleaner.output.concentrate_ag                 14149 non-null float64\n",
      "primary_cleaner.output.concentrate_pb                 14063 non-null float64\n",
      "primary_cleaner.output.concentrate_sol                13863 non-null float64\n",
      "primary_cleaner.output.concentrate_au                 14149 non-null float64\n",
      "primary_cleaner.output.tail_ag                        14148 non-null float64\n",
      "primary_cleaner.output.tail_pb                        14134 non-null float64\n",
      "primary_cleaner.output.tail_sol                       14103 non-null float64\n",
      "primary_cleaner.output.tail_au                        14149 non-null float64\n",
      "primary_cleaner.state.floatbank8_a_air                14145 non-null float64\n",
      "primary_cleaner.state.floatbank8_a_level              14148 non-null float64\n",
      "primary_cleaner.state.floatbank8_b_air                14145 non-null float64\n",
      "primary_cleaner.state.floatbank8_b_level              14148 non-null float64\n",
      "primary_cleaner.state.floatbank8_c_air                14147 non-null float64\n",
      "primary_cleaner.state.floatbank8_c_level              14148 non-null float64\n",
      "primary_cleaner.state.floatbank8_d_air                14146 non-null float64\n",
      "primary_cleaner.state.floatbank8_d_level              14148 non-null float64\n",
      "rougher.calculation.sulfate_to_au_concentrate         14148 non-null float64\n",
      "rougher.calculation.floatbank10_sulfate_to_au_feed    14148 non-null float64\n",
      "rougher.calculation.floatbank11_sulfate_to_au_feed    14148 non-null float64\n",
      "rougher.calculation.au_pb_ratio                       14149 non-null float64\n",
      "rougher.input.feed_ag                                 14149 non-null float64\n",
      "rougher.input.feed_pb                                 14049 non-null float64\n",
      "rougher.input.feed_rate                               14141 non-null float64\n",
      "rougher.input.feed_size                               14005 non-null float64\n",
      "rougher.input.feed_sol                                14071 non-null float64\n",
      "rougher.input.feed_au                                 14149 non-null float64\n",
      "rougher.input.floatbank10_sulfate                     14120 non-null float64\n",
      "rougher.input.floatbank10_xanthate                    14141 non-null float64\n",
      "rougher.input.floatbank11_sulfate                     14113 non-null float64\n",
      "rougher.input.floatbank11_xanthate                    13721 non-null float64\n",
      "rougher.output.concentrate_ag                         14149 non-null float64\n",
      "rougher.output.concentrate_pb                         14149 non-null float64\n",
      "rougher.output.concentrate_sol                        14127 non-null float64\n",
      "rougher.output.concentrate_au                         14149 non-null float64\n",
      "rougher.output.recovery                               14149 non-null float64\n",
      "rougher.output.tail_ag                                14148 non-null float64\n",
      "rougher.output.tail_pb                                14149 non-null float64\n",
      "rougher.output.tail_sol                               14149 non-null float64\n",
      "rougher.output.tail_au                                14149 non-null float64\n",
      "rougher.state.floatbank10_a_air                       14148 non-null float64\n",
      "rougher.state.floatbank10_a_level                     14148 non-null float64\n",
      "rougher.state.floatbank10_b_air                       14148 non-null float64\n",
      "rougher.state.floatbank10_b_level                     14148 non-null float64\n",
      "rougher.state.floatbank10_c_air                       14148 non-null float64\n",
      "rougher.state.floatbank10_c_level                     14148 non-null float64\n",
      "rougher.state.floatbank10_d_air                       14149 non-null float64\n",
      "rougher.state.floatbank10_d_level                     14149 non-null float64\n",
      "rougher.state.floatbank10_e_air                       13713 non-null float64\n",
      "rougher.state.floatbank10_e_level                     14149 non-null float64\n",
      "rougher.state.floatbank10_f_air                       14149 non-null float64\n",
      "rougher.state.floatbank10_f_level                     14149 non-null float64\n",
      "secondary_cleaner.output.tail_ag                      14147 non-null float64\n",
      "secondary_cleaner.output.tail_pb                      14139 non-null float64\n",
      "secondary_cleaner.output.tail_sol                     12544 non-null float64\n",
      "secondary_cleaner.output.tail_au                      14149 non-null float64\n",
      "secondary_cleaner.state.floatbank2_a_air              13932 non-null float64\n",
      "secondary_cleaner.state.floatbank2_a_level            14148 non-null float64\n",
      "secondary_cleaner.state.floatbank2_b_air              14128 non-null float64\n",
      "secondary_cleaner.state.floatbank2_b_level            14148 non-null float64\n",
      "secondary_cleaner.state.floatbank3_a_air              14145 non-null float64\n",
      "secondary_cleaner.state.floatbank3_a_level            14148 non-null float64\n",
      "secondary_cleaner.state.floatbank3_b_air              14148 non-null float64\n",
      "secondary_cleaner.state.floatbank3_b_level            14148 non-null float64\n",
      "secondary_cleaner.state.floatbank4_a_air              14143 non-null float64\n",
      "secondary_cleaner.state.floatbank4_a_level            14148 non-null float64\n",
      "secondary_cleaner.state.floatbank4_b_air              14148 non-null float64\n",
      "secondary_cleaner.state.floatbank4_b_level            14148 non-null float64\n",
      "secondary_cleaner.state.floatbank5_a_air              14148 non-null float64\n",
      "secondary_cleaner.state.floatbank5_a_level            14148 non-null float64\n",
      "secondary_cleaner.state.floatbank5_b_air              14148 non-null float64\n",
      "secondary_cleaner.state.floatbank5_b_level            14148 non-null float64\n",
      "secondary_cleaner.state.floatbank6_a_air              14147 non-null float64\n",
      "secondary_cleaner.state.floatbank6_a_level            14148 non-null float64\n",
      "dtypes: float64(86), object(1)\n",
      "memory usage: 9.4+ MB\n"
     ]
    }
   ],
   "source": [
    "# Изучим информацию об обучающей выборке\n",
    "df_train.info()"
   ]
  },
  {
   "cell_type": "code",
   "execution_count": 134,
   "metadata": {},
   "outputs": [
    {
     "name": "stdout",
     "output_type": "stream",
     "text": [
      "<class 'pandas.core.frame.DataFrame'>\n",
      "RangeIndex: 5290 entries, 0 to 5289\n",
      "Data columns (total 53 columns):\n",
      "date                                          5290 non-null object\n",
      "primary_cleaner.input.sulfate                 5286 non-null float64\n",
      "primary_cleaner.input.depressant              5285 non-null float64\n",
      "primary_cleaner.input.feed_size               5290 non-null float64\n",
      "primary_cleaner.input.xanthate                5286 non-null float64\n",
      "primary_cleaner.state.floatbank8_a_air        5290 non-null float64\n",
      "primary_cleaner.state.floatbank8_a_level      5290 non-null float64\n",
      "primary_cleaner.state.floatbank8_b_air        5290 non-null float64\n",
      "primary_cleaner.state.floatbank8_b_level      5290 non-null float64\n",
      "primary_cleaner.state.floatbank8_c_air        5290 non-null float64\n",
      "primary_cleaner.state.floatbank8_c_level      5290 non-null float64\n",
      "primary_cleaner.state.floatbank8_d_air        5290 non-null float64\n",
      "primary_cleaner.state.floatbank8_d_level      5290 non-null float64\n",
      "rougher.input.feed_ag                         5290 non-null float64\n",
      "rougher.input.feed_pb                         5290 non-null float64\n",
      "rougher.input.feed_rate                       5287 non-null float64\n",
      "rougher.input.feed_size                       5289 non-null float64\n",
      "rougher.input.feed_sol                        5269 non-null float64\n",
      "rougher.input.feed_au                         5290 non-null float64\n",
      "rougher.input.floatbank10_sulfate             5285 non-null float64\n",
      "rougher.input.floatbank10_xanthate            5290 non-null float64\n",
      "rougher.input.floatbank11_sulfate             5282 non-null float64\n",
      "rougher.input.floatbank11_xanthate            5265 non-null float64\n",
      "rougher.state.floatbank10_a_air               5290 non-null float64\n",
      "rougher.state.floatbank10_a_level             5290 non-null float64\n",
      "rougher.state.floatbank10_b_air               5290 non-null float64\n",
      "rougher.state.floatbank10_b_level             5290 non-null float64\n",
      "rougher.state.floatbank10_c_air               5290 non-null float64\n",
      "rougher.state.floatbank10_c_level             5290 non-null float64\n",
      "rougher.state.floatbank10_d_air               5290 non-null float64\n",
      "rougher.state.floatbank10_d_level             5290 non-null float64\n",
      "rougher.state.floatbank10_e_air               5290 non-null float64\n",
      "rougher.state.floatbank10_e_level             5290 non-null float64\n",
      "rougher.state.floatbank10_f_air               5290 non-null float64\n",
      "rougher.state.floatbank10_f_level             5290 non-null float64\n",
      "secondary_cleaner.state.floatbank2_a_air      5287 non-null float64\n",
      "secondary_cleaner.state.floatbank2_a_level    5290 non-null float64\n",
      "secondary_cleaner.state.floatbank2_b_air      5288 non-null float64\n",
      "secondary_cleaner.state.floatbank2_b_level    5290 non-null float64\n",
      "secondary_cleaner.state.floatbank3_a_air      5281 non-null float64\n",
      "secondary_cleaner.state.floatbank3_a_level    5290 non-null float64\n",
      "secondary_cleaner.state.floatbank3_b_air      5290 non-null float64\n",
      "secondary_cleaner.state.floatbank3_b_level    5290 non-null float64\n",
      "secondary_cleaner.state.floatbank4_a_air      5290 non-null float64\n",
      "secondary_cleaner.state.floatbank4_a_level    5290 non-null float64\n",
      "secondary_cleaner.state.floatbank4_b_air      5290 non-null float64\n",
      "secondary_cleaner.state.floatbank4_b_level    5290 non-null float64\n",
      "secondary_cleaner.state.floatbank5_a_air      5290 non-null float64\n",
      "secondary_cleaner.state.floatbank5_a_level    5290 non-null float64\n",
      "secondary_cleaner.state.floatbank5_b_air      5290 non-null float64\n",
      "secondary_cleaner.state.floatbank5_b_level    5290 non-null float64\n",
      "secondary_cleaner.state.floatbank6_a_air      5290 non-null float64\n",
      "secondary_cleaner.state.floatbank6_a_level    5290 non-null float64\n",
      "dtypes: float64(52), object(1)\n",
      "memory usage: 2.1+ MB\n"
     ]
    }
   ],
   "source": [
    "# Изучим информацию о тестовой выборке\n",
    "df_test.info()"
   ]
  },
  {
   "cell_type": "code",
   "execution_count": 135,
   "metadata": {},
   "outputs": [
    {
     "name": "stdout",
     "output_type": "stream",
     "text": [
      "<class 'pandas.core.frame.DataFrame'>\n",
      "RangeIndex: 19439 entries, 0 to 19438\n",
      "Data columns (total 87 columns):\n",
      "date                                                  19439 non-null object\n",
      "final.output.concentrate_ag                           19438 non-null float64\n",
      "final.output.concentrate_pb                           19438 non-null float64\n",
      "final.output.concentrate_sol                          19228 non-null float64\n",
      "final.output.concentrate_au                           19439 non-null float64\n",
      "final.output.recovery                                 19439 non-null float64\n",
      "final.output.tail_ag                                  19438 non-null float64\n",
      "final.output.tail_pb                                  19338 non-null float64\n",
      "final.output.tail_sol                                 19433 non-null float64\n",
      "final.output.tail_au                                  19439 non-null float64\n",
      "primary_cleaner.input.sulfate                         19415 non-null float64\n",
      "primary_cleaner.input.depressant                      19402 non-null float64\n",
      "primary_cleaner.input.feed_size                       19439 non-null float64\n",
      "primary_cleaner.input.xanthate                        19335 non-null float64\n",
      "primary_cleaner.output.concentrate_ag                 19439 non-null float64\n",
      "primary_cleaner.output.concentrate_pb                 19323 non-null float64\n",
      "primary_cleaner.output.concentrate_sol                19069 non-null float64\n",
      "primary_cleaner.output.concentrate_au                 19439 non-null float64\n",
      "primary_cleaner.output.tail_ag                        19435 non-null float64\n",
      "primary_cleaner.output.tail_pb                        19418 non-null float64\n",
      "primary_cleaner.output.tail_sol                       19377 non-null float64\n",
      "primary_cleaner.output.tail_au                        19439 non-null float64\n",
      "primary_cleaner.state.floatbank8_a_air                19435 non-null float64\n",
      "primary_cleaner.state.floatbank8_a_level              19438 non-null float64\n",
      "primary_cleaner.state.floatbank8_b_air                19435 non-null float64\n",
      "primary_cleaner.state.floatbank8_b_level              19438 non-null float64\n",
      "primary_cleaner.state.floatbank8_c_air                19437 non-null float64\n",
      "primary_cleaner.state.floatbank8_c_level              19438 non-null float64\n",
      "primary_cleaner.state.floatbank8_d_air                19436 non-null float64\n",
      "primary_cleaner.state.floatbank8_d_level              19438 non-null float64\n",
      "rougher.calculation.sulfate_to_au_concentrate         19437 non-null float64\n",
      "rougher.calculation.floatbank10_sulfate_to_au_feed    19437 non-null float64\n",
      "rougher.calculation.floatbank11_sulfate_to_au_feed    19437 non-null float64\n",
      "rougher.calculation.au_pb_ratio                       19439 non-null float64\n",
      "rougher.input.feed_ag                                 19439 non-null float64\n",
      "rougher.input.feed_pb                                 19339 non-null float64\n",
      "rougher.input.feed_rate                               19428 non-null float64\n",
      "rougher.input.feed_size                               19294 non-null float64\n",
      "rougher.input.feed_sol                                19340 non-null float64\n",
      "rougher.input.feed_au                                 19439 non-null float64\n",
      "rougher.input.floatbank10_sulfate                     19405 non-null float64\n",
      "rougher.input.floatbank10_xanthate                    19431 non-null float64\n",
      "rougher.input.floatbank11_sulfate                     19395 non-null float64\n",
      "rougher.input.floatbank11_xanthate                    18986 non-null float64\n",
      "rougher.output.concentrate_ag                         19439 non-null float64\n",
      "rougher.output.concentrate_pb                         19439 non-null float64\n",
      "rougher.output.concentrate_sol                        19416 non-null float64\n",
      "rougher.output.concentrate_au                         19439 non-null float64\n",
      "rougher.output.recovery                               19439 non-null float64\n",
      "rougher.output.tail_ag                                19438 non-null float64\n",
      "rougher.output.tail_pb                                19439 non-null float64\n",
      "rougher.output.tail_sol                               19439 non-null float64\n",
      "rougher.output.tail_au                                19439 non-null float64\n",
      "rougher.state.floatbank10_a_air                       19438 non-null float64\n",
      "rougher.state.floatbank10_a_level                     19438 non-null float64\n",
      "rougher.state.floatbank10_b_air                       19438 non-null float64\n",
      "rougher.state.floatbank10_b_level                     19438 non-null float64\n",
      "rougher.state.floatbank10_c_air                       19438 non-null float64\n",
      "rougher.state.floatbank10_c_level                     19438 non-null float64\n",
      "rougher.state.floatbank10_d_air                       19439 non-null float64\n",
      "rougher.state.floatbank10_d_level                     19439 non-null float64\n",
      "rougher.state.floatbank10_e_air                       19003 non-null float64\n",
      "rougher.state.floatbank10_e_level                     19439 non-null float64\n",
      "rougher.state.floatbank10_f_air                       19439 non-null float64\n",
      "rougher.state.floatbank10_f_level                     19439 non-null float64\n",
      "secondary_cleaner.output.tail_ag                      19437 non-null float64\n",
      "secondary_cleaner.output.tail_pb                      19427 non-null float64\n",
      "secondary_cleaner.output.tail_sol                     17691 non-null float64\n",
      "secondary_cleaner.output.tail_au                      19439 non-null float64\n",
      "secondary_cleaner.state.floatbank2_a_air              19219 non-null float64\n",
      "secondary_cleaner.state.floatbank2_a_level            19438 non-null float64\n",
      "secondary_cleaner.state.floatbank2_b_air              19416 non-null float64\n",
      "secondary_cleaner.state.floatbank2_b_level            19438 non-null float64\n",
      "secondary_cleaner.state.floatbank3_a_air              19426 non-null float64\n",
      "secondary_cleaner.state.floatbank3_a_level            19438 non-null float64\n",
      "secondary_cleaner.state.floatbank3_b_air              19438 non-null float64\n",
      "secondary_cleaner.state.floatbank3_b_level            19438 non-null float64\n",
      "secondary_cleaner.state.floatbank4_a_air              19433 non-null float64\n",
      "secondary_cleaner.state.floatbank4_a_level            19438 non-null float64\n",
      "secondary_cleaner.state.floatbank4_b_air              19438 non-null float64\n",
      "secondary_cleaner.state.floatbank4_b_level            19438 non-null float64\n",
      "secondary_cleaner.state.floatbank5_a_air              19438 non-null float64\n",
      "secondary_cleaner.state.floatbank5_a_level            19438 non-null float64\n",
      "secondary_cleaner.state.floatbank5_b_air              19438 non-null float64\n",
      "secondary_cleaner.state.floatbank5_b_level            19438 non-null float64\n",
      "secondary_cleaner.state.floatbank6_a_air              19437 non-null float64\n",
      "secondary_cleaner.state.floatbank6_a_level            19438 non-null float64\n",
      "dtypes: float64(86), object(1)\n",
      "memory usage: 12.9+ MB\n"
     ]
    }
   ],
   "source": [
    "# Изучим информацию об исходных данных\n",
    "df_full.info()"
   ]
  },
  {
   "cell_type": "markdown",
   "metadata": {},
   "source": [
    "Можно обратить внимание на то, что в обучающей и исходной выборках 87 столбцов, а в тестовой - 53. Это связано с тем, что некоторые параметры недоступны, потому что замеряются и/или рассчитываются значительно позже. Из-за этого в тестовой выборке отсутствуют некоторые признаки, которые могут быть в обучающей. Также в тестовом наборе нет целевых признаков."
   ]
  },
  {
   "cell_type": "markdown",
   "metadata": {},
   "source": [
    "Согласно приложенной документации:\n",
    "Технологический процесс\n",
    "- Rougher feed — исходное сырье;\n",
    "- Rougher additions (или reagent additions) — флотационные реагенты: Xanthate, Sulphate, Depressant;\n",
    "- Xanthate **— ксантогенат (промотер, или активатор флотации);\n",
    "- Sulphate — сульфат (на данном производстве сульфид натрия);\n",
    "- Depressant — депрессант (силикат натрия);\n",
    "- Rougher process (англ. «грубый процесс») — флотация;\n",
    "- Rougher tails — отвальные хвосты;\n",
    "- Float banks — флотационная установка;\n",
    "- Cleaner process — очистка;\n",
    "- Rougher Au — черновой концентрат золота;\n",
    "- Final Au — финальный концентрат золота.\n",
    "\n",
    "Параметры этапов.\n",
    "\n",
    "- air amount — объём воздуха;\n",
    "- fluid levels — уровень жидкости;\n",
    "- feed size — размер гранул сырья;\n",
    "- feed rate — скорость подачи.\n",
    "\n",
    "Наименование признаков\n",
    "\n",
    "Наименование признаков должно быть такое:\n",
    "[этап].[тип_параметра].[название_параметра]\n",
    "Пример: rougher.input.feed_ag.\n",
    "Возможные значения для блока [этап]:\n",
    "- rougher — флотация;\n",
    "- primary_cleaner — первичная очистка;\n",
    "- secondary_cleaner — вторичная очистка;\n",
    "- final — финальные характеристики.\n",
    "\n",
    "Возможные значения для блока [тип_параметра]:\n",
    "\n",
    "- input — параметры сырья;\n",
    "- output — параметры продукта;\n",
    "- state — параметры, характеризующие текущее состояние этапа;\n",
    "- calculation — расчётные характеристики."
   ]
  },
  {
   "cell_type": "markdown",
   "metadata": {},
   "source": [
    "Проверим, что эффективность обогащения рассчитана правильно. Вычислим её на обучающей выборке для признака rougher.output.recovery. Найдем MAE между нашими расчётами и значением признака."
   ]
  },
  {
   "cell_type": "code",
   "execution_count": 136,
   "metadata": {},
   "outputs": [],
   "source": [
    "# Вычислим эффективность обогащения на обучающей выборке\n",
    "recovery_train = pd.DataFrame()\n",
    "recovery_train = (((df_train['rougher.output.concentrate_au'] * (df_train['rougher.input.feed_au'] - \n",
    "                                                                 df_train['rougher.output.tail_au'])) / \n",
    "                   (df_train['rougher.input.feed_au'] * (df_train['rougher.output.concentrate_au'] - \n",
    "                                                         df_train['rougher.output.tail_au']))) * 100)"
   ]
  },
  {
   "cell_type": "markdown",
   "metadata": {},
   "source": [
    "Прежде, чем найти среднюю абсолютную ошибку между нашими расчетами и значением признака, сравним их размерность и наличие пропусков."
   ]
  },
  {
   "cell_type": "code",
   "execution_count": 137,
   "metadata": {},
   "outputs": [
    {
     "data": {
      "text/plain": [
       "(14149,)"
      ]
     },
     "execution_count": 137,
     "metadata": {},
     "output_type": "execute_result"
    }
   ],
   "source": [
    "recovery_train.shape # - размерность вычисленной эффективноси"
   ]
  },
  {
   "cell_type": "code",
   "execution_count": 138,
   "metadata": {},
   "outputs": [
    {
     "name": "stdout",
     "output_type": "stream",
     "text": [
      "Количество пропусков в вычисленной эффективности: 0\n"
     ]
    }
   ],
   "source": [
    "print('Количество пропусков в вычисленной эффективности:', recovery_train.isna().sum())"
   ]
  },
  {
   "cell_type": "code",
   "execution_count": 139,
   "metadata": {},
   "outputs": [
    {
     "data": {
      "text/plain": [
       "(14149,)"
      ]
     },
     "execution_count": 139,
     "metadata": {},
     "output_type": "execute_result"
    }
   ],
   "source": [
    "df_train['rougher.output.recovery'].shape"
   ]
  },
  {
   "cell_type": "code",
   "execution_count": 140,
   "metadata": {},
   "outputs": [
    {
     "name": "stdout",
     "output_type": "stream",
     "text": [
      "Количество пропусков среди значений признака: 0\n"
     ]
    }
   ],
   "source": [
    "print('Количество пропусков среди значений признака:', recovery_train.isna().sum())"
   ]
  },
  {
   "cell_type": "markdown",
   "metadata": {},
   "source": [
    "Размерность одинаковая. Пропуски отсутствуют. Значит можно на следующем этапе вычислить среднюю абсолютную ошибку."
   ]
  },
  {
   "cell_type": "code",
   "execution_count": 141,
   "metadata": {},
   "outputs": [
    {
     "name": "stdout",
     "output_type": "stream",
     "text": [
      "Средняя абсолютная ошибка между расчетом и значением признака: 9.682896147825551e-15\n"
     ]
    }
   ],
   "source": [
    "print('Средняя абсолютная ошибка между расчетом и значением признака:', mean_absolute_error(df_train['rougher.output.recovery'], recovery_train))"
   ]
  },
  {
   "cell_type": "markdown",
   "metadata": {},
   "source": [
    "Очень низкое значение MAE говорит о том, что табличному значению эффективности можно доверять."
   ]
  },
  {
   "cell_type": "code",
   "execution_count": 142,
   "metadata": {},
   "outputs": [
    {
     "data": {
      "text/plain": [
       "['final.output.concentrate_ag',\n",
       " 'final.output.concentrate_pb',\n",
       " 'final.output.concentrate_sol',\n",
       " 'final.output.concentrate_au',\n",
       " 'final.output.recovery',\n",
       " 'final.output.tail_ag',\n",
       " 'final.output.tail_pb',\n",
       " 'final.output.tail_sol',\n",
       " 'final.output.tail_au',\n",
       " 'primary_cleaner.output.concentrate_ag',\n",
       " 'primary_cleaner.output.concentrate_pb',\n",
       " 'primary_cleaner.output.concentrate_sol',\n",
       " 'primary_cleaner.output.concentrate_au',\n",
       " 'primary_cleaner.output.tail_ag',\n",
       " 'primary_cleaner.output.tail_pb',\n",
       " 'primary_cleaner.output.tail_sol',\n",
       " 'primary_cleaner.output.tail_au',\n",
       " 'rougher.calculation.sulfate_to_au_concentrate',\n",
       " 'rougher.calculation.floatbank10_sulfate_to_au_feed',\n",
       " 'rougher.calculation.floatbank11_sulfate_to_au_feed',\n",
       " 'rougher.calculation.au_pb_ratio',\n",
       " 'rougher.output.concentrate_ag',\n",
       " 'rougher.output.concentrate_pb',\n",
       " 'rougher.output.concentrate_sol',\n",
       " 'rougher.output.concentrate_au',\n",
       " 'rougher.output.recovery',\n",
       " 'rougher.output.tail_ag',\n",
       " 'rougher.output.tail_pb',\n",
       " 'rougher.output.tail_sol',\n",
       " 'rougher.output.tail_au',\n",
       " 'secondary_cleaner.output.tail_ag',\n",
       " 'secondary_cleaner.output.tail_pb',\n",
       " 'secondary_cleaner.output.tail_sol',\n",
       " 'secondary_cleaner.output.tail_au']"
      ]
     },
     "execution_count": 142,
     "metadata": {},
     "output_type": "execute_result"
    }
   ],
   "source": [
    "# Найдем признаки, недоступные в тестовой выборке\n",
    "result = []\n",
    "for element in df_train:\n",
    "    if element not in df_test:\n",
    "        result.append(element)  \n",
    "result"
   ]
  },
  {
   "cell_type": "markdown",
   "metadata": {},
   "source": [
    "Мы видим, что все пропущенные признаки в тестовой модели относятся к типу output.\n",
    "\n",
    "Добавим целевые признаки путем сопоставления даты из полной таблицы с помощью метода merge."
   ]
  },
  {
   "cell_type": "code",
   "execution_count": 143,
   "metadata": {},
   "outputs": [],
   "source": [
    "targets_test = df_test.merge(df_full[['date', 'rougher.output.recovery', 'final.output.recovery']], on = 'date')\n",
    "targets_test =targets_test[['rougher.output.recovery', 'final.output.recovery']]"
   ]
  },
  {
   "cell_type": "code",
   "execution_count": 144,
   "metadata": {},
   "outputs": [],
   "source": [
    "# Выделим целевые признаки в обучающей выборке\n",
    "targets_train = df_train[['rougher.output.recovery', 'final.output.recovery']]"
   ]
  },
  {
   "cell_type": "markdown",
   "metadata": {},
   "source": [
    "**Предобработка данных**"
   ]
  },
  {
   "cell_type": "code",
   "execution_count": 145,
   "metadata": {},
   "outputs": [
    {
     "name": "stdout",
     "output_type": "stream",
     "text": [
      "Количество дубликатов в обучающей выборке: 0\n",
      "Количество дубликатов в тестовой выборке: 0\n",
      "Количество дубликатов в исходных данных: 0\n"
     ]
    }
   ],
   "source": [
    "# Проверим данные на наличие дубликатов\n",
    "print('Количество дубликатов в обучающей выборке:', df_train.duplicated().sum())\n",
    "print('Количество дубликатов в тестовой выборке:', df_test.duplicated().sum())\n",
    "print('Количество дубликатов в исходных данных:', df_full.duplicated().sum())"
   ]
  },
  {
   "cell_type": "code",
   "execution_count": 146,
   "metadata": {},
   "outputs": [],
   "source": [
    "# Изменим тип данных в столбце date\n",
    "def to_datetime(df):\n",
    "    df['date'] = pd.to_datetime(df['date'], format='%Y-%m-%d %H:%M:%S')\n",
    "    \n",
    "to_datetime(df_train)\n",
    "to_datetime(df_test)\n",
    "to_datetime(df_full)"
   ]
  },
  {
   "cell_type": "code",
   "execution_count": 147,
   "metadata": {},
   "outputs": [
    {
     "name": "stdout",
     "output_type": "stream",
     "text": [
      "secondary_cleaner.output.tail_sol           1605\n",
      "rougher.state.floatbank10_e_air              436\n",
      "rougher.input.floatbank11_xanthate           428\n",
      "primary_cleaner.output.concentrate_sol       286\n",
      "secondary_cleaner.state.floatbank2_a_air     217\n",
      "                                            ... \n",
      "rougher.state.floatbank10_e_level              0\n",
      "rougher.state.floatbank10_f_air                0\n",
      "rougher.state.floatbank10_f_level              0\n",
      "rougher.output.concentrate_pb                  0\n",
      "date                                           0\n",
      "Length: 87, dtype: int64\n",
      "rougher.input.floatbank11_xanthate            25\n",
      "rougher.input.feed_sol                        21\n",
      "secondary_cleaner.state.floatbank3_a_air       9\n",
      "rougher.input.floatbank11_sulfate              8\n",
      "primary_cleaner.input.depressant               5\n",
      "rougher.input.floatbank10_sulfate              5\n",
      "primary_cleaner.input.sulfate                  4\n",
      "primary_cleaner.input.xanthate                 4\n",
      "secondary_cleaner.state.floatbank2_a_air       3\n",
      "rougher.input.feed_rate                        3\n",
      "secondary_cleaner.state.floatbank2_b_air       2\n",
      "rougher.input.feed_size                        1\n",
      "secondary_cleaner.state.floatbank6_a_level     0\n",
      "rougher.input.floatbank10_xanthate             0\n",
      "rougher.input.feed_au                          0\n",
      "rougher.input.feed_pb                          0\n",
      "primary_cleaner.state.floatbank8_d_level       0\n",
      "rougher.input.feed_ag                          0\n",
      "rougher.state.floatbank10_a_level              0\n",
      "primary_cleaner.state.floatbank8_d_air         0\n",
      "primary_cleaner.state.floatbank8_c_level       0\n",
      "primary_cleaner.state.floatbank8_c_air         0\n",
      "primary_cleaner.state.floatbank8_b_level       0\n",
      "primary_cleaner.state.floatbank8_b_air         0\n",
      "primary_cleaner.state.floatbank8_a_level       0\n",
      "primary_cleaner.state.floatbank8_a_air         0\n",
      "primary_cleaner.input.feed_size                0\n",
      "rougher.state.floatbank10_a_air                0\n",
      "rougher.state.floatbank10_b_level              0\n",
      "rougher.state.floatbank10_b_air                0\n",
      "secondary_cleaner.state.floatbank6_a_air       0\n",
      "secondary_cleaner.state.floatbank5_b_level     0\n",
      "secondary_cleaner.state.floatbank5_b_air       0\n",
      "secondary_cleaner.state.floatbank5_a_level     0\n",
      "secondary_cleaner.state.floatbank5_a_air       0\n",
      "secondary_cleaner.state.floatbank4_b_level     0\n",
      "secondary_cleaner.state.floatbank4_b_air       0\n",
      "secondary_cleaner.state.floatbank4_a_level     0\n",
      "secondary_cleaner.state.floatbank4_a_air       0\n",
      "secondary_cleaner.state.floatbank3_b_level     0\n",
      "secondary_cleaner.state.floatbank3_b_air       0\n",
      "secondary_cleaner.state.floatbank3_a_level     0\n",
      "secondary_cleaner.state.floatbank2_b_level     0\n",
      "secondary_cleaner.state.floatbank2_a_level     0\n",
      "rougher.state.floatbank10_f_level              0\n",
      "rougher.state.floatbank10_f_air                0\n",
      "rougher.state.floatbank10_e_level              0\n",
      "rougher.state.floatbank10_e_air                0\n",
      "rougher.state.floatbank10_d_level              0\n",
      "rougher.state.floatbank10_d_air                0\n",
      "rougher.state.floatbank10_c_level              0\n",
      "rougher.state.floatbank10_c_air                0\n",
      "date                                           0\n",
      "dtype: int64\n",
      "secondary_cleaner.output.tail_sol           1748\n",
      "rougher.input.floatbank11_xanthate           453\n",
      "rougher.state.floatbank10_e_air              436\n",
      "primary_cleaner.output.concentrate_sol       370\n",
      "secondary_cleaner.state.floatbank2_a_air     220\n",
      "                                            ... \n",
      "rougher.state.floatbank10_e_level              0\n",
      "rougher.state.floatbank10_f_air                0\n",
      "rougher.output.concentrate_pb                  0\n",
      "rougher.state.floatbank10_f_level              0\n",
      "date                                           0\n",
      "Length: 87, dtype: int64\n"
     ]
    }
   ],
   "source": [
    "# Проверим данные на наличие пропусков\n",
    "def isna(df):\n",
    "    print(df.isna().sum().sort_values(ascending=False))\n",
    "    \n",
    "isna(df_train)\n",
    "isna(df_test)\n",
    "isna(df_full)"
   ]
  },
  {
   "cell_type": "markdown",
   "metadata": {},
   "source": [
    "Мы видим, что пропусков в наших данных немного. Удалять их нецелесообразно, так это может повлиять отрицательно повлиять на дальнейший анализ. Поэтому заменим их предыдущими значениями."
   ]
  },
  {
   "cell_type": "code",
   "execution_count": 148,
   "metadata": {},
   "outputs": [],
   "source": [
    "df_train = df_train.fillna(method='ffill')\n",
    "df_test = df_test.fillna(method='ffill')\n",
    "df_full = df_full.fillna(method='ffill')"
   ]
  },
  {
   "cell_type": "code",
   "execution_count": 149,
   "metadata": {},
   "outputs": [],
   "source": [
    "# Оставим в обучающей выборке столбцы, которые есть в тестовой выборке\n",
    "df_train = df_train[df_test.columns]"
   ]
  },
  {
   "cell_type": "markdown",
   "metadata": {},
   "source": [
    "**Вывод**\n",
    "\n",
    "На этапе подготовки данных был произведен расчет эффективности обогащения и произведено сравнение с табличным значением, в результате чего можно говорить о корректности табличных данных. Также было установлено, что в тестовой модели отсутствуют признаки, относящиеся к типу output. Далее была произведена замена пропусков предыдущими по дате значениями."
   ]
  },
  {
   "cell_type": "markdown",
   "metadata": {},
   "source": [
    "## Анализ данных"
   ]
  },
  {
   "cell_type": "markdown",
   "metadata": {},
   "source": [
    " Посмотрим, как меняется концентрация металлов (Au, Ag, Pb) на различных этапах очистки. Для этого построим гистограммы для каждого металла."
   ]
  },
  {
   "cell_type": "code",
   "execution_count": 150,
   "metadata": {},
   "outputs": [
    {
     "data": {
      "image/png": "[encoded data removed]",
      "text/plain": [
       "<Figure size 720x360 with 1 Axes>"
      ]
     },
     "metadata": {
      "needs_background": "light"
     },
     "output_type": "display_data"
    },
    {
     "data": {
      "image/png": "[encoded data removed]",
      "text/plain": [
       "<Figure size 720x360 with 1 Axes>"
      ]
     },
     "metadata": {
      "needs_background": "light"
     },
     "output_type": "display_data"
    },
    {
     "data": {
      "image/png": "[encoded data removed]",
      "text/plain": [
       "<Figure size 720x360 with 1 Axes>"
      ]
     },
     "metadata": {
      "needs_background": "light"
     },
     "output_type": "display_data"
    }
   ],
   "source": [
    "metall = ['au', 'ag', 'pb']\n",
    "for i in metall:\n",
    "    plt.figure(figsize=(10, 5))\n",
    "    plt.title('Металл' + i)\n",
    "    plt.xlabel('Содержание металла' + i)\n",
    "    plt.ylabel('Частота')\n",
    "    plt.hist(df_full['rougher.input.feed_' + i], alpha=0.5, label='rougher.input.feed_' + i, bins = 100)\n",
    "    plt.hist(df_full['rougher.output.concentrate_' + i], alpha=0.5, label='rougher.output.concentrate_' + i, bins = 100)\n",
    "    plt.hist(df_full['primary_cleaner.output.concentrate_' + i], alpha=0.5, label='primary_cleaner.output.concentrate_' + i, bins = 100)\n",
    "    plt.hist(df_full['final.output.concentrate_' + i], alpha=0.5, label='final.output.concentrate_' + i, bins = 100)\n",
    "    \n",
    "    plt.legend()\n",
    "    plt.show()"
   ]
  },
  {
   "cell_type": "markdown",
   "metadata": {},
   "source": [
    "Концентрация металлов на разных этапах очистки отличается. У металлов au и pb самый высокий показатель на стадиях final.output.concentrate, а у ag - rougher.output.concentrate."
   ]
  },
  {
   "cell_type": "markdown",
   "metadata": {},
   "source": [
    "Сравним распределения размеров гранул сырья на обучающей и тестовой выборках. Если распределения сильно отличаются друг от друга, оценка модели будет неправильной."
   ]
  },
  {
   "cell_type": "code",
   "execution_count": 151,
   "metadata": {},
   "outputs": [
    {
     "data": {
      "image/png": "[encoded data removed]",
      "text/plain": [
       "<Figure size 720x504 with 1 Axes>"
      ]
     },
     "metadata": {
      "needs_background": "light"
     },
     "output_type": "display_data"
    }
   ],
   "source": [
    "# Построим графики плотности распределения для обучающей и тестовой выборок\n",
    "plt.figure(figsize=(10, 7))\n",
    "plt.title('Распределение размеров гранул сырья')\n",
    "plt.xlabel('Размер гранул сырья')\n",
    "plt.ylabel('Плотность распределения')\n",
    "df_test['rougher.input.feed_size'].plot.kde()\n",
    "df_train['rougher.input.feed_size'].plot.kde()\n",
    "plt.xlim([0, 200])\n",
    "plt.legend(['Тестовая выборка', 'Обучающая выборка'])\n",
    "plt.show()"
   ]
  },
  {
   "cell_type": "markdown",
   "metadata": {},
   "source": [
    "Мы видим, что в целом характер распределения размеров гранул сырья на обучающей и тестовой выборках похож. В связи с этим можно установить, что оценка модели в дальнейшем будет корректна."
   ]
  },
  {
   "cell_type": "markdown",
   "metadata": {},
   "source": [
    "Исследуем суммарную концентрацию всех веществ на разных стадиях: в сырье, в черновом и финальном концентратах."
   ]
  },
  {
   "cell_type": "code",
   "execution_count": 152,
   "metadata": {},
   "outputs": [],
   "source": [
    "# Построим функцию для нахождения суммарной концентрации всех веществ\n",
    "def sum_concentrate(ag, pb, au, sol):\n",
    "    total = ag + pb + au + sol\n",
    "    return total"
   ]
  },
  {
   "cell_type": "code",
   "execution_count": 153,
   "metadata": {},
   "outputs": [],
   "source": [
    "# Суммарная концентрация всех веществ на стадии сырья\n",
    "rougher = sum_concentrate(df_full['rougher.output.concentrate_ag'], df_full['rougher.output.concentrate_pb'], \n",
    "                                df_full['rougher.output.concentrate_au'], df_full['rougher.output.concentrate_sol'])\n",
    "\n",
    "# Суммарная концентрация всех веществ в черновом концентрате\n",
    "primary_cleaner = sum_concentrate(df_full['primary_cleaner.output.concentrate_ag'], df_full['primary_cleaner.output.concentrate_pb'], \n",
    "                                df_full['primary_cleaner.output.concentrate_au'], df_full['primary_cleaner.output.concentrate_sol'])\n",
    "\n",
    "# Суммарная концентрация всех веществ в финальном концентрате\n",
    "final = sum_concentrate(df_full['final.output.concentrate_ag'], df_full['final.output.concentrate_pb'], \n",
    "                                df_full['final.output.concentrate_au'], df_full['final.output.concentrate_sol'])"
   ]
  },
  {
   "cell_type": "markdown",
   "metadata": {},
   "source": [
    "Построим гистограммы суммарной концентрации всех веществ на каждом этапе."
   ]
  },
  {
   "cell_type": "code",
   "execution_count": 154,
   "metadata": {},
   "outputs": [],
   "source": [
    "def hists(df, name):\n",
    "    plt.figure(figsize=(10, 8))\n",
    "    plt.title(name)\n",
    "    plt.xlabel('Суммарная концентрация всех веществ')\n",
    "    plt.ylabel('Частота')\n",
    "    plt.hist(x=df, bins=30)\n",
    "    plt.show()"
   ]
  },
  {
   "cell_type": "code",
   "execution_count": 155,
   "metadata": {},
   "outputs": [
    {
     "data": {
      "image/png": "[encoded data removed]",
      "text/plain": [
       "<Figure size 720x576 with 1 Axes>"
      ]
     },
     "metadata": {
      "needs_background": "light"
     },
     "output_type": "display_data"
    },
    {
     "data": {
      "image/png": "[encoded data removed]",
      "text/plain": [
       "<Figure size 720x576 with 1 Axes>"
      ]
     },
     "metadata": {
      "needs_background": "light"
     },
     "output_type": "display_data"
    },
    {
     "data": {
      "image/png": "[encoded data removed]",
      "text/plain": [
       "<Figure size 720x576 with 1 Axes>"
      ]
     },
     "metadata": {
      "needs_background": "light"
     },
     "output_type": "display_data"
    }
   ],
   "source": [
    "hists(rougher, 'rougher.output.concentrate')\n",
    "hists(primary_cleaner, 'primary_cleaner.output.concentrate')\n",
    "hists(final, 'final.output.concentrate')"
   ]
  },
  {
   "cell_type": "markdown",
   "metadata": {},
   "source": [
    "Мы видим, что графики на каждом этапе имеют распределение, близкое к нормальному, если отбросить выбросы около нулевой отметки."
   ]
  },
  {
   "cell_type": "code",
   "execution_count": 156,
   "metadata": {},
   "outputs": [],
   "source": [
    "# Напишим функцию для удаления выбросов около нулевой отметки\n",
    "def del_outliers(df, element):\n",
    "    df = df[df[element] > 1]\n",
    "    return df"
   ]
  },
  {
   "cell_type": "code",
   "execution_count": 157,
   "metadata": {},
   "outputs": [],
   "source": [
    "# Удалим выбросы\n",
    "elements = ['rougher.output.concentrate_ag', 'rougher.output.concentrate_pb', 'rougher.output.concentrate_au',\n",
    "          'rougher.output.concentrate_sol', 'primary_cleaner.output.concentrate_ag', 'primary_cleaner.output.concentrate_pb',\n",
    "          'primary_cleaner.output.concentrate_au', 'primary_cleaner.output.concentrate_sol', 'final.output.concentrate_ag',\n",
    "          'final.output.concentrate_pb', 'final.output.concentrate_au', 'final.output.concentrate_sol']\n",
    "for i in elements:\n",
    "    df_full = del_outliers(df_full, i)"
   ]
  },
  {
   "cell_type": "markdown",
   "metadata": {},
   "source": [
    "## Модель"
   ]
  },
  {
   "cell_type": "markdown",
   "metadata": {},
   "source": [
    "Напишим функцию для вычисления sMAPE."
   ]
  },
  {
   "cell_type": "code",
   "execution_count": 158,
   "metadata": {},
   "outputs": [],
   "source": [
    "def sMAPE(target, pred):\n",
    "    result = (\n",
    "        (abs(target - pred) / \n",
    "        ((abs(target) + abs(pred)) / 2)) * 100\n",
    "    )\n",
    "    \n",
    "    return result.sum() / len(target)"
   ]
  },
  {
   "cell_type": "code",
   "execution_count": 159,
   "metadata": {},
   "outputs": [],
   "source": [
    "# Удалим столбец date из обучающей и тестовой выборок\n",
    "df_train = df_train.drop(['date'], axis=1)\n",
    "df_test = df_test.drop(['date'], axis=1)"
   ]
  },
  {
   "cell_type": "markdown",
   "metadata": {},
   "source": [
    "Обучим разные модели и оценим их качество кросс-валидацией. Выберем лучшую модель и проверим её на тестовой выборке. "
   ]
  },
  {
   "cell_type": "markdown",
   "metadata": {},
   "source": [
    "### Модель линейной регрессии"
   ]
  },
  {
   "cell_type": "code",
   "execution_count": 160,
   "metadata": {},
   "outputs": [
    {
     "name": "stdout",
     "output_type": "stream",
     "text": [
      "Итоговый sMAPE: 11.175617869924942\n"
     ]
    }
   ],
   "source": [
    "sample_size = int(len(df_train) / 5)\n",
    "scores = []\n",
    "\n",
    "for i in range(0, len(df_train), sample_size):\n",
    "    features_valid = df_train[i: i + sample_size]\n",
    "    features_train = df_train.drop(features_valid.index)\n",
    "\n",
    "    target_valid = targets_train[i: i + sample_size]\n",
    "    target_train = targets_train.drop(target_valid.index)\n",
    "\n",
    "    model_LR = LinearRegression()\n",
    "    model_LR.fit(features_train, target_train)\n",
    "\n",
    "    predict = model_LR.predict(features_valid)\n",
    "\n",
    "    scores.append(sMAPE(target_valid, predict))\n",
    "\n",
    "print('Итоговый sMAPE:', (sum(scores) / len(scores))[0] * 0.25 + (sum(scores) / len(scores))[1] * 0.75)"
   ]
  },
  {
   "cell_type": "markdown",
   "metadata": {},
   "source": [
    "### Модель решающего дерева"
   ]
  },
  {
   "cell_type": "code",
   "execution_count": 161,
   "metadata": {},
   "outputs": [
    {
     "name": "stdout",
     "output_type": "stream",
     "text": [
      "Итоговый sMAPE при depth = 1: 10.385975431848284\n",
      "Итоговый sMAPE при depth = 2: 10.337490893088074\n",
      "Итоговый sMAPE при depth = 3: 10.265876043863024\n",
      "Итоговый sMAPE при depth = 4: 10.113587411939557\n",
      "Итоговый sMAPE при depth = 5: 10.031606289727666\n",
      "Итоговый sMAPE при depth = 6: 10.015905507404057\n",
      "Итоговый sMAPE при depth = 7: 10.07287472881334\n",
      "Итоговый sMAPE при depth = 8: 10.345215056860093\n",
      "Итоговый sMAPE при depth = 9: 10.814476933095364\n"
     ]
    }
   ],
   "source": [
    "scores = []\n",
    "\n",
    "for depth in range(1, 10):\n",
    "    for i in range(0, len(df_train), sample_size):\n",
    "        features_valid = df_train[i: i + sample_size]\n",
    "        features_train = df_train.drop(features_valid.index)\n",
    "\n",
    "        target_valid = targets_train[i: i + sample_size]\n",
    "        target_train = targets_train.drop(target_valid.index)\n",
    "\n",
    "        model_DTR = DecisionTreeRegressor(random_state = 12345, max_depth=depth)\n",
    "        model_DTR.fit(features_train, target_train)\n",
    "\n",
    "        predict = model_DTR.predict(features_valid)\n",
    "\n",
    "        scores.append(sMAPE(target_valid, predict))\n",
    "    \n",
    "    result = (sum(scores) / len(scores))[0] * 0.25 + (sum(scores) / len(scores))[1] * 0.75\n",
    "    print('Итоговый sMAPE при depth =', str(depth) + ':', result)"
   ]
  },
  {
   "cell_type": "markdown",
   "metadata": {},
   "source": [
    "### Модель случайного леса"
   ]
  },
  {
   "cell_type": "code",
   "execution_count": 162,
   "metadata": {},
   "outputs": [
    {
     "name": "stdout",
     "output_type": "stream",
     "text": [
      "Итоговый sMAPE при depth = 1: и est = 1: 11.004831901898022\n",
      "Итоговый sMAPE при depth = 2: и est = 1: 10.84855714868686\n",
      "Итоговый sMAPE при depth = 3: и est = 1: 10.550298722140237\n",
      "Итоговый sMAPE при depth = 4: и est = 1: 10.305971424762474\n",
      "Итоговый sMAPE при depth = 5: и est = 1: 10.157136431221824\n",
      "Итоговый sMAPE при depth = 1: и est = 2: 10.247291468590245\n",
      "Итоговый sMAPE при depth = 2: и est = 2: 10.245662650221352\n",
      "Итоговый sMAPE при depth = 3: и est = 2: 10.20813399588743\n",
      "Итоговый sMAPE при depth = 4: и est = 2: 10.152107491997636\n",
      "Итоговый sMAPE при depth = 5: и est = 2: 10.088052535879939\n",
      "Итоговый sMAPE при depth = 1: и est = 3: 10.12332725563584\n",
      "Итоговый sMAPE при depth = 2: и est = 3: 10.121547090161071\n",
      "Итоговый sMAPE при depth = 3: и est = 3: 10.100893158325333\n",
      "Итоговый sMAPE при depth = 4: и est = 3: 10.062324705233484\n",
      "Итоговый sMAPE при depth = 5: и est = 3: 10.018979854935877\n",
      "Итоговый sMAPE при depth = 1: и est = 4: 10.043267254334488\n",
      "Итоговый sMAPE при depth = 2: и est = 4: 10.046626790140648\n",
      "Итоговый sMAPE при depth = 3: и est = 4: 10.02602416426036\n",
      "Итоговый sMAPE при depth = 4: и est = 4: 9.994126828446372\n",
      "Итоговый sMAPE при depth = 5: и est = 4: 9.961104575730971\n",
      "Итоговый sMAPE при depth = 1: и est = 5: 9.984137689000345\n",
      "Итоговый sMAPE при depth = 2: и est = 5: 9.990523020723568\n",
      "Итоговый sMAPE при depth = 3: и est = 5: 9.975950599878114\n",
      "Итоговый sMAPE при depth = 4: и est = 5: 9.953346703776262\n",
      "Итоговый sMAPE при depth = 5: и est = 5: 9.92604036650804\n"
     ]
    }
   ],
   "source": [
    "scores = []\n",
    "\n",
    "for est in range(1, 6):\n",
    "    for depth in range (1, 6):\n",
    "        for i in range(0, len(df_train), sample_size):\n",
    "            features_valid = df_train[i: i + sample_size]\n",
    "            features_train = df_train.drop(features_valid.index)\n",
    "\n",
    "            target_valid = targets_train[i: i + sample_size]\n",
    "            target_train = targets_train.drop(target_valid.index)\n",
    "            \n",
    "            model_RFR = RandomForestRegressor(random_state=12345, n_estimators=est, max_depth=depth)\n",
    "            model_RFR.fit(features_train, target_train)\n",
    "    \n",
    "            predict = model_RFR.predict(features_valid)\n",
    "\n",
    "            scores.append(sMAPE(target_valid, predict))\n",
    "\n",
    "        print('Итоговый sMAPE при depth =', str(depth) + ':', 'и est =', str(est) + ':', (sum(scores) / len(scores))[0] * 0.25 + (sum(scores) / len(scores))[1] * 0.75)"
   ]
  },
  {
   "cell_type": "markdown",
   "metadata": {},
   "source": [
    "Таким образом, наилучший результат продемонстрировала модель случайного леса при depth = 5 и est = 5."
   ]
  },
  {
   "cell_type": "markdown",
   "metadata": {},
   "source": [
    "Перед проверкой модели на тестовой выборке обучим нашу модель на всей обучающей выборке, чтобы не упустить часть обучающих данных."
   ]
  },
  {
   "cell_type": "code",
   "execution_count": 163,
   "metadata": {},
   "outputs": [],
   "source": [
    "model_RFR = RandomForestRegressor(random_state=12345, n_estimators=5, max_depth=5)\n",
    "model_RFR = model_RFR.fit(df_train, targets_train)"
   ]
  },
  {
   "cell_type": "markdown",
   "metadata": {},
   "source": [
    "### Проверка модели на тестовой выборке"
   ]
  },
  {
   "cell_type": "markdown",
   "metadata": {},
   "source": [
    "Осуществим проверку нашей модели на тестовой выборке и сравним ее с константной моделью."
   ]
  },
  {
   "cell_type": "code",
   "execution_count": 164,
   "metadata": {},
   "outputs": [
    {
     "name": "stdout",
     "output_type": "stream",
     "text": [
      "Итоговый sMAPE: 9.030287805526264\n"
     ]
    }
   ],
   "source": [
    "predict = model_RFR.predict(df_test)\n",
    "result = sMAPE(targets_test, predict)\n",
    "print('Итоговый sMAPE:', result[0] * 0.25 + result[1] * 0.75)"
   ]
  },
  {
   "cell_type": "code",
   "execution_count": 165,
   "metadata": {},
   "outputs": [
    {
     "name": "stdout",
     "output_type": "stream",
     "text": [
      "Итоговый sMAPE: 10.28963037602106\n"
     ]
    }
   ],
   "source": [
    "# Обучим константную модель\n",
    "dummy_regr = DummyRegressor(strategy='mean')\n",
    "dummy_regr.fit(df_train, targets_train)\n",
    "base_pred = dummy_regr.predict(df_test)\n",
    "base_result = sMAPE(targets_test, base_pred)\n",
    "print('Итоговый sMAPE:', base_result[0] * 0.25 + base_result[1] * 0.75)"
   ]
  },
  {
   "cell_type": "markdown",
   "metadata": {},
   "source": [
    "Итоговый sMAPE на тестовой выборке меньше, полученный с помощью обученной модели, меньше, чем у константной модели, что говорит о ее эффективности. "
   ]
  },
  {
   "cell_type": "markdown",
   "metadata": {},
   "source": [
    "**Вывод**\n",
    "\n",
    "В итоге была составлена наиболее эффективная модель, способная предсказать коэффициент восстановления золота из золотосодержащей руды. Данная модель поможет оптимизировать производство, чтобы не запускать предприятие с убыточными характеристиками. На тестовой выборке она показала результат выше, чем на тренировочной - итоговый sMAPE равен 9.03."
   ]
  }
 ],
 "metadata": {
  "ExecuteTimeLog": [
   {
    "duration": 1215,
    "start_time": "2022-02-21T11:15:40.469Z"
   },
   {
    "duration": 682,
    "start_time": "2022-02-21T11:37:18.131Z"
   },
   {
    "duration": 26,
    "start_time": "2022-02-21T11:40:01.067Z"
   },
   {
    "duration": 23,
    "start_time": "2022-02-21T11:41:42.525Z"
   },
   {
    "duration": 21,
    "start_time": "2022-02-21T11:41:47.806Z"
   },
   {
    "duration": 15,
    "start_time": "2022-02-21T11:43:33.013Z"
   },
   {
    "duration": 12,
    "start_time": "2022-02-21T11:45:25.554Z"
   },
   {
    "duration": 16,
    "start_time": "2022-02-21T11:45:26.226Z"
   },
   {
    "duration": 56,
    "start_time": "2022-02-21T13:35:22.389Z"
   },
   {
    "duration": 2383,
    "start_time": "2022-02-21T13:35:56.943Z"
   },
   {
    "duration": 61,
    "start_time": "2022-02-21T13:37:34.289Z"
   },
   {
    "duration": 58,
    "start_time": "2022-02-21T13:41:05.839Z"
   },
   {
    "duration": 55,
    "start_time": "2022-02-21T13:53:14.111Z"
   },
   {
    "duration": 58,
    "start_time": "2022-02-21T13:53:29.270Z"
   },
   {
    "duration": 6,
    "start_time": "2022-02-21T13:54:59.821Z"
   },
   {
    "duration": 5,
    "start_time": "2022-02-21T13:55:12.812Z"
   },
   {
    "duration": 366,
    "start_time": "2022-02-21T13:56:56.849Z"
   },
   {
    "duration": 5,
    "start_time": "2022-02-21T14:00:25.796Z"
   },
   {
    "duration": 3,
    "start_time": "2022-02-21T14:00:28.467Z"
   },
   {
    "duration": 675,
    "start_time": "2022-02-21T14:00:28.472Z"
   },
   {
    "duration": 24,
    "start_time": "2022-02-21T14:00:29.149Z"
   },
   {
    "duration": 34,
    "start_time": "2022-02-21T14:00:29.175Z"
   },
   {
    "duration": 23,
    "start_time": "2022-02-21T14:00:29.231Z"
   },
   {
    "duration": 21,
    "start_time": "2022-02-21T14:00:29.256Z"
   },
   {
    "duration": 11,
    "start_time": "2022-02-21T14:00:29.278Z"
   },
   {
    "duration": 46,
    "start_time": "2022-02-21T14:00:29.291Z"
   },
   {
    "duration": 5,
    "start_time": "2022-02-21T14:00:29.339Z"
   },
   {
    "duration": 7,
    "start_time": "2022-02-21T14:00:29.346Z"
   },
   {
    "duration": 193,
    "start_time": "2022-02-21T14:03:49.550Z"
   },
   {
    "duration": 3,
    "start_time": "2022-02-21T14:04:02.807Z"
   },
   {
    "duration": 4,
    "start_time": "2022-02-21T14:04:22.021Z"
   },
   {
    "duration": 170,
    "start_time": "2022-02-21T14:04:28.433Z"
   },
   {
    "duration": 5,
    "start_time": "2022-02-21T14:04:51.552Z"
   },
   {
    "duration": 4,
    "start_time": "2022-02-21T14:05:11.869Z"
   },
   {
    "duration": 6,
    "start_time": "2022-02-21T14:06:26.757Z"
   },
   {
    "duration": 5,
    "start_time": "2022-02-21T14:06:43.940Z"
   },
   {
    "duration": 4,
    "start_time": "2022-02-21T14:08:29.200Z"
   },
   {
    "duration": 5,
    "start_time": "2022-02-21T14:08:56.759Z"
   },
   {
    "duration": 5,
    "start_time": "2022-02-21T14:08:57.927Z"
   },
   {
    "duration": 5,
    "start_time": "2022-02-21T14:09:59.037Z"
   },
   {
    "duration": 5,
    "start_time": "2022-02-21T14:09:59.629Z"
   },
   {
    "duration": 2,
    "start_time": "2022-02-21T14:12:14.098Z"
   },
   {
    "duration": 6,
    "start_time": "2022-02-21T14:12:28.938Z"
   },
   {
    "duration": 3,
    "start_time": "2022-02-21T14:12:58.898Z"
   },
   {
    "duration": 5,
    "start_time": "2022-02-21T14:14:40.015Z"
   },
   {
    "duration": 5,
    "start_time": "2022-02-21T14:15:08.126Z"
   },
   {
    "duration": 7,
    "start_time": "2022-02-21T14:15:20.366Z"
   },
   {
    "duration": 6,
    "start_time": "2022-02-21T14:15:37.421Z"
   },
   {
    "duration": 5,
    "start_time": "2022-02-21T14:15:56.941Z"
   },
   {
    "duration": 5,
    "start_time": "2022-02-21T14:16:03.941Z"
   },
   {
    "duration": 9,
    "start_time": "2022-02-21T14:19:13.457Z"
   },
   {
    "duration": 175,
    "start_time": "2022-02-21T14:19:58.125Z"
   },
   {
    "duration": 10,
    "start_time": "2022-02-21T14:20:07.881Z"
   },
   {
    "duration": 9,
    "start_time": "2022-02-21T14:20:33.360Z"
   },
   {
    "duration": 9,
    "start_time": "2022-02-21T14:20:38.856Z"
   },
   {
    "duration": 8,
    "start_time": "2022-02-21T14:22:20.070Z"
   },
   {
    "duration": 54,
    "start_time": "2022-02-21T14:22:41.828Z"
   },
   {
    "duration": 5479,
    "start_time": "2022-02-21T14:23:00.555Z"
   },
   {
    "duration": 9,
    "start_time": "2022-02-21T14:23:14.508Z"
   },
   {
    "duration": 4,
    "start_time": "2022-02-21T14:23:27.950Z"
   },
   {
    "duration": 675,
    "start_time": "2022-02-21T14:23:27.956Z"
   },
   {
    "duration": 21,
    "start_time": "2022-02-21T14:23:28.634Z"
   },
   {
    "duration": 23,
    "start_time": "2022-02-21T14:23:28.657Z"
   },
   {
    "duration": 49,
    "start_time": "2022-02-21T14:23:28.682Z"
   },
   {
    "duration": 16,
    "start_time": "2022-02-21T14:23:28.733Z"
   },
   {
    "duration": 9,
    "start_time": "2022-02-21T14:23:28.751Z"
   },
   {
    "duration": 16,
    "start_time": "2022-02-21T14:23:28.762Z"
   },
   {
    "duration": 4,
    "start_time": "2022-02-21T14:23:28.780Z"
   },
   {
    "duration": 10,
    "start_time": "2022-02-21T14:23:28.785Z"
   },
   {
    "duration": 3846,
    "start_time": "2022-02-21T14:23:28.797Z"
   },
   {
    "duration": -35,
    "start_time": "2022-02-21T14:23:32.680Z"
   },
   {
    "duration": -37,
    "start_time": "2022-02-21T14:23:32.683Z"
   },
   {
    "duration": 6,
    "start_time": "2022-02-21T14:23:49.315Z"
   },
   {
    "duration": 5,
    "start_time": "2022-02-21T14:24:01.771Z"
   },
   {
    "duration": 225,
    "start_time": "2022-02-21T14:24:16.451Z"
   },
   {
    "duration": 213,
    "start_time": "2022-02-21T14:24:31.306Z"
   },
   {
    "duration": 180,
    "start_time": "2022-02-21T14:24:42.562Z"
   },
   {
    "duration": 9,
    "start_time": "2022-02-21T14:24:52.665Z"
   },
   {
    "duration": 163,
    "start_time": "2022-02-21T14:25:30.673Z"
   },
   {
    "duration": 178,
    "start_time": "2022-02-21T14:25:34.639Z"
   },
   {
    "duration": 169,
    "start_time": "2022-02-21T14:25:42.752Z"
   },
   {
    "duration": 3,
    "start_time": "2022-02-21T14:25:53.617Z"
   },
   {
    "duration": 4370,
    "start_time": "2022-02-21T14:25:53.622Z"
   },
   {
    "duration": 41,
    "start_time": "2022-02-21T14:25:57.995Z"
   },
   {
    "duration": 34,
    "start_time": "2022-02-21T14:25:58.038Z"
   },
   {
    "duration": 33,
    "start_time": "2022-02-21T14:25:58.074Z"
   },
   {
    "duration": 22,
    "start_time": "2022-02-21T14:25:58.131Z"
   },
   {
    "duration": 14,
    "start_time": "2022-02-21T14:25:58.155Z"
   },
   {
    "duration": 22,
    "start_time": "2022-02-21T14:25:58.172Z"
   },
   {
    "duration": 34,
    "start_time": "2022-02-21T14:25:58.196Z"
   },
   {
    "duration": 11,
    "start_time": "2022-02-21T14:25:58.232Z"
   },
   {
    "duration": 11,
    "start_time": "2022-02-21T14:25:58.245Z"
   },
   {
    "duration": 7,
    "start_time": "2022-02-21T14:25:58.257Z"
   },
   {
    "duration": 12,
    "start_time": "2022-02-21T14:25:58.266Z"
   },
   {
    "duration": 176,
    "start_time": "2022-02-21T14:28:12.284Z"
   },
   {
    "duration": 4,
    "start_time": "2022-02-21T14:28:15.796Z"
   },
   {
    "duration": 674,
    "start_time": "2022-02-21T14:28:15.801Z"
   },
   {
    "duration": 22,
    "start_time": "2022-02-21T14:28:16.477Z"
   },
   {
    "duration": 36,
    "start_time": "2022-02-21T14:28:16.501Z"
   },
   {
    "duration": 28,
    "start_time": "2022-02-21T14:28:16.539Z"
   },
   {
    "duration": 17,
    "start_time": "2022-02-21T14:28:16.569Z"
   },
   {
    "duration": 11,
    "start_time": "2022-02-21T14:28:16.589Z"
   },
   {
    "duration": 41,
    "start_time": "2022-02-21T14:28:16.603Z"
   },
   {
    "duration": 5,
    "start_time": "2022-02-21T14:28:16.647Z"
   },
   {
    "duration": 198,
    "start_time": "2022-02-21T14:28:16.654Z"
   },
   {
    "duration": -36,
    "start_time": "2022-02-21T14:28:16.890Z"
   },
   {
    "duration": -38,
    "start_time": "2022-02-21T14:28:16.893Z"
   },
   {
    "duration": -38,
    "start_time": "2022-02-21T14:28:16.895Z"
   },
   {
    "duration": 171,
    "start_time": "2022-02-21T14:28:22.612Z"
   },
   {
    "duration": 4,
    "start_time": "2022-02-21T14:28:30.584Z"
   },
   {
    "duration": 678,
    "start_time": "2022-02-21T14:28:30.591Z"
   },
   {
    "duration": 21,
    "start_time": "2022-02-21T14:28:31.271Z"
   },
   {
    "duration": 23,
    "start_time": "2022-02-21T14:28:31.294Z"
   },
   {
    "duration": 21,
    "start_time": "2022-02-21T14:28:31.331Z"
   },
   {
    "duration": 19,
    "start_time": "2022-02-21T14:28:31.354Z"
   },
   {
    "duration": 11,
    "start_time": "2022-02-21T14:28:31.375Z"
   },
   {
    "duration": 43,
    "start_time": "2022-02-21T14:28:31.388Z"
   },
   {
    "duration": 5,
    "start_time": "2022-02-21T14:28:31.433Z"
   },
   {
    "duration": 197,
    "start_time": "2022-02-21T14:28:31.439Z"
   },
   {
    "duration": -49,
    "start_time": "2022-02-21T14:28:31.687Z"
   },
   {
    "duration": -50,
    "start_time": "2022-02-21T14:28:31.689Z"
   },
   {
    "duration": -52,
    "start_time": "2022-02-21T14:28:31.692Z"
   },
   {
    "duration": 9,
    "start_time": "2022-02-21T14:28:37.915Z"
   },
   {
    "duration": 184,
    "start_time": "2022-02-21T14:29:11.050Z"
   },
   {
    "duration": 181,
    "start_time": "2022-02-21T14:31:35.376Z"
   },
   {
    "duration": 4,
    "start_time": "2022-02-21T14:40:18.652Z"
   },
   {
    "duration": 10,
    "start_time": "2022-02-21T14:40:24.411Z"
   },
   {
    "duration": 6,
    "start_time": "2022-02-21T14:41:16.281Z"
   },
   {
    "duration": 6,
    "start_time": "2022-02-21T14:41:27.030Z"
   },
   {
    "duration": 4,
    "start_time": "2022-02-21T14:41:55.561Z"
   },
   {
    "duration": 4,
    "start_time": "2022-02-21T14:42:18.928Z"
   },
   {
    "duration": 57,
    "start_time": "2022-02-21T14:42:51.582Z"
   },
   {
    "duration": 4,
    "start_time": "2022-02-21T14:42:58.695Z"
   },
   {
    "duration": 3,
    "start_time": "2022-02-21T14:43:13.958Z"
   },
   {
    "duration": 4,
    "start_time": "2022-02-21T14:43:52.558Z"
   },
   {
    "duration": 56,
    "start_time": "2022-02-21T14:48:02.225Z"
   },
   {
    "duration": 5,
    "start_time": "2022-02-21T14:48:23.639Z"
   },
   {
    "duration": 328,
    "start_time": "2022-02-21T19:55:50.439Z"
   },
   {
    "duration": 1216,
    "start_time": "2022-02-21T19:55:56.001Z"
   },
   {
    "duration": 784,
    "start_time": "2022-02-21T19:55:57.219Z"
   },
   {
    "duration": 31,
    "start_time": "2022-02-21T19:55:58.005Z"
   },
   {
    "duration": 41,
    "start_time": "2022-02-21T19:55:58.039Z"
   },
   {
    "duration": 27,
    "start_time": "2022-02-21T19:55:58.082Z"
   },
   {
    "duration": 42,
    "start_time": "2022-02-21T19:55:58.112Z"
   },
   {
    "duration": 25,
    "start_time": "2022-02-21T19:55:58.156Z"
   },
   {
    "duration": 39,
    "start_time": "2022-02-21T19:55:58.184Z"
   },
   {
    "duration": 24,
    "start_time": "2022-02-21T19:55:58.225Z"
   },
   {
    "duration": 50,
    "start_time": "2022-02-21T19:55:58.251Z"
   },
   {
    "duration": 40,
    "start_time": "2022-02-21T19:55:58.304Z"
   },
   {
    "duration": 35,
    "start_time": "2022-02-21T19:55:58.347Z"
   },
   {
    "duration": 19,
    "start_time": "2022-02-21T19:55:58.384Z"
   },
   {
    "duration": 13,
    "start_time": "2022-02-21T19:55:58.405Z"
   },
   {
    "duration": 24,
    "start_time": "2022-02-21T19:55:58.420Z"
   },
   {
    "duration": 4,
    "start_time": "2022-02-21T19:56:15.306Z"
   },
   {
    "duration": 3,
    "start_time": "2022-02-21T20:01:42.659Z"
   },
   {
    "duration": 4,
    "start_time": "2022-02-21T20:01:48.127Z"
   },
   {
    "duration": 3,
    "start_time": "2022-02-21T20:01:53.923Z"
   },
   {
    "duration": 4,
    "start_time": "2022-02-21T20:01:54.691Z"
   },
   {
    "duration": 4,
    "start_time": "2022-02-21T20:02:00.316Z"
   },
   {
    "duration": 791,
    "start_time": "2022-02-21T20:02:00.322Z"
   },
   {
    "duration": 26,
    "start_time": "2022-02-21T20:02:01.115Z"
   },
   {
    "duration": 42,
    "start_time": "2022-02-21T20:02:01.143Z"
   },
   {
    "duration": 25,
    "start_time": "2022-02-21T20:02:01.187Z"
   },
   {
    "duration": 32,
    "start_time": "2022-02-21T20:02:01.214Z"
   },
   {
    "duration": 10,
    "start_time": "2022-02-21T20:02:01.249Z"
   },
   {
    "duration": 19,
    "start_time": "2022-02-21T20:02:01.270Z"
   },
   {
    "duration": 5,
    "start_time": "2022-02-21T20:02:01.292Z"
   },
   {
    "duration": 9,
    "start_time": "2022-02-21T20:02:01.299Z"
   },
   {
    "duration": 14,
    "start_time": "2022-02-21T20:02:01.310Z"
   },
   {
    "duration": 16,
    "start_time": "2022-02-21T20:02:01.326Z"
   },
   {
    "duration": 6,
    "start_time": "2022-02-21T20:02:01.344Z"
   },
   {
    "duration": 21,
    "start_time": "2022-02-21T20:02:01.369Z"
   },
   {
    "duration": 18,
    "start_time": "2022-02-21T20:02:01.393Z"
   },
   {
    "duration": 15,
    "start_time": "2022-02-21T20:02:01.413Z"
   },
   {
    "duration": 5,
    "start_time": "2022-02-21T20:03:29.832Z"
   },
   {
    "duration": 447,
    "start_time": "2022-02-23T12:27:05.448Z"
   },
   {
    "duration": 1549,
    "start_time": "2022-02-23T12:27:09.285Z"
   },
   {
    "duration": 9208,
    "start_time": "2022-02-23T12:27:10.837Z"
   },
   {
    "duration": 41,
    "start_time": "2022-02-23T12:27:20.048Z"
   },
   {
    "duration": 49,
    "start_time": "2022-02-23T12:27:20.092Z"
   },
   {
    "duration": 38,
    "start_time": "2022-02-23T12:27:20.144Z"
   },
   {
    "duration": 60,
    "start_time": "2022-02-23T12:27:20.185Z"
   },
   {
    "duration": 16,
    "start_time": "2022-02-23T12:27:20.247Z"
   },
   {
    "duration": 49,
    "start_time": "2022-02-23T12:27:20.265Z"
   },
   {
    "duration": 15,
    "start_time": "2022-02-23T12:27:20.318Z"
   },
   {
    "duration": 10,
    "start_time": "2022-02-23T12:27:20.336Z"
   },
   {
    "duration": 12,
    "start_time": "2022-02-23T12:27:20.348Z"
   },
   {
    "duration": 7,
    "start_time": "2022-02-23T12:27:20.363Z"
   },
   {
    "duration": 46,
    "start_time": "2022-02-23T12:27:20.372Z"
   },
   {
    "duration": 13,
    "start_time": "2022-02-23T12:27:20.420Z"
   },
   {
    "duration": 7,
    "start_time": "2022-02-23T12:27:20.436Z"
   },
   {
    "duration": 211,
    "start_time": "2022-02-23T12:27:20.445Z"
   },
   {
    "duration": 126,
    "start_time": "2022-02-23T12:27:20.658Z"
   },
   {
    "duration": 190,
    "start_time": "2022-02-23T12:27:29.400Z"
   },
   {
    "duration": 386,
    "start_time": "2022-02-23T12:29:01.735Z"
   },
   {
    "duration": 2748,
    "start_time": "2022-02-23T12:39:42.568Z"
   },
   {
    "duration": 2561,
    "start_time": "2022-02-23T12:40:51.865Z"
   },
   {
    "duration": 10,
    "start_time": "2022-02-23T12:41:14.714Z"
   },
   {
    "duration": 10,
    "start_time": "2022-02-23T12:41:21.970Z"
   },
   {
    "duration": 16,
    "start_time": "2022-02-23T12:44:04.783Z"
   },
   {
    "duration": 23,
    "start_time": "2022-02-23T12:45:25.660Z"
   },
   {
    "duration": 13,
    "start_time": "2022-02-23T12:47:01.081Z"
   },
   {
    "duration": 13,
    "start_time": "2022-02-23T12:47:17.764Z"
   },
   {
    "duration": 40,
    "start_time": "2022-02-23T12:47:25.105Z"
   },
   {
    "duration": 12,
    "start_time": "2022-02-23T12:47:32.271Z"
   },
   {
    "duration": 16,
    "start_time": "2022-02-23T12:47:58.064Z"
   },
   {
    "duration": 13,
    "start_time": "2022-02-23T12:48:08.292Z"
   },
   {
    "duration": 11,
    "start_time": "2022-02-23T12:54:03.138Z"
   },
   {
    "duration": 15,
    "start_time": "2022-02-23T13:19:58.493Z"
   },
   {
    "duration": 10,
    "start_time": "2022-02-23T13:22:19.360Z"
   },
   {
    "duration": 16,
    "start_time": "2022-02-23T13:22:24.968Z"
   },
   {
    "duration": 14,
    "start_time": "2022-02-23T13:23:30.755Z"
   },
   {
    "duration": 14,
    "start_time": "2022-02-23T13:23:48.672Z"
   },
   {
    "duration": 11,
    "start_time": "2022-02-23T13:27:14.389Z"
   },
   {
    "duration": 12,
    "start_time": "2022-02-23T13:27:40.385Z"
   },
   {
    "duration": 16,
    "start_time": "2022-02-23T13:27:55.037Z"
   },
   {
    "duration": 5,
    "start_time": "2022-02-23T13:28:17.089Z"
   },
   {
    "duration": 12228,
    "start_time": "2022-02-23T13:28:17.096Z"
   },
   {
    "duration": 35,
    "start_time": "2022-02-23T13:28:29.328Z"
   },
   {
    "duration": 56,
    "start_time": "2022-02-23T13:28:29.366Z"
   },
   {
    "duration": 34,
    "start_time": "2022-02-23T13:28:29.424Z"
   },
   {
    "duration": 24,
    "start_time": "2022-02-23T13:28:29.460Z"
   },
   {
    "duration": 16,
    "start_time": "2022-02-23T13:28:29.510Z"
   },
   {
    "duration": 25,
    "start_time": "2022-02-23T13:28:29.529Z"
   },
   {
    "duration": 8,
    "start_time": "2022-02-23T13:28:29.557Z"
   },
   {
    "duration": 45,
    "start_time": "2022-02-23T13:28:29.567Z"
   },
   {
    "duration": 6,
    "start_time": "2022-02-23T13:28:29.615Z"
   },
   {
    "duration": 6,
    "start_time": "2022-02-23T13:28:29.623Z"
   },
   {
    "duration": 6,
    "start_time": "2022-02-23T13:28:29.631Z"
   },
   {
    "duration": 6,
    "start_time": "2022-02-23T13:28:29.640Z"
   },
   {
    "duration": 7,
    "start_time": "2022-02-23T13:28:29.648Z"
   },
   {
    "duration": 410,
    "start_time": "2022-02-23T13:28:29.658Z"
   },
   {
    "duration": 21,
    "start_time": "2022-02-23T13:28:30.071Z"
   },
   {
    "duration": 16,
    "start_time": "2022-02-23T13:28:30.111Z"
   },
   {
    "duration": 13,
    "start_time": "2022-02-23T13:28:30.130Z"
   },
   {
    "duration": 9,
    "start_time": "2022-02-23T13:28:30.145Z"
   },
   {
    "duration": 14,
    "start_time": "2022-02-23T13:28:30.156Z"
   },
   {
    "duration": 22,
    "start_time": "2022-02-23T13:29:44.846Z"
   },
   {
    "duration": 1134,
    "start_time": "2022-02-23T13:33:44.585Z"
   },
   {
    "duration": 19,
    "start_time": "2022-02-23T13:34:12.746Z"
   },
   {
    "duration": 21,
    "start_time": "2022-02-23T13:45:45.170Z"
   },
   {
    "duration": 361,
    "start_time": "2022-02-24T15:22:12.883Z"
   },
   {
    "duration": 1451,
    "start_time": "2022-02-24T15:22:18.799Z"
   },
   {
    "duration": 913,
    "start_time": "2022-02-24T15:22:20.253Z"
   },
   {
    "duration": 40,
    "start_time": "2022-02-24T15:22:21.169Z"
   },
   {
    "duration": 56,
    "start_time": "2022-02-24T15:22:21.212Z"
   },
   {
    "duration": 36,
    "start_time": "2022-02-24T15:22:21.271Z"
   },
   {
    "duration": 58,
    "start_time": "2022-02-24T15:22:21.310Z"
   },
   {
    "duration": 16,
    "start_time": "2022-02-24T15:22:21.371Z"
   },
   {
    "duration": 25,
    "start_time": "2022-02-24T15:22:21.390Z"
   },
   {
    "duration": 12,
    "start_time": "2022-02-24T15:22:21.417Z"
   },
   {
    "duration": 34,
    "start_time": "2022-02-24T15:22:21.432Z"
   },
   {
    "duration": 8,
    "start_time": "2022-02-24T15:22:21.468Z"
   },
   {
    "duration": 12,
    "start_time": "2022-02-24T15:22:21.479Z"
   },
   {
    "duration": 9,
    "start_time": "2022-02-24T15:22:21.493Z"
   },
   {
    "duration": 7,
    "start_time": "2022-02-24T15:22:21.504Z"
   },
   {
    "duration": 7,
    "start_time": "2022-02-24T15:22:21.513Z"
   },
   {
    "duration": 392,
    "start_time": "2022-02-24T15:22:21.562Z"
   },
   {
    "duration": 22,
    "start_time": "2022-02-24T15:22:21.957Z"
   },
   {
    "duration": 23,
    "start_time": "2022-02-24T15:22:21.982Z"
   },
   {
    "duration": 65,
    "start_time": "2022-02-24T15:22:22.007Z"
   },
   {
    "duration": 353,
    "start_time": "2022-02-24T15:22:22.074Z"
   },
   {
    "duration": 553,
    "start_time": "2022-02-24T15:25:27.814Z"
   },
   {
    "duration": 4795,
    "start_time": "2022-02-24T15:26:06.161Z"
   },
   {
    "duration": 4901,
    "start_time": "2022-02-24T15:26:33.333Z"
   },
   {
    "duration": 720,
    "start_time": "2022-02-24T15:31:10.176Z"
   },
   {
    "duration": 561,
    "start_time": "2022-02-24T15:31:43.974Z"
   },
   {
    "duration": 591,
    "start_time": "2022-02-24T15:32:10.431Z"
   },
   {
    "duration": 4793,
    "start_time": "2022-02-24T15:32:44.861Z"
   },
   {
    "duration": 4907,
    "start_time": "2022-02-24T15:38:54.813Z"
   },
   {
    "duration": 1183,
    "start_time": "2022-02-25T14:02:13.383Z"
   },
   {
    "duration": 807,
    "start_time": "2022-02-25T14:02:14.568Z"
   },
   {
    "duration": 36,
    "start_time": "2022-02-25T14:02:15.378Z"
   },
   {
    "duration": 24,
    "start_time": "2022-02-25T14:02:15.416Z"
   },
   {
    "duration": 24,
    "start_time": "2022-02-25T14:02:15.441Z"
   },
   {
    "duration": 40,
    "start_time": "2022-02-25T14:02:15.467Z"
   },
   {
    "duration": 10,
    "start_time": "2022-02-25T14:02:15.509Z"
   },
   {
    "duration": 17,
    "start_time": "2022-02-25T14:02:15.522Z"
   },
   {
    "duration": 9,
    "start_time": "2022-02-25T14:02:15.541Z"
   },
   {
    "duration": 4,
    "start_time": "2022-02-25T14:02:15.552Z"
   },
   {
    "duration": 8,
    "start_time": "2022-02-25T14:02:15.558Z"
   },
   {
    "duration": 5,
    "start_time": "2022-02-25T14:02:15.594Z"
   },
   {
    "duration": 9,
    "start_time": "2022-02-25T14:02:15.601Z"
   },
   {
    "duration": 9,
    "start_time": "2022-02-25T14:02:15.612Z"
   },
   {
    "duration": 7,
    "start_time": "2022-02-25T14:02:15.623Z"
   },
   {
    "duration": 248,
    "start_time": "2022-02-25T14:02:15.631Z"
   },
   {
    "duration": 23,
    "start_time": "2022-02-25T14:02:15.881Z"
   },
   {
    "duration": 16,
    "start_time": "2022-02-25T14:02:15.906Z"
   },
   {
    "duration": 24,
    "start_time": "2022-02-25T14:02:15.924Z"
   },
   {
    "duration": 7487,
    "start_time": "2022-02-25T14:02:15.950Z"
   },
   {
    "duration": -1183,
    "start_time": "2022-02-25T14:02:24.622Z"
   },
   {
    "duration": 2649,
    "start_time": "2022-02-25T14:02:43.655Z"
   },
   {
    "duration": 6749,
    "start_time": "2022-02-25T14:06:44.921Z"
   },
   {
    "duration": 2866,
    "start_time": "2022-02-25T14:08:00.522Z"
   },
   {
    "duration": 3297,
    "start_time": "2022-02-25T14:08:30.009Z"
   },
   {
    "duration": 4309,
    "start_time": "2022-02-25T14:08:44.873Z"
   },
   {
    "duration": 2675,
    "start_time": "2022-02-25T14:09:06.008Z"
   },
   {
    "duration": 3415,
    "start_time": "2022-02-25T14:09:50.231Z"
   },
   {
    "duration": 3438,
    "start_time": "2022-02-25T14:09:56.495Z"
   },
   {
    "duration": 3558,
    "start_time": "2022-02-25T14:10:51.598Z"
   },
   {
    "duration": 3635,
    "start_time": "2022-02-25T14:11:17.022Z"
   },
   {
    "duration": 3529,
    "start_time": "2022-02-25T14:11:25.589Z"
   },
   {
    "duration": 3493,
    "start_time": "2022-02-25T14:11:51.373Z"
   },
   {
    "duration": 3472,
    "start_time": "2022-02-25T14:14:38.400Z"
   },
   {
    "duration": 258,
    "start_time": "2022-02-26T13:52:26.858Z"
   },
   {
    "duration": 1467,
    "start_time": "2022-02-26T13:52:33.125Z"
   },
   {
    "duration": 4401,
    "start_time": "2022-02-26T13:52:34.595Z"
   },
   {
    "duration": 39,
    "start_time": "2022-02-26T13:52:38.999Z"
   },
   {
    "duration": 55,
    "start_time": "2022-02-26T13:52:39.040Z"
   },
   {
    "duration": 33,
    "start_time": "2022-02-26T13:52:39.097Z"
   },
   {
    "duration": 53,
    "start_time": "2022-02-26T13:52:39.133Z"
   },
   {
    "duration": 16,
    "start_time": "2022-02-26T13:52:39.189Z"
   },
   {
    "duration": 27,
    "start_time": "2022-02-26T13:52:39.208Z"
   },
   {
    "duration": 41,
    "start_time": "2022-02-26T13:52:39.237Z"
   },
   {
    "duration": 5,
    "start_time": "2022-02-26T13:52:39.281Z"
   },
   {
    "duration": 10,
    "start_time": "2022-02-26T13:52:39.288Z"
   },
   {
    "duration": 6,
    "start_time": "2022-02-26T13:52:39.300Z"
   },
   {
    "duration": 5,
    "start_time": "2022-02-26T13:52:39.309Z"
   },
   {
    "duration": 59,
    "start_time": "2022-02-26T13:52:39.316Z"
   },
   {
    "duration": 12,
    "start_time": "2022-02-26T13:52:39.377Z"
   },
   {
    "duration": 390,
    "start_time": "2022-02-26T13:52:39.391Z"
   },
   {
    "duration": 21,
    "start_time": "2022-02-26T13:52:39.783Z"
   },
   {
    "duration": 27,
    "start_time": "2022-02-26T13:52:39.807Z"
   },
   {
    "duration": 62,
    "start_time": "2022-02-26T13:52:39.837Z"
   },
   {
    "duration": 1094,
    "start_time": "2022-02-26T13:52:39.901Z"
   },
   {
    "duration": -1119,
    "start_time": "2022-02-26T13:52:42.116Z"
   },
   {
    "duration": 5515,
    "start_time": "2022-02-26T13:54:28.032Z"
   },
   {
    "duration": 422,
    "start_time": "2022-02-26T13:54:38.453Z"
   },
   {
    "duration": 541,
    "start_time": "2022-02-26T14:01:50.821Z"
   },
   {
    "duration": 439,
    "start_time": "2022-02-26T14:02:24.453Z"
   },
   {
    "duration": 67,
    "start_time": "2022-02-26T14:05:52.255Z"
   },
   {
    "duration": 434,
    "start_time": "2022-02-26T14:06:26.259Z"
   },
   {
    "duration": 973,
    "start_time": "2022-02-26T14:06:39.964Z"
   },
   {
    "duration": 81,
    "start_time": "2022-02-26T14:12:34.831Z"
   },
   {
    "duration": 59,
    "start_time": "2022-02-26T14:15:06.452Z"
   },
   {
    "duration": 5,
    "start_time": "2022-02-26T14:15:16.594Z"
   },
   {
    "duration": 942,
    "start_time": "2022-02-26T14:15:16.602Z"
   },
   {
    "duration": 43,
    "start_time": "2022-02-26T14:15:17.547Z"
   },
   {
    "duration": 39,
    "start_time": "2022-02-26T14:15:17.594Z"
   },
   {
    "duration": 39,
    "start_time": "2022-02-26T14:15:17.672Z"
   },
   {
    "duration": 29,
    "start_time": "2022-02-26T14:15:17.714Z"
   },
   {
    "duration": 22,
    "start_time": "2022-02-26T14:15:17.773Z"
   },
   {
    "duration": 33,
    "start_time": "2022-02-26T14:15:17.801Z"
   },
   {
    "duration": 40,
    "start_time": "2022-02-26T14:15:17.836Z"
   },
   {
    "duration": 10,
    "start_time": "2022-02-26T14:15:17.878Z"
   },
   {
    "duration": 17,
    "start_time": "2022-02-26T14:15:17.891Z"
   },
   {
    "duration": 7,
    "start_time": "2022-02-26T14:15:17.911Z"
   },
   {
    "duration": 52,
    "start_time": "2022-02-26T14:15:17.921Z"
   },
   {
    "duration": 14,
    "start_time": "2022-02-26T14:15:17.976Z"
   },
   {
    "duration": 7,
    "start_time": "2022-02-26T14:15:17.994Z"
   },
   {
    "duration": 426,
    "start_time": "2022-02-26T14:15:18.004Z"
   },
   {
    "duration": 46,
    "start_time": "2022-02-26T14:15:18.433Z"
   },
   {
    "duration": 25,
    "start_time": "2022-02-26T14:15:18.481Z"
   },
   {
    "duration": 25,
    "start_time": "2022-02-26T14:15:18.508Z"
   },
   {
    "duration": 5851,
    "start_time": "2022-02-26T14:15:18.536Z"
   },
   {
    "duration": 970,
    "start_time": "2022-02-26T14:15:24.389Z"
   },
   {
    "duration": 1345,
    "start_time": "2022-02-26T14:17:21.705Z"
   },
   {
    "duration": 949,
    "start_time": "2022-02-26T14:18:25.402Z"
   },
   {
    "duration": 1350,
    "start_time": "2022-02-26T14:18:58.058Z"
   },
   {
    "duration": 1431,
    "start_time": "2022-02-26T14:19:18.821Z"
   },
   {
    "duration": 1336,
    "start_time": "2022-02-26T14:19:35.930Z"
   },
   {
    "duration": 454,
    "start_time": "2022-02-26T14:19:59.196Z"
   },
   {
    "duration": 1004,
    "start_time": "2022-02-26T14:20:17.537Z"
   },
   {
    "duration": 1002,
    "start_time": "2022-02-26T14:21:05.231Z"
   },
   {
    "duration": 1024,
    "start_time": "2022-02-26T14:22:09.137Z"
   },
   {
    "duration": 1054,
    "start_time": "2022-02-26T14:22:28.891Z"
   },
   {
    "duration": 1054,
    "start_time": "2022-02-26T14:25:09.496Z"
   },
   {
    "duration": 1113,
    "start_time": "2022-02-26T14:25:32.463Z"
   },
   {
    "duration": 4,
    "start_time": "2022-02-26T14:57:12.342Z"
   },
   {
    "duration": 219,
    "start_time": "2022-02-26T15:06:40.483Z"
   },
   {
    "duration": 5,
    "start_time": "2022-02-26T15:07:00.247Z"
   },
   {
    "duration": 858,
    "start_time": "2022-02-26T15:07:00.258Z"
   },
   {
    "duration": 34,
    "start_time": "2022-02-26T15:07:01.118Z"
   },
   {
    "duration": 49,
    "start_time": "2022-02-26T15:07:01.155Z"
   },
   {
    "duration": 36,
    "start_time": "2022-02-26T15:07:01.206Z"
   },
   {
    "duration": 49,
    "start_time": "2022-02-26T15:07:01.244Z"
   },
   {
    "duration": 15,
    "start_time": "2022-02-26T15:07:01.295Z"
   },
   {
    "duration": 30,
    "start_time": "2022-02-26T15:07:01.312Z"
   },
   {
    "duration": 32,
    "start_time": "2022-02-26T15:07:01.345Z"
   },
   {
    "duration": 21,
    "start_time": "2022-02-26T15:07:01.380Z"
   },
   {
    "duration": 13,
    "start_time": "2022-02-26T15:07:01.404Z"
   },
   {
    "duration": 11,
    "start_time": "2022-02-26T15:07:01.419Z"
   },
   {
    "duration": 16,
    "start_time": "2022-02-26T15:07:01.432Z"
   },
   {
    "duration": 24,
    "start_time": "2022-02-26T15:07:01.450Z"
   },
   {
    "duration": 22,
    "start_time": "2022-02-26T15:07:01.477Z"
   },
   {
    "duration": 368,
    "start_time": "2022-02-26T15:07:01.502Z"
   },
   {
    "duration": 24,
    "start_time": "2022-02-26T15:07:01.872Z"
   },
   {
    "duration": 29,
    "start_time": "2022-02-26T15:07:01.898Z"
   },
   {
    "duration": 19,
    "start_time": "2022-02-26T15:07:01.929Z"
   },
   {
    "duration": 5582,
    "start_time": "2022-02-26T15:07:01.974Z"
   },
   {
    "duration": 1141,
    "start_time": "2022-02-26T15:07:07.559Z"
   },
   {
    "duration": 4,
    "start_time": "2022-02-26T15:07:08.703Z"
   },
   {
    "duration": 305,
    "start_time": "2022-02-26T15:07:08.709Z"
   },
   {
    "duration": 216,
    "start_time": "2022-02-26T15:07:38.461Z"
   },
   {
    "duration": 236,
    "start_time": "2022-02-26T15:10:17.031Z"
   },
   {
    "duration": 186,
    "start_time": "2022-02-26T15:10:44.509Z"
   },
   {
    "duration": 217,
    "start_time": "2022-02-26T15:12:08.710Z"
   },
   {
    "duration": 4,
    "start_time": "2022-02-26T15:12:11.650Z"
   },
   {
    "duration": 200,
    "start_time": "2022-02-26T15:12:11.924Z"
   },
   {
    "duration": 4,
    "start_time": "2022-02-26T15:12:31.845Z"
   },
   {
    "duration": 195,
    "start_time": "2022-02-26T15:12:32.191Z"
   },
   {
    "duration": 4,
    "start_time": "2022-02-26T15:13:16.851Z"
   },
   {
    "duration": 224,
    "start_time": "2022-02-26T15:13:17.752Z"
   },
   {
    "duration": 4,
    "start_time": "2022-02-26T15:13:49.687Z"
   },
   {
    "duration": 204,
    "start_time": "2022-02-26T15:13:50.363Z"
   },
   {
    "duration": 4,
    "start_time": "2022-02-26T15:14:20.023Z"
   },
   {
    "duration": 471,
    "start_time": "2022-02-26T15:14:20.343Z"
   },
   {
    "duration": 400,
    "start_time": "2022-02-26T15:28:58.936Z"
   },
   {
    "duration": 4,
    "start_time": "2022-02-26T15:29:02.904Z"
   },
   {
    "duration": 408,
    "start_time": "2022-02-26T15:29:03.504Z"
   },
   {
    "duration": 848,
    "start_time": "2022-02-26T15:33:48.849Z"
   },
   {
    "duration": 4,
    "start_time": "2022-02-26T15:35:33.895Z"
   },
   {
    "duration": 228,
    "start_time": "2022-02-26T15:35:34.266Z"
   },
   {
    "duration": 411,
    "start_time": "2022-02-26T15:42:46.855Z"
   },
   {
    "duration": 4,
    "start_time": "2022-02-26T15:42:49.424Z"
   },
   {
    "duration": 8,
    "start_time": "2022-02-26T15:42:49.939Z"
   },
   {
    "duration": 5,
    "start_time": "2022-02-26T15:44:19.662Z"
   },
   {
    "duration": 257,
    "start_time": "2022-02-26T15:45:05.034Z"
   },
   {
    "duration": 287,
    "start_time": "2022-02-26T15:45:12.006Z"
   },
   {
    "duration": 285,
    "start_time": "2022-02-26T15:45:59.624Z"
   },
   {
    "duration": 8,
    "start_time": "2022-02-26T15:58:19.409Z"
   },
   {
    "duration": 353,
    "start_time": "2022-02-26T16:12:40.299Z"
   },
   {
    "duration": 889,
    "start_time": "2022-02-26T16:14:47.420Z"
   },
   {
    "duration": 1206,
    "start_time": "2022-02-26T16:17:28.532Z"
   },
   {
    "duration": 1510,
    "start_time": "2022-02-26T16:17:42.478Z"
   },
   {
    "duration": 1070,
    "start_time": "2022-02-26T16:17:53.319Z"
   },
   {
    "duration": 1154,
    "start_time": "2022-02-26T16:18:03.234Z"
   },
   {
    "duration": 1402,
    "start_time": "2022-02-26T16:18:37.607Z"
   },
   {
    "duration": 230,
    "start_time": "2022-02-26T16:19:29.772Z"
   },
   {
    "duration": 203,
    "start_time": "2022-02-26T16:20:00.483Z"
   },
   {
    "duration": 1398,
    "start_time": "2022-02-26T16:20:10.822Z"
   },
   {
    "duration": 215,
    "start_time": "2022-02-26T16:33:32.115Z"
   },
   {
    "duration": 240,
    "start_time": "2022-02-26T17:01:09.967Z"
   },
   {
    "duration": 208,
    "start_time": "2022-02-26T17:04:40.036Z"
   },
   {
    "duration": 736,
    "start_time": "2022-02-26T17:05:32.054Z"
   },
   {
    "duration": 209,
    "start_time": "2022-02-26T17:06:07.900Z"
   },
   {
    "duration": 203,
    "start_time": "2022-02-26T17:09:33.032Z"
   },
   {
    "duration": 216,
    "start_time": "2022-02-26T17:12:13.340Z"
   },
   {
    "duration": 6,
    "start_time": "2022-02-26T17:12:18.809Z"
   },
   {
    "duration": 1269,
    "start_time": "2022-02-26T17:12:18.818Z"
   },
   {
    "duration": 51,
    "start_time": "2022-02-26T17:12:20.091Z"
   },
   {
    "duration": 73,
    "start_time": "2022-02-26T17:12:20.146Z"
   },
   {
    "duration": 67,
    "start_time": "2022-02-26T17:12:20.222Z"
   },
   {
    "duration": 33,
    "start_time": "2022-02-26T17:12:20.292Z"
   },
   {
    "duration": 54,
    "start_time": "2022-02-26T17:12:20.328Z"
   },
   {
    "duration": 35,
    "start_time": "2022-02-26T17:12:20.387Z"
   },
   {
    "duration": 8,
    "start_time": "2022-02-26T17:12:20.426Z"
   },
   {
    "duration": 38,
    "start_time": "2022-02-26T17:12:20.437Z"
   },
   {
    "duration": 7,
    "start_time": "2022-02-26T17:12:20.478Z"
   },
   {
    "duration": 6,
    "start_time": "2022-02-26T17:12:20.487Z"
   },
   {
    "duration": 8,
    "start_time": "2022-02-26T17:12:20.496Z"
   },
   {
    "duration": 7,
    "start_time": "2022-02-26T17:12:20.507Z"
   },
   {
    "duration": 59,
    "start_time": "2022-02-26T17:12:20.517Z"
   },
   {
    "duration": 388,
    "start_time": "2022-02-26T17:12:20.579Z"
   },
   {
    "duration": 22,
    "start_time": "2022-02-26T17:12:20.969Z"
   },
   {
    "duration": 30,
    "start_time": "2022-02-26T17:12:20.994Z"
   },
   {
    "duration": 55,
    "start_time": "2022-02-26T17:12:21.027Z"
   },
   {
    "duration": 7501,
    "start_time": "2022-02-26T17:12:21.084Z"
   },
   {
    "duration": 1186,
    "start_time": "2022-02-26T17:12:28.587Z"
   },
   {
    "duration": 5,
    "start_time": "2022-02-26T17:12:29.777Z"
   },
   {
    "duration": 15,
    "start_time": "2022-02-26T17:12:29.786Z"
   },
   {
    "duration": 204,
    "start_time": "2022-02-26T17:12:29.804Z"
   },
   {
    "duration": -313,
    "start_time": "2022-02-26T17:12:30.325Z"
   },
   {
    "duration": 397,
    "start_time": "2022-02-26T17:17:58.513Z"
   },
   {
    "duration": 207,
    "start_time": "2022-02-26T17:18:07.764Z"
   },
   {
    "duration": 275,
    "start_time": "2022-02-26T17:18:10.866Z"
   },
   {
    "duration": 4,
    "start_time": "2022-02-26T17:19:31.107Z"
   },
   {
    "duration": 344,
    "start_time": "2022-02-26T17:21:01.911Z"
   },
   {
    "duration": 211,
    "start_time": "2022-02-26T17:21:28.315Z"
   },
   {
    "duration": 5,
    "start_time": "2022-02-26T17:21:31.533Z"
   },
   {
    "duration": 228,
    "start_time": "2022-02-26T17:21:32.037Z"
   },
   {
    "duration": 4,
    "start_time": "2022-02-26T17:21:46.430Z"
   },
   {
    "duration": 408,
    "start_time": "2022-02-26T17:21:46.790Z"
   },
   {
    "duration": 4,
    "start_time": "2022-02-26T17:22:51.334Z"
   },
   {
    "duration": 437,
    "start_time": "2022-02-26T17:22:51.972Z"
   },
   {
    "duration": 889,
    "start_time": "2022-02-26T17:25:19.038Z"
   },
   {
    "duration": 4,
    "start_time": "2022-02-26T17:26:11.704Z"
   },
   {
    "duration": 1899,
    "start_time": "2022-02-26T17:26:11.977Z"
   },
   {
    "duration": 7,
    "start_time": "2022-02-26T17:28:25.789Z"
   },
   {
    "duration": 1570,
    "start_time": "2022-02-26T17:28:26.140Z"
   },
   {
    "duration": 6,
    "start_time": "2022-02-26T17:28:52.022Z"
   },
   {
    "duration": 2145,
    "start_time": "2022-02-26T17:28:52.428Z"
   },
   {
    "duration": 330,
    "start_time": "2022-02-27T12:32:50.140Z"
   },
   {
    "duration": 1098,
    "start_time": "2022-02-27T12:32:53.712Z"
   },
   {
    "duration": 701,
    "start_time": "2022-02-27T12:32:54.812Z"
   },
   {
    "duration": 25,
    "start_time": "2022-02-27T12:32:55.515Z"
   },
   {
    "duration": 35,
    "start_time": "2022-02-27T12:32:55.542Z"
   },
   {
    "duration": 23,
    "start_time": "2022-02-27T12:32:55.578Z"
   },
   {
    "duration": 16,
    "start_time": "2022-02-27T12:32:55.602Z"
   },
   {
    "duration": 9,
    "start_time": "2022-02-27T12:32:55.620Z"
   },
   {
    "duration": 44,
    "start_time": "2022-02-27T12:32:55.632Z"
   },
   {
    "duration": 6,
    "start_time": "2022-02-27T12:32:55.679Z"
   },
   {
    "duration": 7,
    "start_time": "2022-02-27T12:32:55.686Z"
   },
   {
    "duration": 8,
    "start_time": "2022-02-27T12:32:55.694Z"
   },
   {
    "duration": 7,
    "start_time": "2022-02-27T12:32:55.703Z"
   },
   {
    "duration": 6,
    "start_time": "2022-02-27T12:32:55.711Z"
   },
   {
    "duration": 7,
    "start_time": "2022-02-27T12:32:55.719Z"
   },
   {
    "duration": 7,
    "start_time": "2022-02-27T12:32:55.728Z"
   },
   {
    "duration": 246,
    "start_time": "2022-02-27T12:32:55.737Z"
   },
   {
    "duration": 17,
    "start_time": "2022-02-27T12:32:55.986Z"
   },
   {
    "duration": 18,
    "start_time": "2022-02-27T12:32:56.005Z"
   },
   {
    "duration": 52,
    "start_time": "2022-02-27T12:32:56.025Z"
   },
   {
    "duration": 3685,
    "start_time": "2022-02-27T12:32:56.079Z"
   },
   {
    "duration": 671,
    "start_time": "2022-02-27T12:32:59.766Z"
   },
   {
    "duration": 3,
    "start_time": "2022-02-27T12:33:00.439Z"
   },
   {
    "duration": 22,
    "start_time": "2022-02-27T12:33:00.445Z"
   },
   {
    "duration": 25,
    "start_time": "2022-02-27T12:33:00.469Z"
   },
   {
    "duration": 1101,
    "start_time": "2022-02-27T12:33:00.496Z"
   },
   {
    "duration": 4,
    "start_time": "2022-02-27T12:33:01.599Z"
   },
   {
    "duration": 7010,
    "start_time": "2022-02-27T12:33:01.604Z"
   },
   {
    "duration": 7726,
    "start_time": "2022-02-27T12:36:45.924Z"
   },
   {
    "duration": 5,
    "start_time": "2022-02-27T12:37:09.788Z"
   },
   {
    "duration": 7667,
    "start_time": "2022-02-27T12:37:31.258Z"
   },
   {
    "duration": 12,
    "start_time": "2022-02-27T13:01:52.673Z"
   },
   {
    "duration": 3,
    "start_time": "2022-02-27T13:01:59.563Z"
   },
   {
    "duration": 738,
    "start_time": "2022-02-27T13:01:59.568Z"
   },
   {
    "duration": 23,
    "start_time": "2022-02-27T13:02:00.308Z"
   },
   {
    "duration": 29,
    "start_time": "2022-02-27T13:02:00.333Z"
   },
   {
    "duration": 34,
    "start_time": "2022-02-27T13:02:00.364Z"
   },
   {
    "duration": 18,
    "start_time": "2022-02-27T13:02:00.400Z"
   },
   {
    "duration": 13,
    "start_time": "2022-02-27T13:02:00.420Z"
   },
   {
    "duration": 16,
    "start_time": "2022-02-27T13:02:00.435Z"
   },
   {
    "duration": 26,
    "start_time": "2022-02-27T13:02:00.453Z"
   },
   {
    "duration": 17,
    "start_time": "2022-02-27T13:02:00.480Z"
   },
   {
    "duration": 12,
    "start_time": "2022-02-27T13:02:00.498Z"
   },
   {
    "duration": 11,
    "start_time": "2022-02-27T13:02:00.512Z"
   },
   {
    "duration": 9,
    "start_time": "2022-02-27T13:02:00.524Z"
   },
   {
    "duration": 18,
    "start_time": "2022-02-27T13:02:00.535Z"
   },
   {
    "duration": 11,
    "start_time": "2022-02-27T13:02:00.555Z"
   },
   {
    "duration": 222,
    "start_time": "2022-02-27T13:02:00.568Z"
   },
   {
    "duration": 17,
    "start_time": "2022-02-27T13:02:00.792Z"
   },
   {
    "duration": 18,
    "start_time": "2022-02-27T13:02:00.811Z"
   },
   {
    "duration": 48,
    "start_time": "2022-02-27T13:02:00.832Z"
   },
   {
    "duration": 3741,
    "start_time": "2022-02-27T13:02:00.882Z"
   },
   {
    "duration": 620,
    "start_time": "2022-02-27T13:02:04.626Z"
   },
   {
    "duration": 3,
    "start_time": "2022-02-27T13:02:05.248Z"
   },
   {
    "duration": 20,
    "start_time": "2022-02-27T13:02:05.253Z"
   },
   {
    "duration": 9,
    "start_time": "2022-02-27T13:02:05.275Z"
   },
   {
    "duration": 1089,
    "start_time": "2022-02-27T13:02:05.286Z"
   },
   {
    "duration": 4,
    "start_time": "2022-02-27T13:02:06.376Z"
   },
   {
    "duration": 10,
    "start_time": "2022-02-27T13:02:06.381Z"
   },
   {
    "duration": 6730,
    "start_time": "2022-02-27T13:02:06.393Z"
   },
   {
    "duration": 275,
    "start_time": "2022-02-27T13:21:47.407Z"
   },
   {
    "duration": 265,
    "start_time": "2022-02-27T13:22:55.238Z"
   },
   {
    "duration": 264,
    "start_time": "2022-02-27T13:23:15.160Z"
   },
   {
    "duration": 258,
    "start_time": "2022-02-27T13:26:35.211Z"
   },
   {
    "duration": 277,
    "start_time": "2022-02-27T13:26:48.395Z"
   },
   {
    "duration": 4,
    "start_time": "2022-02-27T13:27:34.278Z"
   },
   {
    "duration": 741,
    "start_time": "2022-02-27T13:27:34.284Z"
   },
   {
    "duration": 27,
    "start_time": "2022-02-27T13:27:35.027Z"
   },
   {
    "duration": 35,
    "start_time": "2022-02-27T13:27:35.056Z"
   },
   {
    "duration": 26,
    "start_time": "2022-02-27T13:27:35.093Z"
   },
   {
    "duration": 25,
    "start_time": "2022-02-27T13:27:35.121Z"
   },
   {
    "duration": 36,
    "start_time": "2022-02-27T13:27:35.150Z"
   },
   {
    "duration": 18,
    "start_time": "2022-02-27T13:27:35.189Z"
   },
   {
    "duration": 6,
    "start_time": "2022-02-27T13:27:35.209Z"
   },
   {
    "duration": 9,
    "start_time": "2022-02-27T13:27:35.216Z"
   },
   {
    "duration": 16,
    "start_time": "2022-02-27T13:27:35.227Z"
   },
   {
    "duration": 14,
    "start_time": "2022-02-27T13:27:35.245Z"
   },
   {
    "duration": 5,
    "start_time": "2022-02-27T13:27:35.277Z"
   },
   {
    "duration": 9,
    "start_time": "2022-02-27T13:27:35.284Z"
   },
   {
    "duration": 9,
    "start_time": "2022-02-27T13:27:35.294Z"
   },
   {
    "duration": 243,
    "start_time": "2022-02-27T13:27:35.305Z"
   },
   {
    "duration": 27,
    "start_time": "2022-02-27T13:27:35.550Z"
   },
   {
    "duration": 17,
    "start_time": "2022-02-27T13:27:35.578Z"
   },
   {
    "duration": 17,
    "start_time": "2022-02-27T13:27:35.598Z"
   },
   {
    "duration": 3695,
    "start_time": "2022-02-27T13:27:35.617Z"
   },
   {
    "duration": 630,
    "start_time": "2022-02-27T13:27:39.314Z"
   },
   {
    "duration": 3,
    "start_time": "2022-02-27T13:27:39.946Z"
   },
   {
    "duration": 23,
    "start_time": "2022-02-27T13:27:39.951Z"
   },
   {
    "duration": 20,
    "start_time": "2022-02-27T13:27:39.976Z"
   },
   {
    "duration": 1111,
    "start_time": "2022-02-27T13:27:39.998Z"
   },
   {
    "duration": 4,
    "start_time": "2022-02-27T13:27:41.111Z"
   },
   {
    "duration": 12,
    "start_time": "2022-02-27T13:27:41.117Z"
   },
   {
    "duration": 274,
    "start_time": "2022-02-27T13:27:41.130Z"
   },
   {
    "duration": -676,
    "start_time": "2022-02-27T13:27:42.081Z"
   },
   {
    "duration": 294,
    "start_time": "2022-02-27T13:29:20.351Z"
   },
   {
    "duration": 4,
    "start_time": "2022-02-27T13:30:11.542Z"
   },
   {
    "duration": 7,
    "start_time": "2022-02-27T13:33:08.714Z"
   },
   {
    "duration": 333,
    "start_time": "2022-02-27T13:33:13.249Z"
   },
   {
    "duration": 298,
    "start_time": "2022-02-27T13:37:24.834Z"
   },
   {
    "duration": 18,
    "start_time": "2022-02-27T13:37:54.027Z"
   },
   {
    "duration": 352,
    "start_time": "2022-02-27T13:37:59.170Z"
   },
   {
    "duration": 4,
    "start_time": "2022-02-27T13:38:21.006Z"
   },
   {
    "duration": 712,
    "start_time": "2022-02-27T13:38:21.011Z"
   },
   {
    "duration": 24,
    "start_time": "2022-02-27T13:38:21.725Z"
   },
   {
    "duration": 39,
    "start_time": "2022-02-27T13:38:21.751Z"
   },
   {
    "duration": 24,
    "start_time": "2022-02-27T13:38:21.791Z"
   },
   {
    "duration": 24,
    "start_time": "2022-02-27T13:38:21.816Z"
   },
   {
    "duration": 10,
    "start_time": "2022-02-27T13:38:21.842Z"
   },
   {
    "duration": 34,
    "start_time": "2022-02-27T13:38:21.854Z"
   },
   {
    "duration": 6,
    "start_time": "2022-02-27T13:38:21.890Z"
   },
   {
    "duration": 6,
    "start_time": "2022-02-27T13:38:21.897Z"
   },
   {
    "duration": 5,
    "start_time": "2022-02-27T13:38:21.904Z"
   },
   {
    "duration": 5,
    "start_time": "2022-02-27T13:38:21.911Z"
   },
   {
    "duration": 5,
    "start_time": "2022-02-27T13:38:21.917Z"
   },
   {
    "duration": 10,
    "start_time": "2022-02-27T13:38:21.923Z"
   },
   {
    "duration": 17,
    "start_time": "2022-02-27T13:38:21.934Z"
   },
   {
    "duration": 226,
    "start_time": "2022-02-27T13:38:21.978Z"
   },
   {
    "duration": 17,
    "start_time": "2022-02-27T13:38:22.205Z"
   },
   {
    "duration": 17,
    "start_time": "2022-02-27T13:38:22.223Z"
   },
   {
    "duration": 39,
    "start_time": "2022-02-27T13:38:22.242Z"
   },
   {
    "duration": 3669,
    "start_time": "2022-02-27T13:38:22.283Z"
   },
   {
    "duration": 568,
    "start_time": "2022-02-27T13:38:25.954Z"
   },
   {
    "duration": 2,
    "start_time": "2022-02-27T13:38:26.524Z"
   },
   {
    "duration": 9,
    "start_time": "2022-02-27T13:38:26.528Z"
   },
   {
    "duration": 8,
    "start_time": "2022-02-27T13:38:26.538Z"
   },
   {
    "duration": 940,
    "start_time": "2022-02-27T13:38:26.548Z"
   },
   {
    "duration": 3,
    "start_time": "2022-02-27T13:38:27.490Z"
   },
   {
    "duration": 13,
    "start_time": "2022-02-27T13:38:27.495Z"
   },
   {
    "duration": 10,
    "start_time": "2022-02-27T13:38:27.510Z"
   },
   {
    "duration": 431,
    "start_time": "2022-02-27T13:38:27.522Z"
   },
   {
    "duration": 288,
    "start_time": "2022-02-27T13:39:44.001Z"
   },
   {
    "duration": 8,
    "start_time": "2022-02-27T13:40:20.728Z"
   },
   {
    "duration": 8,
    "start_time": "2022-02-27T13:41:26.933Z"
   },
   {
    "duration": 33,
    "start_time": "2022-02-27T13:41:51.062Z"
   },
   {
    "duration": 8,
    "start_time": "2022-02-27T13:42:01.013Z"
   },
   {
    "duration": 16,
    "start_time": "2022-02-27T13:42:14.738Z"
   },
   {
    "duration": 8,
    "start_time": "2022-02-27T13:42:17.909Z"
   },
   {
    "duration": 20,
    "start_time": "2022-02-27T13:50:06.258Z"
   },
   {
    "duration": 8,
    "start_time": "2022-02-27T13:50:08.105Z"
   },
   {
    "duration": 4,
    "start_time": "2022-02-27T13:50:41.216Z"
   },
   {
    "duration": 702,
    "start_time": "2022-02-27T13:50:41.221Z"
   },
   {
    "duration": 25,
    "start_time": "2022-02-27T13:50:41.925Z"
   },
   {
    "duration": 38,
    "start_time": "2022-02-27T13:50:41.952Z"
   },
   {
    "duration": 25,
    "start_time": "2022-02-27T13:50:41.992Z"
   },
   {
    "duration": 17,
    "start_time": "2022-02-27T13:50:42.019Z"
   },
   {
    "duration": 41,
    "start_time": "2022-02-27T13:50:42.038Z"
   },
   {
    "duration": 17,
    "start_time": "2022-02-27T13:50:42.082Z"
   },
   {
    "duration": 4,
    "start_time": "2022-02-27T13:50:42.101Z"
   },
   {
    "duration": 7,
    "start_time": "2022-02-27T13:50:42.107Z"
   },
   {
    "duration": 7,
    "start_time": "2022-02-27T13:50:42.115Z"
   },
   {
    "duration": 6,
    "start_time": "2022-02-27T13:50:42.123Z"
   },
   {
    "duration": 5,
    "start_time": "2022-02-27T13:50:42.130Z"
   },
   {
    "duration": 5,
    "start_time": "2022-02-27T13:50:42.137Z"
   },
   {
    "duration": 36,
    "start_time": "2022-02-27T13:50:42.144Z"
   },
   {
    "duration": 230,
    "start_time": "2022-02-27T13:50:42.182Z"
   },
   {
    "duration": 17,
    "start_time": "2022-02-27T13:50:42.414Z"
   },
   {
    "duration": 19,
    "start_time": "2022-02-27T13:50:42.433Z"
   },
   {
    "duration": 37,
    "start_time": "2022-02-27T13:50:42.453Z"
   },
   {
    "duration": 8,
    "start_time": "2022-02-27T13:50:42.492Z"
   },
   {
    "duration": 3736,
    "start_time": "2022-02-27T13:50:42.502Z"
   },
   {
    "duration": 592,
    "start_time": "2022-02-27T13:50:46.239Z"
   },
   {
    "duration": 3,
    "start_time": "2022-02-27T13:50:46.834Z"
   },
   {
    "duration": 10,
    "start_time": "2022-02-27T13:50:46.839Z"
   },
   {
    "duration": 6,
    "start_time": "2022-02-27T13:50:46.851Z"
   },
   {
    "duration": 970,
    "start_time": "2022-02-27T13:50:46.859Z"
   },
   {
    "duration": 4,
    "start_time": "2022-02-27T13:50:47.831Z"
   },
   {
    "duration": 9,
    "start_time": "2022-02-27T13:50:47.836Z"
   },
   {
    "duration": 11,
    "start_time": "2022-02-27T13:50:47.847Z"
   },
   {
    "duration": 19,
    "start_time": "2022-02-27T13:50:47.859Z"
   },
   {
    "duration": 274,
    "start_time": "2022-02-27T13:50:47.881Z"
   },
   {
    "duration": -701,
    "start_time": "2022-02-27T13:50:48.858Z"
   },
   {
    "duration": 34,
    "start_time": "2022-02-27T13:54:19.923Z"
   },
   {
    "duration": 7,
    "start_time": "2022-02-27T13:54:32.029Z"
   },
   {
    "duration": 8,
    "start_time": "2022-02-27T13:54:36.476Z"
   },
   {
    "duration": 11,
    "start_time": "2022-02-27T13:56:01.913Z"
   },
   {
    "duration": 9,
    "start_time": "2022-02-27T13:56:04.498Z"
   },
   {
    "duration": 18,
    "start_time": "2022-02-27T13:56:36.874Z"
   },
   {
    "duration": 5,
    "start_time": "2022-02-27T13:57:08.868Z"
   },
   {
    "duration": 701,
    "start_time": "2022-02-27T13:57:08.875Z"
   },
   {
    "duration": 26,
    "start_time": "2022-02-27T13:57:09.578Z"
   },
   {
    "duration": 24,
    "start_time": "2022-02-27T13:57:09.607Z"
   },
   {
    "duration": 50,
    "start_time": "2022-02-27T13:57:09.633Z"
   },
   {
    "duration": 18,
    "start_time": "2022-02-27T13:57:09.685Z"
   },
   {
    "duration": 10,
    "start_time": "2022-02-27T13:57:09.706Z"
   },
   {
    "duration": 17,
    "start_time": "2022-02-27T13:57:09.718Z"
   },
   {
    "duration": 5,
    "start_time": "2022-02-27T13:57:09.736Z"
   },
   {
    "duration": 34,
    "start_time": "2022-02-27T13:57:09.743Z"
   },
   {
    "duration": 3,
    "start_time": "2022-02-27T13:57:09.779Z"
   },
   {
    "duration": 16,
    "start_time": "2022-02-27T13:57:09.784Z"
   },
   {
    "duration": 12,
    "start_time": "2022-02-27T13:57:09.802Z"
   },
   {
    "duration": 8,
    "start_time": "2022-02-27T13:57:09.816Z"
   },
   {
    "duration": 7,
    "start_time": "2022-02-27T13:57:09.825Z"
   },
   {
    "duration": 216,
    "start_time": "2022-02-27T13:57:09.833Z"
   },
   {
    "duration": 29,
    "start_time": "2022-02-27T13:57:10.051Z"
   },
   {
    "duration": 16,
    "start_time": "2022-02-27T13:57:10.082Z"
   },
   {
    "duration": 17,
    "start_time": "2022-02-27T13:57:10.101Z"
   },
   {
    "duration": 3777,
    "start_time": "2022-02-27T13:57:10.120Z"
   },
   {
    "duration": 641,
    "start_time": "2022-02-27T13:57:13.899Z"
   },
   {
    "duration": 3,
    "start_time": "2022-02-27T13:57:14.542Z"
   },
   {
    "duration": 9,
    "start_time": "2022-02-27T13:57:14.547Z"
   },
   {
    "duration": 3,
    "start_time": "2022-02-27T13:57:14.558Z"
   },
   {
    "duration": 962,
    "start_time": "2022-02-27T13:57:14.563Z"
   },
   {
    "duration": 4,
    "start_time": "2022-02-27T13:57:15.526Z"
   },
   {
    "duration": 6,
    "start_time": "2022-02-27T13:57:15.531Z"
   },
   {
    "duration": 14,
    "start_time": "2022-02-27T13:57:15.538Z"
   },
   {
    "duration": 11,
    "start_time": "2022-02-27T13:57:15.554Z"
   },
   {
    "duration": 364,
    "start_time": "2022-02-27T13:57:15.577Z"
   },
   {
    "duration": 4,
    "start_time": "2022-02-27T13:57:39.401Z"
   },
   {
    "duration": 782,
    "start_time": "2022-02-27T13:57:39.407Z"
   },
   {
    "duration": 26,
    "start_time": "2022-02-27T13:57:40.191Z"
   },
   {
    "duration": 28,
    "start_time": "2022-02-27T13:57:40.219Z"
   },
   {
    "duration": 41,
    "start_time": "2022-02-27T13:57:40.249Z"
   },
   {
    "duration": 16,
    "start_time": "2022-02-27T13:57:40.291Z"
   },
   {
    "duration": 11,
    "start_time": "2022-02-27T13:57:40.309Z"
   },
   {
    "duration": 16,
    "start_time": "2022-02-27T13:57:40.322Z"
   },
   {
    "duration": 37,
    "start_time": "2022-02-27T13:57:40.340Z"
   },
   {
    "duration": 4,
    "start_time": "2022-02-27T13:57:40.379Z"
   },
   {
    "duration": 9,
    "start_time": "2022-02-27T13:57:40.385Z"
   },
   {
    "duration": 6,
    "start_time": "2022-02-27T13:57:40.395Z"
   },
   {
    "duration": 7,
    "start_time": "2022-02-27T13:57:40.403Z"
   },
   {
    "duration": 6,
    "start_time": "2022-02-27T13:57:40.412Z"
   },
   {
    "duration": 15,
    "start_time": "2022-02-27T13:57:40.420Z"
   },
   {
    "duration": 241,
    "start_time": "2022-02-27T13:57:40.437Z"
   },
   {
    "duration": 15,
    "start_time": "2022-02-27T13:57:40.680Z"
   },
   {
    "duration": 17,
    "start_time": "2022-02-27T13:57:40.697Z"
   },
   {
    "duration": 17,
    "start_time": "2022-02-27T13:57:40.717Z"
   },
   {
    "duration": 3897,
    "start_time": "2022-02-27T13:57:40.736Z"
   },
   {
    "duration": 613,
    "start_time": "2022-02-27T13:57:44.635Z"
   },
   {
    "duration": 3,
    "start_time": "2022-02-27T13:57:45.249Z"
   },
   {
    "duration": 15,
    "start_time": "2022-02-27T13:57:45.253Z"
   },
   {
    "duration": 23,
    "start_time": "2022-02-27T13:57:45.270Z"
   },
   {
    "duration": 991,
    "start_time": "2022-02-27T13:57:45.295Z"
   },
   {
    "duration": 4,
    "start_time": "2022-02-27T13:57:46.287Z"
   },
   {
    "duration": 17,
    "start_time": "2022-02-27T13:57:46.292Z"
   },
   {
    "duration": 10,
    "start_time": "2022-02-27T13:57:46.311Z"
   },
   {
    "duration": 17,
    "start_time": "2022-02-27T13:57:46.322Z"
   },
   {
    "duration": 382,
    "start_time": "2022-02-27T13:57:46.341Z"
   },
   {
    "duration": 317,
    "start_time": "2022-02-27T14:00:58.011Z"
   },
   {
    "duration": 1009,
    "start_time": "2022-02-27T14:16:09.797Z"
   },
   {
    "duration": 258,
    "start_time": "2022-02-27T14:30:13.849Z"
   },
   {
    "duration": 4,
    "start_time": "2022-02-27T14:30:21.646Z"
   },
   {
    "duration": 738,
    "start_time": "2022-02-27T14:30:21.652Z"
   },
   {
    "duration": 25,
    "start_time": "2022-02-27T14:30:22.392Z"
   },
   {
    "duration": 47,
    "start_time": "2022-02-27T14:30:22.419Z"
   },
   {
    "duration": 39,
    "start_time": "2022-02-27T14:30:22.468Z"
   },
   {
    "duration": 29,
    "start_time": "2022-02-27T14:30:22.509Z"
   },
   {
    "duration": 16,
    "start_time": "2022-02-27T14:30:22.540Z"
   },
   {
    "duration": 31,
    "start_time": "2022-02-27T14:30:22.558Z"
   },
   {
    "duration": 12,
    "start_time": "2022-02-27T14:30:22.591Z"
   },
   {
    "duration": 28,
    "start_time": "2022-02-27T14:30:22.604Z"
   },
   {
    "duration": 21,
    "start_time": "2022-02-27T14:30:22.634Z"
   },
   {
    "duration": 30,
    "start_time": "2022-02-27T14:30:22.657Z"
   },
   {
    "duration": 26,
    "start_time": "2022-02-27T14:30:22.688Z"
   },
   {
    "duration": 38,
    "start_time": "2022-02-27T14:30:22.716Z"
   },
   {
    "duration": 20,
    "start_time": "2022-02-27T14:30:22.755Z"
   },
   {
    "duration": 25,
    "start_time": "2022-02-27T14:30:22.777Z"
   },
   {
    "duration": 215,
    "start_time": "2022-02-27T14:30:22.804Z"
   },
   {
    "duration": 15,
    "start_time": "2022-02-27T14:30:23.020Z"
   },
   {
    "duration": 45,
    "start_time": "2022-02-27T14:30:23.038Z"
   },
   {
    "duration": 30,
    "start_time": "2022-02-27T14:30:23.085Z"
   },
   {
    "duration": 3762,
    "start_time": "2022-02-27T14:30:23.117Z"
   },
   {
    "duration": 747,
    "start_time": "2022-02-27T14:30:26.881Z"
   },
   {
    "duration": 3,
    "start_time": "2022-02-27T14:30:27.630Z"
   },
   {
    "duration": 13,
    "start_time": "2022-02-27T14:30:27.634Z"
   },
   {
    "duration": 3,
    "start_time": "2022-02-27T14:30:27.649Z"
   },
   {
    "duration": 978,
    "start_time": "2022-02-27T14:30:27.654Z"
   },
   {
    "duration": 4,
    "start_time": "2022-02-27T14:30:28.634Z"
   },
   {
    "duration": 13,
    "start_time": "2022-02-27T14:30:28.640Z"
   },
   {
    "duration": 13,
    "start_time": "2022-02-27T14:30:28.655Z"
   },
   {
    "duration": 836,
    "start_time": "2022-02-27T14:30:28.677Z"
   },
   {
    "duration": -742,
    "start_time": "2022-02-27T14:30:30.257Z"
   },
   {
    "duration": 294,
    "start_time": "2022-02-27T14:31:08.735Z"
   },
   {
    "duration": 8,
    "start_time": "2022-02-27T15:31:14.588Z"
   },
   {
    "duration": 286,
    "start_time": "2022-02-27T15:31:26.096Z"
   },
   {
    "duration": 321,
    "start_time": "2022-02-27T15:32:53.009Z"
   },
   {
    "duration": 306,
    "start_time": "2022-02-27T15:34:33.452Z"
   },
   {
    "duration": 10,
    "start_time": "2022-02-27T15:35:33.161Z"
   },
   {
    "duration": 5,
    "start_time": "2022-02-27T15:35:48.337Z"
   },
   {
    "duration": 33,
    "start_time": "2022-02-27T15:36:22.952Z"
   },
   {
    "duration": 9,
    "start_time": "2022-02-27T15:36:28.113Z"
   },
   {
    "duration": 280,
    "start_time": "2022-02-27T15:39:22.702Z"
   },
   {
    "duration": 268,
    "start_time": "2022-02-27T15:45:37.409Z"
   },
   {
    "duration": 263,
    "start_time": "2022-02-27T15:46:02.618Z"
   },
   {
    "duration": 1976,
    "start_time": "2022-02-27T15:46:11.818Z"
   },
   {
    "duration": 2193,
    "start_time": "2022-02-27T15:46:41.562Z"
   },
   {
    "duration": 262,
    "start_time": "2022-02-27T15:52:48.808Z"
   },
   {
    "duration": 4,
    "start_time": "2022-02-27T15:53:14.376Z"
   },
   {
    "duration": 293,
    "start_time": "2022-02-27T15:53:25.892Z"
   },
   {
    "duration": 28,
    "start_time": "2022-02-27T15:54:02.352Z"
   },
   {
    "duration": 267,
    "start_time": "2022-02-27T15:54:16.549Z"
   },
   {
    "duration": 3,
    "start_time": "2022-02-27T15:55:16.095Z"
   },
   {
    "duration": 26,
    "start_time": "2022-02-27T15:55:21.806Z"
   },
   {
    "duration": 3,
    "start_time": "2022-02-27T15:56:14.446Z"
   },
   {
    "duration": 315,
    "start_time": "2022-02-27T15:56:15.310Z"
   },
   {
    "duration": 1622,
    "start_time": "2022-02-27T15:58:38.956Z"
   },
   {
    "duration": 4,
    "start_time": "2022-02-27T16:05:43.622Z"
   },
   {
    "duration": 5,
    "start_time": "2022-02-27T16:10:16.830Z"
   },
   {
    "duration": 826,
    "start_time": "2022-02-27T16:13:08.501Z"
   },
   {
    "duration": 958,
    "start_time": "2022-02-27T16:13:45.366Z"
   },
   {
    "duration": 265,
    "start_time": "2022-02-27T16:17:14.393Z"
   },
   {
    "duration": 658,
    "start_time": "2022-02-27T16:17:22.799Z"
   },
   {
    "duration": 3,
    "start_time": "2022-02-27T16:18:47.838Z"
   },
   {
    "duration": 256,
    "start_time": "2022-02-27T16:18:53.933Z"
   },
   {
    "duration": 5,
    "start_time": "2022-02-27T16:19:04.238Z"
   },
   {
    "duration": 833,
    "start_time": "2022-02-27T16:19:04.245Z"
   },
   {
    "duration": 28,
    "start_time": "2022-02-27T16:19:05.080Z"
   },
   {
    "duration": 27,
    "start_time": "2022-02-27T16:19:05.110Z"
   },
   {
    "duration": 50,
    "start_time": "2022-02-27T16:19:05.139Z"
   },
   {
    "duration": 30,
    "start_time": "2022-02-27T16:19:05.191Z"
   },
   {
    "duration": 16,
    "start_time": "2022-02-27T16:19:05.224Z"
   },
   {
    "duration": 41,
    "start_time": "2022-02-27T16:19:05.244Z"
   },
   {
    "duration": 7,
    "start_time": "2022-02-27T16:19:05.288Z"
   },
   {
    "duration": 16,
    "start_time": "2022-02-27T16:19:05.298Z"
   },
   {
    "duration": 8,
    "start_time": "2022-02-27T16:19:05.316Z"
   },
   {
    "duration": 16,
    "start_time": "2022-02-27T16:19:05.326Z"
   },
   {
    "duration": 15,
    "start_time": "2022-02-27T16:19:05.344Z"
   },
   {
    "duration": 19,
    "start_time": "2022-02-27T16:19:05.361Z"
   },
   {
    "duration": 12,
    "start_time": "2022-02-27T16:19:05.382Z"
   },
   {
    "duration": 25,
    "start_time": "2022-02-27T16:19:05.396Z"
   },
   {
    "duration": 243,
    "start_time": "2022-02-27T16:19:05.424Z"
   },
   {
    "duration": 27,
    "start_time": "2022-02-27T16:19:05.669Z"
   },
   {
    "duration": 26,
    "start_time": "2022-02-27T16:19:05.700Z"
   },
   {
    "duration": 21,
    "start_time": "2022-02-27T16:19:05.728Z"
   },
   {
    "duration": 4029,
    "start_time": "2022-02-27T16:19:05.751Z"
   },
   {
    "duration": 668,
    "start_time": "2022-02-27T16:19:09.782Z"
   },
   {
    "duration": 3,
    "start_time": "2022-02-27T16:19:10.452Z"
   },
   {
    "duration": 11,
    "start_time": "2022-02-27T16:19:10.457Z"
   },
   {
    "duration": 3,
    "start_time": "2022-02-27T16:19:10.477Z"
   },
   {
    "duration": 1170,
    "start_time": "2022-02-27T16:19:10.482Z"
   },
   {
    "duration": 4,
    "start_time": "2022-02-27T16:19:11.654Z"
   },
   {
    "duration": 21,
    "start_time": "2022-02-27T16:19:11.660Z"
   },
   {
    "duration": 15,
    "start_time": "2022-02-27T16:19:11.683Z"
   },
   {
    "duration": 529,
    "start_time": "2022-02-27T16:19:11.701Z"
   },
   {
    "duration": -927,
    "start_time": "2022-02-27T16:19:13.159Z"
   },
   {
    "duration": -929,
    "start_time": "2022-02-27T16:19:13.162Z"
   },
   {
    "duration": -931,
    "start_time": "2022-02-27T16:19:13.165Z"
   },
   {
    "duration": -933,
    "start_time": "2022-02-27T16:19:13.168Z"
   },
   {
    "duration": -933,
    "start_time": "2022-02-27T16:19:13.170Z"
   },
   {
    "duration": 5,
    "start_time": "2022-02-27T16:19:25.487Z"
   },
   {
    "duration": 760,
    "start_time": "2022-02-27T16:19:25.494Z"
   },
   {
    "duration": 32,
    "start_time": "2022-02-27T16:19:26.256Z"
   },
   {
    "duration": 61,
    "start_time": "2022-02-27T16:19:26.290Z"
   },
   {
    "duration": 33,
    "start_time": "2022-02-27T16:19:26.353Z"
   },
   {
    "duration": 42,
    "start_time": "2022-02-27T16:19:26.388Z"
   },
   {
    "duration": 38,
    "start_time": "2022-02-27T16:19:26.432Z"
   },
   {
    "duration": 32,
    "start_time": "2022-02-27T16:19:26.473Z"
   },
   {
    "duration": 28,
    "start_time": "2022-02-27T16:19:26.507Z"
   },
   {
    "duration": 50,
    "start_time": "2022-02-27T16:19:26.536Z"
   },
   {
    "duration": 26,
    "start_time": "2022-02-27T16:19:26.588Z"
   },
   {
    "duration": 34,
    "start_time": "2022-02-27T16:19:26.616Z"
   },
   {
    "duration": 14,
    "start_time": "2022-02-27T16:19:26.652Z"
   },
   {
    "duration": 42,
    "start_time": "2022-02-27T16:19:26.668Z"
   },
   {
    "duration": 40,
    "start_time": "2022-02-27T16:19:26.712Z"
   },
   {
    "duration": 66,
    "start_time": "2022-02-27T16:19:26.754Z"
   },
   {
    "duration": 261,
    "start_time": "2022-02-27T16:19:26.822Z"
   },
   {
    "duration": 17,
    "start_time": "2022-02-27T16:19:27.085Z"
   },
   {
    "duration": 52,
    "start_time": "2022-02-27T16:19:27.105Z"
   },
   {
    "duration": 31,
    "start_time": "2022-02-27T16:19:27.160Z"
   },
   {
    "duration": 4088,
    "start_time": "2022-02-27T16:19:27.193Z"
   },
   {
    "duration": 669,
    "start_time": "2022-02-27T16:19:31.283Z"
   },
   {
    "duration": 3,
    "start_time": "2022-02-27T16:19:31.954Z"
   },
   {
    "duration": 45,
    "start_time": "2022-02-27T16:19:31.958Z"
   },
   {
    "duration": 33,
    "start_time": "2022-02-27T16:19:32.005Z"
   },
   {
    "duration": 1176,
    "start_time": "2022-02-27T16:19:32.040Z"
   },
   {
    "duration": 5,
    "start_time": "2022-02-27T16:19:33.218Z"
   },
   {
    "duration": 15,
    "start_time": "2022-02-27T16:19:33.224Z"
   },
   {
    "duration": 23,
    "start_time": "2022-02-27T16:19:33.240Z"
   },
   {
    "duration": 28,
    "start_time": "2022-02-27T16:19:33.264Z"
   },
   {
    "duration": 3192,
    "start_time": "2022-02-27T16:19:33.293Z"
   },
   {
    "duration": 94,
    "start_time": "2022-02-27T16:19:36.487Z"
   },
   {
    "duration": 3296,
    "start_time": "2022-02-27T16:19:36.583Z"
   },
   {
    "duration": 1461,
    "start_time": "2022-02-27T16:19:39.881Z"
   },
   {
    "duration": 2466,
    "start_time": "2022-02-27T16:30:00.412Z"
   },
   {
    "duration": 3,
    "start_time": "2022-02-27T16:31:11.930Z"
   },
   {
    "duration": 2293,
    "start_time": "2022-02-27T16:31:17.385Z"
   },
   {
    "duration": 4,
    "start_time": "2022-02-27T16:41:43.040Z"
   },
   {
    "duration": 704,
    "start_time": "2022-02-27T16:41:43.046Z"
   },
   {
    "duration": 28,
    "start_time": "2022-02-27T16:41:43.752Z"
   },
   {
    "duration": 39,
    "start_time": "2022-02-27T16:41:43.782Z"
   },
   {
    "duration": 36,
    "start_time": "2022-02-27T16:41:43.823Z"
   },
   {
    "duration": 42,
    "start_time": "2022-02-27T16:41:43.861Z"
   },
   {
    "duration": 15,
    "start_time": "2022-02-27T16:41:43.906Z"
   },
   {
    "duration": 32,
    "start_time": "2022-02-27T16:41:43.924Z"
   },
   {
    "duration": 11,
    "start_time": "2022-02-27T16:41:43.959Z"
   },
   {
    "duration": 14,
    "start_time": "2022-02-27T16:41:43.971Z"
   },
   {
    "duration": 31,
    "start_time": "2022-02-27T16:41:43.987Z"
   },
   {
    "duration": 11,
    "start_time": "2022-02-27T16:41:44.020Z"
   },
   {
    "duration": 28,
    "start_time": "2022-02-27T16:41:44.033Z"
   },
   {
    "duration": 20,
    "start_time": "2022-02-27T16:41:44.063Z"
   },
   {
    "duration": 24,
    "start_time": "2022-02-27T16:41:44.085Z"
   },
   {
    "duration": 39,
    "start_time": "2022-02-27T16:41:44.111Z"
   },
   {
    "duration": 214,
    "start_time": "2022-02-27T16:41:44.152Z"
   },
   {
    "duration": 21,
    "start_time": "2022-02-27T16:41:44.368Z"
   },
   {
    "duration": 40,
    "start_time": "2022-02-27T16:41:44.392Z"
   },
   {
    "duration": 17,
    "start_time": "2022-02-27T16:41:44.434Z"
   },
   {
    "duration": 3717,
    "start_time": "2022-02-27T16:41:44.453Z"
   },
   {
    "duration": 658,
    "start_time": "2022-02-27T16:41:48.172Z"
   },
   {
    "duration": 3,
    "start_time": "2022-02-27T16:41:48.832Z"
   },
   {
    "duration": 40,
    "start_time": "2022-02-27T16:41:48.836Z"
   },
   {
    "duration": 20,
    "start_time": "2022-02-27T16:41:48.878Z"
   },
   {
    "duration": 1084,
    "start_time": "2022-02-27T16:41:48.899Z"
   },
   {
    "duration": 3,
    "start_time": "2022-02-27T16:41:49.985Z"
   },
   {
    "duration": 10,
    "start_time": "2022-02-27T16:41:49.990Z"
   },
   {
    "duration": 13,
    "start_time": "2022-02-27T16:41:50.002Z"
   },
   {
    "duration": 10,
    "start_time": "2022-02-27T16:41:50.017Z"
   },
   {
    "duration": 1853,
    "start_time": "2022-02-27T16:41:50.029Z"
   },
   {
    "duration": 93,
    "start_time": "2022-02-27T16:41:51.884Z"
   },
   {
    "duration": 2701,
    "start_time": "2022-02-27T16:41:51.979Z"
   },
   {
    "duration": 1483,
    "start_time": "2022-02-27T16:41:54.682Z"
   },
   {
    "duration": 7,
    "start_time": "2022-02-27T16:53:43.457Z"
   },
   {
    "duration": 1418,
    "start_time": "2022-02-27T16:53:52.860Z"
   },
   {
    "duration": 1468,
    "start_time": "2022-02-27T16:56:11.111Z"
   },
   {
    "duration": 7,
    "start_time": "2022-02-27T16:57:32.596Z"
   },
   {
    "duration": 1333,
    "start_time": "2022-02-27T16:58:33.459Z"
   },
   {
    "duration": 328,
    "start_time": "2022-02-27T17:18:21.257Z"
   },
   {
    "duration": 12,
    "start_time": "2022-02-27T17:18:50.768Z"
   },
   {
    "duration": 17691,
    "start_time": "2022-02-27T17:18:58.637Z"
   },
   {
    "duration": 756,
    "start_time": "2022-02-27T17:19:44.876Z"
   },
   {
    "duration": 17923,
    "start_time": "2022-02-27T17:19:56.997Z"
   },
   {
    "duration": 4325,
    "start_time": "2022-02-27T17:33:10.034Z"
   },
   {
    "duration": 56630,
    "start_time": "2022-02-27T17:33:35.657Z"
   },
   {
    "duration": 364,
    "start_time": "2022-02-27T17:45:55.301Z"
   },
   {
    "duration": 262,
    "start_time": "2022-02-27T17:50:10.136Z"
   },
   {
    "duration": 6,
    "start_time": "2022-02-27T17:58:06.818Z"
   },
   {
    "duration": 724,
    "start_time": "2022-02-27T17:58:06.827Z"
   },
   {
    "duration": 30,
    "start_time": "2022-02-27T17:58:07.553Z"
   },
   {
    "duration": 29,
    "start_time": "2022-02-27T17:58:07.586Z"
   },
   {
    "duration": 28,
    "start_time": "2022-02-27T17:58:07.617Z"
   },
   {
    "duration": 42,
    "start_time": "2022-02-27T17:58:07.647Z"
   },
   {
    "duration": 12,
    "start_time": "2022-02-27T17:58:07.692Z"
   },
   {
    "duration": 18,
    "start_time": "2022-02-27T17:58:07.707Z"
   },
   {
    "duration": 6,
    "start_time": "2022-02-27T17:58:07.727Z"
   },
   {
    "duration": 44,
    "start_time": "2022-02-27T17:58:07.734Z"
   },
   {
    "duration": 22,
    "start_time": "2022-02-27T17:58:07.781Z"
   },
   {
    "duration": 24,
    "start_time": "2022-02-27T17:58:07.806Z"
   },
   {
    "duration": 8,
    "start_time": "2022-02-27T17:58:07.832Z"
   },
   {
    "duration": 7,
    "start_time": "2022-02-27T17:58:07.842Z"
   },
   {
    "duration": 7,
    "start_time": "2022-02-27T17:58:07.850Z"
   },
   {
    "duration": 17,
    "start_time": "2022-02-27T17:58:07.859Z"
   },
   {
    "duration": 237,
    "start_time": "2022-02-27T17:58:07.877Z"
   },
   {
    "duration": 20,
    "start_time": "2022-02-27T17:58:08.116Z"
   },
   {
    "duration": 18,
    "start_time": "2022-02-27T17:58:08.138Z"
   },
   {
    "duration": 45,
    "start_time": "2022-02-27T17:58:08.157Z"
   },
   {
    "duration": 6,
    "start_time": "2022-02-27T17:58:08.204Z"
   },
   {
    "duration": 3981,
    "start_time": "2022-02-27T17:58:08.212Z"
   },
   {
    "duration": 638,
    "start_time": "2022-02-27T17:58:12.197Z"
   },
   {
    "duration": 3,
    "start_time": "2022-02-27T17:58:12.837Z"
   },
   {
    "duration": 44,
    "start_time": "2022-02-27T17:58:12.842Z"
   },
   {
    "duration": 18,
    "start_time": "2022-02-27T17:58:12.888Z"
   },
   {
    "duration": 1131,
    "start_time": "2022-02-27T17:58:12.909Z"
   },
   {
    "duration": 3,
    "start_time": "2022-02-27T17:58:14.042Z"
   },
   {
    "duration": 39,
    "start_time": "2022-02-27T17:58:14.047Z"
   },
   {
    "duration": 308,
    "start_time": "2022-02-27T17:58:14.089Z"
   },
   {
    "duration": -1065,
    "start_time": "2022-02-27T17:58:15.464Z"
   },
   {
    "duration": -1066,
    "start_time": "2022-02-27T17:58:15.467Z"
   },
   {
    "duration": -1070,
    "start_time": "2022-02-27T17:58:15.472Z"
   },
   {
    "duration": -1073,
    "start_time": "2022-02-27T17:58:15.476Z"
   },
   {
    "duration": 4,
    "start_time": "2022-02-27T17:58:52.862Z"
   },
   {
    "duration": 742,
    "start_time": "2022-02-27T17:58:52.868Z"
   },
   {
    "duration": 30,
    "start_time": "2022-02-27T17:58:53.612Z"
   },
   {
    "duration": 42,
    "start_time": "2022-02-27T17:58:53.644Z"
   },
   {
    "duration": 35,
    "start_time": "2022-02-27T17:58:53.689Z"
   },
   {
    "duration": 15,
    "start_time": "2022-02-27T17:58:53.726Z"
   },
   {
    "duration": 42,
    "start_time": "2022-02-27T17:58:53.744Z"
   },
   {
    "duration": 25,
    "start_time": "2022-02-27T17:58:53.790Z"
   },
   {
    "duration": 6,
    "start_time": "2022-02-27T17:58:53.817Z"
   },
   {
    "duration": 6,
    "start_time": "2022-02-27T17:58:53.825Z"
   },
   {
    "duration": 5,
    "start_time": "2022-02-27T17:58:53.833Z"
   },
   {
    "duration": 41,
    "start_time": "2022-02-27T17:58:53.840Z"
   },
   {
    "duration": 11,
    "start_time": "2022-02-27T17:58:53.883Z"
   },
   {
    "duration": 8,
    "start_time": "2022-02-27T17:58:53.896Z"
   },
   {
    "duration": 7,
    "start_time": "2022-02-27T17:58:53.906Z"
   },
   {
    "duration": 17,
    "start_time": "2022-02-27T17:58:53.915Z"
   },
   {
    "duration": 298,
    "start_time": "2022-02-27T17:58:53.934Z"
   },
   {
    "duration": 16,
    "start_time": "2022-02-27T17:58:54.233Z"
   },
   {
    "duration": 33,
    "start_time": "2022-02-27T17:58:54.253Z"
   },
   {
    "duration": 17,
    "start_time": "2022-02-27T17:58:54.289Z"
   },
   {
    "duration": 6,
    "start_time": "2022-02-27T17:58:54.308Z"
   },
   {
    "duration": 3857,
    "start_time": "2022-02-27T17:58:54.315Z"
   },
   {
    "duration": 658,
    "start_time": "2022-02-27T17:58:58.175Z"
   },
   {
    "duration": 3,
    "start_time": "2022-02-27T17:58:58.836Z"
   },
   {
    "duration": 10,
    "start_time": "2022-02-27T17:58:58.841Z"
   },
   {
    "duration": 4,
    "start_time": "2022-02-27T17:58:58.853Z"
   },
   {
    "duration": 980,
    "start_time": "2022-02-27T17:58:58.858Z"
   },
   {
    "duration": 3,
    "start_time": "2022-02-27T17:58:59.840Z"
   },
   {
    "duration": 10,
    "start_time": "2022-02-27T17:58:59.845Z"
   },
   {
    "duration": 1522,
    "start_time": "2022-02-27T17:58:59.857Z"
   },
   {
    "duration": 11089,
    "start_time": "2022-02-27T17:59:01.382Z"
   },
   {
    "duration": 35773,
    "start_time": "2022-02-27T17:59:12.477Z"
   },
   {
    "duration": 576,
    "start_time": "2022-02-27T17:59:48.252Z"
   },
   {
    "duration": 5,
    "start_time": "2022-02-27T18:00:26.488Z"
   },
   {
    "duration": 258,
    "start_time": "2022-02-27T18:01:05.647Z"
   },
   {
    "duration": 4,
    "start_time": "2022-02-27T18:38:10.514Z"
   },
   {
    "duration": 726,
    "start_time": "2022-02-27T18:38:10.521Z"
   },
   {
    "duration": 28,
    "start_time": "2022-02-27T18:38:11.250Z"
   },
   {
    "duration": 26,
    "start_time": "2022-02-27T18:38:11.280Z"
   },
   {
    "duration": 25,
    "start_time": "2022-02-27T18:38:11.308Z"
   },
   {
    "duration": 51,
    "start_time": "2022-02-27T18:38:11.335Z"
   },
   {
    "duration": 16,
    "start_time": "2022-02-27T18:38:11.390Z"
   },
   {
    "duration": 18,
    "start_time": "2022-02-27T18:38:11.409Z"
   },
   {
    "duration": 5,
    "start_time": "2022-02-27T18:38:11.429Z"
   },
   {
    "duration": 12,
    "start_time": "2022-02-27T18:38:11.435Z"
   },
   {
    "duration": 31,
    "start_time": "2022-02-27T18:38:11.448Z"
   },
   {
    "duration": 4,
    "start_time": "2022-02-27T18:38:11.481Z"
   },
   {
    "duration": 5,
    "start_time": "2022-02-27T18:38:11.487Z"
   },
   {
    "duration": 6,
    "start_time": "2022-02-27T18:38:11.494Z"
   },
   {
    "duration": 8,
    "start_time": "2022-02-27T18:38:11.501Z"
   },
   {
    "duration": 41,
    "start_time": "2022-02-27T18:38:11.511Z"
   },
   {
    "duration": 224,
    "start_time": "2022-02-27T18:38:11.577Z"
   },
   {
    "duration": 15,
    "start_time": "2022-02-27T18:38:11.803Z"
   },
   {
    "duration": 48,
    "start_time": "2022-02-27T18:38:11.822Z"
   },
   {
    "duration": 17,
    "start_time": "2022-02-27T18:38:11.872Z"
   },
   {
    "duration": 16,
    "start_time": "2022-02-27T18:38:11.891Z"
   },
   {
    "duration": 3788,
    "start_time": "2022-02-27T18:38:11.909Z"
   },
   {
    "duration": 652,
    "start_time": "2022-02-27T18:38:15.699Z"
   },
   {
    "duration": 3,
    "start_time": "2022-02-27T18:38:16.353Z"
   },
   {
    "duration": 19,
    "start_time": "2022-02-27T18:38:16.358Z"
   },
   {
    "duration": 4,
    "start_time": "2022-02-27T18:38:16.379Z"
   },
   {
    "duration": 982,
    "start_time": "2022-02-27T18:38:16.385Z"
   },
   {
    "duration": 8,
    "start_time": "2022-02-27T18:38:17.369Z"
   },
   {
    "duration": 8,
    "start_time": "2022-02-27T18:38:17.379Z"
   },
   {
    "duration": 1092,
    "start_time": "2022-02-27T18:38:17.389Z"
   },
   {
    "duration": 10893,
    "start_time": "2022-02-27T18:38:18.484Z"
   },
   {
    "duration": 35357,
    "start_time": "2022-02-27T18:38:29.379Z"
   },
   {
    "duration": 585,
    "start_time": "2022-02-27T18:39:04.738Z"
   },
   {
    "duration": -1120,
    "start_time": "2022-02-27T18:39:06.445Z"
   },
   {
    "duration": 376,
    "start_time": "2022-02-27T18:39:56.769Z"
   },
   {
    "duration": 4,
    "start_time": "2022-02-27T18:40:12.307Z"
   },
   {
    "duration": 724,
    "start_time": "2022-02-27T18:40:12.313Z"
   },
   {
    "duration": 26,
    "start_time": "2022-02-27T18:40:13.040Z"
   },
   {
    "duration": 26,
    "start_time": "2022-02-27T18:40:13.077Z"
   },
   {
    "duration": 30,
    "start_time": "2022-02-27T18:40:13.105Z"
   },
   {
    "duration": 16,
    "start_time": "2022-02-27T18:40:13.137Z"
   },
   {
    "duration": 12,
    "start_time": "2022-02-27T18:40:13.177Z"
   },
   {
    "duration": 18,
    "start_time": "2022-02-27T18:40:13.191Z"
   },
   {
    "duration": 5,
    "start_time": "2022-02-27T18:40:13.211Z"
   },
   {
    "duration": 5,
    "start_time": "2022-02-27T18:40:13.218Z"
   },
   {
    "duration": 6,
    "start_time": "2022-02-27T18:40:13.225Z"
   },
   {
    "duration": 5,
    "start_time": "2022-02-27T18:40:13.233Z"
   },
   {
    "duration": 5,
    "start_time": "2022-02-27T18:40:13.278Z"
   },
   {
    "duration": 7,
    "start_time": "2022-02-27T18:40:13.285Z"
   },
   {
    "duration": 9,
    "start_time": "2022-02-27T18:40:13.294Z"
   },
   {
    "duration": 30,
    "start_time": "2022-02-27T18:40:13.305Z"
   },
   {
    "duration": 251,
    "start_time": "2022-02-27T18:40:13.337Z"
   },
   {
    "duration": 18,
    "start_time": "2022-02-27T18:40:13.590Z"
   },
   {
    "duration": 17,
    "start_time": "2022-02-27T18:40:13.610Z"
   },
   {
    "duration": 19,
    "start_time": "2022-02-27T18:40:13.629Z"
   },
   {
    "duration": 31,
    "start_time": "2022-02-27T18:40:13.649Z"
   },
   {
    "duration": 3840,
    "start_time": "2022-02-27T18:40:13.682Z"
   },
   {
    "duration": 608,
    "start_time": "2022-02-27T18:40:17.525Z"
   },
   {
    "duration": 3,
    "start_time": "2022-02-27T18:40:18.135Z"
   },
   {
    "duration": 11,
    "start_time": "2022-02-27T18:40:18.140Z"
   },
   {
    "duration": 6,
    "start_time": "2022-02-27T18:40:18.153Z"
   },
   {
    "duration": 990,
    "start_time": "2022-02-27T18:40:18.161Z"
   },
   {
    "duration": 3,
    "start_time": "2022-02-27T18:40:19.153Z"
   },
   {
    "duration": 22,
    "start_time": "2022-02-27T18:40:19.158Z"
   },
   {
    "duration": 997,
    "start_time": "2022-02-27T18:40:19.181Z"
   },
   {
    "duration": 10971,
    "start_time": "2022-02-27T18:40:20.181Z"
   },
   {
    "duration": 35031,
    "start_time": "2022-02-27T18:40:31.154Z"
   },
   {
    "duration": 12,
    "start_time": "2022-02-27T18:41:06.187Z"
   },
   {
    "duration": 4,
    "start_time": "2022-02-27T18:41:06.200Z"
   },
   {
    "duration": 6,
    "start_time": "2022-02-27T18:49:58.410Z"
   },
   {
    "duration": 217,
    "start_time": "2022-02-28T19:16:48.934Z"
   },
   {
    "duration": 1069,
    "start_time": "2022-02-28T19:16:53.397Z"
   },
   {
    "duration": 644,
    "start_time": "2022-02-28T19:16:54.468Z"
   },
   {
    "duration": 29,
    "start_time": "2022-02-28T19:16:55.114Z"
   },
   {
    "duration": 28,
    "start_time": "2022-02-28T19:16:55.145Z"
   },
   {
    "duration": 19,
    "start_time": "2022-02-28T19:16:55.175Z"
   },
   {
    "duration": 39,
    "start_time": "2022-02-28T19:16:55.196Z"
   },
   {
    "duration": 9,
    "start_time": "2022-02-28T19:16:55.237Z"
   },
   {
    "duration": 16,
    "start_time": "2022-02-28T19:16:55.249Z"
   },
   {
    "duration": 6,
    "start_time": "2022-02-28T19:16:55.266Z"
   },
   {
    "duration": 6,
    "start_time": "2022-02-28T19:16:55.274Z"
   },
   {
    "duration": 4,
    "start_time": "2022-02-28T19:16:55.282Z"
   },
   {
    "duration": 9,
    "start_time": "2022-02-28T19:16:55.287Z"
   },
   {
    "duration": 4,
    "start_time": "2022-02-28T19:16:55.333Z"
   },
   {
    "duration": 7,
    "start_time": "2022-02-28T19:16:55.339Z"
   },
   {
    "duration": 5,
    "start_time": "2022-02-28T19:16:55.348Z"
   },
   {
    "duration": 21,
    "start_time": "2022-02-28T19:16:55.354Z"
   },
   {
    "duration": 234,
    "start_time": "2022-02-28T19:16:55.376Z"
   },
   {
    "duration": 31,
    "start_time": "2022-02-28T19:16:55.611Z"
   },
   {
    "duration": 17,
    "start_time": "2022-02-28T19:16:55.643Z"
   },
   {
    "duration": 20,
    "start_time": "2022-02-28T19:16:55.662Z"
   },
   {
    "duration": 6,
    "start_time": "2022-02-28T19:16:55.684Z"
   },
   {
    "duration": 2973,
    "start_time": "2022-02-28T19:16:55.692Z"
   },
   {
    "duration": 816,
    "start_time": "2022-02-28T19:16:58.669Z"
   },
   {
    "duration": 3,
    "start_time": "2022-02-28T19:16:59.487Z"
   },
   {
    "duration": 14,
    "start_time": "2022-02-28T19:16:59.491Z"
   },
   {
    "duration": 4,
    "start_time": "2022-02-28T19:16:59.507Z"
   },
   {
    "duration": 968,
    "start_time": "2022-02-28T19:16:59.512Z"
   },
   {
    "duration": 3,
    "start_time": "2022-02-28T19:17:00.482Z"
   },
   {
    "duration": 10,
    "start_time": "2022-02-28T19:17:00.487Z"
   },
   {
    "duration": 16,
    "start_time": "2022-02-28T19:17:00.499Z"
   },
   {
    "duration": 311,
    "start_time": "2022-02-28T19:17:00.517Z"
   },
   {
    "duration": -249,
    "start_time": "2022-02-28T19:17:01.078Z"
   },
   {
    "duration": -266,
    "start_time": "2022-02-28T19:17:01.096Z"
   },
   {
    "duration": -288,
    "start_time": "2022-02-28T19:17:01.120Z"
   },
   {
    "duration": 269,
    "start_time": "2022-02-28T19:17:18.348Z"
   },
   {
    "duration": 3,
    "start_time": "2022-02-28T19:17:34.480Z"
   },
   {
    "duration": 738,
    "start_time": "2022-02-28T19:17:34.485Z"
   },
   {
    "duration": 24,
    "start_time": "2022-02-28T19:17:35.225Z"
   },
   {
    "duration": 22,
    "start_time": "2022-02-28T19:17:35.250Z"
   },
   {
    "duration": 22,
    "start_time": "2022-02-28T19:17:35.274Z"
   },
   {
    "duration": 39,
    "start_time": "2022-02-28T19:17:35.298Z"
   },
   {
    "duration": 10,
    "start_time": "2022-02-28T19:17:35.339Z"
   },
   {
    "duration": 15,
    "start_time": "2022-02-28T19:17:35.351Z"
   },
   {
    "duration": 4,
    "start_time": "2022-02-28T19:17:35.368Z"
   },
   {
    "duration": 10,
    "start_time": "2022-02-28T19:17:35.374Z"
   },
   {
    "duration": 9,
    "start_time": "2022-02-28T19:17:35.386Z"
   },
   {
    "duration": 36,
    "start_time": "2022-02-28T19:17:35.397Z"
   },
   {
    "duration": 4,
    "start_time": "2022-02-28T19:17:35.435Z"
   },
   {
    "duration": 8,
    "start_time": "2022-02-28T19:17:35.441Z"
   },
   {
    "duration": 6,
    "start_time": "2022-02-28T19:17:35.450Z"
   },
   {
    "duration": 20,
    "start_time": "2022-02-28T19:17:35.458Z"
   },
   {
    "duration": 224,
    "start_time": "2022-02-28T19:17:35.479Z"
   },
   {
    "duration": 28,
    "start_time": "2022-02-28T19:17:35.705Z"
   },
   {
    "duration": 18,
    "start_time": "2022-02-28T19:17:35.736Z"
   },
   {
    "duration": 23,
    "start_time": "2022-02-28T19:17:35.756Z"
   },
   {
    "duration": 6,
    "start_time": "2022-02-28T19:17:35.781Z"
   },
   {
    "duration": 2945,
    "start_time": "2022-02-28T19:17:35.788Z"
   },
   {
    "duration": 805,
    "start_time": "2022-02-28T19:17:38.734Z"
   },
   {
    "duration": 3,
    "start_time": "2022-02-28T19:17:39.540Z"
   },
   {
    "duration": 10,
    "start_time": "2022-02-28T19:17:39.545Z"
   },
   {
    "duration": 6,
    "start_time": "2022-02-28T19:17:39.557Z"
   },
   {
    "duration": 812,
    "start_time": "2022-02-28T19:17:39.564Z"
   },
   {
    "duration": 784,
    "start_time": "2022-02-28T19:17:40.377Z"
   },
   {
    "duration": -265,
    "start_time": "2022-02-28T19:17:41.428Z"
   },
   {
    "duration": -270,
    "start_time": "2022-02-28T19:17:41.434Z"
   },
   {
    "duration": -280,
    "start_time": "2022-02-28T19:17:41.445Z"
   },
   {
    "duration": -285,
    "start_time": "2022-02-28T19:17:41.451Z"
   },
   {
    "duration": -294,
    "start_time": "2022-02-28T19:17:41.461Z"
   },
   {
    "duration": -299,
    "start_time": "2022-02-28T19:17:41.467Z"
   },
   {
    "duration": 3,
    "start_time": "2022-02-28T19:32:29.858Z"
   },
   {
    "duration": 175,
    "start_time": "2022-02-28T19:33:48.109Z"
   },
   {
    "duration": 4878,
    "start_time": "2022-02-28T19:34:14.012Z"
   },
   {
    "duration": 3,
    "start_time": "2022-02-28T19:35:42.649Z"
   },
   {
    "duration": 181,
    "start_time": "2022-02-28T19:35:43.161Z"
   },
   {
    "duration": 3,
    "start_time": "2022-02-28T19:37:46.007Z"
   },
   {
    "duration": 201,
    "start_time": "2022-02-28T19:37:46.517Z"
   },
   {
    "duration": 3,
    "start_time": "2022-02-28T19:38:16.373Z"
   },
   {
    "duration": 177,
    "start_time": "2022-02-28T19:38:16.861Z"
   },
   {
    "duration": 61,
    "start_time": "2022-02-28T19:38:58.957Z"
   },
   {
    "duration": 2,
    "start_time": "2022-02-28T19:39:17.902Z"
   },
   {
    "duration": 28,
    "start_time": "2022-02-28T19:39:22.539Z"
   },
   {
    "duration": 194,
    "start_time": "2022-02-28T19:57:47.869Z"
   },
   {
    "duration": 4,
    "start_time": "2022-02-28T19:58:05.639Z"
   },
   {
    "duration": 708,
    "start_time": "2022-02-28T19:58:05.645Z"
   },
   {
    "duration": 19,
    "start_time": "2022-02-28T19:58:06.355Z"
   },
   {
    "duration": 23,
    "start_time": "2022-02-28T19:58:06.376Z"
   },
   {
    "duration": 38,
    "start_time": "2022-02-28T19:58:06.400Z"
   },
   {
    "duration": 20,
    "start_time": "2022-02-28T19:58:06.439Z"
   },
   {
    "duration": 8,
    "start_time": "2022-02-28T19:58:06.461Z"
   },
   {
    "duration": 15,
    "start_time": "2022-02-28T19:58:06.471Z"
   },
   {
    "duration": 5,
    "start_time": "2022-02-28T19:58:06.487Z"
   },
   {
    "duration": 8,
    "start_time": "2022-02-28T19:58:06.493Z"
   },
   {
    "duration": 4,
    "start_time": "2022-02-28T19:58:06.502Z"
   },
   {
    "duration": 5,
    "start_time": "2022-02-28T19:58:06.532Z"
   },
   {
    "duration": 8,
    "start_time": "2022-02-28T19:58:06.538Z"
   },
   {
    "duration": 7,
    "start_time": "2022-02-28T19:58:06.548Z"
   },
   {
    "duration": 7,
    "start_time": "2022-02-28T19:58:06.557Z"
   },
   {
    "duration": 24,
    "start_time": "2022-02-28T19:58:06.566Z"
   },
   {
    "duration": 218,
    "start_time": "2022-02-28T19:58:06.592Z"
   },
   {
    "duration": 22,
    "start_time": "2022-02-28T19:58:06.812Z"
   },
   {
    "duration": 17,
    "start_time": "2022-02-28T19:58:06.837Z"
   },
   {
    "duration": 19,
    "start_time": "2022-02-28T19:58:06.855Z"
   },
   {
    "duration": 5,
    "start_time": "2022-02-28T19:58:06.876Z"
   },
   {
    "duration": 3044,
    "start_time": "2022-02-28T19:58:06.882Z"
   },
   {
    "duration": 819,
    "start_time": "2022-02-28T19:58:09.927Z"
   },
   {
    "duration": 2,
    "start_time": "2022-02-28T19:58:10.748Z"
   },
   {
    "duration": 10,
    "start_time": "2022-02-28T19:58:10.752Z"
   },
   {
    "duration": 5,
    "start_time": "2022-02-28T19:58:10.764Z"
   },
   {
    "duration": 807,
    "start_time": "2022-02-28T19:58:10.770Z"
   },
   {
    "duration": 212,
    "start_time": "2022-02-28T19:58:11.579Z"
   },
   {
    "duration": -598,
    "start_time": "2022-02-28T19:58:12.393Z"
   },
   {
    "duration": -603,
    "start_time": "2022-02-28T19:58:12.399Z"
   },
   {
    "duration": -607,
    "start_time": "2022-02-28T19:58:12.404Z"
   },
   {
    "duration": -611,
    "start_time": "2022-02-28T19:58:12.409Z"
   },
   {
    "duration": -613,
    "start_time": "2022-02-28T19:58:12.413Z"
   },
   {
    "duration": -618,
    "start_time": "2022-02-28T19:58:12.419Z"
   },
   {
    "duration": 177,
    "start_time": "2022-02-28T19:58:40.313Z"
   },
   {
    "duration": 197,
    "start_time": "2022-02-28T19:58:47.777Z"
   },
   {
    "duration": 183,
    "start_time": "2022-02-28T19:59:17.753Z"
   },
   {
    "duration": 1572,
    "start_time": "2022-02-28T19:59:34.993Z"
   },
   {
    "duration": 12,
    "start_time": "2022-02-28T20:01:37.461Z"
   },
   {
    "duration": 3,
    "start_time": "2022-02-28T20:03:25.779Z"
   },
   {
    "duration": 225,
    "start_time": "2022-02-28T20:03:47.971Z"
   },
   {
    "duration": 4,
    "start_time": "2022-02-28T20:04:06.202Z"
   },
   {
    "duration": 675,
    "start_time": "2022-02-28T20:04:06.208Z"
   },
   {
    "duration": 19,
    "start_time": "2022-02-28T20:04:06.884Z"
   },
   {
    "duration": 31,
    "start_time": "2022-02-28T20:04:06.905Z"
   },
   {
    "duration": 22,
    "start_time": "2022-02-28T20:04:06.937Z"
   },
   {
    "duration": 16,
    "start_time": "2022-02-28T20:04:06.961Z"
   },
   {
    "duration": 9,
    "start_time": "2022-02-28T20:04:06.979Z"
   },
   {
    "duration": 44,
    "start_time": "2022-02-28T20:04:06.989Z"
   },
   {
    "duration": 7,
    "start_time": "2022-02-28T20:04:07.035Z"
   },
   {
    "duration": 8,
    "start_time": "2022-02-28T20:04:07.043Z"
   },
   {
    "duration": 9,
    "start_time": "2022-02-28T20:04:07.053Z"
   },
   {
    "duration": 6,
    "start_time": "2022-02-28T20:04:07.063Z"
   },
   {
    "duration": 7,
    "start_time": "2022-02-28T20:04:07.071Z"
   },
   {
    "duration": 8,
    "start_time": "2022-02-28T20:04:07.080Z"
   },
   {
    "duration": 6,
    "start_time": "2022-02-28T20:04:07.090Z"
   },
   {
    "duration": 53,
    "start_time": "2022-02-28T20:04:07.097Z"
   },
   {
    "duration": 206,
    "start_time": "2022-02-28T20:04:07.151Z"
   },
   {
    "duration": 14,
    "start_time": "2022-02-28T20:04:07.358Z"
   },
   {
    "duration": 15,
    "start_time": "2022-02-28T20:04:07.376Z"
   },
   {
    "duration": 15,
    "start_time": "2022-02-28T20:04:07.393Z"
   },
   {
    "duration": 6,
    "start_time": "2022-02-28T20:04:07.432Z"
   },
   {
    "duration": 2993,
    "start_time": "2022-02-28T20:04:07.439Z"
   },
   {
    "duration": 699,
    "start_time": "2022-02-28T20:04:10.434Z"
   },
   {
    "duration": 3,
    "start_time": "2022-02-28T20:04:11.135Z"
   },
   {
    "duration": 7,
    "start_time": "2022-02-28T20:04:11.140Z"
   },
   {
    "duration": 4,
    "start_time": "2022-02-28T20:04:11.149Z"
   },
   {
    "duration": 887,
    "start_time": "2022-02-28T20:04:11.155Z"
   },
   {
    "duration": 4,
    "start_time": "2022-02-28T20:04:12.044Z"
   },
   {
    "duration": 188,
    "start_time": "2022-02-28T20:04:12.049Z"
   },
   {
    "duration": -317,
    "start_time": "2022-02-28T20:04:12.555Z"
   },
   {
    "duration": -320,
    "start_time": "2022-02-28T20:04:12.559Z"
   },
   {
    "duration": -329,
    "start_time": "2022-02-28T20:04:12.569Z"
   },
   {
    "duration": -332,
    "start_time": "2022-02-28T20:04:12.573Z"
   },
   {
    "duration": -341,
    "start_time": "2022-02-28T20:04:12.583Z"
   },
   {
    "duration": -345,
    "start_time": "2022-02-28T20:04:12.588Z"
   },
   {
    "duration": -357,
    "start_time": "2022-02-28T20:04:12.600Z"
   },
   {
    "duration": 2,
    "start_time": "2022-02-28T20:04:58.280Z"
   },
   {
    "duration": 228,
    "start_time": "2022-02-28T20:04:58.639Z"
   },
   {
    "duration": 6,
    "start_time": "2022-03-01T15:16:50.783Z"
   },
   {
    "duration": 374,
    "start_time": "2022-03-01T15:16:52.185Z"
   },
   {
    "duration": 1434,
    "start_time": "2022-03-01T15:16:56.041Z"
   },
   {
    "duration": 867,
    "start_time": "2022-03-01T15:16:57.477Z"
   },
   {
    "duration": 40,
    "start_time": "2022-03-01T15:16:58.348Z"
   },
   {
    "duration": 62,
    "start_time": "2022-03-01T15:16:58.391Z"
   },
   {
    "duration": 32,
    "start_time": "2022-03-01T15:16:58.455Z"
   },
   {
    "duration": 23,
    "start_time": "2022-03-01T15:16:58.489Z"
   },
   {
    "duration": 45,
    "start_time": "2022-03-01T15:16:58.514Z"
   },
   {
    "duration": 25,
    "start_time": "2022-03-01T15:16:58.563Z"
   },
   {
    "duration": 10,
    "start_time": "2022-03-01T15:16:58.592Z"
   },
   {
    "duration": 11,
    "start_time": "2022-03-01T15:16:58.605Z"
   },
   {
    "duration": 35,
    "start_time": "2022-03-01T15:16:58.619Z"
   },
   {
    "duration": 6,
    "start_time": "2022-03-01T15:16:58.657Z"
   },
   {
    "duration": 6,
    "start_time": "2022-03-01T15:16:58.665Z"
   },
   {
    "duration": 7,
    "start_time": "2022-03-01T15:16:58.674Z"
   },
   {
    "duration": 8,
    "start_time": "2022-03-01T15:16:58.684Z"
   },
   {
    "duration": 86,
    "start_time": "2022-03-01T15:16:58.695Z"
   },
   {
    "duration": 401,
    "start_time": "2022-03-01T15:16:58.783Z"
   },
   {
    "duration": 19,
    "start_time": "2022-03-01T15:16:59.187Z"
   },
   {
    "duration": 48,
    "start_time": "2022-03-01T15:16:59.208Z"
   },
   {
    "duration": 29,
    "start_time": "2022-03-01T15:16:59.258Z"
   },
   {
    "duration": 10,
    "start_time": "2022-03-01T15:16:59.290Z"
   },
   {
    "duration": 6321,
    "start_time": "2022-03-01T15:16:59.304Z"
   },
   {
    "duration": 1251,
    "start_time": "2022-03-01T15:17:05.632Z"
   },
   {
    "duration": 4,
    "start_time": "2022-03-01T15:17:06.886Z"
   },
   {
    "duration": 10,
    "start_time": "2022-03-01T15:17:06.893Z"
   },
   {
    "duration": 5,
    "start_time": "2022-03-01T15:17:06.905Z"
   },
   {
    "duration": 1373,
    "start_time": "2022-03-01T15:17:06.912Z"
   },
   {
    "duration": 5,
    "start_time": "2022-03-01T15:17:08.287Z"
   },
   {
    "duration": 429,
    "start_time": "2022-03-01T15:17:08.295Z"
   },
   {
    "duration": -249,
    "start_time": "2022-03-01T15:17:08.977Z"
   },
   {
    "duration": -251,
    "start_time": "2022-03-01T15:17:08.981Z"
   },
   {
    "duration": -253,
    "start_time": "2022-03-01T15:17:08.985Z"
   },
   {
    "duration": -254,
    "start_time": "2022-03-01T15:17:08.988Z"
   },
   {
    "duration": -255,
    "start_time": "2022-03-01T15:17:08.991Z"
   },
   {
    "duration": -257,
    "start_time": "2022-03-01T15:17:08.995Z"
   },
   {
    "duration": -258,
    "start_time": "2022-03-01T15:17:08.999Z"
   },
   {
    "duration": 3,
    "start_time": "2022-03-01T15:17:58.425Z"
   },
   {
    "duration": 247,
    "start_time": "2022-03-01T15:17:58.807Z"
   },
   {
    "duration": 220,
    "start_time": "2022-03-01T15:20:37.339Z"
   },
   {
    "duration": 6968,
    "start_time": "2022-03-01T15:20:58.236Z"
   },
   {
    "duration": 6,
    "start_time": "2022-03-01T15:21:23.476Z"
   },
   {
    "duration": 2750,
    "start_time": "2022-03-01T15:21:39.298Z"
   },
   {
    "duration": 2776,
    "start_time": "2022-03-01T15:22:09.530Z"
   },
   {
    "duration": 2924,
    "start_time": "2022-03-01T15:22:28.722Z"
   },
   {
    "duration": 3382,
    "start_time": "2022-03-01T15:23:08.642Z"
   },
   {
    "duration": 6,
    "start_time": "2022-03-01T15:23:31.293Z"
   },
   {
    "duration": 881,
    "start_time": "2022-03-01T15:23:31.301Z"
   },
   {
    "duration": 34,
    "start_time": "2022-03-01T15:23:32.184Z"
   },
   {
    "duration": 55,
    "start_time": "2022-03-01T15:23:32.220Z"
   },
   {
    "duration": 33,
    "start_time": "2022-03-01T15:23:32.277Z"
   },
   {
    "duration": 49,
    "start_time": "2022-03-01T15:23:32.313Z"
   },
   {
    "duration": 15,
    "start_time": "2022-03-01T15:23:32.365Z"
   },
   {
    "duration": 25,
    "start_time": "2022-03-01T15:23:32.383Z"
   },
   {
    "duration": 7,
    "start_time": "2022-03-01T15:23:32.410Z"
   },
   {
    "duration": 39,
    "start_time": "2022-03-01T15:23:32.419Z"
   },
   {
    "duration": 11,
    "start_time": "2022-03-01T15:23:32.460Z"
   },
   {
    "duration": 10,
    "start_time": "2022-03-01T15:23:32.473Z"
   },
   {
    "duration": 9,
    "start_time": "2022-03-01T15:23:32.485Z"
   },
   {
    "duration": 6,
    "start_time": "2022-03-01T15:23:32.496Z"
   },
   {
    "duration": 8,
    "start_time": "2022-03-01T15:23:32.505Z"
   },
   {
    "duration": 62,
    "start_time": "2022-03-01T15:23:32.516Z"
   },
   {
    "duration": 377,
    "start_time": "2022-03-01T15:23:32.581Z"
   },
   {
    "duration": 20,
    "start_time": "2022-03-01T15:23:32.960Z"
   },
   {
    "duration": 23,
    "start_time": "2022-03-01T15:23:32.984Z"
   },
   {
    "duration": 48,
    "start_time": "2022-03-01T15:23:33.010Z"
   },
   {
    "duration": 6,
    "start_time": "2022-03-01T15:23:33.060Z"
   },
   {
    "duration": 5071,
    "start_time": "2022-03-01T15:23:33.069Z"
   },
   {
    "duration": 1056,
    "start_time": "2022-03-01T15:23:38.143Z"
   },
   {
    "duration": 4,
    "start_time": "2022-03-01T15:23:39.201Z"
   },
   {
    "duration": 8,
    "start_time": "2022-03-01T15:23:39.207Z"
   },
   {
    "duration": 4,
    "start_time": "2022-03-01T15:23:39.218Z"
   },
   {
    "duration": 1431,
    "start_time": "2022-03-01T15:23:39.224Z"
   },
   {
    "duration": 3,
    "start_time": "2022-03-01T15:23:40.657Z"
   },
   {
    "duration": 6,
    "start_time": "2022-03-01T15:23:40.662Z"
   },
   {
    "duration": 8,
    "start_time": "2022-03-01T15:23:40.671Z"
   },
   {
    "duration": 222,
    "start_time": "2022-03-01T15:23:40.681Z"
   },
   {
    "duration": -258,
    "start_time": "2022-03-01T15:23:41.164Z"
   },
   {
    "duration": -268,
    "start_time": "2022-03-01T15:23:41.176Z"
   },
   {
    "duration": -270,
    "start_time": "2022-03-01T15:23:41.180Z"
   },
   {
    "duration": 7,
    "start_time": "2022-03-01T15:24:01.159Z"
   },
   {
    "duration": 5,
    "start_time": "2022-03-01T15:24:34.975Z"
   },
   {
    "duration": 42,
    "start_time": "2022-03-01T15:24:39.678Z"
   },
   {
    "duration": 9,
    "start_time": "2022-03-01T15:25:00.968Z"
   },
   {
    "duration": 8,
    "start_time": "2022-03-01T15:25:11.787Z"
   },
   {
    "duration": 8,
    "start_time": "2022-03-01T15:25:23.604Z"
   },
   {
    "duration": 5595,
    "start_time": "2022-03-01T15:25:32.365Z"
   },
   {
    "duration": 5715,
    "start_time": "2022-03-01T15:25:48.772Z"
   },
   {
    "duration": 5668,
    "start_time": "2022-03-01T15:26:05.333Z"
   },
   {
    "duration": 6,
    "start_time": "2022-03-01T15:26:13.145Z"
   },
   {
    "duration": 849,
    "start_time": "2022-03-01T15:26:13.155Z"
   },
   {
    "duration": 46,
    "start_time": "2022-03-01T15:26:14.007Z"
   },
   {
    "duration": 35,
    "start_time": "2022-03-01T15:26:14.056Z"
   },
   {
    "duration": 33,
    "start_time": "2022-03-01T15:26:14.093Z"
   },
   {
    "duration": 21,
    "start_time": "2022-03-01T15:26:14.152Z"
   },
   {
    "duration": 14,
    "start_time": "2022-03-01T15:26:14.176Z"
   },
   {
    "duration": 23,
    "start_time": "2022-03-01T15:26:14.193Z"
   },
   {
    "duration": 7,
    "start_time": "2022-03-01T15:26:14.251Z"
   },
   {
    "duration": 6,
    "start_time": "2022-03-01T15:26:14.260Z"
   },
   {
    "duration": 4,
    "start_time": "2022-03-01T15:26:14.269Z"
   },
   {
    "duration": 5,
    "start_time": "2022-03-01T15:26:14.276Z"
   },
   {
    "duration": 4,
    "start_time": "2022-03-01T15:26:14.283Z"
   },
   {
    "duration": 5,
    "start_time": "2022-03-01T15:26:14.290Z"
   },
   {
    "duration": 54,
    "start_time": "2022-03-01T15:26:14.298Z"
   },
   {
    "duration": 29,
    "start_time": "2022-03-01T15:26:14.355Z"
   },
   {
    "duration": 363,
    "start_time": "2022-03-01T15:26:14.387Z"
   },
   {
    "duration": 19,
    "start_time": "2022-03-01T15:26:14.752Z"
   },
   {
    "duration": 21,
    "start_time": "2022-03-01T15:26:14.773Z"
   },
   {
    "duration": 21,
    "start_time": "2022-03-01T15:26:14.797Z"
   },
   {
    "duration": 35,
    "start_time": "2022-03-01T15:26:14.820Z"
   },
   {
    "duration": 5026,
    "start_time": "2022-03-01T15:26:14.858Z"
   },
   {
    "duration": 1036,
    "start_time": "2022-03-01T15:26:19.889Z"
   },
   {
    "duration": 4,
    "start_time": "2022-03-01T15:26:20.928Z"
   },
   {
    "duration": 20,
    "start_time": "2022-03-01T15:26:20.934Z"
   },
   {
    "duration": 5,
    "start_time": "2022-03-01T15:26:20.956Z"
   },
   {
    "duration": 1456,
    "start_time": "2022-03-01T15:26:20.963Z"
   },
   {
    "duration": 3,
    "start_time": "2022-03-01T15:26:22.421Z"
   },
   {
    "duration": 64,
    "start_time": "2022-03-01T15:26:22.427Z"
   },
   {
    "duration": 4,
    "start_time": "2022-03-01T15:26:22.494Z"
   },
   {
    "duration": 10,
    "start_time": "2022-03-01T15:26:22.501Z"
   },
   {
    "duration": 221,
    "start_time": "2022-03-01T15:26:22.514Z"
   },
   {
    "duration": -248,
    "start_time": "2022-03-01T15:26:22.985Z"
   },
   {
    "duration": -249,
    "start_time": "2022-03-01T15:26:22.988Z"
   },
   {
    "duration": -265,
    "start_time": "2022-03-01T15:26:23.006Z"
   },
   {
    "duration": 7,
    "start_time": "2022-03-01T15:26:34.507Z"
   },
   {
    "duration": 794,
    "start_time": "2022-03-01T15:26:34.517Z"
   },
   {
    "duration": 41,
    "start_time": "2022-03-01T15:26:35.314Z"
   },
   {
    "duration": 35,
    "start_time": "2022-03-01T15:26:35.358Z"
   },
   {
    "duration": 56,
    "start_time": "2022-03-01T15:26:35.395Z"
   },
   {
    "duration": 23,
    "start_time": "2022-03-01T15:26:35.454Z"
   },
   {
    "duration": 16,
    "start_time": "2022-03-01T15:26:35.480Z"
   },
   {
    "duration": 57,
    "start_time": "2022-03-01T15:26:35.498Z"
   },
   {
    "duration": 7,
    "start_time": "2022-03-01T15:26:35.557Z"
   },
   {
    "duration": 13,
    "start_time": "2022-03-01T15:26:35.567Z"
   },
   {
    "duration": 5,
    "start_time": "2022-03-01T15:26:35.583Z"
   },
   {
    "duration": 6,
    "start_time": "2022-03-01T15:26:35.591Z"
   },
   {
    "duration": 5,
    "start_time": "2022-03-01T15:26:35.599Z"
   },
   {
    "duration": 49,
    "start_time": "2022-03-01T15:26:35.606Z"
   },
   {
    "duration": 6,
    "start_time": "2022-03-01T15:26:35.658Z"
   },
   {
    "duration": 35,
    "start_time": "2022-03-01T15:26:35.667Z"
   },
   {
    "duration": 372,
    "start_time": "2022-03-01T15:26:35.704Z"
   },
   {
    "duration": 18,
    "start_time": "2022-03-01T15:26:36.078Z"
   },
   {
    "duration": 23,
    "start_time": "2022-03-01T15:26:36.101Z"
   },
   {
    "duration": 25,
    "start_time": "2022-03-01T15:26:36.150Z"
   },
   {
    "duration": 7,
    "start_time": "2022-03-01T15:26:36.177Z"
   },
   {
    "duration": 5082,
    "start_time": "2022-03-01T15:26:36.186Z"
   },
   {
    "duration": 1029,
    "start_time": "2022-03-01T15:26:41.270Z"
   },
   {
    "duration": 4,
    "start_time": "2022-03-01T15:26:42.301Z"
   },
   {
    "duration": 9,
    "start_time": "2022-03-01T15:26:42.307Z"
   },
   {
    "duration": 5,
    "start_time": "2022-03-01T15:26:42.319Z"
   },
   {
    "duration": 1437,
    "start_time": "2022-03-01T15:26:42.326Z"
   },
   {
    "duration": 3,
    "start_time": "2022-03-01T15:26:43.765Z"
   },
   {
    "duration": 22,
    "start_time": "2022-03-01T15:26:43.770Z"
   },
   {
    "duration": 5,
    "start_time": "2022-03-01T15:26:43.794Z"
   },
   {
    "duration": 11,
    "start_time": "2022-03-01T15:26:43.801Z"
   },
   {
    "duration": 204,
    "start_time": "2022-03-01T15:26:43.850Z"
   },
   {
    "duration": -260,
    "start_time": "2022-03-01T15:26:44.317Z"
   },
   {
    "duration": -262,
    "start_time": "2022-03-01T15:26:44.321Z"
   },
   {
    "duration": -263,
    "start_time": "2022-03-01T15:26:44.324Z"
   },
   {
    "duration": 1095,
    "start_time": "2022-03-02T17:59:27.042Z"
   },
   {
    "duration": 680,
    "start_time": "2022-03-02T17:59:28.139Z"
   },
   {
    "duration": 26,
    "start_time": "2022-03-02T17:59:28.821Z"
   },
   {
    "duration": 21,
    "start_time": "2022-03-02T17:59:28.849Z"
   },
   {
    "duration": 19,
    "start_time": "2022-03-02T17:59:28.872Z"
   },
   {
    "duration": 15,
    "start_time": "2022-03-02T17:59:28.893Z"
   },
   {
    "duration": 11,
    "start_time": "2022-03-02T17:59:28.938Z"
   },
   {
    "duration": 18,
    "start_time": "2022-03-02T17:59:28.952Z"
   },
   {
    "duration": 6,
    "start_time": "2022-03-02T17:59:28.973Z"
   },
   {
    "duration": 6,
    "start_time": "2022-03-02T17:59:28.981Z"
   },
   {
    "duration": 5,
    "start_time": "2022-03-02T17:59:28.988Z"
   },
   {
    "duration": 6,
    "start_time": "2022-03-02T17:59:28.995Z"
   },
   {
    "duration": 5,
    "start_time": "2022-03-02T17:59:29.038Z"
   },
   {
    "duration": 5,
    "start_time": "2022-03-02T17:59:29.045Z"
   },
   {
    "duration": 6,
    "start_time": "2022-03-02T17:59:29.051Z"
   },
   {
    "duration": 21,
    "start_time": "2022-03-02T17:59:29.059Z"
   },
   {
    "duration": 245,
    "start_time": "2022-03-02T17:59:29.082Z"
   },
   {
    "duration": 14,
    "start_time": "2022-03-02T17:59:29.338Z"
   },
   {
    "duration": 18,
    "start_time": "2022-03-02T17:59:29.354Z"
   },
   {
    "duration": 24,
    "start_time": "2022-03-02T17:59:29.374Z"
   },
   {
    "duration": 8,
    "start_time": "2022-03-02T17:59:29.400Z"
   },
   {
    "duration": 3237,
    "start_time": "2022-03-02T17:59:29.437Z"
   },
   {
    "duration": 657,
    "start_time": "2022-03-02T17:59:32.678Z"
   },
   {
    "duration": 3,
    "start_time": "2022-03-02T17:59:33.338Z"
   },
   {
    "duration": 6,
    "start_time": "2022-03-02T17:59:33.343Z"
   },
   {
    "duration": 4,
    "start_time": "2022-03-02T17:59:33.351Z"
   },
   {
    "duration": 829,
    "start_time": "2022-03-02T17:59:33.357Z"
   },
   {
    "duration": 2,
    "start_time": "2022-03-02T17:59:34.188Z"
   },
   {
    "duration": 4402,
    "start_time": "2022-03-02T17:59:34.192Z"
   },
   {
    "duration": -262,
    "start_time": "2022-03-02T17:59:38.858Z"
   },
   {
    "duration": -264,
    "start_time": "2022-03-02T17:59:38.861Z"
   },
   {
    "duration": -267,
    "start_time": "2022-03-02T17:59:38.865Z"
   },
   {
    "duration": -270,
    "start_time": "2022-03-02T17:59:38.868Z"
   },
   {
    "duration": -272,
    "start_time": "2022-03-02T17:59:38.871Z"
   },
   {
    "duration": -274,
    "start_time": "2022-03-02T17:59:38.874Z"
   },
   {
    "duration": 3,
    "start_time": "2022-03-02T17:59:53.575Z"
   },
   {
    "duration": 704,
    "start_time": "2022-03-02T17:59:53.580Z"
   },
   {
    "duration": 21,
    "start_time": "2022-03-02T17:59:54.286Z"
   },
   {
    "duration": 35,
    "start_time": "2022-03-02T17:59:54.309Z"
   },
   {
    "duration": 21,
    "start_time": "2022-03-02T17:59:54.346Z"
   },
   {
    "duration": 17,
    "start_time": "2022-03-02T17:59:54.369Z"
   },
   {
    "duration": 8,
    "start_time": "2022-03-02T17:59:54.389Z"
   },
   {
    "duration": 41,
    "start_time": "2022-03-02T17:59:54.399Z"
   },
   {
    "duration": 5,
    "start_time": "2022-03-02T17:59:54.442Z"
   },
   {
    "duration": 11,
    "start_time": "2022-03-02T17:59:54.448Z"
   },
   {
    "duration": 10,
    "start_time": "2022-03-02T17:59:54.460Z"
   },
   {
    "duration": 5,
    "start_time": "2022-03-02T17:59:54.471Z"
   },
   {
    "duration": 12,
    "start_time": "2022-03-02T17:59:54.477Z"
   },
   {
    "duration": 4,
    "start_time": "2022-03-02T17:59:54.491Z"
   },
   {
    "duration": 5,
    "start_time": "2022-03-02T17:59:54.497Z"
   },
   {
    "duration": 43,
    "start_time": "2022-03-02T17:59:54.503Z"
   },
   {
    "duration": 205,
    "start_time": "2022-03-02T17:59:54.548Z"
   },
   {
    "duration": 14,
    "start_time": "2022-03-02T17:59:54.754Z"
   },
   {
    "duration": 16,
    "start_time": "2022-03-02T17:59:54.771Z"
   },
   {
    "duration": 22,
    "start_time": "2022-03-02T17:59:54.789Z"
   },
   {
    "duration": 26,
    "start_time": "2022-03-02T17:59:54.813Z"
   },
   {
    "duration": 3161,
    "start_time": "2022-03-02T17:59:54.841Z"
   },
   {
    "duration": 536,
    "start_time": "2022-03-02T17:59:58.003Z"
   },
   {
    "duration": 2,
    "start_time": "2022-03-02T17:59:58.541Z"
   },
   {
    "duration": 8,
    "start_time": "2022-03-02T17:59:58.545Z"
   },
   {
    "duration": 4,
    "start_time": "2022-03-02T17:59:58.554Z"
   },
   {
    "duration": 930,
    "start_time": "2022-03-02T17:59:58.559Z"
   },
   {
    "duration": 2,
    "start_time": "2022-03-02T17:59:59.491Z"
   },
   {
    "duration": 4872,
    "start_time": "2022-03-02T17:59:59.495Z"
   },
   {
    "duration": -264,
    "start_time": "2022-03-02T18:00:04.633Z"
   },
   {
    "duration": -266,
    "start_time": "2022-03-02T18:00:04.636Z"
   },
   {
    "duration": -268,
    "start_time": "2022-03-02T18:00:04.639Z"
   },
   {
    "duration": -270,
    "start_time": "2022-03-02T18:00:04.642Z"
   },
   {
    "duration": -272,
    "start_time": "2022-03-02T18:00:04.645Z"
   },
   {
    "duration": -275,
    "start_time": "2022-03-02T18:00:04.649Z"
   },
   {
    "duration": 4921,
    "start_time": "2022-03-02T18:01:29.733Z"
   },
   {
    "duration": 3,
    "start_time": "2022-03-02T18:03:41.245Z"
   },
   {
    "duration": 175,
    "start_time": "2022-03-02T18:03:42.771Z"
   },
   {
    "duration": 184,
    "start_time": "2022-03-02T18:04:41.987Z"
   },
   {
    "duration": 178,
    "start_time": "2022-03-02T18:04:58.659Z"
   },
   {
    "duration": 3,
    "start_time": "2022-03-02T18:05:10.330Z"
   },
   {
    "duration": 188,
    "start_time": "2022-03-02T18:05:10.977Z"
   },
   {
    "duration": 2,
    "start_time": "2022-03-02T18:05:25.482Z"
   },
   {
    "duration": 174,
    "start_time": "2022-03-02T18:05:25.841Z"
   },
   {
    "duration": 3,
    "start_time": "2022-03-02T18:05:34.272Z"
   },
   {
    "duration": 11,
    "start_time": "2022-03-02T18:05:34.626Z"
   },
   {
    "duration": 34,
    "start_time": "2022-03-02T18:05:40.177Z"
   },
   {
    "duration": 37,
    "start_time": "2022-03-02T18:07:49.284Z"
   },
   {
    "duration": 44,
    "start_time": "2022-03-02T18:09:44.282Z"
   },
   {
    "duration": 260,
    "start_time": "2022-03-02T18:17:12.716Z"
   },
   {
    "duration": 3,
    "start_time": "2022-03-02T18:17:16.873Z"
   },
   {
    "duration": 74,
    "start_time": "2022-03-02T18:17:17.325Z"
   },
   {
    "duration": 4571,
    "start_time": "2022-03-02T18:19:03.257Z"
   },
   {
    "duration": 4580,
    "start_time": "2022-03-02T18:20:46.282Z"
   },
   {
    "duration": 4458,
    "start_time": "2022-03-02T18:21:33.697Z"
   },
   {
    "duration": 44,
    "start_time": "2022-03-02T18:21:46.361Z"
   },
   {
    "duration": 2,
    "start_time": "2022-03-02T18:24:50.890Z"
   },
   {
    "duration": 46,
    "start_time": "2022-03-02T18:24:51.268Z"
   },
   {
    "duration": 4,
    "start_time": "2022-03-02T18:27:10.393Z"
   },
   {
    "duration": 750,
    "start_time": "2022-03-02T18:27:10.399Z"
   },
   {
    "duration": 22,
    "start_time": "2022-03-02T18:27:11.152Z"
   },
   {
    "duration": 22,
    "start_time": "2022-03-02T18:27:11.176Z"
   },
   {
    "duration": 39,
    "start_time": "2022-03-02T18:27:11.200Z"
   },
   {
    "duration": 19,
    "start_time": "2022-03-02T18:27:11.242Z"
   },
   {
    "duration": 11,
    "start_time": "2022-03-02T18:27:11.263Z"
   },
   {
    "duration": 16,
    "start_time": "2022-03-02T18:27:11.276Z"
   },
   {
    "duration": 5,
    "start_time": "2022-03-02T18:27:11.293Z"
   },
   {
    "duration": 14,
    "start_time": "2022-03-02T18:27:11.300Z"
   },
   {
    "duration": 6,
    "start_time": "2022-03-02T18:27:11.342Z"
   },
   {
    "duration": 15,
    "start_time": "2022-03-02T18:27:11.350Z"
   },
   {
    "duration": 11,
    "start_time": "2022-03-02T18:27:11.367Z"
   },
   {
    "duration": 8,
    "start_time": "2022-03-02T18:27:11.380Z"
   },
   {
    "duration": 13,
    "start_time": "2022-03-02T18:27:11.389Z"
   },
   {
    "duration": 46,
    "start_time": "2022-03-02T18:27:11.404Z"
   },
   {
    "duration": 219,
    "start_time": "2022-03-02T18:27:11.452Z"
   },
   {
    "duration": 15,
    "start_time": "2022-03-02T18:27:11.673Z"
   },
   {
    "duration": 20,
    "start_time": "2022-03-02T18:27:11.691Z"
   },
   {
    "duration": 47,
    "start_time": "2022-03-02T18:27:11.713Z"
   },
   {
    "duration": 5,
    "start_time": "2022-03-02T18:27:11.762Z"
   },
   {
    "duration": 3483,
    "start_time": "2022-03-02T18:27:11.769Z"
   },
   {
    "duration": 607,
    "start_time": "2022-03-02T18:27:15.254Z"
   },
   {
    "duration": 2,
    "start_time": "2022-03-02T18:27:15.863Z"
   },
   {
    "duration": 8,
    "start_time": "2022-03-02T18:27:15.867Z"
   },
   {
    "duration": 3,
    "start_time": "2022-03-02T18:27:15.877Z"
   },
   {
    "duration": 1111,
    "start_time": "2022-03-02T18:27:15.882Z"
   },
   {
    "duration": 2,
    "start_time": "2022-03-02T18:27:16.995Z"
   },
   {
    "duration": 21,
    "start_time": "2022-03-02T18:27:16.999Z"
   },
   {
    "duration": 68,
    "start_time": "2022-03-02T18:27:17.022Z"
   },
   {
    "duration": 4,
    "start_time": "2022-03-02T18:27:17.091Z"
   },
   {
    "duration": 9,
    "start_time": "2022-03-02T18:27:17.096Z"
   },
   {
    "duration": 185,
    "start_time": "2022-03-02T18:27:17.107Z"
   },
   {
    "duration": -264,
    "start_time": "2022-03-02T18:27:17.557Z"
   },
   {
    "duration": -274,
    "start_time": "2022-03-02T18:27:17.568Z"
   },
   {
    "duration": -276,
    "start_time": "2022-03-02T18:27:17.571Z"
   },
   {
    "duration": 4,
    "start_time": "2022-03-02T18:28:43.467Z"
   },
   {
    "duration": 704,
    "start_time": "2022-03-02T18:28:43.473Z"
   },
   {
    "duration": 23,
    "start_time": "2022-03-02T18:28:44.179Z"
   },
   {
    "duration": 23,
    "start_time": "2022-03-02T18:28:44.204Z"
   },
   {
    "duration": 28,
    "start_time": "2022-03-02T18:28:44.238Z"
   },
   {
    "duration": 20,
    "start_time": "2022-03-02T18:28:44.268Z"
   },
   {
    "duration": 10,
    "start_time": "2022-03-02T18:28:44.290Z"
   },
   {
    "duration": 50,
    "start_time": "2022-03-02T18:28:44.301Z"
   },
   {
    "duration": 5,
    "start_time": "2022-03-02T18:28:44.353Z"
   },
   {
    "duration": 6,
    "start_time": "2022-03-02T18:28:44.359Z"
   },
   {
    "duration": 9,
    "start_time": "2022-03-02T18:28:44.366Z"
   },
   {
    "duration": 11,
    "start_time": "2022-03-02T18:28:44.377Z"
   },
   {
    "duration": 5,
    "start_time": "2022-03-02T18:28:44.390Z"
   },
   {
    "duration": 6,
    "start_time": "2022-03-02T18:28:44.396Z"
   },
   {
    "duration": 6,
    "start_time": "2022-03-02T18:28:44.403Z"
   },
   {
    "duration": 38,
    "start_time": "2022-03-02T18:28:44.411Z"
   },
   {
    "duration": 221,
    "start_time": "2022-03-02T18:28:44.452Z"
   },
   {
    "duration": 15,
    "start_time": "2022-03-02T18:28:44.675Z"
   },
   {
    "duration": 19,
    "start_time": "2022-03-02T18:28:44.693Z"
   },
   {
    "duration": 45,
    "start_time": "2022-03-02T18:28:44.714Z"
   },
   {
    "duration": 6,
    "start_time": "2022-03-02T18:28:44.761Z"
   },
   {
    "duration": 3438,
    "start_time": "2022-03-02T18:28:44.769Z"
   },
   {
    "duration": 552,
    "start_time": "2022-03-02T18:28:48.209Z"
   },
   {
    "duration": 2,
    "start_time": "2022-03-02T18:28:48.762Z"
   },
   {
    "duration": 9,
    "start_time": "2022-03-02T18:28:48.766Z"
   },
   {
    "duration": 3,
    "start_time": "2022-03-02T18:28:48.777Z"
   },
   {
    "duration": 1013,
    "start_time": "2022-03-02T18:28:48.781Z"
   },
   {
    "duration": 1,
    "start_time": "2022-03-02T18:28:49.796Z"
   },
   {
    "duration": 6,
    "start_time": "2022-03-02T18:28:49.799Z"
   },
   {
    "duration": 64,
    "start_time": "2022-03-02T18:28:49.806Z"
   },
   {
    "duration": 5,
    "start_time": "2022-03-02T18:28:49.871Z"
   },
   {
    "duration": 8,
    "start_time": "2022-03-02T18:28:49.878Z"
   },
   {
    "duration": 190,
    "start_time": "2022-03-02T18:28:49.887Z"
   },
   {
    "duration": -277,
    "start_time": "2022-03-02T18:28:50.357Z"
   },
   {
    "duration": -280,
    "start_time": "2022-03-02T18:28:50.361Z"
   },
   {
    "duration": -281,
    "start_time": "2022-03-02T18:28:50.364Z"
   },
   {
    "duration": 4,
    "start_time": "2022-03-02T18:54:36.698Z"
   },
   {
    "duration": 705,
    "start_time": "2022-03-02T18:54:36.704Z"
   },
   {
    "duration": 27,
    "start_time": "2022-03-02T18:54:37.411Z"
   },
   {
    "duration": 21,
    "start_time": "2022-03-02T18:54:37.440Z"
   },
   {
    "duration": 23,
    "start_time": "2022-03-02T18:54:37.463Z"
   },
   {
    "duration": 20,
    "start_time": "2022-03-02T18:54:37.487Z"
   },
   {
    "duration": 34,
    "start_time": "2022-03-02T18:54:37.509Z"
   },
   {
    "duration": 24,
    "start_time": "2022-03-02T18:54:37.545Z"
   },
   {
    "duration": 5,
    "start_time": "2022-03-02T18:54:37.570Z"
   },
   {
    "duration": 11,
    "start_time": "2022-03-02T18:54:37.576Z"
   },
   {
    "duration": 9,
    "start_time": "2022-03-02T18:54:37.589Z"
   },
   {
    "duration": 11,
    "start_time": "2022-03-02T18:54:37.599Z"
   },
   {
    "duration": 8,
    "start_time": "2022-03-02T18:54:37.611Z"
   },
   {
    "duration": 18,
    "start_time": "2022-03-02T18:54:37.621Z"
   },
   {
    "duration": 9,
    "start_time": "2022-03-02T18:54:37.641Z"
   },
   {
    "duration": 21,
    "start_time": "2022-03-02T18:54:37.652Z"
   },
   {
    "duration": 3,
    "start_time": "2022-03-02T18:54:37.674Z"
   },
   {
    "duration": 232,
    "start_time": "2022-03-02T18:54:37.679Z"
   },
   {
    "duration": 28,
    "start_time": "2022-03-02T18:54:37.914Z"
   },
   {
    "duration": 18,
    "start_time": "2022-03-02T18:54:37.944Z"
   },
   {
    "duration": 20,
    "start_time": "2022-03-02T18:54:37.964Z"
   },
   {
    "duration": 5,
    "start_time": "2022-03-02T18:54:37.985Z"
   },
   {
    "duration": 3232,
    "start_time": "2022-03-02T18:54:37.992Z"
   },
   {
    "duration": 549,
    "start_time": "2022-03-02T18:54:41.226Z"
   },
   {
    "duration": 4,
    "start_time": "2022-03-02T18:54:41.777Z"
   },
   {
    "duration": 7,
    "start_time": "2022-03-02T18:54:41.783Z"
   },
   {
    "duration": 7,
    "start_time": "2022-03-02T18:54:41.792Z"
   },
   {
    "duration": 857,
    "start_time": "2022-03-02T18:54:41.800Z"
   },
   {
    "duration": 4,
    "start_time": "2022-03-02T18:54:42.659Z"
   },
   {
    "duration": 52,
    "start_time": "2022-03-02T18:54:42.665Z"
   },
   {
    "duration": 3,
    "start_time": "2022-03-02T18:54:42.719Z"
   },
   {
    "duration": 15,
    "start_time": "2022-03-02T18:54:42.723Z"
   },
   {
    "duration": 1904,
    "start_time": "2022-03-02T18:54:42.739Z"
   },
   {
    "duration": 15725,
    "start_time": "2022-03-02T18:54:44.645Z"
   },
   {
    "duration": 51041,
    "start_time": "2022-03-02T18:55:00.372Z"
   },
   {
    "duration": 11,
    "start_time": "2022-03-02T18:55:51.415Z"
   },
   {
    "duration": 183,
    "start_time": "2022-03-02T19:14:34.173Z"
   },
   {
    "duration": 3,
    "start_time": "2022-03-02T19:14:38.613Z"
   },
   {
    "duration": 680,
    "start_time": "2022-03-02T19:14:38.618Z"
   },
   {
    "duration": 22,
    "start_time": "2022-03-02T19:14:39.300Z"
   },
   {
    "duration": 31,
    "start_time": "2022-03-02T19:14:39.324Z"
   },
   {
    "duration": 20,
    "start_time": "2022-03-02T19:14:39.357Z"
   },
   {
    "duration": 16,
    "start_time": "2022-03-02T19:14:39.378Z"
   },
   {
    "duration": 43,
    "start_time": "2022-03-02T19:14:39.396Z"
   },
   {
    "duration": 15,
    "start_time": "2022-03-02T19:14:39.441Z"
   },
   {
    "duration": 4,
    "start_time": "2022-03-02T19:14:39.458Z"
   },
   {
    "duration": 6,
    "start_time": "2022-03-02T19:14:39.463Z"
   },
   {
    "duration": 7,
    "start_time": "2022-03-02T19:14:39.470Z"
   },
   {
    "duration": 6,
    "start_time": "2022-03-02T19:14:39.478Z"
   },
   {
    "duration": 4,
    "start_time": "2022-03-02T19:14:39.486Z"
   },
   {
    "duration": 4,
    "start_time": "2022-03-02T19:14:39.492Z"
   },
   {
    "duration": 5,
    "start_time": "2022-03-02T19:14:39.538Z"
   },
   {
    "duration": 25,
    "start_time": "2022-03-02T19:14:39.545Z"
   },
   {
    "duration": 4,
    "start_time": "2022-03-02T19:14:39.571Z"
   },
   {
    "duration": 213,
    "start_time": "2022-03-02T19:14:39.576Z"
   },
   {
    "duration": 14,
    "start_time": "2022-03-02T19:14:39.792Z"
   },
   {
    "duration": 33,
    "start_time": "2022-03-02T19:14:39.809Z"
   },
   {
    "duration": 20,
    "start_time": "2022-03-02T19:14:39.844Z"
   },
   {
    "duration": 6,
    "start_time": "2022-03-02T19:14:39.865Z"
   },
   {
    "duration": 3246,
    "start_time": "2022-03-02T19:14:39.872Z"
   },
   {
    "duration": 506,
    "start_time": "2022-03-02T19:14:43.120Z"
   },
   {
    "duration": 3,
    "start_time": "2022-03-02T19:14:43.627Z"
   },
   {
    "duration": 9,
    "start_time": "2022-03-02T19:14:43.631Z"
   },
   {
    "duration": 7,
    "start_time": "2022-03-02T19:14:43.641Z"
   },
   {
    "duration": 843,
    "start_time": "2022-03-02T19:14:43.650Z"
   },
   {
    "duration": 3,
    "start_time": "2022-03-02T19:14:44.495Z"
   },
   {
    "duration": 63,
    "start_time": "2022-03-02T19:14:44.499Z"
   },
   {
    "duration": 3,
    "start_time": "2022-03-02T19:14:44.563Z"
   },
   {
    "duration": 10,
    "start_time": "2022-03-02T19:14:44.568Z"
   },
   {
    "duration": 1658,
    "start_time": "2022-03-02T19:14:44.580Z"
   },
   {
    "duration": 15847,
    "start_time": "2022-03-02T19:14:46.239Z"
   },
   {
    "duration": 51871,
    "start_time": "2022-03-02T19:15:02.088Z"
   },
   {
    "duration": 12,
    "start_time": "2022-03-02T19:15:53.961Z"
   },
   {
    "duration": 12,
    "start_time": "2022-03-02T19:15:53.974Z"
   },
   {
    "duration": 17,
    "start_time": "2022-03-02T19:19:01.386Z"
   },
   {
    "duration": 12,
    "start_time": "2022-03-02T19:19:03.073Z"
   },
   {
    "duration": 12,
    "start_time": "2022-03-02T19:19:51.080Z"
   },
   {
    "duration": 12,
    "start_time": "2022-03-02T19:19:51.808Z"
   },
   {
    "duration": 4,
    "start_time": "2022-03-02T19:24:09.116Z"
   },
   {
    "duration": 723,
    "start_time": "2022-03-02T19:24:09.122Z"
   },
   {
    "duration": 23,
    "start_time": "2022-03-02T19:24:09.847Z"
   },
   {
    "duration": 26,
    "start_time": "2022-03-02T19:24:09.872Z"
   },
   {
    "duration": 42,
    "start_time": "2022-03-02T19:24:09.899Z"
   },
   {
    "duration": 23,
    "start_time": "2022-03-02T19:24:09.943Z"
   },
   {
    "duration": 10,
    "start_time": "2022-03-02T19:24:09.967Z"
   },
   {
    "duration": 16,
    "start_time": "2022-03-02T19:24:09.979Z"
   },
   {
    "duration": 5,
    "start_time": "2022-03-02T19:24:09.997Z"
   },
   {
    "duration": 36,
    "start_time": "2022-03-02T19:24:10.003Z"
   },
   {
    "duration": 10,
    "start_time": "2022-03-02T19:24:10.041Z"
   },
   {
    "duration": 12,
    "start_time": "2022-03-02T19:24:10.053Z"
   },
   {
    "duration": 5,
    "start_time": "2022-03-02T19:24:10.067Z"
   },
   {
    "duration": 9,
    "start_time": "2022-03-02T19:24:10.074Z"
   },
   {
    "duration": 4,
    "start_time": "2022-03-02T19:24:10.085Z"
   },
   {
    "duration": 52,
    "start_time": "2022-03-02T19:24:10.091Z"
   },
   {
    "duration": 4,
    "start_time": "2022-03-02T19:24:10.144Z"
   },
   {
    "duration": 214,
    "start_time": "2022-03-02T19:24:10.150Z"
   },
   {
    "duration": 14,
    "start_time": "2022-03-02T19:24:10.366Z"
   },
   {
    "duration": 19,
    "start_time": "2022-03-02T19:24:10.382Z"
   },
   {
    "duration": 47,
    "start_time": "2022-03-02T19:24:10.403Z"
   },
   {
    "duration": 7,
    "start_time": "2022-03-02T19:24:10.452Z"
   },
   {
    "duration": 3335,
    "start_time": "2022-03-02T19:24:10.463Z"
   },
   {
    "duration": 643,
    "start_time": "2022-03-02T19:24:13.800Z"
   },
   {
    "duration": 3,
    "start_time": "2022-03-02T19:24:14.445Z"
   },
   {
    "duration": 8,
    "start_time": "2022-03-02T19:24:14.450Z"
   },
   {
    "duration": 7,
    "start_time": "2022-03-02T19:24:14.459Z"
   },
   {
    "duration": 928,
    "start_time": "2022-03-02T19:24:14.468Z"
   },
   {
    "duration": 3,
    "start_time": "2022-03-02T19:24:15.398Z"
   },
   {
    "duration": 69,
    "start_time": "2022-03-02T19:24:15.402Z"
   },
   {
    "duration": 3,
    "start_time": "2022-03-02T19:24:15.473Z"
   },
   {
    "duration": 10,
    "start_time": "2022-03-02T19:24:15.478Z"
   },
   {
    "duration": 1660,
    "start_time": "2022-03-02T19:24:15.489Z"
   },
   {
    "duration": 15960,
    "start_time": "2022-03-02T19:24:17.152Z"
   },
   {
    "duration": 51511,
    "start_time": "2022-03-02T19:24:33.114Z"
   },
   {
    "duration": 16,
    "start_time": "2022-03-02T19:25:24.627Z"
   },
   {
    "duration": 12,
    "start_time": "2022-03-02T19:25:24.645Z"
   },
   {
    "duration": 12,
    "start_time": "2022-03-02T19:25:49.864Z"
   },
   {
    "duration": 13,
    "start_time": "2022-03-02T19:26:00.495Z"
   },
   {
    "duration": 4,
    "start_time": "2022-03-02T19:26:54.778Z"
   },
   {
    "duration": 706,
    "start_time": "2022-03-02T19:26:54.784Z"
   },
   {
    "duration": 22,
    "start_time": "2022-03-02T19:26:55.492Z"
   },
   {
    "duration": 33,
    "start_time": "2022-03-02T19:26:55.516Z"
   },
   {
    "duration": 24,
    "start_time": "2022-03-02T19:26:55.550Z"
   },
   {
    "duration": 18,
    "start_time": "2022-03-02T19:26:55.575Z"
   },
   {
    "duration": 10,
    "start_time": "2022-03-02T19:26:55.594Z"
   },
   {
    "duration": 37,
    "start_time": "2022-03-02T19:26:55.606Z"
   },
   {
    "duration": 5,
    "start_time": "2022-03-02T19:26:55.645Z"
   },
   {
    "duration": 12,
    "start_time": "2022-03-02T19:26:55.651Z"
   },
   {
    "duration": 8,
    "start_time": "2022-03-02T19:26:55.665Z"
   },
   {
    "duration": 8,
    "start_time": "2022-03-02T19:26:55.674Z"
   },
   {
    "duration": 6,
    "start_time": "2022-03-02T19:26:55.684Z"
   },
   {
    "duration": 8,
    "start_time": "2022-03-02T19:26:55.692Z"
   },
   {
    "duration": 6,
    "start_time": "2022-03-02T19:26:55.701Z"
   },
   {
    "duration": 44,
    "start_time": "2022-03-02T19:26:55.709Z"
   },
   {
    "duration": 3,
    "start_time": "2022-03-02T19:26:55.755Z"
   },
   {
    "duration": 215,
    "start_time": "2022-03-02T19:26:55.760Z"
   },
   {
    "duration": 16,
    "start_time": "2022-03-02T19:26:55.977Z"
   },
   {
    "duration": 20,
    "start_time": "2022-03-02T19:26:55.995Z"
   },
   {
    "duration": 44,
    "start_time": "2022-03-02T19:26:56.017Z"
   },
   {
    "duration": 6,
    "start_time": "2022-03-02T19:26:56.063Z"
   },
   {
    "duration": 3240,
    "start_time": "2022-03-02T19:26:56.072Z"
   },
   {
    "duration": 530,
    "start_time": "2022-03-02T19:26:59.313Z"
   },
   {
    "duration": 3,
    "start_time": "2022-03-02T19:26:59.844Z"
   },
   {
    "duration": 12,
    "start_time": "2022-03-02T19:26:59.849Z"
   },
   {
    "duration": 13,
    "start_time": "2022-03-02T19:26:59.862Z"
   },
   {
    "duration": 898,
    "start_time": "2022-03-02T19:26:59.876Z"
   },
   {
    "duration": 3,
    "start_time": "2022-03-02T19:27:00.776Z"
   },
   {
    "duration": 66,
    "start_time": "2022-03-02T19:27:00.780Z"
   },
   {
    "duration": 3,
    "start_time": "2022-03-02T19:27:00.848Z"
   },
   {
    "duration": 13,
    "start_time": "2022-03-02T19:27:00.853Z"
   },
   {
    "duration": 1671,
    "start_time": "2022-03-02T19:27:00.868Z"
   },
   {
    "duration": 16119,
    "start_time": "2022-03-02T19:27:02.540Z"
   },
   {
    "duration": 51051,
    "start_time": "2022-03-02T19:27:18.661Z"
   },
   {
    "duration": 2,
    "start_time": "2022-03-02T19:28:09.714Z"
   },
   {
    "duration": 336,
    "start_time": "2022-03-02T19:28:09.718Z"
   },
   {
    "duration": 356,
    "start_time": "2022-03-02T19:33:28.867Z"
   },
   {
    "duration": 23,
    "start_time": "2022-03-02T19:33:42.117Z"
   },
   {
    "duration": 359,
    "start_time": "2022-03-02T19:35:31.730Z"
   },
   {
    "duration": 396,
    "start_time": "2022-03-02T19:35:53.483Z"
   },
   {
    "duration": 182,
    "start_time": "2022-03-02T19:37:19.600Z"
   },
   {
    "duration": 4,
    "start_time": "2022-03-02T19:37:23.600Z"
   },
   {
    "duration": 673,
    "start_time": "2022-03-02T19:37:23.605Z"
   },
   {
    "duration": 21,
    "start_time": "2022-03-02T19:37:24.280Z"
   },
   {
    "duration": 35,
    "start_time": "2022-03-02T19:37:24.303Z"
   },
   {
    "duration": 22,
    "start_time": "2022-03-02T19:37:24.340Z"
   },
   {
    "duration": 19,
    "start_time": "2022-03-02T19:37:24.364Z"
   },
   {
    "duration": 10,
    "start_time": "2022-03-02T19:37:24.386Z"
   },
   {
    "duration": 41,
    "start_time": "2022-03-02T19:37:24.398Z"
   },
   {
    "duration": 5,
    "start_time": "2022-03-02T19:37:24.442Z"
   },
   {
    "duration": 8,
    "start_time": "2022-03-02T19:37:24.449Z"
   },
   {
    "duration": 14,
    "start_time": "2022-03-02T19:37:24.459Z"
   },
   {
    "duration": 12,
    "start_time": "2022-03-02T19:37:24.474Z"
   },
   {
    "duration": 11,
    "start_time": "2022-03-02T19:37:24.488Z"
   },
   {
    "duration": 15,
    "start_time": "2022-03-02T19:37:24.502Z"
   },
   {
    "duration": 7,
    "start_time": "2022-03-02T19:37:24.519Z"
   },
   {
    "duration": 22,
    "start_time": "2022-03-02T19:37:24.528Z"
   },
   {
    "duration": 4,
    "start_time": "2022-03-02T19:37:24.551Z"
   },
   {
    "duration": 215,
    "start_time": "2022-03-02T19:37:24.556Z"
   },
   {
    "duration": 14,
    "start_time": "2022-03-02T19:37:24.774Z"
   },
   {
    "duration": 17,
    "start_time": "2022-03-02T19:37:24.791Z"
   },
   {
    "duration": 44,
    "start_time": "2022-03-02T19:37:24.810Z"
   },
   {
    "duration": 6,
    "start_time": "2022-03-02T19:37:24.856Z"
   },
   {
    "duration": 3236,
    "start_time": "2022-03-02T19:37:24.863Z"
   },
   {
    "duration": 631,
    "start_time": "2022-03-02T19:37:28.101Z"
   },
   {
    "duration": 3,
    "start_time": "2022-03-02T19:37:28.738Z"
   },
   {
    "duration": 8,
    "start_time": "2022-03-02T19:37:28.743Z"
   },
   {
    "duration": 5,
    "start_time": "2022-03-02T19:37:28.752Z"
   },
   {
    "duration": 867,
    "start_time": "2022-03-02T19:37:28.759Z"
   },
   {
    "duration": 3,
    "start_time": "2022-03-02T19:37:29.628Z"
   },
   {
    "duration": 47,
    "start_time": "2022-03-02T19:37:29.637Z"
   },
   {
    "duration": 4,
    "start_time": "2022-03-02T19:37:29.685Z"
   },
   {
    "duration": 9,
    "start_time": "2022-03-02T19:37:29.690Z"
   },
   {
    "duration": 2239,
    "start_time": "2022-03-02T19:37:29.700Z"
   },
   {
    "duration": 15988,
    "start_time": "2022-03-02T19:37:31.941Z"
   },
   {
    "duration": 51679,
    "start_time": "2022-03-02T19:37:47.930Z"
   },
   {
    "duration": 2,
    "start_time": "2022-03-02T19:38:39.611Z"
   },
   {
    "duration": 372,
    "start_time": "2022-03-02T19:38:39.615Z"
   },
   {
    "duration": 172,
    "start_time": "2022-03-02T19:39:43.484Z"
   },
   {
    "duration": 4,
    "start_time": "2022-03-02T19:39:56.522Z"
   },
   {
    "duration": 687,
    "start_time": "2022-03-02T19:39:56.528Z"
   },
   {
    "duration": 27,
    "start_time": "2022-03-02T19:39:57.217Z"
   },
   {
    "duration": 46,
    "start_time": "2022-03-02T19:39:57.248Z"
   },
   {
    "duration": 45,
    "start_time": "2022-03-02T19:39:57.297Z"
   },
   {
    "duration": 37,
    "start_time": "2022-03-02T19:39:57.345Z"
   },
   {
    "duration": 15,
    "start_time": "2022-03-02T19:39:57.385Z"
   },
   {
    "duration": 38,
    "start_time": "2022-03-02T19:39:57.403Z"
   },
   {
    "duration": 7,
    "start_time": "2022-03-02T19:39:57.443Z"
   },
   {
    "duration": 16,
    "start_time": "2022-03-02T19:39:57.452Z"
   },
   {
    "duration": 19,
    "start_time": "2022-03-02T19:39:57.471Z"
   },
   {
    "duration": 18,
    "start_time": "2022-03-02T19:39:57.492Z"
   },
   {
    "duration": 16,
    "start_time": "2022-03-02T19:39:57.512Z"
   },
   {
    "duration": 17,
    "start_time": "2022-03-02T19:39:57.530Z"
   },
   {
    "duration": 19,
    "start_time": "2022-03-02T19:39:57.549Z"
   },
   {
    "duration": 213,
    "start_time": "2022-03-02T19:39:57.570Z"
   },
   {
    "duration": -391,
    "start_time": "2022-03-02T19:39:58.178Z"
   },
   {
    "duration": -400,
    "start_time": "2022-03-02T19:39:58.188Z"
   },
   {
    "duration": -402,
    "start_time": "2022-03-02T19:39:58.192Z"
   },
   {
    "duration": -412,
    "start_time": "2022-03-02T19:39:58.203Z"
   },
   {
    "duration": -415,
    "start_time": "2022-03-02T19:39:58.208Z"
   },
   {
    "duration": -426,
    "start_time": "2022-03-02T19:39:58.220Z"
   },
   {
    "duration": -430,
    "start_time": "2022-03-02T19:39:58.226Z"
   },
   {
    "duration": -438,
    "start_time": "2022-03-02T19:39:58.236Z"
   },
   {
    "duration": -439,
    "start_time": "2022-03-02T19:39:58.239Z"
   },
   {
    "duration": -443,
    "start_time": "2022-03-02T19:39:58.244Z"
   },
   {
    "duration": -453,
    "start_time": "2022-03-02T19:39:58.256Z"
   },
   {
    "duration": -457,
    "start_time": "2022-03-02T19:39:58.261Z"
   },
   {
    "duration": -459,
    "start_time": "2022-03-02T19:39:58.264Z"
   },
   {
    "duration": -461,
    "start_time": "2022-03-02T19:39:58.267Z"
   },
   {
    "duration": -464,
    "start_time": "2022-03-02T19:39:58.271Z"
   },
   {
    "duration": -468,
    "start_time": "2022-03-02T19:39:58.276Z"
   },
   {
    "duration": -471,
    "start_time": "2022-03-02T19:39:58.280Z"
   },
   {
    "duration": -473,
    "start_time": "2022-03-02T19:39:58.283Z"
   },
   {
    "duration": -476,
    "start_time": "2022-03-02T19:39:58.287Z"
   },
   {
    "duration": -479,
    "start_time": "2022-03-02T19:39:58.291Z"
   },
   {
    "duration": -482,
    "start_time": "2022-03-02T19:39:58.295Z"
   },
   {
    "duration": 12,
    "start_time": "2022-03-02T19:40:25.038Z"
   },
   {
    "duration": 37,
    "start_time": "2022-03-02T19:41:07.523Z"
   },
   {
    "duration": 22,
    "start_time": "2022-03-02T19:41:25.916Z"
   },
   {
    "duration": 5,
    "start_time": "2022-03-02T19:41:30.286Z"
   },
   {
    "duration": 664,
    "start_time": "2022-03-02T19:41:30.293Z"
   },
   {
    "duration": 25,
    "start_time": "2022-03-02T19:41:30.959Z"
   },
   {
    "duration": 25,
    "start_time": "2022-03-02T19:41:30.986Z"
   },
   {
    "duration": 46,
    "start_time": "2022-03-02T19:41:31.013Z"
   },
   {
    "duration": 23,
    "start_time": "2022-03-02T19:41:31.061Z"
   },
   {
    "duration": 11,
    "start_time": "2022-03-02T19:41:31.087Z"
   },
   {
    "duration": 20,
    "start_time": "2022-03-02T19:41:31.100Z"
   },
   {
    "duration": 6,
    "start_time": "2022-03-02T19:41:31.139Z"
   },
   {
    "duration": 12,
    "start_time": "2022-03-02T19:41:31.147Z"
   },
   {
    "duration": 6,
    "start_time": "2022-03-02T19:41:31.161Z"
   },
   {
    "duration": 11,
    "start_time": "2022-03-02T19:41:31.169Z"
   },
   {
    "duration": 8,
    "start_time": "2022-03-02T19:41:31.182Z"
   },
   {
    "duration": 10,
    "start_time": "2022-03-02T19:41:31.192Z"
   },
   {
    "duration": 13,
    "start_time": "2022-03-02T19:41:31.204Z"
   },
   {
    "duration": 38,
    "start_time": "2022-03-02T19:41:31.219Z"
   },
   {
    "duration": 4,
    "start_time": "2022-03-02T19:41:31.258Z"
   },
   {
    "duration": 223,
    "start_time": "2022-03-02T19:41:31.263Z"
   },
   {
    "duration": 15,
    "start_time": "2022-03-02T19:41:31.490Z"
   },
   {
    "duration": 36,
    "start_time": "2022-03-02T19:41:31.508Z"
   },
   {
    "duration": 22,
    "start_time": "2022-03-02T19:41:31.547Z"
   },
   {
    "duration": 6,
    "start_time": "2022-03-02T19:41:31.571Z"
   },
   {
    "duration": 3286,
    "start_time": "2022-03-02T19:41:31.580Z"
   },
   {
    "duration": 588,
    "start_time": "2022-03-02T19:41:34.868Z"
   },
   {
    "duration": 4,
    "start_time": "2022-03-02T19:41:35.458Z"
   },
   {
    "duration": 14,
    "start_time": "2022-03-02T19:41:35.464Z"
   },
   {
    "duration": 9,
    "start_time": "2022-03-02T19:41:35.480Z"
   },
   {
    "duration": 885,
    "start_time": "2022-03-02T19:41:35.491Z"
   },
   {
    "duration": 2,
    "start_time": "2022-03-02T19:41:36.378Z"
   },
   {
    "duration": 69,
    "start_time": "2022-03-02T19:41:36.383Z"
   },
   {
    "duration": 4,
    "start_time": "2022-03-02T19:41:36.454Z"
   },
   {
    "duration": 10,
    "start_time": "2022-03-02T19:41:36.460Z"
   },
   {
    "duration": 2270,
    "start_time": "2022-03-02T19:41:36.472Z"
   },
   {
    "duration": 15923,
    "start_time": "2022-03-02T19:41:38.836Z"
   },
   {
    "duration": 51366,
    "start_time": "2022-03-02T19:41:54.761Z"
   },
   {
    "duration": 3,
    "start_time": "2022-03-02T19:42:46.129Z"
   },
   {
    "duration": 352,
    "start_time": "2022-03-02T19:42:46.137Z"
   },
   {
    "duration": 186,
    "start_time": "2022-03-02T19:47:10.093Z"
   },
   {
    "duration": 4,
    "start_time": "2022-03-02T19:47:18.082Z"
   },
   {
    "duration": 733,
    "start_time": "2022-03-02T19:47:18.088Z"
   },
   {
    "duration": 24,
    "start_time": "2022-03-02T19:47:18.823Z"
   },
   {
    "duration": 23,
    "start_time": "2022-03-02T19:47:18.849Z"
   },
   {
    "duration": 22,
    "start_time": "2022-03-02T19:47:18.874Z"
   },
   {
    "duration": 45,
    "start_time": "2022-03-02T19:47:18.898Z"
   },
   {
    "duration": 11,
    "start_time": "2022-03-02T19:47:18.946Z"
   },
   {
    "duration": 19,
    "start_time": "2022-03-02T19:47:18.961Z"
   },
   {
    "duration": 5,
    "start_time": "2022-03-02T19:47:18.982Z"
   },
   {
    "duration": 9,
    "start_time": "2022-03-02T19:47:18.989Z"
   },
   {
    "duration": 44,
    "start_time": "2022-03-02T19:47:18.999Z"
   },
   {
    "duration": 7,
    "start_time": "2022-03-02T19:47:19.045Z"
   },
   {
    "duration": 6,
    "start_time": "2022-03-02T19:47:19.054Z"
   },
   {
    "duration": 6,
    "start_time": "2022-03-02T19:47:19.062Z"
   },
   {
    "duration": 7,
    "start_time": "2022-03-02T19:47:19.070Z"
   },
   {
    "duration": 25,
    "start_time": "2022-03-02T19:47:19.078Z"
   },
   {
    "duration": 3,
    "start_time": "2022-03-02T19:47:19.105Z"
   },
   {
    "duration": 217,
    "start_time": "2022-03-02T19:47:19.110Z"
   },
   {
    "duration": 23,
    "start_time": "2022-03-02T19:47:19.329Z"
   },
   {
    "duration": 18,
    "start_time": "2022-03-02T19:47:19.353Z"
   },
   {
    "duration": 18,
    "start_time": "2022-03-02T19:47:19.373Z"
   },
   {
    "duration": 6,
    "start_time": "2022-03-02T19:47:19.393Z"
   },
   {
    "duration": 3359,
    "start_time": "2022-03-02T19:47:19.403Z"
   },
   {
    "duration": 598,
    "start_time": "2022-03-02T19:47:22.765Z"
   },
   {
    "duration": 3,
    "start_time": "2022-03-02T19:47:23.366Z"
   },
   {
    "duration": 11,
    "start_time": "2022-03-02T19:47:23.371Z"
   },
   {
    "duration": 5,
    "start_time": "2022-03-02T19:47:23.384Z"
   },
   {
    "duration": 932,
    "start_time": "2022-03-02T19:47:23.391Z"
   },
   {
    "duration": 2,
    "start_time": "2022-03-02T19:47:24.325Z"
   },
   {
    "duration": 56,
    "start_time": "2022-03-02T19:47:24.337Z"
   },
   {
    "duration": 3,
    "start_time": "2022-03-02T19:47:24.394Z"
   },
   {
    "duration": 11,
    "start_time": "2022-03-02T19:47:24.399Z"
   },
   {
    "duration": 1927,
    "start_time": "2022-03-02T19:47:24.411Z"
   },
   {
    "duration": 15972,
    "start_time": "2022-03-02T19:47:26.340Z"
   },
   {
    "duration": 51106,
    "start_time": "2022-03-02T19:47:42.314Z"
   },
   {
    "duration": 2,
    "start_time": "2022-03-02T19:48:33.422Z"
   },
   {
    "duration": 357,
    "start_time": "2022-03-02T19:48:33.426Z"
   },
   {
    "duration": 3,
    "start_time": "2022-03-02T19:52:19.645Z"
   },
   {
    "duration": 685,
    "start_time": "2022-03-02T19:52:19.650Z"
   },
   {
    "duration": 21,
    "start_time": "2022-03-02T19:52:20.337Z"
   },
   {
    "duration": 26,
    "start_time": "2022-03-02T19:52:20.360Z"
   },
   {
    "duration": 28,
    "start_time": "2022-03-02T19:52:20.387Z"
   },
   {
    "duration": 35,
    "start_time": "2022-03-02T19:52:20.416Z"
   },
   {
    "duration": 10,
    "start_time": "2022-03-02T19:52:20.453Z"
   },
   {
    "duration": 16,
    "start_time": "2022-03-02T19:52:20.464Z"
   },
   {
    "duration": 5,
    "start_time": "2022-03-02T19:52:20.481Z"
   },
   {
    "duration": 8,
    "start_time": "2022-03-02T19:52:20.487Z"
   },
   {
    "duration": 43,
    "start_time": "2022-03-02T19:52:20.496Z"
   },
   {
    "duration": 3,
    "start_time": "2022-03-02T19:52:20.541Z"
   },
   {
    "duration": 11,
    "start_time": "2022-03-02T19:52:20.546Z"
   },
   {
    "duration": 6,
    "start_time": "2022-03-02T19:52:20.558Z"
   },
   {
    "duration": 10,
    "start_time": "2022-03-02T19:52:20.566Z"
   },
   {
    "duration": 20,
    "start_time": "2022-03-02T19:52:20.577Z"
   },
   {
    "duration": 3,
    "start_time": "2022-03-02T19:52:20.598Z"
   },
   {
    "duration": 224,
    "start_time": "2022-03-02T19:52:20.603Z"
   },
   {
    "duration": 15,
    "start_time": "2022-03-02T19:52:20.838Z"
   },
   {
    "duration": 17,
    "start_time": "2022-03-02T19:52:20.856Z"
   },
   {
    "duration": 17,
    "start_time": "2022-03-02T19:52:20.875Z"
   },
   {
    "duration": 7,
    "start_time": "2022-03-02T19:52:20.893Z"
   },
   {
    "duration": 3332,
    "start_time": "2022-03-02T19:52:20.902Z"
   },
   {
    "duration": 576,
    "start_time": "2022-03-02T19:52:24.237Z"
   },
   {
    "duration": 4,
    "start_time": "2022-03-02T19:52:24.816Z"
   },
   {
    "duration": 19,
    "start_time": "2022-03-02T19:52:24.822Z"
   },
   {
    "duration": 6,
    "start_time": "2022-03-02T19:52:24.843Z"
   },
   {
    "duration": 853,
    "start_time": "2022-03-02T19:52:24.851Z"
   },
   {
    "duration": 3,
    "start_time": "2022-03-02T19:52:25.706Z"
   },
   {
    "duration": 66,
    "start_time": "2022-03-02T19:52:25.711Z"
   },
   {
    "duration": 4,
    "start_time": "2022-03-02T19:52:25.779Z"
   },
   {
    "duration": 10,
    "start_time": "2022-03-02T19:52:25.785Z"
   },
   {
    "duration": 1547,
    "start_time": "2022-03-02T19:52:25.796Z"
   },
   {
    "duration": 15905,
    "start_time": "2022-03-02T19:52:27.344Z"
   },
   {
    "duration": 51487,
    "start_time": "2022-03-02T19:52:43.251Z"
   },
   {
    "duration": 14,
    "start_time": "2022-03-02T19:53:34.740Z"
   },
   {
    "duration": 12,
    "start_time": "2022-03-02T19:53:34.756Z"
   },
   {
    "duration": 1225,
    "start_time": "2022-03-03T19:20:28.037Z"
   },
   {
    "duration": 748,
    "start_time": "2022-03-03T19:20:29.264Z"
   },
   {
    "duration": 21,
    "start_time": "2022-03-03T19:20:44.591Z"
   },
   {
    "duration": 5,
    "start_time": "2022-03-03T19:20:46.847Z"
   },
   {
    "duration": 28,
    "start_time": "2022-03-03T19:20:55.655Z"
   },
   {
    "duration": 7,
    "start_time": "2022-03-03T19:20:58.290Z"
   },
   {
    "duration": 3,
    "start_time": "2022-03-03T19:21:14.953Z"
   },
   {
    "duration": 58,
    "start_time": "2022-03-03T19:21:15.504Z"
   },
   {
    "duration": 3,
    "start_time": "2022-03-03T19:21:18.448Z"
   },
   {
    "duration": 9,
    "start_time": "2022-03-03T19:21:20.184Z"
   },
   {
    "duration": 301,
    "start_time": "2022-03-03T19:21:50.857Z"
   },
   {
    "duration": 12,
    "start_time": "2022-03-03T19:22:35.953Z"
   },
   {
    "duration": 202,
    "start_time": "2022-03-03T19:22:48.653Z"
   },
   {
    "duration": 13,
    "start_time": "2022-03-03T19:22:58.803Z"
   },
   {
    "duration": 1218,
    "start_time": "2022-03-03T19:23:01.679Z"
   },
   {
    "duration": 17,
    "start_time": "2022-03-03T19:23:03.727Z"
   },
   {
    "duration": 204,
    "start_time": "2022-03-03T19:23:05.145Z"
   },
   {
    "duration": 217,
    "start_time": "2022-03-03T19:23:10.882Z"
   },
   {
    "duration": 12,
    "start_time": "2022-03-03T19:23:14.005Z"
   },
   {
    "duration": 4,
    "start_time": "2022-03-03T19:23:20.066Z"
   },
   {
    "duration": 5,
    "start_time": "2022-03-03T19:23:26.051Z"
   },
   {
    "duration": 5,
    "start_time": "2022-03-03T19:23:44.889Z"
   },
   {
    "duration": 6,
    "start_time": "2022-03-03T19:23:53.910Z"
   },
   {
    "duration": 11,
    "start_time": "2022-03-03T19:24:16.463Z"
   },
   {
    "duration": 5,
    "start_time": "2022-03-03T19:25:22.626Z"
   },
   {
    "duration": 3,
    "start_time": "2022-03-03T19:25:59.701Z"
   },
   {
    "duration": 14,
    "start_time": "2022-03-03T19:26:04.600Z"
   },
   {
    "duration": 6,
    "start_time": "2022-03-03T19:26:06.932Z"
   },
   {
    "duration": 5,
    "start_time": "2022-03-03T19:26:08.196Z"
   },
   {
    "duration": 4,
    "start_time": "2022-03-03T19:26:46.312Z"
   },
   {
    "duration": 13,
    "start_time": "2022-03-03T19:26:52.146Z"
   },
   {
    "duration": 1465,
    "start_time": "2022-03-04T09:24:32.020Z"
   },
   {
    "duration": 844,
    "start_time": "2022-03-04T09:24:33.488Z"
   },
   {
    "duration": 44,
    "start_time": "2022-03-04T09:24:34.335Z"
   },
   {
    "duration": 34,
    "start_time": "2022-03-04T09:24:34.382Z"
   },
   {
    "duration": 65,
    "start_time": "2022-03-04T09:24:34.419Z"
   },
   {
    "duration": 22,
    "start_time": "2022-03-04T09:24:34.487Z"
   },
   {
    "duration": 15,
    "start_time": "2022-03-04T09:24:34.512Z"
   },
   {
    "duration": 29,
    "start_time": "2022-03-04T09:24:34.553Z"
   },
   {
    "duration": 11,
    "start_time": "2022-03-04T09:24:34.586Z"
   },
   {
    "duration": 10,
    "start_time": "2022-03-04T09:24:34.599Z"
   },
   {
    "duration": 39,
    "start_time": "2022-03-04T09:24:34.614Z"
   },
   {
    "duration": 14,
    "start_time": "2022-03-04T09:24:34.656Z"
   },
   {
    "duration": 11,
    "start_time": "2022-03-04T09:24:34.672Z"
   },
   {
    "duration": 416,
    "start_time": "2022-03-04T09:24:34.685Z"
   },
   {
    "duration": 312,
    "start_time": "2022-03-04T09:24:34.792Z"
   },
   {
    "duration": 297,
    "start_time": "2022-03-04T09:24:34.809Z"
   },
   {
    "duration": 274,
    "start_time": "2022-03-04T09:24:34.833Z"
   },
   {
    "duration": 261,
    "start_time": "2022-03-04T09:24:34.848Z"
   },
   {
    "duration": 257,
    "start_time": "2022-03-04T09:24:34.854Z"
   },
   {
    "duration": 255,
    "start_time": "2022-03-04T09:24:34.858Z"
   },
   {
    "duration": 250,
    "start_time": "2022-03-04T09:24:34.864Z"
   },
   {
    "duration": 248,
    "start_time": "2022-03-04T09:24:34.868Z"
   },
   {
    "duration": 245,
    "start_time": "2022-03-04T09:24:34.872Z"
   },
   {
    "duration": 242,
    "start_time": "2022-03-04T09:24:34.878Z"
   },
   {
    "duration": 239,
    "start_time": "2022-03-04T09:24:34.882Z"
   },
   {
    "duration": 238,
    "start_time": "2022-03-04T09:24:34.885Z"
   },
   {
    "duration": 234,
    "start_time": "2022-03-04T09:24:34.890Z"
   },
   {
    "duration": 233,
    "start_time": "2022-03-04T09:24:34.893Z"
   },
   {
    "duration": 230,
    "start_time": "2022-03-04T09:24:34.897Z"
   },
   {
    "duration": 228,
    "start_time": "2022-03-04T09:24:34.901Z"
   },
   {
    "duration": 225,
    "start_time": "2022-03-04T09:24:34.905Z"
   },
   {
    "duration": 223,
    "start_time": "2022-03-04T09:24:34.909Z"
   },
   {
    "duration": 220,
    "start_time": "2022-03-04T09:24:34.913Z"
   },
   {
    "duration": 219,
    "start_time": "2022-03-04T09:24:34.916Z"
   },
   {
    "duration": 214,
    "start_time": "2022-03-04T09:24:34.923Z"
   },
   {
    "duration": 209,
    "start_time": "2022-03-04T09:24:34.929Z"
   },
   {
    "duration": 203,
    "start_time": "2022-03-04T09:24:34.937Z"
   },
   {
    "duration": 201,
    "start_time": "2022-03-04T09:24:34.940Z"
   },
   {
    "duration": 6,
    "start_time": "2022-03-04T09:27:18.307Z"
   },
   {
    "duration": 868,
    "start_time": "2022-03-04T09:27:18.316Z"
   },
   {
    "duration": 35,
    "start_time": "2022-03-04T09:27:19.187Z"
   },
   {
    "duration": 54,
    "start_time": "2022-03-04T09:27:19.224Z"
   },
   {
    "duration": 33,
    "start_time": "2022-03-04T09:27:19.280Z"
   },
   {
    "duration": 48,
    "start_time": "2022-03-04T09:27:19.315Z"
   },
   {
    "duration": 18,
    "start_time": "2022-03-04T09:27:19.368Z"
   },
   {
    "duration": 26,
    "start_time": "2022-03-04T09:27:19.390Z"
   },
   {
    "duration": 9,
    "start_time": "2022-03-04T09:27:19.450Z"
   },
   {
    "duration": 7,
    "start_time": "2022-03-04T09:27:19.462Z"
   },
   {
    "duration": 6,
    "start_time": "2022-03-04T09:27:19.471Z"
   },
   {
    "duration": 6,
    "start_time": "2022-03-04T09:27:19.480Z"
   },
   {
    "duration": 8,
    "start_time": "2022-03-04T09:27:19.489Z"
   },
   {
    "duration": 57,
    "start_time": "2022-03-04T09:27:19.500Z"
   },
   {
    "duration": 6,
    "start_time": "2022-03-04T09:27:19.560Z"
   },
   {
    "duration": 24,
    "start_time": "2022-03-04T09:27:19.568Z"
   },
   {
    "duration": 4,
    "start_time": "2022-03-04T09:27:19.594Z"
   },
   {
    "duration": 389,
    "start_time": "2022-03-04T09:27:19.601Z"
   },
   {
    "duration": 19,
    "start_time": "2022-03-04T09:27:19.995Z"
   },
   {
    "duration": 44,
    "start_time": "2022-03-04T09:27:20.017Z"
   },
   {
    "duration": 25,
    "start_time": "2022-03-04T09:27:20.064Z"
   },
   {
    "duration": 8,
    "start_time": "2022-03-04T09:27:20.092Z"
   },
   {
    "duration": 5531,
    "start_time": "2022-03-04T09:27:20.103Z"
   },
   {
    "duration": 1195,
    "start_time": "2022-03-04T09:27:25.636Z"
   },
   {
    "duration": 4,
    "start_time": "2022-03-04T09:27:26.834Z"
   },
   {
    "duration": 9,
    "start_time": "2022-03-04T09:27:26.852Z"
   },
   {
    "duration": 7,
    "start_time": "2022-03-04T09:27:26.863Z"
   },
   {
    "duration": 1421,
    "start_time": "2022-03-04T09:27:26.872Z"
   },
   {
    "duration": 5,
    "start_time": "2022-03-04T09:27:28.296Z"
   },
   {
    "duration": 103,
    "start_time": "2022-03-04T09:27:28.304Z"
   },
   {
    "duration": 4,
    "start_time": "2022-03-04T09:27:28.410Z"
   },
   {
    "duration": 10,
    "start_time": "2022-03-04T09:27:28.417Z"
   },
   {
    "duration": 3130,
    "start_time": "2022-03-04T09:27:28.429Z"
   },
   {
    "duration": 21264,
    "start_time": "2022-03-04T09:27:31.562Z"
   },
   {
    "duration": 70680,
    "start_time": "2022-03-04T09:27:52.829Z"
   },
   {
    "duration": 1359,
    "start_time": "2022-03-04T09:29:03.511Z"
   },
   {
    "duration": 18,
    "start_time": "2022-03-04T09:29:04.873Z"
   },
   {
    "duration": 17,
    "start_time": "2022-03-04T09:29:04.893Z"
   },
   {
    "duration": 70,
    "start_time": "2022-03-04T09:41:24.557Z"
   },
   {
    "duration": 273,
    "start_time": "2022-03-04T09:41:37.735Z"
   },
   {
    "duration": 36,
    "start_time": "2022-03-04T09:42:08.960Z"
   },
   {
    "duration": 253,
    "start_time": "2022-03-04T09:48:50.942Z"
   },
   {
    "duration": 6,
    "start_time": "2022-03-04T09:49:59.085Z"
   },
   {
    "duration": 867,
    "start_time": "2022-03-04T09:49:59.094Z"
   },
   {
    "duration": 36,
    "start_time": "2022-03-04T09:49:59.964Z"
   },
   {
    "duration": 46,
    "start_time": "2022-03-04T09:50:00.017Z"
   },
   {
    "duration": 36,
    "start_time": "2022-03-04T09:50:00.066Z"
   },
   {
    "duration": 53,
    "start_time": "2022-03-04T09:50:00.105Z"
   },
   {
    "duration": 17,
    "start_time": "2022-03-04T09:50:00.163Z"
   },
   {
    "duration": 26,
    "start_time": "2022-03-04T09:50:00.183Z"
   },
   {
    "duration": 44,
    "start_time": "2022-03-04T09:50:00.212Z"
   },
   {
    "duration": 12,
    "start_time": "2022-03-04T09:50:00.258Z"
   },
   {
    "duration": 8,
    "start_time": "2022-03-04T09:50:00.273Z"
   },
   {
    "duration": 10,
    "start_time": "2022-03-04T09:50:00.284Z"
   },
   {
    "duration": 8,
    "start_time": "2022-03-04T09:50:00.296Z"
   },
   {
    "duration": 8,
    "start_time": "2022-03-04T09:50:00.307Z"
   },
   {
    "duration": 7,
    "start_time": "2022-03-04T09:50:00.352Z"
   },
   {
    "duration": 25,
    "start_time": "2022-03-04T09:50:00.362Z"
   },
   {
    "duration": 4,
    "start_time": "2022-03-04T09:50:00.390Z"
   },
   {
    "duration": 382,
    "start_time": "2022-03-04T09:50:00.397Z"
   },
   {
    "duration": 19,
    "start_time": "2022-03-04T09:50:00.783Z"
   },
   {
    "duration": 30,
    "start_time": "2022-03-04T09:50:00.805Z"
   },
   {
    "duration": 32,
    "start_time": "2022-03-04T09:50:00.838Z"
   },
   {
    "duration": 9,
    "start_time": "2022-03-04T09:50:00.873Z"
   },
   {
    "duration": 5481,
    "start_time": "2022-03-04T09:50:00.885Z"
   },
   {
    "duration": 1247,
    "start_time": "2022-03-04T09:50:06.369Z"
   },
   {
    "duration": 3,
    "start_time": "2022-03-04T09:50:07.619Z"
   },
   {
    "duration": 27,
    "start_time": "2022-03-04T09:50:07.625Z"
   },
   {
    "duration": 5,
    "start_time": "2022-03-04T09:50:07.654Z"
   },
   {
    "duration": 1352,
    "start_time": "2022-03-04T09:50:07.661Z"
   },
   {
    "duration": 3,
    "start_time": "2022-03-04T09:50:09.016Z"
   },
   {
    "duration": 83,
    "start_time": "2022-03-04T09:50:09.022Z"
   },
   {
    "duration": 5,
    "start_time": "2022-03-04T09:50:09.107Z"
   },
   {
    "duration": 11,
    "start_time": "2022-03-04T09:50:09.114Z"
   },
   {
    "duration": 2632,
    "start_time": "2022-03-04T09:50:09.127Z"
   },
   {
    "duration": 20778,
    "start_time": "2022-03-04T09:50:11.762Z"
   },
   {
    "duration": 1419,
    "start_time": "2022-03-04T09:51:38.245Z"
   },
   {
    "duration": 860,
    "start_time": "2022-03-04T09:51:39.666Z"
   },
   {
    "duration": 53,
    "start_time": "2022-03-04T09:51:40.532Z"
   },
   {
    "duration": 63,
    "start_time": "2022-03-04T09:51:40.588Z"
   },
   {
    "duration": 46,
    "start_time": "2022-03-04T09:51:40.654Z"
   },
   {
    "duration": 57,
    "start_time": "2022-03-04T09:51:40.702Z"
   },
   {
    "duration": 22,
    "start_time": "2022-03-04T09:51:40.764Z"
   },
   {
    "duration": 37,
    "start_time": "2022-03-04T09:51:40.790Z"
   },
   {
    "duration": 33,
    "start_time": "2022-03-04T09:51:40.829Z"
   },
   {
    "duration": 7,
    "start_time": "2022-03-04T09:51:40.865Z"
   },
   {
    "duration": 7,
    "start_time": "2022-03-04T09:51:40.874Z"
   },
   {
    "duration": 6,
    "start_time": "2022-03-04T09:51:40.884Z"
   },
   {
    "duration": 5,
    "start_time": "2022-03-04T09:51:40.893Z"
   },
   {
    "duration": 57,
    "start_time": "2022-03-04T09:51:40.901Z"
   },
   {
    "duration": 7,
    "start_time": "2022-03-04T09:51:40.961Z"
   },
   {
    "duration": 30,
    "start_time": "2022-03-04T09:51:40.971Z"
   },
   {
    "duration": 5,
    "start_time": "2022-03-04T09:51:41.004Z"
   },
   {
    "duration": 424,
    "start_time": "2022-03-04T09:51:41.012Z"
   },
   {
    "duration": 31,
    "start_time": "2022-03-04T09:51:41.439Z"
   },
   {
    "duration": 26,
    "start_time": "2022-03-04T09:51:41.472Z"
   },
   {
    "duration": 59,
    "start_time": "2022-03-04T09:51:41.501Z"
   },
   {
    "duration": 9,
    "start_time": "2022-03-04T09:51:41.567Z"
   },
   {
    "duration": 5119,
    "start_time": "2022-03-04T09:51:41.579Z"
   },
   {
    "duration": 1126,
    "start_time": "2022-03-04T09:51:46.701Z"
   },
   {
    "duration": 5,
    "start_time": "2022-03-04T09:51:47.830Z"
   },
   {
    "duration": 18,
    "start_time": "2022-03-04T09:51:47.838Z"
   },
   {
    "duration": 6,
    "start_time": "2022-03-04T09:51:47.859Z"
   },
   {
    "duration": 1359,
    "start_time": "2022-03-04T09:51:47.867Z"
   },
   {
    "duration": 4,
    "start_time": "2022-03-04T09:51:49.230Z"
   },
   {
    "duration": 77,
    "start_time": "2022-03-04T09:51:49.252Z"
   },
   {
    "duration": 19,
    "start_time": "2022-03-04T09:51:49.332Z"
   },
   {
    "duration": 11,
    "start_time": "2022-03-04T09:51:49.354Z"
   },
   {
    "duration": 2992,
    "start_time": "2022-03-04T09:51:49.368Z"
   },
   {
    "duration": 20495,
    "start_time": "2022-03-04T09:51:52.363Z"
   },
   {
    "duration": 69067,
    "start_time": "2022-03-04T09:52:12.861Z"
   },
   {
    "duration": 1521,
    "start_time": "2022-03-04T09:53:21.931Z"
   },
   {
    "duration": 21,
    "start_time": "2022-03-04T09:53:23.455Z"
   },
   {
    "duration": 20,
    "start_time": "2022-03-04T09:53:23.479Z"
   },
   {
    "duration": 484,
    "start_time": "2022-03-04T09:53:23.502Z"
   },
   {
    "duration": 1482,
    "start_time": "2022-03-04T14:32:49.316Z"
   },
   {
    "duration": 878,
    "start_time": "2022-03-04T14:32:50.801Z"
   },
   {
    "duration": 38,
    "start_time": "2022-03-04T14:32:51.683Z"
   },
   {
    "duration": 50,
    "start_time": "2022-03-04T14:32:51.724Z"
   },
   {
    "duration": 34,
    "start_time": "2022-03-04T14:32:51.777Z"
   },
   {
    "duration": 25,
    "start_time": "2022-03-04T14:32:51.813Z"
   },
   {
    "duration": 45,
    "start_time": "2022-03-04T14:32:51.840Z"
   },
   {
    "duration": 28,
    "start_time": "2022-03-04T14:32:51.889Z"
   },
   {
    "duration": 10,
    "start_time": "2022-03-04T14:32:51.920Z"
   },
   {
    "duration": 5,
    "start_time": "2022-03-04T14:32:51.933Z"
   },
   {
    "duration": 36,
    "start_time": "2022-03-04T14:32:51.940Z"
   },
   {
    "duration": 7,
    "start_time": "2022-03-04T14:32:51.978Z"
   },
   {
    "duration": 6,
    "start_time": "2022-03-04T14:32:51.988Z"
   },
   {
    "duration": 7,
    "start_time": "2022-03-04T14:32:51.996Z"
   },
   {
    "duration": 9,
    "start_time": "2022-03-04T14:32:52.005Z"
   },
   {
    "duration": 77,
    "start_time": "2022-03-04T14:32:52.016Z"
   },
   {
    "duration": 5,
    "start_time": "2022-03-04T14:32:52.095Z"
   },
   {
    "duration": 395,
    "start_time": "2022-03-04T14:32:52.102Z"
   },
   {
    "duration": 20,
    "start_time": "2022-03-04T14:32:52.499Z"
   },
   {
    "duration": 25,
    "start_time": "2022-03-04T14:32:52.522Z"
   },
   {
    "duration": 46,
    "start_time": "2022-03-04T14:32:52.549Z"
   },
   {
    "duration": 9,
    "start_time": "2022-03-04T14:32:52.597Z"
   },
   {
    "duration": 5676,
    "start_time": "2022-03-04T14:32:52.611Z"
   },
   {
    "duration": 1183,
    "start_time": "2022-03-04T14:32:58.290Z"
   },
   {
    "duration": 4,
    "start_time": "2022-03-04T14:32:59.475Z"
   },
   {
    "duration": 9,
    "start_time": "2022-03-04T14:32:59.482Z"
   },
   {
    "duration": 9,
    "start_time": "2022-03-04T14:32:59.494Z"
   },
   {
    "duration": 1431,
    "start_time": "2022-03-04T14:32:59.505Z"
   },
   {
    "duration": 4,
    "start_time": "2022-03-04T14:33:00.938Z"
   },
   {
    "duration": 101,
    "start_time": "2022-03-04T14:33:00.945Z"
   },
   {
    "duration": 5,
    "start_time": "2022-03-04T14:33:01.048Z"
   },
   {
    "duration": 26,
    "start_time": "2022-03-04T14:33:01.056Z"
   },
   {
    "duration": 2094,
    "start_time": "2022-03-04T14:33:01.084Z"
   },
   {
    "duration": 21162,
    "start_time": "2022-03-04T14:33:03.181Z"
   },
   {
    "duration": 71845,
    "start_time": "2022-03-04T14:33:24.346Z"
   },
   {
    "duration": 1524,
    "start_time": "2022-03-04T14:34:36.193Z"
   },
   {
    "duration": 18,
    "start_time": "2022-03-04T14:34:37.719Z"
   },
   {
    "duration": 41,
    "start_time": "2022-03-04T14:34:37.739Z"
   },
   {
    "duration": 403,
    "start_time": "2022-03-04T14:34:37.783Z"
   },
   {
    "duration": 1424,
    "start_time": "2022-03-04T14:36:22.379Z"
   },
   {
    "duration": 1531,
    "start_time": "2022-03-04T14:36:28.974Z"
   },
   {
    "duration": 1684,
    "start_time": "2022-03-04T14:37:23.045Z"
   },
   {
    "duration": 1515,
    "start_time": "2022-03-04T14:37:29.004Z"
   },
   {
    "duration": 6,
    "start_time": "2022-03-04T14:38:13.668Z"
   },
   {
    "duration": 6,
    "start_time": "2022-03-04T14:42:25.982Z"
   },
   {
    "duration": 5,
    "start_time": "2022-03-04T14:42:56.757Z"
   },
   {
    "duration": 1593,
    "start_time": "2022-03-04T14:47:58.422Z"
   },
   {
    "duration": 5,
    "start_time": "2022-03-04T14:58:03.140Z"
   },
   {
    "duration": 904,
    "start_time": "2022-03-04T14:58:03.148Z"
   },
   {
    "duration": 37,
    "start_time": "2022-03-04T14:58:04.055Z"
   },
   {
    "duration": 39,
    "start_time": "2022-03-04T14:58:04.095Z"
   },
   {
    "duration": 65,
    "start_time": "2022-03-04T14:58:04.136Z"
   },
   {
    "duration": 28,
    "start_time": "2022-03-04T14:58:04.203Z"
   },
   {
    "duration": 47,
    "start_time": "2022-03-04T14:58:04.237Z"
   },
   {
    "duration": 42,
    "start_time": "2022-03-04T14:58:04.289Z"
   },
   {
    "duration": 10,
    "start_time": "2022-03-04T14:58:04.334Z"
   },
   {
    "duration": 6,
    "start_time": "2022-03-04T14:58:04.375Z"
   },
   {
    "duration": 12,
    "start_time": "2022-03-04T14:58:04.384Z"
   },
   {
    "duration": 23,
    "start_time": "2022-03-04T14:58:04.399Z"
   },
   {
    "duration": 33,
    "start_time": "2022-03-04T14:58:04.424Z"
   },
   {
    "duration": 12,
    "start_time": "2022-03-04T14:58:04.460Z"
   },
   {
    "duration": 19,
    "start_time": "2022-03-04T14:58:04.475Z"
   },
   {
    "duration": 38,
    "start_time": "2022-03-04T14:58:04.497Z"
   },
   {
    "duration": 14,
    "start_time": "2022-03-04T14:58:04.538Z"
   },
   {
    "duration": 385,
    "start_time": "2022-03-04T14:58:04.555Z"
   },
   {
    "duration": 30,
    "start_time": "2022-03-04T14:58:04.944Z"
   },
   {
    "duration": 25,
    "start_time": "2022-03-04T14:58:04.977Z"
   },
   {
    "duration": 23,
    "start_time": "2022-03-04T14:58:05.004Z"
   },
   {
    "duration": 7,
    "start_time": "2022-03-04T14:58:05.030Z"
   },
   {
    "duration": 5359,
    "start_time": "2022-03-04T14:58:05.039Z"
   },
   {
    "duration": 1156,
    "start_time": "2022-03-04T14:58:10.401Z"
   },
   {
    "duration": 4,
    "start_time": "2022-03-04T14:58:11.559Z"
   },
   {
    "duration": 9,
    "start_time": "2022-03-04T14:58:11.573Z"
   },
   {
    "duration": 10,
    "start_time": "2022-03-04T14:58:11.584Z"
   },
   {
    "duration": 1542,
    "start_time": "2022-03-04T14:58:11.597Z"
   },
   {
    "duration": 4,
    "start_time": "2022-03-04T14:58:13.141Z"
   },
   {
    "duration": 94,
    "start_time": "2022-03-04T14:58:13.148Z"
   },
   {
    "duration": 5,
    "start_time": "2022-03-04T14:58:13.245Z"
   },
   {
    "duration": 25,
    "start_time": "2022-03-04T14:58:13.252Z"
   },
   {
    "duration": 2194,
    "start_time": "2022-03-04T14:58:13.280Z"
   },
   {
    "duration": 23614,
    "start_time": "2022-03-04T14:58:15.477Z"
   },
   {
    "duration": 71856,
    "start_time": "2022-03-04T14:58:39.094Z"
   },
   {
    "duration": 1425,
    "start_time": "2022-03-04T14:59:50.953Z"
   },
   {
    "duration": 19,
    "start_time": "2022-03-04T14:59:52.381Z"
   },
   {
    "duration": 18,
    "start_time": "2022-03-04T14:59:52.402Z"
   },
   {
    "duration": 5,
    "start_time": "2022-03-04T15:00:42.094Z"
   },
   {
    "duration": 5,
    "start_time": "2022-03-04T15:01:16.253Z"
   },
   {
    "duration": 6,
    "start_time": "2022-03-04T15:02:31.625Z"
   },
   {
    "duration": 891,
    "start_time": "2022-03-04T15:02:31.634Z"
   },
   {
    "duration": 48,
    "start_time": "2022-03-04T15:02:32.528Z"
   },
   {
    "duration": 47,
    "start_time": "2022-03-04T15:02:32.580Z"
   },
   {
    "duration": 53,
    "start_time": "2022-03-04T15:02:32.630Z"
   },
   {
    "duration": 28,
    "start_time": "2022-03-04T15:02:32.686Z"
   },
   {
    "duration": 19,
    "start_time": "2022-03-04T15:02:32.717Z"
   },
   {
    "duration": 29,
    "start_time": "2022-03-04T15:02:32.772Z"
   },
   {
    "duration": 7,
    "start_time": "2022-03-04T15:02:32.804Z"
   },
   {
    "duration": 26,
    "start_time": "2022-03-04T15:02:32.813Z"
   },
   {
    "duration": 31,
    "start_time": "2022-03-04T15:02:32.842Z"
   },
   {
    "duration": 5,
    "start_time": "2022-03-04T15:02:32.877Z"
   },
   {
    "duration": 9,
    "start_time": "2022-03-04T15:02:32.884Z"
   },
   {
    "duration": 13,
    "start_time": "2022-03-04T15:02:32.895Z"
   },
   {
    "duration": 10,
    "start_time": "2022-03-04T15:02:32.911Z"
   },
   {
    "duration": 62,
    "start_time": "2022-03-04T15:02:32.923Z"
   },
   {
    "duration": 6,
    "start_time": "2022-03-04T15:02:32.988Z"
   },
   {
    "duration": 425,
    "start_time": "2022-03-04T15:02:32.997Z"
   },
   {
    "duration": 22,
    "start_time": "2022-03-04T15:02:33.425Z"
   },
   {
    "duration": 48,
    "start_time": "2022-03-04T15:02:33.450Z"
   },
   {
    "duration": 25,
    "start_time": "2022-03-04T15:02:33.501Z"
   },
   {
    "duration": 20,
    "start_time": "2022-03-04T15:02:33.528Z"
   },
   {
    "duration": 5570,
    "start_time": "2022-03-04T15:02:33.554Z"
   },
   {
    "duration": 1247,
    "start_time": "2022-03-04T15:02:39.126Z"
   },
   {
    "duration": 4,
    "start_time": "2022-03-04T15:02:40.375Z"
   },
   {
    "duration": 13,
    "start_time": "2022-03-04T15:02:40.381Z"
   },
   {
    "duration": 5,
    "start_time": "2022-03-04T15:02:40.397Z"
   },
   {
    "duration": 1576,
    "start_time": "2022-03-04T15:02:40.404Z"
   },
   {
    "duration": 4,
    "start_time": "2022-03-04T15:02:41.983Z"
   },
   {
    "duration": 98,
    "start_time": "2022-03-04T15:02:41.990Z"
   },
   {
    "duration": 4,
    "start_time": "2022-03-04T15:02:42.091Z"
   },
   {
    "duration": 13,
    "start_time": "2022-03-04T15:02:42.098Z"
   },
   {
    "duration": 2560,
    "start_time": "2022-03-04T15:02:42.114Z"
   },
   {
    "duration": 22207,
    "start_time": "2022-03-04T15:02:44.677Z"
   },
   {
    "duration": 71832,
    "start_time": "2022-03-04T15:03:06.887Z"
   },
   {
    "duration": 1574,
    "start_time": "2022-03-04T15:04:18.721Z"
   },
   {
    "duration": 17,
    "start_time": "2022-03-04T15:04:20.298Z"
   },
   {
    "duration": 5,
    "start_time": "2022-03-04T15:04:20.318Z"
   },
   {
    "duration": 6,
    "start_time": "2022-03-04T15:04:20.325Z"
   },
   {
    "duration": 51,
    "start_time": "2022-03-04T15:04:20.334Z"
   },
   {
    "duration": 7,
    "start_time": "2022-03-04T15:11:11.198Z"
   },
   {
    "duration": 877,
    "start_time": "2022-03-04T15:11:11.208Z"
   },
   {
    "duration": 42,
    "start_time": "2022-03-04T15:11:12.089Z"
   },
   {
    "duration": 59,
    "start_time": "2022-03-04T15:11:12.134Z"
   },
   {
    "duration": 48,
    "start_time": "2022-03-04T15:11:12.195Z"
   },
   {
    "duration": 41,
    "start_time": "2022-03-04T15:11:12.245Z"
   },
   {
    "duration": 17,
    "start_time": "2022-03-04T15:11:12.289Z"
   },
   {
    "duration": 40,
    "start_time": "2022-03-04T15:11:12.309Z"
   },
   {
    "duration": 7,
    "start_time": "2022-03-04T15:11:12.352Z"
   },
   {
    "duration": 38,
    "start_time": "2022-03-04T15:11:12.374Z"
   },
   {
    "duration": 28,
    "start_time": "2022-03-04T15:11:12.414Z"
   },
   {
    "duration": 18,
    "start_time": "2022-03-04T15:11:12.445Z"
   },
   {
    "duration": 34,
    "start_time": "2022-03-04T15:11:12.465Z"
   },
   {
    "duration": 25,
    "start_time": "2022-03-04T15:11:12.502Z"
   },
   {
    "duration": 30,
    "start_time": "2022-03-04T15:11:12.529Z"
   },
   {
    "duration": 42,
    "start_time": "2022-03-04T15:11:12.562Z"
   },
   {
    "duration": 16,
    "start_time": "2022-03-04T15:11:12.606Z"
   },
   {
    "duration": 412,
    "start_time": "2022-03-04T15:11:12.624Z"
   },
   {
    "duration": 36,
    "start_time": "2022-03-04T15:11:13.039Z"
   },
   {
    "duration": 25,
    "start_time": "2022-03-04T15:11:13.078Z"
   },
   {
    "duration": 27,
    "start_time": "2022-03-04T15:11:13.105Z"
   },
   {
    "duration": 7,
    "start_time": "2022-03-04T15:11:13.135Z"
   },
   {
    "duration": 5738,
    "start_time": "2022-03-04T15:11:13.183Z"
   },
   {
    "duration": 1272,
    "start_time": "2022-03-04T15:11:18.924Z"
   },
   {
    "duration": 3,
    "start_time": "2022-03-04T15:11:20.199Z"
   },
   {
    "duration": 10,
    "start_time": "2022-03-04T15:11:20.204Z"
   },
   {
    "duration": 5,
    "start_time": "2022-03-04T15:11:20.217Z"
   },
   {
    "duration": 1477,
    "start_time": "2022-03-04T15:11:20.224Z"
   },
   {
    "duration": 4,
    "start_time": "2022-03-04T15:11:21.704Z"
   },
   {
    "duration": 98,
    "start_time": "2022-03-04T15:11:21.711Z"
   },
   {
    "duration": 4,
    "start_time": "2022-03-04T15:11:21.812Z"
   },
   {
    "duration": 15,
    "start_time": "2022-03-04T15:11:21.818Z"
   },
   {
    "duration": 2544,
    "start_time": "2022-03-04T15:11:21.835Z"
   },
   {
    "duration": 22209,
    "start_time": "2022-03-04T15:11:24.382Z"
   },
   {
    "duration": 72732,
    "start_time": "2022-03-04T15:11:46.593Z"
   },
   {
    "duration": 1575,
    "start_time": "2022-03-04T15:12:59.327Z"
   },
   {
    "duration": 17,
    "start_time": "2022-03-04T15:13:00.905Z"
   },
   {
    "duration": 18,
    "start_time": "2022-03-04T15:13:00.925Z"
   }
  ],
  "kernelspec": {
   "display_name": "Python 3 (ipykernel)",
   "language": "python",
   "name": "python3"
  },
  "language_info": {
   "codemirror_mode": {
    "name": "ipython",
    "version": 3
   },
   "file_extension": ".py",
   "mimetype": "text/x-python",
   "name": "python",
   "nbconvert_exporter": "python",
   "pygments_lexer": "ipython3",
   "version": "3.9.7"
  },
  "toc": {
   "base_numbering": 1,
   "nav_menu": {},
   "number_sections": true,
   "sideBar": true,
   "skip_h1_title": true,
   "title_cell": "Содержание",
   "title_sidebar": "Contents",
   "toc_cell": true,
   "toc_position": {},
   "toc_section_display": true,
   "toc_window_display": true
  }
 },
 "nbformat": 4,
 "nbformat_minor": 2
}
