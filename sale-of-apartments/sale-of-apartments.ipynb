{
 "cells": [
  {
   "cell_type": "markdown",
   "metadata": {},
   "source": [
    "# Исследование объявлений о продаже квартир\n",
    "\n",
    "Заказчик предоставил данные сервиса Яндекс.Недвижимость, где содержится архив объевлений о продаже квартир в Санкт-Петербурге и соседних населённых пунктах за несколько лет. По каждой квартире на продажу доступны два вида данных. Первые вписаны пользователем, вторые получены автоматически на основе картографических данных. Например, расстояние до центра, аэропорта, ближайшего парка и водоёма. \n",
    "\n",
    "**Цель исследования** - исследовать объявления о продаже квартир в Санкт-Петербурге, отследив и отбросив аномалии.\n",
    "\n",
    "**Ход исследования**\n",
    "\n",
    "Данные сервиса Яндекс.Недвижимость будут получены из файла real_estate_data.csv. О качестве данных ничего не известно. Поэтому перед проведением основого анализа необходимо провести предобработку данных.\n",
    "\n",
    "Таким образом, исследование можно разделить на следующие этапы:\n",
    "\n",
    "1. Изучение данных из файла.\n",
    "2. Предобработка данных.\n",
    "3. Расчеты и добавление результатов в таблицу.\n",
    "4. Исследовательский анализ данных.\n",
    "                                                            "
   ]
  },
  {
   "cell_type": "markdown",
   "metadata": {
    "toc": true
   },
   "source": [
    "<h1>Содержание<span class=\"tocSkip\"></span></h1>\n",
    "<div class=\"toc\"><ul class=\"toc-item\"><li><span><a href=\"#Изучение-данных-из-файла\" data-toc-modified-id=\"Изучение-данных-из-файла-1\"><span class=\"toc-item-num\">1&nbsp;&nbsp;</span>Изучение данных из файла</a></span></li><li><span><a href=\"#Предобработка-данных\" data-toc-modified-id=\"Предобработка-данных-2\"><span class=\"toc-item-num\">2&nbsp;&nbsp;</span>Предобработка данных</a></span><ul class=\"toc-item\"><li><span><a href=\"#Обработка-пропусков\" data-toc-modified-id=\"Обработка-пропусков-2.1\"><span class=\"toc-item-num\">2.1&nbsp;&nbsp;</span>Обработка пропусков</a></span></li><li><span><a href=\"#Изменение-типа-данных\" data-toc-modified-id=\"Изменение-типа-данных-2.2\"><span class=\"toc-item-num\">2.2&nbsp;&nbsp;</span>Изменение типа данных</a></span></li></ul></li><li><span><a href=\"#Расчёты-и-добавление-результатов-в-таблицу\" data-toc-modified-id=\"Расчёты-и-добавление-результатов-в-таблицу-3\"><span class=\"toc-item-num\">3&nbsp;&nbsp;</span>Расчёты и добавление результатов в таблицу</a></span></li><li><span><a href=\"#Исследовательский-анализ-данных\" data-toc-modified-id=\"Исследовательский-анализ-данных-4\"><span class=\"toc-item-num\">4&nbsp;&nbsp;</span>Исследовательский анализ данных</a></span><ul class=\"toc-item\"><li><span><a href=\"#Анализ-времени-продажи-квартиры\" data-toc-modified-id=\"Анализ-времени-продажи-квартиры-4.1\"><span class=\"toc-item-num\">4.1&nbsp;&nbsp;</span>Анализ времени продажи квартиры</a></span></li><li><span><a href=\"#Редактирование-значений-времени-продажи-квартир\" data-toc-modified-id=\"Редактирование-значений-времени-продажи-квартир-4.2\"><span class=\"toc-item-num\">4.2&nbsp;&nbsp;</span>Редактирование значений времени продажи квартир</a></span></li><li><span><a href=\"#Влияние-факторов-на-стоимость-квартиры\" data-toc-modified-id=\"Влияние-факторов-на-стоимость-квартиры-4.3\"><span class=\"toc-item-num\">4.3&nbsp;&nbsp;</span>Влияние факторов на стоимость квартиры</a></span></li><li><span><a href=\"#Анализ-предложения-квартир\" data-toc-modified-id=\"Анализ-предложения-квартир-4.4\"><span class=\"toc-item-num\">4.4&nbsp;&nbsp;</span>Анализ предложения квартир</a></span></li><li><span><a href=\"#Анализ-квартир-в-центре-города\" data-toc-modified-id=\"Анализ-квартир-в-центре-города-4.5\"><span class=\"toc-item-num\">4.5&nbsp;&nbsp;</span>Анализ квартир в центре города</a></span></li></ul></li><li><span><a href=\"#Общий-вывод\" data-toc-modified-id=\"Общий-вывод-5\"><span class=\"toc-item-num\">5&nbsp;&nbsp;</span>Общий вывод</a></span></li>"
   ]
  },
  {
   "cell_type": "markdown",
   "metadata": {},
   "source": [
    "## Изучение данных из файла"
   ]
  },
  {
   "cell_type": "code",
   "execution_count": 148,
   "metadata": {},
   "outputs": [],
   "source": [
    "# импортируем все необходимые для исследования библиотеки\n",
    "import pandas as pd\n",
    "import matplotlib.pyplot as plt\n",
    "import seaborn as sns"
   ]
  },
  {
   "cell_type": "code",
   "execution_count": 149,
   "metadata": {},
   "outputs": [],
   "source": [
    "# загрузим файл с данными и сохраним его в df\n",
    "df = pd.read_csv('/datasets/real_estate_data.csv', sep='\\t')"
   ]
  },
  {
   "cell_type": "code",
   "execution_count": 150,
   "metadata": {},
   "outputs": [
    {
     "data": {
      "text/html": [
       "<div>\n",
       "<style scoped>\n",
       "    .dataframe tbody tr th:only-of-type {\n",
       "        vertical-align: middle;\n",
       "    }\n",
       "\n",
       "    .dataframe tbody tr th {\n",
       "        vertical-align: top;\n",
       "    }\n",
       "\n",
       "    .dataframe thead th {\n",
       "        text-align: right;\n",
       "    }\n",
       "</style>\n",
       "<table border=\"1\" class=\"dataframe\">\n",
       "  <thead>\n",
       "    <tr style=\"text-align: right;\">\n",
       "      <th></th>\n",
       "      <th>total_images</th>\n",
       "      <th>last_price</th>\n",
       "      <th>total_area</th>\n",
       "      <th>first_day_exposition</th>\n",
       "      <th>rooms</th>\n",
       "      <th>ceiling_height</th>\n",
       "      <th>floors_total</th>\n",
       "      <th>living_area</th>\n",
       "      <th>floor</th>\n",
       "      <th>is_apartment</th>\n",
       "      <th>...</th>\n",
       "      <th>kitchen_area</th>\n",
       "      <th>balcony</th>\n",
       "      <th>locality_name</th>\n",
       "      <th>airports_nearest</th>\n",
       "      <th>cityCenters_nearest</th>\n",
       "      <th>parks_around3000</th>\n",
       "      <th>parks_nearest</th>\n",
       "      <th>ponds_around3000</th>\n",
       "      <th>ponds_nearest</th>\n",
       "      <th>days_exposition</th>\n",
       "    </tr>\n",
       "  </thead>\n",
       "  <tbody>\n",
       "    <tr>\n",
       "      <td>0</td>\n",
       "      <td>20</td>\n",
       "      <td>13000000.0</td>\n",
       "      <td>108.00</td>\n",
       "      <td>2019-03-07T00:00:00</td>\n",
       "      <td>3</td>\n",
       "      <td>2.70</td>\n",
       "      <td>16.0</td>\n",
       "      <td>51.00</td>\n",
       "      <td>8</td>\n",
       "      <td>NaN</td>\n",
       "      <td>...</td>\n",
       "      <td>25.00</td>\n",
       "      <td>NaN</td>\n",
       "      <td>Санкт-Петербург</td>\n",
       "      <td>18863.0</td>\n",
       "      <td>16028.0</td>\n",
       "      <td>1.0</td>\n",
       "      <td>482.0</td>\n",
       "      <td>2.0</td>\n",
       "      <td>755.0</td>\n",
       "      <td>NaN</td>\n",
       "    </tr>\n",
       "    <tr>\n",
       "      <td>1</td>\n",
       "      <td>7</td>\n",
       "      <td>3350000.0</td>\n",
       "      <td>40.40</td>\n",
       "      <td>2018-12-04T00:00:00</td>\n",
       "      <td>1</td>\n",
       "      <td>NaN</td>\n",
       "      <td>11.0</td>\n",
       "      <td>18.60</td>\n",
       "      <td>1</td>\n",
       "      <td>NaN</td>\n",
       "      <td>...</td>\n",
       "      <td>11.00</td>\n",
       "      <td>2.0</td>\n",
       "      <td>посёлок Шушары</td>\n",
       "      <td>12817.0</td>\n",
       "      <td>18603.0</td>\n",
       "      <td>0.0</td>\n",
       "      <td>NaN</td>\n",
       "      <td>0.0</td>\n",
       "      <td>NaN</td>\n",
       "      <td>81.0</td>\n",
       "    </tr>\n",
       "    <tr>\n",
       "      <td>2</td>\n",
       "      <td>10</td>\n",
       "      <td>5196000.0</td>\n",
       "      <td>56.00</td>\n",
       "      <td>2015-08-20T00:00:00</td>\n",
       "      <td>2</td>\n",
       "      <td>NaN</td>\n",
       "      <td>5.0</td>\n",
       "      <td>34.30</td>\n",
       "      <td>4</td>\n",
       "      <td>NaN</td>\n",
       "      <td>...</td>\n",
       "      <td>8.30</td>\n",
       "      <td>0.0</td>\n",
       "      <td>Санкт-Петербург</td>\n",
       "      <td>21741.0</td>\n",
       "      <td>13933.0</td>\n",
       "      <td>1.0</td>\n",
       "      <td>90.0</td>\n",
       "      <td>2.0</td>\n",
       "      <td>574.0</td>\n",
       "      <td>558.0</td>\n",
       "    </tr>\n",
       "    <tr>\n",
       "      <td>3</td>\n",
       "      <td>0</td>\n",
       "      <td>64900000.0</td>\n",
       "      <td>159.00</td>\n",
       "      <td>2015-07-24T00:00:00</td>\n",
       "      <td>3</td>\n",
       "      <td>NaN</td>\n",
       "      <td>14.0</td>\n",
       "      <td>NaN</td>\n",
       "      <td>9</td>\n",
       "      <td>NaN</td>\n",
       "      <td>...</td>\n",
       "      <td>NaN</td>\n",
       "      <td>0.0</td>\n",
       "      <td>Санкт-Петербург</td>\n",
       "      <td>28098.0</td>\n",
       "      <td>6800.0</td>\n",
       "      <td>2.0</td>\n",
       "      <td>84.0</td>\n",
       "      <td>3.0</td>\n",
       "      <td>234.0</td>\n",
       "      <td>424.0</td>\n",
       "    </tr>\n",
       "    <tr>\n",
       "      <td>4</td>\n",
       "      <td>2</td>\n",
       "      <td>10000000.0</td>\n",
       "      <td>100.00</td>\n",
       "      <td>2018-06-19T00:00:00</td>\n",
       "      <td>2</td>\n",
       "      <td>3.03</td>\n",
       "      <td>14.0</td>\n",
       "      <td>32.00</td>\n",
       "      <td>13</td>\n",
       "      <td>NaN</td>\n",
       "      <td>...</td>\n",
       "      <td>41.00</td>\n",
       "      <td>NaN</td>\n",
       "      <td>Санкт-Петербург</td>\n",
       "      <td>31856.0</td>\n",
       "      <td>8098.0</td>\n",
       "      <td>2.0</td>\n",
       "      <td>112.0</td>\n",
       "      <td>1.0</td>\n",
       "      <td>48.0</td>\n",
       "      <td>121.0</td>\n",
       "    </tr>\n",
       "    <tr>\n",
       "      <td>5</td>\n",
       "      <td>10</td>\n",
       "      <td>2890000.0</td>\n",
       "      <td>30.40</td>\n",
       "      <td>2018-09-10T00:00:00</td>\n",
       "      <td>1</td>\n",
       "      <td>NaN</td>\n",
       "      <td>12.0</td>\n",
       "      <td>14.40</td>\n",
       "      <td>5</td>\n",
       "      <td>NaN</td>\n",
       "      <td>...</td>\n",
       "      <td>9.10</td>\n",
       "      <td>NaN</td>\n",
       "      <td>городской посёлок Янино-1</td>\n",
       "      <td>NaN</td>\n",
       "      <td>NaN</td>\n",
       "      <td>NaN</td>\n",
       "      <td>NaN</td>\n",
       "      <td>NaN</td>\n",
       "      <td>NaN</td>\n",
       "      <td>55.0</td>\n",
       "    </tr>\n",
       "    <tr>\n",
       "      <td>6</td>\n",
       "      <td>6</td>\n",
       "      <td>3700000.0</td>\n",
       "      <td>37.30</td>\n",
       "      <td>2017-11-02T00:00:00</td>\n",
       "      <td>1</td>\n",
       "      <td>NaN</td>\n",
       "      <td>26.0</td>\n",
       "      <td>10.60</td>\n",
       "      <td>6</td>\n",
       "      <td>NaN</td>\n",
       "      <td>...</td>\n",
       "      <td>14.40</td>\n",
       "      <td>1.0</td>\n",
       "      <td>посёлок Парголово</td>\n",
       "      <td>52996.0</td>\n",
       "      <td>19143.0</td>\n",
       "      <td>0.0</td>\n",
       "      <td>NaN</td>\n",
       "      <td>0.0</td>\n",
       "      <td>NaN</td>\n",
       "      <td>155.0</td>\n",
       "    </tr>\n",
       "    <tr>\n",
       "      <td>7</td>\n",
       "      <td>5</td>\n",
       "      <td>7915000.0</td>\n",
       "      <td>71.60</td>\n",
       "      <td>2019-04-18T00:00:00</td>\n",
       "      <td>2</td>\n",
       "      <td>NaN</td>\n",
       "      <td>24.0</td>\n",
       "      <td>NaN</td>\n",
       "      <td>22</td>\n",
       "      <td>NaN</td>\n",
       "      <td>...</td>\n",
       "      <td>18.90</td>\n",
       "      <td>2.0</td>\n",
       "      <td>Санкт-Петербург</td>\n",
       "      <td>23982.0</td>\n",
       "      <td>11634.0</td>\n",
       "      <td>0.0</td>\n",
       "      <td>NaN</td>\n",
       "      <td>0.0</td>\n",
       "      <td>NaN</td>\n",
       "      <td>NaN</td>\n",
       "    </tr>\n",
       "    <tr>\n",
       "      <td>8</td>\n",
       "      <td>20</td>\n",
       "      <td>2900000.0</td>\n",
       "      <td>33.16</td>\n",
       "      <td>2018-05-23T00:00:00</td>\n",
       "      <td>1</td>\n",
       "      <td>NaN</td>\n",
       "      <td>27.0</td>\n",
       "      <td>15.43</td>\n",
       "      <td>26</td>\n",
       "      <td>NaN</td>\n",
       "      <td>...</td>\n",
       "      <td>8.81</td>\n",
       "      <td>NaN</td>\n",
       "      <td>посёлок Мурино</td>\n",
       "      <td>NaN</td>\n",
       "      <td>NaN</td>\n",
       "      <td>NaN</td>\n",
       "      <td>NaN</td>\n",
       "      <td>NaN</td>\n",
       "      <td>NaN</td>\n",
       "      <td>189.0</td>\n",
       "    </tr>\n",
       "    <tr>\n",
       "      <td>9</td>\n",
       "      <td>18</td>\n",
       "      <td>5400000.0</td>\n",
       "      <td>61.00</td>\n",
       "      <td>2017-02-26T00:00:00</td>\n",
       "      <td>3</td>\n",
       "      <td>2.50</td>\n",
       "      <td>9.0</td>\n",
       "      <td>43.60</td>\n",
       "      <td>7</td>\n",
       "      <td>NaN</td>\n",
       "      <td>...</td>\n",
       "      <td>6.50</td>\n",
       "      <td>2.0</td>\n",
       "      <td>Санкт-Петербург</td>\n",
       "      <td>50898.0</td>\n",
       "      <td>15008.0</td>\n",
       "      <td>0.0</td>\n",
       "      <td>NaN</td>\n",
       "      <td>0.0</td>\n",
       "      <td>NaN</td>\n",
       "      <td>289.0</td>\n",
       "    </tr>\n",
       "  </tbody>\n",
       "</table>\n",
       "<p>10 rows × 22 columns</p>\n",
       "</div>"
      ],
      "text/plain": [
       "   total_images  last_price  total_area first_day_exposition  rooms  \\\n",
       "0            20  13000000.0      108.00  2019-03-07T00:00:00      3   \n",
       "1             7   3350000.0       40.40  2018-12-04T00:00:00      1   \n",
       "2            10   5196000.0       56.00  2015-08-20T00:00:00      2   \n",
       "3             0  64900000.0      159.00  2015-07-24T00:00:00      3   \n",
       "4             2  10000000.0      100.00  2018-06-19T00:00:00      2   \n",
       "5            10   2890000.0       30.40  2018-09-10T00:00:00      1   \n",
       "6             6   3700000.0       37.30  2017-11-02T00:00:00      1   \n",
       "7             5   7915000.0       71.60  2019-04-18T00:00:00      2   \n",
       "8            20   2900000.0       33.16  2018-05-23T00:00:00      1   \n",
       "9            18   5400000.0       61.00  2017-02-26T00:00:00      3   \n",
       "\n",
       "   ceiling_height  floors_total  living_area  floor is_apartment  ...  \\\n",
       "0            2.70          16.0        51.00      8          NaN  ...   \n",
       "1             NaN          11.0        18.60      1          NaN  ...   \n",
       "2             NaN           5.0        34.30      4          NaN  ...   \n",
       "3             NaN          14.0          NaN      9          NaN  ...   \n",
       "4            3.03          14.0        32.00     13          NaN  ...   \n",
       "5             NaN          12.0        14.40      5          NaN  ...   \n",
       "6             NaN          26.0        10.60      6          NaN  ...   \n",
       "7             NaN          24.0          NaN     22          NaN  ...   \n",
       "8             NaN          27.0        15.43     26          NaN  ...   \n",
       "9            2.50           9.0        43.60      7          NaN  ...   \n",
       "\n",
       "   kitchen_area  balcony              locality_name  airports_nearest  \\\n",
       "0         25.00      NaN            Санкт-Петербург           18863.0   \n",
       "1         11.00      2.0             посёлок Шушары           12817.0   \n",
       "2          8.30      0.0            Санкт-Петербург           21741.0   \n",
       "3           NaN      0.0            Санкт-Петербург           28098.0   \n",
       "4         41.00      NaN            Санкт-Петербург           31856.0   \n",
       "5          9.10      NaN  городской посёлок Янино-1               NaN   \n",
       "6         14.40      1.0          посёлок Парголово           52996.0   \n",
       "7         18.90      2.0            Санкт-Петербург           23982.0   \n",
       "8          8.81      NaN             посёлок Мурино               NaN   \n",
       "9          6.50      2.0            Санкт-Петербург           50898.0   \n",
       "\n",
       "  cityCenters_nearest  parks_around3000  parks_nearest  ponds_around3000  \\\n",
       "0             16028.0               1.0          482.0               2.0   \n",
       "1             18603.0               0.0            NaN               0.0   \n",
       "2             13933.0               1.0           90.0               2.0   \n",
       "3              6800.0               2.0           84.0               3.0   \n",
       "4              8098.0               2.0          112.0               1.0   \n",
       "5                 NaN               NaN            NaN               NaN   \n",
       "6             19143.0               0.0            NaN               0.0   \n",
       "7             11634.0               0.0            NaN               0.0   \n",
       "8                 NaN               NaN            NaN               NaN   \n",
       "9             15008.0               0.0            NaN               0.0   \n",
       "\n",
       "   ponds_nearest  days_exposition  \n",
       "0          755.0              NaN  \n",
       "1            NaN             81.0  \n",
       "2          574.0            558.0  \n",
       "3          234.0            424.0  \n",
       "4           48.0            121.0  \n",
       "5            NaN             55.0  \n",
       "6            NaN            155.0  \n",
       "7            NaN              NaN  \n",
       "8            NaN            189.0  \n",
       "9            NaN            289.0  \n",
       "\n",
       "[10 rows x 22 columns]"
      ]
     },
     "execution_count": 150,
     "metadata": {},
     "output_type": "execute_result"
    }
   ],
   "source": [
    "# выведем на экран первые 10 строк таблицы df\n",
    "df.head(10)"
   ]
  },
  {
   "cell_type": "markdown",
   "metadata": {},
   "source": [
    "В первых десяти строчках мы уже видим множество пропущенных значений. В дальнейшем в процессе предобработки данных изучим их природу и выполним необходимые с ними действия."
   ]
  },
  {
   "cell_type": "code",
   "execution_count": 151,
   "metadata": {},
   "outputs": [
    {
     "name": "stdout",
     "output_type": "stream",
     "text": [
      "<class 'pandas.core.frame.DataFrame'>\n",
      "RangeIndex: 23699 entries, 0 to 23698\n",
      "Data columns (total 22 columns):\n",
      "total_images            23699 non-null int64\n",
      "last_price              23699 non-null float64\n",
      "total_area              23699 non-null float64\n",
      "first_day_exposition    23699 non-null object\n",
      "rooms                   23699 non-null int64\n",
      "ceiling_height          14504 non-null float64\n",
      "floors_total            23613 non-null float64\n",
      "living_area             21796 non-null float64\n",
      "floor                   23699 non-null int64\n",
      "is_apartment            2775 non-null object\n",
      "studio                  23699 non-null bool\n",
      "open_plan               23699 non-null bool\n",
      "kitchen_area            21421 non-null float64\n",
      "balcony                 12180 non-null float64\n",
      "locality_name           23650 non-null object\n",
      "airports_nearest        18157 non-null float64\n",
      "cityCenters_nearest     18180 non-null float64\n",
      "parks_around3000        18181 non-null float64\n",
      "parks_nearest           8079 non-null float64\n",
      "ponds_around3000        18181 non-null float64\n",
      "ponds_nearest           9110 non-null float64\n",
      "days_exposition         20518 non-null float64\n",
      "dtypes: bool(2), float64(14), int64(3), object(3)\n",
      "memory usage: 3.7+ MB\n"
     ]
    }
   ],
   "source": [
    "# получим общую информацию о данных в таблице df\n",
    "df.info()"
   ]
  },
  {
   "cell_type": "code",
   "execution_count": 152,
   "metadata": {},
   "outputs": [
    {
     "data": {
      "text/html": [
       "<div>\n",
       "<style scoped>\n",
       "    .dataframe tbody tr th:only-of-type {\n",
       "        vertical-align: middle;\n",
       "    }\n",
       "\n",
       "    .dataframe tbody tr th {\n",
       "        vertical-align: top;\n",
       "    }\n",
       "\n",
       "    .dataframe thead th {\n",
       "        text-align: right;\n",
       "    }\n",
       "</style>\n",
       "<table border=\"1\" class=\"dataframe\">\n",
       "  <thead>\n",
       "    <tr style=\"text-align: right;\">\n",
       "      <th></th>\n",
       "      <th>total_images</th>\n",
       "      <th>last_price</th>\n",
       "      <th>total_area</th>\n",
       "      <th>rooms</th>\n",
       "      <th>ceiling_height</th>\n",
       "      <th>floors_total</th>\n",
       "      <th>living_area</th>\n",
       "      <th>floor</th>\n",
       "      <th>kitchen_area</th>\n",
       "      <th>balcony</th>\n",
       "      <th>airports_nearest</th>\n",
       "      <th>cityCenters_nearest</th>\n",
       "      <th>parks_around3000</th>\n",
       "      <th>parks_nearest</th>\n",
       "      <th>ponds_around3000</th>\n",
       "      <th>ponds_nearest</th>\n",
       "      <th>days_exposition</th>\n",
       "    </tr>\n",
       "  </thead>\n",
       "  <tbody>\n",
       "    <tr>\n",
       "      <td>count</td>\n",
       "      <td>23699.000000</td>\n",
       "      <td>2.369900e+04</td>\n",
       "      <td>23699.000000</td>\n",
       "      <td>23699.000000</td>\n",
       "      <td>14504.000000</td>\n",
       "      <td>23613.000000</td>\n",
       "      <td>21796.000000</td>\n",
       "      <td>23699.000000</td>\n",
       "      <td>21421.000000</td>\n",
       "      <td>12180.000000</td>\n",
       "      <td>18157.000000</td>\n",
       "      <td>18180.000000</td>\n",
       "      <td>18181.000000</td>\n",
       "      <td>8079.000000</td>\n",
       "      <td>18181.000000</td>\n",
       "      <td>9110.000000</td>\n",
       "      <td>20518.000000</td>\n",
       "    </tr>\n",
       "    <tr>\n",
       "      <td>mean</td>\n",
       "      <td>9.858475</td>\n",
       "      <td>6.541549e+06</td>\n",
       "      <td>60.348651</td>\n",
       "      <td>2.070636</td>\n",
       "      <td>2.771499</td>\n",
       "      <td>10.673824</td>\n",
       "      <td>34.457852</td>\n",
       "      <td>5.892358</td>\n",
       "      <td>10.569807</td>\n",
       "      <td>1.150082</td>\n",
       "      <td>28793.672193</td>\n",
       "      <td>14191.277833</td>\n",
       "      <td>0.611408</td>\n",
       "      <td>490.804555</td>\n",
       "      <td>0.770255</td>\n",
       "      <td>517.980900</td>\n",
       "      <td>180.888634</td>\n",
       "    </tr>\n",
       "    <tr>\n",
       "      <td>std</td>\n",
       "      <td>5.682529</td>\n",
       "      <td>1.088701e+07</td>\n",
       "      <td>35.654083</td>\n",
       "      <td>1.078405</td>\n",
       "      <td>1.261056</td>\n",
       "      <td>6.597173</td>\n",
       "      <td>22.030445</td>\n",
       "      <td>4.885249</td>\n",
       "      <td>5.905438</td>\n",
       "      <td>1.071300</td>\n",
       "      <td>12630.880622</td>\n",
       "      <td>8608.386210</td>\n",
       "      <td>0.802074</td>\n",
       "      <td>342.317995</td>\n",
       "      <td>0.938346</td>\n",
       "      <td>277.720643</td>\n",
       "      <td>219.727988</td>\n",
       "    </tr>\n",
       "    <tr>\n",
       "      <td>min</td>\n",
       "      <td>0.000000</td>\n",
       "      <td>1.219000e+04</td>\n",
       "      <td>12.000000</td>\n",
       "      <td>0.000000</td>\n",
       "      <td>1.000000</td>\n",
       "      <td>1.000000</td>\n",
       "      <td>2.000000</td>\n",
       "      <td>1.000000</td>\n",
       "      <td>1.300000</td>\n",
       "      <td>0.000000</td>\n",
       "      <td>0.000000</td>\n",
       "      <td>181.000000</td>\n",
       "      <td>0.000000</td>\n",
       "      <td>1.000000</td>\n",
       "      <td>0.000000</td>\n",
       "      <td>13.000000</td>\n",
       "      <td>1.000000</td>\n",
       "    </tr>\n",
       "    <tr>\n",
       "      <td>25%</td>\n",
       "      <td>6.000000</td>\n",
       "      <td>3.400000e+06</td>\n",
       "      <td>40.000000</td>\n",
       "      <td>1.000000</td>\n",
       "      <td>2.520000</td>\n",
       "      <td>5.000000</td>\n",
       "      <td>18.600000</td>\n",
       "      <td>2.000000</td>\n",
       "      <td>7.000000</td>\n",
       "      <td>0.000000</td>\n",
       "      <td>18585.000000</td>\n",
       "      <td>9238.000000</td>\n",
       "      <td>0.000000</td>\n",
       "      <td>288.000000</td>\n",
       "      <td>0.000000</td>\n",
       "      <td>294.000000</td>\n",
       "      <td>45.000000</td>\n",
       "    </tr>\n",
       "    <tr>\n",
       "      <td>50%</td>\n",
       "      <td>9.000000</td>\n",
       "      <td>4.650000e+06</td>\n",
       "      <td>52.000000</td>\n",
       "      <td>2.000000</td>\n",
       "      <td>2.650000</td>\n",
       "      <td>9.000000</td>\n",
       "      <td>30.000000</td>\n",
       "      <td>4.000000</td>\n",
       "      <td>9.100000</td>\n",
       "      <td>1.000000</td>\n",
       "      <td>26726.000000</td>\n",
       "      <td>13098.500000</td>\n",
       "      <td>0.000000</td>\n",
       "      <td>455.000000</td>\n",
       "      <td>1.000000</td>\n",
       "      <td>502.000000</td>\n",
       "      <td>95.000000</td>\n",
       "    </tr>\n",
       "    <tr>\n",
       "      <td>75%</td>\n",
       "      <td>14.000000</td>\n",
       "      <td>6.800000e+06</td>\n",
       "      <td>69.900000</td>\n",
       "      <td>3.000000</td>\n",
       "      <td>2.800000</td>\n",
       "      <td>16.000000</td>\n",
       "      <td>42.300000</td>\n",
       "      <td>8.000000</td>\n",
       "      <td>12.000000</td>\n",
       "      <td>2.000000</td>\n",
       "      <td>37273.000000</td>\n",
       "      <td>16293.000000</td>\n",
       "      <td>1.000000</td>\n",
       "      <td>612.000000</td>\n",
       "      <td>1.000000</td>\n",
       "      <td>729.000000</td>\n",
       "      <td>232.000000</td>\n",
       "    </tr>\n",
       "    <tr>\n",
       "      <td>max</td>\n",
       "      <td>50.000000</td>\n",
       "      <td>7.630000e+08</td>\n",
       "      <td>900.000000</td>\n",
       "      <td>19.000000</td>\n",
       "      <td>100.000000</td>\n",
       "      <td>60.000000</td>\n",
       "      <td>409.700000</td>\n",
       "      <td>33.000000</td>\n",
       "      <td>112.000000</td>\n",
       "      <td>5.000000</td>\n",
       "      <td>84869.000000</td>\n",
       "      <td>65968.000000</td>\n",
       "      <td>3.000000</td>\n",
       "      <td>3190.000000</td>\n",
       "      <td>3.000000</td>\n",
       "      <td>1344.000000</td>\n",
       "      <td>1580.000000</td>\n",
       "    </tr>\n",
       "  </tbody>\n",
       "</table>\n",
       "</div>"
      ],
      "text/plain": [
       "       total_images    last_price    total_area         rooms  ceiling_height  \\\n",
       "count  23699.000000  2.369900e+04  23699.000000  23699.000000    14504.000000   \n",
       "mean       9.858475  6.541549e+06     60.348651      2.070636        2.771499   \n",
       "std        5.682529  1.088701e+07     35.654083      1.078405        1.261056   \n",
       "min        0.000000  1.219000e+04     12.000000      0.000000        1.000000   \n",
       "25%        6.000000  3.400000e+06     40.000000      1.000000        2.520000   \n",
       "50%        9.000000  4.650000e+06     52.000000      2.000000        2.650000   \n",
       "75%       14.000000  6.800000e+06     69.900000      3.000000        2.800000   \n",
       "max       50.000000  7.630000e+08    900.000000     19.000000      100.000000   \n",
       "\n",
       "       floors_total   living_area         floor  kitchen_area       balcony  \\\n",
       "count  23613.000000  21796.000000  23699.000000  21421.000000  12180.000000   \n",
       "mean      10.673824     34.457852      5.892358     10.569807      1.150082   \n",
       "std        6.597173     22.030445      4.885249      5.905438      1.071300   \n",
       "min        1.000000      2.000000      1.000000      1.300000      0.000000   \n",
       "25%        5.000000     18.600000      2.000000      7.000000      0.000000   \n",
       "50%        9.000000     30.000000      4.000000      9.100000      1.000000   \n",
       "75%       16.000000     42.300000      8.000000     12.000000      2.000000   \n",
       "max       60.000000    409.700000     33.000000    112.000000      5.000000   \n",
       "\n",
       "       airports_nearest  cityCenters_nearest  parks_around3000  parks_nearest  \\\n",
       "count      18157.000000         18180.000000      18181.000000    8079.000000   \n",
       "mean       28793.672193         14191.277833          0.611408     490.804555   \n",
       "std        12630.880622          8608.386210          0.802074     342.317995   \n",
       "min            0.000000           181.000000          0.000000       1.000000   \n",
       "25%        18585.000000          9238.000000          0.000000     288.000000   \n",
       "50%        26726.000000         13098.500000          0.000000     455.000000   \n",
       "75%        37273.000000         16293.000000          1.000000     612.000000   \n",
       "max        84869.000000         65968.000000          3.000000    3190.000000   \n",
       "\n",
       "       ponds_around3000  ponds_nearest  days_exposition  \n",
       "count      18181.000000    9110.000000     20518.000000  \n",
       "mean           0.770255     517.980900       180.888634  \n",
       "std            0.938346     277.720643       219.727988  \n",
       "min            0.000000      13.000000         1.000000  \n",
       "25%            0.000000     294.000000        45.000000  \n",
       "50%            1.000000     502.000000        95.000000  \n",
       "75%            1.000000     729.000000       232.000000  \n",
       "max            3.000000    1344.000000      1580.000000  "
      ]
     },
     "execution_count": 152,
     "metadata": {},
     "output_type": "execute_result"
    }
   ],
   "source": [
    "# применим describe для изучения других параметров таблицы df\n",
    "df.describe()"
   ]
  },
  {
   "cell_type": "markdown",
   "metadata": {},
   "source": [
    "Итак, в таблице 22 столбца. В столбцах встречаются следующие типы данных: bool - в двух столбцах; float - в четырнадцати столбцах; int - в трех столбцах; object - в трех столбцах.\n",
    "\n",
    "Согласно документации к данным:\n",
    "\n",
    "- airports_nearest — расстояние до ближайшего аэропорта в метрах (м);\n",
    "- balcony — число балконов;\n",
    "- ceiling_height — высота потолков (м);\n",
    "- cityCenters_nearest — расстояние до центра города (м);\n",
    "- days_exposition — сколько дней было размещено объявление (от публикации до снятия);\n",
    "- first_day_exposition — дата публикации;\n",
    "- floor — этаж;\n",
    "- floors_total — всего этажей в доме;\n",
    "- is_apartment — апартаменты (булев тип);\n",
    "- kitchen_area — площадь кухни в квадратных метрах (м²);\n",
    "- last_price — цена на момент снятия с публикации;\n",
    "- living_area — жилая площадь в квадратных метрах (м²);\n",
    "- locality_name — название населённого пункта;\n",
    "- open_plan — свободная планировка (булев тип);\n",
    "- parks_around3000 — число парков в радиусе 3 км;\n",
    "- parks_nearest — расстояние до ближайшего парка (м);\n",
    "- ponds_around3000 — число водоёмов в радиусе 3 км;\n",
    "- ponds_nearest — расстояние до ближайшего водоёма (м);\n",
    "- rooms — число комнат;\n",
    "- studio — квартира-студия (булев тип);\n",
    "- total_area — площадь квартиры в квадратных метрах (м²);\n",
    "- total_images — число фотографий квартиры в объявлении.\n",
    "\n",
    "Анализ общей информации показал, что в столбцах ceiling_height, floors_total, living_area, is_apartment, kitchen_area, balcony, locality_name, airports_nearest, cityCenters_nearest, parks_around3000, parks_nearest, ponds_around3000, ponds_nearest и days_exposition содержатся пропущенные значения.\n",
    "\n",
    "Далее обработаем пропущенные значения и изменим тип данных некоторых столбцов."
   ]
  },
  {
   "cell_type": "markdown",
   "metadata": {},
   "source": [
    "## Предобработка данных"
   ]
  },
  {
   "cell_type": "markdown",
   "metadata": {},
   "source": [
    "### Обработка пропусков"
   ]
  },
  {
   "cell_type": "code",
   "execution_count": 153,
   "metadata": {},
   "outputs": [
    {
     "data": {
      "text/plain": [
       "total_images                0\n",
       "last_price                  0\n",
       "total_area                  0\n",
       "first_day_exposition        0\n",
       "rooms                       0\n",
       "ceiling_height           9195\n",
       "floors_total               86\n",
       "living_area              1903\n",
       "floor                       0\n",
       "is_apartment            20924\n",
       "studio                      0\n",
       "open_plan                   0\n",
       "kitchen_area             2278\n",
       "balcony                 11519\n",
       "locality_name              49\n",
       "airports_nearest         5542\n",
       "cityCenters_nearest      5519\n",
       "parks_around3000         5518\n",
       "parks_nearest           15620\n",
       "ponds_around3000         5518\n",
       "ponds_nearest           14589\n",
       "days_exposition          3181\n",
       "dtype: int64"
      ]
     },
     "execution_count": 153,
     "metadata": {},
     "output_type": "execute_result"
    }
   ],
   "source": [
    "# найдем количество пропущенных значений в df\n",
    "df.isna().sum()"
   ]
  },
  {
   "cell_type": "markdown",
   "metadata": {},
   "source": [
    "Прозведем следующие действия с пропусками:\n",
    "- в столбцах ceiling_height и floors_total заменим пропуски на высоту потолков и количество этажей в этих же домах;\n",
    "- в столбцах living_area и kitchen_area заменим пропуски на медианное значение;\n",
    "- в столбце is_apartment заменим пропуски на False;\n",
    "- в столбцах balcony, parks_around3000 и ponds_around3000 заменим пропуски на 0, т.к., скорее всего, в таких квартирах нет балконов, а парки и пруды не расположены к ним близко;\n",
    "- строчки с пропущенными значениями в столбце locality_name можно удалить, так как они составляют всего 0.2% от всего объема;\n",
    "- пропуски в столбцах airports_nearest, cityCenters_nearest, parks_nearest, ponds_nearest и days_exposition оставим без изменений, чтобы не исказить статистику.\n"
   ]
  },
  {
   "cell_type": "markdown",
   "metadata": {},
   "source": [
    "Для того, чтобы заменить пропуски в столбцах ceiling_height и floors_total, убедимся, что квартиры, находящиеся на одном расстоянии от центра и аэропорта, находятся в одних и тех же домах с одинаковым количеством этажей."
   ]
  },
  {
   "cell_type": "code",
   "execution_count": 154,
   "metadata": {},
   "outputs": [
    {
     "data": {
      "text/plain": [
       "8460.0     61\n",
       "20802.0    32\n",
       "10720.0    30\n",
       "8434.0     27\n",
       "20444.0    27\n",
       "           ..\n",
       "13104.0     1\n",
       "11280.0     1\n",
       "27218.0     1\n",
       "10501.0     1\n",
       "208.0       1\n",
       "Name: cityCenters_nearest, Length: 7642, dtype: int64"
      ]
     },
     "execution_count": 154,
     "metadata": {},
     "output_type": "execute_result"
    }
   ],
   "source": [
    "# получим количество уникальных значений в столбце cityCenters_nearest\n",
    "df['cityCenters_nearest'].value_counts()"
   ]
  },
  {
   "cell_type": "code",
   "execution_count": 155,
   "metadata": {},
   "outputs": [
    {
     "data": {
      "text/plain": [
       "37434.0    61\n",
       "21928.0    32\n",
       "39946.0    30\n",
       "44870.0    30\n",
       "37407.0    27\n",
       "           ..\n",
       "25122.0     1\n",
       "26768.0     1\n",
       "22248.0     1\n",
       "20475.0     1\n",
       "14579.0     1\n",
       "Name: airports_nearest, Length: 8275, dtype: int64"
      ]
     },
     "execution_count": 155,
     "metadata": {},
     "output_type": "execute_result"
    }
   ],
   "source": [
    "# получим количество уникальных значений в столбце airports_nearest\n",
    "df['airports_nearest'].value_counts()"
   ]
  },
  {
   "cell_type": "markdown",
   "metadata": {},
   "source": [
    "Мы видим, что первые три строчки с количеством уникальных значений в двух столбцах имеют одинаковое количество. Следовательно, дома, которые находятся в этих строчках, должны иметь одинаковое количество этажей. Проверим это на примере 1-й строчки."
   ]
  },
  {
   "cell_type": "code",
   "execution_count": 156,
   "metadata": {},
   "outputs": [],
   "source": [
    "# получим список строк, которые содержат информацию о квартирах, имеющих в столбце cityCenters_nearest значение 8460 \n",
    "# и в airports_nearest значение 37434.0\n",
    "local_df = df[(df['cityCenters_nearest'] == 8460.0) & (df['airports_nearest'] == 37434.0)]"
   ]
  },
  {
   "cell_type": "code",
   "execution_count": 157,
   "metadata": {},
   "outputs": [
    {
     "data": {
      "text/plain": [
       "16.0    41\n",
       "13.0    11\n",
       "17.0     7\n",
       "14.0     1\n",
       "12.0     1\n",
       "Name: floors_total, dtype: int64"
      ]
     },
     "execution_count": 157,
     "metadata": {},
     "output_type": "execute_result"
    }
   ],
   "source": [
    "# проверим уникальные значения в столбце floors_total в полученном срезе\n",
    "local_df['floors_total'].value_counts()"
   ]
  },
  {
   "cell_type": "markdown",
   "metadata": {},
   "source": [
    "Дома, находящиеся на одинаковом расстоянии от центра и аэропорта, имеют разное количество этажей, что вызывает сомнение в правильности указанной информации. Либо была допущена ошибка при указании количества этажей в доме, т.е. речь идет об одном и том же доме, либо была допущена техническая ошибка при указании расстояния до ключевых объектов, т.е. речь идет о разных домах. В связи с этим заменим пропуски на медианные значения"
   ]
  },
  {
   "cell_type": "code",
   "execution_count": 158,
   "metadata": {},
   "outputs": [],
   "source": [
    "# обработаем пропуски\n",
    "df.fillna(\n",
    "value=\n",
    "{'ceiling_height':df['ceiling_height'].median(),\n",
    " 'floors_total':df['floors_total'].median(),\n",
    " 'living_area':df['living_area'].median(),\n",
    " 'kitchen_area':df['kitchen_area'].median(),\n",
    " 'is_apartment':False,\n",
    " 'balcony':0,\n",
    " 'parks_around3000':0,\n",
    " 'ponds_around3000':0\n",
    "},\n",
    "    inplace=True)\n",
    " "
   ]
  },
  {
   "cell_type": "code",
   "execution_count": 159,
   "metadata": {},
   "outputs": [],
   "source": [
    "# удалим строчки с пропусками в столбце locality_name\n",
    "df = df.dropna(subset=['locality_name'])"
   ]
  },
  {
   "cell_type": "code",
   "execution_count": 160,
   "metadata": {},
   "outputs": [
    {
     "data": {
      "text/plain": [
       "total_images                0\n",
       "last_price                  0\n",
       "total_area                  0\n",
       "first_day_exposition        0\n",
       "rooms                       0\n",
       "ceiling_height              0\n",
       "floors_total                0\n",
       "living_area                 0\n",
       "floor                       0\n",
       "is_apartment                0\n",
       "studio                      0\n",
       "open_plan                   0\n",
       "kitchen_area                0\n",
       "balcony                     0\n",
       "locality_name               0\n",
       "airports_nearest         5534\n",
       "cityCenters_nearest      5511\n",
       "parks_around3000            0\n",
       "parks_nearest           15586\n",
       "ponds_around3000            0\n",
       "ponds_nearest           14565\n",
       "days_exposition          3180\n",
       "dtype: int64"
      ]
     },
     "execution_count": 160,
     "metadata": {},
     "output_type": "execute_result"
    }
   ],
   "source": [
    "# проверим количество пропусков после обработки\n",
    "df.isna().sum()"
   ]
  },
  {
   "cell_type": "markdown",
   "metadata": {},
   "source": [
    "Таким образом, были обработаны пропуски в столбцах, где была в этом необходимость. В остальных столбцах пропуски остались для неискажения статистической информации."
   ]
  },
  {
   "cell_type": "markdown",
   "metadata": {},
   "source": [
    "### Изменение типа данных"
   ]
  },
  {
   "cell_type": "markdown",
   "metadata": {},
   "source": [
    "В столбце first_day_exposition преобразуем данные в формат даты. В столбцах last_price, floors_total и balcony изменим тип данных с float на int, так как значения в них являются вещественными числами."
   ]
  },
  {
   "cell_type": "code",
   "execution_count": 161,
   "metadata": {},
   "outputs": [],
   "source": [
    "# изменим тип данных в указанных выше столбцах\n",
    "df['first_day_exposition'] = pd.to_datetime(df['first_day_exposition'], format='%Y-%m-%d')\n",
    "columns = ['last_price', 'floors_total', 'balcony']\n",
    "for i in columns:\n",
    "    df[i] = df[i].astype('int')"
   ]
  },
  {
   "cell_type": "markdown",
   "metadata": {},
   "source": [
    "В результате предобратки данных все столбцы были переведены в соответствующий формат для упрощения выполнения дальнейших операций со значениями."
   ]
  },
  {
   "cell_type": "markdown",
   "metadata": {},
   "source": [
    "## Расчёты и добавление результатов в таблицу"
   ]
  },
  {
   "cell_type": "markdown",
   "metadata": {},
   "source": [
    "После того, как была выполнена предобработка данных, перейдем к расчету показателей, изучение которых приблизит нас к выполнению цели проекта."
   ]
  },
  {
   "cell_type": "code",
   "execution_count": 162,
   "metadata": {},
   "outputs": [
    {
     "data": {
      "text/plain": [
       "0        120370.37\n",
       "1         82920.79\n",
       "2         92785.71\n",
       "3        408176.10\n",
       "4        100000.00\n",
       "           ...    \n",
       "23694     72490.85\n",
       "23695     52542.37\n",
       "23696     44091.71\n",
       "23697    149511.40\n",
       "23698     41795.67\n",
       "Name: price_for_meter, Length: 23650, dtype: float64"
      ]
     },
     "execution_count": 162,
     "metadata": {},
     "output_type": "execute_result"
    }
   ],
   "source": [
    "# рассчитаем цену квадратного метра и добавим ее в таблицу\n",
    "df['price_for_meter'] = df['last_price'] / df['total_area']\n",
    "df['price_for_meter'].round(2)"
   ]
  },
  {
   "cell_type": "code",
   "execution_count": 163,
   "metadata": {},
   "outputs": [],
   "source": [
    "# рассчитаем и добавим в таблицу день недели, месяц и год публикации объявления\n",
    "df['day'] = df['first_day_exposition'].dt.weekday\n",
    "df['month'] = df['first_day_exposition'].dt.month\n",
    "df['year'] = df['first_day_exposition'].dt.year"
   ]
  },
  {
   "cell_type": "code",
   "execution_count": 164,
   "metadata": {},
   "outputs": [],
   "source": [
    "# рассчитаем и добавим в таблицу категориальные значения этажа квартиры\n",
    "# для этого составим функцию\n",
    "def categorize_floors(row):\n",
    "    if row['floor']==1:\n",
    "        return 'первый'\n",
    "    elif row['floor']==row['floors_total']:\n",
    "        return 'последний'\n",
    "    else:\n",
    "        return 'другой'"
   ]
  },
  {
   "cell_type": "code",
   "execution_count": 165,
   "metadata": {},
   "outputs": [],
   "source": [
    "# добавим новый столбец в df\n",
    "df['floor_category'] = df.apply(categorize_floors, axis=1)"
   ]
  },
  {
   "cell_type": "code",
   "execution_count": 166,
   "metadata": {},
   "outputs": [],
   "source": [
    "# рассчитаем и добавим в таблицу соотношение жилой и общей площади,\n",
    "# а также отношение площади кухни к общей\n",
    "df['ratio_of_living_and_total_area'] = df['living_area'] / df['total_area']\n",
    "df['ratio_of_kitchen_and_total_area'] = df['kitchen_area'] / df['total_area']"
   ]
  },
  {
   "cell_type": "code",
   "execution_count": 167,
   "metadata": {},
   "outputs": [
    {
     "data": {
      "text/html": [
       "<div>\n",
       "<style scoped>\n",
       "    .dataframe tbody tr th:only-of-type {\n",
       "        vertical-align: middle;\n",
       "    }\n",
       "\n",
       "    .dataframe tbody tr th {\n",
       "        vertical-align: top;\n",
       "    }\n",
       "\n",
       "    .dataframe thead th {\n",
       "        text-align: right;\n",
       "    }\n",
       "</style>\n",
       "<table border=\"1\" class=\"dataframe\">\n",
       "  <thead>\n",
       "    <tr style=\"text-align: right;\">\n",
       "      <th></th>\n",
       "      <th>total_images</th>\n",
       "      <th>last_price</th>\n",
       "      <th>total_area</th>\n",
       "      <th>first_day_exposition</th>\n",
       "      <th>rooms</th>\n",
       "      <th>ceiling_height</th>\n",
       "      <th>floors_total</th>\n",
       "      <th>living_area</th>\n",
       "      <th>floor</th>\n",
       "      <th>is_apartment</th>\n",
       "      <th>...</th>\n",
       "      <th>ponds_around3000</th>\n",
       "      <th>ponds_nearest</th>\n",
       "      <th>days_exposition</th>\n",
       "      <th>price_for_meter</th>\n",
       "      <th>day</th>\n",
       "      <th>month</th>\n",
       "      <th>year</th>\n",
       "      <th>floor_category</th>\n",
       "      <th>ratio_of_living_and_total_area</th>\n",
       "      <th>ratio_of_kitchen_and_total_area</th>\n",
       "    </tr>\n",
       "  </thead>\n",
       "  <tbody>\n",
       "    <tr>\n",
       "      <td>0</td>\n",
       "      <td>20</td>\n",
       "      <td>13000000</td>\n",
       "      <td>108.0</td>\n",
       "      <td>2019-03-07</td>\n",
       "      <td>3</td>\n",
       "      <td>2.70</td>\n",
       "      <td>16</td>\n",
       "      <td>51.0</td>\n",
       "      <td>8</td>\n",
       "      <td>False</td>\n",
       "      <td>...</td>\n",
       "      <td>2.0</td>\n",
       "      <td>755.0</td>\n",
       "      <td>NaN</td>\n",
       "      <td>120370.370370</td>\n",
       "      <td>3</td>\n",
       "      <td>3</td>\n",
       "      <td>2019</td>\n",
       "      <td>другой</td>\n",
       "      <td>0.472222</td>\n",
       "      <td>0.231481</td>\n",
       "    </tr>\n",
       "    <tr>\n",
       "      <td>1</td>\n",
       "      <td>7</td>\n",
       "      <td>3350000</td>\n",
       "      <td>40.4</td>\n",
       "      <td>2018-12-04</td>\n",
       "      <td>1</td>\n",
       "      <td>2.65</td>\n",
       "      <td>11</td>\n",
       "      <td>18.6</td>\n",
       "      <td>1</td>\n",
       "      <td>False</td>\n",
       "      <td>...</td>\n",
       "      <td>0.0</td>\n",
       "      <td>NaN</td>\n",
       "      <td>81.0</td>\n",
       "      <td>82920.792079</td>\n",
       "      <td>1</td>\n",
       "      <td>12</td>\n",
       "      <td>2018</td>\n",
       "      <td>первый</td>\n",
       "      <td>0.460396</td>\n",
       "      <td>0.272277</td>\n",
       "    </tr>\n",
       "    <tr>\n",
       "      <td>2</td>\n",
       "      <td>10</td>\n",
       "      <td>5196000</td>\n",
       "      <td>56.0</td>\n",
       "      <td>2015-08-20</td>\n",
       "      <td>2</td>\n",
       "      <td>2.65</td>\n",
       "      <td>5</td>\n",
       "      <td>34.3</td>\n",
       "      <td>4</td>\n",
       "      <td>False</td>\n",
       "      <td>...</td>\n",
       "      <td>2.0</td>\n",
       "      <td>574.0</td>\n",
       "      <td>558.0</td>\n",
       "      <td>92785.714286</td>\n",
       "      <td>3</td>\n",
       "      <td>8</td>\n",
       "      <td>2015</td>\n",
       "      <td>другой</td>\n",
       "      <td>0.612500</td>\n",
       "      <td>0.148214</td>\n",
       "    </tr>\n",
       "    <tr>\n",
       "      <td>3</td>\n",
       "      <td>0</td>\n",
       "      <td>64900000</td>\n",
       "      <td>159.0</td>\n",
       "      <td>2015-07-24</td>\n",
       "      <td>3</td>\n",
       "      <td>2.65</td>\n",
       "      <td>14</td>\n",
       "      <td>30.0</td>\n",
       "      <td>9</td>\n",
       "      <td>False</td>\n",
       "      <td>...</td>\n",
       "      <td>3.0</td>\n",
       "      <td>234.0</td>\n",
       "      <td>424.0</td>\n",
       "      <td>408176.100629</td>\n",
       "      <td>4</td>\n",
       "      <td>7</td>\n",
       "      <td>2015</td>\n",
       "      <td>другой</td>\n",
       "      <td>0.188679</td>\n",
       "      <td>0.057233</td>\n",
       "    </tr>\n",
       "    <tr>\n",
       "      <td>4</td>\n",
       "      <td>2</td>\n",
       "      <td>10000000</td>\n",
       "      <td>100.0</td>\n",
       "      <td>2018-06-19</td>\n",
       "      <td>2</td>\n",
       "      <td>3.03</td>\n",
       "      <td>14</td>\n",
       "      <td>32.0</td>\n",
       "      <td>13</td>\n",
       "      <td>False</td>\n",
       "      <td>...</td>\n",
       "      <td>1.0</td>\n",
       "      <td>48.0</td>\n",
       "      <td>121.0</td>\n",
       "      <td>100000.000000</td>\n",
       "      <td>1</td>\n",
       "      <td>6</td>\n",
       "      <td>2018</td>\n",
       "      <td>другой</td>\n",
       "      <td>0.320000</td>\n",
       "      <td>0.410000</td>\n",
       "    </tr>\n",
       "  </tbody>\n",
       "</table>\n",
       "<p>5 rows × 29 columns</p>\n",
       "</div>"
      ],
      "text/plain": [
       "   total_images  last_price  total_area first_day_exposition  rooms  \\\n",
       "0            20    13000000       108.0           2019-03-07      3   \n",
       "1             7     3350000        40.4           2018-12-04      1   \n",
       "2            10     5196000        56.0           2015-08-20      2   \n",
       "3             0    64900000       159.0           2015-07-24      3   \n",
       "4             2    10000000       100.0           2018-06-19      2   \n",
       "\n",
       "   ceiling_height  floors_total  living_area  floor  is_apartment  ...  \\\n",
       "0            2.70            16         51.0      8         False  ...   \n",
       "1            2.65            11         18.6      1         False  ...   \n",
       "2            2.65             5         34.3      4         False  ...   \n",
       "3            2.65            14         30.0      9         False  ...   \n",
       "4            3.03            14         32.0     13         False  ...   \n",
       "\n",
       "   ponds_around3000  ponds_nearest  days_exposition  price_for_meter day  \\\n",
       "0               2.0          755.0              NaN    120370.370370   3   \n",
       "1               0.0            NaN             81.0     82920.792079   1   \n",
       "2               2.0          574.0            558.0     92785.714286   3   \n",
       "3               3.0          234.0            424.0    408176.100629   4   \n",
       "4               1.0           48.0            121.0    100000.000000   1   \n",
       "\n",
       "   month  year  floor_category  ratio_of_living_and_total_area  \\\n",
       "0      3  2019          другой                        0.472222   \n",
       "1     12  2018          первый                        0.460396   \n",
       "2      8  2015          другой                        0.612500   \n",
       "3      7  2015          другой                        0.188679   \n",
       "4      6  2018          другой                        0.320000   \n",
       "\n",
       "   ratio_of_kitchen_and_total_area  \n",
       "0                         0.231481  \n",
       "1                         0.272277  \n",
       "2                         0.148214  \n",
       "3                         0.057233  \n",
       "4                         0.410000  \n",
       "\n",
       "[5 rows x 29 columns]"
      ]
     },
     "execution_count": 167,
     "metadata": {},
     "output_type": "execute_result"
    }
   ],
   "source": [
    "# проверим добавление новых столбцов в df\n",
    "df.head()"
   ]
  },
  {
   "cell_type": "markdown",
   "metadata": {},
   "source": [
    "В результате были добавлены новые столбцы, которые в дальнейшем позволят провести исследовательский анализ данных."
   ]
  },
  {
   "cell_type": "markdown",
   "metadata": {},
   "source": [
    "## Исследовательский анализ данных"
   ]
  },
  {
   "cell_type": "markdown",
   "metadata": {},
   "source": [
    "### Анализ времени продажи квартиры"
   ]
  },
  {
   "cell_type": "markdown",
   "metadata": {},
   "source": [
    "На следующем этапе изучим такие параметры, как площадь, цена, число комнат, высота потолков. Для этого определим, как они коррелируют между собой, и построим их гистограммы."
   ]
  },
  {
   "cell_type": "code",
   "execution_count": 168,
   "metadata": {},
   "outputs": [],
   "source": [
    "# составим таблицу, состоящую из четырех столбцов\n",
    "df_new = df[['total_area', 'last_price', 'rooms', 'ceiling_height']]"
   ]
  },
  {
   "cell_type": "code",
   "execution_count": 169,
   "metadata": {},
   "outputs": [
    {
     "data": {
      "text/html": [
       "<div>\n",
       "<style scoped>\n",
       "    .dataframe tbody tr th:only-of-type {\n",
       "        vertical-align: middle;\n",
       "    }\n",
       "\n",
       "    .dataframe tbody tr th {\n",
       "        vertical-align: top;\n",
       "    }\n",
       "\n",
       "    .dataframe thead th {\n",
       "        text-align: right;\n",
       "    }\n",
       "</style>\n",
       "<table border=\"1\" class=\"dataframe\">\n",
       "  <thead>\n",
       "    <tr style=\"text-align: right;\">\n",
       "      <th></th>\n",
       "      <th>total_area</th>\n",
       "      <th>last_price</th>\n",
       "      <th>rooms</th>\n",
       "      <th>ceiling_height</th>\n",
       "    </tr>\n",
       "  </thead>\n",
       "  <tbody>\n",
       "    <tr>\n",
       "      <td>total_area</td>\n",
       "      <td>1.000000</td>\n",
       "      <td>0.653743</td>\n",
       "      <td>0.758745</td>\n",
       "      <td>0.080606</td>\n",
       "    </tr>\n",
       "    <tr>\n",
       "      <td>last_price</td>\n",
       "      <td>0.653743</td>\n",
       "      <td>1.000000</td>\n",
       "      <td>0.363421</td>\n",
       "      <td>0.064388</td>\n",
       "    </tr>\n",
       "    <tr>\n",
       "      <td>rooms</td>\n",
       "      <td>0.758745</td>\n",
       "      <td>0.363421</td>\n",
       "      <td>1.000000</td>\n",
       "      <td>0.047901</td>\n",
       "    </tr>\n",
       "    <tr>\n",
       "      <td>ceiling_height</td>\n",
       "      <td>0.080606</td>\n",
       "      <td>0.064388</td>\n",
       "      <td>0.047901</td>\n",
       "      <td>1.000000</td>\n",
       "    </tr>\n",
       "  </tbody>\n",
       "</table>\n",
       "</div>"
      ],
      "text/plain": [
       "                total_area  last_price     rooms  ceiling_height\n",
       "total_area        1.000000    0.653743  0.758745        0.080606\n",
       "last_price        0.653743    1.000000  0.363421        0.064388\n",
       "rooms             0.758745    0.363421  1.000000        0.047901\n",
       "ceiling_height    0.080606    0.064388  0.047901        1.000000"
      ]
     },
     "execution_count": 169,
     "metadata": {},
     "output_type": "execute_result"
    }
   ],
   "source": [
    "# проведем корреляцию между этими значениями\n",
    "df_new.corr()"
   ]
  },
  {
   "cell_type": "markdown",
   "metadata": {},
   "source": [
    "Мы видим сильную корреляцию между ценой квартиры и количеством комнат. В наименьшей степени обнаружена связь между ценой и высотой потолков."
   ]
  },
  {
   "cell_type": "code",
   "execution_count": 170,
   "metadata": {},
   "outputs": [],
   "source": [
    "# слздадим словарь с названиями столбцов и названиями графиков для построения гистрограмм с помощью цикла\n",
    "df_hists = {'total_area': 'Общая площадь', 'last_price': 'Цена', 'rooms': 'Число комнат', 'ceiling_height': 'Высота потолков'}"
   ]
  },
  {
   "cell_type": "code",
   "execution_count": 171,
   "metadata": {
    "scrolled": true
   },
   "outputs": [
    {
     "data": {
      "image/png": "[encoded data removed]",
      "text/plain": [
       "<Figure size 576x432 with 1 Axes>"
      ]
     },
     "metadata": {
      "needs_background": "light"
     },
     "output_type": "display_data"
    },
    {
     "data": {
      "image/png": "[encoded data removed]",
      "text/plain": [
       "<Figure size 576x432 with 1 Axes>"
      ]
     },
     "metadata": {
      "needs_background": "light"
     },
     "output_type": "display_data"
    },
    {
     "data": {
      "image/png": "[encoded data removed]",
      "text/plain": [
       "<Figure size 576x432 with 1 Axes>"
      ]
     },
     "metadata": {
      "needs_background": "light"
     },
     "output_type": "display_data"
    },
    {
     "data": {
      "image/png": "[encoded data removed]",
      "text/plain": [
       "<Figure size 576x432 with 1 Axes>"
      ]
     },
     "metadata": {
      "needs_background": "light"
     },
     "output_type": "display_data"
    }
   ],
   "source": [
    "# построим гистограммы четырех параметров\n",
    "for key in df_hists:\n",
    "    df.plot(kind='hist', y=key, title=df_hists[key], grid=True, bins=50, figsize=(8, 6))"
   ]
  },
  {
   "cell_type": "markdown",
   "metadata": {},
   "source": [
    "1. Графики общей площади и цены имеют вид Пуассоновского распределения. \n",
    "2. Согласно гистограмме, большинство квартир имеют площадь менее 50 кв.м, а в целом она находится в границе от 12 кв.м до 900 кв.м.\n",
    "3. Наибольшее количество квартир имеют цену около 4 млн.руб. Цена находится в диапозоне от 1 млн.руб. до 200 млн.руб.\n",
    "4. Большинство квартир имеют одну комнату, но не сильно отстают и двухкомнатные квартиры.\n",
    "5. Высота потолков в среднем составляет 2,7 м, но встречаются также аномальные значения в 4 и 4,2 м."
   ]
  },
  {
   "cell_type": "markdown",
   "metadata": {},
   "source": [
    "### Редактирование значений времени продажи квартир"
   ]
  },
  {
   "cell_type": "markdown",
   "metadata": {},
   "source": [
    "Изучим время снятия объявления. Для этого построим гистограмму, посчитаем среднее и медиану, а также опишем, через какое время обычно снимается объявление о продаже квартиры."
   ]
  },
  {
   "cell_type": "code",
   "execution_count": 172,
   "metadata": {},
   "outputs": [
    {
     "data": {
      "image/png": "[encoded data removed]",
      "text/plain": [
       "<Figure size 432x288 with 1 Axes>"
      ]
     },
     "metadata": {
      "needs_background": "light"
     },
     "output_type": "display_data"
    }
   ],
   "source": [
    "# построим гистограмму времени продажи квартиры\n",
    "df.plot(kind='hist', y='days_exposition', bins=50, title='Время снятия объявления')\n",
    "plt.show()"
   ]
  },
  {
   "cell_type": "code",
   "execution_count": 173,
   "metadata": {},
   "outputs": [
    {
     "name": "stdout",
     "output_type": "stream",
     "text": [
      "Среднее время снятия объявления о продаже квартиры составляет: 180.8\n",
      "Медианное время снятия объявления о продаже квартиры составляет: 95\n"
     ]
    }
   ],
   "source": [
    "# посчитаем среднее и медиану снятия объявления о продаже квартиры\n",
    "print(\"Среднее время снятия объявления о продаже квартиры составляет: {:.1f}\". format(df['days_exposition'].mean()))\n",
    "print('Медианное время снятия объявления о продаже квартиры составляет: {:.0f}'. format(df['days_exposition'].median()))"
   ]
  },
  {
   "cell_type": "markdown",
   "metadata": {},
   "source": [
    "График среднего времени снятия объявления о продаже квартиры обладает пуассоновским распределением. Так среднее значение сильно отличается от медианного, то можно заключить, что в данном случае можно говорить о наличии сильных выбросов. Посмотрим на эти выбросы с помощью графика boxplot."
   ]
  },
  {
   "cell_type": "code",
   "execution_count": 174,
   "metadata": {},
   "outputs": [
    {
     "data": {
      "image/png": "[encoded data removed]",
      "text/plain": [
       "<Figure size 432x288 with 1 Axes>"
      ]
     },
     "metadata": {
      "needs_background": "light"
     },
     "output_type": "display_data"
    }
   ],
   "source": [
    "df.boxplot(['days_exposition'], grid=True)\n",
    "plt.show()"
   ]
  },
  {
   "cell_type": "markdown",
   "metadata": {},
   "source": [
    "Мы видим, что большое количество значений находится за 3 квартилем. Отфильтруем аномальные значения, создав условия, при которых будем считать продажу быстрой, если она осуществляется в течение 2 недель, а медленной, если в течение 1,5 лет."
   ]
  },
  {
   "cell_type": "code",
   "execution_count": 175,
   "metadata": {},
   "outputs": [
    {
     "data": {
      "text/html": [
       "<div>\n",
       "<style scoped>\n",
       "    .dataframe tbody tr th:only-of-type {\n",
       "        vertical-align: middle;\n",
       "    }\n",
       "\n",
       "    .dataframe tbody tr th {\n",
       "        vertical-align: top;\n",
       "    }\n",
       "\n",
       "    .dataframe thead th {\n",
       "        text-align: right;\n",
       "    }\n",
       "</style>\n",
       "<table border=\"1\" class=\"dataframe\">\n",
       "  <thead>\n",
       "    <tr style=\"text-align: right;\">\n",
       "      <th></th>\n",
       "      <th>total_images</th>\n",
       "      <th>last_price</th>\n",
       "      <th>total_area</th>\n",
       "      <th>first_day_exposition</th>\n",
       "      <th>rooms</th>\n",
       "      <th>ceiling_height</th>\n",
       "      <th>floors_total</th>\n",
       "      <th>living_area</th>\n",
       "      <th>floor</th>\n",
       "      <th>is_apartment</th>\n",
       "      <th>...</th>\n",
       "      <th>ponds_around3000</th>\n",
       "      <th>ponds_nearest</th>\n",
       "      <th>days_exposition</th>\n",
       "      <th>price_for_meter</th>\n",
       "      <th>day</th>\n",
       "      <th>month</th>\n",
       "      <th>year</th>\n",
       "      <th>floor_category</th>\n",
       "      <th>ratio_of_living_and_total_area</th>\n",
       "      <th>ratio_of_kitchen_and_total_area</th>\n",
       "    </tr>\n",
       "  </thead>\n",
       "  <tbody>\n",
       "    <tr>\n",
       "      <td>1</td>\n",
       "      <td>7</td>\n",
       "      <td>3350000</td>\n",
       "      <td>40.4</td>\n",
       "      <td>2018-12-04</td>\n",
       "      <td>1</td>\n",
       "      <td>2.65</td>\n",
       "      <td>11</td>\n",
       "      <td>18.6</td>\n",
       "      <td>1</td>\n",
       "      <td>False</td>\n",
       "      <td>...</td>\n",
       "      <td>0.0</td>\n",
       "      <td>NaN</td>\n",
       "      <td>81.0</td>\n",
       "      <td>82920.792079</td>\n",
       "      <td>1</td>\n",
       "      <td>12</td>\n",
       "      <td>2018</td>\n",
       "      <td>первый</td>\n",
       "      <td>0.460396</td>\n",
       "      <td>0.272277</td>\n",
       "    </tr>\n",
       "    <tr>\n",
       "      <td>3</td>\n",
       "      <td>0</td>\n",
       "      <td>64900000</td>\n",
       "      <td>159.0</td>\n",
       "      <td>2015-07-24</td>\n",
       "      <td>3</td>\n",
       "      <td>2.65</td>\n",
       "      <td>14</td>\n",
       "      <td>30.0</td>\n",
       "      <td>9</td>\n",
       "      <td>False</td>\n",
       "      <td>...</td>\n",
       "      <td>3.0</td>\n",
       "      <td>234.0</td>\n",
       "      <td>424.0</td>\n",
       "      <td>408176.100629</td>\n",
       "      <td>4</td>\n",
       "      <td>7</td>\n",
       "      <td>2015</td>\n",
       "      <td>другой</td>\n",
       "      <td>0.188679</td>\n",
       "      <td>0.057233</td>\n",
       "    </tr>\n",
       "    <tr>\n",
       "      <td>4</td>\n",
       "      <td>2</td>\n",
       "      <td>10000000</td>\n",
       "      <td>100.0</td>\n",
       "      <td>2018-06-19</td>\n",
       "      <td>2</td>\n",
       "      <td>3.03</td>\n",
       "      <td>14</td>\n",
       "      <td>32.0</td>\n",
       "      <td>13</td>\n",
       "      <td>False</td>\n",
       "      <td>...</td>\n",
       "      <td>1.0</td>\n",
       "      <td>48.0</td>\n",
       "      <td>121.0</td>\n",
       "      <td>100000.000000</td>\n",
       "      <td>1</td>\n",
       "      <td>6</td>\n",
       "      <td>2018</td>\n",
       "      <td>другой</td>\n",
       "      <td>0.320000</td>\n",
       "      <td>0.410000</td>\n",
       "    </tr>\n",
       "    <tr>\n",
       "      <td>5</td>\n",
       "      <td>10</td>\n",
       "      <td>2890000</td>\n",
       "      <td>30.4</td>\n",
       "      <td>2018-09-10</td>\n",
       "      <td>1</td>\n",
       "      <td>2.65</td>\n",
       "      <td>12</td>\n",
       "      <td>14.4</td>\n",
       "      <td>5</td>\n",
       "      <td>False</td>\n",
       "      <td>...</td>\n",
       "      <td>0.0</td>\n",
       "      <td>NaN</td>\n",
       "      <td>55.0</td>\n",
       "      <td>95065.789474</td>\n",
       "      <td>0</td>\n",
       "      <td>9</td>\n",
       "      <td>2018</td>\n",
       "      <td>другой</td>\n",
       "      <td>0.473684</td>\n",
       "      <td>0.299342</td>\n",
       "    </tr>\n",
       "    <tr>\n",
       "      <td>6</td>\n",
       "      <td>6</td>\n",
       "      <td>3700000</td>\n",
       "      <td>37.3</td>\n",
       "      <td>2017-11-02</td>\n",
       "      <td>1</td>\n",
       "      <td>2.65</td>\n",
       "      <td>26</td>\n",
       "      <td>10.6</td>\n",
       "      <td>6</td>\n",
       "      <td>False</td>\n",
       "      <td>...</td>\n",
       "      <td>0.0</td>\n",
       "      <td>NaN</td>\n",
       "      <td>155.0</td>\n",
       "      <td>99195.710456</td>\n",
       "      <td>3</td>\n",
       "      <td>11</td>\n",
       "      <td>2017</td>\n",
       "      <td>другой</td>\n",
       "      <td>0.284182</td>\n",
       "      <td>0.386059</td>\n",
       "    </tr>\n",
       "    <tr>\n",
       "      <td>...</td>\n",
       "      <td>...</td>\n",
       "      <td>...</td>\n",
       "      <td>...</td>\n",
       "      <td>...</td>\n",
       "      <td>...</td>\n",
       "      <td>...</td>\n",
       "      <td>...</td>\n",
       "      <td>...</td>\n",
       "      <td>...</td>\n",
       "      <td>...</td>\n",
       "      <td>...</td>\n",
       "      <td>...</td>\n",
       "      <td>...</td>\n",
       "      <td>...</td>\n",
       "      <td>...</td>\n",
       "      <td>...</td>\n",
       "      <td>...</td>\n",
       "      <td>...</td>\n",
       "      <td>...</td>\n",
       "      <td>...</td>\n",
       "      <td>...</td>\n",
       "    </tr>\n",
       "    <tr>\n",
       "      <td>23690</td>\n",
       "      <td>3</td>\n",
       "      <td>5500000</td>\n",
       "      <td>52.0</td>\n",
       "      <td>2018-07-19</td>\n",
       "      <td>2</td>\n",
       "      <td>2.65</td>\n",
       "      <td>5</td>\n",
       "      <td>31.0</td>\n",
       "      <td>2</td>\n",
       "      <td>False</td>\n",
       "      <td>...</td>\n",
       "      <td>0.0</td>\n",
       "      <td>NaN</td>\n",
       "      <td>15.0</td>\n",
       "      <td>105769.230769</td>\n",
       "      <td>3</td>\n",
       "      <td>7</td>\n",
       "      <td>2018</td>\n",
       "      <td>другой</td>\n",
       "      <td>0.596154</td>\n",
       "      <td>0.115385</td>\n",
       "    </tr>\n",
       "    <tr>\n",
       "      <td>23691</td>\n",
       "      <td>11</td>\n",
       "      <td>9470000</td>\n",
       "      <td>72.9</td>\n",
       "      <td>2016-10-13</td>\n",
       "      <td>2</td>\n",
       "      <td>2.75</td>\n",
       "      <td>25</td>\n",
       "      <td>40.3</td>\n",
       "      <td>7</td>\n",
       "      <td>False</td>\n",
       "      <td>...</td>\n",
       "      <td>1.0</td>\n",
       "      <td>806.0</td>\n",
       "      <td>519.0</td>\n",
       "      <td>129903.978052</td>\n",
       "      <td>3</td>\n",
       "      <td>10</td>\n",
       "      <td>2016</td>\n",
       "      <td>другой</td>\n",
       "      <td>0.552812</td>\n",
       "      <td>0.145405</td>\n",
       "    </tr>\n",
       "    <tr>\n",
       "      <td>23692</td>\n",
       "      <td>2</td>\n",
       "      <td>1350000</td>\n",
       "      <td>30.0</td>\n",
       "      <td>2017-07-07</td>\n",
       "      <td>1</td>\n",
       "      <td>2.65</td>\n",
       "      <td>5</td>\n",
       "      <td>17.5</td>\n",
       "      <td>4</td>\n",
       "      <td>False</td>\n",
       "      <td>...</td>\n",
       "      <td>0.0</td>\n",
       "      <td>NaN</td>\n",
       "      <td>413.0</td>\n",
       "      <td>45000.000000</td>\n",
       "      <td>4</td>\n",
       "      <td>7</td>\n",
       "      <td>2017</td>\n",
       "      <td>другой</td>\n",
       "      <td>0.583333</td>\n",
       "      <td>0.200000</td>\n",
       "    </tr>\n",
       "    <tr>\n",
       "      <td>23693</td>\n",
       "      <td>9</td>\n",
       "      <td>4600000</td>\n",
       "      <td>62.4</td>\n",
       "      <td>2016-08-05</td>\n",
       "      <td>3</td>\n",
       "      <td>2.60</td>\n",
       "      <td>9</td>\n",
       "      <td>40.0</td>\n",
       "      <td>8</td>\n",
       "      <td>False</td>\n",
       "      <td>...</td>\n",
       "      <td>1.0</td>\n",
       "      <td>675.0</td>\n",
       "      <td>239.0</td>\n",
       "      <td>73717.948718</td>\n",
       "      <td>4</td>\n",
       "      <td>8</td>\n",
       "      <td>2016</td>\n",
       "      <td>другой</td>\n",
       "      <td>0.641026</td>\n",
       "      <td>0.128205</td>\n",
       "    </tr>\n",
       "    <tr>\n",
       "      <td>23695</td>\n",
       "      <td>14</td>\n",
       "      <td>3100000</td>\n",
       "      <td>59.0</td>\n",
       "      <td>2018-01-15</td>\n",
       "      <td>3</td>\n",
       "      <td>2.65</td>\n",
       "      <td>5</td>\n",
       "      <td>38.0</td>\n",
       "      <td>4</td>\n",
       "      <td>False</td>\n",
       "      <td>...</td>\n",
       "      <td>0.0</td>\n",
       "      <td>NaN</td>\n",
       "      <td>45.0</td>\n",
       "      <td>52542.372881</td>\n",
       "      <td>0</td>\n",
       "      <td>1</td>\n",
       "      <td>2018</td>\n",
       "      <td>другой</td>\n",
       "      <td>0.644068</td>\n",
       "      <td>0.144068</td>\n",
       "    </tr>\n",
       "  </tbody>\n",
       "</table>\n",
       "<p>17229 rows × 29 columns</p>\n",
       "</div>"
      ],
      "text/plain": [
       "       total_images  last_price  total_area first_day_exposition  rooms  \\\n",
       "1                 7     3350000        40.4           2018-12-04      1   \n",
       "3                 0    64900000       159.0           2015-07-24      3   \n",
       "4                 2    10000000       100.0           2018-06-19      2   \n",
       "5                10     2890000        30.4           2018-09-10      1   \n",
       "6                 6     3700000        37.3           2017-11-02      1   \n",
       "...             ...         ...         ...                  ...    ...   \n",
       "23690             3     5500000        52.0           2018-07-19      2   \n",
       "23691            11     9470000        72.9           2016-10-13      2   \n",
       "23692             2     1350000        30.0           2017-07-07      1   \n",
       "23693             9     4600000        62.4           2016-08-05      3   \n",
       "23695            14     3100000        59.0           2018-01-15      3   \n",
       "\n",
       "       ceiling_height  floors_total  living_area  floor  is_apartment  ...  \\\n",
       "1                2.65            11         18.6      1         False  ...   \n",
       "3                2.65            14         30.0      9         False  ...   \n",
       "4                3.03            14         32.0     13         False  ...   \n",
       "5                2.65            12         14.4      5         False  ...   \n",
       "6                2.65            26         10.6      6         False  ...   \n",
       "...               ...           ...          ...    ...           ...  ...   \n",
       "23690            2.65             5         31.0      2         False  ...   \n",
       "23691            2.75            25         40.3      7         False  ...   \n",
       "23692            2.65             5         17.5      4         False  ...   \n",
       "23693            2.60             9         40.0      8         False  ...   \n",
       "23695            2.65             5         38.0      4         False  ...   \n",
       "\n",
       "       ponds_around3000  ponds_nearest  days_exposition  price_for_meter day  \\\n",
       "1                   0.0            NaN             81.0     82920.792079   1   \n",
       "3                   3.0          234.0            424.0    408176.100629   4   \n",
       "4                   1.0           48.0            121.0    100000.000000   1   \n",
       "5                   0.0            NaN             55.0     95065.789474   0   \n",
       "6                   0.0            NaN            155.0     99195.710456   3   \n",
       "...                 ...            ...              ...              ...  ..   \n",
       "23690               0.0            NaN             15.0    105769.230769   3   \n",
       "23691               1.0          806.0            519.0    129903.978052   3   \n",
       "23692               0.0            NaN            413.0     45000.000000   4   \n",
       "23693               1.0          675.0            239.0     73717.948718   4   \n",
       "23695               0.0            NaN             45.0     52542.372881   0   \n",
       "\n",
       "       month  year  floor_category  ratio_of_living_and_total_area  \\\n",
       "1         12  2018          первый                        0.460396   \n",
       "3          7  2015          другой                        0.188679   \n",
       "4          6  2018          другой                        0.320000   \n",
       "5          9  2018          другой                        0.473684   \n",
       "6         11  2017          другой                        0.284182   \n",
       "...      ...   ...             ...                             ...   \n",
       "23690      7  2018          другой                        0.596154   \n",
       "23691     10  2016          другой                        0.552812   \n",
       "23692      7  2017          другой                        0.583333   \n",
       "23693      8  2016          другой                        0.641026   \n",
       "23695      1  2018          другой                        0.644068   \n",
       "\n",
       "       ratio_of_kitchen_and_total_area  \n",
       "1                             0.272277  \n",
       "3                             0.057233  \n",
       "4                             0.410000  \n",
       "5                             0.299342  \n",
       "6                             0.386059  \n",
       "...                                ...  \n",
       "23690                         0.115385  \n",
       "23691                         0.145405  \n",
       "23692                         0.200000  \n",
       "23693                         0.128205  \n",
       "23695                         0.144068  \n",
       "\n",
       "[17229 rows x 29 columns]"
      ]
     },
     "execution_count": 175,
     "metadata": {},
     "output_type": "execute_result"
    }
   ],
   "source": [
    "# избавимся от выбросов и аномальных значений\n",
    "good_df = df.query('14 < days_exposition < 550')\n",
    "good_df"
   ]
  },
  {
   "cell_type": "code",
   "execution_count": 176,
   "metadata": {},
   "outputs": [
    {
     "data": {
      "text/plain": [
       "45.0    879\n",
       "60.0    538\n",
       "30.0    208\n",
       "90.0    203\n",
       "20.0    139\n",
       "44.0    138\n",
       "18.0    129\n",
       "15.0    125\n",
       "22.0    125\n",
       "28.0    125\n",
       "Name: days_exposition, dtype: int64"
      ]
     },
     "execution_count": 176,
     "metadata": {},
     "output_type": "execute_result"
    }
   ],
   "source": [
    "# посмотрим на самые распространенные сроки осуществления сделки\n",
    "good_df['days_exposition'].value_counts().head(10)"
   ]
  },
  {
   "cell_type": "markdown",
   "metadata": {},
   "source": [
    "В основном объявления снимались на 45, 60, 30 и 90 день. Столь \"красивые\" числа и такое большое снятие объявлений могут говорить о том, что сервис Яндекс.Недвижимость автоматически удаляет объявления через определенное количество дней в зависимости от суммы оплаченных услуг."
   ]
  },
  {
   "cell_type": "markdown",
   "metadata": {},
   "source": [
    "### Влияние факторов на стоимость квартиры"
   ]
  },
  {
   "cell_type": "markdown",
   "metadata": {},
   "source": [
    "Далее определим, какие факторы больше всего влияют на стоимость квартиры. Для этого сделаем срез по определенным параметрам."
   ]
  },
  {
   "cell_type": "code",
   "execution_count": 177,
   "metadata": {},
   "outputs": [
    {
     "data": {
      "text/html": [
       "<div>\n",
       "<style scoped>\n",
       "    .dataframe tbody tr th:only-of-type {\n",
       "        vertical-align: middle;\n",
       "    }\n",
       "\n",
       "    .dataframe tbody tr th {\n",
       "        vertical-align: top;\n",
       "    }\n",
       "\n",
       "    .dataframe thead th {\n",
       "        text-align: right;\n",
       "    }\n",
       "</style>\n",
       "<table border=\"1\" class=\"dataframe\">\n",
       "  <thead>\n",
       "    <tr style=\"text-align: right;\">\n",
       "      <th></th>\n",
       "      <th>last_price</th>\n",
       "      <th>total_area</th>\n",
       "      <th>rooms</th>\n",
       "      <th>floor_category</th>\n",
       "      <th>cityCenters_nearest</th>\n",
       "    </tr>\n",
       "  </thead>\n",
       "  <tbody>\n",
       "    <tr>\n",
       "      <td>1</td>\n",
       "      <td>3350000</td>\n",
       "      <td>40.40</td>\n",
       "      <td>1</td>\n",
       "      <td>первый</td>\n",
       "      <td>18603.0</td>\n",
       "    </tr>\n",
       "    <tr>\n",
       "      <td>3</td>\n",
       "      <td>64900000</td>\n",
       "      <td>159.00</td>\n",
       "      <td>3</td>\n",
       "      <td>другой</td>\n",
       "      <td>6800.0</td>\n",
       "    </tr>\n",
       "    <tr>\n",
       "      <td>4</td>\n",
       "      <td>10000000</td>\n",
       "      <td>100.00</td>\n",
       "      <td>2</td>\n",
       "      <td>другой</td>\n",
       "      <td>8098.0</td>\n",
       "    </tr>\n",
       "    <tr>\n",
       "      <td>5</td>\n",
       "      <td>2890000</td>\n",
       "      <td>30.40</td>\n",
       "      <td>1</td>\n",
       "      <td>другой</td>\n",
       "      <td>NaN</td>\n",
       "    </tr>\n",
       "    <tr>\n",
       "      <td>6</td>\n",
       "      <td>3700000</td>\n",
       "      <td>37.30</td>\n",
       "      <td>1</td>\n",
       "      <td>другой</td>\n",
       "      <td>19143.0</td>\n",
       "    </tr>\n",
       "    <tr>\n",
       "      <td>8</td>\n",
       "      <td>2900000</td>\n",
       "      <td>33.16</td>\n",
       "      <td>1</td>\n",
       "      <td>другой</td>\n",
       "      <td>NaN</td>\n",
       "    </tr>\n",
       "    <tr>\n",
       "      <td>9</td>\n",
       "      <td>5400000</td>\n",
       "      <td>61.00</td>\n",
       "      <td>3</td>\n",
       "      <td>другой</td>\n",
       "      <td>15008.0</td>\n",
       "    </tr>\n",
       "    <tr>\n",
       "      <td>10</td>\n",
       "      <td>5050000</td>\n",
       "      <td>39.60</td>\n",
       "      <td>1</td>\n",
       "      <td>другой</td>\n",
       "      <td>13878.0</td>\n",
       "    </tr>\n",
       "    <tr>\n",
       "      <td>12</td>\n",
       "      <td>3890000</td>\n",
       "      <td>54.00</td>\n",
       "      <td>2</td>\n",
       "      <td>последний</td>\n",
       "      <td>NaN</td>\n",
       "    </tr>\n",
       "    <tr>\n",
       "      <td>13</td>\n",
       "      <td>3550000</td>\n",
       "      <td>42.80</td>\n",
       "      <td>2</td>\n",
       "      <td>последний</td>\n",
       "      <td>33058.0</td>\n",
       "    </tr>\n",
       "  </tbody>\n",
       "</table>\n",
       "</div>"
      ],
      "text/plain": [
       "    last_price  total_area  rooms floor_category  cityCenters_nearest\n",
       "1      3350000       40.40      1         первый              18603.0\n",
       "3     64900000      159.00      3         другой               6800.0\n",
       "4     10000000      100.00      2         другой               8098.0\n",
       "5      2890000       30.40      1         другой                  NaN\n",
       "6      3700000       37.30      1         другой              19143.0\n",
       "8      2900000       33.16      1         другой                  NaN\n",
       "9      5400000       61.00      3         другой              15008.0\n",
       "10     5050000       39.60      1         другой              13878.0\n",
       "12     3890000       54.00      2      последний                  NaN\n",
       "13     3550000       42.80      2      последний              33058.0"
      ]
     },
     "execution_count": 177,
     "metadata": {},
     "output_type": "execute_result"
    }
   ],
   "source": [
    "# создадим новую таблицу, в которую включим стоимость жилья и факторы, от которых она может зависить\n",
    "new_df = good_df[['last_price', 'total_area', 'rooms', 'floor_category', 'cityCenters_nearest']]\n",
    "new_df.head(10)"
   ]
  },
  {
   "cell_type": "code",
   "execution_count": 178,
   "metadata": {},
   "outputs": [
    {
     "data": {
      "text/html": [
       "<div>\n",
       "<style scoped>\n",
       "    .dataframe tbody tr th:only-of-type {\n",
       "        vertical-align: middle;\n",
       "    }\n",
       "\n",
       "    .dataframe tbody tr th {\n",
       "        vertical-align: top;\n",
       "    }\n",
       "\n",
       "    .dataframe thead th {\n",
       "        text-align: right;\n",
       "    }\n",
       "</style>\n",
       "<table border=\"1\" class=\"dataframe\">\n",
       "  <thead>\n",
       "    <tr style=\"text-align: right;\">\n",
       "      <th></th>\n",
       "      <th>last_price</th>\n",
       "      <th>total_area</th>\n",
       "      <th>rooms</th>\n",
       "      <th>cityCenters_nearest</th>\n",
       "    </tr>\n",
       "  </thead>\n",
       "  <tbody>\n",
       "    <tr>\n",
       "      <td>last_price</td>\n",
       "      <td>1.000000</td>\n",
       "      <td>0.631405</td>\n",
       "      <td>0.340480</td>\n",
       "      <td>-0.184538</td>\n",
       "    </tr>\n",
       "    <tr>\n",
       "      <td>total_area</td>\n",
       "      <td>0.631405</td>\n",
       "      <td>1.000000</td>\n",
       "      <td>0.759352</td>\n",
       "      <td>-0.224445</td>\n",
       "    </tr>\n",
       "    <tr>\n",
       "      <td>rooms</td>\n",
       "      <td>0.340480</td>\n",
       "      <td>0.759352</td>\n",
       "      <td>1.000000</td>\n",
       "      <td>-0.178823</td>\n",
       "    </tr>\n",
       "    <tr>\n",
       "      <td>cityCenters_nearest</td>\n",
       "      <td>-0.184538</td>\n",
       "      <td>-0.224445</td>\n",
       "      <td>-0.178823</td>\n",
       "      <td>1.000000</td>\n",
       "    </tr>\n",
       "  </tbody>\n",
       "</table>\n",
       "</div>"
      ],
      "text/plain": [
       "                     last_price  total_area     rooms  cityCenters_nearest\n",
       "last_price             1.000000    0.631405  0.340480            -0.184538\n",
       "total_area             0.631405    1.000000  0.759352            -0.224445\n",
       "rooms                  0.340480    0.759352  1.000000            -0.178823\n",
       "cityCenters_nearest   -0.184538   -0.224445 -0.178823             1.000000"
      ]
     },
     "execution_count": 178,
     "metadata": {},
     "output_type": "execute_result"
    }
   ],
   "source": [
    "# посчитаем корреляцию между параметрами\n",
    "new_df.corr()"
   ]
  },
  {
   "cell_type": "code",
   "execution_count": 179,
   "metadata": {},
   "outputs": [
    {
     "data": {
      "image/png": "[encoded data removed]",
      "text/plain": [
       "<Figure size 432x288 with 2 Axes>"
      ]
     },
     "metadata": {
      "needs_background": "light"
     },
     "output_type": "display_data"
    }
   ],
   "source": [
    "# визуализируем матрицу корреляции с помощью тепловой карты\n",
    "sns.heatmap(new_df.corr())\n",
    "plt.show()"
   ]
  },
  {
   "cell_type": "markdown",
   "metadata": {},
   "source": [
    "Мы видим наибольшую положительную корреляцию между ценой квартиры и числом квадратных метров. При этом цена квартиры уменьшается по мере удаления от центра. Цена также коррелирует с количеством комнат, но в меньшей степени, чем с площадью квартиры."
   ]
  },
  {
   "cell_type": "code",
   "execution_count": 180,
   "metadata": {},
   "outputs": [
    {
     "data": {
      "text/html": [
       "<div>\n",
       "<style scoped>\n",
       "    .dataframe tbody tr th:only-of-type {\n",
       "        vertical-align: middle;\n",
       "    }\n",
       "\n",
       "    .dataframe tbody tr th {\n",
       "        vertical-align: top;\n",
       "    }\n",
       "\n",
       "    .dataframe thead th {\n",
       "        text-align: right;\n",
       "    }\n",
       "</style>\n",
       "<table border=\"1\" class=\"dataframe\">\n",
       "  <thead>\n",
       "    <tr style=\"text-align: right;\">\n",
       "      <th></th>\n",
       "      <th>last_price</th>\n",
       "    </tr>\n",
       "    <tr>\n",
       "      <th>floor_category</th>\n",
       "      <th></th>\n",
       "    </tr>\n",
       "  </thead>\n",
       "  <tbody>\n",
       "    <tr>\n",
       "      <td>первый</td>\n",
       "      <td>3800000</td>\n",
       "    </tr>\n",
       "    <tr>\n",
       "      <td>последний</td>\n",
       "      <td>4200000</td>\n",
       "    </tr>\n",
       "    <tr>\n",
       "      <td>другой</td>\n",
       "      <td>4665000</td>\n",
       "    </tr>\n",
       "  </tbody>\n",
       "</table>\n",
       "</div>"
      ],
      "text/plain": [
       "                last_price\n",
       "floor_category            \n",
       "первый             3800000\n",
       "последний          4200000\n",
       "другой             4665000"
      ]
     },
     "execution_count": 180,
     "metadata": {},
     "output_type": "execute_result"
    }
   ],
   "source": [
    "# сгруппируем нашу таблицу по этажу\n",
    "floor_price = good_df[['floor_category', 'last_price']].groupby('floor_category').median().sort_values(by='last_price')\n",
    "floor_price"
   ]
  },
  {
   "cell_type": "code",
   "execution_count": 181,
   "metadata": {},
   "outputs": [
    {
     "data": {
      "text/plain": [
       "Text(0.5, 1.0, 'Зависимость медианной стоимости квартиры от этажа')"
      ]
     },
     "execution_count": 181,
     "metadata": {},
     "output_type": "execute_result"
    },
    {
     "data": {
      "image/png": "[encoded data removed]",
      "text/plain": [
       "<Figure size 432x288 with 1 Axes>"
      ]
     },
     "metadata": {
      "needs_background": "light"
     },
     "output_type": "display_data"
    }
   ],
   "source": [
    "# построим график, отражающий зависимость медианной стоимости квартиры от этажа\n",
    "plt.barh(floor_price.index, floor_price['last_price'])\n",
    "plt.title('Зависимость медианной стоимости квартиры от этажа')"
   ]
  },
  {
   "cell_type": "markdown",
   "metadata": {},
   "source": [
    "Самая низкая цена у квартир, находящихся на первом этаже. Немного дороже квартиры на последнем этаже."
   ]
  },
  {
   "cell_type": "code",
   "execution_count": 182,
   "metadata": {},
   "outputs": [
    {
     "data": {
      "text/html": [
       "<div>\n",
       "<style scoped>\n",
       "    .dataframe tbody tr th:only-of-type {\n",
       "        vertical-align: middle;\n",
       "    }\n",
       "\n",
       "    .dataframe tbody tr th {\n",
       "        vertical-align: top;\n",
       "    }\n",
       "\n",
       "    .dataframe thead th {\n",
       "        text-align: right;\n",
       "    }\n",
       "</style>\n",
       "<table border=\"1\" class=\"dataframe\">\n",
       "  <thead>\n",
       "    <tr style=\"text-align: right;\">\n",
       "      <th></th>\n",
       "      <th>last_price</th>\n",
       "    </tr>\n",
       "    <tr>\n",
       "      <th>day</th>\n",
       "      <th></th>\n",
       "    </tr>\n",
       "  </thead>\n",
       "  <tbody>\n",
       "    <tr>\n",
       "      <td>1</td>\n",
       "      <td>4550000</td>\n",
       "    </tr>\n",
       "    <tr>\n",
       "      <td>0</td>\n",
       "      <td>4500000</td>\n",
       "    </tr>\n",
       "    <tr>\n",
       "      <td>2</td>\n",
       "      <td>4500000</td>\n",
       "    </tr>\n",
       "    <tr>\n",
       "      <td>3</td>\n",
       "      <td>4500000</td>\n",
       "    </tr>\n",
       "    <tr>\n",
       "      <td>5</td>\n",
       "      <td>4500000</td>\n",
       "    </tr>\n",
       "    <tr>\n",
       "      <td>4</td>\n",
       "      <td>4450000</td>\n",
       "    </tr>\n",
       "    <tr>\n",
       "      <td>6</td>\n",
       "      <td>4400000</td>\n",
       "    </tr>\n",
       "  </tbody>\n",
       "</table>\n",
       "</div>"
      ],
      "text/plain": [
       "     last_price\n",
       "day            \n",
       "1       4550000\n",
       "0       4500000\n",
       "2       4500000\n",
       "3       4500000\n",
       "5       4500000\n",
       "4       4450000\n",
       "6       4400000"
      ]
     },
     "execution_count": 182,
     "metadata": {},
     "output_type": "execute_result"
    }
   ],
   "source": [
    "# сгруппируем таблицу по дню размещения объявления\n",
    "day_price = good_df[['day', 'last_price']].groupby('day').median().sort_values(by='last_price', ascending=False)\n",
    "day_price"
   ]
  },
  {
   "cell_type": "code",
   "execution_count": 183,
   "metadata": {},
   "outputs": [
    {
     "data": {
      "text/plain": [
       "0.004788852012844387"
      ]
     },
     "execution_count": 183,
     "metadata": {},
     "output_type": "execute_result"
    }
   ],
   "source": [
    "# найдем корреляцию между ценой и днем размещения объявления\n",
    "good_df['last_price'].corr(good_df['day'])"
   ]
  },
  {
   "cell_type": "code",
   "execution_count": 184,
   "metadata": {},
   "outputs": [
    {
     "data": {
      "image/png": "[encoded data removed]",
      "text/plain": [
       "<Figure size 432x288 with 1 Axes>"
      ]
     },
     "metadata": {
      "needs_background": "light"
     },
     "output_type": "display_data"
    }
   ],
   "source": [
    "# построим график, отражающий зависимость медианной стоимости квартиры от дня недели размещения объявления\n",
    "plt.barh(day_price.index, day_price['last_price'])\n",
    "plt.title('Зависимость медианной стоимости квартиры от дня недели размещения объявления')\n",
    "plt.show()"
   ]
  },
  {
   "cell_type": "markdown",
   "metadata": {},
   "source": [
    "Между ценой квартиры и днем недели корреляция очень слабая. Однако немного выше, чем в остальные дни, цена квартиры, когда объявление размещается во вторник и в субботу."
   ]
  },
  {
   "cell_type": "code",
   "execution_count": 185,
   "metadata": {},
   "outputs": [
    {
     "data": {
      "text/html": [
       "<div>\n",
       "<style scoped>\n",
       "    .dataframe tbody tr th:only-of-type {\n",
       "        vertical-align: middle;\n",
       "    }\n",
       "\n",
       "    .dataframe tbody tr th {\n",
       "        vertical-align: top;\n",
       "    }\n",
       "\n",
       "    .dataframe thead th {\n",
       "        text-align: right;\n",
       "    }\n",
       "</style>\n",
       "<table border=\"1\" class=\"dataframe\">\n",
       "  <thead>\n",
       "    <tr style=\"text-align: right;\">\n",
       "      <th></th>\n",
       "      <th>last_price</th>\n",
       "    </tr>\n",
       "    <tr>\n",
       "      <th>month</th>\n",
       "      <th></th>\n",
       "    </tr>\n",
       "  </thead>\n",
       "  <tbody>\n",
       "    <tr>\n",
       "      <td>1</td>\n",
       "      <td>4500000</td>\n",
       "    </tr>\n",
       "    <tr>\n",
       "      <td>2</td>\n",
       "      <td>4500000</td>\n",
       "    </tr>\n",
       "    <tr>\n",
       "      <td>3</td>\n",
       "      <td>4450000</td>\n",
       "    </tr>\n",
       "    <tr>\n",
       "      <td>4</td>\n",
       "      <td>4500000</td>\n",
       "    </tr>\n",
       "    <tr>\n",
       "      <td>5</td>\n",
       "      <td>4450000</td>\n",
       "    </tr>\n",
       "    <tr>\n",
       "      <td>6</td>\n",
       "      <td>4350000</td>\n",
       "    </tr>\n",
       "    <tr>\n",
       "      <td>7</td>\n",
       "      <td>4500000</td>\n",
       "    </tr>\n",
       "    <tr>\n",
       "      <td>8</td>\n",
       "      <td>4500000</td>\n",
       "    </tr>\n",
       "    <tr>\n",
       "      <td>9</td>\n",
       "      <td>4600000</td>\n",
       "    </tr>\n",
       "    <tr>\n",
       "      <td>10</td>\n",
       "      <td>4500000</td>\n",
       "    </tr>\n",
       "    <tr>\n",
       "      <td>11</td>\n",
       "      <td>4600000</td>\n",
       "    </tr>\n",
       "    <tr>\n",
       "      <td>12</td>\n",
       "      <td>4460000</td>\n",
       "    </tr>\n",
       "  </tbody>\n",
       "</table>\n",
       "</div>"
      ],
      "text/plain": [
       "       last_price\n",
       "month            \n",
       "1         4500000\n",
       "2         4500000\n",
       "3         4450000\n",
       "4         4500000\n",
       "5         4450000\n",
       "6         4350000\n",
       "7         4500000\n",
       "8         4500000\n",
       "9         4600000\n",
       "10        4500000\n",
       "11        4600000\n",
       "12        4460000"
      ]
     },
     "execution_count": 185,
     "metadata": {},
     "output_type": "execute_result"
    }
   ],
   "source": [
    "# сгруппируем таблицу по месяцу размещения объявления\n",
    "month_price = good_df[['month', 'last_price']].groupby('month').median().sort_index()\n",
    "month_price"
   ]
  },
  {
   "cell_type": "code",
   "execution_count": 186,
   "metadata": {},
   "outputs": [
    {
     "data": {
      "text/plain": [
       "0.004117442476709208"
      ]
     },
     "execution_count": 186,
     "metadata": {},
     "output_type": "execute_result"
    }
   ],
   "source": [
    "# найдем корреляцию между ценой и месяцем размещения объявления\n",
    "good_df['last_price'].corr(good_df['month'])"
   ]
  },
  {
   "cell_type": "code",
   "execution_count": 187,
   "metadata": {},
   "outputs": [
    {
     "data": {
      "text/plain": [
       "Text(0.5, 1.0, 'Зависимость медианной стоимости квартиры от месяца')"
      ]
     },
     "execution_count": 187,
     "metadata": {},
     "output_type": "execute_result"
    },
    {
     "data": {
      "image/png": "[encoded data removed]",
      "text/plain": [
       "<Figure size 432x288 with 1 Axes>"
      ]
     },
     "metadata": {
      "needs_background": "light"
     },
     "output_type": "display_data"
    }
   ],
   "source": [
    "# построим график, отражающий зависимость медианной стоимости квартиры от месяца\n",
    "plt.plot(month_price.index, month_price['last_price'])\n",
    "plt.title('Зависимость медианной стоимости квартиры от месяца')"
   ]
  },
  {
   "cell_type": "markdown",
   "metadata": {},
   "source": [
    "Между ценой квартиры и месяцем размещения объявления слабая корреляция. Немного дороже цена квартиры, объявление о продаже которой было размещено в сентябре и ноябре. Очевидных причин для этого нет."
   ]
  },
  {
   "cell_type": "code",
   "execution_count": 188,
   "metadata": {},
   "outputs": [
    {
     "data": {
      "text/html": [
       "<div>\n",
       "<style scoped>\n",
       "    .dataframe tbody tr th:only-of-type {\n",
       "        vertical-align: middle;\n",
       "    }\n",
       "\n",
       "    .dataframe tbody tr th {\n",
       "        vertical-align: top;\n",
       "    }\n",
       "\n",
       "    .dataframe thead th {\n",
       "        text-align: right;\n",
       "    }\n",
       "</style>\n",
       "<table border=\"1\" class=\"dataframe\">\n",
       "  <thead>\n",
       "    <tr style=\"text-align: right;\">\n",
       "      <th></th>\n",
       "      <th>last_price</th>\n",
       "    </tr>\n",
       "    <tr>\n",
       "      <th>year</th>\n",
       "      <th></th>\n",
       "    </tr>\n",
       "  </thead>\n",
       "  <tbody>\n",
       "    <tr>\n",
       "      <td>2015</td>\n",
       "      <td>4900000</td>\n",
       "    </tr>\n",
       "    <tr>\n",
       "      <td>2019</td>\n",
       "      <td>4800000</td>\n",
       "    </tr>\n",
       "    <tr>\n",
       "      <td>2017</td>\n",
       "      <td>4500000</td>\n",
       "    </tr>\n",
       "    <tr>\n",
       "      <td>2018</td>\n",
       "      <td>4500000</td>\n",
       "    </tr>\n",
       "    <tr>\n",
       "      <td>2016</td>\n",
       "      <td>4450000</td>\n",
       "    </tr>\n",
       "  </tbody>\n",
       "</table>\n",
       "</div>"
      ],
      "text/plain": [
       "      last_price\n",
       "year            \n",
       "2015     4900000\n",
       "2019     4800000\n",
       "2017     4500000\n",
       "2018     4500000\n",
       "2016     4450000"
      ]
     },
     "execution_count": 188,
     "metadata": {},
     "output_type": "execute_result"
    }
   ],
   "source": [
    "# сгруппируем таблицу по году размещения объявления\n",
    "year_price = good_df[['year', 'last_price']].groupby(['year']).median().sort_values(by='last_price', ascending=False)\n",
    "year_price"
   ]
  },
  {
   "cell_type": "code",
   "execution_count": 189,
   "metadata": {},
   "outputs": [
    {
     "data": {
      "text/plain": [
       "-0.0358915526798848"
      ]
     },
     "execution_count": 189,
     "metadata": {},
     "output_type": "execute_result"
    }
   ],
   "source": [
    "# найдем корреляцию между ценой и годом размещения объявления\n",
    "good_df['last_price'].corr(good_df['year'])"
   ]
  },
  {
   "cell_type": "code",
   "execution_count": 190,
   "metadata": {},
   "outputs": [
    {
     "data": {
      "image/png": "[encoded data removed]",
      "text/plain": [
       "<Figure size 432x288 with 1 Axes>"
      ]
     },
     "metadata": {
      "needs_background": "light"
     },
     "output_type": "display_data"
    }
   ],
   "source": [
    "# построим график, отражающий зависимость медианной стоимости квартиры от года\n",
    "plt.barh(year_price.index, year_price['last_price'])\n",
    "plt.title('Зависимость медианной стоимости квартиры от года')\n",
    "plt.show()"
   ]
  },
  {
   "cell_type": "markdown",
   "metadata": {},
   "source": [
    "Согласно коэффициенту корреляции Пирсона между стоимостью квартиры и годом размещеняя объявления имеется обратная средняя связь. В 2014 г. стоимость была наибольшей. Видимо, это связано с резким увеличением спроса на недвижимость - в этот период люди опасались за свои средства перед кризисом и массово стали искать возможности вложения своих денег."
   ]
  },
  {
   "cell_type": "markdown",
   "metadata": {},
   "source": [
    "Выберем 10 населённых пунктов с наибольшим числом объявлений, посчитаем среднюю цену квадратного метра в этих населённых пунктах и выделим населённые пункты с самой высокой и низкой стоимостью жилья."
   ]
  },
  {
   "cell_type": "code",
   "execution_count": 191,
   "metadata": {},
   "outputs": [],
   "source": [
    "# составим сводную таблицу, в которую включим в качестве строк названия населенных пунктов, в качестве значений -\n",
    "# цену квадратного метра, и применим к ней 2 функции: 'count' и 'mean'\n",
    "top_locals=good_df.pivot_table(index='locality_name', values='price_for_meter', aggfunc=('count', 'mean'))\n",
    "# для возможности отсортировать сводную таблицу по количеству объявлений добавим значения показателей примененных функций\n",
    "# в новые столбцы с одноименными названиями\n",
    "top_locals.columns=('count', 'mean')\n",
    "# отсортируем населенные пункты по количеству объявлений и заодно увидим среднюю стоимость квадратного метра жилья в них\n",
    "head_top_locals =top_locals.sort_values(by='count', ascending=False).head(10)"
   ]
  },
  {
   "cell_type": "code",
   "execution_count": 192,
   "metadata": {},
   "outputs": [
    {
     "data": {
      "image/png": "[encoded data removed]",
      "text/plain": [
       "<Figure size 720x576 with 1 Axes>"
      ]
     },
     "metadata": {
      "needs_background": "light"
     },
     "output_type": "display_data"
    }
   ],
   "source": [
    "# построим график средней стоимости жилья\n",
    "head_top_locals['mean'].plot(figsize=(10, 8), title='Средняя стоимость квартир', style='o-', grid=True)\n",
    "plt.show()"
   ]
  },
  {
   "cell_type": "code",
   "execution_count": 193,
   "metadata": {},
   "outputs": [
    {
     "data": {
      "image/png": "[encoded data removed]",
      "text/plain": [
       "<Figure size 720x576 with 1 Axes>"
      ]
     },
     "metadata": {
      "needs_background": "light"
     },
     "output_type": "display_data"
    }
   ],
   "source": [
    "# построим график количества объявлений\n",
    "head_top_locals['count'].plot(figsize=(10, 8), title='Количество объявлений', style='o-', grid=True)\n",
    "plt.show()"
   ]
  },
  {
   "cell_type": "code",
   "execution_count": 194,
   "metadata": {},
   "outputs": [
    {
     "data": {
      "text/html": [
       "<div>\n",
       "<style scoped>\n",
       "    .dataframe tbody tr th:only-of-type {\n",
       "        vertical-align: middle;\n",
       "    }\n",
       "\n",
       "    .dataframe tbody tr th {\n",
       "        vertical-align: top;\n",
       "    }\n",
       "\n",
       "    .dataframe thead th {\n",
       "        text-align: right;\n",
       "    }\n",
       "</style>\n",
       "<table border=\"1\" class=\"dataframe\">\n",
       "  <thead>\n",
       "    <tr style=\"text-align: right;\">\n",
       "      <th></th>\n",
       "      <th>count</th>\n",
       "      <th>mean</th>\n",
       "    </tr>\n",
       "    <tr>\n",
       "      <th>locality_name</th>\n",
       "      <th></th>\n",
       "      <th></th>\n",
       "    </tr>\n",
       "  </thead>\n",
       "  <tbody>\n",
       "    <tr>\n",
       "      <td>посёлок Лисий Нос</td>\n",
       "      <td>1</td>\n",
       "      <td>168706.69746</td>\n",
       "    </tr>\n",
       "  </tbody>\n",
       "</table>\n",
       "</div>"
      ],
      "text/plain": [
       "                   count          mean\n",
       "locality_name                         \n",
       "посёлок Лисий Нос      1  168706.69746"
      ]
     },
     "execution_count": 194,
     "metadata": {},
     "output_type": "execute_result"
    }
   ],
   "source": [
    "# выделим населенные пункты с самой высокой стоимостью квадратного метра жилья\n",
    "top_locals[top_locals['mean'] == top_locals['mean'].max()]"
   ]
  },
  {
   "cell_type": "code",
   "execution_count": 195,
   "metadata": {},
   "outputs": [
    {
     "data": {
      "text/html": [
       "<div>\n",
       "<style scoped>\n",
       "    .dataframe tbody tr th:only-of-type {\n",
       "        vertical-align: middle;\n",
       "    }\n",
       "\n",
       "    .dataframe tbody tr th {\n",
       "        vertical-align: top;\n",
       "    }\n",
       "\n",
       "    .dataframe thead th {\n",
       "        text-align: right;\n",
       "    }\n",
       "</style>\n",
       "<table border=\"1\" class=\"dataframe\">\n",
       "  <thead>\n",
       "    <tr style=\"text-align: right;\">\n",
       "      <th></th>\n",
       "      <th>total_images</th>\n",
       "      <th>last_price</th>\n",
       "      <th>total_area</th>\n",
       "      <th>first_day_exposition</th>\n",
       "      <th>rooms</th>\n",
       "      <th>ceiling_height</th>\n",
       "      <th>floors_total</th>\n",
       "      <th>living_area</th>\n",
       "      <th>floor</th>\n",
       "      <th>is_apartment</th>\n",
       "      <th>...</th>\n",
       "      <th>ponds_around3000</th>\n",
       "      <th>ponds_nearest</th>\n",
       "      <th>days_exposition</th>\n",
       "      <th>price_for_meter</th>\n",
       "      <th>day</th>\n",
       "      <th>month</th>\n",
       "      <th>year</th>\n",
       "      <th>floor_category</th>\n",
       "      <th>ratio_of_living_and_total_area</th>\n",
       "      <th>ratio_of_kitchen_and_total_area</th>\n",
       "    </tr>\n",
       "  </thead>\n",
       "  <tbody>\n",
       "    <tr>\n",
       "      <td>21934</td>\n",
       "      <td>3</td>\n",
       "      <td>7305000</td>\n",
       "      <td>43.3</td>\n",
       "      <td>2018-10-09</td>\n",
       "      <td>1</td>\n",
       "      <td>2.65</td>\n",
       "      <td>10</td>\n",
       "      <td>30.0</td>\n",
       "      <td>10</td>\n",
       "      <td>False</td>\n",
       "      <td>...</td>\n",
       "      <td>0.0</td>\n",
       "      <td>NaN</td>\n",
       "      <td>60.0</td>\n",
       "      <td>168706.69746</td>\n",
       "      <td>1</td>\n",
       "      <td>10</td>\n",
       "      <td>2018</td>\n",
       "      <td>последний</td>\n",
       "      <td>0.692841</td>\n",
       "      <td>0.228637</td>\n",
       "    </tr>\n",
       "  </tbody>\n",
       "</table>\n",
       "<p>1 rows × 29 columns</p>\n",
       "</div>"
      ],
      "text/plain": [
       "       total_images  last_price  total_area first_day_exposition  rooms  \\\n",
       "21934             3     7305000        43.3           2018-10-09      1   \n",
       "\n",
       "       ceiling_height  floors_total  living_area  floor  is_apartment  ...  \\\n",
       "21934            2.65            10         30.0     10         False  ...   \n",
       "\n",
       "       ponds_around3000  ponds_nearest  days_exposition  price_for_meter day  \\\n",
       "21934               0.0            NaN             60.0     168706.69746   1   \n",
       "\n",
       "       month  year  floor_category  ratio_of_living_and_total_area  \\\n",
       "21934     10  2018       последний                        0.692841   \n",
       "\n",
       "       ratio_of_kitchen_and_total_area  \n",
       "21934                         0.228637  \n",
       "\n",
       "[1 rows x 29 columns]"
      ]
     },
     "execution_count": 195,
     "metadata": {},
     "output_type": "execute_result"
    }
   ],
   "source": [
    "# выведим на экран строчку со значениями всех параметров для поселка Лисий Нос\n",
    "good_df[good_df['locality_name'] == 'посёлок Лисий Нос']"
   ]
  },
  {
   "cell_type": "code",
   "execution_count": 196,
   "metadata": {},
   "outputs": [
    {
     "data": {
      "text/html": [
       "<div>\n",
       "<style scoped>\n",
       "    .dataframe tbody tr th:only-of-type {\n",
       "        vertical-align: middle;\n",
       "    }\n",
       "\n",
       "    .dataframe tbody tr th {\n",
       "        vertical-align: top;\n",
       "    }\n",
       "\n",
       "    .dataframe thead th {\n",
       "        text-align: right;\n",
       "    }\n",
       "</style>\n",
       "<table border=\"1\" class=\"dataframe\">\n",
       "  <thead>\n",
       "    <tr style=\"text-align: right;\">\n",
       "      <th></th>\n",
       "      <th>count</th>\n",
       "      <th>mean</th>\n",
       "    </tr>\n",
       "    <tr>\n",
       "      <th>locality_name</th>\n",
       "      <th></th>\n",
       "      <th></th>\n",
       "    </tr>\n",
       "  </thead>\n",
       "  <tbody>\n",
       "    <tr>\n",
       "      <td>деревня Старополье</td>\n",
       "      <td>3</td>\n",
       "      <td>11206.221198</td>\n",
       "    </tr>\n",
       "  </tbody>\n",
       "</table>\n",
       "</div>"
      ],
      "text/plain": [
       "                    count          mean\n",
       "locality_name                          \n",
       "деревня Старополье      3  11206.221198"
      ]
     },
     "execution_count": 196,
     "metadata": {},
     "output_type": "execute_result"
    }
   ],
   "source": [
    "# выделим населенные пункты с самой низкой стоимостью квадратного метра жилья\n",
    "top_locals[top_locals['mean'] == top_locals['mean'].min()]"
   ]
  },
  {
   "cell_type": "markdown",
   "metadata": {},
   "source": [
    "Самое высокое среднее значение стоимости квадратного метра жилья в поселке Лисий Нос. Там всего одно объявление и по остальным значением сложно понять, с чем связана столь высокая цена квадратного метра квартиры (она находится на последнем этаже, имеет одну комнату и 43,3 кв.м. Возможно, там был сделан очень дорогой ремонт. Самое низкая стоимость квадратного метра жилья в деревне Старополье. Больше всего объявлений в Санкт-Петербурге, при этом и стоимость квадратного метра там очень высокая. Из первой десятки населенных пунктов по количеству объявлений Выборг обладает самой низкой средней стоимостью квадратного метра жилья."
   ]
  },
  {
   "cell_type": "markdown",
   "metadata": {},
   "source": [
    "### Анализ предложения квартир"
   ]
  },
  {
   "cell_type": "markdown",
   "metadata": {},
   "source": [
    "Изучим предложения квартир: для каждой квартиры есть информация о расстоянии до центра. Выделим квартиры в Санкт-Петербурге. Основная задача — выяснить, какая область входит в центр. Создадим столбец с расстоянием до центра в километрах: округлим до целых значений. После этого посчитаем среднюю цену для каждого километра. Построим график: он должен показывать, как цена зависит от удалённости от центра. Определим границу, где график сильно меняется — это и будет центральная зона."
   ]
  },
  {
   "cell_type": "code",
   "execution_count": 197,
   "metadata": {},
   "outputs": [
    {
     "data": {
      "text/html": [
       "<div>\n",
       "<style scoped>\n",
       "    .dataframe tbody tr th:only-of-type {\n",
       "        vertical-align: middle;\n",
       "    }\n",
       "\n",
       "    .dataframe tbody tr th {\n",
       "        vertical-align: top;\n",
       "    }\n",
       "\n",
       "    .dataframe thead th {\n",
       "        text-align: right;\n",
       "    }\n",
       "</style>\n",
       "<table border=\"1\" class=\"dataframe\">\n",
       "  <thead>\n",
       "    <tr style=\"text-align: right;\">\n",
       "      <th></th>\n",
       "      <th>total_images</th>\n",
       "      <th>last_price</th>\n",
       "      <th>total_area</th>\n",
       "      <th>first_day_exposition</th>\n",
       "      <th>rooms</th>\n",
       "      <th>ceiling_height</th>\n",
       "      <th>floors_total</th>\n",
       "      <th>living_area</th>\n",
       "      <th>floor</th>\n",
       "      <th>is_apartment</th>\n",
       "      <th>...</th>\n",
       "      <th>ponds_around3000</th>\n",
       "      <th>ponds_nearest</th>\n",
       "      <th>days_exposition</th>\n",
       "      <th>price_for_meter</th>\n",
       "      <th>day</th>\n",
       "      <th>month</th>\n",
       "      <th>year</th>\n",
       "      <th>floor_category</th>\n",
       "      <th>ratio_of_living_and_total_area</th>\n",
       "      <th>ratio_of_kitchen_and_total_area</th>\n",
       "    </tr>\n",
       "  </thead>\n",
       "  <tbody>\n",
       "    <tr>\n",
       "      <td>3</td>\n",
       "      <td>0</td>\n",
       "      <td>64900000</td>\n",
       "      <td>159.0</td>\n",
       "      <td>2015-07-24</td>\n",
       "      <td>3</td>\n",
       "      <td>2.65</td>\n",
       "      <td>14</td>\n",
       "      <td>30.0</td>\n",
       "      <td>9</td>\n",
       "      <td>False</td>\n",
       "      <td>...</td>\n",
       "      <td>3.0</td>\n",
       "      <td>234.0</td>\n",
       "      <td>424.0</td>\n",
       "      <td>408176.100629</td>\n",
       "      <td>4</td>\n",
       "      <td>7</td>\n",
       "      <td>2015</td>\n",
       "      <td>другой</td>\n",
       "      <td>0.188679</td>\n",
       "      <td>0.057233</td>\n",
       "    </tr>\n",
       "    <tr>\n",
       "      <td>4</td>\n",
       "      <td>2</td>\n",
       "      <td>10000000</td>\n",
       "      <td>100.0</td>\n",
       "      <td>2018-06-19</td>\n",
       "      <td>2</td>\n",
       "      <td>3.03</td>\n",
       "      <td>14</td>\n",
       "      <td>32.0</td>\n",
       "      <td>13</td>\n",
       "      <td>False</td>\n",
       "      <td>...</td>\n",
       "      <td>1.0</td>\n",
       "      <td>48.0</td>\n",
       "      <td>121.0</td>\n",
       "      <td>100000.000000</td>\n",
       "      <td>1</td>\n",
       "      <td>6</td>\n",
       "      <td>2018</td>\n",
       "      <td>другой</td>\n",
       "      <td>0.320000</td>\n",
       "      <td>0.410000</td>\n",
       "    </tr>\n",
       "    <tr>\n",
       "      <td>9</td>\n",
       "      <td>18</td>\n",
       "      <td>5400000</td>\n",
       "      <td>61.0</td>\n",
       "      <td>2017-02-26</td>\n",
       "      <td>3</td>\n",
       "      <td>2.50</td>\n",
       "      <td>9</td>\n",
       "      <td>43.6</td>\n",
       "      <td>7</td>\n",
       "      <td>False</td>\n",
       "      <td>...</td>\n",
       "      <td>0.0</td>\n",
       "      <td>NaN</td>\n",
       "      <td>289.0</td>\n",
       "      <td>88524.590164</td>\n",
       "      <td>6</td>\n",
       "      <td>2</td>\n",
       "      <td>2017</td>\n",
       "      <td>другой</td>\n",
       "      <td>0.714754</td>\n",
       "      <td>0.106557</td>\n",
       "    </tr>\n",
       "    <tr>\n",
       "      <td>10</td>\n",
       "      <td>5</td>\n",
       "      <td>5050000</td>\n",
       "      <td>39.6</td>\n",
       "      <td>2017-11-16</td>\n",
       "      <td>1</td>\n",
       "      <td>2.67</td>\n",
       "      <td>12</td>\n",
       "      <td>20.3</td>\n",
       "      <td>3</td>\n",
       "      <td>False</td>\n",
       "      <td>...</td>\n",
       "      <td>2.0</td>\n",
       "      <td>553.0</td>\n",
       "      <td>137.0</td>\n",
       "      <td>127525.252525</td>\n",
       "      <td>3</td>\n",
       "      <td>11</td>\n",
       "      <td>2017</td>\n",
       "      <td>другой</td>\n",
       "      <td>0.512626</td>\n",
       "      <td>0.214646</td>\n",
       "    </tr>\n",
       "    <tr>\n",
       "      <td>15</td>\n",
       "      <td>16</td>\n",
       "      <td>4650000</td>\n",
       "      <td>39.0</td>\n",
       "      <td>2017-11-18</td>\n",
       "      <td>1</td>\n",
       "      <td>2.65</td>\n",
       "      <td>14</td>\n",
       "      <td>20.5</td>\n",
       "      <td>5</td>\n",
       "      <td>False</td>\n",
       "      <td>...</td>\n",
       "      <td>1.0</td>\n",
       "      <td>296.0</td>\n",
       "      <td>19.0</td>\n",
       "      <td>119230.769231</td>\n",
       "      <td>5</td>\n",
       "      <td>11</td>\n",
       "      <td>2017</td>\n",
       "      <td>другой</td>\n",
       "      <td>0.525641</td>\n",
       "      <td>0.194872</td>\n",
       "    </tr>\n",
       "    <tr>\n",
       "      <td>16</td>\n",
       "      <td>11</td>\n",
       "      <td>6700000</td>\n",
       "      <td>82.0</td>\n",
       "      <td>2017-11-23</td>\n",
       "      <td>3</td>\n",
       "      <td>3.05</td>\n",
       "      <td>5</td>\n",
       "      <td>55.6</td>\n",
       "      <td>1</td>\n",
       "      <td>False</td>\n",
       "      <td>...</td>\n",
       "      <td>0.0</td>\n",
       "      <td>NaN</td>\n",
       "      <td>397.0</td>\n",
       "      <td>81707.317073</td>\n",
       "      <td>3</td>\n",
       "      <td>11</td>\n",
       "      <td>2017</td>\n",
       "      <td>первый</td>\n",
       "      <td>0.678049</td>\n",
       "      <td>0.109756</td>\n",
       "    </tr>\n",
       "    <tr>\n",
       "      <td>18</td>\n",
       "      <td>8</td>\n",
       "      <td>3250000</td>\n",
       "      <td>31.0</td>\n",
       "      <td>2017-01-27</td>\n",
       "      <td>1</td>\n",
       "      <td>2.50</td>\n",
       "      <td>5</td>\n",
       "      <td>19.4</td>\n",
       "      <td>2</td>\n",
       "      <td>False</td>\n",
       "      <td>...</td>\n",
       "      <td>0.0</td>\n",
       "      <td>NaN</td>\n",
       "      <td>168.0</td>\n",
       "      <td>104838.709677</td>\n",
       "      <td>4</td>\n",
       "      <td>1</td>\n",
       "      <td>2017</td>\n",
       "      <td>другой</td>\n",
       "      <td>0.625806</td>\n",
       "      <td>0.180645</td>\n",
       "    </tr>\n",
       "    <tr>\n",
       "      <td>19</td>\n",
       "      <td>16</td>\n",
       "      <td>14200000</td>\n",
       "      <td>121.0</td>\n",
       "      <td>2019-01-09</td>\n",
       "      <td>3</td>\n",
       "      <td>2.75</td>\n",
       "      <td>16</td>\n",
       "      <td>76.0</td>\n",
       "      <td>8</td>\n",
       "      <td>False</td>\n",
       "      <td>...</td>\n",
       "      <td>0.0</td>\n",
       "      <td>NaN</td>\n",
       "      <td>97.0</td>\n",
       "      <td>117355.371901</td>\n",
       "      <td>2</td>\n",
       "      <td>1</td>\n",
       "      <td>2019</td>\n",
       "      <td>другой</td>\n",
       "      <td>0.628099</td>\n",
       "      <td>0.099174</td>\n",
       "    </tr>\n",
       "    <tr>\n",
       "      <td>21</td>\n",
       "      <td>13</td>\n",
       "      <td>3200000</td>\n",
       "      <td>31.6</td>\n",
       "      <td>2018-03-14</td>\n",
       "      <td>1</td>\n",
       "      <td>2.65</td>\n",
       "      <td>5</td>\n",
       "      <td>16.9</td>\n",
       "      <td>2</td>\n",
       "      <td>False</td>\n",
       "      <td>...</td>\n",
       "      <td>0.0</td>\n",
       "      <td>NaN</td>\n",
       "      <td>310.0</td>\n",
       "      <td>101265.822785</td>\n",
       "      <td>2</td>\n",
       "      <td>3</td>\n",
       "      <td>2018</td>\n",
       "      <td>другой</td>\n",
       "      <td>0.534810</td>\n",
       "      <td>0.180380</td>\n",
       "    </tr>\n",
       "    <tr>\n",
       "      <td>24</td>\n",
       "      <td>8</td>\n",
       "      <td>6500000</td>\n",
       "      <td>97.2</td>\n",
       "      <td>2015-10-31</td>\n",
       "      <td>2</td>\n",
       "      <td>2.65</td>\n",
       "      <td>3</td>\n",
       "      <td>46.5</td>\n",
       "      <td>1</td>\n",
       "      <td>False</td>\n",
       "      <td>...</td>\n",
       "      <td>3.0</td>\n",
       "      <td>124.0</td>\n",
       "      <td>265.0</td>\n",
       "      <td>66872.427984</td>\n",
       "      <td>5</td>\n",
       "      <td>10</td>\n",
       "      <td>2015</td>\n",
       "      <td>первый</td>\n",
       "      <td>0.478395</td>\n",
       "      <td>0.201646</td>\n",
       "    </tr>\n",
       "  </tbody>\n",
       "</table>\n",
       "<p>10 rows × 29 columns</p>\n",
       "</div>"
      ],
      "text/plain": [
       "    total_images  last_price  total_area first_day_exposition  rooms  \\\n",
       "3              0    64900000       159.0           2015-07-24      3   \n",
       "4              2    10000000       100.0           2018-06-19      2   \n",
       "9             18     5400000        61.0           2017-02-26      3   \n",
       "10             5     5050000        39.6           2017-11-16      1   \n",
       "15            16     4650000        39.0           2017-11-18      1   \n",
       "16            11     6700000        82.0           2017-11-23      3   \n",
       "18             8     3250000        31.0           2017-01-27      1   \n",
       "19            16    14200000       121.0           2019-01-09      3   \n",
       "21            13     3200000        31.6           2018-03-14      1   \n",
       "24             8     6500000        97.2           2015-10-31      2   \n",
       "\n",
       "    ceiling_height  floors_total  living_area  floor  is_apartment  ...  \\\n",
       "3             2.65            14         30.0      9         False  ...   \n",
       "4             3.03            14         32.0     13         False  ...   \n",
       "9             2.50             9         43.6      7         False  ...   \n",
       "10            2.67            12         20.3      3         False  ...   \n",
       "15            2.65            14         20.5      5         False  ...   \n",
       "16            3.05             5         55.6      1         False  ...   \n",
       "18            2.50             5         19.4      2         False  ...   \n",
       "19            2.75            16         76.0      8         False  ...   \n",
       "21            2.65             5         16.9      2         False  ...   \n",
       "24            2.65             3         46.5      1         False  ...   \n",
       "\n",
       "    ponds_around3000  ponds_nearest  days_exposition  price_for_meter day  \\\n",
       "3                3.0          234.0            424.0    408176.100629   4   \n",
       "4                1.0           48.0            121.0    100000.000000   1   \n",
       "9                0.0            NaN            289.0     88524.590164   6   \n",
       "10               2.0          553.0            137.0    127525.252525   3   \n",
       "15               1.0          296.0             19.0    119230.769231   5   \n",
       "16               0.0            NaN            397.0     81707.317073   3   \n",
       "18               0.0            NaN            168.0    104838.709677   4   \n",
       "19               0.0            NaN             97.0    117355.371901   2   \n",
       "21               0.0            NaN            310.0    101265.822785   2   \n",
       "24               3.0          124.0            265.0     66872.427984   5   \n",
       "\n",
       "    month  year  floor_category  ratio_of_living_and_total_area  \\\n",
       "3       7  2015          другой                        0.188679   \n",
       "4       6  2018          другой                        0.320000   \n",
       "9       2  2017          другой                        0.714754   \n",
       "10     11  2017          другой                        0.512626   \n",
       "15     11  2017          другой                        0.525641   \n",
       "16     11  2017          первый                        0.678049   \n",
       "18      1  2017          другой                        0.625806   \n",
       "19      1  2019          другой                        0.628099   \n",
       "21      3  2018          другой                        0.534810   \n",
       "24     10  2015          первый                        0.478395   \n",
       "\n",
       "    ratio_of_kitchen_and_total_area  \n",
       "3                          0.057233  \n",
       "4                          0.410000  \n",
       "9                          0.106557  \n",
       "10                         0.214646  \n",
       "15                         0.194872  \n",
       "16                         0.109756  \n",
       "18                         0.180645  \n",
       "19                         0.099174  \n",
       "21                         0.180380  \n",
       "24                         0.201646  \n",
       "\n",
       "[10 rows x 29 columns]"
      ]
     },
     "execution_count": 197,
     "metadata": {},
     "output_type": "execute_result"
    }
   ],
   "source": [
    "# выделим квартиры в Санкт-Петербурге\n",
    "df_spb = good_df.query('locality_name == \"Санкт-Петербург\"').copy()\n",
    "# выведем на экран первые 10 строчек новой таблицы\n",
    "df_spb.head(10)"
   ]
  },
  {
   "cell_type": "code",
   "execution_count": 198,
   "metadata": {},
   "outputs": [],
   "source": [
    "# создадим столбец с расстоянием до центра в километрах и округлим до целых значений\n",
    "df_spb['cityCenters_kilometers'] = round(df_spb['cityCenters_nearest'] / 1000)\n",
    "# изменим тип данных в столбце cityCenters_kilometers с float на int, игнорируя значения NaN\n",
    "df_spb['cityCenters_kilometers'] = df_spb['cityCenters_kilometers'].astype('int', errors='ignore')"
   ]
  },
  {
   "cell_type": "code",
   "execution_count": 199,
   "metadata": {},
   "outputs": [
    {
     "data": {
      "image/png": "[encoded data removed]",
      "text/plain": [
       "<Figure size 864x576 with 1 Axes>"
      ]
     },
     "metadata": {
      "needs_background": "light"
     },
     "output_type": "display_data"
    }
   ],
   "source": [
    "# создадим сводную таблицу, которая будет отражать цену среднюю цену квартиры в зависимости от удаленности\n",
    "# от центра города и построим график\n",
    "df_spb.pivot_table(index='cityCenters_kilometers', \n",
    "        values=['last_price'], aggfunc='mean').plot(grid=True, figsize=(12, 8), \n",
    "        style='o', title='Зависимость стоимости жилья в Санкт-Петербурге от удаленности от центра города')\n",
    "plt.show()"
   ]
  },
  {
   "cell_type": "markdown",
   "metadata": {},
   "source": [
    "Чем дальше от центра Санкт-Петербурга, тем ниже средняя стоимость жилья. После 9 км от центра средняя стоимость жилья изменяется без резких скачков. Поэтому будем считать центром города окружность радиусом 9 км."
   ]
  },
  {
   "cell_type": "markdown",
   "metadata": {},
   "source": [
    "### Анализ квартир в центре города"
   ]
  },
  {
   "cell_type": "markdown",
   "metadata": {},
   "source": [
    "Далее выделим сегмент квартир в центре Санкт-Петербурга. Проанализируем эту территорию и изучим следующие параметры: площадь, цена, число комнат, высота потолков. Также выделим факторы, которые влияют на стоимость квартиры (число комнат, этаж, удалённость от центра, дата размещения объявления)."
   ]
  },
  {
   "cell_type": "code",
   "execution_count": 200,
   "metadata": {},
   "outputs": [],
   "source": [
    "# выделим квартиры, находящиеся в пределах 9 км от центра Санкт-Петербурга\n",
    "central_apartments = df_spb.query('cityCenters_kilometers <= 9')"
   ]
  },
  {
   "cell_type": "code",
   "execution_count": 201,
   "metadata": {},
   "outputs": [
    {
     "data": {
      "text/plain": [
       "count    3204.000000\n",
       "mean       82.735802\n",
       "std        53.929031\n",
       "min        12.000000\n",
       "25%        49.575000\n",
       "50%        70.000000\n",
       "75%        97.000000\n",
       "max       900.000000\n",
       "Name: total_area, dtype: float64"
      ]
     },
     "execution_count": 201,
     "metadata": {},
     "output_type": "execute_result"
    }
   ],
   "source": [
    "# изучим площадь квартир в центре Санкт-Петербурга\n",
    "central_apartments['total_area'].describe()"
   ]
  },
  {
   "cell_type": "code",
   "execution_count": 202,
   "metadata": {},
   "outputs": [
    {
     "data": {
      "image/png": "[encoded data removed]",
      "text/plain": [
       "<Figure size 432x288 with 1 Axes>"
      ]
     },
     "metadata": {
      "needs_background": "light"
     },
     "output_type": "display_data"
    }
   ],
   "source": [
    "# построим график boxplot\n",
    "sns.boxplot(central_apartments['total_area'])\n",
    "plt.show()"
   ]
  },
  {
   "cell_type": "markdown",
   "metadata": {},
   "source": [
    "Максимальная площадь жилья в центре Санкт-Петербурга соствляет 900 кв.м! Минимальная при этом всего лишь - 12 кв.м. Стандартное отклонение имеет большое значение, что говорит о большом количестве выбросов. Средняя площадь жилья - 82,74 кв.м."
   ]
  },
  {
   "cell_type": "code",
   "execution_count": 203,
   "metadata": {},
   "outputs": [
    {
     "data": {
      "text/plain": [
       "count    3.204000e+03\n",
       "mean     1.259224e+07\n",
       "std      2.396811e+07\n",
       "min      1.686000e+06\n",
       "25%      5.700000e+06\n",
       "50%      8.000000e+06\n",
       "75%      1.218920e+07\n",
       "max      7.630000e+08\n",
       "Name: last_price, dtype: float64"
      ]
     },
     "execution_count": 203,
     "metadata": {},
     "output_type": "execute_result"
    }
   ],
   "source": [
    "# изучим цену квартир в центре Санкт-Петербурга\n",
    "central_apartments['last_price'].describe()"
   ]
  },
  {
   "cell_type": "code",
   "execution_count": 204,
   "metadata": {},
   "outputs": [
    {
     "data": {
      "image/png": "[encoded data removed]",
      "text/plain": [
       "<Figure size 432x288 with 1 Axes>"
      ]
     },
     "metadata": {
      "needs_background": "light"
     },
     "output_type": "display_data"
    }
   ],
   "source": [
    "# построим график boxplot\n",
    "sns.boxplot(central_apartments['last_price'])\n",
    "plt.show()"
   ]
  },
  {
   "cell_type": "markdown",
   "metadata": {},
   "source": [
    "Стандартное отклонение почти в два раза больше среднего значения. Это говорит о том, что стоимость квартир в центре Санкт-Петербурга распределена крайне неравномерно: максимальная цена - 763 млн. руб., минимальная - 1,686 млн. руб. Средняя стоимость квартиры - 12,59 млн. руб."
   ]
  },
  {
   "cell_type": "code",
   "execution_count": 205,
   "metadata": {},
   "outputs": [
    {
     "data": {
      "text/plain": [
       "count    3204.000000\n",
       "mean        2.595818\n",
       "std         1.341197\n",
       "min         0.000000\n",
       "25%         2.000000\n",
       "50%         2.000000\n",
       "75%         3.000000\n",
       "max        19.000000\n",
       "Name: rooms, dtype: float64"
      ]
     },
     "execution_count": 205,
     "metadata": {},
     "output_type": "execute_result"
    }
   ],
   "source": [
    "# изучим число комнат квартир в центре Санкт-Петербурга\n",
    "central_apartments['rooms'].describe()"
   ]
  },
  {
   "cell_type": "code",
   "execution_count": 206,
   "metadata": {},
   "outputs": [
    {
     "data": {
      "image/png": "[encoded data removed]",
      "text/plain": [
       "<Figure size 432x288 with 1 Axes>"
      ]
     },
     "metadata": {
      "needs_background": "light"
     },
     "output_type": "display_data"
    }
   ],
   "source": [
    "# построим график boxplot\n",
    "sns.boxplot(central_apartments['rooms'])\n",
    "plt.show()"
   ]
  },
  {
   "cell_type": "markdown",
   "metadata": {},
   "source": [
    "На графике видно, что выбросов здесь встречается меньше, чем в двух предыдущих параметрах. В отношении числа комнат и не стоило ждать слишком большого разброса. Странным выглядит число комнат 0 и 19. В среднем встречаются квартиры с 2-3 комнатами."
   ]
  },
  {
   "cell_type": "code",
   "execution_count": 207,
   "metadata": {},
   "outputs": [
    {
     "data": {
      "text/plain": [
       "count    3204.000000\n",
       "mean        2.903433\n",
       "std         1.798771\n",
       "min         2.400000\n",
       "25%         2.650000\n",
       "50%         2.700000\n",
       "75%         3.000000\n",
       "max       100.000000\n",
       "Name: ceiling_height, dtype: float64"
      ]
     },
     "execution_count": 207,
     "metadata": {},
     "output_type": "execute_result"
    }
   ],
   "source": [
    "# изучим высоту потолков квартир в центре Санкт-Петербурга\n",
    "central_apartments['ceiling_height'].describe()"
   ]
  },
  {
   "cell_type": "code",
   "execution_count": 208,
   "metadata": {},
   "outputs": [
    {
     "data": {
      "image/png": "[encoded data removed]",
      "text/plain": [
       "<Figure size 432x288 with 1 Axes>"
      ]
     },
     "metadata": {
      "needs_background": "light"
     },
     "output_type": "display_data"
    }
   ],
   "source": [
    "sns.boxplot(central_apartments['ceiling_height'])\n",
    "plt.show()"
   ]
  },
  {
   "cell_type": "markdown",
   "metadata": {},
   "source": [
    "В центре Санкт-Петербурга в среднем высокие потолки - 2,9 м. Аномальным выглядит значение 100 м. Но так как в рамках данного исследования оно ни на что не повлияет, оставим все на своих местах."
   ]
  },
  {
   "cell_type": "markdown",
   "metadata": {},
   "source": [
    "Далее определим, какие факторы больше всего влияют на стоимость квартиры. Для этого сделаем срез по определенным параметрам."
   ]
  },
  {
   "cell_type": "code",
   "execution_count": 209,
   "metadata": {},
   "outputs": [
    {
     "data": {
      "text/html": [
       "<div>\n",
       "<style scoped>\n",
       "    .dataframe tbody tr th:only-of-type {\n",
       "        vertical-align: middle;\n",
       "    }\n",
       "\n",
       "    .dataframe tbody tr th {\n",
       "        vertical-align: top;\n",
       "    }\n",
       "\n",
       "    .dataframe thead th {\n",
       "        text-align: right;\n",
       "    }\n",
       "</style>\n",
       "<table border=\"1\" class=\"dataframe\">\n",
       "  <thead>\n",
       "    <tr style=\"text-align: right;\">\n",
       "      <th></th>\n",
       "      <th>last_price</th>\n",
       "      <th>rooms</th>\n",
       "      <th>floor_category</th>\n",
       "      <th>cityCenters_nearest</th>\n",
       "      <th>first_day_exposition</th>\n",
       "    </tr>\n",
       "  </thead>\n",
       "  <tbody>\n",
       "    <tr>\n",
       "      <td>3</td>\n",
       "      <td>64900000</td>\n",
       "      <td>3</td>\n",
       "      <td>другой</td>\n",
       "      <td>6800.0</td>\n",
       "      <td>2015-07-24</td>\n",
       "    </tr>\n",
       "    <tr>\n",
       "      <td>4</td>\n",
       "      <td>10000000</td>\n",
       "      <td>2</td>\n",
       "      <td>другой</td>\n",
       "      <td>8098.0</td>\n",
       "      <td>2018-06-19</td>\n",
       "    </tr>\n",
       "    <tr>\n",
       "      <td>24</td>\n",
       "      <td>6500000</td>\n",
       "      <td>2</td>\n",
       "      <td>первый</td>\n",
       "      <td>2336.0</td>\n",
       "      <td>2015-10-31</td>\n",
       "    </tr>\n",
       "    <tr>\n",
       "      <td>51</td>\n",
       "      <td>45000000</td>\n",
       "      <td>3</td>\n",
       "      <td>другой</td>\n",
       "      <td>6589.0</td>\n",
       "      <td>2017-10-17</td>\n",
       "    </tr>\n",
       "    <tr>\n",
       "      <td>63</td>\n",
       "      <td>20000000</td>\n",
       "      <td>3</td>\n",
       "      <td>другой</td>\n",
       "      <td>4800.0</td>\n",
       "      <td>2018-09-11</td>\n",
       "    </tr>\n",
       "    <tr>\n",
       "      <td>85</td>\n",
       "      <td>5200000</td>\n",
       "      <td>2</td>\n",
       "      <td>последний</td>\n",
       "      <td>9319.0</td>\n",
       "      <td>2018-11-26</td>\n",
       "    </tr>\n",
       "    <tr>\n",
       "      <td>99</td>\n",
       "      <td>9600000</td>\n",
       "      <td>4</td>\n",
       "      <td>другой</td>\n",
       "      <td>2818.0</td>\n",
       "      <td>2017-09-26</td>\n",
       "    </tr>\n",
       "    <tr>\n",
       "      <td>111</td>\n",
       "      <td>4590000</td>\n",
       "      <td>1</td>\n",
       "      <td>первый</td>\n",
       "      <td>6175.0</td>\n",
       "      <td>2017-05-29</td>\n",
       "    </tr>\n",
       "    <tr>\n",
       "      <td>115</td>\n",
       "      <td>3850000</td>\n",
       "      <td>2</td>\n",
       "      <td>другой</td>\n",
       "      <td>8535.0</td>\n",
       "      <td>2018-11-05</td>\n",
       "    </tr>\n",
       "    <tr>\n",
       "      <td>118</td>\n",
       "      <td>4500000</td>\n",
       "      <td>1</td>\n",
       "      <td>другой</td>\n",
       "      <td>9089.0</td>\n",
       "      <td>2019-02-24</td>\n",
       "    </tr>\n",
       "  </tbody>\n",
       "</table>\n",
       "</div>"
      ],
      "text/plain": [
       "     last_price  rooms floor_category  cityCenters_nearest  \\\n",
       "3      64900000      3         другой               6800.0   \n",
       "4      10000000      2         другой               8098.0   \n",
       "24      6500000      2         первый               2336.0   \n",
       "51     45000000      3         другой               6589.0   \n",
       "63     20000000      3         другой               4800.0   \n",
       "85      5200000      2      последний               9319.0   \n",
       "99      9600000      4         другой               2818.0   \n",
       "111     4590000      1         первый               6175.0   \n",
       "115     3850000      2         другой               8535.0   \n",
       "118     4500000      1         другой               9089.0   \n",
       "\n",
       "    first_day_exposition  \n",
       "3             2015-07-24  \n",
       "4             2018-06-19  \n",
       "24            2015-10-31  \n",
       "51            2017-10-17  \n",
       "63            2018-09-11  \n",
       "85            2018-11-26  \n",
       "99            2017-09-26  \n",
       "111           2017-05-29  \n",
       "115           2018-11-05  \n",
       "118           2019-02-24  "
      ]
     },
     "execution_count": 209,
     "metadata": {},
     "output_type": "execute_result"
    }
   ],
   "source": [
    "# создадим новую таблицу, в которую включим стоимость жилья и факторы, от которых она может зависить\n",
    "new_df_spb = central_apartments[['last_price', 'rooms', 'floor_category', 'cityCenters_nearest', 'first_day_exposition']]\n",
    "new_df_spb.head(10)"
   ]
  },
  {
   "cell_type": "code",
   "execution_count": 210,
   "metadata": {},
   "outputs": [
    {
     "data": {
      "text/html": [
       "<div>\n",
       "<style scoped>\n",
       "    .dataframe tbody tr th:only-of-type {\n",
       "        vertical-align: middle;\n",
       "    }\n",
       "\n",
       "    .dataframe tbody tr th {\n",
       "        vertical-align: top;\n",
       "    }\n",
       "\n",
       "    .dataframe thead th {\n",
       "        text-align: right;\n",
       "    }\n",
       "</style>\n",
       "<table border=\"1\" class=\"dataframe\">\n",
       "  <thead>\n",
       "    <tr style=\"text-align: right;\">\n",
       "      <th></th>\n",
       "      <th>last_price</th>\n",
       "      <th>rooms</th>\n",
       "      <th>cityCenters_nearest</th>\n",
       "    </tr>\n",
       "  </thead>\n",
       "  <tbody>\n",
       "    <tr>\n",
       "      <td>last_price</td>\n",
       "      <td>1.000000</td>\n",
       "      <td>0.348337</td>\n",
       "      <td>-0.115399</td>\n",
       "    </tr>\n",
       "    <tr>\n",
       "      <td>rooms</td>\n",
       "      <td>0.348337</td>\n",
       "      <td>1.000000</td>\n",
       "      <td>-0.259759</td>\n",
       "    </tr>\n",
       "    <tr>\n",
       "      <td>cityCenters_nearest</td>\n",
       "      <td>-0.115399</td>\n",
       "      <td>-0.259759</td>\n",
       "      <td>1.000000</td>\n",
       "    </tr>\n",
       "  </tbody>\n",
       "</table>\n",
       "</div>"
      ],
      "text/plain": [
       "                     last_price     rooms  cityCenters_nearest\n",
       "last_price             1.000000  0.348337            -0.115399\n",
       "rooms                  0.348337  1.000000            -0.259759\n",
       "cityCenters_nearest   -0.115399 -0.259759             1.000000"
      ]
     },
     "execution_count": 210,
     "metadata": {},
     "output_type": "execute_result"
    }
   ],
   "source": [
    "# посчитаем корреляцию между параметрами\n",
    "new_df_spb.corr()"
   ]
  },
  {
   "cell_type": "code",
   "execution_count": 211,
   "metadata": {},
   "outputs": [
    {
     "data": {
      "text/html": [
       "<div>\n",
       "<style scoped>\n",
       "    .dataframe tbody tr th:only-of-type {\n",
       "        vertical-align: middle;\n",
       "    }\n",
       "\n",
       "    .dataframe tbody tr th {\n",
       "        vertical-align: top;\n",
       "    }\n",
       "\n",
       "    .dataframe thead th {\n",
       "        text-align: right;\n",
       "    }\n",
       "</style>\n",
       "<table border=\"1\" class=\"dataframe\">\n",
       "  <thead>\n",
       "    <tr style=\"text-align: right;\">\n",
       "      <th></th>\n",
       "      <th>last_price</th>\n",
       "      <th>rooms</th>\n",
       "      <th>cityCenters_nearest</th>\n",
       "    </tr>\n",
       "  </thead>\n",
       "  <tbody>\n",
       "    <tr>\n",
       "      <td>last_price</td>\n",
       "      <td>1.000000</td>\n",
       "      <td>0.348337</td>\n",
       "      <td>-0.115399</td>\n",
       "    </tr>\n",
       "    <tr>\n",
       "      <td>rooms</td>\n",
       "      <td>0.348337</td>\n",
       "      <td>1.000000</td>\n",
       "      <td>-0.259759</td>\n",
       "    </tr>\n",
       "    <tr>\n",
       "      <td>cityCenters_nearest</td>\n",
       "      <td>-0.115399</td>\n",
       "      <td>-0.259759</td>\n",
       "      <td>1.000000</td>\n",
       "    </tr>\n",
       "  </tbody>\n",
       "</table>\n",
       "</div>"
      ],
      "text/plain": [
       "                     last_price     rooms  cityCenters_nearest\n",
       "last_price             1.000000  0.348337            -0.115399\n",
       "rooms                  0.348337  1.000000            -0.259759\n",
       "cityCenters_nearest   -0.115399 -0.259759             1.000000"
      ]
     },
     "execution_count": 211,
     "metadata": {},
     "output_type": "execute_result"
    }
   ],
   "source": [
    "# найдем корреляцию между параметрами\n",
    "new_df_spb.corr()"
   ]
  },
  {
   "cell_type": "markdown",
   "metadata": {},
   "source": [
    "Цена квартиры в центре Санкт-Петербурга имеет положительную корреляцию с числом комнат. В большинстве случае чем больше количество комнат, тем выше и площадь. Так же мы видим обратную корреляцию между ценой квартиры и удалением от центра города. Ранее мы уже графически изображали данную зависимость."
   ]
  },
  {
   "cell_type": "code",
   "execution_count": 212,
   "metadata": {},
   "outputs": [
    {
     "data": {
      "text/html": [
       "<div>\n",
       "<style scoped>\n",
       "    .dataframe tbody tr th:only-of-type {\n",
       "        vertical-align: middle;\n",
       "    }\n",
       "\n",
       "    .dataframe tbody tr th {\n",
       "        vertical-align: top;\n",
       "    }\n",
       "\n",
       "    .dataframe thead th {\n",
       "        text-align: right;\n",
       "    }\n",
       "</style>\n",
       "<table border=\"1\" class=\"dataframe\">\n",
       "  <thead>\n",
       "    <tr style=\"text-align: right;\">\n",
       "      <th></th>\n",
       "      <th>last_price</th>\n",
       "    </tr>\n",
       "    <tr>\n",
       "      <th>floor_category</th>\n",
       "      <th></th>\n",
       "    </tr>\n",
       "  </thead>\n",
       "  <tbody>\n",
       "    <tr>\n",
       "      <td>первый</td>\n",
       "      <td>5895000</td>\n",
       "    </tr>\n",
       "    <tr>\n",
       "      <td>последний</td>\n",
       "      <td>8150000</td>\n",
       "    </tr>\n",
       "    <tr>\n",
       "      <td>другой</td>\n",
       "      <td>8400000</td>\n",
       "    </tr>\n",
       "  </tbody>\n",
       "</table>\n",
       "</div>"
      ],
      "text/plain": [
       "                last_price\n",
       "floor_category            \n",
       "первый             5895000\n",
       "последний          8150000\n",
       "другой             8400000"
      ]
     },
     "execution_count": 212,
     "metadata": {},
     "output_type": "execute_result"
    }
   ],
   "source": [
    "# сгруппируем нашу таблицу по этажу\n",
    "floor_price_spb = new_df_spb[['floor_category', 'last_price']].groupby('floor_category').median().sort_values(by='last_price')\n",
    "floor_price_spb"
   ]
  },
  {
   "cell_type": "code",
   "execution_count": 213,
   "metadata": {},
   "outputs": [
    {
     "data": {
      "image/png": "[encoded data removed]",
      "text/plain": [
       "<Figure size 720x360 with 1 Axes>"
      ]
     },
     "metadata": {
      "needs_background": "light"
     },
     "output_type": "display_data"
    }
   ],
   "source": [
    "# построим график, отражающий зависимость медианной стоимости квартиры от этажа\n",
    "plt.figure(figsize=(10,5))\n",
    "plt.barh(floor_price_spb.index, floor_price_spb['last_price'])\n",
    "plt.title('Зависимость медианной стоимости квартиры от этажа')\n",
    "plt.show()"
   ]
  },
  {
   "cell_type": "markdown",
   "metadata": {},
   "source": [
    "В отличие корреляции между ценой квартиры и этажом по данным всей таблцы в центре Санкт-Петербурга наблюдается несколько другая картина. Квартиры на первом этаже значительно дешевле, чем на остальных этажах. При этом нет большой разницы между медианной стоимость квартиры на последнем и остальных этажах (не считая первый)."
   ]
  },
  {
   "cell_type": "markdown",
   "metadata": {},
   "source": [
    "Рассмотрим зависимость цены квартиры от даты размещения объявления."
   ]
  },
  {
   "cell_type": "code",
   "execution_count": 214,
   "metadata": {},
   "outputs": [
    {
     "data": {
      "image/png": "[encoded data removed]",
      "text/plain": [
       "<Figure size 432x288 with 1 Axes>"
      ]
     },
     "metadata": {
      "needs_background": "light"
     },
     "output_type": "display_data"
    }
   ],
   "source": [
    "# сформируем сводную таблицу из дня недели размещения объявления и цены квартиры, применив функцию 'median'\n",
    "day_price_spb = central_apartments.pivot_table(index='day', values='last_price', aggfunc='median')\n",
    "day_price_spb.columns = ['median']\n",
    "# построим график\n",
    "day_price_spb.plot(y='median', style='o-', title='Зависимость медианной стоимости квартиры от дня недели размещения объявления')\n",
    "plt.show()"
   ]
  },
  {
   "cell_type": "code",
   "execution_count": 215,
   "metadata": {},
   "outputs": [
    {
     "data": {
      "text/html": [
       "<div>\n",
       "<style scoped>\n",
       "    .dataframe tbody tr th:only-of-type {\n",
       "        vertical-align: middle;\n",
       "    }\n",
       "\n",
       "    .dataframe tbody tr th {\n",
       "        vertical-align: top;\n",
       "    }\n",
       "\n",
       "    .dataframe thead th {\n",
       "        text-align: right;\n",
       "    }\n",
       "</style>\n",
       "<table border=\"1\" class=\"dataframe\">\n",
       "  <thead>\n",
       "    <tr style=\"text-align: right;\">\n",
       "      <th></th>\n",
       "      <th>last_price</th>\n",
       "    </tr>\n",
       "    <tr>\n",
       "      <th>day</th>\n",
       "      <th></th>\n",
       "    </tr>\n",
       "  </thead>\n",
       "  <tbody>\n",
       "    <tr>\n",
       "      <td>6</td>\n",
       "      <td>8589000</td>\n",
       "    </tr>\n",
       "    <tr>\n",
       "      <td>0</td>\n",
       "      <td>8249500</td>\n",
       "    </tr>\n",
       "    <tr>\n",
       "      <td>2</td>\n",
       "      <td>8100000</td>\n",
       "    </tr>\n",
       "    <tr>\n",
       "      <td>3</td>\n",
       "      <td>7950000</td>\n",
       "    </tr>\n",
       "    <tr>\n",
       "      <td>1</td>\n",
       "      <td>7925000</td>\n",
       "    </tr>\n",
       "    <tr>\n",
       "      <td>5</td>\n",
       "      <td>7875000</td>\n",
       "    </tr>\n",
       "    <tr>\n",
       "      <td>4</td>\n",
       "      <td>7695000</td>\n",
       "    </tr>\n",
       "  </tbody>\n",
       "</table>\n",
       "</div>"
      ],
      "text/plain": [
       "     last_price\n",
       "day            \n",
       "6       8589000\n",
       "0       8249500\n",
       "2       8100000\n",
       "3       7950000\n",
       "1       7925000\n",
       "5       7875000\n",
       "4       7695000"
      ]
     },
     "execution_count": 215,
     "metadata": {},
     "output_type": "execute_result"
    }
   ],
   "source": [
    "# сгруппируем таблицу по дню размещения объявления\n",
    "day_price_spb = central_apartments[['day', 'last_price']].groupby('day').median().sort_values(by='last_price', ascending=False)\n",
    "day_price_spb"
   ]
  },
  {
   "cell_type": "code",
   "execution_count": 216,
   "metadata": {},
   "outputs": [
    {
     "data": {
      "text/plain": [
       "0.01761992497058416"
      ]
     },
     "execution_count": 216,
     "metadata": {},
     "output_type": "execute_result"
    }
   ],
   "source": [
    "# найдем корреляцию между ценой и днем размещения объявления\n",
    "central_apartments['last_price'].corr(central_apartments['day'])"
   ]
  },
  {
   "cell_type": "markdown",
   "metadata": {},
   "source": [
    "Несмотря на то, что между днем размещения объявления и цены квартиры корреляция очень слабая, можно отметить, что в отличие от ситуации с общим объемом информации, где самая высокая цена во вторник, в центре Санкт-Петербурга наибольшая цена в воскресенье."
   ]
  },
  {
   "cell_type": "code",
   "execution_count": 217,
   "metadata": {},
   "outputs": [
    {
     "data": {
      "image/png": "[encoded data removed]",
      "text/plain": [
       "<Figure size 432x288 with 1 Axes>"
      ]
     },
     "metadata": {
      "needs_background": "light"
     },
     "output_type": "display_data"
    }
   ],
   "source": [
    "# сформируем сводную таблицу из месяца размещения объявления и цены квартиры, применив функцию 'median'\n",
    "month_price_spb = central_apartments.pivot_table(index='month', values='last_price', aggfunc='median')\n",
    "month_price_spb.columns = ['median']\n",
    "# построим график \n",
    "month_price_spb.plot(y='median', style='o-', title='Зависимость медианной стоимости квартиры от месяца размещения объявления')\n",
    "plt.show()"
   ]
  },
  {
   "cell_type": "code",
   "execution_count": 218,
   "metadata": {},
   "outputs": [
    {
     "data": {
      "text/plain": [
       "0.008383307111852494"
      ]
     },
     "execution_count": 218,
     "metadata": {},
     "output_type": "execute_result"
    }
   ],
   "source": [
    "# найдем корреляцию между ценой квартиры и месяцем размещения объявления\n",
    "central_apartments['last_price'].corr(central_apartments['month'])"
   ]
  },
  {
   "cell_type": "markdown",
   "metadata": {},
   "source": [
    "Согласно графику, наибольшая цена квартиры в центре Санкт-Петербурга, когда объявление размещается в сентябре и ноябре. Между ценой квартиры и месяцем размещения объявления очень слабая корреляция, поэтому доверять данной статистике на 100% не стоит."
   ]
  },
  {
   "cell_type": "code",
   "execution_count": 219,
   "metadata": {},
   "outputs": [
    {
     "data": {
      "image/png": "[encoded data removed]",
      "text/plain": [
       "<Figure size 720x432 with 1 Axes>"
      ]
     },
     "metadata": {
      "needs_background": "light"
     },
     "output_type": "display_data"
    }
   ],
   "source": [
    "# сформируем сводную таблицу из года размещения объявления и цены квартиры, применив функцию 'median'\n",
    "year_price_spb = central_apartments.pivot_table(index='year', values='last_price', aggfunc = 'median')\n",
    "year_price_spb.columns = ['median']\n",
    "# построим график \n",
    "year_price_spb.plot(y='median', style='o-', \n",
    "figsize=(10, 6), title='Зависимость медианной стоимости квартиры от года размещения объявления')\n",
    "plt.show()"
   ]
  },
  {
   "cell_type": "code",
   "execution_count": 220,
   "metadata": {},
   "outputs": [
    {
     "data": {
      "text/plain": [
       "-0.06076251022776271"
      ]
     },
     "execution_count": 220,
     "metadata": {},
     "output_type": "execute_result"
    }
   ],
   "source": [
    "# найдем корреляцию между ценой квартиры и годом размещения объявления\n",
    "central_apartments['last_price'].corr(central_apartments['year'])"
   ]
  },
  {
   "cell_type": "markdown",
   "metadata": {},
   "source": [
    "Корреляция между ценой квартиры и годом размещения объявления обратная, но очень слабая. Согласно графику, в отличие от ситуации со всей совокупностью данных, максимальная медианная цена в центре Санкт-Петербурга была в 2016 г., а минимальная - в 2019 г."
   ]
  },
  {
   "cell_type": "markdown",
   "metadata": {},
   "source": [
    "Таким образом, ситуация с квартирами в центре Санкт-Петербурга отличается от ситуации во всем городе. Основной фактор - более высокая стоимость жилья, обусловленная расположением недвижимости. Также, скорее всего, продавцы и покупатели из этой зоны обладают другими финансами, из-за чего ситуация в мире и России в различных областях по-другому может сказываться на их поведении."
   ]
  },
  {
   "cell_type": "markdown",
   "metadata": {},
   "source": [
    "## Общий вывод"
   ]
  },
  {
   "cell_type": "markdown",
   "metadata": {},
   "source": [
    "    Исходная таблица содержала ряд пропущенных значений, которые были обработаны или оставлены в зависимости от влияния на статистическую картину. Многие столбцы содержали в себе аномальные значения, которые не могли бы встретиться в действительности: 100м-е потолки, нахождение по одним и тем же координатам домов с разным количеством этажей, большое время нахождения объявления о продаже на сайте Яндекс.Недвижимости, 20 комнат в одной квартире и т.д. Данные значения могли быть ошибочно получены автоматически (картографические данные), либо умышленно или случайно заведены вручную.\n",
    "    Так же было проведено сравнение стоимости жилья в центре Санкт-Петербурга, и во всем городе, а также проведена оценка влияния различных факторов на его стоимость: наибольшая корреляция с общей площадью квартиры и близость к центру. Было установлено, что стоимость жилья в центре устанавливается не по той же картине, что и во всем городе.\n",
    "    Сервису Яндекс.Недвижимость стоит установить более строгие критерии размещения объявлений и контролировать сроки их снятия, а также вручную проверять аномально подозрительные значения, которые не могут соответствовать действительности. "
   ]
  }
 ],
 "metadata": {
  "ExecuteTimeLog": [
   {
    "duration": 754,
    "start_time": "2021-11-27T15:48:08.080Z"
   },
   {
    "duration": 111,
    "start_time": "2021-11-27T15:48:08.836Z"
   },
   {
    "duration": 611,
    "start_time": "2021-11-27T15:48:08.339Z"
   },
   {
    "duration": 2,
    "start_time": "2021-11-27T15:49:29.754Z"
   },
   {
    "duration": 61,
    "start_time": "2021-11-27T15:49:29.765Z"
   },
   {
    "duration": 9,
    "start_time": "2021-11-27T15:49:29.828Z"
   },
   {
    "duration": 3,
    "start_time": "2021-11-27T15:50:22.955Z"
   },
   {
    "duration": 469,
    "start_time": "2021-11-27T15:50:22.960Z"
   },
   {
    "duration": 612,
    "start_time": "2021-11-27T15:50:22.819Z"
   },
   {
    "duration": 2,
    "start_time": "2021-11-27T15:50:55.500Z"
   },
   {
    "duration": 63,
    "start_time": "2021-11-27T15:50:55.504Z"
   },
   {
    "duration": 6,
    "start_time": "2021-11-27T15:50:55.569Z"
   },
   {
    "duration": 3,
    "start_time": "2021-11-27T15:51:33.397Z"
   },
   {
    "duration": 190,
    "start_time": "2021-11-27T15:51:33.402Z"
   },
   {
    "duration": 648,
    "start_time": "2021-11-27T15:51:32.946Z"
   },
   {
    "duration": 61,
    "start_time": "2021-11-27T15:53:08.043Z"
   },
   {
    "duration": 60,
    "start_time": "2021-11-27T15:53:11.448Z"
   },
   {
    "duration": 60,
    "start_time": "2021-11-27T15:53:12.646Z"
   },
   {
    "duration": 60,
    "start_time": "2021-11-27T15:53:16.732Z"
   },
   {
    "duration": 59,
    "start_time": "2021-11-27T15:53:19.584Z"
   },
   {
    "duration": 3,
    "start_time": "2021-11-27T15:53:22.894Z"
   },
   {
    "duration": 83,
    "start_time": "2021-11-27T15:53:22.899Z"
   },
   {
    "duration": 7,
    "start_time": "2021-11-27T15:53:22.984Z"
   },
   {
    "duration": 3,
    "start_time": "2021-11-27T15:54:31.284Z"
   },
   {
    "duration": 86,
    "start_time": "2021-11-27T15:54:31.288Z"
   },
   {
    "duration": 23,
    "start_time": "2021-11-27T15:54:31.376Z"
   },
   {
    "duration": 3,
    "start_time": "2021-11-27T16:02:52.936Z"
   },
   {
    "duration": 85,
    "start_time": "2021-11-27T16:02:52.941Z"
   },
   {
    "duration": 28,
    "start_time": "2021-11-27T16:02:53.028Z"
   },
   {
    "duration": 15,
    "start_time": "2021-11-27T16:02:53.058Z"
   },
   {
    "duration": 2,
    "start_time": "2021-11-27T17:03:32.607Z"
   },
   {
    "duration": 74,
    "start_time": "2021-11-27T17:03:32.612Z"
   },
   {
    "duration": 23,
    "start_time": "2021-11-27T17:03:32.689Z"
   },
   {
    "duration": 14,
    "start_time": "2021-11-27T17:03:32.714Z"
   },
   {
    "duration": 11,
    "start_time": "2021-11-27T17:03:32.767Z"
   },
   {
    "duration": 6,
    "start_time": "2021-11-27T17:07:04.158Z"
   },
   {
    "duration": 6,
    "start_time": "2021-11-27T17:07:24.906Z"
   },
   {
    "duration": 90,
    "start_time": "2021-11-27T17:25:44.528Z"
   },
   {
    "duration": 362,
    "start_time": "2021-11-27T18:22:23.273Z"
   },
   {
    "duration": 18,
    "start_time": "2021-11-27T18:22:34.359Z"
   },
   {
    "duration": 379,
    "start_time": "2021-11-27T18:24:01.609Z"
   },
   {
    "duration": 520,
    "start_time": "2021-11-27T18:24:20.780Z"
   },
   {
    "duration": 351,
    "start_time": "2021-11-27T18:24:29.489Z"
   },
   {
    "duration": 397,
    "start_time": "2021-11-27T18:26:34.238Z"
   },
   {
    "duration": 389,
    "start_time": "2021-11-27T18:26:40.169Z"
   },
   {
    "duration": 398,
    "start_time": "2021-11-27T18:26:47.108Z"
   },
   {
    "duration": 344,
    "start_time": "2021-11-27T18:26:52.828Z"
   },
   {
    "duration": 8,
    "start_time": "2021-11-27T18:29:04.456Z"
   },
   {
    "duration": 9,
    "start_time": "2021-11-27T18:30:06.190Z"
   },
   {
    "duration": 868,
    "start_time": "2021-11-27T18:45:29.052Z"
   },
   {
    "duration": 855,
    "start_time": "2021-11-27T18:45:58.683Z"
   },
   {
    "duration": 658,
    "start_time": "2021-11-28T10:05:54.412Z"
   },
   {
    "duration": 69,
    "start_time": "2021-11-28T10:05:55.072Z"
   },
   {
    "duration": 31,
    "start_time": "2021-11-28T10:05:55.143Z"
   },
   {
    "duration": 11,
    "start_time": "2021-11-28T10:05:55.176Z"
   },
   {
    "duration": 85,
    "start_time": "2021-11-28T10:05:55.189Z"
   },
   {
    "duration": 9,
    "start_time": "2021-11-28T10:05:55.276Z"
   },
   {
    "duration": 7,
    "start_time": "2021-11-28T10:05:55.287Z"
   },
   {
    "duration": 7,
    "start_time": "2021-11-28T10:05:55.296Z"
   },
   {
    "duration": 966,
    "start_time": "2021-11-28T10:05:55.305Z"
   },
   {
    "duration": 124,
    "start_time": "2021-11-28T10:05:56.273Z"
   },
   {
    "duration": 36,
    "start_time": "2021-11-28T10:30:25.925Z"
   },
   {
    "duration": 85,
    "start_time": "2021-11-28T10:31:32.698Z"
   },
   {
    "duration": 80,
    "start_time": "2021-11-28T10:31:45.363Z"
   },
   {
    "duration": 382,
    "start_time": "2021-11-28T14:30:37.677Z"
   },
   {
    "duration": 445,
    "start_time": "2021-11-28T14:30:57.292Z"
   },
   {
    "duration": 959,
    "start_time": "2021-11-28T14:31:02.537Z"
   },
   {
    "duration": 199,
    "start_time": "2021-11-28T14:31:03.500Z"
   },
   {
    "duration": 44,
    "start_time": "2021-11-28T14:31:03.703Z"
   },
   {
    "duration": 29,
    "start_time": "2021-11-28T14:31:03.750Z"
   },
   {
    "duration": 172,
    "start_time": "2021-11-28T14:31:03.781Z"
   },
   {
    "duration": 21,
    "start_time": "2021-11-28T14:31:03.956Z"
   },
   {
    "duration": 14,
    "start_time": "2021-11-28T14:31:03.981Z"
   },
   {
    "duration": 1467,
    "start_time": "2021-11-28T14:31:04.000Z"
   },
   {
    "duration": 14,
    "start_time": "2021-11-28T14:31:05.470Z"
   },
   {
    "duration": 1172,
    "start_time": "2021-11-28T14:31:05.487Z"
   },
   {
    "duration": 94,
    "start_time": "2021-11-28T14:31:06.666Z"
   },
   {
    "duration": 1146,
    "start_time": "2021-11-28T14:31:13.759Z"
   },
   {
    "duration": 1468,
    "start_time": "2021-11-28T14:31:59.067Z"
   },
   {
    "duration": 1507,
    "start_time": "2021-11-28T14:32:12.127Z"
   },
   {
    "duration": 1716,
    "start_time": "2021-11-28T14:33:03.472Z"
   },
   {
    "duration": 285,
    "start_time": "2021-11-28T14:34:07.522Z"
   },
   {
    "duration": 246,
    "start_time": "2021-11-28T14:34:24.747Z"
   },
   {
    "duration": 295,
    "start_time": "2021-11-28T14:34:38.138Z"
   },
   {
    "duration": 146,
    "start_time": "2021-11-28T14:40:34.463Z"
   },
   {
    "duration": 64,
    "start_time": "2021-11-28T14:40:46.971Z"
   },
   {
    "duration": 12,
    "start_time": "2021-11-28T14:42:10.177Z"
   },
   {
    "duration": 95,
    "start_time": "2021-11-28T14:42:10.193Z"
   },
   {
    "duration": 40,
    "start_time": "2021-11-28T14:42:10.292Z"
   },
   {
    "duration": 43,
    "start_time": "2021-11-28T14:42:10.335Z"
   },
   {
    "duration": 117,
    "start_time": "2021-11-28T14:42:10.381Z"
   },
   {
    "duration": 12,
    "start_time": "2021-11-28T14:42:10.501Z"
   },
   {
    "duration": 12,
    "start_time": "2021-11-28T14:42:10.515Z"
   },
   {
    "duration": 95,
    "start_time": "2021-11-28T14:42:10.530Z"
   },
   {
    "duration": 10,
    "start_time": "2021-11-28T14:42:10.627Z"
   },
   {
    "duration": 1178,
    "start_time": "2021-11-28T14:42:10.639Z"
   },
   {
    "duration": 88,
    "start_time": "2021-11-28T14:42:11.820Z"
   },
   {
    "duration": 4,
    "start_time": "2021-11-28T14:48:50.082Z"
   },
   {
    "duration": 93,
    "start_time": "2021-11-28T14:48:50.089Z"
   },
   {
    "duration": 40,
    "start_time": "2021-11-28T14:48:50.186Z"
   },
   {
    "duration": 15,
    "start_time": "2021-11-28T14:48:50.229Z"
   },
   {
    "duration": 133,
    "start_time": "2021-11-28T14:48:50.247Z"
   },
   {
    "duration": 12,
    "start_time": "2021-11-28T14:48:50.382Z"
   },
   {
    "duration": 10,
    "start_time": "2021-11-28T14:48:50.397Z"
   },
   {
    "duration": 10,
    "start_time": "2021-11-28T14:48:50.410Z"
   },
   {
    "duration": 90,
    "start_time": "2021-11-28T14:48:50.422Z"
   },
   {
    "duration": 11,
    "start_time": "2021-11-28T14:48:50.516Z"
   },
   {
    "duration": 1208,
    "start_time": "2021-11-28T14:48:50.530Z"
   },
   {
    "duration": 93,
    "start_time": "2021-11-28T14:48:51.740Z"
   },
   {
    "duration": 304,
    "start_time": "2021-11-28T15:00:08.260Z"
   },
   {
    "duration": 4,
    "start_time": "2021-11-28T15:00:18.777Z"
   },
   {
    "duration": 84,
    "start_time": "2021-11-28T15:00:18.800Z"
   },
   {
    "duration": 38,
    "start_time": "2021-11-28T15:00:18.887Z"
   },
   {
    "duration": 16,
    "start_time": "2021-11-28T15:00:18.928Z"
   },
   {
    "duration": 119,
    "start_time": "2021-11-28T15:00:18.969Z"
   },
   {
    "duration": 15,
    "start_time": "2021-11-28T15:00:19.091Z"
   },
   {
    "duration": 12,
    "start_time": "2021-11-28T15:00:19.108Z"
   },
   {
    "duration": 48,
    "start_time": "2021-11-28T15:00:19.123Z"
   },
   {
    "duration": 11,
    "start_time": "2021-11-28T15:00:19.174Z"
   },
   {
    "duration": 9,
    "start_time": "2021-11-28T15:00:19.189Z"
   },
   {
    "duration": 13,
    "start_time": "2021-11-28T15:00:19.201Z"
   },
   {
    "duration": 2,
    "start_time": "2021-11-29T11:33:03.974Z"
   },
   {
    "duration": 75,
    "start_time": "2021-11-29T11:33:03.978Z"
   },
   {
    "duration": 23,
    "start_time": "2021-11-29T11:33:04.055Z"
   },
   {
    "duration": 14,
    "start_time": "2021-11-29T11:33:04.080Z"
   },
   {
    "duration": 77,
    "start_time": "2021-11-29T11:33:04.096Z"
   },
   {
    "duration": 8,
    "start_time": "2021-11-29T11:33:04.175Z"
   },
   {
    "duration": 12,
    "start_time": "2021-11-29T11:33:04.186Z"
   },
   {
    "duration": 7,
    "start_time": "2021-11-29T11:33:04.199Z"
   },
   {
    "duration": 8,
    "start_time": "2021-11-29T11:33:04.207Z"
   },
   {
    "duration": 33,
    "start_time": "2021-11-29T11:33:04.217Z"
   },
   {
    "duration": 10,
    "start_time": "2021-11-29T11:33:04.320Z"
   },
   {
    "duration": 3,
    "start_time": "2021-11-29T11:34:35.384Z"
   },
   {
    "duration": 83,
    "start_time": "2021-11-29T11:34:35.389Z"
   },
   {
    "duration": 23,
    "start_time": "2021-11-29T11:34:35.475Z"
   },
   {
    "duration": 24,
    "start_time": "2021-11-29T11:34:35.500Z"
   },
   {
    "duration": 80,
    "start_time": "2021-11-29T11:34:35.526Z"
   },
   {
    "duration": 10,
    "start_time": "2021-11-29T11:34:35.609Z"
   },
   {
    "duration": 23,
    "start_time": "2021-11-29T11:34:35.622Z"
   },
   {
    "duration": 24,
    "start_time": "2021-11-29T11:34:35.647Z"
   },
   {
    "duration": 15,
    "start_time": "2021-11-29T11:34:35.673Z"
   },
   {
    "duration": 18,
    "start_time": "2021-11-29T11:34:35.690Z"
   },
   {
    "duration": 32,
    "start_time": "2021-11-29T11:34:35.710Z"
   },
   {
    "duration": 300,
    "start_time": "2021-11-29T11:34:35.744Z"
   },
   {
    "duration": 3,
    "start_time": "2021-11-29T11:35:06.517Z"
   },
   {
    "duration": 68,
    "start_time": "2021-11-29T11:35:06.522Z"
   },
   {
    "duration": 25,
    "start_time": "2021-11-29T11:35:06.592Z"
   },
   {
    "duration": 12,
    "start_time": "2021-11-29T11:35:06.618Z"
   },
   {
    "duration": 67,
    "start_time": "2021-11-29T11:35:06.644Z"
   },
   {
    "duration": 8,
    "start_time": "2021-11-29T11:35:06.713Z"
   },
   {
    "duration": 24,
    "start_time": "2021-11-29T11:35:06.723Z"
   },
   {
    "duration": 6,
    "start_time": "2021-11-29T11:35:06.749Z"
   },
   {
    "duration": 9,
    "start_time": "2021-11-29T11:35:06.756Z"
   },
   {
    "duration": 8,
    "start_time": "2021-11-29T11:35:06.766Z"
   },
   {
    "duration": 13,
    "start_time": "2021-11-29T11:35:06.775Z"
   },
   {
    "duration": 473,
    "start_time": "2021-11-29T11:35:06.789Z"
   },
   {
    "duration": 2,
    "start_time": "2021-11-29T11:35:25.709Z"
   },
   {
    "duration": 81,
    "start_time": "2021-11-29T11:35:25.713Z"
   },
   {
    "duration": 23,
    "start_time": "2021-11-29T11:35:25.795Z"
   },
   {
    "duration": 36,
    "start_time": "2021-11-29T11:35:25.821Z"
   },
   {
    "duration": 80,
    "start_time": "2021-11-29T11:35:25.859Z"
   },
   {
    "duration": 9,
    "start_time": "2021-11-29T11:35:25.940Z"
   },
   {
    "duration": 26,
    "start_time": "2021-11-29T11:35:25.951Z"
   },
   {
    "duration": 23,
    "start_time": "2021-11-29T11:35:25.979Z"
   },
   {
    "duration": 18,
    "start_time": "2021-11-29T11:35:26.003Z"
   },
   {
    "duration": 16,
    "start_time": "2021-11-29T11:35:26.023Z"
   },
   {
    "duration": 34,
    "start_time": "2021-11-29T11:35:26.041Z"
   },
   {
    "duration": 19,
    "start_time": "2021-11-29T11:35:26.077Z"
   },
   {
    "duration": 3,
    "start_time": "2021-11-29T11:36:32.660Z"
   },
   {
    "duration": 90,
    "start_time": "2021-11-29T11:36:32.666Z"
   },
   {
    "duration": 25,
    "start_time": "2021-11-29T11:36:32.759Z"
   },
   {
    "duration": 37,
    "start_time": "2021-11-29T11:36:32.786Z"
   },
   {
    "duration": 88,
    "start_time": "2021-11-29T11:36:32.826Z"
   },
   {
    "duration": 10,
    "start_time": "2021-11-29T11:36:32.916Z"
   },
   {
    "duration": 34,
    "start_time": "2021-11-29T11:36:32.929Z"
   },
   {
    "duration": 24,
    "start_time": "2021-11-29T11:36:32.965Z"
   },
   {
    "duration": 21,
    "start_time": "2021-11-29T11:36:32.990Z"
   },
   {
    "duration": 23,
    "start_time": "2021-11-29T11:36:33.013Z"
   },
   {
    "duration": 44,
    "start_time": "2021-11-29T11:36:33.038Z"
   },
   {
    "duration": 27,
    "start_time": "2021-11-29T11:36:33.084Z"
   },
   {
    "duration": 20,
    "start_time": "2021-11-29T11:36:33.113Z"
   },
   {
    "duration": 382,
    "start_time": "2021-11-29T11:39:17.669Z"
   },
   {
    "duration": 8,
    "start_time": "2021-11-29T11:57:21.019Z"
   },
   {
    "duration": 5,
    "start_time": "2021-11-29T11:57:48.032Z"
   },
   {
    "duration": 3,
    "start_time": "2021-11-29T11:59:12.308Z"
   },
   {
    "duration": 101,
    "start_time": "2021-11-29T11:59:12.314Z"
   },
   {
    "duration": 39,
    "start_time": "2021-11-29T11:59:12.418Z"
   },
   {
    "duration": 16,
    "start_time": "2021-11-29T11:59:12.460Z"
   },
   {
    "duration": 112,
    "start_time": "2021-11-29T11:59:12.478Z"
   },
   {
    "duration": 12,
    "start_time": "2021-11-29T11:59:12.592Z"
   },
   {
    "duration": 19,
    "start_time": "2021-11-29T11:59:12.606Z"
   },
   {
    "duration": 42,
    "start_time": "2021-11-29T11:59:12.627Z"
   },
   {
    "duration": 36,
    "start_time": "2021-11-29T11:59:12.672Z"
   },
   {
    "duration": 28,
    "start_time": "2021-11-29T11:59:12.710Z"
   },
   {
    "duration": 28,
    "start_time": "2021-11-29T11:59:12.740Z"
   },
   {
    "duration": 36,
    "start_time": "2021-11-29T11:59:12.770Z"
   },
   {
    "duration": 13,
    "start_time": "2021-11-29T11:59:12.808Z"
   },
   {
    "duration": 39,
    "start_time": "2021-11-29T11:59:12.822Z"
   },
   {
    "duration": 7,
    "start_time": "2021-11-29T12:07:50.175Z"
   },
   {
    "duration": 3,
    "start_time": "2021-11-29T12:12:45.675Z"
   },
   {
    "duration": 75,
    "start_time": "2021-11-29T12:12:45.680Z"
   },
   {
    "duration": 23,
    "start_time": "2021-11-29T12:12:45.758Z"
   },
   {
    "duration": 10,
    "start_time": "2021-11-29T12:12:45.782Z"
   },
   {
    "duration": 82,
    "start_time": "2021-11-29T12:12:45.794Z"
   },
   {
    "duration": 9,
    "start_time": "2021-11-29T12:12:45.877Z"
   },
   {
    "duration": 9,
    "start_time": "2021-11-29T12:12:45.889Z"
   },
   {
    "duration": 10,
    "start_time": "2021-11-29T12:12:45.899Z"
   },
   {
    "duration": 8,
    "start_time": "2021-11-29T12:12:45.911Z"
   },
   {
    "duration": 29,
    "start_time": "2021-11-29T12:12:45.921Z"
   },
   {
    "duration": 11,
    "start_time": "2021-11-29T12:12:45.957Z"
   },
   {
    "duration": 7,
    "start_time": "2021-11-29T12:12:45.970Z"
   },
   {
    "duration": 22,
    "start_time": "2021-11-29T12:12:45.979Z"
   },
   {
    "duration": 23,
    "start_time": "2021-11-29T12:12:46.003Z"
   },
   {
    "duration": 4,
    "start_time": "2021-11-29T12:12:46.163Z"
   },
   {
    "duration": 25,
    "start_time": "2021-11-29T12:12:46.169Z"
   },
   {
    "duration": 3,
    "start_time": "2021-11-29T12:23:08.166Z"
   },
   {
    "duration": 540,
    "start_time": "2021-11-29T12:24:58.347Z"
   },
   {
    "duration": 3,
    "start_time": "2021-11-29T12:26:00.283Z"
   },
   {
    "duration": 114,
    "start_time": "2021-11-29T12:26:00.288Z"
   },
   {
    "duration": 22,
    "start_time": "2021-11-29T12:26:00.404Z"
   },
   {
    "duration": 35,
    "start_time": "2021-11-29T12:26:00.428Z"
   },
   {
    "duration": 80,
    "start_time": "2021-11-29T12:26:00.464Z"
   },
   {
    "duration": 10,
    "start_time": "2021-11-29T12:26:00.546Z"
   },
   {
    "duration": 35,
    "start_time": "2021-11-29T12:26:00.559Z"
   },
   {
    "duration": 57,
    "start_time": "2021-11-29T12:26:00.596Z"
   },
   {
    "duration": 22,
    "start_time": "2021-11-29T12:26:00.655Z"
   },
   {
    "duration": 33,
    "start_time": "2021-11-29T12:26:00.678Z"
   },
   {
    "duration": 61,
    "start_time": "2021-11-29T12:26:00.713Z"
   },
   {
    "duration": 17,
    "start_time": "2021-11-29T12:26:00.776Z"
   },
   {
    "duration": 24,
    "start_time": "2021-11-29T12:26:00.795Z"
   },
   {
    "duration": 45,
    "start_time": "2021-11-29T12:26:00.820Z"
   },
   {
    "duration": 15,
    "start_time": "2021-11-29T12:26:00.867Z"
   },
   {
    "duration": 29,
    "start_time": "2021-11-29T12:26:00.884Z"
   },
   {
    "duration": 21,
    "start_time": "2021-11-29T12:26:00.915Z"
   },
   {
    "duration": 689,
    "start_time": "2021-11-29T12:26:00.938Z"
   },
   {
    "duration": 525,
    "start_time": "2021-11-29T12:27:50.375Z"
   },
   {
    "duration": 3,
    "start_time": "2021-11-29T12:29:03.895Z"
   },
   {
    "duration": 83,
    "start_time": "2021-11-29T12:29:03.899Z"
   },
   {
    "duration": 24,
    "start_time": "2021-11-29T12:29:03.985Z"
   },
   {
    "duration": 10,
    "start_time": "2021-11-29T12:29:04.010Z"
   },
   {
    "duration": 90,
    "start_time": "2021-11-29T12:29:04.022Z"
   },
   {
    "duration": 8,
    "start_time": "2021-11-29T12:29:04.114Z"
   },
   {
    "duration": 27,
    "start_time": "2021-11-29T12:29:04.125Z"
   },
   {
    "duration": 8,
    "start_time": "2021-11-29T12:29:04.154Z"
   },
   {
    "duration": 14,
    "start_time": "2021-11-29T12:29:04.164Z"
   },
   {
    "duration": 6,
    "start_time": "2021-11-29T12:29:04.180Z"
   },
   {
    "duration": 13,
    "start_time": "2021-11-29T12:29:04.187Z"
   },
   {
    "duration": 8,
    "start_time": "2021-11-29T12:29:04.201Z"
   },
   {
    "duration": 10,
    "start_time": "2021-11-29T12:29:04.211Z"
   },
   {
    "duration": 39,
    "start_time": "2021-11-29T12:29:04.223Z"
   },
   {
    "duration": 24,
    "start_time": "2021-11-29T12:29:04.264Z"
   },
   {
    "duration": 29,
    "start_time": "2021-11-29T12:29:04.290Z"
   },
   {
    "duration": 3,
    "start_time": "2021-11-29T12:29:04.321Z"
   },
   {
    "duration": 630,
    "start_time": "2021-11-29T12:29:04.326Z"
   },
   {
    "duration": 3,
    "start_time": "2021-11-29T12:29:43.389Z"
   },
   {
    "duration": 116,
    "start_time": "2021-11-29T12:29:43.393Z"
   },
   {
    "duration": 23,
    "start_time": "2021-11-29T12:29:43.511Z"
   },
   {
    "duration": 43,
    "start_time": "2021-11-29T12:29:43.537Z"
   },
   {
    "duration": 97,
    "start_time": "2021-11-29T12:29:43.582Z"
   },
   {
    "duration": 8,
    "start_time": "2021-11-29T12:29:43.681Z"
   },
   {
    "duration": 19,
    "start_time": "2021-11-29T12:29:43.692Z"
   },
   {
    "duration": 20,
    "start_time": "2021-11-29T12:29:43.713Z"
   },
   {
    "duration": 29,
    "start_time": "2021-11-29T12:29:43.735Z"
   },
   {
    "duration": 41,
    "start_time": "2021-11-29T12:29:43.765Z"
   },
   {
    "duration": 45,
    "start_time": "2021-11-29T12:29:43.807Z"
   },
   {
    "duration": 22,
    "start_time": "2021-11-29T12:29:43.854Z"
   },
   {
    "duration": 29,
    "start_time": "2021-11-29T12:29:43.878Z"
   },
   {
    "duration": 28,
    "start_time": "2021-11-29T12:29:43.909Z"
   },
   {
    "duration": 33,
    "start_time": "2021-11-29T12:29:43.939Z"
   },
   {
    "duration": 36,
    "start_time": "2021-11-29T12:29:43.974Z"
   },
   {
    "duration": 20,
    "start_time": "2021-11-29T12:29:44.012Z"
   },
   {
    "duration": 682,
    "start_time": "2021-11-29T12:29:44.034Z"
   },
   {
    "duration": 8,
    "start_time": "2021-11-29T12:30:11.782Z"
   },
   {
    "duration": 33,
    "start_time": "2021-11-29T12:32:46.171Z"
   },
   {
    "duration": 548,
    "start_time": "2021-11-29T12:43:26.974Z"
   },
   {
    "duration": 4,
    "start_time": "2021-11-29T12:50:32.394Z"
   },
   {
    "duration": 5,
    "start_time": "2021-11-29T12:51:40.207Z"
   },
   {
    "duration": 22,
    "start_time": "2021-11-29T12:52:39.609Z"
   },
   {
    "duration": 3,
    "start_time": "2021-11-29T14:33:51.909Z"
   },
   {
    "duration": 68,
    "start_time": "2021-11-29T14:33:51.919Z"
   },
   {
    "duration": 25,
    "start_time": "2021-11-29T14:33:52.038Z"
   },
   {
    "duration": 11,
    "start_time": "2021-11-29T14:33:52.065Z"
   },
   {
    "duration": 77,
    "start_time": "2021-11-29T14:33:52.089Z"
   },
   {
    "duration": 8,
    "start_time": "2021-11-29T14:33:52.168Z"
   },
   {
    "duration": 6,
    "start_time": "2021-11-29T14:33:52.178Z"
   },
   {
    "duration": 7,
    "start_time": "2021-11-29T14:33:52.186Z"
   },
   {
    "duration": 6,
    "start_time": "2021-11-29T14:33:52.194Z"
   },
   {
    "duration": 5,
    "start_time": "2021-11-29T14:33:52.202Z"
   },
   {
    "duration": 11,
    "start_time": "2021-11-29T14:33:52.244Z"
   },
   {
    "duration": 8,
    "start_time": "2021-11-29T14:33:52.258Z"
   },
   {
    "duration": 8,
    "start_time": "2021-11-29T14:33:52.268Z"
   },
   {
    "duration": 12,
    "start_time": "2021-11-29T14:33:52.277Z"
   },
   {
    "duration": 7,
    "start_time": "2021-11-29T14:33:52.291Z"
   },
   {
    "duration": 45,
    "start_time": "2021-11-29T14:33:52.300Z"
   },
   {
    "duration": 3,
    "start_time": "2021-11-29T14:33:52.347Z"
   },
   {
    "duration": 579,
    "start_time": "2021-11-29T14:33:52.352Z"
   },
   {
    "duration": 10,
    "start_time": "2021-11-29T14:33:52.933Z"
   },
   {
    "duration": 21,
    "start_time": "2021-11-29T14:33:52.945Z"
   },
   {
    "duration": 342,
    "start_time": "2021-11-29T14:42:41.640Z"
   },
   {
    "duration": 381,
    "start_time": "2021-11-29T14:43:10.461Z"
   },
   {
    "duration": 292,
    "start_time": "2021-11-29T14:43:33.710Z"
   },
   {
    "duration": 10,
    "start_time": "2021-11-29T14:50:13.568Z"
   },
   {
    "duration": 15,
    "start_time": "2021-11-29T14:50:19.039Z"
   },
   {
    "duration": 13,
    "start_time": "2021-11-29T14:50:52.265Z"
   },
   {
    "duration": 401,
    "start_time": "2021-11-29T18:05:19.489Z"
   },
   {
    "duration": 852,
    "start_time": "2021-11-29T18:05:29.455Z"
   },
   {
    "duration": 86,
    "start_time": "2021-11-29T18:05:30.310Z"
   },
   {
    "duration": 50,
    "start_time": "2021-11-29T18:05:30.399Z"
   },
   {
    "duration": 26,
    "start_time": "2021-11-29T18:05:30.452Z"
   },
   {
    "duration": 119,
    "start_time": "2021-11-29T18:05:30.481Z"
   },
   {
    "duration": 26,
    "start_time": "2021-11-29T18:05:30.603Z"
   },
   {
    "duration": 11,
    "start_time": "2021-11-29T18:05:30.631Z"
   },
   {
    "duration": 22,
    "start_time": "2021-11-29T18:05:30.646Z"
   },
   {
    "duration": 16,
    "start_time": "2021-11-29T18:05:30.671Z"
   },
   {
    "duration": 21,
    "start_time": "2021-11-29T18:05:30.690Z"
   },
   {
    "duration": 36,
    "start_time": "2021-11-29T18:05:30.713Z"
   },
   {
    "duration": 28,
    "start_time": "2021-11-29T18:05:30.751Z"
   },
   {
    "duration": 69,
    "start_time": "2021-11-29T18:05:30.781Z"
   },
   {
    "duration": 80,
    "start_time": "2021-11-29T18:05:30.853Z"
   },
   {
    "duration": 32,
    "start_time": "2021-11-29T18:05:30.935Z"
   },
   {
    "duration": 46,
    "start_time": "2021-11-29T18:05:30.970Z"
   },
   {
    "duration": 21,
    "start_time": "2021-11-29T18:05:31.019Z"
   },
   {
    "duration": 968,
    "start_time": "2021-11-29T18:05:31.042Z"
   },
   {
    "duration": 6,
    "start_time": "2021-11-29T18:05:32.012Z"
   },
   {
    "duration": 40,
    "start_time": "2021-11-29T18:05:32.020Z"
   },
   {
    "duration": 14,
    "start_time": "2021-11-29T18:05:32.062Z"
   },
   {
    "duration": 16,
    "start_time": "2021-11-29T18:05:32.079Z"
   },
   {
    "duration": 33,
    "start_time": "2021-11-29T18:07:58.403Z"
   },
   {
    "duration": 745,
    "start_time": "2021-11-29T18:12:15.839Z"
   },
   {
    "duration": 648,
    "start_time": "2021-11-29T18:12:24.597Z"
   },
   {
    "duration": 492,
    "start_time": "2021-11-29T18:12:31.206Z"
   },
   {
    "duration": 2046,
    "start_time": "2021-11-29T18:13:59.686Z"
   },
   {
    "duration": 4,
    "start_time": "2021-11-29T18:15:03.581Z"
   },
   {
    "duration": 96,
    "start_time": "2021-11-29T18:15:03.587Z"
   },
   {
    "duration": 47,
    "start_time": "2021-11-29T18:15:03.686Z"
   },
   {
    "duration": 19,
    "start_time": "2021-11-29T18:15:03.736Z"
   },
   {
    "duration": 130,
    "start_time": "2021-11-29T18:15:03.758Z"
   },
   {
    "duration": 11,
    "start_time": "2021-11-29T18:15:03.890Z"
   },
   {
    "duration": 25,
    "start_time": "2021-11-29T18:15:03.904Z"
   },
   {
    "duration": 10,
    "start_time": "2021-11-29T18:15:03.932Z"
   },
   {
    "duration": 8,
    "start_time": "2021-11-29T18:15:03.945Z"
   },
   {
    "duration": 13,
    "start_time": "2021-11-29T18:15:03.955Z"
   },
   {
    "duration": 15,
    "start_time": "2021-11-29T18:15:03.971Z"
   },
   {
    "duration": 50,
    "start_time": "2021-11-29T18:15:03.988Z"
   },
   {
    "duration": 10,
    "start_time": "2021-11-29T18:15:04.041Z"
   },
   {
    "duration": 17,
    "start_time": "2021-11-29T18:15:04.054Z"
   },
   {
    "duration": 11,
    "start_time": "2021-11-29T18:15:04.073Z"
   },
   {
    "duration": 54,
    "start_time": "2021-11-29T18:15:04.086Z"
   },
   {
    "duration": 4,
    "start_time": "2021-11-29T18:15:04.142Z"
   },
   {
    "duration": 961,
    "start_time": "2021-11-29T18:15:04.149Z"
   },
   {
    "duration": 16,
    "start_time": "2021-11-29T18:15:05.113Z"
   },
   {
    "duration": 34,
    "start_time": "2021-11-29T18:15:05.131Z"
   },
   {
    "duration": 8,
    "start_time": "2021-11-29T18:15:05.168Z"
   },
   {
    "duration": 16,
    "start_time": "2021-11-29T18:15:05.178Z"
   },
   {
    "duration": 2146,
    "start_time": "2021-11-29T18:15:05.198Z"
   },
   {
    "duration": 1989,
    "start_time": "2021-11-29T18:16:14.619Z"
   },
   {
    "duration": 2409,
    "start_time": "2021-11-29T18:17:06.247Z"
   },
   {
    "duration": 2126,
    "start_time": "2021-11-29T18:17:18.024Z"
   },
   {
    "duration": 2021,
    "start_time": "2021-11-29T18:17:29.753Z"
   },
   {
    "duration": 2143,
    "start_time": "2021-11-29T18:18:44.795Z"
   },
   {
    "duration": 1987,
    "start_time": "2021-11-29T18:19:14.801Z"
   },
   {
    "duration": 2027,
    "start_time": "2021-11-29T18:19:43.202Z"
   },
   {
    "duration": 2104,
    "start_time": "2021-11-29T18:19:53.425Z"
   },
   {
    "duration": 1931,
    "start_time": "2021-11-29T18:20:47.778Z"
   },
   {
    "duration": 1968,
    "start_time": "2021-11-29T18:21:19.361Z"
   },
   {
    "duration": 87,
    "start_time": "2021-11-29T18:21:55.441Z"
   },
   {
    "duration": 2101,
    "start_time": "2021-11-29T18:22:03.445Z"
   },
   {
    "duration": 1974,
    "start_time": "2021-11-29T18:25:28.038Z"
   },
   {
    "duration": 2145,
    "start_time": "2021-11-29T18:27:06.858Z"
   },
   {
    "duration": 541,
    "start_time": "2021-11-29T19:04:12.751Z"
   },
   {
    "duration": 5,
    "start_time": "2021-11-29T19:09:06.396Z"
   },
   {
    "duration": 5,
    "start_time": "2021-11-29T19:09:21.805Z"
   },
   {
    "duration": 6,
    "start_time": "2021-11-29T19:14:45.841Z"
   },
   {
    "duration": 6,
    "start_time": "2021-11-29T19:16:04.188Z"
   },
   {
    "duration": 8,
    "start_time": "2021-11-29T19:17:18.134Z"
   },
   {
    "duration": 615,
    "start_time": "2021-11-29T19:25:31.907Z"
   },
   {
    "duration": 234,
    "start_time": "2021-11-29T19:25:50.487Z"
   },
   {
    "duration": 502,
    "start_time": "2021-11-30T10:36:22.495Z"
   },
   {
    "duration": 881,
    "start_time": "2021-11-30T10:36:30.815Z"
   },
   {
    "duration": 96,
    "start_time": "2021-11-30T10:36:31.699Z"
   },
   {
    "duration": 62,
    "start_time": "2021-11-30T10:36:31.798Z"
   },
   {
    "duration": 39,
    "start_time": "2021-11-30T10:36:31.863Z"
   },
   {
    "duration": 138,
    "start_time": "2021-11-30T10:36:31.905Z"
   },
   {
    "duration": 14,
    "start_time": "2021-11-30T10:36:32.046Z"
   },
   {
    "duration": 29,
    "start_time": "2021-11-30T10:36:32.062Z"
   },
   {
    "duration": 10,
    "start_time": "2021-11-30T10:36:32.096Z"
   },
   {
    "duration": 15,
    "start_time": "2021-11-30T10:36:32.109Z"
   },
   {
    "duration": 12,
    "start_time": "2021-11-30T10:36:32.127Z"
   },
   {
    "duration": 19,
    "start_time": "2021-11-30T10:36:32.183Z"
   },
   {
    "duration": 17,
    "start_time": "2021-11-30T10:36:32.204Z"
   },
   {
    "duration": 13,
    "start_time": "2021-11-30T10:36:32.223Z"
   },
   {
    "duration": 63,
    "start_time": "2021-11-30T10:36:32.239Z"
   },
   {
    "duration": 19,
    "start_time": "2021-11-30T10:36:32.304Z"
   },
   {
    "duration": 23,
    "start_time": "2021-11-30T10:36:32.326Z"
   },
   {
    "duration": 30,
    "start_time": "2021-11-30T10:36:32.352Z"
   },
   {
    "duration": 1043,
    "start_time": "2021-11-30T10:36:32.385Z"
   },
   {
    "duration": 7,
    "start_time": "2021-11-30T10:36:33.430Z"
   },
   {
    "duration": 52,
    "start_time": "2021-11-30T10:36:33.440Z"
   },
   {
    "duration": 10,
    "start_time": "2021-11-30T10:36:33.494Z"
   },
   {
    "duration": 13,
    "start_time": "2021-11-30T10:36:33.506Z"
   },
   {
    "duration": 2196,
    "start_time": "2021-11-30T10:36:33.523Z"
   },
   {
    "duration": 559,
    "start_time": "2021-11-30T10:36:35.722Z"
   },
   {
    "duration": 8,
    "start_time": "2021-11-30T10:36:36.284Z"
   },
   {
    "duration": 260,
    "start_time": "2021-11-30T10:36:36.294Z"
   },
   {
    "duration": 25,
    "start_time": "2021-11-30T10:36:36.557Z"
   },
   {
    "duration": 43,
    "start_time": "2021-11-30T10:36:47.779Z"
   },
   {
    "duration": 358,
    "start_time": "2021-11-30T10:38:35.794Z"
   },
   {
    "duration": 468,
    "start_time": "2021-11-30T10:39:16.499Z"
   },
   {
    "duration": 4,
    "start_time": "2021-11-30T10:39:24.682Z"
   },
   {
    "duration": 116,
    "start_time": "2021-11-30T10:39:24.689Z"
   },
   {
    "duration": 39,
    "start_time": "2021-11-30T10:39:24.808Z"
   },
   {
    "duration": 36,
    "start_time": "2021-11-30T10:39:24.850Z"
   },
   {
    "duration": 125,
    "start_time": "2021-11-30T10:39:24.888Z"
   },
   {
    "duration": 12,
    "start_time": "2021-11-30T10:39:25.015Z"
   },
   {
    "duration": 10,
    "start_time": "2021-11-30T10:39:25.030Z"
   },
   {
    "duration": 43,
    "start_time": "2021-11-30T10:39:25.044Z"
   },
   {
    "duration": 8,
    "start_time": "2021-11-30T10:39:25.089Z"
   },
   {
    "duration": 19,
    "start_time": "2021-11-30T10:39:25.100Z"
   },
   {
    "duration": 14,
    "start_time": "2021-11-30T10:39:25.122Z"
   },
   {
    "duration": 51,
    "start_time": "2021-11-30T10:39:25.139Z"
   },
   {
    "duration": 11,
    "start_time": "2021-11-30T10:39:25.193Z"
   },
   {
    "duration": 17,
    "start_time": "2021-11-30T10:39:25.207Z"
   },
   {
    "duration": 9,
    "start_time": "2021-11-30T10:39:25.227Z"
   },
   {
    "duration": 56,
    "start_time": "2021-11-30T10:39:25.238Z"
   },
   {
    "duration": 4,
    "start_time": "2021-11-30T10:39:25.296Z"
   },
   {
    "duration": 970,
    "start_time": "2021-11-30T10:39:25.303Z"
   },
   {
    "duration": 9,
    "start_time": "2021-11-30T10:39:26.276Z"
   },
   {
    "duration": 36,
    "start_time": "2021-11-30T10:39:26.287Z"
   },
   {
    "duration": 9,
    "start_time": "2021-11-30T10:39:26.325Z"
   },
   {
    "duration": 46,
    "start_time": "2021-11-30T10:39:26.337Z"
   },
   {
    "duration": 2291,
    "start_time": "2021-11-30T10:39:26.386Z"
   },
   {
    "duration": 552,
    "start_time": "2021-11-30T10:39:28.690Z"
   },
   {
    "duration": 7,
    "start_time": "2021-11-30T10:39:29.244Z"
   },
   {
    "duration": 263,
    "start_time": "2021-11-30T10:39:29.253Z"
   },
   {
    "duration": 311,
    "start_time": "2021-11-30T10:39:29.518Z"
   },
   {
    "duration": 60,
    "start_time": "2021-11-30T10:39:43.998Z"
   },
   {
    "duration": 15,
    "start_time": "2021-11-30T10:40:08.343Z"
   },
   {
    "duration": 18,
    "start_time": "2021-11-30T10:40:27.157Z"
   },
   {
    "duration": 323,
    "start_time": "2021-11-30T10:44:43.014Z"
   },
   {
    "duration": 11,
    "start_time": "2021-11-30T10:44:53.653Z"
   },
   {
    "duration": 11,
    "start_time": "2021-11-30T10:45:02.969Z"
   },
   {
    "duration": 10,
    "start_time": "2021-11-30T10:47:55.700Z"
   },
   {
    "duration": 1258,
    "start_time": "2021-11-30T18:58:06.467Z"
   },
   {
    "duration": 122,
    "start_time": "2021-11-30T18:58:07.729Z"
   },
   {
    "duration": 79,
    "start_time": "2021-11-30T18:58:07.856Z"
   },
   {
    "duration": 45,
    "start_time": "2021-11-30T18:58:07.939Z"
   },
   {
    "duration": 184,
    "start_time": "2021-11-30T18:58:07.988Z"
   },
   {
    "duration": 26,
    "start_time": "2021-11-30T18:58:08.175Z"
   },
   {
    "duration": 11,
    "start_time": "2021-11-30T18:58:08.207Z"
   },
   {
    "duration": 17,
    "start_time": "2021-11-30T18:58:08.221Z"
   },
   {
    "duration": 12,
    "start_time": "2021-11-30T18:58:08.269Z"
   },
   {
    "duration": 9,
    "start_time": "2021-11-30T18:58:08.284Z"
   },
   {
    "duration": 23,
    "start_time": "2021-11-30T18:58:08.297Z"
   },
   {
    "duration": 57,
    "start_time": "2021-11-30T18:58:08.323Z"
   },
   {
    "duration": 18,
    "start_time": "2021-11-30T18:58:08.382Z"
   },
   {
    "duration": 22,
    "start_time": "2021-11-30T18:58:08.403Z"
   },
   {
    "duration": 49,
    "start_time": "2021-11-30T18:58:08.428Z"
   },
   {
    "duration": 18,
    "start_time": "2021-11-30T18:58:08.479Z"
   },
   {
    "duration": 4,
    "start_time": "2021-11-30T18:58:08.499Z"
   },
   {
    "duration": 1090,
    "start_time": "2021-11-30T18:58:08.506Z"
   },
   {
    "duration": 8,
    "start_time": "2021-11-30T18:58:09.598Z"
   },
   {
    "duration": 65,
    "start_time": "2021-11-30T18:58:09.608Z"
   },
   {
    "duration": 11,
    "start_time": "2021-11-30T18:58:09.676Z"
   },
   {
    "duration": 14,
    "start_time": "2021-11-30T18:58:09.690Z"
   },
   {
    "duration": 2921,
    "start_time": "2021-11-30T18:58:09.708Z"
   },
   {
    "duration": 647,
    "start_time": "2021-11-30T18:58:12.633Z"
   },
   {
    "duration": 8,
    "start_time": "2021-11-30T18:58:13.282Z"
   },
   {
    "duration": 283,
    "start_time": "2021-11-30T18:58:13.293Z"
   },
   {
    "duration": 17,
    "start_time": "2021-11-30T18:58:13.580Z"
   },
   {
    "duration": 10,
    "start_time": "2021-11-30T18:58:13.600Z"
   },
   {
    "duration": 6,
    "start_time": "2021-11-30T19:12:36.891Z"
   },
   {
    "duration": 24,
    "start_time": "2021-11-30T19:12:45.161Z"
   },
   {
    "duration": 22,
    "start_time": "2021-11-30T19:22:45.167Z"
   },
   {
    "duration": 4,
    "start_time": "2021-11-30T19:36:10.964Z"
   },
   {
    "duration": 114,
    "start_time": "2021-11-30T19:36:10.971Z"
   },
   {
    "duration": 40,
    "start_time": "2021-11-30T19:36:11.088Z"
   },
   {
    "duration": 38,
    "start_time": "2021-11-30T19:36:11.131Z"
   },
   {
    "duration": 126,
    "start_time": "2021-11-30T19:36:11.172Z"
   },
   {
    "duration": 12,
    "start_time": "2021-11-30T19:36:11.301Z"
   },
   {
    "duration": 9,
    "start_time": "2021-11-30T19:36:11.317Z"
   },
   {
    "duration": 46,
    "start_time": "2021-11-30T19:36:11.329Z"
   },
   {
    "duration": 8,
    "start_time": "2021-11-30T19:36:11.378Z"
   },
   {
    "duration": 21,
    "start_time": "2021-11-30T19:36:11.388Z"
   },
   {
    "duration": 19,
    "start_time": "2021-11-30T19:36:11.411Z"
   },
   {
    "duration": 35,
    "start_time": "2021-11-30T19:36:11.432Z"
   },
   {
    "duration": 11,
    "start_time": "2021-11-30T19:36:11.470Z"
   },
   {
    "duration": 18,
    "start_time": "2021-11-30T19:36:11.484Z"
   },
   {
    "duration": 9,
    "start_time": "2021-11-30T19:36:11.505Z"
   },
   {
    "duration": 58,
    "start_time": "2021-11-30T19:36:11.516Z"
   },
   {
    "duration": 4,
    "start_time": "2021-11-30T19:36:11.577Z"
   },
   {
    "duration": 984,
    "start_time": "2021-11-30T19:36:11.583Z"
   },
   {
    "duration": 6,
    "start_time": "2021-11-30T19:36:12.571Z"
   },
   {
    "duration": 40,
    "start_time": "2021-11-30T19:36:12.580Z"
   },
   {
    "duration": 8,
    "start_time": "2021-11-30T19:36:12.623Z"
   },
   {
    "duration": 42,
    "start_time": "2021-11-30T19:36:12.633Z"
   },
   {
    "duration": 2179,
    "start_time": "2021-11-30T19:36:12.678Z"
   },
   {
    "duration": 585,
    "start_time": "2021-11-30T19:36:14.860Z"
   },
   {
    "duration": 7,
    "start_time": "2021-11-30T19:36:15.448Z"
   },
   {
    "duration": 279,
    "start_time": "2021-11-30T19:36:15.457Z"
   },
   {
    "duration": 14,
    "start_time": "2021-11-30T19:36:15.739Z"
   },
   {
    "duration": 9,
    "start_time": "2021-11-30T19:36:15.768Z"
   },
   {
    "duration": 25,
    "start_time": "2021-11-30T19:36:15.780Z"
   },
   {
    "duration": 14,
    "start_time": "2021-11-30T19:36:15.807Z"
   },
   {
    "duration": 8612,
    "start_time": "2021-11-30T19:36:15.823Z"
   },
   {
    "duration": 13,
    "start_time": "2021-11-30T19:41:18.524Z"
   },
   {
    "duration": 20,
    "start_time": "2021-11-30T19:41:26.539Z"
   },
   {
    "duration": 532,
    "start_time": "2021-11-30T19:43:51.894Z"
   },
   {
    "duration": 402,
    "start_time": "2021-11-30T20:08:40.794Z"
   },
   {
    "duration": 18,
    "start_time": "2021-11-30T20:09:35.699Z"
   },
   {
    "duration": 227,
    "start_time": "2021-11-30T20:11:47.864Z"
   },
   {
    "duration": 620,
    "start_time": "2021-11-30T20:14:15.364Z"
   },
   {
    "duration": 226,
    "start_time": "2021-11-30T20:14:40.341Z"
   },
   {
    "duration": 391,
    "start_time": "2021-11-30T20:19:38.105Z"
   },
   {
    "duration": 16,
    "start_time": "2021-11-30T20:19:50.468Z"
   },
   {
    "duration": 15,
    "start_time": "2021-11-30T20:20:27.304Z"
   },
   {
    "duration": 322,
    "start_time": "2021-11-30T20:21:05.562Z"
   },
   {
    "duration": 640,
    "start_time": "2021-12-01T12:53:57.177Z"
   },
   {
    "duration": 64,
    "start_time": "2021-12-01T12:53:57.818Z"
   },
   {
    "duration": 28,
    "start_time": "2021-12-01T12:53:57.884Z"
   },
   {
    "duration": 10,
    "start_time": "2021-12-01T12:53:57.913Z"
   },
   {
    "duration": 85,
    "start_time": "2021-12-01T12:53:57.925Z"
   },
   {
    "duration": 7,
    "start_time": "2021-12-01T12:53:58.012Z"
   },
   {
    "duration": 6,
    "start_time": "2021-12-01T12:53:58.021Z"
   },
   {
    "duration": 7,
    "start_time": "2021-12-01T12:53:58.030Z"
   },
   {
    "duration": 6,
    "start_time": "2021-12-01T12:53:58.039Z"
   },
   {
    "duration": 7,
    "start_time": "2021-12-01T12:53:58.046Z"
   },
   {
    "duration": 41,
    "start_time": "2021-12-01T12:53:58.054Z"
   },
   {
    "duration": 13,
    "start_time": "2021-12-01T12:53:58.097Z"
   },
   {
    "duration": 8,
    "start_time": "2021-12-01T12:53:58.112Z"
   },
   {
    "duration": 13,
    "start_time": "2021-12-01T12:53:58.122Z"
   },
   {
    "duration": 7,
    "start_time": "2021-12-01T12:53:58.137Z"
   },
   {
    "duration": 49,
    "start_time": "2021-12-01T12:53:58.145Z"
   },
   {
    "duration": 3,
    "start_time": "2021-12-01T12:53:58.195Z"
   },
   {
    "duration": 562,
    "start_time": "2021-12-01T12:53:58.200Z"
   },
   {
    "duration": 5,
    "start_time": "2021-12-01T12:53:58.764Z"
   },
   {
    "duration": 31,
    "start_time": "2021-12-01T12:53:58.771Z"
   },
   {
    "duration": 6,
    "start_time": "2021-12-01T12:53:58.803Z"
   },
   {
    "duration": 11,
    "start_time": "2021-12-01T12:53:58.811Z"
   },
   {
    "duration": 1323,
    "start_time": "2021-12-01T12:53:58.824Z"
   },
   {
    "duration": 359,
    "start_time": "2021-12-01T12:54:00.150Z"
   },
   {
    "duration": 7,
    "start_time": "2021-12-01T12:54:00.511Z"
   },
   {
    "duration": 171,
    "start_time": "2021-12-01T12:54:00.520Z"
   },
   {
    "duration": 10,
    "start_time": "2021-12-01T12:54:00.693Z"
   },
   {
    "duration": 12,
    "start_time": "2021-12-01T12:54:00.705Z"
   },
   {
    "duration": 21,
    "start_time": "2021-12-01T12:54:00.718Z"
   },
   {
    "duration": 32,
    "start_time": "2021-12-01T12:54:00.741Z"
   },
   {
    "duration": 17,
    "start_time": "2021-12-01T12:54:00.775Z"
   },
   {
    "duration": 138,
    "start_time": "2021-12-01T12:54:00.794Z"
   },
   {
    "duration": 10,
    "start_time": "2021-12-01T12:54:00.934Z"
   },
   {
    "duration": 210,
    "start_time": "2021-12-01T12:54:00.946Z"
   },
   {
    "duration": 2,
    "start_time": "2021-12-01T12:59:56.446Z"
   },
   {
    "duration": 86,
    "start_time": "2021-12-01T12:59:56.450Z"
   },
   {
    "duration": 24,
    "start_time": "2021-12-01T12:59:56.538Z"
   },
   {
    "duration": 33,
    "start_time": "2021-12-01T12:59:56.564Z"
   },
   {
    "duration": 69,
    "start_time": "2021-12-01T12:59:56.599Z"
   },
   {
    "duration": 24,
    "start_time": "2021-12-01T12:59:56.669Z"
   },
   {
    "duration": 6,
    "start_time": "2021-12-01T12:59:56.696Z"
   },
   {
    "duration": 13,
    "start_time": "2021-12-01T12:59:56.704Z"
   },
   {
    "duration": 20,
    "start_time": "2021-12-01T12:59:56.719Z"
   },
   {
    "duration": 17,
    "start_time": "2021-12-01T12:59:56.741Z"
   },
   {
    "duration": 25,
    "start_time": "2021-12-01T12:59:56.760Z"
   },
   {
    "duration": 10,
    "start_time": "2021-12-01T12:59:56.787Z"
   },
   {
    "duration": 21,
    "start_time": "2021-12-01T12:59:56.798Z"
   },
   {
    "duration": 14,
    "start_time": "2021-12-01T12:59:56.821Z"
   },
   {
    "duration": 22,
    "start_time": "2021-12-01T12:59:56.837Z"
   },
   {
    "duration": 34,
    "start_time": "2021-12-01T12:59:56.861Z"
   },
   {
    "duration": 4,
    "start_time": "2021-12-01T12:59:56.897Z"
   },
   {
    "duration": 657,
    "start_time": "2021-12-01T12:59:56.903Z"
   },
   {
    "duration": 6,
    "start_time": "2021-12-01T12:59:57.564Z"
   },
   {
    "duration": 48,
    "start_time": "2021-12-01T12:59:57.571Z"
   },
   {
    "duration": 7,
    "start_time": "2021-12-01T12:59:57.621Z"
   },
   {
    "duration": 17,
    "start_time": "2021-12-01T12:59:57.630Z"
   },
   {
    "duration": 1272,
    "start_time": "2021-12-01T12:59:57.649Z"
   },
   {
    "duration": 360,
    "start_time": "2021-12-01T12:59:58.924Z"
   },
   {
    "duration": 9,
    "start_time": "2021-12-01T12:59:59.286Z"
   },
   {
    "duration": 165,
    "start_time": "2021-12-01T12:59:59.297Z"
   },
   {
    "duration": 8,
    "start_time": "2021-12-01T12:59:59.464Z"
   },
   {
    "duration": 19,
    "start_time": "2021-12-01T12:59:59.473Z"
   },
   {
    "duration": 18,
    "start_time": "2021-12-01T12:59:59.494Z"
   },
   {
    "duration": 11,
    "start_time": "2021-12-01T12:59:59.513Z"
   },
   {
    "duration": 12,
    "start_time": "2021-12-01T12:59:59.526Z"
   },
   {
    "duration": 170,
    "start_time": "2021-12-01T12:59:59.539Z"
   },
   {
    "duration": 11,
    "start_time": "2021-12-01T12:59:59.711Z"
   },
   {
    "duration": 225,
    "start_time": "2021-12-01T12:59:59.723Z"
   },
   {
    "duration": 3,
    "start_time": "2021-12-01T13:01:54.527Z"
   },
   {
    "duration": 84,
    "start_time": "2021-12-01T13:01:54.532Z"
   },
   {
    "duration": 26,
    "start_time": "2021-12-01T13:01:54.618Z"
   },
   {
    "duration": 10,
    "start_time": "2021-12-01T13:01:54.645Z"
   },
   {
    "duration": 103,
    "start_time": "2021-12-01T13:01:54.657Z"
   },
   {
    "duration": 8,
    "start_time": "2021-12-01T13:01:54.761Z"
   },
   {
    "duration": 27,
    "start_time": "2021-12-01T13:01:54.771Z"
   },
   {
    "duration": 8,
    "start_time": "2021-12-01T13:01:54.801Z"
   },
   {
    "duration": 15,
    "start_time": "2021-12-01T13:01:54.811Z"
   },
   {
    "duration": 6,
    "start_time": "2021-12-01T13:01:54.827Z"
   },
   {
    "duration": 12,
    "start_time": "2021-12-01T13:01:54.835Z"
   },
   {
    "duration": 45,
    "start_time": "2021-12-01T13:01:54.849Z"
   },
   {
    "duration": 9,
    "start_time": "2021-12-01T13:01:54.896Z"
   },
   {
    "duration": 12,
    "start_time": "2021-12-01T13:01:54.906Z"
   },
   {
    "duration": 8,
    "start_time": "2021-12-01T13:01:54.920Z"
   },
   {
    "duration": 12,
    "start_time": "2021-12-01T13:01:54.930Z"
   },
   {
    "duration": 3,
    "start_time": "2021-12-01T13:01:54.943Z"
   },
   {
    "duration": 669,
    "start_time": "2021-12-01T13:01:54.948Z"
   },
   {
    "duration": 5,
    "start_time": "2021-12-01T13:01:55.618Z"
   },
   {
    "duration": 25,
    "start_time": "2021-12-01T13:01:55.625Z"
   },
   {
    "duration": 8,
    "start_time": "2021-12-01T13:01:55.652Z"
   },
   {
    "duration": 31,
    "start_time": "2021-12-01T13:01:55.661Z"
   },
   {
    "duration": 1331,
    "start_time": "2021-12-01T13:01:55.695Z"
   },
   {
    "duration": 369,
    "start_time": "2021-12-01T13:01:57.028Z"
   },
   {
    "duration": 5,
    "start_time": "2021-12-01T13:01:57.399Z"
   },
   {
    "duration": 171,
    "start_time": "2021-12-01T13:01:57.406Z"
   },
   {
    "duration": 16,
    "start_time": "2021-12-01T13:01:57.579Z"
   },
   {
    "duration": 10,
    "start_time": "2021-12-01T13:01:57.596Z"
   },
   {
    "duration": 15,
    "start_time": "2021-12-01T13:01:57.608Z"
   },
   {
    "duration": 11,
    "start_time": "2021-12-01T13:01:57.625Z"
   },
   {
    "duration": 11,
    "start_time": "2021-12-01T13:01:57.638Z"
   },
   {
    "duration": 159,
    "start_time": "2021-12-01T13:01:57.650Z"
   },
   {
    "duration": 11,
    "start_time": "2021-12-01T13:01:57.811Z"
   },
   {
    "duration": 184,
    "start_time": "2021-12-01T13:01:57.824Z"
   },
   {
    "duration": 505,
    "start_time": "2021-12-01T13:03:48.726Z"
   },
   {
    "duration": 187,
    "start_time": "2021-12-01T13:03:54.887Z"
   },
   {
    "duration": 7,
    "start_time": "2021-12-01T13:06:20.431Z"
   },
   {
    "duration": 10,
    "start_time": "2021-12-01T13:07:32.533Z"
   },
   {
    "duration": 4,
    "start_time": "2021-12-01T13:08:41.200Z"
   },
   {
    "duration": 84,
    "start_time": "2021-12-01T13:08:41.206Z"
   },
   {
    "duration": 25,
    "start_time": "2021-12-01T13:08:41.292Z"
   },
   {
    "duration": 10,
    "start_time": "2021-12-01T13:08:41.319Z"
   },
   {
    "duration": 103,
    "start_time": "2021-12-01T13:08:41.331Z"
   },
   {
    "duration": 8,
    "start_time": "2021-12-01T13:08:41.436Z"
   },
   {
    "duration": 7,
    "start_time": "2021-12-01T13:08:41.446Z"
   },
   {
    "duration": 7,
    "start_time": "2021-12-01T13:08:41.455Z"
   },
   {
    "duration": 31,
    "start_time": "2021-12-01T13:08:41.464Z"
   },
   {
    "duration": 10,
    "start_time": "2021-12-01T13:08:41.497Z"
   },
   {
    "duration": 13,
    "start_time": "2021-12-01T13:08:41.509Z"
   },
   {
    "duration": 10,
    "start_time": "2021-12-01T13:08:41.524Z"
   },
   {
    "duration": 9,
    "start_time": "2021-12-01T13:08:41.535Z"
   },
   {
    "duration": 12,
    "start_time": "2021-12-01T13:08:41.546Z"
   },
   {
    "duration": 38,
    "start_time": "2021-12-01T13:08:41.560Z"
   },
   {
    "duration": 15,
    "start_time": "2021-12-01T13:08:41.600Z"
   },
   {
    "duration": 4,
    "start_time": "2021-12-01T13:08:41.616Z"
   },
   {
    "duration": 576,
    "start_time": "2021-12-01T13:08:41.622Z"
   },
   {
    "duration": 6,
    "start_time": "2021-12-01T13:08:42.200Z"
   },
   {
    "duration": 24,
    "start_time": "2021-12-01T13:08:42.207Z"
   },
   {
    "duration": 7,
    "start_time": "2021-12-01T13:08:42.233Z"
   },
   {
    "duration": 10,
    "start_time": "2021-12-01T13:08:42.242Z"
   },
   {
    "duration": 1292,
    "start_time": "2021-12-01T13:08:42.291Z"
   },
   {
    "duration": 353,
    "start_time": "2021-12-01T13:08:43.590Z"
   },
   {
    "duration": 5,
    "start_time": "2021-12-01T13:08:43.945Z"
   },
   {
    "duration": 241,
    "start_time": "2021-12-01T13:08:43.952Z"
   },
   {
    "duration": 8,
    "start_time": "2021-12-01T13:08:44.194Z"
   },
   {
    "duration": 6,
    "start_time": "2021-12-01T13:08:44.204Z"
   },
   {
    "duration": 13,
    "start_time": "2021-12-01T13:08:44.212Z"
   },
   {
    "duration": 12,
    "start_time": "2021-12-01T13:08:44.227Z"
   },
   {
    "duration": 10,
    "start_time": "2021-12-01T13:08:44.241Z"
   },
   {
    "duration": 171,
    "start_time": "2021-12-01T13:08:44.252Z"
   },
   {
    "duration": 11,
    "start_time": "2021-12-01T13:08:44.424Z"
   },
   {
    "duration": 8,
    "start_time": "2021-12-01T13:08:44.436Z"
   },
   {
    "duration": 193,
    "start_time": "2021-12-01T13:08:44.445Z"
   },
   {
    "duration": 6,
    "start_time": "2021-12-01T13:13:50.018Z"
   },
   {
    "duration": 11,
    "start_time": "2021-12-01T13:18:47.353Z"
   },
   {
    "duration": 7,
    "start_time": "2021-12-01T13:20:00.196Z"
   },
   {
    "duration": 192,
    "start_time": "2021-12-01T13:21:24.293Z"
   },
   {
    "duration": 3,
    "start_time": "2021-12-01T13:33:17.514Z"
   },
   {
    "duration": 103,
    "start_time": "2021-12-01T13:33:17.519Z"
   },
   {
    "duration": 40,
    "start_time": "2021-12-01T13:33:17.625Z"
   },
   {
    "duration": 35,
    "start_time": "2021-12-01T13:33:17.668Z"
   },
   {
    "duration": 94,
    "start_time": "2021-12-01T13:33:17.706Z"
   },
   {
    "duration": 10,
    "start_time": "2021-12-01T13:33:17.801Z"
   },
   {
    "duration": 7,
    "start_time": "2021-12-01T13:33:17.812Z"
   },
   {
    "duration": 7,
    "start_time": "2021-12-01T13:33:17.820Z"
   },
   {
    "duration": 6,
    "start_time": "2021-12-01T13:33:17.830Z"
   },
   {
    "duration": 15,
    "start_time": "2021-12-01T13:33:17.838Z"
   },
   {
    "duration": 43,
    "start_time": "2021-12-01T13:33:17.855Z"
   },
   {
    "duration": 8,
    "start_time": "2021-12-01T13:33:17.900Z"
   },
   {
    "duration": 9,
    "start_time": "2021-12-01T13:33:17.910Z"
   },
   {
    "duration": 12,
    "start_time": "2021-12-01T13:33:17.921Z"
   },
   {
    "duration": 8,
    "start_time": "2021-12-01T13:33:17.936Z"
   },
   {
    "duration": 51,
    "start_time": "2021-12-01T13:33:17.945Z"
   },
   {
    "duration": 4,
    "start_time": "2021-12-01T13:33:17.998Z"
   },
   {
    "duration": 604,
    "start_time": "2021-12-01T13:33:18.004Z"
   },
   {
    "duration": 5,
    "start_time": "2021-12-01T13:33:18.610Z"
   },
   {
    "duration": 24,
    "start_time": "2021-12-01T13:33:18.617Z"
   },
   {
    "duration": 8,
    "start_time": "2021-12-01T13:33:18.643Z"
   },
   {
    "duration": 11,
    "start_time": "2021-12-01T13:33:18.653Z"
   },
   {
    "duration": 1295,
    "start_time": "2021-12-01T13:33:18.692Z"
   },
   {
    "duration": 463,
    "start_time": "2021-12-01T13:33:19.991Z"
   },
   {
    "duration": 6,
    "start_time": "2021-12-01T13:33:20.455Z"
   },
   {
    "duration": 188,
    "start_time": "2021-12-01T13:33:20.463Z"
   },
   {
    "duration": 9,
    "start_time": "2021-12-01T13:33:20.654Z"
   },
   {
    "duration": 10,
    "start_time": "2021-12-01T13:33:20.665Z"
   },
   {
    "duration": 32,
    "start_time": "2021-12-01T13:33:20.677Z"
   },
   {
    "duration": 13,
    "start_time": "2021-12-01T13:33:20.711Z"
   },
   {
    "duration": 11,
    "start_time": "2021-12-01T13:33:20.726Z"
   },
   {
    "duration": 171,
    "start_time": "2021-12-01T13:33:20.739Z"
   },
   {
    "duration": 10,
    "start_time": "2021-12-01T13:33:20.912Z"
   },
   {
    "duration": 13,
    "start_time": "2021-12-01T13:33:20.924Z"
   },
   {
    "duration": 206,
    "start_time": "2021-12-01T13:33:20.939Z"
   },
   {
    "duration": 11,
    "start_time": "2021-12-01T13:33:21.147Z"
   },
   {
    "duration": 6,
    "start_time": "2021-12-01T13:33:21.160Z"
   },
   {
    "duration": 225,
    "start_time": "2021-12-01T13:33:21.167Z"
   },
   {
    "duration": 11,
    "start_time": "2021-12-01T13:33:21.394Z"
   },
   {
    "duration": 5,
    "start_time": "2021-12-01T13:33:21.407Z"
   },
   {
    "duration": 4,
    "start_time": "2021-12-01T13:37:26.597Z"
   },
   {
    "duration": 67,
    "start_time": "2021-12-01T13:37:26.699Z"
   },
   {
    "duration": 30,
    "start_time": "2021-12-01T13:37:26.768Z"
   },
   {
    "duration": 10,
    "start_time": "2021-12-01T13:37:26.800Z"
   },
   {
    "duration": 90,
    "start_time": "2021-12-01T13:37:26.813Z"
   },
   {
    "duration": 10,
    "start_time": "2021-12-01T13:37:26.905Z"
   },
   {
    "duration": 8,
    "start_time": "2021-12-01T13:37:26.917Z"
   },
   {
    "duration": 8,
    "start_time": "2021-12-01T13:37:26.927Z"
   },
   {
    "duration": 7,
    "start_time": "2021-12-01T13:37:26.936Z"
   },
   {
    "duration": 46,
    "start_time": "2021-12-01T13:37:26.947Z"
   },
   {
    "duration": 12,
    "start_time": "2021-12-01T13:37:26.995Z"
   },
   {
    "duration": 10,
    "start_time": "2021-12-01T13:37:27.009Z"
   },
   {
    "duration": 9,
    "start_time": "2021-12-01T13:37:27.021Z"
   },
   {
    "duration": 12,
    "start_time": "2021-12-01T13:37:27.032Z"
   },
   {
    "duration": 6,
    "start_time": "2021-12-01T13:37:27.046Z"
   },
   {
    "duration": 13,
    "start_time": "2021-12-01T13:37:27.092Z"
   },
   {
    "duration": 4,
    "start_time": "2021-12-01T13:37:27.106Z"
   },
   {
    "duration": 596,
    "start_time": "2021-12-01T13:37:27.112Z"
   },
   {
    "duration": 6,
    "start_time": "2021-12-01T13:37:27.709Z"
   },
   {
    "duration": 37,
    "start_time": "2021-12-01T13:37:27.716Z"
   },
   {
    "duration": 6,
    "start_time": "2021-12-01T13:37:27.755Z"
   },
   {
    "duration": 29,
    "start_time": "2021-12-01T13:37:27.763Z"
   },
   {
    "duration": 1403,
    "start_time": "2021-12-01T13:37:27.794Z"
   },
   {
    "duration": 345,
    "start_time": "2021-12-01T13:37:29.199Z"
   },
   {
    "duration": 6,
    "start_time": "2021-12-01T13:37:29.546Z"
   },
   {
    "duration": 176,
    "start_time": "2021-12-01T13:37:29.554Z"
   },
   {
    "duration": 8,
    "start_time": "2021-12-01T13:37:29.731Z"
   },
   {
    "duration": 18,
    "start_time": "2021-12-01T13:37:29.742Z"
   },
   {
    "duration": 22,
    "start_time": "2021-12-01T13:37:29.762Z"
   },
   {
    "duration": 22,
    "start_time": "2021-12-01T13:37:29.786Z"
   },
   {
    "duration": 18,
    "start_time": "2021-12-01T13:37:29.809Z"
   },
   {
    "duration": 139,
    "start_time": "2021-12-01T13:37:29.829Z"
   },
   {
    "duration": 28,
    "start_time": "2021-12-01T13:37:29.970Z"
   },
   {
    "duration": 4,
    "start_time": "2021-12-01T13:37:30.000Z"
   },
   {
    "duration": 216,
    "start_time": "2021-12-01T13:37:30.006Z"
   },
   {
    "duration": 11,
    "start_time": "2021-12-01T13:37:30.223Z"
   },
   {
    "duration": 12,
    "start_time": "2021-12-01T13:37:30.236Z"
   },
   {
    "duration": 206,
    "start_time": "2021-12-01T13:37:30.250Z"
   },
   {
    "duration": 11,
    "start_time": "2021-12-01T13:37:30.458Z"
   },
   {
    "duration": 19,
    "start_time": "2021-12-01T13:37:30.471Z"
   },
   {
    "duration": 388,
    "start_time": "2021-12-01T13:37:30.492Z"
   },
   {
    "duration": 2,
    "start_time": "2021-12-01T13:38:19.417Z"
   },
   {
    "duration": 73,
    "start_time": "2021-12-01T13:38:19.421Z"
   },
   {
    "duration": 26,
    "start_time": "2021-12-01T13:38:19.496Z"
   },
   {
    "duration": 12,
    "start_time": "2021-12-01T13:38:19.524Z"
   },
   {
    "duration": 97,
    "start_time": "2021-12-01T13:38:19.537Z"
   },
   {
    "duration": 9,
    "start_time": "2021-12-01T13:38:19.636Z"
   },
   {
    "duration": 7,
    "start_time": "2021-12-01T13:38:19.648Z"
   },
   {
    "duration": 7,
    "start_time": "2021-12-01T13:38:19.657Z"
   },
   {
    "duration": 30,
    "start_time": "2021-12-01T13:38:19.666Z"
   },
   {
    "duration": 8,
    "start_time": "2021-12-01T13:38:19.698Z"
   },
   {
    "duration": 11,
    "start_time": "2021-12-01T13:38:19.707Z"
   },
   {
    "duration": 9,
    "start_time": "2021-12-01T13:38:19.720Z"
   },
   {
    "duration": 8,
    "start_time": "2021-12-01T13:38:19.730Z"
   },
   {
    "duration": 12,
    "start_time": "2021-12-01T13:38:19.740Z"
   },
   {
    "duration": 45,
    "start_time": "2021-12-01T13:38:19.754Z"
   },
   {
    "duration": 18,
    "start_time": "2021-12-01T13:38:19.801Z"
   },
   {
    "duration": 4,
    "start_time": "2021-12-01T13:38:19.821Z"
   },
   {
    "duration": 590,
    "start_time": "2021-12-01T13:38:19.826Z"
   },
   {
    "duration": 5,
    "start_time": "2021-12-01T13:38:20.420Z"
   },
   {
    "duration": 30,
    "start_time": "2021-12-01T13:38:20.427Z"
   },
   {
    "duration": 7,
    "start_time": "2021-12-01T13:38:20.459Z"
   },
   {
    "duration": 27,
    "start_time": "2021-12-01T13:38:20.468Z"
   },
   {
    "duration": 1473,
    "start_time": "2021-12-01T13:38:20.497Z"
   },
   {
    "duration": 353,
    "start_time": "2021-12-01T13:38:21.972Z"
   },
   {
    "duration": 6,
    "start_time": "2021-12-01T13:38:22.326Z"
   },
   {
    "duration": 182,
    "start_time": "2021-12-01T13:38:22.333Z"
   },
   {
    "duration": 10,
    "start_time": "2021-12-01T13:38:22.517Z"
   },
   {
    "duration": 7,
    "start_time": "2021-12-01T13:38:22.528Z"
   },
   {
    "duration": 16,
    "start_time": "2021-12-01T13:38:22.537Z"
   },
   {
    "duration": 40,
    "start_time": "2021-12-01T13:38:22.555Z"
   },
   {
    "duration": 12,
    "start_time": "2021-12-01T13:38:22.596Z"
   },
   {
    "duration": 163,
    "start_time": "2021-12-01T13:38:22.610Z"
   },
   {
    "duration": 20,
    "start_time": "2021-12-01T13:38:22.775Z"
   },
   {
    "duration": 6,
    "start_time": "2021-12-01T13:38:22.798Z"
   },
   {
    "duration": 198,
    "start_time": "2021-12-01T13:38:22.805Z"
   },
   {
    "duration": 11,
    "start_time": "2021-12-01T13:38:23.004Z"
   },
   {
    "duration": 5,
    "start_time": "2021-12-01T13:38:23.016Z"
   },
   {
    "duration": 224,
    "start_time": "2021-12-01T13:38:23.023Z"
   },
   {
    "duration": 11,
    "start_time": "2021-12-01T13:38:23.249Z"
   },
   {
    "duration": 6,
    "start_time": "2021-12-01T13:38:23.262Z"
   },
   {
    "duration": 184,
    "start_time": "2021-12-01T13:38:23.292Z"
   },
   {
    "duration": 2,
    "start_time": "2021-12-01T13:38:42.872Z"
   },
   {
    "duration": 67,
    "start_time": "2021-12-01T13:38:42.876Z"
   },
   {
    "duration": 46,
    "start_time": "2021-12-01T13:38:42.945Z"
   },
   {
    "duration": 11,
    "start_time": "2021-12-01T13:38:42.993Z"
   },
   {
    "duration": 88,
    "start_time": "2021-12-01T13:38:43.006Z"
   },
   {
    "duration": 9,
    "start_time": "2021-12-01T13:38:43.096Z"
   },
   {
    "duration": 7,
    "start_time": "2021-12-01T13:38:43.107Z"
   },
   {
    "duration": 6,
    "start_time": "2021-12-01T13:38:43.116Z"
   },
   {
    "duration": 6,
    "start_time": "2021-12-01T13:38:43.124Z"
   },
   {
    "duration": 6,
    "start_time": "2021-12-01T13:38:43.132Z"
   },
   {
    "duration": 51,
    "start_time": "2021-12-01T13:38:43.140Z"
   },
   {
    "duration": 8,
    "start_time": "2021-12-01T13:38:43.193Z"
   },
   {
    "duration": 8,
    "start_time": "2021-12-01T13:38:43.202Z"
   },
   {
    "duration": 11,
    "start_time": "2021-12-01T13:38:43.212Z"
   },
   {
    "duration": 6,
    "start_time": "2021-12-01T13:38:43.225Z"
   },
   {
    "duration": 13,
    "start_time": "2021-12-01T13:38:43.233Z"
   },
   {
    "duration": 44,
    "start_time": "2021-12-01T13:38:43.248Z"
   },
   {
    "duration": 580,
    "start_time": "2021-12-01T13:38:43.294Z"
   },
   {
    "duration": 14,
    "start_time": "2021-12-01T13:38:43.877Z"
   },
   {
    "duration": 22,
    "start_time": "2021-12-01T13:38:43.893Z"
   },
   {
    "duration": 8,
    "start_time": "2021-12-01T13:38:43.916Z"
   },
   {
    "duration": 9,
    "start_time": "2021-12-01T13:38:43.926Z"
   },
   {
    "duration": 1508,
    "start_time": "2021-12-01T13:38:43.937Z"
   },
   {
    "duration": 353,
    "start_time": "2021-12-01T13:38:45.446Z"
   },
   {
    "duration": 6,
    "start_time": "2021-12-01T13:38:45.800Z"
   },
   {
    "duration": 170,
    "start_time": "2021-12-01T13:38:45.807Z"
   },
   {
    "duration": 16,
    "start_time": "2021-12-01T13:38:45.980Z"
   },
   {
    "duration": 8,
    "start_time": "2021-12-01T13:38:45.998Z"
   },
   {
    "duration": 16,
    "start_time": "2021-12-01T13:38:46.008Z"
   },
   {
    "duration": 9,
    "start_time": "2021-12-01T13:38:46.026Z"
   },
   {
    "duration": 10,
    "start_time": "2021-12-01T13:38:46.037Z"
   },
   {
    "duration": 172,
    "start_time": "2021-12-01T13:38:46.049Z"
   },
   {
    "duration": 11,
    "start_time": "2021-12-01T13:38:46.223Z"
   },
   {
    "duration": 12,
    "start_time": "2021-12-01T13:38:46.235Z"
   },
   {
    "duration": 190,
    "start_time": "2021-12-01T13:38:46.248Z"
   },
   {
    "duration": 11,
    "start_time": "2021-12-01T13:38:46.440Z"
   },
   {
    "duration": 5,
    "start_time": "2021-12-01T13:38:46.452Z"
   },
   {
    "duration": 196,
    "start_time": "2021-12-01T13:38:46.459Z"
   },
   {
    "duration": 11,
    "start_time": "2021-12-01T13:38:46.657Z"
   },
   {
    "duration": 5,
    "start_time": "2021-12-01T13:38:46.669Z"
   },
   {
    "duration": 193,
    "start_time": "2021-12-01T13:38:46.692Z"
   },
   {
    "duration": 348,
    "start_time": "2021-12-01T13:39:21.636Z"
   },
   {
    "duration": 369,
    "start_time": "2021-12-01T13:39:35.333Z"
   },
   {
    "duration": 351,
    "start_time": "2021-12-01T13:39:40.464Z"
   },
   {
    "duration": 720,
    "start_time": "2021-12-01T18:18:59.272Z"
   },
   {
    "duration": 68,
    "start_time": "2021-12-01T18:18:59.994Z"
   },
   {
    "duration": 27,
    "start_time": "2021-12-01T18:19:00.064Z"
   },
   {
    "duration": 22,
    "start_time": "2021-12-01T18:19:00.093Z"
   },
   {
    "duration": 76,
    "start_time": "2021-12-01T18:19:00.117Z"
   },
   {
    "duration": 16,
    "start_time": "2021-12-01T18:19:00.194Z"
   },
   {
    "duration": 20,
    "start_time": "2021-12-01T18:19:00.212Z"
   },
   {
    "duration": 57,
    "start_time": "2021-12-01T18:19:00.234Z"
   },
   {
    "duration": 29,
    "start_time": "2021-12-01T18:19:00.293Z"
   },
   {
    "duration": 15,
    "start_time": "2021-12-01T18:19:00.324Z"
   },
   {
    "duration": 25,
    "start_time": "2021-12-01T18:19:00.341Z"
   },
   {
    "duration": 16,
    "start_time": "2021-12-01T18:19:00.367Z"
   },
   {
    "duration": 13,
    "start_time": "2021-12-01T18:19:00.384Z"
   },
   {
    "duration": 35,
    "start_time": "2021-12-01T18:19:00.399Z"
   },
   {
    "duration": 20,
    "start_time": "2021-12-01T18:19:00.436Z"
   },
   {
    "duration": 37,
    "start_time": "2021-12-01T18:19:00.458Z"
   },
   {
    "duration": 11,
    "start_time": "2021-12-01T18:19:00.497Z"
   },
   {
    "duration": 583,
    "start_time": "2021-12-01T18:19:00.509Z"
   },
   {
    "duration": 5,
    "start_time": "2021-12-01T18:19:01.094Z"
   },
   {
    "duration": 35,
    "start_time": "2021-12-01T18:19:01.100Z"
   },
   {
    "duration": 8,
    "start_time": "2021-12-01T18:19:01.136Z"
   },
   {
    "duration": 13,
    "start_time": "2021-12-01T18:19:01.146Z"
   },
   {
    "duration": 1268,
    "start_time": "2021-12-01T18:19:01.164Z"
   },
   {
    "duration": 357,
    "start_time": "2021-12-01T18:19:02.435Z"
   },
   {
    "duration": 6,
    "start_time": "2021-12-01T18:19:02.793Z"
   },
   {
    "duration": 206,
    "start_time": "2021-12-01T18:19:02.800Z"
   },
   {
    "duration": 10,
    "start_time": "2021-12-01T18:19:03.009Z"
   },
   {
    "duration": 23,
    "start_time": "2021-12-01T18:19:03.021Z"
   },
   {
    "duration": 16,
    "start_time": "2021-12-01T18:19:03.046Z"
   },
   {
    "duration": 30,
    "start_time": "2021-12-01T18:19:03.064Z"
   },
   {
    "duration": 11,
    "start_time": "2021-12-01T18:19:03.096Z"
   },
   {
    "duration": 130,
    "start_time": "2021-12-01T18:19:03.109Z"
   },
   {
    "duration": 11,
    "start_time": "2021-12-01T18:19:03.241Z"
   },
   {
    "duration": 7,
    "start_time": "2021-12-01T18:19:03.254Z"
   },
   {
    "duration": 188,
    "start_time": "2021-12-01T18:19:03.262Z"
   },
   {
    "duration": 11,
    "start_time": "2021-12-01T18:19:03.452Z"
   },
   {
    "duration": 6,
    "start_time": "2021-12-01T18:19:03.465Z"
   },
   {
    "duration": 182,
    "start_time": "2021-12-01T18:19:03.473Z"
   },
   {
    "duration": 11,
    "start_time": "2021-12-01T18:19:03.657Z"
   },
   {
    "duration": 10,
    "start_time": "2021-12-01T18:19:03.670Z"
   },
   {
    "duration": 226,
    "start_time": "2021-12-01T18:19:03.682Z"
   },
   {
    "duration": 575,
    "start_time": "2021-12-01T18:19:03.911Z"
   },
   {
    "duration": 12,
    "start_time": "2021-12-01T18:20:36.380Z"
   },
   {
    "duration": 11,
    "start_time": "2021-12-01T18:20:40.350Z"
   },
   {
    "duration": 3,
    "start_time": "2021-12-01T18:23:27.095Z"
   },
   {
    "duration": 4,
    "start_time": "2021-12-01T18:23:32.965Z"
   },
   {
    "duration": 9,
    "start_time": "2021-12-01T18:23:42.642Z"
   },
   {
    "duration": 4,
    "start_time": "2021-12-01T18:23:57.114Z"
   },
   {
    "duration": 9,
    "start_time": "2021-12-01T18:24:15.437Z"
   },
   {
    "duration": 10,
    "start_time": "2021-12-01T18:24:40.710Z"
   },
   {
    "duration": 9,
    "start_time": "2021-12-01T18:24:56.810Z"
   },
   {
    "duration": 515,
    "start_time": "2021-12-01T18:34:55.544Z"
   },
   {
    "duration": 3,
    "start_time": "2021-12-01T18:39:34.711Z"
   },
   {
    "duration": 77,
    "start_time": "2021-12-01T18:39:34.716Z"
   },
   {
    "duration": 86,
    "start_time": "2021-12-01T18:39:34.796Z"
   },
   {
    "duration": 31,
    "start_time": "2021-12-01T18:39:34.884Z"
   },
   {
    "duration": 67,
    "start_time": "2021-12-01T18:39:34.916Z"
   },
   {
    "duration": 24,
    "start_time": "2021-12-01T18:39:34.985Z"
   },
   {
    "duration": 7,
    "start_time": "2021-12-01T18:39:35.011Z"
   },
   {
    "duration": 27,
    "start_time": "2021-12-01T18:39:35.020Z"
   },
   {
    "duration": 14,
    "start_time": "2021-12-01T18:39:35.048Z"
   },
   {
    "duration": 23,
    "start_time": "2021-12-01T18:39:35.063Z"
   },
   {
    "duration": 18,
    "start_time": "2021-12-01T18:39:35.087Z"
   },
   {
    "duration": 23,
    "start_time": "2021-12-01T18:39:35.107Z"
   },
   {
    "duration": 21,
    "start_time": "2021-12-01T18:39:35.132Z"
   },
   {
    "duration": 13,
    "start_time": "2021-12-01T18:39:35.154Z"
   },
   {
    "duration": 31,
    "start_time": "2021-12-01T18:39:35.169Z"
   },
   {
    "duration": 16,
    "start_time": "2021-12-01T18:39:35.201Z"
   },
   {
    "duration": 8,
    "start_time": "2021-12-01T18:39:35.219Z"
   },
   {
    "duration": 575,
    "start_time": "2021-12-01T18:39:35.228Z"
   },
   {
    "duration": 5,
    "start_time": "2021-12-01T18:39:35.806Z"
   },
   {
    "duration": 29,
    "start_time": "2021-12-01T18:39:35.813Z"
   },
   {
    "duration": 7,
    "start_time": "2021-12-01T18:39:35.844Z"
   },
   {
    "duration": 10,
    "start_time": "2021-12-01T18:39:35.852Z"
   },
   {
    "duration": 1167,
    "start_time": "2021-12-01T18:39:35.864Z"
   },
   {
    "duration": 316,
    "start_time": "2021-12-01T18:39:37.033Z"
   },
   {
    "duration": 5,
    "start_time": "2021-12-01T18:39:37.351Z"
   },
   {
    "duration": 151,
    "start_time": "2021-12-01T18:39:37.357Z"
   },
   {
    "duration": 8,
    "start_time": "2021-12-01T18:39:37.509Z"
   },
   {
    "duration": 10,
    "start_time": "2021-12-01T18:39:37.519Z"
   },
   {
    "duration": 19,
    "start_time": "2021-12-01T18:39:37.530Z"
   },
   {
    "duration": 9,
    "start_time": "2021-12-01T18:39:37.551Z"
   },
   {
    "duration": 11,
    "start_time": "2021-12-01T18:39:37.562Z"
   },
   {
    "duration": 147,
    "start_time": "2021-12-01T18:39:37.575Z"
   },
   {
    "duration": 10,
    "start_time": "2021-12-01T18:39:37.724Z"
   },
   {
    "duration": 11,
    "start_time": "2021-12-01T18:39:37.736Z"
   },
   {
    "duration": 225,
    "start_time": "2021-12-01T18:39:37.749Z"
   },
   {
    "duration": 12,
    "start_time": "2021-12-01T18:39:37.976Z"
   },
   {
    "duration": 18,
    "start_time": "2021-12-01T18:39:37.989Z"
   },
   {
    "duration": 181,
    "start_time": "2021-12-01T18:39:38.009Z"
   },
   {
    "duration": 15,
    "start_time": "2021-12-01T18:39:38.192Z"
   },
   {
    "duration": 4,
    "start_time": "2021-12-01T18:39:38.209Z"
   },
   {
    "duration": 184,
    "start_time": "2021-12-01T18:39:38.215Z"
   },
   {
    "duration": 13,
    "start_time": "2021-12-01T18:39:38.401Z"
   },
   {
    "duration": 378,
    "start_time": "2021-12-01T18:39:38.416Z"
   },
   {
    "duration": 438,
    "start_time": "2021-12-01T18:40:14.054Z"
   },
   {
    "duration": 9,
    "start_time": "2021-12-01T18:40:19.135Z"
   },
   {
    "duration": 9,
    "start_time": "2021-12-01T18:40:44.002Z"
   },
   {
    "duration": 9,
    "start_time": "2021-12-01T18:42:40.327Z"
   },
   {
    "duration": 360,
    "start_time": "2021-12-01T18:42:41.460Z"
   },
   {
    "duration": 9,
    "start_time": "2021-12-01T18:43:01.106Z"
   },
   {
    "duration": 387,
    "start_time": "2021-12-01T18:45:46.895Z"
   },
   {
    "duration": 363,
    "start_time": "2021-12-01T18:46:22.915Z"
   },
   {
    "duration": 407,
    "start_time": "2021-12-01T18:47:54.896Z"
   },
   {
    "duration": 7,
    "start_time": "2021-12-01T18:48:40.141Z"
   },
   {
    "duration": 18,
    "start_time": "2021-12-01T18:48:47.240Z"
   },
   {
    "duration": 10,
    "start_time": "2021-12-01T18:49:42.799Z"
   },
   {
    "duration": 12,
    "start_time": "2021-12-01T18:51:07.169Z"
   },
   {
    "duration": 12,
    "start_time": "2021-12-01T18:51:14.089Z"
   },
   {
    "duration": 15,
    "start_time": "2021-12-01T18:51:30.344Z"
   },
   {
    "duration": 387,
    "start_time": "2021-12-01T18:54:09.138Z"
   },
   {
    "duration": 372,
    "start_time": "2021-12-01T18:54:13.794Z"
   },
   {
    "duration": 15,
    "start_time": "2021-12-01T19:00:52.160Z"
   },
   {
    "duration": 72,
    "start_time": "2021-12-01T19:01:12.600Z"
   },
   {
    "duration": 42,
    "start_time": "2021-12-01T19:02:30.097Z"
   },
   {
    "duration": 7,
    "start_time": "2021-12-01T19:02:33.141Z"
   },
   {
    "duration": 16,
    "start_time": "2021-12-01T19:03:13.325Z"
   },
   {
    "duration": 10,
    "start_time": "2021-12-01T19:03:20.119Z"
   },
   {
    "duration": 15,
    "start_time": "2021-12-01T19:03:51.194Z"
   },
   {
    "duration": 12,
    "start_time": "2021-12-01T19:04:18.942Z"
   },
   {
    "duration": 7,
    "start_time": "2021-12-01T19:04:26.543Z"
   },
   {
    "duration": 12,
    "start_time": "2021-12-01T19:04:43.564Z"
   },
   {
    "duration": 6,
    "start_time": "2021-12-01T19:04:53.286Z"
   },
   {
    "duration": 14,
    "start_time": "2021-12-01T19:05:12.467Z"
   },
   {
    "duration": 5,
    "start_time": "2021-12-01T19:05:21.632Z"
   },
   {
    "duration": 359,
    "start_time": "2021-12-01T19:07:08.083Z"
   },
   {
    "duration": 21,
    "start_time": "2021-12-01T19:07:17.593Z"
   },
   {
    "duration": 16,
    "start_time": "2021-12-01T19:08:17.634Z"
   },
   {
    "duration": 21,
    "start_time": "2021-12-01T19:08:25.497Z"
   },
   {
    "duration": 23,
    "start_time": "2021-12-01T19:09:17.116Z"
   },
   {
    "duration": 20,
    "start_time": "2021-12-01T19:09:25.677Z"
   },
   {
    "duration": 21,
    "start_time": "2021-12-01T19:17:11.656Z"
   },
   {
    "duration": 4,
    "start_time": "2021-12-01T19:17:21.239Z"
   },
   {
    "duration": 98,
    "start_time": "2021-12-01T19:17:21.244Z"
   },
   {
    "duration": 29,
    "start_time": "2021-12-01T19:17:21.344Z"
   },
   {
    "duration": 35,
    "start_time": "2021-12-01T19:17:21.375Z"
   },
   {
    "duration": 72,
    "start_time": "2021-12-01T19:17:21.413Z"
   },
   {
    "duration": 25,
    "start_time": "2021-12-01T19:17:21.487Z"
   },
   {
    "duration": 17,
    "start_time": "2021-12-01T19:17:21.515Z"
   },
   {
    "duration": 9,
    "start_time": "2021-12-01T19:17:21.534Z"
   },
   {
    "duration": 9,
    "start_time": "2021-12-01T19:17:21.545Z"
   },
   {
    "duration": 9,
    "start_time": "2021-12-01T19:17:21.555Z"
   },
   {
    "duration": 17,
    "start_time": "2021-12-01T19:17:21.566Z"
   },
   {
    "duration": 28,
    "start_time": "2021-12-01T19:17:21.585Z"
   },
   {
    "duration": 8,
    "start_time": "2021-12-01T19:17:21.615Z"
   },
   {
    "duration": 19,
    "start_time": "2021-12-01T19:17:21.624Z"
   },
   {
    "duration": 14,
    "start_time": "2021-12-01T19:17:21.645Z"
   },
   {
    "duration": 17,
    "start_time": "2021-12-01T19:17:21.661Z"
   },
   {
    "duration": 28,
    "start_time": "2021-12-01T19:17:21.679Z"
   },
   {
    "duration": 576,
    "start_time": "2021-12-01T19:17:21.710Z"
   },
   {
    "duration": 6,
    "start_time": "2021-12-01T19:17:22.290Z"
   },
   {
    "duration": 23,
    "start_time": "2021-12-01T19:17:22.306Z"
   },
   {
    "duration": 7,
    "start_time": "2021-12-01T19:17:22.330Z"
   },
   {
    "duration": 10,
    "start_time": "2021-12-01T19:17:22.339Z"
   },
   {
    "duration": 1250,
    "start_time": "2021-12-01T19:17:22.351Z"
   },
   {
    "duration": 333,
    "start_time": "2021-12-01T19:17:23.606Z"
   },
   {
    "duration": 5,
    "start_time": "2021-12-01T19:17:23.941Z"
   },
   {
    "duration": 243,
    "start_time": "2021-12-01T19:17:23.948Z"
   },
   {
    "duration": 48,
    "start_time": "2021-12-01T19:17:24.193Z"
   },
   {
    "duration": 6,
    "start_time": "2021-12-01T19:17:24.243Z"
   },
   {
    "duration": 15,
    "start_time": "2021-12-01T19:17:24.250Z"
   },
   {
    "duration": 8,
    "start_time": "2021-12-01T19:17:24.267Z"
   },
   {
    "duration": 37,
    "start_time": "2021-12-01T19:17:24.277Z"
   },
   {
    "duration": 129,
    "start_time": "2021-12-01T19:17:24.315Z"
   },
   {
    "duration": 10,
    "start_time": "2021-12-01T19:17:24.445Z"
   },
   {
    "duration": 6,
    "start_time": "2021-12-01T19:17:24.457Z"
   },
   {
    "duration": 172,
    "start_time": "2021-12-01T19:17:24.464Z"
   },
   {
    "duration": 10,
    "start_time": "2021-12-01T19:17:24.638Z"
   },
   {
    "duration": 5,
    "start_time": "2021-12-01T19:17:24.649Z"
   },
   {
    "duration": 186,
    "start_time": "2021-12-01T19:17:24.656Z"
   },
   {
    "duration": 11,
    "start_time": "2021-12-01T19:17:24.844Z"
   },
   {
    "duration": 5,
    "start_time": "2021-12-01T19:17:24.856Z"
   },
   {
    "duration": 169,
    "start_time": "2021-12-01T19:17:24.862Z"
   },
   {
    "duration": 20,
    "start_time": "2021-12-01T19:17:25.033Z"
   },
   {
    "duration": 15,
    "start_time": "2021-12-01T19:17:25.055Z"
   },
   {
    "duration": 1262,
    "start_time": "2021-12-01T19:17:25.072Z"
   },
   {
    "duration": 3,
    "start_time": "2021-12-01T19:17:47.302Z"
   },
   {
    "duration": 92,
    "start_time": "2021-12-01T19:17:47.316Z"
   },
   {
    "duration": 25,
    "start_time": "2021-12-01T19:17:47.410Z"
   },
   {
    "duration": 10,
    "start_time": "2021-12-01T19:17:47.438Z"
   },
   {
    "duration": 110,
    "start_time": "2021-12-01T19:17:47.450Z"
   },
   {
    "duration": 9,
    "start_time": "2021-12-01T19:17:47.562Z"
   },
   {
    "duration": 7,
    "start_time": "2021-12-01T19:17:47.572Z"
   },
   {
    "duration": 26,
    "start_time": "2021-12-01T19:17:47.581Z"
   },
   {
    "duration": 7,
    "start_time": "2021-12-01T19:17:47.609Z"
   },
   {
    "duration": 14,
    "start_time": "2021-12-01T19:17:47.619Z"
   },
   {
    "duration": 13,
    "start_time": "2021-12-01T19:17:47.635Z"
   },
   {
    "duration": 9,
    "start_time": "2021-12-01T19:17:47.650Z"
   },
   {
    "duration": 20,
    "start_time": "2021-12-01T19:17:47.661Z"
   },
   {
    "duration": 34,
    "start_time": "2021-12-01T19:17:47.683Z"
   },
   {
    "duration": 12,
    "start_time": "2021-12-01T19:17:47.718Z"
   },
   {
    "duration": 22,
    "start_time": "2021-12-01T19:17:47.731Z"
   },
   {
    "duration": 4,
    "start_time": "2021-12-01T19:17:47.755Z"
   },
   {
    "duration": 631,
    "start_time": "2021-12-01T19:17:47.761Z"
   },
   {
    "duration": 12,
    "start_time": "2021-12-01T19:17:48.394Z"
   },
   {
    "duration": 27,
    "start_time": "2021-12-01T19:17:48.408Z"
   },
   {
    "duration": 6,
    "start_time": "2021-12-01T19:17:48.437Z"
   },
   {
    "duration": 15,
    "start_time": "2021-12-01T19:17:48.445Z"
   },
   {
    "duration": 1321,
    "start_time": "2021-12-01T19:17:48.462Z"
   },
   {
    "duration": 336,
    "start_time": "2021-12-01T19:17:49.785Z"
   },
   {
    "duration": 6,
    "start_time": "2021-12-01T19:17:50.123Z"
   },
   {
    "duration": 158,
    "start_time": "2021-12-01T19:17:50.130Z"
   },
   {
    "duration": 42,
    "start_time": "2021-12-01T19:17:50.289Z"
   },
   {
    "duration": 5,
    "start_time": "2021-12-01T19:17:50.335Z"
   },
   {
    "duration": 14,
    "start_time": "2021-12-01T19:17:50.342Z"
   },
   {
    "duration": 11,
    "start_time": "2021-12-01T19:17:50.358Z"
   },
   {
    "duration": 14,
    "start_time": "2021-12-01T19:17:50.370Z"
   },
   {
    "duration": 133,
    "start_time": "2021-12-01T19:17:50.407Z"
   },
   {
    "duration": 10,
    "start_time": "2021-12-01T19:17:50.542Z"
   },
   {
    "duration": 12,
    "start_time": "2021-12-01T19:17:50.553Z"
   },
   {
    "duration": 166,
    "start_time": "2021-12-01T19:17:50.567Z"
   },
   {
    "duration": 11,
    "start_time": "2021-12-01T19:17:50.734Z"
   },
   {
    "duration": 15,
    "start_time": "2021-12-01T19:17:50.746Z"
   },
   {
    "duration": 180,
    "start_time": "2021-12-01T19:17:50.763Z"
   },
   {
    "duration": 11,
    "start_time": "2021-12-01T19:17:50.944Z"
   },
   {
    "duration": 4,
    "start_time": "2021-12-01T19:17:50.957Z"
   },
   {
    "duration": 183,
    "start_time": "2021-12-01T19:17:50.963Z"
   },
   {
    "duration": 22,
    "start_time": "2021-12-01T19:17:51.147Z"
   },
   {
    "duration": 37,
    "start_time": "2021-12-01T19:17:51.171Z"
   },
   {
    "duration": 1340,
    "start_time": "2021-12-01T19:17:51.211Z"
   },
   {
    "duration": 8,
    "start_time": "2021-12-01T19:24:51.796Z"
   },
   {
    "duration": -8,
    "start_time": "2021-12-01T19:25:51.451Z"
   },
   {
    "duration": 10627,
    "start_time": "2021-12-01T19:26:10.376Z"
   },
   {
    "duration": 8,
    "start_time": "2021-12-01T19:27:01.181Z"
   },
   {
    "duration": 8,
    "start_time": "2021-12-01T19:31:10.776Z"
   },
   {
    "duration": 7,
    "start_time": "2021-12-01T19:31:38.204Z"
   },
   {
    "duration": 3,
    "start_time": "2021-12-01T19:32:35.752Z"
   },
   {
    "duration": 66,
    "start_time": "2021-12-01T19:32:35.763Z"
   },
   {
    "duration": 24,
    "start_time": "2021-12-01T19:32:35.831Z"
   },
   {
    "duration": 10,
    "start_time": "2021-12-01T19:32:35.857Z"
   },
   {
    "duration": 86,
    "start_time": "2021-12-01T19:32:35.869Z"
   },
   {
    "duration": 8,
    "start_time": "2021-12-01T19:32:35.957Z"
   },
   {
    "duration": 6,
    "start_time": "2021-12-01T19:32:35.967Z"
   },
   {
    "duration": 15,
    "start_time": "2021-12-01T19:32:35.974Z"
   },
   {
    "duration": 6,
    "start_time": "2021-12-01T19:32:36.008Z"
   },
   {
    "duration": 7,
    "start_time": "2021-12-01T19:32:36.015Z"
   },
   {
    "duration": 13,
    "start_time": "2021-12-01T19:32:36.024Z"
   },
   {
    "duration": 10,
    "start_time": "2021-12-01T19:32:36.039Z"
   },
   {
    "duration": 11,
    "start_time": "2021-12-01T19:32:36.051Z"
   },
   {
    "duration": 51,
    "start_time": "2021-12-01T19:32:36.064Z"
   },
   {
    "duration": 9,
    "start_time": "2021-12-01T19:32:36.116Z"
   },
   {
    "duration": 16,
    "start_time": "2021-12-01T19:32:36.126Z"
   },
   {
    "duration": 3,
    "start_time": "2021-12-01T19:32:36.144Z"
   },
   {
    "duration": 566,
    "start_time": "2021-12-01T19:32:36.148Z"
   },
   {
    "duration": 5,
    "start_time": "2021-12-01T19:32:36.716Z"
   },
   {
    "duration": 24,
    "start_time": "2021-12-01T19:32:36.722Z"
   },
   {
    "duration": 6,
    "start_time": "2021-12-01T19:32:36.748Z"
   },
   {
    "duration": 9,
    "start_time": "2021-12-01T19:32:36.756Z"
   },
   {
    "duration": 1382,
    "start_time": "2021-12-01T19:32:36.767Z"
   },
   {
    "duration": 323,
    "start_time": "2021-12-01T19:32:38.152Z"
   },
   {
    "duration": 5,
    "start_time": "2021-12-01T19:32:38.477Z"
   },
   {
    "duration": 150,
    "start_time": "2021-12-01T19:32:38.484Z"
   },
   {
    "duration": 37,
    "start_time": "2021-12-01T19:32:38.636Z"
   },
   {
    "duration": 6,
    "start_time": "2021-12-01T19:32:38.675Z"
   },
   {
    "duration": 34,
    "start_time": "2021-12-01T19:32:38.682Z"
   },
   {
    "duration": 9,
    "start_time": "2021-12-01T19:32:38.717Z"
   },
   {
    "duration": 26,
    "start_time": "2021-12-01T19:32:38.727Z"
   },
   {
    "duration": 127,
    "start_time": "2021-12-01T19:32:38.754Z"
   },
   {
    "duration": 23,
    "start_time": "2021-12-01T19:32:38.883Z"
   },
   {
    "duration": 7,
    "start_time": "2021-12-01T19:32:38.908Z"
   },
   {
    "duration": 168,
    "start_time": "2021-12-01T19:32:38.917Z"
   },
   {
    "duration": 21,
    "start_time": "2021-12-01T19:32:39.087Z"
   },
   {
    "duration": 7,
    "start_time": "2021-12-01T19:32:39.110Z"
   },
   {
    "duration": 183,
    "start_time": "2021-12-01T19:32:39.118Z"
   },
   {
    "duration": 12,
    "start_time": "2021-12-01T19:32:39.306Z"
   },
   {
    "duration": 5,
    "start_time": "2021-12-01T19:32:39.320Z"
   },
   {
    "duration": 172,
    "start_time": "2021-12-01T19:32:39.327Z"
   },
   {
    "duration": 20,
    "start_time": "2021-12-01T19:32:39.506Z"
   },
   {
    "duration": 6,
    "start_time": "2021-12-01T19:32:39.527Z"
   },
   {
    "duration": 9,
    "start_time": "2021-12-01T19:32:39.535Z"
   },
   {
    "duration": 396,
    "start_time": "2021-12-02T05:19:13.202Z"
   },
   {
    "duration": 715,
    "start_time": "2021-12-02T05:19:18.586Z"
   },
   {
    "duration": 69,
    "start_time": "2021-12-02T05:19:19.303Z"
   },
   {
    "duration": 28,
    "start_time": "2021-12-02T05:19:19.374Z"
   },
   {
    "duration": 10,
    "start_time": "2021-12-02T05:19:19.403Z"
   },
   {
    "duration": 66,
    "start_time": "2021-12-02T05:19:19.415Z"
   },
   {
    "duration": 29,
    "start_time": "2021-12-02T05:19:19.483Z"
   },
   {
    "duration": 6,
    "start_time": "2021-12-02T05:19:19.514Z"
   },
   {
    "duration": 6,
    "start_time": "2021-12-02T05:19:19.522Z"
   },
   {
    "duration": 5,
    "start_time": "2021-12-02T05:19:19.530Z"
   },
   {
    "duration": 5,
    "start_time": "2021-12-02T05:19:19.537Z"
   },
   {
    "duration": 12,
    "start_time": "2021-12-02T05:19:19.543Z"
   },
   {
    "duration": 10,
    "start_time": "2021-12-02T05:19:19.556Z"
   },
   {
    "duration": 44,
    "start_time": "2021-12-02T05:19:19.568Z"
   },
   {
    "duration": 12,
    "start_time": "2021-12-02T05:19:19.614Z"
   },
   {
    "duration": 14,
    "start_time": "2021-12-02T05:19:19.628Z"
   },
   {
    "duration": 15,
    "start_time": "2021-12-02T05:19:19.643Z"
   },
   {
    "duration": 3,
    "start_time": "2021-12-02T05:19:19.659Z"
   },
   {
    "duration": 573,
    "start_time": "2021-12-02T05:19:19.663Z"
   },
   {
    "duration": 5,
    "start_time": "2021-12-02T05:19:20.238Z"
   },
   {
    "duration": 31,
    "start_time": "2021-12-02T05:19:20.245Z"
   },
   {
    "duration": 7,
    "start_time": "2021-12-02T05:19:20.277Z"
   },
   {
    "duration": 22,
    "start_time": "2021-12-02T05:19:20.285Z"
   },
   {
    "duration": 1308,
    "start_time": "2021-12-02T05:19:20.310Z"
   },
   {
    "duration": 332,
    "start_time": "2021-12-02T05:19:21.620Z"
   },
   {
    "duration": 6,
    "start_time": "2021-12-02T05:19:21.954Z"
   },
   {
    "duration": 159,
    "start_time": "2021-12-02T05:19:21.962Z"
   },
   {
    "duration": 40,
    "start_time": "2021-12-02T05:19:22.123Z"
   },
   {
    "duration": 6,
    "start_time": "2021-12-02T05:19:22.165Z"
   },
   {
    "duration": 34,
    "start_time": "2021-12-02T05:19:22.173Z"
   },
   {
    "duration": 10,
    "start_time": "2021-12-02T05:19:22.209Z"
   },
   {
    "duration": 10,
    "start_time": "2021-12-02T05:19:22.220Z"
   },
   {
    "duration": 147,
    "start_time": "2021-12-02T05:19:22.232Z"
   },
   {
    "duration": 11,
    "start_time": "2021-12-02T05:19:22.380Z"
   },
   {
    "duration": 14,
    "start_time": "2021-12-02T05:19:22.393Z"
   },
   {
    "duration": 162,
    "start_time": "2021-12-02T05:19:22.409Z"
   },
   {
    "duration": 11,
    "start_time": "2021-12-02T05:19:22.573Z"
   },
   {
    "duration": 22,
    "start_time": "2021-12-02T05:19:22.586Z"
   },
   {
    "duration": 173,
    "start_time": "2021-12-02T05:19:22.610Z"
   },
   {
    "duration": 10,
    "start_time": "2021-12-02T05:19:22.785Z"
   },
   {
    "duration": 13,
    "start_time": "2021-12-02T05:19:22.796Z"
   },
   {
    "duration": 159,
    "start_time": "2021-12-02T05:19:22.811Z"
   },
   {
    "duration": 21,
    "start_time": "2021-12-02T05:19:22.971Z"
   },
   {
    "duration": 19,
    "start_time": "2021-12-02T05:19:22.993Z"
   },
   {
    "duration": 89,
    "start_time": "2021-12-02T05:19:23.013Z"
   },
   {
    "duration": 6,
    "start_time": "2021-12-02T05:19:23.104Z"
   },
   {
    "duration": 394,
    "start_time": "2021-12-02T05:42:26.981Z"
   },
   {
    "duration": 376,
    "start_time": "2021-12-02T05:43:03.190Z"
   },
   {
    "duration": 5,
    "start_time": "2021-12-02T05:43:48.497Z"
   },
   {
    "duration": 11,
    "start_time": "2021-12-02T05:47:59.961Z"
   },
   {
    "duration": 43,
    "start_time": "2021-12-02T05:48:06.286Z"
   },
   {
    "duration": 39,
    "start_time": "2021-12-02T05:48:34.430Z"
   },
   {
    "duration": 5,
    "start_time": "2021-12-02T05:51:20.107Z"
   },
   {
    "duration": 37,
    "start_time": "2021-12-02T05:51:30.057Z"
   },
   {
    "duration": 375,
    "start_time": "2021-12-02T05:52:12.723Z"
   },
   {
    "duration": 5,
    "start_time": "2021-12-02T06:01:58.165Z"
   },
   {
    "duration": 380,
    "start_time": "2021-12-02T06:03:24.916Z"
   },
   {
    "duration": 9,
    "start_time": "2021-12-02T06:03:37.110Z"
   },
   {
    "duration": 7,
    "start_time": "2021-12-02T06:04:16.021Z"
   },
   {
    "duration": 4,
    "start_time": "2021-12-02T06:20:36.300Z"
   },
   {
    "duration": 5,
    "start_time": "2021-12-02T06:20:41.648Z"
   },
   {
    "duration": 8,
    "start_time": "2021-12-02T06:20:47.468Z"
   },
   {
    "duration": 507,
    "start_time": "2021-12-02T06:33:40.667Z"
   },
   {
    "duration": 17,
    "start_time": "2021-12-02T06:34:31.768Z"
   },
   {
    "duration": 3,
    "start_time": "2021-12-02T06:38:25.329Z"
   },
   {
    "duration": 74,
    "start_time": "2021-12-02T06:38:25.334Z"
   },
   {
    "duration": 30,
    "start_time": "2021-12-02T06:38:25.412Z"
   },
   {
    "duration": 12,
    "start_time": "2021-12-02T06:38:25.444Z"
   },
   {
    "duration": 104,
    "start_time": "2021-12-02T06:38:25.458Z"
   },
   {
    "duration": 9,
    "start_time": "2021-12-02T06:38:25.563Z"
   },
   {
    "duration": 7,
    "start_time": "2021-12-02T06:38:25.573Z"
   },
   {
    "duration": 8,
    "start_time": "2021-12-02T06:38:25.581Z"
   },
   {
    "duration": 22,
    "start_time": "2021-12-02T06:38:25.591Z"
   },
   {
    "duration": 8,
    "start_time": "2021-12-02T06:38:25.617Z"
   },
   {
    "duration": 11,
    "start_time": "2021-12-02T06:38:25.626Z"
   },
   {
    "duration": 8,
    "start_time": "2021-12-02T06:38:25.638Z"
   },
   {
    "duration": 7,
    "start_time": "2021-12-02T06:38:25.648Z"
   },
   {
    "duration": 50,
    "start_time": "2021-12-02T06:38:25.657Z"
   },
   {
    "duration": 11,
    "start_time": "2021-12-02T06:38:25.710Z"
   },
   {
    "duration": 13,
    "start_time": "2021-12-02T06:38:25.723Z"
   },
   {
    "duration": 3,
    "start_time": "2021-12-02T06:38:25.738Z"
   },
   {
    "duration": 654,
    "start_time": "2021-12-02T06:38:25.742Z"
   },
   {
    "duration": 11,
    "start_time": "2021-12-02T06:38:26.398Z"
   },
   {
    "duration": 33,
    "start_time": "2021-12-02T06:38:26.411Z"
   },
   {
    "duration": 6,
    "start_time": "2021-12-02T06:38:26.446Z"
   },
   {
    "duration": 15,
    "start_time": "2021-12-02T06:38:26.454Z"
   },
   {
    "duration": 1364,
    "start_time": "2021-12-02T06:38:26.471Z"
   },
   {
    "duration": 371,
    "start_time": "2021-12-02T06:38:27.838Z"
   },
   {
    "duration": 14,
    "start_time": "2021-12-02T06:38:28.212Z"
   },
   {
    "duration": 167,
    "start_time": "2021-12-02T06:38:28.228Z"
   },
   {
    "duration": 56,
    "start_time": "2021-12-02T06:38:28.399Z"
   },
   {
    "duration": 6,
    "start_time": "2021-12-02T06:38:28.457Z"
   },
   {
    "duration": 19,
    "start_time": "2021-12-02T06:38:28.464Z"
   },
   {
    "duration": 32,
    "start_time": "2021-12-02T06:38:28.485Z"
   },
   {
    "duration": 13,
    "start_time": "2021-12-02T06:38:28.520Z"
   },
   {
    "duration": 147,
    "start_time": "2021-12-02T06:38:28.535Z"
   },
   {
    "duration": 10,
    "start_time": "2021-12-02T06:38:28.684Z"
   },
   {
    "duration": 19,
    "start_time": "2021-12-02T06:38:28.695Z"
   },
   {
    "duration": 271,
    "start_time": "2021-12-02T06:38:28.716Z"
   },
   {
    "duration": 21,
    "start_time": "2021-12-02T06:38:28.988Z"
   },
   {
    "duration": 10,
    "start_time": "2021-12-02T06:38:29.012Z"
   },
   {
    "duration": 203,
    "start_time": "2021-12-02T06:38:29.025Z"
   },
   {
    "duration": 11,
    "start_time": "2021-12-02T06:38:29.229Z"
   },
   {
    "duration": 5,
    "start_time": "2021-12-02T06:38:29.241Z"
   },
   {
    "duration": 191,
    "start_time": "2021-12-02T06:38:29.247Z"
   },
   {
    "duration": 21,
    "start_time": "2021-12-02T06:38:29.440Z"
   },
   {
    "duration": 6,
    "start_time": "2021-12-02T06:38:29.462Z"
   },
   {
    "duration": 41,
    "start_time": "2021-12-02T06:38:29.470Z"
   },
   {
    "duration": 10,
    "start_time": "2021-12-02T06:38:29.514Z"
   },
   {
    "duration": 38,
    "start_time": "2021-12-02T06:38:29.526Z"
   },
   {
    "duration": 5,
    "start_time": "2021-12-02T06:38:29.566Z"
   },
   {
    "duration": 55,
    "start_time": "2021-12-02T06:38:29.572Z"
   },
   {
    "duration": 18,
    "start_time": "2021-12-02T06:39:41.978Z"
   },
   {
    "duration": -197,
    "start_time": "2021-12-02T06:53:58.162Z"
   },
   {
    "duration": -208,
    "start_time": "2021-12-02T06:53:58.175Z"
   },
   {
    "duration": -218,
    "start_time": "2021-12-02T06:53:58.186Z"
   },
   {
    "duration": -226,
    "start_time": "2021-12-02T06:53:58.195Z"
   },
   {
    "duration": -236,
    "start_time": "2021-12-02T06:53:58.206Z"
   },
   {
    "duration": -242,
    "start_time": "2021-12-02T06:53:58.213Z"
   },
   {
    "duration": -251,
    "start_time": "2021-12-02T06:53:58.223Z"
   },
   {
    "duration": -272,
    "start_time": "2021-12-02T06:53:58.245Z"
   },
   {
    "duration": -279,
    "start_time": "2021-12-02T06:53:58.253Z"
   },
   {
    "duration": -285,
    "start_time": "2021-12-02T06:53:58.260Z"
   },
   {
    "duration": -289,
    "start_time": "2021-12-02T06:53:58.265Z"
   },
   {
    "duration": -291,
    "start_time": "2021-12-02T06:53:58.269Z"
   },
   {
    "duration": -297,
    "start_time": "2021-12-02T06:53:58.276Z"
   },
   {
    "duration": -301,
    "start_time": "2021-12-02T06:53:58.281Z"
   },
   {
    "duration": -308,
    "start_time": "2021-12-02T06:53:58.289Z"
   },
   {
    "duration": -357,
    "start_time": "2021-12-02T06:53:58.339Z"
   },
   {
    "duration": -375,
    "start_time": "2021-12-02T06:53:58.358Z"
   },
   {
    "duration": -379,
    "start_time": "2021-12-02T06:53:58.363Z"
   },
   {
    "duration": -386,
    "start_time": "2021-12-02T06:53:58.371Z"
   },
   {
    "duration": -388,
    "start_time": "2021-12-02T06:53:58.374Z"
   },
   {
    "duration": -392,
    "start_time": "2021-12-02T06:53:58.380Z"
   },
   {
    "duration": -398,
    "start_time": "2021-12-02T06:53:58.387Z"
   },
   {
    "duration": -404,
    "start_time": "2021-12-02T06:53:58.394Z"
   },
   {
    "duration": -409,
    "start_time": "2021-12-02T06:53:58.400Z"
   },
   {
    "duration": -426,
    "start_time": "2021-12-02T06:53:58.418Z"
   },
   {
    "duration": -429,
    "start_time": "2021-12-02T06:53:58.422Z"
   },
   {
    "duration": -432,
    "start_time": "2021-12-02T06:53:58.426Z"
   },
   {
    "duration": -435,
    "start_time": "2021-12-02T06:53:58.430Z"
   },
   {
    "duration": -444,
    "start_time": "2021-12-02T06:53:58.440Z"
   },
   {
    "duration": -446,
    "start_time": "2021-12-02T06:53:58.444Z"
   },
   {
    "duration": -449,
    "start_time": "2021-12-02T06:53:58.448Z"
   },
   {
    "duration": -456,
    "start_time": "2021-12-02T06:53:58.456Z"
   },
   {
    "duration": -460,
    "start_time": "2021-12-02T06:53:58.461Z"
   },
   {
    "duration": -463,
    "start_time": "2021-12-02T06:53:58.465Z"
   },
   {
    "duration": -472,
    "start_time": "2021-12-02T06:53:58.475Z"
   },
   {
    "duration": -474,
    "start_time": "2021-12-02T06:53:58.478Z"
   },
   {
    "duration": -477,
    "start_time": "2021-12-02T06:53:58.482Z"
   },
   {
    "duration": -485,
    "start_time": "2021-12-02T06:53:58.491Z"
   },
   {
    "duration": -486,
    "start_time": "2021-12-02T06:53:58.494Z"
   },
   {
    "duration": -489,
    "start_time": "2021-12-02T06:53:58.498Z"
   },
   {
    "duration": -496,
    "start_time": "2021-12-02T06:53:58.507Z"
   },
   {
    "duration": -496,
    "start_time": "2021-12-02T06:53:58.511Z"
   },
   {
    "duration": -498,
    "start_time": "2021-12-02T06:53:58.515Z"
   },
   {
    "duration": -501,
    "start_time": "2021-12-02T06:53:58.520Z"
   },
   {
    "duration": -503,
    "start_time": "2021-12-02T06:53:58.523Z"
   },
   {
    "duration": -504,
    "start_time": "2021-12-02T06:53:58.526Z"
   },
   {
    "duration": -506,
    "start_time": "2021-12-02T06:53:58.529Z"
   },
   {
    "duration": -509,
    "start_time": "2021-12-02T06:53:58.533Z"
   },
   {
    "duration": -511,
    "start_time": "2021-12-02T06:53:58.537Z"
   },
   {
    "duration": 3,
    "start_time": "2021-12-02T06:54:10.940Z"
   },
   {
    "duration": 105,
    "start_time": "2021-12-02T06:54:10.946Z"
   },
   {
    "duration": 56,
    "start_time": "2021-12-02T06:54:11.053Z"
   },
   {
    "duration": 17,
    "start_time": "2021-12-02T06:54:11.112Z"
   },
   {
    "duration": 111,
    "start_time": "2021-12-02T06:54:11.131Z"
   },
   {
    "duration": 10,
    "start_time": "2021-12-02T06:54:11.245Z"
   },
   {
    "duration": 8,
    "start_time": "2021-12-02T06:54:11.259Z"
   },
   {
    "duration": 7,
    "start_time": "2021-12-02T06:54:11.269Z"
   },
   {
    "duration": 36,
    "start_time": "2021-12-02T06:54:11.278Z"
   },
   {
    "duration": 7,
    "start_time": "2021-12-02T06:54:11.318Z"
   },
   {
    "duration": 11,
    "start_time": "2021-12-02T06:54:11.327Z"
   },
   {
    "duration": 8,
    "start_time": "2021-12-02T06:54:11.340Z"
   },
   {
    "duration": 8,
    "start_time": "2021-12-02T06:54:11.350Z"
   },
   {
    "duration": 50,
    "start_time": "2021-12-02T06:54:11.360Z"
   },
   {
    "duration": 12,
    "start_time": "2021-12-02T06:54:11.413Z"
   },
   {
    "duration": 13,
    "start_time": "2021-12-02T06:54:11.427Z"
   },
   {
    "duration": 3,
    "start_time": "2021-12-02T06:54:11.442Z"
   },
   {
    "duration": 695,
    "start_time": "2021-12-02T06:54:11.447Z"
   },
   {
    "duration": 6,
    "start_time": "2021-12-02T06:54:12.146Z"
   },
   {
    "duration": 27,
    "start_time": "2021-12-02T06:54:12.154Z"
   },
   {
    "duration": 25,
    "start_time": "2021-12-02T06:54:12.183Z"
   },
   {
    "duration": 14,
    "start_time": "2021-12-02T06:54:12.212Z"
   },
   {
    "duration": 1615,
    "start_time": "2021-12-02T06:54:12.228Z"
   },
   {
    "duration": 465,
    "start_time": "2021-12-02T06:54:13.844Z"
   },
   {
    "duration": 8,
    "start_time": "2021-12-02T06:54:14.311Z"
   },
   {
    "duration": 281,
    "start_time": "2021-12-02T06:54:14.322Z"
   },
   {
    "duration": 45,
    "start_time": "2021-12-02T06:54:14.606Z"
   },
   {
    "duration": 6,
    "start_time": "2021-12-02T06:54:14.653Z"
   },
   {
    "duration": 17,
    "start_time": "2021-12-02T06:54:14.661Z"
   },
   {
    "duration": 32,
    "start_time": "2021-12-02T06:54:14.679Z"
   },
   {
    "duration": 15,
    "start_time": "2021-12-02T06:54:14.713Z"
   },
   {
    "duration": 158,
    "start_time": "2021-12-02T06:54:14.729Z"
   },
   {
    "duration": 25,
    "start_time": "2021-12-02T06:54:14.889Z"
   },
   {
    "duration": 9,
    "start_time": "2021-12-02T06:54:14.916Z"
   },
   {
    "duration": 200,
    "start_time": "2021-12-02T06:54:14.927Z"
   },
   {
    "duration": 11,
    "start_time": "2021-12-02T06:54:15.129Z"
   },
   {
    "duration": 7,
    "start_time": "2021-12-02T06:54:15.142Z"
   },
   {
    "duration": 202,
    "start_time": "2021-12-02T06:54:15.150Z"
   },
   {
    "duration": 12,
    "start_time": "2021-12-02T06:54:15.355Z"
   },
   {
    "duration": 6,
    "start_time": "2021-12-02T06:54:15.369Z"
   },
   {
    "duration": 205,
    "start_time": "2021-12-02T06:54:15.377Z"
   },
   {
    "duration": 43,
    "start_time": "2021-12-02T06:54:15.584Z"
   },
   {
    "duration": 8,
    "start_time": "2021-12-02T06:54:15.629Z"
   },
   {
    "duration": 22,
    "start_time": "2021-12-02T06:54:15.639Z"
   },
   {
    "duration": 7,
    "start_time": "2021-12-02T06:54:15.663Z"
   },
   {
    "duration": 65,
    "start_time": "2021-12-02T06:54:15.672Z"
   },
   {
    "duration": 6,
    "start_time": "2021-12-02T06:54:15.739Z"
   },
   {
    "duration": 18,
    "start_time": "2021-12-02T06:54:15.747Z"
   },
   {
    "duration": 13801,
    "start_time": "2021-12-02T06:54:15.766Z"
   },
   {
    "duration": 234,
    "start_time": "2021-12-02T06:55:33.948Z"
   },
   {
    "duration": 267,
    "start_time": "2021-12-02T06:56:53.926Z"
   },
   {
    "duration": 263,
    "start_time": "2021-12-02T06:57:18.121Z"
   },
   {
    "duration": 253,
    "start_time": "2021-12-02T06:57:23.836Z"
   },
   {
    "duration": 277,
    "start_time": "2021-12-02T06:57:32.487Z"
   },
   {
    "duration": 3425,
    "start_time": "2021-12-02T06:58:23.904Z"
   },
   {
    "duration": 296,
    "start_time": "2021-12-02T06:58:48.576Z"
   },
   {
    "duration": 311,
    "start_time": "2021-12-02T06:59:00.962Z"
   },
   {
    "duration": 295,
    "start_time": "2021-12-02T06:59:04.965Z"
   },
   {
    "duration": 275,
    "start_time": "2021-12-02T06:59:12.030Z"
   },
   {
    "duration": 134,
    "start_time": "2021-12-02T06:59:49.990Z"
   },
   {
    "duration": 291,
    "start_time": "2021-12-02T06:59:55.404Z"
   },
   {
    "duration": 305,
    "start_time": "2021-12-02T07:00:03.477Z"
   },
   {
    "duration": 405,
    "start_time": "2021-12-02T07:00:10.385Z"
   },
   {
    "duration": -198,
    "start_time": "2021-12-02T07:08:36.963Z"
   },
   {
    "duration": 3,
    "start_time": "2021-12-02T07:09:17.137Z"
   },
   {
    "duration": 95,
    "start_time": "2021-12-02T07:09:17.142Z"
   },
   {
    "duration": 26,
    "start_time": "2021-12-02T07:09:17.240Z"
   },
   {
    "duration": 11,
    "start_time": "2021-12-02T07:09:17.269Z"
   },
   {
    "duration": 77,
    "start_time": "2021-12-02T07:09:17.308Z"
   },
   {
    "duration": 33,
    "start_time": "2021-12-02T07:09:17.387Z"
   },
   {
    "duration": 7,
    "start_time": "2021-12-02T07:09:17.423Z"
   },
   {
    "duration": 10,
    "start_time": "2021-12-02T07:09:17.432Z"
   },
   {
    "duration": 7,
    "start_time": "2021-12-02T07:09:17.444Z"
   },
   {
    "duration": 7,
    "start_time": "2021-12-02T07:09:17.453Z"
   },
   {
    "duration": 59,
    "start_time": "2021-12-02T07:09:17.462Z"
   },
   {
    "duration": 11,
    "start_time": "2021-12-02T07:09:17.523Z"
   },
   {
    "duration": 11,
    "start_time": "2021-12-02T07:09:17.536Z"
   },
   {
    "duration": 14,
    "start_time": "2021-12-02T07:09:17.549Z"
   },
   {
    "duration": 41,
    "start_time": "2021-12-02T07:09:17.566Z"
   },
   {
    "duration": 21,
    "start_time": "2021-12-02T07:09:17.610Z"
   },
   {
    "duration": 3,
    "start_time": "2021-12-02T07:09:17.633Z"
   },
   {
    "duration": 642,
    "start_time": "2021-12-02T07:09:17.638Z"
   },
   {
    "duration": 6,
    "start_time": "2021-12-02T07:09:18.285Z"
   },
   {
    "duration": 30,
    "start_time": "2021-12-02T07:09:18.306Z"
   },
   {
    "duration": 6,
    "start_time": "2021-12-02T07:09:18.338Z"
   },
   {
    "duration": 11,
    "start_time": "2021-12-02T07:09:18.346Z"
   },
   {
    "duration": 1365,
    "start_time": "2021-12-02T07:09:18.358Z"
   },
   {
    "duration": 377,
    "start_time": "2021-12-02T07:09:19.725Z"
   },
   {
    "duration": 8,
    "start_time": "2021-12-02T07:09:20.103Z"
   },
   {
    "duration": 175,
    "start_time": "2021-12-02T07:09:20.114Z"
   },
   {
    "duration": 184,
    "start_time": "2021-12-02T07:09:20.291Z"
   },
   {
    "duration": 6,
    "start_time": "2021-12-02T07:09:20.477Z"
   },
   {
    "duration": 38,
    "start_time": "2021-12-02T07:09:20.485Z"
   },
   {
    "duration": 26,
    "start_time": "2021-12-02T07:09:20.525Z"
   },
   {
    "duration": 23,
    "start_time": "2021-12-02T07:09:20.553Z"
   },
   {
    "duration": 140,
    "start_time": "2021-12-02T07:09:20.578Z"
   },
   {
    "duration": 11,
    "start_time": "2021-12-02T07:09:20.721Z"
   },
   {
    "duration": 8,
    "start_time": "2021-12-02T07:09:20.733Z"
   },
   {
    "duration": 195,
    "start_time": "2021-12-02T07:09:20.743Z"
   },
   {
    "duration": 12,
    "start_time": "2021-12-02T07:09:20.940Z"
   },
   {
    "duration": 12,
    "start_time": "2021-12-02T07:09:20.953Z"
   },
   {
    "duration": 213,
    "start_time": "2021-12-02T07:09:20.967Z"
   },
   {
    "duration": 14,
    "start_time": "2021-12-02T07:09:21.183Z"
   },
   {
    "duration": 6,
    "start_time": "2021-12-02T07:09:21.208Z"
   },
   {
    "duration": 239,
    "start_time": "2021-12-02T07:09:21.216Z"
   },
   {
    "duration": 21,
    "start_time": "2021-12-02T07:09:21.457Z"
   },
   {
    "duration": 8,
    "start_time": "2021-12-02T07:09:21.480Z"
   },
   {
    "duration": 51,
    "start_time": "2021-12-02T07:09:21.490Z"
   },
   {
    "duration": 10,
    "start_time": "2021-12-02T07:09:21.543Z"
   },
   {
    "duration": 39,
    "start_time": "2021-12-02T07:09:21.555Z"
   },
   {
    "duration": 8,
    "start_time": "2021-12-02T07:09:21.607Z"
   },
   {
    "duration": 24,
    "start_time": "2021-12-02T07:09:21.618Z"
   },
   {
    "duration": 10223,
    "start_time": "2021-12-02T07:09:21.644Z"
   },
   {
    "duration": -226,
    "start_time": "2021-12-02T07:09:32.096Z"
   },
   {
    "duration": 204,
    "start_time": "2021-12-02T07:12:12.558Z"
   },
   {
    "duration": 205,
    "start_time": "2021-12-02T07:13:20.055Z"
   },
   {
    "duration": 300,
    "start_time": "2021-12-02T07:17:24.436Z"
   },
   {
    "duration": 297,
    "start_time": "2021-12-02T07:18:20.784Z"
   },
   {
    "duration": 139,
    "start_time": "2021-12-02T07:23:58.543Z"
   },
   {
    "duration": 301,
    "start_time": "2021-12-02T07:24:14.088Z"
   },
   {
    "duration": 287,
    "start_time": "2021-12-02T07:24:50.318Z"
   },
   {
    "duration": 560,
    "start_time": "2021-12-02T07:52:12.611Z"
   },
   {
    "duration": 159,
    "start_time": "2021-12-02T07:52:23.677Z"
   },
   {
    "duration": 666,
    "start_time": "2021-12-02T07:53:01.813Z"
   },
   {
    "duration": 146,
    "start_time": "2021-12-02T08:10:35.474Z"
   },
   {
    "duration": 486,
    "start_time": "2021-12-02T08:12:48.228Z"
   },
   {
    "duration": 125,
    "start_time": "2021-12-02T08:13:07.440Z"
   },
   {
    "duration": 394,
    "start_time": "2021-12-02T08:22:55.931Z"
   },
   {
    "duration": 512,
    "start_time": "2021-12-02T08:23:02.567Z"
   },
   {
    "duration": 8,
    "start_time": "2021-12-02T08:27:05.255Z"
   },
   {
    "duration": 128,
    "start_time": "2021-12-02T08:27:19.336Z"
   },
   {
    "duration": 122,
    "start_time": "2021-12-02T08:27:30.134Z"
   },
   {
    "duration": 34,
    "start_time": "2021-12-02T08:27:37.091Z"
   },
   {
    "duration": 178,
    "start_time": "2021-12-02T08:32:42.510Z"
   },
   {
    "duration": 170,
    "start_time": "2021-12-02T08:33:06.543Z"
   },
   {
    "duration": 203,
    "start_time": "2021-12-02T08:34:12.482Z"
   },
   {
    "duration": 193,
    "start_time": "2021-12-02T08:35:00.899Z"
   },
   {
    "duration": 136,
    "start_time": "2021-12-02T08:35:38.498Z"
   },
   {
    "duration": 557,
    "start_time": "2021-12-02T08:36:20.350Z"
   },
   {
    "duration": 146,
    "start_time": "2021-12-02T08:36:26.468Z"
   },
   {
    "duration": 9,
    "start_time": "2021-12-02T08:40:58.532Z"
   },
   {
    "duration": 385,
    "start_time": "2021-12-02T08:49:37.555Z"
   },
   {
    "duration": 137,
    "start_time": "2021-12-02T08:49:53.960Z"
   },
   {
    "duration": 322,
    "start_time": "2021-12-02T08:50:47.359Z"
   },
   {
    "duration": 160,
    "start_time": "2021-12-02T08:50:54.005Z"
   },
   {
    "duration": 153,
    "start_time": "2021-12-02T08:50:59.363Z"
   },
   {
    "duration": 9,
    "start_time": "2021-12-02T09:26:46.079Z"
   },
   {
    "duration": 8,
    "start_time": "2021-12-02T09:26:50.581Z"
   },
   {
    "duration": 10,
    "start_time": "2021-12-02T09:27:01.785Z"
   },
   {
    "duration": 9,
    "start_time": "2021-12-02T09:38:16.581Z"
   },
   {
    "duration": 138,
    "start_time": "2021-12-02T09:40:23.748Z"
   },
   {
    "duration": 3,
    "start_time": "2021-12-02T09:44:28.493Z"
   },
   {
    "duration": 71,
    "start_time": "2021-12-02T09:44:28.498Z"
   },
   {
    "duration": 24,
    "start_time": "2021-12-02T09:44:28.571Z"
   },
   {
    "duration": 20,
    "start_time": "2021-12-02T09:44:28.597Z"
   },
   {
    "duration": 93,
    "start_time": "2021-12-02T09:44:28.619Z"
   },
   {
    "duration": 12,
    "start_time": "2021-12-02T09:44:28.715Z"
   },
   {
    "duration": 7,
    "start_time": "2021-12-02T09:44:28.729Z"
   },
   {
    "duration": 7,
    "start_time": "2021-12-02T09:44:28.738Z"
   },
   {
    "duration": 6,
    "start_time": "2021-12-02T09:44:28.747Z"
   },
   {
    "duration": 7,
    "start_time": "2021-12-02T09:44:28.755Z"
   },
   {
    "duration": 61,
    "start_time": "2021-12-02T09:44:28.763Z"
   },
   {
    "duration": 10,
    "start_time": "2021-12-02T09:44:28.826Z"
   },
   {
    "duration": 11,
    "start_time": "2021-12-02T09:44:28.838Z"
   },
   {
    "duration": 15,
    "start_time": "2021-12-02T09:44:28.852Z"
   },
   {
    "duration": 11,
    "start_time": "2021-12-02T09:44:28.869Z"
   },
   {
    "duration": 28,
    "start_time": "2021-12-02T09:44:28.906Z"
   },
   {
    "duration": 8,
    "start_time": "2021-12-02T09:44:28.935Z"
   },
   {
    "duration": 703,
    "start_time": "2021-12-02T09:44:28.944Z"
   },
   {
    "duration": 5,
    "start_time": "2021-12-02T09:44:29.649Z"
   },
   {
    "duration": 29,
    "start_time": "2021-12-02T09:44:29.656Z"
   },
   {
    "duration": 7,
    "start_time": "2021-12-02T09:44:29.687Z"
   },
   {
    "duration": 24,
    "start_time": "2021-12-02T09:44:29.695Z"
   },
   {
    "duration": 1387,
    "start_time": "2021-12-02T09:44:29.722Z"
   },
   {
    "duration": 347,
    "start_time": "2021-12-02T09:44:31.113Z"
   },
   {
    "duration": 7,
    "start_time": "2021-12-02T09:44:31.463Z"
   },
   {
    "duration": 179,
    "start_time": "2021-12-02T09:44:31.472Z"
   },
   {
    "duration": 38,
    "start_time": "2021-12-02T09:44:31.653Z"
   },
   {
    "duration": 34,
    "start_time": "2021-12-02T09:44:31.693Z"
   },
   {
    "duration": 45,
    "start_time": "2021-12-02T09:44:31.729Z"
   },
   {
    "duration": 48,
    "start_time": "2021-12-02T09:44:31.776Z"
   },
   {
    "duration": 18,
    "start_time": "2021-12-02T09:44:31.827Z"
   },
   {
    "duration": 196,
    "start_time": "2021-12-02T09:44:31.847Z"
   },
   {
    "duration": 13,
    "start_time": "2021-12-02T09:44:32.045Z"
   },
   {
    "duration": 49,
    "start_time": "2021-12-02T09:44:32.060Z"
   },
   {
    "duration": 393,
    "start_time": "2021-12-02T09:44:32.110Z"
   },
   {
    "duration": 20,
    "start_time": "2021-12-02T09:44:32.506Z"
   },
   {
    "duration": 21,
    "start_time": "2021-12-02T09:44:32.528Z"
   },
   {
    "duration": 207,
    "start_time": "2021-12-02T09:44:32.551Z"
   },
   {
    "duration": 10,
    "start_time": "2021-12-02T09:44:32.760Z"
   },
   {
    "duration": 22,
    "start_time": "2021-12-02T09:44:32.774Z"
   },
   {
    "duration": 199,
    "start_time": "2021-12-02T09:44:32.799Z"
   },
   {
    "duration": 34,
    "start_time": "2021-12-02T09:44:33.000Z"
   },
   {
    "duration": 16,
    "start_time": "2021-12-02T09:44:33.036Z"
   },
   {
    "duration": 32,
    "start_time": "2021-12-02T09:44:33.054Z"
   },
   {
    "duration": 13,
    "start_time": "2021-12-02T09:44:33.088Z"
   },
   {
    "duration": 50,
    "start_time": "2021-12-02T09:44:33.103Z"
   },
   {
    "duration": 5,
    "start_time": "2021-12-02T09:44:33.155Z"
   },
   {
    "duration": 334,
    "start_time": "2021-12-02T09:44:33.162Z"
   },
   {
    "duration": 12,
    "start_time": "2021-12-02T09:44:33.498Z"
   },
   {
    "duration": 25,
    "start_time": "2021-12-02T09:44:33.511Z"
   },
   {
    "duration": 164,
    "start_time": "2021-12-02T09:44:33.538Z"
   },
   {
    "duration": 12,
    "start_time": "2021-12-02T09:44:33.703Z"
   },
   {
    "duration": 149,
    "start_time": "2021-12-02T09:44:33.718Z"
   },
   {
    "duration": 37,
    "start_time": "2021-12-02T09:46:04.351Z"
   },
   {
    "duration": 8,
    "start_time": "2021-12-02T09:47:13.361Z"
   },
   {
    "duration": 147,
    "start_time": "2021-12-02T10:02:12.783Z"
   },
   {
    "duration": 140,
    "start_time": "2021-12-02T10:02:18.846Z"
   },
   {
    "duration": 166,
    "start_time": "2021-12-02T10:02:26.001Z"
   },
   {
    "duration": 164,
    "start_time": "2021-12-02T10:02:33.372Z"
   },
   {
    "duration": 150,
    "start_time": "2021-12-02T10:02:40.514Z"
   },
   {
    "duration": 11,
    "start_time": "2021-12-02T10:08:35.603Z"
   },
   {
    "duration": 135,
    "start_time": "2021-12-02T10:12:27.835Z"
   },
   {
    "duration": 135,
    "start_time": "2021-12-02T10:12:40.243Z"
   },
   {
    "duration": 182,
    "start_time": "2021-12-02T10:12:50.326Z"
   },
   {
    "duration": 9,
    "start_time": "2021-12-02T10:25:31.880Z"
   },
   {
    "duration": 149,
    "start_time": "2021-12-02T10:25:57.135Z"
   },
   {
    "duration": 134,
    "start_time": "2021-12-02T10:26:08.759Z"
   },
   {
    "duration": 138,
    "start_time": "2021-12-02T10:26:19.872Z"
   },
   {
    "duration": 144,
    "start_time": "2021-12-02T10:26:24.222Z"
   },
   {
    "duration": 180,
    "start_time": "2021-12-02T10:26:33.785Z"
   },
   {
    "duration": 165,
    "start_time": "2021-12-02T10:26:38.844Z"
   },
   {
    "duration": 12,
    "start_time": "2021-12-02T10:51:54.462Z"
   },
   {
    "duration": 11,
    "start_time": "2021-12-02T10:58:22.589Z"
   },
   {
    "duration": 3,
    "start_time": "2021-12-02T10:58:58.900Z"
   },
   {
    "duration": 88,
    "start_time": "2021-12-02T10:58:58.905Z"
   },
   {
    "duration": 33,
    "start_time": "2021-12-02T10:58:58.995Z"
   },
   {
    "duration": 12,
    "start_time": "2021-12-02T10:58:59.030Z"
   },
   {
    "duration": 119,
    "start_time": "2021-12-02T10:58:59.044Z"
   },
   {
    "duration": 8,
    "start_time": "2021-12-02T10:58:59.165Z"
   },
   {
    "duration": 32,
    "start_time": "2021-12-02T10:58:59.175Z"
   },
   {
    "duration": 11,
    "start_time": "2021-12-02T10:58:59.210Z"
   },
   {
    "duration": 8,
    "start_time": "2021-12-02T10:58:59.223Z"
   },
   {
    "duration": 9,
    "start_time": "2021-12-02T10:58:59.233Z"
   },
   {
    "duration": 14,
    "start_time": "2021-12-02T10:58:59.244Z"
   },
   {
    "duration": 12,
    "start_time": "2021-12-02T10:58:59.260Z"
   },
   {
    "duration": 38,
    "start_time": "2021-12-02T10:58:59.274Z"
   },
   {
    "duration": 16,
    "start_time": "2021-12-02T10:58:59.315Z"
   },
   {
    "duration": 10,
    "start_time": "2021-12-02T10:58:59.333Z"
   },
   {
    "duration": 14,
    "start_time": "2021-12-02T10:58:59.345Z"
   },
   {
    "duration": 4,
    "start_time": "2021-12-02T10:58:59.362Z"
   },
   {
    "duration": 692,
    "start_time": "2021-12-02T10:58:59.367Z"
   },
   {
    "duration": 5,
    "start_time": "2021-12-02T10:59:00.063Z"
   },
   {
    "duration": 44,
    "start_time": "2021-12-02T10:59:00.071Z"
   },
   {
    "duration": 9,
    "start_time": "2021-12-02T10:59:00.118Z"
   },
   {
    "duration": 10,
    "start_time": "2021-12-02T10:59:00.129Z"
   },
   {
    "duration": 1547,
    "start_time": "2021-12-02T10:59:00.140Z"
   },
   {
    "duration": 346,
    "start_time": "2021-12-02T10:59:01.689Z"
   },
   {
    "duration": 5,
    "start_time": "2021-12-02T10:59:02.037Z"
   },
   {
    "duration": 199,
    "start_time": "2021-12-02T10:59:02.044Z"
   },
   {
    "duration": 45,
    "start_time": "2021-12-02T10:59:02.245Z"
   },
   {
    "duration": 23,
    "start_time": "2021-12-02T10:59:02.292Z"
   },
   {
    "duration": 11,
    "start_time": "2021-12-02T10:59:02.318Z"
   },
   {
    "duration": 13,
    "start_time": "2021-12-02T10:59:02.331Z"
   },
   {
    "duration": 21,
    "start_time": "2021-12-02T10:59:02.345Z"
   },
   {
    "duration": 175,
    "start_time": "2021-12-02T10:59:02.368Z"
   },
   {
    "duration": 11,
    "start_time": "2021-12-02T10:59:02.545Z"
   },
   {
    "duration": 8,
    "start_time": "2021-12-02T10:59:02.558Z"
   },
   {
    "duration": 215,
    "start_time": "2021-12-02T10:59:02.568Z"
   },
   {
    "duration": 10,
    "start_time": "2021-12-02T10:59:02.785Z"
   },
   {
    "duration": 18,
    "start_time": "2021-12-02T10:59:02.797Z"
   },
   {
    "duration": 217,
    "start_time": "2021-12-02T10:59:02.817Z"
   },
   {
    "duration": 12,
    "start_time": "2021-12-02T10:59:03.036Z"
   },
   {
    "duration": 4,
    "start_time": "2021-12-02T10:59:03.050Z"
   },
   {
    "duration": 208,
    "start_time": "2021-12-02T10:59:03.056Z"
   },
   {
    "duration": 24,
    "start_time": "2021-12-02T10:59:03.266Z"
   },
   {
    "duration": 25,
    "start_time": "2021-12-02T10:59:03.292Z"
   },
   {
    "duration": 25,
    "start_time": "2021-12-02T10:59:03.320Z"
   },
   {
    "duration": 8,
    "start_time": "2021-12-02T10:59:03.347Z"
   },
   {
    "duration": 65,
    "start_time": "2021-12-02T10:59:03.356Z"
   },
   {
    "duration": 6,
    "start_time": "2021-12-02T10:59:03.423Z"
   },
   {
    "duration": 329,
    "start_time": "2021-12-02T10:59:03.431Z"
   },
   {
    "duration": 8,
    "start_time": "2021-12-02T10:59:03.762Z"
   },
   {
    "duration": 29,
    "start_time": "2021-12-02T10:59:03.772Z"
   },
   {
    "duration": 165,
    "start_time": "2021-12-02T10:59:03.803Z"
   },
   {
    "duration": 10,
    "start_time": "2021-12-02T10:59:03.970Z"
   },
   {
    "duration": 182,
    "start_time": "2021-12-02T10:59:03.982Z"
   },
   {
    "duration": 9,
    "start_time": "2021-12-02T10:59:04.166Z"
   },
   {
    "duration": 190,
    "start_time": "2021-12-02T10:59:04.181Z"
   },
   {
    "duration": 9,
    "start_time": "2021-12-02T10:59:04.373Z"
   },
   {
    "duration": 168,
    "start_time": "2021-12-02T10:59:04.384Z"
   },
   {
    "duration": 11,
    "start_time": "2021-12-02T10:59:04.553Z"
   },
   {
    "duration": 12,
    "start_time": "2021-12-02T11:12:16.346Z"
   },
   {
    "duration": 8,
    "start_time": "2021-12-02T11:13:34.657Z"
   },
   {
    "duration": 446,
    "start_time": "2021-12-02T11:18:24.725Z"
   },
   {
    "duration": 14,
    "start_time": "2021-12-02T11:18:46.013Z"
   },
   {
    "duration": 11,
    "start_time": "2021-12-02T11:19:13.239Z"
   },
   {
    "duration": 11,
    "start_time": "2021-12-02T11:19:23.064Z"
   },
   {
    "duration": 9,
    "start_time": "2021-12-02T11:25:51.805Z"
   },
   {
    "duration": 11,
    "start_time": "2021-12-02T11:32:53.980Z"
   },
   {
    "duration": 158,
    "start_time": "2021-12-02T11:35:12.151Z"
   },
   {
    "duration": 319,
    "start_time": "2021-12-02T11:42:40.735Z"
   },
   {
    "duration": 184,
    "start_time": "2021-12-02T11:43:02.003Z"
   },
   {
    "duration": 10295,
    "start_time": "2021-12-02T11:53:34.884Z"
   },
   {
    "duration": 794,
    "start_time": "2021-12-02T11:54:49.238Z"
   },
   {
    "duration": 257,
    "start_time": "2021-12-02T11:55:10.898Z"
   },
   {
    "duration": 626,
    "start_time": "2021-12-02T11:55:20.235Z"
   },
   {
    "duration": 813,
    "start_time": "2021-12-02T11:55:26.745Z"
   },
   {
    "duration": 911,
    "start_time": "2021-12-02T11:57:15.525Z"
   },
   {
    "duration": 6,
    "start_time": "2021-12-02T12:01:55.065Z"
   },
   {
    "duration": 6521,
    "start_time": "2021-12-02T12:03:13.970Z"
   },
   {
    "duration": 385,
    "start_time": "2021-12-02T12:06:09.752Z"
   },
   {
    "duration": 1425,
    "start_time": "2021-12-02T12:06:16.920Z"
   },
   {
    "duration": 3,
    "start_time": "2021-12-02T12:06:34.173Z"
   },
   {
    "duration": 83,
    "start_time": "2021-12-02T12:06:34.179Z"
   },
   {
    "duration": 52,
    "start_time": "2021-12-02T12:06:34.264Z"
   },
   {
    "duration": 16,
    "start_time": "2021-12-02T12:06:34.318Z"
   },
   {
    "duration": 99,
    "start_time": "2021-12-02T12:06:34.336Z"
   },
   {
    "duration": 9,
    "start_time": "2021-12-02T12:06:34.437Z"
   },
   {
    "duration": 27,
    "start_time": "2021-12-02T12:06:34.448Z"
   },
   {
    "duration": 23,
    "start_time": "2021-12-02T12:06:34.477Z"
   },
   {
    "duration": 20,
    "start_time": "2021-12-02T12:06:34.502Z"
   },
   {
    "duration": 34,
    "start_time": "2021-12-02T12:06:34.524Z"
   },
   {
    "duration": 38,
    "start_time": "2021-12-02T12:06:34.560Z"
   },
   {
    "duration": 31,
    "start_time": "2021-12-02T12:06:34.600Z"
   },
   {
    "duration": 24,
    "start_time": "2021-12-02T12:06:34.633Z"
   },
   {
    "duration": 17,
    "start_time": "2021-12-02T12:06:34.659Z"
   },
   {
    "duration": 29,
    "start_time": "2021-12-02T12:06:34.678Z"
   },
   {
    "duration": 28,
    "start_time": "2021-12-02T12:06:34.711Z"
   },
   {
    "duration": 12,
    "start_time": "2021-12-02T12:06:34.741Z"
   },
   {
    "duration": 614,
    "start_time": "2021-12-02T12:06:34.755Z"
   },
   {
    "duration": 6,
    "start_time": "2021-12-02T12:06:35.373Z"
   },
   {
    "duration": 44,
    "start_time": "2021-12-02T12:06:35.382Z"
   },
   {
    "duration": 8,
    "start_time": "2021-12-02T12:06:35.428Z"
   },
   {
    "duration": 26,
    "start_time": "2021-12-02T12:06:35.438Z"
   },
   {
    "duration": 1311,
    "start_time": "2021-12-02T12:06:35.467Z"
   },
   {
    "duration": 651,
    "start_time": "2021-12-02T12:06:36.780Z"
   },
   {
    "duration": 5,
    "start_time": "2021-12-02T12:06:37.433Z"
   },
   {
    "duration": 168,
    "start_time": "2021-12-02T12:06:37.440Z"
   },
   {
    "duration": 40,
    "start_time": "2021-12-02T12:06:37.611Z"
   },
   {
    "duration": 6,
    "start_time": "2021-12-02T12:06:37.653Z"
   },
   {
    "duration": 31,
    "start_time": "2021-12-02T12:06:37.661Z"
   },
   {
    "duration": 25,
    "start_time": "2021-12-02T12:06:37.694Z"
   },
   {
    "duration": 21,
    "start_time": "2021-12-02T12:06:37.721Z"
   },
   {
    "duration": 150,
    "start_time": "2021-12-02T12:06:37.744Z"
   },
   {
    "duration": 21,
    "start_time": "2021-12-02T12:06:37.895Z"
   },
   {
    "duration": 18,
    "start_time": "2021-12-02T12:06:37.918Z"
   },
   {
    "duration": 194,
    "start_time": "2021-12-02T12:06:37.938Z"
   },
   {
    "duration": 10,
    "start_time": "2021-12-02T12:06:38.134Z"
   },
   {
    "duration": 26,
    "start_time": "2021-12-02T12:06:38.146Z"
   },
   {
    "duration": 377,
    "start_time": "2021-12-02T12:06:38.174Z"
   },
   {
    "duration": 10,
    "start_time": "2021-12-02T12:06:38.553Z"
   },
   {
    "duration": 21,
    "start_time": "2021-12-02T12:06:38.564Z"
   },
   {
    "duration": 192,
    "start_time": "2021-12-02T12:06:38.587Z"
   },
   {
    "duration": 31,
    "start_time": "2021-12-02T12:06:38.781Z"
   },
   {
    "duration": 15,
    "start_time": "2021-12-02T12:06:38.814Z"
   },
   {
    "duration": 40,
    "start_time": "2021-12-02T12:06:38.831Z"
   },
   {
    "duration": 7,
    "start_time": "2021-12-02T12:06:38.873Z"
   },
   {
    "duration": 54,
    "start_time": "2021-12-02T12:06:38.882Z"
   },
   {
    "duration": 5,
    "start_time": "2021-12-02T12:06:38.937Z"
   },
   {
    "duration": 315,
    "start_time": "2021-12-02T12:06:38.944Z"
   },
   {
    "duration": 8,
    "start_time": "2021-12-02T12:06:39.261Z"
   },
   {
    "duration": 30,
    "start_time": "2021-12-02T12:06:39.271Z"
   },
   {
    "duration": 157,
    "start_time": "2021-12-02T12:06:39.303Z"
   },
   {
    "duration": 9,
    "start_time": "2021-12-02T12:06:39.462Z"
   },
   {
    "duration": 172,
    "start_time": "2021-12-02T12:06:39.473Z"
   },
   {
    "duration": 9,
    "start_time": "2021-12-02T12:06:39.647Z"
   },
   {
    "duration": 163,
    "start_time": "2021-12-02T12:06:39.661Z"
   },
   {
    "duration": 8,
    "start_time": "2021-12-02T12:06:39.826Z"
   },
   {
    "duration": 151,
    "start_time": "2021-12-02T12:06:39.836Z"
   },
   {
    "duration": 17,
    "start_time": "2021-12-02T12:06:39.989Z"
   },
   {
    "duration": 13,
    "start_time": "2021-12-02T12:06:40.015Z"
   },
   {
    "duration": 18,
    "start_time": "2021-12-02T12:06:40.030Z"
   },
   {
    "duration": 24,
    "start_time": "2021-12-02T12:06:40.050Z"
   },
   {
    "duration": 210,
    "start_time": "2021-12-02T12:06:40.076Z"
   },
   {
    "duration": 374,
    "start_time": "2021-12-02T12:06:40.288Z"
   },
   {
    "duration": -100,
    "start_time": "2021-12-02T12:06:40.764Z"
   },
   {
    "duration": -105,
    "start_time": "2021-12-02T12:06:40.770Z"
   },
   {
    "duration": 11,
    "start_time": "2021-12-02T12:12:07.757Z"
   },
   {
    "duration": 6,
    "start_time": "2021-12-02T12:13:25.376Z"
   },
   {
    "duration": 6461,
    "start_time": "2021-12-02T12:13:31.525Z"
   },
   {
    "duration": 190,
    "start_time": "2021-12-02T12:14:58.741Z"
   },
   {
    "duration": 213,
    "start_time": "2021-12-02T12:15:55.659Z"
   },
   {
    "duration": 307,
    "start_time": "2021-12-02T12:17:23.470Z"
   },
   {
    "duration": 220,
    "start_time": "2021-12-02T12:17:34.712Z"
   },
   {
    "duration": 10,
    "start_time": "2021-12-02T12:25:54.530Z"
   },
   {
    "duration": 13,
    "start_time": "2021-12-02T12:26:02.343Z"
   },
   {
    "duration": 13,
    "start_time": "2021-12-02T12:27:12.379Z"
   },
   {
    "duration": 179,
    "start_time": "2021-12-02T12:29:20.514Z"
   },
   {
    "duration": 193,
    "start_time": "2021-12-02T12:38:05.284Z"
   },
   {
    "duration": 285,
    "start_time": "2021-12-02T12:39:33.512Z"
   },
   {
    "duration": 194,
    "start_time": "2021-12-02T12:40:12.252Z"
   },
   {
    "duration": 6,
    "start_time": "2021-12-02T12:40:41.003Z"
   },
   {
    "duration": 3,
    "start_time": "2021-12-02T12:41:04.009Z"
   },
   {
    "duration": 76,
    "start_time": "2021-12-02T12:41:04.015Z"
   },
   {
    "duration": 40,
    "start_time": "2021-12-02T12:41:04.094Z"
   },
   {
    "duration": 11,
    "start_time": "2021-12-02T12:41:04.136Z"
   },
   {
    "duration": 104,
    "start_time": "2021-12-02T12:41:04.149Z"
   },
   {
    "duration": 9,
    "start_time": "2021-12-02T12:41:04.255Z"
   },
   {
    "duration": 11,
    "start_time": "2021-12-02T12:41:04.267Z"
   },
   {
    "duration": 37,
    "start_time": "2021-12-02T12:41:04.280Z"
   },
   {
    "duration": 6,
    "start_time": "2021-12-02T12:41:04.319Z"
   },
   {
    "duration": 19,
    "start_time": "2021-12-02T12:41:04.327Z"
   },
   {
    "duration": 25,
    "start_time": "2021-12-02T12:41:04.348Z"
   },
   {
    "duration": 9,
    "start_time": "2021-12-02T12:41:04.375Z"
   },
   {
    "duration": 8,
    "start_time": "2021-12-02T12:41:04.386Z"
   },
   {
    "duration": 16,
    "start_time": "2021-12-02T12:41:04.396Z"
   },
   {
    "duration": 10,
    "start_time": "2021-12-02T12:41:04.416Z"
   },
   {
    "duration": 26,
    "start_time": "2021-12-02T12:41:04.428Z"
   },
   {
    "duration": 4,
    "start_time": "2021-12-02T12:41:04.455Z"
   },
   {
    "duration": 1133,
    "start_time": "2021-12-02T12:41:04.461Z"
   },
   {
    "duration": 6,
    "start_time": "2021-12-02T12:41:05.598Z"
   },
   {
    "duration": 28,
    "start_time": "2021-12-02T12:41:05.607Z"
   },
   {
    "duration": 58,
    "start_time": "2021-12-02T12:41:05.637Z"
   },
   {
    "duration": 35,
    "start_time": "2021-12-02T12:41:05.696Z"
   },
   {
    "duration": 1348,
    "start_time": "2021-12-02T12:41:05.732Z"
   },
   {
    "duration": 331,
    "start_time": "2021-12-02T12:41:07.082Z"
   },
   {
    "duration": 7,
    "start_time": "2021-12-02T12:41:07.419Z"
   },
   {
    "duration": 175,
    "start_time": "2021-12-02T12:41:07.429Z"
   },
   {
    "duration": 47,
    "start_time": "2021-12-02T12:41:07.607Z"
   },
   {
    "duration": 8,
    "start_time": "2021-12-02T12:41:07.656Z"
   },
   {
    "duration": 26,
    "start_time": "2021-12-02T12:41:07.666Z"
   },
   {
    "duration": 16,
    "start_time": "2021-12-02T12:41:07.706Z"
   },
   {
    "duration": 13,
    "start_time": "2021-12-02T12:41:07.724Z"
   },
   {
    "duration": 160,
    "start_time": "2021-12-02T12:41:07.739Z"
   },
   {
    "duration": 19,
    "start_time": "2021-12-02T12:41:07.901Z"
   },
   {
    "duration": 11,
    "start_time": "2021-12-02T12:41:07.922Z"
   },
   {
    "duration": 215,
    "start_time": "2021-12-02T12:41:07.935Z"
   },
   {
    "duration": 11,
    "start_time": "2021-12-02T12:41:08.152Z"
   },
   {
    "duration": 19,
    "start_time": "2021-12-02T12:41:08.165Z"
   },
   {
    "duration": 207,
    "start_time": "2021-12-02T12:41:08.186Z"
   },
   {
    "duration": 21,
    "start_time": "2021-12-02T12:41:08.396Z"
   },
   {
    "duration": 5,
    "start_time": "2021-12-02T12:41:08.420Z"
   },
   {
    "duration": 200,
    "start_time": "2021-12-02T12:41:08.427Z"
   },
   {
    "duration": 21,
    "start_time": "2021-12-02T12:41:08.629Z"
   },
   {
    "duration": 11,
    "start_time": "2021-12-02T12:41:08.652Z"
   },
   {
    "duration": 51,
    "start_time": "2021-12-02T12:41:08.664Z"
   },
   {
    "duration": 10,
    "start_time": "2021-12-02T12:41:08.717Z"
   },
   {
    "duration": 52,
    "start_time": "2021-12-02T12:41:08.729Z"
   },
   {
    "duration": 5,
    "start_time": "2021-12-02T12:41:08.783Z"
   },
   {
    "duration": 322,
    "start_time": "2021-12-02T12:41:08.790Z"
   },
   {
    "duration": 9,
    "start_time": "2021-12-02T12:41:09.115Z"
   },
   {
    "duration": 21,
    "start_time": "2021-12-02T12:41:09.126Z"
   },
   {
    "duration": 150,
    "start_time": "2021-12-02T12:41:09.149Z"
   },
   {
    "duration": 12,
    "start_time": "2021-12-02T12:41:09.306Z"
   },
   {
    "duration": 164,
    "start_time": "2021-12-02T12:41:09.320Z"
   },
   {
    "duration": 8,
    "start_time": "2021-12-02T12:41:09.486Z"
   },
   {
    "duration": 153,
    "start_time": "2021-12-02T12:41:09.514Z"
   },
   {
    "duration": 8,
    "start_time": "2021-12-02T12:41:09.669Z"
   },
   {
    "duration": 185,
    "start_time": "2021-12-02T12:41:09.679Z"
   },
   {
    "duration": 11,
    "start_time": "2021-12-02T12:41:09.867Z"
   },
   {
    "duration": 21,
    "start_time": "2021-12-02T12:41:09.880Z"
   },
   {
    "duration": 20,
    "start_time": "2021-12-02T12:41:09.903Z"
   },
   {
    "duration": 29,
    "start_time": "2021-12-02T12:41:09.925Z"
   },
   {
    "duration": 186,
    "start_time": "2021-12-02T12:41:09.956Z"
   },
   {
    "duration": 206,
    "start_time": "2021-12-02T12:41:10.144Z"
   },
   {
    "duration": 5,
    "start_time": "2021-12-02T12:41:10.352Z"
   },
   {
    "duration": 206,
    "start_time": "2021-12-02T12:41:10.358Z"
   },
   {
    "duration": 6,
    "start_time": "2021-12-02T12:41:38.680Z"
   },
   {
    "duration": 115,
    "start_time": "2021-12-02T12:42:31.790Z"
   },
   {
    "duration": 211,
    "start_time": "2021-12-02T12:42:36.487Z"
   },
   {
    "duration": 202,
    "start_time": "2021-12-02T12:43:44.551Z"
   },
   {
    "duration": 6,
    "start_time": "2021-12-02T12:46:41.951Z"
   },
   {
    "duration": 225,
    "start_time": "2021-12-02T12:53:06.684Z"
   },
   {
    "duration": 218,
    "start_time": "2021-12-02T13:10:25.724Z"
   },
   {
    "duration": 216,
    "start_time": "2021-12-02T13:12:50.322Z"
   },
   {
    "duration": 6,
    "start_time": "2021-12-02T13:13:23.977Z"
   },
   {
    "duration": 256,
    "start_time": "2021-12-02T13:16:22.805Z"
   },
   {
    "duration": 3,
    "start_time": "2021-12-02T13:21:53.876Z"
   },
   {
    "duration": 89,
    "start_time": "2021-12-02T13:21:53.880Z"
   },
   {
    "duration": 60,
    "start_time": "2021-12-02T13:21:53.971Z"
   },
   {
    "duration": 11,
    "start_time": "2021-12-02T13:21:54.034Z"
   },
   {
    "duration": 103,
    "start_time": "2021-12-02T13:21:54.047Z"
   },
   {
    "duration": 9,
    "start_time": "2021-12-02T13:21:54.152Z"
   },
   {
    "duration": 32,
    "start_time": "2021-12-02T13:21:54.163Z"
   },
   {
    "duration": 18,
    "start_time": "2021-12-02T13:21:54.197Z"
   },
   {
    "duration": 19,
    "start_time": "2021-12-02T13:21:54.217Z"
   },
   {
    "duration": 15,
    "start_time": "2021-12-02T13:21:54.238Z"
   },
   {
    "duration": 18,
    "start_time": "2021-12-02T13:21:54.254Z"
   },
   {
    "duration": 10,
    "start_time": "2021-12-02T13:21:54.274Z"
   },
   {
    "duration": 14,
    "start_time": "2021-12-02T13:21:54.285Z"
   },
   {
    "duration": 25,
    "start_time": "2021-12-02T13:21:54.301Z"
   },
   {
    "duration": 10,
    "start_time": "2021-12-02T13:21:54.327Z"
   },
   {
    "duration": 17,
    "start_time": "2021-12-02T13:21:54.339Z"
   },
   {
    "duration": 10,
    "start_time": "2021-12-02T13:21:54.358Z"
   },
   {
    "duration": 615,
    "start_time": "2021-12-02T13:21:54.370Z"
   },
   {
    "duration": 6,
    "start_time": "2021-12-02T13:21:54.989Z"
   },
   {
    "duration": 49,
    "start_time": "2021-12-02T13:21:54.997Z"
   },
   {
    "duration": 7,
    "start_time": "2021-12-02T13:21:55.048Z"
   },
   {
    "duration": 22,
    "start_time": "2021-12-02T13:21:55.057Z"
   },
   {
    "duration": 1330,
    "start_time": "2021-12-02T13:21:55.081Z"
   },
   {
    "duration": 322,
    "start_time": "2021-12-02T13:21:56.413Z"
   },
   {
    "duration": 6,
    "start_time": "2021-12-02T13:21:56.737Z"
   },
   {
    "duration": 168,
    "start_time": "2021-12-02T13:21:56.744Z"
   },
   {
    "duration": 43,
    "start_time": "2021-12-02T13:21:56.914Z"
   },
   {
    "duration": 7,
    "start_time": "2021-12-02T13:21:56.959Z"
   },
   {
    "duration": 36,
    "start_time": "2021-12-02T13:21:56.967Z"
   },
   {
    "duration": 23,
    "start_time": "2021-12-02T13:21:57.005Z"
   },
   {
    "duration": 17,
    "start_time": "2021-12-02T13:21:57.030Z"
   },
   {
    "duration": 149,
    "start_time": "2021-12-02T13:21:57.049Z"
   },
   {
    "duration": 16,
    "start_time": "2021-12-02T13:21:57.200Z"
   },
   {
    "duration": 9,
    "start_time": "2021-12-02T13:21:57.217Z"
   },
   {
    "duration": 577,
    "start_time": "2021-12-02T13:21:57.227Z"
   },
   {
    "duration": -342,
    "start_time": "2021-12-02T13:21:58.148Z"
   },
   {
    "duration": -359,
    "start_time": "2021-12-02T13:21:58.167Z"
   },
   {
    "duration": -406,
    "start_time": "2021-12-02T13:21:58.216Z"
   },
   {
    "duration": -437,
    "start_time": "2021-12-02T13:21:58.248Z"
   },
   {
    "duration": -467,
    "start_time": "2021-12-02T13:21:58.280Z"
   },
   {
    "duration": -500,
    "start_time": "2021-12-02T13:21:58.315Z"
   },
   {
    "duration": -523,
    "start_time": "2021-12-02T13:21:58.339Z"
   },
   {
    "duration": -531,
    "start_time": "2021-12-02T13:21:58.349Z"
   },
   {
    "duration": -537,
    "start_time": "2021-12-02T13:21:58.356Z"
   },
   {
    "duration": -548,
    "start_time": "2021-12-02T13:21:58.368Z"
   },
   {
    "duration": -552,
    "start_time": "2021-12-02T13:21:58.374Z"
   },
   {
    "duration": -558,
    "start_time": "2021-12-02T13:21:58.381Z"
   },
   {
    "duration": -562,
    "start_time": "2021-12-02T13:21:58.386Z"
   },
   {
    "duration": -570,
    "start_time": "2021-12-02T13:21:58.395Z"
   },
   {
    "duration": -573,
    "start_time": "2021-12-02T13:21:58.399Z"
   },
   {
    "duration": -578,
    "start_time": "2021-12-02T13:21:58.405Z"
   },
   {
    "duration": -583,
    "start_time": "2021-12-02T13:21:58.411Z"
   },
   {
    "duration": -587,
    "start_time": "2021-12-02T13:21:58.416Z"
   },
   {
    "duration": -590,
    "start_time": "2021-12-02T13:21:58.420Z"
   },
   {
    "duration": -597,
    "start_time": "2021-12-02T13:21:58.428Z"
   },
   {
    "duration": -602,
    "start_time": "2021-12-02T13:21:58.435Z"
   },
   {
    "duration": -620,
    "start_time": "2021-12-02T13:21:58.455Z"
   },
   {
    "duration": -626,
    "start_time": "2021-12-02T13:21:58.462Z"
   },
   {
    "duration": -630,
    "start_time": "2021-12-02T13:21:58.468Z"
   },
   {
    "duration": -635,
    "start_time": "2021-12-02T13:21:58.474Z"
   },
   {
    "duration": -641,
    "start_time": "2021-12-02T13:21:58.482Z"
   },
   {
    "duration": -644,
    "start_time": "2021-12-02T13:21:58.487Z"
   },
   {
    "duration": -649,
    "start_time": "2021-12-02T13:21:58.494Z"
   },
   {
    "duration": -654,
    "start_time": "2021-12-02T13:21:58.500Z"
   },
   {
    "duration": -657,
    "start_time": "2021-12-02T13:21:58.505Z"
   },
   {
    "duration": -662,
    "start_time": "2021-12-02T13:21:58.511Z"
   },
   {
    "duration": -670,
    "start_time": "2021-12-02T13:21:58.520Z"
   },
   {
    "duration": -674,
    "start_time": "2021-12-02T13:21:58.525Z"
   },
   {
    "duration": -679,
    "start_time": "2021-12-02T13:21:58.531Z"
   },
   {
    "duration": -630,
    "start_time": "2021-12-02T13:21:58.535Z"
   },
   {
    "duration": 674,
    "start_time": "2021-12-03T05:05:43.620Z"
   },
   {
    "duration": 70,
    "start_time": "2021-12-03T05:05:44.296Z"
   },
   {
    "duration": 27,
    "start_time": "2021-12-03T05:05:44.369Z"
   },
   {
    "duration": 26,
    "start_time": "2021-12-03T05:05:44.398Z"
   },
   {
    "duration": 72,
    "start_time": "2021-12-03T05:05:44.426Z"
   },
   {
    "duration": 7,
    "start_time": "2021-12-03T05:05:44.500Z"
   },
   {
    "duration": 30,
    "start_time": "2021-12-03T05:05:44.509Z"
   },
   {
    "duration": 20,
    "start_time": "2021-12-03T05:05:44.541Z"
   },
   {
    "duration": 33,
    "start_time": "2021-12-03T05:05:44.564Z"
   },
   {
    "duration": 14,
    "start_time": "2021-12-03T05:05:44.599Z"
   },
   {
    "duration": 30,
    "start_time": "2021-12-03T05:05:44.615Z"
   },
   {
    "duration": 15,
    "start_time": "2021-12-03T05:05:44.646Z"
   },
   {
    "duration": 35,
    "start_time": "2021-12-03T05:05:44.663Z"
   },
   {
    "duration": 21,
    "start_time": "2021-12-03T05:05:44.700Z"
   },
   {
    "duration": 7,
    "start_time": "2021-12-03T05:05:44.722Z"
   },
   {
    "duration": 13,
    "start_time": "2021-12-03T05:05:44.731Z"
   },
   {
    "duration": 3,
    "start_time": "2021-12-03T05:05:44.745Z"
   },
   {
    "duration": 551,
    "start_time": "2021-12-03T05:05:44.750Z"
   },
   {
    "duration": 5,
    "start_time": "2021-12-03T05:05:45.302Z"
   },
   {
    "duration": 22,
    "start_time": "2021-12-03T05:05:45.309Z"
   },
   {
    "duration": 7,
    "start_time": "2021-12-03T05:05:45.344Z"
   },
   {
    "duration": 8,
    "start_time": "2021-12-03T05:05:45.353Z"
   },
   {
    "duration": 1198,
    "start_time": "2021-12-03T05:05:45.363Z"
   },
   {
    "duration": 282,
    "start_time": "2021-12-03T05:05:46.562Z"
   },
   {
    "duration": 5,
    "start_time": "2021-12-03T05:05:46.846Z"
   },
   {
    "duration": 155,
    "start_time": "2021-12-03T05:05:46.853Z"
   },
   {
    "duration": 45,
    "start_time": "2021-12-03T05:05:47.012Z"
   },
   {
    "duration": 7,
    "start_time": "2021-12-03T05:05:47.059Z"
   },
   {
    "duration": 45,
    "start_time": "2021-12-03T05:05:47.067Z"
   },
   {
    "duration": 48,
    "start_time": "2021-12-03T05:05:47.113Z"
   },
   {
    "duration": 13,
    "start_time": "2021-12-03T05:05:47.163Z"
   },
   {
    "duration": 210,
    "start_time": "2021-12-03T05:05:47.178Z"
   },
   {
    "duration": 10,
    "start_time": "2021-12-03T05:05:47.444Z"
   },
   {
    "duration": 4,
    "start_time": "2021-12-03T05:05:47.456Z"
   },
   {
    "duration": 530,
    "start_time": "2021-12-03T05:05:47.461Z"
   },
   {
    "duration": 71,
    "start_time": "2021-12-03T05:05:47.922Z"
   },
   {
    "duration": 69,
    "start_time": "2021-12-03T05:05:47.925Z"
   },
   {
    "duration": 67,
    "start_time": "2021-12-03T05:05:47.928Z"
   },
   {
    "duration": 63,
    "start_time": "2021-12-03T05:05:47.933Z"
   },
   {
    "duration": 61,
    "start_time": "2021-12-03T05:05:47.936Z"
   },
   {
    "duration": 59,
    "start_time": "2021-12-03T05:05:47.939Z"
   },
   {
    "duration": 57,
    "start_time": "2021-12-03T05:05:47.942Z"
   },
   {
    "duration": 55,
    "start_time": "2021-12-03T05:05:47.946Z"
   },
   {
    "duration": 52,
    "start_time": "2021-12-03T05:05:47.950Z"
   },
   {
    "duration": 51,
    "start_time": "2021-12-03T05:05:47.953Z"
   },
   {
    "duration": 49,
    "start_time": "2021-12-03T05:05:47.956Z"
   },
   {
    "duration": 47,
    "start_time": "2021-12-03T05:05:47.960Z"
   },
   {
    "duration": 44,
    "start_time": "2021-12-03T05:05:47.964Z"
   },
   {
    "duration": 42,
    "start_time": "2021-12-03T05:05:47.968Z"
   },
   {
    "duration": 41,
    "start_time": "2021-12-03T05:05:47.970Z"
   },
   {
    "duration": 39,
    "start_time": "2021-12-03T05:05:47.974Z"
   },
   {
    "duration": 37,
    "start_time": "2021-12-03T05:05:47.977Z"
   },
   {
    "duration": 34,
    "start_time": "2021-12-03T05:05:47.981Z"
   },
   {
    "duration": 60,
    "start_time": "2021-12-03T05:05:47.984Z"
   },
   {
    "duration": 55,
    "start_time": "2021-12-03T05:05:47.991Z"
   },
   {
    "duration": 54,
    "start_time": "2021-12-03T05:05:47.993Z"
   },
   {
    "duration": 53,
    "start_time": "2021-12-03T05:05:47.996Z"
   },
   {
    "duration": 52,
    "start_time": "2021-12-03T05:05:47.998Z"
   },
   {
    "duration": 51,
    "start_time": "2021-12-03T05:05:48.001Z"
   },
   {
    "duration": 50,
    "start_time": "2021-12-03T05:05:48.003Z"
   },
   {
    "duration": 48,
    "start_time": "2021-12-03T05:05:48.006Z"
   },
   {
    "duration": 48,
    "start_time": "2021-12-03T05:05:48.008Z"
   },
   {
    "duration": 47,
    "start_time": "2021-12-03T05:05:48.010Z"
   },
   {
    "duration": 47,
    "start_time": "2021-12-03T05:05:48.012Z"
   },
   {
    "duration": 45,
    "start_time": "2021-12-03T05:05:48.015Z"
   },
   {
    "duration": 45,
    "start_time": "2021-12-03T05:05:48.017Z"
   },
   {
    "duration": 43,
    "start_time": "2021-12-03T05:05:48.020Z"
   },
   {
    "duration": 43,
    "start_time": "2021-12-03T05:05:48.022Z"
   },
   {
    "duration": 41,
    "start_time": "2021-12-03T05:05:48.025Z"
   },
   {
    "duration": 41,
    "start_time": "2021-12-03T05:05:48.027Z"
   },
   {
    "duration": 362,
    "start_time": "2021-12-03T05:44:44.405Z"
   },
   {
    "duration": 919,
    "start_time": "2021-12-03T05:44:59.108Z"
   },
   {
    "duration": 94,
    "start_time": "2021-12-03T05:45:00.030Z"
   },
   {
    "duration": 57,
    "start_time": "2021-12-03T05:45:00.127Z"
   },
   {
    "duration": 16,
    "start_time": "2021-12-03T05:45:00.187Z"
   },
   {
    "duration": 141,
    "start_time": "2021-12-03T05:45:00.206Z"
   },
   {
    "duration": 21,
    "start_time": "2021-12-03T05:45:00.350Z"
   },
   {
    "duration": 10,
    "start_time": "2021-12-03T05:45:00.373Z"
   },
   {
    "duration": 24,
    "start_time": "2021-12-03T05:45:00.385Z"
   },
   {
    "duration": 14,
    "start_time": "2021-12-03T05:45:00.413Z"
   },
   {
    "duration": 1106,
    "start_time": "2021-12-03T05:45:00.430Z"
   },
   {
    "duration": 460,
    "start_time": "2021-12-03T05:45:01.081Z"
   },
   {
    "duration": 432,
    "start_time": "2021-12-03T05:45:01.111Z"
   },
   {
    "duration": 403,
    "start_time": "2021-12-03T05:45:01.142Z"
   },
   {
    "duration": 382,
    "start_time": "2021-12-03T05:45:01.165Z"
   },
   {
    "duration": 353,
    "start_time": "2021-12-03T05:45:01.195Z"
   },
   {
    "duration": 336,
    "start_time": "2021-12-03T05:45:01.214Z"
   },
   {
    "duration": 303,
    "start_time": "2021-12-03T05:45:01.248Z"
   },
   {
    "duration": 299,
    "start_time": "2021-12-03T05:45:01.254Z"
   },
   {
    "duration": 289,
    "start_time": "2021-12-03T05:45:01.265Z"
   },
   {
    "duration": 284,
    "start_time": "2021-12-03T05:45:01.272Z"
   },
   {
    "duration": 276,
    "start_time": "2021-12-03T05:45:01.281Z"
   },
   {
    "duration": 269,
    "start_time": "2021-12-03T05:45:01.289Z"
   },
   {
    "duration": 264,
    "start_time": "2021-12-03T05:45:01.296Z"
   },
   {
    "duration": 259,
    "start_time": "2021-12-03T05:45:01.302Z"
   },
   {
    "duration": 252,
    "start_time": "2021-12-03T05:45:01.311Z"
   },
   {
    "duration": 248,
    "start_time": "2021-12-03T05:45:01.316Z"
   },
   {
    "duration": 243,
    "start_time": "2021-12-03T05:45:01.323Z"
   },
   {
    "duration": 236,
    "start_time": "2021-12-03T05:45:01.331Z"
   },
   {
    "duration": 231,
    "start_time": "2021-12-03T05:45:01.338Z"
   },
   {
    "duration": 211,
    "start_time": "2021-12-03T05:45:01.359Z"
   },
   {
    "duration": 190,
    "start_time": "2021-12-03T05:45:01.382Z"
   },
   {
    "duration": 168,
    "start_time": "2021-12-03T05:45:01.405Z"
   },
   {
    "duration": 161,
    "start_time": "2021-12-03T05:45:01.414Z"
   },
   {
    "duration": 138,
    "start_time": "2021-12-03T05:45:01.438Z"
   },
   {
    "duration": 127,
    "start_time": "2021-12-03T05:45:01.450Z"
   },
   {
    "duration": 81,
    "start_time": "2021-12-03T05:45:01.498Z"
   },
   {
    "duration": 50,
    "start_time": "2021-12-03T05:45:01.531Z"
   },
   {
    "duration": 21,
    "start_time": "2021-12-03T05:45:01.562Z"
   },
   {
    "duration": 2,
    "start_time": "2021-12-03T05:45:01.582Z"
   },
   {
    "duration": -30,
    "start_time": "2021-12-03T05:45:01.616Z"
   },
   {
    "duration": -35,
    "start_time": "2021-12-03T05:45:01.622Z"
   },
   {
    "duration": -40,
    "start_time": "2021-12-03T05:45:01.628Z"
   },
   {
    "duration": -44,
    "start_time": "2021-12-03T05:45:01.634Z"
   },
   {
    "duration": -48,
    "start_time": "2021-12-03T05:45:01.639Z"
   },
   {
    "duration": -53,
    "start_time": "2021-12-03T05:45:01.645Z"
   },
   {
    "duration": -57,
    "start_time": "2021-12-03T05:45:01.650Z"
   },
   {
    "duration": -63,
    "start_time": "2021-12-03T05:45:01.658Z"
   },
   {
    "duration": -68,
    "start_time": "2021-12-03T05:45:01.664Z"
   },
   {
    "duration": -72,
    "start_time": "2021-12-03T05:45:01.669Z"
   },
   {
    "duration": -75,
    "start_time": "2021-12-03T05:45:01.674Z"
   },
   {
    "duration": -145,
    "start_time": "2021-12-03T05:45:01.745Z"
   },
   {
    "duration": -160,
    "start_time": "2021-12-03T05:45:01.761Z"
   },
   {
    "duration": -175,
    "start_time": "2021-12-03T05:45:01.778Z"
   },
   {
    "duration": -192,
    "start_time": "2021-12-03T05:45:01.796Z"
   },
   {
    "duration": -217,
    "start_time": "2021-12-03T05:45:01.823Z"
   },
   {
    "duration": -233,
    "start_time": "2021-12-03T05:45:01.840Z"
   },
   {
    "duration": -194,
    "start_time": "2021-12-03T05:45:01.861Z"
   },
   {
    "duration": -209,
    "start_time": "2021-12-03T05:45:01.877Z"
   },
   {
    "duration": -224,
    "start_time": "2021-12-03T05:45:01.894Z"
   },
   {
    "duration": -229,
    "start_time": "2021-12-03T05:45:01.900Z"
   },
   {
    "duration": -232,
    "start_time": "2021-12-03T05:45:01.905Z"
   },
   {
    "duration": -255,
    "start_time": "2021-12-03T05:45:01.929Z"
   },
   {
    "duration": -259,
    "start_time": "2021-12-03T05:45:01.935Z"
   },
   {
    "duration": -263,
    "start_time": "2021-12-03T05:45:01.940Z"
   },
   {
    "duration": -267,
    "start_time": "2021-12-03T05:45:01.945Z"
   },
   {
    "duration": -270,
    "start_time": "2021-12-03T05:45:01.950Z"
   },
   {
    "duration": -274,
    "start_time": "2021-12-03T05:45:01.955Z"
   },
   {
    "duration": -278,
    "start_time": "2021-12-03T05:45:01.960Z"
   },
   {
    "duration": -282,
    "start_time": "2021-12-03T05:45:01.965Z"
   },
   {
    "duration": -285,
    "start_time": "2021-12-03T05:45:01.970Z"
   },
   {
    "duration": -290,
    "start_time": "2021-12-03T05:45:01.976Z"
   },
   {
    "duration": 7,
    "start_time": "2021-12-03T05:46:06.213Z"
   },
   {
    "duration": 62,
    "start_time": "2021-12-03T05:46:15.622Z"
   },
   {
    "duration": 58,
    "start_time": "2021-12-03T05:46:21.320Z"
   },
   {
    "duration": 3,
    "start_time": "2021-12-03T05:51:55.848Z"
   },
   {
    "duration": 87,
    "start_time": "2021-12-03T05:51:55.854Z"
   },
   {
    "duration": 44,
    "start_time": "2021-12-03T05:51:55.945Z"
   },
   {
    "duration": 15,
    "start_time": "2021-12-03T05:51:55.993Z"
   },
   {
    "duration": 135,
    "start_time": "2021-12-03T05:51:56.011Z"
   },
   {
    "duration": 14,
    "start_time": "2021-12-03T05:51:56.159Z"
   },
   {
    "duration": 10,
    "start_time": "2021-12-03T05:51:56.176Z"
   },
   {
    "duration": 11,
    "start_time": "2021-12-03T05:51:56.189Z"
   },
   {
    "duration": 7,
    "start_time": "2021-12-03T05:51:56.203Z"
   },
   {
    "duration": 9,
    "start_time": "2021-12-03T05:51:56.346Z"
   },
   {
    "duration": 15,
    "start_time": "2021-12-03T05:51:56.358Z"
   },
   {
    "duration": 14,
    "start_time": "2021-12-03T05:51:56.376Z"
   },
   {
    "duration": 11,
    "start_time": "2021-12-03T05:51:56.393Z"
   },
   {
    "duration": 60,
    "start_time": "2021-12-03T05:51:56.407Z"
   },
   {
    "duration": 11,
    "start_time": "2021-12-03T05:51:56.470Z"
   },
   {
    "duration": 18,
    "start_time": "2021-12-03T05:51:56.484Z"
   },
   {
    "duration": 4,
    "start_time": "2021-12-03T05:51:56.505Z"
   },
   {
    "duration": 1058,
    "start_time": "2021-12-03T05:51:56.512Z"
   },
   {
    "duration": 8,
    "start_time": "2021-12-03T05:51:57.572Z"
   },
   {
    "duration": 43,
    "start_time": "2021-12-03T05:51:57.582Z"
   },
   {
    "duration": 10,
    "start_time": "2021-12-03T05:51:57.628Z"
   },
   {
    "duration": 39,
    "start_time": "2021-12-03T05:51:57.640Z"
   },
   {
    "duration": 2113,
    "start_time": "2021-12-03T05:51:57.682Z"
   },
   {
    "duration": 522,
    "start_time": "2021-12-03T05:51:59.798Z"
   },
   {
    "duration": 7,
    "start_time": "2021-12-03T05:52:00.323Z"
   },
   {
    "duration": 276,
    "start_time": "2021-12-03T05:52:00.332Z"
   },
   {
    "duration": 80,
    "start_time": "2021-12-03T05:52:00.611Z"
   },
   {
    "duration": 11,
    "start_time": "2021-12-03T05:52:00.698Z"
   },
   {
    "duration": 18,
    "start_time": "2021-12-03T05:52:00.714Z"
   },
   {
    "duration": 47,
    "start_time": "2021-12-03T05:52:00.735Z"
   },
   {
    "duration": 19,
    "start_time": "2021-12-03T05:52:00.785Z"
   },
   {
    "duration": 281,
    "start_time": "2021-12-03T05:52:00.808Z"
   },
   {
    "duration": 17,
    "start_time": "2021-12-03T05:52:01.092Z"
   },
   {
    "duration": 36,
    "start_time": "2021-12-03T05:52:01.111Z"
   },
   {
    "duration": 596,
    "start_time": "2021-12-03T05:52:01.150Z"
   },
   {
    "duration": 522,
    "start_time": "2021-12-03T05:52:01.227Z"
   },
   {
    "duration": 506,
    "start_time": "2021-12-03T05:52:01.244Z"
   },
   {
    "duration": 482,
    "start_time": "2021-12-03T05:52:01.269Z"
   },
   {
    "duration": 476,
    "start_time": "2021-12-03T05:52:01.276Z"
   },
   {
    "duration": 462,
    "start_time": "2021-12-03T05:52:01.292Z"
   },
   {
    "duration": 458,
    "start_time": "2021-12-03T05:52:01.309Z"
   },
   {
    "duration": 442,
    "start_time": "2021-12-03T05:52:01.326Z"
   },
   {
    "duration": 438,
    "start_time": "2021-12-03T05:52:01.332Z"
   },
   {
    "duration": 433,
    "start_time": "2021-12-03T05:52:01.338Z"
   },
   {
    "duration": 428,
    "start_time": "2021-12-03T05:52:01.344Z"
   },
   {
    "duration": 423,
    "start_time": "2021-12-03T05:52:01.350Z"
   },
   {
    "duration": 419,
    "start_time": "2021-12-03T05:52:01.355Z"
   },
   {
    "duration": 414,
    "start_time": "2021-12-03T05:52:01.361Z"
   },
   {
    "duration": 411,
    "start_time": "2021-12-03T05:52:01.366Z"
   },
   {
    "duration": 407,
    "start_time": "2021-12-03T05:52:01.371Z"
   },
   {
    "duration": 402,
    "start_time": "2021-12-03T05:52:01.377Z"
   },
   {
    "duration": 398,
    "start_time": "2021-12-03T05:52:01.382Z"
   },
   {
    "duration": 393,
    "start_time": "2021-12-03T05:52:01.388Z"
   },
   {
    "duration": 389,
    "start_time": "2021-12-03T05:52:01.394Z"
   },
   {
    "duration": 384,
    "start_time": "2021-12-03T05:52:01.400Z"
   },
   {
    "duration": 340,
    "start_time": "2021-12-03T05:52:01.445Z"
   },
   {
    "duration": 324,
    "start_time": "2021-12-03T05:52:01.462Z"
   },
   {
    "duration": 301,
    "start_time": "2021-12-03T05:52:01.487Z"
   },
   {
    "duration": 264,
    "start_time": "2021-12-03T05:52:01.525Z"
   },
   {
    "duration": 247,
    "start_time": "2021-12-03T05:52:01.543Z"
   },
   {
    "duration": 234,
    "start_time": "2021-12-03T05:52:01.557Z"
   },
   {
    "duration": 216,
    "start_time": "2021-12-03T05:52:01.576Z"
   },
   {
    "duration": 203,
    "start_time": "2021-12-03T05:52:01.590Z"
   },
   {
    "duration": 168,
    "start_time": "2021-12-03T05:52:01.627Z"
   },
   {
    "duration": 164,
    "start_time": "2021-12-03T05:52:01.632Z"
   },
   {
    "duration": 160,
    "start_time": "2021-12-03T05:52:01.637Z"
   },
   {
    "duration": 156,
    "start_time": "2021-12-03T05:52:01.643Z"
   },
   {
    "duration": 152,
    "start_time": "2021-12-03T05:52:01.648Z"
   },
   {
    "duration": 148,
    "start_time": "2021-12-03T05:52:01.653Z"
   },
   {
    "duration": 144,
    "start_time": "2021-12-03T05:52:01.659Z"
   },
   {
    "duration": 69,
    "start_time": "2021-12-03T05:52:21.061Z"
   },
   {
    "duration": 6,
    "start_time": "2021-12-03T06:06:37.214Z"
   },
   {
    "duration": 9,
    "start_time": "2021-12-03T06:07:04.440Z"
   },
   {
    "duration": 263,
    "start_time": "2021-12-03T06:18:10.103Z"
   },
   {
    "duration": 704,
    "start_time": "2021-12-03T06:18:16.101Z"
   },
   {
    "duration": 98,
    "start_time": "2021-12-03T06:18:16.808Z"
   },
   {
    "duration": 40,
    "start_time": "2021-12-03T06:18:16.909Z"
   },
   {
    "duration": 28,
    "start_time": "2021-12-03T06:18:16.952Z"
   },
   {
    "duration": 128,
    "start_time": "2021-12-03T06:18:16.983Z"
   },
   {
    "duration": 11,
    "start_time": "2021-12-03T06:18:17.114Z"
   },
   {
    "duration": 10,
    "start_time": "2021-12-03T06:18:17.128Z"
   },
   {
    "duration": 33,
    "start_time": "2021-12-03T06:18:17.141Z"
   },
   {
    "duration": 7,
    "start_time": "2021-12-03T06:18:17.177Z"
   },
   {
    "duration": 10,
    "start_time": "2021-12-03T06:18:17.187Z"
   },
   {
    "duration": 17,
    "start_time": "2021-12-03T06:18:17.200Z"
   },
   {
    "duration": 53,
    "start_time": "2021-12-03T06:18:17.219Z"
   },
   {
    "duration": 11,
    "start_time": "2021-12-03T06:18:17.275Z"
   },
   {
    "duration": 86,
    "start_time": "2021-12-03T06:18:17.288Z"
   },
   {
    "duration": 461,
    "start_time": "2021-12-03T06:18:16.919Z"
   },
   {
    "duration": 457,
    "start_time": "2021-12-03T06:18:16.924Z"
   },
   {
    "duration": 453,
    "start_time": "2021-12-03T06:18:16.931Z"
   },
   {
    "duration": 450,
    "start_time": "2021-12-03T06:18:16.936Z"
   },
   {
    "duration": 446,
    "start_time": "2021-12-03T06:18:16.942Z"
   },
   {
    "duration": 443,
    "start_time": "2021-12-03T06:18:16.947Z"
   },
   {
    "duration": 439,
    "start_time": "2021-12-03T06:18:16.953Z"
   },
   {
    "duration": 435,
    "start_time": "2021-12-03T06:18:16.959Z"
   },
   {
    "duration": 432,
    "start_time": "2021-12-03T06:18:16.965Z"
   },
   {
    "duration": 429,
    "start_time": "2021-12-03T06:18:16.970Z"
   },
   {
    "duration": 426,
    "start_time": "2021-12-03T06:18:16.975Z"
   },
   {
    "duration": 130,
    "start_time": "2021-12-03T06:18:17.273Z"
   },
   {
    "duration": 127,
    "start_time": "2021-12-03T06:18:17.278Z"
   },
   {
    "duration": 125,
    "start_time": "2021-12-03T06:18:17.283Z"
   },
   {
    "duration": 122,
    "start_time": "2021-12-03T06:18:17.288Z"
   },
   {
    "duration": 119,
    "start_time": "2021-12-03T06:18:17.293Z"
   },
   {
    "duration": 104,
    "start_time": "2021-12-03T06:18:17.310Z"
   },
   {
    "duration": 101,
    "start_time": "2021-12-03T06:18:17.315Z"
   },
   {
    "duration": 135,
    "start_time": "2021-12-03T06:18:17.332Z"
   },
   {
    "duration": 115,
    "start_time": "2021-12-03T06:18:17.355Z"
   },
   {
    "duration": 109,
    "start_time": "2021-12-03T06:18:17.363Z"
   },
   {
    "duration": 95,
    "start_time": "2021-12-03T06:18:17.380Z"
   },
   {
    "duration": 31,
    "start_time": "2021-12-03T06:18:17.446Z"
   },
   {
    "duration": 15,
    "start_time": "2021-12-03T06:18:17.464Z"
   },
   {
    "duration": -437,
    "start_time": "2021-12-03T06:18:17.919Z"
   },
   {
    "duration": -440,
    "start_time": "2021-12-03T06:18:17.924Z"
   },
   {
    "duration": -462,
    "start_time": "2021-12-03T06:18:17.948Z"
   },
   {
    "duration": -476,
    "start_time": "2021-12-03T06:18:17.964Z"
   },
   {
    "duration": -492,
    "start_time": "2021-12-03T06:18:17.982Z"
   },
   {
    "duration": -505,
    "start_time": "2021-12-03T06:18:17.998Z"
   },
   {
    "duration": -521,
    "start_time": "2021-12-03T06:18:18.016Z"
   },
   {
    "duration": -534,
    "start_time": "2021-12-03T06:18:18.031Z"
   },
   {
    "duration": -549,
    "start_time": "2021-12-03T06:18:18.048Z"
   },
   {
    "duration": -562,
    "start_time": "2021-12-03T06:18:18.063Z"
   },
   {
    "duration": -576,
    "start_time": "2021-12-03T06:18:18.081Z"
   },
   {
    "duration": -532,
    "start_time": "2021-12-03T06:18:18.098Z"
   },
   {
    "duration": -550,
    "start_time": "2021-12-03T06:18:18.119Z"
   },
   {
    "duration": -557,
    "start_time": "2021-12-03T06:18:18.128Z"
   },
   {
    "duration": -563,
    "start_time": "2021-12-03T06:18:18.136Z"
   },
   {
    "duration": -569,
    "start_time": "2021-12-03T06:18:18.144Z"
   },
   {
    "duration": -575,
    "start_time": "2021-12-03T06:18:18.152Z"
   },
   {
    "duration": -580,
    "start_time": "2021-12-03T06:18:18.160Z"
   },
   {
    "duration": -586,
    "start_time": "2021-12-03T06:18:18.168Z"
   },
   {
    "duration": -592,
    "start_time": "2021-12-03T06:18:18.176Z"
   },
   {
    "duration": -599,
    "start_time": "2021-12-03T06:18:18.185Z"
   },
   {
    "duration": -605,
    "start_time": "2021-12-03T06:18:18.193Z"
   },
   {
    "duration": -610,
    "start_time": "2021-12-03T06:18:18.201Z"
   },
   {
    "duration": -617,
    "start_time": "2021-12-03T06:18:18.210Z"
   },
   {
    "duration": -652,
    "start_time": "2021-12-03T06:18:18.247Z"
   },
   {
    "duration": -667,
    "start_time": "2021-12-03T06:18:18.264Z"
   },
   {
    "duration": -698,
    "start_time": "2021-12-03T06:18:18.297Z"
   },
   {
    "duration": -715,
    "start_time": "2021-12-03T06:18:18.315Z"
   },
   {
    "duration": -731,
    "start_time": "2021-12-03T06:18:18.332Z"
   },
   {
    "duration": -744,
    "start_time": "2021-12-03T06:18:18.347Z"
   },
   {
    "duration": -759,
    "start_time": "2021-12-03T06:18:18.364Z"
   },
   {
    "duration": -774,
    "start_time": "2021-12-03T06:18:18.380Z"
   },
   {
    "duration": -739,
    "start_time": "2021-12-03T06:18:18.406Z"
   },
   {
    "duration": 402,
    "start_time": "2021-12-03T06:18:48.512Z"
   },
   {
    "duration": 1217,
    "start_time": "2021-12-03T11:40:21.204Z"
   },
   {
    "duration": 68,
    "start_time": "2021-12-03T11:40:22.423Z"
   },
   {
    "duration": 29,
    "start_time": "2021-12-03T11:40:22.493Z"
   },
   {
    "duration": 21,
    "start_time": "2021-12-03T11:40:22.524Z"
   },
   {
    "duration": 74,
    "start_time": "2021-12-03T11:40:22.547Z"
   },
   {
    "duration": 23,
    "start_time": "2021-12-03T11:40:22.622Z"
   },
   {
    "duration": 10,
    "start_time": "2021-12-03T11:40:22.647Z"
   },
   {
    "duration": 19,
    "start_time": "2021-12-03T11:40:22.659Z"
   },
   {
    "duration": 5,
    "start_time": "2021-12-03T11:40:22.681Z"
   },
   {
    "duration": 11,
    "start_time": "2021-12-03T11:40:22.688Z"
   },
   {
    "duration": 17,
    "start_time": "2021-12-03T11:40:22.700Z"
   },
   {
    "duration": 25,
    "start_time": "2021-12-03T11:40:22.719Z"
   },
   {
    "duration": 10,
    "start_time": "2021-12-03T11:40:22.746Z"
   },
   {
    "duration": 96,
    "start_time": "2021-12-03T11:40:22.758Z"
   },
   {
    "duration": -151,
    "start_time": "2021-12-03T11:40:23.008Z"
   },
   {
    "duration": -155,
    "start_time": "2021-12-03T11:40:23.013Z"
   },
   {
    "duration": -159,
    "start_time": "2021-12-03T11:40:23.018Z"
   },
   {
    "duration": -166,
    "start_time": "2021-12-03T11:40:23.026Z"
   },
   {
    "duration": -170,
    "start_time": "2021-12-03T11:40:23.031Z"
   },
   {
    "duration": -174,
    "start_time": "2021-12-03T11:40:23.036Z"
   },
   {
    "duration": -177,
    "start_time": "2021-12-03T11:40:23.040Z"
   },
   {
    "duration": -180,
    "start_time": "2021-12-03T11:40:23.044Z"
   },
   {
    "duration": -183,
    "start_time": "2021-12-03T11:40:23.048Z"
   },
   {
    "duration": -186,
    "start_time": "2021-12-03T11:40:23.052Z"
   },
   {
    "duration": -190,
    "start_time": "2021-12-03T11:40:23.057Z"
   },
   {
    "duration": -193,
    "start_time": "2021-12-03T11:40:23.061Z"
   },
   {
    "duration": -196,
    "start_time": "2021-12-03T11:40:23.065Z"
   },
   {
    "duration": -200,
    "start_time": "2021-12-03T11:40:23.070Z"
   },
   {
    "duration": -204,
    "start_time": "2021-12-03T11:40:23.075Z"
   },
   {
    "duration": -207,
    "start_time": "2021-12-03T11:40:23.079Z"
   },
   {
    "duration": -210,
    "start_time": "2021-12-03T11:40:23.083Z"
   },
   {
    "duration": -233,
    "start_time": "2021-12-03T11:40:23.107Z"
   },
   {
    "duration": -237,
    "start_time": "2021-12-03T11:40:23.112Z"
   },
   {
    "duration": -312,
    "start_time": "2021-12-03T11:40:23.188Z"
   },
   {
    "duration": -315,
    "start_time": "2021-12-03T11:40:23.192Z"
   },
   {
    "duration": -318,
    "start_time": "2021-12-03T11:40:23.196Z"
   },
   {
    "duration": -321,
    "start_time": "2021-12-03T11:40:23.200Z"
   },
   {
    "duration": -333,
    "start_time": "2021-12-03T11:40:23.213Z"
   },
   {
    "duration": -337,
    "start_time": "2021-12-03T11:40:23.218Z"
   },
   {
    "duration": -340,
    "start_time": "2021-12-03T11:40:23.222Z"
   },
   {
    "duration": -343,
    "start_time": "2021-12-03T11:40:23.226Z"
   },
   {
    "duration": -347,
    "start_time": "2021-12-03T11:40:23.231Z"
   },
   {
    "duration": -351,
    "start_time": "2021-12-03T11:40:23.236Z"
   },
   {
    "duration": -355,
    "start_time": "2021-12-03T11:40:23.241Z"
   },
   {
    "duration": -359,
    "start_time": "2021-12-03T11:40:23.246Z"
   },
   {
    "duration": -363,
    "start_time": "2021-12-03T11:40:23.251Z"
   },
   {
    "duration": -366,
    "start_time": "2021-12-03T11:40:23.255Z"
   },
   {
    "duration": -369,
    "start_time": "2021-12-03T11:40:23.259Z"
   },
   {
    "duration": -372,
    "start_time": "2021-12-03T11:40:23.263Z"
   },
   {
    "duration": -376,
    "start_time": "2021-12-03T11:40:23.268Z"
   },
   {
    "duration": -405,
    "start_time": "2021-12-03T11:40:23.298Z"
   },
   {
    "duration": -408,
    "start_time": "2021-12-03T11:40:23.302Z"
   },
   {
    "duration": -411,
    "start_time": "2021-12-03T11:40:23.306Z"
   },
   {
    "duration": -423,
    "start_time": "2021-12-03T11:40:23.319Z"
   },
   {
    "duration": -378,
    "start_time": "2021-12-03T11:40:23.323Z"
   },
   {
    "duration": -381,
    "start_time": "2021-12-03T11:40:23.327Z"
   },
   {
    "duration": -383,
    "start_time": "2021-12-03T11:40:23.331Z"
   },
   {
    "duration": -388,
    "start_time": "2021-12-03T11:40:23.337Z"
   },
   {
    "duration": -390,
    "start_time": "2021-12-03T11:40:23.341Z"
   },
   {
    "duration": -393,
    "start_time": "2021-12-03T11:40:23.345Z"
   },
   {
    "duration": -396,
    "start_time": "2021-12-03T11:40:23.349Z"
   },
   {
    "duration": -399,
    "start_time": "2021-12-03T11:40:23.354Z"
   },
   {
    "duration": -404,
    "start_time": "2021-12-03T11:40:23.360Z"
   },
   {
    "duration": -406,
    "start_time": "2021-12-03T11:40:23.364Z"
   },
   {
    "duration": -410,
    "start_time": "2021-12-03T11:40:23.369Z"
   },
   {
    "duration": -412,
    "start_time": "2021-12-03T11:40:23.373Z"
   },
   {
    "duration": -415,
    "start_time": "2021-12-03T11:40:23.377Z"
   },
   {
    "duration": -417,
    "start_time": "2021-12-03T11:40:23.381Z"
   },
   {
    "duration": -421,
    "start_time": "2021-12-03T11:40:23.386Z"
   },
   {
    "duration": -424,
    "start_time": "2021-12-03T11:40:23.390Z"
   },
   {
    "duration": -426,
    "start_time": "2021-12-03T11:40:23.394Z"
   },
   {
    "duration": 3,
    "start_time": "2021-12-03T11:40:57.191Z"
   },
   {
    "duration": 71,
    "start_time": "2021-12-03T11:40:57.196Z"
   },
   {
    "duration": 23,
    "start_time": "2021-12-03T11:40:57.269Z"
   },
   {
    "duration": 11,
    "start_time": "2021-12-03T11:40:57.294Z"
   },
   {
    "duration": 89,
    "start_time": "2021-12-03T11:40:57.307Z"
   },
   {
    "duration": 8,
    "start_time": "2021-12-03T11:40:57.398Z"
   },
   {
    "duration": 12,
    "start_time": "2021-12-03T11:40:57.408Z"
   },
   {
    "duration": 24,
    "start_time": "2021-12-03T11:40:57.422Z"
   },
   {
    "duration": 5,
    "start_time": "2021-12-03T11:40:57.447Z"
   },
   {
    "duration": 17,
    "start_time": "2021-12-03T11:40:57.453Z"
   },
   {
    "duration": 36,
    "start_time": "2021-12-03T11:40:57.471Z"
   },
   {
    "duration": 10,
    "start_time": "2021-12-03T11:40:57.508Z"
   },
   {
    "duration": 26,
    "start_time": "2021-12-03T11:40:57.519Z"
   },
   {
    "duration": 111,
    "start_time": "2021-12-03T11:40:57.547Z"
   },
   {
    "duration": -379,
    "start_time": "2021-12-03T11:40:58.041Z"
   },
   {
    "duration": -383,
    "start_time": "2021-12-03T11:40:58.046Z"
   },
   {
    "duration": -386,
    "start_time": "2021-12-03T11:40:58.050Z"
   },
   {
    "duration": -390,
    "start_time": "2021-12-03T11:40:58.055Z"
   },
   {
    "duration": -392,
    "start_time": "2021-12-03T11:40:58.059Z"
   },
   {
    "duration": -396,
    "start_time": "2021-12-03T11:40:58.064Z"
   },
   {
    "duration": -399,
    "start_time": "2021-12-03T11:40:58.068Z"
   },
   {
    "duration": -402,
    "start_time": "2021-12-03T11:40:58.073Z"
   },
   {
    "duration": -411,
    "start_time": "2021-12-03T11:40:58.083Z"
   },
   {
    "duration": -415,
    "start_time": "2021-12-03T11:40:58.088Z"
   },
   {
    "duration": -418,
    "start_time": "2021-12-03T11:40:58.093Z"
   },
   {
    "duration": -421,
    "start_time": "2021-12-03T11:40:58.097Z"
   },
   {
    "duration": -424,
    "start_time": "2021-12-03T11:40:58.101Z"
   },
   {
    "duration": -429,
    "start_time": "2021-12-03T11:40:58.107Z"
   },
   {
    "duration": -430,
    "start_time": "2021-12-03T11:40:58.110Z"
   },
   {
    "duration": -434,
    "start_time": "2021-12-03T11:40:58.115Z"
   },
   {
    "duration": -437,
    "start_time": "2021-12-03T11:40:58.119Z"
   },
   {
    "duration": -439,
    "start_time": "2021-12-03T11:40:58.123Z"
   },
   {
    "duration": -442,
    "start_time": "2021-12-03T11:40:58.127Z"
   },
   {
    "duration": -446,
    "start_time": "2021-12-03T11:40:58.132Z"
   },
   {
    "duration": -450,
    "start_time": "2021-12-03T11:40:58.136Z"
   },
   {
    "duration": -454,
    "start_time": "2021-12-03T11:40:58.141Z"
   },
   {
    "duration": -457,
    "start_time": "2021-12-03T11:40:58.145Z"
   },
   {
    "duration": -460,
    "start_time": "2021-12-03T11:40:58.149Z"
   },
   {
    "duration": -464,
    "start_time": "2021-12-03T11:40:58.154Z"
   },
   {
    "duration": -468,
    "start_time": "2021-12-03T11:40:58.159Z"
   },
   {
    "duration": -472,
    "start_time": "2021-12-03T11:40:58.164Z"
   },
   {
    "duration": -475,
    "start_time": "2021-12-03T11:40:58.168Z"
   },
   {
    "duration": -478,
    "start_time": "2021-12-03T11:40:58.172Z"
   },
   {
    "duration": -482,
    "start_time": "2021-12-03T11:40:58.177Z"
   },
   {
    "duration": -485,
    "start_time": "2021-12-03T11:40:58.181Z"
   },
   {
    "duration": -501,
    "start_time": "2021-12-03T11:40:58.198Z"
   },
   {
    "duration": -506,
    "start_time": "2021-12-03T11:40:58.203Z"
   },
   {
    "duration": -510,
    "start_time": "2021-12-03T11:40:58.208Z"
   },
   {
    "duration": -515,
    "start_time": "2021-12-03T11:40:58.214Z"
   },
   {
    "duration": -520,
    "start_time": "2021-12-03T11:40:58.220Z"
   },
   {
    "duration": -526,
    "start_time": "2021-12-03T11:40:58.226Z"
   },
   {
    "duration": -487,
    "start_time": "2021-12-03T11:40:58.231Z"
   },
   {
    "duration": -490,
    "start_time": "2021-12-03T11:40:58.235Z"
   },
   {
    "duration": -494,
    "start_time": "2021-12-03T11:40:58.240Z"
   },
   {
    "duration": -498,
    "start_time": "2021-12-03T11:40:58.245Z"
   },
   {
    "duration": -501,
    "start_time": "2021-12-03T11:40:58.249Z"
   },
   {
    "duration": -506,
    "start_time": "2021-12-03T11:40:58.254Z"
   },
   {
    "duration": -509,
    "start_time": "2021-12-03T11:40:58.258Z"
   },
   {
    "duration": -512,
    "start_time": "2021-12-03T11:40:58.262Z"
   },
   {
    "duration": -516,
    "start_time": "2021-12-03T11:40:58.267Z"
   },
   {
    "duration": -519,
    "start_time": "2021-12-03T11:40:58.271Z"
   },
   {
    "duration": -522,
    "start_time": "2021-12-03T11:40:58.275Z"
   },
   {
    "duration": -526,
    "start_time": "2021-12-03T11:40:58.279Z"
   },
   {
    "duration": -530,
    "start_time": "2021-12-03T11:40:58.284Z"
   },
   {
    "duration": -533,
    "start_time": "2021-12-03T11:40:58.288Z"
   },
   {
    "duration": -537,
    "start_time": "2021-12-03T11:40:58.293Z"
   },
   {
    "duration": -548,
    "start_time": "2021-12-03T11:40:58.305Z"
   },
   {
    "duration": -552,
    "start_time": "2021-12-03T11:40:58.309Z"
   },
   {
    "duration": -556,
    "start_time": "2021-12-03T11:40:58.314Z"
   },
   {
    "duration": -559,
    "start_time": "2021-12-03T11:40:58.318Z"
   },
   {
    "duration": -562,
    "start_time": "2021-12-03T11:40:58.322Z"
   },
   {
    "duration": 3,
    "start_time": "2021-12-03T11:41:25.396Z"
   },
   {
    "duration": 70,
    "start_time": "2021-12-03T11:41:25.401Z"
   },
   {
    "duration": 25,
    "start_time": "2021-12-03T11:41:25.473Z"
   },
   {
    "duration": 11,
    "start_time": "2021-12-03T11:41:25.500Z"
   },
   {
    "duration": 92,
    "start_time": "2021-12-03T11:41:25.513Z"
   },
   {
    "duration": 8,
    "start_time": "2021-12-03T11:41:25.607Z"
   },
   {
    "duration": 7,
    "start_time": "2021-12-03T11:41:25.646Z"
   },
   {
    "duration": 8,
    "start_time": "2021-12-03T11:41:25.655Z"
   },
   {
    "duration": 7,
    "start_time": "2021-12-03T11:41:25.665Z"
   },
   {
    "duration": 9,
    "start_time": "2021-12-03T11:41:25.674Z"
   },
   {
    "duration": 12,
    "start_time": "2021-12-03T11:41:25.685Z"
   },
   {
    "duration": 55,
    "start_time": "2021-12-03T11:41:25.698Z"
   },
   {
    "duration": 11,
    "start_time": "2021-12-03T11:41:25.755Z"
   },
   {
    "duration": 14,
    "start_time": "2021-12-03T11:41:25.768Z"
   },
   {
    "duration": 13,
    "start_time": "2021-12-03T11:41:25.784Z"
   },
   {
    "duration": 46,
    "start_time": "2021-12-03T11:41:25.798Z"
   },
   {
    "duration": 3,
    "start_time": "2021-12-03T11:41:25.846Z"
   },
   {
    "duration": 563,
    "start_time": "2021-12-03T11:41:25.851Z"
   },
   {
    "duration": 5,
    "start_time": "2021-12-03T11:41:26.417Z"
   },
   {
    "duration": 36,
    "start_time": "2021-12-03T11:41:26.425Z"
   },
   {
    "duration": 7,
    "start_time": "2021-12-03T11:41:26.463Z"
   },
   {
    "duration": 22,
    "start_time": "2021-12-03T11:41:26.471Z"
   },
   {
    "duration": 1258,
    "start_time": "2021-12-03T11:41:26.495Z"
   },
   {
    "duration": 292,
    "start_time": "2021-12-03T11:41:27.754Z"
   },
   {
    "duration": 5,
    "start_time": "2021-12-03T11:41:28.048Z"
   },
   {
    "duration": 154,
    "start_time": "2021-12-03T11:41:28.055Z"
   },
   {
    "duration": 52,
    "start_time": "2021-12-03T11:41:28.211Z"
   },
   {
    "duration": 7,
    "start_time": "2021-12-03T11:41:28.265Z"
   },
   {
    "duration": 11,
    "start_time": "2021-12-03T11:41:28.274Z"
   },
   {
    "duration": 12,
    "start_time": "2021-12-03T11:41:28.287Z"
   },
   {
    "duration": 332,
    "start_time": "2021-12-03T11:41:28.301Z"
   },
   {
    "duration": 17,
    "start_time": "2021-12-03T11:41:28.634Z"
   },
   {
    "duration": 146,
    "start_time": "2021-12-03T11:41:28.653Z"
   },
   {
    "duration": 10,
    "start_time": "2021-12-03T11:41:28.800Z"
   },
   {
    "duration": 26,
    "start_time": "2021-12-03T11:41:28.812Z"
   },
   {
    "duration": 810,
    "start_time": "2021-12-03T11:41:28.840Z"
   },
   {
    "duration": 185,
    "start_time": "2021-12-03T11:41:29.652Z"
   },
   {
    "duration": 11,
    "start_time": "2021-12-03T11:41:29.839Z"
   },
   {
    "duration": 4,
    "start_time": "2021-12-03T11:41:29.852Z"
   },
   {
    "duration": 192,
    "start_time": "2021-12-03T11:41:29.858Z"
   },
   {
    "duration": 10,
    "start_time": "2021-12-03T11:41:30.052Z"
   },
   {
    "duration": 15,
    "start_time": "2021-12-03T11:41:30.064Z"
   },
   {
    "duration": 177,
    "start_time": "2021-12-03T11:41:30.081Z"
   },
   {
    "duration": 21,
    "start_time": "2021-12-03T11:41:30.259Z"
   },
   {
    "duration": 20,
    "start_time": "2021-12-03T11:41:30.282Z"
   },
   {
    "duration": 40,
    "start_time": "2021-12-03T11:41:30.303Z"
   },
   {
    "duration": 27,
    "start_time": "2021-12-03T11:41:30.345Z"
   },
   {
    "duration": 60,
    "start_time": "2021-12-03T11:41:30.374Z"
   },
   {
    "duration": 6,
    "start_time": "2021-12-03T11:41:30.437Z"
   },
   {
    "duration": 305,
    "start_time": "2021-12-03T11:41:30.445Z"
   },
   {
    "duration": 9,
    "start_time": "2021-12-03T11:41:30.752Z"
   },
   {
    "duration": 26,
    "start_time": "2021-12-03T11:41:30.762Z"
   },
   {
    "duration": 159,
    "start_time": "2021-12-03T11:41:30.790Z"
   },
   {
    "duration": 7,
    "start_time": "2021-12-03T11:41:30.951Z"
   },
   {
    "duration": 256,
    "start_time": "2021-12-03T11:41:30.963Z"
   },
   {
    "duration": 8,
    "start_time": "2021-12-03T11:41:31.222Z"
   },
   {
    "duration": 149,
    "start_time": "2021-12-03T11:41:31.244Z"
   },
   {
    "duration": 7,
    "start_time": "2021-12-03T11:41:31.395Z"
   },
   {
    "duration": 144,
    "start_time": "2021-12-03T11:41:31.404Z"
   },
   {
    "duration": 12,
    "start_time": "2021-12-03T11:41:31.549Z"
   },
   {
    "duration": 39,
    "start_time": "2021-12-03T11:41:31.562Z"
   },
   {
    "duration": 28,
    "start_time": "2021-12-03T11:41:31.603Z"
   },
   {
    "duration": 10,
    "start_time": "2021-12-03T11:41:31.633Z"
   },
   {
    "duration": 175,
    "start_time": "2021-12-03T11:41:31.645Z"
   },
   {
    "duration": 200,
    "start_time": "2021-12-03T11:41:31.822Z"
   },
   {
    "duration": 11,
    "start_time": "2021-12-03T11:41:32.023Z"
   },
   {
    "duration": 4,
    "start_time": "2021-12-03T11:41:32.045Z"
   },
   {
    "duration": 223,
    "start_time": "2021-12-03T11:41:32.051Z"
   },
   {
    "duration": 4,
    "start_time": "2021-12-03T11:41:32.276Z"
   },
   {
    "duration": 245,
    "start_time": "2021-12-03T11:41:32.282Z"
   },
   {
    "duration": 5,
    "start_time": "2021-12-03T11:41:32.528Z"
   },
   {
    "duration": 3,
    "start_time": "2021-12-03T11:42:44.097Z"
   },
   {
    "duration": 79,
    "start_time": "2021-12-03T11:42:44.104Z"
   },
   {
    "duration": 25,
    "start_time": "2021-12-03T11:42:44.184Z"
   },
   {
    "duration": 12,
    "start_time": "2021-12-03T11:42:44.211Z"
   },
   {
    "duration": 83,
    "start_time": "2021-12-03T11:42:44.225Z"
   },
   {
    "duration": 7,
    "start_time": "2021-12-03T11:42:44.310Z"
   },
   {
    "duration": 26,
    "start_time": "2021-12-03T11:42:44.319Z"
   },
   {
    "duration": 22,
    "start_time": "2021-12-03T11:42:44.347Z"
   },
   {
    "duration": 22,
    "start_time": "2021-12-03T11:42:44.371Z"
   },
   {
    "duration": 30,
    "start_time": "2021-12-03T11:42:44.394Z"
   },
   {
    "duration": 30,
    "start_time": "2021-12-03T11:42:44.425Z"
   },
   {
    "duration": 31,
    "start_time": "2021-12-03T11:42:44.456Z"
   },
   {
    "duration": 17,
    "start_time": "2021-12-03T11:42:44.489Z"
   },
   {
    "duration": 21,
    "start_time": "2021-12-03T11:42:44.507Z"
   },
   {
    "duration": 12,
    "start_time": "2021-12-03T11:42:44.531Z"
   },
   {
    "duration": 34,
    "start_time": "2021-12-03T11:42:44.545Z"
   },
   {
    "duration": 13,
    "start_time": "2021-12-03T11:42:44.581Z"
   },
   {
    "duration": 601,
    "start_time": "2021-12-03T11:42:44.595Z"
   },
   {
    "duration": 5,
    "start_time": "2021-12-03T11:42:45.198Z"
   },
   {
    "duration": 22,
    "start_time": "2021-12-03T11:42:45.206Z"
   },
   {
    "duration": 25,
    "start_time": "2021-12-03T11:42:45.230Z"
   },
   {
    "duration": 12,
    "start_time": "2021-12-03T11:42:45.257Z"
   },
   {
    "duration": 1267,
    "start_time": "2021-12-03T11:42:45.271Z"
   },
   {
    "duration": 296,
    "start_time": "2021-12-03T11:42:46.540Z"
   },
   {
    "duration": 9,
    "start_time": "2021-12-03T11:42:46.838Z"
   },
   {
    "duration": 153,
    "start_time": "2021-12-03T11:42:46.849Z"
   },
   {
    "duration": 35,
    "start_time": "2021-12-03T11:42:47.005Z"
   },
   {
    "duration": 8,
    "start_time": "2021-12-03T11:42:47.042Z"
   },
   {
    "duration": 33,
    "start_time": "2021-12-03T11:42:47.051Z"
   },
   {
    "duration": 41,
    "start_time": "2021-12-03T11:42:47.086Z"
   },
   {
    "duration": 284,
    "start_time": "2021-12-03T11:42:47.129Z"
   },
   {
    "duration": 11,
    "start_time": "2021-12-03T11:42:47.414Z"
   },
   {
    "duration": 149,
    "start_time": "2021-12-03T11:42:47.427Z"
   },
   {
    "duration": 10,
    "start_time": "2021-12-03T11:42:47.577Z"
   },
   {
    "duration": 17,
    "start_time": "2021-12-03T11:42:47.589Z"
   },
   {
    "duration": 251,
    "start_time": "2021-12-03T11:42:47.607Z"
   },
   {
    "duration": 200,
    "start_time": "2021-12-03T11:42:47.860Z"
   },
   {
    "duration": 12,
    "start_time": "2021-12-03T11:42:48.062Z"
   },
   {
    "duration": 5,
    "start_time": "2021-12-03T11:42:48.076Z"
   },
   {
    "duration": 197,
    "start_time": "2021-12-03T11:42:48.083Z"
   },
   {
    "duration": 11,
    "start_time": "2021-12-03T11:42:48.282Z"
   },
   {
    "duration": 8,
    "start_time": "2021-12-03T11:42:48.295Z"
   },
   {
    "duration": 189,
    "start_time": "2021-12-03T11:42:48.305Z"
   },
   {
    "duration": 22,
    "start_time": "2021-12-03T11:42:48.496Z"
   },
   {
    "duration": 7,
    "start_time": "2021-12-03T11:42:48.520Z"
   },
   {
    "duration": 126,
    "start_time": "2021-12-03T11:42:48.545Z"
   },
   {
    "duration": 23,
    "start_time": "2021-12-03T11:42:48.672Z"
   },
   {
    "duration": 60,
    "start_time": "2021-12-03T11:42:48.699Z"
   },
   {
    "duration": 5,
    "start_time": "2021-12-03T11:42:48.761Z"
   },
   {
    "duration": 281,
    "start_time": "2021-12-03T11:42:48.768Z"
   },
   {
    "duration": 6,
    "start_time": "2021-12-03T11:42:49.051Z"
   },
   {
    "duration": 11,
    "start_time": "2021-12-03T11:42:49.058Z"
   },
   {
    "duration": 147,
    "start_time": "2021-12-03T11:42:49.071Z"
   },
   {
    "duration": 10,
    "start_time": "2021-12-03T11:42:49.220Z"
   },
   {
    "duration": 144,
    "start_time": "2021-12-03T11:42:49.231Z"
   },
   {
    "duration": 16,
    "start_time": "2021-12-03T11:42:49.377Z"
   },
   {
    "duration": 151,
    "start_time": "2021-12-03T11:42:49.395Z"
   },
   {
    "duration": 8,
    "start_time": "2021-12-03T11:42:49.547Z"
   },
   {
    "duration": 143,
    "start_time": "2021-12-03T11:42:49.556Z"
   },
   {
    "duration": 11,
    "start_time": "2021-12-03T11:42:49.701Z"
   },
   {
    "duration": 9,
    "start_time": "2021-12-03T11:42:49.714Z"
   },
   {
    "duration": 20,
    "start_time": "2021-12-03T11:42:49.725Z"
   },
   {
    "duration": 9,
    "start_time": "2021-12-03T11:42:49.747Z"
   },
   {
    "duration": 190,
    "start_time": "2021-12-03T11:42:49.758Z"
   },
   {
    "duration": 210,
    "start_time": "2021-12-03T11:42:49.950Z"
   },
   {
    "duration": 10,
    "start_time": "2021-12-03T11:42:50.162Z"
   },
   {
    "duration": 6,
    "start_time": "2021-12-03T11:42:50.173Z"
   },
   {
    "duration": 214,
    "start_time": "2021-12-03T11:42:50.181Z"
   },
   {
    "duration": 5,
    "start_time": "2021-12-03T11:42:50.396Z"
   },
   {
    "duration": 248,
    "start_time": "2021-12-03T11:42:50.402Z"
   },
   {
    "duration": 5,
    "start_time": "2021-12-03T11:42:50.651Z"
   },
   {
    "duration": 561,
    "start_time": "2021-12-03T12:06:51.008Z"
   },
   {
    "duration": 377,
    "start_time": "2021-12-03T12:08:32.932Z"
   },
   {
    "duration": 2118,
    "start_time": "2021-12-03T12:08:41.485Z"
   },
   {
    "duration": 2140,
    "start_time": "2021-12-03T12:09:26.796Z"
   },
   {
    "duration": 283,
    "start_time": "2021-12-03T12:12:51.428Z"
   },
   {
    "duration": 475,
    "start_time": "2021-12-03T12:13:08.553Z"
   },
   {
    "duration": 573,
    "start_time": "2021-12-03T12:18:50.214Z"
   },
   {
    "duration": 416,
    "start_time": "2021-12-03T12:19:32.577Z"
   },
   {
    "duration": 443,
    "start_time": "2021-12-03T12:19:54.287Z"
   },
   {
    "duration": 160,
    "start_time": "2021-12-03T12:23:39.270Z"
   },
   {
    "duration": 187,
    "start_time": "2021-12-03T12:24:33.151Z"
   },
   {
    "duration": 184,
    "start_time": "2021-12-03T12:25:41.554Z"
   },
   {
    "duration": 189,
    "start_time": "2021-12-03T12:27:49.976Z"
   },
   {
    "duration": 178,
    "start_time": "2021-12-03T12:28:08.106Z"
   },
   {
    "duration": 2,
    "start_time": "2021-12-03T12:57:56.089Z"
   },
   {
    "duration": 74,
    "start_time": "2021-12-03T12:57:56.093Z"
   },
   {
    "duration": 23,
    "start_time": "2021-12-03T12:57:56.169Z"
   },
   {
    "duration": 10,
    "start_time": "2021-12-03T12:57:56.194Z"
   },
   {
    "duration": 216,
    "start_time": "2021-12-03T12:57:56.206Z"
   },
   {
    "duration": 7,
    "start_time": "2021-12-03T12:57:56.424Z"
   },
   {
    "duration": 6,
    "start_time": "2021-12-03T12:57:56.445Z"
   },
   {
    "duration": 6,
    "start_time": "2021-12-03T12:57:56.453Z"
   },
   {
    "duration": 4,
    "start_time": "2021-12-03T12:57:56.461Z"
   },
   {
    "duration": 7,
    "start_time": "2021-12-03T12:57:56.467Z"
   },
   {
    "duration": 11,
    "start_time": "2021-12-03T12:57:56.475Z"
   },
   {
    "duration": 7,
    "start_time": "2021-12-03T12:57:56.488Z"
   },
   {
    "duration": 7,
    "start_time": "2021-12-03T12:57:56.497Z"
   },
   {
    "duration": 47,
    "start_time": "2021-12-03T12:57:56.506Z"
   },
   {
    "duration": 6,
    "start_time": "2021-12-03T12:57:56.555Z"
   },
   {
    "duration": 15,
    "start_time": "2021-12-03T12:57:56.562Z"
   },
   {
    "duration": 3,
    "start_time": "2021-12-03T12:57:56.578Z"
   },
   {
    "duration": 559,
    "start_time": "2021-12-03T12:57:56.582Z"
   },
   {
    "duration": 5,
    "start_time": "2021-12-03T12:57:57.146Z"
   },
   {
    "duration": 22,
    "start_time": "2021-12-03T12:57:57.153Z"
   },
   {
    "duration": 6,
    "start_time": "2021-12-03T12:57:57.177Z"
   },
   {
    "duration": 9,
    "start_time": "2021-12-03T12:57:57.184Z"
   },
   {
    "duration": 1204,
    "start_time": "2021-12-03T12:57:57.194Z"
   },
   {
    "duration": 290,
    "start_time": "2021-12-03T12:57:58.399Z"
   },
   {
    "duration": 6,
    "start_time": "2021-12-03T12:57:58.691Z"
   },
   {
    "duration": 148,
    "start_time": "2021-12-03T12:57:58.698Z"
   },
   {
    "duration": 39,
    "start_time": "2021-12-03T12:57:58.848Z"
   },
   {
    "duration": 7,
    "start_time": "2021-12-03T12:57:58.889Z"
   },
   {
    "duration": 11,
    "start_time": "2021-12-03T12:57:58.899Z"
   },
   {
    "duration": 40,
    "start_time": "2021-12-03T12:57:58.912Z"
   },
   {
    "duration": 251,
    "start_time": "2021-12-03T12:57:58.953Z"
   },
   {
    "duration": 12,
    "start_time": "2021-12-03T12:57:59.206Z"
   },
   {
    "duration": 262,
    "start_time": "2021-12-03T12:57:59.219Z"
   },
   {
    "duration": 9,
    "start_time": "2021-12-03T12:57:59.483Z"
   },
   {
    "duration": 4,
    "start_time": "2021-12-03T12:57:59.494Z"
   },
   {
    "duration": 186,
    "start_time": "2021-12-03T12:57:59.500Z"
   },
   {
    "duration": 11,
    "start_time": "2021-12-03T12:57:59.688Z"
   },
   {
    "duration": 5,
    "start_time": "2021-12-03T12:57:59.700Z"
   },
   {
    "duration": 177,
    "start_time": "2021-12-03T12:57:59.706Z"
   },
   {
    "duration": 11,
    "start_time": "2021-12-03T12:57:59.885Z"
   },
   {
    "duration": 4,
    "start_time": "2021-12-03T12:57:59.898Z"
   },
   {
    "duration": 185,
    "start_time": "2021-12-03T12:57:59.904Z"
   },
   {
    "duration": 20,
    "start_time": "2021-12-03T12:58:00.091Z"
   },
   {
    "duration": 7,
    "start_time": "2021-12-03T12:58:00.113Z"
   },
   {
    "duration": 38,
    "start_time": "2021-12-03T12:58:00.121Z"
   },
   {
    "duration": 9,
    "start_time": "2021-12-03T12:58:00.161Z"
   },
   {
    "duration": 32,
    "start_time": "2021-12-03T12:58:00.172Z"
   },
   {
    "duration": 5,
    "start_time": "2021-12-03T12:58:00.206Z"
   },
   {
    "duration": 285,
    "start_time": "2021-12-03T12:58:00.213Z"
   },
   {
    "duration": 6,
    "start_time": "2021-12-03T12:58:00.500Z"
   },
   {
    "duration": 23,
    "start_time": "2021-12-03T12:58:00.508Z"
   },
   {
    "duration": 138,
    "start_time": "2021-12-03T12:58:00.532Z"
   },
   {
    "duration": 6,
    "start_time": "2021-12-03T12:58:00.672Z"
   },
   {
    "duration": 144,
    "start_time": "2021-12-03T12:58:00.680Z"
   },
   {
    "duration": 7,
    "start_time": "2021-12-03T12:58:00.829Z"
   },
   {
    "duration": 138,
    "start_time": "2021-12-03T12:58:00.845Z"
   },
   {
    "duration": 7,
    "start_time": "2021-12-03T12:58:00.985Z"
   },
   {
    "duration": 134,
    "start_time": "2021-12-03T12:58:00.993Z"
   },
   {
    "duration": 19,
    "start_time": "2021-12-03T12:58:01.128Z"
   },
   {
    "duration": 24,
    "start_time": "2021-12-03T12:58:01.149Z"
   },
   {
    "duration": 14,
    "start_time": "2021-12-03T12:58:01.175Z"
   },
   {
    "duration": 23,
    "start_time": "2021-12-03T12:58:01.190Z"
   },
   {
    "duration": 180,
    "start_time": "2021-12-03T12:58:01.216Z"
   },
   {
    "duration": 189,
    "start_time": "2021-12-03T12:58:01.398Z"
   },
   {
    "duration": 9,
    "start_time": "2021-12-03T12:58:01.589Z"
   },
   {
    "duration": 23,
    "start_time": "2021-12-03T12:58:01.600Z"
   },
   {
    "duration": 193,
    "start_time": "2021-12-03T12:58:01.625Z"
   },
   {
    "duration": 5,
    "start_time": "2021-12-03T12:58:01.819Z"
   },
   {
    "duration": 238,
    "start_time": "2021-12-03T12:58:01.826Z"
   },
   {
    "duration": 5,
    "start_time": "2021-12-03T12:58:02.065Z"
   },
   {
    "duration": 3,
    "start_time": "2021-12-03T13:03:31.498Z"
   },
   {
    "duration": 79,
    "start_time": "2021-12-03T13:03:31.503Z"
   },
   {
    "duration": 22,
    "start_time": "2021-12-03T13:03:31.584Z"
   },
   {
    "duration": 37,
    "start_time": "2021-12-03T13:03:31.608Z"
   },
   {
    "duration": 69,
    "start_time": "2021-12-03T13:03:31.651Z"
   },
   {
    "duration": 8,
    "start_time": "2021-12-03T13:03:31.721Z"
   },
   {
    "duration": 10,
    "start_time": "2021-12-03T13:03:31.745Z"
   },
   {
    "duration": 8,
    "start_time": "2021-12-03T13:03:31.758Z"
   },
   {
    "duration": 32,
    "start_time": "2021-12-03T13:03:31.768Z"
   },
   {
    "duration": 7,
    "start_time": "2021-12-03T13:03:31.802Z"
   },
   {
    "duration": 12,
    "start_time": "2021-12-03T13:03:31.810Z"
   },
   {
    "duration": 8,
    "start_time": "2021-12-03T13:03:31.824Z"
   },
   {
    "duration": 25,
    "start_time": "2021-12-03T13:03:31.833Z"
   },
   {
    "duration": 12,
    "start_time": "2021-12-03T13:03:31.860Z"
   },
   {
    "duration": 11,
    "start_time": "2021-12-03T13:03:31.873Z"
   },
   {
    "duration": 15,
    "start_time": "2021-12-03T13:03:31.885Z"
   },
   {
    "duration": 3,
    "start_time": "2021-12-03T13:03:31.901Z"
   },
   {
    "duration": 614,
    "start_time": "2021-12-03T13:03:31.906Z"
   },
   {
    "duration": 4,
    "start_time": "2021-12-03T13:03:32.522Z"
   },
   {
    "duration": 36,
    "start_time": "2021-12-03T13:03:32.528Z"
   },
   {
    "duration": 6,
    "start_time": "2021-12-03T13:03:32.566Z"
   },
   {
    "duration": 12,
    "start_time": "2021-12-03T13:03:32.573Z"
   },
   {
    "duration": 1342,
    "start_time": "2021-12-03T13:03:32.589Z"
   },
   {
    "duration": 296,
    "start_time": "2021-12-03T13:03:33.934Z"
   },
   {
    "duration": 5,
    "start_time": "2021-12-03T13:03:34.232Z"
   },
   {
    "duration": 168,
    "start_time": "2021-12-03T13:03:34.239Z"
   },
   {
    "duration": 51,
    "start_time": "2021-12-03T13:03:34.409Z"
   },
   {
    "duration": 7,
    "start_time": "2021-12-03T13:03:34.462Z"
   },
   {
    "duration": 16,
    "start_time": "2021-12-03T13:03:34.471Z"
   },
   {
    "duration": 21,
    "start_time": "2021-12-03T13:03:34.488Z"
   },
   {
    "duration": 308,
    "start_time": "2021-12-03T13:03:34.511Z"
   },
   {
    "duration": 27,
    "start_time": "2021-12-03T13:03:34.821Z"
   },
   {
    "duration": 146,
    "start_time": "2021-12-03T13:03:34.850Z"
   },
   {
    "duration": 10,
    "start_time": "2021-12-03T13:03:34.998Z"
   },
   {
    "duration": 5,
    "start_time": "2021-12-03T13:03:35.009Z"
   },
   {
    "duration": 202,
    "start_time": "2021-12-03T13:03:35.015Z"
   },
   {
    "duration": 11,
    "start_time": "2021-12-03T13:03:35.219Z"
   },
   {
    "duration": 16,
    "start_time": "2021-12-03T13:03:35.231Z"
   },
   {
    "duration": 189,
    "start_time": "2021-12-03T13:03:35.250Z"
   },
   {
    "duration": 15,
    "start_time": "2021-12-03T13:03:35.444Z"
   },
   {
    "duration": 5,
    "start_time": "2021-12-03T13:03:35.462Z"
   },
   {
    "duration": 195,
    "start_time": "2021-12-03T13:03:35.468Z"
   },
   {
    "duration": 24,
    "start_time": "2021-12-03T13:03:35.665Z"
   },
   {
    "duration": 7,
    "start_time": "2021-12-03T13:03:35.694Z"
   },
   {
    "duration": 31,
    "start_time": "2021-12-03T13:03:35.702Z"
   },
   {
    "duration": 17,
    "start_time": "2021-12-03T13:03:35.734Z"
   },
   {
    "duration": 32,
    "start_time": "2021-12-03T13:03:35.756Z"
   },
   {
    "duration": 6,
    "start_time": "2021-12-03T13:03:35.789Z"
   },
   {
    "duration": 299,
    "start_time": "2021-12-03T13:03:35.796Z"
   },
   {
    "duration": 7,
    "start_time": "2021-12-03T13:03:36.096Z"
   },
   {
    "duration": 10,
    "start_time": "2021-12-03T13:03:36.104Z"
   },
   {
    "duration": 152,
    "start_time": "2021-12-03T13:03:36.115Z"
   },
   {
    "duration": 7,
    "start_time": "2021-12-03T13:03:36.268Z"
   },
   {
    "duration": 150,
    "start_time": "2021-12-03T13:03:36.277Z"
   },
   {
    "duration": 7,
    "start_time": "2021-12-03T13:03:36.428Z"
   },
   {
    "duration": 148,
    "start_time": "2021-12-03T13:03:36.445Z"
   },
   {
    "duration": 7,
    "start_time": "2021-12-03T13:03:36.595Z"
   },
   {
    "duration": 140,
    "start_time": "2021-12-03T13:03:36.604Z"
   },
   {
    "duration": 15,
    "start_time": "2021-12-03T13:03:36.747Z"
   },
   {
    "duration": 27,
    "start_time": "2021-12-03T13:03:36.764Z"
   },
   {
    "duration": 28,
    "start_time": "2021-12-03T13:03:36.792Z"
   },
   {
    "duration": 17,
    "start_time": "2021-12-03T13:03:36.822Z"
   },
   {
    "duration": 186,
    "start_time": "2021-12-03T13:03:36.841Z"
   },
   {
    "duration": 197,
    "start_time": "2021-12-03T13:03:37.029Z"
   },
   {
    "duration": 18,
    "start_time": "2021-12-03T13:03:37.227Z"
   },
   {
    "duration": 5,
    "start_time": "2021-12-03T13:03:37.247Z"
   },
   {
    "duration": 242,
    "start_time": "2021-12-03T13:03:37.254Z"
   },
   {
    "duration": 5,
    "start_time": "2021-12-03T13:03:37.501Z"
   },
   {
    "duration": 254,
    "start_time": "2021-12-03T13:03:37.507Z"
   },
   {
    "duration": 4,
    "start_time": "2021-12-03T13:03:37.763Z"
   },
   {
    "duration": 3,
    "start_time": "2021-12-04T14:37:36.531Z"
   },
   {
    "duration": 286,
    "start_time": "2021-12-04T14:44:37.910Z"
   },
   {
    "duration": 115,
    "start_time": "2021-12-04T15:14:45.133Z"
   },
   {
    "duration": 9,
    "start_time": "2021-12-04T15:15:08.201Z"
   },
   {
    "duration": 4,
    "start_time": "2021-12-04T15:15:34.311Z"
   },
   {
    "duration": 248,
    "start_time": "2021-12-04T15:15:40.123Z"
   },
   {
    "duration": 4,
    "start_time": "2021-12-04T15:17:10.939Z"
   },
   {
    "duration": 266,
    "start_time": "2021-12-04T15:18:30.940Z"
   },
   {
    "duration": 1135,
    "start_time": "2021-12-04T15:18:35.789Z"
   },
   {
    "duration": 69,
    "start_time": "2021-12-04T15:18:36.925Z"
   },
   {
    "duration": 27,
    "start_time": "2021-12-04T15:18:36.996Z"
   },
   {
    "duration": 14,
    "start_time": "2021-12-04T15:18:37.025Z"
   },
   {
    "duration": 78,
    "start_time": "2021-12-04T15:18:37.041Z"
   },
   {
    "duration": 8,
    "start_time": "2021-12-04T15:18:37.121Z"
   },
   {
    "duration": 17,
    "start_time": "2021-12-04T15:18:37.131Z"
   },
   {
    "duration": 15,
    "start_time": "2021-12-04T15:18:37.149Z"
   },
   {
    "duration": 5,
    "start_time": "2021-12-04T15:18:37.166Z"
   },
   {
    "duration": 16,
    "start_time": "2021-12-04T15:18:37.173Z"
   },
   {
    "duration": 15,
    "start_time": "2021-12-04T15:18:37.191Z"
   },
   {
    "duration": 11,
    "start_time": "2021-12-04T15:18:37.208Z"
   },
   {
    "duration": 7,
    "start_time": "2021-12-04T15:18:37.221Z"
   },
   {
    "duration": 33,
    "start_time": "2021-12-04T15:18:37.230Z"
   },
   {
    "duration": 7,
    "start_time": "2021-12-04T15:18:37.265Z"
   },
   {
    "duration": 13,
    "start_time": "2021-12-04T15:18:37.273Z"
   },
   {
    "duration": 3,
    "start_time": "2021-12-04T15:18:37.287Z"
   },
   {
    "duration": 572,
    "start_time": "2021-12-04T15:18:37.292Z"
   },
   {
    "duration": 5,
    "start_time": "2021-12-04T15:18:37.865Z"
   },
   {
    "duration": 32,
    "start_time": "2021-12-04T15:18:37.871Z"
   },
   {
    "duration": 7,
    "start_time": "2021-12-04T15:18:37.905Z"
   },
   {
    "duration": 10,
    "start_time": "2021-12-04T15:18:37.913Z"
   },
   {
    "duration": 3,
    "start_time": "2021-12-04T15:18:37.924Z"
   },
   {
    "duration": 700,
    "start_time": "2021-12-04T15:18:37.929Z"
   },
   {
    "duration": 1275,
    "start_time": "2021-12-04T15:18:38.630Z"
   },
   {
    "duration": 307,
    "start_time": "2021-12-04T15:18:39.907Z"
   },
   {
    "duration": 6,
    "start_time": "2021-12-04T15:18:40.219Z"
   },
   {
    "duration": 164,
    "start_time": "2021-12-04T15:18:40.227Z"
   },
   {
    "duration": 43,
    "start_time": "2021-12-04T15:18:40.393Z"
   },
   {
    "duration": 6,
    "start_time": "2021-12-04T15:18:40.437Z"
   },
   {
    "duration": 34,
    "start_time": "2021-12-04T15:18:40.445Z"
   },
   {
    "duration": 24,
    "start_time": "2021-12-04T15:18:40.480Z"
   },
   {
    "duration": 324,
    "start_time": "2021-12-04T15:18:40.505Z"
   },
   {
    "duration": 11,
    "start_time": "2021-12-04T15:18:40.831Z"
   },
   {
    "duration": 143,
    "start_time": "2021-12-04T15:18:40.844Z"
   },
   {
    "duration": 10,
    "start_time": "2021-12-04T15:18:40.989Z"
   },
   {
    "duration": 7,
    "start_time": "2021-12-04T15:18:41.001Z"
   },
   {
    "duration": 188,
    "start_time": "2021-12-04T15:18:41.009Z"
   },
   {
    "duration": 11,
    "start_time": "2021-12-04T15:18:41.199Z"
   },
   {
    "duration": 34,
    "start_time": "2021-12-04T15:18:41.212Z"
   },
   {
    "duration": 187,
    "start_time": "2021-12-04T15:18:41.248Z"
   },
   {
    "duration": 10,
    "start_time": "2021-12-04T15:18:41.437Z"
   },
   {
    "duration": 21,
    "start_time": "2021-12-04T15:18:41.449Z"
   },
   {
    "duration": 166,
    "start_time": "2021-12-04T15:18:41.472Z"
   },
   {
    "duration": 21,
    "start_time": "2021-12-04T15:18:41.640Z"
   },
   {
    "duration": 24,
    "start_time": "2021-12-04T15:18:41.663Z"
   },
   {
    "duration": 114,
    "start_time": "2021-12-04T15:18:41.689Z"
   },
   {
    "duration": 25,
    "start_time": "2021-12-04T15:18:41.805Z"
   },
   {
    "duration": 58,
    "start_time": "2021-12-04T15:18:41.832Z"
   },
   {
    "duration": 5,
    "start_time": "2021-12-04T15:18:41.891Z"
   },
   {
    "duration": 295,
    "start_time": "2021-12-04T15:18:41.897Z"
   },
   {
    "duration": 7,
    "start_time": "2021-12-04T15:18:42.193Z"
   },
   {
    "duration": 10,
    "start_time": "2021-12-04T15:18:42.202Z"
   },
   {
    "duration": 144,
    "start_time": "2021-12-04T15:18:42.214Z"
   },
   {
    "duration": 8,
    "start_time": "2021-12-04T15:18:42.363Z"
   },
   {
    "duration": 154,
    "start_time": "2021-12-04T15:18:42.373Z"
   },
   {
    "duration": 7,
    "start_time": "2021-12-04T15:18:42.528Z"
   },
   {
    "duration": 141,
    "start_time": "2021-12-04T15:18:42.537Z"
   },
   {
    "duration": 7,
    "start_time": "2021-12-04T15:18:42.680Z"
   },
   {
    "duration": 137,
    "start_time": "2021-12-04T15:18:42.689Z"
   },
   {
    "duration": 11,
    "start_time": "2021-12-04T15:18:42.828Z"
   },
   {
    "duration": 23,
    "start_time": "2021-12-04T15:18:42.840Z"
   },
   {
    "duration": 7,
    "start_time": "2021-12-04T15:18:42.865Z"
   },
   {
    "duration": 41,
    "start_time": "2021-12-04T15:18:42.873Z"
   },
   {
    "duration": 161,
    "start_time": "2021-12-04T15:18:42.915Z"
   },
   {
    "duration": 215,
    "start_time": "2021-12-04T15:18:43.078Z"
   },
   {
    "duration": 10,
    "start_time": "2021-12-04T15:18:43.294Z"
   },
   {
    "duration": 7,
    "start_time": "2021-12-04T15:18:43.305Z"
   },
   {
    "duration": 213,
    "start_time": "2021-12-04T15:18:43.313Z"
   },
   {
    "duration": 5,
    "start_time": "2021-12-04T15:18:43.527Z"
   },
   {
    "duration": 359,
    "start_time": "2021-12-04T15:18:43.534Z"
   },
   {
    "duration": 5,
    "start_time": "2021-12-04T15:18:43.894Z"
   },
   {
    "duration": 307,
    "start_time": "2021-12-04T15:20:09.859Z"
   },
   {
    "duration": 247,
    "start_time": "2021-12-04T15:20:23.914Z"
   },
   {
    "duration": 242,
    "start_time": "2021-12-04T15:27:53.409Z"
   },
   {
    "duration": 251,
    "start_time": "2021-12-04T15:28:08.855Z"
   },
   {
    "duration": 772,
    "start_time": "2021-12-04T15:28:29.921Z"
   },
   {
    "duration": 236,
    "start_time": "2021-12-04T15:28:36.968Z"
   },
   {
    "duration": 835,
    "start_time": "2021-12-04T15:29:43.615Z"
   },
   {
    "duration": 239,
    "start_time": "2021-12-04T15:30:11.048Z"
   },
   {
    "duration": 239,
    "start_time": "2021-12-04T15:30:27.705Z"
   },
   {
    "duration": 257,
    "start_time": "2021-12-04T15:33:20.983Z"
   },
   {
    "duration": 768,
    "start_time": "2021-12-04T15:33:54.592Z"
   },
   {
    "duration": 246,
    "start_time": "2021-12-04T15:34:23.198Z"
   },
   {
    "duration": 290,
    "start_time": "2021-12-04T15:34:30.830Z"
   },
   {
    "duration": 1182,
    "start_time": "2021-12-04T15:52:32.369Z"
   },
   {
    "duration": 73,
    "start_time": "2021-12-04T15:52:33.552Z"
   },
   {
    "duration": 27,
    "start_time": "2021-12-04T15:52:33.627Z"
   },
   {
    "duration": 10,
    "start_time": "2021-12-04T15:52:33.656Z"
   },
   {
    "duration": 67,
    "start_time": "2021-12-04T15:52:33.668Z"
   },
   {
    "duration": 27,
    "start_time": "2021-12-04T15:52:33.737Z"
   },
   {
    "duration": 9,
    "start_time": "2021-12-04T15:52:33.766Z"
   },
   {
    "duration": 8,
    "start_time": "2021-12-04T15:52:33.777Z"
   },
   {
    "duration": 4,
    "start_time": "2021-12-04T15:52:33.788Z"
   },
   {
    "duration": 7,
    "start_time": "2021-12-04T15:52:33.794Z"
   },
   {
    "duration": 16,
    "start_time": "2021-12-04T15:52:33.802Z"
   },
   {
    "duration": 9,
    "start_time": "2021-12-04T15:52:33.819Z"
   },
   {
    "duration": 40,
    "start_time": "2021-12-04T15:52:33.830Z"
   },
   {
    "duration": 13,
    "start_time": "2021-12-04T15:52:33.872Z"
   },
   {
    "duration": 7,
    "start_time": "2021-12-04T15:52:33.887Z"
   },
   {
    "duration": 13,
    "start_time": "2021-12-04T15:52:33.896Z"
   },
   {
    "duration": 3,
    "start_time": "2021-12-04T15:52:33.910Z"
   },
   {
    "duration": 573,
    "start_time": "2021-12-04T15:52:33.914Z"
   },
   {
    "duration": 5,
    "start_time": "2021-12-04T15:52:34.489Z"
   },
   {
    "duration": 24,
    "start_time": "2021-12-04T15:52:34.496Z"
   },
   {
    "duration": 6,
    "start_time": "2021-12-04T15:52:34.522Z"
   },
   {
    "duration": 9,
    "start_time": "2021-12-04T15:52:34.530Z"
   },
   {
    "duration": 4,
    "start_time": "2021-12-04T15:52:34.563Z"
   },
   {
    "duration": 1140,
    "start_time": "2021-12-04T15:53:38.787Z"
   },
   {
    "duration": 68,
    "start_time": "2021-12-04T15:53:39.929Z"
   },
   {
    "duration": 30,
    "start_time": "2021-12-04T15:53:40.002Z"
   },
   {
    "duration": 29,
    "start_time": "2021-12-04T15:53:40.034Z"
   },
   {
    "duration": 74,
    "start_time": "2021-12-04T15:53:40.065Z"
   },
   {
    "duration": 25,
    "start_time": "2021-12-04T15:53:40.141Z"
   },
   {
    "duration": 6,
    "start_time": "2021-12-04T15:53:40.168Z"
   },
   {
    "duration": 6,
    "start_time": "2021-12-04T15:53:40.177Z"
   },
   {
    "duration": 6,
    "start_time": "2021-12-04T15:53:40.185Z"
   },
   {
    "duration": 7,
    "start_time": "2021-12-04T15:53:40.192Z"
   },
   {
    "duration": 16,
    "start_time": "2021-12-04T15:53:40.201Z"
   },
   {
    "duration": 16,
    "start_time": "2021-12-04T15:53:40.219Z"
   },
   {
    "duration": 32,
    "start_time": "2021-12-04T15:53:40.237Z"
   },
   {
    "duration": 15,
    "start_time": "2021-12-04T15:53:40.271Z"
   },
   {
    "duration": 20,
    "start_time": "2021-12-04T15:53:40.287Z"
   },
   {
    "duration": 14,
    "start_time": "2021-12-04T15:53:40.309Z"
   },
   {
    "duration": 12,
    "start_time": "2021-12-04T15:53:40.325Z"
   },
   {
    "duration": 558,
    "start_time": "2021-12-04T15:53:40.339Z"
   },
   {
    "duration": 6,
    "start_time": "2021-12-04T15:53:40.899Z"
   },
   {
    "duration": 27,
    "start_time": "2021-12-04T15:53:40.907Z"
   },
   {
    "duration": 7,
    "start_time": "2021-12-04T15:53:40.937Z"
   },
   {
    "duration": 11,
    "start_time": "2021-12-04T15:53:40.962Z"
   },
   {
    "duration": 5,
    "start_time": "2021-12-04T15:53:40.975Z"
   },
   {
    "duration": 731,
    "start_time": "2021-12-04T15:53:40.982Z"
   },
   {
    "duration": 1277,
    "start_time": "2021-12-04T15:53:41.714Z"
   },
   {
    "duration": 317,
    "start_time": "2021-12-04T15:53:42.996Z"
   },
   {
    "duration": 5,
    "start_time": "2021-12-04T15:53:43.316Z"
   },
   {
    "duration": 162,
    "start_time": "2021-12-04T15:53:43.323Z"
   },
   {
    "duration": 42,
    "start_time": "2021-12-04T15:53:43.487Z"
   },
   {
    "duration": 8,
    "start_time": "2021-12-04T15:53:43.531Z"
   },
   {
    "duration": 12,
    "start_time": "2021-12-04T15:53:43.564Z"
   },
   {
    "duration": 11,
    "start_time": "2021-12-04T15:53:43.578Z"
   },
   {
    "duration": 292,
    "start_time": "2021-12-04T15:53:43.591Z"
   },
   {
    "duration": 12,
    "start_time": "2021-12-04T15:53:43.885Z"
   },
   {
    "duration": 149,
    "start_time": "2021-12-04T15:53:43.899Z"
   },
   {
    "duration": 17,
    "start_time": "2021-12-04T15:53:44.049Z"
   },
   {
    "duration": 5,
    "start_time": "2021-12-04T15:53:44.068Z"
   },
   {
    "duration": 197,
    "start_time": "2021-12-04T15:53:44.075Z"
   },
   {
    "duration": 11,
    "start_time": "2021-12-04T15:53:44.274Z"
   },
   {
    "duration": 5,
    "start_time": "2021-12-04T15:53:44.287Z"
   },
   {
    "duration": 192,
    "start_time": "2021-12-04T15:53:44.293Z"
   },
   {
    "duration": 10,
    "start_time": "2021-12-04T15:53:44.487Z"
   },
   {
    "duration": 4,
    "start_time": "2021-12-04T15:53:44.499Z"
   },
   {
    "duration": 178,
    "start_time": "2021-12-04T15:53:44.505Z"
   },
   {
    "duration": 22,
    "start_time": "2021-12-04T15:53:44.685Z"
   },
   {
    "duration": 6,
    "start_time": "2021-12-04T15:53:44.708Z"
   },
   {
    "duration": 128,
    "start_time": "2021-12-04T15:53:44.716Z"
   },
   {
    "duration": 7,
    "start_time": "2021-12-04T15:53:44.846Z"
   },
   {
    "duration": 30,
    "start_time": "2021-12-04T15:53:44.863Z"
   },
   {
    "duration": 6,
    "start_time": "2021-12-04T15:53:44.895Z"
   },
   {
    "duration": 292,
    "start_time": "2021-12-04T15:53:44.903Z"
   },
   {
    "duration": 6,
    "start_time": "2021-12-04T15:53:45.197Z"
   },
   {
    "duration": 12,
    "start_time": "2021-12-04T15:53:45.205Z"
   },
   {
    "duration": 150,
    "start_time": "2021-12-04T15:53:45.219Z"
   },
   {
    "duration": 7,
    "start_time": "2021-12-04T15:53:45.371Z"
   },
   {
    "duration": 151,
    "start_time": "2021-12-04T15:53:45.380Z"
   },
   {
    "duration": 8,
    "start_time": "2021-12-04T15:53:45.532Z"
   },
   {
    "duration": 146,
    "start_time": "2021-12-04T15:53:45.541Z"
   },
   {
    "duration": 8,
    "start_time": "2021-12-04T15:53:45.688Z"
   },
   {
    "duration": 135,
    "start_time": "2021-12-04T15:53:45.698Z"
   },
   {
    "duration": 11,
    "start_time": "2021-12-04T15:53:45.834Z"
   },
   {
    "duration": 19,
    "start_time": "2021-12-04T15:53:45.848Z"
   },
   {
    "duration": 11,
    "start_time": "2021-12-04T15:53:45.869Z"
   },
   {
    "duration": 9,
    "start_time": "2021-12-04T15:53:45.882Z"
   },
   {
    "duration": 191,
    "start_time": "2021-12-04T15:53:45.893Z"
   },
   {
    "duration": 205,
    "start_time": "2021-12-04T15:53:46.086Z"
   },
   {
    "duration": 11,
    "start_time": "2021-12-04T15:53:46.293Z"
   },
   {
    "duration": 9,
    "start_time": "2021-12-04T15:53:46.305Z"
   },
   {
    "duration": 210,
    "start_time": "2021-12-04T15:53:46.315Z"
   },
   {
    "duration": 4,
    "start_time": "2021-12-04T15:53:46.526Z"
   },
   {
    "duration": 245,
    "start_time": "2021-12-04T15:53:46.532Z"
   },
   {
    "duration": 5,
    "start_time": "2021-12-04T15:53:46.778Z"
   },
   {
    "duration": 1018,
    "start_time": "2021-12-04T15:54:05.426Z"
   },
   {
    "duration": 943,
    "start_time": "2021-12-04T15:54:42.692Z"
   },
   {
    "duration": 927,
    "start_time": "2021-12-04T15:55:12.084Z"
   },
   {
    "duration": 1076,
    "start_time": "2021-12-04T15:55:28.315Z"
   },
   {
    "duration": 1032,
    "start_time": "2021-12-04T15:56:08.873Z"
   },
   {
    "duration": 331,
    "start_time": "2021-12-04T15:56:21.681Z"
   },
   {
    "duration": 554,
    "start_time": "2021-12-04T15:56:32.624Z"
   },
   {
    "duration": 1176,
    "start_time": "2021-12-04T15:57:03.329Z"
   },
   {
    "duration": 543,
    "start_time": "2021-12-04T15:57:17.096Z"
   },
   {
    "duration": 1089,
    "start_time": "2021-12-04T15:58:27.939Z"
   },
   {
    "duration": 508,
    "start_time": "2021-12-04T15:58:48.390Z"
   },
   {
    "duration": 505,
    "start_time": "2021-12-04T15:58:58.877Z"
   },
   {
    "duration": 490,
    "start_time": "2021-12-04T15:59:24.398Z"
   },
   {
    "duration": 599,
    "start_time": "2021-12-04T15:59:34.517Z"
   },
   {
    "duration": 509,
    "start_time": "2021-12-04T16:00:11.773Z"
   },
   {
    "duration": 975,
    "start_time": "2021-12-04T16:01:12.859Z"
   },
   {
    "duration": 734,
    "start_time": "2021-12-04T16:01:32.396Z"
   },
   {
    "duration": 247,
    "start_time": "2021-12-04T16:02:08.338Z"
   },
   {
    "duration": 249,
    "start_time": "2021-12-04T16:02:37.041Z"
   },
   {
    "duration": 5,
    "start_time": "2021-12-04T16:04:43.054Z"
   },
   {
    "duration": 732,
    "start_time": "2021-12-04T16:05:08.806Z"
   },
   {
    "duration": 1118,
    "start_time": "2021-12-04T16:05:50.765Z"
   },
   {
    "duration": 1251,
    "start_time": "2021-12-04T16:06:02.300Z"
   },
   {
    "duration": 1542,
    "start_time": "2021-12-04T16:06:10.740Z"
   },
   {
    "duration": 1035,
    "start_time": "2021-12-04T16:06:24.387Z"
   },
   {
    "duration": 1167,
    "start_time": "2021-12-04T16:06:33.260Z"
   },
   {
    "duration": 158,
    "start_time": "2021-12-04T16:10:17.646Z"
   },
   {
    "duration": 376,
    "start_time": "2021-12-04T16:13:41.930Z"
   },
   {
    "duration": 375,
    "start_time": "2021-12-04T16:14:06.360Z"
   },
   {
    "duration": 171,
    "start_time": "2021-12-04T16:15:36.087Z"
   },
   {
    "duration": 286,
    "start_time": "2021-12-04T16:19:40.945Z"
   },
   {
    "duration": 11,
    "start_time": "2021-12-04T16:20:20.066Z"
   },
   {
    "duration": 163,
    "start_time": "2021-12-04T16:20:31.215Z"
   },
   {
    "duration": 186,
    "start_time": "2021-12-04T16:25:52.369Z"
   },
   {
    "duration": 393,
    "start_time": "2021-12-04T16:26:51.919Z"
   },
   {
    "duration": 1034,
    "start_time": "2021-12-04T16:27:00.544Z"
   },
   {
    "duration": 6013,
    "start_time": "2021-12-04T16:46:52.451Z"
   },
   {
    "duration": 192,
    "start_time": "2021-12-04T16:47:12.280Z"
   },
   {
    "duration": 452,
    "start_time": "2021-12-04T16:51:15.632Z"
   },
   {
    "duration": 190,
    "start_time": "2021-12-04T16:52:41.051Z"
   },
   {
    "duration": 349,
    "start_time": "2021-12-04T16:53:38.629Z"
   },
   {
    "duration": 273,
    "start_time": "2021-12-04T16:53:49.572Z"
   },
   {
    "duration": 259,
    "start_time": "2021-12-04T16:54:24.659Z"
   },
   {
    "duration": 244,
    "start_time": "2021-12-04T16:54:52.748Z"
   },
   {
    "duration": 573,
    "start_time": "2021-12-04T16:55:30.653Z"
   },
   {
    "duration": 288,
    "start_time": "2021-12-04T16:57:50.668Z"
   },
   {
    "duration": 6376,
    "start_time": "2021-12-04T16:58:03.721Z"
   },
   {
    "duration": 254,
    "start_time": "2021-12-04T16:58:16.960Z"
   },
   {
    "duration": 297,
    "start_time": "2021-12-04T16:58:21.797Z"
   },
   {
    "duration": 269,
    "start_time": "2021-12-04T16:58:28.762Z"
   },
   {
    "duration": 205,
    "start_time": "2021-12-04T16:59:40.988Z"
   },
   {
    "duration": 181,
    "start_time": "2021-12-04T16:59:54.890Z"
   },
   {
    "duration": 253,
    "start_time": "2021-12-04T17:00:36.894Z"
   },
   {
    "duration": 227,
    "start_time": "2021-12-04T17:00:58.309Z"
   },
   {
    "duration": 17,
    "start_time": "2021-12-04T17:06:43.038Z"
   },
   {
    "duration": 210,
    "start_time": "2021-12-04T17:06:47.525Z"
   },
   {
    "duration": 402,
    "start_time": "2021-12-04T17:07:15.100Z"
   },
   {
    "duration": 217,
    "start_time": "2021-12-04T17:08:56.648Z"
   },
   {
    "duration": 224,
    "start_time": "2021-12-04T17:09:22.252Z"
   },
   {
    "duration": 137,
    "start_time": "2021-12-04T17:13:41.464Z"
   },
   {
    "duration": 133,
    "start_time": "2021-12-04T17:16:42.675Z"
   },
   {
    "duration": 126,
    "start_time": "2021-12-04T17:16:54.839Z"
   },
   {
    "duration": 130,
    "start_time": "2021-12-04T17:17:09.567Z"
   },
   {
    "duration": 125,
    "start_time": "2021-12-04T17:17:34.935Z"
   },
   {
    "duration": 382,
    "start_time": "2021-12-04T17:18:14.595Z"
   },
   {
    "duration": 120,
    "start_time": "2021-12-04T17:18:23.911Z"
   },
   {
    "duration": 4,
    "start_time": "2021-12-04T17:18:50.484Z"
   },
   {
    "duration": 76,
    "start_time": "2021-12-04T17:18:50.490Z"
   },
   {
    "duration": 24,
    "start_time": "2021-12-04T17:18:50.568Z"
   },
   {
    "duration": 12,
    "start_time": "2021-12-04T17:18:50.594Z"
   },
   {
    "duration": 93,
    "start_time": "2021-12-04T17:18:50.608Z"
   },
   {
    "duration": 8,
    "start_time": "2021-12-04T17:18:50.703Z"
   },
   {
    "duration": 26,
    "start_time": "2021-12-04T17:18:50.714Z"
   },
   {
    "duration": 10,
    "start_time": "2021-12-04T17:18:50.742Z"
   },
   {
    "duration": 16,
    "start_time": "2021-12-04T17:18:50.754Z"
   },
   {
    "duration": 10,
    "start_time": "2021-12-04T17:18:50.772Z"
   },
   {
    "duration": 15,
    "start_time": "2021-12-04T17:18:50.783Z"
   },
   {
    "duration": 9,
    "start_time": "2021-12-04T17:18:50.799Z"
   },
   {
    "duration": 8,
    "start_time": "2021-12-04T17:18:50.810Z"
   },
   {
    "duration": 13,
    "start_time": "2021-12-04T17:18:50.820Z"
   },
   {
    "duration": 29,
    "start_time": "2021-12-04T17:18:50.835Z"
   },
   {
    "duration": 14,
    "start_time": "2021-12-04T17:18:50.865Z"
   },
   {
    "duration": 9,
    "start_time": "2021-12-04T17:18:50.880Z"
   },
   {
    "duration": 581,
    "start_time": "2021-12-04T17:18:50.890Z"
   },
   {
    "duration": 5,
    "start_time": "2021-12-04T17:18:51.475Z"
   },
   {
    "duration": 26,
    "start_time": "2021-12-04T17:18:51.483Z"
   },
   {
    "duration": 7,
    "start_time": "2021-12-04T17:18:51.511Z"
   },
   {
    "duration": 11,
    "start_time": "2021-12-04T17:18:51.520Z"
   },
   {
    "duration": 30,
    "start_time": "2021-12-04T17:18:51.533Z"
   },
   {
    "duration": 1183,
    "start_time": "2021-12-04T17:18:51.566Z"
   },
   {
    "duration": 295,
    "start_time": "2021-12-04T17:18:52.751Z"
   },
   {
    "duration": 5,
    "start_time": "2021-12-04T17:18:53.047Z"
   },
   {
    "duration": 147,
    "start_time": "2021-12-04T17:18:53.063Z"
   },
   {
    "duration": 265,
    "start_time": "2021-12-04T17:18:53.212Z"
   },
   {
    "duration": 6,
    "start_time": "2021-12-04T17:18:53.479Z"
   },
   {
    "duration": 13,
    "start_time": "2021-12-04T17:18:53.487Z"
   },
   {
    "duration": 11,
    "start_time": "2021-12-04T17:18:53.502Z"
   },
   {
    "duration": 309,
    "start_time": "2021-12-04T17:18:53.514Z"
   },
   {
    "duration": 11,
    "start_time": "2021-12-04T17:18:53.825Z"
   },
   {
    "duration": 146,
    "start_time": "2021-12-04T17:18:53.838Z"
   },
   {
    "duration": 11,
    "start_time": "2021-12-04T17:18:53.986Z"
   },
   {
    "duration": 13,
    "start_time": "2021-12-04T17:18:53.998Z"
   },
   {
    "duration": 187,
    "start_time": "2021-12-04T17:18:54.013Z"
   },
   {
    "duration": 10,
    "start_time": "2021-12-04T17:18:54.202Z"
   },
   {
    "duration": 4,
    "start_time": "2021-12-04T17:18:54.214Z"
   },
   {
    "duration": 178,
    "start_time": "2021-12-04T17:18:54.220Z"
   },
   {
    "duration": 11,
    "start_time": "2021-12-04T17:18:54.399Z"
   },
   {
    "duration": 6,
    "start_time": "2021-12-04T17:18:54.411Z"
   },
   {
    "duration": 181,
    "start_time": "2021-12-04T17:18:54.419Z"
   },
   {
    "duration": 19,
    "start_time": "2021-12-04T17:18:54.602Z"
   },
   {
    "duration": 243,
    "start_time": "2021-12-04T17:18:54.623Z"
   },
   {
    "duration": 227,
    "start_time": "2021-12-04T17:18:54.868Z"
   },
   {
    "duration": 7,
    "start_time": "2021-12-04T17:18:55.097Z"
   },
   {
    "duration": 24,
    "start_time": "2021-12-04T17:18:55.106Z"
   },
   {
    "duration": 8,
    "start_time": "2021-12-04T17:18:55.132Z"
   },
   {
    "duration": 45,
    "start_time": "2021-12-04T17:18:55.142Z"
   },
   {
    "duration": 5,
    "start_time": "2021-12-04T17:18:55.189Z"
   },
   {
    "duration": 283,
    "start_time": "2021-12-04T17:18:55.196Z"
   },
   {
    "duration": 7,
    "start_time": "2021-12-04T17:18:55.481Z"
   },
   {
    "duration": 8,
    "start_time": "2021-12-04T17:18:55.490Z"
   },
   {
    "duration": 137,
    "start_time": "2021-12-04T17:18:55.503Z"
   },
   {
    "duration": 7,
    "start_time": "2021-12-04T17:18:55.642Z"
   },
   {
    "duration": 143,
    "start_time": "2021-12-04T17:18:55.651Z"
   },
   {
    "duration": 8,
    "start_time": "2021-12-04T17:18:55.796Z"
   },
   {
    "duration": 139,
    "start_time": "2021-12-04T17:18:55.806Z"
   },
   {
    "duration": 142,
    "start_time": "2021-12-04T17:18:55.948Z"
   },
   {
    "duration": 85,
    "start_time": "2021-12-04T17:18:56.092Z"
   },
   {
    "duration": 1592,
    "start_time": "2021-12-04T17:18:54.587Z"
   },
   {
    "duration": 1556,
    "start_time": "2021-12-04T17:18:54.625Z"
   },
   {
    "duration": 1509,
    "start_time": "2021-12-04T17:18:54.673Z"
   },
   {
    "duration": 1475,
    "start_time": "2021-12-04T17:18:54.709Z"
   },
   {
    "duration": 1471,
    "start_time": "2021-12-04T17:18:54.714Z"
   },
   {
    "duration": 1463,
    "start_time": "2021-12-04T17:18:54.724Z"
   },
   {
    "duration": 1460,
    "start_time": "2021-12-04T17:18:54.728Z"
   },
   {
    "duration": 1450,
    "start_time": "2021-12-04T17:18:54.739Z"
   },
   {
    "duration": 1443,
    "start_time": "2021-12-04T17:18:54.748Z"
   },
   {
    "duration": 1439,
    "start_time": "2021-12-04T17:18:54.753Z"
   },
   {
    "duration": 1436,
    "start_time": "2021-12-04T17:18:54.758Z"
   },
   {
    "duration": 1432,
    "start_time": "2021-12-04T17:18:54.763Z"
   },
   {
    "duration": 1429,
    "start_time": "2021-12-04T17:18:54.767Z"
   },
   {
    "duration": 1426,
    "start_time": "2021-12-04T17:18:54.772Z"
   },
   {
    "duration": 3,
    "start_time": "2021-12-04T17:19:13.235Z"
   },
   {
    "duration": 73,
    "start_time": "2021-12-04T17:19:13.264Z"
   },
   {
    "duration": 36,
    "start_time": "2021-12-04T17:19:13.339Z"
   },
   {
    "duration": 13,
    "start_time": "2021-12-04T17:19:13.377Z"
   },
   {
    "duration": 94,
    "start_time": "2021-12-04T17:19:13.393Z"
   },
   {
    "duration": 10,
    "start_time": "2021-12-04T17:19:13.489Z"
   },
   {
    "duration": 7,
    "start_time": "2021-12-04T17:19:13.501Z"
   },
   {
    "duration": 13,
    "start_time": "2021-12-04T17:19:13.511Z"
   },
   {
    "duration": 38,
    "start_time": "2021-12-04T17:19:13.528Z"
   },
   {
    "duration": 6,
    "start_time": "2021-12-04T17:19:13.568Z"
   },
   {
    "duration": 13,
    "start_time": "2021-12-04T17:19:13.576Z"
   },
   {
    "duration": 9,
    "start_time": "2021-12-04T17:19:13.591Z"
   },
   {
    "duration": 11,
    "start_time": "2021-12-04T17:19:13.602Z"
   },
   {
    "duration": 14,
    "start_time": "2021-12-04T17:19:13.615Z"
   },
   {
    "duration": 37,
    "start_time": "2021-12-04T17:19:13.631Z"
   },
   {
    "duration": 13,
    "start_time": "2021-12-04T17:19:13.670Z"
   },
   {
    "duration": 5,
    "start_time": "2021-12-04T17:19:13.685Z"
   },
   {
    "duration": 689,
    "start_time": "2021-12-04T17:19:13.692Z"
   },
   {
    "duration": 5,
    "start_time": "2021-12-04T17:19:14.383Z"
   },
   {
    "duration": 25,
    "start_time": "2021-12-04T17:19:14.389Z"
   },
   {
    "duration": 6,
    "start_time": "2021-12-04T17:19:14.416Z"
   },
   {
    "duration": 9,
    "start_time": "2021-12-04T17:19:14.424Z"
   },
   {
    "duration": 2,
    "start_time": "2021-12-04T17:19:14.434Z"
   },
   {
    "duration": 1297,
    "start_time": "2021-12-04T17:19:14.465Z"
   },
   {
    "duration": 310,
    "start_time": "2021-12-04T17:19:15.764Z"
   },
   {
    "duration": 6,
    "start_time": "2021-12-04T17:19:16.077Z"
   },
   {
    "duration": 158,
    "start_time": "2021-12-04T17:19:16.085Z"
   },
   {
    "duration": 54,
    "start_time": "2021-12-04T17:19:16.245Z"
   },
   {
    "duration": 8,
    "start_time": "2021-12-04T17:19:16.301Z"
   },
   {
    "duration": 17,
    "start_time": "2021-12-04T17:19:16.311Z"
   },
   {
    "duration": 12,
    "start_time": "2021-12-04T17:19:16.330Z"
   },
   {
    "duration": 309,
    "start_time": "2021-12-04T17:19:16.344Z"
   },
   {
    "duration": 12,
    "start_time": "2021-12-04T17:19:16.663Z"
   },
   {
    "duration": 378,
    "start_time": "2021-12-04T17:19:16.677Z"
   },
   {
    "duration": 16,
    "start_time": "2021-12-04T17:19:17.057Z"
   },
   {
    "duration": 4,
    "start_time": "2021-12-04T17:19:17.075Z"
   },
   {
    "duration": 192,
    "start_time": "2021-12-04T17:19:17.081Z"
   },
   {
    "duration": 10,
    "start_time": "2021-12-04T17:19:17.275Z"
   },
   {
    "duration": 5,
    "start_time": "2021-12-04T17:19:17.287Z"
   },
   {
    "duration": 176,
    "start_time": "2021-12-04T17:19:17.294Z"
   },
   {
    "duration": 11,
    "start_time": "2021-12-04T17:19:17.472Z"
   },
   {
    "duration": 7,
    "start_time": "2021-12-04T17:19:17.485Z"
   },
   {
    "duration": 186,
    "start_time": "2021-12-04T17:19:17.494Z"
   },
   {
    "duration": 18,
    "start_time": "2021-12-04T17:19:17.683Z"
   },
   {
    "duration": 238,
    "start_time": "2021-12-04T17:19:17.703Z"
   },
   {
    "duration": 221,
    "start_time": "2021-12-04T17:19:17.942Z"
   },
   {
    "duration": 7,
    "start_time": "2021-12-04T17:19:18.165Z"
   },
   {
    "duration": 21,
    "start_time": "2021-12-04T17:19:18.175Z"
   },
   {
    "duration": 9,
    "start_time": "2021-12-04T17:19:18.198Z"
   },
   {
    "duration": 30,
    "start_time": "2021-12-04T17:19:18.209Z"
   },
   {
    "duration": 6,
    "start_time": "2021-12-04T17:19:18.264Z"
   },
   {
    "duration": 276,
    "start_time": "2021-12-04T17:19:18.272Z"
   },
   {
    "duration": 7,
    "start_time": "2021-12-04T17:19:18.550Z"
   },
   {
    "duration": 7,
    "start_time": "2021-12-04T17:19:18.563Z"
   },
   {
    "duration": 122,
    "start_time": "2021-12-04T17:19:18.572Z"
   },
   {
    "duration": 8,
    "start_time": "2021-12-04T17:19:18.695Z"
   },
   {
    "duration": 144,
    "start_time": "2021-12-04T17:19:18.704Z"
   },
   {
    "duration": 14,
    "start_time": "2021-12-04T17:19:18.849Z"
   },
   {
    "duration": 140,
    "start_time": "2021-12-04T17:19:18.864Z"
   },
   {
    "duration": 137,
    "start_time": "2021-12-04T17:19:19.006Z"
   },
   {
    "duration": 18,
    "start_time": "2021-12-04T17:19:19.145Z"
   },
   {
    "duration": 125,
    "start_time": "2021-12-04T17:19:19.165Z"
   },
   {
    "duration": 12,
    "start_time": "2021-12-04T17:19:19.292Z"
   },
   {
    "duration": 11,
    "start_time": "2021-12-04T17:19:19.306Z"
   },
   {
    "duration": 7,
    "start_time": "2021-12-04T17:19:19.319Z"
   },
   {
    "duration": 37,
    "start_time": "2021-12-04T17:19:19.328Z"
   },
   {
    "duration": 175,
    "start_time": "2021-12-04T17:19:19.366Z"
   },
   {
    "duration": 200,
    "start_time": "2021-12-04T17:19:19.542Z"
   },
   {
    "duration": 19,
    "start_time": "2021-12-04T17:19:19.747Z"
   },
   {
    "duration": 4,
    "start_time": "2021-12-04T17:19:19.768Z"
   },
   {
    "duration": 230,
    "start_time": "2021-12-04T17:19:19.774Z"
   },
   {
    "duration": 5,
    "start_time": "2021-12-04T17:19:20.006Z"
   },
   {
    "duration": 265,
    "start_time": "2021-12-04T17:19:20.013Z"
   },
   {
    "duration": 6,
    "start_time": "2021-12-04T17:19:20.280Z"
   },
   {
    "duration": 206,
    "start_time": "2021-12-04T17:19:57.099Z"
   },
   {
    "duration": 231,
    "start_time": "2021-12-04T17:20:12.425Z"
   },
   {
    "duration": 235,
    "start_time": "2021-12-04T17:20:21.570Z"
   },
   {
    "duration": 217,
    "start_time": "2021-12-04T17:20:36.827Z"
   },
   {
    "duration": 3,
    "start_time": "2021-12-04T17:20:40.986Z"
   },
   {
    "duration": 73,
    "start_time": "2021-12-04T17:20:40.990Z"
   },
   {
    "duration": 24,
    "start_time": "2021-12-04T17:20:41.065Z"
   },
   {
    "duration": 10,
    "start_time": "2021-12-04T17:20:41.091Z"
   },
   {
    "duration": 91,
    "start_time": "2021-12-04T17:20:41.103Z"
   },
   {
    "duration": 8,
    "start_time": "2021-12-04T17:20:41.196Z"
   },
   {
    "duration": 6,
    "start_time": "2021-12-04T17:20:41.207Z"
   },
   {
    "duration": 7,
    "start_time": "2021-12-04T17:20:41.215Z"
   },
   {
    "duration": 41,
    "start_time": "2021-12-04T17:20:41.223Z"
   },
   {
    "duration": 15,
    "start_time": "2021-12-04T17:20:41.266Z"
   },
   {
    "duration": 13,
    "start_time": "2021-12-04T17:20:41.282Z"
   },
   {
    "duration": 8,
    "start_time": "2021-12-04T17:20:41.297Z"
   },
   {
    "duration": 9,
    "start_time": "2021-12-04T17:20:41.307Z"
   },
   {
    "duration": 13,
    "start_time": "2021-12-04T17:20:41.318Z"
   },
   {
    "duration": 9,
    "start_time": "2021-12-04T17:20:41.364Z"
   },
   {
    "duration": 15,
    "start_time": "2021-12-04T17:20:41.375Z"
   },
   {
    "duration": 4,
    "start_time": "2021-12-04T17:20:41.392Z"
   },
   {
    "duration": 679,
    "start_time": "2021-12-04T17:20:41.398Z"
   },
   {
    "duration": 6,
    "start_time": "2021-12-04T17:20:42.081Z"
   },
   {
    "duration": 22,
    "start_time": "2021-12-04T17:20:42.090Z"
   },
   {
    "duration": 7,
    "start_time": "2021-12-04T17:20:42.114Z"
   },
   {
    "duration": 10,
    "start_time": "2021-12-04T17:20:42.123Z"
   },
   {
    "duration": 3,
    "start_time": "2021-12-04T17:20:42.164Z"
   },
   {
    "duration": 1190,
    "start_time": "2021-12-04T17:20:42.168Z"
   },
   {
    "duration": 295,
    "start_time": "2021-12-04T17:20:43.362Z"
   },
   {
    "duration": 8,
    "start_time": "2021-12-04T17:20:43.658Z"
   },
   {
    "duration": 457,
    "start_time": "2021-12-04T17:20:43.667Z"
   },
   {
    "duration": 46,
    "start_time": "2021-12-04T17:20:44.126Z"
   },
   {
    "duration": 6,
    "start_time": "2021-12-04T17:20:44.174Z"
   },
   {
    "duration": 9,
    "start_time": "2021-12-04T17:20:44.182Z"
   },
   {
    "duration": 11,
    "start_time": "2021-12-04T17:20:44.193Z"
   },
   {
    "duration": 294,
    "start_time": "2021-12-04T17:20:44.206Z"
   },
   {
    "duration": 11,
    "start_time": "2021-12-04T17:20:44.502Z"
   },
   {
    "duration": 133,
    "start_time": "2021-12-04T17:20:44.514Z"
   },
   {
    "duration": 19,
    "start_time": "2021-12-04T17:20:44.648Z"
   },
   {
    "duration": 4,
    "start_time": "2021-12-04T17:20:44.669Z"
   },
   {
    "duration": 190,
    "start_time": "2021-12-04T17:20:44.675Z"
   },
   {
    "duration": 12,
    "start_time": "2021-12-04T17:20:44.866Z"
   },
   {
    "duration": 5,
    "start_time": "2021-12-04T17:20:44.880Z"
   },
   {
    "duration": 183,
    "start_time": "2021-12-04T17:20:44.887Z"
   },
   {
    "duration": 11,
    "start_time": "2021-12-04T17:20:45.072Z"
   },
   {
    "duration": 4,
    "start_time": "2021-12-04T17:20:45.085Z"
   },
   {
    "duration": 184,
    "start_time": "2021-12-04T17:20:45.091Z"
   },
   {
    "duration": 18,
    "start_time": "2021-12-04T17:20:45.277Z"
   },
   {
    "duration": 245,
    "start_time": "2021-12-04T17:20:45.297Z"
   },
   {
    "duration": 223,
    "start_time": "2021-12-04T17:20:45.543Z"
   },
   {
    "duration": 7,
    "start_time": "2021-12-04T17:20:45.768Z"
   },
   {
    "duration": 21,
    "start_time": "2021-12-04T17:20:45.777Z"
   },
   {
    "duration": 7,
    "start_time": "2021-12-04T17:20:45.799Z"
   },
   {
    "duration": 31,
    "start_time": "2021-12-04T17:20:45.807Z"
   },
   {
    "duration": 26,
    "start_time": "2021-12-04T17:20:45.840Z"
   },
   {
    "duration": 287,
    "start_time": "2021-12-04T17:20:45.868Z"
   },
   {
    "duration": 11,
    "start_time": "2021-12-04T17:20:46.157Z"
   },
   {
    "duration": 10,
    "start_time": "2021-12-04T17:20:46.170Z"
   },
   {
    "duration": 130,
    "start_time": "2021-12-04T17:20:46.184Z"
   },
   {
    "duration": 8,
    "start_time": "2021-12-04T17:20:46.317Z"
   },
   {
    "duration": 148,
    "start_time": "2021-12-04T17:20:46.327Z"
   },
   {
    "duration": 9,
    "start_time": "2021-12-04T17:20:46.477Z"
   },
   {
    "duration": 149,
    "start_time": "2021-12-04T17:20:46.488Z"
   },
   {
    "duration": 149,
    "start_time": "2021-12-04T17:20:46.639Z"
   },
   {
    "duration": 9,
    "start_time": "2021-12-04T17:20:46.789Z"
   },
   {
    "duration": 139,
    "start_time": "2021-12-04T17:20:46.799Z"
   },
   {
    "duration": 11,
    "start_time": "2021-12-04T17:20:46.940Z"
   },
   {
    "duration": 22,
    "start_time": "2021-12-04T17:20:46.953Z"
   },
   {
    "duration": 12,
    "start_time": "2021-12-04T17:20:46.976Z"
   },
   {
    "duration": 20,
    "start_time": "2021-12-04T17:20:46.989Z"
   },
   {
    "duration": 175,
    "start_time": "2021-12-04T17:20:47.011Z"
   },
   {
    "duration": 195,
    "start_time": "2021-12-04T17:20:47.188Z"
   },
   {
    "duration": 10,
    "start_time": "2021-12-04T17:20:47.385Z"
   },
   {
    "duration": 9,
    "start_time": "2021-12-04T17:20:47.397Z"
   },
   {
    "duration": 217,
    "start_time": "2021-12-04T17:20:47.408Z"
   },
   {
    "duration": 5,
    "start_time": "2021-12-04T17:20:47.627Z"
   },
   {
    "duration": 248,
    "start_time": "2021-12-04T17:20:47.634Z"
   },
   {
    "duration": 4,
    "start_time": "2021-12-04T17:20:47.884Z"
   },
   {
    "duration": 1154,
    "start_time": "2021-12-22T08:36:15.784Z"
   },
   {
    "duration": 68,
    "start_time": "2021-12-22T08:36:16.940Z"
   },
   {
    "duration": 29,
    "start_time": "2021-12-22T08:36:17.010Z"
   },
   {
    "duration": 10,
    "start_time": "2021-12-22T08:36:17.041Z"
   },
   {
    "duration": 90,
    "start_time": "2021-12-22T08:36:17.052Z"
   },
   {
    "duration": 8,
    "start_time": "2021-12-22T08:36:17.144Z"
   },
   {
    "duration": 7,
    "start_time": "2021-12-22T08:36:17.153Z"
   },
   {
    "duration": 30,
    "start_time": "2021-12-22T08:36:17.162Z"
   },
   {
    "duration": 5,
    "start_time": "2021-12-22T08:36:17.194Z"
   },
   {
    "duration": 12,
    "start_time": "2021-12-22T08:36:17.200Z"
   },
   {
    "duration": 12,
    "start_time": "2021-12-22T08:36:17.213Z"
   },
   {
    "duration": 10,
    "start_time": "2021-12-22T08:36:17.226Z"
   },
   {
    "duration": 7,
    "start_time": "2021-12-22T08:36:17.237Z"
   },
   {
    "duration": 46,
    "start_time": "2021-12-22T08:36:17.246Z"
   },
   {
    "duration": 8,
    "start_time": "2021-12-22T08:36:17.294Z"
   },
   {
    "duration": 12,
    "start_time": "2021-12-22T08:36:17.304Z"
   },
   {
    "duration": 3,
    "start_time": "2021-12-22T08:36:17.317Z"
   },
   {
    "duration": 593,
    "start_time": "2021-12-22T08:36:17.322Z"
   },
   {
    "duration": 4,
    "start_time": "2021-12-22T08:36:17.917Z"
   },
   {
    "duration": 24,
    "start_time": "2021-12-22T08:36:17.923Z"
   },
   {
    "duration": 7,
    "start_time": "2021-12-22T08:36:17.948Z"
   },
   {
    "duration": 8,
    "start_time": "2021-12-22T08:36:17.956Z"
   },
   {
    "duration": 4,
    "start_time": "2021-12-22T08:36:17.992Z"
   },
   {
    "duration": 1305,
    "start_time": "2021-12-22T08:36:17.998Z"
   },
   {
    "duration": 376,
    "start_time": "2021-12-22T08:36:19.305Z"
   },
   {
    "duration": 11,
    "start_time": "2021-12-22T08:36:19.683Z"
   },
   {
    "duration": 163,
    "start_time": "2021-12-22T08:36:19.696Z"
   },
   {
    "duration": 54,
    "start_time": "2021-12-22T08:36:19.861Z"
   },
   {
    "duration": 6,
    "start_time": "2021-12-22T08:36:19.917Z"
   },
   {
    "duration": 11,
    "start_time": "2021-12-22T08:36:19.924Z"
   },
   {
    "duration": 12,
    "start_time": "2021-12-22T08:36:19.936Z"
   },
   {
    "duration": 322,
    "start_time": "2021-12-22T08:36:19.949Z"
   },
   {
    "duration": 23,
    "start_time": "2021-12-22T08:36:20.272Z"
   },
   {
    "duration": 147,
    "start_time": "2021-12-22T08:36:20.297Z"
   },
   {
    "duration": 11,
    "start_time": "2021-12-22T08:36:20.445Z"
   },
   {
    "duration": 7,
    "start_time": "2021-12-22T08:36:20.458Z"
   },
   {
    "duration": 216,
    "start_time": "2021-12-22T08:36:20.466Z"
   },
   {
    "duration": 10,
    "start_time": "2021-12-22T08:36:20.691Z"
   },
   {
    "duration": 4,
    "start_time": "2021-12-22T08:36:20.703Z"
   },
   {
    "duration": 197,
    "start_time": "2021-12-22T08:36:20.709Z"
   },
   {
    "duration": 10,
    "start_time": "2021-12-22T08:36:20.908Z"
   },
   {
    "duration": 5,
    "start_time": "2021-12-22T08:36:20.919Z"
   },
   {
    "duration": 212,
    "start_time": "2021-12-22T08:36:20.925Z"
   },
   {
    "duration": 17,
    "start_time": "2021-12-22T08:36:21.139Z"
   },
   {
    "duration": 278,
    "start_time": "2021-12-22T08:36:21.157Z"
   },
   {
    "duration": 251,
    "start_time": "2021-12-22T08:36:21.437Z"
   },
   {
    "duration": 9,
    "start_time": "2021-12-22T08:36:21.691Z"
   },
   {
    "duration": 22,
    "start_time": "2021-12-22T08:36:21.702Z"
   },
   {
    "duration": 7,
    "start_time": "2021-12-22T08:36:21.726Z"
   },
   {
    "duration": 33,
    "start_time": "2021-12-22T08:36:21.735Z"
   },
   {
    "duration": 5,
    "start_time": "2021-12-22T08:36:21.792Z"
   },
   {
    "duration": 310,
    "start_time": "2021-12-22T08:36:21.799Z"
   },
   {
    "duration": 9,
    "start_time": "2021-12-22T08:36:22.111Z"
   },
   {
    "duration": 12,
    "start_time": "2021-12-22T08:36:22.123Z"
   },
   {
    "duration": 148,
    "start_time": "2021-12-22T08:36:22.136Z"
   },
   {
    "duration": 10,
    "start_time": "2021-12-22T08:36:22.286Z"
   },
   {
    "duration": 226,
    "start_time": "2021-12-22T08:36:22.297Z"
   },
   {
    "duration": 8,
    "start_time": "2021-12-22T08:36:22.525Z"
   },
   {
    "duration": 182,
    "start_time": "2021-12-22T08:36:22.535Z"
   },
   {
    "duration": 151,
    "start_time": "2021-12-22T08:36:22.719Z"
   },
   {
    "duration": 8,
    "start_time": "2021-12-22T08:36:22.872Z"
   },
   {
    "duration": 143,
    "start_time": "2021-12-22T08:36:22.882Z"
   },
   {
    "duration": 10,
    "start_time": "2021-12-22T08:36:23.027Z"
   },
   {
    "duration": 11,
    "start_time": "2021-12-22T08:36:23.038Z"
   },
   {
    "duration": 9,
    "start_time": "2021-12-22T08:36:23.051Z"
   },
   {
    "duration": 38,
    "start_time": "2021-12-22T08:36:23.062Z"
   },
   {
    "duration": 192,
    "start_time": "2021-12-22T08:36:23.102Z"
   },
   {
    "duration": 225,
    "start_time": "2021-12-22T08:36:23.300Z"
   },
   {
    "duration": 10,
    "start_time": "2021-12-22T08:36:23.527Z"
   },
   {
    "duration": 7,
    "start_time": "2021-12-22T08:36:23.538Z"
   },
   {
    "duration": 226,
    "start_time": "2021-12-22T08:36:23.546Z"
   },
   {
    "duration": 4,
    "start_time": "2021-12-22T08:36:23.774Z"
   },
   {
    "duration": 263,
    "start_time": "2021-12-22T08:36:23.780Z"
   },
   {
    "duration": 4,
    "start_time": "2021-12-22T08:36:24.045Z"
   },
   {
    "duration": 3,
    "start_time": "2021-12-22T08:40:41.598Z"
   },
   {
    "duration": 87,
    "start_time": "2021-12-22T08:40:41.603Z"
   },
   {
    "duration": 27,
    "start_time": "2021-12-22T08:40:41.692Z"
   },
   {
    "duration": 13,
    "start_time": "2021-12-22T08:40:41.721Z"
   },
   {
    "duration": 103,
    "start_time": "2021-12-22T08:40:41.735Z"
   },
   {
    "duration": 10,
    "start_time": "2021-12-22T08:40:41.840Z"
   },
   {
    "duration": 40,
    "start_time": "2021-12-22T08:40:41.854Z"
   },
   {
    "duration": 8,
    "start_time": "2021-12-22T08:40:41.896Z"
   },
   {
    "duration": 6,
    "start_time": "2021-12-22T08:40:41.906Z"
   },
   {
    "duration": 7,
    "start_time": "2021-12-22T08:40:41.914Z"
   },
   {
    "duration": 13,
    "start_time": "2021-12-22T08:40:41.922Z"
   },
   {
    "duration": 55,
    "start_time": "2021-12-22T08:40:41.936Z"
   },
   {
    "duration": 10,
    "start_time": "2021-12-22T08:40:41.993Z"
   },
   {
    "duration": 13,
    "start_time": "2021-12-22T08:40:42.005Z"
   },
   {
    "duration": 8,
    "start_time": "2021-12-22T08:40:42.020Z"
   },
   {
    "duration": 11,
    "start_time": "2021-12-22T08:40:42.030Z"
   },
   {
    "duration": 3,
    "start_time": "2021-12-22T08:40:42.042Z"
   },
   {
    "duration": 602,
    "start_time": "2021-12-22T08:40:42.047Z"
   },
   {
    "duration": 5,
    "start_time": "2021-12-22T08:40:42.652Z"
   },
   {
    "duration": 33,
    "start_time": "2021-12-22T08:40:42.659Z"
   },
   {
    "duration": 8,
    "start_time": "2021-12-22T08:40:42.694Z"
   },
   {
    "duration": 9,
    "start_time": "2021-12-22T08:40:42.704Z"
   },
   {
    "duration": 2,
    "start_time": "2021-12-22T08:40:42.715Z"
   },
   {
    "duration": 1367,
    "start_time": "2021-12-22T08:40:42.719Z"
   },
   {
    "duration": 317,
    "start_time": "2021-12-22T08:40:44.088Z"
   },
   {
    "duration": 5,
    "start_time": "2021-12-22T08:40:44.407Z"
   },
   {
    "duration": 173,
    "start_time": "2021-12-22T08:40:44.413Z"
   },
   {
    "duration": 43,
    "start_time": "2021-12-22T08:40:44.587Z"
   },
   {
    "duration": 6,
    "start_time": "2021-12-22T08:40:44.632Z"
   },
   {
    "duration": 27,
    "start_time": "2021-12-22T08:40:44.639Z"
   },
   {
    "duration": 31,
    "start_time": "2021-12-22T08:40:44.668Z"
   },
   {
    "duration": 290,
    "start_time": "2021-12-22T08:40:44.701Z"
   },
   {
    "duration": 12,
    "start_time": "2021-12-22T08:40:44.993Z"
   },
   {
    "duration": 162,
    "start_time": "2021-12-22T08:40:45.007Z"
   },
   {
    "duration": 21,
    "start_time": "2021-12-22T08:40:45.171Z"
   },
   {
    "duration": 15,
    "start_time": "2021-12-22T08:40:45.194Z"
   },
   {
    "duration": 198,
    "start_time": "2021-12-22T08:40:45.211Z"
   },
   {
    "duration": 10,
    "start_time": "2021-12-22T08:40:45.411Z"
   },
   {
    "duration": 18,
    "start_time": "2021-12-22T08:40:45.423Z"
   },
   {
    "duration": 196,
    "start_time": "2021-12-22T08:40:45.443Z"
   },
   {
    "duration": 10,
    "start_time": "2021-12-22T08:40:45.640Z"
   },
   {
    "duration": 27,
    "start_time": "2021-12-22T08:40:45.652Z"
   },
   {
    "duration": 282,
    "start_time": "2021-12-22T08:40:45.680Z"
   },
   {
    "duration": 16,
    "start_time": "2021-12-22T08:40:45.964Z"
   },
   {
    "duration": 240,
    "start_time": "2021-12-22T08:40:45.991Z"
   },
   {
    "duration": 233,
    "start_time": "2021-12-22T08:40:46.232Z"
   },
   {
    "duration": 7,
    "start_time": "2021-12-22T08:40:46.467Z"
   },
   {
    "duration": 30,
    "start_time": "2021-12-22T08:40:46.476Z"
   },
   {
    "duration": 8,
    "start_time": "2021-12-22T08:40:46.507Z"
   },
   {
    "duration": 53,
    "start_time": "2021-12-22T08:40:46.517Z"
   },
   {
    "duration": 4,
    "start_time": "2021-12-22T08:40:46.572Z"
   },
   {
    "duration": 292,
    "start_time": "2021-12-22T08:40:46.578Z"
   },
   {
    "duration": 6,
    "start_time": "2021-12-22T08:40:46.872Z"
   },
   {
    "duration": 33,
    "start_time": "2021-12-22T08:40:46.880Z"
   },
   {
    "duration": 132,
    "start_time": "2021-12-22T08:40:46.917Z"
   },
   {
    "duration": 7,
    "start_time": "2021-12-22T08:40:47.051Z"
   },
   {
    "duration": 147,
    "start_time": "2021-12-22T08:40:47.060Z"
   },
   {
    "duration": 9,
    "start_time": "2021-12-22T08:40:47.208Z"
   },
   {
    "duration": 151,
    "start_time": "2021-12-22T08:40:47.219Z"
   },
   {
    "duration": 8,
    "start_time": "2021-12-22T08:40:47.372Z"
   },
   {
    "duration": 144,
    "start_time": "2021-12-22T08:40:47.382Z"
   },
   {
    "duration": 11,
    "start_time": "2021-12-22T08:40:47.529Z"
   },
   {
    "duration": 11,
    "start_time": "2021-12-22T08:40:47.542Z"
   },
   {
    "duration": 9,
    "start_time": "2021-12-22T08:40:47.555Z"
   },
   {
    "duration": 33,
    "start_time": "2021-12-22T08:40:47.565Z"
   },
   {
    "duration": 189,
    "start_time": "2021-12-22T08:40:47.600Z"
   },
   {
    "duration": 202,
    "start_time": "2021-12-22T08:40:47.791Z"
   },
   {
    "duration": 10,
    "start_time": "2021-12-22T08:40:47.994Z"
   },
   {
    "duration": 7,
    "start_time": "2021-12-22T08:40:48.006Z"
   },
   {
    "duration": 230,
    "start_time": "2021-12-22T08:40:48.014Z"
   },
   {
    "duration": 5,
    "start_time": "2021-12-22T08:40:48.246Z"
   },
   {
    "duration": 260,
    "start_time": "2021-12-22T08:40:48.253Z"
   },
   {
    "duration": 5,
    "start_time": "2021-12-22T08:40:48.515Z"
   },
   {
    "duration": 3,
    "start_time": "2021-12-22T08:41:30.947Z"
   },
   {
    "duration": 88,
    "start_time": "2021-12-22T08:41:30.952Z"
   },
   {
    "duration": 26,
    "start_time": "2021-12-22T08:41:31.042Z"
   },
   {
    "duration": 31,
    "start_time": "2021-12-22T08:41:31.070Z"
   },
   {
    "duration": 93,
    "start_time": "2021-12-22T08:41:31.103Z"
   },
   {
    "duration": 9,
    "start_time": "2021-12-22T08:41:31.198Z"
   },
   {
    "duration": 6,
    "start_time": "2021-12-22T08:41:31.209Z"
   },
   {
    "duration": 7,
    "start_time": "2021-12-22T08:41:31.217Z"
   },
   {
    "duration": 10,
    "start_time": "2021-12-22T08:41:31.226Z"
   },
   {
    "duration": 15,
    "start_time": "2021-12-22T08:41:31.237Z"
   },
   {
    "duration": 41,
    "start_time": "2021-12-22T08:41:31.253Z"
   },
   {
    "duration": 8,
    "start_time": "2021-12-22T08:41:31.296Z"
   },
   {
    "duration": 17,
    "start_time": "2021-12-22T08:41:31.306Z"
   },
   {
    "duration": 15,
    "start_time": "2021-12-22T08:41:31.325Z"
   },
   {
    "duration": 15,
    "start_time": "2021-12-22T08:41:31.342Z"
   },
   {
    "duration": 33,
    "start_time": "2021-12-22T08:41:31.358Z"
   },
   {
    "duration": 3,
    "start_time": "2021-12-22T08:41:31.393Z"
   },
   {
    "duration": 675,
    "start_time": "2021-12-22T08:41:31.398Z"
   },
   {
    "duration": 5,
    "start_time": "2021-12-22T08:41:32.077Z"
   },
   {
    "duration": 21,
    "start_time": "2021-12-22T08:41:32.091Z"
   },
   {
    "duration": 6,
    "start_time": "2021-12-22T08:41:32.113Z"
   },
   {
    "duration": 30,
    "start_time": "2021-12-22T08:41:32.120Z"
   },
   {
    "duration": 3,
    "start_time": "2021-12-22T08:41:32.152Z"
   },
   {
    "duration": 1259,
    "start_time": "2021-12-22T08:41:32.157Z"
   },
   {
    "duration": 308,
    "start_time": "2021-12-22T08:41:33.418Z"
   },
   {
    "duration": 6,
    "start_time": "2021-12-22T08:41:33.728Z"
   },
   {
    "duration": 157,
    "start_time": "2021-12-22T08:41:33.736Z"
   },
   {
    "duration": 37,
    "start_time": "2021-12-22T08:41:33.895Z"
   },
   {
    "duration": 5,
    "start_time": "2021-12-22T08:41:33.933Z"
   },
   {
    "duration": 10,
    "start_time": "2021-12-22T08:41:33.940Z"
   },
   {
    "duration": 12,
    "start_time": "2021-12-22T08:41:33.951Z"
   },
   {
    "duration": 298,
    "start_time": "2021-12-22T08:41:33.965Z"
   },
   {
    "duration": 12,
    "start_time": "2021-12-22T08:41:34.264Z"
   },
   {
    "duration": 148,
    "start_time": "2021-12-22T08:41:34.292Z"
   },
   {
    "duration": 11,
    "start_time": "2021-12-22T08:41:34.442Z"
   },
   {
    "duration": 5,
    "start_time": "2021-12-22T08:41:34.455Z"
   },
   {
    "duration": 311,
    "start_time": "2021-12-22T08:41:34.462Z"
   },
   {
    "duration": 19,
    "start_time": "2021-12-22T08:41:34.775Z"
   },
   {
    "duration": 6,
    "start_time": "2021-12-22T08:41:34.796Z"
   },
   {
    "duration": 189,
    "start_time": "2021-12-22T08:41:34.804Z"
   },
   {
    "duration": 12,
    "start_time": "2021-12-22T08:41:34.995Z"
   },
   {
    "duration": 5,
    "start_time": "2021-12-22T08:41:35.009Z"
   },
   {
    "duration": 199,
    "start_time": "2021-12-22T08:41:35.016Z"
   },
   {
    "duration": 16,
    "start_time": "2021-12-22T08:41:35.217Z"
   },
   {
    "duration": 251,
    "start_time": "2021-12-22T08:41:35.235Z"
   },
   {
    "duration": 235,
    "start_time": "2021-12-22T08:41:35.491Z"
   },
   {
    "duration": 7,
    "start_time": "2021-12-22T08:41:35.728Z"
   },
   {
    "duration": 27,
    "start_time": "2021-12-22T08:41:35.737Z"
   },
   {
    "duration": 7,
    "start_time": "2021-12-22T08:41:35.766Z"
   },
   {
    "duration": 44,
    "start_time": "2021-12-22T08:41:35.775Z"
   },
   {
    "duration": 5,
    "start_time": "2021-12-22T08:41:35.820Z"
   },
   {
    "duration": 288,
    "start_time": "2021-12-22T08:41:35.826Z"
   },
   {
    "duration": 6,
    "start_time": "2021-12-22T08:41:36.116Z"
   },
   {
    "duration": 15,
    "start_time": "2021-12-22T08:41:36.123Z"
   },
   {
    "duration": 127,
    "start_time": "2021-12-22T08:41:36.143Z"
   },
   {
    "duration": 21,
    "start_time": "2021-12-22T08:41:36.272Z"
   },
   {
    "duration": 144,
    "start_time": "2021-12-22T08:41:36.295Z"
   },
   {
    "duration": 9,
    "start_time": "2021-12-22T08:41:36.441Z"
   },
   {
    "duration": 148,
    "start_time": "2021-12-22T08:41:36.451Z"
   },
   {
    "duration": 8,
    "start_time": "2021-12-22T08:41:36.601Z"
   },
   {
    "duration": 137,
    "start_time": "2021-12-22T08:41:36.611Z"
   },
   {
    "duration": 12,
    "start_time": "2021-12-22T08:41:36.750Z"
   },
   {
    "duration": 13,
    "start_time": "2021-12-22T08:41:36.763Z"
   },
   {
    "duration": 22,
    "start_time": "2021-12-22T08:41:36.778Z"
   },
   {
    "duration": 14,
    "start_time": "2021-12-22T08:41:36.801Z"
   },
   {
    "duration": 182,
    "start_time": "2021-12-22T08:41:36.816Z"
   },
   {
    "duration": 207,
    "start_time": "2021-12-22T08:41:37.000Z"
   },
   {
    "duration": 10,
    "start_time": "2021-12-22T08:41:37.209Z"
   },
   {
    "duration": 29,
    "start_time": "2021-12-22T08:41:37.220Z"
   },
   {
    "duration": 221,
    "start_time": "2021-12-22T08:41:37.250Z"
   },
   {
    "duration": 5,
    "start_time": "2021-12-22T08:41:37.473Z"
   },
   {
    "duration": 282,
    "start_time": "2021-12-22T08:41:37.480Z"
   },
   {
    "duration": 5,
    "start_time": "2021-12-22T08:41:37.764Z"
   }
  ],
  "kernelspec": {
   "display_name": "Python 3 (ipykernel)",
   "language": "python",
   "name": "python3"
  },
  "language_info": {
   "codemirror_mode": {
    "name": "ipython",
    "version": 3
   },
   "file_extension": ".py",
   "mimetype": "text/x-python",
   "name": "python",
   "nbconvert_exporter": "python",
   "pygments_lexer": "ipython3",
   "version": "3.9.7"
  },
  "toc": {
   "base_numbering": 1,
   "nav_menu": {},
   "number_sections": true,
   "sideBar": true,
   "skip_h1_title": true,
   "title_cell": "Содержание",
   "title_sidebar": "Contents",
   "toc_cell": true,
   "toc_position": {},
   "toc_section_display": true,
   "toc_window_display": true
  }
 },
 "nbformat": 4,
 "nbformat_minor": 2
}
