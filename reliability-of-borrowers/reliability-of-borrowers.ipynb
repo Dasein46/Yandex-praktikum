{
 "cells": [
  {
   "cell_type": "markdown",
   "metadata": {},
   "source": [
    "<div style=\"border:solid green 2px; padding: 20px\">\n",
    "<b>Эдуард, привет!</b>\n",
    "\n",
    "Меня зовут Евгений Дащенко, и я буду проверять твой проект. Предлагаю общаться на «ты» 😊 Но если это не удобно - дай знать, и мы перейдем на \"вы\". \n",
    "\n",
    "Моя основная цель — не указать на совершенные тобою ошибки, а поделиться своим опытом и помочь тебе стать аналитиком данных. Ты уже проделал большую работу над проектом, но давай сделаем его еще лучше. Ниже ты найдешь мои комментарии - пожалуйста, не перемещай, не изменaяй и не удаляй их. Я буду использовать цветовую разметку:\n",
    "\n",
    "<div class=\"alert alert-danger\">\n",
    "<b>Комментарий ревьюера:</b> Так выделены самые важные замечания. Без их отработки проект не будет принят. </div>\n",
    "\n",
    "<div class=\"alert alert-warning\">\n",
    "<b>Комментарий ревьюера:</b> Так выделены небольшие замечания. Одна-два таких замечания в проекте допустимы, но если их будет больше - тебе будет необходимо внести исправления. Это как тестовое задание при приеме на работу: очень много мелких ошибок могут стать причиной отказа кандидату. \n",
    "\n",
    "</div>\n",
    "\n",
    "<div class=\"alert alert-success\">\n",
    "<b>Комментарий ревьюера:</b> Так я выделяю все остальные комментарии.</div>\n",
    "\n",
    "Давай работать над проектом в диалоге: если ты что-то меняешь в проекте или отвечаешь на мои комменатри — пиши об этом. Мне будет легче отследить изменения, если ты выделишь свои комментарии:\n",
    "<div class=\"alert alert-info\"> <b>Комментарий студента:</b> Например, вот так.</div>\n",
    "\n",
    "Всё это поможет выполнить повторную проверку твоего проекта оперативнее. "
   ]
  },
  {
   "cell_type": "markdown",
   "metadata": {},
   "source": [
    "# Исследование надёжности заёмщиков\n",
    "\n",
    "Заказчик — кредитный отдел банка. Нужно разобраться, влияет ли семейное положение и количество детей клиента на факт погашения кредита в срок. Входные данные от банка — статистика о платёжеспособности клиентов.\n",
    "\n",
    "Результаты исследования будут учтены при построении модели **кредитного скоринга** — специальной системы, которая оценивает способность потенциального заёмщика вернуть кредит банку."
   ]
  },
  {
   "cell_type": "markdown",
   "metadata": {},
   "source": [
    "# Содержание\n",
    "* [Изучение данных из файла](#Изучение-данных-из-файла)\n",
    "* [Прeдобработка данных](#Предобработка-данных)\n",
    "    * [Обработка пропусков](#Обработка-пропусков)\n",
    "    * [Замена типов данных](#Замена-типов-данных)\n",
    "    * [Обработка дубликатов](#Обработка-дубликатов)\n",
    "    * [Лемматизация](#Лемматизация)\n",
    "    * [Категоризация данных](#Категоризация-данных)\n",
    "* [Ответы на вопросы](#Ответы-на-вопросы)\n",
    "* [Общий вывод](#Общий-вывод)"
   ]
  },
  {
   "cell_type": "markdown",
   "metadata": {},
   "source": [
    "<div class=\"alert alert-success\">\n",
    "<b>Комментарий ревьюера:</b>\n",
    "\n",
    "Здорово, когда есть вступление в сам проект, каждый сможет быстрее разобраться в концепции / деталях работы. Можно также привести краткий план проведения самой работы и описание используемых столбцов. \n",
    "\n",
    "</div>"
   ]
  },
  {
   "cell_type": "markdown",
   "metadata": {},
   "source": [
    "## Изучение файла с данными"
   ]
  },
  {
   "cell_type": "code",
   "execution_count": 1,
   "metadata": {},
   "outputs": [],
   "source": [
    "# импорт библиотеки pandas\n",
    "import pandas as pd\n"
   ]
  },
  {
   "cell_type": "code",
   "execution_count": 2,
   "metadata": {},
   "outputs": [],
   "source": [
    "# чтение файла с данными и сохранение в df\n",
    "df = pd.read_csv('/datasets/data.csv')"
   ]
  },
  {
   "cell_type": "code",
   "execution_count": 3,
   "metadata": {
    "scrolled": true
   },
   "outputs": [
    {
     "data": {
      "text/html": [
       "<div>\n",
       "<style scoped>\n",
       "    .dataframe tbody tr th:only-of-type {\n",
       "        vertical-align: middle;\n",
       "    }\n",
       "\n",
       "    .dataframe tbody tr th {\n",
       "        vertical-align: top;\n",
       "    }\n",
       "\n",
       "    .dataframe thead th {\n",
       "        text-align: right;\n",
       "    }\n",
       "</style>\n",
       "<table border=\"1\" class=\"dataframe\">\n",
       "  <thead>\n",
       "    <tr style=\"text-align: right;\">\n",
       "      <th></th>\n",
       "      <th>children</th>\n",
       "      <th>days_employed</th>\n",
       "      <th>dob_years</th>\n",
       "      <th>education</th>\n",
       "      <th>education_id</th>\n",
       "      <th>family_status</th>\n",
       "      <th>family_status_id</th>\n",
       "      <th>gender</th>\n",
       "      <th>income_type</th>\n",
       "      <th>debt</th>\n",
       "      <th>total_income</th>\n",
       "      <th>purpose</th>\n",
       "    </tr>\n",
       "  </thead>\n",
       "  <tbody>\n",
       "    <tr>\n",
       "      <td>0</td>\n",
       "      <td>1</td>\n",
       "      <td>-8437.673028</td>\n",
       "      <td>42</td>\n",
       "      <td>высшее</td>\n",
       "      <td>0</td>\n",
       "      <td>женат / замужем</td>\n",
       "      <td>0</td>\n",
       "      <td>F</td>\n",
       "      <td>сотрудник</td>\n",
       "      <td>0</td>\n",
       "      <td>253875.639453</td>\n",
       "      <td>покупка жилья</td>\n",
       "    </tr>\n",
       "    <tr>\n",
       "      <td>1</td>\n",
       "      <td>1</td>\n",
       "      <td>-4024.803754</td>\n",
       "      <td>36</td>\n",
       "      <td>среднее</td>\n",
       "      <td>1</td>\n",
       "      <td>женат / замужем</td>\n",
       "      <td>0</td>\n",
       "      <td>F</td>\n",
       "      <td>сотрудник</td>\n",
       "      <td>0</td>\n",
       "      <td>112080.014102</td>\n",
       "      <td>приобретение автомобиля</td>\n",
       "    </tr>\n",
       "    <tr>\n",
       "      <td>2</td>\n",
       "      <td>0</td>\n",
       "      <td>-5623.422610</td>\n",
       "      <td>33</td>\n",
       "      <td>Среднее</td>\n",
       "      <td>1</td>\n",
       "      <td>женат / замужем</td>\n",
       "      <td>0</td>\n",
       "      <td>M</td>\n",
       "      <td>сотрудник</td>\n",
       "      <td>0</td>\n",
       "      <td>145885.952297</td>\n",
       "      <td>покупка жилья</td>\n",
       "    </tr>\n",
       "    <tr>\n",
       "      <td>3</td>\n",
       "      <td>3</td>\n",
       "      <td>-4124.747207</td>\n",
       "      <td>32</td>\n",
       "      <td>среднее</td>\n",
       "      <td>1</td>\n",
       "      <td>женат / замужем</td>\n",
       "      <td>0</td>\n",
       "      <td>M</td>\n",
       "      <td>сотрудник</td>\n",
       "      <td>0</td>\n",
       "      <td>267628.550329</td>\n",
       "      <td>дополнительное образование</td>\n",
       "    </tr>\n",
       "    <tr>\n",
       "      <td>4</td>\n",
       "      <td>0</td>\n",
       "      <td>340266.072047</td>\n",
       "      <td>53</td>\n",
       "      <td>среднее</td>\n",
       "      <td>1</td>\n",
       "      <td>гражданский брак</td>\n",
       "      <td>1</td>\n",
       "      <td>F</td>\n",
       "      <td>пенсионер</td>\n",
       "      <td>0</td>\n",
       "      <td>158616.077870</td>\n",
       "      <td>сыграть свадьбу</td>\n",
       "    </tr>\n",
       "    <tr>\n",
       "      <td>5</td>\n",
       "      <td>0</td>\n",
       "      <td>-926.185831</td>\n",
       "      <td>27</td>\n",
       "      <td>высшее</td>\n",
       "      <td>0</td>\n",
       "      <td>гражданский брак</td>\n",
       "      <td>1</td>\n",
       "      <td>M</td>\n",
       "      <td>компаньон</td>\n",
       "      <td>0</td>\n",
       "      <td>255763.565419</td>\n",
       "      <td>покупка жилья</td>\n",
       "    </tr>\n",
       "    <tr>\n",
       "      <td>6</td>\n",
       "      <td>0</td>\n",
       "      <td>-2879.202052</td>\n",
       "      <td>43</td>\n",
       "      <td>высшее</td>\n",
       "      <td>0</td>\n",
       "      <td>женат / замужем</td>\n",
       "      <td>0</td>\n",
       "      <td>F</td>\n",
       "      <td>компаньон</td>\n",
       "      <td>0</td>\n",
       "      <td>240525.971920</td>\n",
       "      <td>операции с жильем</td>\n",
       "    </tr>\n",
       "    <tr>\n",
       "      <td>7</td>\n",
       "      <td>0</td>\n",
       "      <td>-152.779569</td>\n",
       "      <td>50</td>\n",
       "      <td>СРЕДНЕЕ</td>\n",
       "      <td>1</td>\n",
       "      <td>женат / замужем</td>\n",
       "      <td>0</td>\n",
       "      <td>M</td>\n",
       "      <td>сотрудник</td>\n",
       "      <td>0</td>\n",
       "      <td>135823.934197</td>\n",
       "      <td>образование</td>\n",
       "    </tr>\n",
       "    <tr>\n",
       "      <td>8</td>\n",
       "      <td>2</td>\n",
       "      <td>-6929.865299</td>\n",
       "      <td>35</td>\n",
       "      <td>ВЫСШЕЕ</td>\n",
       "      <td>0</td>\n",
       "      <td>гражданский брак</td>\n",
       "      <td>1</td>\n",
       "      <td>F</td>\n",
       "      <td>сотрудник</td>\n",
       "      <td>0</td>\n",
       "      <td>95856.832424</td>\n",
       "      <td>на проведение свадьбы</td>\n",
       "    </tr>\n",
       "    <tr>\n",
       "      <td>9</td>\n",
       "      <td>0</td>\n",
       "      <td>-2188.756445</td>\n",
       "      <td>41</td>\n",
       "      <td>среднее</td>\n",
       "      <td>1</td>\n",
       "      <td>женат / замужем</td>\n",
       "      <td>0</td>\n",
       "      <td>M</td>\n",
       "      <td>сотрудник</td>\n",
       "      <td>0</td>\n",
       "      <td>144425.938277</td>\n",
       "      <td>покупка жилья для семьи</td>\n",
       "    </tr>\n",
       "  </tbody>\n",
       "</table>\n",
       "</div>"
      ],
      "text/plain": [
       "   children  days_employed  dob_years education  education_id  \\\n",
       "0         1   -8437.673028         42    высшее             0   \n",
       "1         1   -4024.803754         36   среднее             1   \n",
       "2         0   -5623.422610         33   Среднее             1   \n",
       "3         3   -4124.747207         32   среднее             1   \n",
       "4         0  340266.072047         53   среднее             1   \n",
       "5         0    -926.185831         27    высшее             0   \n",
       "6         0   -2879.202052         43    высшее             0   \n",
       "7         0    -152.779569         50   СРЕДНЕЕ             1   \n",
       "8         2   -6929.865299         35    ВЫСШЕЕ             0   \n",
       "9         0   -2188.756445         41   среднее             1   \n",
       "\n",
       "      family_status  family_status_id gender income_type  debt   total_income  \\\n",
       "0   женат / замужем                 0      F   сотрудник     0  253875.639453   \n",
       "1   женат / замужем                 0      F   сотрудник     0  112080.014102   \n",
       "2   женат / замужем                 0      M   сотрудник     0  145885.952297   \n",
       "3   женат / замужем                 0      M   сотрудник     0  267628.550329   \n",
       "4  гражданский брак                 1      F   пенсионер     0  158616.077870   \n",
       "5  гражданский брак                 1      M   компаньон     0  255763.565419   \n",
       "6   женат / замужем                 0      F   компаньон     0  240525.971920   \n",
       "7   женат / замужем                 0      M   сотрудник     0  135823.934197   \n",
       "8  гражданский брак                 1      F   сотрудник     0   95856.832424   \n",
       "9   женат / замужем                 0      M   сотрудник     0  144425.938277   \n",
       "\n",
       "                      purpose  \n",
       "0               покупка жилья  \n",
       "1     приобретение автомобиля  \n",
       "2               покупка жилья  \n",
       "3  дополнительное образование  \n",
       "4             сыграть свадьбу  \n",
       "5               покупка жилья  \n",
       "6           операции с жильем  \n",
       "7                 образование  \n",
       "8       на проведение свадьбы  \n",
       "9     покупка жилья для семьи  "
      ]
     },
     "execution_count": 3,
     "metadata": {},
     "output_type": "execute_result"
    }
   ],
   "source": [
    "# получение первых 10 строк таблицы df\n",
    "df.head(10)"
   ]
  },
  {
   "cell_type": "code",
   "execution_count": 4,
   "metadata": {},
   "outputs": [
    {
     "name": "stdout",
     "output_type": "stream",
     "text": [
      "<class 'pandas.core.frame.DataFrame'>\n",
      "RangeIndex: 21525 entries, 0 to 21524\n",
      "Data columns (total 12 columns):\n",
      "children            21525 non-null int64\n",
      "days_employed       19351 non-null float64\n",
      "dob_years           21525 non-null int64\n",
      "education           21525 non-null object\n",
      "education_id        21525 non-null int64\n",
      "family_status       21525 non-null object\n",
      "family_status_id    21525 non-null int64\n",
      "gender              21525 non-null object\n",
      "income_type         21525 non-null object\n",
      "debt                21525 non-null int64\n",
      "total_income        19351 non-null float64\n",
      "purpose             21525 non-null object\n",
      "dtypes: float64(2), int64(5), object(5)\n",
      "memory usage: 2.0+ MB\n"
     ]
    }
   ],
   "source": [
    "# получение общей информации о данных в таблице df\n",
    "df.info()"
   ]
  },
  {
   "cell_type": "markdown",
   "metadata": {},
   "source": [
    "Итак, в таблице 12 столбцов. В столбцах встречаются следующие типы данных:\n",
    "float - в двух столбцах;\n",
    "int - в пяти столбцах;\n",
    "object - в пяти столбах.\n",
    "\n",
    "Согласно документации к данным:\n",
    "\n",
    "children — количество детей в семье;\n",
    "days_employed — общий трудовой стаж в днях;\n",
    "dob_years — возраст клиента в годах;\n",
    "education — уровень образования клиента;\n",
    "education_id — идентификатор уровня образования;\n",
    "family_status — семейное положение;\n",
    "family_status_id — идентификатор семейного положения;\n",
    "gender — пол клиента;\n",
    "income_type — тип занятости;\n",
    "debt — имел ли задолженность по возврату кредитов;\n",
    "total_income — ежемесячный доход;\n",
    "purpose — цель получения кредита.\n",
    "\n",
    "Анализ общей информации показал, что в наборе данных  столбцы 'days_employed'и 'total_income' содержат пропуски. Помимо указанных проблем с данными можно отметить наличие отрицательных значений в столбце 'days_employed', что не может соответствовать здравому смыслу.\n",
    "Для исследования надежности заемщиков сперва необходимо провести предобработку данных."
   ]
  },
  {
   "cell_type": "markdown",
   "metadata": {},
   "source": [
    "<div class=\"alert alert-success\">\n",
    "<b>Комментарий ревьюера:</b>\n",
    "\n",
    "Достаточно детально изучили наши первичные данные, давай теперь их обработаем. \n",
    "</div>"
   ]
  },
  {
   "cell_type": "markdown",
   "metadata": {},
   "source": [
    "## Предобработка данных"
   ]
  },
  {
   "cell_type": "markdown",
   "metadata": {},
   "source": [
    "### Обработка пропусков"
   ]
  },
  {
   "cell_type": "code",
   "execution_count": 5,
   "metadata": {},
   "outputs": [
    {
     "data": {
      "text/plain": [
       "children               0\n",
       "days_employed       2174\n",
       "dob_years              0\n",
       "education              0\n",
       "education_id           0\n",
       "family_status          0\n",
       "family_status_id       0\n",
       "gender                 0\n",
       "income_type            0\n",
       "debt                   0\n",
       "total_income        2174\n",
       "purpose                0\n",
       "dtype: int64"
      ]
     },
     "execution_count": 5,
     "metadata": {},
     "output_type": "execute_result"
    }
   ],
   "source": [
    "# нахождение количества пропущенных значений в таблице df\n",
    "df.isna().sum()"
   ]
  },
  {
   "cell_type": "code",
   "execution_count": 6,
   "metadata": {},
   "outputs": [],
   "source": [
    "# вычисление среднего значения общего трудового стажа и медианы ежемесячного дохода\n",
    "days_employed_mean = df['days_employed'].mean()\n",
    "total_income_median = df['total_income'].median()"
   ]
  },
  {
   "cell_type": "code",
   "execution_count": 7,
   "metadata": {},
   "outputs": [],
   "source": [
    "# заменим пропущенные значения в столбце 'days_employed' на средние значения, а в столбце 'total_income' - на медианные значения\n",
    "df['days_employed'] = df['days_employed'].fillna(days_employed_mean)\n",
    "df['total_income'] = df['total_income'].fillna(total_income_median)"
   ]
  },
  {
   "cell_type": "code",
   "execution_count": 8,
   "metadata": {},
   "outputs": [],
   "source": [
    "# составим функцию, которая позволит сделать отрицательные значения положительными\n",
    "def transformation (value):\n",
    "    if value < 0:\n",
    "        value *= -1\n",
    "        return value\n",
    "    else:\n",
    "        return value"
   ]
  },
  {
   "cell_type": "code",
   "execution_count": 9,
   "metadata": {},
   "outputs": [],
   "source": [
    "# применим функцию transformation к нашему набору данных и заменим отрицательные значения в столбце 'days_employed' на положительные\n",
    "df['days_employed'] = df['days_employed'].apply(transformation)"
   ]
  },
  {
   "cell_type": "markdown",
   "metadata": {},
   "source": [
    "<div class=\"alert alert-success\">\n",
    "<b>Комментарий ревьюера:</b>\n",
    "\n",
    "Хорошо, что заменили отрицательные значения на положительные.\n",
    "    \n",
    "Кстати мы можем использовать готовый метод из библиотеки `pandas`.\n",
    "    \n",
    "Оставил пример ниже.\n",
    "    \n",
    "</div>"
   ]
  },
  {
   "cell_type": "code",
   "execution_count": 10,
   "metadata": {
    "scrolled": true
   },
   "outputs": [
    {
     "data": {
      "text/plain": [
       "0          8437.673028\n",
       "1          4024.803754\n",
       "2          5623.422610\n",
       "3          4124.747207\n",
       "4        340266.072047\n",
       "             ...      \n",
       "21520      4529.316663\n",
       "21521    343937.404131\n",
       "21522      2113.346888\n",
       "21523      3112.481705\n",
       "21524      1984.507589\n",
       "Name: days_employed, Length: 21525, dtype: float64"
      ]
     },
     "execution_count": 10,
     "metadata": {},
     "output_type": "execute_result"
    }
   ],
   "source": [
    "df['days_employed'].abs()"
   ]
  },
  {
   "cell_type": "markdown",
   "metadata": {},
   "source": [
    "Таким образом, была произведена замена отрицательных значений общего трудового стажа положительными значениями. Большое количество отрицательных чисел в данном столбце могло быть вызвано некорректной выгрузкой данных. Также были заменены пропуски в столбцах 'days_employed' и 'total_income' на среднее значение и медиану соответственно. Причиной пропусков, причем в одинаковом количестве и во взаимосвязанных столбцах, могло стать отсутствие официальной работы. Например, человек работает на себя."
   ]
  },
  {
   "cell_type": "markdown",
   "metadata": {},
   "source": [
    "### Замена типа данных"
   ]
  },
  {
   "cell_type": "code",
   "execution_count": 11,
   "metadata": {},
   "outputs": [],
   "source": [
    "# изменим тип данных в столбцах 'days_employed' и 'total_income'\n",
    "df = df.astype({'days_employed': 'int', 'total_income': 'int'})"
   ]
  },
  {
   "cell_type": "markdown",
   "metadata": {},
   "source": [
    "<div class=\"alert alert-success\">\n",
    "<b>Комментарий ревьюера:</b>\n",
    "\n",
    "В том числе метод `fillna` и `astype` можно применять к нескольким столбцам одновременно.\n",
    "    \n",
    "Если столбцов более 2–ух, то рекомендую применять цикл `for`.\n",
    "    \n",
    "Пример: \n",
    "    \n",
    "`df.astype({ \"col1\": \"float64\", \"col2\": \"int64\"})`\n",
    "    \n",
    "</div>"
   ]
  },
  {
   "cell_type": "markdown",
   "metadata": {},
   "source": [
    "В столбцах 'трудовой стаж' и 'ежемесячный доход' использовался тип данных float. С помощью метода astype была произведена замена на int."
   ]
  },
  {
   "cell_type": "markdown",
   "metadata": {},
   "source": [
    "### Обработка дубликатов"
   ]
  },
  {
   "cell_type": "code",
   "execution_count": 12,
   "metadata": {},
   "outputs": [
    {
     "data": {
      "text/plain": [
       "среднее                13750\n",
       "высшее                  4718\n",
       "СРЕДНЕЕ                  772\n",
       "Среднее                  711\n",
       "неоконченное высшее      668\n",
       "ВЫСШЕЕ                   274\n",
       "Высшее                   268\n",
       "начальное                250\n",
       "Неоконченное высшее       47\n",
       "НЕОКОНЧЕННОЕ ВЫСШЕЕ       29\n",
       "НАЧАЛЬНОЕ                 17\n",
       "Начальное                 15\n",
       "ученая степень             4\n",
       "УЧЕНАЯ СТЕПЕНЬ             1\n",
       "Ученая степень             1\n",
       "Name: education, dtype: int64"
      ]
     },
     "execution_count": 12,
     "metadata": {},
     "output_type": "execute_result"
    }
   ],
   "source": [
    "# получение уникальных значений в столбце 'education'\n",
    "df['education'].value_counts()"
   ]
  },
  {
   "cell_type": "code",
   "execution_count": 13,
   "metadata": {},
   "outputs": [
    {
     "data": {
      "text/plain": [
       "женат / замужем          12380\n",
       "гражданский брак          4177\n",
       "Не женат / не замужем     2813\n",
       "в разводе                 1195\n",
       "вдовец / вдова             960\n",
       "Name: family_status, dtype: int64"
      ]
     },
     "execution_count": 13,
     "metadata": {},
     "output_type": "execute_result"
    }
   ],
   "source": [
    "# получение уникальных значений в столбце 'family_status'\n",
    "df['family_status'].value_counts()"
   ]
  },
  {
   "cell_type": "code",
   "execution_count": 14,
   "metadata": {},
   "outputs": [
    {
     "data": {
      "text/plain": [
       "сотрудник          11119\n",
       "компаньон           5085\n",
       "пенсионер           3856\n",
       "госслужащий         1459\n",
       "безработный            2\n",
       "предприниматель        2\n",
       "в декрете              1\n",
       "студент                1\n",
       "Name: income_type, dtype: int64"
      ]
     },
     "execution_count": 14,
     "metadata": {},
     "output_type": "execute_result"
    }
   ],
   "source": [
    "# получение уникальных значений в столбце 'income_type'\n",
    "df['income_type'].value_counts()"
   ]
  },
  {
   "cell_type": "code",
   "execution_count": 15,
   "metadata": {},
   "outputs": [
    {
     "data": {
      "text/plain": [
       "свадьба                                   797\n",
       "на проведение свадьбы                     777\n",
       "сыграть свадьбу                           774\n",
       "операции с недвижимостью                  676\n",
       "покупка коммерческой недвижимости         664\n",
       "покупка жилья для сдачи                   653\n",
       "операции с жильем                         653\n",
       "операции с коммерческой недвижимостью     651\n",
       "покупка жилья                             647\n",
       "жилье                                     647\n",
       "покупка жилья для семьи                   641\n",
       "строительство собственной недвижимости    635\n",
       "недвижимость                              634\n",
       "операции со своей недвижимостью           630\n",
       "строительство жилой недвижимости          626\n",
       "покупка недвижимости                      624\n",
       "покупка своего жилья                      620\n",
       "строительство недвижимости                620\n",
       "ремонт жилью                              612\n",
       "покупка жилой недвижимости                607\n",
       "на покупку своего автомобиля              505\n",
       "заняться высшим образованием              496\n",
       "автомобиль                                495\n",
       "сделка с подержанным автомобилем          489\n",
       "свой автомобиль                           480\n",
       "на покупку подержанного автомобиля        479\n",
       "автомобили                                478\n",
       "на покупку автомобиля                     472\n",
       "приобретение автомобиля                   462\n",
       "дополнительное образование                462\n",
       "сделка с автомобилем                      455\n",
       "высшее образование                        453\n",
       "получение дополнительного образования     447\n",
       "образование                               447\n",
       "получение образования                     443\n",
       "профильное образование                    436\n",
       "получение высшего образования             426\n",
       "заняться образованием                     412\n",
       "Name: purpose, dtype: int64"
      ]
     },
     "execution_count": 15,
     "metadata": {},
     "output_type": "execute_result"
    }
   ],
   "source": [
    "# получение уникальных значений в столбце 'purpose'\n",
    "df['purpose'].value_counts()"
   ]
  },
  {
   "cell_type": "code",
   "execution_count": 16,
   "metadata": {},
   "outputs": [
    {
     "data": {
      "text/plain": [
       " 0     14149\n",
       " 1      4818\n",
       " 2      2055\n",
       " 3       330\n",
       " 20       76\n",
       "-1        47\n",
       " 4        41\n",
       " 5         9\n",
       "Name: children, dtype: int64"
      ]
     },
     "execution_count": 16,
     "metadata": {},
     "output_type": "execute_result"
    }
   ],
   "source": [
    "# получение уникальных значений в столбце 'children'\n",
    "df['children'].value_counts()"
   ]
  },
  {
   "cell_type": "code",
   "execution_count": 17,
   "metadata": {},
   "outputs": [],
   "source": [
    "# приведем все символы базы данных к нижнему регистру для исключения дубликатов\n",
    "df['education'] = df['education'].str.lower()"
   ]
  },
  {
   "cell_type": "code",
   "execution_count": 18,
   "metadata": {},
   "outputs": [],
   "source": [
    "# в столбце с количеством детей заменим -1 на положительное значение, а 20 - на медианное, так как нет возможности определить,\n",
    "# поставили к 2 лишний 0 или к 0 приписали 2\n",
    "df['children'] = df['children'].replace(-1, 1)\n",
    "children_median = df['children'].median()\n",
    "df['children'] = df['children'].replace(20, children_median)"
   ]
  },
  {
   "cell_type": "markdown",
   "metadata": {},
   "source": [
    "В наборе данных дубликаты встречаются в столбце \"Образование\". В написании уровня образования используются символы нижнего и верхнего регистра, что привело к дублурованию одиних и тех же слов. Причиной данной проблемы могла послужить некорректная выгрузка данных.\n",
    "Также в процессе анализа данных были выявлены аномальные значения в столбце 'дети': -1 и 20. Первое значение было заменено на положительное, а второе - на медианное. "
   ]
  },
  {
   "cell_type": "markdown",
   "metadata": {},
   "source": [
    "<div class=\"alert alert-success\">\n",
    "<b>Комментарий ревьюера:</b>\n",
    "\n",
    "А если бы мы посмотрели на долю этих значений, то смогли бы принять решение в сторону избавления от этих данных ? \n",
    "    \n",
    "</div>"
   ]
  },
  {
   "cell_type": "markdown",
   "metadata": {},
   "source": [
    "### Лемматизация"
   ]
  },
  {
   "cell_type": "code",
   "execution_count": 19,
   "metadata": {},
   "outputs": [],
   "source": [
    "# импорт библиотеки pymystem3 и collections\n",
    "from pymystem3 import Mystem\n",
    "from collections import Counter\n",
    "m = Mystem()"
   ]
  },
  {
   "cell_type": "code",
   "execution_count": 20,
   "metadata": {},
   "outputs": [],
   "source": [
    "# на основании ранее изученных уникальных значений столбца 'purpose' выделим ключевые категории\n",
    "categories = ['жилье', 'недвижимость', 'образование', 'свадьба', 'автомобиль']"
   ]
  },
  {
   "cell_type": "code",
   "execution_count": 21,
   "metadata": {},
   "outputs": [
    {
     "data": {
      "text/html": [
       "<div>\n",
       "<style scoped>\n",
       "    .dataframe tbody tr th:only-of-type {\n",
       "        vertical-align: middle;\n",
       "    }\n",
       "\n",
       "    .dataframe tbody tr th {\n",
       "        vertical-align: top;\n",
       "    }\n",
       "\n",
       "    .dataframe thead th {\n",
       "        text-align: right;\n",
       "    }\n",
       "</style>\n",
       "<table border=\"1\" class=\"dataframe\">\n",
       "  <thead>\n",
       "    <tr style=\"text-align: right;\">\n",
       "      <th></th>\n",
       "      <th>children</th>\n",
       "      <th>days_employed</th>\n",
       "      <th>dob_years</th>\n",
       "      <th>education</th>\n",
       "      <th>education_id</th>\n",
       "      <th>family_status</th>\n",
       "      <th>family_status_id</th>\n",
       "      <th>gender</th>\n",
       "      <th>income_type</th>\n",
       "      <th>debt</th>\n",
       "      <th>total_income</th>\n",
       "      <th>purpose</th>\n",
       "      <th>purpose_new</th>\n",
       "    </tr>\n",
       "  </thead>\n",
       "  <tbody>\n",
       "    <tr>\n",
       "      <td>0</td>\n",
       "      <td>1</td>\n",
       "      <td>8437</td>\n",
       "      <td>42</td>\n",
       "      <td>высшее</td>\n",
       "      <td>0</td>\n",
       "      <td>женат / замужем</td>\n",
       "      <td>0</td>\n",
       "      <td>F</td>\n",
       "      <td>сотрудник</td>\n",
       "      <td>0</td>\n",
       "      <td>253875</td>\n",
       "      <td>покупка жилья</td>\n",
       "      <td>жилье</td>\n",
       "    </tr>\n",
       "    <tr>\n",
       "      <td>1</td>\n",
       "      <td>1</td>\n",
       "      <td>4024</td>\n",
       "      <td>36</td>\n",
       "      <td>среднее</td>\n",
       "      <td>1</td>\n",
       "      <td>женат / замужем</td>\n",
       "      <td>0</td>\n",
       "      <td>F</td>\n",
       "      <td>сотрудник</td>\n",
       "      <td>0</td>\n",
       "      <td>112080</td>\n",
       "      <td>приобретение автомобиля</td>\n",
       "      <td>автомобиль</td>\n",
       "    </tr>\n",
       "    <tr>\n",
       "      <td>2</td>\n",
       "      <td>0</td>\n",
       "      <td>5623</td>\n",
       "      <td>33</td>\n",
       "      <td>среднее</td>\n",
       "      <td>1</td>\n",
       "      <td>женат / замужем</td>\n",
       "      <td>0</td>\n",
       "      <td>M</td>\n",
       "      <td>сотрудник</td>\n",
       "      <td>0</td>\n",
       "      <td>145885</td>\n",
       "      <td>покупка жилья</td>\n",
       "      <td>жилье</td>\n",
       "    </tr>\n",
       "    <tr>\n",
       "      <td>3</td>\n",
       "      <td>3</td>\n",
       "      <td>4124</td>\n",
       "      <td>32</td>\n",
       "      <td>среднее</td>\n",
       "      <td>1</td>\n",
       "      <td>женат / замужем</td>\n",
       "      <td>0</td>\n",
       "      <td>M</td>\n",
       "      <td>сотрудник</td>\n",
       "      <td>0</td>\n",
       "      <td>267628</td>\n",
       "      <td>дополнительное образование</td>\n",
       "      <td>образование</td>\n",
       "    </tr>\n",
       "    <tr>\n",
       "      <td>4</td>\n",
       "      <td>0</td>\n",
       "      <td>340266</td>\n",
       "      <td>53</td>\n",
       "      <td>среднее</td>\n",
       "      <td>1</td>\n",
       "      <td>гражданский брак</td>\n",
       "      <td>1</td>\n",
       "      <td>F</td>\n",
       "      <td>пенсионер</td>\n",
       "      <td>0</td>\n",
       "      <td>158616</td>\n",
       "      <td>сыграть свадьбу</td>\n",
       "      <td>свадьба</td>\n",
       "    </tr>\n",
       "  </tbody>\n",
       "</table>\n",
       "</div>"
      ],
      "text/plain": [
       "   children  days_employed  dob_years education  education_id  \\\n",
       "0         1           8437         42    высшее             0   \n",
       "1         1           4024         36   среднее             1   \n",
       "2         0           5623         33   среднее             1   \n",
       "3         3           4124         32   среднее             1   \n",
       "4         0         340266         53   среднее             1   \n",
       "\n",
       "      family_status  family_status_id gender income_type  debt  total_income  \\\n",
       "0   женат / замужем                 0      F   сотрудник     0        253875   \n",
       "1   женат / замужем                 0      F   сотрудник     0        112080   \n",
       "2   женат / замужем                 0      M   сотрудник     0        145885   \n",
       "3   женат / замужем                 0      M   сотрудник     0        267628   \n",
       "4  гражданский брак                 1      F   пенсионер     0        158616   \n",
       "\n",
       "                      purpose  purpose_new  \n",
       "0               покупка жилья        жилье  \n",
       "1     приобретение автомобиля   автомобиль  \n",
       "2               покупка жилья        жилье  \n",
       "3  дополнительное образование  образование  \n",
       "4             сыграть свадьбу      свадьба  "
      ]
     },
     "execution_count": 21,
     "metadata": {},
     "output_type": "execute_result"
    }
   ],
   "source": [
    "# лемматизируем данные\n",
    "def lemmatize(text):\n",
    "    lemma = m.lemmatize(text)\n",
    "    for word in categories:\n",
    "        if word in lemma:\n",
    "            lemma = word\n",
    "    return lemma\n",
    "\n",
    "df['purpose_new'] = df['purpose'].apply(lemmatize)\n",
    "df.head()"
   ]
  },
  {
   "cell_type": "code",
   "execution_count": 22,
   "metadata": {},
   "outputs": [
    {
     "data": {
      "text/plain": [
       "недвижимость    6367\n",
       "жилье           4473\n",
       "автомобиль      4315\n",
       "образование     4022\n",
       "свадьба         2348\n",
       "Name: purpose_new, dtype: int64"
      ]
     },
     "execution_count": 22,
     "metadata": {},
     "output_type": "execute_result"
    }
   ],
   "source": [
    "df['purpose_new'].value_counts()"
   ]
  },
  {
   "cell_type": "markdown",
   "metadata": {},
   "source": [
    "<div class=\"alert alert-success\">\n",
    "<b>Комментарий ревьюера:</b>\n",
    "\n",
    "Категории кредитов опредилили верно 👍\n",
    "    \n",
    "</div>"
   ]
  },
  {
   "cell_type": "code",
   "execution_count": 23,
   "metadata": {},
   "outputs": [
    {
     "data": {
      "text/plain": [
       "недвижимость    10840\n",
       "автомобиль       4315\n",
       "образование      4022\n",
       "свадьба          2348\n",
       "Name: purpose_new, dtype: int64"
      ]
     },
     "execution_count": 23,
     "metadata": {},
     "output_type": "execute_result"
    }
   ],
   "source": [
    "# заменим категорию \"жилье\" на \"недвижимость\"\n",
    "df['purpose_new'] = df['purpose_new'].replace('жилье', 'недвижимость')\n",
    "df['purpose_new'].value_counts()"
   ]
  },
  {
   "cell_type": "markdown",
   "metadata": {},
   "source": [
    "С помощью лемматизации были выделены следующие основные цели, для которых брался кредит:\n",
    "- недвижимость;\n",
    "- автомобиль;\n",
    "- образование;\n",
    "- свадьба.\n",
    "Такое разделение основано на выделении ключевых слов, которые встречаются в каждой цели в исходном виде. Поскольку жилье относится к недвижимости, оно было заменено на соответствующее значение.\n"
   ]
  },
  {
   "cell_type": "markdown",
   "metadata": {},
   "source": [
    "### Категоризация данных"
   ]
  },
  {
   "cell_type": "markdown",
   "metadata": {},
   "source": [
    "Проведем категоризацию данных по доходам заемщиков"
   ]
  },
  {
   "cell_type": "code",
   "execution_count": 24,
   "metadata": {},
   "outputs": [
    {
     "data": {
      "text/plain": [
       "25%    107798.0\n",
       "50%    145017.0\n",
       "75%    195543.0\n",
       "Name: total_income, dtype: float64"
      ]
     },
     "execution_count": 24,
     "metadata": {},
     "output_type": "execute_result"
    }
   ],
   "source": [
    "# разобъем общий доход на квантили 25 %, 50 % И 75 %\n",
    "statistics = df['total_income'].describe()\n",
    "statistics[4:7]"
   ]
  },
  {
   "cell_type": "markdown",
   "metadata": {},
   "source": [
    "<div class=\"alert alert-success\">\n",
    "<b>Комментарий ревьюера:</b>\n",
    "\n",
    "Отличный способ категоризовать данные по уровню доходов 👍\n",
    "    \n",
    "</div>"
   ]
  },
  {
   "cell_type": "code",
   "execution_count": 25,
   "metadata": {},
   "outputs": [],
   "source": [
    "# для категоризации доходов составим функцию\n",
    "def determine_income_group(income):\n",
    "    if income <= statistics[4]: \n",
    "        return 1\n",
    "    elif statistics[4] < income <= statistics[5]: \n",
    "        return 2\n",
    "    elif statistics[5] < income <= statistics[6]: \n",
    "        return 3\n",
    "    else: \n",
    "        return 4"
   ]
  },
  {
   "cell_type": "code",
   "execution_count": 26,
   "metadata": {},
   "outputs": [
    {
     "data": {
      "text/html": [
       "<div>\n",
       "<style scoped>\n",
       "    .dataframe tbody tr th:only-of-type {\n",
       "        vertical-align: middle;\n",
       "    }\n",
       "\n",
       "    .dataframe tbody tr th {\n",
       "        vertical-align: top;\n",
       "    }\n",
       "\n",
       "    .dataframe thead th {\n",
       "        text-align: right;\n",
       "    }\n",
       "</style>\n",
       "<table border=\"1\" class=\"dataframe\">\n",
       "  <thead>\n",
       "    <tr style=\"text-align: right;\">\n",
       "      <th></th>\n",
       "      <th>children</th>\n",
       "      <th>days_employed</th>\n",
       "      <th>dob_years</th>\n",
       "      <th>education</th>\n",
       "      <th>education_id</th>\n",
       "      <th>family_status</th>\n",
       "      <th>family_status_id</th>\n",
       "      <th>gender</th>\n",
       "      <th>income_type</th>\n",
       "      <th>debt</th>\n",
       "      <th>total_income</th>\n",
       "      <th>purpose</th>\n",
       "      <th>purpose_new</th>\n",
       "      <th>income_group</th>\n",
       "    </tr>\n",
       "  </thead>\n",
       "  <tbody>\n",
       "    <tr>\n",
       "      <td>0</td>\n",
       "      <td>1</td>\n",
       "      <td>8437</td>\n",
       "      <td>42</td>\n",
       "      <td>высшее</td>\n",
       "      <td>0</td>\n",
       "      <td>женат / замужем</td>\n",
       "      <td>0</td>\n",
       "      <td>F</td>\n",
       "      <td>сотрудник</td>\n",
       "      <td>0</td>\n",
       "      <td>253875</td>\n",
       "      <td>покупка жилья</td>\n",
       "      <td>недвижимость</td>\n",
       "      <td>4</td>\n",
       "    </tr>\n",
       "    <tr>\n",
       "      <td>1</td>\n",
       "      <td>1</td>\n",
       "      <td>4024</td>\n",
       "      <td>36</td>\n",
       "      <td>среднее</td>\n",
       "      <td>1</td>\n",
       "      <td>женат / замужем</td>\n",
       "      <td>0</td>\n",
       "      <td>F</td>\n",
       "      <td>сотрудник</td>\n",
       "      <td>0</td>\n",
       "      <td>112080</td>\n",
       "      <td>приобретение автомобиля</td>\n",
       "      <td>автомобиль</td>\n",
       "      <td>2</td>\n",
       "    </tr>\n",
       "    <tr>\n",
       "      <td>2</td>\n",
       "      <td>0</td>\n",
       "      <td>5623</td>\n",
       "      <td>33</td>\n",
       "      <td>среднее</td>\n",
       "      <td>1</td>\n",
       "      <td>женат / замужем</td>\n",
       "      <td>0</td>\n",
       "      <td>M</td>\n",
       "      <td>сотрудник</td>\n",
       "      <td>0</td>\n",
       "      <td>145885</td>\n",
       "      <td>покупка жилья</td>\n",
       "      <td>недвижимость</td>\n",
       "      <td>3</td>\n",
       "    </tr>\n",
       "    <tr>\n",
       "      <td>3</td>\n",
       "      <td>3</td>\n",
       "      <td>4124</td>\n",
       "      <td>32</td>\n",
       "      <td>среднее</td>\n",
       "      <td>1</td>\n",
       "      <td>женат / замужем</td>\n",
       "      <td>0</td>\n",
       "      <td>M</td>\n",
       "      <td>сотрудник</td>\n",
       "      <td>0</td>\n",
       "      <td>267628</td>\n",
       "      <td>дополнительное образование</td>\n",
       "      <td>образование</td>\n",
       "      <td>4</td>\n",
       "    </tr>\n",
       "    <tr>\n",
       "      <td>4</td>\n",
       "      <td>0</td>\n",
       "      <td>340266</td>\n",
       "      <td>53</td>\n",
       "      <td>среднее</td>\n",
       "      <td>1</td>\n",
       "      <td>гражданский брак</td>\n",
       "      <td>1</td>\n",
       "      <td>F</td>\n",
       "      <td>пенсионер</td>\n",
       "      <td>0</td>\n",
       "      <td>158616</td>\n",
       "      <td>сыграть свадьбу</td>\n",
       "      <td>свадьба</td>\n",
       "      <td>3</td>\n",
       "    </tr>\n",
       "  </tbody>\n",
       "</table>\n",
       "</div>"
      ],
      "text/plain": [
       "   children  days_employed  dob_years education  education_id  \\\n",
       "0         1           8437         42    высшее             0   \n",
       "1         1           4024         36   среднее             1   \n",
       "2         0           5623         33   среднее             1   \n",
       "3         3           4124         32   среднее             1   \n",
       "4         0         340266         53   среднее             1   \n",
       "\n",
       "      family_status  family_status_id gender income_type  debt  total_income  \\\n",
       "0   женат / замужем                 0      F   сотрудник     0        253875   \n",
       "1   женат / замужем                 0      F   сотрудник     0        112080   \n",
       "2   женат / замужем                 0      M   сотрудник     0        145885   \n",
       "3   женат / замужем                 0      M   сотрудник     0        267628   \n",
       "4  гражданский брак                 1      F   пенсионер     0        158616   \n",
       "\n",
       "                      purpose   purpose_new  income_group  \n",
       "0               покупка жилья  недвижимость             4  \n",
       "1     приобретение автомобиля    автомобиль             2  \n",
       "2               покупка жилья  недвижимость             3  \n",
       "3  дополнительное образование   образование             4  \n",
       "4             сыграть свадьбу       свадьба             3  "
      ]
     },
     "execution_count": 26,
     "metadata": {},
     "output_type": "execute_result"
    }
   ],
   "source": [
    "# применим функцию к столбцу доходов\n",
    "df['income_group'] = df['total_income'].apply(determine_income_group)\n",
    "df.head()"
   ]
  },
  {
   "cell_type": "code",
   "execution_count": 27,
   "metadata": {},
   "outputs": [
    {
     "data": {
      "text/plain": [
       "2    6468\n",
       "1    5382\n",
       "4    5381\n",
       "3    4294\n",
       "Name: income_group, dtype: int64"
      ]
     },
     "execution_count": 27,
     "metadata": {},
     "output_type": "execute_result"
    }
   ],
   "source": [
    "# проверим количество людей, принадлежащих той или иной категории в соответствии с ранее рассмотренными квантилями доходов\n",
    "df['income_group'].value_counts()"
   ]
  },
  {
   "cell_type": "markdown",
   "metadata": {},
   "source": [
    "Таким образом, доход 5382 заемщиков составляет менее или равен 107798 руб., доход 6468 - в диапозоне от 107798 руб. до 145017 руб., доход 4294 - в диапозоне от 145017 руб. до 195543 руб. и 5381 - более 195543 руб."
   ]
  },
  {
   "cell_type": "code",
   "execution_count": 28,
   "metadata": {},
   "outputs": [],
   "source": [
    "# для дальнейшего анализа добавим 2 категории: 1 - есть дети; 0 - детей нет\n",
    "def children_exist(children):\n",
    "    if children == 0:\n",
    "        return 0\n",
    "    else:\n",
    "        return 1"
   ]
  },
  {
   "cell_type": "code",
   "execution_count": 29,
   "metadata": {},
   "outputs": [
    {
     "data": {
      "text/html": [
       "<div>\n",
       "<style scoped>\n",
       "    .dataframe tbody tr th:only-of-type {\n",
       "        vertical-align: middle;\n",
       "    }\n",
       "\n",
       "    .dataframe tbody tr th {\n",
       "        vertical-align: top;\n",
       "    }\n",
       "\n",
       "    .dataframe thead th {\n",
       "        text-align: right;\n",
       "    }\n",
       "</style>\n",
       "<table border=\"1\" class=\"dataframe\">\n",
       "  <thead>\n",
       "    <tr style=\"text-align: right;\">\n",
       "      <th></th>\n",
       "      <th>children</th>\n",
       "      <th>days_employed</th>\n",
       "      <th>dob_years</th>\n",
       "      <th>education</th>\n",
       "      <th>education_id</th>\n",
       "      <th>family_status</th>\n",
       "      <th>family_status_id</th>\n",
       "      <th>gender</th>\n",
       "      <th>income_type</th>\n",
       "      <th>debt</th>\n",
       "      <th>total_income</th>\n",
       "      <th>purpose</th>\n",
       "      <th>purpose_new</th>\n",
       "      <th>income_group</th>\n",
       "      <th>children_exist</th>\n",
       "    </tr>\n",
       "  </thead>\n",
       "  <tbody>\n",
       "    <tr>\n",
       "      <td>0</td>\n",
       "      <td>1</td>\n",
       "      <td>8437</td>\n",
       "      <td>42</td>\n",
       "      <td>высшее</td>\n",
       "      <td>0</td>\n",
       "      <td>женат / замужем</td>\n",
       "      <td>0</td>\n",
       "      <td>F</td>\n",
       "      <td>сотрудник</td>\n",
       "      <td>0</td>\n",
       "      <td>253875</td>\n",
       "      <td>покупка жилья</td>\n",
       "      <td>недвижимость</td>\n",
       "      <td>4</td>\n",
       "      <td>1</td>\n",
       "    </tr>\n",
       "    <tr>\n",
       "      <td>1</td>\n",
       "      <td>1</td>\n",
       "      <td>4024</td>\n",
       "      <td>36</td>\n",
       "      <td>среднее</td>\n",
       "      <td>1</td>\n",
       "      <td>женат / замужем</td>\n",
       "      <td>0</td>\n",
       "      <td>F</td>\n",
       "      <td>сотрудник</td>\n",
       "      <td>0</td>\n",
       "      <td>112080</td>\n",
       "      <td>приобретение автомобиля</td>\n",
       "      <td>автомобиль</td>\n",
       "      <td>2</td>\n",
       "      <td>1</td>\n",
       "    </tr>\n",
       "    <tr>\n",
       "      <td>2</td>\n",
       "      <td>0</td>\n",
       "      <td>5623</td>\n",
       "      <td>33</td>\n",
       "      <td>среднее</td>\n",
       "      <td>1</td>\n",
       "      <td>женат / замужем</td>\n",
       "      <td>0</td>\n",
       "      <td>M</td>\n",
       "      <td>сотрудник</td>\n",
       "      <td>0</td>\n",
       "      <td>145885</td>\n",
       "      <td>покупка жилья</td>\n",
       "      <td>недвижимость</td>\n",
       "      <td>3</td>\n",
       "      <td>0</td>\n",
       "    </tr>\n",
       "    <tr>\n",
       "      <td>3</td>\n",
       "      <td>3</td>\n",
       "      <td>4124</td>\n",
       "      <td>32</td>\n",
       "      <td>среднее</td>\n",
       "      <td>1</td>\n",
       "      <td>женат / замужем</td>\n",
       "      <td>0</td>\n",
       "      <td>M</td>\n",
       "      <td>сотрудник</td>\n",
       "      <td>0</td>\n",
       "      <td>267628</td>\n",
       "      <td>дополнительное образование</td>\n",
       "      <td>образование</td>\n",
       "      <td>4</td>\n",
       "      <td>1</td>\n",
       "    </tr>\n",
       "    <tr>\n",
       "      <td>4</td>\n",
       "      <td>0</td>\n",
       "      <td>340266</td>\n",
       "      <td>53</td>\n",
       "      <td>среднее</td>\n",
       "      <td>1</td>\n",
       "      <td>гражданский брак</td>\n",
       "      <td>1</td>\n",
       "      <td>F</td>\n",
       "      <td>пенсионер</td>\n",
       "      <td>0</td>\n",
       "      <td>158616</td>\n",
       "      <td>сыграть свадьбу</td>\n",
       "      <td>свадьба</td>\n",
       "      <td>3</td>\n",
       "      <td>0</td>\n",
       "    </tr>\n",
       "  </tbody>\n",
       "</table>\n",
       "</div>"
      ],
      "text/plain": [
       "   children  days_employed  dob_years education  education_id  \\\n",
       "0         1           8437         42    высшее             0   \n",
       "1         1           4024         36   среднее             1   \n",
       "2         0           5623         33   среднее             1   \n",
       "3         3           4124         32   среднее             1   \n",
       "4         0         340266         53   среднее             1   \n",
       "\n",
       "      family_status  family_status_id gender income_type  debt  total_income  \\\n",
       "0   женат / замужем                 0      F   сотрудник     0        253875   \n",
       "1   женат / замужем                 0      F   сотрудник     0        112080   \n",
       "2   женат / замужем                 0      M   сотрудник     0        145885   \n",
       "3   женат / замужем                 0      M   сотрудник     0        267628   \n",
       "4  гражданский брак                 1      F   пенсионер     0        158616   \n",
       "\n",
       "                      purpose   purpose_new  income_group  children_exist  \n",
       "0               покупка жилья  недвижимость             4               1  \n",
       "1     приобретение автомобиля    автомобиль             2               1  \n",
       "2               покупка жилья  недвижимость             3               0  \n",
       "3  дополнительное образование   образование             4               1  \n",
       "4             сыграть свадьбу       свадьба             3               0  "
      ]
     },
     "execution_count": 29,
     "metadata": {},
     "output_type": "execute_result"
    }
   ],
   "source": [
    "# применим полученную функцию для категоризации детей\n",
    "df['children_exist'] = df['children'].apply(children_exist)\n",
    "df.head()"
   ]
  },
  {
   "cell_type": "markdown",
   "metadata": {},
   "source": [
    "## Ответы на вопросы"
   ]
  },
  {
   "cell_type": "markdown",
   "metadata": {},
   "source": [
    "- Есть ли зависимость между наличием детей и возвратом кредита в срок?"
   ]
  },
  {
   "cell_type": "code",
   "execution_count": 30,
   "metadata": {},
   "outputs": [
    {
     "data": {
      "text/html": [
       "<div>\n",
       "<style scoped>\n",
       "    .dataframe tbody tr th:only-of-type {\n",
       "        vertical-align: middle;\n",
       "    }\n",
       "\n",
       "    .dataframe tbody tr th {\n",
       "        vertical-align: top;\n",
       "    }\n",
       "\n",
       "    .dataframe thead th {\n",
       "        text-align: right;\n",
       "    }\n",
       "</style>\n",
       "<table border=\"1\" class=\"dataframe\">\n",
       "  <thead>\n",
       "    <tr style=\"text-align: right;\">\n",
       "      <th></th>\n",
       "      <th>debt</th>\n",
       "    </tr>\n",
       "    <tr>\n",
       "      <th>children_exist</th>\n",
       "      <th></th>\n",
       "    </tr>\n",
       "  </thead>\n",
       "  <tbody>\n",
       "    <tr>\n",
       "      <td>0</td>\n",
       "      <td>0.075</td>\n",
       "    </tr>\n",
       "    <tr>\n",
       "      <td>1</td>\n",
       "      <td>0.092</td>\n",
       "    </tr>\n",
       "  </tbody>\n",
       "</table>\n",
       "</div>"
      ],
      "text/plain": [
       "                 debt\n",
       "children_exist       \n",
       "0               0.075\n",
       "1               0.092"
      ]
     },
     "execution_count": 30,
     "metadata": {},
     "output_type": "execute_result"
    }
   ],
   "source": [
    "# построим сводную таблицу\n",
    "df_pivot = df.pivot_table(index = ['children_exist'], values = 'debt').round(3)\n",
    "df_pivot"
   ]
  },
  {
   "cell_type": "markdown",
   "metadata": {},
   "source": [
    "В итоге, если у человека есть ребенок, то вероятность задолженности составляет 9.2 %, если детей нет - 7.5 %. Данная ситуация может быть вызвана тем, что в случае наличия детей человек берет в кредит большую сумму и, соответственно, повышает вероятность не покрыть задолженность в срок."
   ]
  },
  {
   "cell_type": "markdown",
   "metadata": {},
   "source": [
    "<div class=\"alert alert-success\">\n",
    "<b>Комментарий ревьюера:</b>\n",
    "\n",
    "Верно 👍\n",
    "    \n",
    "</div>"
   ]
  },
  {
   "cell_type": "markdown",
   "metadata": {},
   "source": [
    "- Есть ли зависимость между семейным положением и возвратом кредита в срок?"
   ]
  },
  {
   "cell_type": "code",
   "execution_count": 31,
   "metadata": {},
   "outputs": [
    {
     "data": {
      "text/html": [
       "<div>\n",
       "<style scoped>\n",
       "    .dataframe tbody tr th:only-of-type {\n",
       "        vertical-align: middle;\n",
       "    }\n",
       "\n",
       "    .dataframe tbody tr th {\n",
       "        vertical-align: top;\n",
       "    }\n",
       "\n",
       "    .dataframe thead th {\n",
       "        text-align: right;\n",
       "    }\n",
       "</style>\n",
       "<table border=\"1\" class=\"dataframe\">\n",
       "  <thead>\n",
       "    <tr style=\"text-align: right;\">\n",
       "      <th></th>\n",
       "      <th>debt</th>\n",
       "    </tr>\n",
       "    <tr>\n",
       "      <th>family_status</th>\n",
       "      <th></th>\n",
       "    </tr>\n",
       "  </thead>\n",
       "  <tbody>\n",
       "    <tr>\n",
       "      <td>Не женат / не замужем</td>\n",
       "      <td>0.097</td>\n",
       "    </tr>\n",
       "    <tr>\n",
       "      <td>в разводе</td>\n",
       "      <td>0.071</td>\n",
       "    </tr>\n",
       "    <tr>\n",
       "      <td>вдовец / вдова</td>\n",
       "      <td>0.066</td>\n",
       "    </tr>\n",
       "    <tr>\n",
       "      <td>гражданский брак</td>\n",
       "      <td>0.093</td>\n",
       "    </tr>\n",
       "    <tr>\n",
       "      <td>женат / замужем</td>\n",
       "      <td>0.075</td>\n",
       "    </tr>\n",
       "  </tbody>\n",
       "</table>\n",
       "</div>"
      ],
      "text/plain": [
       "                        debt\n",
       "family_status               \n",
       "Не женат / не замужем  0.097\n",
       "в разводе              0.071\n",
       "вдовец / вдова         0.066\n",
       "гражданский брак       0.093\n",
       "женат / замужем        0.075"
      ]
     },
     "execution_count": 31,
     "metadata": {},
     "output_type": "execute_result"
    }
   ],
   "source": [
    "# построим сводную таблицу\n",
    "df_pivot = df.pivot_table(index = ['family_status'], values = ['debt']).round(3)\n",
    "df_pivot"
   ]
  },
  {
   "cell_type": "markdown",
   "metadata": {},
   "source": [
    "Таким образом, люди, которые находятся в разводе, женаты/замужем или являются вдовцом/вдовой, с меньшей вероятностью не вернут долг банку, в то время как люди, которые не женаты/не замужем или находятся в гражданском браке, больше склонны не возвращать банковскую задолженность."
   ]
  },
  {
   "cell_type": "markdown",
   "metadata": {},
   "source": [
    "<div class=\"alert alert-success\">\n",
    "<b>Комментарий ревьюера:</b>\n",
    "\n",
    "В точку 👍\n",
    "    \n",
    "Обрати внимание, что наши действия повторяются с точки зрения расчетов.\n",
    "    \n",
    "Это говорит о том, что мы можем создать функцию для постоянных расчетов. Тем самым мы сможем оптимизировать свой код 😊\n",
    "    \n",
    "</div>"
   ]
  },
  {
   "cell_type": "markdown",
   "metadata": {},
   "source": [
    "- Есть ли зависимость между уровнем дохода и возвратом кредита в срок?"
   ]
  },
  {
   "cell_type": "code",
   "execution_count": 32,
   "metadata": {},
   "outputs": [
    {
     "data": {
      "text/html": [
       "<div>\n",
       "<style scoped>\n",
       "    .dataframe tbody tr th:only-of-type {\n",
       "        vertical-align: middle;\n",
       "    }\n",
       "\n",
       "    .dataframe tbody tr th {\n",
       "        vertical-align: top;\n",
       "    }\n",
       "\n",
       "    .dataframe thead th {\n",
       "        text-align: right;\n",
       "    }\n",
       "</style>\n",
       "<table border=\"1\" class=\"dataframe\">\n",
       "  <thead>\n",
       "    <tr style=\"text-align: right;\">\n",
       "      <th></th>\n",
       "      <th>debt</th>\n",
       "    </tr>\n",
       "    <tr>\n",
       "      <th>income_group</th>\n",
       "      <th></th>\n",
       "    </tr>\n",
       "  </thead>\n",
       "  <tbody>\n",
       "    <tr>\n",
       "      <td>1</td>\n",
       "      <td>0.079</td>\n",
       "    </tr>\n",
       "    <tr>\n",
       "      <td>2</td>\n",
       "      <td>0.085</td>\n",
       "    </tr>\n",
       "    <tr>\n",
       "      <td>3</td>\n",
       "      <td>0.089</td>\n",
       "    </tr>\n",
       "    <tr>\n",
       "      <td>4</td>\n",
       "      <td>0.072</td>\n",
       "    </tr>\n",
       "  </tbody>\n",
       "</table>\n",
       "</div>"
      ],
      "text/plain": [
       "               debt\n",
       "income_group       \n",
       "1             0.079\n",
       "2             0.085\n",
       "3             0.089\n",
       "4             0.072"
      ]
     },
     "execution_count": 32,
     "metadata": {},
     "output_type": "execute_result"
    }
   ],
   "source": [
    "# построим сводную таблицу\n",
    "df_pivot = df.pivot_table(index = ['income_group'], values = ['debt']).round(3)\n",
    "df_pivot"
   ]
  },
  {
   "cell_type": "markdown",
   "metadata": {},
   "source": [
    "Логично, что люди с самым высоким доходом с самой низкой вероятностью не вернут кредит в срок. Интересным является тот факт, что на втором месте находятся люди с наименьшим доходом. Это может быть вызвано нет, что в связи с ограниченным бюджетом они рациональнее распоряжаются своими деньгами. "
   ]
  },
  {
   "cell_type": "markdown",
   "metadata": {},
   "source": [
    "<div class=\"alert alert-success\">\n",
    "<b>Комментарий ревьюера:</b>\n",
    "\n",
    "Верно 👍\n",
    "    \n",
    "В том числе можно было посчитать с помощью группировки  `groupby`, будем иметь в виду как альтернативный метод.\n",
    "    \n",
    "</div>"
   ]
  },
  {
   "cell_type": "markdown",
   "metadata": {},
   "source": [
    "- Как разные цели кредита влияют на его возврат в срок?"
   ]
  },
  {
   "cell_type": "code",
   "execution_count": 33,
   "metadata": {},
   "outputs": [
    {
     "data": {
      "text/html": [
       "<div>\n",
       "<style scoped>\n",
       "    .dataframe tbody tr th:only-of-type {\n",
       "        vertical-align: middle;\n",
       "    }\n",
       "\n",
       "    .dataframe tbody tr th {\n",
       "        vertical-align: top;\n",
       "    }\n",
       "\n",
       "    .dataframe thead th {\n",
       "        text-align: right;\n",
       "    }\n",
       "</style>\n",
       "<table border=\"1\" class=\"dataframe\">\n",
       "  <thead>\n",
       "    <tr style=\"text-align: right;\">\n",
       "      <th></th>\n",
       "      <th>debt</th>\n",
       "    </tr>\n",
       "    <tr>\n",
       "      <th>purpose_new</th>\n",
       "      <th></th>\n",
       "    </tr>\n",
       "  </thead>\n",
       "  <tbody>\n",
       "    <tr>\n",
       "      <td>автомобиль</td>\n",
       "      <td>0.093</td>\n",
       "    </tr>\n",
       "    <tr>\n",
       "      <td>недвижимость</td>\n",
       "      <td>0.072</td>\n",
       "    </tr>\n",
       "    <tr>\n",
       "      <td>образование</td>\n",
       "      <td>0.092</td>\n",
       "    </tr>\n",
       "    <tr>\n",
       "      <td>свадьба</td>\n",
       "      <td>0.079</td>\n",
       "    </tr>\n",
       "  </tbody>\n",
       "</table>\n",
       "</div>"
      ],
      "text/plain": [
       "               debt\n",
       "purpose_new        \n",
       "автомобиль    0.093\n",
       "недвижимость  0.072\n",
       "образование   0.092\n",
       "свадьба       0.079"
      ]
     },
     "execution_count": 33,
     "metadata": {},
     "output_type": "execute_result"
    }
   ],
   "source": [
    "# построим сводную таблицу\n",
    "df_pivot = df.pivot_table(index = ['purpose_new'], values = ['debt']).round(3)\n",
    "df_pivot"
   ]
  },
  {
   "cell_type": "markdown",
   "metadata": {},
   "source": [
    "Люди более ответственно подходят к возврату кредиторской задолженности, если они ее берут с целью приобретения недвижимости, так как, скорее всего, несвоевременное погашение кредита чревато ликвидацией недвижимости. С большей долей вероятности заемщики не вернут вовремя автокредит и кредит на образование."
   ]
  },
  {
   "cell_type": "markdown",
   "metadata": {},
   "source": [
    "<div class=\"alert alert-success\">\n",
    "<b>Комментарий ревьюера:</b>\n",
    "\n",
    "В точку 👍\n",
    "    \n",
    "В том числе можно было бы построить графики, например с помощью метода `hist` \n",
    "    \n",
    "Как раз способы визуализации, мы уже будем проходить в следующем проекте 😊\n",
    "    \n",
    "</div>"
   ]
  },
  {
   "cell_type": "markdown",
   "metadata": {},
   "source": [
    "## Общий вывод"
   ]
  },
  {
   "cell_type": "markdown",
   "metadata": {},
   "source": [
    "Данные анализируемой выборки показали, что различные категории разных значений не в одинаковой степени влияют на возврат кредиторской задолженности в срок. Например, идеальным заемщик согласно данной выборки выглядит так: вдовец/вдова с доходом более 195543 руб. без детей, который/которая берет кредит на недвижимость. Вырисовывается картина ответственного человека, не обременного семейными проблемами с высоким доходом."
   ]
  },
  {
   "cell_type": "markdown",
   "metadata": {},
   "source": [
    "<div class=\"alert alert-success\">\n",
    "<b>Комментарий ревьюера:</b>\n",
    "\n",
    "Выводы понятны и логичны, а самое главное подкреплены выявленными фактами.\n",
    "       \n",
    "В целом сам проект выполнен на хорошем уровне! На протяжении всей работы чувствуется глубина проработки задачи и это безусловный плюс для нас.\n",
    "    \n",
    "Хочется отметить, что мы узнали достаточно много нового в этом проекте и с уверенностью можем двигаться дальше. На что рекомендую обращать внимание сразу с самого старта так сказать, а именно на повторяемость кода. Если наши действия начинают повторяться более 2-х раз, то имеет смысл задуматься над: \n",
    "    \n",
    "- внедрением цикла \n",
    "- внедрением функции\n",
    "- внедрением комбинации цикл + функция\n",
    "    \n",
    "Такие вещи могут сразу не бросаться в глаза, но постепенно мы придём к такому подходу 😊\n",
    "    \n",
    "Поздравляю с успешным завершением проекта 😊👍\n",
    "    \n",
    "И желаю успехов в новых работах 😊\n",
    "    \n",
    "**[общий комментарий]** Не стоит забывать про оформление своей работы, это важный такой же важный этап. Рекомендую «не стесняться» использовать ячейки типа **markdown** там где нам необходимо отобразить свои размышления, в том числе с использованием дополнительной стилизации.\n",
    "    \n",
    "https://sqlbak.com/blog/jupyter-notebook-markdown-cheatsheet\n",
    "    \n",
    "    \n",
    "</div>"
   ]
  },
  {
   "cell_type": "markdown",
   "metadata": {},
   "source": [
    "## Чек-лист готовности проекта\n",
    "\n",
    "Поставьте 'x' в выполненных пунктах. Далее нажмите Shift+Enter."
   ]
  },
  {
   "cell_type": "markdown",
   "metadata": {},
   "source": [
    "- [x]  открыт файл;\n",
    "- [x]  файл изучен;\n",
    "- [x]  определены пропущенные значения;\n",
    "- [x]  заполнены пропущенные значения;\n",
    "- [x]  есть пояснение, какие пропущенные значения обнаружены;\n",
    "- [x]  описаны возможные причины появления пропусков в данных;\n",
    "- [x]  объяснено, по какому принципу заполнены пропуски;\n",
    "- [x]  заменен вещественный тип данных на целочисленный;\n",
    "- [x]  есть пояснение, какой метод используется для изменения типа данных и почему;\n",
    "- [x]  удалены дубликаты;\n",
    "- [x]  есть пояснение, какой метод используется для поиска и удаления дубликатов;\n",
    "- [x]  описаны возможные причины появления дубликатов в данных;\n",
    "- [x]  выделены леммы в значениях столбца с целями получения кредита;\n",
    "- [x]  описан процесс лемматизации;\n",
    "- [x]  данные категоризированы;\n",
    "- [x]  есть объяснение принципа категоризации данных;\n",
    "- [x]  есть ответ на вопрос: \"Есть ли зависимость между наличием детей и возвратом кредита в срок?\";\n",
    "- [x]  есть ответ на вопрос: \"Есть ли зависимость между семейным положением и возвратом кредита в срок?\";\n",
    "- [x]  есть ответ на вопрос: \"Есть ли зависимость между уровнем дохода и возвратом кредита в срок?\";\n",
    "- [x]  есть ответ на вопрос: \"Как разные цели кредита влияют на его возврат в срок?\";\n",
    "- [x]  в каждом этапе есть выводы;\n",
    "- [x]  есть общий вывод."
   ]
  }
 ],
 "metadata": {
  "ExecuteTimeLog": [
   {
    "duration": 871,
    "start_time": "2021-11-11T18:10:58.086Z"
   },
   {
    "duration": 66,
    "start_time": "2021-11-11T18:10:58.960Z"
   },
   {
    "duration": 30,
    "start_time": "2021-11-11T18:11:49.585Z"
   },
   {
    "duration": 18,
    "start_time": "2021-11-11T18:36:22.811Z"
   },
   {
    "duration": 15,
    "start_time": "2021-11-11T19:08:11.436Z"
   },
   {
    "duration": 4,
    "start_time": "2021-11-11T19:08:44.363Z"
   },
   {
    "duration": 64,
    "start_time": "2021-11-11T19:08:44.414Z"
   },
   {
    "duration": 26,
    "start_time": "2021-11-11T19:08:44.481Z"
   },
   {
    "duration": 9,
    "start_time": "2021-11-11T19:08:44.511Z"
   },
   {
    "duration": 18,
    "start_time": "2021-11-11T19:08:44.522Z"
   },
   {
    "duration": 9,
    "start_time": "2021-11-11T19:09:55.589Z"
   },
   {
    "duration": 6,
    "start_time": "2021-11-11T19:10:35.021Z"
   },
   {
    "duration": 8,
    "start_time": "2021-11-11T19:10:57.092Z"
   },
   {
    "duration": 3,
    "start_time": "2021-11-11T19:11:28.602Z"
   },
   {
    "duration": 66,
    "start_time": "2021-11-11T19:11:28.608Z"
   },
   {
    "duration": 21,
    "start_time": "2021-11-11T19:11:28.678Z"
   },
   {
    "duration": 9,
    "start_time": "2021-11-11T19:11:28.702Z"
   },
   {
    "duration": 7,
    "start_time": "2021-11-11T19:11:28.714Z"
   },
   {
    "duration": 7,
    "start_time": "2021-11-11T19:11:28.944Z"
   },
   {
    "duration": 7,
    "start_time": "2021-11-11T19:11:28.954Z"
   },
   {
    "duration": 14,
    "start_time": "2021-11-11T19:11:28.965Z"
   },
   {
    "duration": 3,
    "start_time": "2021-11-11T19:12:06.697Z"
   },
   {
    "duration": 703,
    "start_time": "2021-11-11T19:12:06.708Z"
   },
   {
    "duration": 26,
    "start_time": "2021-11-11T19:12:07.414Z"
   },
   {
    "duration": 17,
    "start_time": "2021-11-11T19:12:07.444Z"
   },
   {
    "duration": 7,
    "start_time": "2021-11-11T19:12:07.482Z"
   },
   {
    "duration": 11,
    "start_time": "2021-11-11T19:12:07.491Z"
   },
   {
    "duration": 14,
    "start_time": "2021-11-11T19:12:07.504Z"
   },
   {
    "duration": 9,
    "start_time": "2021-11-11T19:12:07.520Z"
   },
   {
    "duration": 106,
    "start_time": "2021-11-11T19:12:50.448Z"
   },
   {
    "duration": 7,
    "start_time": "2021-11-11T19:12:57.412Z"
   },
   {
    "duration": 9,
    "start_time": "2021-11-11T19:13:13.696Z"
   },
   {
    "duration": 13,
    "start_time": "2021-11-11T19:26:36.419Z"
   },
   {
    "duration": 210,
    "start_time": "2021-11-12T18:23:03.605Z"
   },
   {
    "duration": 543,
    "start_time": "2021-11-12T18:24:43.861Z"
   },
   {
    "duration": 51,
    "start_time": "2021-11-12T18:24:44.405Z"
   },
   {
    "duration": 19,
    "start_time": "2021-11-12T18:24:44.458Z"
   },
   {
    "duration": 25,
    "start_time": "2021-11-12T18:24:44.479Z"
   },
   {
    "duration": 9,
    "start_time": "2021-11-12T18:24:44.506Z"
   },
   {
    "duration": 5,
    "start_time": "2021-11-12T18:24:44.517Z"
   },
   {
    "duration": 11,
    "start_time": "2021-11-12T18:24:44.523Z"
   },
   {
    "duration": 5,
    "start_time": "2021-11-12T18:24:44.536Z"
   },
   {
    "duration": 6,
    "start_time": "2021-11-12T18:24:44.542Z"
   },
   {
    "duration": 3,
    "start_time": "2021-11-12T18:24:44.550Z"
   },
   {
    "duration": 5,
    "start_time": "2021-11-12T18:25:09.462Z"
   },
   {
    "duration": 6,
    "start_time": "2021-11-12T18:26:23.822Z"
   },
   {
    "duration": 3,
    "start_time": "2021-11-12T19:44:02.716Z"
   },
   {
    "duration": 54,
    "start_time": "2021-11-12T19:44:02.721Z"
   },
   {
    "duration": 13,
    "start_time": "2021-11-12T19:44:02.777Z"
   },
   {
    "duration": 14,
    "start_time": "2021-11-12T19:44:02.791Z"
   },
   {
    "duration": 16,
    "start_time": "2021-11-12T19:44:02.807Z"
   },
   {
    "duration": 14,
    "start_time": "2021-11-12T19:44:02.825Z"
   },
   {
    "duration": 28,
    "start_time": "2021-11-12T19:44:02.841Z"
   },
   {
    "duration": 11,
    "start_time": "2021-11-12T19:44:02.870Z"
   },
   {
    "duration": 14,
    "start_time": "2021-11-12T19:44:02.883Z"
   },
   {
    "duration": 4,
    "start_time": "2021-11-12T19:44:02.899Z"
   },
   {
    "duration": 4,
    "start_time": "2021-11-12T19:51:20.950Z"
   },
   {
    "duration": 3,
    "start_time": "2021-11-12T19:59:12.437Z"
   },
   {
    "duration": 60,
    "start_time": "2021-11-12T19:59:12.441Z"
   },
   {
    "duration": 12,
    "start_time": "2021-11-12T19:59:12.503Z"
   },
   {
    "duration": 11,
    "start_time": "2021-11-12T19:59:12.517Z"
   },
   {
    "duration": 12,
    "start_time": "2021-11-12T19:59:12.529Z"
   },
   {
    "duration": 5,
    "start_time": "2021-11-12T19:59:12.543Z"
   },
   {
    "duration": 5,
    "start_time": "2021-11-12T19:59:12.550Z"
   },
   {
    "duration": 5,
    "start_time": "2021-11-12T19:59:12.556Z"
   },
   {
    "duration": 29,
    "start_time": "2021-11-12T19:59:12.562Z"
   },
   {
    "duration": 4,
    "start_time": "2021-11-12T19:59:12.592Z"
   },
   {
    "duration": 5,
    "start_time": "2021-11-12T19:59:12.597Z"
   },
   {
    "duration": 4,
    "start_time": "2021-11-12T19:59:12.603Z"
   },
   {
    "duration": 10,
    "start_time": "2021-11-12T19:59:12.609Z"
   },
   {
    "duration": 13,
    "start_time": "2021-11-12T20:02:43.890Z"
   },
   {
    "duration": 10,
    "start_time": "2021-11-12T20:03:27.899Z"
   },
   {
    "duration": 287,
    "start_time": "2021-11-13T16:12:40.227Z"
   },
   {
    "duration": 514,
    "start_time": "2021-11-13T16:13:10.659Z"
   },
   {
    "duration": 56,
    "start_time": "2021-11-13T16:13:11.174Z"
   },
   {
    "duration": 18,
    "start_time": "2021-11-13T16:13:11.231Z"
   },
   {
    "duration": 22,
    "start_time": "2021-11-13T16:13:11.251Z"
   },
   {
    "duration": 26,
    "start_time": "2021-11-13T16:13:11.274Z"
   },
   {
    "duration": 6,
    "start_time": "2021-11-13T16:13:11.301Z"
   },
   {
    "duration": 17,
    "start_time": "2021-11-13T16:13:11.308Z"
   },
   {
    "duration": 10,
    "start_time": "2021-11-13T16:13:11.327Z"
   },
   {
    "duration": 12,
    "start_time": "2021-11-13T16:13:11.339Z"
   },
   {
    "duration": 10,
    "start_time": "2021-11-13T16:13:11.352Z"
   },
   {
    "duration": 15,
    "start_time": "2021-11-13T16:13:11.363Z"
   },
   {
    "duration": 8,
    "start_time": "2021-11-13T16:13:11.379Z"
   },
   {
    "duration": 28,
    "start_time": "2021-11-13T16:13:11.389Z"
   },
   {
    "duration": 261,
    "start_time": "2021-11-13T16:13:11.419Z"
   },
   {
    "duration": 485,
    "start_time": "2021-11-13T16:13:11.197Z"
   },
   {
    "duration": 3,
    "start_time": "2021-11-13T16:13:57.060Z"
   },
   {
    "duration": 54,
    "start_time": "2021-11-13T16:13:57.064Z"
   },
   {
    "duration": 12,
    "start_time": "2021-11-13T16:13:57.120Z"
   },
   {
    "duration": 11,
    "start_time": "2021-11-13T16:13:57.134Z"
   },
   {
    "duration": 8,
    "start_time": "2021-11-13T16:13:57.147Z"
   },
   {
    "duration": 5,
    "start_time": "2021-11-13T16:13:57.156Z"
   },
   {
    "duration": 39,
    "start_time": "2021-11-13T16:13:57.162Z"
   },
   {
    "duration": 5,
    "start_time": "2021-11-13T16:13:57.202Z"
   },
   {
    "duration": 5,
    "start_time": "2021-11-13T16:13:57.209Z"
   },
   {
    "duration": 3,
    "start_time": "2021-11-13T16:13:57.216Z"
   },
   {
    "duration": 4,
    "start_time": "2021-11-13T16:13:57.221Z"
   },
   {
    "duration": 6,
    "start_time": "2021-11-13T16:13:57.226Z"
   },
   {
    "duration": 10,
    "start_time": "2021-11-13T16:13:57.233Z"
   },
   {
    "duration": 188,
    "start_time": "2021-11-13T16:13:57.245Z"
   },
   {
    "duration": 485,
    "start_time": "2021-11-13T16:13:56.949Z"
   },
   {
    "duration": 5,
    "start_time": "2021-11-13T16:16:30.341Z"
   },
   {
    "duration": 2,
    "start_time": "2021-11-13T16:16:36.372Z"
   },
   {
    "duration": 53,
    "start_time": "2021-11-13T16:16:36.379Z"
   },
   {
    "duration": 11,
    "start_time": "2021-11-13T16:16:36.434Z"
   },
   {
    "duration": 13,
    "start_time": "2021-11-13T16:16:36.447Z"
   },
   {
    "duration": 9,
    "start_time": "2021-11-13T16:16:36.461Z"
   },
   {
    "duration": 29,
    "start_time": "2021-11-13T16:16:36.472Z"
   },
   {
    "duration": 7,
    "start_time": "2021-11-13T16:16:36.503Z"
   },
   {
    "duration": 15,
    "start_time": "2021-11-13T16:16:36.511Z"
   },
   {
    "duration": 10,
    "start_time": "2021-11-13T16:16:36.527Z"
   },
   {
    "duration": 15,
    "start_time": "2021-11-13T16:16:36.539Z"
   },
   {
    "duration": 9,
    "start_time": "2021-11-13T16:16:36.555Z"
   },
   {
    "duration": 12,
    "start_time": "2021-11-13T16:16:36.565Z"
   },
   {
    "duration": 31,
    "start_time": "2021-11-13T16:16:36.578Z"
   },
   {
    "duration": 4,
    "start_time": "2021-11-13T16:16:36.610Z"
   },
   {
    "duration": 25,
    "start_time": "2021-11-13T16:16:36.616Z"
   },
   {
    "duration": 15,
    "start_time": "2021-11-13T16:17:06.261Z"
   },
   {
    "duration": 193,
    "start_time": "2021-11-13T16:17:36.284Z"
   },
   {
    "duration": 188,
    "start_time": "2021-11-13T16:21:10.493Z"
   },
   {
    "duration": 15,
    "start_time": "2021-11-13T16:21:23.739Z"
   },
   {
    "duration": 186,
    "start_time": "2021-11-13T16:25:45.701Z"
   },
   {
    "duration": 11,
    "start_time": "2021-11-13T16:36:54.760Z"
   },
   {
    "duration": 16,
    "start_time": "2021-11-13T16:41:23.495Z"
   },
   {
    "duration": 5,
    "start_time": "2021-11-13T16:43:42.085Z"
   },
   {
    "duration": 4,
    "start_time": "2021-11-13T16:50:59.359Z"
   },
   {
    "duration": 576,
    "start_time": "2021-11-14T10:03:57.230Z"
   },
   {
    "duration": 751,
    "start_time": "2021-11-14T10:04:37.002Z"
   },
   {
    "duration": 65,
    "start_time": "2021-11-14T10:04:37.755Z"
   },
   {
    "duration": 30,
    "start_time": "2021-11-14T10:04:37.823Z"
   },
   {
    "duration": 31,
    "start_time": "2021-11-14T10:04:37.856Z"
   },
   {
    "duration": 14,
    "start_time": "2021-11-14T10:04:37.890Z"
   },
   {
    "duration": 17,
    "start_time": "2021-11-14T10:04:37.906Z"
   },
   {
    "duration": 10,
    "start_time": "2021-11-14T10:04:37.925Z"
   },
   {
    "duration": 46,
    "start_time": "2021-11-14T10:04:37.937Z"
   },
   {
    "duration": 7,
    "start_time": "2021-11-14T10:04:37.988Z"
   },
   {
    "duration": 5,
    "start_time": "2021-11-14T10:04:37.998Z"
   },
   {
    "duration": 10,
    "start_time": "2021-11-14T10:04:38.006Z"
   },
   {
    "duration": 6,
    "start_time": "2021-11-14T10:04:38.019Z"
   },
   {
    "duration": 5,
    "start_time": "2021-11-14T10:04:38.027Z"
   },
   {
    "duration": 55,
    "start_time": "2021-11-14T10:04:38.034Z"
   },
   {
    "duration": 14,
    "start_time": "2021-11-14T10:04:38.091Z"
   },
   {
    "duration": 21,
    "start_time": "2021-11-14T10:04:38.107Z"
   },
   {
    "duration": 7,
    "start_time": "2021-11-14T10:04:38.131Z"
   },
   {
    "duration": 3,
    "start_time": "2021-11-14T10:44:57.651Z"
   },
   {
    "duration": 63,
    "start_time": "2021-11-14T10:44:57.657Z"
   },
   {
    "duration": 20,
    "start_time": "2021-11-14T10:44:57.723Z"
   },
   {
    "duration": 39,
    "start_time": "2021-11-14T10:44:57.747Z"
   },
   {
    "duration": 15,
    "start_time": "2021-11-14T10:44:57.789Z"
   },
   {
    "duration": 7,
    "start_time": "2021-11-14T10:44:57.806Z"
   },
   {
    "duration": 13,
    "start_time": "2021-11-14T10:44:57.818Z"
   },
   {
    "duration": 8,
    "start_time": "2021-11-14T10:44:57.835Z"
   },
   {
    "duration": 48,
    "start_time": "2021-11-14T10:44:57.846Z"
   },
   {
    "duration": 7,
    "start_time": "2021-11-14T10:44:57.897Z"
   },
   {
    "duration": 10,
    "start_time": "2021-11-14T10:44:57.907Z"
   },
   {
    "duration": 12,
    "start_time": "2021-11-14T10:44:57.920Z"
   },
   {
    "duration": 57,
    "start_time": "2021-11-14T10:44:57.935Z"
   },
   {
    "duration": 14,
    "start_time": "2021-11-14T10:44:57.995Z"
   },
   {
    "duration": 11,
    "start_time": "2021-11-14T10:44:58.012Z"
   },
   {
    "duration": 56,
    "start_time": "2021-11-14T10:44:58.026Z"
   },
   {
    "duration": 14,
    "start_time": "2021-11-14T10:44:58.085Z"
   },
   {
    "duration": 12,
    "start_time": "2021-11-14T10:54:31.922Z"
   },
   {
    "duration": 13,
    "start_time": "2021-11-14T10:54:40.197Z"
   },
   {
    "duration": 13,
    "start_time": "2021-11-14T10:55:26.933Z"
   },
   {
    "duration": 3,
    "start_time": "2021-11-14T10:55:54.721Z"
   },
   {
    "duration": 64,
    "start_time": "2021-11-14T10:55:54.727Z"
   },
   {
    "duration": 19,
    "start_time": "2021-11-14T10:55:54.793Z"
   },
   {
    "duration": 25,
    "start_time": "2021-11-14T10:55:54.814Z"
   },
   {
    "duration": 12,
    "start_time": "2021-11-14T10:55:54.842Z"
   },
   {
    "duration": 28,
    "start_time": "2021-11-14T10:55:54.857Z"
   },
   {
    "duration": 5,
    "start_time": "2021-11-14T10:55:54.890Z"
   },
   {
    "duration": 5,
    "start_time": "2021-11-14T10:55:54.898Z"
   },
   {
    "duration": 15,
    "start_time": "2021-11-14T10:55:54.906Z"
   },
   {
    "duration": 8,
    "start_time": "2021-11-14T10:55:54.923Z"
   },
   {
    "duration": 57,
    "start_time": "2021-11-14T10:55:54.933Z"
   },
   {
    "duration": 20,
    "start_time": "2021-11-14T10:55:54.993Z"
   },
   {
    "duration": 13,
    "start_time": "2021-11-14T10:55:55.015Z"
   },
   {
    "duration": 18,
    "start_time": "2021-11-14T10:55:55.030Z"
   },
   {
    "duration": 34,
    "start_time": "2021-11-14T10:55:55.050Z"
   },
   {
    "duration": 15,
    "start_time": "2021-11-14T10:55:55.086Z"
   },
   {
    "duration": 23,
    "start_time": "2021-11-14T10:55:55.104Z"
   },
   {
    "duration": 11,
    "start_time": "2021-11-14T10:56:36.997Z"
   },
   {
    "duration": 3,
    "start_time": "2021-11-14T10:56:43.073Z"
   },
   {
    "duration": 60,
    "start_time": "2021-11-14T10:56:43.082Z"
   },
   {
    "duration": 18,
    "start_time": "2021-11-14T10:56:43.145Z"
   },
   {
    "duration": 28,
    "start_time": "2021-11-14T10:56:43.165Z"
   },
   {
    "duration": 13,
    "start_time": "2021-11-14T10:56:43.196Z"
   },
   {
    "duration": 6,
    "start_time": "2021-11-14T10:56:43.211Z"
   },
   {
    "duration": 6,
    "start_time": "2021-11-14T10:56:43.219Z"
   },
   {
    "duration": 7,
    "start_time": "2021-11-14T10:56:43.227Z"
   },
   {
    "duration": 52,
    "start_time": "2021-11-14T10:56:43.236Z"
   },
   {
    "duration": 6,
    "start_time": "2021-11-14T10:56:43.292Z"
   },
   {
    "duration": 10,
    "start_time": "2021-11-14T10:56:43.300Z"
   },
   {
    "duration": 15,
    "start_time": "2021-11-14T10:56:43.312Z"
   },
   {
    "duration": 17,
    "start_time": "2021-11-14T10:56:43.329Z"
   },
   {
    "duration": 34,
    "start_time": "2021-11-14T10:56:43.349Z"
   },
   {
    "duration": 8,
    "start_time": "2021-11-14T10:56:43.385Z"
   },
   {
    "duration": 16,
    "start_time": "2021-11-14T10:56:43.395Z"
   },
   {
    "duration": 8,
    "start_time": "2021-11-14T10:56:43.413Z"
   },
   {
    "duration": 17,
    "start_time": "2021-11-14T10:56:43.423Z"
   },
   {
    "duration": 9,
    "start_time": "2021-11-14T10:57:27.360Z"
   },
   {
    "duration": 8,
    "start_time": "2021-11-14T10:57:27.831Z"
   },
   {
    "duration": 6,
    "start_time": "2021-11-14T10:57:37.344Z"
   },
   {
    "duration": 3,
    "start_time": "2021-11-14T10:57:51.660Z"
   },
   {
    "duration": 64,
    "start_time": "2021-11-14T10:57:51.665Z"
   },
   {
    "duration": 18,
    "start_time": "2021-11-14T10:57:51.731Z"
   },
   {
    "duration": 36,
    "start_time": "2021-11-14T10:57:51.753Z"
   },
   {
    "duration": 19,
    "start_time": "2021-11-14T10:57:51.791Z"
   },
   {
    "duration": 7,
    "start_time": "2021-11-14T10:57:51.812Z"
   },
   {
    "duration": 7,
    "start_time": "2021-11-14T10:57:51.823Z"
   },
   {
    "duration": 5,
    "start_time": "2021-11-14T10:57:51.834Z"
   },
   {
    "duration": 14,
    "start_time": "2021-11-14T10:57:51.882Z"
   },
   {
    "duration": 11,
    "start_time": "2021-11-14T10:57:51.898Z"
   },
   {
    "duration": 13,
    "start_time": "2021-11-14T10:57:51.912Z"
   },
   {
    "duration": 12,
    "start_time": "2021-11-14T10:57:51.928Z"
   },
   {
    "duration": 46,
    "start_time": "2021-11-14T10:57:51.942Z"
   },
   {
    "duration": 17,
    "start_time": "2021-11-14T10:57:51.991Z"
   },
   {
    "duration": 10,
    "start_time": "2021-11-14T10:57:52.011Z"
   },
   {
    "duration": 22,
    "start_time": "2021-11-14T10:57:52.024Z"
   },
   {
    "duration": 5,
    "start_time": "2021-11-14T10:57:52.081Z"
   },
   {
    "duration": 241,
    "start_time": "2021-11-14T10:57:52.088Z"
   },
   {
    "duration": 56,
    "start_time": "2021-11-14T10:57:52.276Z"
   },
   {
    "duration": 5,
    "start_time": "2021-11-14T10:58:21.132Z"
   },
   {
    "duration": 3,
    "start_time": "2021-11-14T10:58:25.722Z"
   },
   {
    "duration": 62,
    "start_time": "2021-11-14T10:58:25.728Z"
   },
   {
    "duration": 19,
    "start_time": "2021-11-14T10:58:25.793Z"
   },
   {
    "duration": 18,
    "start_time": "2021-11-14T10:58:25.814Z"
   },
   {
    "duration": 12,
    "start_time": "2021-11-14T10:58:25.834Z"
   },
   {
    "duration": 34,
    "start_time": "2021-11-14T10:58:25.848Z"
   },
   {
    "duration": 5,
    "start_time": "2021-11-14T10:58:25.885Z"
   },
   {
    "duration": 5,
    "start_time": "2021-11-14T10:58:25.894Z"
   },
   {
    "duration": 15,
    "start_time": "2021-11-14T10:58:25.902Z"
   },
   {
    "duration": 5,
    "start_time": "2021-11-14T10:58:25.919Z"
   },
   {
    "duration": 18,
    "start_time": "2021-11-14T10:58:25.927Z"
   },
   {
    "duration": 10,
    "start_time": "2021-11-14T10:58:25.982Z"
   },
   {
    "duration": 14,
    "start_time": "2021-11-14T10:58:25.994Z"
   },
   {
    "duration": 16,
    "start_time": "2021-11-14T10:58:26.011Z"
   },
   {
    "duration": 9,
    "start_time": "2021-11-14T10:58:26.030Z"
   },
   {
    "duration": 46,
    "start_time": "2021-11-14T10:58:26.041Z"
   },
   {
    "duration": 9,
    "start_time": "2021-11-14T10:58:26.089Z"
   },
   {
    "duration": 5,
    "start_time": "2021-11-14T10:58:26.100Z"
   },
   {
    "duration": 6,
    "start_time": "2021-11-14T10:58:26.108Z"
   },
   {
    "duration": 3,
    "start_time": "2021-11-14T11:00:36.956Z"
   },
   {
    "duration": 66,
    "start_time": "2021-11-14T11:00:36.966Z"
   },
   {
    "duration": 19,
    "start_time": "2021-11-14T11:00:37.035Z"
   },
   {
    "duration": 34,
    "start_time": "2021-11-14T11:00:37.057Z"
   },
   {
    "duration": 12,
    "start_time": "2021-11-14T11:00:37.094Z"
   },
   {
    "duration": 9,
    "start_time": "2021-11-14T11:00:37.109Z"
   },
   {
    "duration": 9,
    "start_time": "2021-11-14T11:00:37.120Z"
   },
   {
    "duration": 14,
    "start_time": "2021-11-14T11:00:37.132Z"
   },
   {
    "duration": 38,
    "start_time": "2021-11-14T11:00:37.148Z"
   },
   {
    "duration": 8,
    "start_time": "2021-11-14T11:00:37.190Z"
   },
   {
    "duration": 18,
    "start_time": "2021-11-14T11:00:37.200Z"
   },
   {
    "duration": 20,
    "start_time": "2021-11-14T11:00:37.220Z"
   },
   {
    "duration": 33,
    "start_time": "2021-11-14T11:00:37.243Z"
   },
   {
    "duration": 24,
    "start_time": "2021-11-14T11:00:37.279Z"
   },
   {
    "duration": 14,
    "start_time": "2021-11-14T11:00:37.305Z"
   },
   {
    "duration": 16,
    "start_time": "2021-11-14T11:00:37.322Z"
   },
   {
    "duration": 8,
    "start_time": "2021-11-14T11:00:37.341Z"
   },
   {
    "duration": 11,
    "start_time": "2021-11-14T11:00:37.352Z"
   },
   {
    "duration": 17,
    "start_time": "2021-11-14T11:02:36.765Z"
   },
   {
    "duration": 351,
    "start_time": "2021-11-14T13:20:58.966Z"
   },
   {
    "duration": 341,
    "start_time": "2021-11-14T13:21:28.272Z"
   },
   {
    "duration": 936,
    "start_time": "2021-11-14T13:21:46.521Z"
   },
   {
    "duration": 928,
    "start_time": "2021-11-14T13:21:54.887Z"
   },
   {
    "duration": 942,
    "start_time": "2021-11-14T13:22:10.024Z"
   },
   {
    "duration": 19,
    "start_time": "2021-11-14T13:24:42.075Z"
   },
   {
    "duration": 8,
    "start_time": "2021-11-14T13:24:43.456Z"
   },
   {
    "duration": 38,
    "start_time": "2021-11-14T13:24:48.543Z"
   },
   {
    "duration": 809,
    "start_time": "2021-11-14T20:23:54.344Z"
   },
   {
    "duration": 55,
    "start_time": "2021-11-14T20:23:55.156Z"
   },
   {
    "duration": 20,
    "start_time": "2021-11-14T20:23:55.213Z"
   },
   {
    "duration": 13,
    "start_time": "2021-11-14T20:23:55.235Z"
   },
   {
    "duration": 22,
    "start_time": "2021-11-14T20:23:55.250Z"
   },
   {
    "duration": 5,
    "start_time": "2021-11-14T20:23:55.273Z"
   },
   {
    "duration": 7,
    "start_time": "2021-11-14T20:23:55.279Z"
   },
   {
    "duration": 3,
    "start_time": "2021-11-14T20:23:55.289Z"
   },
   {
    "duration": 13,
    "start_time": "2021-11-14T20:23:55.294Z"
   },
   {
    "duration": 6,
    "start_time": "2021-11-14T20:23:55.309Z"
   },
   {
    "duration": 8,
    "start_time": "2021-11-14T20:23:55.317Z"
   },
   {
    "duration": 39,
    "start_time": "2021-11-14T20:23:55.327Z"
   },
   {
    "duration": 11,
    "start_time": "2021-11-14T20:23:55.368Z"
   },
   {
    "duration": 14,
    "start_time": "2021-11-14T20:23:55.381Z"
   },
   {
    "duration": 12,
    "start_time": "2021-11-14T20:23:55.397Z"
   },
   {
    "duration": 16,
    "start_time": "2021-11-14T20:23:55.411Z"
   },
   {
    "duration": 10,
    "start_time": "2021-11-14T20:23:55.429Z"
   },
   {
    "duration": 696,
    "start_time": "2021-11-14T20:23:55.441Z"
   },
   {
    "duration": 40,
    "start_time": "2021-11-14T20:23:56.139Z"
   },
   {
    "duration": 92,
    "start_time": "2021-11-14T20:23:56.181Z"
   },
   {
    "duration": 3,
    "start_time": "2021-11-14T20:25:32.440Z"
   },
   {
    "duration": 57,
    "start_time": "2021-11-14T20:25:32.445Z"
   },
   {
    "duration": 13,
    "start_time": "2021-11-14T20:25:32.505Z"
   },
   {
    "duration": 21,
    "start_time": "2021-11-14T20:25:32.520Z"
   },
   {
    "duration": 22,
    "start_time": "2021-11-14T20:25:32.543Z"
   },
   {
    "duration": 5,
    "start_time": "2021-11-14T20:25:32.567Z"
   },
   {
    "duration": 17,
    "start_time": "2021-11-14T20:25:32.574Z"
   },
   {
    "duration": 4,
    "start_time": "2021-11-14T20:25:32.593Z"
   },
   {
    "duration": 18,
    "start_time": "2021-11-14T20:25:32.598Z"
   },
   {
    "duration": 14,
    "start_time": "2021-11-14T20:25:32.618Z"
   },
   {
    "duration": 14,
    "start_time": "2021-11-14T20:25:32.633Z"
   },
   {
    "duration": 20,
    "start_time": "2021-11-14T20:25:32.648Z"
   },
   {
    "duration": 10,
    "start_time": "2021-11-14T20:25:32.670Z"
   },
   {
    "duration": 12,
    "start_time": "2021-11-14T20:25:32.682Z"
   },
   {
    "duration": 9,
    "start_time": "2021-11-14T20:25:32.695Z"
   },
   {
    "duration": 16,
    "start_time": "2021-11-14T20:25:32.706Z"
   },
   {
    "duration": 13,
    "start_time": "2021-11-14T20:25:32.724Z"
   },
   {
    "duration": 36,
    "start_time": "2021-11-14T20:25:32.739Z"
   },
   {
    "duration": 2,
    "start_time": "2021-11-14T20:29:08.487Z"
   },
   {
    "duration": 56,
    "start_time": "2021-11-14T20:29:08.492Z"
   },
   {
    "duration": 12,
    "start_time": "2021-11-14T20:29:08.550Z"
   },
   {
    "duration": 11,
    "start_time": "2021-11-14T20:29:08.564Z"
   },
   {
    "duration": 9,
    "start_time": "2021-11-14T20:29:08.577Z"
   },
   {
    "duration": 7,
    "start_time": "2021-11-14T20:29:08.588Z"
   },
   {
    "duration": 4,
    "start_time": "2021-11-14T20:29:08.598Z"
   },
   {
    "duration": 3,
    "start_time": "2021-11-14T20:29:08.605Z"
   },
   {
    "duration": 18,
    "start_time": "2021-11-14T20:29:08.609Z"
   },
   {
    "duration": 34,
    "start_time": "2021-11-14T20:29:08.629Z"
   },
   {
    "duration": 8,
    "start_time": "2021-11-14T20:29:08.665Z"
   },
   {
    "duration": 11,
    "start_time": "2021-11-14T20:29:08.675Z"
   },
   {
    "duration": 11,
    "start_time": "2021-11-14T20:29:08.688Z"
   },
   {
    "duration": 17,
    "start_time": "2021-11-14T20:29:08.701Z"
   },
   {
    "duration": 12,
    "start_time": "2021-11-14T20:29:08.720Z"
   },
   {
    "duration": 32,
    "start_time": "2021-11-14T20:29:08.734Z"
   },
   {
    "duration": 7,
    "start_time": "2021-11-14T20:29:08.768Z"
   },
   {
    "duration": 10,
    "start_time": "2021-11-14T20:29:08.777Z"
   },
   {
    "duration": 7,
    "start_time": "2021-11-14T20:29:08.790Z"
   },
   {
    "duration": 106,
    "start_time": "2021-11-14T20:29:08.798Z"
   },
   {
    "duration": 2,
    "start_time": "2021-11-14T20:32:06.975Z"
   },
   {
    "duration": 55,
    "start_time": "2021-11-14T20:32:06.979Z"
   },
   {
    "duration": 12,
    "start_time": "2021-11-14T20:32:07.036Z"
   },
   {
    "duration": 14,
    "start_time": "2021-11-14T20:32:07.049Z"
   },
   {
    "duration": 9,
    "start_time": "2021-11-14T20:32:07.065Z"
   },
   {
    "duration": 4,
    "start_time": "2021-11-14T20:32:07.076Z"
   },
   {
    "duration": 4,
    "start_time": "2021-11-14T20:32:07.082Z"
   },
   {
    "duration": 6,
    "start_time": "2021-11-14T20:32:07.088Z"
   },
   {
    "duration": 14,
    "start_time": "2021-11-14T20:32:07.095Z"
   },
   {
    "duration": 10,
    "start_time": "2021-11-14T20:32:07.111Z"
   },
   {
    "duration": 11,
    "start_time": "2021-11-14T20:32:07.123Z"
   },
   {
    "duration": 34,
    "start_time": "2021-11-14T20:32:07.136Z"
   },
   {
    "duration": 13,
    "start_time": "2021-11-14T20:32:07.172Z"
   },
   {
    "duration": 11,
    "start_time": "2021-11-14T20:32:07.187Z"
   },
   {
    "duration": 10,
    "start_time": "2021-11-14T20:32:07.200Z"
   },
   {
    "duration": 15,
    "start_time": "2021-11-14T20:32:07.211Z"
   },
   {
    "duration": 15,
    "start_time": "2021-11-14T20:32:07.228Z"
   },
   {
    "duration": 19,
    "start_time": "2021-11-14T20:32:07.245Z"
   },
   {
    "duration": 3,
    "start_time": "2021-11-14T20:32:07.266Z"
   },
   {
    "duration": 10,
    "start_time": "2021-11-14T20:32:07.270Z"
   },
   {
    "duration": 3549,
    "start_time": "2021-11-14T20:33:30.905Z"
   },
   {
    "duration": 3,
    "start_time": "2021-11-14T20:33:36.474Z"
   },
   {
    "duration": 59,
    "start_time": "2021-11-14T20:33:36.479Z"
   },
   {
    "duration": 14,
    "start_time": "2021-11-14T20:33:36.540Z"
   },
   {
    "duration": 12,
    "start_time": "2021-11-14T20:33:36.556Z"
   },
   {
    "duration": 18,
    "start_time": "2021-11-14T20:33:36.570Z"
   },
   {
    "duration": 5,
    "start_time": "2021-11-14T20:33:36.590Z"
   },
   {
    "duration": 6,
    "start_time": "2021-11-14T20:33:36.597Z"
   },
   {
    "duration": 3,
    "start_time": "2021-11-14T20:33:36.605Z"
   },
   {
    "duration": 13,
    "start_time": "2021-11-14T20:33:36.610Z"
   },
   {
    "duration": 12,
    "start_time": "2021-11-14T20:33:36.625Z"
   },
   {
    "duration": 25,
    "start_time": "2021-11-14T20:33:36.639Z"
   },
   {
    "duration": 10,
    "start_time": "2021-11-14T20:33:36.666Z"
   },
   {
    "duration": 10,
    "start_time": "2021-11-14T20:33:36.678Z"
   },
   {
    "duration": 14,
    "start_time": "2021-11-14T20:33:36.690Z"
   },
   {
    "duration": 9,
    "start_time": "2021-11-14T20:33:36.706Z"
   },
   {
    "duration": 15,
    "start_time": "2021-11-14T20:33:36.717Z"
   },
   {
    "duration": 12,
    "start_time": "2021-11-14T20:33:36.734Z"
   },
   {
    "duration": 31,
    "start_time": "2021-11-14T20:33:36.748Z"
   },
   {
    "duration": 3,
    "start_time": "2021-11-14T20:33:36.782Z"
   },
   {
    "duration": 3814,
    "start_time": "2021-11-14T20:33:36.787Z"
   },
   {
    "duration": 4,
    "start_time": "2021-11-14T20:35:45.642Z"
   },
   {
    "duration": 68,
    "start_time": "2021-11-14T20:35:45.648Z"
   },
   {
    "duration": 13,
    "start_time": "2021-11-14T20:35:45.718Z"
   },
   {
    "duration": 17,
    "start_time": "2021-11-14T20:35:45.733Z"
   },
   {
    "duration": 15,
    "start_time": "2021-11-14T20:35:45.752Z"
   },
   {
    "duration": 13,
    "start_time": "2021-11-14T20:35:45.769Z"
   },
   {
    "duration": 18,
    "start_time": "2021-11-14T20:35:45.785Z"
   },
   {
    "duration": 8,
    "start_time": "2021-11-14T20:35:45.806Z"
   },
   {
    "duration": 13,
    "start_time": "2021-11-14T20:35:45.816Z"
   },
   {
    "duration": 8,
    "start_time": "2021-11-14T20:35:45.830Z"
   },
   {
    "duration": 11,
    "start_time": "2021-11-14T20:35:45.839Z"
   },
   {
    "duration": 15,
    "start_time": "2021-11-14T20:35:45.852Z"
   },
   {
    "duration": 15,
    "start_time": "2021-11-14T20:35:45.869Z"
   },
   {
    "duration": 14,
    "start_time": "2021-11-14T20:35:45.886Z"
   },
   {
    "duration": 10,
    "start_time": "2021-11-14T20:35:45.902Z"
   },
   {
    "duration": 13,
    "start_time": "2021-11-14T20:35:45.915Z"
   },
   {
    "duration": 13,
    "start_time": "2021-11-14T20:35:45.930Z"
   },
   {
    "duration": 35,
    "start_time": "2021-11-14T20:35:45.945Z"
   },
   {
    "duration": 2,
    "start_time": "2021-11-14T20:35:45.983Z"
   },
   {
    "duration": 3861,
    "start_time": "2021-11-14T20:35:45.987Z"
   },
   {
    "duration": 51,
    "start_time": "2021-11-14T20:50:30.010Z"
   },
   {
    "duration": 15,
    "start_time": "2021-11-14T20:50:55.969Z"
   },
   {
    "duration": 18,
    "start_time": "2021-11-14T20:51:41.113Z"
   },
   {
    "duration": 12,
    "start_time": "2021-11-14T20:52:57.319Z"
   },
   {
    "duration": 3,
    "start_time": "2021-11-14T20:53:15.669Z"
   },
   {
    "duration": 57,
    "start_time": "2021-11-14T20:53:15.674Z"
   },
   {
    "duration": 19,
    "start_time": "2021-11-14T20:53:15.733Z"
   },
   {
    "duration": 12,
    "start_time": "2021-11-14T20:53:15.762Z"
   },
   {
    "duration": 10,
    "start_time": "2021-11-14T20:53:15.776Z"
   },
   {
    "duration": 5,
    "start_time": "2021-11-14T20:53:15.788Z"
   },
   {
    "duration": 6,
    "start_time": "2021-11-14T20:53:15.795Z"
   },
   {
    "duration": 4,
    "start_time": "2021-11-14T20:53:15.803Z"
   },
   {
    "duration": 12,
    "start_time": "2021-11-14T20:53:15.809Z"
   },
   {
    "duration": 41,
    "start_time": "2021-11-14T20:53:15.822Z"
   },
   {
    "duration": 8,
    "start_time": "2021-11-14T20:53:15.865Z"
   },
   {
    "duration": 11,
    "start_time": "2021-11-14T20:53:15.875Z"
   },
   {
    "duration": 15,
    "start_time": "2021-11-14T20:53:15.888Z"
   },
   {
    "duration": 11,
    "start_time": "2021-11-14T20:53:15.905Z"
   },
   {
    "duration": 12,
    "start_time": "2021-11-14T20:53:15.918Z"
   },
   {
    "duration": 32,
    "start_time": "2021-11-14T20:53:15.932Z"
   },
   {
    "duration": 6,
    "start_time": "2021-11-14T20:53:15.966Z"
   },
   {
    "duration": 29,
    "start_time": "2021-11-14T20:53:15.974Z"
   },
   {
    "duration": 2,
    "start_time": "2021-11-14T20:53:16.006Z"
   },
   {
    "duration": 3626,
    "start_time": "2021-11-14T20:53:16.010Z"
   },
   {
    "duration": 11,
    "start_time": "2021-11-14T20:53:19.638Z"
   },
   {
    "duration": 14,
    "start_time": "2021-11-14T20:53:19.650Z"
   },
   {
    "duration": 2,
    "start_time": "2021-11-14T20:53:41.615Z"
   },
   {
    "duration": 58,
    "start_time": "2021-11-14T20:53:41.619Z"
   },
   {
    "duration": 12,
    "start_time": "2021-11-14T20:53:41.680Z"
   },
   {
    "duration": 11,
    "start_time": "2021-11-14T20:53:41.694Z"
   },
   {
    "duration": 9,
    "start_time": "2021-11-14T20:53:41.707Z"
   },
   {
    "duration": 4,
    "start_time": "2021-11-14T20:53:41.718Z"
   },
   {
    "duration": 5,
    "start_time": "2021-11-14T20:53:41.724Z"
   },
   {
    "duration": 33,
    "start_time": "2021-11-14T20:53:41.731Z"
   },
   {
    "duration": 13,
    "start_time": "2021-11-14T20:53:41.766Z"
   },
   {
    "duration": 8,
    "start_time": "2021-11-14T20:53:41.781Z"
   },
   {
    "duration": 13,
    "start_time": "2021-11-14T20:53:41.790Z"
   },
   {
    "duration": 11,
    "start_time": "2021-11-14T20:53:41.804Z"
   },
   {
    "duration": 15,
    "start_time": "2021-11-14T20:53:41.817Z"
   },
   {
    "duration": 12,
    "start_time": "2021-11-14T20:53:41.833Z"
   },
   {
    "duration": 19,
    "start_time": "2021-11-14T20:53:41.847Z"
   },
   {
    "duration": 11,
    "start_time": "2021-11-14T20:53:41.868Z"
   },
   {
    "duration": 8,
    "start_time": "2021-11-14T20:53:41.881Z"
   },
   {
    "duration": 26,
    "start_time": "2021-11-14T20:53:41.891Z"
   },
   {
    "duration": 3,
    "start_time": "2021-11-14T20:53:41.919Z"
   },
   {
    "duration": 3699,
    "start_time": "2021-11-14T20:53:41.923Z"
   },
   {
    "duration": 11,
    "start_time": "2021-11-14T20:53:45.624Z"
   },
   {
    "duration": 6,
    "start_time": "2021-11-14T20:53:45.636Z"
   },
   {
    "duration": 3,
    "start_time": "2021-11-14T20:54:55.287Z"
   },
   {
    "duration": 3,
    "start_time": "2021-11-14T20:54:59.000Z"
   },
   {
    "duration": 55,
    "start_time": "2021-11-14T20:54:59.005Z"
   },
   {
    "duration": 13,
    "start_time": "2021-11-14T20:54:59.062Z"
   },
   {
    "duration": 12,
    "start_time": "2021-11-14T20:54:59.077Z"
   },
   {
    "duration": 9,
    "start_time": "2021-11-14T20:54:59.091Z"
   },
   {
    "duration": 4,
    "start_time": "2021-11-14T20:54:59.101Z"
   },
   {
    "duration": 5,
    "start_time": "2021-11-14T20:54:59.108Z"
   },
   {
    "duration": 3,
    "start_time": "2021-11-14T20:54:59.115Z"
   },
   {
    "duration": 45,
    "start_time": "2021-11-14T20:54:59.120Z"
   },
   {
    "duration": 5,
    "start_time": "2021-11-14T20:54:59.167Z"
   },
   {
    "duration": 13,
    "start_time": "2021-11-14T20:54:59.174Z"
   },
   {
    "duration": 10,
    "start_time": "2021-11-14T20:54:59.189Z"
   },
   {
    "duration": 12,
    "start_time": "2021-11-14T20:54:59.201Z"
   },
   {
    "duration": 11,
    "start_time": "2021-11-14T20:54:59.215Z"
   },
   {
    "duration": 9,
    "start_time": "2021-11-14T20:54:59.228Z"
   },
   {
    "duration": 34,
    "start_time": "2021-11-14T20:54:59.238Z"
   },
   {
    "duration": 10,
    "start_time": "2021-11-14T20:54:59.274Z"
   },
   {
    "duration": 26,
    "start_time": "2021-11-14T20:54:59.285Z"
   },
   {
    "duration": 3,
    "start_time": "2021-11-14T20:54:59.314Z"
   },
   {
    "duration": 3615,
    "start_time": "2021-11-14T20:54:59.319Z"
   },
   {
    "duration": 8,
    "start_time": "2021-11-14T20:55:02.936Z"
   },
   {
    "duration": 7,
    "start_time": "2021-11-14T20:55:02.946Z"
   },
   {
    "duration": 330,
    "start_time": "2021-11-14T20:55:25.583Z"
   },
   {
    "duration": 7935,
    "start_time": "2021-11-14T20:55:36.166Z"
   },
   {
    "duration": 7869,
    "start_time": "2021-11-14T20:55:48.398Z"
   },
   {
    "duration": 3,
    "start_time": "2021-11-14T20:55:57.151Z"
   },
   {
    "duration": 57,
    "start_time": "2021-11-14T20:55:57.155Z"
   },
   {
    "duration": 13,
    "start_time": "2021-11-14T20:55:57.213Z"
   },
   {
    "duration": 13,
    "start_time": "2021-11-14T20:55:57.228Z"
   },
   {
    "duration": 26,
    "start_time": "2021-11-14T20:55:57.242Z"
   },
   {
    "duration": 5,
    "start_time": "2021-11-14T20:55:57.270Z"
   },
   {
    "duration": 4,
    "start_time": "2021-11-14T20:55:57.278Z"
   },
   {
    "duration": 5,
    "start_time": "2021-11-14T20:55:57.284Z"
   },
   {
    "duration": 12,
    "start_time": "2021-11-14T20:55:57.290Z"
   },
   {
    "duration": 11,
    "start_time": "2021-11-14T20:55:57.303Z"
   },
   {
    "duration": 13,
    "start_time": "2021-11-14T20:55:57.316Z"
   },
   {
    "duration": 11,
    "start_time": "2021-11-14T20:55:57.331Z"
   },
   {
    "duration": 8,
    "start_time": "2021-11-14T20:55:57.364Z"
   },
   {
    "duration": 10,
    "start_time": "2021-11-14T20:55:57.374Z"
   },
   {
    "duration": 14,
    "start_time": "2021-11-14T20:55:57.385Z"
   },
   {
    "duration": 14,
    "start_time": "2021-11-14T20:55:57.401Z"
   },
   {
    "duration": 14,
    "start_time": "2021-11-14T20:55:57.417Z"
   },
   {
    "duration": 37,
    "start_time": "2021-11-14T20:55:57.432Z"
   },
   {
    "duration": 2,
    "start_time": "2021-11-14T20:55:57.472Z"
   },
   {
    "duration": 3604,
    "start_time": "2021-11-14T20:55:57.476Z"
   },
   {
    "duration": 8,
    "start_time": "2021-11-14T20:56:01.082Z"
   },
   {
    "duration": 8156,
    "start_time": "2021-11-14T20:56:01.091Z"
   },
   {
    "duration": 2,
    "start_time": "2021-11-14T20:57:48.833Z"
   },
   {
    "duration": 54,
    "start_time": "2021-11-14T20:57:48.838Z"
   },
   {
    "duration": 12,
    "start_time": "2021-11-14T20:57:48.894Z"
   },
   {
    "duration": 13,
    "start_time": "2021-11-14T20:57:48.908Z"
   },
   {
    "duration": 78,
    "start_time": "2021-11-14T20:57:48.923Z"
   },
   {
    "duration": 5,
    "start_time": "2021-11-14T20:57:49.003Z"
   },
   {
    "duration": 8,
    "start_time": "2021-11-14T20:57:49.010Z"
   },
   {
    "duration": 4,
    "start_time": "2021-11-14T20:57:49.019Z"
   },
   {
    "duration": 11,
    "start_time": "2021-11-14T20:57:49.026Z"
   },
   {
    "duration": 24,
    "start_time": "2021-11-14T20:57:49.039Z"
   },
   {
    "duration": 7,
    "start_time": "2021-11-14T20:57:49.066Z"
   },
   {
    "duration": 11,
    "start_time": "2021-11-14T20:57:49.075Z"
   },
   {
    "duration": 12,
    "start_time": "2021-11-14T20:57:49.088Z"
   },
   {
    "duration": 14,
    "start_time": "2021-11-14T20:57:49.102Z"
   },
   {
    "duration": 9,
    "start_time": "2021-11-14T20:57:49.117Z"
   },
   {
    "duration": 15,
    "start_time": "2021-11-14T20:57:49.128Z"
   },
   {
    "duration": 21,
    "start_time": "2021-11-14T20:57:49.145Z"
   },
   {
    "duration": 23,
    "start_time": "2021-11-14T20:57:49.167Z"
   },
   {
    "duration": 2,
    "start_time": "2021-11-14T20:57:49.192Z"
   },
   {
    "duration": 3617,
    "start_time": "2021-11-14T20:57:49.196Z"
   },
   {
    "duration": 8,
    "start_time": "2021-11-14T20:57:52.815Z"
   },
   {
    "duration": 21,
    "start_time": "2021-11-14T20:57:52.825Z"
   },
   {
    "duration": 3,
    "start_time": "2021-11-14T20:58:21.751Z"
   },
   {
    "duration": 54,
    "start_time": "2021-11-14T20:58:21.756Z"
   },
   {
    "duration": 13,
    "start_time": "2021-11-14T20:58:21.812Z"
   },
   {
    "duration": 17,
    "start_time": "2021-11-14T20:58:21.827Z"
   },
   {
    "duration": 20,
    "start_time": "2021-11-14T20:58:21.846Z"
   },
   {
    "duration": 4,
    "start_time": "2021-11-14T20:58:21.868Z"
   },
   {
    "duration": 4,
    "start_time": "2021-11-14T20:58:21.875Z"
   },
   {
    "duration": 3,
    "start_time": "2021-11-14T20:58:21.881Z"
   },
   {
    "duration": 13,
    "start_time": "2021-11-14T20:58:21.885Z"
   },
   {
    "duration": 10,
    "start_time": "2021-11-14T20:58:21.900Z"
   },
   {
    "duration": 13,
    "start_time": "2021-11-14T20:58:21.912Z"
   },
   {
    "duration": 11,
    "start_time": "2021-11-14T20:58:21.927Z"
   },
   {
    "duration": 27,
    "start_time": "2021-11-14T20:58:21.939Z"
   },
   {
    "duration": 8,
    "start_time": "2021-11-14T20:58:21.968Z"
   },
   {
    "duration": 8,
    "start_time": "2021-11-14T20:58:21.978Z"
   },
   {
    "duration": 17,
    "start_time": "2021-11-14T20:58:21.988Z"
   },
   {
    "duration": 11,
    "start_time": "2021-11-14T20:58:22.007Z"
   },
   {
    "duration": 43,
    "start_time": "2021-11-14T20:58:22.020Z"
   },
   {
    "duration": 3,
    "start_time": "2021-11-14T20:58:22.066Z"
   },
   {
    "duration": 3597,
    "start_time": "2021-11-14T20:58:22.071Z"
   },
   {
    "duration": 8,
    "start_time": "2021-11-14T20:58:25.670Z"
   },
   {
    "duration": 11,
    "start_time": "2021-11-14T20:58:25.680Z"
   },
   {
    "duration": 2,
    "start_time": "2021-11-14T20:59:16.429Z"
   },
   {
    "duration": 58,
    "start_time": "2021-11-14T20:59:16.433Z"
   },
   {
    "duration": 12,
    "start_time": "2021-11-14T20:59:16.493Z"
   },
   {
    "duration": 13,
    "start_time": "2021-11-14T20:59:16.507Z"
   },
   {
    "duration": 9,
    "start_time": "2021-11-14T20:59:16.522Z"
   },
   {
    "duration": 34,
    "start_time": "2021-11-14T20:59:16.533Z"
   },
   {
    "duration": 10,
    "start_time": "2021-11-14T20:59:16.569Z"
   },
   {
    "duration": 4,
    "start_time": "2021-11-14T20:59:16.581Z"
   },
   {
    "duration": 17,
    "start_time": "2021-11-14T20:59:16.587Z"
   },
   {
    "duration": 13,
    "start_time": "2021-11-14T20:59:16.606Z"
   },
   {
    "duration": 14,
    "start_time": "2021-11-14T20:59:16.621Z"
   },
   {
    "duration": 12,
    "start_time": "2021-11-14T20:59:16.637Z"
   },
   {
    "duration": 10,
    "start_time": "2021-11-14T20:59:16.651Z"
   },
   {
    "duration": 13,
    "start_time": "2021-11-14T20:59:16.663Z"
   },
   {
    "duration": 14,
    "start_time": "2021-11-14T20:59:16.678Z"
   },
   {
    "duration": 14,
    "start_time": "2021-11-14T20:59:16.694Z"
   },
   {
    "duration": 11,
    "start_time": "2021-11-14T20:59:16.710Z"
   },
   {
    "duration": 27,
    "start_time": "2021-11-14T20:59:16.723Z"
   },
   {
    "duration": 11,
    "start_time": "2021-11-14T20:59:16.753Z"
   },
   {
    "duration": 3609,
    "start_time": "2021-11-14T20:59:16.766Z"
   },
   {
    "duration": 8,
    "start_time": "2021-11-14T20:59:20.377Z"
   },
   {
    "duration": 27,
    "start_time": "2021-11-14T20:59:20.386Z"
   },
   {
    "duration": 3,
    "start_time": "2021-11-14T21:00:39.518Z"
   },
   {
    "duration": 67,
    "start_time": "2021-11-14T21:00:39.523Z"
   },
   {
    "duration": 15,
    "start_time": "2021-11-14T21:00:39.592Z"
   },
   {
    "duration": 32,
    "start_time": "2021-11-14T21:00:39.609Z"
   },
   {
    "duration": 23,
    "start_time": "2021-11-14T21:00:39.643Z"
   },
   {
    "duration": 23,
    "start_time": "2021-11-14T21:00:39.668Z"
   },
   {
    "duration": 23,
    "start_time": "2021-11-14T21:00:39.693Z"
   },
   {
    "duration": 12,
    "start_time": "2021-11-14T21:00:39.718Z"
   },
   {
    "duration": 28,
    "start_time": "2021-11-14T21:00:39.733Z"
   },
   {
    "duration": 23,
    "start_time": "2021-11-14T21:00:39.764Z"
   },
   {
    "duration": 18,
    "start_time": "2021-11-14T21:00:39.788Z"
   },
   {
    "duration": 23,
    "start_time": "2021-11-14T21:00:39.808Z"
   },
   {
    "duration": 26,
    "start_time": "2021-11-14T21:00:39.833Z"
   },
   {
    "duration": 17,
    "start_time": "2021-11-14T21:00:39.860Z"
   },
   {
    "duration": 19,
    "start_time": "2021-11-14T21:00:39.879Z"
   },
   {
    "duration": 17,
    "start_time": "2021-11-14T21:00:39.900Z"
   },
   {
    "duration": 17,
    "start_time": "2021-11-14T21:00:39.919Z"
   },
   {
    "duration": 26,
    "start_time": "2021-11-14T21:00:39.938Z"
   },
   {
    "duration": 3,
    "start_time": "2021-11-14T21:00:39.966Z"
   },
   {
    "duration": 3630,
    "start_time": "2021-11-14T21:00:39.970Z"
   },
   {
    "duration": 8,
    "start_time": "2021-11-14T21:00:43.602Z"
   },
   {
    "duration": 15,
    "start_time": "2021-11-14T21:00:43.612Z"
   },
   {
    "duration": 9,
    "start_time": "2021-11-14T21:09:54.772Z"
   },
   {
    "duration": 2,
    "start_time": "2021-11-14T21:10:04.326Z"
   },
   {
    "duration": 57,
    "start_time": "2021-11-14T21:10:04.330Z"
   },
   {
    "duration": 13,
    "start_time": "2021-11-14T21:10:04.389Z"
   },
   {
    "duration": 14,
    "start_time": "2021-11-14T21:10:04.404Z"
   },
   {
    "duration": 9,
    "start_time": "2021-11-14T21:10:04.420Z"
   },
   {
    "duration": 5,
    "start_time": "2021-11-14T21:10:04.430Z"
   },
   {
    "duration": 29,
    "start_time": "2021-11-14T21:10:04.437Z"
   },
   {
    "duration": 4,
    "start_time": "2021-11-14T21:10:04.469Z"
   },
   {
    "duration": 11,
    "start_time": "2021-11-14T21:10:04.475Z"
   },
   {
    "duration": 6,
    "start_time": "2021-11-14T21:10:04.488Z"
   },
   {
    "duration": 13,
    "start_time": "2021-11-14T21:10:04.496Z"
   },
   {
    "duration": 14,
    "start_time": "2021-11-14T21:10:04.511Z"
   },
   {
    "duration": 12,
    "start_time": "2021-11-14T21:10:04.527Z"
   },
   {
    "duration": 30,
    "start_time": "2021-11-14T21:10:04.540Z"
   },
   {
    "duration": 7,
    "start_time": "2021-11-14T21:10:04.572Z"
   },
   {
    "duration": 14,
    "start_time": "2021-11-14T21:10:04.580Z"
   },
   {
    "duration": 9,
    "start_time": "2021-11-14T21:10:04.596Z"
   },
   {
    "duration": 28,
    "start_time": "2021-11-14T21:10:04.607Z"
   },
   {
    "duration": 3,
    "start_time": "2021-11-14T21:10:04.638Z"
   },
   {
    "duration": 3646,
    "start_time": "2021-11-14T21:10:04.663Z"
   },
   {
    "duration": 7,
    "start_time": "2021-11-14T21:10:08.311Z"
   },
   {
    "duration": 12,
    "start_time": "2021-11-14T21:10:08.320Z"
   },
   {
    "duration": 3,
    "start_time": "2021-11-14T21:11:11.588Z"
   },
   {
    "duration": 55,
    "start_time": "2021-11-14T21:11:11.593Z"
   },
   {
    "duration": 13,
    "start_time": "2021-11-14T21:11:11.651Z"
   },
   {
    "duration": 13,
    "start_time": "2021-11-14T21:11:11.666Z"
   },
   {
    "duration": 9,
    "start_time": "2021-11-14T21:11:11.681Z"
   },
   {
    "duration": 5,
    "start_time": "2021-11-14T21:11:11.692Z"
   },
   {
    "duration": 6,
    "start_time": "2021-11-14T21:11:11.699Z"
   },
   {
    "duration": 2,
    "start_time": "2021-11-14T21:11:11.708Z"
   },
   {
    "duration": 11,
    "start_time": "2021-11-14T21:11:11.712Z"
   },
   {
    "duration": 40,
    "start_time": "2021-11-14T21:11:11.725Z"
   },
   {
    "duration": 7,
    "start_time": "2021-11-14T21:11:11.767Z"
   },
   {
    "duration": 10,
    "start_time": "2021-11-14T21:11:11.776Z"
   },
   {
    "duration": 11,
    "start_time": "2021-11-14T21:11:11.788Z"
   },
   {
    "duration": 12,
    "start_time": "2021-11-14T21:11:11.800Z"
   },
   {
    "duration": 10,
    "start_time": "2021-11-14T21:11:11.814Z"
   },
   {
    "duration": 14,
    "start_time": "2021-11-14T21:11:11.826Z"
   },
   {
    "duration": 28,
    "start_time": "2021-11-14T21:11:11.841Z"
   },
   {
    "duration": 24,
    "start_time": "2021-11-14T21:11:11.871Z"
   },
   {
    "duration": 3,
    "start_time": "2021-11-14T21:11:11.896Z"
   },
   {
    "duration": 3587,
    "start_time": "2021-11-14T21:11:11.901Z"
   },
   {
    "duration": 7,
    "start_time": "2021-11-14T21:11:15.490Z"
   },
   {
    "duration": 13,
    "start_time": "2021-11-14T21:11:15.499Z"
   },
   {
    "duration": 438,
    "start_time": "2021-11-15T16:36:43.375Z"
   },
   {
    "duration": 831,
    "start_time": "2021-11-15T16:36:51.997Z"
   },
   {
    "duration": 65,
    "start_time": "2021-11-15T16:36:52.831Z"
   },
   {
    "duration": 30,
    "start_time": "2021-11-15T16:36:52.899Z"
   },
   {
    "duration": 17,
    "start_time": "2021-11-15T16:36:52.932Z"
   },
   {
    "duration": 17,
    "start_time": "2021-11-15T16:36:52.952Z"
   },
   {
    "duration": 5,
    "start_time": "2021-11-15T16:36:53.001Z"
   },
   {
    "duration": 8,
    "start_time": "2021-11-15T16:36:53.008Z"
   },
   {
    "duration": 7,
    "start_time": "2021-11-15T16:36:53.018Z"
   },
   {
    "duration": 14,
    "start_time": "2021-11-15T16:36:53.029Z"
   },
   {
    "duration": 10,
    "start_time": "2021-11-15T16:36:53.045Z"
   },
   {
    "duration": 44,
    "start_time": "2021-11-15T16:36:53.057Z"
   },
   {
    "duration": 10,
    "start_time": "2021-11-15T16:36:53.104Z"
   },
   {
    "duration": 13,
    "start_time": "2021-11-15T16:36:53.117Z"
   },
   {
    "duration": 12,
    "start_time": "2021-11-15T16:36:53.132Z"
   },
   {
    "duration": 9,
    "start_time": "2021-11-15T16:36:53.147Z"
   },
   {
    "duration": 57,
    "start_time": "2021-11-15T16:36:53.158Z"
   },
   {
    "duration": 9,
    "start_time": "2021-11-15T16:36:53.217Z"
   },
   {
    "duration": 10,
    "start_time": "2021-11-15T16:36:53.228Z"
   },
   {
    "duration": 3,
    "start_time": "2021-11-15T16:36:53.240Z"
   },
   {
    "duration": 4856,
    "start_time": "2021-11-15T16:36:53.245Z"
   },
   {
    "duration": 11,
    "start_time": "2021-11-15T16:36:58.103Z"
   },
   {
    "duration": 18,
    "start_time": "2021-11-15T16:36:58.117Z"
   },
   {
    "duration": 17,
    "start_time": "2021-11-15T16:36:58.138Z"
   },
   {
    "duration": 9,
    "start_time": "2021-11-15T16:46:24.463Z"
   },
   {
    "duration": 416,
    "start_time": "2021-11-15T16:46:51.503Z"
   },
   {
    "duration": 4,
    "start_time": "2021-11-15T16:47:20.315Z"
   },
   {
    "duration": 63,
    "start_time": "2021-11-15T16:47:20.325Z"
   },
   {
    "duration": 25,
    "start_time": "2021-11-15T16:47:20.391Z"
   },
   {
    "duration": 16,
    "start_time": "2021-11-15T16:47:20.419Z"
   },
   {
    "duration": 11,
    "start_time": "2021-11-15T16:47:20.438Z"
   },
   {
    "duration": 7,
    "start_time": "2021-11-15T16:47:20.451Z"
   },
   {
    "duration": 39,
    "start_time": "2021-11-15T16:47:20.461Z"
   },
   {
    "duration": 16,
    "start_time": "2021-11-15T16:47:20.503Z"
   },
   {
    "duration": 27,
    "start_time": "2021-11-15T16:47:20.523Z"
   },
   {
    "duration": 19,
    "start_time": "2021-11-15T16:47:20.553Z"
   },
   {
    "duration": 34,
    "start_time": "2021-11-15T16:47:20.575Z"
   },
   {
    "duration": 19,
    "start_time": "2021-11-15T16:47:20.612Z"
   },
   {
    "duration": 12,
    "start_time": "2021-11-15T16:47:20.633Z"
   },
   {
    "duration": 15,
    "start_time": "2021-11-15T16:47:20.648Z"
   },
   {
    "duration": 17,
    "start_time": "2021-11-15T16:47:20.665Z"
   },
   {
    "duration": 33,
    "start_time": "2021-11-15T16:47:20.684Z"
   },
   {
    "duration": 8,
    "start_time": "2021-11-15T16:47:20.719Z"
   },
   {
    "duration": 27,
    "start_time": "2021-11-15T16:47:20.730Z"
   },
   {
    "duration": 3,
    "start_time": "2021-11-15T16:47:20.759Z"
   },
   {
    "duration": 4597,
    "start_time": "2021-11-15T16:47:20.765Z"
   },
   {
    "duration": 9,
    "start_time": "2021-11-15T16:47:25.365Z"
   },
   {
    "duration": 33,
    "start_time": "2021-11-15T16:47:25.376Z"
   },
   {
    "duration": 692,
    "start_time": "2021-11-15T16:47:25.412Z"
   },
   {
    "duration": 4,
    "start_time": "2021-11-15T16:47:36.676Z"
   },
   {
    "duration": 67,
    "start_time": "2021-11-15T16:47:36.684Z"
   },
   {
    "duration": 21,
    "start_time": "2021-11-15T16:47:36.753Z"
   },
   {
    "duration": 38,
    "start_time": "2021-11-15T16:47:36.776Z"
   },
   {
    "duration": 12,
    "start_time": "2021-11-15T16:47:36.816Z"
   },
   {
    "duration": 5,
    "start_time": "2021-11-15T16:47:36.831Z"
   },
   {
    "duration": 5,
    "start_time": "2021-11-15T16:47:36.840Z"
   },
   {
    "duration": 7,
    "start_time": "2021-11-15T16:47:36.848Z"
   },
   {
    "duration": 52,
    "start_time": "2021-11-15T16:47:36.858Z"
   },
   {
    "duration": 5,
    "start_time": "2021-11-15T16:47:36.913Z"
   },
   {
    "duration": 11,
    "start_time": "2021-11-15T16:47:36.921Z"
   },
   {
    "duration": 11,
    "start_time": "2021-11-15T16:47:36.935Z"
   },
   {
    "duration": 13,
    "start_time": "2021-11-15T16:47:36.948Z"
   },
   {
    "duration": 46,
    "start_time": "2021-11-15T16:47:36.964Z"
   },
   {
    "duration": 12,
    "start_time": "2021-11-15T16:47:37.013Z"
   },
   {
    "duration": 18,
    "start_time": "2021-11-15T16:47:37.028Z"
   },
   {
    "duration": 51,
    "start_time": "2021-11-15T16:47:37.049Z"
   },
   {
    "duration": 27,
    "start_time": "2021-11-15T16:47:37.103Z"
   },
   {
    "duration": 4,
    "start_time": "2021-11-15T16:47:37.135Z"
   },
   {
    "duration": 4777,
    "start_time": "2021-11-15T16:47:37.142Z"
   },
   {
    "duration": 9,
    "start_time": "2021-11-15T16:47:41.922Z"
   },
   {
    "duration": 13,
    "start_time": "2021-11-15T16:47:41.934Z"
   },
   {
    "duration": 14,
    "start_time": "2021-11-15T16:47:41.949Z"
   },
   {
    "duration": 12,
    "start_time": "2021-11-15T16:47:53.374Z"
   },
   {
    "duration": 13,
    "start_time": "2021-11-15T16:48:05.137Z"
   },
   {
    "duration": 4,
    "start_time": "2021-11-15T17:07:49.433Z"
   },
   {
    "duration": 362,
    "start_time": "2021-11-15T17:09:09.507Z"
   },
   {
    "duration": 1487,
    "start_time": "2021-11-15T17:09:22.733Z"
   },
   {
    "duration": 1038,
    "start_time": "2021-11-15T17:09:30.748Z"
   },
   {
    "duration": 9,
    "start_time": "2021-11-15T17:16:47.655Z"
   },
   {
    "duration": 5,
    "start_time": "2021-11-15T17:48:51.405Z"
   },
   {
    "duration": 398,
    "start_time": "2021-11-15T17:51:26.167Z"
   },
   {
    "duration": 4,
    "start_time": "2021-11-15T17:52:12.782Z"
   },
   {
    "duration": 70,
    "start_time": "2021-11-15T17:52:12.788Z"
   },
   {
    "duration": 19,
    "start_time": "2021-11-15T17:52:12.861Z"
   },
   {
    "duration": 29,
    "start_time": "2021-11-15T17:52:12.884Z"
   },
   {
    "duration": 14,
    "start_time": "2021-11-15T17:52:12.915Z"
   },
   {
    "duration": 10,
    "start_time": "2021-11-15T17:52:12.931Z"
   },
   {
    "duration": 10,
    "start_time": "2021-11-15T17:52:12.943Z"
   },
   {
    "duration": 6,
    "start_time": "2021-11-15T17:52:12.956Z"
   },
   {
    "duration": 14,
    "start_time": "2021-11-15T17:52:13.000Z"
   },
   {
    "duration": 12,
    "start_time": "2021-11-15T17:52:13.016Z"
   },
   {
    "duration": 13,
    "start_time": "2021-11-15T17:52:13.030Z"
   },
   {
    "duration": 19,
    "start_time": "2021-11-15T17:52:13.045Z"
   },
   {
    "duration": 39,
    "start_time": "2021-11-15T17:52:13.066Z"
   },
   {
    "duration": 14,
    "start_time": "2021-11-15T17:52:13.107Z"
   },
   {
    "duration": 10,
    "start_time": "2021-11-15T17:52:13.123Z"
   },
   {
    "duration": 19,
    "start_time": "2021-11-15T17:52:13.135Z"
   },
   {
    "duration": 11,
    "start_time": "2021-11-15T17:52:13.157Z"
   },
   {
    "duration": 27,
    "start_time": "2021-11-15T17:52:13.199Z"
   },
   {
    "duration": 4,
    "start_time": "2021-11-15T17:52:13.228Z"
   },
   {
    "duration": 4667,
    "start_time": "2021-11-15T17:52:13.235Z"
   },
   {
    "duration": 12,
    "start_time": "2021-11-15T17:52:17.905Z"
   },
   {
    "duration": 14,
    "start_time": "2021-11-15T17:52:17.920Z"
   },
   {
    "duration": 15,
    "start_time": "2021-11-15T17:52:17.939Z"
   },
   {
    "duration": 43,
    "start_time": "2021-11-15T17:52:17.957Z"
   },
   {
    "duration": 1185,
    "start_time": "2021-11-15T17:52:18.003Z"
   },
   {
    "duration": 17,
    "start_time": "2021-11-15T17:52:19.191Z"
   },
   {
    "duration": 4,
    "start_time": "2021-11-15T17:52:19.210Z"
   },
   {
    "duration": 32,
    "start_time": "2021-11-15T17:52:19.217Z"
   },
   {
    "duration": 30,
    "start_time": "2021-11-15T17:52:44.685Z"
   },
   {
    "duration": 42,
    "start_time": "2021-11-15T18:13:31.434Z"
   },
   {
    "duration": 19,
    "start_time": "2021-11-15T18:14:02.194Z"
   },
   {
    "duration": 24,
    "start_time": "2021-11-15T18:14:40.050Z"
   },
   {
    "duration": 26,
    "start_time": "2021-11-15T18:15:30.977Z"
   },
   {
    "duration": 22,
    "start_time": "2021-11-15T18:15:41.814Z"
   },
   {
    "duration": 21,
    "start_time": "2021-11-15T18:25:00.365Z"
   },
   {
    "duration": 18,
    "start_time": "2021-11-15T18:32:25.856Z"
   },
   {
    "duration": 23,
    "start_time": "2021-11-15T18:51:03.740Z"
   },
   {
    "duration": 3,
    "start_time": "2021-11-15T19:42:41.567Z"
   },
   {
    "duration": 66,
    "start_time": "2021-11-15T19:42:41.573Z"
   },
   {
    "duration": 20,
    "start_time": "2021-11-15T19:42:41.642Z"
   },
   {
    "duration": 40,
    "start_time": "2021-11-15T19:42:41.665Z"
   },
   {
    "duration": 13,
    "start_time": "2021-11-15T19:42:41.708Z"
   },
   {
    "duration": 6,
    "start_time": "2021-11-15T19:42:41.725Z"
   },
   {
    "duration": 8,
    "start_time": "2021-11-15T19:42:41.734Z"
   },
   {
    "duration": 55,
    "start_time": "2021-11-15T19:42:41.745Z"
   },
   {
    "duration": 13,
    "start_time": "2021-11-15T19:42:41.807Z"
   },
   {
    "duration": 8,
    "start_time": "2021-11-15T19:42:41.824Z"
   },
   {
    "duration": 13,
    "start_time": "2021-11-15T19:42:41.834Z"
   },
   {
    "duration": 56,
    "start_time": "2021-11-15T19:42:41.850Z"
   },
   {
    "duration": 13,
    "start_time": "2021-11-15T19:42:41.908Z"
   },
   {
    "duration": 15,
    "start_time": "2021-11-15T19:42:41.923Z"
   },
   {
    "duration": 11,
    "start_time": "2021-11-15T19:42:41.940Z"
   },
   {
    "duration": 15,
    "start_time": "2021-11-15T19:42:41.953Z"
   },
   {
    "duration": 36,
    "start_time": "2021-11-15T19:42:41.971Z"
   },
   {
    "duration": 33,
    "start_time": "2021-11-15T19:42:42.010Z"
   },
   {
    "duration": 3,
    "start_time": "2021-11-15T19:42:42.046Z"
   },
   {
    "duration": 4694,
    "start_time": "2021-11-15T19:42:42.051Z"
   },
   {
    "duration": 9,
    "start_time": "2021-11-15T19:42:46.748Z"
   },
   {
    "duration": 19,
    "start_time": "2021-11-15T19:42:46.759Z"
   },
   {
    "duration": 30,
    "start_time": "2021-11-15T19:42:46.780Z"
   },
   {
    "duration": 5,
    "start_time": "2021-11-15T19:42:46.812Z"
   },
   {
    "duration": 1063,
    "start_time": "2021-11-15T19:42:46.819Z"
   },
   {
    "duration": 18,
    "start_time": "2021-11-15T19:42:47.884Z"
   },
   {
    "duration": 3,
    "start_time": "2021-11-15T19:42:47.909Z"
   },
   {
    "duration": 33,
    "start_time": "2021-11-15T19:42:47.915Z"
   },
   {
    "duration": 70,
    "start_time": "2021-11-15T19:42:47.951Z"
   },
   {
    "duration": 31,
    "start_time": "2021-11-15T19:42:48.024Z"
   },
   {
    "duration": 44,
    "start_time": "2021-11-15T19:42:48.058Z"
   },
   {
    "duration": 23,
    "start_time": "2021-11-15T19:42:48.105Z"
   },
   {
    "duration": 785,
    "start_time": "2021-11-16T07:40:31.315Z"
   },
   {
    "duration": 63,
    "start_time": "2021-11-16T07:40:32.103Z"
   },
   {
    "duration": 39,
    "start_time": "2021-11-16T07:40:32.169Z"
   },
   {
    "duration": 32,
    "start_time": "2021-11-16T07:40:32.211Z"
   },
   {
    "duration": 13,
    "start_time": "2021-11-16T07:40:32.245Z"
   },
   {
    "duration": 8,
    "start_time": "2021-11-16T07:40:32.260Z"
   },
   {
    "duration": 15,
    "start_time": "2021-11-16T07:40:32.270Z"
   },
   {
    "duration": 4,
    "start_time": "2021-11-16T07:40:32.287Z"
   },
   {
    "duration": 44,
    "start_time": "2021-11-16T07:40:32.295Z"
   },
   {
    "duration": 12,
    "start_time": "2021-11-16T07:40:32.343Z"
   },
   {
    "duration": 15,
    "start_time": "2021-11-16T07:40:32.357Z"
   },
   {
    "duration": 19,
    "start_time": "2021-11-16T07:40:32.374Z"
   },
   {
    "duration": 12,
    "start_time": "2021-11-16T07:40:32.395Z"
   },
   {
    "duration": 27,
    "start_time": "2021-11-16T07:40:32.410Z"
   },
   {
    "duration": 16,
    "start_time": "2021-11-16T07:40:32.439Z"
   },
   {
    "duration": 21,
    "start_time": "2021-11-16T07:40:32.458Z"
   },
   {
    "duration": 8,
    "start_time": "2021-11-16T07:40:32.482Z"
   },
   {
    "duration": 11,
    "start_time": "2021-11-16T07:40:32.493Z"
   },
   {
    "duration": 3,
    "start_time": "2021-11-16T07:40:32.507Z"
   },
   {
    "duration": 4373,
    "start_time": "2021-11-16T07:40:32.529Z"
   },
   {
    "duration": 24,
    "start_time": "2021-11-16T07:40:36.905Z"
   },
   {
    "duration": 13,
    "start_time": "2021-11-16T07:40:36.932Z"
   },
   {
    "duration": 26,
    "start_time": "2021-11-16T07:40:36.947Z"
   },
   {
    "duration": 5,
    "start_time": "2021-11-16T07:40:36.975Z"
   },
   {
    "duration": 990,
    "start_time": "2021-11-16T07:40:36.982Z"
   },
   {
    "duration": 10,
    "start_time": "2021-11-16T07:40:37.975Z"
   },
   {
    "duration": 5,
    "start_time": "2021-11-16T07:40:37.991Z"
   },
   {
    "duration": 57,
    "start_time": "2021-11-16T07:40:37.999Z"
   },
   {
    "duration": 27,
    "start_time": "2021-11-16T07:40:38.059Z"
   },
   {
    "duration": 57,
    "start_time": "2021-11-16T07:40:38.089Z"
   },
   {
    "duration": 21,
    "start_time": "2021-11-16T07:40:38.149Z"
   },
   {
    "duration": 22,
    "start_time": "2021-11-16T07:40:38.173Z"
   },
   {
    "duration": 7,
    "start_time": "2021-11-16T07:42:45.832Z"
   },
   {
    "duration": 601,
    "start_time": "2021-12-22T08:16:37.692Z"
   },
   {
    "duration": 51,
    "start_time": "2021-12-22T08:16:38.295Z"
   },
   {
    "duration": 19,
    "start_time": "2021-12-22T08:16:38.348Z"
   },
   {
    "duration": 12,
    "start_time": "2021-12-22T08:16:38.369Z"
   },
   {
    "duration": 9,
    "start_time": "2021-12-22T08:16:38.391Z"
   },
   {
    "duration": 4,
    "start_time": "2021-12-22T08:16:38.402Z"
   },
   {
    "duration": 5,
    "start_time": "2021-12-22T08:16:38.407Z"
   },
   {
    "duration": 3,
    "start_time": "2021-12-22T08:16:38.414Z"
   },
   {
    "duration": 13,
    "start_time": "2021-12-22T08:16:38.419Z"
   },
   {
    "duration": 8,
    "start_time": "2021-12-22T08:16:38.434Z"
   },
   {
    "duration": 8,
    "start_time": "2021-12-22T08:16:38.444Z"
   },
   {
    "duration": 6,
    "start_time": "2021-12-22T08:16:38.454Z"
   },
   {
    "duration": 34,
    "start_time": "2021-12-22T08:16:38.462Z"
   },
   {
    "duration": 9,
    "start_time": "2021-12-22T08:16:38.498Z"
   },
   {
    "duration": 9,
    "start_time": "2021-12-22T08:16:38.509Z"
   },
   {
    "duration": 7,
    "start_time": "2021-12-22T08:16:38.519Z"
   },
   {
    "duration": 11,
    "start_time": "2021-12-22T08:16:38.528Z"
   },
   {
    "duration": 7,
    "start_time": "2021-12-22T08:16:38.541Z"
   },
   {
    "duration": 42,
    "start_time": "2021-12-22T08:16:38.549Z"
   },
   {
    "duration": 3,
    "start_time": "2021-12-22T08:16:38.593Z"
   },
   {
    "duration": 3342,
    "start_time": "2021-12-22T08:16:38.598Z"
   },
   {
    "duration": 7,
    "start_time": "2021-12-22T08:16:41.942Z"
   },
   {
    "duration": 9,
    "start_time": "2021-12-22T08:16:41.952Z"
   },
   {
    "duration": 30,
    "start_time": "2021-12-22T08:16:41.963Z"
   },
   {
    "duration": 3,
    "start_time": "2021-12-22T08:16:41.995Z"
   },
   {
    "duration": 600,
    "start_time": "2021-12-22T08:16:41.999Z"
   },
   {
    "duration": 6,
    "start_time": "2021-12-22T08:16:42.600Z"
   },
   {
    "duration": 3,
    "start_time": "2021-12-22T08:16:42.608Z"
   },
   {
    "duration": 24,
    "start_time": "2021-12-22T08:16:42.612Z"
   },
   {
    "duration": 22,
    "start_time": "2021-12-22T08:16:42.638Z"
   },
   {
    "duration": 44,
    "start_time": "2021-12-22T08:16:42.662Z"
   },
   {
    "duration": 15,
    "start_time": "2021-12-22T08:16:42.708Z"
   },
   {
    "duration": 16,
    "start_time": "2021-12-22T08:16:42.725Z"
   },
   {
    "duration": 25,
    "start_time": "2021-12-22T08:17:05.378Z"
   },
   {
    "duration": 2,
    "start_time": "2021-12-22T08:23:14.864Z"
   },
   {
    "duration": 52,
    "start_time": "2021-12-22T08:23:14.868Z"
   },
   {
    "duration": 13,
    "start_time": "2021-12-22T08:23:14.922Z"
   },
   {
    "duration": 10,
    "start_time": "2021-12-22T08:23:14.937Z"
   },
   {
    "duration": 9,
    "start_time": "2021-12-22T08:23:14.949Z"
   },
   {
    "duration": 35,
    "start_time": "2021-12-22T08:23:14.959Z"
   },
   {
    "duration": 4,
    "start_time": "2021-12-22T08:23:14.996Z"
   },
   {
    "duration": 9,
    "start_time": "2021-12-22T08:23:15.002Z"
   },
   {
    "duration": 19,
    "start_time": "2021-12-22T08:23:15.012Z"
   },
   {
    "duration": 8,
    "start_time": "2021-12-22T08:23:15.033Z"
   },
   {
    "duration": 10,
    "start_time": "2021-12-22T08:23:15.043Z"
   },
   {
    "duration": 10,
    "start_time": "2021-12-22T08:23:15.054Z"
   },
   {
    "duration": 32,
    "start_time": "2021-12-22T08:23:15.065Z"
   },
   {
    "duration": 13,
    "start_time": "2021-12-22T08:23:15.098Z"
   },
   {
    "duration": 8,
    "start_time": "2021-12-22T08:23:15.112Z"
   },
   {
    "duration": 6,
    "start_time": "2021-12-22T08:23:15.121Z"
   },
   {
    "duration": 11,
    "start_time": "2021-12-22T08:23:15.129Z"
   },
   {
    "duration": 7,
    "start_time": "2021-12-22T08:23:15.141Z"
   },
   {
    "duration": 41,
    "start_time": "2021-12-22T08:23:15.151Z"
   },
   {
    "duration": 3,
    "start_time": "2021-12-22T08:23:15.194Z"
   },
   {
    "duration": 3331,
    "start_time": "2021-12-22T08:23:15.198Z"
   },
   {
    "duration": 7,
    "start_time": "2021-12-22T08:23:18.531Z"
   },
   {
    "duration": 10,
    "start_time": "2021-12-22T08:23:18.540Z"
   },
   {
    "duration": 12,
    "start_time": "2021-12-22T08:23:18.551Z"
   },
   {
    "duration": 28,
    "start_time": "2021-12-22T08:23:18.565Z"
   },
   {
    "duration": 581,
    "start_time": "2021-12-22T08:23:18.594Z"
   },
   {
    "duration": 5,
    "start_time": "2021-12-22T08:23:19.176Z"
   },
   {
    "duration": 17,
    "start_time": "2021-12-22T08:23:19.190Z"
   },
   {
    "duration": 28,
    "start_time": "2021-12-22T08:23:19.208Z"
   },
   {
    "duration": 21,
    "start_time": "2021-12-22T08:23:19.238Z"
   },
   {
    "duration": 15,
    "start_time": "2021-12-22T08:23:19.260Z"
   },
   {
    "duration": 23,
    "start_time": "2021-12-22T08:23:19.276Z"
   },
   {
    "duration": 16,
    "start_time": "2021-12-22T08:23:19.300Z"
   },
   {
    "duration": 3,
    "start_time": "2021-12-22T08:32:34.344Z"
   },
   {
    "duration": 69,
    "start_time": "2021-12-22T08:32:34.349Z"
   },
   {
    "duration": 13,
    "start_time": "2021-12-22T08:32:34.421Z"
   },
   {
    "duration": 12,
    "start_time": "2021-12-22T08:32:34.436Z"
   },
   {
    "duration": 10,
    "start_time": "2021-12-22T08:32:34.450Z"
   },
   {
    "duration": 33,
    "start_time": "2021-12-22T08:32:34.461Z"
   },
   {
    "duration": 8,
    "start_time": "2021-12-22T08:32:34.496Z"
   },
   {
    "duration": 6,
    "start_time": "2021-12-22T08:32:34.506Z"
   },
   {
    "duration": 12,
    "start_time": "2021-12-22T08:32:34.514Z"
   },
   {
    "duration": 10,
    "start_time": "2021-12-22T08:32:34.528Z"
   },
   {
    "duration": 8,
    "start_time": "2021-12-22T08:32:34.540Z"
   },
   {
    "duration": 8,
    "start_time": "2021-12-22T08:32:34.550Z"
   },
   {
    "duration": 34,
    "start_time": "2021-12-22T08:32:34.560Z"
   },
   {
    "duration": 8,
    "start_time": "2021-12-22T08:32:34.596Z"
   },
   {
    "duration": 8,
    "start_time": "2021-12-22T08:32:34.606Z"
   },
   {
    "duration": 8,
    "start_time": "2021-12-22T08:32:34.616Z"
   },
   {
    "duration": 13,
    "start_time": "2021-12-22T08:32:34.626Z"
   },
   {
    "duration": 7,
    "start_time": "2021-12-22T08:32:34.641Z"
   },
   {
    "duration": 56,
    "start_time": "2021-12-22T08:32:34.651Z"
   },
   {
    "duration": 3,
    "start_time": "2021-12-22T08:32:34.709Z"
   },
   {
    "duration": 3878,
    "start_time": "2021-12-22T08:32:34.714Z"
   },
   {
    "duration": 8,
    "start_time": "2021-12-22T08:32:38.594Z"
   },
   {
    "duration": 14,
    "start_time": "2021-12-22T08:32:38.604Z"
   },
   {
    "duration": 10,
    "start_time": "2021-12-22T08:32:38.620Z"
   },
   {
    "duration": 4,
    "start_time": "2021-12-22T08:32:38.632Z"
   },
   {
    "duration": 629,
    "start_time": "2021-12-22T08:32:38.638Z"
   },
   {
    "duration": 6,
    "start_time": "2021-12-22T08:32:39.268Z"
   },
   {
    "duration": 16,
    "start_time": "2021-12-22T08:32:39.276Z"
   },
   {
    "duration": 21,
    "start_time": "2021-12-22T08:32:39.293Z"
   },
   {
    "duration": 18,
    "start_time": "2021-12-22T08:32:39.316Z"
   },
   {
    "duration": 15,
    "start_time": "2021-12-22T08:32:39.335Z"
   },
   {
    "duration": 40,
    "start_time": "2021-12-22T08:32:39.351Z"
   },
   {
    "duration": 15,
    "start_time": "2021-12-22T08:32:39.393Z"
   },
   {
    "duration": 775,
    "start_time": "2021-12-23T06:07:26.978Z"
   },
   {
    "duration": 66,
    "start_time": "2021-12-23T06:07:27.755Z"
   },
   {
    "duration": 193,
    "start_time": "2021-12-23T06:07:27.825Z"
   },
   {
    "duration": 230,
    "start_time": "2021-12-23T06:07:28.022Z"
   },
   {
    "duration": 286,
    "start_time": "2021-12-23T06:07:28.255Z"
   },
   {
    "duration": 234,
    "start_time": "2021-12-23T06:07:28.544Z"
   },
   {
    "duration": 247,
    "start_time": "2021-12-23T06:07:28.781Z"
   },
   {
    "duration": 263,
    "start_time": "2021-12-23T06:07:29.032Z"
   },
   {
    "duration": 259,
    "start_time": "2021-12-23T06:07:29.298Z"
   },
   {
    "duration": 221,
    "start_time": "2021-12-23T06:07:29.560Z"
   },
   {
    "duration": 266,
    "start_time": "2021-12-23T06:07:29.784Z"
   },
   {
    "duration": 232,
    "start_time": "2021-12-23T06:07:30.053Z"
   },
   {
    "duration": 385,
    "start_time": "2021-12-23T06:07:30.288Z"
   },
   {
    "duration": 448,
    "start_time": "2021-12-23T06:07:30.676Z"
   },
   {
    "duration": 276,
    "start_time": "2021-12-23T06:07:31.127Z"
   },
   {
    "duration": 232,
    "start_time": "2021-12-23T06:07:31.406Z"
   },
   {
    "duration": 255,
    "start_time": "2021-12-23T06:07:31.641Z"
   },
   {
    "duration": 273,
    "start_time": "2021-12-23T06:07:31.898Z"
   },
   {
    "duration": 284,
    "start_time": "2021-12-23T06:07:32.174Z"
   },
   {
    "duration": 247,
    "start_time": "2021-12-23T06:07:32.460Z"
   },
   {
    "duration": 6255,
    "start_time": "2021-12-23T06:07:32.709Z"
   },
   {
    "duration": 10,
    "start_time": "2021-12-23T06:07:38.967Z"
   },
   {
    "duration": 308,
    "start_time": "2021-12-23T06:07:38.982Z"
   },
   {
    "duration": 406,
    "start_time": "2021-12-23T06:07:39.294Z"
   },
   {
    "duration": 300,
    "start_time": "2021-12-23T06:07:39.702Z"
   },
   {
    "duration": 1376,
    "start_time": "2021-12-23T06:07:40.005Z"
   },
   {
    "duration": 8,
    "start_time": "2021-12-23T06:07:41.383Z"
   },
   {
    "duration": 368,
    "start_time": "2021-12-23T06:07:41.393Z"
   },
   {
    "duration": 385,
    "start_time": "2021-12-23T06:07:41.763Z"
   },
   {
    "duration": 372,
    "start_time": "2021-12-23T06:07:42.151Z"
   },
   {
    "duration": 373,
    "start_time": "2021-12-23T06:07:42.525Z"
   },
   {
    "duration": 306,
    "start_time": "2021-12-23T06:07:42.902Z"
   },
   {
    "duration": 353,
    "start_time": "2021-12-23T06:07:43.211Z"
   }
  ],
  "kernelspec": {
   "display_name": "Python 3",
   "language": "python",
   "name": "python3"
  },
  "language_info": {
   "codemirror_mode": {
    "name": "ipython",
    "version": 3
   },
   "file_extension": ".py",
   "mimetype": "text/x-python",
   "name": "python",
   "nbconvert_exporter": "python",
   "pygments_lexer": "ipython3",
   "version": "3.7.8"
  },
  "toc": {
   "base_numbering": 1,
   "nav_menu": {},
   "number_sections": true,
   "sideBar": true,
   "skip_h1_title": true,
   "title_cell": "Table of Contents",
   "title_sidebar": "Contents",
   "toc_cell": false,
   "toc_position": {},
   "toc_section_display": true,
   "toc_window_display": false
  }
 },
 "nbformat": 4,
 "nbformat_minor": 2
}
