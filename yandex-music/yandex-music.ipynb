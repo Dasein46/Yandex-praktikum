{
 "cells": [
  {
   "cell_type": "markdown",
   "metadata": {
    "id": "E0vqbgi9ay0H"
   },
   "source": [
    "# Яндекс.Музыка"
   ]
  },
  {
   "cell_type": "markdown",
   "metadata": {
    "id": "VUC88oWjTJw2"
   },
   "source": [
    "Сравнение Москвы и Петербурга окружено мифами. Например:\n",
    " * Москва — мегаполис, подчинённый жёсткому ритму рабочей недели;\n",
    " * Петербург — культурная столица, со своими вкусами.\n",
    "\n",
    "На данных Яндекс.Музыки мы сравним поведение пользователей двух столиц.\n",
    "\n",
    "**Цель исследования** — проверить три гипотезы:\n",
    "1. Активность пользователей зависит от дня недели. Причём в Москве и Петербурге это проявляется по-разному.\n",
    "2. В понедельник утром в Москве преобладают одни жанры, а в Петербурге — другие. Так же и вечером пятницы преобладают разные жанры — в зависимости от города. \n",
    "3. Москва и Петербург предпочитают разные жанры музыки. В Москве чаще слушают поп-музыку, в Петербурге — русский рэп.\n",
    "\n",
    "**Ход исследования**\n",
    "\n",
    "Данные о поведении пользователей мы получим из файла `yandex_music_project.csv`. О качестве данных ничего не известно. Поэтому перед проверкой гипотез понадобится обзор данных. \n",
    "\n",
    "Мы проверим данные на ошибки и оценим их влияние на исследование. Затем, на этапе предобработки мы поищем возможность исправить самые критичные ошибки данных.\n",
    " \n",
    "Таким образом, исследование пройдёт в три этапа:\n",
    " 1. Обзор данных.\n",
    " 2. Предобработка данных.\n",
    " 3. Проверка гипотез.\n",
    "\n"
   ]
  },
  {
   "cell_type": "markdown",
   "metadata": {},
   "source": [
    "# Содержание\n",
    "* [Обзор данных](#Обзор-данных)\n",
    "* [Прeдобработка данных](#Предобработка-данных)\n",
    "    * [Стиль заголовков](#Стиль-заголовков)\n",
    "    * [Пропуски значений](#Пропуски-значений)\n",
    "    * [Дубликаты](#Дубликаты)\n",
    "* [Проверка гипотез](#Проверка-гипотез)\n",
    "    * [Сравнение поведения пользователей двух столиц](#Сравнение-поведения-пользователей-двух-столиц)\n",
    "    * [Музыка в начале и в конце недели](#Музыка-в-начале-и-в-конце-)\n",
    "    * [Жанровые предпочтения в Москве и Петербурге](#Жанровые-предпочтения-в-Москве-и-Петербурге)\n",
    "* [Итоги исследования](#Итоги-исследования)"
   ]
  },
  {
   "cell_type": "markdown",
   "metadata": {
    "id": "Ml1hmfXC_Zcs"
   },
   "source": [
    "## Обзор данных\n",
    "\n",
    "Составим первое представление о данных Яндекс.Музыки.\n",
    "\n",
    "\n"
   ]
  },
  {
   "cell_type": "markdown",
   "metadata": {
    "id": "57eAOGIz_Zcs"
   },
   "source": [
    "Основной инструмент аналитика — `pandas`. Импортируем эту библиотеку."
   ]
  },
  {
   "cell_type": "code",
   "execution_count": 1,
   "metadata": {
    "id": "AXN7PHPN_Zcs"
   },
   "outputs": [],
   "source": [
    "# импорт библиотеки pandas\n",
    "import pandas as pd"
   ]
  },
  {
   "cell_type": "markdown",
   "metadata": {
    "id": "SG23P8tt_Zcs"
   },
   "source": [
    "Прочитаем файл `yandex_music_project.csv` из папки `/datasets` и сохраним его в переменной `df`:"
   ]
  },
  {
   "cell_type": "code",
   "execution_count": 2,
   "metadata": {
    "id": "fFVu7vqh_Zct"
   },
   "outputs": [],
   "source": [
    "# чтение файла с данными и сохранение в df\n",
    "df = pd.read_csv('/datasets/yandex_music_project.csv')"
   ]
  },
  {
   "cell_type": "markdown",
   "metadata": {
    "id": "rDoOMd3uTqnZ"
   },
   "source": [
    "Выведем на экран первые десять строк таблицы:"
   ]
  },
  {
   "cell_type": "code",
   "execution_count": 3,
   "metadata": {
    "id": "oWTVX3gW_Zct"
   },
   "outputs": [
    {
     "data": {
      "text/html": [
       "<div>\n",
       "<style scoped>\n",
       "    .dataframe tbody tr th:only-of-type {\n",
       "        vertical-align: middle;\n",
       "    }\n",
       "\n",
       "    .dataframe tbody tr th {\n",
       "        vertical-align: top;\n",
       "    }\n",
       "\n",
       "    .dataframe thead th {\n",
       "        text-align: right;\n",
       "    }\n",
       "</style>\n",
       "<table border=\"1\" class=\"dataframe\">\n",
       "  <thead>\n",
       "    <tr style=\"text-align: right;\">\n",
       "      <th></th>\n",
       "      <th>userID</th>\n",
       "      <th>Track</th>\n",
       "      <th>artist</th>\n",
       "      <th>genre</th>\n",
       "      <th>City</th>\n",
       "      <th>time</th>\n",
       "      <th>Day</th>\n",
       "    </tr>\n",
       "  </thead>\n",
       "  <tbody>\n",
       "    <tr>\n",
       "      <td>0</td>\n",
       "      <td>FFB692EC</td>\n",
       "      <td>Kamigata To Boots</td>\n",
       "      <td>The Mass Missile</td>\n",
       "      <td>rock</td>\n",
       "      <td>Saint-Petersburg</td>\n",
       "      <td>20:28:33</td>\n",
       "      <td>Wednesday</td>\n",
       "    </tr>\n",
       "    <tr>\n",
       "      <td>1</td>\n",
       "      <td>55204538</td>\n",
       "      <td>Delayed Because of Accident</td>\n",
       "      <td>Andreas Rönnberg</td>\n",
       "      <td>rock</td>\n",
       "      <td>Moscow</td>\n",
       "      <td>14:07:09</td>\n",
       "      <td>Friday</td>\n",
       "    </tr>\n",
       "    <tr>\n",
       "      <td>2</td>\n",
       "      <td>20EC38</td>\n",
       "      <td>Funiculì funiculà</td>\n",
       "      <td>Mario Lanza</td>\n",
       "      <td>pop</td>\n",
       "      <td>Saint-Petersburg</td>\n",
       "      <td>20:58:07</td>\n",
       "      <td>Wednesday</td>\n",
       "    </tr>\n",
       "    <tr>\n",
       "      <td>3</td>\n",
       "      <td>A3DD03C9</td>\n",
       "      <td>Dragons in the Sunset</td>\n",
       "      <td>Fire + Ice</td>\n",
       "      <td>folk</td>\n",
       "      <td>Saint-Petersburg</td>\n",
       "      <td>08:37:09</td>\n",
       "      <td>Monday</td>\n",
       "    </tr>\n",
       "    <tr>\n",
       "      <td>4</td>\n",
       "      <td>E2DC1FAE</td>\n",
       "      <td>Soul People</td>\n",
       "      <td>Space Echo</td>\n",
       "      <td>dance</td>\n",
       "      <td>Moscow</td>\n",
       "      <td>08:34:34</td>\n",
       "      <td>Monday</td>\n",
       "    </tr>\n",
       "    <tr>\n",
       "      <td>5</td>\n",
       "      <td>842029A1</td>\n",
       "      <td>Преданная</td>\n",
       "      <td>IMPERVTOR</td>\n",
       "      <td>rusrap</td>\n",
       "      <td>Saint-Petersburg</td>\n",
       "      <td>13:09:41</td>\n",
       "      <td>Friday</td>\n",
       "    </tr>\n",
       "    <tr>\n",
       "      <td>6</td>\n",
       "      <td>4CB90AA5</td>\n",
       "      <td>True</td>\n",
       "      <td>Roman Messer</td>\n",
       "      <td>dance</td>\n",
       "      <td>Moscow</td>\n",
       "      <td>13:00:07</td>\n",
       "      <td>Wednesday</td>\n",
       "    </tr>\n",
       "    <tr>\n",
       "      <td>7</td>\n",
       "      <td>F03E1C1F</td>\n",
       "      <td>Feeling This Way</td>\n",
       "      <td>Polina Griffith</td>\n",
       "      <td>dance</td>\n",
       "      <td>Moscow</td>\n",
       "      <td>20:47:49</td>\n",
       "      <td>Wednesday</td>\n",
       "    </tr>\n",
       "    <tr>\n",
       "      <td>8</td>\n",
       "      <td>8FA1D3BE</td>\n",
       "      <td>И вновь продолжается бой</td>\n",
       "      <td>NaN</td>\n",
       "      <td>ruspop</td>\n",
       "      <td>Moscow</td>\n",
       "      <td>09:17:40</td>\n",
       "      <td>Friday</td>\n",
       "    </tr>\n",
       "    <tr>\n",
       "      <td>9</td>\n",
       "      <td>E772D5C0</td>\n",
       "      <td>Pessimist</td>\n",
       "      <td>NaN</td>\n",
       "      <td>dance</td>\n",
       "      <td>Saint-Petersburg</td>\n",
       "      <td>21:20:49</td>\n",
       "      <td>Wednesday</td>\n",
       "    </tr>\n",
       "  </tbody>\n",
       "</table>\n",
       "</div>"
      ],
      "text/plain": [
       "     userID                        Track            artist   genre  \\\n",
       "0  FFB692EC            Kamigata To Boots  The Mass Missile    rock   \n",
       "1  55204538  Delayed Because of Accident  Andreas Rönnberg    rock   \n",
       "2    20EC38            Funiculì funiculà       Mario Lanza     pop   \n",
       "3  A3DD03C9        Dragons in the Sunset        Fire + Ice    folk   \n",
       "4  E2DC1FAE                  Soul People        Space Echo   dance   \n",
       "5  842029A1                    Преданная         IMPERVTOR  rusrap   \n",
       "6  4CB90AA5                         True      Roman Messer   dance   \n",
       "7  F03E1C1F             Feeling This Way   Polina Griffith   dance   \n",
       "8  8FA1D3BE     И вновь продолжается бой               NaN  ruspop   \n",
       "9  E772D5C0                    Pessimist               NaN   dance   \n",
       "\n",
       "             City        time        Day  \n",
       "0  Saint-Petersburg  20:28:33  Wednesday  \n",
       "1            Moscow  14:07:09     Friday  \n",
       "2  Saint-Petersburg  20:58:07  Wednesday  \n",
       "3  Saint-Petersburg  08:37:09     Monday  \n",
       "4            Moscow  08:34:34     Monday  \n",
       "5  Saint-Petersburg  13:09:41     Friday  \n",
       "6            Moscow  13:00:07  Wednesday  \n",
       "7            Moscow  20:47:49  Wednesday  \n",
       "8            Moscow  09:17:40     Friday  \n",
       "9  Saint-Petersburg  21:20:49  Wednesday  "
      ]
     },
     "execution_count": 3,
     "metadata": {},
     "output_type": "execute_result"
    }
   ],
   "source": [
    "# получение первых 10 строк таблицы df\n",
    "df.head(10)"
   ]
  },
  {
   "cell_type": "markdown",
   "metadata": {
    "id": "EO73Kwic_Zct"
   },
   "source": [
    "Одной командой получить общую информацию о таблице:"
   ]
  },
  {
   "cell_type": "code",
   "execution_count": 4,
   "metadata": {
    "id": "DSf2kIb-_Zct"
   },
   "outputs": [
    {
     "name": "stdout",
     "output_type": "stream",
     "text": [
      "<class 'pandas.core.frame.DataFrame'>\n",
      "RangeIndex: 65079 entries, 0 to 65078\n",
      "Data columns (total 7 columns):\n",
      "  userID    65079 non-null object\n",
      "Track       63848 non-null object\n",
      "artist      57876 non-null object\n",
      "genre       63881 non-null object\n",
      "  City      65079 non-null object\n",
      "time        65079 non-null object\n",
      "Day         65079 non-null object\n",
      "dtypes: object(7)\n",
      "memory usage: 3.5+ MB\n"
     ]
    }
   ],
   "source": [
    "# получение общей информации о данных в таблице df\n",
    "df.info()"
   ]
  },
  {
   "cell_type": "markdown",
   "metadata": {
    "id": "TaQ2Iwbr_Zct"
   },
   "source": [
    "Итак, в таблице семь столбцов. Тип данных во всех столбцах — `object`.\n",
    "\n",
    "Согласно документации к данным:\n",
    "* `userID` — идентификатор пользователя;\n",
    "* `Track` — название трека;  \n",
    "* `artist` — имя исполнителя;\n",
    "* `genre` — название жанра;\n",
    "* `City` — город пользователя;\n",
    "* `time` — время начала прослушивания;\n",
    "* `Day` — день недели.\n",
    "\n",
    "В названиях колонок видны три нарушения стиля:\n",
    "1. Строчные буквы сочетаются с прописными.\n",
    "2. Встречаются пробелы.\n",
    "3. Два слова сливаются в одно без нижнего подчеркивания.\n",
    "\n",
    "\n",
    "\n",
    "Количество значений в столбцах различается. Значит, в данных есть пропущенные значения.\n"
   ]
  },
  {
   "cell_type": "markdown",
   "metadata": {
    "id": "MCB6-dXG_Zct"
   },
   "source": [
    "**Выводы**\n",
    "\n",
    "В каждой строке таблицы — данные о прослушанном треке. Часть колонок описывает саму композицию: название, исполнителя и жанр. Остальные данные рассказывают о пользователе: из какого он города, когда он слушал музыку. \n",
    "\n",
    "Предварительно можно утверждать, что, данных достаточно для проверки гипотез. Но встречаются пропуски в данных, а в названиях колонок — расхождения с хорошим стилем.\n",
    "\n",
    "Чтобы двигаться дальше, нужно устранить проблемы в данных."
   ]
  },
  {
   "cell_type": "markdown",
   "metadata": {
    "id": "SjYF6Ub9_Zct"
   },
   "source": [
    "## Предобработка данных\n",
    "Исправим стиль в заголовках столбцов, исключим пропуски. Затем проверим данные на дубликаты."
   ]
  },
  {
   "cell_type": "markdown",
   "metadata": {
    "id": "dIaKXr29_Zct"
   },
   "source": [
    "### Стиль заголовков\n",
    "Выведем на экран названия столбцов:"
   ]
  },
  {
   "cell_type": "code",
   "execution_count": 5,
   "metadata": {
    "id": "oKOTdF_Q_Zct"
   },
   "outputs": [
    {
     "data": {
      "text/plain": [
       "Index(['  userID', 'Track', 'artist', 'genre', '  City  ', 'time', 'Day'], dtype='object')"
      ]
     },
     "execution_count": 5,
     "metadata": {},
     "output_type": "execute_result"
    }
   ],
   "source": [
    "# перечень названий столбцов таблицы df\n",
    "df.columns"
   ]
  },
  {
   "cell_type": "markdown",
   "metadata": {
    "id": "zj5534cv_Zct"
   },
   "source": [
    "Приведем названия в соответствие с хорошим стилем:\n",
    "* несколько слов в названии запишите в «змеином_регистре»,\n",
    "* все символы сделайте строчными,\n",
    "* устраните пробелы.\n",
    "\n",
    "Для этого переименуем колонки так:\n",
    "* `'  userID'` → `'user_id'`;\n",
    "* `'Track'` → `'track'`;\n",
    "* `'  City  '` → `'city'`;\n",
    "* `'Day'` → `'day'`."
   ]
  },
  {
   "cell_type": "code",
   "execution_count": 6,
   "metadata": {
    "id": "ISlFqs5y_Zct"
   },
   "outputs": [],
   "source": [
    "# переименование столбцов\n",
    "df = df.rename(columns={\n",
    "    '  userID': 'user_id', \n",
    "    'Track': 'track', \n",
    "    '  City  ': 'city', \n",
    "    'Day': 'day'})"
   ]
  },
  {
   "cell_type": "code",
   "execution_count": 7,
   "metadata": {},
   "outputs": [],
   "source": [
    "df = df.rename(columns = {\n",
    "    '  userID':'user_id',\n",
    "    'Track':'track',\n",
    "    '  City  ':'city',\n",
    "    'Day':'day'})# переименование столбцов"
   ]
  },
  {
   "cell_type": "markdown",
   "metadata": {
    "id": "1dqbh00J_Zct"
   },
   "source": [
    "Проверим результат. Для этого ещё раз выведем на экран названия столбцов:"
   ]
  },
  {
   "cell_type": "code",
   "execution_count": 8,
   "metadata": {
    "id": "d4NOAmTW_Zct"
   },
   "outputs": [
    {
     "data": {
      "text/plain": [
       "Index(['user_id', 'track', 'artist', 'genre', 'city', 'time', 'day'], dtype='object')"
      ]
     },
     "execution_count": 8,
     "metadata": {},
     "output_type": "execute_result"
    }
   ],
   "source": [
    "# проверка результатов - перечень названий столбцов\n",
    "df.columns"
   ]
  },
  {
   "cell_type": "markdown",
   "metadata": {
    "id": "5ISfbcfY_Zct"
   },
   "source": [
    "### Пропуски значений\n",
    "Сначала посчитаем, сколько в таблице пропущенных значений. Для этого достаточно двух методов `pandas`:"
   ]
  },
  {
   "cell_type": "code",
   "execution_count": 9,
   "metadata": {
    "id": "RskX29qr_Zct"
   },
   "outputs": [
    {
     "data": {
      "text/plain": [
       "user_id       0\n",
       "track      1231\n",
       "artist     7203\n",
       "genre      1198\n",
       "city          0\n",
       "time          0\n",
       "day           0\n",
       "dtype: int64"
      ]
     },
     "execution_count": 9,
     "metadata": {},
     "output_type": "execute_result"
    }
   ],
   "source": [
    "# подсчёт пропусков\n",
    "df.isna().sum()"
   ]
  },
  {
   "cell_type": "markdown",
   "metadata": {
    "id": "qubhgnlO_Zct"
   },
   "source": [
    "Не все пропущенные значения влияют на исследование. Так в `track` и `artist` пропуски не важны для нашей работы. Достаточно заменить их явными обозначениями.\n",
    "\n",
    "Но пропуски в `genre` могут помешать сравнению музыкальных вкусов в Москве и Санкт-Петербурге. На практике было бы правильно установить причину пропусков и восстановить данные. Такой возможности нет в учебном проекте. Придётся:\n",
    "* заполнить и эти пропуски явными обозначениями,\n",
    "* оценить, насколько они повредят расчётам. "
   ]
  },
  {
   "cell_type": "markdown",
   "metadata": {
    "id": "fSv2laPA_Zct"
   },
   "source": [
    "Заменим пропущенные значения в столбцах `track`, `artist` и `genre` на строку `'unknown'`. Для этого создадим список `columns_to_replace`, переберем его элементы циклом `for` и для каждого столбца выполним замену пропущенных значений:"
   ]
  },
  {
   "cell_type": "code",
   "execution_count": 10,
   "metadata": {
    "id": "KplB5qWs_Zct"
   },
   "outputs": [],
   "source": [
    "# перебор названий столбцов в цикле и замена пропущенных значений на 'unknown'\n",
    "columns_to_replace = ['track', 'artist', 'genre']\n",
    "for column in columns_to_replace:\n",
    "    df[column] = df[column].fillna('unknown')\n",
    "\n",
    "    "
   ]
  },
  {
   "cell_type": "markdown",
   "metadata": {
    "id": "Ilsm-MZo_Zct"
   },
   "source": [
    "Убедимся, что в таблице не осталось пропусков. Для этого ещё раз посчитаем пропущенные значения."
   ]
  },
  {
   "cell_type": "code",
   "execution_count": 11,
   "metadata": {
    "id": "Tq4nYRX4_Zct"
   },
   "outputs": [
    {
     "data": {
      "text/plain": [
       "user_id    0\n",
       "track      0\n",
       "artist     0\n",
       "genre      0\n",
       "city       0\n",
       "time       0\n",
       "day        0\n",
       "dtype: int64"
      ]
     },
     "execution_count": 11,
     "metadata": {},
     "output_type": "execute_result"
    }
   ],
   "source": [
    "# подсчёт пропусков\n",
    "df.isna().sum()"
   ]
  },
  {
   "cell_type": "markdown",
   "metadata": {
    "id": "BWKRtBJ3_Zct"
   },
   "source": [
    "### Дубликаты\n",
    "Посчитаем явные дубликаты в таблице одной командой:"
   ]
  },
  {
   "cell_type": "code",
   "execution_count": 12,
   "metadata": {
    "id": "36eES_S0_Zct"
   },
   "outputs": [
    {
     "data": {
      "text/plain": [
       "3826"
      ]
     },
     "execution_count": 12,
     "metadata": {},
     "output_type": "execute_result"
    }
   ],
   "source": [
    "# подсчёт явных дубликатов\n",
    "df.duplicated().sum()"
   ]
  },
  {
   "cell_type": "markdown",
   "metadata": {
    "id": "Ot25h6XR_Zct"
   },
   "source": [
    "Вызовим специальный метод `pandas`, чтобы удалить явные дубликаты:"
   ]
  },
  {
   "cell_type": "code",
   "execution_count": 13,
   "metadata": {
    "id": "exFHq6tt_Zct"
   },
   "outputs": [],
   "source": [
    "# удаление явных дубликатов (с удалением старых индексов и формированием новых)\n",
    "df = df.drop_duplicates().reset_index(drop = True)"
   ]
  },
  {
   "cell_type": "markdown",
   "metadata": {
    "id": "Im2YwBEG_Zct"
   },
   "source": [
    "Ещё раз посчитаем явные дубликаты в таблице — убедимся, что полностью от них избавились:"
   ]
  },
  {
   "cell_type": "code",
   "execution_count": 14,
   "metadata": {
    "id": "-8PuNWQ0_Zct"
   },
   "outputs": [
    {
     "data": {
      "text/plain": [
       "0"
      ]
     },
     "execution_count": 14,
     "metadata": {},
     "output_type": "execute_result"
    }
   ],
   "source": [
    "# проверка на отсутствие дубликатов\n",
    "df.duplicated().sum()"
   ]
  },
  {
   "cell_type": "markdown",
   "metadata": {
    "id": "QlFBsxAr_Zct"
   },
   "source": [
    "Теперь избавимся от неявных дубликатов в колонке `genre`. Например, название одного и того же жанра может быть записано немного по-разному. Такие ошибки тоже повлияют на результат исследования."
   ]
  },
  {
   "cell_type": "code",
   "execution_count": 15,
   "metadata": {},
   "outputs": [
    {
     "name": "stdout",
     "output_type": "stream",
     "text": [
      "Количество пропусков: 0\n"
     ]
    }
   ],
   "source": [
    "print(\"Количество пропусков: {}\".format(df.duplicated().sum()))"
   ]
  },
  {
   "cell_type": "markdown",
   "metadata": {
    "id": "eSjWwsOh_Zct"
   },
   "source": [
    "Выведем на экран список уникальных названий жанров, отсортированный в алфавитном порядке. Для этого:\n",
    "* извлечем нужный столбец датафрейма, \n",
    "* применим к нему метод сортировки,\n",
    "* для отсортированного столбца вызовим метод, который вернёт уникальные значения из столбца."
   ]
  },
  {
   "cell_type": "code",
   "execution_count": 16,
   "metadata": {
    "id": "JIUcqzZN_Zct",
    "scrolled": true
   },
   "outputs": [
    {
     "data": {
      "text/plain": [
       "array(['acid', 'acoustic', 'action', 'adult', 'africa', 'afrikaans',\n",
       "       'alternative', 'alternativepunk', 'ambient', 'americana',\n",
       "       'animated', 'anime', 'arabesk', 'arabic', 'arena',\n",
       "       'argentinetango', 'art', 'audiobook', 'author', 'avantgarde',\n",
       "       'axé', 'baile', 'balkan', 'beats', 'bigroom', 'black', 'bluegrass',\n",
       "       'blues', 'bollywood', 'bossa', 'brazilian', 'breakbeat', 'breaks',\n",
       "       'broadway', 'cantautori', 'cantopop', 'canzone', 'caribbean',\n",
       "       'caucasian', 'celtic', 'chamber', 'chanson', 'children', 'chill',\n",
       "       'chinese', 'choral', 'christian', 'christmas', 'classical',\n",
       "       'classicmetal', 'club', 'colombian', 'comedy', 'conjazz',\n",
       "       'contemporary', 'country', 'cuban', 'dance', 'dancehall',\n",
       "       'dancepop', 'dark', 'death', 'deep', 'deutschrock', 'deutschspr',\n",
       "       'dirty', 'disco', 'dnb', 'documentary', 'downbeat', 'downtempo',\n",
       "       'drum', 'dub', 'dubstep', 'eastern', 'easy', 'electronic',\n",
       "       'electropop', 'emo', 'entehno', 'epicmetal', 'estrada', 'ethnic',\n",
       "       'eurofolk', 'european', 'experimental', 'extrememetal', 'fado',\n",
       "       'fairytail', 'film', 'fitness', 'flamenco', 'folk', 'folklore',\n",
       "       'folkmetal', 'folkrock', 'folktronica', 'forró', 'frankreich',\n",
       "       'französisch', 'french', 'funk', 'future', 'gangsta', 'garage',\n",
       "       'german', 'ghazal', 'gitarre', 'glitch', 'gospel', 'gothic',\n",
       "       'grime', 'grunge', 'gypsy', 'handsup', \"hard'n'heavy\", 'hardcore',\n",
       "       'hardstyle', 'hardtechno', 'hip', 'hip-hop', 'hiphop',\n",
       "       'historisch', 'holiday', 'hop', 'horror', 'house', 'hymn', 'idm',\n",
       "       'independent', 'indian', 'indie', 'indipop', 'industrial',\n",
       "       'inspirational', 'instrumental', 'international', 'irish', 'jam',\n",
       "       'japanese', 'jazz', 'jewish', 'jpop', 'jungle', 'k-pop',\n",
       "       'karadeniz', 'karaoke', 'kayokyoku', 'korean', 'laiko', 'latin',\n",
       "       'latino', 'leftfield', 'local', 'lounge', 'loungeelectronic',\n",
       "       'lovers', 'malaysian', 'mandopop', 'marschmusik', 'meditative',\n",
       "       'mediterranean', 'melodic', 'metal', 'metalcore', 'mexican',\n",
       "       'middle', 'minimal', 'miscellaneous', 'modern', 'mood', 'mpb',\n",
       "       'muslim', 'native', 'neoklassik', 'neue', 'new', 'newage',\n",
       "       'newwave', 'nu', 'nujazz', 'numetal', 'oceania', 'old', 'opera',\n",
       "       'orchestral', 'other', 'piano', 'podcasts', 'pop', 'popdance',\n",
       "       'popelectronic', 'popeurodance', 'poprussian', 'post',\n",
       "       'posthardcore', 'postrock', 'power', 'progmetal', 'progressive',\n",
       "       'psychedelic', 'punjabi', 'punk', 'quebecois', 'ragga', 'ram',\n",
       "       'rancheras', 'rap', 'rave', 'reggae', 'reggaeton', 'regional',\n",
       "       'relax', 'religious', 'retro', 'rhythm', 'rnb', 'rnr', 'rock',\n",
       "       'rockabilly', 'rockalternative', 'rockindie', 'rockother',\n",
       "       'romance', 'roots', 'ruspop', 'rusrap', 'rusrock', 'russian',\n",
       "       'salsa', 'samba', 'scenic', 'schlager', 'self', 'sertanejo',\n",
       "       'shanson', 'shoegazing', 'showtunes', 'singer', 'ska', 'skarock',\n",
       "       'slow', 'smooth', 'soft', 'soul', 'soulful', 'sound', 'soundtrack',\n",
       "       'southern', 'specialty', 'speech', 'spiritual', 'sport',\n",
       "       'stonerrock', 'surf', 'swing', 'synthpop', 'synthrock',\n",
       "       'sängerportrait', 'tango', 'tanzorchester', 'taraftar', 'tatar',\n",
       "       'tech', 'techno', 'teen', 'thrash', 'top', 'traditional',\n",
       "       'tradjazz', 'trance', 'tribal', 'trip', 'triphop', 'tropical',\n",
       "       'türk', 'türkçe', 'ukrrock', 'unknown', 'urban', 'uzbek',\n",
       "       'variété', 'vi', 'videogame', 'vocal', 'western', 'world',\n",
       "       'worldbeat', 'ïîï', 'электроника'], dtype=object)"
      ]
     },
     "execution_count": 16,
     "metadata": {},
     "output_type": "execute_result"
    }
   ],
   "source": [
    "# Просмотр уникальных названий жанров\n",
    "df['genre'].sort_values().unique()\n"
   ]
  },
  {
   "cell_type": "markdown",
   "metadata": {
    "id": "qej-Qmuo_Zct"
   },
   "source": [
    "Просмотрим список и найдем неявные дубликаты названия `hiphop`. Это могут быть названия с ошибками или альтернативные названия того же жанра.\n",
    "\n",
    "Мы увидим следующие неявные дубликаты:\n",
    "* *hip*,\n",
    "* *hop*,\n",
    "* *hip-hop*.\n",
    "\n",
    "Чтобы очистить от них таблицу, напишем функцию `replace_wrong_genres()` с двумя параметрами: \n",
    "* `wrong_genres` — список дубликатов,\n",
    "* `correct_genre` — строка с правильным значением.\n",
    "\n",
    "Функция должна исправить колонку `genre` в таблице `df`: заменить каждое значение из списка `wrong_genres` на значение из `correct_genre`."
   ]
  },
  {
   "cell_type": "code",
   "execution_count": 17,
   "metadata": {
    "id": "ErNDkmns_Zct"
   },
   "outputs": [],
   "source": [
    "# Функция для замены неявных дубликатов\n",
    "def replace_wrong_genres(wrong_genres, correct_genre):\n",
    "    for wrong_genre in wrong_genres:\n",
    "        df['genre'] = df['genre'].replace(wrong_genres, correct_genre)\n",
    "        \n",
    "    "
   ]
  },
  {
   "cell_type": "markdown",
   "metadata": {
    "id": "aDoBJxbA_Zct"
   },
   "source": [
    "Вызовем `replace_wrong_genres` и передадим ей такие аргументы, чтобы она устранила неявные дубликаты: вместо `hip`, `hop` и `hip-hop` в таблице должно быть значение `hiphop`:"
   ]
  },
  {
   "cell_type": "code",
   "execution_count": 18,
   "metadata": {
    "id": "YN5i2hpmSo09"
   },
   "outputs": [],
   "source": [
    "# Устранение неявных дубликатов\n",
    "duplicates = ['hip', 'hop', 'hip-hop']\n",
    "name = 'hiphop'\n",
    "replace_wrong_genres(duplicates, name)"
   ]
  },
  {
   "cell_type": "markdown",
   "metadata": {
    "id": "zQKF16_RG15m"
   },
   "source": [
    "Проверим, что заменили неправильные названия:\n",
    "\n",
    "*   hip\n",
    "*   hop\n",
    "*   hip-hop\n",
    "\n",
    "Выведем отсортированный список уникальных значений столбца `genre`:"
   ]
  },
  {
   "cell_type": "code",
   "execution_count": 19,
   "metadata": {
    "id": "wvixALnFG15m",
    "scrolled": true
   },
   "outputs": [
    {
     "data": {
      "text/plain": [
       "array(['acid', 'acoustic', 'action', 'adult', 'africa', 'afrikaans',\n",
       "       'alternative', 'alternativepunk', 'ambient', 'americana',\n",
       "       'animated', 'anime', 'arabesk', 'arabic', 'arena',\n",
       "       'argentinetango', 'art', 'audiobook', 'author', 'avantgarde',\n",
       "       'axé', 'baile', 'balkan', 'beats', 'bigroom', 'black', 'bluegrass',\n",
       "       'blues', 'bollywood', 'bossa', 'brazilian', 'breakbeat', 'breaks',\n",
       "       'broadway', 'cantautori', 'cantopop', 'canzone', 'caribbean',\n",
       "       'caucasian', 'celtic', 'chamber', 'chanson', 'children', 'chill',\n",
       "       'chinese', 'choral', 'christian', 'christmas', 'classical',\n",
       "       'classicmetal', 'club', 'colombian', 'comedy', 'conjazz',\n",
       "       'contemporary', 'country', 'cuban', 'dance', 'dancehall',\n",
       "       'dancepop', 'dark', 'death', 'deep', 'deutschrock', 'deutschspr',\n",
       "       'dirty', 'disco', 'dnb', 'documentary', 'downbeat', 'downtempo',\n",
       "       'drum', 'dub', 'dubstep', 'eastern', 'easy', 'electronic',\n",
       "       'electropop', 'emo', 'entehno', 'epicmetal', 'estrada', 'ethnic',\n",
       "       'eurofolk', 'european', 'experimental', 'extrememetal', 'fado',\n",
       "       'fairytail', 'film', 'fitness', 'flamenco', 'folk', 'folklore',\n",
       "       'folkmetal', 'folkrock', 'folktronica', 'forró', 'frankreich',\n",
       "       'französisch', 'french', 'funk', 'future', 'gangsta', 'garage',\n",
       "       'german', 'ghazal', 'gitarre', 'glitch', 'gospel', 'gothic',\n",
       "       'grime', 'grunge', 'gypsy', 'handsup', \"hard'n'heavy\", 'hardcore',\n",
       "       'hardstyle', 'hardtechno', 'hiphop', 'historisch', 'holiday',\n",
       "       'horror', 'house', 'hymn', 'idm', 'independent', 'indian', 'indie',\n",
       "       'indipop', 'industrial', 'inspirational', 'instrumental',\n",
       "       'international', 'irish', 'jam', 'japanese', 'jazz', 'jewish',\n",
       "       'jpop', 'jungle', 'k-pop', 'karadeniz', 'karaoke', 'kayokyoku',\n",
       "       'korean', 'laiko', 'latin', 'latino', 'leftfield', 'local',\n",
       "       'lounge', 'loungeelectronic', 'lovers', 'malaysian', 'mandopop',\n",
       "       'marschmusik', 'meditative', 'mediterranean', 'melodic', 'metal',\n",
       "       'metalcore', 'mexican', 'middle', 'minimal', 'miscellaneous',\n",
       "       'modern', 'mood', 'mpb', 'muslim', 'native', 'neoklassik', 'neue',\n",
       "       'new', 'newage', 'newwave', 'nu', 'nujazz', 'numetal', 'oceania',\n",
       "       'old', 'opera', 'orchestral', 'other', 'piano', 'podcasts', 'pop',\n",
       "       'popdance', 'popelectronic', 'popeurodance', 'poprussian', 'post',\n",
       "       'posthardcore', 'postrock', 'power', 'progmetal', 'progressive',\n",
       "       'psychedelic', 'punjabi', 'punk', 'quebecois', 'ragga', 'ram',\n",
       "       'rancheras', 'rap', 'rave', 'reggae', 'reggaeton', 'regional',\n",
       "       'relax', 'religious', 'retro', 'rhythm', 'rnb', 'rnr', 'rock',\n",
       "       'rockabilly', 'rockalternative', 'rockindie', 'rockother',\n",
       "       'romance', 'roots', 'ruspop', 'rusrap', 'rusrock', 'russian',\n",
       "       'salsa', 'samba', 'scenic', 'schlager', 'self', 'sertanejo',\n",
       "       'shanson', 'shoegazing', 'showtunes', 'singer', 'ska', 'skarock',\n",
       "       'slow', 'smooth', 'soft', 'soul', 'soulful', 'sound', 'soundtrack',\n",
       "       'southern', 'specialty', 'speech', 'spiritual', 'sport',\n",
       "       'stonerrock', 'surf', 'swing', 'synthpop', 'synthrock',\n",
       "       'sängerportrait', 'tango', 'tanzorchester', 'taraftar', 'tatar',\n",
       "       'tech', 'techno', 'teen', 'thrash', 'top', 'traditional',\n",
       "       'tradjazz', 'trance', 'tribal', 'trip', 'triphop', 'tropical',\n",
       "       'türk', 'türkçe', 'ukrrock', 'unknown', 'urban', 'uzbek',\n",
       "       'variété', 'vi', 'videogame', 'vocal', 'western', 'world',\n",
       "       'worldbeat', 'ïîï', 'электроника'], dtype=object)"
      ]
     },
     "execution_count": 19,
     "metadata": {},
     "output_type": "execute_result"
    }
   ],
   "source": [
    "# Проверка на неявные дубликаты\n",
    "df['genre'].sort_values().unique()"
   ]
  },
  {
   "cell_type": "markdown",
   "metadata": {
    "id": "jz6a9-7HQUDd"
   },
   "source": [
    "**Выводы**\n",
    "\n",
    "Предобработка обнаружила три проблемы в данных:\n",
    "\n",
    "- нарушения в стиле заголовков,\n",
    "- пропущенные значения,\n",
    "- дубликаты — явные и неявные.\n",
    "\n",
    "Мы исправили заголовки, чтобы упростить работу с таблицей. Без дубликатов исследование станет более точным.\n",
    "\n",
    "Теперь можно перейти к проверке гипотез. "
   ]
  },
  {
   "cell_type": "markdown",
   "metadata": {
    "id": "WttZHXH0SqKk"
   },
   "source": [
    "## Проверка гипотез"
   ]
  },
  {
   "cell_type": "markdown",
   "metadata": {
    "id": "Im936VVi_Zcu"
   },
   "source": [
    "### Сравнение поведения пользователей двух столиц"
   ]
  },
  {
   "cell_type": "markdown",
   "metadata": {
    "id": "nwt_MuaL_Zcu"
   },
   "source": [
    "Первая гипотеза утверждает, что пользователи по-разному слушают музыку в Москве и Санкт-Петербурге. Проверим это предположение по данным о трёх днях недели — понедельнике, среде и пятнице. Для этого:\n",
    "\n",
    "* Разделим пользователей Москвы и Санкт-Петербурга\n",
    "* Сравним, сколько треков послушала каждая группа пользователей в понедельник, среду и пятницу.\n"
   ]
  },
  {
   "cell_type": "markdown",
   "metadata": {
    "id": "8Dw_YMmT_Zcu"
   },
   "source": [
    "Для тренировки сначала выполним каждый из расчётов по отдельности. \n",
    "\n",
    "Оценим активность пользователей в каждом городе. Сгруппируем данные по городу и посчитаем прослушивания в каждой группе.\n",
    "\n"
   ]
  },
  {
   "cell_type": "code",
   "execution_count": 20,
   "metadata": {
    "id": "0_Qs96oh_Zcu",
    "scrolled": false
   },
   "outputs": [
    {
     "data": {
      "text/plain": [
       "city\n",
       "Moscow              42741\n",
       "Saint-Petersburg    18512\n",
       "Name: genre, dtype: int64"
      ]
     },
     "execution_count": 20,
     "metadata": {},
     "output_type": "execute_result"
    }
   ],
   "source": [
    "# Подсчёт прослушиваний в каждом городе\n",
    "df.groupby('city')['genre'].count()"
   ]
  },
  {
   "cell_type": "markdown",
   "metadata": {
    "id": "dzli3w8o_Zcu"
   },
   "source": [
    "В Москве прослушиваний больше, чем в Петербурге. Из этого не следует, что московские пользователи чаще слушают музыку. Просто самих пользователей в Москве больше.\n",
    "\n",
    "Теперь сгруппируем данные по дню недели и подсчитаем прослушивания в понедельник, среду и пятницу. Учтем, что в данных есть информация только о прослушиваниях только за эти дни.\n"
   ]
  },
  {
   "cell_type": "code",
   "execution_count": 21,
   "metadata": {
    "id": "uZMKjiJz_Zcu"
   },
   "outputs": [
    {
     "data": {
      "text/plain": [
       "day\n",
       "Friday       21840\n",
       "Monday       21354\n",
       "Wednesday    18059\n",
       "Name: genre, dtype: int64"
      ]
     },
     "execution_count": 21,
     "metadata": {},
     "output_type": "execute_result"
    }
   ],
   "source": [
    "# Подсчёт прослушиваний в каждый из трёх дней\n",
    "df.groupby('day')['genre'].count()"
   ]
  },
  {
   "cell_type": "markdown",
   "metadata": {
    "id": "cC2tNrlL_Zcu"
   },
   "source": [
    "В среднем пользователи из двух городов менее активны по средам. Но картина может измениться, если рассмотреть каждый город в отдельности."
   ]
  },
  {
   "cell_type": "markdown",
   "metadata": {
    "id": "POzs8bGa_Zcu"
   },
   "source": [
    "Мы видели, как работает группировка по городу и по дням недели. Теперь напишем функцию, которая объединит два эти расчёта.\n",
    "\n",
    "Создадим функцию `number_tracks()`, которая посчитает прослушивания для заданного дня и города. Ей понадобятся два параметра:\n",
    "* день недели,\n",
    "* название города.\n",
    "\n",
    "В функции сохраним в переменную строки исходной таблицы, у которых значение:\n",
    "  * в колонке `day` равно параметру `day`,\n",
    "  * в колонке `city` равно параметру `city`.\n",
    "\n",
    "Для этого применим последовательную фильтрацию с логической индексацией.\n",
    "\n",
    "Затем посчитаем значения в столбце `user_id` получившейся таблицы. Результат сохраним в новую переменную. Вернем эту переменную из функции."
   ]
  },
  {
   "cell_type": "code",
   "execution_count": 22,
   "metadata": {
    "id": "Nz3GdQB1_Zcu"
   },
   "outputs": [],
   "source": [
    "#<создание функции number_tracks()>\n",
    "# Объявляется функция с двумя параметрами: day, city.\n",
    "def number_tracks(day, city):\n",
    "# В переменной track_list сохраняются те строки таблицы df, для которых \n",
    "# значение в столбце 'day' равно параметру day и одновременно значение\n",
    "# в столбце 'city' равно параметру city (используем последовательную фильтрацию\n",
    "# с помощью логической индексации).\n",
    "    track_list = df[(df['day'] == day) & (df['city'] == city)]\n",
    "# В переменной track_list_count сохраняется число значений столбца 'user_id',\n",
    "# рассчитанное методом count() для таблицы track_list.\n",
    "    track_list_count = track_list['user_id'].count()\n",
    "# Функция возвращает число - значение track_list_count.\n",
    "    return track_list_count\n",
    "# Функция для подсчёта прослушиваний для конкретного города и дня.\n",
    "# С помощью последовательной фильтрации с логической индексацией она \n",
    "# сначала получит из исходной таблицы строки с нужным днём,\n",
    "# затем из результата отфильтрует строки с нужным городом,\n",
    "# методом count() посчитает количество значений в колонке user_id. \n",
    "# Это количество функция вернёт в качестве результата"
   ]
  },
  {
   "cell_type": "markdown",
   "metadata": {
    "id": "ytf7xFrFJQ2r"
   },
   "source": [
    "Вызовем `number_tracks()` шесть раз, меняя значение параметров — так, чтобы получить данные для каждого города в каждый из трёх дней."
   ]
  },
  {
   "cell_type": "code",
   "execution_count": 23,
   "metadata": {
    "id": "rJcRATNQ_Zcu"
   },
   "outputs": [
    {
     "data": {
      "text/plain": [
       "15740"
      ]
     },
     "execution_count": 23,
     "metadata": {},
     "output_type": "execute_result"
    }
   ],
   "source": [
    "# количество прослушиваний в Москве по понедельникам\n",
    "number_tracks('Monday', 'Moscow')"
   ]
  },
  {
   "cell_type": "code",
   "execution_count": 24,
   "metadata": {
    "id": "hq_ncZ5T_Zcu"
   },
   "outputs": [
    {
     "data": {
      "text/plain": [
       "5614"
      ]
     },
     "execution_count": 24,
     "metadata": {},
     "output_type": "execute_result"
    }
   ],
   "source": [
    "# количество прослушиваний в Санкт-Петербурге по понедельникам\n",
    "number_tracks('Monday', 'Saint-Petersburg')"
   ]
  },
  {
   "cell_type": "code",
   "execution_count": 25,
   "metadata": {
    "id": "_NTy2VPU_Zcu"
   },
   "outputs": [
    {
     "data": {
      "text/plain": [
       "11056"
      ]
     },
     "execution_count": 25,
     "metadata": {},
     "output_type": "execute_result"
    }
   ],
   "source": [
    "# количество прослушиваний в Москве по средам\n",
    "number_tracks('Wednesday', 'Moscow')"
   ]
  },
  {
   "cell_type": "code",
   "execution_count": 26,
   "metadata": {
    "id": "j2y3TAwo_Zcu"
   },
   "outputs": [
    {
     "data": {
      "text/plain": [
       "7003"
      ]
     },
     "execution_count": 26,
     "metadata": {},
     "output_type": "execute_result"
    }
   ],
   "source": [
    "# количество прослушиваний в Санкт-Петербурге по средам\n",
    "number_tracks('Wednesday', 'Saint-Petersburg')"
   ]
  },
  {
   "cell_type": "code",
   "execution_count": 27,
   "metadata": {
    "id": "vYDw5u_K_Zcu"
   },
   "outputs": [
    {
     "data": {
      "text/plain": [
       "15945"
      ]
     },
     "execution_count": 27,
     "metadata": {},
     "output_type": "execute_result"
    }
   ],
   "source": [
    "# количество прослушиваний в Москве по пятницам\n",
    "number_tracks('Friday', 'Moscow')"
   ]
  },
  {
   "cell_type": "code",
   "execution_count": 28,
   "metadata": {
    "id": "8_yzFtW3_Zcu"
   },
   "outputs": [
    {
     "data": {
      "text/plain": [
       "5895"
      ]
     },
     "execution_count": 28,
     "metadata": {},
     "output_type": "execute_result"
    }
   ],
   "source": [
    "# количество прослушиваний в Санкт-Петербурге по пятницам\n",
    "number_tracks('Friday', 'Saint-Petersburg')"
   ]
  },
  {
   "cell_type": "markdown",
   "metadata": {
    "id": "7QXffbO-_Zcu"
   },
   "source": [
    "Создадим c помощью конструктора `pd.DataFrame` таблицу, где\n",
    "* названия колонок — `['city', 'monday', 'wednesday', 'friday']`;\n",
    "* данные — результаты, которые вы получили с помощью `number_tracks`."
   ]
  },
  {
   "cell_type": "code",
   "execution_count": 29,
   "metadata": {
    "id": "APAcLpOr_Zcu"
   },
   "outputs": [],
   "source": [
    "# Таблица с результатами\n",
    "data = [['Moscow', 15740, 11056, 15945],\n",
    "    ['Saint-Petersburg', 5614, 7003, 5895]]\n",
    "columns = ['city', 'monday', 'wednesday', 'friday']\n",
    "result = pd.DataFrame(data=data, columns = columns)"
   ]
  },
  {
   "cell_type": "markdown",
   "metadata": {
    "id": "-EgPIHYu_Zcu"
   },
   "source": [
    "**Выводы**\n",
    "\n",
    "Данные показывают разницу поведения пользователей:\n",
    "\n",
    "- В Москве пик прослушиваний приходится на понедельник и пятницу, а в среду заметен спад.\n",
    "- В Петербурге, наоборот, больше слушают музыку по средам. Активность в понедельник и пятницу здесь почти в равной мере уступает среде.\n",
    "\n",
    "Значит, данные говорят в пользу первой гипотезы."
   ]
  },
  {
   "cell_type": "markdown",
   "metadata": {
    "id": "atZAxtq4_Zcu"
   },
   "source": [
    "### Музыка в начале и в конце недели"
   ]
  },
  {
   "cell_type": "markdown",
   "metadata": {
    "id": "eXrQqXFH_Zcu"
   },
   "source": [
    "Согласно второй гипотезе, утром в понедельник в Москве преобладают одни жанры, а в Петербурге — другие. Так же и вечером пятницы преобладают разные жанры — в зависимости от города."
   ]
  },
  {
   "cell_type": "markdown",
   "metadata": {
    "id": "S8UcW6Hw_Zcu"
   },
   "source": [
    "Сохраним таблицы с данными в две переменные:\n",
    "* по Москве — в `moscow_general`;\n",
    "* по Санкт-Петербургу — в `spb_general`."
   ]
  },
  {
   "cell_type": "code",
   "execution_count": 30,
   "metadata": {
    "id": "qeaFfM_P_Zcu"
   },
   "outputs": [],
   "source": [
    "# получение таблицы moscow_general из тех строк таблицы df, \n",
    "# для которых значение в столбце 'city' равно 'Moscow'\n",
    "moscow_general = df[df['city'] == 'Moscow']\n"
   ]
  },
  {
   "cell_type": "code",
   "execution_count": 31,
   "metadata": {
    "id": "ORaVRKto_Zcu"
   },
   "outputs": [],
   "source": [
    "# получение таблицы spb_general из тех строк таблицы df,\n",
    "# для которых значение в столбце 'city' равно 'Saint-Petersburg'\n",
    "spb_general = df[df['city'] == 'Saint-Petersburg']\n"
   ]
  },
  {
   "cell_type": "markdown",
   "metadata": {
    "id": "MEJV-CX2_Zcu"
   },
   "source": [
    "Создадим функцию `genre_weekday()` с четырьмя параметрами:\n",
    "* таблица (датафрейм) с данными,\n",
    "* день недели,\n",
    "* начальная временная метка в формате 'hh:mm', \n",
    "* последняя временная метка в формате 'hh:mm'.\n",
    "\n",
    "Функция должна вернуть информацию о топ-10 жанров тех треков, которые прослушивали в указанный день, в промежутке между двумя отметками времени."
   ]
  },
  {
   "cell_type": "code",
   "execution_count": 32,
   "metadata": {
    "id": "laJT9BYl_Zcu"
   },
   "outputs": [],
   "source": [
    "# Объявление функции genre_weekday() с параметрами table, day, time1, time2,\n",
    "# которая возвращает информацию о самых популярных жанрах в указанный день в\n",
    "# заданное время:\n",
    "def genre_weekday(table, day, time1, time2):\n",
    "# 1) в переменную genre_df сохраняются те строки переданного датафрейма table, для\n",
    "#    которых одновременно:\n",
    "#    - значение в столбце day равно значению аргумента day\n",
    "#    - значение в столбце time больше значения аргумента time1\n",
    "#    - значение в столбце time меньше значения аргумента time2\n",
    "#    Используем последовательную фильтрацию с помощью логической индексации.\n",
    "    genre_df = table[(table['day'] == day) & (table['time'] > time1) & (table['time'] < time2)]\n",
    "# 2) сгруппировать датафрейм genre_df по столбцу genre, взять один из его\n",
    "#    столбцов и посчитать методом count() количество записей для каждого из\n",
    "#    присутствующих жанров, получившийся Series записать в переменную\n",
    "#    genre_df_count\n",
    "    genre_df_count = genre_df.groupby('genre')['genre'].count()\n",
    "# 3) отсортировать genre_df_count по убыванию встречаемости и сохранить\n",
    "#    в переменную genre_df_sorted\n",
    "    genre_df_sorted = genre_df_count.sort_values(ascending = False)\n",
    "# 4) вернуть Series из 10 первых значений genre_df_sorted, это будут топ-10\n",
    "#    популярных жанров (в указанный день, в заданное время)\n",
    "    return genre_df_sorted.head(10)"
   ]
  },
  {
   "cell_type": "markdown",
   "metadata": {
    "id": "la2s2_PF_Zcu"
   },
   "source": [
    "Сравним результаты функции `genre_weekday()` для Москвы и Санкт-Петербурга в понедельник утром (с 7:00 до 11:00) и в пятницу вечером (с 17:00 до 23:00):"
   ]
  },
  {
   "cell_type": "code",
   "execution_count": 33,
   "metadata": {
    "id": "yz7itPUQ_Zcu"
   },
   "outputs": [
    {
     "data": {
      "text/plain": [
       "genre\n",
       "pop            781\n",
       "dance          549\n",
       "electronic     480\n",
       "rock           474\n",
       "hiphop         286\n",
       "ruspop         186\n",
       "world          181\n",
       "rusrap         175\n",
       "alternative    164\n",
       "unknown        161\n",
       "Name: genre, dtype: int64"
      ]
     },
     "execution_count": 33,
     "metadata": {},
     "output_type": "execute_result"
    }
   ],
   "source": [
    "# вызов функции для утра понедельника в Москве (вместо df — таблица moscow_general)\n",
    "# объекты, хранящие время, являются строками и сравниваются как строки\n",
    "# пример вызова: genre_weekday(moscow_general, 'Monday', '07:00', '11:00')\n",
    "genre_weekday(moscow_general, 'Monday', '07:00', '11:00')"
   ]
  },
  {
   "cell_type": "code",
   "execution_count": 34,
   "metadata": {
    "id": "kwUcHPdy_Zcu"
   },
   "outputs": [
    {
     "data": {
      "text/plain": [
       "genre\n",
       "pop            218\n",
       "dance          182\n",
       "rock           162\n",
       "electronic     147\n",
       "hiphop          80\n",
       "ruspop          64\n",
       "alternative     58\n",
       "rusrap          55\n",
       "jazz            44\n",
       "classical       40\n",
       "Name: genre, dtype: int64"
      ]
     },
     "execution_count": 34,
     "metadata": {},
     "output_type": "execute_result"
    }
   ],
   "source": [
    "# вызов функции для утра понедельника в Петербурге (вместо df — таблица spb_general)\n",
    "genre_weekday(spb_general, 'Monday', '07:00', '11:00')"
   ]
  },
  {
   "cell_type": "code",
   "execution_count": 35,
   "metadata": {
    "id": "EzXVRE1o_Zcu"
   },
   "outputs": [
    {
     "data": {
      "text/plain": [
       "genre\n",
       "pop            713\n",
       "rock           517\n",
       "dance          495\n",
       "electronic     482\n",
       "hiphop         273\n",
       "world          208\n",
       "ruspop         170\n",
       "alternative    163\n",
       "classical      163\n",
       "rusrap         142\n",
       "Name: genre, dtype: int64"
      ]
     },
     "execution_count": 35,
     "metadata": {},
     "output_type": "execute_result"
    }
   ],
   "source": [
    "# вызов функции для вечера пятницы в Москве\n",
    "genre_weekday(moscow_general, 'Friday', '17:00', '23:00')"
   ]
  },
  {
   "cell_type": "code",
   "execution_count": 36,
   "metadata": {
    "id": "JZaEKu5v_Zcu"
   },
   "outputs": [
    {
     "data": {
      "text/plain": [
       "genre\n",
       "pop            256\n",
       "rock           216\n",
       "electronic     216\n",
       "dance          210\n",
       "hiphop          97\n",
       "alternative     63\n",
       "jazz            61\n",
       "classical       60\n",
       "rusrap          59\n",
       "world           54\n",
       "Name: genre, dtype: int64"
      ]
     },
     "execution_count": 36,
     "metadata": {},
     "output_type": "execute_result"
    }
   ],
   "source": [
    "# вызов функции для вечера пятницы в Петербурге\n",
    "genre_weekday(spb_general, 'Friday', '17:00', '23:00')"
   ]
  },
  {
   "cell_type": "markdown",
   "metadata": {
    "id": "wrCe4MNX_Zcu"
   },
   "source": [
    "**Выводы**\n",
    "\n",
    "Если сравнить топ-10 жанров в понедельник утром, можно сделать такие выводы:\n",
    "\n",
    "1. В Москве и Петербурге слушают похожую музыку. Единственное отличие — в московский рейтинг вошёл жанр “world”, а в петербургский — джаз и классика.\n",
    "\n",
    "2. В Москве пропущенных значений оказалось так много, что значение `'unknown'` заняло десятое место среди самых популярных жанров. Значит, пропущенные значения занимают существенную долю в данных и угрожают достоверности исследования.\n",
    "\n",
    "Вечер пятницы не меняет эту картину. Некоторые жанры поднимаются немного выше, другие спускаются, но в целом топ-10 остаётся тем же самым.\n",
    "\n",
    "Таким образом, вторая гипотеза подтвердилась лишь частично:\n",
    "* Пользователи слушают похожую музыку в начале недели и в конце.\n",
    "* Разница между Москвой и Петербургом не слишком выражена. В Москве чаще слушают русскую популярную музыку, в Петербурге — джаз.\n",
    "\n",
    "Однако пропуски в данных ставят под сомнение этот результат. В Москве их так много, что рейтинг топ-10 мог бы выглядеть иначе, если бы не утерянные  данные о жанрах."
   ]
  },
  {
   "cell_type": "markdown",
   "metadata": {
    "id": "JolODAqr_Zcu"
   },
   "source": [
    "### Жанровые предпочтения в Москве и Петербурге\n",
    "\n",
    "Гипотеза: Петербург — столица рэпа, музыку этого жанра там слушают чаще, чем в Москве.  А Москва — город контрастов, в котором, тем не менее, преобладает поп-музыка."
   ]
  },
  {
   "cell_type": "markdown",
   "metadata": {
    "id": "DlegSvaT_Zcu"
   },
   "source": [
    "Сгруппируем таблицу `moscow_general` по жанру и посчитаем прослушивания треков каждого жанра методом `count()`. Затем отсортируем результат в порядке убывания и сохраним его в таблице `moscow_genres`."
   ]
  },
  {
   "cell_type": "code",
   "execution_count": 37,
   "metadata": {
    "id": "r19lIPke_Zcu"
   },
   "outputs": [],
   "source": [
    "# одной строкой: группировка таблицы moscow_general по столбцу 'genre', \n",
    "# подсчёт числа значений 'genre' в этой группировке методом count(), \n",
    "# сортировка получившегося Series в порядке убывания и сохранение в moscow_genres\n",
    "moscow_genres = moscow_general.groupby('genre')['genre'].count().sort_values(ascending = False)"
   ]
  },
  {
   "cell_type": "markdown",
   "metadata": {
    "id": "6kMuomxTiIr8"
   },
   "source": [
    "Выведем на экран первые десять строк `moscow_genres`:"
   ]
  },
  {
   "cell_type": "code",
   "execution_count": 38,
   "metadata": {
    "id": "WhCSooF8_Zcv"
   },
   "outputs": [
    {
     "data": {
      "text/plain": [
       "genre\n",
       "pop            5892\n",
       "dance          4435\n",
       "rock           3965\n",
       "electronic     3786\n",
       "hiphop         2096\n",
       "classical      1616\n",
       "world          1432\n",
       "alternative    1379\n",
       "ruspop         1372\n",
       "rusrap         1161\n",
       "Name: genre, dtype: int64"
      ]
     },
     "execution_count": 38,
     "metadata": {},
     "output_type": "execute_result"
    }
   ],
   "source": [
    "# просмотр первых 10 строк moscow_genres\n",
    "moscow_genres.head(10)"
   ]
  },
  {
   "cell_type": "markdown",
   "metadata": {
    "id": "cnPG2vnN_Zcv"
   },
   "source": [
    "Теперь пвторим то же и для Петербурга.\n",
    "\n",
    "Сгруппируем таблицу `spb_general` по жанру. Посчитаем прослушивания треков каждого жанра. Результат отсортируем в порядке убывания и сохраним в таблице `spb_genres`:\n"
   ]
  },
  {
   "cell_type": "code",
   "execution_count": 39,
   "metadata": {
    "id": "gluLIpE7_Zcv"
   },
   "outputs": [],
   "source": [
    "# одной строкой: группировка таблицы spb_general по столбцу 'genre', \n",
    "# подсчёт числа значений 'genre' в этой группировке методом count(), \n",
    "# сортировка получившегося Series в порядке убывания и сохранение в spb_genres\n",
    "spb_genres = spb_general.groupby('genre')['genre'].count().sort_values(ascending = False)"
   ]
  },
  {
   "cell_type": "markdown",
   "metadata": {
    "id": "5Doha_ODgyQ8"
   },
   "source": [
    "Выведем на экран первые десять строк `spb_genres`:"
   ]
  },
  {
   "cell_type": "code",
   "execution_count": 40,
   "metadata": {
    "id": "uaGJHjVU_Zcv"
   },
   "outputs": [
    {
     "data": {
      "text/plain": [
       "genre\n",
       "pop            2431\n",
       "dance          1932\n",
       "rock           1879\n",
       "electronic     1736\n",
       "hiphop          960\n",
       "alternative     649\n",
       "classical       646\n",
       "rusrap          564\n",
       "ruspop          538\n",
       "world           515\n",
       "Name: genre, dtype: int64"
      ]
     },
     "execution_count": 40,
     "metadata": {},
     "output_type": "execute_result"
    }
   ],
   "source": [
    "# просмотр первых 10 строк spb_genres\n",
    "spb_genres.head(10)"
   ]
  },
  {
   "cell_type": "markdown",
   "metadata": {
    "id": "RY51YJYu_Zcv"
   },
   "source": [
    "**Выводы**"
   ]
  },
  {
   "cell_type": "markdown",
   "metadata": {
    "id": "nVhnJEm__Zcv"
   },
   "source": [
    "Гипотеза частично подтвердилась:\n",
    "* Поп-музыка — самый популярный жанр в Москве, как и предполагала гипотеза. Более того, в топ-10 жанров встречается близкий жанр — русская популярная музыка.\n",
    "* Вопреки ожиданиям, рэп одинаково популярен в Москве и Петербурге. \n"
   ]
  },
  {
   "cell_type": "markdown",
   "metadata": {
    "id": "ykKQ0N65_Zcv"
   },
   "source": [
    "## Итоги исследования"
   ]
  },
  {
   "cell_type": "markdown",
   "metadata": {
    "id": "tjUwbHb3_Zcv"
   },
   "source": [
    "Мы проверили три гипотезы и установили:\n",
    "\n",
    "1. День недели по-разному влияет на активность пользователей в Москве и Петербурге. \n",
    "\n",
    "Первая гипотеза полностью подтвердилась.\n",
    "\n",
    "2. Музыкальные предпочтения не сильно меняются в течение недели — будь то Москва или Петербург. Небольшие различия заметны в начале недели, по понедельникам:\n",
    "* в Москве слушают музыку жанра “world”,\n",
    "* в Петербурге — джаз и классику.\n",
    "\n",
    "Таким образом, вторая гипотеза подтвердилась лишь отчасти. Этот результат мог оказаться иным, если бы не пропуски в данных.\n",
    "\n",
    "3. Во вкусах пользователей Москвы и Петербурга больше общего чем различий. Вопреки ожиданиям, предпочтения жанров в Петербурге напоминают московские.\n",
    "\n",
    "Третья гипотеза не подтвердилась. Если различия в предпочтениях и существуют, на основной массе пользователей они незаметны."
   ]
  }
 ],
 "metadata": {
  "ExecuteTimeLog": [
   {
    "duration": 749,
    "start_time": "2021-10-31T15:36:43.838Z"
   },
   {
    "duration": 4,
    "start_time": "2021-10-31T15:36:47.310Z"
   },
   {
    "duration": 295,
    "start_time": "2021-10-31T15:38:20.948Z"
   },
   {
    "duration": 243,
    "start_time": "2021-10-31T15:38:57.488Z"
   },
   {
    "duration": 695,
    "start_time": "2021-10-31T15:40:13.646Z"
   },
   {
    "duration": 177,
    "start_time": "2021-10-31T15:40:18.241Z"
   },
   {
    "duration": 3,
    "start_time": "2021-10-31T15:40:24.768Z"
   },
   {
    "duration": 4,
    "start_time": "2021-10-31T15:40:45.477Z"
   },
   {
    "duration": 197,
    "start_time": "2021-10-31T15:40:48.422Z"
   },
   {
    "duration": 10,
    "start_time": "2021-10-31T15:41:12.404Z"
   },
   {
    "duration": 11,
    "start_time": "2021-10-31T15:41:46.519Z"
   },
   {
    "duration": 32,
    "start_time": "2021-10-31T15:42:05.964Z"
   },
   {
    "duration": 25,
    "start_time": "2021-10-31T15:42:16.608Z"
   },
   {
    "duration": 31,
    "start_time": "2021-10-31T15:42:29.330Z"
   },
   {
    "duration": 5,
    "start_time": "2021-10-31T15:51:36.320Z"
   },
   {
    "duration": 27,
    "start_time": "2021-10-31T15:58:43.659Z"
   },
   {
    "duration": 5,
    "start_time": "2021-10-31T15:58:56.254Z"
   },
   {
    "duration": 35,
    "start_time": "2021-10-31T15:59:37.470Z"
   },
   {
    "duration": 30,
    "start_time": "2021-10-31T16:00:33.415Z"
   },
   {
    "duration": 44,
    "start_time": "2021-10-31T16:12:46.000Z"
   },
   {
    "duration": 31,
    "start_time": "2021-10-31T16:13:15.497Z"
   },
   {
    "duration": 4,
    "start_time": "2021-10-31T16:22:15.124Z"
   },
   {
    "duration": 31,
    "start_time": "2021-10-31T16:22:19.026Z"
   },
   {
    "duration": 34,
    "start_time": "2021-10-31T16:32:29.838Z"
   },
   {
    "duration": 32,
    "start_time": "2021-10-31T16:32:32.874Z"
   },
   {
    "duration": 99,
    "start_time": "2021-10-31T16:33:24.562Z"
   },
   {
    "duration": 115,
    "start_time": "2021-10-31T16:35:32.476Z"
   },
   {
    "duration": 81,
    "start_time": "2021-10-31T16:38:09.988Z"
   },
   {
    "duration": 102,
    "start_time": "2021-10-31T16:40:23.445Z"
   },
   {
    "duration": 87,
    "start_time": "2021-10-31T16:40:28.691Z"
   },
   {
    "duration": 78,
    "start_time": "2021-10-31T16:40:32.110Z"
   },
   {
    "duration": 3,
    "start_time": "2021-10-31T16:50:16.724Z"
   },
   {
    "duration": 3,
    "start_time": "2021-10-31T16:50:23.205Z"
   },
   {
    "duration": 4,
    "start_time": "2021-10-31T16:50:26.560Z"
   },
   {
    "duration": 3,
    "start_time": "2021-10-31T16:50:36.188Z"
   },
   {
    "duration": 7,
    "start_time": "2021-10-31T16:50:45.534Z"
   },
   {
    "duration": 78,
    "start_time": "2021-10-31T16:52:00.247Z"
   },
   {
    "duration": 77,
    "start_time": "2021-10-31T16:52:04.281Z"
   },
   {
    "duration": 6,
    "start_time": "2021-10-31T16:52:36.071Z"
   },
   {
    "duration": 6,
    "start_time": "2021-10-31T16:52:51.951Z"
   },
   {
    "duration": 6,
    "start_time": "2021-10-31T16:52:56.271Z"
   },
   {
    "duration": 81,
    "start_time": "2021-10-31T16:54:59.147Z"
   },
   {
    "duration": 413,
    "start_time": "2021-10-31T16:55:42.026Z"
   },
   {
    "duration": 791,
    "start_time": "2021-10-31T16:56:45.758Z"
   },
   {
    "duration": 300,
    "start_time": "2021-10-31T16:57:29.511Z"
   },
   {
    "duration": 318,
    "start_time": "2021-10-31T16:57:42.115Z"
   },
   {
    "duration": 12,
    "start_time": "2021-10-31T16:58:20.035Z"
   },
   {
    "duration": 214,
    "start_time": "2021-10-31T16:58:57.725Z"
   },
   {
    "duration": 639,
    "start_time": "2021-10-31T16:59:09.570Z"
   },
   {
    "duration": 62,
    "start_time": "2021-10-31T17:02:15.994Z"
   },
   {
    "duration": 57,
    "start_time": "2021-10-31T17:02:41.065Z"
   },
   {
    "duration": 4,
    "start_time": "2021-10-31T17:12:34.974Z"
   },
   {
    "duration": 21,
    "start_time": "2021-10-31T17:15:13.757Z"
   },
   {
    "duration": 10,
    "start_time": "2021-10-31T17:15:41.877Z"
   },
   {
    "duration": 57,
    "start_time": "2021-10-31T17:16:34.479Z"
   },
   {
    "duration": 15,
    "start_time": "2021-10-31T17:52:24.313Z"
   },
   {
    "duration": 15,
    "start_time": "2021-10-31T17:54:28.831Z"
   },
   {
    "duration": 74,
    "start_time": "2021-10-31T18:39:42.921Z"
   },
   {
    "duration": 75,
    "start_time": "2021-10-31T18:40:14.078Z"
   },
   {
    "duration": 5,
    "start_time": "2021-10-31T18:41:23.907Z"
   },
   {
    "duration": 22,
    "start_time": "2021-10-31T18:51:50.533Z"
   },
   {
    "duration": 20,
    "start_time": "2021-10-31T18:53:31.631Z"
   },
   {
    "duration": 21,
    "start_time": "2021-10-31T18:54:28.880Z"
   },
   {
    "duration": 20,
    "start_time": "2021-10-31T18:56:23.024Z"
   },
   {
    "duration": 18,
    "start_time": "2021-10-31T18:56:26.252Z"
   },
   {
    "duration": 40,
    "start_time": "2021-10-31T18:56:30.171Z"
   },
   {
    "duration": 6,
    "start_time": "2021-10-31T19:05:04.763Z"
   },
   {
    "duration": 17,
    "start_time": "2021-10-31T19:20:29.728Z"
   },
   {
    "duration": 14,
    "start_time": "2021-10-31T19:21:49.426Z"
   },
   {
    "duration": 6,
    "start_time": "2021-10-31T19:37:14.134Z"
   },
   {
    "duration": 478,
    "start_time": "2021-10-31T19:40:04.929Z"
   },
   {
    "duration": 489,
    "start_time": "2021-10-31T19:42:08.931Z"
   },
   {
    "duration": 5,
    "start_time": "2021-10-31T19:42:54.531Z"
   },
   {
    "duration": 444,
    "start_time": "2021-10-31T19:42:58.709Z"
   },
   {
    "duration": 8,
    "start_time": "2021-10-31T19:45:15.261Z"
   },
   {
    "duration": 31,
    "start_time": "2021-10-31T19:45:19.290Z"
   },
   {
    "duration": 30,
    "start_time": "2021-10-31T19:46:08.454Z"
   },
   {
    "duration": 29,
    "start_time": "2021-10-31T19:46:49.673Z"
   },
   {
    "duration": 29,
    "start_time": "2021-10-31T19:47:22.839Z"
   },
   {
    "duration": 29,
    "start_time": "2021-10-31T19:48:04.440Z"
   },
   {
    "duration": 28,
    "start_time": "2021-10-31T19:49:38.126Z"
   },
   {
    "duration": 29,
    "start_time": "2021-10-31T19:50:56.294Z"
   },
   {
    "duration": 28,
    "start_time": "2021-10-31T19:51:05.318Z"
   },
   {
    "duration": 29,
    "start_time": "2021-10-31T19:52:02.395Z"
   },
   {
    "duration": 4,
    "start_time": "2021-10-31T19:52:14.014Z"
   },
   {
    "duration": 209,
    "start_time": "2021-10-31T19:52:14.021Z"
   },
   {
    "duration": 16,
    "start_time": "2021-10-31T19:52:14.233Z"
   },
   {
    "duration": 37,
    "start_time": "2021-10-31T19:52:14.252Z"
   },
   {
    "duration": 7,
    "start_time": "2021-10-31T19:52:14.329Z"
   },
   {
    "duration": 30,
    "start_time": "2021-10-31T19:52:14.339Z"
   },
   {
    "duration": 6,
    "start_time": "2021-10-31T19:52:14.373Z"
   },
   {
    "duration": 31,
    "start_time": "2021-10-31T19:52:14.431Z"
   },
   {
    "duration": 25,
    "start_time": "2021-10-31T19:52:14.465Z"
   },
   {
    "duration": 64,
    "start_time": "2021-10-31T19:52:14.493Z"
   },
   {
    "duration": 106,
    "start_time": "2021-10-31T19:52:14.560Z"
   },
   {
    "duration": 112,
    "start_time": "2021-10-31T19:52:14.669Z"
   },
   {
    "duration": 89,
    "start_time": "2021-10-31T19:52:14.783Z"
   },
   {
    "duration": 66,
    "start_time": "2021-10-31T19:52:14.875Z"
   },
   {
    "duration": 5,
    "start_time": "2021-10-31T19:52:14.944Z"
   },
   {
    "duration": 25,
    "start_time": "2021-10-31T19:52:14.951Z"
   },
   {
    "duration": 84,
    "start_time": "2021-10-31T19:52:14.979Z"
   },
   {
    "duration": 14,
    "start_time": "2021-10-31T19:52:15.065Z"
   },
   {
    "duration": 14,
    "start_time": "2021-10-31T19:52:15.083Z"
   },
   {
    "duration": 5,
    "start_time": "2021-10-31T19:52:15.129Z"
   },
   {
    "duration": 27,
    "start_time": "2021-10-31T19:52:15.136Z"
   },
   {
    "duration": 17,
    "start_time": "2021-10-31T19:52:15.165Z"
   },
   {
    "duration": 47,
    "start_time": "2021-10-31T19:52:15.185Z"
   },
   {
    "duration": 18,
    "start_time": "2021-10-31T19:52:15.234Z"
   },
   {
    "duration": 18,
    "start_time": "2021-10-31T19:52:15.254Z"
   },
   {
    "duration": 34,
    "start_time": "2021-10-31T19:52:15.275Z"
   },
   {
    "duration": 5,
    "start_time": "2021-10-31T19:52:15.329Z"
   },
   {
    "duration": 33,
    "start_time": "2021-10-31T19:52:15.336Z"
   },
   {
    "duration": 18,
    "start_time": "2021-10-31T19:52:15.372Z"
   },
   {
    "duration": 24,
    "start_time": "2021-10-31T19:52:15.393Z"
   },
   {
    "duration": 64,
    "start_time": "2021-10-31T19:52:15.419Z"
   },
   {
    "duration": 60,
    "start_time": "2021-10-31T19:52:15.485Z"
   },
   {
    "duration": 39,
    "start_time": "2021-10-31T19:52:15.547Z"
   },
   {
    "duration": 49,
    "start_time": "2021-10-31T19:52:15.588Z"
   },
   {
    "duration": 6,
    "start_time": "2021-10-31T19:52:15.640Z"
   },
   {
    "duration": 24,
    "start_time": "2021-10-31T19:52:15.648Z"
   },
   {
    "duration": 33,
    "start_time": "2021-10-31T19:52:15.674Z"
   },
   {
    "duration": 19,
    "start_time": "2021-10-31T19:52:15.709Z"
   },
   {
    "duration": 3,
    "start_time": "2021-10-31T19:53:47.474Z"
   },
   {
    "duration": 212,
    "start_time": "2021-10-31T19:53:47.480Z"
   },
   {
    "duration": 15,
    "start_time": "2021-10-31T19:53:47.695Z"
   },
   {
    "duration": 40,
    "start_time": "2021-10-31T19:53:47.728Z"
   },
   {
    "duration": 6,
    "start_time": "2021-10-31T19:53:47.771Z"
   },
   {
    "duration": 23,
    "start_time": "2021-10-31T19:53:47.779Z"
   },
   {
    "duration": 26,
    "start_time": "2021-10-31T19:53:47.805Z"
   },
   {
    "duration": 31,
    "start_time": "2021-10-31T19:53:47.834Z"
   },
   {
    "duration": 23,
    "start_time": "2021-10-31T19:53:47.868Z"
   },
   {
    "duration": 62,
    "start_time": "2021-10-31T19:53:47.894Z"
   },
   {
    "duration": 100,
    "start_time": "2021-10-31T19:53:47.958Z"
   },
   {
    "duration": 108,
    "start_time": "2021-10-31T19:53:48.061Z"
   },
   {
    "duration": 92,
    "start_time": "2021-10-31T19:53:48.172Z"
   },
   {
    "duration": 66,
    "start_time": "2021-10-31T19:53:48.266Z"
   },
   {
    "duration": 4,
    "start_time": "2021-10-31T19:53:48.335Z"
   },
   {
    "duration": 29,
    "start_time": "2021-10-31T19:53:48.341Z"
   },
   {
    "duration": 74,
    "start_time": "2021-10-31T19:53:48.372Z"
   },
   {
    "duration": 14,
    "start_time": "2021-10-31T19:53:48.449Z"
   },
   {
    "duration": 14,
    "start_time": "2021-10-31T19:53:48.469Z"
   },
   {
    "duration": 4,
    "start_time": "2021-10-31T19:53:48.487Z"
   },
   {
    "duration": 21,
    "start_time": "2021-10-31T19:53:48.530Z"
   },
   {
    "duration": 21,
    "start_time": "2021-10-31T19:53:48.554Z"
   },
   {
    "duration": 58,
    "start_time": "2021-10-31T19:53:48.578Z"
   },
   {
    "duration": 21,
    "start_time": "2021-10-31T19:53:48.639Z"
   },
   {
    "duration": 24,
    "start_time": "2021-10-31T19:53:48.662Z"
   },
   {
    "duration": 56,
    "start_time": "2021-10-31T19:53:48.689Z"
   },
   {
    "duration": 6,
    "start_time": "2021-10-31T19:53:48.749Z"
   },
   {
    "duration": 19,
    "start_time": "2021-10-31T19:53:48.759Z"
   },
   {
    "duration": 52,
    "start_time": "2021-10-31T19:53:48.781Z"
   },
   {
    "duration": 6,
    "start_time": "2021-10-31T19:53:48.836Z"
   },
   {
    "duration": 29,
    "start_time": "2021-10-31T19:53:48.845Z"
   },
   {
    "duration": 18,
    "start_time": "2021-10-31T19:53:48.876Z"
   },
   {
    "duration": 26,
    "start_time": "2021-10-31T19:53:48.929Z"
   },
   {
    "duration": 20,
    "start_time": "2021-10-31T19:53:48.958Z"
   },
   {
    "duration": 3,
    "start_time": "2021-10-31T19:53:48.980Z"
   },
   {
    "duration": 6,
    "start_time": "2021-10-31T19:53:48.985Z"
   },
   {
    "duration": 3,
    "start_time": "2021-10-31T19:53:49.030Z"
   },
   {
    "duration": 6,
    "start_time": "2021-10-31T19:53:49.035Z"
   },
   {
    "duration": 3,
    "start_time": "2021-10-31T19:55:00.099Z"
   },
   {
    "duration": 241,
    "start_time": "2021-10-31T19:55:00.106Z"
   },
   {
    "duration": 20,
    "start_time": "2021-10-31T19:55:00.350Z"
   },
   {
    "duration": 64,
    "start_time": "2021-10-31T19:55:00.374Z"
   },
   {
    "duration": 36,
    "start_time": "2021-10-31T19:55:00.441Z"
   },
   {
    "duration": 49,
    "start_time": "2021-10-31T19:55:00.480Z"
   },
   {
    "duration": 12,
    "start_time": "2021-10-31T19:55:00.533Z"
   },
   {
    "duration": 49,
    "start_time": "2021-10-31T19:55:00.549Z"
   },
   {
    "duration": 55,
    "start_time": "2021-10-31T19:55:00.600Z"
   },
   {
    "duration": 52,
    "start_time": "2021-10-31T19:55:00.658Z"
   },
   {
    "duration": 135,
    "start_time": "2021-10-31T19:55:00.713Z"
   },
   {
    "duration": 115,
    "start_time": "2021-10-31T19:55:00.850Z"
   },
   {
    "duration": 90,
    "start_time": "2021-10-31T19:55:00.968Z"
   },
   {
    "duration": 71,
    "start_time": "2021-10-31T19:55:01.060Z"
   },
   {
    "duration": 13,
    "start_time": "2021-10-31T19:55:01.133Z"
   },
   {
    "duration": 51,
    "start_time": "2021-10-31T19:55:01.148Z"
   },
   {
    "duration": 72,
    "start_time": "2021-10-31T19:55:01.201Z"
   },
   {
    "duration": 25,
    "start_time": "2021-10-31T19:55:01.275Z"
   },
   {
    "duration": 44,
    "start_time": "2021-10-31T19:55:01.305Z"
   },
   {
    "duration": 20,
    "start_time": "2021-10-31T19:55:01.353Z"
   },
   {
    "duration": 34,
    "start_time": "2021-10-31T19:55:01.376Z"
   },
   {
    "duration": 53,
    "start_time": "2021-10-31T19:55:01.412Z"
   },
   {
    "duration": 41,
    "start_time": "2021-10-31T19:55:01.467Z"
   },
   {
    "duration": 35,
    "start_time": "2021-10-31T19:55:01.510Z"
   },
   {
    "duration": 50,
    "start_time": "2021-10-31T19:55:01.547Z"
   },
   {
    "duration": 54,
    "start_time": "2021-10-31T19:55:01.599Z"
   },
   {
    "duration": 32,
    "start_time": "2021-10-31T19:55:01.655Z"
   },
   {
    "duration": 44,
    "start_time": "2021-10-31T19:55:01.689Z"
   },
   {
    "duration": 28,
    "start_time": "2021-10-31T19:55:01.735Z"
   },
   {
    "duration": 22,
    "start_time": "2021-10-31T19:55:01.766Z"
   },
   {
    "duration": 65,
    "start_time": "2021-10-31T19:55:01.790Z"
   },
   {
    "duration": 54,
    "start_time": "2021-10-31T19:55:01.858Z"
   },
   {
    "duration": 32,
    "start_time": "2021-10-31T19:55:01.915Z"
   },
   {
    "duration": 30,
    "start_time": "2021-10-31T19:55:01.950Z"
   },
   {
    "duration": 12,
    "start_time": "2021-10-31T19:55:01.982Z"
   },
   {
    "duration": 24,
    "start_time": "2021-10-31T19:55:02.005Z"
   },
   {
    "duration": 33,
    "start_time": "2021-10-31T19:55:02.032Z"
   },
   {
    "duration": 31,
    "start_time": "2021-10-31T19:55:02.067Z"
   },
   {
    "duration": 3,
    "start_time": "2021-10-31T19:55:37.758Z"
   },
   {
    "duration": 210,
    "start_time": "2021-10-31T19:55:37.764Z"
   },
   {
    "duration": 18,
    "start_time": "2021-10-31T19:55:37.978Z"
   },
   {
    "duration": 51,
    "start_time": "2021-10-31T19:55:37.999Z"
   },
   {
    "duration": 6,
    "start_time": "2021-10-31T19:55:38.054Z"
   },
   {
    "duration": 21,
    "start_time": "2021-10-31T19:55:38.063Z"
   },
   {
    "duration": 6,
    "start_time": "2021-10-31T19:55:38.086Z"
   },
   {
    "duration": 68,
    "start_time": "2021-10-31T19:55:38.094Z"
   },
   {
    "duration": 25,
    "start_time": "2021-10-31T19:55:38.169Z"
   },
   {
    "duration": 59,
    "start_time": "2021-10-31T19:55:38.197Z"
   },
   {
    "duration": 118,
    "start_time": "2021-10-31T19:55:38.259Z"
   },
   {
    "duration": 130,
    "start_time": "2021-10-31T19:55:38.380Z"
   },
   {
    "duration": 89,
    "start_time": "2021-10-31T19:55:38.512Z"
   },
   {
    "duration": 71,
    "start_time": "2021-10-31T19:55:38.604Z"
   },
   {
    "duration": 5,
    "start_time": "2021-10-31T19:55:38.677Z"
   },
   {
    "duration": 45,
    "start_time": "2021-10-31T19:55:38.684Z"
   },
   {
    "duration": 57,
    "start_time": "2021-10-31T19:55:38.732Z"
   },
   {
    "duration": 13,
    "start_time": "2021-10-31T19:55:38.792Z"
   },
   {
    "duration": 17,
    "start_time": "2021-10-31T19:55:38.828Z"
   },
   {
    "duration": 5,
    "start_time": "2021-10-31T19:55:38.847Z"
   },
   {
    "duration": 22,
    "start_time": "2021-10-31T19:55:38.854Z"
   },
   {
    "duration": 56,
    "start_time": "2021-10-31T19:55:38.878Z"
   },
   {
    "duration": 19,
    "start_time": "2021-10-31T19:55:38.936Z"
   },
   {
    "duration": 17,
    "start_time": "2021-10-31T19:55:38.958Z"
   },
   {
    "duration": 58,
    "start_time": "2021-10-31T19:55:38.978Z"
   },
   {
    "duration": 18,
    "start_time": "2021-10-31T19:55:39.038Z"
   },
   {
    "duration": 6,
    "start_time": "2021-10-31T19:55:39.061Z"
   },
   {
    "duration": 22,
    "start_time": "2021-10-31T19:55:39.069Z"
   },
   {
    "duration": 38,
    "start_time": "2021-10-31T19:55:39.093Z"
   },
   {
    "duration": 5,
    "start_time": "2021-10-31T19:55:39.133Z"
   },
   {
    "duration": 33,
    "start_time": "2021-10-31T19:55:39.141Z"
   },
   {
    "duration": 16,
    "start_time": "2021-10-31T19:55:39.177Z"
   },
   {
    "duration": 52,
    "start_time": "2021-10-31T19:55:39.195Z"
   },
   {
    "duration": 17,
    "start_time": "2021-10-31T19:55:39.249Z"
   },
   {
    "duration": 3,
    "start_time": "2021-10-31T19:55:39.268Z"
   },
   {
    "duration": 5,
    "start_time": "2021-10-31T19:55:39.273Z"
   },
   {
    "duration": 4,
    "start_time": "2021-10-31T19:55:39.281Z"
   },
   {
    "duration": 42,
    "start_time": "2021-10-31T19:55:39.288Z"
   },
   {
    "duration": 322,
    "start_time": "2021-10-31T20:56:15.614Z"
   },
   {
    "duration": 230,
    "start_time": "2021-10-31T20:56:38.523Z"
   },
   {
    "duration": 890,
    "start_time": "2021-10-31T20:57:07.156Z"
   },
   {
    "duration": 204,
    "start_time": "2021-10-31T20:57:08.048Z"
   },
   {
    "duration": 33,
    "start_time": "2021-10-31T20:57:08.256Z"
   },
   {
    "duration": 65,
    "start_time": "2021-10-31T20:57:08.291Z"
   },
   {
    "duration": 6,
    "start_time": "2021-10-31T20:57:08.359Z"
   },
   {
    "duration": 30,
    "start_time": "2021-10-31T20:57:08.368Z"
   },
   {
    "duration": 10,
    "start_time": "2021-10-31T20:57:08.430Z"
   },
   {
    "duration": 42,
    "start_time": "2021-10-31T20:57:08.445Z"
   },
   {
    "duration": 54,
    "start_time": "2021-10-31T20:57:08.492Z"
   },
   {
    "duration": 33,
    "start_time": "2021-10-31T20:57:08.548Z"
   },
   {
    "duration": 122,
    "start_time": "2021-10-31T20:57:08.583Z"
   },
   {
    "duration": 110,
    "start_time": "2021-10-31T20:57:08.707Z"
   },
   {
    "duration": 79,
    "start_time": "2021-10-31T20:57:08.819Z"
   },
   {
    "duration": 70,
    "start_time": "2021-10-31T20:57:08.900Z"
   },
   {
    "duration": 4,
    "start_time": "2021-10-31T20:57:08.973Z"
   },
   {
    "duration": 55,
    "start_time": "2021-10-31T20:57:08.979Z"
   },
   {
    "duration": 58,
    "start_time": "2021-10-31T20:57:09.037Z"
   },
   {
    "duration": 38,
    "start_time": "2021-10-31T20:57:09.097Z"
   },
   {
    "duration": 14,
    "start_time": "2021-10-31T20:57:09.139Z"
   },
   {
    "duration": 5,
    "start_time": "2021-10-31T20:57:09.155Z"
   },
   {
    "duration": 34,
    "start_time": "2021-10-31T20:57:09.162Z"
   },
   {
    "duration": 49,
    "start_time": "2021-10-31T20:57:09.199Z"
   },
   {
    "duration": 30,
    "start_time": "2021-10-31T20:57:09.255Z"
   },
   {
    "duration": 57,
    "start_time": "2021-10-31T20:57:09.289Z"
   },
   {
    "duration": 23,
    "start_time": "2021-10-31T20:57:09.348Z"
   },
   {
    "duration": 55,
    "start_time": "2021-10-31T20:57:09.374Z"
   },
   {
    "duration": 6,
    "start_time": "2021-10-31T20:57:09.433Z"
   },
   {
    "duration": 18,
    "start_time": "2021-10-31T20:57:09.441Z"
   },
   {
    "duration": 12,
    "start_time": "2021-10-31T20:57:09.461Z"
   },
   {
    "duration": 6,
    "start_time": "2021-10-31T20:57:09.476Z"
   },
   {
    "duration": 74,
    "start_time": "2021-10-31T20:57:09.485Z"
   },
   {
    "duration": 18,
    "start_time": "2021-10-31T20:57:09.561Z"
   },
   {
    "duration": 48,
    "start_time": "2021-10-31T20:57:09.582Z"
   },
   {
    "duration": 17,
    "start_time": "2021-10-31T20:57:09.632Z"
   },
   {
    "duration": 13,
    "start_time": "2021-10-31T20:57:09.651Z"
   },
   {
    "duration": 4,
    "start_time": "2021-10-31T20:57:09.666Z"
   },
   {
    "duration": 8,
    "start_time": "2021-10-31T20:57:09.672Z"
   },
   {
    "duration": 6,
    "start_time": "2021-10-31T20:57:09.682Z"
   },
   {
    "duration": 340,
    "start_time": "2021-10-31T20:58:46.771Z"
   },
   {
    "duration": 244,
    "start_time": "2021-10-31T20:58:55.172Z"
   },
   {
    "duration": 53,
    "start_time": "2021-10-31T20:59:41.803Z"
   },
   {
    "duration": 56,
    "start_time": "2021-10-31T20:59:46.553Z"
   },
   {
    "duration": 55,
    "start_time": "2021-10-31T20:59:47.523Z"
   },
   {
    "duration": 16,
    "start_time": "2021-10-31T21:00:20.906Z"
   },
   {
    "duration": 33,
    "start_time": "2021-10-31T21:01:35.443Z"
   },
   {
    "duration": 11,
    "start_time": "2021-10-31T21:03:39.636Z"
   },
   {
    "duration": 18,
    "start_time": "2021-10-31T21:05:17.819Z"
   },
   {
    "duration": 14,
    "start_time": "2021-10-31T21:05:41.026Z"
   },
   {
    "duration": 4,
    "start_time": "2021-10-31T21:08:05.803Z"
   },
   {
    "duration": 228,
    "start_time": "2021-10-31T21:08:05.809Z"
   },
   {
    "duration": 16,
    "start_time": "2021-10-31T21:08:06.039Z"
   },
   {
    "duration": 42,
    "start_time": "2021-10-31T21:08:06.058Z"
   },
   {
    "duration": 29,
    "start_time": "2021-10-31T21:08:06.102Z"
   },
   {
    "duration": 27,
    "start_time": "2021-10-31T21:08:06.133Z"
   },
   {
    "duration": 6,
    "start_time": "2021-10-31T21:08:06.164Z"
   },
   {
    "duration": 58,
    "start_time": "2021-10-31T21:08:06.173Z"
   },
   {
    "duration": 24,
    "start_time": "2021-10-31T21:08:06.233Z"
   },
   {
    "duration": 30,
    "start_time": "2021-10-31T21:08:06.260Z"
   },
   {
    "duration": 122,
    "start_time": "2021-10-31T21:08:06.293Z"
   },
   {
    "duration": 110,
    "start_time": "2021-10-31T21:08:06.430Z"
   },
   {
    "duration": 93,
    "start_time": "2021-10-31T21:08:06.543Z"
   },
   {
    "duration": 60,
    "start_time": "2021-10-31T21:08:06.639Z"
   },
   {
    "duration": 27,
    "start_time": "2021-10-31T21:08:06.702Z"
   },
   {
    "duration": 25,
    "start_time": "2021-10-31T21:08:06.732Z"
   },
   {
    "duration": 87,
    "start_time": "2021-10-31T21:08:06.759Z"
   },
   {
    "duration": 15,
    "start_time": "2021-10-31T21:08:06.849Z"
   },
   {
    "duration": 19,
    "start_time": "2021-10-31T21:08:06.869Z"
   },
   {
    "duration": 5,
    "start_time": "2021-10-31T21:08:06.891Z"
   },
   {
    "duration": 54,
    "start_time": "2021-10-31T21:08:06.898Z"
   },
   {
    "duration": 19,
    "start_time": "2021-10-31T21:08:06.954Z"
   },
   {
    "duration": 60,
    "start_time": "2021-10-31T21:08:06.975Z"
   },
   {
    "duration": 20,
    "start_time": "2021-10-31T21:08:07.037Z"
   },
   {
    "duration": 20,
    "start_time": "2021-10-31T21:08:07.059Z"
   },
   {
    "duration": 48,
    "start_time": "2021-10-31T21:08:07.082Z"
   },
   {
    "duration": 7,
    "start_time": "2021-10-31T21:08:07.133Z"
   },
   {
    "duration": 24,
    "start_time": "2021-10-31T21:08:07.142Z"
   },
   {
    "duration": 14,
    "start_time": "2021-10-31T21:08:07.168Z"
   },
   {
    "duration": 5,
    "start_time": "2021-10-31T21:08:07.184Z"
   },
   {
    "duration": 57,
    "start_time": "2021-10-31T21:08:07.191Z"
   },
   {
    "duration": 18,
    "start_time": "2021-10-31T21:08:07.251Z"
   },
   {
    "duration": 23,
    "start_time": "2021-10-31T21:08:07.272Z"
   },
   {
    "duration": 47,
    "start_time": "2021-10-31T21:08:07.297Z"
   },
   {
    "duration": 31,
    "start_time": "2021-10-31T21:08:07.347Z"
   },
   {
    "duration": 12,
    "start_time": "2021-10-31T21:08:07.380Z"
   },
   {
    "duration": 18,
    "start_time": "2021-10-31T21:08:07.430Z"
   },
   {
    "duration": 12,
    "start_time": "2021-10-31T21:08:07.450Z"
   },
   {
    "duration": 75,
    "start_time": "2021-10-31T21:09:02.605Z"
   },
   {
    "duration": 88,
    "start_time": "2021-10-31T21:09:09.173Z"
   },
   {
    "duration": 225,
    "start_time": "2021-10-31T21:09:18.245Z"
   },
   {
    "duration": 31,
    "start_time": "2021-10-31T21:09:36.789Z"
   },
   {
    "duration": 235,
    "start_time": "2021-10-31T21:12:54.078Z"
   },
   {
    "duration": 13,
    "start_time": "2021-10-31T21:13:14.502Z"
   },
   {
    "duration": 6,
    "start_time": "2021-10-31T21:13:19.708Z"
   },
   {
    "duration": 10,
    "start_time": "2021-10-31T21:18:21.990Z"
   },
   {
    "duration": 7,
    "start_time": "2021-10-31T21:18:24.813Z"
   },
   {
    "duration": 3,
    "start_time": "2021-10-31T21:21:44.620Z"
   },
   {
    "duration": 229,
    "start_time": "2021-10-31T21:21:44.626Z"
   },
   {
    "duration": 17,
    "start_time": "2021-10-31T21:21:44.859Z"
   },
   {
    "duration": 56,
    "start_time": "2021-10-31T21:21:44.879Z"
   },
   {
    "duration": 8,
    "start_time": "2021-10-31T21:21:44.938Z"
   },
   {
    "duration": 33,
    "start_time": "2021-10-31T21:21:44.949Z"
   },
   {
    "duration": 6,
    "start_time": "2021-10-31T21:21:44.987Z"
   },
   {
    "duration": 58,
    "start_time": "2021-10-31T21:21:44.997Z"
   },
   {
    "duration": 30,
    "start_time": "2021-10-31T21:21:45.058Z"
   },
   {
    "duration": 60,
    "start_time": "2021-10-31T21:21:45.090Z"
   },
   {
    "duration": 96,
    "start_time": "2021-10-31T21:21:45.153Z"
   },
   {
    "duration": 100,
    "start_time": "2021-10-31T21:21:45.252Z"
   },
   {
    "duration": 88,
    "start_time": "2021-10-31T21:21:45.355Z"
   },
   {
    "duration": 60,
    "start_time": "2021-10-31T21:21:45.445Z"
   },
   {
    "duration": 22,
    "start_time": "2021-10-31T21:21:45.508Z"
   },
   {
    "duration": 30,
    "start_time": "2021-10-31T21:21:45.533Z"
   },
   {
    "duration": 71,
    "start_time": "2021-10-31T21:21:45.565Z"
   },
   {
    "duration": 12,
    "start_time": "2021-10-31T21:21:45.639Z"
   },
   {
    "duration": 21,
    "start_time": "2021-10-31T21:21:45.655Z"
   },
   {
    "duration": 16,
    "start_time": "2021-10-31T21:21:45.679Z"
   },
   {
    "duration": 46,
    "start_time": "2021-10-31T21:21:45.697Z"
   },
   {
    "duration": 22,
    "start_time": "2021-10-31T21:21:45.745Z"
   },
   {
    "duration": 27,
    "start_time": "2021-10-31T21:21:45.769Z"
   },
   {
    "duration": 33,
    "start_time": "2021-10-31T21:21:45.799Z"
   },
   {
    "duration": 33,
    "start_time": "2021-10-31T21:21:45.835Z"
   },
   {
    "duration": 29,
    "start_time": "2021-10-31T21:21:45.871Z"
   },
   {
    "duration": 10,
    "start_time": "2021-10-31T21:21:45.903Z"
   },
   {
    "duration": 26,
    "start_time": "2021-10-31T21:21:45.915Z"
   },
   {
    "duration": 14,
    "start_time": "2021-10-31T21:21:45.944Z"
   },
   {
    "duration": 11,
    "start_time": "2021-10-31T21:21:45.960Z"
   },
   {
    "duration": 40,
    "start_time": "2021-10-31T21:21:45.973Z"
   },
   {
    "duration": 29,
    "start_time": "2021-10-31T21:21:46.016Z"
   },
   {
    "duration": 40,
    "start_time": "2021-10-31T21:21:46.048Z"
   },
   {
    "duration": 28,
    "start_time": "2021-10-31T21:21:46.090Z"
   },
   {
    "duration": 11,
    "start_time": "2021-10-31T21:21:46.120Z"
   },
   {
    "duration": 16,
    "start_time": "2021-10-31T21:21:46.133Z"
   },
   {
    "duration": 31,
    "start_time": "2021-10-31T21:21:46.151Z"
   },
   {
    "duration": 16,
    "start_time": "2021-10-31T21:21:46.184Z"
   },
   {
    "duration": 588,
    "start_time": "2021-12-22T07:50:27.292Z"
   },
   {
    "duration": 143,
    "start_time": "2021-12-22T07:50:27.883Z"
   },
   {
    "duration": 15,
    "start_time": "2021-12-22T07:50:28.028Z"
   },
   {
    "duration": 33,
    "start_time": "2021-12-22T07:50:28.045Z"
   },
   {
    "duration": 13,
    "start_time": "2021-12-22T07:50:28.080Z"
   },
   {
    "duration": 24,
    "start_time": "2021-12-22T07:50:28.095Z"
   },
   {
    "duration": 25,
    "start_time": "2021-12-22T07:50:28.121Z"
   },
   {
    "duration": 6,
    "start_time": "2021-12-22T07:50:28.149Z"
   },
   {
    "duration": 39,
    "start_time": "2021-12-22T07:50:28.157Z"
   },
   {
    "duration": 16,
    "start_time": "2021-12-22T07:50:28.198Z"
   },
   {
    "duration": 22,
    "start_time": "2021-12-22T07:50:28.216Z"
   },
   {
    "duration": 78,
    "start_time": "2021-12-22T07:50:28.240Z"
   },
   {
    "duration": 72,
    "start_time": "2021-12-22T07:50:28.319Z"
   },
   {
    "duration": 46,
    "start_time": "2021-12-22T07:50:28.393Z"
   },
   {
    "duration": 62,
    "start_time": "2021-12-22T07:50:28.440Z"
   },
   {
    "duration": 39,
    "start_time": "2021-12-22T07:50:28.504Z"
   },
   {
    "duration": 3,
    "start_time": "2021-12-22T07:50:28.544Z"
   },
   {
    "duration": 23,
    "start_time": "2021-12-22T07:50:28.549Z"
   },
   {
    "duration": 51,
    "start_time": "2021-12-22T07:50:28.573Z"
   },
   {
    "duration": 9,
    "start_time": "2021-12-22T07:50:28.626Z"
   },
   {
    "duration": 9,
    "start_time": "2021-12-22T07:50:28.638Z"
   },
   {
    "duration": 3,
    "start_time": "2021-12-22T07:50:28.649Z"
   },
   {
    "duration": 45,
    "start_time": "2021-12-22T07:50:28.654Z"
   },
   {
    "duration": 12,
    "start_time": "2021-12-22T07:50:28.701Z"
   },
   {
    "duration": 14,
    "start_time": "2021-12-22T07:50:28.715Z"
   },
   {
    "duration": 14,
    "start_time": "2021-12-22T07:50:28.731Z"
   },
   {
    "duration": 15,
    "start_time": "2021-12-22T07:50:28.746Z"
   },
   {
    "duration": 41,
    "start_time": "2021-12-22T07:50:28.763Z"
   },
   {
    "duration": 4,
    "start_time": "2021-12-22T07:50:28.806Z"
   },
   {
    "duration": 12,
    "start_time": "2021-12-22T07:50:28.812Z"
   },
   {
    "duration": 8,
    "start_time": "2021-12-22T07:50:28.826Z"
   },
   {
    "duration": 5,
    "start_time": "2021-12-22T07:50:28.836Z"
   },
   {
    "duration": 23,
    "start_time": "2021-12-22T07:50:28.843Z"
   },
   {
    "duration": 12,
    "start_time": "2021-12-22T07:50:28.892Z"
   },
   {
    "duration": 15,
    "start_time": "2021-12-22T07:50:28.905Z"
   },
   {
    "duration": 10,
    "start_time": "2021-12-22T07:50:28.922Z"
   },
   {
    "duration": 6,
    "start_time": "2021-12-22T07:50:28.934Z"
   },
   {
    "duration": 4,
    "start_time": "2021-12-22T07:50:28.941Z"
   },
   {
    "duration": 7,
    "start_time": "2021-12-22T07:50:28.947Z"
   },
   {
    "duration": 37,
    "start_time": "2021-12-22T07:50:28.955Z"
   },
   {
    "duration": 771,
    "start_time": "2021-12-23T06:00:21.626Z"
   },
   {
    "duration": 177,
    "start_time": "2021-12-23T06:00:22.399Z"
   },
   {
    "duration": 132,
    "start_time": "2021-12-23T06:00:22.579Z"
   },
   {
    "duration": 351,
    "start_time": "2021-12-23T06:00:22.715Z"
   },
   {
    "duration": 243,
    "start_time": "2021-12-23T06:00:23.069Z"
   },
   {
    "duration": 256,
    "start_time": "2021-12-23T06:00:23.315Z"
   },
   {
    "duration": 270,
    "start_time": "2021-12-23T06:00:23.573Z"
   },
   {
    "duration": 223,
    "start_time": "2021-12-23T06:00:23.847Z"
   },
   {
    "duration": 264,
    "start_time": "2021-12-23T06:00:24.073Z"
   },
   {
    "duration": 111,
    "start_time": "2021-12-23T06:00:24.339Z"
   },
   {
    "duration": 273,
    "start_time": "2021-12-23T06:00:24.453Z"
   },
   {
    "duration": 676,
    "start_time": "2021-12-23T06:00:24.729Z"
   },
   {
    "duration": 563,
    "start_time": "2021-12-23T06:00:25.408Z"
   },
   {
    "duration": 179,
    "start_time": "2021-12-23T06:00:25.974Z"
   },
   {
    "duration": 198,
    "start_time": "2021-12-23T06:00:26.155Z"
   },
   {
    "duration": 238,
    "start_time": "2021-12-23T06:00:26.355Z"
   },
   {
    "duration": 192,
    "start_time": "2021-12-23T06:00:26.596Z"
   },
   {
    "duration": 370,
    "start_time": "2021-12-23T06:00:26.792Z"
   },
   {
    "duration": 330,
    "start_time": "2021-12-23T06:00:27.165Z"
   },
   {
    "duration": 176,
    "start_time": "2021-12-23T06:00:27.498Z"
   },
   {
    "duration": 298,
    "start_time": "2021-12-23T06:00:27.677Z"
   },
   {
    "duration": 554,
    "start_time": "2021-12-23T06:00:27.977Z"
   },
   {
    "duration": 604,
    "start_time": "2021-12-23T06:00:28.536Z"
   },
   {
    "duration": 339,
    "start_time": "2021-12-23T06:00:29.143Z"
   },
   {
    "duration": 293,
    "start_time": "2021-12-23T06:00:29.485Z"
   },
   {
    "duration": 513,
    "start_time": "2021-12-23T06:00:29.781Z"
   },
   {
    "duration": 768,
    "start_time": "2021-12-23T06:00:30.297Z"
   },
   {
    "duration": 502,
    "start_time": "2021-12-23T06:00:31.068Z"
   },
   {
    "duration": 255,
    "start_time": "2021-12-23T06:00:31.574Z"
   },
   {
    "duration": 401,
    "start_time": "2021-12-23T06:00:31.832Z"
   },
   {
    "duration": 234,
    "start_time": "2021-12-23T06:00:32.239Z"
   },
   {
    "duration": 333,
    "start_time": "2021-12-23T06:00:32.476Z"
   },
   {
    "duration": 404,
    "start_time": "2021-12-23T06:00:32.811Z"
   },
   {
    "duration": 330,
    "start_time": "2021-12-23T06:00:33.218Z"
   },
   {
    "duration": 299,
    "start_time": "2021-12-23T06:00:33.551Z"
   },
   {
    "duration": 281,
    "start_time": "2021-12-23T06:00:33.853Z"
   },
   {
    "duration": 441,
    "start_time": "2021-12-23T06:00:34.137Z"
   },
   {
    "duration": 293,
    "start_time": "2021-12-23T06:00:34.580Z"
   },
   {
    "duration": 382,
    "start_time": "2021-12-23T06:00:34.875Z"
   },
   {
    "duration": 270,
    "start_time": "2021-12-23T06:00:35.259Z"
   }
  ],
  "colab": {
   "collapsed_sections": [
    "E0vqbgi9ay0H",
    "VUC88oWjTJw2"
   ],
   "name": "yandex_music_project_2021.2.ipynb",
   "provenance": []
  },
  "kernelspec": {
   "display_name": "Python 3 (ipykernel)",
   "language": "python",
   "name": "python3"
  },
  "language_info": {
   "codemirror_mode": {
    "name": "ipython",
    "version": 3
   },
   "file_extension": ".py",
   "mimetype": "text/x-python",
   "name": "python",
   "nbconvert_exporter": "python",
   "pygments_lexer": "ipython3",
   "version": "3.9.7"
  },
  "toc": {
   "base_numbering": 1,
   "nav_menu": {},
   "number_sections": true,
   "sideBar": true,
   "skip_h1_title": true,
   "title_cell": "Table of Contents",
   "title_sidebar": "Contents",
   "toc_cell": false,
   "toc_position": {},
   "toc_section_display": true,
   "toc_window_display": true
  }
 },
 "nbformat": 4,
 "nbformat_minor": 1
}
