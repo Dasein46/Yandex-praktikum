{
 "cells": [
  {
   "cell_type": "markdown",
   "metadata": {},
   "source": [
    "#  Прогнозирование заказов такси"
   ]
  },
  {
   "cell_type": "markdown",
   "metadata": {},
   "source": [
    "Компания «Чётенькое такси» собрала исторические данные о заказах такси в аэропортах. Чтобы привлекать больше водителей в период пиковой нагрузки, нужно спрогнозировать количество заказов такси на следующий час. Постройте модель для такого предсказания.\n",
    "\n",
    "Цель - построить модель для предсказания количества заказов такси на следующий час.\n",
    "\n",
    "Значение метрики *RMSE* на тестовой выборке должно быть не больше 48.\n",
    "\n",
    "Для достижения поставленной цели необходимо решить следующие задачи:\n",
    "\n",
    "1. Загрузить данные и выполнить их ресемплирование по одному часу.\n",
    "2. Проанализировать данные.\n",
    "3. Обучить разные модели с различными гиперпараметрами. Сделать тестовую выборку размером 10% от исходных данных.\n",
    "4. Проверить данные на тестовой выборке и сделать выводы.\n"
   ]
  },
  {
   "cell_type": "markdown",
   "metadata": {
    "toc": true
   },
   "source": [
    "<h1>Содержание<span class=\"tocSkip\"></span></h1>\n",
    "<li><span><a href=\"#Подготовка\" data-toc-modified-id=\"Подготовка-1\"><span class=\"toc-item-num\">1&nbsp;&nbsp;</span>Подготовка</a></span></li><li><span><a href=\"#Анализ\" data-toc-modified-id=\"Анализ-2\"><span class=\"toc-item-num\">2&nbsp;&nbsp;</span>Анализ</a></span></li><li><span><a href=\"#Обучение\" data-toc-modified-id=\"Обучение-3\"><span class=\"toc-item-num\">3&nbsp;&nbsp;</span>Обучение</a></span><ul class=\"toc-item\"><li><span><a href=\"#Модель-линейной-регрессии\" data-toc-modified-id=\"Модель-линейной-регрессии-3.1\"><span class=\"toc-item-num\">3.1&nbsp;&nbsp;</span>Модель линейной регрессии</a></span></li><li><span><a href=\"#Модель-решающего-дерева\" data-toc-modified-id=\"Модель-решающего-дерева-3.2\"><span class=\"toc-item-num\">3.2&nbsp;&nbsp;</span>Модель решающего дерева</a></span></li><li><span><a href=\"#Модель-XGBoost\" data-toc-modified-id=\"Модель-XGBoost-3.3\"><span class=\"toc-item-num\">3.3&nbsp;&nbsp;</span>Модель XGBoost</a></span></li></ul></li><li><span><a href=\"#Тестирование\" data-toc-modified-id=\"Тестирование-4\"><span class=\"toc-item-num\">4&nbsp;&nbsp;</span>Тестирование</a></span><ul class=\"toc-item\"><li><span><a href=\"#Модель-линейной-регрессии\" data-toc-modified-id=\"Модель-линейной-регрессии-4.1\"><span class=\"toc-item-num\">4.1&nbsp;&nbsp;</span>Модель линейной регрессии</a></span></li><li><span><a href=\"#Модель-решающего-дерева\" data-toc-modified-id=\"Модель-решающего-дерева-4.2\"><span class=\"toc-item-num\">4.2&nbsp;&nbsp;</span>Модель решающего дерева</a></span></li><li><span><a href=\"#Модель-XGBoost\" data-toc-modified-id=\"Модель-XGBoost-4.3\"><span class=\"toc-item-num\">4.3&nbsp;&nbsp;</span>Модель XGBoost</a></span></li><li><span><a href=\"#Сравнение-графиков\" data-toc-modified-id=\"Сравнение-графиков-4.4\"><span class=\"toc-item-num\">4.4&nbsp;&nbsp;</span>Сравнение графиков</a></span></li>"
   ]
  },
  {
   "cell_type": "markdown",
   "metadata": {},
   "source": [
    "## Подготовка"
   ]
  },
  {
   "cell_type": "code",
   "execution_count": 53,
   "metadata": {},
   "outputs": [],
   "source": [
    "# Импортируем все необходимые для работы библиотеки\n",
    "import pandas as pd\n",
    "import matplotlib.pyplot as plt\n",
    "from statsmodels.tsa.seasonal import seasonal_decompose\n",
    "from sklearn.model_selection import train_test_split\n",
    "from sklearn.linear_model import LinearRegression \n",
    "from sklearn.tree import DecisionTreeRegressor\n",
    "from xgboost import XGBRegressor\n",
    "from sklearn.model_selection import GridSearchCV\n",
    "from sklearn.model_selection import TimeSeriesSplit\n",
    "from sklearn.metrics import mean_squared_error\n",
    "from sklearn.model_selection import cross_val_score\n",
    "from sklearn.metrics import make_scorer"
   ]
  },
  {
   "cell_type": "code",
   "execution_count": 54,
   "metadata": {},
   "outputs": [],
   "source": [
    "# Загрузим таблицу с данными\n",
    "df = pd.read_csv('/datasets/taxi.csv', index_col=[0], parse_dates=[0])"
   ]
  },
  {
   "cell_type": "code",
   "execution_count": 55,
   "metadata": {},
   "outputs": [
    {
     "data": {
      "text/html": [
       "<div>\n",
       "<style scoped>\n",
       "    .dataframe tbody tr th:only-of-type {\n",
       "        vertical-align: middle;\n",
       "    }\n",
       "\n",
       "    .dataframe tbody tr th {\n",
       "        vertical-align: top;\n",
       "    }\n",
       "\n",
       "    .dataframe thead th {\n",
       "        text-align: right;\n",
       "    }\n",
       "</style>\n",
       "<table border=\"1\" class=\"dataframe\">\n",
       "  <thead>\n",
       "    <tr style=\"text-align: right;\">\n",
       "      <th></th>\n",
       "      <th>num_orders</th>\n",
       "    </tr>\n",
       "    <tr>\n",
       "      <th>datetime</th>\n",
       "      <th></th>\n",
       "    </tr>\n",
       "  </thead>\n",
       "  <tbody>\n",
       "    <tr>\n",
       "      <th>2018-03-01 00:00:00</th>\n",
       "      <td>9</td>\n",
       "    </tr>\n",
       "    <tr>\n",
       "      <th>2018-03-01 00:10:00</th>\n",
       "      <td>14</td>\n",
       "    </tr>\n",
       "    <tr>\n",
       "      <th>2018-03-01 00:20:00</th>\n",
       "      <td>28</td>\n",
       "    </tr>\n",
       "    <tr>\n",
       "      <th>2018-03-01 00:30:00</th>\n",
       "      <td>20</td>\n",
       "    </tr>\n",
       "    <tr>\n",
       "      <th>2018-03-01 00:40:00</th>\n",
       "      <td>32</td>\n",
       "    </tr>\n",
       "    <tr>\n",
       "      <th>2018-03-01 00:50:00</th>\n",
       "      <td>21</td>\n",
       "    </tr>\n",
       "    <tr>\n",
       "      <th>2018-03-01 01:00:00</th>\n",
       "      <td>7</td>\n",
       "    </tr>\n",
       "    <tr>\n",
       "      <th>2018-03-01 01:10:00</th>\n",
       "      <td>5</td>\n",
       "    </tr>\n",
       "    <tr>\n",
       "      <th>2018-03-01 01:20:00</th>\n",
       "      <td>17</td>\n",
       "    </tr>\n",
       "    <tr>\n",
       "      <th>2018-03-01 01:30:00</th>\n",
       "      <td>12</td>\n",
       "    </tr>\n",
       "  </tbody>\n",
       "</table>\n",
       "</div>"
      ],
      "text/plain": [
       "                     num_orders\n",
       "datetime                       \n",
       "2018-03-01 00:00:00           9\n",
       "2018-03-01 00:10:00          14\n",
       "2018-03-01 00:20:00          28\n",
       "2018-03-01 00:30:00          20\n",
       "2018-03-01 00:40:00          32\n",
       "2018-03-01 00:50:00          21\n",
       "2018-03-01 01:00:00           7\n",
       "2018-03-01 01:10:00           5\n",
       "2018-03-01 01:20:00          17\n",
       "2018-03-01 01:30:00          12"
      ]
     },
     "execution_count": 55,
     "metadata": {},
     "output_type": "execute_result"
    }
   ],
   "source": [
    "# Посмотрим на первые 10 строк нашей таблицы\n",
    "df.head(10)"
   ]
  },
  {
   "cell_type": "markdown",
   "metadata": {},
   "source": [
    "Видим, что в таблице имеется всего два столбца:\n",
    "\n",
    "- datetime - время заказа (сразу через функцию index_col=[0] установили данный столбец в качестве индекса);\n",
    "- num_orders - количество заказов."
   ]
  },
  {
   "cell_type": "code",
   "execution_count": 56,
   "metadata": {},
   "outputs": [
    {
     "name": "stdout",
     "output_type": "stream",
     "text": [
      "<class 'pandas.core.frame.DataFrame'>\n",
      "DatetimeIndex: 26496 entries, 2018-03-01 00:00:00 to 2018-08-31 23:50:00\n",
      "Data columns (total 1 columns):\n",
      " #   Column      Non-Null Count  Dtype\n",
      "---  ------      --------------  -----\n",
      " 0   num_orders  26496 non-null  int64\n",
      "dtypes: int64(1)\n",
      "memory usage: 414.0 KB\n"
     ]
    }
   ],
   "source": [
    "# Посмотрим на общую информацию о таблице\n",
    "df.info()"
   ]
  },
  {
   "cell_type": "markdown",
   "metadata": {},
   "source": [
    "Проверять данные на наличие дубликатов нет смысла, так как у нас остался один столбец, значения которого могут повторяться."
   ]
  },
  {
   "cell_type": "code",
   "execution_count": 57,
   "metadata": {},
   "outputs": [
    {
     "data": {
      "text/plain": [
       "True"
      ]
     },
     "execution_count": 57,
     "metadata": {},
     "output_type": "execute_result"
    }
   ],
   "source": [
    "# Проверим, в хронологическом ли порядке расположены даты и время\n",
    "df.index.is_monotonic"
   ]
  },
  {
   "cell_type": "markdown",
   "metadata": {},
   "source": [
    "Данные расположены в хронологическом порядке."
   ]
  },
  {
   "cell_type": "code",
   "execution_count": 58,
   "metadata": {},
   "outputs": [],
   "source": [
    "# Проведем ресемплирование по одному часу\n",
    "df = df.resample('1H').sum()"
   ]
  },
  {
   "cell_type": "markdown",
   "metadata": {},
   "source": [
    "На первом этапе загрузили таблицу с данными, сразу изменив формат столбца с датой и временем на нужный тип данных и установив его в качестве индекса. Данные не требовали никакой дополнительной обработки. Затем провели ресемплирование с шагом в 1 час, агрегировав значения по сумме."
   ]
  },
  {
   "cell_type": "markdown",
   "metadata": {},
   "source": [
    "## Анализ"
   ]
  },
  {
   "cell_type": "markdown",
   "metadata": {},
   "source": [
    "На данном этапе проведем анализ изменения количества заявок во времени."
   ]
  },
  {
   "cell_type": "markdown",
   "metadata": {},
   "source": [
    "Построим график получения заявок за весь интервал времени в разрезе их суммарного количества по часам."
   ]
  },
  {
   "cell_type": "code",
   "execution_count": 59,
   "metadata": {},
   "outputs": [
    {
     "data": {
      "image/png": "[encoded data removed]",
      "text/plain": [
       "<Figure size 720x576 with 1 Axes>"
      ]
     },
     "metadata": {
      "needs_background": "light"
     },
     "output_type": "display_data"
    }
   ],
   "source": [
    "df.plot(figsize=(10, 8))\n",
    "plt.show()"
   ]
  },
  {
   "cell_type": "markdown",
   "metadata": {},
   "source": [
    "По данному графику сложно сделать какой-то вывод. На мой взгляд, стоит отметить большие колебания количества заявок, особенно начиная приблизительно с середины августа. "
   ]
  },
  {
   "cell_type": "markdown",
   "metadata": {},
   "source": [
    "Чтобы лучше понимать временной ряд, разложим его на тренд и сезонную компоненту."
   ]
  },
  {
   "cell_type": "code",
   "execution_count": 60,
   "metadata": {},
   "outputs": [],
   "source": [
    "# Функция для построения графиков\n",
    "def plots(data):\n",
    "\n",
    "    # График тренда\n",
    "    decomposed = seasonal_decompose(data)\n",
    "    plt.figure(figsize=(10, 8))\n",
    "    plt.subplot(311)\n",
    "    decomposed.trend.plot(ax=plt.gca())\n",
    "    plt.title('Trend')\n",
    "    # График сезонности\n",
    "    plt.subplot(312)\n",
    "    decomposed.seasonal.plot(ax=plt.gca())\n",
    "    plt.title('Seasonality')\n",
    "    # График остатков\n",
    "    plt.subplot(313)\n",
    "    decomposed.resid.plot(ax=plt.gca())\n",
    "    plt.title('Residuals')\n",
    "    plt.tight_layout()\n",
    "    plt.show()"
   ]
  },
  {
   "cell_type": "code",
   "execution_count": 61,
   "metadata": {},
   "outputs": [
    {
     "data": {
      "image/png": "[encoded data removed]",
      "text/plain": [
       "<Figure size 720x576 with 3 Axes>"
      ]
     },
     "metadata": {
      "needs_background": "light"
     },
     "output_type": "display_data"
    }
   ],
   "source": [
    "# Применим функцию ко всему датафрейму\n",
    "plots(df)"
   ]
  },
  {
   "cell_type": "markdown",
   "metadata": {},
   "source": [
    "По графикам сезонности и остатков сложно сделать какие-либо выводы. По графику тренда видно, что наблюдается восходящий тренд почасовоого количества заявок на протяжении всего анализируемого периода."
   ]
  },
  {
   "cell_type": "markdown",
   "metadata": {},
   "source": [
    "Чтобы детальнее увидеть особенности распределения заявок по часам, выберем несколько дней датасета."
   ]
  },
  {
   "cell_type": "code",
   "execution_count": 62,
   "metadata": {},
   "outputs": [],
   "source": [
    "df_new = df['2018-08-15':'2018-08-17']"
   ]
  },
  {
   "cell_type": "code",
   "execution_count": 63,
   "metadata": {},
   "outputs": [
    {
     "data": {
      "image/png": "[encoded data removed]",
      "text/plain": [
       "<Figure size 720x576 with 3 Axes>"
      ]
     },
     "metadata": {
      "needs_background": "light"
     },
     "output_type": "display_data"
    }
   ],
   "source": [
    "plots(df_new)"
   ]
  },
  {
   "cell_type": "markdown",
   "metadata": {},
   "source": [
    "На данном интервале можно отследить наибольшую активность клиентов в течение дня. Наибольшее количество заявок наблюдается в вечернее время. Начиная с ночи количество начинает уменьшаться и лишь под утро заявок становтися больше."
   ]
  },
  {
   "cell_type": "markdown",
   "metadata": {},
   "source": [
    "В результате анализа удалось установить:\n",
    "\n",
    "1. У компании наблюдается положительная тенденция роста количества заявок на протяжении всего анализиуемого периода.\n",
    "2. Наибольшее количество заявок наблюдается в вечернее время, затем с ночи до утра происходит спад, после чего активность клиентов увеличивается."
   ]
  },
  {
   "cell_type": "markdown",
   "metadata": {},
   "source": [
    "## Обучение"
   ]
  },
  {
   "cell_type": "markdown",
   "metadata": {},
   "source": [
    "На данном этапе проведем обучения моделей линейной регрессии, решающего дерева и XGBoost.\n",
    "\n",
    "Перед началом обучения добавим новые признаки в датасет:\n",
    "\n",
    "1. каледнарные признаки - year, month, day и dayofweek;\n",
    "2. отстающие значения - lag;\n",
    "3. скользящее среднее - rolling_mean."
   ]
  },
  {
   "cell_type": "markdown",
   "metadata": {},
   "source": [
    "Напишем функцию make_features, чтобы прибавить к таблице новые признаки."
   ]
  },
  {
   "cell_type": "code",
   "execution_count": 64,
   "metadata": {},
   "outputs": [],
   "source": [
    "def make_features(data, max_lag, rolling_mean_size):\n",
    "    data['year'] = data.index.year\n",
    "    data['month'] = data.index.month\n",
    "    data['day'] = data.index.day\n",
    "    data['dayofweek'] = data.index.dayofweek\n",
    "    \n",
    "    for lag in range(1, max_lag + 1):\n",
    "        data['lag_{}'.format(lag)] = data['num_orders'].shift(lag)\n",
    "\n",
    "    data['rolling_mean'] = data['num_orders'].shift().rolling(rolling_mean_size).mean()\n",
    "    \n",
    "    return data\n"
   ]
  },
  {
   "cell_type": "code",
   "execution_count": 65,
   "metadata": {},
   "outputs": [],
   "source": [
    "new_df = make_features(df, 24, 100)"
   ]
  },
  {
   "cell_type": "code",
   "execution_count": 66,
   "metadata": {},
   "outputs": [
    {
     "data": {
      "text/html": [
       "<div>\n",
       "<style scoped>\n",
       "    .dataframe tbody tr th:only-of-type {\n",
       "        vertical-align: middle;\n",
       "    }\n",
       "\n",
       "    .dataframe tbody tr th {\n",
       "        vertical-align: top;\n",
       "    }\n",
       "\n",
       "    .dataframe thead th {\n",
       "        text-align: right;\n",
       "    }\n",
       "</style>\n",
       "<table border=\"1\" class=\"dataframe\">\n",
       "  <thead>\n",
       "    <tr style=\"text-align: right;\">\n",
       "      <th></th>\n",
       "      <th>num_orders</th>\n",
       "      <th>year</th>\n",
       "      <th>month</th>\n",
       "      <th>day</th>\n",
       "      <th>dayofweek</th>\n",
       "      <th>lag_1</th>\n",
       "      <th>lag_2</th>\n",
       "      <th>lag_3</th>\n",
       "      <th>lag_4</th>\n",
       "      <th>lag_5</th>\n",
       "      <th>...</th>\n",
       "      <th>lag_16</th>\n",
       "      <th>lag_17</th>\n",
       "      <th>lag_18</th>\n",
       "      <th>lag_19</th>\n",
       "      <th>lag_20</th>\n",
       "      <th>lag_21</th>\n",
       "      <th>lag_22</th>\n",
       "      <th>lag_23</th>\n",
       "      <th>lag_24</th>\n",
       "      <th>rolling_mean</th>\n",
       "    </tr>\n",
       "    <tr>\n",
       "      <th>datetime</th>\n",
       "      <th></th>\n",
       "      <th></th>\n",
       "      <th></th>\n",
       "      <th></th>\n",
       "      <th></th>\n",
       "      <th></th>\n",
       "      <th></th>\n",
       "      <th></th>\n",
       "      <th></th>\n",
       "      <th></th>\n",
       "      <th></th>\n",
       "      <th></th>\n",
       "      <th></th>\n",
       "      <th></th>\n",
       "      <th></th>\n",
       "      <th></th>\n",
       "      <th></th>\n",
       "      <th></th>\n",
       "      <th></th>\n",
       "      <th></th>\n",
       "      <th></th>\n",
       "    </tr>\n",
       "  </thead>\n",
       "  <tbody>\n",
       "    <tr>\n",
       "      <th>2018-03-01 00:00:00</th>\n",
       "      <td>124</td>\n",
       "      <td>2018</td>\n",
       "      <td>3</td>\n",
       "      <td>1</td>\n",
       "      <td>3</td>\n",
       "      <td>NaN</td>\n",
       "      <td>NaN</td>\n",
       "      <td>NaN</td>\n",
       "      <td>NaN</td>\n",
       "      <td>NaN</td>\n",
       "      <td>...</td>\n",
       "      <td>NaN</td>\n",
       "      <td>NaN</td>\n",
       "      <td>NaN</td>\n",
       "      <td>NaN</td>\n",
       "      <td>NaN</td>\n",
       "      <td>NaN</td>\n",
       "      <td>NaN</td>\n",
       "      <td>NaN</td>\n",
       "      <td>NaN</td>\n",
       "      <td>NaN</td>\n",
       "    </tr>\n",
       "    <tr>\n",
       "      <th>2018-03-01 01:00:00</th>\n",
       "      <td>85</td>\n",
       "      <td>2018</td>\n",
       "      <td>3</td>\n",
       "      <td>1</td>\n",
       "      <td>3</td>\n",
       "      <td>124.0</td>\n",
       "      <td>NaN</td>\n",
       "      <td>NaN</td>\n",
       "      <td>NaN</td>\n",
       "      <td>NaN</td>\n",
       "      <td>...</td>\n",
       "      <td>NaN</td>\n",
       "      <td>NaN</td>\n",
       "      <td>NaN</td>\n",
       "      <td>NaN</td>\n",
       "      <td>NaN</td>\n",
       "      <td>NaN</td>\n",
       "      <td>NaN</td>\n",
       "      <td>NaN</td>\n",
       "      <td>NaN</td>\n",
       "      <td>NaN</td>\n",
       "    </tr>\n",
       "    <tr>\n",
       "      <th>2018-03-01 02:00:00</th>\n",
       "      <td>71</td>\n",
       "      <td>2018</td>\n",
       "      <td>3</td>\n",
       "      <td>1</td>\n",
       "      <td>3</td>\n",
       "      <td>85.0</td>\n",
       "      <td>124.0</td>\n",
       "      <td>NaN</td>\n",
       "      <td>NaN</td>\n",
       "      <td>NaN</td>\n",
       "      <td>...</td>\n",
       "      <td>NaN</td>\n",
       "      <td>NaN</td>\n",
       "      <td>NaN</td>\n",
       "      <td>NaN</td>\n",
       "      <td>NaN</td>\n",
       "      <td>NaN</td>\n",
       "      <td>NaN</td>\n",
       "      <td>NaN</td>\n",
       "      <td>NaN</td>\n",
       "      <td>NaN</td>\n",
       "    </tr>\n",
       "    <tr>\n",
       "      <th>2018-03-01 03:00:00</th>\n",
       "      <td>66</td>\n",
       "      <td>2018</td>\n",
       "      <td>3</td>\n",
       "      <td>1</td>\n",
       "      <td>3</td>\n",
       "      <td>71.0</td>\n",
       "      <td>85.0</td>\n",
       "      <td>124.0</td>\n",
       "      <td>NaN</td>\n",
       "      <td>NaN</td>\n",
       "      <td>...</td>\n",
       "      <td>NaN</td>\n",
       "      <td>NaN</td>\n",
       "      <td>NaN</td>\n",
       "      <td>NaN</td>\n",
       "      <td>NaN</td>\n",
       "      <td>NaN</td>\n",
       "      <td>NaN</td>\n",
       "      <td>NaN</td>\n",
       "      <td>NaN</td>\n",
       "      <td>NaN</td>\n",
       "    </tr>\n",
       "    <tr>\n",
       "      <th>2018-03-01 04:00:00</th>\n",
       "      <td>43</td>\n",
       "      <td>2018</td>\n",
       "      <td>3</td>\n",
       "      <td>1</td>\n",
       "      <td>3</td>\n",
       "      <td>66.0</td>\n",
       "      <td>71.0</td>\n",
       "      <td>85.0</td>\n",
       "      <td>124.0</td>\n",
       "      <td>NaN</td>\n",
       "      <td>...</td>\n",
       "      <td>NaN</td>\n",
       "      <td>NaN</td>\n",
       "      <td>NaN</td>\n",
       "      <td>NaN</td>\n",
       "      <td>NaN</td>\n",
       "      <td>NaN</td>\n",
       "      <td>NaN</td>\n",
       "      <td>NaN</td>\n",
       "      <td>NaN</td>\n",
       "      <td>NaN</td>\n",
       "    </tr>\n",
       "    <tr>\n",
       "      <th>...</th>\n",
       "      <td>...</td>\n",
       "      <td>...</td>\n",
       "      <td>...</td>\n",
       "      <td>...</td>\n",
       "      <td>...</td>\n",
       "      <td>...</td>\n",
       "      <td>...</td>\n",
       "      <td>...</td>\n",
       "      <td>...</td>\n",
       "      <td>...</td>\n",
       "      <td>...</td>\n",
       "      <td>...</td>\n",
       "      <td>...</td>\n",
       "      <td>...</td>\n",
       "      <td>...</td>\n",
       "      <td>...</td>\n",
       "      <td>...</td>\n",
       "      <td>...</td>\n",
       "      <td>...</td>\n",
       "      <td>...</td>\n",
       "      <td>...</td>\n",
       "    </tr>\n",
       "    <tr>\n",
       "      <th>2018-08-31 19:00:00</th>\n",
       "      <td>136</td>\n",
       "      <td>2018</td>\n",
       "      <td>8</td>\n",
       "      <td>31</td>\n",
       "      <td>4</td>\n",
       "      <td>207.0</td>\n",
       "      <td>217.0</td>\n",
       "      <td>197.0</td>\n",
       "      <td>116.0</td>\n",
       "      <td>133.0</td>\n",
       "      <td>...</td>\n",
       "      <td>99.0</td>\n",
       "      <td>230.0</td>\n",
       "      <td>194.0</td>\n",
       "      <td>276.0</td>\n",
       "      <td>246.0</td>\n",
       "      <td>158.0</td>\n",
       "      <td>198.0</td>\n",
       "      <td>142.0</td>\n",
       "      <td>72.0</td>\n",
       "      <td>157.33</td>\n",
       "    </tr>\n",
       "    <tr>\n",
       "      <th>2018-08-31 20:00:00</th>\n",
       "      <td>154</td>\n",
       "      <td>2018</td>\n",
       "      <td>8</td>\n",
       "      <td>31</td>\n",
       "      <td>4</td>\n",
       "      <td>136.0</td>\n",
       "      <td>207.0</td>\n",
       "      <td>217.0</td>\n",
       "      <td>197.0</td>\n",
       "      <td>116.0</td>\n",
       "      <td>...</td>\n",
       "      <td>268.0</td>\n",
       "      <td>99.0</td>\n",
       "      <td>230.0</td>\n",
       "      <td>194.0</td>\n",
       "      <td>276.0</td>\n",
       "      <td>246.0</td>\n",
       "      <td>158.0</td>\n",
       "      <td>198.0</td>\n",
       "      <td>142.0</td>\n",
       "      <td>156.74</td>\n",
       "    </tr>\n",
       "    <tr>\n",
       "      <th>2018-08-31 21:00:00</th>\n",
       "      <td>159</td>\n",
       "      <td>2018</td>\n",
       "      <td>8</td>\n",
       "      <td>31</td>\n",
       "      <td>4</td>\n",
       "      <td>154.0</td>\n",
       "      <td>136.0</td>\n",
       "      <td>207.0</td>\n",
       "      <td>217.0</td>\n",
       "      <td>197.0</td>\n",
       "      <td>...</td>\n",
       "      <td>78.0</td>\n",
       "      <td>268.0</td>\n",
       "      <td>99.0</td>\n",
       "      <td>230.0</td>\n",
       "      <td>194.0</td>\n",
       "      <td>276.0</td>\n",
       "      <td>246.0</td>\n",
       "      <td>158.0</td>\n",
       "      <td>198.0</td>\n",
       "      <td>156.63</td>\n",
       "    </tr>\n",
       "    <tr>\n",
       "      <th>2018-08-31 22:00:00</th>\n",
       "      <td>223</td>\n",
       "      <td>2018</td>\n",
       "      <td>8</td>\n",
       "      <td>31</td>\n",
       "      <td>4</td>\n",
       "      <td>159.0</td>\n",
       "      <td>154.0</td>\n",
       "      <td>136.0</td>\n",
       "      <td>207.0</td>\n",
       "      <td>217.0</td>\n",
       "      <td>...</td>\n",
       "      <td>35.0</td>\n",
       "      <td>78.0</td>\n",
       "      <td>268.0</td>\n",
       "      <td>99.0</td>\n",
       "      <td>230.0</td>\n",
       "      <td>194.0</td>\n",
       "      <td>276.0</td>\n",
       "      <td>246.0</td>\n",
       "      <td>158.0</td>\n",
       "      <td>156.40</td>\n",
       "    </tr>\n",
       "    <tr>\n",
       "      <th>2018-08-31 23:00:00</th>\n",
       "      <td>205</td>\n",
       "      <td>2018</td>\n",
       "      <td>8</td>\n",
       "      <td>31</td>\n",
       "      <td>4</td>\n",
       "      <td>223.0</td>\n",
       "      <td>159.0</td>\n",
       "      <td>154.0</td>\n",
       "      <td>136.0</td>\n",
       "      <td>207.0</td>\n",
       "      <td>...</td>\n",
       "      <td>46.0</td>\n",
       "      <td>35.0</td>\n",
       "      <td>78.0</td>\n",
       "      <td>268.0</td>\n",
       "      <td>99.0</td>\n",
       "      <td>230.0</td>\n",
       "      <td>194.0</td>\n",
       "      <td>276.0</td>\n",
       "      <td>246.0</td>\n",
       "      <td>157.52</td>\n",
       "    </tr>\n",
       "  </tbody>\n",
       "</table>\n",
       "<p>4416 rows × 30 columns</p>\n",
       "</div>"
      ],
      "text/plain": [
       "                     num_orders  year  month  day  dayofweek  lag_1  lag_2  \\\n",
       "datetime                                                                     \n",
       "2018-03-01 00:00:00         124  2018      3    1          3    NaN    NaN   \n",
       "2018-03-01 01:00:00          85  2018      3    1          3  124.0    NaN   \n",
       "2018-03-01 02:00:00          71  2018      3    1          3   85.0  124.0   \n",
       "2018-03-01 03:00:00          66  2018      3    1          3   71.0   85.0   \n",
       "2018-03-01 04:00:00          43  2018      3    1          3   66.0   71.0   \n",
       "...                         ...   ...    ...  ...        ...    ...    ...   \n",
       "2018-08-31 19:00:00         136  2018      8   31          4  207.0  217.0   \n",
       "2018-08-31 20:00:00         154  2018      8   31          4  136.0  207.0   \n",
       "2018-08-31 21:00:00         159  2018      8   31          4  154.0  136.0   \n",
       "2018-08-31 22:00:00         223  2018      8   31          4  159.0  154.0   \n",
       "2018-08-31 23:00:00         205  2018      8   31          4  223.0  159.0   \n",
       "\n",
       "                     lag_3  lag_4  lag_5  ...  lag_16  lag_17  lag_18  lag_19  \\\n",
       "datetime                                  ...                                   \n",
       "2018-03-01 00:00:00    NaN    NaN    NaN  ...     NaN     NaN     NaN     NaN   \n",
       "2018-03-01 01:00:00    NaN    NaN    NaN  ...     NaN     NaN     NaN     NaN   \n",
       "2018-03-01 02:00:00    NaN    NaN    NaN  ...     NaN     NaN     NaN     NaN   \n",
       "2018-03-01 03:00:00  124.0    NaN    NaN  ...     NaN     NaN     NaN     NaN   \n",
       "2018-03-01 04:00:00   85.0  124.0    NaN  ...     NaN     NaN     NaN     NaN   \n",
       "...                    ...    ...    ...  ...     ...     ...     ...     ...   \n",
       "2018-08-31 19:00:00  197.0  116.0  133.0  ...    99.0   230.0   194.0   276.0   \n",
       "2018-08-31 20:00:00  217.0  197.0  116.0  ...   268.0    99.0   230.0   194.0   \n",
       "2018-08-31 21:00:00  207.0  217.0  197.0  ...    78.0   268.0    99.0   230.0   \n",
       "2018-08-31 22:00:00  136.0  207.0  217.0  ...    35.0    78.0   268.0    99.0   \n",
       "2018-08-31 23:00:00  154.0  136.0  207.0  ...    46.0    35.0    78.0   268.0   \n",
       "\n",
       "                     lag_20  lag_21  lag_22  lag_23  lag_24  rolling_mean  \n",
       "datetime                                                                   \n",
       "2018-03-01 00:00:00     NaN     NaN     NaN     NaN     NaN           NaN  \n",
       "2018-03-01 01:00:00     NaN     NaN     NaN     NaN     NaN           NaN  \n",
       "2018-03-01 02:00:00     NaN     NaN     NaN     NaN     NaN           NaN  \n",
       "2018-03-01 03:00:00     NaN     NaN     NaN     NaN     NaN           NaN  \n",
       "2018-03-01 04:00:00     NaN     NaN     NaN     NaN     NaN           NaN  \n",
       "...                     ...     ...     ...     ...     ...           ...  \n",
       "2018-08-31 19:00:00   246.0   158.0   198.0   142.0    72.0        157.33  \n",
       "2018-08-31 20:00:00   276.0   246.0   158.0   198.0   142.0        156.74  \n",
       "2018-08-31 21:00:00   194.0   276.0   246.0   158.0   198.0        156.63  \n",
       "2018-08-31 22:00:00   230.0   194.0   276.0   246.0   158.0        156.40  \n",
       "2018-08-31 23:00:00    99.0   230.0   194.0   276.0   246.0        157.52  \n",
       "\n",
       "[4416 rows x 30 columns]"
      ]
     },
     "execution_count": 66,
     "metadata": {},
     "output_type": "execute_result"
    }
   ],
   "source": [
    "new_df"
   ]
  },
  {
   "cell_type": "markdown",
   "metadata": {},
   "source": [
    "Посмотрим на таблицу с новыми признаками."
   ]
  },
  {
   "cell_type": "code",
   "execution_count": 67,
   "metadata": {},
   "outputs": [
    {
     "data": {
      "text/html": [
       "<div>\n",
       "<style scoped>\n",
       "    .dataframe tbody tr th:only-of-type {\n",
       "        vertical-align: middle;\n",
       "    }\n",
       "\n",
       "    .dataframe tbody tr th {\n",
       "        vertical-align: top;\n",
       "    }\n",
       "\n",
       "    .dataframe thead th {\n",
       "        text-align: right;\n",
       "    }\n",
       "</style>\n",
       "<table border=\"1\" class=\"dataframe\">\n",
       "  <thead>\n",
       "    <tr style=\"text-align: right;\">\n",
       "      <th></th>\n",
       "      <th>num_orders</th>\n",
       "      <th>year</th>\n",
       "      <th>month</th>\n",
       "      <th>day</th>\n",
       "      <th>dayofweek</th>\n",
       "      <th>lag_1</th>\n",
       "      <th>lag_2</th>\n",
       "      <th>lag_3</th>\n",
       "      <th>lag_4</th>\n",
       "      <th>lag_5</th>\n",
       "      <th>...</th>\n",
       "      <th>lag_16</th>\n",
       "      <th>lag_17</th>\n",
       "      <th>lag_18</th>\n",
       "      <th>lag_19</th>\n",
       "      <th>lag_20</th>\n",
       "      <th>lag_21</th>\n",
       "      <th>lag_22</th>\n",
       "      <th>lag_23</th>\n",
       "      <th>lag_24</th>\n",
       "      <th>rolling_mean</th>\n",
       "    </tr>\n",
       "    <tr>\n",
       "      <th>datetime</th>\n",
       "      <th></th>\n",
       "      <th></th>\n",
       "      <th></th>\n",
       "      <th></th>\n",
       "      <th></th>\n",
       "      <th></th>\n",
       "      <th></th>\n",
       "      <th></th>\n",
       "      <th></th>\n",
       "      <th></th>\n",
       "      <th></th>\n",
       "      <th></th>\n",
       "      <th></th>\n",
       "      <th></th>\n",
       "      <th></th>\n",
       "      <th></th>\n",
       "      <th></th>\n",
       "      <th></th>\n",
       "      <th></th>\n",
       "      <th></th>\n",
       "      <th></th>\n",
       "    </tr>\n",
       "  </thead>\n",
       "  <tbody>\n",
       "    <tr>\n",
       "      <th>2018-03-01 00:00:00</th>\n",
       "      <td>124</td>\n",
       "      <td>2018</td>\n",
       "      <td>3</td>\n",
       "      <td>1</td>\n",
       "      <td>3</td>\n",
       "      <td>NaN</td>\n",
       "      <td>NaN</td>\n",
       "      <td>NaN</td>\n",
       "      <td>NaN</td>\n",
       "      <td>NaN</td>\n",
       "      <td>...</td>\n",
       "      <td>NaN</td>\n",
       "      <td>NaN</td>\n",
       "      <td>NaN</td>\n",
       "      <td>NaN</td>\n",
       "      <td>NaN</td>\n",
       "      <td>NaN</td>\n",
       "      <td>NaN</td>\n",
       "      <td>NaN</td>\n",
       "      <td>NaN</td>\n",
       "      <td>NaN</td>\n",
       "    </tr>\n",
       "    <tr>\n",
       "      <th>2018-03-01 01:00:00</th>\n",
       "      <td>85</td>\n",
       "      <td>2018</td>\n",
       "      <td>3</td>\n",
       "      <td>1</td>\n",
       "      <td>3</td>\n",
       "      <td>124.0</td>\n",
       "      <td>NaN</td>\n",
       "      <td>NaN</td>\n",
       "      <td>NaN</td>\n",
       "      <td>NaN</td>\n",
       "      <td>...</td>\n",
       "      <td>NaN</td>\n",
       "      <td>NaN</td>\n",
       "      <td>NaN</td>\n",
       "      <td>NaN</td>\n",
       "      <td>NaN</td>\n",
       "      <td>NaN</td>\n",
       "      <td>NaN</td>\n",
       "      <td>NaN</td>\n",
       "      <td>NaN</td>\n",
       "      <td>NaN</td>\n",
       "    </tr>\n",
       "    <tr>\n",
       "      <th>2018-03-01 02:00:00</th>\n",
       "      <td>71</td>\n",
       "      <td>2018</td>\n",
       "      <td>3</td>\n",
       "      <td>1</td>\n",
       "      <td>3</td>\n",
       "      <td>85.0</td>\n",
       "      <td>124.0</td>\n",
       "      <td>NaN</td>\n",
       "      <td>NaN</td>\n",
       "      <td>NaN</td>\n",
       "      <td>...</td>\n",
       "      <td>NaN</td>\n",
       "      <td>NaN</td>\n",
       "      <td>NaN</td>\n",
       "      <td>NaN</td>\n",
       "      <td>NaN</td>\n",
       "      <td>NaN</td>\n",
       "      <td>NaN</td>\n",
       "      <td>NaN</td>\n",
       "      <td>NaN</td>\n",
       "      <td>NaN</td>\n",
       "    </tr>\n",
       "    <tr>\n",
       "      <th>2018-03-01 03:00:00</th>\n",
       "      <td>66</td>\n",
       "      <td>2018</td>\n",
       "      <td>3</td>\n",
       "      <td>1</td>\n",
       "      <td>3</td>\n",
       "      <td>71.0</td>\n",
       "      <td>85.0</td>\n",
       "      <td>124.0</td>\n",
       "      <td>NaN</td>\n",
       "      <td>NaN</td>\n",
       "      <td>...</td>\n",
       "      <td>NaN</td>\n",
       "      <td>NaN</td>\n",
       "      <td>NaN</td>\n",
       "      <td>NaN</td>\n",
       "      <td>NaN</td>\n",
       "      <td>NaN</td>\n",
       "      <td>NaN</td>\n",
       "      <td>NaN</td>\n",
       "      <td>NaN</td>\n",
       "      <td>NaN</td>\n",
       "    </tr>\n",
       "    <tr>\n",
       "      <th>2018-03-01 04:00:00</th>\n",
       "      <td>43</td>\n",
       "      <td>2018</td>\n",
       "      <td>3</td>\n",
       "      <td>1</td>\n",
       "      <td>3</td>\n",
       "      <td>66.0</td>\n",
       "      <td>71.0</td>\n",
       "      <td>85.0</td>\n",
       "      <td>124.0</td>\n",
       "      <td>NaN</td>\n",
       "      <td>...</td>\n",
       "      <td>NaN</td>\n",
       "      <td>NaN</td>\n",
       "      <td>NaN</td>\n",
       "      <td>NaN</td>\n",
       "      <td>NaN</td>\n",
       "      <td>NaN</td>\n",
       "      <td>NaN</td>\n",
       "      <td>NaN</td>\n",
       "      <td>NaN</td>\n",
       "      <td>NaN</td>\n",
       "    </tr>\n",
       "    <tr>\n",
       "      <th>2018-03-01 05:00:00</th>\n",
       "      <td>6</td>\n",
       "      <td>2018</td>\n",
       "      <td>3</td>\n",
       "      <td>1</td>\n",
       "      <td>3</td>\n",
       "      <td>43.0</td>\n",
       "      <td>66.0</td>\n",
       "      <td>71.0</td>\n",
       "      <td>85.0</td>\n",
       "      <td>124.0</td>\n",
       "      <td>...</td>\n",
       "      <td>NaN</td>\n",
       "      <td>NaN</td>\n",
       "      <td>NaN</td>\n",
       "      <td>NaN</td>\n",
       "      <td>NaN</td>\n",
       "      <td>NaN</td>\n",
       "      <td>NaN</td>\n",
       "      <td>NaN</td>\n",
       "      <td>NaN</td>\n",
       "      <td>NaN</td>\n",
       "    </tr>\n",
       "    <tr>\n",
       "      <th>2018-03-01 06:00:00</th>\n",
       "      <td>12</td>\n",
       "      <td>2018</td>\n",
       "      <td>3</td>\n",
       "      <td>1</td>\n",
       "      <td>3</td>\n",
       "      <td>6.0</td>\n",
       "      <td>43.0</td>\n",
       "      <td>66.0</td>\n",
       "      <td>71.0</td>\n",
       "      <td>85.0</td>\n",
       "      <td>...</td>\n",
       "      <td>NaN</td>\n",
       "      <td>NaN</td>\n",
       "      <td>NaN</td>\n",
       "      <td>NaN</td>\n",
       "      <td>NaN</td>\n",
       "      <td>NaN</td>\n",
       "      <td>NaN</td>\n",
       "      <td>NaN</td>\n",
       "      <td>NaN</td>\n",
       "      <td>NaN</td>\n",
       "    </tr>\n",
       "    <tr>\n",
       "      <th>2018-03-01 07:00:00</th>\n",
       "      <td>15</td>\n",
       "      <td>2018</td>\n",
       "      <td>3</td>\n",
       "      <td>1</td>\n",
       "      <td>3</td>\n",
       "      <td>12.0</td>\n",
       "      <td>6.0</td>\n",
       "      <td>43.0</td>\n",
       "      <td>66.0</td>\n",
       "      <td>71.0</td>\n",
       "      <td>...</td>\n",
       "      <td>NaN</td>\n",
       "      <td>NaN</td>\n",
       "      <td>NaN</td>\n",
       "      <td>NaN</td>\n",
       "      <td>NaN</td>\n",
       "      <td>NaN</td>\n",
       "      <td>NaN</td>\n",
       "      <td>NaN</td>\n",
       "      <td>NaN</td>\n",
       "      <td>NaN</td>\n",
       "    </tr>\n",
       "    <tr>\n",
       "      <th>2018-03-01 08:00:00</th>\n",
       "      <td>34</td>\n",
       "      <td>2018</td>\n",
       "      <td>3</td>\n",
       "      <td>1</td>\n",
       "      <td>3</td>\n",
       "      <td>15.0</td>\n",
       "      <td>12.0</td>\n",
       "      <td>6.0</td>\n",
       "      <td>43.0</td>\n",
       "      <td>66.0</td>\n",
       "      <td>...</td>\n",
       "      <td>NaN</td>\n",
       "      <td>NaN</td>\n",
       "      <td>NaN</td>\n",
       "      <td>NaN</td>\n",
       "      <td>NaN</td>\n",
       "      <td>NaN</td>\n",
       "      <td>NaN</td>\n",
       "      <td>NaN</td>\n",
       "      <td>NaN</td>\n",
       "      <td>NaN</td>\n",
       "    </tr>\n",
       "    <tr>\n",
       "      <th>2018-03-01 09:00:00</th>\n",
       "      <td>69</td>\n",
       "      <td>2018</td>\n",
       "      <td>3</td>\n",
       "      <td>1</td>\n",
       "      <td>3</td>\n",
       "      <td>34.0</td>\n",
       "      <td>15.0</td>\n",
       "      <td>12.0</td>\n",
       "      <td>6.0</td>\n",
       "      <td>43.0</td>\n",
       "      <td>...</td>\n",
       "      <td>NaN</td>\n",
       "      <td>NaN</td>\n",
       "      <td>NaN</td>\n",
       "      <td>NaN</td>\n",
       "      <td>NaN</td>\n",
       "      <td>NaN</td>\n",
       "      <td>NaN</td>\n",
       "      <td>NaN</td>\n",
       "      <td>NaN</td>\n",
       "      <td>NaN</td>\n",
       "    </tr>\n",
       "  </tbody>\n",
       "</table>\n",
       "<p>10 rows × 30 columns</p>\n",
       "</div>"
      ],
      "text/plain": [
       "                     num_orders  year  month  day  dayofweek  lag_1  lag_2  \\\n",
       "datetime                                                                     \n",
       "2018-03-01 00:00:00         124  2018      3    1          3    NaN    NaN   \n",
       "2018-03-01 01:00:00          85  2018      3    1          3  124.0    NaN   \n",
       "2018-03-01 02:00:00          71  2018      3    1          3   85.0  124.0   \n",
       "2018-03-01 03:00:00          66  2018      3    1          3   71.0   85.0   \n",
       "2018-03-01 04:00:00          43  2018      3    1          3   66.0   71.0   \n",
       "2018-03-01 05:00:00           6  2018      3    1          3   43.0   66.0   \n",
       "2018-03-01 06:00:00          12  2018      3    1          3    6.0   43.0   \n",
       "2018-03-01 07:00:00          15  2018      3    1          3   12.0    6.0   \n",
       "2018-03-01 08:00:00          34  2018      3    1          3   15.0   12.0   \n",
       "2018-03-01 09:00:00          69  2018      3    1          3   34.0   15.0   \n",
       "\n",
       "                     lag_3  lag_4  lag_5  ...  lag_16  lag_17  lag_18  lag_19  \\\n",
       "datetime                                  ...                                   \n",
       "2018-03-01 00:00:00    NaN    NaN    NaN  ...     NaN     NaN     NaN     NaN   \n",
       "2018-03-01 01:00:00    NaN    NaN    NaN  ...     NaN     NaN     NaN     NaN   \n",
       "2018-03-01 02:00:00    NaN    NaN    NaN  ...     NaN     NaN     NaN     NaN   \n",
       "2018-03-01 03:00:00  124.0    NaN    NaN  ...     NaN     NaN     NaN     NaN   \n",
       "2018-03-01 04:00:00   85.0  124.0    NaN  ...     NaN     NaN     NaN     NaN   \n",
       "2018-03-01 05:00:00   71.0   85.0  124.0  ...     NaN     NaN     NaN     NaN   \n",
       "2018-03-01 06:00:00   66.0   71.0   85.0  ...     NaN     NaN     NaN     NaN   \n",
       "2018-03-01 07:00:00   43.0   66.0   71.0  ...     NaN     NaN     NaN     NaN   \n",
       "2018-03-01 08:00:00    6.0   43.0   66.0  ...     NaN     NaN     NaN     NaN   \n",
       "2018-03-01 09:00:00   12.0    6.0   43.0  ...     NaN     NaN     NaN     NaN   \n",
       "\n",
       "                     lag_20  lag_21  lag_22  lag_23  lag_24  rolling_mean  \n",
       "datetime                                                                   \n",
       "2018-03-01 00:00:00     NaN     NaN     NaN     NaN     NaN           NaN  \n",
       "2018-03-01 01:00:00     NaN     NaN     NaN     NaN     NaN           NaN  \n",
       "2018-03-01 02:00:00     NaN     NaN     NaN     NaN     NaN           NaN  \n",
       "2018-03-01 03:00:00     NaN     NaN     NaN     NaN     NaN           NaN  \n",
       "2018-03-01 04:00:00     NaN     NaN     NaN     NaN     NaN           NaN  \n",
       "2018-03-01 05:00:00     NaN     NaN     NaN     NaN     NaN           NaN  \n",
       "2018-03-01 06:00:00     NaN     NaN     NaN     NaN     NaN           NaN  \n",
       "2018-03-01 07:00:00     NaN     NaN     NaN     NaN     NaN           NaN  \n",
       "2018-03-01 08:00:00     NaN     NaN     NaN     NaN     NaN           NaN  \n",
       "2018-03-01 09:00:00     NaN     NaN     NaN     NaN     NaN           NaN  \n",
       "\n",
       "[10 rows x 30 columns]"
      ]
     },
     "execution_count": 67,
     "metadata": {},
     "output_type": "execute_result"
    }
   ],
   "source": [
    "new_df.head(10)"
   ]
  },
  {
   "cell_type": "markdown",
   "metadata": {},
   "source": [
    "Далее необходимо разбить выборку на тестовую и обучающую, а затем выделить фичи и таргет."
   ]
  },
  {
   "cell_type": "code",
   "execution_count": 68,
   "metadata": {},
   "outputs": [],
   "source": [
    "train, test = train_test_split(new_df, shuffle=False, test_size=0.1)\n",
    "train = train.dropna()\n",
    "\n",
    "features_train = train.drop(['num_orders'], axis=1) \n",
    "target_train = train['num_orders']\n",
    "\n",
    "features_test = test.drop(['num_orders'], axis=1) \n",
    "target_test = test['num_orders']"
   ]
  },
  {
   "cell_type": "markdown",
   "metadata": {},
   "source": [
    "Так как мы имеем дело с временными рядами, то использовать обычную кросс-валидацию не получится в GridSearch. Поэтому применим TimeSeriesSplit."
   ]
  },
  {
   "cell_type": "code",
   "execution_count": 69,
   "metadata": {},
   "outputs": [],
   "source": [
    "# Напишем функцию для вычисления RMSE модели\n",
    "def RMSE(target, predict):\n",
    "    return (mean_squared_error(target, predict))**0.5\n",
    "   \n",
    "# Создадим метрику RMSE с помощью функции make_scorer\n",
    "RMSE_score = make_scorer(RMSE, greater_is_better=False)"
   ]
  },
  {
   "cell_type": "markdown",
   "metadata": {},
   "source": [
    "### Модель линейной регрессии"
   ]
  },
  {
   "cell_type": "code",
   "execution_count": 70,
   "metadata": {},
   "outputs": [
    {
     "name": "stdout",
     "output_type": "stream",
     "text": [
      "Среднее значение RMSE модели линейной регрессии равно 28.284093719600765\n",
      "CPU times: user 328 ms, sys: 425 ms, total: 752 ms\n",
      "Wall time: 705 ms\n"
     ]
    }
   ],
   "source": [
    "%%time\n",
    "\n",
    "lnr = LinearRegression()\n",
    "tss = TimeSeriesSplit(n_splits=3).split(features_train)\n",
    "lnr.fit(features_train, target_train)\n",
    "RMSE_lnr = cross_val_score(lnr, features_train, target_train, scoring=RMSE_score, \n",
    "                                      cv=tss).mean() * (-1)\n",
    "print('Среднее значение RMSE модели линейной регрессии равно', RMSE_lnr)"
   ]
  },
  {
   "cell_type": "markdown",
   "metadata": {},
   "source": [
    "### Модель решающего дерева"
   ]
  },
  {
   "cell_type": "code",
   "execution_count": 71,
   "metadata": {},
   "outputs": [
    {
     "name": "stdout",
     "output_type": "stream",
     "text": [
      "CPU times: user 1.07 s, sys: 3.47 ms, total: 1.07 s\n",
      "Wall time: 1.09 s\n"
     ]
    },
    {
     "data": {
      "text/plain": [
       "GridSearchCV(cv=<generator object TimeSeriesSplit.split at 0x7f515f3d6660>,\n",
       "             estimator=DecisionTreeRegressor(),\n",
       "             param_grid={'criterion': ['mse'], 'max_depth': range(1, 13),\n",
       "                         'random_state': [12345]},\n",
       "             scoring=make_scorer(RMSE, greater_is_better=False))"
      ]
     },
     "execution_count": 71,
     "metadata": {},
     "output_type": "execute_result"
    }
   ],
   "source": [
    "%%time\n",
    "\n",
    "dtr = DecisionTreeRegressor()\n",
    "tss = TimeSeriesSplit(n_splits=3).split(features_train)\n",
    "parametrs = {'criterion':['mse'],\n",
    "            'max_depth': range(1, 13, 1),\n",
    "            'random_state': [12345]}\n",
    "grid_dtr = GridSearchCV(dtr, parametrs, scoring=RMSE_score, cv=tss)\n",
    "grid_dtr.fit(features_train, target_train)"
   ]
  },
  {
   "cell_type": "code",
   "execution_count": 72,
   "metadata": {},
   "outputs": [
    {
     "data": {
      "text/plain": [
       "{'criterion': 'mse', 'max_depth': 5, 'random_state': 12345}"
      ]
     },
     "execution_count": 72,
     "metadata": {},
     "output_type": "execute_result"
    }
   ],
   "source": [
    "# Выведем результат\n",
    "grid_dtr.best_params_"
   ]
  },
  {
   "cell_type": "markdown",
   "metadata": {},
   "source": [
    "Лучшая модель получается при максимальной глубине дерева, равной 5."
   ]
  },
  {
   "cell_type": "markdown",
   "metadata": {},
   "source": [
    "### Модель XGBoost"
   ]
  },
  {
   "cell_type": "code",
   "execution_count": 73,
   "metadata": {},
   "outputs": [
    {
     "name": "stdout",
     "output_type": "stream",
     "text": [
      "CPU times: user 23min 10s, sys: 9.08 s, total: 23min 20s\n",
      "Wall time: 23min 34s\n"
     ]
    },
    {
     "data": {
      "text/plain": [
       "GridSearchCV(cv=<generator object TimeSeriesSplit.split at 0x7f515221da50>,\n",
       "             estimator=XGBRegressor(base_score=None, booster=None,\n",
       "                                    colsample_bylevel=None,\n",
       "                                    colsample_bynode=None,\n",
       "                                    colsample_bytree=None,\n",
       "                                    enable_categorical=False, gamma=None,\n",
       "                                    gpu_id=None, importance_type=None,\n",
       "                                    interaction_constraints=None,\n",
       "                                    learning_rate=None, max_delta_step=None,\n",
       "                                    max_depth=None, min_chil...\n",
       "                                    num_parallel_tree=None, predictor=None,\n",
       "                                    random_state=None, reg_alpha=None,\n",
       "                                    reg_lambda=None, scale_pos_weight=None,\n",
       "                                    subsample=None, tree_method=None,\n",
       "                                    validate_parameters=None, verbosity=None),\n",
       "             param_grid={'learning_rate': [0.1, 0.3],\n",
       "                         'max_depth': range(1, 10, 2),\n",
       "                         'n_estimators': range(10, 50, 10),\n",
       "                         'random_state': [12345]},\n",
       "             scoring=make_scorer(RMSE, greater_is_better=False))"
      ]
     },
     "execution_count": 73,
     "metadata": {},
     "output_type": "execute_result"
    }
   ],
   "source": [
    "%%time\n",
    "\n",
    "xgb = XGBRegressor()\n",
    "tss = TimeSeriesSplit(n_splits=3).split(features_train)\n",
    "parametrs = {'max_depth': range(1, 10, 2),\n",
    "            'learning_rate':[0.1, 0.3],\n",
    "            'random_state': [12345],\n",
    "            'n_estimators': range(10, 50, 10)}\n",
    "grid_xgb = GridSearchCV(xgb, parametrs, scoring=RMSE_score, cv=tss)\n",
    "grid_xgb.fit(features_train, target_train)"
   ]
  },
  {
   "cell_type": "code",
   "execution_count": 74,
   "metadata": {},
   "outputs": [
    {
     "data": {
      "text/plain": [
       "{'learning_rate': 0.3,\n",
       " 'max_depth': 3,\n",
       " 'n_estimators': 20,\n",
       " 'random_state': 12345}"
      ]
     },
     "execution_count": 74,
     "metadata": {},
     "output_type": "execute_result"
    }
   ],
   "source": [
    "# Выведем результат\n",
    "grid_xgb.best_params_"
   ]
  },
  {
   "cell_type": "markdown",
   "metadata": {},
   "source": [
    "Лучшая модель получается при learning_rate = 0.3, max_depth = 3 и n_estimators = 20."
   ]
  },
  {
   "cell_type": "markdown",
   "metadata": {},
   "source": [
    "На данном этапе были выбраны три модели: линейной регрессии, решающего дерева и XGBoost. Для последних двух моделей были подобраны оптимальные гиперпараметры, которые мы используем на следующем этапе для проверки на тестовой выборке."
   ]
  },
  {
   "cell_type": "markdown",
   "metadata": {},
   "source": [
    "## Тестирование"
   ]
  },
  {
   "cell_type": "markdown",
   "metadata": {},
   "source": [
    "### Модель линейной регрессии"
   ]
  },
  {
   "cell_type": "markdown",
   "metadata": {},
   "source": [
    "Проверим модель линейной регрессии на тестовой выборке."
   ]
  },
  {
   "cell_type": "code",
   "execution_count": 211,
   "metadata": {},
   "outputs": [
    {
     "name": "stdout",
     "output_type": "stream",
     "text": [
      "RMSE модели линейной регрессии = 47.07\n",
      "CPU times: user 25.1 ms, sys: 63.2 ms, total: 88.3 ms\n",
      "Wall time: 74.6 ms\n"
     ]
    }
   ],
   "source": [
    "%%time\n",
    "\n",
    "lnr =LinearRegression()\n",
    "lnr.fit(features_train, target_train)\n",
    "pred_lnr = lnr.predict(features_test)\n",
    "print('RMSE модели линейной регрессии =', round(RMSE(target_test, pred_lnr), 2))"
   ]
  },
  {
   "cell_type": "markdown",
   "metadata": {},
   "source": [
    "### Модель решающего дерева"
   ]
  },
  {
   "cell_type": "code",
   "execution_count": 212,
   "metadata": {},
   "outputs": [
    {
     "name": "stdout",
     "output_type": "stream",
     "text": [
      "RMSE модели решающего дерева = 55.53\n",
      "CPU times: user 49.9 ms, sys: 0 ns, total: 49.9 ms\n",
      "Wall time: 47.7 ms\n"
     ]
    }
   ],
   "source": [
    "%%time\n",
    "\n",
    "dtr =DecisionTreeRegressor(max_depth=5, criterion='mse', random_state=12345)\n",
    "dtr.fit(features_train, target_train)\n",
    "pred_dtr = dtr.predict(features_test)\n",
    "print('RMSE модели решающего дерева =', round(RMSE(target_test, pred_dtr), 2))"
   ]
  },
  {
   "cell_type": "markdown",
   "metadata": {},
   "source": [
    "### Модель XGBoost"
   ]
  },
  {
   "cell_type": "code",
   "execution_count": 213,
   "metadata": {},
   "outputs": [
    {
     "name": "stdout",
     "output_type": "stream",
     "text": [
      "RMSE модели XGBoost = 46.56\n",
      "CPU times: user 11.8 s, sys: 42 ms, total: 11.8 s\n",
      "Wall time: 11.8 s\n"
     ]
    }
   ],
   "source": [
    "%%time\n",
    "\n",
    "xgb = XGBRegressor(max_depth=3, learning_rate=0.3, random_state=12345, n_estimators=20)\n",
    "xgb.fit(features_train, target_train)\n",
    "pred_xgb = xgb.predict(features_test)\n",
    "print('RMSE модели XGBoost =', round(RMSE(target_test, pred_xgb), 2))"
   ]
  },
  {
   "cell_type": "markdown",
   "metadata": {},
   "source": [
    "### Сравнение графиков"
   ]
  },
  {
   "cell_type": "code",
   "execution_count": 214,
   "metadata": {},
   "outputs": [],
   "source": [
    "# Преобразываем наши предсказания в Series\n",
    "pred_lnr = pd.Series(pred_lnr, index=target_test.index)\n",
    "pred_dtr = pd.Series(pred_dtr, index=target_test.index)\n",
    "pred_xgb = pd.Series(pred_xgb, index=target_test.index)"
   ]
  },
  {
   "cell_type": "code",
   "execution_count": 234,
   "metadata": {},
   "outputs": [
    {
     "data": {
      "image/png": "[encoded data removed]",
      "text/plain": [
       "<Figure size 1332x756 with 1 Axes>"
      ]
     },
     "metadata": {
      "needs_background": "light"
     },
     "output_type": "display_data"
    }
   ],
   "source": [
    "# Построим графики исходного ряда и предсказаний\n",
    "fig, ax = plt.subplots()\n",
    "target_test.plot(x='datetime')\n",
    "pred_lnr.plot(x='datetime')\n",
    "pred_dtr.plot(x='datetime')\n",
    "pred_xgb.plot(x='datetime')\n",
    "plt.legend([\"target_test\", \"pred_lnr\", \"pred_dtr\", \"pred_xgb\"])\n",
    "fig.set_size_inches(18.5, 10.5)\n",
    "plt.show()"
   ]
  },
  {
   "cell_type": "markdown",
   "metadata": {},
   "source": [
    "**Вывод**\n",
    "\n",
    "Наименьший показатель среднеквадратической ошибки получился у модели линейной регрессии - 47.07 и у модели XGBoost - 46.56. Так как разность в значения небольшая, выберем модель линейной регрессии, так как она намного быстрее градиентного бустинга. Скорее всего данная модель продемонстрировала хороший результат, так как на графике временных рядов заказов такси наблюдается положительный тренд без сильных колебаний. Также стоит отметить, что наибольшее количество заказов такси наблюдается в вечернее время, затем с ночи до утра количество заказов минимальное.\n",
    "\n",
    "Руководством компании было задание достигнуть величины RMSE не более 48, что было выполнено в процессе выполнения задания."
   ]
  }
 ],
 "metadata": {
  "ExecuteTimeLog": [
   {
    "duration": 387,
    "start_time": "2022-04-08T15:27:29.107Z"
   },
   {
    "duration": 27,
    "start_time": "2022-04-08T15:28:21.270Z"
   },
   {
    "duration": 12,
    "start_time": "2022-04-08T15:29:49.365Z"
   },
   {
    "duration": 12,
    "start_time": "2022-04-08T15:33:55.594Z"
   },
   {
    "duration": 9,
    "start_time": "2022-04-08T15:53:31.687Z"
   },
   {
    "duration": 10,
    "start_time": "2022-04-08T15:53:38.852Z"
   },
   {
    "duration": 5,
    "start_time": "2022-04-08T15:54:33.588Z"
   },
   {
    "duration": 10,
    "start_time": "2022-04-08T15:55:28.514Z"
   },
   {
    "duration": 8,
    "start_time": "2022-04-08T15:55:33.743Z"
   },
   {
    "duration": 4,
    "start_time": "2022-04-08T15:57:24.975Z"
   },
   {
    "duration": 64,
    "start_time": "2022-04-08T15:57:29.279Z"
   },
   {
    "duration": 8,
    "start_time": "2022-04-08T15:57:55.431Z"
   },
   {
    "duration": 2,
    "start_time": "2022-04-08T16:00:34.124Z"
   },
   {
    "duration": 36,
    "start_time": "2022-04-08T16:00:34.128Z"
   },
   {
    "duration": 7,
    "start_time": "2022-04-08T16:00:34.166Z"
   },
   {
    "duration": 11,
    "start_time": "2022-04-08T16:00:34.174Z"
   },
   {
    "duration": 3,
    "start_time": "2022-04-08T16:00:34.187Z"
   },
   {
    "duration": 7,
    "start_time": "2022-04-08T16:00:34.192Z"
   },
   {
    "duration": 8,
    "start_time": "2022-04-08T16:00:34.201Z"
   },
   {
    "duration": 10,
    "start_time": "2022-04-08T16:00:34.210Z"
   },
   {
    "duration": 7,
    "start_time": "2022-04-08T16:01:18.281Z"
   },
   {
    "duration": 8,
    "start_time": "2022-04-08T16:01:30.097Z"
   },
   {
    "duration": 2,
    "start_time": "2022-04-08T16:01:34.082Z"
   },
   {
    "duration": 42,
    "start_time": "2022-04-08T16:01:34.086Z"
   },
   {
    "duration": 7,
    "start_time": "2022-04-08T16:01:34.130Z"
   },
   {
    "duration": 11,
    "start_time": "2022-04-08T16:01:34.138Z"
   },
   {
    "duration": 4,
    "start_time": "2022-04-08T16:01:34.151Z"
   },
   {
    "duration": 8,
    "start_time": "2022-04-08T16:01:34.156Z"
   },
   {
    "duration": 14,
    "start_time": "2022-04-08T16:01:34.165Z"
   },
   {
    "duration": 11,
    "start_time": "2022-04-08T16:01:34.180Z"
   },
   {
    "duration": 2,
    "start_time": "2022-04-08T16:01:46.597Z"
   },
   {
    "duration": 32,
    "start_time": "2022-04-08T16:01:46.601Z"
   },
   {
    "duration": 7,
    "start_time": "2022-04-08T16:01:46.635Z"
   },
   {
    "duration": 13,
    "start_time": "2022-04-08T16:01:46.643Z"
   },
   {
    "duration": 3,
    "start_time": "2022-04-08T16:01:46.659Z"
   },
   {
    "duration": 8,
    "start_time": "2022-04-08T16:01:46.663Z"
   },
   {
    "duration": 13,
    "start_time": "2022-04-08T16:01:46.672Z"
   },
   {
    "duration": 10,
    "start_time": "2022-04-08T16:01:46.686Z"
   },
   {
    "duration": 7,
    "start_time": "2022-04-08T16:06:31.576Z"
   },
   {
    "duration": 3,
    "start_time": "2022-04-08T16:06:34.299Z"
   },
   {
    "duration": 36,
    "start_time": "2022-04-08T16:06:34.303Z"
   },
   {
    "duration": 6,
    "start_time": "2022-04-08T16:06:34.341Z"
   },
   {
    "duration": 10,
    "start_time": "2022-04-08T16:06:34.349Z"
   },
   {
    "duration": 1710,
    "start_time": "2022-04-08T16:06:34.361Z"
   },
   {
    "duration": 0,
    "start_time": "2022-04-08T16:06:36.072Z"
   },
   {
    "duration": 0,
    "start_time": "2022-04-08T16:06:36.073Z"
   },
   {
    "duration": 0,
    "start_time": "2022-04-08T16:06:36.074Z"
   },
   {
    "duration": 0,
    "start_time": "2022-04-08T16:06:36.075Z"
   },
   {
    "duration": 2,
    "start_time": "2022-04-08T16:07:32.219Z"
   },
   {
    "duration": 32,
    "start_time": "2022-04-08T16:07:32.223Z"
   },
   {
    "duration": 6,
    "start_time": "2022-04-08T16:07:32.256Z"
   },
   {
    "duration": 12,
    "start_time": "2022-04-08T16:07:32.264Z"
   },
   {
    "duration": 5,
    "start_time": "2022-04-08T16:07:32.277Z"
   },
   {
    "duration": 7,
    "start_time": "2022-04-08T16:07:32.283Z"
   },
   {
    "duration": 8,
    "start_time": "2022-04-08T16:07:32.291Z"
   },
   {
    "duration": 0,
    "start_time": "2022-04-08T16:07:32.300Z"
   },
   {
    "duration": 2,
    "start_time": "2022-04-08T16:07:47.987Z"
   },
   {
    "duration": 38,
    "start_time": "2022-04-08T16:07:47.991Z"
   },
   {
    "duration": 6,
    "start_time": "2022-04-08T16:07:48.031Z"
   },
   {
    "duration": 12,
    "start_time": "2022-04-08T16:07:48.039Z"
   },
   {
    "duration": 5,
    "start_time": "2022-04-08T16:07:48.052Z"
   },
   {
    "duration": 6,
    "start_time": "2022-04-08T16:07:48.059Z"
   },
   {
    "duration": 16,
    "start_time": "2022-04-08T16:07:48.066Z"
   },
   {
    "duration": 3,
    "start_time": "2022-04-08T16:07:53.809Z"
   },
   {
    "duration": 9,
    "start_time": "2022-04-08T16:16:19.731Z"
   },
   {
    "duration": 13,
    "start_time": "2022-04-08T16:16:23.340Z"
   },
   {
    "duration": 662,
    "start_time": "2022-04-08T18:10:14.473Z"
   },
   {
    "duration": 3,
    "start_time": "2022-04-08T18:11:05.735Z"
   },
   {
    "duration": 205,
    "start_time": "2022-04-08T18:11:33.601Z"
   },
   {
    "duration": 264,
    "start_time": "2022-04-08T18:11:46.992Z"
   },
   {
    "duration": 207,
    "start_time": "2022-04-08T18:11:53.175Z"
   },
   {
    "duration": 208,
    "start_time": "2022-04-08T18:11:58.935Z"
   },
   {
    "duration": 771,
    "start_time": "2022-04-08T18:12:14.047Z"
   },
   {
    "duration": 334,
    "start_time": "2022-04-08T18:12:22.528Z"
   },
   {
    "duration": 367,
    "start_time": "2022-04-08T18:12:27.996Z"
   },
   {
    "duration": 210,
    "start_time": "2022-04-08T18:12:54.942Z"
   },
   {
    "duration": 206,
    "start_time": "2022-04-08T18:13:05.821Z"
   },
   {
    "duration": 228,
    "start_time": "2022-04-08T18:13:22.710Z"
   },
   {
    "duration": 230,
    "start_time": "2022-04-08T18:13:56.604Z"
   },
   {
    "duration": 527,
    "start_time": "2022-04-08T18:26:45.658Z"
   },
   {
    "duration": 98,
    "start_time": "2022-04-08T18:28:09.700Z"
   },
   {
    "duration": 188,
    "start_time": "2022-04-08T18:28:51.511Z"
   },
   {
    "duration": 156,
    "start_time": "2022-04-08T18:30:55.592Z"
   },
   {
    "duration": 188,
    "start_time": "2022-04-08T18:31:00.816Z"
   },
   {
    "duration": 56,
    "start_time": "2022-04-08T18:31:10.815Z"
   },
   {
    "duration": 21,
    "start_time": "2022-04-08T18:31:17.247Z"
   },
   {
    "duration": 296,
    "start_time": "2022-04-08T18:31:23.487Z"
   },
   {
    "duration": 20,
    "start_time": "2022-04-08T18:31:33.862Z"
   },
   {
    "duration": 167,
    "start_time": "2022-04-08T18:31:37.881Z"
   },
   {
    "duration": 179,
    "start_time": "2022-04-08T18:31:43.303Z"
   },
   {
    "duration": 189,
    "start_time": "2022-04-08T18:33:34.076Z"
   },
   {
    "duration": 184,
    "start_time": "2022-04-08T18:33:48.547Z"
   },
   {
    "duration": 195,
    "start_time": "2022-04-08T18:35:12.122Z"
   },
   {
    "duration": 162,
    "start_time": "2022-04-08T18:36:49.727Z"
   },
   {
    "duration": 294,
    "start_time": "2022-04-08T18:36:59.335Z"
   },
   {
    "duration": 163,
    "start_time": "2022-04-08T18:38:08.109Z"
   },
   {
    "duration": 342,
    "start_time": "2022-04-08T18:38:18.342Z"
   },
   {
    "duration": 715,
    "start_time": "2022-04-08T18:38:51.285Z"
   },
   {
    "duration": 618,
    "start_time": "2022-04-08T18:39:09.707Z"
   },
   {
    "duration": 659,
    "start_time": "2022-04-08T18:41:16.882Z"
   },
   {
    "duration": 5,
    "start_time": "2022-04-08T19:11:01.926Z"
   },
   {
    "duration": 5,
    "start_time": "2022-04-08T19:16:05.467Z"
   },
   {
    "duration": 5,
    "start_time": "2022-04-08T19:16:26.821Z"
   },
   {
    "duration": 687,
    "start_time": "2022-04-08T19:16:38.172Z"
   },
   {
    "duration": 5,
    "start_time": "2022-04-08T19:17:06.076Z"
   },
   {
    "duration": 430,
    "start_time": "2022-04-08T19:17:20.316Z"
   },
   {
    "duration": 58,
    "start_time": "2022-04-09T16:58:24.663Z"
   },
   {
    "duration": 7,
    "start_time": "2022-04-09T16:59:05.610Z"
   },
   {
    "duration": 1358,
    "start_time": "2022-04-09T16:59:28.879Z"
   },
   {
    "duration": 36,
    "start_time": "2022-04-09T16:59:30.239Z"
   },
   {
    "duration": 11,
    "start_time": "2022-04-09T16:59:30.277Z"
   },
   {
    "duration": 19,
    "start_time": "2022-04-09T16:59:30.290Z"
   },
   {
    "duration": 6,
    "start_time": "2022-04-09T16:59:30.311Z"
   },
   {
    "duration": 9,
    "start_time": "2022-04-09T16:59:30.319Z"
   },
   {
    "duration": 248,
    "start_time": "2022-04-09T16:59:30.329Z"
   },
   {
    "duration": 5,
    "start_time": "2022-04-09T16:59:30.579Z"
   },
   {
    "duration": 876,
    "start_time": "2022-04-09T16:59:30.585Z"
   },
   {
    "duration": 6,
    "start_time": "2022-04-09T16:59:31.464Z"
   },
   {
    "duration": 593,
    "start_time": "2022-04-09T16:59:31.471Z"
   },
   {
    "duration": 3340,
    "start_time": "2022-04-09T16:59:32.066Z"
   },
   {
    "duration": 0,
    "start_time": "2022-04-09T16:59:35.409Z"
   },
   {
    "duration": 187,
    "start_time": "2022-04-09T17:00:55.060Z"
   },
   {
    "duration": 3,
    "start_time": "2022-04-09T17:02:55.655Z"
   },
   {
    "duration": 51,
    "start_time": "2022-04-09T17:02:55.660Z"
   },
   {
    "duration": 6,
    "start_time": "2022-04-09T17:02:55.713Z"
   },
   {
    "duration": 11,
    "start_time": "2022-04-09T17:02:55.720Z"
   },
   {
    "duration": 4,
    "start_time": "2022-04-09T17:02:55.733Z"
   },
   {
    "duration": 6,
    "start_time": "2022-04-09T17:02:55.739Z"
   },
   {
    "duration": 299,
    "start_time": "2022-04-09T17:02:55.746Z"
   },
   {
    "duration": 3,
    "start_time": "2022-04-09T17:02:56.047Z"
   },
   {
    "duration": 656,
    "start_time": "2022-04-09T17:02:56.052Z"
   },
   {
    "duration": 5,
    "start_time": "2022-04-09T17:02:56.710Z"
   },
   {
    "duration": 437,
    "start_time": "2022-04-09T17:02:56.718Z"
   },
   {
    "duration": 29,
    "start_time": "2022-04-09T17:02:57.157Z"
   },
   {
    "duration": 9,
    "start_time": "2022-04-09T17:02:57.190Z"
   },
   {
    "duration": 31,
    "start_time": "2022-04-09T17:03:21.034Z"
   },
   {
    "duration": 23,
    "start_time": "2022-04-09T17:04:34.153Z"
   },
   {
    "duration": 9,
    "start_time": "2022-04-09T17:07:40.469Z"
   },
   {
    "duration": 457,
    "start_time": "2022-04-09T17:08:02.204Z"
   },
   {
    "duration": 12,
    "start_time": "2022-04-09T17:08:07.420Z"
   },
   {
    "duration": 27,
    "start_time": "2022-04-09T17:10:27.032Z"
   },
   {
    "duration": 256,
    "start_time": "2022-04-09T17:34:54.002Z"
   },
   {
    "duration": 299,
    "start_time": "2022-04-09T17:35:01.725Z"
   },
   {
    "duration": 3,
    "start_time": "2022-04-09T17:58:09.050Z"
   },
   {
    "duration": 44,
    "start_time": "2022-04-09T18:00:32.561Z"
   },
   {
    "duration": 352,
    "start_time": "2022-04-09T18:03:31.336Z"
   },
   {
    "duration": 5,
    "start_time": "2022-04-09T19:06:15.025Z"
   },
   {
    "duration": 3,
    "start_time": "2022-04-09T19:06:26.919Z"
   },
   {
    "duration": 518,
    "start_time": "2022-04-09T19:06:50.567Z"
   },
   {
    "duration": 3,
    "start_time": "2022-04-09T19:09:34.819Z"
   },
   {
    "duration": 499,
    "start_time": "2022-04-09T19:09:50.794Z"
   },
   {
    "duration": 632,
    "start_time": "2022-04-09T19:10:34.250Z"
   },
   {
    "duration": 876,
    "start_time": "2022-04-09T19:11:35.010Z"
   },
   {
    "duration": 525,
    "start_time": "2022-04-09T19:14:14.359Z"
   },
   {
    "duration": 239,
    "start_time": "2022-04-09T19:15:03.296Z"
   },
   {
    "duration": 4,
    "start_time": "2022-04-09T19:15:39.220Z"
   },
   {
    "duration": 3,
    "start_time": "2022-04-09T19:16:15.740Z"
   },
   {
    "duration": 3,
    "start_time": "2022-04-09T19:16:16.133Z"
   },
   {
    "duration": 784,
    "start_time": "2022-04-09T19:16:17.101Z"
   },
   {
    "duration": 4,
    "start_time": "2022-04-09T19:18:59.415Z"
   },
   {
    "duration": 204,
    "start_time": "2022-04-09T19:19:50.136Z"
   },
   {
    "duration": 278,
    "start_time": "2022-04-09T19:21:15.551Z"
   },
   {
    "duration": 399,
    "start_time": "2022-04-09T19:22:21.731Z"
   },
   {
    "duration": 325,
    "start_time": "2022-04-09T19:23:22.155Z"
   },
   {
    "duration": 361,
    "start_time": "2022-04-09T19:23:23.099Z"
   },
   {
    "duration": 4,
    "start_time": "2022-04-09T19:23:55.970Z"
   },
   {
    "duration": 755,
    "start_time": "2022-04-09T19:24:05.419Z"
   },
   {
    "duration": 4,
    "start_time": "2022-04-09T19:24:07.639Z"
   },
   {
    "duration": 579080,
    "start_time": "2022-04-09T19:30:09.919Z"
   },
   {
    "duration": 11838,
    "start_time": "2022-04-09T19:40:20.962Z"
   },
   {
    "duration": 1789,
    "start_time": "2022-04-09T19:40:49.076Z"
   },
   {
    "duration": 60,
    "start_time": "2022-04-09T19:40:50.867Z"
   },
   {
    "duration": 9,
    "start_time": "2022-04-09T19:40:50.928Z"
   },
   {
    "duration": 15,
    "start_time": "2022-04-09T19:40:50.939Z"
   },
   {
    "duration": 4,
    "start_time": "2022-04-09T19:40:50.955Z"
   },
   {
    "duration": 10,
    "start_time": "2022-04-09T19:40:50.960Z"
   },
   {
    "duration": 246,
    "start_time": "2022-04-09T19:40:50.971Z"
   },
   {
    "duration": 4,
    "start_time": "2022-04-09T19:40:51.219Z"
   },
   {
    "duration": 773,
    "start_time": "2022-04-09T19:40:51.224Z"
   },
   {
    "duration": 14,
    "start_time": "2022-04-09T19:40:52.001Z"
   },
   {
    "duration": 444,
    "start_time": "2022-04-09T19:40:52.016Z"
   },
   {
    "duration": 42,
    "start_time": "2022-04-09T19:40:52.462Z"
   },
   {
    "duration": 25,
    "start_time": "2022-04-09T19:40:52.505Z"
   },
   {
    "duration": 10,
    "start_time": "2022-04-09T19:40:52.532Z"
   },
   {
    "duration": 3,
    "start_time": "2022-04-09T19:40:52.543Z"
   },
   {
    "duration": 739,
    "start_time": "2022-04-09T19:40:52.548Z"
   },
   {
    "duration": 1064,
    "start_time": "2022-04-09T19:40:53.290Z"
   },
   {
    "duration": 4,
    "start_time": "2022-04-09T19:40:54.357Z"
   },
   {
    "duration": 1065562,
    "start_time": "2022-04-09T19:40:54.363Z"
   },
   {
    "duration": 4,
    "start_time": "2022-04-09T19:59:38.127Z"
   },
   {
    "duration": 39,
    "start_time": "2022-04-09T19:59:38.133Z"
   },
   {
    "duration": 13,
    "start_time": "2022-04-09T19:59:38.174Z"
   },
   {
    "duration": 43,
    "start_time": "2022-04-09T19:59:38.188Z"
   },
   {
    "duration": 3,
    "start_time": "2022-04-09T19:59:38.233Z"
   },
   {
    "duration": 6,
    "start_time": "2022-04-09T19:59:38.238Z"
   },
   {
    "duration": 257,
    "start_time": "2022-04-09T19:59:38.245Z"
   },
   {
    "duration": 8,
    "start_time": "2022-04-09T19:59:38.504Z"
   },
   {
    "duration": 721,
    "start_time": "2022-04-09T19:59:38.516Z"
   },
   {
    "duration": 5,
    "start_time": "2022-04-09T19:59:39.239Z"
   },
   {
    "duration": 648,
    "start_time": "2022-04-09T19:59:39.246Z"
   },
   {
    "duration": 31,
    "start_time": "2022-04-09T19:59:39.896Z"
   },
   {
    "duration": 22,
    "start_time": "2022-04-09T19:59:39.929Z"
   },
   {
    "duration": 10,
    "start_time": "2022-04-09T19:59:39.952Z"
   },
   {
    "duration": 3,
    "start_time": "2022-04-09T19:59:39.963Z"
   },
   {
    "duration": 442,
    "start_time": "2022-04-09T19:59:39.967Z"
   },
   {
    "duration": 913,
    "start_time": "2022-04-09T19:59:40.420Z"
   },
   {
    "duration": 4,
    "start_time": "2022-04-09T19:59:41.335Z"
   },
   {
    "duration": 282,
    "start_time": "2022-04-09T19:59:41.341Z"
   },
   {
    "duration": 2070549,
    "start_time": "2022-04-09T19:59:55.771Z"
   },
   {
    "duration": 49,
    "start_time": "2022-04-10T07:29:22.583Z"
   },
   {
    "duration": 158,
    "start_time": "2022-04-10T07:31:36.060Z"
   },
   {
    "duration": 5,
    "start_time": "2022-04-10T07:31:36.220Z"
   },
   {
    "duration": 1835,
    "start_time": "2022-04-10T07:32:05.426Z"
   },
   {
    "duration": 47,
    "start_time": "2022-04-10T07:32:07.263Z"
   },
   {
    "duration": 11,
    "start_time": "2022-04-10T07:32:07.311Z"
   },
   {
    "duration": 11,
    "start_time": "2022-04-10T07:32:07.324Z"
   },
   {
    "duration": 4,
    "start_time": "2022-04-10T07:32:07.336Z"
   },
   {
    "duration": 11,
    "start_time": "2022-04-10T07:32:07.342Z"
   },
   {
    "duration": 268,
    "start_time": "2022-04-10T07:32:07.355Z"
   },
   {
    "duration": 9,
    "start_time": "2022-04-10T07:32:07.625Z"
   },
   {
    "duration": 872,
    "start_time": "2022-04-10T07:32:07.636Z"
   },
   {
    "duration": 6,
    "start_time": "2022-04-10T07:32:08.511Z"
   },
   {
    "duration": 498,
    "start_time": "2022-04-10T07:32:08.519Z"
   },
   {
    "duration": 28,
    "start_time": "2022-04-10T07:32:09.018Z"
   },
   {
    "duration": 25,
    "start_time": "2022-04-10T07:32:09.048Z"
   },
   {
    "duration": 11,
    "start_time": "2022-04-10T07:32:09.075Z"
   },
   {
    "duration": 3,
    "start_time": "2022-04-10T07:32:09.088Z"
   },
   {
    "duration": 541,
    "start_time": "2022-04-10T07:32:09.092Z"
   },
   {
    "duration": 889,
    "start_time": "2022-04-10T07:32:09.635Z"
   },
   {
    "duration": 6,
    "start_time": "2022-04-10T07:32:10.525Z"
   },
   {
    "duration": 3674818,
    "start_time": "2022-04-10T07:32:10.533Z"
   },
   {
    "duration": 5,
    "start_time": "2022-04-10T08:33:25.353Z"
   },
   {
    "duration": 2,
    "start_time": "2022-04-10T08:40:55.215Z"
   },
   {
    "duration": 4,
    "start_time": "2022-04-10T08:44:23.090Z"
   },
   {
    "duration": 227,
    "start_time": "2022-04-10T08:44:28.238Z"
   },
   {
    "duration": 63,
    "start_time": "2022-04-10T08:44:39.473Z"
   },
   {
    "duration": 163,
    "start_time": "2022-04-10T08:45:09.272Z"
   },
   {
    "duration": 29,
    "start_time": "2022-04-10T08:45:47.406Z"
   },
   {
    "duration": 113,
    "start_time": "2022-04-10T08:48:58.024Z"
   },
   {
    "duration": 29,
    "start_time": "2022-04-10T08:49:17.178Z"
   },
   {
    "duration": 178,
    "start_time": "2022-04-10T08:57:08.427Z"
   },
   {
    "duration": 910,
    "start_time": "2022-04-10T08:57:25.649Z"
   },
   {
    "duration": 878,
    "start_time": "2022-04-10T08:57:41.673Z"
   },
   {
    "duration": 2596,
    "start_time": "2022-04-11T17:07:13.256Z"
   },
   {
    "duration": 58,
    "start_time": "2022-04-11T17:07:15.856Z"
   },
   {
    "duration": 16,
    "start_time": "2022-04-11T17:07:15.917Z"
   },
   {
    "duration": 38,
    "start_time": "2022-04-11T17:07:15.936Z"
   },
   {
    "duration": 16,
    "start_time": "2022-04-11T17:07:15.977Z"
   },
   {
    "duration": 13,
    "start_time": "2022-04-11T17:07:17.311Z"
   },
   {
    "duration": 404,
    "start_time": "2022-04-11T17:07:20.112Z"
   },
   {
    "duration": 6,
    "start_time": "2022-04-11T17:07:21.704Z"
   },
   {
    "duration": 1187,
    "start_time": "2022-04-11T17:07:22.353Z"
   },
   {
    "duration": 9,
    "start_time": "2022-04-11T17:07:23.547Z"
   },
   {
    "duration": 861,
    "start_time": "2022-04-11T17:07:24.025Z"
   },
   {
    "duration": 6,
    "start_time": "2022-04-11T17:07:41.040Z"
   },
   {
    "duration": 38,
    "start_time": "2022-04-11T17:07:42.001Z"
   },
   {
    "duration": 5,
    "start_time": "2022-04-11T17:36:57.665Z"
   },
   {
    "duration": 58,
    "start_time": "2022-04-11T17:36:57.675Z"
   },
   {
    "duration": 9,
    "start_time": "2022-04-11T17:36:57.735Z"
   },
   {
    "duration": 28,
    "start_time": "2022-04-11T17:36:57.747Z"
   },
   {
    "duration": 5,
    "start_time": "2022-04-11T17:36:57.778Z"
   },
   {
    "duration": 9,
    "start_time": "2022-04-11T17:36:57.786Z"
   },
   {
    "duration": 581,
    "start_time": "2022-04-11T17:36:57.797Z"
   },
   {
    "duration": 9,
    "start_time": "2022-04-11T17:36:58.381Z"
   },
   {
    "duration": 1212,
    "start_time": "2022-04-11T17:36:58.395Z"
   },
   {
    "duration": 9,
    "start_time": "2022-04-11T17:36:59.609Z"
   },
   {
    "duration": 788,
    "start_time": "2022-04-11T17:36:59.621Z"
   },
   {
    "duration": 6,
    "start_time": "2022-04-11T17:37:00.412Z"
   },
   {
    "duration": 54,
    "start_time": "2022-04-11T17:37:00.421Z"
   },
   {
    "duration": 174,
    "start_time": "2022-04-11T17:37:00.478Z"
   },
   {
    "duration": 0,
    "start_time": "2022-04-11T17:37:00.655Z"
   },
   {
    "duration": 0,
    "start_time": "2022-04-11T17:37:00.668Z"
   },
   {
    "duration": 0,
    "start_time": "2022-04-11T17:37:00.670Z"
   },
   {
    "duration": 0,
    "start_time": "2022-04-11T17:37:00.673Z"
   },
   {
    "duration": 0,
    "start_time": "2022-04-11T17:37:00.676Z"
   },
   {
    "duration": 0,
    "start_time": "2022-04-11T17:37:00.678Z"
   },
   {
    "duration": 0,
    "start_time": "2022-04-11T17:37:00.680Z"
   },
   {
    "duration": 0,
    "start_time": "2022-04-11T17:37:00.682Z"
   },
   {
    "duration": 0,
    "start_time": "2022-04-11T17:37:00.685Z"
   },
   {
    "duration": 0,
    "start_time": "2022-04-11T17:37:00.687Z"
   },
   {
    "duration": 4,
    "start_time": "2022-04-11T17:37:32.140Z"
   },
   {
    "duration": 6,
    "start_time": "2022-04-11T17:39:13.649Z"
   },
   {
    "duration": 18,
    "start_time": "2022-04-11T17:39:14.127Z"
   },
   {
    "duration": 5,
    "start_time": "2022-04-11T17:39:14.503Z"
   },
   {
    "duration": 7,
    "start_time": "2022-04-11T17:40:15.969Z"
   },
   {
    "duration": 18,
    "start_time": "2022-04-11T17:40:17.326Z"
   },
   {
    "duration": 28,
    "start_time": "2022-04-11T17:40:17.664Z"
   },
   {
    "duration": 8,
    "start_time": "2022-04-11T17:41:12.499Z"
   },
   {
    "duration": 45,
    "start_time": "2022-04-11T17:41:12.509Z"
   },
   {
    "duration": 10,
    "start_time": "2022-04-11T17:41:12.556Z"
   },
   {
    "duration": 15,
    "start_time": "2022-04-11T17:41:12.569Z"
   },
   {
    "duration": 6,
    "start_time": "2022-04-11T17:41:12.586Z"
   },
   {
    "duration": 10,
    "start_time": "2022-04-11T17:41:12.594Z"
   },
   {
    "duration": 416,
    "start_time": "2022-04-11T17:41:12.607Z"
   },
   {
    "duration": 6,
    "start_time": "2022-04-11T17:41:13.026Z"
   },
   {
    "duration": 1062,
    "start_time": "2022-04-11T17:41:13.035Z"
   },
   {
    "duration": 8,
    "start_time": "2022-04-11T17:41:14.103Z"
   },
   {
    "duration": 696,
    "start_time": "2022-04-11T17:41:14.114Z"
   },
   {
    "duration": 6,
    "start_time": "2022-04-11T17:41:14.812Z"
   },
   {
    "duration": 57,
    "start_time": "2022-04-11T17:41:14.820Z"
   },
   {
    "duration": 28,
    "start_time": "2022-04-11T17:41:14.880Z"
   },
   {
    "duration": 12,
    "start_time": "2022-04-11T17:41:14.910Z"
   },
   {
    "duration": 0,
    "start_time": "2022-04-11T17:41:14.924Z"
   },
   {
    "duration": 0,
    "start_time": "2022-04-11T17:41:14.927Z"
   },
   {
    "duration": 0,
    "start_time": "2022-04-11T17:41:14.929Z"
   },
   {
    "duration": 0,
    "start_time": "2022-04-11T17:41:14.931Z"
   },
   {
    "duration": 0,
    "start_time": "2022-04-11T17:41:14.932Z"
   },
   {
    "duration": 0,
    "start_time": "2022-04-11T17:41:14.968Z"
   },
   {
    "duration": 0,
    "start_time": "2022-04-11T17:41:14.970Z"
   },
   {
    "duration": 0,
    "start_time": "2022-04-11T17:41:14.972Z"
   },
   {
    "duration": 0,
    "start_time": "2022-04-11T17:41:14.974Z"
   },
   {
    "duration": 0,
    "start_time": "2022-04-11T17:41:14.975Z"
   },
   {
    "duration": 5,
    "start_time": "2022-04-11T17:41:46.101Z"
   },
   {
    "duration": 19,
    "start_time": "2022-04-11T17:41:46.525Z"
   },
   {
    "duration": 54,
    "start_time": "2022-04-11T17:41:47.164Z"
   },
   {
    "duration": 6,
    "start_time": "2022-04-11T17:41:51.803Z"
   },
   {
    "duration": 47,
    "start_time": "2022-04-11T17:41:51.813Z"
   },
   {
    "duration": 9,
    "start_time": "2022-04-11T17:41:51.862Z"
   },
   {
    "duration": 14,
    "start_time": "2022-04-11T17:41:51.873Z"
   },
   {
    "duration": 5,
    "start_time": "2022-04-11T17:41:51.889Z"
   },
   {
    "duration": 10,
    "start_time": "2022-04-11T17:41:51.896Z"
   },
   {
    "duration": 521,
    "start_time": "2022-04-11T17:41:51.908Z"
   },
   {
    "duration": 7,
    "start_time": "2022-04-11T17:41:52.431Z"
   },
   {
    "duration": 1039,
    "start_time": "2022-04-11T17:41:52.442Z"
   },
   {
    "duration": 7,
    "start_time": "2022-04-11T17:41:53.484Z"
   },
   {
    "duration": 715,
    "start_time": "2022-04-11T17:41:53.493Z"
   },
   {
    "duration": 9,
    "start_time": "2022-04-11T17:41:54.210Z"
   },
   {
    "duration": 52,
    "start_time": "2022-04-11T17:41:54.221Z"
   },
   {
    "duration": 60,
    "start_time": "2022-04-11T17:41:54.277Z"
   },
   {
    "duration": 76,
    "start_time": "2022-04-11T17:41:54.339Z"
   },
   {
    "duration": 17,
    "start_time": "2022-04-11T17:41:54.418Z"
   },
   {
    "duration": 4,
    "start_time": "2022-04-11T17:41:54.437Z"
   },
   {
    "duration": 713,
    "start_time": "2022-04-11T17:41:54.467Z"
   },
   {
    "duration": 1176,
    "start_time": "2022-04-11T17:41:55.284Z"
   },
   {
    "duration": 6,
    "start_time": "2022-04-11T17:41:56.467Z"
   },
   {
    "duration": 1414620,
    "start_time": "2022-04-11T17:41:56.476Z"
   },
   {
    "duration": 6,
    "start_time": "2022-04-11T18:05:31.099Z"
   },
   {
    "duration": 177,
    "start_time": "2022-04-11T18:05:31.107Z"
   },
   {
    "duration": 205,
    "start_time": "2022-04-11T18:05:31.289Z"
   },
   {
    "duration": 7971,
    "start_time": "2022-04-11T18:05:31.499Z"
   },
   {
    "duration": 58,
    "start_time": "2022-04-11T18:13:27.577Z"
   },
   {
    "duration": 9848,
    "start_time": "2022-04-11T18:13:29.629Z"
   },
   {
    "duration": 337,
    "start_time": "2022-04-11T18:14:17.745Z"
   },
   {
    "duration": 300,
    "start_time": "2022-04-11T18:14:35.934Z"
   },
   {
    "duration": 475,
    "start_time": "2022-04-11T18:15:01.062Z"
   },
   {
    "duration": 13,
    "start_time": "2022-04-11T18:15:18.460Z"
   },
   {
    "duration": 115,
    "start_time": "2022-04-11T18:15:22.412Z"
   },
   {
    "duration": 5,
    "start_time": "2022-04-11T18:15:57.524Z"
   },
   {
    "duration": 10,
    "start_time": "2022-04-11T18:16:01.755Z"
   },
   {
    "duration": 183,
    "start_time": "2022-04-11T18:16:11.978Z"
   },
   {
    "duration": 127,
    "start_time": "2022-04-11T18:20:27.973Z"
   },
   {
    "duration": 4,
    "start_time": "2022-04-11T18:20:41.413Z"
   },
   {
    "duration": 13,
    "start_time": "2022-04-11T18:21:41.029Z"
   },
   {
    "duration": 342,
    "start_time": "2022-04-11T18:21:53.693Z"
   },
   {
    "duration": 342,
    "start_time": "2022-04-11T18:22:49.658Z"
   },
   {
    "duration": 339,
    "start_time": "2022-04-11T18:23:16.266Z"
   },
   {
    "duration": 18,
    "start_time": "2022-04-11T18:24:14.009Z"
   },
   {
    "duration": 19,
    "start_time": "2022-04-11T18:24:27.193Z"
   },
   {
    "duration": 16,
    "start_time": "2022-04-11T18:24:37.855Z"
   },
   {
    "duration": 15,
    "start_time": "2022-04-11T18:25:29.793Z"
   },
   {
    "duration": 15,
    "start_time": "2022-04-11T18:25:38.789Z"
   },
   {
    "duration": 12,
    "start_time": "2022-04-11T18:26:00.645Z"
   },
   {
    "duration": 4,
    "start_time": "2022-04-11T18:26:39.460Z"
   },
   {
    "duration": 9,
    "start_time": "2022-04-11T18:26:43.723Z"
   },
   {
    "duration": 16,
    "start_time": "2022-04-11T18:27:56.458Z"
   },
   {
    "duration": 19,
    "start_time": "2022-04-11T18:28:04.650Z"
   },
   {
    "duration": 25,
    "start_time": "2022-04-11T18:28:09.152Z"
   },
   {
    "duration": 20,
    "start_time": "2022-04-11T18:30:46.237Z"
   },
   {
    "duration": 25,
    "start_time": "2022-04-11T18:30:51.956Z"
   },
   {
    "duration": 2680,
    "start_time": "2022-04-11T18:30:58.421Z"
   },
   {
    "duration": 86,
    "start_time": "2022-04-11T18:31:01.105Z"
   },
   {
    "duration": 12,
    "start_time": "2022-04-11T18:31:09.613Z"
   },
   {
    "duration": 3,
    "start_time": "2022-04-11T18:32:07.532Z"
   },
   {
    "duration": 15,
    "start_time": "2022-04-11T18:32:37.452Z"
   },
   {
    "duration": 4,
    "start_time": "2022-04-11T18:32:46.818Z"
   },
   {
    "duration": 17,
    "start_time": "2022-04-11T18:32:47.434Z"
   },
   {
    "duration": 4,
    "start_time": "2022-04-11T18:32:58.241Z"
   },
   {
    "duration": 6,
    "start_time": "2022-04-11T18:33:02.226Z"
   },
   {
    "duration": 11009,
    "start_time": "2022-04-11T18:33:10.971Z"
   },
   {
    "duration": 5,
    "start_time": "2022-04-11T18:33:21.983Z"
   },
   {
    "duration": 79,
    "start_time": "2022-04-11T18:33:21.990Z"
   },
   {
    "duration": 5,
    "start_time": "2022-04-11T18:33:37.505Z"
   },
   {
    "duration": 7,
    "start_time": "2022-04-11T18:33:38.016Z"
   },
   {
    "duration": 4,
    "start_time": "2022-04-11T18:33:54.809Z"
   },
   {
    "duration": 6,
    "start_time": "2022-04-11T18:33:55.265Z"
   },
   {
    "duration": 4,
    "start_time": "2022-04-11T18:34:47.456Z"
   },
   {
    "duration": 6,
    "start_time": "2022-04-11T18:35:47.325Z"
   },
   {
    "duration": 223,
    "start_time": "2022-04-11T18:36:26.269Z"
   },
   {
    "duration": 211,
    "start_time": "2022-04-11T18:36:59.782Z"
   },
   {
    "duration": 331,
    "start_time": "2022-04-11T18:37:09.119Z"
   },
   {
    "duration": 13,
    "start_time": "2022-04-11T18:37:48.426Z"
   },
   {
    "duration": 13,
    "start_time": "2022-04-11T18:37:54.914Z"
   },
   {
    "duration": 12,
    "start_time": "2022-04-11T18:38:01.705Z"
   },
   {
    "duration": 12,
    "start_time": "2022-04-11T18:38:05.586Z"
   },
   {
    "duration": 24,
    "start_time": "2022-04-11T18:39:33.264Z"
   },
   {
    "duration": 14,
    "start_time": "2022-04-11T18:39:37.681Z"
   },
   {
    "duration": 13,
    "start_time": "2022-04-11T18:39:41.301Z"
   },
   {
    "duration": 12,
    "start_time": "2022-04-11T18:39:43.944Z"
   },
   {
    "duration": 12,
    "start_time": "2022-04-11T18:39:50.424Z"
   },
   {
    "duration": 12,
    "start_time": "2022-04-11T18:39:54.082Z"
   },
   {
    "duration": 12,
    "start_time": "2022-04-11T18:39:57.647Z"
   },
   {
    "duration": 13,
    "start_time": "2022-04-11T18:40:00.696Z"
   },
   {
    "duration": 306,
    "start_time": "2022-04-11T18:40:35.750Z"
   },
   {
    "duration": 215,
    "start_time": "2022-04-11T18:40:50.543Z"
   },
   {
    "duration": 221,
    "start_time": "2022-04-11T18:42:45.461Z"
   },
   {
    "duration": 206,
    "start_time": "2022-04-11T18:43:08.418Z"
   },
   {
    "duration": 491,
    "start_time": "2022-04-11T18:44:05.298Z"
   },
   {
    "duration": 11,
    "start_time": "2022-04-11T18:44:26.793Z"
   },
   {
    "duration": 76,
    "start_time": "2022-04-11T18:47:46.397Z"
   },
   {
    "duration": 47,
    "start_time": "2022-04-11T18:47:47.203Z"
   },
   {
    "duration": 10507,
    "start_time": "2022-04-11T18:47:47.971Z"
   },
   {
    "duration": 16,
    "start_time": "2022-04-11T18:47:58.481Z"
   },
   {
    "duration": 5,
    "start_time": "2022-04-11T18:48:14.963Z"
   },
   {
    "duration": 8,
    "start_time": "2022-04-11T18:48:17.029Z"
   },
   {
    "duration": 304,
    "start_time": "2022-04-11T18:48:17.554Z"
   },
   {
    "duration": 9,
    "start_time": "2022-04-11T18:48:34.860Z"
   },
   {
    "duration": 22,
    "start_time": "2022-04-11T18:49:05.217Z"
   },
   {
    "duration": 5,
    "start_time": "2022-04-11T18:49:33.295Z"
   },
   {
    "duration": 432,
    "start_time": "2022-04-11T18:49:37.574Z"
   },
   {
    "duration": 4,
    "start_time": "2022-04-11T18:49:49.097Z"
   },
   {
    "duration": 13,
    "start_time": "2022-04-11T18:49:53.696Z"
   },
   {
    "duration": 28,
    "start_time": "2022-04-11T18:50:34.511Z"
   },
   {
    "duration": 10,
    "start_time": "2022-04-11T18:50:44.199Z"
   },
   {
    "duration": 10,
    "start_time": "2022-04-11T18:51:12.574Z"
   },
   {
    "duration": 10,
    "start_time": "2022-04-11T18:51:28.487Z"
   },
   {
    "duration": 8,
    "start_time": "2022-04-11T18:51:49.333Z"
   },
   {
    "duration": 15,
    "start_time": "2022-04-11T18:52:52.830Z"
   },
   {
    "duration": 559,
    "start_time": "2022-04-11T18:52:53.964Z"
   },
   {
    "duration": 6,
    "start_time": "2022-04-11T18:53:28.587Z"
   },
   {
    "duration": 600,
    "start_time": "2022-04-11T18:53:28.949Z"
   },
   {
    "duration": 7,
    "start_time": "2022-04-11T18:53:45.203Z"
   },
   {
    "duration": 1110,
    "start_time": "2022-04-11T18:53:45.889Z"
   },
   {
    "duration": 5,
    "start_time": "2022-04-11T18:54:03.665Z"
   },
   {
    "duration": 1677,
    "start_time": "2022-04-11T18:54:04.234Z"
   },
   {
    "duration": 228,
    "start_time": "2022-04-11T18:54:45.746Z"
   },
   {
    "duration": 48,
    "start_time": "2022-04-11T18:54:46.584Z"
   },
   {
    "duration": 9181,
    "start_time": "2022-04-11T18:54:47.688Z"
   },
   {
    "duration": 5,
    "start_time": "2022-04-11T18:54:56.872Z"
   },
   {
    "duration": 968,
    "start_time": "2022-04-11T18:54:56.879Z"
   },
   {
    "duration": 199,
    "start_time": "2022-04-11T18:55:44.071Z"
   },
   {
    "duration": 45,
    "start_time": "2022-04-11T18:55:44.871Z"
   },
   {
    "duration": 11037,
    "start_time": "2022-04-11T18:55:45.655Z"
   },
   {
    "duration": 7,
    "start_time": "2022-04-11T18:55:56.768Z"
   },
   {
    "duration": 476,
    "start_time": "2022-04-11T18:55:56.778Z"
   },
   {
    "duration": 156,
    "start_time": "2022-04-11T18:56:09.623Z"
   },
   {
    "duration": 58,
    "start_time": "2022-04-11T18:56:10.959Z"
   },
   {
    "duration": 11508,
    "start_time": "2022-04-11T18:56:11.687Z"
   },
   {
    "duration": 5,
    "start_time": "2022-04-11T18:56:23.267Z"
   },
   {
    "duration": 838,
    "start_time": "2022-04-11T18:56:23.275Z"
   },
   {
    "duration": 280,
    "start_time": "2022-04-11T19:00:51.032Z"
   },
   {
    "duration": 43,
    "start_time": "2022-04-11T19:01:01.136Z"
   },
   {
    "duration": 49,
    "start_time": "2022-04-11T19:01:02.223Z"
   },
   {
    "duration": 10916,
    "start_time": "2022-04-11T19:01:03.359Z"
   },
   {
    "duration": 7,
    "start_time": "2022-04-11T19:01:14.278Z"
   },
   {
    "duration": 345,
    "start_time": "2022-04-11T19:01:14.288Z"
   },
   {
    "duration": 294,
    "start_time": "2022-04-11T19:04:10.348Z"
   },
   {
    "duration": 14,
    "start_time": "2022-04-11T19:04:26.578Z"
   },
   {
    "duration": 12,
    "start_time": "2022-04-11T19:04:33.107Z"
   },
   {
    "duration": 12,
    "start_time": "2022-04-11T19:04:44.354Z"
   },
   {
    "duration": 5,
    "start_time": "2022-04-11T19:05:10.440Z"
   },
   {
    "duration": 12,
    "start_time": "2022-04-11T19:05:11.314Z"
   },
   {
    "duration": 16,
    "start_time": "2022-04-11T19:05:16.530Z"
   },
   {
    "duration": 2088,
    "start_time": "2022-04-11T19:05:29.225Z"
   },
   {
    "duration": 21,
    "start_time": "2022-04-11T19:05:44.841Z"
   },
   {
    "duration": 17,
    "start_time": "2022-04-11T19:06:17.945Z"
   },
   {
    "duration": 61,
    "start_time": "2022-04-11T19:06:31.814Z"
   },
   {
    "duration": 47,
    "start_time": "2022-04-11T19:06:32.807Z"
   },
   {
    "duration": 11507,
    "start_time": "2022-04-11T19:06:33.871Z"
   },
   {
    "duration": 33,
    "start_time": "2022-04-11T19:06:45.381Z"
   },
   {
    "duration": 11,
    "start_time": "2022-04-11T19:06:48.983Z"
   },
   {
    "duration": 333,
    "start_time": "2022-04-11T19:07:02.671Z"
   },
   {
    "duration": 322,
    "start_time": "2022-04-11T19:07:30.823Z"
   },
   {
    "duration": 333,
    "start_time": "2022-04-11T19:07:52.069Z"
   },
   {
    "duration": 107,
    "start_time": "2022-04-11T19:08:10.488Z"
   },
   {
    "duration": 55,
    "start_time": "2022-04-11T19:08:11.190Z"
   },
   {
    "duration": 11827,
    "start_time": "2022-04-11T19:08:11.957Z"
   },
   {
    "duration": 6,
    "start_time": "2022-04-11T19:08:23.788Z"
   },
   {
    "duration": 11,
    "start_time": "2022-04-11T19:08:23.797Z"
   },
   {
    "duration": 18,
    "start_time": "2022-04-11T19:08:23.867Z"
   },
   {
    "duration": 346,
    "start_time": "2022-04-11T19:08:26.909Z"
   },
   {
    "duration": 541,
    "start_time": "2022-04-11T19:09:55.084Z"
   },
   {
    "duration": 399,
    "start_time": "2022-04-11T19:10:27.705Z"
   },
   {
    "duration": 423,
    "start_time": "2022-04-11T19:11:28.047Z"
   },
   {
    "duration": 865,
    "start_time": "2022-04-11T19:14:29.162Z"
   },
   {
    "duration": 616,
    "start_time": "2022-04-11T19:15:11.970Z"
   },
   {
    "duration": 538,
    "start_time": "2022-04-11T19:17:20.799Z"
   },
   {
    "duration": 536,
    "start_time": "2022-04-11T19:18:19.365Z"
   },
   {
    "duration": 746,
    "start_time": "2022-04-11T19:18:29.566Z"
   },
   {
    "duration": 508,
    "start_time": "2022-04-11T19:23:41.204Z"
   },
   {
    "duration": 1057,
    "start_time": "2022-04-11T19:23:59.974Z"
   },
   {
    "duration": 912,
    "start_time": "2022-04-11T19:24:38.004Z"
   },
   {
    "duration": 489,
    "start_time": "2022-04-11T19:24:51.507Z"
   },
   {
    "duration": 637,
    "start_time": "2022-04-11T19:25:26.899Z"
   },
   {
    "duration": 865,
    "start_time": "2022-04-11T19:27:07.449Z"
   },
   {
    "duration": 990,
    "start_time": "2022-04-11T19:27:32.602Z"
   },
   {
    "duration": 14,
    "start_time": "2022-04-11T19:29:57.550Z"
   },
   {
    "duration": 585,
    "start_time": "2022-04-11T19:31:11.194Z"
   }
  ],
  "kernelspec": {
   "display_name": "Python 3 (ipykernel)",
   "language": "python",
   "name": "python3"
  },
  "language_info": {
   "codemirror_mode": {
    "name": "ipython",
    "version": 3
   },
   "file_extension": ".py",
   "mimetype": "text/x-python",
   "name": "python",
   "nbconvert_exporter": "python",
   "pygments_lexer": "ipython3",
   "version": "3.9.7"
  },
  "toc": {
   "base_numbering": 1,
   "nav_menu": {},
   "number_sections": true,
   "sideBar": true,
   "skip_h1_title": true,
   "title_cell": "Содержание",
   "title_sidebar": "Contents",
   "toc_cell": true,
   "toc_position": {},
   "toc_section_display": true,
   "toc_window_display": false
  }
 },
 "nbformat": 4,
 "nbformat_minor": 2
}
