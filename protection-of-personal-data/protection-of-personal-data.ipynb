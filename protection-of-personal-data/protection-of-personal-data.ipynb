{
 "cells": [
  {
   "cell_type": "markdown",
   "metadata": {},
   "source": [
    "# Защита персональных данных клиентов"
   ]
  },
  {
   "cell_type": "markdown",
   "metadata": {},
   "source": [
    "Нам поступила задача защитить данные клиентов страховой компании «Хоть потоп». В процессе работы необходимо разработать такой метод преобразования данных, чтобы по ним было сложно восстановить персональную информацию. В итоге потребуется обосновать корректность его работы.\n",
    "\n",
    "Нужно защитить данные, чтобы при преобразовании качество моделей машинного обучения не ухудшилось. Подбирать наилучшую модель не требуется.\n",
    "\n",
    "Для достижения поставленной цели требуется выполнить задачи:\n",
    "- установить, изменится ли качество линейной регрессии при умножении признаков на обпатимую матрицу;\n",
    "- предложить алгоритм преобразования данных для решения задачи;\n",
    "- запрограммировать этот алгоритм, применив матричные операции. Проверить, что качество линейной регрессии из sklearn не отличается до и после преобразования. Применить метрику R2."
   ]
  },
  {
   "cell_type": "markdown",
   "metadata": {
    "toc": true
   },
   "source": [
    "<h1>Содержание<span class=\"tocSkip\"></span></h1>\n",
    "<div class=\"toc\"><ul class=\"toc-item\"><li><span><a href=\"#Загрузка-данных\" data-toc-modified-id=\"Загрузка-данных-1\"><span class=\"toc-item-num\">1&nbsp;&nbsp;</span>Загрузка данных</a></span></li><li><span><a href=\"#Умножение-матриц\" data-toc-modified-id=\"Умножение-матриц-2\"><span class=\"toc-item-num\">2&nbsp;&nbsp;</span>Умножение матриц</a></span></li><li><span><a href=\"#Алгоритм-преобразования\" data-toc-modified-id=\"Алгоритм-преобразования-3\"><span class=\"toc-item-num\">3&nbsp;&nbsp;</span>Алгоритм преобразования</a></span></li><li><span><a href=\"#Проверка-алгоритма\" data-toc-modified-id=\"Проверка-алгоритма-4\"><span class=\"toc-item-num\">4&nbsp;&nbsp;</span>Проверка алгоритма</a></span></li><li><span><a href=\"#Чек-лист-проверки\" data-toc-modified-id=\"Чек-лист-проверки-5\"><span class=\"toc-item-num\">5&nbsp;&nbsp;</span>Чек-лист проверки</a></span></li></ul></div>"
   ]
  },
  {
   "cell_type": "markdown",
   "metadata": {},
   "source": [
    "## Загрузка данных"
   ]
  },
  {
   "cell_type": "code",
   "execution_count": 1,
   "metadata": {},
   "outputs": [],
   "source": [
    "# Импортируем необходимые библиотеки для решения поставленной задачи\n",
    "import pandas as pd\n",
    "import numpy as np\n",
    "from sklearn.linear_model import LinearRegression\n",
    "from sklearn.metrics import r2_score\n",
    "from sklearn.model_selection import train_test_split"
   ]
  },
  {
   "cell_type": "code",
   "execution_count": 2,
   "metadata": {},
   "outputs": [],
   "source": [
    "# Загрузим данные\n",
    "df = pd.read_csv('/datasets/insurance.csv')"
   ]
  },
  {
   "cell_type": "code",
   "execution_count": 3,
   "metadata": {},
   "outputs": [
    {
     "data": {
      "text/html": [
       "<div>\n",
       "<style scoped>\n",
       "    .dataframe tbody tr th:only-of-type {\n",
       "        vertical-align: middle;\n",
       "    }\n",
       "\n",
       "    .dataframe tbody tr th {\n",
       "        vertical-align: top;\n",
       "    }\n",
       "\n",
       "    .dataframe thead th {\n",
       "        text-align: right;\n",
       "    }\n",
       "</style>\n",
       "<table border=\"1\" class=\"dataframe\">\n",
       "  <thead>\n",
       "    <tr style=\"text-align: right;\">\n",
       "      <th></th>\n",
       "      <th>Пол</th>\n",
       "      <th>Возраст</th>\n",
       "      <th>Зарплата</th>\n",
       "      <th>Члены семьи</th>\n",
       "      <th>Страховые выплаты</th>\n",
       "    </tr>\n",
       "  </thead>\n",
       "  <tbody>\n",
       "    <tr>\n",
       "      <td>0</td>\n",
       "      <td>1</td>\n",
       "      <td>41.0</td>\n",
       "      <td>49600.0</td>\n",
       "      <td>1</td>\n",
       "      <td>0</td>\n",
       "    </tr>\n",
       "    <tr>\n",
       "      <td>1</td>\n",
       "      <td>0</td>\n",
       "      <td>46.0</td>\n",
       "      <td>38000.0</td>\n",
       "      <td>1</td>\n",
       "      <td>1</td>\n",
       "    </tr>\n",
       "    <tr>\n",
       "      <td>2</td>\n",
       "      <td>0</td>\n",
       "      <td>29.0</td>\n",
       "      <td>21000.0</td>\n",
       "      <td>0</td>\n",
       "      <td>0</td>\n",
       "    </tr>\n",
       "    <tr>\n",
       "      <td>3</td>\n",
       "      <td>0</td>\n",
       "      <td>21.0</td>\n",
       "      <td>41700.0</td>\n",
       "      <td>2</td>\n",
       "      <td>0</td>\n",
       "    </tr>\n",
       "    <tr>\n",
       "      <td>4</td>\n",
       "      <td>1</td>\n",
       "      <td>28.0</td>\n",
       "      <td>26100.0</td>\n",
       "      <td>0</td>\n",
       "      <td>0</td>\n",
       "    </tr>\n",
       "    <tr>\n",
       "      <td>5</td>\n",
       "      <td>1</td>\n",
       "      <td>43.0</td>\n",
       "      <td>41000.0</td>\n",
       "      <td>2</td>\n",
       "      <td>1</td>\n",
       "    </tr>\n",
       "    <tr>\n",
       "      <td>6</td>\n",
       "      <td>1</td>\n",
       "      <td>39.0</td>\n",
       "      <td>39700.0</td>\n",
       "      <td>2</td>\n",
       "      <td>0</td>\n",
       "    </tr>\n",
       "    <tr>\n",
       "      <td>7</td>\n",
       "      <td>1</td>\n",
       "      <td>25.0</td>\n",
       "      <td>38600.0</td>\n",
       "      <td>4</td>\n",
       "      <td>0</td>\n",
       "    </tr>\n",
       "    <tr>\n",
       "      <td>8</td>\n",
       "      <td>1</td>\n",
       "      <td>36.0</td>\n",
       "      <td>49700.0</td>\n",
       "      <td>1</td>\n",
       "      <td>0</td>\n",
       "    </tr>\n",
       "    <tr>\n",
       "      <td>9</td>\n",
       "      <td>1</td>\n",
       "      <td>32.0</td>\n",
       "      <td>51700.0</td>\n",
       "      <td>1</td>\n",
       "      <td>0</td>\n",
       "    </tr>\n",
       "  </tbody>\n",
       "</table>\n",
       "</div>"
      ],
      "text/plain": [
       "   Пол  Возраст  Зарплата  Члены семьи  Страховые выплаты\n",
       "0    1     41.0   49600.0            1                  0\n",
       "1    0     46.0   38000.0            1                  1\n",
       "2    0     29.0   21000.0            0                  0\n",
       "3    0     21.0   41700.0            2                  0\n",
       "4    1     28.0   26100.0            0                  0\n",
       "5    1     43.0   41000.0            2                  1\n",
       "6    1     39.0   39700.0            2                  0\n",
       "7    1     25.0   38600.0            4                  0\n",
       "8    1     36.0   49700.0            1                  0\n",
       "9    1     32.0   51700.0            1                  0"
      ]
     },
     "execution_count": 3,
     "metadata": {},
     "output_type": "execute_result"
    }
   ],
   "source": [
    "# Посмотрим на первые 10 строк таблицы\n",
    "df.head(10)"
   ]
  },
  {
   "cell_type": "code",
   "execution_count": 4,
   "metadata": {},
   "outputs": [
    {
     "name": "stdout",
     "output_type": "stream",
     "text": [
      "<class 'pandas.core.frame.DataFrame'>\n",
      "RangeIndex: 5000 entries, 0 to 4999\n",
      "Data columns (total 5 columns):\n",
      "Пол                  5000 non-null int64\n",
      "Возраст              5000 non-null float64\n",
      "Зарплата             5000 non-null float64\n",
      "Члены семьи          5000 non-null int64\n",
      "Страховые выплаты    5000 non-null int64\n",
      "dtypes: float64(2), int64(3)\n",
      "memory usage: 195.4 KB\n"
     ]
    }
   ],
   "source": [
    "# Посмотрим на общую информацию о таблице\n",
    "df.info()"
   ]
  },
  {
   "cell_type": "markdown",
   "metadata": {},
   "source": [
    "Мы видим, что пропусков в таблице нет. В ней 5000 объектов и 5 признаков.\n",
    "\n",
    "Признаки: пол, возраст и зарплата застрахованного, количество членов его семьи.\n",
    "\n",
    "Целевой признак: количество страховых выплат клиенту за последние 5 лет."
   ]
  },
  {
   "cell_type": "code",
   "execution_count": 5,
   "metadata": {},
   "outputs": [
    {
     "name": "stdout",
     "output_type": "stream",
     "text": [
      "В таблице доля дубликтов составляет: 3.06 %.\n"
     ]
    }
   ],
   "source": [
    "# Проверим данные на наличие дубликатов\n",
    "print('В таблице доля дубликтов составляет:', df.duplicated().sum() / len(df) * 100, '%.')"
   ]
  },
  {
   "cell_type": "markdown",
   "metadata": {},
   "source": [
    "Так как доля их мала, то для дальнейшего анализа целесообразно будет их удалить."
   ]
  },
  {
   "cell_type": "code",
   "execution_count": 6,
   "metadata": {},
   "outputs": [],
   "source": [
    "df = df.drop_duplicates().reset_index(drop=True)"
   ]
  },
  {
   "cell_type": "markdown",
   "metadata": {},
   "source": [
    "## Умножение матриц"
   ]
  },
  {
   "cell_type": "markdown",
   "metadata": {},
   "source": [
    "Создадим модель линейной регрессии и обучим ее."
   ]
  },
  {
   "cell_type": "code",
   "execution_count": 7,
   "metadata": {},
   "outputs": [
    {
     "name": "stdout",
     "output_type": "stream",
     "text": [
      "Значение r2 метрики: 0.4302010044852067\n"
     ]
    }
   ],
   "source": [
    "features = df.drop('Страховые выплаты', axis=1)\n",
    "target = df['Страховые выплаты']\n",
    "model = LinearRegression()\n",
    "model.fit(features, target)\n",
    "predictions = model.predict(features)\n",
    "print('Значение r2 метрики:', r2_score(target, predictions))"
   ]
  },
  {
   "cell_type": "code",
   "execution_count": 8,
   "metadata": {},
   "outputs": [
    {
     "name": "stdout",
     "output_type": "stream",
     "text": [
      "Матрица обратимая\n"
     ]
    }
   ],
   "source": [
    "# Создадим случайную матрицу и проверим ее на обратимость\n",
    "random_matrix = np.random.normal(3, 2.5, size=(4, 4))\n",
    "try:\n",
    "    np.linalg.inv(random_matrix)\n",
    "    print('Матрица обратимая')\n",
    "except:\n",
    "    np.linalg.inv(random_matrix)\n",
    "    print('Ошибка - матрица необратимая!')"
   ]
  },
  {
   "cell_type": "code",
   "execution_count": 9,
   "metadata": {},
   "outputs": [],
   "source": [
    "# Умножим признаки на обратимую матрицу\n",
    "features_new = features.dot(random_matrix)"
   ]
  },
  {
   "cell_type": "code",
   "execution_count": 10,
   "metadata": {},
   "outputs": [
    {
     "name": "stdout",
     "output_type": "stream",
     "text": [
      "Значение r2 метрики: 0.43020100448520626\n"
     ]
    }
   ],
   "source": [
    "# Обучим модель на новых признаках и посчитаем r2\n",
    "model = LinearRegression()\n",
    "model.fit(features_new, target)\n",
    "predictions = model.predict(features_new)\n",
    "print('Значение r2 метрики:', r2_score(target, predictions))"
   ]
  },
  {
   "cell_type": "markdown",
   "metadata": {},
   "source": [
    "Мы видим, что значение r2 практически не изменилось."
   ]
  },
  {
   "cell_type": "markdown",
   "metadata": {},
   "source": [
    "Обозначения:\n",
    "\n",
    "- $X$ — матрица признаков (нулевой столбец состоит из единиц)\n",
    "\n",
    "- $y$ — вектор целевого признака\n",
    "\n",
    "- $P$ — матрица, на которую умножаются признаки\n",
    "\n",
    "- $w$ — вектор весов линейной регрессии (нулевой элемент равен сдвигу)"
   ]
  },
  {
   "cell_type": "markdown",
   "metadata": {},
   "source": [
    "Предсказания:\n",
    "\n",
    "$$\n",
    "a = Xw\n",
    "$$\n",
    "\n",
    "Задача обучения:\n",
    "\n",
    "$$\n",
    "w = \\arg\\min_w MSE(Xw, y)\n",
    "$$\n",
    "\n",
    "Формула обучения:\n",
    "\n",
    "$$\n",
    "w = (X^T X)^{-1} X^T y\n",
    "$$"
   ]
  },
  {
   "cell_type": "markdown",
   "metadata": {},
   "source": [
    "**Ответ:** качество линейной регрессии не изменится.\n",
    "\n",
    "**Обоснование:** связь между признаками линейная, при умножении фичей на обратимую матрицу добавляются коэффициенты, что в итоге это не влияет на результат."
   ]
  },
  {
   "cell_type": "markdown",
   "metadata": {},
   "source": [
    "## Алгоритм преобразования"
   ]
  },
  {
   "cell_type": "markdown",
   "metadata": {},
   "source": [
    "**Алгоритм**\n",
    "\n",
    "Предложим алгоритм преобразования данных для решения задачи.\n",
    "1. Создание случайной квадратной матрицы Y.\n",
    "2. Проверка матрицы на обратимость.\n",
    "3. Получение матрицы преобразованных признаков Z = XY.\n",
    "4. Применение алгоритма на преобразованных признаках"
   ]
  },
  {
   "cell_type": "markdown",
   "metadata": {},
   "source": [
    "**Обоснование**\n",
    "\n",
    "Предсказания:\n",
    "\n",
    "$$\n",
    "a = Xw\n",
    "$$\n",
    "\n",
    "Задача обучения:\n",
    "\n",
    "$$\n",
    "w = \\arg\\min_w MSE(Xw, y)\n",
    "$$\n",
    "\n",
    "Формула обучения:\n",
    "\n",
    "$$\n",
    "w = (X^T X)^{-1} X^T y\n",
    "$$\n",
    "\n",
    "Заменим матрицу X на матрицу Z:\n",
    "\n",
    "$$\n",
    "Z = XP\n",
    "$$\n",
    "\n",
    "Подставим матрицу Z в формулу обучения вместо X:\n",
    "\n",
    "$$\n",
    "w' = (Z^T Z)^{-1} Z^T y\n",
    "$$\n",
    "\n",
    "Заменим матрицу Z на XP:\n",
    "\n",
    "$$\n",
    "w' = ((XP)^T (XP))^{-1} (XP)^T y\n",
    "$$\n",
    "\n",
    "Далее воспользуемся свойствами матрицы:\n",
    "\n",
    "$$\n",
    "(AB)^T=B^T A^T\n",
    "$$\n",
    "$$\n",
    "(AB)^{-1} = B^{-1} A^{-1}\n",
    "$$\n",
    "$$\n",
    "A A^{-1} = A^{-1} A = E\n",
    "$$\n",
    "$$\n",
    "AE = EA = A\n",
    "$$\n",
    "\n",
    "Преобразуем формулу с учетом указанного свойства:\n",
    "\n",
    "$$\n",
    "a = Xw = XEw = XPP^{-1}w = (XP)P^{-1}w = (XP)w'\n",
    "$$\n",
    "\\\n",
    "$$\n",
    "w = (X^T X)^{-1} X^T y\n",
    "$$\n",
    "\\\n",
    "$$\n",
    "w' = ((XP)^T XP)^{-1} (XP)^T y\n",
    "$$\n",
    "$$\n",
    "w' = (P^T (X^T X) P)^{-1} (XP)^T y\n",
    "$$\n",
    "$$\n",
    "w' = (P^T (X^T X) P)^{-1} P^T X^T y\n",
    "$$\n",
    "\n",
    "Подставим значение w' в формулу предсказаний:\n",
    "\n",
    "$$\n",
    "y' = w' Z = Z^{-1} y' Z = y'\n",
    "$$"
   ]
  },
  {
   "cell_type": "markdown",
   "metadata": {},
   "source": [
    "**Обоснование:**\n",
    "\n",
    "Используемые свойства:\n",
    "$$\n",
    "(AB)^T=B^T A^T \\tag{1}\n",
    "$$\n",
    "$$\n",
    "(AB)^{-1} = B^{-1} A^{-1} \\tag{2}\n",
    "$$\n",
    "$$\n",
    "A A^{-1} = A^{-1} A = E  \\tag{3}\n",
    "$$\n",
    "$$\n",
    "AE = EA = A \\tag{4}\n",
    "$$\n",
    "Доказательство:\n",
    "$$\n",
    "a = Xw = XEw = XPP^{-1}w = (XP)P^{-1}w = (XP)w'\n",
    "$$\n",
    "\\\n",
    "$$\n",
    "w = (X^T X)^{-1} X^T y\n",
    "$$\n",
    "\\\n",
    "$$\n",
    "w' = ((XP)^T XP)^{-1} (XP)^T y\n",
    "$$\n",
    "$$\n",
    "w' = (P^T (X^T X) P)^{-1} (XP)^T y\n",
    "$$\n",
    "$$\n",
    "w' = (P^T (X^T X) P)^{-1} P^T X^T y\n",
    "$$\n",
    "$$\n",
    "w' = ((P^T)^{-1} P^T) (X^T X)^{-1} P^{-1} X^T y\n",
    "$$\n",
    "$$\n",
    "w' = E (X^T X)^{-1} P^{-1} X^T y\n",
    "$$\n",
    "$$\n",
    "w' = P^{-1} (X^T X)^{-1} X^T y\n",
    "$$\n",
    "Подставим значение w' в формулу предсказания:\n",
    "$$\n",
    "a = XP P^{-1} (X^T X)^{-1} X^T y = EX (X^T X)^{-1} X^T y = X (X^T X)^{-1} X^T y\n",
    "$$"
   ]
  },
  {
   "cell_type": "markdown",
   "metadata": {},
   "source": [
    "Таким образом, было доказано, что умножение признаков на обратимую матрицу не меняет значения предсказаний, а значит, качество линейной регрессии не поменяется."
   ]
  },
  {
   "cell_type": "markdown",
   "metadata": {},
   "source": [
    "## Проверка алгоритма"
   ]
  },
  {
   "cell_type": "markdown",
   "metadata": {},
   "source": [
    "Перед проверкой алгоритма создадим необходимые перменные.ё"
   ]
  },
  {
   "cell_type": "code",
   "execution_count": 17,
   "metadata": {},
   "outputs": [],
   "source": [
    "X = features\n",
    "X = np.concatenate((np.ones((X.shape[0], 1)), X), axis=1)\n",
    "y = target\n",
    "P = np.random.normal(3, 2.5, size=(5, 5))"
   ]
  },
  {
   "cell_type": "code",
   "execution_count": 18,
   "metadata": {},
   "outputs": [
    {
     "name": "stdout",
     "output_type": "stream",
     "text": [
      "Матрица обратимая\n"
     ]
    }
   ],
   "source": [
    "# Проверим случайную матрицу P на обратимость\n",
    "try:\n",
    "    np.linalg.inv(P)\n",
    "    print('Матрица обратимая')\n",
    "except:\n",
    "    np.linalg.inv(P)\n",
    "    print('Ошибка - матрица необратимая!')"
   ]
  },
  {
   "cell_type": "code",
   "execution_count": 19,
   "metadata": {},
   "outputs": [],
   "source": [
    "# Получим матрицу преобразованных признаков\n",
    "Z = X @ P"
   ]
  },
  {
   "cell_type": "code",
   "execution_count": 20,
   "metadata": {},
   "outputs": [],
   "source": [
    "# Создадим функцию для разбивки выборки на обучающую и тестовую\n",
    "def test_split(features):\n",
    "    X_train, X_test, y_train, y_test = train_test_split(X, y, test_size=0.25, random_state=12345)\n",
    "    return X_train, X_test, y_train, y_test"
   ]
  },
  {
   "cell_type": "code",
   "execution_count": 21,
   "metadata": {},
   "outputs": [],
   "source": [
    "# Разделим выборки на обучающую и тестовую\n",
    "X_train, X_test, y_train, y_test = test_split(X)\n",
    "Z_train, Z_test, y_train, y_test = test_split(Z)"
   ]
  },
  {
   "cell_type": "code",
   "execution_count": 22,
   "metadata": {},
   "outputs": [],
   "source": [
    "# Создадим функцию для обучения линейной регрессии\n",
    "def lr(features):\n",
    "    model = LinearRegression()\n",
    "    model.fit(features, y_train)\n",
    "    predictions = model.predict(X_test)\n",
    "    return r2_score(y_test, predictions)"
   ]
  },
  {
   "cell_type": "code",
   "execution_count": 23,
   "metadata": {},
   "outputs": [
    {
     "name": "stdout",
     "output_type": "stream",
     "text": [
      "r2 для модели с начальными признаками: 0.42307727492148095\n",
      "r2 для модели с преобразованными признаками: 0.42307727492148095\n"
     ]
    }
   ],
   "source": [
    "# Применим функцию для вычисления r2 метрики для модели с начальными признаками и преобразованными\n",
    "print('r2 для модели с начальными признаками:', lr(X_train))\n",
    "print('r2 для модели с преобразованными признаками:', lr(Z_train))"
   ]
  },
  {
   "cell_type": "markdown",
   "metadata": {},
   "source": [
    "Значение метрики r2 не изменилось после преобразования начальных признаков."
   ]
  },
  {
   "cell_type": "markdown",
   "metadata": {},
   "source": [
    "**Вывод**\n",
    "\n",
    "Таким образом, в процессе решения поставленных задач было доказано неизменяемость метрики качества для линейной модели регрессии при умножении признаков выборки на обратимую матрицу. Также был составлен алгоритм преобразования данных для решения задачи. В завершение даннных алгоритм был запрограммирован и проверен на наших данных, в результате чего значение метрики r2 не изменилось."
   ]
  }
 ],
 "metadata": {
  "ExecuteTimeLog": [
   {
    "duration": 802,
    "start_time": "2022-03-12T17:54:32.646Z"
   },
   {
    "duration": 32,
    "start_time": "2022-03-12T17:55:36.429Z"
   },
   {
    "duration": 24,
    "start_time": "2022-03-12T17:56:06.820Z"
   },
   {
    "duration": 10,
    "start_time": "2022-03-12T17:58:00.331Z"
   },
   {
    "duration": 398,
    "start_time": "2022-03-13T14:05:57.734Z"
   },
   {
    "duration": 565,
    "start_time": "2022-03-13T14:06:02.422Z"
   },
   {
    "duration": 19,
    "start_time": "2022-03-13T14:06:02.989Z"
   },
   {
    "duration": 24,
    "start_time": "2022-03-13T14:06:03.010Z"
   },
   {
    "duration": 30,
    "start_time": "2022-03-13T14:06:03.036Z"
   },
   {
    "duration": 16,
    "start_time": "2022-03-13T14:06:03.067Z"
   },
   {
    "duration": 6,
    "start_time": "2022-03-13T14:06:17.786Z"
   },
   {
    "duration": 5,
    "start_time": "2022-03-13T14:06:33.610Z"
   },
   {
    "duration": 6,
    "start_time": "2022-03-13T14:10:06.933Z"
   },
   {
    "duration": 99,
    "start_time": "2022-03-13T14:10:30.349Z"
   },
   {
    "duration": 93,
    "start_time": "2022-03-13T14:14:23.247Z"
   },
   {
    "duration": 91,
    "start_time": "2022-03-13T14:14:38.315Z"
   },
   {
    "duration": 5,
    "start_time": "2022-03-13T14:15:00.911Z"
   },
   {
    "duration": 7,
    "start_time": "2022-03-13T14:15:35.675Z"
   },
   {
    "duration": 7,
    "start_time": "2022-03-13T14:15:45.283Z"
   },
   {
    "duration": 18,
    "start_time": "2022-03-13T14:17:47.083Z"
   },
   {
    "duration": 6,
    "start_time": "2022-03-13T14:18:13.967Z"
   },
   {
    "duration": 6,
    "start_time": "2022-03-13T15:23:02.657Z"
   },
   {
    "duration": 481,
    "start_time": "2022-03-13T15:39:27.568Z"
   },
   {
    "duration": 6,
    "start_time": "2022-03-13T15:41:29.449Z"
   },
   {
    "duration": 23,
    "start_time": "2022-03-13T15:46:25.647Z"
   },
   {
    "duration": 9,
    "start_time": "2022-03-13T15:46:48.069Z"
   },
   {
    "duration": 4,
    "start_time": "2022-03-13T16:17:32.951Z"
   },
   {
    "duration": 385,
    "start_time": "2022-03-13T16:19:01.294Z"
   },
   {
    "duration": 354,
    "start_time": "2022-03-13T16:28:34.724Z"
   },
   {
    "duration": 3,
    "start_time": "2022-03-13T16:28:42.564Z"
   },
   {
    "duration": 4,
    "start_time": "2022-03-13T16:28:46.931Z"
   },
   {
    "duration": 4,
    "start_time": "2022-03-13T16:30:08.303Z"
   },
   {
    "duration": 4,
    "start_time": "2022-03-13T16:30:41.790Z"
   },
   {
    "duration": 3,
    "start_time": "2022-03-13T16:31:54.734Z"
   },
   {
    "duration": 326,
    "start_time": "2022-03-13T16:31:55.162Z"
   },
   {
    "duration": 314,
    "start_time": "2022-03-13T16:33:02.320Z"
   },
   {
    "duration": 3,
    "start_time": "2022-03-13T16:34:11.469Z"
   },
   {
    "duration": 8,
    "start_time": "2022-03-13T16:34:11.837Z"
   },
   {
    "duration": 14,
    "start_time": "2022-03-13T16:34:47.735Z"
   },
   {
    "duration": 4,
    "start_time": "2022-03-13T16:38:03.786Z"
   },
   {
    "duration": 4,
    "start_time": "2022-03-13T16:39:08.998Z"
   },
   {
    "duration": 5,
    "start_time": "2022-03-13T16:40:00.914Z"
   },
   {
    "duration": 3,
    "start_time": "2022-03-13T16:40:01.591Z"
   },
   {
    "duration": 8,
    "start_time": "2022-03-13T16:40:02.230Z"
   },
   {
    "duration": 1321,
    "start_time": "2022-03-15T09:35:49.111Z"
   },
   {
    "duration": 19,
    "start_time": "2022-03-15T09:35:50.434Z"
   },
   {
    "duration": 24,
    "start_time": "2022-03-15T09:35:50.455Z"
   },
   {
    "duration": 9,
    "start_time": "2022-03-15T09:35:50.486Z"
   },
   {
    "duration": 9,
    "start_time": "2022-03-15T09:35:50.497Z"
   },
   {
    "duration": 8,
    "start_time": "2022-03-15T09:35:50.508Z"
   },
   {
    "duration": 169,
    "start_time": "2022-03-15T09:35:50.519Z"
   },
   {
    "duration": 6,
    "start_time": "2022-03-15T09:35:50.692Z"
   },
   {
    "duration": 6,
    "start_time": "2022-03-15T09:35:50.701Z"
   },
   {
    "duration": 512,
    "start_time": "2022-03-15T09:35:50.710Z"
   },
   {
    "duration": -142,
    "start_time": "2022-03-15T09:35:51.367Z"
   },
   {
    "duration": 4,
    "start_time": "2022-03-15T09:36:42.173Z"
   },
   {
    "duration": 23,
    "start_time": "2022-03-15T09:36:42.179Z"
   },
   {
    "duration": 12,
    "start_time": "2022-03-15T09:36:42.206Z"
   },
   {
    "duration": 9,
    "start_time": "2022-03-15T09:36:42.221Z"
   },
   {
    "duration": 14,
    "start_time": "2022-03-15T09:36:42.232Z"
   },
   {
    "duration": 38,
    "start_time": "2022-03-15T09:36:42.249Z"
   },
   {
    "duration": 16,
    "start_time": "2022-03-15T09:36:42.290Z"
   },
   {
    "duration": 81,
    "start_time": "2022-03-15T09:36:42.310Z"
   },
   {
    "duration": 94,
    "start_time": "2022-03-15T09:36:42.402Z"
   },
   {
    "duration": 106,
    "start_time": "2022-03-15T09:36:42.500Z"
   },
   {
    "duration": 81,
    "start_time": "2022-03-15T09:36:42.609Z"
   },
   {
    "duration": 7,
    "start_time": "2022-03-15T09:36:48.957Z"
   },
   {
    "duration": 6,
    "start_time": "2022-03-15T09:39:08.020Z"
   },
   {
    "duration": 972,
    "start_time": "2022-03-15T14:55:47.196Z"
   },
   {
    "duration": 59,
    "start_time": "2022-03-15T14:55:48.170Z"
   },
   {
    "duration": 15,
    "start_time": "2022-03-15T14:55:48.231Z"
   },
   {
    "duration": 8,
    "start_time": "2022-03-15T14:55:48.248Z"
   },
   {
    "duration": 5,
    "start_time": "2022-03-15T14:55:48.258Z"
   },
   {
    "duration": 6,
    "start_time": "2022-03-15T14:55:48.264Z"
   },
   {
    "duration": 10,
    "start_time": "2022-03-15T14:55:48.271Z"
   },
   {
    "duration": 158,
    "start_time": "2022-03-15T14:55:48.283Z"
   },
   {
    "duration": 7,
    "start_time": "2022-03-15T14:55:48.444Z"
   },
   {
    "duration": 93,
    "start_time": "2022-03-15T14:55:48.453Z"
   },
   {
    "duration": 191,
    "start_time": "2022-03-15T14:55:48.548Z"
   },
   {
    "duration": 259,
    "start_time": "2022-03-15T14:55:48.741Z"
   },
   {
    "duration": 3,
    "start_time": "2022-03-15T14:56:12.761Z"
   },
   {
    "duration": 23,
    "start_time": "2022-03-15T14:56:12.766Z"
   },
   {
    "duration": 17,
    "start_time": "2022-03-15T14:56:12.791Z"
   },
   {
    "duration": 11,
    "start_time": "2022-03-15T14:56:12.810Z"
   },
   {
    "duration": 10,
    "start_time": "2022-03-15T14:56:12.823Z"
   },
   {
    "duration": 11,
    "start_time": "2022-03-15T14:56:12.835Z"
   },
   {
    "duration": 13,
    "start_time": "2022-03-15T14:56:12.848Z"
   },
   {
    "duration": 77,
    "start_time": "2022-03-15T14:56:12.864Z"
   },
   {
    "duration": 103,
    "start_time": "2022-03-15T14:56:12.943Z"
   },
   {
    "duration": 91,
    "start_time": "2022-03-15T14:56:13.048Z"
   },
   {
    "duration": 100,
    "start_time": "2022-03-15T14:56:13.141Z"
   },
   {
    "duration": 11,
    "start_time": "2022-03-15T14:56:13.243Z"
   },
   {
    "duration": 4,
    "start_time": "2022-03-15T15:03:49.527Z"
   },
   {
    "duration": 3,
    "start_time": "2022-03-15T15:06:46.220Z"
   },
   {
    "duration": 163,
    "start_time": "2022-03-15T15:07:11.699Z"
   },
   {
    "duration": 4,
    "start_time": "2022-03-15T15:07:36.282Z"
   },
   {
    "duration": 4,
    "start_time": "2022-03-15T15:07:36.746Z"
   },
   {
    "duration": 3,
    "start_time": "2022-03-15T15:07:37.163Z"
   },
   {
    "duration": 3,
    "start_time": "2022-03-15T15:07:37.498Z"
   },
   {
    "duration": 406,
    "start_time": "2022-03-15T15:08:11.810Z"
   },
   {
    "duration": 6,
    "start_time": "2022-03-15T15:09:01.475Z"
   },
   {
    "duration": 4,
    "start_time": "2022-03-15T15:09:21.680Z"
   },
   {
    "duration": 3,
    "start_time": "2022-03-15T15:09:21.960Z"
   },
   {
    "duration": 6,
    "start_time": "2022-03-15T15:09:22.248Z"
   },
   {
    "duration": 5,
    "start_time": "2022-03-15T15:10:39.254Z"
   },
   {
    "duration": 63,
    "start_time": "2022-03-15T15:17:08.027Z"
   },
   {
    "duration": 362,
    "start_time": "2022-03-15T15:17:32.085Z"
   },
   {
    "duration": 3,
    "start_time": "2022-03-15T15:18:33.171Z"
   },
   {
    "duration": 9,
    "start_time": "2022-03-15T15:18:34.091Z"
   },
   {
    "duration": 5,
    "start_time": "2022-03-15T15:19:08.146Z"
   },
   {
    "duration": 3,
    "start_time": "2022-03-15T15:20:34.159Z"
   },
   {
    "duration": 22,
    "start_time": "2022-03-15T15:20:34.164Z"
   },
   {
    "duration": 10,
    "start_time": "2022-03-15T15:20:34.188Z"
   },
   {
    "duration": 15,
    "start_time": "2022-03-15T15:20:34.200Z"
   },
   {
    "duration": 5,
    "start_time": "2022-03-15T15:20:34.217Z"
   },
   {
    "duration": 5,
    "start_time": "2022-03-15T15:20:34.224Z"
   },
   {
    "duration": 17,
    "start_time": "2022-03-15T15:20:34.231Z"
   },
   {
    "duration": 86,
    "start_time": "2022-03-15T15:20:34.253Z"
   },
   {
    "duration": 110,
    "start_time": "2022-03-15T15:20:34.342Z"
   },
   {
    "duration": 88,
    "start_time": "2022-03-15T15:20:34.455Z"
   },
   {
    "duration": 95,
    "start_time": "2022-03-15T15:20:34.545Z"
   },
   {
    "duration": 103,
    "start_time": "2022-03-15T15:20:34.643Z"
   },
   {
    "duration": 88,
    "start_time": "2022-03-15T15:20:34.749Z"
   },
   {
    "duration": 8,
    "start_time": "2022-03-15T15:20:34.841Z"
   },
   {
    "duration": 88,
    "start_time": "2022-03-15T15:20:34.851Z"
   },
   {
    "duration": 12,
    "start_time": "2022-03-15T15:20:34.941Z"
   },
   {
    "duration": 3,
    "start_time": "2022-03-15T15:20:48.935Z"
   },
   {
    "duration": 21,
    "start_time": "2022-03-15T15:20:48.939Z"
   },
   {
    "duration": 8,
    "start_time": "2022-03-15T15:20:48.962Z"
   },
   {
    "duration": 8,
    "start_time": "2022-03-15T15:20:48.972Z"
   },
   {
    "duration": 5,
    "start_time": "2022-03-15T15:20:48.982Z"
   },
   {
    "duration": 5,
    "start_time": "2022-03-15T15:20:48.988Z"
   },
   {
    "duration": 44,
    "start_time": "2022-03-15T15:20:48.995Z"
   },
   {
    "duration": 102,
    "start_time": "2022-03-15T15:20:49.041Z"
   },
   {
    "duration": 13,
    "start_time": "2022-03-15T15:20:49.146Z"
   },
   {
    "duration": 85,
    "start_time": "2022-03-15T15:20:49.161Z"
   },
   {
    "duration": 190,
    "start_time": "2022-03-15T15:20:49.248Z"
   },
   {
    "duration": 5,
    "start_time": "2022-03-15T15:20:49.440Z"
   },
   {
    "duration": 11,
    "start_time": "2022-03-15T15:20:49.447Z"
   },
   {
    "duration": 7,
    "start_time": "2022-03-15T15:20:49.538Z"
   },
   {
    "duration": 90,
    "start_time": "2022-03-15T15:20:49.548Z"
   },
   {
    "duration": 338,
    "start_time": "2022-03-15T15:20:49.640Z"
   },
   {
    "duration": 5,
    "start_time": "2022-03-15T15:21:17.367Z"
   },
   {
    "duration": 3,
    "start_time": "2022-03-15T15:22:29.047Z"
   },
   {
    "duration": 20,
    "start_time": "2022-03-15T15:22:29.052Z"
   },
   {
    "duration": 10,
    "start_time": "2022-03-15T15:22:29.074Z"
   },
   {
    "duration": 10,
    "start_time": "2022-03-15T15:22:29.086Z"
   },
   {
    "duration": 5,
    "start_time": "2022-03-15T15:22:29.098Z"
   },
   {
    "duration": 7,
    "start_time": "2022-03-15T15:22:29.104Z"
   },
   {
    "duration": 39,
    "start_time": "2022-03-15T15:22:29.112Z"
   },
   {
    "duration": 99,
    "start_time": "2022-03-15T15:22:29.240Z"
   },
   {
    "duration": 16,
    "start_time": "2022-03-15T15:22:29.342Z"
   },
   {
    "duration": 93,
    "start_time": "2022-03-15T15:22:29.361Z"
   },
   {
    "duration": 86,
    "start_time": "2022-03-15T15:22:29.456Z"
   },
   {
    "duration": 94,
    "start_time": "2022-03-15T15:22:29.544Z"
   },
   {
    "duration": 11,
    "start_time": "2022-03-15T15:22:29.641Z"
   },
   {
    "duration": 6,
    "start_time": "2022-03-15T15:22:29.737Z"
   },
   {
    "duration": 10,
    "start_time": "2022-03-15T15:22:29.745Z"
   },
   {
    "duration": 9,
    "start_time": "2022-03-15T15:22:29.757Z"
   },
   {
    "duration": 456,
    "start_time": "2022-03-15T15:22:29.768Z"
   },
   {
    "duration": 3,
    "start_time": "2022-03-15T15:23:39.836Z"
   },
   {
    "duration": 4,
    "start_time": "2022-03-15T15:23:43.630Z"
   },
   {
    "duration": 17,
    "start_time": "2022-03-15T15:23:43.635Z"
   },
   {
    "duration": 9,
    "start_time": "2022-03-15T15:23:43.654Z"
   },
   {
    "duration": 9,
    "start_time": "2022-03-15T15:23:43.664Z"
   },
   {
    "duration": 9,
    "start_time": "2022-03-15T15:23:43.675Z"
   },
   {
    "duration": 8,
    "start_time": "2022-03-15T15:23:43.686Z"
   },
   {
    "duration": 48,
    "start_time": "2022-03-15T15:23:43.696Z"
   },
   {
    "duration": 93,
    "start_time": "2022-03-15T15:23:43.747Z"
   },
   {
    "duration": 11,
    "start_time": "2022-03-15T15:23:43.843Z"
   },
   {
    "duration": 88,
    "start_time": "2022-03-15T15:23:43.855Z"
   },
   {
    "duration": 6,
    "start_time": "2022-03-15T15:23:43.945Z"
   },
   {
    "duration": 5,
    "start_time": "2022-03-15T15:23:44.039Z"
   },
   {
    "duration": 101,
    "start_time": "2022-03-15T15:23:44.046Z"
   },
   {
    "duration": 91,
    "start_time": "2022-03-15T15:23:44.150Z"
   },
   {
    "duration": 8,
    "start_time": "2022-03-15T15:23:44.243Z"
   },
   {
    "duration": 8,
    "start_time": "2022-03-15T15:23:44.253Z"
   },
   {
    "duration": 11,
    "start_time": "2022-03-15T15:23:44.263Z"
   },
   {
    "duration": 3,
    "start_time": "2022-03-15T15:26:18.294Z"
   },
   {
    "duration": 5,
    "start_time": "2022-03-15T15:26:49.503Z"
   },
   {
    "duration": 3,
    "start_time": "2022-03-15T15:26:52.048Z"
   },
   {
    "duration": 5,
    "start_time": "2022-03-15T15:26:52.448Z"
   },
   {
    "duration": 4,
    "start_time": "2022-03-15T15:27:10.615Z"
   },
   {
    "duration": 3,
    "start_time": "2022-03-15T15:29:29.049Z"
   },
   {
    "duration": 9,
    "start_time": "2022-03-15T15:29:29.475Z"
   },
   {
    "duration": 7,
    "start_time": "2022-03-15T15:31:01.938Z"
   },
   {
    "duration": 7,
    "start_time": "2022-03-15T15:31:07.088Z"
   },
   {
    "duration": 3,
    "start_time": "2022-03-15T15:32:22.414Z"
   },
   {
    "duration": 14,
    "start_time": "2022-03-15T15:32:22.419Z"
   },
   {
    "duration": 13,
    "start_time": "2022-03-15T15:32:22.435Z"
   },
   {
    "duration": 14,
    "start_time": "2022-03-15T15:32:22.451Z"
   },
   {
    "duration": 10,
    "start_time": "2022-03-15T15:32:22.467Z"
   },
   {
    "duration": 8,
    "start_time": "2022-03-15T15:32:22.479Z"
   },
   {
    "duration": 50,
    "start_time": "2022-03-15T15:32:22.489Z"
   },
   {
    "duration": 107,
    "start_time": "2022-03-15T15:32:22.548Z"
   },
   {
    "duration": 13,
    "start_time": "2022-03-15T15:32:22.657Z"
   },
   {
    "duration": 167,
    "start_time": "2022-03-15T15:32:22.671Z"
   },
   {
    "duration": 6,
    "start_time": "2022-03-15T15:32:22.841Z"
   },
   {
    "duration": 92,
    "start_time": "2022-03-15T15:32:22.849Z"
   },
   {
    "duration": 94,
    "start_time": "2022-03-15T15:32:22.944Z"
   },
   {
    "duration": 4,
    "start_time": "2022-03-15T15:32:23.040Z"
   },
   {
    "duration": 95,
    "start_time": "2022-03-15T15:32:23.046Z"
   },
   {
    "duration": 16,
    "start_time": "2022-03-15T15:32:23.144Z"
   },
   {
    "duration": 10,
    "start_time": "2022-03-15T15:32:23.161Z"
   },
   {
    "duration": 18,
    "start_time": "2022-03-15T15:32:23.172Z"
   },
   {
    "duration": 6,
    "start_time": "2022-03-15T15:35:20.503Z"
   },
   {
    "duration": 3,
    "start_time": "2022-03-15T15:41:51.591Z"
   },
   {
    "duration": 17,
    "start_time": "2022-03-15T15:41:51.596Z"
   },
   {
    "duration": 14,
    "start_time": "2022-03-15T15:41:51.615Z"
   },
   {
    "duration": 25,
    "start_time": "2022-03-15T15:41:51.631Z"
   },
   {
    "duration": 16,
    "start_time": "2022-03-15T15:41:51.657Z"
   },
   {
    "duration": 26,
    "start_time": "2022-03-15T15:41:51.674Z"
   },
   {
    "duration": 27,
    "start_time": "2022-03-15T15:41:51.703Z"
   },
   {
    "duration": 135,
    "start_time": "2022-03-15T15:41:51.738Z"
   },
   {
    "duration": 6,
    "start_time": "2022-03-15T15:41:51.938Z"
   },
   {
    "duration": 94,
    "start_time": "2022-03-15T15:41:51.946Z"
   },
   {
    "duration": 110,
    "start_time": "2022-03-15T15:41:52.042Z"
   },
   {
    "duration": 9,
    "start_time": "2022-03-15T15:41:52.154Z"
   },
   {
    "duration": 11,
    "start_time": "2022-03-15T15:41:52.165Z"
   },
   {
    "duration": 6,
    "start_time": "2022-03-15T15:41:52.238Z"
   },
   {
    "duration": 97,
    "start_time": "2022-03-15T15:41:52.247Z"
   },
   {
    "duration": 17,
    "start_time": "2022-03-15T15:41:52.347Z"
   },
   {
    "duration": 22,
    "start_time": "2022-03-15T15:41:52.366Z"
   },
   {
    "duration": 960,
    "start_time": "2022-03-15T18:30:14.120Z"
   },
   {
    "duration": 16,
    "start_time": "2022-03-15T18:30:15.082Z"
   },
   {
    "duration": 14,
    "start_time": "2022-03-15T18:30:15.102Z"
   },
   {
    "duration": 7,
    "start_time": "2022-03-15T18:30:15.118Z"
   },
   {
    "duration": 5,
    "start_time": "2022-03-15T18:30:15.127Z"
   },
   {
    "duration": 6,
    "start_time": "2022-03-15T18:30:15.133Z"
   },
   {
    "duration": 11,
    "start_time": "2022-03-15T18:30:15.160Z"
   },
   {
    "duration": 85,
    "start_time": "2022-03-15T18:30:15.176Z"
   },
   {
    "duration": 95,
    "start_time": "2022-03-15T18:30:15.264Z"
   },
   {
    "duration": 11,
    "start_time": "2022-03-15T18:30:15.361Z"
   },
   {
    "duration": 8,
    "start_time": "2022-03-15T18:30:15.460Z"
   },
   {
    "duration": 4,
    "start_time": "2022-03-15T18:30:15.560Z"
   },
   {
    "duration": 4,
    "start_time": "2022-03-15T18:30:15.567Z"
   },
   {
    "duration": 87,
    "start_time": "2022-03-15T18:30:15.573Z"
   },
   {
    "duration": 8,
    "start_time": "2022-03-15T18:30:15.663Z"
   },
   {
    "duration": 87,
    "start_time": "2022-03-15T18:30:15.674Z"
   },
   {
    "duration": 10,
    "start_time": "2022-03-15T18:30:15.763Z"
   },
   {
    "duration": 203,
    "start_time": "2022-03-15T19:15:12.900Z"
   },
   {
    "duration": 1075,
    "start_time": "2022-03-15T19:15:17.793Z"
   },
   {
    "duration": 13,
    "start_time": "2022-03-15T19:15:18.870Z"
   },
   {
    "duration": 15,
    "start_time": "2022-03-15T19:15:18.885Z"
   },
   {
    "duration": 7,
    "start_time": "2022-03-15T19:15:18.902Z"
   },
   {
    "duration": 26,
    "start_time": "2022-03-15T19:15:18.911Z"
   },
   {
    "duration": 7,
    "start_time": "2022-03-15T19:15:18.939Z"
   },
   {
    "duration": 90,
    "start_time": "2022-03-15T19:15:18.947Z"
   },
   {
    "duration": 100,
    "start_time": "2022-03-15T19:15:19.042Z"
   },
   {
    "duration": 11,
    "start_time": "2022-03-15T19:15:19.145Z"
   },
   {
    "duration": 93,
    "start_time": "2022-03-15T19:15:19.158Z"
   },
   {
    "duration": 186,
    "start_time": "2022-03-15T19:15:19.253Z"
   },
   {
    "duration": 18,
    "start_time": "2022-03-15T19:15:19.441Z"
   },
   {
    "duration": 11,
    "start_time": "2022-03-15T19:15:19.461Z"
   },
   {
    "duration": 64,
    "start_time": "2022-03-15T19:15:19.474Z"
   },
   {
    "duration": 9,
    "start_time": "2022-03-15T19:15:19.541Z"
   },
   {
    "duration": 92,
    "start_time": "2022-03-15T19:15:19.552Z"
   },
   {
    "duration": 3,
    "start_time": "2022-03-15T19:15:19.646Z"
   },
   {
    "duration": 9,
    "start_time": "2022-03-15T19:15:19.650Z"
   },
   {
    "duration": 5,
    "start_time": "2022-03-15T19:15:43.131Z"
   },
   {
    "duration": 3,
    "start_time": "2022-03-15T20:54:22.104Z"
   },
   {
    "duration": 22,
    "start_time": "2022-03-15T20:54:22.109Z"
   },
   {
    "duration": 9,
    "start_time": "2022-03-15T20:54:22.133Z"
   },
   {
    "duration": 7,
    "start_time": "2022-03-15T20:54:22.144Z"
   },
   {
    "duration": 8,
    "start_time": "2022-03-15T20:54:22.153Z"
   },
   {
    "duration": 5,
    "start_time": "2022-03-15T20:54:22.163Z"
   },
   {
    "duration": 88,
    "start_time": "2022-03-15T20:54:22.170Z"
   },
   {
    "duration": 96,
    "start_time": "2022-03-15T20:54:22.265Z"
   },
   {
    "duration": 6,
    "start_time": "2022-03-15T20:54:22.363Z"
   },
   {
    "duration": 89,
    "start_time": "2022-03-15T20:54:22.371Z"
   },
   {
    "duration": 5,
    "start_time": "2022-03-15T20:55:15.859Z"
   },
   {
    "duration": 4,
    "start_time": "2022-03-15T20:56:37.105Z"
   },
   {
    "duration": 252,
    "start_time": "2022-03-15T20:58:13.050Z"
   },
   {
    "duration": 4,
    "start_time": "2022-03-15T20:58:31.363Z"
   },
   {
    "duration": 162,
    "start_time": "2022-03-15T20:58:32.349Z"
   },
   {
    "duration": 5,
    "start_time": "2022-03-15T21:01:53.367Z"
   },
   {
    "duration": 4,
    "start_time": "2022-03-15T21:02:00.532Z"
   },
   {
    "duration": 6,
    "start_time": "2022-03-15T21:02:08.948Z"
   },
   {
    "duration": 4,
    "start_time": "2022-03-15T21:02:15.194Z"
   },
   {
    "duration": 4,
    "start_time": "2022-03-15T21:02:21.277Z"
   },
   {
    "duration": 1036,
    "start_time": "2022-03-15T21:05:07.443Z"
   },
   {
    "duration": 11,
    "start_time": "2022-03-15T21:05:08.481Z"
   },
   {
    "duration": 14,
    "start_time": "2022-03-15T21:05:08.494Z"
   },
   {
    "duration": 6,
    "start_time": "2022-03-15T21:05:08.510Z"
   },
   {
    "duration": 6,
    "start_time": "2022-03-15T21:05:08.518Z"
   },
   {
    "duration": 7,
    "start_time": "2022-03-15T21:05:08.526Z"
   },
   {
    "duration": 17,
    "start_time": "2022-03-15T21:05:08.559Z"
   },
   {
    "duration": 82,
    "start_time": "2022-03-15T21:05:08.581Z"
   },
   {
    "duration": 5,
    "start_time": "2022-03-15T21:05:08.666Z"
   },
   {
    "duration": 14,
    "start_time": "2022-03-15T21:05:08.760Z"
   },
   {
    "duration": 99,
    "start_time": "2022-03-15T21:05:08.861Z"
   },
   {
    "duration": 4,
    "start_time": "2022-03-15T21:05:08.962Z"
   },
   {
    "duration": 1227,
    "start_time": "2022-03-15T21:05:08.968Z"
   },
   {
    "duration": 921,
    "start_time": "2022-03-15T21:05:09.277Z"
   },
   {
    "duration": 919,
    "start_time": "2022-03-15T21:05:09.280Z"
   },
   {
    "duration": 919,
    "start_time": "2022-03-15T21:05:09.281Z"
   },
   {
    "duration": 4,
    "start_time": "2022-03-15T21:05:12.825Z"
   },
   {
    "duration": 4,
    "start_time": "2022-03-15T21:05:13.672Z"
   },
   {
    "duration": 4,
    "start_time": "2022-03-15T21:05:14.450Z"
   },
   {
    "duration": 1203,
    "start_time": "2022-03-16T19:24:22.569Z"
   },
   {
    "duration": 3580,
    "start_time": "2022-03-16T19:24:23.774Z"
   },
   {
    "duration": 542,
    "start_time": "2022-03-16T19:24:27.357Z"
   },
   {
    "duration": 138,
    "start_time": "2022-03-16T19:24:27.902Z"
   },
   {
    "duration": 95,
    "start_time": "2022-03-16T19:24:28.043Z"
   },
   {
    "duration": 102,
    "start_time": "2022-03-16T19:24:28.140Z"
   },
   {
    "duration": 158,
    "start_time": "2022-03-16T19:24:28.244Z"
   },
   {
    "duration": 133,
    "start_time": "2022-03-16T19:24:28.406Z"
   },
   {
    "duration": 2078,
    "start_time": "2022-03-16T19:24:28.541Z"
   },
   {
    "duration": 619,
    "start_time": "2022-03-16T19:24:30.621Z"
   },
   {
    "duration": 382,
    "start_time": "2022-03-16T19:24:31.243Z"
   },
   {
    "duration": 913,
    "start_time": "2022-03-16T19:24:31.627Z"
   },
   {
    "duration": 2048,
    "start_time": "2022-03-16T19:24:32.542Z"
   },
   {
    "duration": -239,
    "start_time": "2022-03-16T19:24:34.831Z"
   },
   {
    "duration": -244,
    "start_time": "2022-03-16T19:24:34.837Z"
   },
   {
    "duration": -246,
    "start_time": "2022-03-16T19:24:34.840Z"
   },
   {
    "duration": -248,
    "start_time": "2022-03-16T19:24:34.843Z"
   },
   {
    "duration": -251,
    "start_time": "2022-03-16T19:24:34.847Z"
   },
   {
    "duration": -253,
    "start_time": "2022-03-16T19:24:34.850Z"
   },
   {
    "duration": -256,
    "start_time": "2022-03-16T19:24:34.855Z"
   },
   {
    "duration": -258,
    "start_time": "2022-03-16T19:24:34.858Z"
   },
   {
    "duration": -261,
    "start_time": "2022-03-16T19:24:34.862Z"
   },
   {
    "duration": -263,
    "start_time": "2022-03-16T19:24:34.865Z"
   },
   {
    "duration": 3,
    "start_time": "2022-03-16T19:25:15.070Z"
   },
   {
    "duration": 8126,
    "start_time": "2022-03-16T19:25:15.075Z"
   },
   {
    "duration": 9488,
    "start_time": "2022-03-16T19:25:23.205Z"
   },
   {
    "duration": 7928,
    "start_time": "2022-03-16T19:25:32.696Z"
   },
   {
    "duration": 7655,
    "start_time": "2022-03-16T19:25:40.627Z"
   },
   {
    "duration": 7380,
    "start_time": "2022-03-16T19:25:48.284Z"
   },
   {
    "duration": 7534,
    "start_time": "2022-03-16T19:25:55.666Z"
   },
   {
    "duration": 4277,
    "start_time": "2022-03-16T19:26:03.203Z"
   },
   {
    "duration": 2273,
    "start_time": "2022-03-16T19:26:07.482Z"
   },
   {
    "duration": 3029,
    "start_time": "2022-03-16T19:26:09.757Z"
   },
   {
    "duration": 6681,
    "start_time": "2022-03-16T19:26:12.788Z"
   },
   {
    "duration": -222,
    "start_time": "2022-03-16T19:26:19.693Z"
   },
   {
    "duration": -225,
    "start_time": "2022-03-16T19:26:19.697Z"
   },
   {
    "duration": -239,
    "start_time": "2022-03-16T19:26:19.712Z"
   },
   {
    "duration": -242,
    "start_time": "2022-03-16T19:26:19.716Z"
   },
   {
    "duration": -255,
    "start_time": "2022-03-16T19:26:19.730Z"
   },
   {
    "duration": -266,
    "start_time": "2022-03-16T19:26:19.742Z"
   },
   {
    "duration": -268,
    "start_time": "2022-03-16T19:26:19.746Z"
   },
   {
    "duration": -270,
    "start_time": "2022-03-16T19:26:19.749Z"
   },
   {
    "duration": -281,
    "start_time": "2022-03-16T19:26:19.761Z"
   },
   {
    "duration": -283,
    "start_time": "2022-03-16T19:26:19.764Z"
   },
   {
    "duration": -296,
    "start_time": "2022-03-16T19:26:19.778Z"
   },
   {
    "duration": -299,
    "start_time": "2022-03-16T19:26:19.782Z"
   },
   {
    "duration": 4,
    "start_time": "2022-03-16T19:27:13.012Z"
   },
   {
    "duration": 8076,
    "start_time": "2022-03-16T19:27:13.018Z"
   },
   {
    "duration": 4540,
    "start_time": "2022-03-16T19:27:21.096Z"
   },
   {
    "duration": 7349,
    "start_time": "2022-03-16T19:27:25.638Z"
   },
   {
    "duration": 8225,
    "start_time": "2022-03-16T19:27:32.989Z"
   },
   {
    "duration": 10336,
    "start_time": "2022-03-16T19:27:41.216Z"
   },
   {
    "duration": 7148,
    "start_time": "2022-03-16T19:27:51.554Z"
   },
   {
    "duration": 8453,
    "start_time": "2022-03-16T19:27:58.707Z"
   },
   {
    "duration": 6072,
    "start_time": "2022-03-16T19:28:07.164Z"
   },
   {
    "duration": 4038,
    "start_time": "2022-03-16T19:28:13.238Z"
   },
   {
    "duration": 3642,
    "start_time": "2022-03-16T19:28:17.279Z"
   },
   {
    "duration": 2730,
    "start_time": "2022-03-16T19:28:20.922Z"
   },
   {
    "duration": 3469,
    "start_time": "2022-03-16T19:28:23.654Z"
   },
   {
    "duration": 3655,
    "start_time": "2022-03-16T19:28:27.125Z"
   },
   {
    "duration": 4048,
    "start_time": "2022-03-16T19:28:30.782Z"
   },
   {
    "duration": 1238,
    "start_time": "2022-03-16T19:28:34.832Z"
   },
   {
    "duration": 2825,
    "start_time": "2022-03-16T19:28:36.072Z"
   },
   {
    "duration": 4311,
    "start_time": "2022-03-16T19:28:38.899Z"
   },
   {
    "duration": 5095,
    "start_time": "2022-03-16T19:28:43.212Z"
   },
   {
    "duration": 3613,
    "start_time": "2022-03-16T19:28:48.309Z"
   },
   {
    "duration": 2867,
    "start_time": "2022-03-16T19:28:51.925Z"
   },
   {
    "duration": 2725,
    "start_time": "2022-03-16T19:28:54.794Z"
   },
   {
    "duration": 3539,
    "start_time": "2022-03-16T19:28:57.522Z"
   },
   {
    "duration": 1321,
    "start_time": "2022-03-17T05:10:24.026Z"
   },
   {
    "duration": 31,
    "start_time": "2022-03-17T05:10:25.350Z"
   },
   {
    "duration": 23,
    "start_time": "2022-03-17T05:10:25.384Z"
   },
   {
    "duration": 9,
    "start_time": "2022-03-17T05:10:25.410Z"
   },
   {
    "duration": 9,
    "start_time": "2022-03-17T05:10:25.421Z"
   },
   {
    "duration": 9,
    "start_time": "2022-03-17T05:10:25.444Z"
   },
   {
    "duration": 92,
    "start_time": "2022-03-17T05:10:25.455Z"
   },
   {
    "duration": 94,
    "start_time": "2022-03-17T05:10:25.553Z"
   },
   {
    "duration": 9,
    "start_time": "2022-03-17T05:10:25.651Z"
   },
   {
    "duration": 12,
    "start_time": "2022-03-17T05:10:25.745Z"
   },
   {
    "duration": 4,
    "start_time": "2022-03-17T05:10:25.846Z"
   },
   {
    "duration": 99,
    "start_time": "2022-03-17T05:10:25.853Z"
   },
   {
    "duration": 6,
    "start_time": "2022-03-17T05:10:25.954Z"
   },
   {
    "duration": 6,
    "start_time": "2022-03-17T05:10:25.962Z"
   },
   {
    "duration": 8,
    "start_time": "2022-03-17T05:10:25.970Z"
   },
   {
    "duration": 5,
    "start_time": "2022-03-17T05:10:25.980Z"
   },
   {
    "duration": 10,
    "start_time": "2022-03-17T05:10:25.987Z"
   },
   {
    "duration": 46,
    "start_time": "2022-03-17T05:10:25.999Z"
   },
   {
    "duration": 7,
    "start_time": "2022-03-17T05:10:26.047Z"
   },
   {
    "duration": 91,
    "start_time": "2022-03-17T05:10:26.057Z"
   },
   {
    "duration": 11,
    "start_time": "2022-03-17T05:10:26.150Z"
   },
   {
    "duration": 4,
    "start_time": "2022-03-17T05:10:26.163Z"
   },
   {
    "duration": 10,
    "start_time": "2022-03-17T05:10:26.171Z"
   }
  ],
  "kernelspec": {
   "display_name": "Python 3 (ipykernel)",
   "language": "python",
   "name": "python3"
  },
  "language_info": {
   "codemirror_mode": {
    "name": "ipython",
    "version": 3
   },
   "file_extension": ".py",
   "mimetype": "text/x-python",
   "name": "python",
   "nbconvert_exporter": "python",
   "pygments_lexer": "ipython3",
   "version": "3.9.7"
  },
  "toc": {
   "base_numbering": 1,
   "nav_menu": {},
   "number_sections": true,
   "sideBar": true,
   "skip_h1_title": true,
   "title_cell": "Содержание",
   "title_sidebar": "Contents",
   "toc_cell": true,
   "toc_position": {
    "height": "calc(100% - 180px)",
    "left": "10px",
    "top": "150px",
    "width": "165px"
   },
   "toc_section_display": true,
   "toc_window_display": true
  }
 },
 "nbformat": 4,
 "nbformat_minor": 2
}
