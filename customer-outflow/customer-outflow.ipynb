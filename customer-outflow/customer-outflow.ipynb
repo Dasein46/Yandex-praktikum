{
 "cells": [
  {
   "cell_type": "markdown",
   "metadata": {},
   "source": [
    "# Отток клиентов"
   ]
  },
  {
   "cell_type": "markdown",
   "metadata": {},
   "source": [
    "\"Бета-Банк\" столкнулся с проблемой оттока клиентов. По мнению банковских маркетологов, сохранять текущих клиентов дешевле, чем привлекать новых. \n",
    "\n",
    "Нам поставлена задача спрогнозировать, уйдёт клиент из банка в ближайшее время или нет. Для проведения анализа были предоставлены исторические данные о поведении клиентов и расторжении договоров с банком.\n",
    "\n",
    "**Цель** - построить модель с предельно большим значением F1-меры (не менее 0.59).\n",
    "\n",
    "Для решения поставленной задачи необходимо выделить следующие этапы:\n",
    "\n",
    "1. Подготовка данных.\n",
    "2. Исследование баланса классов.\n",
    "3. Изучение модели без учета дисбаланса.\n",
    "4. Создание балансированной модели.\n",
    "5. Проведение тестирования.\n",
    "6. Исследование метрики AUC-ROC."
   ]
  },
  {
   "cell_type": "markdown",
   "metadata": {
    "toc": true
   },
   "source": [
    "<h1>Содержание<span class=\"tocSkip\"></span></h1>\n",
    "<div<span><a href=\"#Подготовка-данных\" data-toc-modified-id=\"Подготовка-данных-1\"><span class=\"toc-item-num\">1&nbsp;&nbsp;</span>Подготовка данных</a></span></li><li><span><a href=\"#Исследование-задачи\" data-toc-modified-id=\"Исследование-задачи-2\"><span class=\"toc-item-num\">2&nbsp;&nbsp;</span>Исследование задачи</a></span></li><li><span><a href=\"#Борьба-с-дисбалансом\" data-toc-modified-id=\"Борьба-с-дисбалансом-3\"><span class=\"toc-item-num\">3&nbsp;&nbsp;</span>Борьба с дисбалансом</a></span></li><li><span><a href=\"#Тестирование-модели\" data-toc-modified-id=\"Тестирование-модели-4\"><span class=\"toc-item-num\">4&nbsp;&nbsp;</span>Тестирование модели</a></span></li><li><span><a href=\"#Чек-лист-готовности-проекта\" data-toc-modified-id=\"Чек-лист-готовности-проекта-5\"><span class=\"toc-item-num\">5&nbsp;&nbsp;</span>Чек-лист готовности проекта</a></span></li></ul></div>"
   ]
  },
  {
   "cell_type": "markdown",
   "metadata": {},
   "source": [
    "## Подготовка данных"
   ]
  },
  {
   "cell_type": "code",
   "execution_count": 320,
   "metadata": {},
   "outputs": [],
   "source": [
    "# загрузим все необходимые библиотеки\n",
    "import pandas as pd\n",
    "import numpy as np\n",
    "import matplotlib.pyplot as plt\n",
    "from sklearn.linear_model import LogisticRegression\n",
    "from sklearn.ensemble import RandomForestClassifier\n",
    "from sklearn.tree import DecisionTreeClassifier\n",
    "from sklearn.model_selection import train_test_split\n",
    "from sklearn.metrics import precision_score\n",
    "from sklearn.metrics import recall_score\n",
    "from sklearn.metrics import f1_score\n",
    "from sklearn.metrics import auc\n",
    "from sklearn.metrics import roc_curve\n",
    "from sklearn.metrics import roc_auc_score\n",
    "from sklearn.utils import shuffle\n",
    "from sklearn.preprocessing import StandardScaler\n",
    "pd.options.mode.chained_assignment = None"
   ]
  },
  {
   "cell_type": "code",
   "execution_count": 321,
   "metadata": {},
   "outputs": [],
   "source": [
    "# загрузим таблицу с данными \n",
    "df = pd.read_csv('/datasets/Churn.csv')"
   ]
  },
  {
   "cell_type": "code",
   "execution_count": 322,
   "metadata": {},
   "outputs": [
    {
     "data": {
      "text/html": [
       "<div>\n",
       "<style scoped>\n",
       "    .dataframe tbody tr th:only-of-type {\n",
       "        vertical-align: middle;\n",
       "    }\n",
       "\n",
       "    .dataframe tbody tr th {\n",
       "        vertical-align: top;\n",
       "    }\n",
       "\n",
       "    .dataframe thead th {\n",
       "        text-align: right;\n",
       "    }\n",
       "</style>\n",
       "<table border=\"1\" class=\"dataframe\">\n",
       "  <thead>\n",
       "    <tr style=\"text-align: right;\">\n",
       "      <th></th>\n",
       "      <th>RowNumber</th>\n",
       "      <th>CustomerId</th>\n",
       "      <th>Surname</th>\n",
       "      <th>CreditScore</th>\n",
       "      <th>Geography</th>\n",
       "      <th>Gender</th>\n",
       "      <th>Age</th>\n",
       "      <th>Tenure</th>\n",
       "      <th>Balance</th>\n",
       "      <th>NumOfProducts</th>\n",
       "      <th>HasCrCard</th>\n",
       "      <th>IsActiveMember</th>\n",
       "      <th>EstimatedSalary</th>\n",
       "      <th>Exited</th>\n",
       "    </tr>\n",
       "  </thead>\n",
       "  <tbody>\n",
       "    <tr>\n",
       "      <td>0</td>\n",
       "      <td>1</td>\n",
       "      <td>15634602</td>\n",
       "      <td>Hargrave</td>\n",
       "      <td>619</td>\n",
       "      <td>France</td>\n",
       "      <td>Female</td>\n",
       "      <td>42</td>\n",
       "      <td>2.0</td>\n",
       "      <td>0.00</td>\n",
       "      <td>1</td>\n",
       "      <td>1</td>\n",
       "      <td>1</td>\n",
       "      <td>101348.88</td>\n",
       "      <td>1</td>\n",
       "    </tr>\n",
       "    <tr>\n",
       "      <td>1</td>\n",
       "      <td>2</td>\n",
       "      <td>15647311</td>\n",
       "      <td>Hill</td>\n",
       "      <td>608</td>\n",
       "      <td>Spain</td>\n",
       "      <td>Female</td>\n",
       "      <td>41</td>\n",
       "      <td>1.0</td>\n",
       "      <td>83807.86</td>\n",
       "      <td>1</td>\n",
       "      <td>0</td>\n",
       "      <td>1</td>\n",
       "      <td>112542.58</td>\n",
       "      <td>0</td>\n",
       "    </tr>\n",
       "    <tr>\n",
       "      <td>2</td>\n",
       "      <td>3</td>\n",
       "      <td>15619304</td>\n",
       "      <td>Onio</td>\n",
       "      <td>502</td>\n",
       "      <td>France</td>\n",
       "      <td>Female</td>\n",
       "      <td>42</td>\n",
       "      <td>8.0</td>\n",
       "      <td>159660.80</td>\n",
       "      <td>3</td>\n",
       "      <td>1</td>\n",
       "      <td>0</td>\n",
       "      <td>113931.57</td>\n",
       "      <td>1</td>\n",
       "    </tr>\n",
       "    <tr>\n",
       "      <td>3</td>\n",
       "      <td>4</td>\n",
       "      <td>15701354</td>\n",
       "      <td>Boni</td>\n",
       "      <td>699</td>\n",
       "      <td>France</td>\n",
       "      <td>Female</td>\n",
       "      <td>39</td>\n",
       "      <td>1.0</td>\n",
       "      <td>0.00</td>\n",
       "      <td>2</td>\n",
       "      <td>0</td>\n",
       "      <td>0</td>\n",
       "      <td>93826.63</td>\n",
       "      <td>0</td>\n",
       "    </tr>\n",
       "    <tr>\n",
       "      <td>4</td>\n",
       "      <td>5</td>\n",
       "      <td>15737888</td>\n",
       "      <td>Mitchell</td>\n",
       "      <td>850</td>\n",
       "      <td>Spain</td>\n",
       "      <td>Female</td>\n",
       "      <td>43</td>\n",
       "      <td>2.0</td>\n",
       "      <td>125510.82</td>\n",
       "      <td>1</td>\n",
       "      <td>1</td>\n",
       "      <td>1</td>\n",
       "      <td>79084.10</td>\n",
       "      <td>0</td>\n",
       "    </tr>\n",
       "  </tbody>\n",
       "</table>\n",
       "</div>"
      ],
      "text/plain": [
       "   RowNumber  CustomerId   Surname  CreditScore Geography  Gender  Age  \\\n",
       "0          1    15634602  Hargrave          619    France  Female   42   \n",
       "1          2    15647311      Hill          608     Spain  Female   41   \n",
       "2          3    15619304      Onio          502    France  Female   42   \n",
       "3          4    15701354      Boni          699    France  Female   39   \n",
       "4          5    15737888  Mitchell          850     Spain  Female   43   \n",
       "\n",
       "   Tenure    Balance  NumOfProducts  HasCrCard  IsActiveMember  \\\n",
       "0     2.0       0.00              1          1               1   \n",
       "1     1.0   83807.86              1          0               1   \n",
       "2     8.0  159660.80              3          1               0   \n",
       "3     1.0       0.00              2          0               0   \n",
       "4     2.0  125510.82              1          1               1   \n",
       "\n",
       "   EstimatedSalary  Exited  \n",
       "0        101348.88       1  \n",
       "1        112542.58       0  \n",
       "2        113931.57       1  \n",
       "3         93826.63       0  \n",
       "4         79084.10       0  "
      ]
     },
     "execution_count": 322,
     "metadata": {},
     "output_type": "execute_result"
    }
   ],
   "source": [
    "# посмотрим на 1-ые пять строчек таблицы\n",
    "df.head()"
   ]
  },
  {
   "cell_type": "code",
   "execution_count": 323,
   "metadata": {},
   "outputs": [],
   "source": [
    "# удалим ненужные столбцы RowNumber, Customerld и Surname, которые не понадобятся в дальнейшем анализе\n",
    "df = df.drop(columns=['RowNumber', 'CustomerId', 'Surname'])"
   ]
  },
  {
   "cell_type": "code",
   "execution_count": 324,
   "metadata": {},
   "outputs": [
    {
     "name": "stdout",
     "output_type": "stream",
     "text": [
      "<class 'pandas.core.frame.DataFrame'>\n",
      "RangeIndex: 10000 entries, 0 to 9999\n",
      "Data columns (total 11 columns):\n",
      "CreditScore        10000 non-null int64\n",
      "Geography          10000 non-null object\n",
      "Gender             10000 non-null object\n",
      "Age                10000 non-null int64\n",
      "Tenure             9091 non-null float64\n",
      "Balance            10000 non-null float64\n",
      "NumOfProducts      10000 non-null int64\n",
      "HasCrCard          10000 non-null int64\n",
      "IsActiveMember     10000 non-null int64\n",
      "EstimatedSalary    10000 non-null float64\n",
      "Exited             10000 non-null int64\n",
      "dtypes: float64(3), int64(6), object(2)\n",
      "memory usage: 859.5+ KB\n"
     ]
    }
   ],
   "source": [
    "# посмотрим на общую информацию о таблице\n",
    "df.info()"
   ]
  },
  {
   "cell_type": "markdown",
   "metadata": {},
   "source": [
    "Мы видим, что в столбце Tenure содержатся пропуски. Заменим их на медианное значение. Также следует поменять формат данных на int."
   ]
  },
  {
   "cell_type": "code",
   "execution_count": 325,
   "metadata": {},
   "outputs": [],
   "source": [
    "# замена пропусков на медианное значение\n",
    "df['Tenure'] = df['Tenure'].fillna(df['Tenure'].median()).astype('int16')"
   ]
  },
  {
   "cell_type": "code",
   "execution_count": 326,
   "metadata": {},
   "outputs": [
    {
     "data": {
      "text/plain": [
       "0"
      ]
     },
     "execution_count": 326,
     "metadata": {},
     "output_type": "execute_result"
    }
   ],
   "source": [
    "# проверим данные на наличие дубликатов\n",
    "df.duplicated().sum()"
   ]
  },
  {
   "cell_type": "markdown",
   "metadata": {},
   "source": [
    "Дубликатов не обнаружено."
   ]
  },
  {
   "cell_type": "code",
   "execution_count": 327,
   "metadata": {},
   "outputs": [
    {
     "data": {
      "text/html": [
       "<div>\n",
       "<style scoped>\n",
       "    .dataframe tbody tr th:only-of-type {\n",
       "        vertical-align: middle;\n",
       "    }\n",
       "\n",
       "    .dataframe tbody tr th {\n",
       "        vertical-align: top;\n",
       "    }\n",
       "\n",
       "    .dataframe thead th {\n",
       "        text-align: right;\n",
       "    }\n",
       "</style>\n",
       "<table border=\"1\" class=\"dataframe\">\n",
       "  <thead>\n",
       "    <tr style=\"text-align: right;\">\n",
       "      <th></th>\n",
       "      <th>CreditScore</th>\n",
       "      <th>Age</th>\n",
       "      <th>Tenure</th>\n",
       "      <th>Balance</th>\n",
       "      <th>NumOfProducts</th>\n",
       "      <th>HasCrCard</th>\n",
       "      <th>IsActiveMember</th>\n",
       "      <th>EstimatedSalary</th>\n",
       "      <th>Exited</th>\n",
       "      <th>Geography_Germany</th>\n",
       "      <th>Geography_Spain</th>\n",
       "      <th>Gender_Male</th>\n",
       "    </tr>\n",
       "  </thead>\n",
       "  <tbody>\n",
       "    <tr>\n",
       "      <td>0</td>\n",
       "      <td>619</td>\n",
       "      <td>42</td>\n",
       "      <td>2</td>\n",
       "      <td>0.00</td>\n",
       "      <td>1</td>\n",
       "      <td>1</td>\n",
       "      <td>1</td>\n",
       "      <td>101348.88</td>\n",
       "      <td>1</td>\n",
       "      <td>0</td>\n",
       "      <td>0</td>\n",
       "      <td>0</td>\n",
       "    </tr>\n",
       "    <tr>\n",
       "      <td>1</td>\n",
       "      <td>608</td>\n",
       "      <td>41</td>\n",
       "      <td>1</td>\n",
       "      <td>83807.86</td>\n",
       "      <td>1</td>\n",
       "      <td>0</td>\n",
       "      <td>1</td>\n",
       "      <td>112542.58</td>\n",
       "      <td>0</td>\n",
       "      <td>0</td>\n",
       "      <td>1</td>\n",
       "      <td>0</td>\n",
       "    </tr>\n",
       "    <tr>\n",
       "      <td>2</td>\n",
       "      <td>502</td>\n",
       "      <td>42</td>\n",
       "      <td>8</td>\n",
       "      <td>159660.80</td>\n",
       "      <td>3</td>\n",
       "      <td>1</td>\n",
       "      <td>0</td>\n",
       "      <td>113931.57</td>\n",
       "      <td>1</td>\n",
       "      <td>0</td>\n",
       "      <td>0</td>\n",
       "      <td>0</td>\n",
       "    </tr>\n",
       "    <tr>\n",
       "      <td>3</td>\n",
       "      <td>699</td>\n",
       "      <td>39</td>\n",
       "      <td>1</td>\n",
       "      <td>0.00</td>\n",
       "      <td>2</td>\n",
       "      <td>0</td>\n",
       "      <td>0</td>\n",
       "      <td>93826.63</td>\n",
       "      <td>0</td>\n",
       "      <td>0</td>\n",
       "      <td>0</td>\n",
       "      <td>0</td>\n",
       "    </tr>\n",
       "    <tr>\n",
       "      <td>4</td>\n",
       "      <td>850</td>\n",
       "      <td>43</td>\n",
       "      <td>2</td>\n",
       "      <td>125510.82</td>\n",
       "      <td>1</td>\n",
       "      <td>1</td>\n",
       "      <td>1</td>\n",
       "      <td>79084.10</td>\n",
       "      <td>0</td>\n",
       "      <td>0</td>\n",
       "      <td>1</td>\n",
       "      <td>0</td>\n",
       "    </tr>\n",
       "  </tbody>\n",
       "</table>\n",
       "</div>"
      ],
      "text/plain": [
       "   CreditScore  Age  Tenure    Balance  NumOfProducts  HasCrCard  \\\n",
       "0          619   42       2       0.00              1          1   \n",
       "1          608   41       1   83807.86              1          0   \n",
       "2          502   42       8  159660.80              3          1   \n",
       "3          699   39       1       0.00              2          0   \n",
       "4          850   43       2  125510.82              1          1   \n",
       "\n",
       "   IsActiveMember  EstimatedSalary  Exited  Geography_Germany  \\\n",
       "0               1        101348.88       1                  0   \n",
       "1               1        112542.58       0                  0   \n",
       "2               0        113931.57       1                  0   \n",
       "3               0         93826.63       0                  0   \n",
       "4               1         79084.10       0                  0   \n",
       "\n",
       "   Geography_Spain  Gender_Male  \n",
       "0                0            0  \n",
       "1                1            0  \n",
       "2                0            0  \n",
       "3                0            0  \n",
       "4                1            0  "
      ]
     },
     "execution_count": 327,
     "metadata": {},
     "output_type": "execute_result"
    }
   ],
   "source": [
    "# преобразуем категориальные признаки техникой OHE\n",
    "df_ohe = pd.get_dummies(df, drop_first=True)\n",
    "df_ohe.head()"
   ]
  },
  {
   "cell_type": "markdown",
   "metadata": {},
   "source": [
    "**Вывод**\n",
    "\n",
    "Таблица с анализируемыми данными содержит 14 признаков и 10000 объектов. Согласно приложенной документации:\n",
    "\n",
    "- RowNumber — индекс строки в данных;\n",
    "- CustomerId — уникальный идентификатор клиента;\n",
    "- Surname — фамилия;\n",
    "- CreditScore — кредитный рейтинг;\n",
    "- Geography — страна проживания;\n",
    "- Gender — пол;\n",
    "- Age — возраст;\n",
    "- Tenure — сколько лет человек является клиентом банка;\n",
    "- Balance — баланс на счёте;\n",
    "- NumOfProducts — количество продуктов банка, используемых клиентом;\n",
    "- HasCrCard — наличие кредитной карты;\n",
    "- IsActiveMember — активность клиента;\n",
    "- EstimatedSalary — предполагаемая зарплата;\n",
    "- Exited — факт ухода клиента.\n",
    "\n",
    "В процессе предобработки данных пропуски в столбце Tenure были заменены на медианное значение. Также были удалены столбцы RowNumber, CustomerId и Surname, так они не понадобятся нам для дальнейшего анализа. В качестве целевого признака будет выступать Exited."
   ]
  },
  {
   "cell_type": "markdown",
   "metadata": {},
   "source": [
    "## Исследование задачи"
   ]
  },
  {
   "cell_type": "code",
   "execution_count": 328,
   "metadata": {},
   "outputs": [],
   "source": [
    "# выделим в нашей выборке признаки и целевой признак\n",
    "features = df_ohe.drop(['Exited'], axis=1)\n",
    "target = df_ohe['Exited']"
   ]
  },
  {
   "cell_type": "code",
   "execution_count": 329,
   "metadata": {},
   "outputs": [],
   "source": [
    "# разделим выборку на обучающую и валидационную\n",
    "features_train, features_valid, target_train, target_valid = train_test_split(features, target, test_size=0.4,\n",
    "                                                                             random_state=12345)"
   ]
  },
  {
   "cell_type": "code",
   "execution_count": 330,
   "metadata": {},
   "outputs": [],
   "source": [
    "# выделим 50% валидационной выборки на тестовую\n",
    "features_valid, features_test, target_valid, target_test = train_test_split(features_valid, target_valid, test_size=0.5,\n",
    "                                                                              random_state=12345)"
   ]
  },
  {
   "cell_type": "code",
   "execution_count": 331,
   "metadata": {},
   "outputs": [
    {
     "data": {
      "text/html": [
       "<div>\n",
       "<style scoped>\n",
       "    .dataframe tbody tr th:only-of-type {\n",
       "        vertical-align: middle;\n",
       "    }\n",
       "\n",
       "    .dataframe tbody tr th {\n",
       "        vertical-align: top;\n",
       "    }\n",
       "\n",
       "    .dataframe thead th {\n",
       "        text-align: right;\n",
       "    }\n",
       "</style>\n",
       "<table border=\"1\" class=\"dataframe\">\n",
       "  <thead>\n",
       "    <tr style=\"text-align: right;\">\n",
       "      <th></th>\n",
       "      <th>CreditScore</th>\n",
       "      <th>Age</th>\n",
       "      <th>Tenure</th>\n",
       "      <th>Balance</th>\n",
       "      <th>NumOfProducts</th>\n",
       "      <th>HasCrCard</th>\n",
       "      <th>IsActiveMember</th>\n",
       "      <th>EstimatedSalary</th>\n",
       "      <th>Geography_Germany</th>\n",
       "      <th>Geography_Spain</th>\n",
       "      <th>Gender_Male</th>\n",
       "    </tr>\n",
       "  </thead>\n",
       "  <tbody>\n",
       "    <tr>\n",
       "      <td>7041</td>\n",
       "      <td>438</td>\n",
       "      <td>38</td>\n",
       "      <td>2</td>\n",
       "      <td>0.00</td>\n",
       "      <td>2</td>\n",
       "      <td>1</td>\n",
       "      <td>0</td>\n",
       "      <td>136859.55</td>\n",
       "      <td>0</td>\n",
       "      <td>0</td>\n",
       "      <td>1</td>\n",
       "    </tr>\n",
       "    <tr>\n",
       "      <td>5709</td>\n",
       "      <td>644</td>\n",
       "      <td>39</td>\n",
       "      <td>9</td>\n",
       "      <td>0.00</td>\n",
       "      <td>1</td>\n",
       "      <td>1</td>\n",
       "      <td>0</td>\n",
       "      <td>3740.93</td>\n",
       "      <td>0</td>\n",
       "      <td>0</td>\n",
       "      <td>0</td>\n",
       "    </tr>\n",
       "    <tr>\n",
       "      <td>7117</td>\n",
       "      <td>564</td>\n",
       "      <td>31</td>\n",
       "      <td>5</td>\n",
       "      <td>121461.87</td>\n",
       "      <td>1</td>\n",
       "      <td>1</td>\n",
       "      <td>1</td>\n",
       "      <td>20432.09</td>\n",
       "      <td>0</td>\n",
       "      <td>1</td>\n",
       "      <td>1</td>\n",
       "    </tr>\n",
       "    <tr>\n",
       "      <td>7775</td>\n",
       "      <td>628</td>\n",
       "      <td>40</td>\n",
       "      <td>10</td>\n",
       "      <td>0.00</td>\n",
       "      <td>2</td>\n",
       "      <td>1</td>\n",
       "      <td>0</td>\n",
       "      <td>103832.58</td>\n",
       "      <td>0</td>\n",
       "      <td>1</td>\n",
       "      <td>1</td>\n",
       "    </tr>\n",
       "    <tr>\n",
       "      <td>8735</td>\n",
       "      <td>728</td>\n",
       "      <td>30</td>\n",
       "      <td>10</td>\n",
       "      <td>114835.43</td>\n",
       "      <td>1</td>\n",
       "      <td>0</td>\n",
       "      <td>1</td>\n",
       "      <td>37662.49</td>\n",
       "      <td>0</td>\n",
       "      <td>0</td>\n",
       "      <td>1</td>\n",
       "    </tr>\n",
       "    <tr>\n",
       "      <td>...</td>\n",
       "      <td>...</td>\n",
       "      <td>...</td>\n",
       "      <td>...</td>\n",
       "      <td>...</td>\n",
       "      <td>...</td>\n",
       "      <td>...</td>\n",
       "      <td>...</td>\n",
       "      <td>...</td>\n",
       "      <td>...</td>\n",
       "      <td>...</td>\n",
       "      <td>...</td>\n",
       "    </tr>\n",
       "    <tr>\n",
       "      <td>9335</td>\n",
       "      <td>737</td>\n",
       "      <td>50</td>\n",
       "      <td>4</td>\n",
       "      <td>127552.85</td>\n",
       "      <td>2</td>\n",
       "      <td>1</td>\n",
       "      <td>0</td>\n",
       "      <td>4225.11</td>\n",
       "      <td>1</td>\n",
       "      <td>0</td>\n",
       "      <td>1</td>\n",
       "    </tr>\n",
       "    <tr>\n",
       "      <td>7999</td>\n",
       "      <td>826</td>\n",
       "      <td>26</td>\n",
       "      <td>5</td>\n",
       "      <td>142662.68</td>\n",
       "      <td>1</td>\n",
       "      <td>0</td>\n",
       "      <td>0</td>\n",
       "      <td>60285.30</td>\n",
       "      <td>0</td>\n",
       "      <td>0</td>\n",
       "      <td>1</td>\n",
       "    </tr>\n",
       "    <tr>\n",
       "      <td>6139</td>\n",
       "      <td>652</td>\n",
       "      <td>37</td>\n",
       "      <td>4</td>\n",
       "      <td>0.00</td>\n",
       "      <td>2</td>\n",
       "      <td>1</td>\n",
       "      <td>0</td>\n",
       "      <td>143393.24</td>\n",
       "      <td>0</td>\n",
       "      <td>0</td>\n",
       "      <td>0</td>\n",
       "    </tr>\n",
       "    <tr>\n",
       "      <td>9473</td>\n",
       "      <td>608</td>\n",
       "      <td>45</td>\n",
       "      <td>4</td>\n",
       "      <td>0.00</td>\n",
       "      <td>2</td>\n",
       "      <td>0</td>\n",
       "      <td>0</td>\n",
       "      <td>36697.48</td>\n",
       "      <td>0</td>\n",
       "      <td>1</td>\n",
       "      <td>1</td>\n",
       "    </tr>\n",
       "    <tr>\n",
       "      <td>3366</td>\n",
       "      <td>640</td>\n",
       "      <td>74</td>\n",
       "      <td>2</td>\n",
       "      <td>116800.25</td>\n",
       "      <td>1</td>\n",
       "      <td>1</td>\n",
       "      <td>1</td>\n",
       "      <td>34130.43</td>\n",
       "      <td>1</td>\n",
       "      <td>0</td>\n",
       "      <td>0</td>\n",
       "    </tr>\n",
       "  </tbody>\n",
       "</table>\n",
       "<p>2000 rows × 11 columns</p>\n",
       "</div>"
      ],
      "text/plain": [
       "      CreditScore  Age  Tenure    Balance  NumOfProducts  HasCrCard  \\\n",
       "7041          438   38       2       0.00              2          1   \n",
       "5709          644   39       9       0.00              1          1   \n",
       "7117          564   31       5  121461.87              1          1   \n",
       "7775          628   40      10       0.00              2          1   \n",
       "8735          728   30      10  114835.43              1          0   \n",
       "...           ...  ...     ...        ...            ...        ...   \n",
       "9335          737   50       4  127552.85              2          1   \n",
       "7999          826   26       5  142662.68              1          0   \n",
       "6139          652   37       4       0.00              2          1   \n",
       "9473          608   45       4       0.00              2          0   \n",
       "3366          640   74       2  116800.25              1          1   \n",
       "\n",
       "      IsActiveMember  EstimatedSalary  Geography_Germany  Geography_Spain  \\\n",
       "7041               0        136859.55                  0                0   \n",
       "5709               0          3740.93                  0                0   \n",
       "7117               1         20432.09                  0                1   \n",
       "7775               0        103832.58                  0                1   \n",
       "8735               1         37662.49                  0                0   \n",
       "...              ...              ...                ...              ...   \n",
       "9335               0          4225.11                  1                0   \n",
       "7999               0         60285.30                  0                0   \n",
       "6139               0        143393.24                  0                0   \n",
       "9473               0         36697.48                  0                1   \n",
       "3366               1         34130.43                  1                0   \n",
       "\n",
       "      Gender_Male  \n",
       "7041            1  \n",
       "5709            0  \n",
       "7117            1  \n",
       "7775            1  \n",
       "8735            1  \n",
       "...           ...  \n",
       "9335            1  \n",
       "7999            1  \n",
       "6139            0  \n",
       "9473            1  \n",
       "3366            0  \n",
       "\n",
       "[2000 rows x 11 columns]"
      ]
     },
     "execution_count": 331,
     "metadata": {},
     "output_type": "execute_result"
    }
   ],
   "source": [
    "features_test"
   ]
  },
  {
   "cell_type": "code",
   "execution_count": 332,
   "metadata": {},
   "outputs": [
    {
     "data": {
      "text/plain": [
       "0    0.7963\n",
       "1    0.2037\n",
       "Name: Exited, dtype: float64"
      ]
     },
     "execution_count": 332,
     "metadata": {},
     "output_type": "execute_result"
    }
   ],
   "source": [
    "# проверим целевой признак на сбалансированность классов\n",
    "class_frequency = df['Exited'].value_counts(normalize=True)\n",
    "class_frequency"
   ]
  },
  {
   "cell_type": "code",
   "execution_count": 333,
   "metadata": {},
   "outputs": [
    {
     "data": {
      "image/png": "[encoded data removed]",
      "text/plain": [
       "<Figure size 720x432 with 1 Axes>"
      ]
     },
     "metadata": {
      "needs_background": "light"
     },
     "output_type": "display_data"
    }
   ],
   "source": [
    "# построим диаграмму частот классов в целевом признаке\n",
    "class_frequency.plot(kind='bar', title='Распределение классов целевого признака', grid=True, figsize=(10, 6))\n",
    "plt.xlabel('Классы Tuner')\n",
    "plt.ylabel('Частота признака')\n",
    "plt.show()"
   ]
  },
  {
   "cell_type": "markdown",
   "metadata": {},
   "source": [
    "Видим, что соотношение классов далеко от идеального 1 к 1. В указанной выборке представены данные о клиентах, которые покинули банк, в количестве 20%. При этом осталось 80% клиентов.\n",
    "\n",
    "Изучим модели без учета дисбаланса. Но перед этим проведем стандартизацию численных признаков."
   ]
  },
  {
   "cell_type": "code",
   "execution_count": 334,
   "metadata": {},
   "outputs": [],
   "source": [
    "# соберем всем численные признаки в одном списке\n",
    "numeric = list(df_ohe.drop(['Exited'], axis=1).columns)"
   ]
  },
  {
   "cell_type": "code",
   "execution_count": 335,
   "metadata": {},
   "outputs": [],
   "source": [
    "# стандартизируем численные признаки\n",
    "scaler = StandardScaler()\n",
    "scaler.fit(features_train[numeric])\n",
    "features_train[numeric] = scaler.transform(features_train[numeric])\n",
    "features_valid[numeric] = scaler.transform(features_valid[numeric])"
   ]
  },
  {
   "cell_type": "markdown",
   "metadata": {},
   "source": [
    "Построим модели без учета дисбаланса."
   ]
  },
  {
   "cell_type": "markdown",
   "metadata": {},
   "source": [
    "**Модель логистической регрессии**"
   ]
  },
  {
   "cell_type": "code",
   "execution_count": 336,
   "metadata": {},
   "outputs": [
    {
     "name": "stdout",
     "output_type": "stream",
     "text": [
      "F1-мера: 0.33108108108108103\n"
     ]
    }
   ],
   "source": [
    "# построим модель логистической регрессии и оценим ее метрикой F1\n",
    "model=LogisticRegression(random_state=12345, solver='liblinear')\n",
    "model.fit(features_train, target_train)\n",
    "predictions_regression = model.predict(features_valid)\n",
    "print('F1-мера:', f1_score(target_valid, predictions_regression))"
   ]
  },
  {
   "cell_type": "markdown",
   "metadata": {},
   "source": [
    "**Модель решающего дерева**"
   ]
  },
  {
   "cell_type": "code",
   "execution_count": 337,
   "metadata": {},
   "outputs": [
    {
     "name": "stdout",
     "output_type": "stream",
     "text": [
      "Глубина дерева: 1 / F1-мера: 0.0\n",
      "Глубина дерева: 2 / F1-мера: 0.5217391304347825\n",
      "Глубина дерева: 3 / F1-мера: 0.4234875444839857\n",
      "Глубина дерева: 4 / F1-мера: 0.5528700906344411\n"
     ]
    },
    {
     "name": "stderr",
     "output_type": "stream",
     "text": [
      "/opt/conda/lib/python3.7/site-packages/sklearn/metrics/classification.py:1437: UndefinedMetricWarning: F-score is ill-defined and being set to 0.0 due to no predicted samples.\n",
      "  'precision', 'predicted', average, warn_for)\n"
     ]
    },
    {
     "name": "stdout",
     "output_type": "stream",
     "text": [
      "Глубина дерева: 5 / F1-мера: 0.5406249999999999\n",
      "Глубина дерева: 6 / F1-мера: 0.5696969696969697\n",
      "Глубина дерева: 7 / F1-мера: 0.5320813771517998\n",
      "Глубина дерева: 8 / F1-мера: 0.5454545454545454\n",
      "Глубина дерева: 9 / F1-мера: 0.5633802816901409\n",
      "Глубина дерева: 10 / F1-мера: 0.5385694249649369\n",
      "Глубина дерева: 11 / F1-мера: 0.5059920106524634\n",
      "Глубина дерева: 12 / F1-мера: 0.521072796934866\n",
      "Глубина дерева: 13 / F1-мера: 0.5038961038961038\n",
      "Глубина дерева: 14 / F1-мера: 0.48675914249684743\n",
      "Глубина дерева: 15 / F1-мера: 0.4975124378109453\n",
      "Глубина дерева: 16 / F1-мера: 0.4987654320987654\n",
      "Глубина дерева: 17 / F1-мера: 0.4767726161369193\n",
      "Глубина дерева: 18 / F1-мера: 0.48522167487684725\n",
      "Глубина дерева: 19 / F1-мера: 0.49521531100478466\n",
      "-------------------------------------------------------\n",
      "F1 лучшей модели: 0.5696969696969697\n",
      "Лучшая глубина дерева: 6\n"
     ]
    }
   ],
   "source": [
    "# построим модель решающего дерева с перебором оптимальной глубины\n",
    "best_tree_model=None\n",
    "best_depth=0\n",
    "best_f1=0\n",
    "\n",
    "for depth in range(1, 20, 1):\n",
    "    model = DecisionTreeClassifier(random_state=12345, max_depth=depth)\n",
    "    model.fit(features_train, target_train)\n",
    "    predictions_tree = model.predict(features_valid)\n",
    "    print('Глубина дерева:', depth, '/ F1-мера:', f1_score(target_valid, predictions_tree))\n",
    "    if f1_score(target_valid, predictions_tree) > best_f1:\n",
    "        best_f1=f1_score(target_valid, predictions_tree)\n",
    "        best_tree_model=model\n",
    "        best_depth=depth\n",
    "print('-------------------------------------------------------')        \n",
    "print('F1 лучшей модели:', best_f1)\n",
    "print('Лучшая глубина дерева:', best_depth)"
   ]
  },
  {
   "cell_type": "markdown",
   "metadata": {},
   "source": [
    "В модели решающего дерева максимальное значение F1 достигается при глубине дерева 6."
   ]
  },
  {
   "cell_type": "markdown",
   "metadata": {},
   "source": [
    "**Модель случайного леса**"
   ]
  },
  {
   "cell_type": "code",
   "execution_count": 338,
   "metadata": {},
   "outputs": [
    {
     "name": "stderr",
     "output_type": "stream",
     "text": [
      "/opt/conda/lib/python3.7/site-packages/sklearn/metrics/classification.py:1437: UndefinedMetricWarning: F-score is ill-defined and being set to 0.0 due to no predicted samples.\n",
      "  'precision', 'predicted', average, warn_for)\n"
     ]
    },
    {
     "name": "stdout",
     "output_type": "stream",
     "text": [
      "Глубина дерева: 1 / F1-мера: 0.0\n",
      "Глубина дерева: 2 / F1-мера: 0.1294642857142857\n",
      "Глубина дерева: 3 / F1-мера: 0.23382045929018794\n",
      "Глубина дерева: 4 / F1-мера: 0.3805970149253731\n",
      "Глубина дерева: 5 / F1-мера: 0.4660869565217391\n",
      "Глубина дерева: 6 / F1-мера: 0.5266666666666666\n",
      "Глубина дерева: 7 / F1-мера: 0.5596184419713831\n",
      "Глубина дерева: 8 / F1-мера: 0.5641025641025641\n",
      "Глубина дерева: 9 / F1-мера: 0.5606299212598426\n",
      "Глубина дерева: 10 / F1-мера: 0.5692068429237946\n",
      "Глубина дерева: 11 / F1-мера: 0.5701078582434514\n",
      "Глубина дерева: 12 / F1-мера: 0.5878787878787878\n",
      "Глубина дерева: 13 / F1-мера: 0.5731707317073171\n",
      "Глубина дерева: 14 / F1-мера: 0.5787106446776611\n",
      "Глубина дерева: 15 / F1-мера: 0.5838323353293413\n",
      "Глубина дерева: 16 / F1-мера: 0.5791044776119403\n",
      "Глубина дерева: 17 / F1-мера: 0.5799701046337816\n",
      "Глубина дерева: 18 / F1-мера: 0.5630769230769231\n",
      "Глубина дерева: 19 / F1-мера: 0.5864661654135339\n",
      "-------------------------------------------------------\n",
      "F1 лучшей модели: 0.5878787878787878\n",
      "Лучшая глубина дерева: 12\n"
     ]
    }
   ],
   "source": [
    "# построим модель случайного леса с перебором оптимальной глубины\n",
    "best_forest_model=None\n",
    "best_depth=0\n",
    "best_f1=0\n",
    "\n",
    "for depth in range(1, 20, 1):\n",
    "    model = RandomForestClassifier(random_state=12345, max_depth=depth, n_estimators=100)\n",
    "    model.fit(features_train, target_train)\n",
    "    predictions_forest = model.predict(features_valid)\n",
    "    print('Глубина дерева:', depth, '/ F1-мера:', f1_score(target_valid, predictions_forest))\n",
    "    if f1_score(target_valid, predictions_forest) > best_f1:\n",
    "        best_forest_model=model\n",
    "        best_f1=f1_score(target_valid, predictions_forest)\n",
    "        best_depth=depth\n",
    "print('-------------------------------------------------------')\n",
    "print('F1 лучшей модели:', best_f1)\n",
    "print('Лучшая глубина дерева:', best_depth)"
   ]
  },
  {
   "cell_type": "markdown",
   "metadata": {},
   "source": [
    "В модели случайного леса максимальное значение F1 достигается при глубине дерева 12."
   ]
  },
  {
   "cell_type": "code",
   "execution_count": 339,
   "metadata": {},
   "outputs": [
    {
     "name": "stdout",
     "output_type": "stream",
     "text": [
      "Количество деревьев: 1 / F1-мера: 0.5158150851581509\n",
      "Количество деревьев: 5 / F1-мера: 0.5624103299856528\n",
      "Количество деревьев: 9 / F1-мера: 0.5811209439528023\n",
      "Количество деревьев: 13 / F1-мера: 0.5650224215246636\n",
      "Количество деревьев: 17 / F1-мера: 0.5748502994011976\n",
      "Количество деревьев: 21 / F1-мера: 0.5662650602409639\n",
      "Количество деревьев: 25 / F1-мера: 0.572289156626506\n",
      "Количество деревьев: 29 / F1-мера: 0.5727272727272728\n",
      "Количество деревьев: 33 / F1-мера: 0.5774436090225564\n",
      "Количество деревьев: 37 / F1-мера: 0.5791855203619909\n",
      "Количество деревьев: 41 / F1-мера: 0.5757575757575758\n",
      "Количество деревьев: 45 / F1-мера: 0.5801526717557252\n",
      "Количество деревьев: 49 / F1-мера: 0.5758039816232772\n",
      "Количество деревьев: 53 / F1-мера: 0.5844748858447488\n",
      "Количество деревьев: 57 / F1-мера: 0.578386605783866\n",
      "Количество деревьев: 61 / F1-мера: 0.5800604229607251\n",
      "Количество деревьев: 65 / F1-мера: 0.5792682926829268\n",
      "Количество деревьев: 69 / F1-мера: 0.5887708649468891\n",
      "Количество деревьев: 73 / F1-мера: 0.5887708649468891\n",
      "Количество деревьев: 77 / F1-мера: 0.583963691376702\n",
      "Количество деревьев: 81 / F1-мера: 0.5866261398176292\n",
      "Количество деревьев: 85 / F1-мера: 0.5909090909090908\n",
      "Количество деревьев: 89 / F1-мера: 0.5878787878787878\n",
      "Количество деревьев: 93 / F1-мера: 0.5844748858447488\n",
      "Количество деревьев: 97 / F1-мера: 0.5857359635811836\n",
      "-------------------------------------------------------\n",
      "F1 лучшей модели: 0.5909090909090908\n",
      "Лучшее количество деревьев: 85\n"
     ]
    }
   ],
   "source": [
    "# построим модель случайного леса с перебором количества деревьев\n",
    "best_forest_model=None\n",
    "best_estimators=0\n",
    "best_f1=0\n",
    "\n",
    "for estimators in range(1, 100, 4):\n",
    "    model = RandomForestClassifier(random_state=12345, max_depth=12, n_estimators=estimators)\n",
    "    model.fit(features_train, target_train)\n",
    "    predictions_forest = model.predict(features_valid)\n",
    "    print('Количество деревьев:', estimators, '/ F1-мера:', f1_score(target_valid, predictions_forest))\n",
    "    if f1_score(target_valid, predictions_forest) > best_f1:\n",
    "        best_forest_model=model\n",
    "        best_f1=f1_score(target_valid, predictions_forest)\n",
    "        best_estimators=estimators\n",
    "print('-------------------------------------------------------')\n",
    "print('F1 лучшей модели:', best_f1)\n",
    "print('Лучшее количество деревьев:', best_estimators)"
   ]
  },
  {
   "cell_type": "markdown",
   "metadata": {},
   "source": [
    "В модели случайного леса максимальное значение F1 достигается при количестве деревьев 85."
   ]
  },
  {
   "cell_type": "markdown",
   "metadata": {},
   "source": [
    "**Вывод**\n",
    "\n",
    "В процессе исследования данных было обнаружен дисбаланс классов целевого признака, что не позволяет эффективно обучить модель. Согласно изученной информации, 20% занимают данные о клиентах, которые покинули банк, и 80% - которые остались лояльны к банку.\n",
    "\n",
    "Также были построены модели и посчитана F1-мера путем перебора различных гиперпараметров без учета дисбаланса. Самой эффективной моделью оказалась модель случайного леса."
   ]
  },
  {
   "cell_type": "markdown",
   "metadata": {},
   "source": [
    "## Борьба с дисбалансом"
   ]
  },
  {
   "cell_type": "markdown",
   "metadata": {},
   "source": [
    "Для решения проблемы с дисбалансом применим три метода:\n",
    "1. Взвешивание классов.\n",
    "2. Увеличение выборки.\n",
    "3. Уменьшение выборки."
   ]
  },
  {
   "cell_type": "markdown",
   "metadata": {},
   "source": [
    "**Взвешивание классов**"
   ]
  },
  {
   "cell_type": "code",
   "execution_count": 340,
   "metadata": {},
   "outputs": [],
   "source": [
    "# создадим функцию для расчета F1-меры после применения метода взвешивания классов\n",
    "def calc_f1(model_ml, features, target):\n",
    "    model=model_ml\n",
    "    model.fit(features, target)\n",
    "    predicted_valid = model.predict(features_valid)\n",
    "    print('F1-мера:', f1_score(target_valid, predicted_valid))"
   ]
  },
  {
   "cell_type": "code",
   "execution_count": 341,
   "metadata": {},
   "outputs": [],
   "source": [
    "# выделим три модели\n",
    "model_1 = LogisticRegression(random_state=12345, solver='liblinear', class_weight='balanced')\n",
    "model_2 = DecisionTreeClassifier(random_state=12345, class_weight='balanced', max_depth=6)\n",
    "model_3 = RandomForestClassifier(random_state=12345, class_weight='balanced', max_depth=12, n_estimators=85)"
   ]
  },
  {
   "cell_type": "code",
   "execution_count": 342,
   "metadata": {},
   "outputs": [
    {
     "name": "stdout",
     "output_type": "stream",
     "text": [
      "F1-мера: 0.4888507718696398\n",
      "F1-мера: 0.5581835383159887\n",
      "F1-мера: 0.600265604249668\n"
     ]
    }
   ],
   "source": [
    "# рассчитаем F1 для каждой модели\n",
    "calc_f1(model_1, features_train, target_train)\n",
    "calc_f1(model_2, features_train, target_train)\n",
    "calc_f1(model_3, features_train, target_train)"
   ]
  },
  {
   "cell_type": "markdown",
   "metadata": {},
   "source": [
    "Метод взвешивания классов позволил улучшить качество всех трех моделей. Особенно заметное усовершенствование произошло у модели логистической регрессии."
   ]
  },
  {
   "cell_type": "markdown",
   "metadata": {},
   "source": [
    "**Увеличение выборки**"
   ]
  },
  {
   "cell_type": "code",
   "execution_count": 343,
   "metadata": {},
   "outputs": [],
   "source": [
    "# создадим функцию upsample для увеличения выборки\n",
    "def upsample(features, target, repeat):\n",
    "    features_zeros = features[target==0]\n",
    "    features_ones = features[target==1]\n",
    "    target_zeros = target[target==0]\n",
    "    target_ones = target[target==1]\n",
    "    \n",
    "    features_upsampled = pd.concat([features_zeros] + [features_ones] * repeat)\n",
    "    target_upsampled = pd.concat([target_zeros] + [target_ones] * repeat)\n",
    "    \n",
    "    features_upsampled, target_upsampled = shuffle(features_upsampled, target_upsampled, random_state=12345)\n",
    "    \n",
    "    return features_upsampled, target_upsampled"
   ]
  },
  {
   "cell_type": "code",
   "execution_count": 344,
   "metadata": {},
   "outputs": [],
   "source": [
    "# создадим переменные features_upsampled и target_upsampled\n",
    "features_upsampled, target_upsampled = upsample(features_train, target_train, 4)  \n",
    "# в данной ситуации repeat равно 4, так как именно в данное количество раз количество клиентов, которые остались,\n",
    "# превышает число клиентов, которые ушли."
   ]
  },
  {
   "cell_type": "code",
   "execution_count": 345,
   "metadata": {},
   "outputs": [
    {
     "name": "stdout",
     "output_type": "stream",
     "text": [
      "F1-мера: 0.4888507718696398\n",
      "F1-мера: 0.5581835383159887\n",
      "F1-мера: 0.5990675990675991\n"
     ]
    }
   ],
   "source": [
    "# выделим три модели и применим к ним функцию calc_f1 с учетом увеличенной выборки\n",
    "model_1 = LogisticRegression(random_state=12345, solver='liblinear')\n",
    "model_2 = DecisionTreeClassifier(random_state=12345, max_depth=6)\n",
    "model_3 = RandomForestClassifier(random_state=12345, max_depth=12, n_estimators=85)\n",
    "\n",
    "calc_f1(model_1, features_upsampled, target_upsampled)\n",
    "calc_f1(model_2, features_upsampled, target_upsampled)\n",
    "calc_f1(model_3, features_upsampled, target_upsampled)"
   ]
  },
  {
   "cell_type": "markdown",
   "metadata": {},
   "source": [
    "Метод увеличения выборки позволил улучшить качество всех трех моделей. Особенно заметное усовершенствование произошло у модели логистической регрессии."
   ]
  },
  {
   "cell_type": "markdown",
   "metadata": {},
   "source": [
    "**Уменьшение выборки**"
   ]
  },
  {
   "cell_type": "code",
   "execution_count": 346,
   "metadata": {},
   "outputs": [],
   "source": [
    "# создадим функцию upsample для уменьшения выборки\n",
    "def downsample(features, target, fraction):\n",
    "    features_zeros = features[target==0]\n",
    "    features_ones = features[target==1]\n",
    "    target_zeros = target[target==0]\n",
    "    target_ones = target[target==1]\n",
    "    \n",
    "    features_downsampled = pd.concat([features_zeros.sample(frac=fraction, random_state=12345)] + [features_ones])\n",
    "    target_downsampled = pd.concat([target_zeros.sample(frac=fraction, random_state=12345)] + [target_ones])\n",
    "    \n",
    "    features_downsampled, target_downsampled = shuffle(features_downsampled, target_downsampled, random_state=12345)\n",
    "    \n",
    "    return features_downsampled, target_downsampled"
   ]
  },
  {
   "cell_type": "code",
   "execution_count": 347,
   "metadata": {},
   "outputs": [],
   "source": [
    "# создадим переменные features_downsampled и target_downsampled\n",
    "features_downsampled, target_downsampled = downsample(features_train, target_train, 0.25)  "
   ]
  },
  {
   "cell_type": "code",
   "execution_count": 348,
   "metadata": {},
   "outputs": [
    {
     "name": "stdout",
     "output_type": "stream",
     "text": [
      "F1-мера: 0.4849527085124678\n",
      "F1-мера: 0.5749525616698292\n",
      "F1-мера: 0.5909943714821764\n"
     ]
    }
   ],
   "source": [
    "# применим к моделям функцию calc_f1 с учетом уменьшенной выборки\n",
    "calc_f1(model_1, features_downsampled, target_downsampled)\n",
    "calc_f1(model_2, features_downsampled, target_downsampled)\n",
    "calc_f1(model_3, features_downsampled, target_downsampled)"
   ]
  },
  {
   "cell_type": "markdown",
   "metadata": {},
   "source": [
    "Метод уменьшения выборки позволил улучшить качество всех трех моделей. Особенно заметное усовершенствование произошло у модели логистической регрессии."
   ]
  },
  {
   "cell_type": "markdown",
   "metadata": {},
   "source": [
    "Модель случайного леса продемонстрировала самый высокий показатель F1-меры. При этом при взвешивании классов данный показатель достиг самого высокого значения. Найдем оптимальные гиперпараметры для модели случайного леса с учетом дисбаланса."
   ]
  },
  {
   "cell_type": "code",
   "execution_count": 349,
   "metadata": {},
   "outputs": [
    {
     "name": "stdout",
     "output_type": "stream",
     "text": [
      "Глубина дерева: 1 / F1-мера: 0.5446096654275093\n",
      "Глубина дерева: 6 / F1-мера: 0.6175869120654396\n",
      "Глубина дерева: 11 / F1-мера: 0.6089171974522293\n",
      "Глубина дерева: 16 / F1-мера: 0.5641791044776119\n",
      "Глубина дерева: 21 / F1-мера: 0.5622119815668203\n",
      "Глубина дерева: 26 / F1-мера: 0.5630769230769231\n"
     ]
    }
   ],
   "source": [
    "# построим модель случайного леса с перебором максимальной глубины с шагом 5\n",
    "for depth in range(1, 30, 5):\n",
    "    model = RandomForestClassifier(random_state=12345, max_depth=depth, n_estimators=100, class_weight='balanced')\n",
    "    model.fit(features_train, target_train)\n",
    "    predictions_forest = model.predict(features_valid)\n",
    "    print('Глубина дерева:', depth, '/ F1-мера:', f1_score(target_valid, predictions_forest))"
   ]
  },
  {
   "cell_type": "markdown",
   "metadata": {},
   "source": [
    "Максимальное значение F1-меры необходимо искать в диапозоне максимальной глубины между 6 и 11."
   ]
  },
  {
   "cell_type": "code",
   "execution_count": 350,
   "metadata": {},
   "outputs": [
    {
     "name": "stdout",
     "output_type": "stream",
     "text": [
      "Глубина дерева: 6 / F1-мера: 0.6175869120654396\n",
      "Глубина дерева: 7 / F1-мера: 0.630457933972311\n",
      "Глубина дерева: 8 / F1-мера: 0.6267995570321152\n",
      "Глубина дерева: 9 / F1-мера: 0.6313364055299538\n",
      "Глубина дерева: 10 / F1-мера: 0.618531889290012\n",
      "Глубина дерева: 11 / F1-мера: 0.6089171974522293\n",
      "-------------------------------------------------------\n",
      "F1 лучшей модели: 0.6313364055299538\n",
      "Лучшая глубина дерева: 9\n"
     ]
    }
   ],
   "source": [
    "# построим модель случайного леса с перебором максимальной глубины в диапозоне от 6 до 11.\n",
    "best_forest_model=None\n",
    "best_depth=0\n",
    "best_f1=0\n",
    "\n",
    "for depth in range(6, 12, 1):\n",
    "    model = RandomForestClassifier(random_state=12345, max_depth=depth, n_estimators=100, class_weight='balanced')\n",
    "    model.fit(features_train, target_train)\n",
    "    predictions_forest = model.predict(features_valid)\n",
    "    print('Глубина дерева:', depth, '/ F1-мера:', f1_score(target_valid, predictions_forest))\n",
    "    if f1_score(target_valid, predictions_forest) > best_f1:\n",
    "        best_forest_model=model\n",
    "        best_f1=f1_score(target_valid, predictions_forest)\n",
    "        best_depth=depth\n",
    "print('-------------------------------------------------------')\n",
    "print('F1 лучшей модели:', best_f1)\n",
    "print('Лучшая глубина дерева:', best_depth)"
   ]
  },
  {
   "cell_type": "markdown",
   "metadata": {},
   "source": [
    "Самая оптимальная глубина дерева будет равна 9."
   ]
  },
  {
   "cell_type": "code",
   "execution_count": 351,
   "metadata": {},
   "outputs": [
    {
     "name": "stdout",
     "output_type": "stream",
     "text": [
      "Количество деревьев: 1 / F1-мера: 0.5307621671258036\n",
      "Количество деревьев: 51 / F1-мера: 0.6313364055299538\n",
      "Количество деревьев: 101 / F1-мера: 0.6289017341040462\n",
      "Количество деревьев: 151 / F1-мера: 0.6356228172293364\n",
      "Количество деревьев: 201 / F1-мера: 0.6349942062572421\n",
      "Количество деревьев: 251 / F1-мера: 0.6351039260969977\n",
      "Количество деревьев: 301 / F1-мера: 0.630359212050985\n",
      "Количество деревьев: 351 / F1-мера: 0.629500580720093\n",
      "Количество деревьев: 401 / F1-мера: 0.6271777003484321\n",
      "Количество деревьев: 451 / F1-мера: 0.629500580720093\n"
     ]
    }
   ],
   "source": [
    "# построим модель случайного леса с перебором количества деревьев с шагом 50\n",
    "for estimators in range(1, 500, 50):\n",
    "    model = RandomForestClassifier(random_state=12345, max_depth=9, n_estimators=estimators, class_weight='balanced')\n",
    "    model.fit(features_train, target_train)\n",
    "    predictions_forest = model.predict(features_valid)\n",
    "    print('Количество деревьев:', estimators, '/ F1-мера:', f1_score(target_valid, predictions_forest))"
   ]
  },
  {
   "cell_type": "markdown",
   "metadata": {},
   "source": [
    "Максимальное значение F1-меры необходимо искать в диапозоне количества деревьев между 151 и 201."
   ]
  },
  {
   "cell_type": "code",
   "execution_count": 352,
   "metadata": {},
   "outputs": [
    {
     "name": "stdout",
     "output_type": "stream",
     "text": [
      "Количество деревьев: 151 / F1-мера: 0.6356228172293364\n",
      "Количество деревьев: 161 / F1-мера: 0.6372093023255814\n",
      "Количество деревьев: 171 / F1-мера: 0.6357308584686775\n",
      "Количество деревьев: 181 / F1-мера: 0.6358381502890174\n",
      "Количество деревьев: 191 / F1-мера: 0.6335260115606937\n",
      "Количество деревьев: 201 / F1-мера: 0.6349942062572421\n"
     ]
    }
   ],
   "source": [
    "# построим модель случайного леса с перебором количества деревьев в диапозоне между 151 и 201\n",
    "for estimators in range(151, 202, 10):\n",
    "    model = RandomForestClassifier(random_state=12345, max_depth=9, n_estimators=estimators, class_weight='balanced')\n",
    "    model.fit(features_train, target_train)\n",
    "    predictions_forest = model.predict(features_valid)\n",
    "    print('Количество деревьев:', estimators, '/ F1-мера:', f1_score(target_valid, predictions_forest))"
   ]
  },
  {
   "cell_type": "code",
   "execution_count": 353,
   "metadata": {},
   "outputs": [
    {
     "name": "stdout",
     "output_type": "stream",
     "text": [
      "Количество деревьев: 141 / F1-мера: 0.632438739789965\n",
      "Количество деревьев: 142 / F1-мера: 0.6340326340326341\n",
      "Количество деревьев: 143 / F1-мера: 0.6356228172293364\n",
      "Количество деревьев: 144 / F1-мера: 0.6348837209302326\n",
      "Количество деревьев: 145 / F1-мера: 0.6325581395348838\n",
      "Количество деревьев: 146 / F1-мера: 0.6348837209302326\n",
      "Количество деревьев: 147 / F1-мера: 0.6348837209302326\n",
      "Количество деревьев: 148 / F1-мера: 0.6348837209302326\n",
      "Количество деревьев: 149 / F1-мера: 0.6348837209302326\n",
      "Количество деревьев: 150 / F1-мера: 0.6356228172293364\n",
      "Количество деревьев: 151 / F1-мера: 0.6356228172293364\n",
      "-------------------------------------------------------\n",
      "F1 лучшей модели: 0.6356228172293364\n",
      "Лучшее количество деревьев: 143\n"
     ]
    }
   ],
   "source": [
    "# построим модель случайного леса с перебором количества деревьев в диапозоне между 141 и 151\n",
    "best_forest_model=None\n",
    "best_estimators=0\n",
    "best_f1=0\n",
    "\n",
    "for estimators in range(141, 152, 1):\n",
    "    model = RandomForestClassifier(random_state=12345, max_depth=9, n_estimators=estimators, class_weight='balanced')\n",
    "    model.fit(features_train, target_train)\n",
    "    predictions_forest = model.predict(features_valid)\n",
    "    print('Количество деревьев:', estimators, '/ F1-мера:', f1_score(target_valid, predictions_forest))\n",
    "    if f1_score(target_valid, predictions_forest) > best_f1:\n",
    "        best_forest_model=model\n",
    "        best_f1=f1_score(target_valid, predictions_forest)\n",
    "        best_estimators=estimators\n",
    "print('-------------------------------------------------------')\n",
    "print('F1 лучшей модели:', best_f1)\n",
    "print('Лучшее количество деревьев:', best_estimators)"
   ]
  },
  {
   "cell_type": "markdown",
   "metadata": {},
   "source": [
    "Самый лучший результат демонстрирует модель случайного леса, сбалансированная с помощью метода взвешивания классов, с глубиной дерева 9 и количеством деревьев 143."
   ]
  },
  {
   "cell_type": "markdown",
   "metadata": {},
   "source": [
    "**Вывод**\n",
    "\n",
    "Борьба с несбалансированной классификацией с помощью методов взвешивания классов, увеличения и уменьшения выборки позволил повысить значение метрики F1 для каждой из трех моделей. Cамое большое увеличение показателя произошло у модели логистической регрессии, при этом данная модель по-прежнему демонстрирует самый низкий показатель значения F1."
   ]
  },
  {
   "cell_type": "markdown",
   "metadata": {},
   "source": [
    "## Тестирование модели"
   ]
  },
  {
   "cell_type": "markdown",
   "metadata": {},
   "source": [
    "Проверим нашу модель на тестовой выборке."
   ]
  },
  {
   "cell_type": "code",
   "execution_count": 354,
   "metadata": {},
   "outputs": [],
   "source": [
    "# стандартизируем тестовые данные\n",
    "features_test[numeric] = scaler.transform(features_test[numeric])"
   ]
  },
  {
   "cell_type": "code",
   "execution_count": 355,
   "metadata": {},
   "outputs": [
    {
     "name": "stdout",
     "output_type": "stream",
     "text": [
      "F1 тестовой выборки: 0.6123853211009175\n",
      "Точность тестовой выборки: 0.5946547884187082\n",
      "Полнота тестовой выборки: 0.6312056737588653\n"
     ]
    }
   ],
   "source": [
    "# тестирование модели\n",
    "model = RandomForestClassifier(random_state=12345, max_depth=9, n_estimators=143, class_weight='balanced')\n",
    "model.fit(features_train, target_train)\n",
    "predictions_test=model.predict(features_test)\n",
    "print('F1 тестовой выборки:', f1_score(target_test, predictions_test))\n",
    "print('Точность тестовой выборки:', precision_score(target_test, predictions_test))\n",
    "print('Полнота тестовой выборки:', recall_score(target_test, predictions_test))"
   ]
  },
  {
   "cell_type": "markdown",
   "metadata": {},
   "source": [
    "На тестовой выборке модель показала результат, сравнимый с результатом на валидационной выборке, что говорит о высоком качестве модели."
   ]
  },
  {
   "cell_type": "markdown",
   "metadata": {},
   "source": [
    "**Исследование метрики AUC-ROC**"
   ]
  },
  {
   "cell_type": "code",
   "execution_count": 356,
   "metadata": {},
   "outputs": [
    {
     "data": {
      "image/png": "[encoded data removed]",
      "text/plain": [
       "<Figure size 432x288 with 1 Axes>"
      ]
     },
     "metadata": {
      "needs_background": "light"
     },
     "output_type": "display_data"
    }
   ],
   "source": [
    "# построим ROC-кривую для случайного леса\n",
    "model = RandomForestClassifier(random_state=12345, max_depth=9, n_estimators=143, class_weight='balanced')\n",
    "model.fit(features_train, target_train)\n",
    "\n",
    "probabilities_test = model.predict_proba(features_test)\n",
    "probabilities_one_test = probabilities_test[:, 1]\n",
    "fpr, tpr, thresholds = roc_curve(target_test, probabilities_one_test)\n",
    "\n",
    "plt.figure()\n",
    "plt.plot([0, 1], [0, 1], linestyle='--')\n",
    "plt.plot(fpr, tpr)\n",
    "plt.xlim([0.0, 1.0])\n",
    "plt.ylim([0.0, 1.0])\n",
    "plt.xlabel('False Positive Rate')\n",
    "plt.ylabel('True Positive Rate')\n",
    "plt.title('ROC-кривая')\n",
    "plt.show()"
   ]
  },
  {
   "cell_type": "code",
   "execution_count": 357,
   "metadata": {},
   "outputs": [
    {
     "name": "stdout",
     "output_type": "stream",
     "text": [
      "AUC-ROC: 0.8579341629301829\n"
     ]
    }
   ],
   "source": [
    "# посчитаем для случайного леса значение AUC-ROC\n",
    "print('AUC-ROC:', roc_auc_score(target_test, probabilities_one_test))"
   ]
  },
  {
   "cell_type": "markdown",
   "metadata": {},
   "source": [
    "Значение площади под кривой, равное 0.86, говорит о высокой способности модели различать положительные и отрицательные классы."
   ]
  },
  {
   "cell_type": "markdown",
   "metadata": {},
   "source": [
    "**Вывод**\n",
    "\n",
    "Таким образом, нами была создана модель предсказания оттока клиентов из \"Бета-банка\". Модель случайного леса с количеством деревьев 143 и глубиной дерева 9 выдала самый высокий результат F1-меры на валидационной выборке - 0.64. Для создания эффективной модели также был использован метод взвешивания классов, так как в изначальном виде целевой признак имеет явный дисбаланс классов. На тестовой выборке модель показала результат, близкий результаты на валидационной выборке. Также большое значение AUC-ROC (0.86) говорит о том, что наша модель способна эффективно определять принадлежность клиента к тому или иному классу."
   ]
  }
 ],
 "metadata": {
  "ExecuteTimeLog": [
   {
    "duration": 1054,
    "start_time": "2022-01-26T10:06:28.973Z"
   },
   {
    "duration": 28,
    "start_time": "2022-01-26T10:08:30.510Z"
   },
   {
    "duration": 13,
    "start_time": "2022-01-26T10:09:11.036Z"
   },
   {
    "duration": 4,
    "start_time": "2022-01-26T10:12:58.248Z"
   },
   {
    "duration": 8,
    "start_time": "2022-01-26T10:13:41.383Z"
   },
   {
    "duration": 7,
    "start_time": "2022-01-26T10:22:16.320Z"
   },
   {
    "duration": 10,
    "start_time": "2022-01-26T10:22:25.117Z"
   },
   {
    "duration": 401,
    "start_time": "2022-01-26T10:23:40.741Z"
   },
   {
    "duration": 10,
    "start_time": "2022-01-26T10:23:57.885Z"
   },
   {
    "duration": 9,
    "start_time": "2022-01-26T10:24:06.632Z"
   },
   {
    "duration": 9,
    "start_time": "2022-01-26T10:24:12.765Z"
   },
   {
    "duration": 347,
    "start_time": "2022-01-26T10:37:42.148Z"
   },
   {
    "duration": 330,
    "start_time": "2022-01-26T10:37:58.967Z"
   },
   {
    "duration": 356,
    "start_time": "2022-01-26T10:39:45.683Z"
   },
   {
    "duration": 321,
    "start_time": "2022-01-26T10:41:12.152Z"
   },
   {
    "duration": 3,
    "start_time": "2022-01-26T10:42:05.460Z"
   },
   {
    "duration": 32,
    "start_time": "2022-01-26T10:42:05.465Z"
   },
   {
    "duration": 20,
    "start_time": "2022-01-26T10:42:05.499Z"
   },
   {
    "duration": 338,
    "start_time": "2022-01-26T10:42:05.521Z"
   },
   {
    "duration": -837,
    "start_time": "2022-01-26T10:42:06.698Z"
   },
   {
    "duration": -841,
    "start_time": "2022-01-26T10:42:06.703Z"
   },
   {
    "duration": -842,
    "start_time": "2022-01-26T10:42:06.705Z"
   },
   {
    "duration": 108,
    "start_time": "2022-01-26T10:46:59.182Z"
   },
   {
    "duration": 147,
    "start_time": "2022-01-26T11:27:12.224Z"
   },
   {
    "duration": 336,
    "start_time": "2022-01-26T11:27:20.592Z"
   },
   {
    "duration": 4,
    "start_time": "2022-01-26T11:28:05.903Z"
   },
   {
    "duration": 7,
    "start_time": "2022-01-26T11:28:09.594Z"
   },
   {
    "duration": 14,
    "start_time": "2022-01-26T12:54:01.935Z"
   },
   {
    "duration": 19,
    "start_time": "2022-01-26T12:54:09.484Z"
   },
   {
    "duration": 397,
    "start_time": "2022-01-26T12:54:58.289Z"
   },
   {
    "duration": 12,
    "start_time": "2022-01-26T12:55:06.924Z"
   },
   {
    "duration": 370,
    "start_time": "2022-01-26T12:59:00.055Z"
   },
   {
    "duration": 4,
    "start_time": "2022-01-26T12:59:10.264Z"
   },
   {
    "duration": 6,
    "start_time": "2022-01-26T13:11:27.451Z"
   },
   {
    "duration": 10,
    "start_time": "2022-01-26T13:36:34.184Z"
   },
   {
    "duration": 301,
    "start_time": "2022-01-27T08:32:22.037Z"
   },
   {
    "duration": 1181,
    "start_time": "2022-01-27T08:32:27.891Z"
   },
   {
    "duration": 30,
    "start_time": "2022-01-27T08:32:29.074Z"
   },
   {
    "duration": 17,
    "start_time": "2022-01-27T08:32:29.106Z"
   },
   {
    "duration": 5,
    "start_time": "2022-01-27T08:32:29.126Z"
   },
   {
    "duration": 9,
    "start_time": "2022-01-27T08:32:29.133Z"
   },
   {
    "duration": 7,
    "start_time": "2022-01-27T08:32:29.161Z"
   },
   {
    "duration": 11,
    "start_time": "2022-01-27T08:32:29.170Z"
   },
   {
    "duration": 13,
    "start_time": "2022-01-27T08:32:29.183Z"
   },
   {
    "duration": 6,
    "start_time": "2022-01-27T08:32:29.199Z"
   },
   {
    "duration": 7,
    "start_time": "2022-01-27T08:32:29.207Z"
   },
   {
    "duration": 7,
    "start_time": "2022-01-27T08:32:29.216Z"
   },
   {
    "duration": 459,
    "start_time": "2022-01-27T08:32:29.225Z"
   },
   {
    "duration": 4,
    "start_time": "2022-01-27T08:34:47.660Z"
   },
   {
    "duration": 31,
    "start_time": "2022-01-27T08:34:47.665Z"
   },
   {
    "duration": 12,
    "start_time": "2022-01-27T08:34:47.698Z"
   },
   {
    "duration": 5,
    "start_time": "2022-01-27T08:34:47.712Z"
   },
   {
    "duration": 9,
    "start_time": "2022-01-27T08:34:47.720Z"
   },
   {
    "duration": 31,
    "start_time": "2022-01-27T08:34:47.731Z"
   },
   {
    "duration": 11,
    "start_time": "2022-01-27T08:34:47.764Z"
   },
   {
    "duration": 15,
    "start_time": "2022-01-27T08:34:47.776Z"
   },
   {
    "duration": 6,
    "start_time": "2022-01-27T08:34:47.793Z"
   },
   {
    "duration": 7,
    "start_time": "2022-01-27T08:34:47.801Z"
   },
   {
    "duration": 8,
    "start_time": "2022-01-27T08:34:47.810Z"
   },
   {
    "duration": 187,
    "start_time": "2022-01-27T08:34:47.819Z"
   },
   {
    "duration": 139,
    "start_time": "2022-01-27T08:35:31.290Z"
   },
   {
    "duration": 272,
    "start_time": "2022-01-27T08:36:26.677Z"
   },
   {
    "duration": 471,
    "start_time": "2022-01-27T08:36:33.868Z"
   },
   {
    "duration": 541,
    "start_time": "2022-01-27T08:36:53.344Z"
   },
   {
    "duration": 165,
    "start_time": "2022-01-27T08:37:19.179Z"
   },
   {
    "duration": 440,
    "start_time": "2022-01-27T08:37:31.687Z"
   },
   {
    "duration": 166,
    "start_time": "2022-01-27T08:37:52.324Z"
   },
   {
    "duration": 156,
    "start_time": "2022-01-27T08:38:35.210Z"
   },
   {
    "duration": 145,
    "start_time": "2022-01-27T08:43:44.184Z"
   },
   {
    "duration": 486,
    "start_time": "2022-01-27T08:44:25.268Z"
   },
   {
    "duration": 259,
    "start_time": "2022-01-27T08:44:47.442Z"
   },
   {
    "duration": 213,
    "start_time": "2022-01-27T08:44:54.674Z"
   },
   {
    "duration": 219,
    "start_time": "2022-01-27T08:45:27.762Z"
   },
   {
    "duration": 191,
    "start_time": "2022-01-27T08:48:36.365Z"
   },
   {
    "duration": 361,
    "start_time": "2022-01-27T08:49:30.578Z"
   },
   {
    "duration": 6,
    "start_time": "2022-01-27T08:59:23.413Z"
   },
   {
    "duration": 6,
    "start_time": "2022-01-27T09:00:53.138Z"
   },
   {
    "duration": 8,
    "start_time": "2022-01-27T09:01:04.142Z"
   },
   {
    "duration": 5,
    "start_time": "2022-01-27T09:01:32.930Z"
   },
   {
    "duration": 8,
    "start_time": "2022-01-27T09:01:39.863Z"
   },
   {
    "duration": 4,
    "start_time": "2022-01-27T09:01:54.032Z"
   },
   {
    "duration": 53,
    "start_time": "2022-01-27T09:01:54.038Z"
   },
   {
    "duration": 12,
    "start_time": "2022-01-27T09:01:54.093Z"
   },
   {
    "duration": 29,
    "start_time": "2022-01-27T09:01:54.107Z"
   },
   {
    "duration": 35,
    "start_time": "2022-01-27T09:01:54.138Z"
   },
   {
    "duration": 1187,
    "start_time": "2022-01-27T09:01:54.208Z"
   },
   {
    "duration": -1102,
    "start_time": "2022-01-27T09:01:56.499Z"
   },
   {
    "duration": -1105,
    "start_time": "2022-01-27T09:01:56.504Z"
   },
   {
    "duration": -1106,
    "start_time": "2022-01-27T09:01:56.506Z"
   },
   {
    "duration": -1107,
    "start_time": "2022-01-27T09:01:56.508Z"
   },
   {
    "duration": -1110,
    "start_time": "2022-01-27T09:01:56.512Z"
   },
   {
    "duration": -1111,
    "start_time": "2022-01-27T09:01:56.514Z"
   },
   {
    "duration": -1112,
    "start_time": "2022-01-27T09:01:56.516Z"
   },
   {
    "duration": 9,
    "start_time": "2022-01-27T09:02:28.259Z"
   },
   {
    "duration": 4,
    "start_time": "2022-01-27T09:02:45.945Z"
   },
   {
    "duration": 55,
    "start_time": "2022-01-27T09:02:45.950Z"
   },
   {
    "duration": 24,
    "start_time": "2022-01-27T09:02:46.007Z"
   },
   {
    "duration": 43,
    "start_time": "2022-01-27T09:02:46.033Z"
   },
   {
    "duration": 33,
    "start_time": "2022-01-27T09:02:46.078Z"
   },
   {
    "duration": 26,
    "start_time": "2022-01-27T09:02:46.113Z"
   },
   {
    "duration": 33,
    "start_time": "2022-01-27T09:02:46.141Z"
   },
   {
    "duration": 31,
    "start_time": "2022-01-27T09:02:46.177Z"
   },
   {
    "duration": 32,
    "start_time": "2022-01-27T09:02:46.211Z"
   },
   {
    "duration": 31,
    "start_time": "2022-01-27T09:02:46.245Z"
   },
   {
    "duration": 27,
    "start_time": "2022-01-27T09:02:46.278Z"
   },
   {
    "duration": 227,
    "start_time": "2022-01-27T09:02:46.307Z"
   },
   {
    "duration": 3,
    "start_time": "2022-01-27T09:02:46.537Z"
   },
   {
    "duration": 3,
    "start_time": "2022-01-27T09:03:50.717Z"
   },
   {
    "duration": 18,
    "start_time": "2022-01-27T09:29:09.673Z"
   },
   {
    "duration": 281,
    "start_time": "2022-01-27T09:29:25.302Z"
   },
   {
    "duration": 25,
    "start_time": "2022-01-27T09:29:30.117Z"
   },
   {
    "duration": 4,
    "start_time": "2022-01-27T09:30:11.221Z"
   },
   {
    "duration": 45,
    "start_time": "2022-01-27T09:30:11.227Z"
   },
   {
    "duration": 13,
    "start_time": "2022-01-27T09:30:11.274Z"
   },
   {
    "duration": 6,
    "start_time": "2022-01-27T09:30:11.289Z"
   },
   {
    "duration": 10,
    "start_time": "2022-01-27T09:30:11.297Z"
   },
   {
    "duration": 5,
    "start_time": "2022-01-27T09:30:11.308Z"
   },
   {
    "duration": 10,
    "start_time": "2022-01-27T09:30:11.314Z"
   },
   {
    "duration": 40,
    "start_time": "2022-01-27T09:30:11.326Z"
   },
   {
    "duration": 6,
    "start_time": "2022-01-27T09:30:11.368Z"
   },
   {
    "duration": 6,
    "start_time": "2022-01-27T09:30:11.375Z"
   },
   {
    "duration": 25,
    "start_time": "2022-01-27T09:30:11.383Z"
   },
   {
    "duration": 6,
    "start_time": "2022-01-27T09:30:11.410Z"
   },
   {
    "duration": 219,
    "start_time": "2022-01-27T09:30:11.418Z"
   },
   {
    "duration": 3,
    "start_time": "2022-01-27T09:30:11.640Z"
   },
   {
    "duration": 15,
    "start_time": "2022-01-27T09:30:11.645Z"
   },
   {
    "duration": 19,
    "start_time": "2022-01-27T09:31:19.630Z"
   },
   {
    "duration": 7,
    "start_time": "2022-01-27T09:36:43.726Z"
   },
   {
    "duration": 6,
    "start_time": "2022-01-27T09:36:57.872Z"
   },
   {
    "duration": 23,
    "start_time": "2022-01-27T10:01:32.862Z"
   },
   {
    "duration": 4,
    "start_time": "2022-01-27T10:01:41.208Z"
   },
   {
    "duration": 34,
    "start_time": "2022-01-27T10:01:41.214Z"
   },
   {
    "duration": 12,
    "start_time": "2022-01-27T10:01:41.250Z"
   },
   {
    "duration": 4,
    "start_time": "2022-01-27T10:01:41.264Z"
   },
   {
    "duration": 9,
    "start_time": "2022-01-27T10:01:41.270Z"
   },
   {
    "duration": 4,
    "start_time": "2022-01-27T10:01:41.281Z"
   },
   {
    "duration": 11,
    "start_time": "2022-01-27T10:01:41.287Z"
   },
   {
    "duration": 13,
    "start_time": "2022-01-27T10:01:41.299Z"
   },
   {
    "duration": 5,
    "start_time": "2022-01-27T10:01:41.314Z"
   },
   {
    "duration": 8,
    "start_time": "2022-01-27T10:01:41.320Z"
   },
   {
    "duration": 37,
    "start_time": "2022-01-27T10:01:41.329Z"
   },
   {
    "duration": 197,
    "start_time": "2022-01-27T10:01:41.367Z"
   },
   {
    "duration": 2,
    "start_time": "2022-01-27T10:01:41.566Z"
   },
   {
    "duration": 26,
    "start_time": "2022-01-27T10:01:41.570Z"
   },
   {
    "duration": 4,
    "start_time": "2022-01-27T10:02:33.720Z"
   },
   {
    "duration": 30,
    "start_time": "2022-01-27T10:02:33.726Z"
   },
   {
    "duration": 11,
    "start_time": "2022-01-27T10:02:33.758Z"
   },
   {
    "duration": 7,
    "start_time": "2022-01-27T10:02:33.771Z"
   },
   {
    "duration": 11,
    "start_time": "2022-01-27T10:02:33.779Z"
   },
   {
    "duration": 4,
    "start_time": "2022-01-27T10:02:33.792Z"
   },
   {
    "duration": 9,
    "start_time": "2022-01-27T10:02:33.798Z"
   },
   {
    "duration": 13,
    "start_time": "2022-01-27T10:02:33.809Z"
   },
   {
    "duration": 15,
    "start_time": "2022-01-27T10:02:33.824Z"
   },
   {
    "duration": 32,
    "start_time": "2022-01-27T10:02:33.840Z"
   },
   {
    "duration": 29,
    "start_time": "2022-01-27T10:02:33.874Z"
   },
   {
    "duration": 198,
    "start_time": "2022-01-27T10:02:33.905Z"
   },
   {
    "duration": 3,
    "start_time": "2022-01-27T10:02:34.104Z"
   },
   {
    "duration": 50,
    "start_time": "2022-01-27T10:02:34.108Z"
   },
   {
    "duration": 33,
    "start_time": "2022-01-27T10:16:08.366Z"
   },
   {
    "duration": 31,
    "start_time": "2022-01-27T10:16:30.599Z"
   },
   {
    "duration": 20,
    "start_time": "2022-01-27T10:28:08.780Z"
   },
   {
    "duration": 5,
    "start_time": "2022-01-27T10:30:19.888Z"
   },
   {
    "duration": 46,
    "start_time": "2022-01-27T10:30:19.895Z"
   },
   {
    "duration": 30,
    "start_time": "2022-01-27T10:30:19.944Z"
   },
   {
    "duration": 21,
    "start_time": "2022-01-27T10:30:19.976Z"
   },
   {
    "duration": 30,
    "start_time": "2022-01-27T10:30:19.999Z"
   },
   {
    "duration": 49,
    "start_time": "2022-01-27T10:30:20.032Z"
   },
   {
    "duration": 35,
    "start_time": "2022-01-27T10:30:20.084Z"
   },
   {
    "duration": 39,
    "start_time": "2022-01-27T10:30:20.121Z"
   },
   {
    "duration": 7,
    "start_time": "2022-01-27T10:30:20.163Z"
   },
   {
    "duration": 10,
    "start_time": "2022-01-27T10:30:20.172Z"
   },
   {
    "duration": 6,
    "start_time": "2022-01-27T10:30:20.185Z"
   },
   {
    "duration": 234,
    "start_time": "2022-01-27T10:30:20.193Z"
   },
   {
    "duration": 3,
    "start_time": "2022-01-27T10:30:20.429Z"
   },
   {
    "duration": 357,
    "start_time": "2022-01-27T10:30:20.433Z"
   },
   {
    "duration": -1058,
    "start_time": "2022-01-27T10:30:21.850Z"
   },
   {
    "duration": -1068,
    "start_time": "2022-01-27T10:30:21.861Z"
   },
   {
    "duration": 22,
    "start_time": "2022-01-27T10:39:43.185Z"
   },
   {
    "duration": 5,
    "start_time": "2022-01-27T10:41:17.685Z"
   },
   {
    "duration": 410,
    "start_time": "2022-01-27T10:41:20.728Z"
   },
   {
    "duration": 282,
    "start_time": "2022-01-27T10:45:09.334Z"
   },
   {
    "duration": 339,
    "start_time": "2022-01-27T10:45:19.718Z"
   },
   {
    "duration": 3,
    "start_time": "2022-01-27T10:45:25.335Z"
   },
   {
    "duration": 4,
    "start_time": "2022-01-27T10:45:30.853Z"
   },
   {
    "duration": 328,
    "start_time": "2022-01-27T10:46:10.269Z"
   },
   {
    "duration": 268,
    "start_time": "2022-01-27T10:46:14.241Z"
   },
   {
    "duration": 5,
    "start_time": "2022-01-27T10:46:23.511Z"
   },
   {
    "duration": 4,
    "start_time": "2022-01-27T10:46:43.262Z"
   },
   {
    "duration": 264,
    "start_time": "2022-01-27T10:46:50.799Z"
   },
   {
    "duration": 262,
    "start_time": "2022-01-27T10:47:33.131Z"
   },
   {
    "duration": 304,
    "start_time": "2022-01-27T10:48:51.167Z"
   },
   {
    "duration": 6,
    "start_time": "2022-01-27T10:49:08.163Z"
   },
   {
    "duration": 41,
    "start_time": "2022-01-27T10:49:12.251Z"
   },
   {
    "duration": 4,
    "start_time": "2022-01-27T10:50:38.891Z"
   },
   {
    "duration": 14,
    "start_time": "2022-01-27T10:50:42.662Z"
   },
   {
    "duration": 21,
    "start_time": "2022-01-27T10:51:15.888Z"
   },
   {
    "duration": 354,
    "start_time": "2022-01-27T10:55:02.767Z"
   },
   {
    "duration": 160,
    "start_time": "2022-01-27T10:55:57.738Z"
   },
   {
    "duration": 307,
    "start_time": "2022-01-27T10:56:44.677Z"
   },
   {
    "duration": 185,
    "start_time": "2022-01-27T10:56:51.125Z"
   },
   {
    "duration": 478,
    "start_time": "2022-01-27T11:07:59.756Z"
   },
   {
    "duration": 3948,
    "start_time": "2022-01-27T11:11:00.913Z"
   },
   {
    "duration": 11808,
    "start_time": "2022-01-27T11:12:47.984Z"
   },
   {
    "duration": 521,
    "start_time": "2022-01-27T11:13:16.699Z"
   },
   {
    "duration": 10948,
    "start_time": "2022-01-27T11:20:00.415Z"
   },
   {
    "duration": 250,
    "start_time": "2022-01-27T12:42:48.300Z"
   },
   {
    "duration": 20,
    "start_time": "2022-01-27T12:42:59.717Z"
   },
   {
    "duration": 278,
    "start_time": "2022-01-27T12:45:33.417Z"
   },
   {
    "duration": 25,
    "start_time": "2022-01-27T12:45:43.078Z"
   },
   {
    "duration": 714,
    "start_time": "2022-01-27T12:47:12.267Z"
   },
   {
    "duration": 3,
    "start_time": "2022-01-27T12:54:35.050Z"
   },
   {
    "duration": 3,
    "start_time": "2022-01-27T12:54:35.845Z"
   },
   {
    "duration": 28,
    "start_time": "2022-01-27T12:54:45.138Z"
   },
   {
    "duration": 4,
    "start_time": "2022-01-27T12:55:18.472Z"
   },
   {
    "duration": 4,
    "start_time": "2022-01-27T12:55:19.205Z"
   },
   {
    "duration": 21,
    "start_time": "2022-01-27T12:55:19.771Z"
   },
   {
    "duration": 886,
    "start_time": "2022-01-27T12:56:22.426Z"
   },
   {
    "duration": 3,
    "start_time": "2022-01-27T13:00:58.504Z"
   },
   {
    "duration": 4,
    "start_time": "2022-01-27T13:00:58.984Z"
   },
   {
    "duration": 829,
    "start_time": "2022-01-27T13:00:59.409Z"
   },
   {
    "duration": 6,
    "start_time": "2022-01-28T07:40:14.953Z"
   },
   {
    "duration": 1291,
    "start_time": "2022-01-28T07:40:18.979Z"
   },
   {
    "duration": 32,
    "start_time": "2022-01-28T07:40:20.272Z"
   },
   {
    "duration": 16,
    "start_time": "2022-01-28T07:40:20.306Z"
   },
   {
    "duration": 10,
    "start_time": "2022-01-28T07:40:20.325Z"
   },
   {
    "duration": 12,
    "start_time": "2022-01-28T07:40:20.337Z"
   },
   {
    "duration": 6,
    "start_time": "2022-01-28T07:40:20.351Z"
   },
   {
    "duration": 12,
    "start_time": "2022-01-28T07:40:20.359Z"
   },
   {
    "duration": 44,
    "start_time": "2022-01-28T07:40:20.373Z"
   },
   {
    "duration": 6,
    "start_time": "2022-01-28T07:40:20.419Z"
   },
   {
    "duration": 13,
    "start_time": "2022-01-28T07:40:20.427Z"
   },
   {
    "duration": 11,
    "start_time": "2022-01-28T07:40:20.441Z"
   },
   {
    "duration": 221,
    "start_time": "2022-01-28T07:40:20.454Z"
   },
   {
    "duration": 5,
    "start_time": "2022-01-28T07:40:20.677Z"
   },
   {
    "duration": 47,
    "start_time": "2022-01-28T07:40:20.684Z"
   },
   {
    "duration": 77,
    "start_time": "2022-01-28T07:40:20.734Z"
   },
   {
    "duration": 671,
    "start_time": "2022-01-28T07:40:20.814Z"
   },
   {
    "duration": 12690,
    "start_time": "2022-01-28T07:40:21.487Z"
   },
   {
    "duration": 10522,
    "start_time": "2022-01-28T07:40:34.179Z"
   },
   {
    "duration": 3,
    "start_time": "2022-01-28T07:40:44.707Z"
   },
   {
    "duration": 10,
    "start_time": "2022-01-28T07:40:44.712Z"
   },
   {
    "duration": 905,
    "start_time": "2022-01-28T07:40:44.723Z"
   },
   {
    "duration": 5,
    "start_time": "2022-01-28T07:40:45.631Z"
   },
   {
    "duration": 4,
    "start_time": "2022-01-28T07:51:13.423Z"
   },
   {
    "duration": 39,
    "start_time": "2022-01-28T07:51:13.429Z"
   },
   {
    "duration": 13,
    "start_time": "2022-01-28T07:51:13.471Z"
   },
   {
    "duration": 8,
    "start_time": "2022-01-28T07:51:13.486Z"
   },
   {
    "duration": 26,
    "start_time": "2022-01-28T07:51:13.496Z"
   },
   {
    "duration": 5,
    "start_time": "2022-01-28T07:51:13.524Z"
   },
   {
    "duration": 12,
    "start_time": "2022-01-28T07:51:13.531Z"
   },
   {
    "duration": 23,
    "start_time": "2022-01-28T07:51:13.546Z"
   },
   {
    "duration": 7,
    "start_time": "2022-01-28T07:51:13.570Z"
   },
   {
    "duration": 33,
    "start_time": "2022-01-28T07:51:13.579Z"
   },
   {
    "duration": 6,
    "start_time": "2022-01-28T07:51:13.614Z"
   },
   {
    "duration": 230,
    "start_time": "2022-01-28T07:51:13.622Z"
   },
   {
    "duration": 4,
    "start_time": "2022-01-28T07:51:13.854Z"
   },
   {
    "duration": 54,
    "start_time": "2022-01-28T07:51:13.860Z"
   },
   {
    "duration": 91,
    "start_time": "2022-01-28T07:51:13.916Z"
   },
   {
    "duration": 700,
    "start_time": "2022-01-28T07:51:14.010Z"
   },
   {
    "duration": 13800,
    "start_time": "2022-01-28T07:51:14.712Z"
   },
   {
    "duration": 11458,
    "start_time": "2022-01-28T07:51:28.514Z"
   },
   {
    "duration": 3,
    "start_time": "2022-01-28T07:51:39.975Z"
   },
   {
    "duration": 10,
    "start_time": "2022-01-28T07:51:39.980Z"
   },
   {
    "duration": 922,
    "start_time": "2022-01-28T07:51:39.992Z"
   },
   {
    "duration": 4,
    "start_time": "2022-01-28T07:51:40.916Z"
   },
   {
    "duration": 25,
    "start_time": "2022-01-28T07:51:40.922Z"
   },
   {
    "duration": 7,
    "start_time": "2022-01-28T07:51:40.949Z"
   },
   {
    "duration": 443,
    "start_time": "2022-01-28T07:53:53.265Z"
   },
   {
    "duration": 5,
    "start_time": "2022-01-28T07:54:08.864Z"
   },
   {
    "duration": 236,
    "start_time": "2022-01-28T07:54:09.567Z"
   },
   {
    "duration": 236,
    "start_time": "2022-01-28T07:58:42.044Z"
   },
   {
    "duration": 5,
    "start_time": "2022-01-28T07:58:55.122Z"
   },
   {
    "duration": 233,
    "start_time": "2022-01-28T07:58:55.532Z"
   },
   {
    "duration": 10,
    "start_time": "2022-01-28T08:00:28.627Z"
   },
   {
    "duration": 1281,
    "start_time": "2022-01-28T08:00:29.494Z"
   },
   {
    "duration": 4,
    "start_time": "2022-01-28T08:31:29.135Z"
   },
   {
    "duration": 284,
    "start_time": "2022-01-28T08:31:30.327Z"
   },
   {
    "duration": 268,
    "start_time": "2022-01-28T08:31:52.547Z"
   },
   {
    "duration": 491,
    "start_time": "2022-01-28T08:31:58.617Z"
   },
   {
    "duration": 4,
    "start_time": "2022-01-28T08:44:54.377Z"
   },
   {
    "duration": 481,
    "start_time": "2022-01-28T08:44:54.711Z"
   },
   {
    "duration": 5,
    "start_time": "2022-01-28T08:46:50.282Z"
   },
   {
    "duration": 12,
    "start_time": "2022-01-28T08:46:50.807Z"
   },
   {
    "duration": 534,
    "start_time": "2022-01-28T08:46:52.517Z"
   },
   {
    "duration": 77967,
    "start_time": "2022-01-28T10:39:19.904Z"
   },
   {
    "duration": 27988,
    "start_time": "2022-01-28T10:40:57.356Z"
   },
   {
    "duration": 8428,
    "start_time": "2022-01-28T10:41:56.823Z"
   },
   {
    "duration": 11958,
    "start_time": "2022-01-28T10:42:34.913Z"
   },
   {
    "duration": 11443,
    "start_time": "2022-01-28T10:43:26.564Z"
   },
   {
    "duration": 5948,
    "start_time": "2022-01-28T10:43:46.686Z"
   },
   {
    "duration": 4449,
    "start_time": "2022-01-28T10:46:07.895Z"
   },
   {
    "duration": 4473,
    "start_time": "2022-01-28T10:46:26.309Z"
   },
   {
    "duration": 5783,
    "start_time": "2022-01-28T10:46:40.797Z"
   },
   {
    "duration": 13637,
    "start_time": "2022-01-28T10:47:42.611Z"
   },
   {
    "duration": 19586,
    "start_time": "2022-01-28T10:48:26.562Z"
   },
   {
    "duration": 6583,
    "start_time": "2022-01-28T10:50:24.613Z"
   },
   {
    "duration": 13869,
    "start_time": "2022-01-28T10:51:31.344Z"
   },
   {
    "duration": 21255,
    "start_time": "2022-01-28T11:30:31.343Z"
   },
   {
    "duration": 2222,
    "start_time": "2022-01-28T11:32:01.444Z"
   },
   {
    "duration": 6,
    "start_time": "2022-01-28T11:32:36.255Z"
   },
   {
    "duration": 2062,
    "start_time": "2022-01-28T11:32:46.070Z"
   },
   {
    "duration": 2155,
    "start_time": "2022-01-28T11:32:55.388Z"
   },
   {
    "duration": 183,
    "start_time": "2022-01-28T11:34:19.069Z"
   },
   {
    "duration": 1439,
    "start_time": "2022-01-28T12:00:49.544Z"
   },
   {
    "duration": 1550,
    "start_time": "2022-01-28T12:02:57.771Z"
   },
   {
    "duration": 6,
    "start_time": "2022-01-28T12:55:51.797Z"
   },
   {
    "duration": 4,
    "start_time": "2022-01-28T13:40:43.770Z"
   },
   {
    "duration": 37,
    "start_time": "2022-01-28T13:40:43.777Z"
   },
   {
    "duration": 23,
    "start_time": "2022-01-28T13:40:43.817Z"
   },
   {
    "duration": 18,
    "start_time": "2022-01-28T13:40:43.842Z"
   },
   {
    "duration": 19,
    "start_time": "2022-01-28T13:40:43.862Z"
   },
   {
    "duration": 20,
    "start_time": "2022-01-28T13:40:43.883Z"
   },
   {
    "duration": 28,
    "start_time": "2022-01-28T13:40:43.904Z"
   },
   {
    "duration": 31,
    "start_time": "2022-01-28T13:40:43.935Z"
   },
   {
    "duration": 6,
    "start_time": "2022-01-28T13:40:43.968Z"
   },
   {
    "duration": 21,
    "start_time": "2022-01-28T13:40:43.976Z"
   },
   {
    "duration": 15,
    "start_time": "2022-01-28T13:40:43.999Z"
   },
   {
    "duration": 210,
    "start_time": "2022-01-28T13:40:44.016Z"
   },
   {
    "duration": 5,
    "start_time": "2022-01-28T13:40:44.228Z"
   },
   {
    "duration": 54,
    "start_time": "2022-01-28T13:40:44.235Z"
   },
   {
    "duration": 37,
    "start_time": "2022-01-28T13:40:44.291Z"
   },
   {
    "duration": 685,
    "start_time": "2022-01-28T13:40:44.409Z"
   },
   {
    "duration": 12669,
    "start_time": "2022-01-28T13:40:45.096Z"
   },
   {
    "duration": 10572,
    "start_time": "2022-01-28T13:40:57.767Z"
   },
   {
    "duration": 4,
    "start_time": "2022-01-28T13:41:08.341Z"
   },
   {
    "duration": 23,
    "start_time": "2022-01-28T13:41:08.347Z"
   },
   {
    "duration": 907,
    "start_time": "2022-01-28T13:41:08.372Z"
   },
   {
    "duration": 5,
    "start_time": "2022-01-28T13:41:09.281Z"
   },
   {
    "duration": 24,
    "start_time": "2022-01-28T13:41:09.290Z"
   },
   {
    "duration": 1262,
    "start_time": "2022-01-28T13:41:09.317Z"
   },
   {
    "duration": 4,
    "start_time": "2022-01-28T13:41:10.581Z"
   },
   {
    "duration": 22,
    "start_time": "2022-01-28T13:41:10.587Z"
   },
   {
    "duration": 542,
    "start_time": "2022-01-28T13:41:10.611Z"
   },
   {
    "duration": 5986,
    "start_time": "2022-01-28T13:41:11.156Z"
   },
   {
    "duration": 5484,
    "start_time": "2022-01-28T13:41:17.144Z"
   },
   {
    "duration": 19929,
    "start_time": "2022-01-28T13:41:22.630Z"
   },
   {
    "duration": 6577,
    "start_time": "2022-01-28T13:41:42.562Z"
   },
   {
    "duration": 14252,
    "start_time": "2022-01-28T13:41:49.141Z"
   },
   {
    "duration": 1462,
    "start_time": "2022-01-28T13:42:03.395Z"
   },
   {
    "duration": 6,
    "start_time": "2022-01-28T13:42:04.859Z"
   },
   {
    "duration": 1618,
    "start_time": "2022-01-29T17:03:52.235Z"
   },
   {
    "duration": 47,
    "start_time": "2022-01-29T17:03:53.855Z"
   },
   {
    "duration": 25,
    "start_time": "2022-01-29T17:03:53.905Z"
   },
   {
    "duration": 6,
    "start_time": "2022-01-29T17:03:53.933Z"
   },
   {
    "duration": 12,
    "start_time": "2022-01-29T17:03:53.941Z"
   },
   {
    "duration": 29,
    "start_time": "2022-01-29T17:03:53.955Z"
   },
   {
    "duration": 16,
    "start_time": "2022-01-29T17:03:53.987Z"
   },
   {
    "duration": 34,
    "start_time": "2022-01-29T17:03:54.006Z"
   },
   {
    "duration": 10,
    "start_time": "2022-01-29T17:03:54.044Z"
   },
   {
    "duration": 14,
    "start_time": "2022-01-29T17:03:54.056Z"
   },
   {
    "duration": 512,
    "start_time": "2022-01-29T17:03:54.073Z"
   },
   {
    "duration": -372,
    "start_time": "2022-01-29T17:03:54.961Z"
   },
   {
    "duration": -377,
    "start_time": "2022-01-29T17:03:54.968Z"
   },
   {
    "duration": -378,
    "start_time": "2022-01-29T17:03:54.971Z"
   },
   {
    "duration": -380,
    "start_time": "2022-01-29T17:03:54.974Z"
   },
   {
    "duration": -385,
    "start_time": "2022-01-29T17:03:54.980Z"
   },
   {
    "duration": -387,
    "start_time": "2022-01-29T17:03:54.983Z"
   },
   {
    "duration": -388,
    "start_time": "2022-01-29T17:03:54.986Z"
   },
   {
    "duration": -393,
    "start_time": "2022-01-29T17:03:54.992Z"
   },
   {
    "duration": -397,
    "start_time": "2022-01-29T17:03:54.997Z"
   },
   {
    "duration": -398,
    "start_time": "2022-01-29T17:03:55.000Z"
   },
   {
    "duration": -401,
    "start_time": "2022-01-29T17:03:55.004Z"
   },
   {
    "duration": -434,
    "start_time": "2022-01-29T17:03:55.038Z"
   },
   {
    "duration": -436,
    "start_time": "2022-01-29T17:03:55.042Z"
   },
   {
    "duration": -461,
    "start_time": "2022-01-29T17:03:55.068Z"
   },
   {
    "duration": -464,
    "start_time": "2022-01-29T17:03:55.073Z"
   },
   {
    "duration": -466,
    "start_time": "2022-01-29T17:03:55.076Z"
   },
   {
    "duration": -480,
    "start_time": "2022-01-29T17:03:55.091Z"
   },
   {
    "duration": -486,
    "start_time": "2022-01-29T17:03:55.098Z"
   },
   {
    "duration": -488,
    "start_time": "2022-01-29T17:03:55.102Z"
   },
   {
    "duration": -490,
    "start_time": "2022-01-29T17:03:55.105Z"
   },
   {
    "duration": -491,
    "start_time": "2022-01-29T17:03:55.108Z"
   },
   {
    "duration": -527,
    "start_time": "2022-01-29T17:03:55.145Z"
   },
   {
    "duration": -543,
    "start_time": "2022-01-29T17:03:55.162Z"
   },
   {
    "duration": -546,
    "start_time": "2022-01-29T17:03:55.167Z"
   },
   {
    "duration": 381,
    "start_time": "2022-01-29T17:04:06.882Z"
   },
   {
    "duration": 9,
    "start_time": "2022-01-29T17:04:30.436Z"
   },
   {
    "duration": 561,
    "start_time": "2022-01-29T17:05:05.225Z"
   },
   {
    "duration": 6,
    "start_time": "2022-01-29T17:05:37.506Z"
   },
   {
    "duration": 24,
    "start_time": "2022-01-29T17:05:56.417Z"
   },
   {
    "duration": 6,
    "start_time": "2022-01-29T17:06:02.611Z"
   },
   {
    "duration": 5,
    "start_time": "2022-01-29T17:06:17.820Z"
   },
   {
    "duration": 6,
    "start_time": "2022-01-29T17:08:25.531Z"
   },
   {
    "duration": 5,
    "start_time": "2022-01-29T17:08:50.725Z"
   },
   {
    "duration": 5,
    "start_time": "2022-01-29T17:09:03.096Z"
   },
   {
    "duration": 11,
    "start_time": "2022-01-29T17:15:07.988Z"
   },
   {
    "duration": 8,
    "start_time": "2022-01-29T17:15:08.547Z"
   },
   {
    "duration": 8,
    "start_time": "2022-01-29T17:15:08.967Z"
   },
   {
    "duration": 6,
    "start_time": "2022-01-29T17:16:09.194Z"
   },
   {
    "duration": 37,
    "start_time": "2022-01-29T17:16:09.204Z"
   },
   {
    "duration": 19,
    "start_time": "2022-01-29T17:16:09.244Z"
   },
   {
    "duration": 24,
    "start_time": "2022-01-29T17:16:09.265Z"
   },
   {
    "duration": 29,
    "start_time": "2022-01-29T17:16:09.291Z"
   },
   {
    "duration": 7,
    "start_time": "2022-01-29T17:16:09.323Z"
   },
   {
    "duration": 15,
    "start_time": "2022-01-29T17:16:09.333Z"
   },
   {
    "duration": 36,
    "start_time": "2022-01-29T17:16:09.375Z"
   },
   {
    "duration": 7,
    "start_time": "2022-01-29T17:16:09.414Z"
   },
   {
    "duration": 10,
    "start_time": "2022-01-29T17:16:09.424Z"
   },
   {
    "duration": 41,
    "start_time": "2022-01-29T17:16:09.437Z"
   },
   {
    "duration": 16,
    "start_time": "2022-01-29T17:16:09.481Z"
   },
   {
    "duration": 352,
    "start_time": "2022-01-29T17:16:09.500Z"
   },
   {
    "duration": 18,
    "start_time": "2022-01-29T17:16:09.855Z"
   },
   {
    "duration": 69,
    "start_time": "2022-01-29T17:16:09.876Z"
   },
   {
    "duration": 132,
    "start_time": "2022-01-29T17:16:09.948Z"
   },
   {
    "duration": 755,
    "start_time": "2022-01-29T17:16:10.089Z"
   },
   {
    "duration": 16717,
    "start_time": "2022-01-29T17:16:10.846Z"
   },
   {
    "duration": 13365,
    "start_time": "2022-01-29T17:16:27.565Z"
   },
   {
    "duration": 4,
    "start_time": "2022-01-29T17:16:40.933Z"
   },
   {
    "duration": 10,
    "start_time": "2022-01-29T17:16:40.940Z"
   },
   {
    "duration": 1033,
    "start_time": "2022-01-29T17:16:40.953Z"
   },
   {
    "duration": 6,
    "start_time": "2022-01-29T17:16:41.991Z"
   },
   {
    "duration": 15,
    "start_time": "2022-01-29T17:16:41.999Z"
   },
   {
    "duration": 1377,
    "start_time": "2022-01-29T17:16:42.016Z"
   },
   {
    "duration": 8,
    "start_time": "2022-01-29T17:16:43.395Z"
   },
   {
    "duration": 15,
    "start_time": "2022-01-29T17:16:43.405Z"
   },
   {
    "duration": 594,
    "start_time": "2022-01-29T17:16:43.422Z"
   },
   {
    "duration": 7225,
    "start_time": "2022-01-29T17:16:44.019Z"
   },
   {
    "duration": 6856,
    "start_time": "2022-01-29T17:16:51.246Z"
   },
   {
    "duration": 25071,
    "start_time": "2022-01-29T17:16:58.105Z"
   },
   {
    "duration": 9158,
    "start_time": "2022-01-29T17:17:23.180Z"
   },
   {
    "duration": 18005,
    "start_time": "2022-01-29T17:17:32.341Z"
   },
   {
    "duration": 1935,
    "start_time": "2022-01-29T17:17:50.348Z"
   },
   {
    "duration": 7,
    "start_time": "2022-01-29T17:17:52.286Z"
   },
   {
    "duration": 276,
    "start_time": "2022-01-29T17:42:47.312Z"
   },
   {
    "duration": 320,
    "start_time": "2022-01-29T17:43:12.095Z"
   },
   {
    "duration": 679,
    "start_time": "2022-01-29T17:43:22.094Z"
   },
   {
    "duration": 666,
    "start_time": "2022-01-29T17:43:57.953Z"
   },
   {
    "duration": 657,
    "start_time": "2022-01-29T17:45:21.232Z"
   },
   {
    "duration": 645,
    "start_time": "2022-01-29T17:45:45.359Z"
   },
   {
    "duration": 652,
    "start_time": "2022-01-29T17:45:55.766Z"
   },
   {
    "duration": 14568,
    "start_time": "2022-01-29T17:54:22.601Z"
   },
   {
    "duration": 14717,
    "start_time": "2022-01-29T17:55:07.881Z"
   },
   {
    "duration": 11425,
    "start_time": "2022-01-29T17:58:20.777Z"
   },
   {
    "duration": 7,
    "start_time": "2022-01-29T17:59:14.509Z"
   },
   {
    "duration": 38,
    "start_time": "2022-01-29T17:59:14.519Z"
   },
   {
    "duration": 20,
    "start_time": "2022-01-29T17:59:14.559Z"
   },
   {
    "duration": 6,
    "start_time": "2022-01-29T17:59:14.582Z"
   },
   {
    "duration": 16,
    "start_time": "2022-01-29T17:59:14.590Z"
   },
   {
    "duration": 6,
    "start_time": "2022-01-29T17:59:14.608Z"
   },
   {
    "duration": 15,
    "start_time": "2022-01-29T17:59:14.616Z"
   },
   {
    "duration": 65,
    "start_time": "2022-01-29T17:59:14.635Z"
   },
   {
    "duration": 8,
    "start_time": "2022-01-29T17:59:14.703Z"
   },
   {
    "duration": 9,
    "start_time": "2022-01-29T17:59:14.713Z"
   },
   {
    "duration": 44,
    "start_time": "2022-01-29T17:59:14.725Z"
   },
   {
    "duration": 9,
    "start_time": "2022-01-29T17:59:14.772Z"
   },
   {
    "duration": 413,
    "start_time": "2022-01-29T17:59:14.784Z"
   },
   {
    "duration": 6,
    "start_time": "2022-01-29T17:59:15.200Z"
   },
   {
    "duration": 61,
    "start_time": "2022-01-29T17:59:15.208Z"
   },
   {
    "duration": 99,
    "start_time": "2022-01-29T17:59:15.272Z"
   },
   {
    "duration": 795,
    "start_time": "2022-01-29T17:59:15.374Z"
   },
   {
    "duration": 15147,
    "start_time": "2022-01-29T17:59:16.172Z"
   },
   {
    "duration": 11920,
    "start_time": "2022-01-29T17:59:31.324Z"
   },
   {
    "duration": 5,
    "start_time": "2022-01-29T17:59:43.247Z"
   },
   {
    "duration": 17,
    "start_time": "2022-01-29T17:59:43.254Z"
   },
   {
    "duration": 974,
    "start_time": "2022-01-29T17:59:43.273Z"
   },
   {
    "duration": 5,
    "start_time": "2022-01-29T17:59:44.250Z"
   },
   {
    "duration": 15,
    "start_time": "2022-01-29T17:59:44.270Z"
   },
   {
    "duration": 1395,
    "start_time": "2022-01-29T17:59:44.287Z"
   },
   {
    "duration": 5,
    "start_time": "2022-01-29T17:59:45.685Z"
   },
   {
    "duration": 17,
    "start_time": "2022-01-29T17:59:45.693Z"
   },
   {
    "duration": 570,
    "start_time": "2022-01-29T17:59:45.713Z"
   },
   {
    "duration": 7131,
    "start_time": "2022-01-29T17:59:46.285Z"
   },
   {
    "duration": 6607,
    "start_time": "2022-01-29T17:59:53.418Z"
   },
   {
    "duration": 23830,
    "start_time": "2022-01-29T18:00:00.027Z"
   },
   {
    "duration": 7992,
    "start_time": "2022-01-29T18:00:23.860Z"
   },
   {
    "duration": 16829,
    "start_time": "2022-01-29T18:00:31.855Z"
   },
   {
    "duration": 1826,
    "start_time": "2022-01-29T18:00:48.687Z"
   },
   {
    "duration": 7,
    "start_time": "2022-01-29T18:00:50.515Z"
   },
   {
    "duration": 6,
    "start_time": "2022-01-29T18:03:10.261Z"
   },
   {
    "duration": 47,
    "start_time": "2022-01-29T18:03:10.270Z"
   },
   {
    "duration": 52,
    "start_time": "2022-01-29T18:03:10.321Z"
   },
   {
    "duration": 8,
    "start_time": "2022-01-29T18:03:10.377Z"
   },
   {
    "duration": 16,
    "start_time": "2022-01-29T18:03:10.388Z"
   },
   {
    "duration": 8,
    "start_time": "2022-01-29T18:03:10.407Z"
   },
   {
    "duration": 63,
    "start_time": "2022-01-29T18:03:10.418Z"
   },
   {
    "duration": 49,
    "start_time": "2022-01-29T18:03:10.487Z"
   },
   {
    "duration": 31,
    "start_time": "2022-01-29T18:03:10.540Z"
   },
   {
    "duration": 13,
    "start_time": "2022-01-29T18:03:10.574Z"
   },
   {
    "duration": 10,
    "start_time": "2022-01-29T18:03:10.590Z"
   },
   {
    "duration": 12,
    "start_time": "2022-01-29T18:03:10.603Z"
   },
   {
    "duration": 496,
    "start_time": "2022-01-29T18:03:10.618Z"
   },
   {
    "duration": 7,
    "start_time": "2022-01-29T18:03:11.117Z"
   },
   {
    "duration": 58,
    "start_time": "2022-01-29T18:03:11.126Z"
   },
   {
    "duration": 88,
    "start_time": "2022-01-29T18:03:11.187Z"
   },
   {
    "duration": 761,
    "start_time": "2022-01-29T18:03:11.279Z"
   },
   {
    "duration": 14571,
    "start_time": "2022-01-29T18:03:12.042Z"
   },
   {
    "duration": 11437,
    "start_time": "2022-01-29T18:03:26.615Z"
   },
   {
    "duration": 4,
    "start_time": "2022-01-29T18:03:38.055Z"
   },
   {
    "duration": 24,
    "start_time": "2022-01-29T18:03:38.070Z"
   },
   {
    "duration": 949,
    "start_time": "2022-01-29T18:03:38.096Z"
   },
   {
    "duration": 5,
    "start_time": "2022-01-29T18:03:39.050Z"
   },
   {
    "duration": 13,
    "start_time": "2022-01-29T18:03:39.068Z"
   },
   {
    "duration": 1366,
    "start_time": "2022-01-29T18:03:39.084Z"
   },
   {
    "duration": 6,
    "start_time": "2022-01-29T18:03:40.452Z"
   },
   {
    "duration": 12,
    "start_time": "2022-01-29T18:03:40.469Z"
   },
   {
    "duration": 613,
    "start_time": "2022-01-29T18:03:40.484Z"
   },
   {
    "duration": 6893,
    "start_time": "2022-01-29T18:03:41.100Z"
   },
   {
    "duration": 6651,
    "start_time": "2022-01-29T18:03:47.995Z"
   },
   {
    "duration": 24024,
    "start_time": "2022-01-29T18:03:54.649Z"
   },
   {
    "duration": 7970,
    "start_time": "2022-01-29T18:04:18.675Z"
   },
   {
    "duration": 16943,
    "start_time": "2022-01-29T18:04:26.647Z"
   },
   {
    "duration": 1853,
    "start_time": "2022-01-29T18:04:43.592Z"
   },
   {
    "duration": 7,
    "start_time": "2022-01-29T18:04:45.447Z"
   },
   {
    "duration": 4807,
    "start_time": "2022-01-29T18:21:13.864Z"
   },
   {
    "duration": 4455,
    "start_time": "2022-01-29T18:21:31.207Z"
   },
   {
    "duration": 88,
    "start_time": "2022-01-29T18:22:54.887Z"
   },
   {
    "duration": 4810,
    "start_time": "2022-01-29T18:24:03.824Z"
   },
   {
    "duration": 6,
    "start_time": "2022-01-29T18:26:54.964Z"
   },
   {
    "duration": 33,
    "start_time": "2022-01-29T18:26:54.973Z"
   },
   {
    "duration": 19,
    "start_time": "2022-01-29T18:26:55.009Z"
   },
   {
    "duration": 38,
    "start_time": "2022-01-29T18:26:55.031Z"
   },
   {
    "duration": 19,
    "start_time": "2022-01-29T18:26:55.072Z"
   },
   {
    "duration": 8,
    "start_time": "2022-01-29T18:26:55.094Z"
   },
   {
    "duration": 16,
    "start_time": "2022-01-29T18:26:55.105Z"
   },
   {
    "duration": 74,
    "start_time": "2022-01-29T18:26:55.125Z"
   },
   {
    "duration": 7,
    "start_time": "2022-01-29T18:26:55.203Z"
   },
   {
    "duration": 15,
    "start_time": "2022-01-29T18:26:55.213Z"
   },
   {
    "duration": 38,
    "start_time": "2022-01-29T18:26:55.231Z"
   },
   {
    "duration": 10,
    "start_time": "2022-01-29T18:26:55.271Z"
   },
   {
    "duration": 356,
    "start_time": "2022-01-29T18:26:55.283Z"
   },
   {
    "duration": 6,
    "start_time": "2022-01-29T18:26:55.642Z"
   },
   {
    "duration": 54,
    "start_time": "2022-01-29T18:26:55.651Z"
   },
   {
    "duration": 63,
    "start_time": "2022-01-29T18:26:55.708Z"
   },
   {
    "duration": 797,
    "start_time": "2022-01-29T18:26:55.774Z"
   },
   {
    "duration": 14504,
    "start_time": "2022-01-29T18:26:56.573Z"
   },
   {
    "duration": 11412,
    "start_time": "2022-01-29T18:27:11.079Z"
   },
   {
    "duration": 5,
    "start_time": "2022-01-29T18:27:22.493Z"
   },
   {
    "duration": 14,
    "start_time": "2022-01-29T18:27:22.500Z"
   },
   {
    "duration": 984,
    "start_time": "2022-01-29T18:27:22.516Z"
   },
   {
    "duration": 6,
    "start_time": "2022-01-29T18:27:23.507Z"
   },
   {
    "duration": 14,
    "start_time": "2022-01-29T18:27:23.517Z"
   },
   {
    "duration": 1386,
    "start_time": "2022-01-29T18:27:23.534Z"
   },
   {
    "duration": 7,
    "start_time": "2022-01-29T18:27:24.923Z"
   },
   {
    "duration": 36,
    "start_time": "2022-01-29T18:27:24.933Z"
   },
   {
    "duration": 636,
    "start_time": "2022-01-29T18:27:24.971Z"
   },
   {
    "duration": 4784,
    "start_time": "2022-01-29T18:27:25.610Z"
   },
   {
    "duration": 4530,
    "start_time": "2022-01-29T18:27:30.397Z"
   },
   {
    "duration": 17994,
    "start_time": "2022-01-29T18:27:34.930Z"
   },
   {
    "duration": 5969,
    "start_time": "2022-01-29T18:27:52.927Z"
   },
   {
    "duration": 12752,
    "start_time": "2022-01-29T18:27:58.898Z"
   },
   {
    "duration": 1355,
    "start_time": "2022-01-29T18:28:11.652Z"
   },
   {
    "duration": 7,
    "start_time": "2022-01-29T18:28:13.010Z"
   },
   {
    "duration": 8694,
    "start_time": "2022-01-29T18:32:00.137Z"
   },
   {
    "duration": 1351,
    "start_time": "2022-01-29T18:32:42.125Z"
   },
   {
    "duration": 8,
    "start_time": "2022-01-29T18:32:43.479Z"
   },
   {
    "duration": 589,
    "start_time": "2022-01-31T06:14:00.366Z"
   },
   {
    "duration": 1102,
    "start_time": "2022-01-31T06:14:04.821Z"
   },
   {
    "duration": 26,
    "start_time": "2022-01-31T06:14:05.925Z"
   },
   {
    "duration": 13,
    "start_time": "2022-01-31T06:14:05.953Z"
   },
   {
    "duration": 4,
    "start_time": "2022-01-31T06:14:05.967Z"
   },
   {
    "duration": 19,
    "start_time": "2022-01-31T06:14:05.972Z"
   },
   {
    "duration": 20,
    "start_time": "2022-01-31T06:14:05.992Z"
   },
   {
    "duration": 26,
    "start_time": "2022-01-31T06:14:06.013Z"
   },
   {
    "duration": 20,
    "start_time": "2022-01-31T06:14:06.041Z"
   },
   {
    "duration": 8,
    "start_time": "2022-01-31T06:14:06.063Z"
   },
   {
    "duration": 17,
    "start_time": "2022-01-31T06:14:06.073Z"
   },
   {
    "duration": 16,
    "start_time": "2022-01-31T06:14:06.092Z"
   },
   {
    "duration": 13,
    "start_time": "2022-01-31T06:14:06.109Z"
   },
   {
    "duration": 177,
    "start_time": "2022-01-31T06:14:06.124Z"
   },
   {
    "duration": 5,
    "start_time": "2022-01-31T06:14:06.303Z"
   },
   {
    "duration": 37,
    "start_time": "2022-01-31T06:14:06.309Z"
   },
   {
    "duration": 20,
    "start_time": "2022-01-31T06:14:06.348Z"
   },
   {
    "duration": 544,
    "start_time": "2022-01-31T06:14:06.370Z"
   },
   {
    "duration": 8494,
    "start_time": "2022-01-31T06:14:06.916Z"
   },
   {
    "duration": 6728,
    "start_time": "2022-01-31T06:14:15.412Z"
   },
   {
    "duration": 2,
    "start_time": "2022-01-31T06:14:22.142Z"
   },
   {
    "duration": 8,
    "start_time": "2022-01-31T06:14:22.146Z"
   },
   {
    "duration": 631,
    "start_time": "2022-01-31T06:14:22.156Z"
   },
   {
    "duration": 3,
    "start_time": "2022-01-31T06:14:22.790Z"
   },
   {
    "duration": 15,
    "start_time": "2022-01-31T06:14:22.795Z"
   },
   {
    "duration": 857,
    "start_time": "2022-01-31T06:14:22.812Z"
   },
   {
    "duration": 3,
    "start_time": "2022-01-31T06:14:23.671Z"
   },
   {
    "duration": 13,
    "start_time": "2022-01-31T06:14:23.676Z"
   },
   {
    "duration": 412,
    "start_time": "2022-01-31T06:14:23.690Z"
   },
   {
    "duration": 2746,
    "start_time": "2022-01-31T06:14:24.104Z"
   },
   {
    "duration": 2697,
    "start_time": "2022-01-31T06:14:26.851Z"
   },
   {
    "duration": 11048,
    "start_time": "2022-01-31T06:14:29.550Z"
   },
   {
    "duration": 4903,
    "start_time": "2022-01-31T06:14:40.600Z"
   },
   {
    "duration": 7718,
    "start_time": "2022-01-31T06:14:45.505Z"
   },
   {
    "duration": 382,
    "start_time": "2022-01-31T06:14:53.227Z"
   },
   {
    "duration": -832,
    "start_time": "2022-01-31T06:14:54.442Z"
   },
   {
    "duration": -835,
    "start_time": "2022-01-31T06:14:54.446Z"
   },
   {
    "duration": 402,
    "start_time": "2022-01-31T06:16:34.248Z"
   },
   {
    "duration": 661,
    "start_time": "2022-01-31T06:18:34.575Z"
   },
   {
    "duration": 634,
    "start_time": "2022-01-31T06:20:44.689Z"
   },
   {
    "duration": 4,
    "start_time": "2022-01-31T06:29:08.152Z"
   },
   {
    "duration": 34,
    "start_time": "2022-01-31T06:29:08.157Z"
   },
   {
    "duration": 10,
    "start_time": "2022-01-31T06:29:08.193Z"
   },
   {
    "duration": 7,
    "start_time": "2022-01-31T06:29:08.205Z"
   },
   {
    "duration": 10,
    "start_time": "2022-01-31T06:29:08.213Z"
   },
   {
    "duration": 5,
    "start_time": "2022-01-31T06:29:08.225Z"
   },
   {
    "duration": 9,
    "start_time": "2022-01-31T06:29:08.233Z"
   },
   {
    "duration": 18,
    "start_time": "2022-01-31T06:29:08.243Z"
   },
   {
    "duration": 4,
    "start_time": "2022-01-31T06:29:08.263Z"
   },
   {
    "duration": 6,
    "start_time": "2022-01-31T06:29:08.268Z"
   },
   {
    "duration": 6,
    "start_time": "2022-01-31T06:29:08.275Z"
   },
   {
    "duration": 46,
    "start_time": "2022-01-31T06:29:08.283Z"
   },
   {
    "duration": 170,
    "start_time": "2022-01-31T06:29:08.331Z"
   },
   {
    "duration": 4,
    "start_time": "2022-01-31T06:29:08.503Z"
   },
   {
    "duration": 36,
    "start_time": "2022-01-31T06:29:08.508Z"
   },
   {
    "duration": 18,
    "start_time": "2022-01-31T06:29:08.545Z"
   },
   {
    "duration": 535,
    "start_time": "2022-01-31T06:29:08.629Z"
   },
   {
    "duration": 8665,
    "start_time": "2022-01-31T06:29:09.166Z"
   },
   {
    "duration": 6676,
    "start_time": "2022-01-31T06:29:17.834Z"
   },
   {
    "duration": 3,
    "start_time": "2022-01-31T06:29:24.512Z"
   },
   {
    "duration": 3,
    "start_time": "2022-01-31T06:29:24.526Z"
   },
   {
    "duration": 645,
    "start_time": "2022-01-31T06:29:24.530Z"
   },
   {
    "duration": 3,
    "start_time": "2022-01-31T06:29:25.177Z"
   },
   {
    "duration": 13,
    "start_time": "2022-01-31T06:29:25.182Z"
   },
   {
    "duration": 873,
    "start_time": "2022-01-31T06:29:25.196Z"
   },
   {
    "duration": 4,
    "start_time": "2022-01-31T06:29:26.070Z"
   },
   {
    "duration": 23,
    "start_time": "2022-01-31T06:29:26.075Z"
   },
   {
    "duration": 468,
    "start_time": "2022-01-31T06:29:26.099Z"
   },
   {
    "duration": 2779,
    "start_time": "2022-01-31T06:29:26.569Z"
   },
   {
    "duration": 2686,
    "start_time": "2022-01-31T06:29:29.350Z"
   },
   {
    "duration": 10352,
    "start_time": "2022-01-31T06:29:32.038Z"
   },
   {
    "duration": 4822,
    "start_time": "2022-01-31T06:29:42.392Z"
   },
   {
    "duration": 7579,
    "start_time": "2022-01-31T06:29:47.216Z"
   },
   {
    "duration": 675,
    "start_time": "2022-01-31T06:29:54.796Z"
   },
   {
    "duration": 843,
    "start_time": "2022-01-31T06:29:55.472Z"
   },
   {
    "duration": 12,
    "start_time": "2022-01-31T06:29:56.316Z"
   },
   {
    "duration": 4,
    "start_time": "2022-01-31T06:30:48.913Z"
   },
   {
    "duration": 29,
    "start_time": "2022-01-31T06:30:48.919Z"
   },
   {
    "duration": 10,
    "start_time": "2022-01-31T06:30:48.950Z"
   },
   {
    "duration": 5,
    "start_time": "2022-01-31T06:30:48.962Z"
   },
   {
    "duration": 8,
    "start_time": "2022-01-31T06:30:48.969Z"
   },
   {
    "duration": 4,
    "start_time": "2022-01-31T06:30:48.978Z"
   },
   {
    "duration": 8,
    "start_time": "2022-01-31T06:30:48.984Z"
   },
   {
    "duration": 47,
    "start_time": "2022-01-31T06:30:48.994Z"
   },
   {
    "duration": 5,
    "start_time": "2022-01-31T06:30:49.043Z"
   },
   {
    "duration": 7,
    "start_time": "2022-01-31T06:30:49.049Z"
   },
   {
    "duration": 5,
    "start_time": "2022-01-31T06:30:49.058Z"
   },
   {
    "duration": 6,
    "start_time": "2022-01-31T06:30:49.065Z"
   },
   {
    "duration": 201,
    "start_time": "2022-01-31T06:30:49.073Z"
   },
   {
    "duration": 5,
    "start_time": "2022-01-31T06:30:49.276Z"
   },
   {
    "duration": 27,
    "start_time": "2022-01-31T06:30:49.283Z"
   },
   {
    "duration": 114,
    "start_time": "2022-01-31T06:30:49.312Z"
   },
   {
    "duration": 520,
    "start_time": "2022-01-31T06:30:49.429Z"
   },
   {
    "duration": 8699,
    "start_time": "2022-01-31T06:30:49.951Z"
   },
   {
    "duration": 7154,
    "start_time": "2022-01-31T06:30:58.653Z"
   },
   {
    "duration": 3,
    "start_time": "2022-01-31T06:31:05.809Z"
   },
   {
    "duration": 6,
    "start_time": "2022-01-31T06:31:05.813Z"
   },
   {
    "duration": 685,
    "start_time": "2022-01-31T06:31:05.821Z"
   },
   {
    "duration": 4,
    "start_time": "2022-01-31T06:31:06.508Z"
   },
   {
    "duration": 28,
    "start_time": "2022-01-31T06:31:06.514Z"
   },
   {
    "duration": 841,
    "start_time": "2022-01-31T06:31:06.544Z"
   },
   {
    "duration": 4,
    "start_time": "2022-01-31T06:31:07.387Z"
   },
   {
    "duration": 22,
    "start_time": "2022-01-31T06:31:07.393Z"
   },
   {
    "duration": 455,
    "start_time": "2022-01-31T06:31:07.416Z"
   },
   {
    "duration": 2785,
    "start_time": "2022-01-31T06:31:07.873Z"
   },
   {
    "duration": 2702,
    "start_time": "2022-01-31T06:31:10.660Z"
   },
   {
    "duration": 10364,
    "start_time": "2022-01-31T06:31:13.363Z"
   },
   {
    "duration": 4757,
    "start_time": "2022-01-31T06:31:23.729Z"
   },
   {
    "duration": 7428,
    "start_time": "2022-01-31T06:31:28.488Z"
   },
   {
    "duration": 637,
    "start_time": "2022-01-31T06:31:35.917Z"
   },
   {
    "duration": 787,
    "start_time": "2022-01-31T06:31:36.556Z"
   },
   {
    "duration": 6,
    "start_time": "2022-01-31T06:31:37.345Z"
   },
   {
    "duration": 3,
    "start_time": "2022-01-31T06:35:50.132Z"
   },
   {
    "duration": 4,
    "start_time": "2022-01-31T06:37:37.956Z"
   },
   {
    "duration": 30,
    "start_time": "2022-01-31T06:37:37.961Z"
   },
   {
    "duration": 12,
    "start_time": "2022-01-31T06:37:37.994Z"
   },
   {
    "duration": 6,
    "start_time": "2022-01-31T06:37:38.008Z"
   },
   {
    "duration": 10,
    "start_time": "2022-01-31T06:37:38.015Z"
   },
   {
    "duration": 11,
    "start_time": "2022-01-31T06:37:38.026Z"
   },
   {
    "duration": 8,
    "start_time": "2022-01-31T06:37:38.039Z"
   },
   {
    "duration": 18,
    "start_time": "2022-01-31T06:37:38.049Z"
   },
   {
    "duration": 5,
    "start_time": "2022-01-31T06:37:38.068Z"
   },
   {
    "duration": 5,
    "start_time": "2022-01-31T06:37:38.074Z"
   },
   {
    "duration": 7,
    "start_time": "2022-01-31T06:37:38.081Z"
   },
   {
    "duration": 6,
    "start_time": "2022-01-31T06:37:38.089Z"
   },
   {
    "duration": 184,
    "start_time": "2022-01-31T06:37:38.127Z"
   },
   {
    "duration": 4,
    "start_time": "2022-01-31T06:37:38.312Z"
   },
   {
    "duration": 33,
    "start_time": "2022-01-31T06:37:38.317Z"
   },
   {
    "duration": 15,
    "start_time": "2022-01-31T06:37:38.352Z"
   },
   {
    "duration": 516,
    "start_time": "2022-01-31T06:37:38.368Z"
   },
   {
    "duration": 7625,
    "start_time": "2022-01-31T06:37:38.885Z"
   },
   {
    "duration": 5949,
    "start_time": "2022-01-31T06:37:46.513Z"
   },
   {
    "duration": 2,
    "start_time": "2022-01-31T06:37:52.464Z"
   },
   {
    "duration": 7,
    "start_time": "2022-01-31T06:37:52.468Z"
   },
   {
    "duration": 556,
    "start_time": "2022-01-31T06:37:52.477Z"
   },
   {
    "duration": 3,
    "start_time": "2022-01-31T06:37:53.035Z"
   },
   {
    "duration": 13,
    "start_time": "2022-01-31T06:37:53.039Z"
   },
   {
    "duration": 778,
    "start_time": "2022-01-31T06:37:53.053Z"
   },
   {
    "duration": 4,
    "start_time": "2022-01-31T06:37:53.833Z"
   },
   {
    "duration": 15,
    "start_time": "2022-01-31T06:37:53.839Z"
   },
   {
    "duration": 509,
    "start_time": "2022-01-31T06:37:53.855Z"
   },
   {
    "duration": 2654,
    "start_time": "2022-01-31T06:37:54.366Z"
   },
   {
    "duration": 2554,
    "start_time": "2022-01-31T06:37:57.022Z"
   },
   {
    "duration": 9190,
    "start_time": "2022-01-31T06:37:59.577Z"
   },
   {
    "duration": 4455,
    "start_time": "2022-01-31T06:38:08.769Z"
   },
   {
    "duration": 6715,
    "start_time": "2022-01-31T06:38:13.225Z"
   },
   {
    "duration": 582,
    "start_time": "2022-01-31T06:38:19.942Z"
   },
   {
    "duration": 867,
    "start_time": "2022-01-31T06:38:20.527Z"
   },
   {
    "duration": 6,
    "start_time": "2022-01-31T06:38:21.396Z"
   },
   {
    "duration": 4,
    "start_time": "2022-01-31T06:38:53.420Z"
   },
   {
    "duration": 26,
    "start_time": "2022-01-31T06:38:53.440Z"
   },
   {
    "duration": 10,
    "start_time": "2022-01-31T06:38:53.468Z"
   },
   {
    "duration": 6,
    "start_time": "2022-01-31T06:38:53.480Z"
   },
   {
    "duration": 9,
    "start_time": "2022-01-31T06:38:53.488Z"
   },
   {
    "duration": 3,
    "start_time": "2022-01-31T06:38:53.499Z"
   },
   {
    "duration": 12,
    "start_time": "2022-01-31T06:38:53.503Z"
   },
   {
    "duration": 26,
    "start_time": "2022-01-31T06:38:53.516Z"
   },
   {
    "duration": 6,
    "start_time": "2022-01-31T06:38:53.544Z"
   },
   {
    "duration": 7,
    "start_time": "2022-01-31T06:38:53.554Z"
   },
   {
    "duration": 5,
    "start_time": "2022-01-31T06:38:53.564Z"
   },
   {
    "duration": 7,
    "start_time": "2022-01-31T06:38:53.570Z"
   },
   {
    "duration": 217,
    "start_time": "2022-01-31T06:38:53.578Z"
   },
   {
    "duration": 4,
    "start_time": "2022-01-31T06:38:53.796Z"
   },
   {
    "duration": 38,
    "start_time": "2022-01-31T06:38:53.802Z"
   },
   {
    "duration": 88,
    "start_time": "2022-01-31T06:38:53.842Z"
   },
   {
    "duration": 545,
    "start_time": "2022-01-31T06:38:53.932Z"
   },
   {
    "duration": 9187,
    "start_time": "2022-01-31T06:38:54.478Z"
   },
   {
    "duration": 6801,
    "start_time": "2022-01-31T06:39:03.669Z"
   },
   {
    "duration": 3,
    "start_time": "2022-01-31T06:39:10.472Z"
   },
   {
    "duration": 7,
    "start_time": "2022-01-31T06:39:10.476Z"
   },
   {
    "duration": 640,
    "start_time": "2022-01-31T06:39:10.485Z"
   },
   {
    "duration": 3,
    "start_time": "2022-01-31T06:39:11.127Z"
   },
   {
    "duration": 16,
    "start_time": "2022-01-31T06:39:11.131Z"
   },
   {
    "duration": 841,
    "start_time": "2022-01-31T06:39:11.148Z"
   },
   {
    "duration": 4,
    "start_time": "2022-01-31T06:39:11.990Z"
   },
   {
    "duration": 15,
    "start_time": "2022-01-31T06:39:11.995Z"
   },
   {
    "duration": 460,
    "start_time": "2022-01-31T06:39:12.013Z"
   },
   {
    "duration": 2876,
    "start_time": "2022-01-31T06:39:12.475Z"
   },
   {
    "duration": 2650,
    "start_time": "2022-01-31T06:39:15.353Z"
   },
   {
    "duration": 10352,
    "start_time": "2022-01-31T06:39:18.005Z"
   },
   {
    "duration": 4808,
    "start_time": "2022-01-31T06:39:28.358Z"
   },
   {
    "duration": 7367,
    "start_time": "2022-01-31T06:39:33.167Z"
   },
   {
    "duration": 636,
    "start_time": "2022-01-31T06:39:40.536Z"
   },
   {
    "duration": 788,
    "start_time": "2022-01-31T06:39:41.174Z"
   },
   {
    "duration": 4,
    "start_time": "2022-01-31T06:39:41.964Z"
   },
   {
    "duration": 4,
    "start_time": "2022-01-31T06:39:55.655Z"
   },
   {
    "duration": 13,
    "start_time": "2022-01-31T06:40:39.595Z"
   },
   {
    "duration": 224,
    "start_time": "2022-01-31T06:41:42.493Z"
   },
   {
    "duration": 55,
    "start_time": "2022-01-31T06:41:46.848Z"
   },
   {
    "duration": 441,
    "start_time": "2022-01-31T06:41:50.139Z"
   },
   {
    "duration": 447,
    "start_time": "2022-01-31T06:43:38.200Z"
   },
   {
    "duration": 810,
    "start_time": "2022-01-31T06:56:33.765Z"
   },
   {
    "duration": 761,
    "start_time": "2022-01-31T06:56:45.016Z"
   },
   {
    "duration": 4,
    "start_time": "2022-01-31T06:57:27.287Z"
   },
   {
    "duration": 450,
    "start_time": "2022-01-31T06:57:38.668Z"
   },
   {
    "duration": 631,
    "start_time": "2022-01-31T06:58:28.662Z"
   },
   {
    "duration": 629,
    "start_time": "2022-01-31T07:00:24.849Z"
   },
   {
    "duration": 649,
    "start_time": "2022-01-31T07:03:23.058Z"
   },
   {
    "duration": 685,
    "start_time": "2022-01-31T07:03:30.611Z"
   },
   {
    "duration": 633,
    "start_time": "2022-01-31T07:03:45.425Z"
   },
   {
    "duration": 382,
    "start_time": "2022-02-01T05:27:56.489Z"
   },
   {
    "duration": 1410,
    "start_time": "2022-02-01T05:29:11.959Z"
   },
   {
    "duration": 49,
    "start_time": "2022-02-01T05:29:13.371Z"
   },
   {
    "duration": 22,
    "start_time": "2022-02-01T05:29:13.424Z"
   },
   {
    "duration": 8,
    "start_time": "2022-02-01T05:29:13.452Z"
   },
   {
    "duration": 13,
    "start_time": "2022-02-01T05:29:13.462Z"
   },
   {
    "duration": 6,
    "start_time": "2022-02-01T05:29:13.477Z"
   },
   {
    "duration": 14,
    "start_time": "2022-02-01T05:29:13.485Z"
   },
   {
    "duration": 69,
    "start_time": "2022-02-01T05:29:13.503Z"
   },
   {
    "duration": 7,
    "start_time": "2022-02-01T05:29:13.575Z"
   },
   {
    "duration": 8,
    "start_time": "2022-02-01T05:29:13.584Z"
   },
   {
    "duration": 12,
    "start_time": "2022-02-01T05:29:13.595Z"
   },
   {
    "duration": 41,
    "start_time": "2022-02-01T05:29:13.609Z"
   },
   {
    "duration": 321,
    "start_time": "2022-02-01T05:29:13.652Z"
   },
   {
    "duration": 6,
    "start_time": "2022-02-01T05:29:13.976Z"
   },
   {
    "duration": 49,
    "start_time": "2022-02-01T05:29:13.984Z"
   },
   {
    "duration": 32,
    "start_time": "2022-02-01T05:29:14.048Z"
   },
   {
    "duration": 703,
    "start_time": "2022-02-01T05:29:14.151Z"
   },
   {
    "duration": 14011,
    "start_time": "2022-02-01T05:29:14.856Z"
   },
   {
    "duration": 11153,
    "start_time": "2022-02-01T05:29:28.870Z"
   },
   {
    "duration": 5,
    "start_time": "2022-02-01T05:29:40.025Z"
   },
   {
    "duration": 6,
    "start_time": "2022-02-01T05:29:40.048Z"
   },
   {
    "duration": 941,
    "start_time": "2022-02-01T05:29:40.056Z"
   },
   {
    "duration": 5,
    "start_time": "2022-02-01T05:29:41.002Z"
   },
   {
    "duration": 20,
    "start_time": "2022-02-01T05:29:41.010Z"
   },
   {
    "duration": 1329,
    "start_time": "2022-02-01T05:29:41.033Z"
   },
   {
    "duration": 7,
    "start_time": "2022-02-01T05:29:42.365Z"
   },
   {
    "duration": 21,
    "start_time": "2022-02-01T05:29:42.376Z"
   },
   {
    "duration": 546,
    "start_time": "2022-02-01T05:29:42.399Z"
   },
   {
    "duration": 4450,
    "start_time": "2022-02-01T05:29:42.949Z"
   },
   {
    "duration": 4270,
    "start_time": "2022-02-01T05:29:47.401Z"
   },
   {
    "duration": 16512,
    "start_time": "2022-02-01T05:29:51.674Z"
   },
   {
    "duration": 7616,
    "start_time": "2022-02-01T05:30:08.189Z"
   },
   {
    "duration": 11773,
    "start_time": "2022-02-01T05:30:15.807Z"
   },
   {
    "duration": 1027,
    "start_time": "2022-02-01T05:30:27.582Z"
   },
   {
    "duration": 38,
    "start_time": "2022-02-01T05:30:28.612Z"
   },
   {
    "duration": 1284,
    "start_time": "2022-02-01T05:30:28.653Z"
   },
   {
    "duration": 13,
    "start_time": "2022-02-01T05:30:29.940Z"
   },
   {
    "duration": 26,
    "start_time": "2022-02-01T05:30:52.232Z"
   },
   {
    "duration": 28,
    "start_time": "2022-02-01T05:34:05.055Z"
   },
   {
    "duration": 30,
    "start_time": "2022-02-01T05:34:15.667Z"
   },
   {
    "duration": 759,
    "start_time": "2022-02-01T05:34:51.464Z"
   },
   {
    "duration": 23,
    "start_time": "2022-02-01T05:34:55.954Z"
   },
   {
    "duration": 22,
    "start_time": "2022-02-01T05:38:10.728Z"
   },
   {
    "duration": 28,
    "start_time": "2022-02-01T05:39:01.351Z"
   },
   {
    "duration": 22,
    "start_time": "2022-02-01T05:39:56.942Z"
   },
   {
    "duration": 71,
    "start_time": "2022-02-01T05:40:11.843Z"
   },
   {
    "duration": 48,
    "start_time": "2022-02-01T05:40:11.917Z"
   },
   {
    "duration": 19,
    "start_time": "2022-02-01T05:40:11.968Z"
   },
   {
    "duration": 15,
    "start_time": "2022-02-01T05:40:11.990Z"
   },
   {
    "duration": 43,
    "start_time": "2022-02-01T05:40:12.008Z"
   },
   {
    "duration": 6,
    "start_time": "2022-02-01T05:40:12.054Z"
   },
   {
    "duration": 17,
    "start_time": "2022-02-01T05:40:12.063Z"
   },
   {
    "duration": 33,
    "start_time": "2022-02-01T05:40:12.083Z"
   },
   {
    "duration": 38,
    "start_time": "2022-02-01T05:40:12.119Z"
   },
   {
    "duration": 10,
    "start_time": "2022-02-01T05:40:12.160Z"
   },
   {
    "duration": 8,
    "start_time": "2022-02-01T05:40:12.173Z"
   },
   {
    "duration": 26,
    "start_time": "2022-02-01T05:40:12.184Z"
   },
   {
    "duration": 10,
    "start_time": "2022-02-01T05:40:12.248Z"
   },
   {
    "duration": 314,
    "start_time": "2022-02-01T05:40:12.260Z"
   },
   {
    "duration": 6,
    "start_time": "2022-02-01T05:40:12.576Z"
   },
   {
    "duration": 40,
    "start_time": "2022-02-01T05:40:12.584Z"
   },
   {
    "duration": 129,
    "start_time": "2022-02-01T05:40:12.626Z"
   },
   {
    "duration": 612,
    "start_time": "2022-02-01T05:40:12.848Z"
   },
   {
    "duration": 13711,
    "start_time": "2022-02-01T05:40:13.462Z"
   },
   {
    "duration": 10746,
    "start_time": "2022-02-01T05:40:27.175Z"
   },
   {
    "duration": 4,
    "start_time": "2022-02-01T05:40:37.924Z"
   },
   {
    "duration": 17,
    "start_time": "2022-02-01T05:40:37.931Z"
   },
   {
    "duration": 924,
    "start_time": "2022-02-01T05:40:37.953Z"
   },
   {
    "duration": 6,
    "start_time": "2022-02-01T05:40:38.880Z"
   },
   {
    "duration": 16,
    "start_time": "2022-02-01T05:40:38.888Z"
   },
   {
    "duration": 1280,
    "start_time": "2022-02-01T05:40:38.906Z"
   },
   {
    "duration": 5,
    "start_time": "2022-02-01T05:40:40.188Z"
   },
   {
    "duration": 15,
    "start_time": "2022-02-01T05:40:40.196Z"
   },
   {
    "duration": 594,
    "start_time": "2022-02-01T05:40:40.214Z"
   },
   {
    "duration": 4354,
    "start_time": "2022-02-01T05:40:40.811Z"
   },
   {
    "duration": 4298,
    "start_time": "2022-02-01T05:40:45.168Z"
   },
   {
    "duration": 7,
    "start_time": "2022-02-01T05:41:28.103Z"
   },
   {
    "duration": 56,
    "start_time": "2022-02-01T05:41:28.113Z"
   },
   {
    "duration": 21,
    "start_time": "2022-02-01T05:41:28.171Z"
   },
   {
    "duration": 8,
    "start_time": "2022-02-01T05:41:28.195Z"
   },
   {
    "duration": 47,
    "start_time": "2022-02-01T05:41:28.205Z"
   },
   {
    "duration": 8,
    "start_time": "2022-02-01T05:41:28.255Z"
   },
   {
    "duration": 15,
    "start_time": "2022-02-01T05:41:28.266Z"
   },
   {
    "duration": 69,
    "start_time": "2022-02-01T05:41:28.284Z"
   },
   {
    "duration": 9,
    "start_time": "2022-02-01T05:41:28.356Z"
   },
   {
    "duration": 11,
    "start_time": "2022-02-01T05:41:28.367Z"
   },
   {
    "duration": 10,
    "start_time": "2022-02-01T05:41:28.380Z"
   },
   {
    "duration": 57,
    "start_time": "2022-02-01T05:41:28.393Z"
   },
   {
    "duration": 12,
    "start_time": "2022-02-01T05:41:28.453Z"
   },
   {
    "duration": 314,
    "start_time": "2022-02-01T05:41:28.468Z"
   },
   {
    "duration": 7,
    "start_time": "2022-02-01T05:41:28.785Z"
   },
   {
    "duration": 62,
    "start_time": "2022-02-01T05:41:28.795Z"
   },
   {
    "duration": 93,
    "start_time": "2022-02-01T05:41:28.860Z"
   },
   {
    "duration": 743,
    "start_time": "2022-02-01T05:41:28.957Z"
   },
   {
    "duration": 14733,
    "start_time": "2022-02-01T05:41:29.702Z"
   },
   {
    "duration": 10670,
    "start_time": "2022-02-01T05:41:44.438Z"
   },
   {
    "duration": 4,
    "start_time": "2022-02-01T05:41:55.110Z"
   },
   {
    "duration": 8,
    "start_time": "2022-02-01T05:41:55.116Z"
   },
   {
    "duration": 1040,
    "start_time": "2022-02-01T05:41:55.127Z"
   },
   {
    "duration": 6,
    "start_time": "2022-02-01T05:41:56.171Z"
   },
   {
    "duration": 22,
    "start_time": "2022-02-01T05:41:56.180Z"
   },
   {
    "duration": 1311,
    "start_time": "2022-02-01T05:41:56.207Z"
   },
   {
    "duration": 5,
    "start_time": "2022-02-01T05:41:57.521Z"
   },
   {
    "duration": 28,
    "start_time": "2022-02-01T05:41:57.528Z"
   },
   {
    "duration": 697,
    "start_time": "2022-02-01T05:41:57.558Z"
   },
   {
    "duration": 4486,
    "start_time": "2022-02-01T05:41:58.258Z"
   },
   {
    "duration": 4303,
    "start_time": "2022-02-01T05:42:02.749Z"
   },
   {
    "duration": 16923,
    "start_time": "2022-02-01T05:42:07.055Z"
   },
   {
    "duration": 7620,
    "start_time": "2022-02-01T05:42:23.980Z"
   },
   {
    "duration": 11667,
    "start_time": "2022-02-01T05:42:31.602Z"
   },
   {
    "duration": 1049,
    "start_time": "2022-02-01T05:42:43.271Z"
   },
   {
    "duration": 35,
    "start_time": "2022-02-01T05:42:44.322Z"
   },
   {
    "duration": 24,
    "start_time": "2022-02-01T05:42:44.359Z"
   },
   {
    "duration": 1338,
    "start_time": "2022-02-01T05:42:44.385Z"
   },
   {
    "duration": 23,
    "start_time": "2022-02-01T05:42:45.726Z"
   },
   {
    "duration": 24,
    "start_time": "2022-02-01T05:46:46.665Z"
   },
   {
    "duration": 8,
    "start_time": "2022-02-01T08:08:03.461Z"
   },
   {
    "duration": 41,
    "start_time": "2022-02-01T08:08:03.472Z"
   },
   {
    "duration": 19,
    "start_time": "2022-02-01T08:08:03.516Z"
   },
   {
    "duration": 13,
    "start_time": "2022-02-01T08:08:03.538Z"
   },
   {
    "duration": 16,
    "start_time": "2022-02-01T08:08:03.554Z"
   },
   {
    "duration": 8,
    "start_time": "2022-02-01T08:08:03.573Z"
   },
   {
    "duration": 17,
    "start_time": "2022-02-01T08:08:03.584Z"
   },
   {
    "duration": 59,
    "start_time": "2022-02-01T08:08:03.604Z"
   },
   {
    "duration": 7,
    "start_time": "2022-02-01T08:08:03.666Z"
   },
   {
    "duration": 9,
    "start_time": "2022-02-01T08:08:03.676Z"
   },
   {
    "duration": 10,
    "start_time": "2022-02-01T08:08:03.688Z"
   },
   {
    "duration": 6,
    "start_time": "2022-02-01T08:08:15.168Z"
   },
   {
    "duration": 48,
    "start_time": "2022-02-01T08:08:15.177Z"
   },
   {
    "duration": 17,
    "start_time": "2022-02-01T08:08:15.228Z"
   },
   {
    "duration": 16,
    "start_time": "2022-02-01T08:08:15.248Z"
   },
   {
    "duration": 25,
    "start_time": "2022-02-01T08:08:15.267Z"
   },
   {
    "duration": 7,
    "start_time": "2022-02-01T08:08:15.294Z"
   },
   {
    "duration": 14,
    "start_time": "2022-02-01T08:08:15.304Z"
   },
   {
    "duration": 69,
    "start_time": "2022-02-01T08:08:15.321Z"
   },
   {
    "duration": 9,
    "start_time": "2022-02-01T08:08:15.393Z"
   },
   {
    "duration": 17,
    "start_time": "2022-02-01T08:08:15.405Z"
   },
   {
    "duration": 27,
    "start_time": "2022-02-01T08:08:15.425Z"
   },
   {
    "duration": 43,
    "start_time": "2022-02-01T08:08:15.455Z"
   },
   {
    "duration": 8,
    "start_time": "2022-02-01T08:08:34.276Z"
   },
   {
    "duration": 43,
    "start_time": "2022-02-01T08:08:34.287Z"
   },
   {
    "duration": 19,
    "start_time": "2022-02-01T08:08:34.333Z"
   },
   {
    "duration": 15,
    "start_time": "2022-02-01T08:08:34.356Z"
   },
   {
    "duration": 16,
    "start_time": "2022-02-01T08:08:34.374Z"
   },
   {
    "duration": 6,
    "start_time": "2022-02-01T08:08:34.393Z"
   },
   {
    "duration": 16,
    "start_time": "2022-02-01T08:08:34.401Z"
   },
   {
    "duration": 61,
    "start_time": "2022-02-01T08:08:34.420Z"
   },
   {
    "duration": 6,
    "start_time": "2022-02-01T08:08:34.484Z"
   },
   {
    "duration": 13,
    "start_time": "2022-02-01T08:08:34.493Z"
   },
   {
    "duration": 43,
    "start_time": "2022-02-01T08:08:34.509Z"
   },
   {
    "duration": 31,
    "start_time": "2022-02-01T08:08:34.556Z"
   },
   {
    "duration": 11,
    "start_time": "2022-02-01T08:08:34.590Z"
   },
   {
    "duration": 408,
    "start_time": "2022-02-01T08:08:34.604Z"
   },
   {
    "duration": 8,
    "start_time": "2022-02-01T08:08:35.016Z"
   },
   {
    "duration": 89,
    "start_time": "2022-02-01T08:08:35.027Z"
   },
   {
    "duration": 8,
    "start_time": "2022-02-01T08:09:05.473Z"
   },
   {
    "duration": 58,
    "start_time": "2022-02-01T08:09:05.485Z"
   },
   {
    "duration": 20,
    "start_time": "2022-02-01T08:09:05.546Z"
   },
   {
    "duration": 15,
    "start_time": "2022-02-01T08:09:05.569Z"
   },
   {
    "duration": 30,
    "start_time": "2022-02-01T08:09:05.587Z"
   },
   {
    "duration": 30,
    "start_time": "2022-02-01T08:09:05.619Z"
   },
   {
    "duration": 18,
    "start_time": "2022-02-01T08:09:05.652Z"
   },
   {
    "duration": 32,
    "start_time": "2022-02-01T08:09:05.674Z"
   },
   {
    "duration": 7,
    "start_time": "2022-02-01T08:09:05.709Z"
   },
   {
    "duration": 46,
    "start_time": "2022-02-01T08:09:05.719Z"
   },
   {
    "duration": 12,
    "start_time": "2022-02-01T08:09:05.769Z"
   },
   {
    "duration": 43,
    "start_time": "2022-02-01T08:09:05.784Z"
   },
   {
    "duration": 23,
    "start_time": "2022-02-01T08:09:05.830Z"
   },
   {
    "duration": 328,
    "start_time": "2022-02-01T08:09:05.856Z"
   },
   {
    "duration": 6,
    "start_time": "2022-02-01T08:09:06.187Z"
   },
   {
    "duration": 68,
    "start_time": "2022-02-01T08:09:06.196Z"
   },
   {
    "duration": 28,
    "start_time": "2022-02-01T08:09:06.267Z"
   },
   {
    "duration": 10,
    "start_time": "2022-02-01T08:10:10.665Z"
   },
   {
    "duration": 93,
    "start_time": "2022-02-01T08:10:10.679Z"
   },
   {
    "duration": 19,
    "start_time": "2022-02-01T08:10:10.776Z"
   },
   {
    "duration": 14,
    "start_time": "2022-02-01T08:10:10.797Z"
   },
   {
    "duration": 27,
    "start_time": "2022-02-01T08:10:10.814Z"
   },
   {
    "duration": 6,
    "start_time": "2022-02-01T08:10:10.844Z"
   },
   {
    "duration": 24,
    "start_time": "2022-02-01T08:10:10.853Z"
   },
   {
    "duration": 38,
    "start_time": "2022-02-01T08:10:10.879Z"
   },
   {
    "duration": 12,
    "start_time": "2022-02-01T08:10:10.951Z"
   },
   {
    "duration": 13,
    "start_time": "2022-02-01T08:10:10.967Z"
   },
   {
    "duration": 15,
    "start_time": "2022-02-01T08:10:10.982Z"
   },
   {
    "duration": 49,
    "start_time": "2022-02-01T08:10:10.999Z"
   },
   {
    "duration": 11,
    "start_time": "2022-02-01T08:10:11.051Z"
   },
   {
    "duration": 507,
    "start_time": "2022-02-01T08:10:11.065Z"
   },
   {
    "duration": 8,
    "start_time": "2022-02-01T08:10:11.576Z"
   },
   {
    "duration": 65,
    "start_time": "2022-02-01T08:10:11.587Z"
   },
   {
    "duration": 26,
    "start_time": "2022-02-01T08:10:11.655Z"
   },
   {
    "duration": 64,
    "start_time": "2022-02-01T08:10:11.684Z"
   },
   {
    "duration": 6,
    "start_time": "2022-02-01T08:14:18.463Z"
   },
   {
    "duration": 45,
    "start_time": "2022-02-01T08:14:18.472Z"
   },
   {
    "duration": 28,
    "start_time": "2022-02-01T08:14:18.520Z"
   },
   {
    "duration": 5,
    "start_time": "2022-02-01T08:14:18.551Z"
   },
   {
    "duration": 12,
    "start_time": "2022-02-01T08:14:18.559Z"
   },
   {
    "duration": 6,
    "start_time": "2022-02-01T08:14:18.574Z"
   },
   {
    "duration": 74,
    "start_time": "2022-02-01T08:14:18.583Z"
   },
   {
    "duration": 46,
    "start_time": "2022-02-01T08:14:18.662Z"
   },
   {
    "duration": 9,
    "start_time": "2022-02-01T08:14:18.712Z"
   },
   {
    "duration": 121,
    "start_time": "2022-02-01T08:14:18.749Z"
   },
   {
    "duration": 9,
    "start_time": "2022-02-01T08:14:18.873Z"
   },
   {
    "duration": 39,
    "start_time": "2022-02-01T08:14:18.885Z"
   },
   {
    "duration": 26,
    "start_time": "2022-02-01T08:14:18.928Z"
   },
   {
    "duration": 341,
    "start_time": "2022-02-01T08:14:18.958Z"
   },
   {
    "duration": 5,
    "start_time": "2022-02-01T08:14:19.302Z"
   },
   {
    "duration": 71,
    "start_time": "2022-02-01T08:14:19.310Z"
   },
   {
    "duration": 25,
    "start_time": "2022-02-01T08:14:19.384Z"
   },
   {
    "duration": 50,
    "start_time": "2022-02-01T08:14:19.412Z"
   },
   {
    "duration": 188,
    "start_time": "2022-02-01T08:14:19.465Z"
   },
   {
    "duration": 714,
    "start_time": "2022-02-01T08:14:19.656Z"
   },
   {
    "duration": 16156,
    "start_time": "2022-02-01T08:14:20.374Z"
   },
   {
    "duration": 14987,
    "start_time": "2022-02-01T08:14:36.533Z"
   },
   {
    "duration": 5,
    "start_time": "2022-02-01T08:14:51.527Z"
   },
   {
    "duration": 19,
    "start_time": "2022-02-01T08:14:51.536Z"
   },
   {
    "duration": 1007,
    "start_time": "2022-02-01T08:14:51.558Z"
   },
   {
    "duration": 6,
    "start_time": "2022-02-01T08:14:52.568Z"
   },
   {
    "duration": 25,
    "start_time": "2022-02-01T08:14:52.578Z"
   },
   {
    "duration": 1657,
    "start_time": "2022-02-01T08:14:52.606Z"
   },
   {
    "duration": 6,
    "start_time": "2022-02-01T08:14:54.266Z"
   },
   {
    "duration": 34,
    "start_time": "2022-02-01T08:14:54.274Z"
   },
   {
    "duration": 673,
    "start_time": "2022-02-01T08:14:54.311Z"
   },
   {
    "duration": 4808,
    "start_time": "2022-02-01T08:14:54.987Z"
   },
   {
    "duration": 4676,
    "start_time": "2022-02-01T08:14:59.797Z"
   },
   {
    "duration": 18084,
    "start_time": "2022-02-01T08:15:04.475Z"
   },
   {
    "duration": 8552,
    "start_time": "2022-02-01T08:15:22.563Z"
   },
   {
    "duration": 13924,
    "start_time": "2022-02-01T08:15:31.118Z"
   },
   {
    "duration": 1119,
    "start_time": "2022-02-01T08:15:45.054Z"
   },
   {
    "duration": 1493,
    "start_time": "2022-02-01T08:15:46.177Z"
   },
   {
    "duration": 11,
    "start_time": "2022-02-01T08:15:47.673Z"
   },
   {
    "duration": 26,
    "start_time": "2022-02-01T08:16:46.683Z"
   },
   {
    "duration": 33,
    "start_time": "2022-02-01T08:16:47.865Z"
   },
   {
    "duration": 9,
    "start_time": "2022-02-01T08:16:53.740Z"
   },
   {
    "duration": 48,
    "start_time": "2022-02-01T08:16:53.752Z"
   },
   {
    "duration": 19,
    "start_time": "2022-02-01T08:16:53.804Z"
   },
   {
    "duration": 6,
    "start_time": "2022-02-01T08:16:53.849Z"
   },
   {
    "duration": 18,
    "start_time": "2022-02-01T08:16:53.858Z"
   },
   {
    "duration": 8,
    "start_time": "2022-02-01T08:16:53.879Z"
   },
   {
    "duration": 62,
    "start_time": "2022-02-01T08:16:53.889Z"
   },
   {
    "duration": 41,
    "start_time": "2022-02-01T08:16:53.955Z"
   },
   {
    "duration": 8,
    "start_time": "2022-02-01T08:16:53.999Z"
   },
   {
    "duration": 39,
    "start_time": "2022-02-01T08:16:54.009Z"
   },
   {
    "duration": 8,
    "start_time": "2022-02-01T08:16:54.051Z"
   },
   {
    "duration": 32,
    "start_time": "2022-02-01T08:16:54.062Z"
   },
   {
    "duration": 9,
    "start_time": "2022-02-01T08:16:54.096Z"
   },
   {
    "duration": 336,
    "start_time": "2022-02-01T08:16:54.107Z"
   },
   {
    "duration": 6,
    "start_time": "2022-02-01T08:16:54.448Z"
   },
   {
    "duration": 53,
    "start_time": "2022-02-01T08:16:54.457Z"
   },
   {
    "duration": 51,
    "start_time": "2022-02-01T08:16:54.512Z"
   },
   {
    "duration": 28,
    "start_time": "2022-02-01T08:16:54.566Z"
   },
   {
    "duration": 65,
    "start_time": "2022-02-01T08:16:54.597Z"
   },
   {
    "duration": 1016,
    "start_time": "2022-02-01T08:16:54.666Z"
   },
   {
    "duration": 14128,
    "start_time": "2022-02-01T08:16:55.686Z"
   },
   {
    "duration": 11419,
    "start_time": "2022-02-01T08:17:09.817Z"
   },
   {
    "duration": 5,
    "start_time": "2022-02-01T08:17:21.248Z"
   },
   {
    "duration": 11,
    "start_time": "2022-02-01T08:17:21.256Z"
   },
   {
    "duration": 963,
    "start_time": "2022-02-01T08:17:21.270Z"
   },
   {
    "duration": 13,
    "start_time": "2022-02-01T08:17:22.236Z"
   },
   {
    "duration": 27,
    "start_time": "2022-02-01T08:17:22.252Z"
   },
   {
    "duration": 1300,
    "start_time": "2022-02-01T08:17:22.281Z"
   },
   {
    "duration": 8,
    "start_time": "2022-02-01T08:17:23.584Z"
   },
   {
    "duration": 20,
    "start_time": "2022-02-01T08:17:23.595Z"
   },
   {
    "duration": 639,
    "start_time": "2022-02-01T08:17:23.618Z"
   },
   {
    "duration": 4988,
    "start_time": "2022-02-01T08:17:24.259Z"
   },
   {
    "duration": 5219,
    "start_time": "2022-02-01T08:17:29.251Z"
   },
   {
    "duration": 18157,
    "start_time": "2022-02-01T08:17:34.472Z"
   },
   {
    "duration": 8170,
    "start_time": "2022-02-01T08:17:52.632Z"
   },
   {
    "duration": 12809,
    "start_time": "2022-02-01T08:18:00.805Z"
   },
   {
    "duration": 1301,
    "start_time": "2022-02-01T08:18:13.618Z"
   },
   {
    "duration": 1576,
    "start_time": "2022-02-01T08:18:14.922Z"
   },
   {
    "duration": 9,
    "start_time": "2022-02-01T08:18:16.501Z"
   },
   {
    "duration": 1352,
    "start_time": "2022-02-01T08:25:58.585Z"
   },
   {
    "duration": 8,
    "start_time": "2022-02-01T08:26:03.309Z"
   },
   {
    "duration": 9,
    "start_time": "2022-02-01T08:27:51.119Z"
   },
   {
    "duration": 49,
    "start_time": "2022-02-01T08:27:51.132Z"
   },
   {
    "duration": 29,
    "start_time": "2022-02-01T08:27:51.186Z"
   },
   {
    "duration": 36,
    "start_time": "2022-02-01T08:27:51.219Z"
   },
   {
    "duration": 23,
    "start_time": "2022-02-01T08:27:51.259Z"
   },
   {
    "duration": 9,
    "start_time": "2022-02-01T08:27:51.285Z"
   },
   {
    "duration": 13,
    "start_time": "2022-02-01T08:27:51.297Z"
   },
   {
    "duration": 77,
    "start_time": "2022-02-01T08:27:51.313Z"
   },
   {
    "duration": 8,
    "start_time": "2022-02-01T08:27:51.393Z"
   },
   {
    "duration": 10,
    "start_time": "2022-02-01T08:27:51.403Z"
   },
   {
    "duration": 35,
    "start_time": "2022-02-01T08:27:51.416Z"
   },
   {
    "duration": 36,
    "start_time": "2022-02-01T08:27:51.454Z"
   },
   {
    "duration": 11,
    "start_time": "2022-02-01T08:27:51.493Z"
   },
   {
    "duration": 424,
    "start_time": "2022-02-01T08:27:51.508Z"
   },
   {
    "duration": 5,
    "start_time": "2022-02-01T08:27:51.935Z"
   },
   {
    "duration": 47,
    "start_time": "2022-02-01T08:27:51.950Z"
   },
   {
    "duration": 58,
    "start_time": "2022-02-01T08:27:52.000Z"
   },
   {
    "duration": 875,
    "start_time": "2022-02-01T08:27:52.062Z"
   },
   {
    "duration": 15848,
    "start_time": "2022-02-01T08:27:52.939Z"
   },
   {
    "duration": 13993,
    "start_time": "2022-02-01T08:28:08.790Z"
   },
   {
    "duration": 7,
    "start_time": "2022-02-01T08:28:22.786Z"
   },
   {
    "duration": 9,
    "start_time": "2022-02-01T08:28:22.796Z"
   },
   {
    "duration": 1052,
    "start_time": "2022-02-01T08:28:22.813Z"
   },
   {
    "duration": 6,
    "start_time": "2022-02-01T08:28:23.869Z"
   },
   {
    "duration": 22,
    "start_time": "2022-02-01T08:28:23.879Z"
   },
   {
    "duration": 1886,
    "start_time": "2022-02-01T08:28:23.904Z"
   },
   {
    "duration": 6,
    "start_time": "2022-02-01T08:28:25.792Z"
   },
   {
    "duration": 30,
    "start_time": "2022-02-01T08:28:25.802Z"
   },
   {
    "duration": 645,
    "start_time": "2022-02-01T08:28:25.835Z"
   },
   {
    "duration": 4870,
    "start_time": "2022-02-01T08:28:26.483Z"
   },
   {
    "duration": 5138,
    "start_time": "2022-02-01T08:28:31.356Z"
   },
   {
    "duration": 18278,
    "start_time": "2022-02-01T08:28:36.496Z"
   },
   {
    "duration": 8201,
    "start_time": "2022-02-01T08:28:54.777Z"
   },
   {
    "duration": 12782,
    "start_time": "2022-02-01T08:29:02.981Z"
   },
   {
    "duration": 16,
    "start_time": "2022-02-01T08:29:15.766Z"
   },
   {
    "duration": 1133,
    "start_time": "2022-02-01T08:29:15.785Z"
   },
   {
    "duration": 1450,
    "start_time": "2022-02-01T08:29:16.921Z"
   },
   {
    "duration": 9,
    "start_time": "2022-02-01T08:29:18.374Z"
   },
   {
    "duration": 7,
    "start_time": "2022-02-01T08:38:11.769Z"
   },
   {
    "duration": 55,
    "start_time": "2022-02-01T08:38:11.780Z"
   },
   {
    "duration": 18,
    "start_time": "2022-02-01T08:38:11.838Z"
   },
   {
    "duration": 25,
    "start_time": "2022-02-01T08:38:11.858Z"
   },
   {
    "duration": 33,
    "start_time": "2022-02-01T08:38:11.887Z"
   },
   {
    "duration": 16,
    "start_time": "2022-02-01T08:38:11.922Z"
   },
   {
    "duration": 47,
    "start_time": "2022-02-01T08:38:11.941Z"
   },
   {
    "duration": 31,
    "start_time": "2022-02-01T08:38:11.992Z"
   },
   {
    "duration": 7,
    "start_time": "2022-02-01T08:38:12.027Z"
   },
   {
    "duration": 27,
    "start_time": "2022-02-01T08:38:12.037Z"
   },
   {
    "duration": 19,
    "start_time": "2022-02-01T08:38:12.067Z"
   },
   {
    "duration": 33,
    "start_time": "2022-02-01T08:38:12.089Z"
   },
   {
    "duration": 25,
    "start_time": "2022-02-01T08:38:12.125Z"
   },
   {
    "duration": 328,
    "start_time": "2022-02-01T08:38:12.152Z"
   },
   {
    "duration": 7,
    "start_time": "2022-02-01T08:38:12.483Z"
   },
   {
    "duration": 81,
    "start_time": "2022-02-01T08:38:12.493Z"
   },
   {
    "duration": 76,
    "start_time": "2022-02-01T08:38:12.577Z"
   },
   {
    "duration": 768,
    "start_time": "2022-02-01T08:38:12.655Z"
   },
   {
    "duration": 13979,
    "start_time": "2022-02-01T08:38:13.426Z"
   },
   {
    "duration": 11214,
    "start_time": "2022-02-01T08:38:27.408Z"
   },
   {
    "duration": 4,
    "start_time": "2022-02-01T08:38:38.625Z"
   },
   {
    "duration": 17,
    "start_time": "2022-02-01T08:38:38.631Z"
   },
   {
    "duration": 941,
    "start_time": "2022-02-01T08:38:38.653Z"
   },
   {
    "duration": 7,
    "start_time": "2022-02-01T08:38:39.597Z"
   },
   {
    "duration": 14,
    "start_time": "2022-02-01T08:38:39.607Z"
   },
   {
    "duration": 1298,
    "start_time": "2022-02-01T08:38:39.624Z"
   },
   {
    "duration": 6,
    "start_time": "2022-02-01T08:38:40.924Z"
   },
   {
    "duration": 27,
    "start_time": "2022-02-01T08:38:40.933Z"
   },
   {
    "duration": 592,
    "start_time": "2022-02-01T08:38:40.962Z"
   },
   {
    "duration": 4493,
    "start_time": "2022-02-01T08:38:41.557Z"
   },
   {
    "duration": 4260,
    "start_time": "2022-02-01T08:38:46.053Z"
   },
   {
    "duration": 16609,
    "start_time": "2022-02-01T08:38:50.316Z"
   },
   {
    "duration": 7825,
    "start_time": "2022-02-01T08:39:06.927Z"
   },
   {
    "duration": 11998,
    "start_time": "2022-02-01T08:39:14.754Z"
   },
   {
    "duration": 16,
    "start_time": "2022-02-01T08:39:26.755Z"
   },
   {
    "duration": 1076,
    "start_time": "2022-02-01T08:39:26.773Z"
   },
   {
    "duration": 1309,
    "start_time": "2022-02-01T08:39:27.852Z"
   },
   {
    "duration": 7,
    "start_time": "2022-02-01T08:39:29.164Z"
   }
  ],
  "kernelspec": {
   "display_name": "Python 3 (ipykernel)",
   "language": "python",
   "name": "python3"
  },
  "language_info": {
   "codemirror_mode": {
    "name": "ipython",
    "version": 3
   },
   "file_extension": ".py",
   "mimetype": "text/x-python",
   "name": "python",
   "nbconvert_exporter": "python",
   "pygments_lexer": "ipython3",
   "version": "3.9.7"
  },
  "toc": {
   "base_numbering": 1,
   "nav_menu": {},
   "number_sections": true,
   "sideBar": true,
   "skip_h1_title": true,
   "title_cell": "Содержание",
   "title_sidebar": "Contents",
   "toc_cell": true,
   "toc_position": {
    "height": "calc(100% - 180px)",
    "left": "10px",
    "top": "150px",
    "width": "165px"
   },
   "toc_section_display": true,
   "toc_window_display": false
  }
 },
 "nbformat": 4,
 "nbformat_minor": 2
}
