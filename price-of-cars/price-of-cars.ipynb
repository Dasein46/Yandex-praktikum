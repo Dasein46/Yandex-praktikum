{
 "cells": [
  {
   "cell_type": "markdown",
   "metadata": {},
   "source": [
    "# Определение стоимости автомобилей"
   ]
  },
  {
   "cell_type": "markdown",
   "metadata": {},
   "source": [
    "<div class=\"alert alert-info\">\n",
    "Привет! Меня зовут Позднякова Кристина. Я буду проверять твой проект. Предлагаю обращаться на «ты», но если так не удобно для тебя - дай знать, и мы перейдем на «вы»:). Моя основная цель проверки проекта — не указать на совершенные тобою ошибки, а поделиться своим опытом и помочь доработать код так, как хорошо было бы его писать в реальном рабочем проекте. Я вижу, что ты старался, делая проект. Все ключевые этапы в работе выполнены и соблюдены, так что в целом справиться с задачей тебе удалось.\n",
    "    <br>    <br>\n",
    "Есть только несколько небольших аспектов, которые требует твоего внимания. Комментарии по ним помечены красным цветом (❌). После доработки, с учетом этих моментов, проект будет принят. Осталось совсем немного, буду ждать твою работу на повторное ревью:) Зелёным цветом (✔️) отмечены хорошие, удачные и элегантные решения, на которые можно опираться в будущих проектах. Из контекста будет более понятно что хорошо, а что просто великолепно!:) Жёлтым цветом (⚠️) выделено то, что в следующий раз можно сделать по-другому. Ты можешь учесть эти комментарии при выполнении будущих заданий или доработать проект сейчас (однако это не обязательно).\n",
    "    <br>    <br>\n",
    "Давай работать над проектом взаимодействуя друг с другом: если ты что-то меняешь в проекте по моим рекомендациям — пиши об этом, пожалуйста. Выбери для своих комментариев какой-то заметный цвет, отличный от выбранных мной, так мне будет легче отследить изменения. В названии моих комментариев будет номер версии при повторном ревью. Пожалуйста, не перемещай, не изменяй и не удаляй мои комментарии. Всё это поможет выполнить повторную проверку твоего проекта оперативнее:)"
   ]
  },
  {
   "cell_type": "markdown",
   "metadata": {},
   "source": [
    "Сервис по продаже автомобилей с пробегом «Не бит, не крашен» разрабатывает приложение для привлечения новых клиентов. В нём можно быстро узнать рыночную стоимость своего автомобиля. Нам предоставлены следующие исторические данные: технические характеристики, комплектации и цены автомобилей. Нам нужно построить модель для определения стоимости. \n",
    "\n",
    "Заказчику важны:\n",
    "\n",
    "- качество предсказания;\n",
    "- скорость предсказания;\n",
    "- время обучения."
   ]
  },
  {
   "cell_type": "markdown",
   "metadata": {},
   "source": [
    "<div class=\"alert alert-warning\">\n",
    "⚠️ Хорошая практика начинать проект с контекста, описания задачи как сделано выше. Так же хорошей практикой считается обозначения возможного хода\\плана исследования, а также описания имеющихся данных. Очень надеюсь, что ты будешь уделять этому внимание и в последующих проектах!\n",
    "</div>"
   ]
  },
  {
   "cell_type": "markdown",
   "metadata": {},
   "source": [
    "# Содержание\n",
    "* [Подготовка данных](#Подготовка-данных)\n",
    "* [Обучение данных](#Обучение-данных)\n",
    "* [Анализ моделей](#Анализ-моделей)"
   ]
  },
  {
   "cell_type": "markdown",
   "metadata": {},
   "source": [
    "## Подготовка данных"
   ]
  },
  {
   "cell_type": "code",
   "execution_count": 252,
   "metadata": {},
   "outputs": [],
   "source": [
    "# Загрузим все необходимые библиотеки\n",
    "import pandas as pd\n",
    "import numpy as np\n",
    "import matplotlib.pyplot as plt\n",
    "import seaborn as sns\n",
    "import time\n",
    "from sklearn.linear_model import LinearRegression\n",
    "from sklearn.ensemble import RandomForestRegressor\n",
    "from sklearn.tree import DecisionTreeRegressor\n",
    "from catboost import Pool, CatBoostRegressor\n",
    "from lightgbm import LGBMRegressor\n",
    "from sklearn.model_selection import train_test_split\n",
    "from sklearn.preprocessing import StandardScaler\n",
    "from sklearn.metrics import mean_squared_error\n",
    "from sklearn.model_selection import cross_val_score\n",
    "from sklearn.model_selection import GridSearchCV"
   ]
  },
  {
   "cell_type": "code",
   "execution_count": 253,
   "metadata": {},
   "outputs": [],
   "source": [
    "# Загрузим таблицу с данными\n",
    "df = pd.read_csv('/datasets/autos.csv')"
   ]
  },
  {
   "cell_type": "code",
   "execution_count": 254,
   "metadata": {},
   "outputs": [
    {
     "data": {
      "text/html": [
       "<div>\n",
       "<style scoped>\n",
       "    .dataframe tbody tr th:only-of-type {\n",
       "        vertical-align: middle;\n",
       "    }\n",
       "\n",
       "    .dataframe tbody tr th {\n",
       "        vertical-align: top;\n",
       "    }\n",
       "\n",
       "    .dataframe thead th {\n",
       "        text-align: right;\n",
       "    }\n",
       "</style>\n",
       "<table border=\"1\" class=\"dataframe\">\n",
       "  <thead>\n",
       "    <tr style=\"text-align: right;\">\n",
       "      <th></th>\n",
       "      <th>DateCrawled</th>\n",
       "      <th>Price</th>\n",
       "      <th>VehicleType</th>\n",
       "      <th>RegistrationYear</th>\n",
       "      <th>Gearbox</th>\n",
       "      <th>Power</th>\n",
       "      <th>Model</th>\n",
       "      <th>Kilometer</th>\n",
       "      <th>RegistrationMonth</th>\n",
       "      <th>FuelType</th>\n",
       "      <th>Brand</th>\n",
       "      <th>NotRepaired</th>\n",
       "      <th>DateCreated</th>\n",
       "      <th>NumberOfPictures</th>\n",
       "      <th>PostalCode</th>\n",
       "      <th>LastSeen</th>\n",
       "    </tr>\n",
       "  </thead>\n",
       "  <tbody>\n",
       "    <tr>\n",
       "      <th>0</th>\n",
       "      <td>2016-03-24 11:52:17</td>\n",
       "      <td>480</td>\n",
       "      <td>NaN</td>\n",
       "      <td>1993</td>\n",
       "      <td>manual</td>\n",
       "      <td>0</td>\n",
       "      <td>golf</td>\n",
       "      <td>150000</td>\n",
       "      <td>0</td>\n",
       "      <td>petrol</td>\n",
       "      <td>volkswagen</td>\n",
       "      <td>NaN</td>\n",
       "      <td>2016-03-24 00:00:00</td>\n",
       "      <td>0</td>\n",
       "      <td>70435</td>\n",
       "      <td>2016-04-07 03:16:57</td>\n",
       "    </tr>\n",
       "    <tr>\n",
       "      <th>1</th>\n",
       "      <td>2016-03-24 10:58:45</td>\n",
       "      <td>18300</td>\n",
       "      <td>coupe</td>\n",
       "      <td>2011</td>\n",
       "      <td>manual</td>\n",
       "      <td>190</td>\n",
       "      <td>NaN</td>\n",
       "      <td>125000</td>\n",
       "      <td>5</td>\n",
       "      <td>gasoline</td>\n",
       "      <td>audi</td>\n",
       "      <td>yes</td>\n",
       "      <td>2016-03-24 00:00:00</td>\n",
       "      <td>0</td>\n",
       "      <td>66954</td>\n",
       "      <td>2016-04-07 01:46:50</td>\n",
       "    </tr>\n",
       "    <tr>\n",
       "      <th>2</th>\n",
       "      <td>2016-03-14 12:52:21</td>\n",
       "      <td>9800</td>\n",
       "      <td>suv</td>\n",
       "      <td>2004</td>\n",
       "      <td>auto</td>\n",
       "      <td>163</td>\n",
       "      <td>grand</td>\n",
       "      <td>125000</td>\n",
       "      <td>8</td>\n",
       "      <td>gasoline</td>\n",
       "      <td>jeep</td>\n",
       "      <td>NaN</td>\n",
       "      <td>2016-03-14 00:00:00</td>\n",
       "      <td>0</td>\n",
       "      <td>90480</td>\n",
       "      <td>2016-04-05 12:47:46</td>\n",
       "    </tr>\n",
       "    <tr>\n",
       "      <th>3</th>\n",
       "      <td>2016-03-17 16:54:04</td>\n",
       "      <td>1500</td>\n",
       "      <td>small</td>\n",
       "      <td>2001</td>\n",
       "      <td>manual</td>\n",
       "      <td>75</td>\n",
       "      <td>golf</td>\n",
       "      <td>150000</td>\n",
       "      <td>6</td>\n",
       "      <td>petrol</td>\n",
       "      <td>volkswagen</td>\n",
       "      <td>no</td>\n",
       "      <td>2016-03-17 00:00:00</td>\n",
       "      <td>0</td>\n",
       "      <td>91074</td>\n",
       "      <td>2016-03-17 17:40:17</td>\n",
       "    </tr>\n",
       "    <tr>\n",
       "      <th>4</th>\n",
       "      <td>2016-03-31 17:25:20</td>\n",
       "      <td>3600</td>\n",
       "      <td>small</td>\n",
       "      <td>2008</td>\n",
       "      <td>manual</td>\n",
       "      <td>69</td>\n",
       "      <td>fabia</td>\n",
       "      <td>90000</td>\n",
       "      <td>7</td>\n",
       "      <td>gasoline</td>\n",
       "      <td>skoda</td>\n",
       "      <td>no</td>\n",
       "      <td>2016-03-31 00:00:00</td>\n",
       "      <td>0</td>\n",
       "      <td>60437</td>\n",
       "      <td>2016-04-06 10:17:21</td>\n",
       "    </tr>\n",
       "    <tr>\n",
       "      <th>5</th>\n",
       "      <td>2016-04-04 17:36:23</td>\n",
       "      <td>650</td>\n",
       "      <td>sedan</td>\n",
       "      <td>1995</td>\n",
       "      <td>manual</td>\n",
       "      <td>102</td>\n",
       "      <td>3er</td>\n",
       "      <td>150000</td>\n",
       "      <td>10</td>\n",
       "      <td>petrol</td>\n",
       "      <td>bmw</td>\n",
       "      <td>yes</td>\n",
       "      <td>2016-04-04 00:00:00</td>\n",
       "      <td>0</td>\n",
       "      <td>33775</td>\n",
       "      <td>2016-04-06 19:17:07</td>\n",
       "    </tr>\n",
       "    <tr>\n",
       "      <th>6</th>\n",
       "      <td>2016-04-01 20:48:51</td>\n",
       "      <td>2200</td>\n",
       "      <td>convertible</td>\n",
       "      <td>2004</td>\n",
       "      <td>manual</td>\n",
       "      <td>109</td>\n",
       "      <td>2_reihe</td>\n",
       "      <td>150000</td>\n",
       "      <td>8</td>\n",
       "      <td>petrol</td>\n",
       "      <td>peugeot</td>\n",
       "      <td>no</td>\n",
       "      <td>2016-04-01 00:00:00</td>\n",
       "      <td>0</td>\n",
       "      <td>67112</td>\n",
       "      <td>2016-04-05 18:18:39</td>\n",
       "    </tr>\n",
       "    <tr>\n",
       "      <th>7</th>\n",
       "      <td>2016-03-21 18:54:38</td>\n",
       "      <td>0</td>\n",
       "      <td>sedan</td>\n",
       "      <td>1980</td>\n",
       "      <td>manual</td>\n",
       "      <td>50</td>\n",
       "      <td>other</td>\n",
       "      <td>40000</td>\n",
       "      <td>7</td>\n",
       "      <td>petrol</td>\n",
       "      <td>volkswagen</td>\n",
       "      <td>no</td>\n",
       "      <td>2016-03-21 00:00:00</td>\n",
       "      <td>0</td>\n",
       "      <td>19348</td>\n",
       "      <td>2016-03-25 16:47:58</td>\n",
       "    </tr>\n",
       "    <tr>\n",
       "      <th>8</th>\n",
       "      <td>2016-04-04 23:42:13</td>\n",
       "      <td>14500</td>\n",
       "      <td>bus</td>\n",
       "      <td>2014</td>\n",
       "      <td>manual</td>\n",
       "      <td>125</td>\n",
       "      <td>c_max</td>\n",
       "      <td>30000</td>\n",
       "      <td>8</td>\n",
       "      <td>petrol</td>\n",
       "      <td>ford</td>\n",
       "      <td>NaN</td>\n",
       "      <td>2016-04-04 00:00:00</td>\n",
       "      <td>0</td>\n",
       "      <td>94505</td>\n",
       "      <td>2016-04-04 23:42:13</td>\n",
       "    </tr>\n",
       "    <tr>\n",
       "      <th>9</th>\n",
       "      <td>2016-03-17 10:53:50</td>\n",
       "      <td>999</td>\n",
       "      <td>small</td>\n",
       "      <td>1998</td>\n",
       "      <td>manual</td>\n",
       "      <td>101</td>\n",
       "      <td>golf</td>\n",
       "      <td>150000</td>\n",
       "      <td>0</td>\n",
       "      <td>NaN</td>\n",
       "      <td>volkswagen</td>\n",
       "      <td>NaN</td>\n",
       "      <td>2016-03-17 00:00:00</td>\n",
       "      <td>0</td>\n",
       "      <td>27472</td>\n",
       "      <td>2016-03-31 17:17:06</td>\n",
       "    </tr>\n",
       "  </tbody>\n",
       "</table>\n",
       "</div>"
      ],
      "text/plain": [
       "           DateCrawled  Price  VehicleType  RegistrationYear Gearbox  Power  \\\n",
       "0  2016-03-24 11:52:17    480          NaN              1993  manual      0   \n",
       "1  2016-03-24 10:58:45  18300        coupe              2011  manual    190   \n",
       "2  2016-03-14 12:52:21   9800          suv              2004    auto    163   \n",
       "3  2016-03-17 16:54:04   1500        small              2001  manual     75   \n",
       "4  2016-03-31 17:25:20   3600        small              2008  manual     69   \n",
       "5  2016-04-04 17:36:23    650        sedan              1995  manual    102   \n",
       "6  2016-04-01 20:48:51   2200  convertible              2004  manual    109   \n",
       "7  2016-03-21 18:54:38      0        sedan              1980  manual     50   \n",
       "8  2016-04-04 23:42:13  14500          bus              2014  manual    125   \n",
       "9  2016-03-17 10:53:50    999        small              1998  manual    101   \n",
       "\n",
       "     Model  Kilometer  RegistrationMonth  FuelType       Brand NotRepaired  \\\n",
       "0     golf     150000                  0    petrol  volkswagen         NaN   \n",
       "1      NaN     125000                  5  gasoline        audi         yes   \n",
       "2    grand     125000                  8  gasoline        jeep         NaN   \n",
       "3     golf     150000                  6    petrol  volkswagen          no   \n",
       "4    fabia      90000                  7  gasoline       skoda          no   \n",
       "5      3er     150000                 10    petrol         bmw         yes   \n",
       "6  2_reihe     150000                  8    petrol     peugeot          no   \n",
       "7    other      40000                  7    petrol  volkswagen          no   \n",
       "8    c_max      30000                  8    petrol        ford         NaN   \n",
       "9     golf     150000                  0       NaN  volkswagen         NaN   \n",
       "\n",
       "           DateCreated  NumberOfPictures  PostalCode             LastSeen  \n",
       "0  2016-03-24 00:00:00                 0       70435  2016-04-07 03:16:57  \n",
       "1  2016-03-24 00:00:00                 0       66954  2016-04-07 01:46:50  \n",
       "2  2016-03-14 00:00:00                 0       90480  2016-04-05 12:47:46  \n",
       "3  2016-03-17 00:00:00                 0       91074  2016-03-17 17:40:17  \n",
       "4  2016-03-31 00:00:00                 0       60437  2016-04-06 10:17:21  \n",
       "5  2016-04-04 00:00:00                 0       33775  2016-04-06 19:17:07  \n",
       "6  2016-04-01 00:00:00                 0       67112  2016-04-05 18:18:39  \n",
       "7  2016-03-21 00:00:00                 0       19348  2016-03-25 16:47:58  \n",
       "8  2016-04-04 00:00:00                 0       94505  2016-04-04 23:42:13  \n",
       "9  2016-03-17 00:00:00                 0       27472  2016-03-31 17:17:06  "
      ]
     },
     "execution_count": 254,
     "metadata": {},
     "output_type": "execute_result"
    }
   ],
   "source": [
    "# Посмотрим на первые 10 строчек нашей таблицы\n",
    "df.head(10)"
   ]
  },
  {
   "cell_type": "markdown",
   "metadata": {},
   "source": [
    "Даже по первым строчкам видно, что в таблице имеются пропуски. Расшифруем названия признаков согласно документации:\n",
    "\n",
    "*Признаки*\n",
    "\n",
    "- DateCrawled — дата скачивания анкеты из базы;\n",
    "- VehicleType — тип автомобильного кузова;\n",
    "- RegistrationYear — год регистрации автомобиля;\n",
    "- Gearbox — тип коробки передач;\n",
    "- Power — мощность (л. с.);\n",
    "- Model — модель автомобиля;\n",
    "- Kilometer — пробег (км);\n",
    "- RegistrationMonth — месяц регистрации автомобиля;\n",
    "- FuelType — тип топлива;\n",
    "- Brand — марка автомобиля;\n",
    "- NotRepaired — была машина в ремонте или нет;\n",
    "- DateCreated — дата создания анкеты;\n",
    "- NumberOfPictures — количество фотографий автомобиля;\n",
    "- PostalCode — почтовый индекс владельца анкеты (пользователя);\n",
    "- LastSeen — дата последней активности пользователя.\n",
    "\n",
    "*Целевой признак*\n",
    "\n",
    "Price — цена (евро)"
   ]
  },
  {
   "cell_type": "code",
   "execution_count": 255,
   "metadata": {},
   "outputs": [
    {
     "name": "stdout",
     "output_type": "stream",
     "text": [
      "<class 'pandas.core.frame.DataFrame'>\n",
      "RangeIndex: 354369 entries, 0 to 354368\n",
      "Data columns (total 16 columns):\n",
      " #   Column             Non-Null Count   Dtype \n",
      "---  ------             --------------   ----- \n",
      " 0   DateCrawled        354369 non-null  object\n",
      " 1   Price              354369 non-null  int64 \n",
      " 2   VehicleType        316879 non-null  object\n",
      " 3   RegistrationYear   354369 non-null  int64 \n",
      " 4   Gearbox            334536 non-null  object\n",
      " 5   Power              354369 non-null  int64 \n",
      " 6   Model              334664 non-null  object\n",
      " 7   Kilometer          354369 non-null  int64 \n",
      " 8   RegistrationMonth  354369 non-null  int64 \n",
      " 9   FuelType           321474 non-null  object\n",
      " 10  Brand              354369 non-null  object\n",
      " 11  NotRepaired        283215 non-null  object\n",
      " 12  DateCreated        354369 non-null  object\n",
      " 13  NumberOfPictures   354369 non-null  int64 \n",
      " 14  PostalCode         354369 non-null  int64 \n",
      " 15  LastSeen           354369 non-null  object\n",
      "dtypes: int64(7), object(9)\n",
      "memory usage: 43.3+ MB\n"
     ]
    }
   ],
   "source": [
    "# Посмотрим на общую информацию о данных\n",
    "df.info()"
   ]
  },
  {
   "cell_type": "markdown",
   "metadata": {},
   "source": [
    "Мы видим, что неверный формат данных в столбцах с датами. А также имеются пропуски в некоторых столбцах. "
   ]
  },
  {
   "cell_type": "code",
   "execution_count": 256,
   "metadata": {},
   "outputs": [],
   "source": [
    "# Изменим формат данных в столбцах с датами\n",
    "dates = ['DateCrawled', 'DateCreated', 'LastSeen']\n",
    "for i in dates:\n",
    "    df[i] = pd.to_datetime(df[i], format='%Y-%m-%d %H:%M:%S')"
   ]
  },
  {
   "cell_type": "code",
   "execution_count": 257,
   "metadata": {},
   "outputs": [
    {
     "data": {
      "text/plain": [
       "DateCrawled              0\n",
       "Price                    0\n",
       "VehicleType          37490\n",
       "RegistrationYear         0\n",
       "Gearbox              19833\n",
       "Power                    0\n",
       "Model                19705\n",
       "Kilometer                0\n",
       "RegistrationMonth        0\n",
       "FuelType             32895\n",
       "Brand                    0\n",
       "NotRepaired          71154\n",
       "DateCreated              0\n",
       "NumberOfPictures         0\n",
       "PostalCode               0\n",
       "LastSeen                 0\n",
       "dtype: int64"
      ]
     },
     "execution_count": 257,
     "metadata": {},
     "output_type": "execute_result"
    }
   ],
   "source": [
    "# Посмотрим на количество пропусков в каждом столбце\n",
    "df.isna().sum()"
   ]
  },
  {
   "cell_type": "markdown",
   "metadata": {},
   "source": [
    "В данных имеется большое количество пропусков, поэтому их удаление может привести к искажению всей картины. В связи с этим заменим пропуски значением 'Unknown'."
   ]
  },
  {
   "cell_type": "code",
   "execution_count": 258,
   "metadata": {},
   "outputs": [],
   "source": [
    "df = df.fillna('unknown')"
   ]
  },
  {
   "cell_type": "code",
   "execution_count": 259,
   "metadata": {},
   "outputs": [],
   "source": [
    "df = df.astype({\"VehicleType\":'category',\n",
    "                                 \"Gearbox\":'category',\n",
    "                                  \"Model\":'category',\n",
    "                                  \"FuelType\":'category',\n",
    "                                  \"Brand\":'category',\n",
    "                                  \"NotRepaired\":'category'})"
   ]
  },
  {
   "cell_type": "code",
   "execution_count": 260,
   "metadata": {},
   "outputs": [
    {
     "name": "stdout",
     "output_type": "stream",
     "text": [
      "   VehicleType\n",
      "0      unknown\n",
      "1        coupe\n",
      "2          suv\n",
      "3        small\n",
      "4        sedan\n",
      "5  convertible\n",
      "6          bus\n",
      "7        wagon\n",
      "8        other\n",
      "   Gearbox\n",
      "0   manual\n",
      "1     auto\n",
      "2  unknown\n",
      "          Model\n",
      "0          golf\n",
      "1       unknown\n",
      "2         grand\n",
      "3         fabia\n",
      "4           3er\n",
      "..          ...\n",
      "246  elefantino\n",
      "247          i3\n",
      "248       kappa\n",
      "249     serie_3\n",
      "250     serie_1\n",
      "\n",
      "[251 rows x 1 columns]\n",
      "   FuelType\n",
      "0    petrol\n",
      "1  gasoline\n",
      "2   unknown\n",
      "3       lpg\n",
      "4     other\n",
      "5    hybrid\n",
      "6       cng\n",
      "7  electric\n",
      "             Brand\n",
      "0       volkswagen\n",
      "1             audi\n",
      "2             jeep\n",
      "3            skoda\n",
      "4              bmw\n",
      "5          peugeot\n",
      "6             ford\n",
      "7            mazda\n",
      "8           nissan\n",
      "9          renault\n",
      "10   mercedes_benz\n",
      "11            opel\n",
      "12            seat\n",
      "13         citroen\n",
      "14           honda\n",
      "15            fiat\n",
      "16            mini\n",
      "17           smart\n",
      "18         hyundai\n",
      "19  sonstige_autos\n",
      "20      alfa_romeo\n",
      "21          subaru\n",
      "22           volvo\n",
      "23      mitsubishi\n",
      "24             kia\n",
      "25          suzuki\n",
      "26          lancia\n",
      "27          toyota\n",
      "28       chevrolet\n",
      "29           dacia\n",
      "30        daihatsu\n",
      "31         trabant\n",
      "32            saab\n",
      "33        chrysler\n",
      "34          jaguar\n",
      "35          daewoo\n",
      "36         porsche\n",
      "37           rover\n",
      "38      land_rover\n",
      "39            lada\n",
      "  NotRepaired\n",
      "0     unknown\n",
      "1         yes\n",
      "2          no\n"
     ]
    }
   ],
   "source": [
    "# Посмотрим на уникальные значения в столбцах с категориальными признаками\n",
    "columns = ['VehicleType', 'Gearbox', 'Model', 'FuelType', 'Brand', 'NotRepaired']\n",
    "for i in columns:\n",
    "    print(pd.DataFrame(data = df[i].unique(), columns=[i]))"
   ]
  },
  {
   "cell_type": "markdown",
   "metadata": {},
   "source": [
    "В столбце FuelType встречается petrol и gasoline. Оба слова переводятся как \"бензин\" (gasoline - амер. вариант). Поэтому есть смысл заменить gasoline на petrol."
   ]
  },
  {
   "cell_type": "code",
   "execution_count": 261,
   "metadata": {},
   "outputs": [],
   "source": [
    "df = df.replace(['gasoline'], ['petrol'])"
   ]
  },
  {
   "cell_type": "markdown",
   "metadata": {},
   "source": [
    "<div class=\"alert alert-success\">\n",
    "✔️ Да, верно, это можно объединить"
   ]
  },
  {
   "cell_type": "code",
   "execution_count": 262,
   "metadata": {},
   "outputs": [
    {
     "data": {
      "text/html": [
       "<div>\n",
       "<style scoped>\n",
       "    .dataframe tbody tr th:only-of-type {\n",
       "        vertical-align: middle;\n",
       "    }\n",
       "\n",
       "    .dataframe tbody tr th {\n",
       "        vertical-align: top;\n",
       "    }\n",
       "\n",
       "    .dataframe thead th {\n",
       "        text-align: right;\n",
       "    }\n",
       "</style>\n",
       "<table border=\"1\" class=\"dataframe\">\n",
       "  <thead>\n",
       "    <tr style=\"text-align: right;\">\n",
       "      <th></th>\n",
       "      <th>Price</th>\n",
       "      <th>RegistrationYear</th>\n",
       "      <th>Power</th>\n",
       "      <th>Kilometer</th>\n",
       "      <th>RegistrationMonth</th>\n",
       "      <th>NumberOfPictures</th>\n",
       "      <th>PostalCode</th>\n",
       "    </tr>\n",
       "  </thead>\n",
       "  <tbody>\n",
       "    <tr>\n",
       "      <th>count</th>\n",
       "      <td>354369.000000</td>\n",
       "      <td>354369.000000</td>\n",
       "      <td>354369.000000</td>\n",
       "      <td>354369.000000</td>\n",
       "      <td>354369.000000</td>\n",
       "      <td>354369.0</td>\n",
       "      <td>354369.000000</td>\n",
       "    </tr>\n",
       "    <tr>\n",
       "      <th>mean</th>\n",
       "      <td>4416.656776</td>\n",
       "      <td>2004.234448</td>\n",
       "      <td>110.094337</td>\n",
       "      <td>128211.172535</td>\n",
       "      <td>5.714645</td>\n",
       "      <td>0.0</td>\n",
       "      <td>50508.689087</td>\n",
       "    </tr>\n",
       "    <tr>\n",
       "      <th>std</th>\n",
       "      <td>4514.158514</td>\n",
       "      <td>90.227958</td>\n",
       "      <td>189.850405</td>\n",
       "      <td>37905.341530</td>\n",
       "      <td>3.726421</td>\n",
       "      <td>0.0</td>\n",
       "      <td>25783.096248</td>\n",
       "    </tr>\n",
       "    <tr>\n",
       "      <th>min</th>\n",
       "      <td>0.000000</td>\n",
       "      <td>1000.000000</td>\n",
       "      <td>0.000000</td>\n",
       "      <td>5000.000000</td>\n",
       "      <td>0.000000</td>\n",
       "      <td>0.0</td>\n",
       "      <td>1067.000000</td>\n",
       "    </tr>\n",
       "    <tr>\n",
       "      <th>25%</th>\n",
       "      <td>1050.000000</td>\n",
       "      <td>1999.000000</td>\n",
       "      <td>69.000000</td>\n",
       "      <td>125000.000000</td>\n",
       "      <td>3.000000</td>\n",
       "      <td>0.0</td>\n",
       "      <td>30165.000000</td>\n",
       "    </tr>\n",
       "    <tr>\n",
       "      <th>50%</th>\n",
       "      <td>2700.000000</td>\n",
       "      <td>2003.000000</td>\n",
       "      <td>105.000000</td>\n",
       "      <td>150000.000000</td>\n",
       "      <td>6.000000</td>\n",
       "      <td>0.0</td>\n",
       "      <td>49413.000000</td>\n",
       "    </tr>\n",
       "    <tr>\n",
       "      <th>75%</th>\n",
       "      <td>6400.000000</td>\n",
       "      <td>2008.000000</td>\n",
       "      <td>143.000000</td>\n",
       "      <td>150000.000000</td>\n",
       "      <td>9.000000</td>\n",
       "      <td>0.0</td>\n",
       "      <td>71083.000000</td>\n",
       "    </tr>\n",
       "    <tr>\n",
       "      <th>max</th>\n",
       "      <td>20000.000000</td>\n",
       "      <td>9999.000000</td>\n",
       "      <td>20000.000000</td>\n",
       "      <td>150000.000000</td>\n",
       "      <td>12.000000</td>\n",
       "      <td>0.0</td>\n",
       "      <td>99998.000000</td>\n",
       "    </tr>\n",
       "  </tbody>\n",
       "</table>\n",
       "</div>"
      ],
      "text/plain": [
       "               Price  RegistrationYear          Power      Kilometer  \\\n",
       "count  354369.000000     354369.000000  354369.000000  354369.000000   \n",
       "mean     4416.656776       2004.234448     110.094337  128211.172535   \n",
       "std      4514.158514         90.227958     189.850405   37905.341530   \n",
       "min         0.000000       1000.000000       0.000000    5000.000000   \n",
       "25%      1050.000000       1999.000000      69.000000  125000.000000   \n",
       "50%      2700.000000       2003.000000     105.000000  150000.000000   \n",
       "75%      6400.000000       2008.000000     143.000000  150000.000000   \n",
       "max     20000.000000       9999.000000   20000.000000  150000.000000   \n",
       "\n",
       "       RegistrationMonth  NumberOfPictures     PostalCode  \n",
       "count      354369.000000          354369.0  354369.000000  \n",
       "mean            5.714645               0.0   50508.689087  \n",
       "std             3.726421               0.0   25783.096248  \n",
       "min             0.000000               0.0    1067.000000  \n",
       "25%             3.000000               0.0   30165.000000  \n",
       "50%             6.000000               0.0   49413.000000  \n",
       "75%             9.000000               0.0   71083.000000  \n",
       "max            12.000000               0.0   99998.000000  "
      ]
     },
     "execution_count": 262,
     "metadata": {},
     "output_type": "execute_result"
    }
   ],
   "source": [
    "# Посмотрим на другие параметры таблицы с помощью describe\n",
    "df.describe()"
   ]
  },
  {
   "cell_type": "markdown",
   "metadata": {},
   "source": [
    "В столбцах Price, RegistrationYear, Power и RegistrationMonth есть аномальные минимальные и максимальные значения, поэтому рассмотрим гистограммы каждого признака отдельно."
   ]
  },
  {
   "cell_type": "markdown",
   "metadata": {},
   "source": [
    "<div class=\"alert alert-success\">\n",
    "✔️ Верно замечено. Возможно еще Power могло попасть под подозрение"
   ]
  },
  {
   "cell_type": "code",
   "execution_count": 263,
   "metadata": {},
   "outputs": [
    {
     "data": {
      "image/png": "[encoded data removed]",
      "text/plain": [
       "<Figure size 720x432 with 1 Axes>"
      ]
     },
     "metadata": {
      "needs_background": "light"
     },
     "output_type": "display_data"
    },
    {
     "data": {
      "image/png": "[encoded data removed]",
      "text/plain": [
       "<Figure size 720x432 with 1 Axes>"
      ]
     },
     "metadata": {
      "needs_background": "light"
     },
     "output_type": "display_data"
    },
    {
     "data": {
      "image/png": "[encoded data removed]",
      "text/plain": [
       "<Figure size 720x432 with 1 Axes>"
      ]
     },
     "metadata": {
      "needs_background": "light"
     },
     "output_type": "display_data"
    },
    {
     "data": {
      "image/png": "[encoded data removed]",
      "text/plain": [
       "<Figure size 720x432 with 1 Axes>"
      ]
     },
     "metadata": {
      "needs_background": "light"
     },
     "output_type": "display_data"
    }
   ],
   "source": [
    "# Создадим список для дальнейшего создания функции построения гистограмм признаков\n",
    "features_for_hist = ['Price', 'RegistrationYear', 'Power', 'RegistrationMonth']\n",
    "for i in features_for_hist:\n",
    "    plt.figure(figsize=(10, 6))\n",
    "    plt.title('Histogram of '+ i)\n",
    "    plt.xlabel(i)\n",
    "    plt.ylabel('Number of ads')\n",
    "    plt.hist(df[i], color='Blue', edgecolor='Black', bins=100)\n",
    "    plt.show()"
   ]
  },
  {
   "cell_type": "markdown",
   "metadata": {},
   "source": [
    "Цена автомобиля не может быть равна 0 евро. Поэтому оставим в таблице только значения больше 100 евро."
   ]
  },
  {
   "cell_type": "markdown",
   "metadata": {},
   "source": [
    "<div class=\"alert alert-success\">\n",
    "✔️ Вообще верное решение, правда хочу предложить посмотреть на этот момент с другой стороны: возможно кто-то и ставит из-за разных целей цену 0, например хочет договориться уже при общении, но нам скорее надо научиться угадывать не 0, а такие исключительные случаи могут повлиять на предсказания "
   ]
  },
  {
   "cell_type": "code",
   "execution_count": 264,
   "metadata": {},
   "outputs": [],
   "source": [
    "df = df[df['Price'] > 100]"
   ]
  },
  {
   "cell_type": "markdown",
   "metadata": {},
   "source": [
    "В столбце RegistrationYear встречаются аномальные значения. Оставим период с 1900 по 2022 гг."
   ]
  },
  {
   "cell_type": "code",
   "execution_count": 265,
   "metadata": {},
   "outputs": [],
   "source": [
    "df = df.query('1900 < RegistrationYear < 2022')"
   ]
  },
  {
   "cell_type": "markdown",
   "metadata": {},
   "source": [
    "<div class=\"alert alert-success\">\n",
    "✔️ 👍"
   ]
  },
  {
   "cell_type": "markdown",
   "metadata": {},
   "source": [
    "Мощность двигателя не может быть равна 0 и больше 1600 л.с. (согласно обнаруженной в интернете информации). Поэтому оставим значения Power в этом диапазоне."
   ]
  },
  {
   "cell_type": "code",
   "execution_count": 266,
   "metadata": {},
   "outputs": [],
   "source": [
    "df = df.query('0 < Power <= 1600')"
   ]
  },
  {
   "cell_type": "markdown",
   "metadata": {},
   "source": [
    "<div class=\"alert alert-success\">\n",
    "✔️ Power все же обрабатывается, супер:)"
   ]
  },
  {
   "cell_type": "markdown",
   "metadata": {},
   "source": [
    "С месяцами ситуация сложнее - месяц регистрации анкеты не может нулевым, однако таких анкет больше всего. Оставим значения данного признака без изменений, чтобы не портить данные."
   ]
  },
  {
   "cell_type": "code",
   "execution_count": 267,
   "metadata": {},
   "outputs": [
    {
     "data": {
      "text/html": [
       "<div>\n",
       "<style scoped>\n",
       "    .dataframe tbody tr th:only-of-type {\n",
       "        vertical-align: middle;\n",
       "    }\n",
       "\n",
       "    .dataframe tbody tr th {\n",
       "        vertical-align: top;\n",
       "    }\n",
       "\n",
       "    .dataframe thead th {\n",
       "        text-align: right;\n",
       "    }\n",
       "</style>\n",
       "<table border=\"1\" class=\"dataframe\">\n",
       "  <thead>\n",
       "    <tr style=\"text-align: right;\">\n",
       "      <th></th>\n",
       "      <th>DateCrawled</th>\n",
       "      <th>Price</th>\n",
       "      <th>VehicleType</th>\n",
       "      <th>RegistrationYear</th>\n",
       "      <th>Gearbox</th>\n",
       "      <th>Power</th>\n",
       "      <th>Model</th>\n",
       "      <th>Kilometer</th>\n",
       "      <th>RegistrationMonth</th>\n",
       "      <th>FuelType</th>\n",
       "      <th>Brand</th>\n",
       "      <th>NotRepaired</th>\n",
       "      <th>DateCreated</th>\n",
       "      <th>NumberOfPictures</th>\n",
       "      <th>PostalCode</th>\n",
       "      <th>LastSeen</th>\n",
       "    </tr>\n",
       "  </thead>\n",
       "  <tbody>\n",
       "    <tr>\n",
       "      <th>171088</th>\n",
       "      <td>2016-03-08 18:42:48</td>\n",
       "      <td>1799</td>\n",
       "      <td>coupe</td>\n",
       "      <td>1999</td>\n",
       "      <td>auto</td>\n",
       "      <td>193</td>\n",
       "      <td>clk</td>\n",
       "      <td>20000</td>\n",
       "      <td>7</td>\n",
       "      <td>petrol</td>\n",
       "      <td>mercedes_benz</td>\n",
       "      <td>no</td>\n",
       "      <td>2016-03-08</td>\n",
       "      <td>0</td>\n",
       "      <td>89518</td>\n",
       "      <td>2016-03-09 09:46:57</td>\n",
       "    </tr>\n",
       "    <tr>\n",
       "      <th>231258</th>\n",
       "      <td>2016-03-28 00:56:10</td>\n",
       "      <td>1000</td>\n",
       "      <td>small</td>\n",
       "      <td>2002</td>\n",
       "      <td>manual</td>\n",
       "      <td>83</td>\n",
       "      <td>other</td>\n",
       "      <td>150000</td>\n",
       "      <td>1</td>\n",
       "      <td>petrol</td>\n",
       "      <td>suzuki</td>\n",
       "      <td>no</td>\n",
       "      <td>2016-03-28</td>\n",
       "      <td>0</td>\n",
       "      <td>66589</td>\n",
       "      <td>2016-03-28 08:46:21</td>\n",
       "    </tr>\n",
       "    <tr>\n",
       "      <th>258109</th>\n",
       "      <td>2016-04-03 09:01:15</td>\n",
       "      <td>4699</td>\n",
       "      <td>coupe</td>\n",
       "      <td>2003</td>\n",
       "      <td>auto</td>\n",
       "      <td>218</td>\n",
       "      <td>clk</td>\n",
       "      <td>125000</td>\n",
       "      <td>6</td>\n",
       "      <td>petrol</td>\n",
       "      <td>mercedes_benz</td>\n",
       "      <td>yes</td>\n",
       "      <td>2016-04-03</td>\n",
       "      <td>0</td>\n",
       "      <td>75196</td>\n",
       "      <td>2016-04-07 09:44:54</td>\n",
       "    </tr>\n",
       "    <tr>\n",
       "      <th>325651</th>\n",
       "      <td>2016-03-18 18:46:15</td>\n",
       "      <td>1999</td>\n",
       "      <td>wagon</td>\n",
       "      <td>2001</td>\n",
       "      <td>manual</td>\n",
       "      <td>131</td>\n",
       "      <td>passat</td>\n",
       "      <td>150000</td>\n",
       "      <td>7</td>\n",
       "      <td>petrol</td>\n",
       "      <td>volkswagen</td>\n",
       "      <td>no</td>\n",
       "      <td>2016-03-18</td>\n",
       "      <td>0</td>\n",
       "      <td>36391</td>\n",
       "      <td>2016-03-18 18:46:15</td>\n",
       "    </tr>\n",
       "  </tbody>\n",
       "</table>\n",
       "</div>"
      ],
      "text/plain": [
       "               DateCrawled  Price VehicleType  RegistrationYear Gearbox  \\\n",
       "171088 2016-03-08 18:42:48   1799       coupe              1999    auto   \n",
       "231258 2016-03-28 00:56:10   1000       small              2002  manual   \n",
       "258109 2016-04-03 09:01:15   4699       coupe              2003    auto   \n",
       "325651 2016-03-18 18:46:15   1999       wagon              2001  manual   \n",
       "\n",
       "        Power   Model  Kilometer  RegistrationMonth FuelType          Brand  \\\n",
       "171088    193     clk      20000                  7   petrol  mercedes_benz   \n",
       "231258     83   other     150000                  1   petrol         suzuki   \n",
       "258109    218     clk     125000                  6   petrol  mercedes_benz   \n",
       "325651    131  passat     150000                  7   petrol     volkswagen   \n",
       "\n",
       "       NotRepaired DateCreated  NumberOfPictures  PostalCode  \\\n",
       "171088          no  2016-03-08                 0       89518   \n",
       "231258          no  2016-03-28                 0       66589   \n",
       "258109         yes  2016-04-03                 0       75196   \n",
       "325651          no  2016-03-18                 0       36391   \n",
       "\n",
       "                  LastSeen  \n",
       "171088 2016-03-09 09:46:57  \n",
       "231258 2016-03-28 08:46:21  \n",
       "258109 2016-04-07 09:44:54  \n",
       "325651 2016-03-18 18:46:15  "
      ]
     },
     "execution_count": 267,
     "metadata": {},
     "output_type": "execute_result"
    }
   ],
   "source": [
    "# Проверим данные на наличие дубликатов\n",
    "df[df.duplicated() == True]"
   ]
  },
  {
   "cell_type": "markdown",
   "metadata": {},
   "source": [
    "Мы видим, что 4 объявления дублируются. Вероятность того, что они опубликованы разными людьми, очень мала, поэтому избавимся от них."
   ]
  },
  {
   "cell_type": "code",
   "execution_count": 268,
   "metadata": {},
   "outputs": [],
   "source": [
    "df = df.drop_duplicates().reset_index(drop=True)"
   ]
  },
  {
   "cell_type": "markdown",
   "metadata": {},
   "source": [
    "**Вывод**\n",
    "\n",
    "Таким образом, на первом этапе были изучены признаки. Был обнаружен ряд аномальных значений, которые были очищены для дальнейшего корректного обучения моделей. Также были заменены пропуски значением \"unknown\". На следующем этапе обучим несколько моделей для предсказания цены автомобилей."
   ]
  },
  {
   "cell_type": "markdown",
   "metadata": {},
   "source": [
    "<div class=\"alert alert-success\">\n",
    "✔️ В целом шаг выполнен верно, все ключевые этапы подготовки даннных соблюдены и выводы сделаны"
   ]
  },
  {
   "cell_type": "markdown",
   "metadata": {},
   "source": [
    "<div class=\"alert alert-warning\"> \n",
    "⚠️ По шагу я бы предложила в следующий раз попробовать:\n",
    "    1. Изменить названия колонок в соответствии стандартам\n",
    "    2. Возможно попробовать детальнее поработать с заполнением пропусков. Заполнить признак был ли в ремонте автомобиль например посмотрев этот признак в связке с годом выпуска, например. Возможно были бы интересная картина с помощью которой можно было бы заполнить пропуски. Или например мощность по среднему внутри бренда. Или из таких признаков, где много уникальных значений пробовать создавать новые признаки. На примере бренда автомобиля — можно создать признак is_expensive_brand и проставить 1 там, где по данным явно дорогие бренды, или is_popular_brand и сделать то же самое для основной массы брендов. Или можно выделить в этом же признаке до 10 (например) брендов самых популярных, а остальные отнести к значению others. Это может реально повлиять на качество обучения"
   ]
  },
  {
   "cell_type": "markdown",
   "metadata": {},
   "source": [
    "<div class=\"alert alert-info\"> <b>Комментарий студента:</b> Спасибо за совет насчет обработки пропусков. Как будет время, я обязательно детально поработаю с пропусками.</div>"
   ]
  },
  {
   "cell_type": "markdown",
   "metadata": {},
   "source": [
    "<div class=\"alert alert-success\">\n",
    "    <b>Комментарий ревьюера v2</b>    <br>\n",
    " 👍\n",
    "Вот тут может быть найдешь идейки\n",
    "    \n",
    "http://www.machinelearning.ru/wiki/images/4/48/Methods_for_missing_value.pdf\n",
    "    \n",
    "https://loginom.ru/blog/missing"
   ]
  },
  {
   "cell_type": "markdown",
   "metadata": {},
   "source": [
    "## Обучение моделей"
   ]
  },
  {
   "cell_type": "markdown",
   "metadata": {},
   "source": [
    "Для обучения выберем следующие регрессионные модели:\n",
    "1. LinearRegression.\n",
    "2. DecisionTreeRegressor.\n",
    "3. RandomForestRegressor.\n",
    "4. LGBMRegressor.\n",
    "5. CatBoostRegressor."
   ]
  },
  {
   "cell_type": "markdown",
   "metadata": {},
   "source": [
    "Перед началом обучения моделей уберем признаки, которые никак не повлияют на их качество:\n",
    "- DateCrawled;\n",
    "- RegistrationMonth;\n",
    "- DateCreated;\n",
    "- NumberOfPictures;\n",
    "- PostalCode;\n",
    "- LastSeen;\n",
    "- Model;\n",
    "- Brand."
   ]
  },
  {
   "cell_type": "code",
   "execution_count": 269,
   "metadata": {},
   "outputs": [],
   "source": [
    "df_new = df.drop(['DateCrawled', \n",
    "            'RegistrationMonth', \n",
    "            'DateCreated', \n",
    "            'NumberOfPictures', \n",
    "            'PostalCode', \n",
    "            'LastSeen',\n",
    "            'Model',\n",
    "            'Brand'], \n",
    "             axis=1)"
   ]
  },
  {
   "cell_type": "code",
   "execution_count": 270,
   "metadata": {},
   "outputs": [
    {
     "data": {
      "image/png": "[encoded data removed]",
      "text/plain": [
       "<Figure size 576x432 with 2 Axes>"
      ]
     },
     "metadata": {
      "needs_background": "light"
     },
     "output_type": "display_data"
    }
   ],
   "source": [
    "# Посмотрим на коррелирующие между собой числовые значения\n",
    "matrix = np.triu(df_new.corr())\n",
    "plt.figure(figsize=(8, 6))\n",
    "sns.heatmap(df_new.corr(), annot=True, mask=matrix)\n",
    "plt.show()"
   ]
  },
  {
   "cell_type": "markdown",
   "metadata": {},
   "source": [
    "Сильно коррелирующих признаков между собой нет, поэтому дополнительно ничего удалять не будем."
   ]
  },
  {
   "cell_type": "markdown",
   "metadata": {},
   "source": [
    "<div class=\"alert alert-success\">\n",
    "✔️ Верно"
   ]
  },
  {
   "cell_type": "code",
   "execution_count": 271,
   "metadata": {},
   "outputs": [],
   "source": [
    "# Выделим целевой признак и признаки\n",
    "target = df_new['Price']\n",
    "features = df_new.drop(['Price'], axis=1)"
   ]
  },
  {
   "cell_type": "markdown",
   "metadata": {},
   "source": [
    "Разделим выборку на обучающую и тестовую. Валидационную выборку выделять не будем, поскольку в дальнейшем применим кросс-валидацию."
   ]
  },
  {
   "cell_type": "code",
   "execution_count": 272,
   "metadata": {},
   "outputs": [],
   "source": [
    "features_train, features_test, target_train, target_test = train_test_split(features, target, test_size=0.25, \n",
    "                                                                            random_state=12345)"
   ]
  },
  {
   "cell_type": "code",
   "execution_count": 273,
   "metadata": {},
   "outputs": [],
   "source": [
    "# Преобразуем категориальные признаки техникой OHE\n",
    "features_train_ohe = pd.get_dummies(features_train, drop_first=True)\n",
    "features_test_ohe = pd.get_dummies(features_test, drop_first=True)"
   ]
  },
  {
   "cell_type": "markdown",
   "metadata": {},
   "source": [
    "<div class=\"alert alert-success\">\n",
    "✔️❌ Нет разделения на валидацию. Если ли аргумент почему нет валидации? Учитывая обучение линейной регрессии в этой работе"
   ]
  },
  {
   "cell_type": "markdown",
   "metadata": {},
   "source": [
    "<div class=\"alert alert-info\"> <b>Комментарий студента:</b> Выделил валидационную выборку. На ней буду проверять скорость и качество моделей, а затем еще раз проверю лучшую модель на тестовой выборке.</div>"
   ]
  },
  {
   "cell_type": "markdown",
   "metadata": {},
   "source": [
    "<div class=\"alert alert-info\"> <b>Комментарий студента:</b> Оставил 2 выборки.\n",
    "</div>"
   ]
  },
  {
   "cell_type": "markdown",
   "metadata": {},
   "source": [
    "<div class=\"alert alert-success\">\n",
    "    <b>Комментарий ревьюера v3</b>    <br>\n",
    "✔️ Ниже понятно, то ты знаешь что это при GridSearchCV этого можно не делать, учитывая кросс-валидацию внутри"
   ]
  },
  {
   "cell_type": "markdown",
   "metadata": {},
   "source": [
    "Поскольку линейная модель сильно реагирует на разный масштаб подаваемых в нее признаков, то стандартизируем данные функцией StandardScaler."
   ]
  },
  {
   "cell_type": "code",
   "execution_count": 274,
   "metadata": {},
   "outputs": [],
   "source": [
    "scaler = StandardScaler()\n",
    "scaler.fit(features_train_ohe)\n",
    "features_train_sc = scaler.transform(features_train_ohe)\n",
    "features_test_sc = scaler.transform(features_test_ohe)"
   ]
  },
  {
   "cell_type": "markdown",
   "metadata": {},
   "source": [
    "<div class=\"alert alert-success\">\n",
    "✔️ 👍"
   ]
  },
  {
   "cell_type": "markdown",
   "metadata": {},
   "source": [
    "### Модель линейной регрессии"
   ]
  },
  {
   "cell_type": "markdown",
   "metadata": {},
   "source": [
    "Начнем с модели линейной регрессии. Обучим ее."
   ]
  },
  {
   "cell_type": "code",
   "execution_count": 275,
   "metadata": {},
   "outputs": [
    {
     "data": {
      "text/plain": [
       "LinearRegression()"
      ]
     },
     "execution_count": 275,
     "metadata": {},
     "output_type": "execute_result"
    }
   ],
   "source": [
    "LR = LinearRegression()\n",
    "LR.fit(features_train_sc, target_train)"
   ]
  },
  {
   "cell_type": "markdown",
   "metadata": {},
   "source": [
    "### Модель решающего дерева"
   ]
  },
  {
   "cell_type": "markdown",
   "metadata": {},
   "source": [
    "Далее обучим модель решающего дереваи и подберем для нее оптимальные гиперпараметры."
   ]
  },
  {
   "cell_type": "code",
   "execution_count": 276,
   "metadata": {},
   "outputs": [],
   "source": [
    "DTR = DecisionTreeRegressor()"
   ]
  },
  {
   "cell_type": "code",
   "execution_count": 277,
   "metadata": {},
   "outputs": [],
   "source": [
    "# Выпишем значения, в пределах которых будем искать оптимальное сочетание гиперпараметров\n",
    "parametrs = {'criterion':['mse'],\n",
    "            'max_depth': range(1, 13, 2),\n",
    "            'random_state': [12345]}"
   ]
  },
  {
   "cell_type": "code",
   "execution_count": 278,
   "metadata": {},
   "outputs": [
    {
     "data": {
      "text/plain": [
       "GridSearchCV(estimator=DecisionTreeRegressor(),\n",
       "             param_grid={'criterion': ['mse'], 'max_depth': range(1, 13, 2),\n",
       "                         'random_state': [12345]},\n",
       "             scoring='neg_mean_squared_error')"
      ]
     },
     "execution_count": 278,
     "metadata": {},
     "output_type": "execute_result"
    }
   ],
   "source": [
    "# Найдем оптимальные гиперпараметры для нашей модели\n",
    "grid_DTR = GridSearchCV(DTR, parametrs, scoring='neg_mean_squared_error')\n",
    "grid_DTR.fit(features_train_sc, target_train)"
   ]
  },
  {
   "cell_type": "code",
   "execution_count": 279,
   "metadata": {},
   "outputs": [
    {
     "data": {
      "text/plain": [
       "{'criterion': 'mse', 'max_depth': 11, 'random_state': 12345}"
      ]
     },
     "execution_count": 279,
     "metadata": {},
     "output_type": "execute_result"
    }
   ],
   "source": [
    "# Выведем результат\n",
    "grid_DTR.best_params_"
   ]
  },
  {
   "cell_type": "markdown",
   "metadata": {},
   "source": [
    "Лучшая модель получается при максимальной глубине дерева, равной 11."
   ]
  },
  {
   "cell_type": "markdown",
   "metadata": {},
   "source": [
    "<div class=\"alert alert-success\">\n",
    "✔️ 👍\n"
   ]
  },
  {
   "cell_type": "markdown",
   "metadata": {},
   "source": [
    "### Модель случайного леса"
   ]
  },
  {
   "cell_type": "markdown",
   "metadata": {},
   "source": [
    "Обучим модель решающего дереваи и подберем для нее оптимальные гиперпараметры."
   ]
  },
  {
   "cell_type": "code",
   "execution_count": 280,
   "metadata": {},
   "outputs": [],
   "source": [
    "RFR = RandomForestRegressor()"
   ]
  },
  {
   "cell_type": "code",
   "execution_count": 281,
   "metadata": {},
   "outputs": [],
   "source": [
    "# Выпишем значения, в пределах которых будем искать оптимальное сочетание гиперпараметров\n",
    "parametrs = {'criterion':['mse'],\n",
    "            'n_estimators': range(10, 51, 10),\n",
    "             'max_depth': range(1, 13, 2),\n",
    "             'random_state': [12345]}"
   ]
  },
  {
   "cell_type": "code",
   "execution_count": 282,
   "metadata": {},
   "outputs": [
    {
     "data": {
      "text/plain": [
       "GridSearchCV(estimator=RandomForestRegressor(),\n",
       "             param_grid={'criterion': ['mse'], 'max_depth': range(1, 13, 2),\n",
       "                         'n_estimators': range(10, 51, 10),\n",
       "                         'random_state': [12345]},\n",
       "             scoring='neg_mean_squared_error')"
      ]
     },
     "execution_count": 282,
     "metadata": {},
     "output_type": "execute_result"
    }
   ],
   "source": [
    "# Найдем оптимальные гиперпараметры для нашей модели\n",
    "grid_RFR = GridSearchCV(RFR, parametrs, scoring='neg_mean_squared_error')\n",
    "grid_RFR.fit(features_train_sc, target_train)"
   ]
  },
  {
   "cell_type": "code",
   "execution_count": 283,
   "metadata": {},
   "outputs": [
    {
     "data": {
      "text/plain": [
       "{'criterion': 'mse',\n",
       " 'max_depth': 11,\n",
       " 'n_estimators': 50,\n",
       " 'random_state': 12345}"
      ]
     },
     "execution_count": 283,
     "metadata": {},
     "output_type": "execute_result"
    }
   ],
   "source": [
    "# Выведем результат\n",
    "grid_RFR.best_params_"
   ]
  },
  {
   "cell_type": "markdown",
   "metadata": {},
   "source": [
    "Лучшая модель получается при максимальной глубине дерева, равной 11, и количестве деревьев, равного 50."
   ]
  },
  {
   "cell_type": "markdown",
   "metadata": {},
   "source": [
    "<div class=\"alert alert-success\">\n",
    "✔️ 👍\n"
   ]
  },
  {
   "cell_type": "markdown",
   "metadata": {},
   "source": [
    "### LightGBM  модель"
   ]
  },
  {
   "cell_type": "markdown",
   "metadata": {},
   "source": [
    "Обучим LightGBM модель и подберем для нее оптимальные гиперпараметры."
   ]
  },
  {
   "cell_type": "code",
   "execution_count": 290,
   "metadata": {},
   "outputs": [],
   "source": [
    "LGBMR = LGBMRegressor()"
   ]
  },
  {
   "cell_type": "code",
   "execution_count": 291,
   "metadata": {},
   "outputs": [],
   "source": [
    "# Выпишем значения, в пределах которых будем искать оптимальное сочетание гиперпараметров\n",
    "parametrs = {'num_leaves': [50, 100, 200],\n",
    "             'learning_rate': [0.1, 0.5, 0.8],\n",
    "             'random_state': [12345]}"
   ]
  },
  {
   "cell_type": "code",
   "execution_count": 293,
   "metadata": {},
   "outputs": [
    {
     "ename": "KeyboardInterrupt",
     "evalue": "",
     "output_type": "error",
     "traceback": [
      "\u001b[0;31m---------------------------------------------------------------------------\u001b[0m",
      "\u001b[0;31mKeyboardInterrupt\u001b[0m                         Traceback (most recent call last)",
      "\u001b[0;32m/tmp/ipykernel_36/2681750316.py\u001b[0m in \u001b[0;36m<module>\u001b[0;34m\u001b[0m\n\u001b[1;32m      1\u001b[0m \u001b[0;31m# Найдем оптимальные гиперпараметры для нашей модели\u001b[0m\u001b[0;34m\u001b[0m\u001b[0;34m\u001b[0m\u001b[0;34m\u001b[0m\u001b[0m\n\u001b[1;32m      2\u001b[0m \u001b[0mgrid_LGBMR\u001b[0m \u001b[0;34m=\u001b[0m \u001b[0mGridSearchCV\u001b[0m\u001b[0;34m(\u001b[0m\u001b[0mLGBMR\u001b[0m\u001b[0;34m,\u001b[0m \u001b[0mparametrs\u001b[0m\u001b[0;34m,\u001b[0m \u001b[0mscoring\u001b[0m\u001b[0;34m=\u001b[0m\u001b[0;34m'neg_mean_squared_error'\u001b[0m\u001b[0;34m)\u001b[0m\u001b[0;34m\u001b[0m\u001b[0;34m\u001b[0m\u001b[0m\n\u001b[0;32m----> 3\u001b[0;31m \u001b[0mgrid_LGBMR\u001b[0m\u001b[0;34m.\u001b[0m\u001b[0mfit\u001b[0m\u001b[0;34m(\u001b[0m\u001b[0mfeatures_train_sc\u001b[0m\u001b[0;34m,\u001b[0m \u001b[0mtarget_train\u001b[0m\u001b[0;34m)\u001b[0m\u001b[0;34m\u001b[0m\u001b[0;34m\u001b[0m\u001b[0m\n\u001b[0m",
      "\u001b[0;32m/opt/conda/lib/python3.9/site-packages/sklearn/utils/validation.py\u001b[0m in \u001b[0;36minner_f\u001b[0;34m(*args, **kwargs)\u001b[0m\n\u001b[1;32m     61\u001b[0m             \u001b[0mextra_args\u001b[0m \u001b[0;34m=\u001b[0m \u001b[0mlen\u001b[0m\u001b[0;34m(\u001b[0m\u001b[0margs\u001b[0m\u001b[0;34m)\u001b[0m \u001b[0;34m-\u001b[0m \u001b[0mlen\u001b[0m\u001b[0;34m(\u001b[0m\u001b[0mall_args\u001b[0m\u001b[0;34m)\u001b[0m\u001b[0;34m\u001b[0m\u001b[0;34m\u001b[0m\u001b[0m\n\u001b[1;32m     62\u001b[0m             \u001b[0;32mif\u001b[0m \u001b[0mextra_args\u001b[0m \u001b[0;34m<=\u001b[0m \u001b[0;36m0\u001b[0m\u001b[0;34m:\u001b[0m\u001b[0;34m\u001b[0m\u001b[0;34m\u001b[0m\u001b[0m\n\u001b[0;32m---> 63\u001b[0;31m                 \u001b[0;32mreturn\u001b[0m \u001b[0mf\u001b[0m\u001b[0;34m(\u001b[0m\u001b[0;34m*\u001b[0m\u001b[0margs\u001b[0m\u001b[0;34m,\u001b[0m \u001b[0;34m**\u001b[0m\u001b[0mkwargs\u001b[0m\u001b[0;34m)\u001b[0m\u001b[0;34m\u001b[0m\u001b[0;34m\u001b[0m\u001b[0m\n\u001b[0m\u001b[1;32m     64\u001b[0m \u001b[0;34m\u001b[0m\u001b[0m\n\u001b[1;32m     65\u001b[0m             \u001b[0;31m# extra_args > 0\u001b[0m\u001b[0;34m\u001b[0m\u001b[0;34m\u001b[0m\u001b[0;34m\u001b[0m\u001b[0m\n",
      "\u001b[0;32m/opt/conda/lib/python3.9/site-packages/sklearn/model_selection/_search.py\u001b[0m in \u001b[0;36mfit\u001b[0;34m(self, X, y, groups, **fit_params)\u001b[0m\n\u001b[1;32m    839\u001b[0m                 \u001b[0;32mreturn\u001b[0m \u001b[0mresults\u001b[0m\u001b[0;34m\u001b[0m\u001b[0;34m\u001b[0m\u001b[0m\n\u001b[1;32m    840\u001b[0m \u001b[0;34m\u001b[0m\u001b[0m\n\u001b[0;32m--> 841\u001b[0;31m             \u001b[0mself\u001b[0m\u001b[0;34m.\u001b[0m\u001b[0m_run_search\u001b[0m\u001b[0;34m(\u001b[0m\u001b[0mevaluate_candidates\u001b[0m\u001b[0;34m)\u001b[0m\u001b[0;34m\u001b[0m\u001b[0;34m\u001b[0m\u001b[0m\n\u001b[0m\u001b[1;32m    842\u001b[0m \u001b[0;34m\u001b[0m\u001b[0m\n\u001b[1;32m    843\u001b[0m             \u001b[0;31m# multimetric is determined here because in the case of a callable\u001b[0m\u001b[0;34m\u001b[0m\u001b[0;34m\u001b[0m\u001b[0;34m\u001b[0m\u001b[0m\n",
      "\u001b[0;32m/opt/conda/lib/python3.9/site-packages/sklearn/model_selection/_search.py\u001b[0m in \u001b[0;36m_run_search\u001b[0;34m(self, evaluate_candidates)\u001b[0m\n\u001b[1;32m   1286\u001b[0m     \u001b[0;32mdef\u001b[0m \u001b[0m_run_search\u001b[0m\u001b[0;34m(\u001b[0m\u001b[0mself\u001b[0m\u001b[0;34m,\u001b[0m \u001b[0mevaluate_candidates\u001b[0m\u001b[0;34m)\u001b[0m\u001b[0;34m:\u001b[0m\u001b[0;34m\u001b[0m\u001b[0;34m\u001b[0m\u001b[0m\n\u001b[1;32m   1287\u001b[0m         \u001b[0;34m\"\"\"Search all candidates in param_grid\"\"\"\u001b[0m\u001b[0;34m\u001b[0m\u001b[0;34m\u001b[0m\u001b[0m\n\u001b[0;32m-> 1288\u001b[0;31m         \u001b[0mevaluate_candidates\u001b[0m\u001b[0;34m(\u001b[0m\u001b[0mParameterGrid\u001b[0m\u001b[0;34m(\u001b[0m\u001b[0mself\u001b[0m\u001b[0;34m.\u001b[0m\u001b[0mparam_grid\u001b[0m\u001b[0;34m)\u001b[0m\u001b[0;34m)\u001b[0m\u001b[0;34m\u001b[0m\u001b[0;34m\u001b[0m\u001b[0m\n\u001b[0m\u001b[1;32m   1289\u001b[0m \u001b[0;34m\u001b[0m\u001b[0m\n\u001b[1;32m   1290\u001b[0m \u001b[0;34m\u001b[0m\u001b[0m\n",
      "\u001b[0;32m/opt/conda/lib/python3.9/site-packages/sklearn/model_selection/_search.py\u001b[0m in \u001b[0;36mevaluate_candidates\u001b[0;34m(candidate_params, cv, more_results)\u001b[0m\n\u001b[1;32m    793\u001b[0m                               n_splits, n_candidates, n_candidates * n_splits))\n\u001b[1;32m    794\u001b[0m \u001b[0;34m\u001b[0m\u001b[0m\n\u001b[0;32m--> 795\u001b[0;31m                 out = parallel(delayed(_fit_and_score)(clone(base_estimator),\n\u001b[0m\u001b[1;32m    796\u001b[0m                                                        \u001b[0mX\u001b[0m\u001b[0;34m,\u001b[0m \u001b[0my\u001b[0m\u001b[0;34m,\u001b[0m\u001b[0;34m\u001b[0m\u001b[0;34m\u001b[0m\u001b[0m\n\u001b[1;32m    797\u001b[0m                                                        \u001b[0mtrain\u001b[0m\u001b[0;34m=\u001b[0m\u001b[0mtrain\u001b[0m\u001b[0;34m,\u001b[0m \u001b[0mtest\u001b[0m\u001b[0;34m=\u001b[0m\u001b[0mtest\u001b[0m\u001b[0;34m,\u001b[0m\u001b[0;34m\u001b[0m\u001b[0;34m\u001b[0m\u001b[0m\n",
      "\u001b[0;32m/opt/conda/lib/python3.9/site-packages/joblib/parallel.py\u001b[0m in \u001b[0;36m__call__\u001b[0;34m(self, iterable)\u001b[0m\n\u001b[1;32m   1041\u001b[0m             \u001b[0;31m# remaining jobs.\u001b[0m\u001b[0;34m\u001b[0m\u001b[0;34m\u001b[0m\u001b[0;34m\u001b[0m\u001b[0m\n\u001b[1;32m   1042\u001b[0m             \u001b[0mself\u001b[0m\u001b[0;34m.\u001b[0m\u001b[0m_iterating\u001b[0m \u001b[0;34m=\u001b[0m \u001b[0;32mFalse\u001b[0m\u001b[0;34m\u001b[0m\u001b[0;34m\u001b[0m\u001b[0m\n\u001b[0;32m-> 1043\u001b[0;31m             \u001b[0;32mif\u001b[0m \u001b[0mself\u001b[0m\u001b[0;34m.\u001b[0m\u001b[0mdispatch_one_batch\u001b[0m\u001b[0;34m(\u001b[0m\u001b[0miterator\u001b[0m\u001b[0;34m)\u001b[0m\u001b[0;34m:\u001b[0m\u001b[0;34m\u001b[0m\u001b[0;34m\u001b[0m\u001b[0m\n\u001b[0m\u001b[1;32m   1044\u001b[0m                 \u001b[0mself\u001b[0m\u001b[0;34m.\u001b[0m\u001b[0m_iterating\u001b[0m \u001b[0;34m=\u001b[0m \u001b[0mself\u001b[0m\u001b[0;34m.\u001b[0m\u001b[0m_original_iterator\u001b[0m \u001b[0;32mis\u001b[0m \u001b[0;32mnot\u001b[0m \u001b[0;32mNone\u001b[0m\u001b[0;34m\u001b[0m\u001b[0;34m\u001b[0m\u001b[0m\n\u001b[1;32m   1045\u001b[0m \u001b[0;34m\u001b[0m\u001b[0m\n",
      "\u001b[0;32m/opt/conda/lib/python3.9/site-packages/joblib/parallel.py\u001b[0m in \u001b[0;36mdispatch_one_batch\u001b[0;34m(self, iterator)\u001b[0m\n\u001b[1;32m    859\u001b[0m                 \u001b[0;32mreturn\u001b[0m \u001b[0;32mFalse\u001b[0m\u001b[0;34m\u001b[0m\u001b[0;34m\u001b[0m\u001b[0m\n\u001b[1;32m    860\u001b[0m             \u001b[0;32melse\u001b[0m\u001b[0;34m:\u001b[0m\u001b[0;34m\u001b[0m\u001b[0;34m\u001b[0m\u001b[0m\n\u001b[0;32m--> 861\u001b[0;31m                 \u001b[0mself\u001b[0m\u001b[0;34m.\u001b[0m\u001b[0m_dispatch\u001b[0m\u001b[0;34m(\u001b[0m\u001b[0mtasks\u001b[0m\u001b[0;34m)\u001b[0m\u001b[0;34m\u001b[0m\u001b[0;34m\u001b[0m\u001b[0m\n\u001b[0m\u001b[1;32m    862\u001b[0m                 \u001b[0;32mreturn\u001b[0m \u001b[0;32mTrue\u001b[0m\u001b[0;34m\u001b[0m\u001b[0;34m\u001b[0m\u001b[0m\n\u001b[1;32m    863\u001b[0m \u001b[0;34m\u001b[0m\u001b[0m\n",
      "\u001b[0;32m/opt/conda/lib/python3.9/site-packages/joblib/parallel.py\u001b[0m in \u001b[0;36m_dispatch\u001b[0;34m(self, batch)\u001b[0m\n\u001b[1;32m    777\u001b[0m         \u001b[0;32mwith\u001b[0m \u001b[0mself\u001b[0m\u001b[0;34m.\u001b[0m\u001b[0m_lock\u001b[0m\u001b[0;34m:\u001b[0m\u001b[0;34m\u001b[0m\u001b[0;34m\u001b[0m\u001b[0m\n\u001b[1;32m    778\u001b[0m             \u001b[0mjob_idx\u001b[0m \u001b[0;34m=\u001b[0m \u001b[0mlen\u001b[0m\u001b[0;34m(\u001b[0m\u001b[0mself\u001b[0m\u001b[0;34m.\u001b[0m\u001b[0m_jobs\u001b[0m\u001b[0;34m)\u001b[0m\u001b[0;34m\u001b[0m\u001b[0;34m\u001b[0m\u001b[0m\n\u001b[0;32m--> 779\u001b[0;31m             \u001b[0mjob\u001b[0m \u001b[0;34m=\u001b[0m \u001b[0mself\u001b[0m\u001b[0;34m.\u001b[0m\u001b[0m_backend\u001b[0m\u001b[0;34m.\u001b[0m\u001b[0mapply_async\u001b[0m\u001b[0;34m(\u001b[0m\u001b[0mbatch\u001b[0m\u001b[0;34m,\u001b[0m \u001b[0mcallback\u001b[0m\u001b[0;34m=\u001b[0m\u001b[0mcb\u001b[0m\u001b[0;34m)\u001b[0m\u001b[0;34m\u001b[0m\u001b[0;34m\u001b[0m\u001b[0m\n\u001b[0m\u001b[1;32m    780\u001b[0m             \u001b[0;31m# A job can complete so quickly than its callback is\u001b[0m\u001b[0;34m\u001b[0m\u001b[0;34m\u001b[0m\u001b[0;34m\u001b[0m\u001b[0m\n\u001b[1;32m    781\u001b[0m             \u001b[0;31m# called before we get here, causing self._jobs to\u001b[0m\u001b[0;34m\u001b[0m\u001b[0;34m\u001b[0m\u001b[0;34m\u001b[0m\u001b[0m\n",
      "\u001b[0;32m/opt/conda/lib/python3.9/site-packages/joblib/_parallel_backends.py\u001b[0m in \u001b[0;36mapply_async\u001b[0;34m(self, func, callback)\u001b[0m\n\u001b[1;32m    206\u001b[0m     \u001b[0;32mdef\u001b[0m \u001b[0mapply_async\u001b[0m\u001b[0;34m(\u001b[0m\u001b[0mself\u001b[0m\u001b[0;34m,\u001b[0m \u001b[0mfunc\u001b[0m\u001b[0;34m,\u001b[0m \u001b[0mcallback\u001b[0m\u001b[0;34m=\u001b[0m\u001b[0;32mNone\u001b[0m\u001b[0;34m)\u001b[0m\u001b[0;34m:\u001b[0m\u001b[0;34m\u001b[0m\u001b[0;34m\u001b[0m\u001b[0m\n\u001b[1;32m    207\u001b[0m         \u001b[0;34m\"\"\"Schedule a func to be run\"\"\"\u001b[0m\u001b[0;34m\u001b[0m\u001b[0;34m\u001b[0m\u001b[0m\n\u001b[0;32m--> 208\u001b[0;31m         \u001b[0mresult\u001b[0m \u001b[0;34m=\u001b[0m \u001b[0mImmediateResult\u001b[0m\u001b[0;34m(\u001b[0m\u001b[0mfunc\u001b[0m\u001b[0;34m)\u001b[0m\u001b[0;34m\u001b[0m\u001b[0;34m\u001b[0m\u001b[0m\n\u001b[0m\u001b[1;32m    209\u001b[0m         \u001b[0;32mif\u001b[0m \u001b[0mcallback\u001b[0m\u001b[0;34m:\u001b[0m\u001b[0;34m\u001b[0m\u001b[0;34m\u001b[0m\u001b[0m\n\u001b[1;32m    210\u001b[0m             \u001b[0mcallback\u001b[0m\u001b[0;34m(\u001b[0m\u001b[0mresult\u001b[0m\u001b[0;34m)\u001b[0m\u001b[0;34m\u001b[0m\u001b[0;34m\u001b[0m\u001b[0m\n",
      "\u001b[0;32m/opt/conda/lib/python3.9/site-packages/joblib/_parallel_backends.py\u001b[0m in \u001b[0;36m__init__\u001b[0;34m(self, batch)\u001b[0m\n\u001b[1;32m    570\u001b[0m         \u001b[0;31m# Don't delay the application, to avoid keeping the input\u001b[0m\u001b[0;34m\u001b[0m\u001b[0;34m\u001b[0m\u001b[0;34m\u001b[0m\u001b[0m\n\u001b[1;32m    571\u001b[0m         \u001b[0;31m# arguments in memory\u001b[0m\u001b[0;34m\u001b[0m\u001b[0;34m\u001b[0m\u001b[0;34m\u001b[0m\u001b[0m\n\u001b[0;32m--> 572\u001b[0;31m         \u001b[0mself\u001b[0m\u001b[0;34m.\u001b[0m\u001b[0mresults\u001b[0m \u001b[0;34m=\u001b[0m \u001b[0mbatch\u001b[0m\u001b[0;34m(\u001b[0m\u001b[0;34m)\u001b[0m\u001b[0;34m\u001b[0m\u001b[0;34m\u001b[0m\u001b[0m\n\u001b[0m\u001b[1;32m    573\u001b[0m \u001b[0;34m\u001b[0m\u001b[0m\n\u001b[1;32m    574\u001b[0m     \u001b[0;32mdef\u001b[0m \u001b[0mget\u001b[0m\u001b[0;34m(\u001b[0m\u001b[0mself\u001b[0m\u001b[0;34m)\u001b[0m\u001b[0;34m:\u001b[0m\u001b[0;34m\u001b[0m\u001b[0;34m\u001b[0m\u001b[0m\n",
      "\u001b[0;32m/opt/conda/lib/python3.9/site-packages/joblib/parallel.py\u001b[0m in \u001b[0;36m__call__\u001b[0;34m(self)\u001b[0m\n\u001b[1;32m    260\u001b[0m         \u001b[0;31m# change the default number of processes to -1\u001b[0m\u001b[0;34m\u001b[0m\u001b[0;34m\u001b[0m\u001b[0;34m\u001b[0m\u001b[0m\n\u001b[1;32m    261\u001b[0m         \u001b[0;32mwith\u001b[0m \u001b[0mparallel_backend\u001b[0m\u001b[0;34m(\u001b[0m\u001b[0mself\u001b[0m\u001b[0;34m.\u001b[0m\u001b[0m_backend\u001b[0m\u001b[0;34m,\u001b[0m \u001b[0mn_jobs\u001b[0m\u001b[0;34m=\u001b[0m\u001b[0mself\u001b[0m\u001b[0;34m.\u001b[0m\u001b[0m_n_jobs\u001b[0m\u001b[0;34m)\u001b[0m\u001b[0;34m:\u001b[0m\u001b[0;34m\u001b[0m\u001b[0;34m\u001b[0m\u001b[0m\n\u001b[0;32m--> 262\u001b[0;31m             return [func(*args, **kwargs)\n\u001b[0m\u001b[1;32m    263\u001b[0m                     for func, args, kwargs in self.items]\n\u001b[1;32m    264\u001b[0m \u001b[0;34m\u001b[0m\u001b[0m\n",
      "\u001b[0;32m/opt/conda/lib/python3.9/site-packages/joblib/parallel.py\u001b[0m in \u001b[0;36m<listcomp>\u001b[0;34m(.0)\u001b[0m\n\u001b[1;32m    260\u001b[0m         \u001b[0;31m# change the default number of processes to -1\u001b[0m\u001b[0;34m\u001b[0m\u001b[0;34m\u001b[0m\u001b[0;34m\u001b[0m\u001b[0m\n\u001b[1;32m    261\u001b[0m         \u001b[0;32mwith\u001b[0m \u001b[0mparallel_backend\u001b[0m\u001b[0;34m(\u001b[0m\u001b[0mself\u001b[0m\u001b[0;34m.\u001b[0m\u001b[0m_backend\u001b[0m\u001b[0;34m,\u001b[0m \u001b[0mn_jobs\u001b[0m\u001b[0;34m=\u001b[0m\u001b[0mself\u001b[0m\u001b[0;34m.\u001b[0m\u001b[0m_n_jobs\u001b[0m\u001b[0;34m)\u001b[0m\u001b[0;34m:\u001b[0m\u001b[0;34m\u001b[0m\u001b[0;34m\u001b[0m\u001b[0m\n\u001b[0;32m--> 262\u001b[0;31m             return [func(*args, **kwargs)\n\u001b[0m\u001b[1;32m    263\u001b[0m                     for func, args, kwargs in self.items]\n\u001b[1;32m    264\u001b[0m \u001b[0;34m\u001b[0m\u001b[0m\n",
      "\u001b[0;32m/opt/conda/lib/python3.9/site-packages/sklearn/utils/fixes.py\u001b[0m in \u001b[0;36m__call__\u001b[0;34m(self, *args, **kwargs)\u001b[0m\n\u001b[1;32m    220\u001b[0m     \u001b[0;32mdef\u001b[0m \u001b[0m__call__\u001b[0m\u001b[0;34m(\u001b[0m\u001b[0mself\u001b[0m\u001b[0;34m,\u001b[0m \u001b[0;34m*\u001b[0m\u001b[0margs\u001b[0m\u001b[0;34m,\u001b[0m \u001b[0;34m**\u001b[0m\u001b[0mkwargs\u001b[0m\u001b[0;34m)\u001b[0m\u001b[0;34m:\u001b[0m\u001b[0;34m\u001b[0m\u001b[0;34m\u001b[0m\u001b[0m\n\u001b[1;32m    221\u001b[0m         \u001b[0;32mwith\u001b[0m \u001b[0mconfig_context\u001b[0m\u001b[0;34m(\u001b[0m\u001b[0;34m**\u001b[0m\u001b[0mself\u001b[0m\u001b[0;34m.\u001b[0m\u001b[0mconfig\u001b[0m\u001b[0;34m)\u001b[0m\u001b[0;34m:\u001b[0m\u001b[0;34m\u001b[0m\u001b[0;34m\u001b[0m\u001b[0m\n\u001b[0;32m--> 222\u001b[0;31m             \u001b[0;32mreturn\u001b[0m \u001b[0mself\u001b[0m\u001b[0;34m.\u001b[0m\u001b[0mfunction\u001b[0m\u001b[0;34m(\u001b[0m\u001b[0;34m*\u001b[0m\u001b[0margs\u001b[0m\u001b[0;34m,\u001b[0m \u001b[0;34m**\u001b[0m\u001b[0mkwargs\u001b[0m\u001b[0;34m)\u001b[0m\u001b[0;34m\u001b[0m\u001b[0;34m\u001b[0m\u001b[0m\n\u001b[0m",
      "\u001b[0;32m/opt/conda/lib/python3.9/site-packages/sklearn/model_selection/_validation.py\u001b[0m in \u001b[0;36m_fit_and_score\u001b[0;34m(estimator, X, y, scorer, train, test, verbose, parameters, fit_params, return_train_score, return_parameters, return_n_test_samples, return_times, return_estimator, split_progress, candidate_progress, error_score)\u001b[0m\n\u001b[1;32m    591\u001b[0m             \u001b[0mestimator\u001b[0m\u001b[0;34m.\u001b[0m\u001b[0mfit\u001b[0m\u001b[0;34m(\u001b[0m\u001b[0mX_train\u001b[0m\u001b[0;34m,\u001b[0m \u001b[0;34m**\u001b[0m\u001b[0mfit_params\u001b[0m\u001b[0;34m)\u001b[0m\u001b[0;34m\u001b[0m\u001b[0;34m\u001b[0m\u001b[0m\n\u001b[1;32m    592\u001b[0m         \u001b[0;32melse\u001b[0m\u001b[0;34m:\u001b[0m\u001b[0;34m\u001b[0m\u001b[0;34m\u001b[0m\u001b[0m\n\u001b[0;32m--> 593\u001b[0;31m             \u001b[0mestimator\u001b[0m\u001b[0;34m.\u001b[0m\u001b[0mfit\u001b[0m\u001b[0;34m(\u001b[0m\u001b[0mX_train\u001b[0m\u001b[0;34m,\u001b[0m \u001b[0my_train\u001b[0m\u001b[0;34m,\u001b[0m \u001b[0;34m**\u001b[0m\u001b[0mfit_params\u001b[0m\u001b[0;34m)\u001b[0m\u001b[0;34m\u001b[0m\u001b[0;34m\u001b[0m\u001b[0m\n\u001b[0m\u001b[1;32m    594\u001b[0m \u001b[0;34m\u001b[0m\u001b[0m\n\u001b[1;32m    595\u001b[0m     \u001b[0;32mexcept\u001b[0m \u001b[0mException\u001b[0m \u001b[0;32mas\u001b[0m \u001b[0me\u001b[0m\u001b[0;34m:\u001b[0m\u001b[0;34m\u001b[0m\u001b[0;34m\u001b[0m\u001b[0m\n",
      "\u001b[0;32m/opt/conda/lib/python3.9/site-packages/lightgbm/sklearn.py\u001b[0m in \u001b[0;36mfit\u001b[0;34m(self, X, y, sample_weight, init_score, eval_set, eval_names, eval_sample_weight, eval_init_score, eval_metric, early_stopping_rounds, verbose, feature_name, categorical_feature, callbacks, init_model)\u001b[0m\n\u001b[1;32m    893\u001b[0m             callbacks=None, init_model=None):\n\u001b[1;32m    894\u001b[0m         \u001b[0;34m\"\"\"Docstring is inherited from the LGBMModel.\"\"\"\u001b[0m\u001b[0;34m\u001b[0m\u001b[0;34m\u001b[0m\u001b[0m\n\u001b[0;32m--> 895\u001b[0;31m         super().fit(X, y, sample_weight=sample_weight, init_score=init_score,\n\u001b[0m\u001b[1;32m    896\u001b[0m                     \u001b[0meval_set\u001b[0m\u001b[0;34m=\u001b[0m\u001b[0meval_set\u001b[0m\u001b[0;34m,\u001b[0m \u001b[0meval_names\u001b[0m\u001b[0;34m=\u001b[0m\u001b[0meval_names\u001b[0m\u001b[0;34m,\u001b[0m \u001b[0meval_sample_weight\u001b[0m\u001b[0;34m=\u001b[0m\u001b[0meval_sample_weight\u001b[0m\u001b[0;34m,\u001b[0m\u001b[0;34m\u001b[0m\u001b[0;34m\u001b[0m\u001b[0m\n\u001b[1;32m    897\u001b[0m                     \u001b[0meval_init_score\u001b[0m\u001b[0;34m=\u001b[0m\u001b[0meval_init_score\u001b[0m\u001b[0;34m,\u001b[0m \u001b[0meval_metric\u001b[0m\u001b[0;34m=\u001b[0m\u001b[0meval_metric\u001b[0m\u001b[0;34m,\u001b[0m\u001b[0;34m\u001b[0m\u001b[0;34m\u001b[0m\u001b[0m\n",
      "\u001b[0;32m/opt/conda/lib/python3.9/site-packages/lightgbm/sklearn.py\u001b[0m in \u001b[0;36mfit\u001b[0;34m(self, X, y, sample_weight, init_score, group, eval_set, eval_names, eval_sample_weight, eval_class_weight, eval_init_score, eval_group, eval_metric, early_stopping_rounds, verbose, feature_name, categorical_feature, callbacks, init_model)\u001b[0m\n\u001b[1;32m    746\u001b[0m         \u001b[0mcallbacks\u001b[0m\u001b[0;34m.\u001b[0m\u001b[0mappend\u001b[0m\u001b[0;34m(\u001b[0m\u001b[0mrecord_evaluation\u001b[0m\u001b[0;34m(\u001b[0m\u001b[0mevals_result\u001b[0m\u001b[0;34m)\u001b[0m\u001b[0;34m)\u001b[0m\u001b[0;34m\u001b[0m\u001b[0;34m\u001b[0m\u001b[0m\n\u001b[1;32m    747\u001b[0m \u001b[0;34m\u001b[0m\u001b[0m\n\u001b[0;32m--> 748\u001b[0;31m         self._Booster = train(\n\u001b[0m\u001b[1;32m    749\u001b[0m             \u001b[0mparams\u001b[0m\u001b[0;34m=\u001b[0m\u001b[0mparams\u001b[0m\u001b[0;34m,\u001b[0m\u001b[0;34m\u001b[0m\u001b[0;34m\u001b[0m\u001b[0m\n\u001b[1;32m    750\u001b[0m             \u001b[0mtrain_set\u001b[0m\u001b[0;34m=\u001b[0m\u001b[0mtrain_set\u001b[0m\u001b[0;34m,\u001b[0m\u001b[0;34m\u001b[0m\u001b[0;34m\u001b[0m\u001b[0m\n",
      "\u001b[0;32m/opt/conda/lib/python3.9/site-packages/lightgbm/engine.py\u001b[0m in \u001b[0;36mtrain\u001b[0;34m(params, train_set, num_boost_round, valid_sets, valid_names, fobj, feval, init_model, feature_name, categorical_feature, early_stopping_rounds, evals_result, verbose_eval, learning_rates, keep_training_booster, callbacks)\u001b[0m\n\u001b[1;32m    290\u001b[0m                                     evaluation_result_list=None))\n\u001b[1;32m    291\u001b[0m \u001b[0;34m\u001b[0m\u001b[0m\n\u001b[0;32m--> 292\u001b[0;31m         \u001b[0mbooster\u001b[0m\u001b[0;34m.\u001b[0m\u001b[0mupdate\u001b[0m\u001b[0;34m(\u001b[0m\u001b[0mfobj\u001b[0m\u001b[0;34m=\u001b[0m\u001b[0mfobj\u001b[0m\u001b[0;34m)\u001b[0m\u001b[0;34m\u001b[0m\u001b[0;34m\u001b[0m\u001b[0m\n\u001b[0m\u001b[1;32m    293\u001b[0m \u001b[0;34m\u001b[0m\u001b[0m\n\u001b[1;32m    294\u001b[0m         \u001b[0mevaluation_result_list\u001b[0m \u001b[0;34m=\u001b[0m \u001b[0;34m[\u001b[0m\u001b[0;34m]\u001b[0m\u001b[0;34m\u001b[0m\u001b[0;34m\u001b[0m\u001b[0m\n",
      "\u001b[0;32m/opt/conda/lib/python3.9/site-packages/lightgbm/basic.py\u001b[0m in \u001b[0;36mupdate\u001b[0;34m(self, train_set, fobj)\u001b[0m\n\u001b[1;32m   3019\u001b[0m             \u001b[0;32mif\u001b[0m \u001b[0mself\u001b[0m\u001b[0;34m.\u001b[0m\u001b[0m__set_objective_to_none\u001b[0m\u001b[0;34m:\u001b[0m\u001b[0;34m\u001b[0m\u001b[0;34m\u001b[0m\u001b[0m\n\u001b[1;32m   3020\u001b[0m                 \u001b[0;32mraise\u001b[0m \u001b[0mLightGBMError\u001b[0m\u001b[0;34m(\u001b[0m\u001b[0;34m'Cannot update due to null objective function.'\u001b[0m\u001b[0;34m)\u001b[0m\u001b[0;34m\u001b[0m\u001b[0;34m\u001b[0m\u001b[0m\n\u001b[0;32m-> 3021\u001b[0;31m             _safe_call(_LIB.LGBM_BoosterUpdateOneIter(\n\u001b[0m\u001b[1;32m   3022\u001b[0m                 \u001b[0mself\u001b[0m\u001b[0;34m.\u001b[0m\u001b[0mhandle\u001b[0m\u001b[0;34m,\u001b[0m\u001b[0;34m\u001b[0m\u001b[0;34m\u001b[0m\u001b[0m\n\u001b[1;32m   3023\u001b[0m                 ctypes.byref(is_finished)))\n",
      "\u001b[0;31mKeyboardInterrupt\u001b[0m: "
     ]
    }
   ],
   "source": [
    "# Найдем оптимальные гиперпараметры для нашей модели\n",
    "grid_LGBMR = GridSearchCV(LGBMR, parametrs, scoring='neg_mean_squared_error')\n",
    "grid_LGBMR.fit(features_train_sc, target_train)"
   ]
  },
  {
   "cell_type": "code",
   "execution_count": null,
   "metadata": {},
   "outputs": [],
   "source": [
    "# Выведем результат\n",
    "grid_LGBMR.best_params_"
   ]
  },
  {
   "cell_type": "markdown",
   "metadata": {},
   "source": [
    "Лучшая модель получается при learning_rate = 0.1 и num_leaves = 200."
   ]
  },
  {
   "cell_type": "markdown",
   "metadata": {},
   "source": [
    "<div class=\"alert alert-success\">\n",
    "✔️ 👍"
   ]
  },
  {
   "cell_type": "markdown",
   "metadata": {},
   "source": [
    "### CatBoost  модель"
   ]
  },
  {
   "cell_type": "markdown",
   "metadata": {},
   "source": [
    "Обучим CatBoost модель и подберем для нее оптимальные гиперпараметры."
   ]
  },
  {
   "cell_type": "code",
   "execution_count": 294,
   "metadata": {},
   "outputs": [],
   "source": [
    "CBR = CatBoostRegressor(cat_features=[\"Gearbox\", \"VehicleType\", \"FuelType\", 'NotRepaired'])"
   ]
  },
  {
   "cell_type": "code",
   "execution_count": 295,
   "metadata": {},
   "outputs": [],
   "source": [
    "# Выпишем значения, в пределах которых будем искать оптимальное сочетание гиперпараметров\n",
    "parametrs = {'max_depth': range(1, 13, 2),\n",
    "             'learning_rate':[0.1, 0.5, 0.8],\n",
    "             'random_state':[12345],\n",
    "             'verbose':[False]\n",
    "             }"
   ]
  },
  {
   "cell_type": "code",
   "execution_count": null,
   "metadata": {},
   "outputs": [],
   "source": [
    "# Найдем оптимальные гиперпараметры для нашей модели\n",
    "grid_CBR = GridSearchCV(CBR, parametrs, scoring='neg_mean_squared_error')\n",
    "grid_CBR.fit(features_train, target_train)"
   ]
  },
  {
   "cell_type": "code",
   "execution_count": null,
   "metadata": {},
   "outputs": [],
   "source": [
    "# Выведем результат\n",
    "grid_CBR.best_params_"
   ]
  },
  {
   "cell_type": "markdown",
   "metadata": {},
   "source": [
    "Лучшая модель получается при learning_rate = 0.1 и max_depth = 11."
   ]
  },
  {
   "cell_type": "code",
   "execution_count": 314,
   "metadata": {},
   "outputs": [],
   "source": [
    "# Выпишем модели с наилучшими гиперпараметрами\n",
    "best_DTR = DecisionTreeRegressor(criterion = 'mse', max_depth = 11, random_state =12345)\n",
    "best_RFR = RandomForestRegressor(criterion = 'mse', n_estimators=50, max_depth = 11, random_state =12345)\n",
    "best_LGBMR = LGBMRegressor(learning_rate=0.1, num_leaves=200, verbose_eval=False, random_state=12345)\n",
    "best_CBR = CatBoostRegressor(learning_rate=0.1, max_depth=11, verbose=False, \n",
    "                             cat_features=[\"Gearbox\", \"VehicleType\", \"FuelType\", 'NotRepaired'],\n",
    "                             random_state=12345)"
   ]
  },
  {
   "cell_type": "markdown",
   "metadata": {},
   "source": [
    "<div class=\"alert alert-success\">\n",
    "✔️❌ В обучении CatBoostRegressor не требуется кодирование категориальных признаков, точнее даже лучше не кодировать их, а в саму модель передать признаки, которые являются категориальными в параметр cat_features"
   ]
  },
  {
   "cell_type": "markdown",
   "metadata": {},
   "source": [
    "<div class=\"alert alert-info\"> <b>Комментарий студента:</b> Подскажи, пожалуйста, как мне добавить в fit cat_features, иначе выходит разная размерность данных. Просто получается, что категориальные признаки тоже надо будет делить на обучающую, валидационную и тестовую выборки, причем индексы всех признаков должны соответствовать друг другу. Как это возможно сделать?. Еще вопрос по поводу скоринга. Я использую везде neg_mean_squared_error, но это не совсем RMSE. Не мешает ли это в GridSearch подбирать оптимальные гиперпараметры?\n",
    "</div>"
   ]
  },
  {
   "cell_type": "markdown",
   "metadata": {},
   "source": [
    "<div class=\"alert alert-success\">\n",
    "    <b>Комментарий ревьюера v2</b>    <br>\n",
    "✔️❌ 1. Смотри, тут не совсем верно получилось это сделать. Я возможно неверно объяснила, прошу прощения. Нужно создать список допустим, где будут перечислены названия колонок с категориальными признаками, а потом этот список указан в параметрах модели CatBoostRegressor вот так cat_features=название списка с именами колонок категориальных, это вот прям в параметры модели, еще до фита. И все. Но в обучение идет весь датасет. Вот как раньше было, просто в параметрах модели передан список с названиями колонок категориальных (незакодированных). Вот это давай исправим. Вот так например model = CatBoostRegressor(learning_rate=0.2, \n",
    "                                   max_depth=10, \n",
    "                                   n_estimators=100,\n",
    "                                   cat_features=cf,\n",
    "                                   verbose=25), где cf = ['vehicle_type', \n",
    "      'gearbox',\n",
    "      'model',\n",
    "      'fuel_type', \n",
    "      'brand', \n",
    "      'not_repaired']  допустим. Это не на примере твоего проекта<br> \n",
    "   2. На счет скоринга все окей    <br>\n",
    "   3. На счет разделение выборки. В общем случилось недопонимание, потому что мне показалось что ты специально не выделял валидацию, потому что делаешь поиск параметров через GridSearchCV. Смотри в общем схема такая: если можешь обучается без GridSearchCV, то супер считается обучать на трейне, валидировать модель на валидации, а потом тестировать на тесте. Если ты делаешь GridSearchCV, то в целом валидацию можно не выделять, потому что там есть встроенная кросс-валидация и смысла свою держать особо нет. Это исправлять особо не надо в этом проекте"
   ]
  },
  {
   "cell_type": "markdown",
   "metadata": {},
   "source": [
    "<div class=\"alert alert-info\"> <b>Комментарий студента:</b> Разобрался с категориальными признаками для CatBoostRegressor (сделал так, как у меня написано в коде, потому что в случае использования cat_features внутри gridsearch появляется почему-то ошибка). Оставил только обучающую и тестовую выборки.\n",
    "</div>"
   ]
  },
  {
   "cell_type": "markdown",
   "metadata": {},
   "source": [
    "<div class=\"alert alert-success\">\n",
    "<b>Комментарий ревьюера v3</b>    <br>\n",
    "✔️ Все верно получилось. На счет выборок да, когда используется GridSearchCV, можно и оставить два выборки, потому что там итак идет кросс-валидация. Я спрошивала думая что ты поэтому так и сделал, но просто линейная регрессия без GridSearchCV обучается...а тогда лучше на три все же.     <br>\n",
    "   А на счет скоринга еще хочу добавить что есть еще такой, мне кажется он больше подойдет — ‘neg_root_mean_squared_error’"
   ]
  },
  {
   "cell_type": "markdown",
   "metadata": {},
   "source": [
    "## Анализ моделей"
   ]
  },
  {
   "cell_type": "markdown",
   "metadata": {},
   "source": [
    "После подбора оптимального сочетания гиперпараметров для пяти моделей проведем анализ скорости работы и качества каждой модели. Для этого напишем функцию, которая будет вычислять скорость обучения, предсказания, а также вычислять RMSE модели."
   ]
  },
  {
   "cell_type": "code",
   "execution_count": 315,
   "metadata": {},
   "outputs": [],
   "source": [
    "# Создадим функцию для вычисления времени обучения модели\n",
    "def learn_time(model, train_features):\n",
    "    start = time.time()\n",
    "    model.fit(train_features, target_train)\n",
    "    finish = time.time()\n",
    "    fit_time = finish - start\n",
    "    return fit_time"
   ]
  },
  {
   "cell_type": "code",
   "execution_count": 316,
   "metadata": {},
   "outputs": [],
   "source": [
    "# Создадим функцию для вычисления времени предсказания модели\n",
    "def predict_time(model, train_features, test_features):\n",
    "    model.fit(train_features, target_train)\n",
    "    start = time.time()\n",
    "    predictions = model.predict(test_features)\n",
    "    finish = time.time()\n",
    "    pred_time = finish - start\n",
    "    return pred_time"
   ]
  },
  {
   "cell_type": "code",
   "execution_count": 317,
   "metadata": {},
   "outputs": [],
   "source": [
    "# Создадим функцию для вычисления RMSE\n",
    "def RMSE(model, train_features, test_features):\n",
    "    model.fit(train_features, target_train)\n",
    "    predictions = model.predict(test_features)\n",
    "    RMSE =(mean_squared_error(target_test, predictions))**0.5\n",
    "    return RMSE"
   ]
  },
  {
   "cell_type": "code",
   "execution_count": 318,
   "metadata": {},
   "outputs": [
    {
     "name": "stdout",
     "output_type": "stream",
     "text": [
      "Время обучения модели линейной регрессии: 0.37746381759643555\n",
      "Время обучения модели решающего дерева: 0.787614107131958\n",
      "Время обучения модели случайного леса: 22.824202060699463\n",
      "Время обучения LightGBM  модели: 141.89595246315002\n"
     ]
    },
    {
     "name": "stderr",
     "output_type": "stream",
     "text": [
      "Custom logger is already specified. Specify more than one logger at same time is not thread safe."
     ]
    },
    {
     "name": "stdout",
     "output_type": "stream",
     "text": [
      "0:\tlearn: 4255.2155102\ttotal: 958ms\tremaining: 15m 56s\n",
      "1:\tlearn: 3961.4221679\ttotal: 1.85s\tremaining: 15m 21s\n",
      "2:\tlearn: 3709.6727970\ttotal: 2.75s\tremaining: 15m 14s\n",
      "3:\tlearn: 3486.2815298\ttotal: 3.79s\tremaining: 15m 44s\n",
      "4:\tlearn: 3287.5754822\ttotal: 4.88s\tremaining: 16m 12s\n",
      "5:\tlearn: 3112.2288106\ttotal: 5.75s\tremaining: 15m 52s\n",
      "6:\tlearn: 2959.3458303\ttotal: 6.82s\tremaining: 16m 7s\n",
      "7:\tlearn: 2826.4455043\ttotal: 7.96s\tremaining: 16m 27s\n",
      "8:\tlearn: 2708.4166225\ttotal: 9.12s\tremaining: 16m 44s\n",
      "9:\tlearn: 2606.6591979\ttotal: 10.2s\tremaining: 16m 46s\n",
      "10:\tlearn: 2521.2963194\ttotal: 11.2s\tremaining: 16m 45s\n",
      "11:\tlearn: 2446.0474199\ttotal: 12.2s\tremaining: 16m 40s\n",
      "12:\tlearn: 2383.1898973\ttotal: 13s\tremaining: 16m 26s\n",
      "13:\tlearn: 2327.1657720\ttotal: 13.9s\tremaining: 16m 19s\n",
      "14:\tlearn: 2280.8455020\ttotal: 15s\tremaining: 16m 23s\n",
      "15:\tlearn: 2240.7742585\ttotal: 15.9s\tremaining: 16m 16s\n",
      "16:\tlearn: 2206.2077583\ttotal: 16.8s\tremaining: 16m 12s\n",
      "17:\tlearn: 2175.1302325\ttotal: 17.7s\tremaining: 16m 7s\n",
      "18:\tlearn: 2149.5833304\ttotal: 18.7s\tremaining: 16m 3s\n",
      "19:\tlearn: 2126.4453508\ttotal: 19.5s\tremaining: 15m 57s\n",
      "20:\tlearn: 2107.2331551\ttotal: 20.5s\tremaining: 15m 54s\n",
      "21:\tlearn: 2090.3154158\ttotal: 21.4s\tremaining: 15m 52s\n",
      "22:\tlearn: 2076.0079720\ttotal: 22.3s\tremaining: 15m 48s\n",
      "23:\tlearn: 2063.6373241\ttotal: 23.3s\tremaining: 15m 46s\n",
      "24:\tlearn: 2052.1916863\ttotal: 24.2s\tremaining: 15m 44s\n",
      "25:\tlearn: 2042.7248897\ttotal: 25.3s\tremaining: 15m 49s\n",
      "26:\tlearn: 2034.3765079\ttotal: 26.3s\tremaining: 15m 48s\n",
      "27:\tlearn: 2026.0056231\ttotal: 27.3s\tremaining: 15m 49s\n",
      "28:\tlearn: 2018.9389612\ttotal: 28.4s\tremaining: 15m 51s\n",
      "29:\tlearn: 2012.5726173\ttotal: 29.4s\tremaining: 15m 51s\n",
      "30:\tlearn: 2007.2620248\ttotal: 30.4s\tremaining: 15m 49s\n",
      "31:\tlearn: 2001.2529505\ttotal: 31.4s\tremaining: 15m 48s\n",
      "32:\tlearn: 1996.5357190\ttotal: 32.3s\tremaining: 15m 45s\n",
      "33:\tlearn: 1991.3629891\ttotal: 33.3s\tremaining: 15m 45s\n",
      "34:\tlearn: 1987.4947363\ttotal: 34.3s\tremaining: 15m 44s\n",
      "35:\tlearn: 1983.5451507\ttotal: 35.2s\tremaining: 15m 42s\n",
      "36:\tlearn: 1980.0577763\ttotal: 36.2s\tremaining: 15m 40s\n",
      "37:\tlearn: 1977.1097423\ttotal: 37s\tremaining: 15m 36s\n",
      "38:\tlearn: 1974.3547380\ttotal: 38.1s\tremaining: 15m 37s\n",
      "39:\tlearn: 1970.5248569\ttotal: 39s\tremaining: 15m 36s\n",
      "40:\tlearn: 1967.6904864\ttotal: 40.1s\tremaining: 15m 37s\n",
      "41:\tlearn: 1965.5392420\ttotal: 41.1s\tremaining: 15m 36s\n",
      "42:\tlearn: 1963.7336690\ttotal: 42.1s\tremaining: 15m 37s\n",
      "43:\tlearn: 1961.3929852\ttotal: 43.1s\tremaining: 15m 36s\n",
      "44:\tlearn: 1959.5608101\ttotal: 44.2s\tremaining: 15m 38s\n",
      "45:\tlearn: 1956.8296080\ttotal: 45.3s\tremaining: 15m 38s\n",
      "46:\tlearn: 1954.2926042\ttotal: 46.2s\tremaining: 15m 37s\n",
      "47:\tlearn: 1952.4178597\ttotal: 47.2s\tremaining: 15m 36s\n",
      "48:\tlearn: 1951.1570394\ttotal: 48.3s\tremaining: 15m 36s\n",
      "49:\tlearn: 1949.2100699\ttotal: 49.2s\tremaining: 15m 34s\n",
      "50:\tlearn: 1947.9081282\ttotal: 50.1s\tremaining: 15m 32s\n",
      "51:\tlearn: 1946.4894994\ttotal: 51.1s\tremaining: 15m 31s\n",
      "52:\tlearn: 1945.0411447\ttotal: 52.2s\tremaining: 15m 31s\n",
      "53:\tlearn: 1943.9939949\ttotal: 53.1s\tremaining: 15m 30s\n",
      "54:\tlearn: 1942.9974274\ttotal: 54s\tremaining: 15m 28s\n",
      "55:\tlearn: 1941.5200891\ttotal: 55.1s\tremaining: 15m 29s\n",
      "56:\tlearn: 1939.1608388\ttotal: 56.2s\tremaining: 15m 29s\n",
      "57:\tlearn: 1938.5051004\ttotal: 57.1s\tremaining: 15m 27s\n",
      "58:\tlearn: 1937.0974131\ttotal: 58.2s\tremaining: 15m 28s\n",
      "59:\tlearn: 1935.0717963\ttotal: 59.4s\tremaining: 15m 31s\n",
      "60:\tlearn: 1934.1276649\ttotal: 1m\tremaining: 15m 30s\n",
      "61:\tlearn: 1932.1590142\ttotal: 1m 1s\tremaining: 15m 29s\n",
      "62:\tlearn: 1930.3831483\ttotal: 1m 2s\tremaining: 15m 28s\n",
      "63:\tlearn: 1929.0526931\ttotal: 1m 3s\tremaining: 15m 25s\n",
      "64:\tlearn: 1927.5249077\ttotal: 1m 4s\tremaining: 15m 24s\n",
      "65:\tlearn: 1926.4392896\ttotal: 1m 5s\tremaining: 15m 23s\n",
      "66:\tlearn: 1925.0457870\ttotal: 1m 6s\tremaining: 15m 21s\n",
      "67:\tlearn: 1924.4995848\ttotal: 1m 7s\tremaining: 15m 19s\n",
      "68:\tlearn: 1923.9565251\ttotal: 1m 8s\tremaining: 15m 22s\n",
      "69:\tlearn: 1922.9912433\ttotal: 1m 9s\tremaining: 15m 22s\n",
      "70:\tlearn: 1921.2908301\ttotal: 1m 10s\tremaining: 15m 20s\n",
      "71:\tlearn: 1919.4782717\ttotal: 1m 11s\tremaining: 15m 18s\n",
      "72:\tlearn: 1917.9309399\ttotal: 1m 12s\tremaining: 15m 15s\n",
      "73:\tlearn: 1916.4879853\ttotal: 1m 13s\tremaining: 15m 15s\n",
      "74:\tlearn: 1914.5865772\ttotal: 1m 14s\tremaining: 15m 13s\n",
      "75:\tlearn: 1913.4300465\ttotal: 1m 15s\tremaining: 15m 13s\n",
      "76:\tlearn: 1912.2456510\ttotal: 1m 16s\tremaining: 15m 12s\n",
      "77:\tlearn: 1911.0964533\ttotal: 1m 17s\tremaining: 15m 10s\n",
      "78:\tlearn: 1910.3769542\ttotal: 1m 18s\tremaining: 15m 12s\n",
      "79:\tlearn: 1909.2551587\ttotal: 1m 19s\tremaining: 15m 12s\n",
      "80:\tlearn: 1908.5576816\ttotal: 1m 20s\tremaining: 15m 10s\n",
      "81:\tlearn: 1907.9749584\ttotal: 1m 21s\tremaining: 15m 9s\n",
      "82:\tlearn: 1907.5121114\ttotal: 1m 22s\tremaining: 15m 7s\n",
      "83:\tlearn: 1906.7687306\ttotal: 1m 23s\tremaining: 15m 5s\n",
      "84:\tlearn: 1906.1018194\ttotal: 1m 24s\tremaining: 15m 4s\n",
      "85:\tlearn: 1904.9798356\ttotal: 1m 25s\tremaining: 15m 3s\n",
      "86:\tlearn: 1903.8503738\ttotal: 1m 26s\tremaining: 15m 3s\n",
      "87:\tlearn: 1903.0195821\ttotal: 1m 27s\tremaining: 15m 2s\n",
      "88:\tlearn: 1901.7945609\ttotal: 1m 28s\tremaining: 15m 3s\n",
      "89:\tlearn: 1900.6592576\ttotal: 1m 29s\tremaining: 15m 3s\n",
      "90:\tlearn: 1899.7494458\ttotal: 1m 30s\tremaining: 15m 3s\n",
      "91:\tlearn: 1898.6796570\ttotal: 1m 31s\tremaining: 15m 1s\n",
      "92:\tlearn: 1898.3485952\ttotal: 1m 32s\tremaining: 15m\n",
      "93:\tlearn: 1897.0178592\ttotal: 1m 33s\tremaining: 14m 59s\n",
      "94:\tlearn: 1895.5370148\ttotal: 1m 34s\tremaining: 14m 58s\n",
      "95:\tlearn: 1894.6263467\ttotal: 1m 35s\tremaining: 14m 56s\n",
      "96:\tlearn: 1893.2604844\ttotal: 1m 36s\tremaining: 14m 54s\n",
      "97:\tlearn: 1892.7611723\ttotal: 1m 37s\tremaining: 14m 55s\n",
      "98:\tlearn: 1891.7587091\ttotal: 1m 38s\tremaining: 14m 55s\n",
      "99:\tlearn: 1891.0160593\ttotal: 1m 39s\tremaining: 14m 54s\n",
      "100:\tlearn: 1890.0622230\ttotal: 1m 40s\tremaining: 14m 53s\n",
      "101:\tlearn: 1889.2825117\ttotal: 1m 41s\tremaining: 14m 53s\n",
      "102:\tlearn: 1889.0666762\ttotal: 1m 42s\tremaining: 14m 52s\n",
      "103:\tlearn: 1888.4418388\ttotal: 1m 43s\tremaining: 14m 50s\n",
      "104:\tlearn: 1887.3117606\ttotal: 1m 44s\tremaining: 14m 48s\n",
      "105:\tlearn: 1887.0940122\ttotal: 1m 45s\tremaining: 14m 47s\n",
      "106:\tlearn: 1886.5721216\ttotal: 1m 46s\tremaining: 14m 46s\n",
      "107:\tlearn: 1885.2942588\ttotal: 1m 47s\tremaining: 14m 44s\n",
      "108:\tlearn: 1884.8827619\ttotal: 1m 47s\tremaining: 14m 42s\n",
      "109:\tlearn: 1883.7891862\ttotal: 1m 48s\tremaining: 14m 41s\n",
      "110:\tlearn: 1883.1186693\ttotal: 1m 49s\tremaining: 14m 40s\n",
      "111:\tlearn: 1881.0179047\ttotal: 1m 50s\tremaining: 14m 39s\n",
      "112:\tlearn: 1880.4539125\ttotal: 1m 51s\tremaining: 14m 38s\n",
      "113:\tlearn: 1879.5754158\ttotal: 1m 52s\tremaining: 14m 36s\n",
      "114:\tlearn: 1879.3631967\ttotal: 1m 53s\tremaining: 14m 35s\n",
      "115:\tlearn: 1878.4085846\ttotal: 1m 54s\tremaining: 14m 34s\n",
      "116:\tlearn: 1876.5047749\ttotal: 1m 55s\tremaining: 14m 33s\n",
      "117:\tlearn: 1875.3660910\ttotal: 1m 56s\tremaining: 14m 31s\n",
      "118:\tlearn: 1874.1246239\ttotal: 1m 57s\tremaining: 14m 30s\n",
      "119:\tlearn: 1872.8336823\ttotal: 1m 58s\tremaining: 14m 29s\n",
      "120:\tlearn: 1872.6067628\ttotal: 1m 59s\tremaining: 14m 28s\n",
      "121:\tlearn: 1871.9506309\ttotal: 2m\tremaining: 14m 26s\n",
      "122:\tlearn: 1871.7530003\ttotal: 2m 1s\tremaining: 14m 25s\n",
      "123:\tlearn: 1871.1407613\ttotal: 2m 2s\tremaining: 14m 24s\n",
      "124:\tlearn: 1870.4601780\ttotal: 2m 3s\tremaining: 14m 22s\n",
      "125:\tlearn: 1869.7384051\ttotal: 2m 4s\tremaining: 14m 20s\n",
      "126:\tlearn: 1868.2515723\ttotal: 2m 4s\tremaining: 14m 19s\n",
      "127:\tlearn: 1867.6830633\ttotal: 2m 5s\tremaining: 14m 17s\n",
      "128:\tlearn: 1866.2873924\ttotal: 2m 6s\tremaining: 14m 16s\n",
      "129:\tlearn: 1865.8951091\ttotal: 2m 7s\tremaining: 14m 14s\n",
      "130:\tlearn: 1865.0678603\ttotal: 2m 8s\tremaining: 14m 14s\n",
      "131:\tlearn: 1863.8795304\ttotal: 2m 9s\tremaining: 14m 12s\n",
      "132:\tlearn: 1863.5321856\ttotal: 2m 10s\tremaining: 14m 10s\n",
      "133:\tlearn: 1862.2993913\ttotal: 2m 11s\tremaining: 14m 8s\n",
      "134:\tlearn: 1861.3747296\ttotal: 2m 12s\tremaining: 14m 7s\n",
      "135:\tlearn: 1860.4575283\ttotal: 2m 13s\tremaining: 14m 6s\n",
      "136:\tlearn: 1859.8091553\ttotal: 2m 14s\tremaining: 14m 4s\n",
      "137:\tlearn: 1859.3095221\ttotal: 2m 15s\tremaining: 14m 3s\n",
      "138:\tlearn: 1858.2556343\ttotal: 2m 16s\tremaining: 14m 3s\n",
      "139:\tlearn: 1857.8615720\ttotal: 2m 17s\tremaining: 14m 3s\n",
      "140:\tlearn: 1856.7247173\ttotal: 2m 18s\tremaining: 14m 2s\n",
      "141:\tlearn: 1856.1670968\ttotal: 2m 19s\tremaining: 14m 1s\n",
      "142:\tlearn: 1855.5664128\ttotal: 2m 20s\tremaining: 13m 59s\n",
      "143:\tlearn: 1855.0840829\ttotal: 2m 21s\tremaining: 13m 58s\n",
      "144:\tlearn: 1854.3359600\ttotal: 2m 22s\tremaining: 13m 57s\n",
      "145:\tlearn: 1853.1440006\ttotal: 2m 22s\tremaining: 13m 56s\n",
      "146:\tlearn: 1852.9454118\ttotal: 2m 23s\tremaining: 13m 54s\n",
      "147:\tlearn: 1852.3195356\ttotal: 2m 24s\tremaining: 13m 53s\n",
      "148:\tlearn: 1852.0103251\ttotal: 2m 25s\tremaining: 13m 51s\n",
      "149:\tlearn: 1851.0318686\ttotal: 2m 26s\tremaining: 13m 50s\n",
      "150:\tlearn: 1850.3965518\ttotal: 2m 27s\tremaining: 13m 49s\n",
      "151:\tlearn: 1849.2127664\ttotal: 2m 28s\tremaining: 13m 48s\n",
      "152:\tlearn: 1848.8183529\ttotal: 2m 29s\tremaining: 13m 46s\n",
      "153:\tlearn: 1848.2980149\ttotal: 2m 30s\tremaining: 13m 45s\n",
      "154:\tlearn: 1847.8871775\ttotal: 2m 31s\tremaining: 13m 44s\n",
      "155:\tlearn: 1847.3876838\ttotal: 2m 32s\tremaining: 13m 44s\n",
      "156:\tlearn: 1847.1907904\ttotal: 2m 33s\tremaining: 13m 43s\n",
      "157:\tlearn: 1846.6783975\ttotal: 2m 34s\tremaining: 13m 41s\n",
      "158:\tlearn: 1846.0235958\ttotal: 2m 35s\tremaining: 13m 40s\n",
      "159:\tlearn: 1845.9557688\ttotal: 2m 36s\tremaining: 13m 39s\n",
      "160:\tlearn: 1845.1609191\ttotal: 2m 36s\tremaining: 13m 37s\n",
      "161:\tlearn: 1844.3759822\ttotal: 2m 37s\tremaining: 13m 36s\n",
      "162:\tlearn: 1844.0728717\ttotal: 2m 38s\tremaining: 13m 35s\n",
      "163:\tlearn: 1843.3749963\ttotal: 2m 39s\tremaining: 13m 33s\n",
      "164:\tlearn: 1842.1899532\ttotal: 2m 40s\tremaining: 13m 31s\n",
      "165:\tlearn: 1842.0055331\ttotal: 2m 41s\tremaining: 13m 30s\n",
      "166:\tlearn: 1841.4783982\ttotal: 2m 42s\tremaining: 13m 29s\n",
      "167:\tlearn: 1840.8853290\ttotal: 2m 43s\tremaining: 13m 27s\n",
      "168:\tlearn: 1840.7917459\ttotal: 2m 44s\tremaining: 13m 26s\n",
      "169:\tlearn: 1840.6715986\ttotal: 2m 44s\tremaining: 13m 23s\n",
      "170:\tlearn: 1840.2820478\ttotal: 2m 45s\tremaining: 13m 22s\n",
      "171:\tlearn: 1839.9463133\ttotal: 2m 46s\tremaining: 13m 22s\n",
      "172:\tlearn: 1839.0414954\ttotal: 2m 47s\tremaining: 13m 21s\n",
      "173:\tlearn: 1838.5760833\ttotal: 2m 48s\tremaining: 13m 20s\n",
      "174:\tlearn: 1838.2399613\ttotal: 2m 49s\tremaining: 13m 18s\n",
      "175:\tlearn: 1837.9347531\ttotal: 2m 50s\tremaining: 13m 17s\n",
      "176:\tlearn: 1836.1723126\ttotal: 2m 51s\tremaining: 13m 16s\n",
      "177:\tlearn: 1835.6233238\ttotal: 2m 52s\tremaining: 13m 15s\n",
      "178:\tlearn: 1835.1568449\ttotal: 2m 53s\tremaining: 13m 14s\n",
      "179:\tlearn: 1834.3109985\ttotal: 2m 54s\tremaining: 13m 13s\n",
      "180:\tlearn: 1833.7969974\ttotal: 2m 55s\tremaining: 13m 12s\n",
      "181:\tlearn: 1833.6970940\ttotal: 2m 55s\tremaining: 13m 10s\n",
      "182:\tlearn: 1833.3416948\ttotal: 2m 56s\tremaining: 13m 8s\n",
      "183:\tlearn: 1832.0945300\ttotal: 2m 57s\tremaining: 13m 7s\n",
      "184:\tlearn: 1831.5568549\ttotal: 2m 58s\tremaining: 13m 6s\n",
      "185:\tlearn: 1831.0474089\ttotal: 2m 59s\tremaining: 13m 6s\n",
      "186:\tlearn: 1830.6486939\ttotal: 3m\tremaining: 13m 5s\n",
      "187:\tlearn: 1829.7019500\ttotal: 3m 1s\tremaining: 13m 4s\n",
      "188:\tlearn: 1829.2626148\ttotal: 3m 2s\tremaining: 13m 3s\n",
      "189:\tlearn: 1829.1642653\ttotal: 3m 3s\tremaining: 13m 2s\n",
      "190:\tlearn: 1828.5772398\ttotal: 3m 4s\tremaining: 13m\n",
      "191:\tlearn: 1827.9565206\ttotal: 3m 5s\tremaining: 13m\n",
      "192:\tlearn: 1827.1461839\ttotal: 3m 6s\tremaining: 12m 59s\n",
      "193:\tlearn: 1826.5894318\ttotal: 3m 7s\tremaining: 12m 59s\n",
      "194:\tlearn: 1825.9644632\ttotal: 3m 8s\tremaining: 12m 57s\n",
      "195:\tlearn: 1825.6684975\ttotal: 3m 9s\tremaining: 12m 56s\n",
      "196:\tlearn: 1825.0982278\ttotal: 3m 10s\tremaining: 12m 55s\n",
      "197:\tlearn: 1824.2939133\ttotal: 3m 11s\tremaining: 12m 54s\n",
      "198:\tlearn: 1824.1327241\ttotal: 3m 12s\tremaining: 12m 53s\n",
      "199:\tlearn: 1823.1417923\ttotal: 3m 13s\tremaining: 12m 52s\n",
      "200:\tlearn: 1822.7249457\ttotal: 3m 13s\tremaining: 12m 50s\n",
      "201:\tlearn: 1822.0635830\ttotal: 3m 14s\tremaining: 12m 50s\n",
      "202:\tlearn: 1821.0564815\ttotal: 3m 15s\tremaining: 12m 49s\n",
      "203:\tlearn: 1820.3671809\ttotal: 3m 16s\tremaining: 12m 48s\n",
      "204:\tlearn: 1819.4788544\ttotal: 3m 17s\tremaining: 12m 47s\n",
      "205:\tlearn: 1818.8595831\ttotal: 3m 18s\tremaining: 12m 46s\n",
      "206:\tlearn: 1818.5779862\ttotal: 3m 19s\tremaining: 12m 45s\n",
      "207:\tlearn: 1817.9621529\ttotal: 3m 20s\tremaining: 12m 44s\n",
      "208:\tlearn: 1817.4517074\ttotal: 3m 21s\tremaining: 12m 43s\n",
      "209:\tlearn: 1816.9134656\ttotal: 3m 22s\tremaining: 12m 42s\n",
      "210:\tlearn: 1816.1010348\ttotal: 3m 23s\tremaining: 12m 41s\n",
      "211:\tlearn: 1815.9042654\ttotal: 3m 24s\tremaining: 12m 41s\n",
      "212:\tlearn: 1815.4318725\ttotal: 3m 25s\tremaining: 12m 40s\n",
      "213:\tlearn: 1814.8228115\ttotal: 3m 26s\tremaining: 12m 39s\n",
      "214:\tlearn: 1814.7060161\ttotal: 3m 27s\tremaining: 12m 39s\n",
      "215:\tlearn: 1814.6363462\ttotal: 3m 28s\tremaining: 12m 38s\n",
      "216:\tlearn: 1813.3207485\ttotal: 3m 29s\tremaining: 12m 37s\n",
      "217:\tlearn: 1812.5379839\ttotal: 3m 30s\tremaining: 12m 36s\n",
      "218:\tlearn: 1812.2593560\ttotal: 3m 31s\tremaining: 12m 35s\n",
      "219:\tlearn: 1811.0476051\ttotal: 3m 32s\tremaining: 12m 34s\n",
      "220:\tlearn: 1810.7025864\ttotal: 3m 33s\tremaining: 12m 32s\n",
      "221:\tlearn: 1810.4132469\ttotal: 3m 34s\tremaining: 12m 32s\n",
      "222:\tlearn: 1809.5810664\ttotal: 3m 35s\tremaining: 12m 31s\n",
      "223:\tlearn: 1808.9685815\ttotal: 3m 36s\tremaining: 12m 31s\n",
      "224:\tlearn: 1808.4966927\ttotal: 3m 38s\tremaining: 12m 31s\n",
      "225:\tlearn: 1808.4271051\ttotal: 3m 39s\tremaining: 12m 30s\n",
      "226:\tlearn: 1807.3727044\ttotal: 3m 40s\tremaining: 12m 30s\n",
      "227:\tlearn: 1807.3584434\ttotal: 3m 41s\tremaining: 12m 29s\n",
      "228:\tlearn: 1807.2273864\ttotal: 3m 42s\tremaining: 12m 28s\n",
      "229:\tlearn: 1806.7579526\ttotal: 3m 43s\tremaining: 12m 28s\n",
      "230:\tlearn: 1806.0559713\ttotal: 3m 44s\tremaining: 12m 27s\n",
      "231:\tlearn: 1805.2915089\ttotal: 3m 45s\tremaining: 12m 27s\n",
      "232:\tlearn: 1804.7446742\ttotal: 3m 46s\tremaining: 12m 26s\n",
      "233:\tlearn: 1804.3339879\ttotal: 3m 47s\tremaining: 12m 25s\n",
      "234:\tlearn: 1804.1754114\ttotal: 3m 48s\tremaining: 12m 25s\n",
      "235:\tlearn: 1804.0082717\ttotal: 3m 50s\tremaining: 12m 25s\n",
      "236:\tlearn: 1803.5348925\ttotal: 3m 51s\tremaining: 12m 24s\n",
      "237:\tlearn: 1803.0186624\ttotal: 3m 52s\tremaining: 12m 23s\n",
      "238:\tlearn: 1802.3758291\ttotal: 3m 53s\tremaining: 12m 23s\n",
      "239:\tlearn: 1802.0246866\ttotal: 3m 54s\tremaining: 12m 23s\n",
      "240:\tlearn: 1801.7806277\ttotal: 3m 55s\tremaining: 12m 22s\n",
      "241:\tlearn: 1801.4433402\ttotal: 3m 57s\tremaining: 12m 22s\n",
      "242:\tlearn: 1801.1826543\ttotal: 3m 58s\tremaining: 12m 21s\n",
      "243:\tlearn: 1800.3755191\ttotal: 3m 59s\tremaining: 12m 20s\n",
      "244:\tlearn: 1799.7935882\ttotal: 4m\tremaining: 12m 20s\n",
      "245:\tlearn: 1799.2794121\ttotal: 4m 1s\tremaining: 12m 20s\n",
      "246:\tlearn: 1799.2059223\ttotal: 4m 2s\tremaining: 12m 20s\n",
      "247:\tlearn: 1799.1110340\ttotal: 4m 3s\tremaining: 12m 19s\n",
      "248:\tlearn: 1798.9133949\ttotal: 4m 4s\tremaining: 12m 18s\n",
      "249:\tlearn: 1798.0764139\ttotal: 4m 5s\tremaining: 12m 17s\n",
      "250:\tlearn: 1797.5770061\ttotal: 4m 7s\tremaining: 12m 17s\n",
      "251:\tlearn: 1797.0486868\ttotal: 4m 8s\tremaining: 12m 17s\n",
      "252:\tlearn: 1796.6617001\ttotal: 4m 9s\tremaining: 12m 16s\n",
      "253:\tlearn: 1795.9829606\ttotal: 4m 10s\tremaining: 12m 16s\n",
      "254:\tlearn: 1795.5492600\ttotal: 4m 11s\tremaining: 12m 15s\n",
      "255:\tlearn: 1794.8522490\ttotal: 4m 12s\tremaining: 12m 14s\n",
      "256:\tlearn: 1794.4855661\ttotal: 4m 13s\tremaining: 12m 14s\n",
      "257:\tlearn: 1793.8279223\ttotal: 4m 15s\tremaining: 12m 13s\n",
      "258:\tlearn: 1793.5842947\ttotal: 4m 16s\tremaining: 12m 13s\n",
      "259:\tlearn: 1792.8738335\ttotal: 4m 17s\tremaining: 12m 12s\n",
      "260:\tlearn: 1792.4455792\ttotal: 4m 18s\tremaining: 12m 11s\n",
      "261:\tlearn: 1792.0107758\ttotal: 4m 19s\tremaining: 12m 11s\n",
      "262:\tlearn: 1791.3286427\ttotal: 4m 20s\tremaining: 12m 10s\n",
      "263:\tlearn: 1790.8422943\ttotal: 4m 21s\tremaining: 12m 9s\n",
      "264:\tlearn: 1790.5044211\ttotal: 4m 22s\tremaining: 12m 8s\n",
      "265:\tlearn: 1790.0499510\ttotal: 4m 23s\tremaining: 12m 7s\n",
      "266:\tlearn: 1789.5959515\ttotal: 4m 24s\tremaining: 12m 6s\n",
      "267:\tlearn: 1789.1078874\ttotal: 4m 25s\tremaining: 12m 6s\n",
      "268:\tlearn: 1788.7401105\ttotal: 4m 26s\tremaining: 12m 5s\n",
      "269:\tlearn: 1788.4780817\ttotal: 4m 27s\tremaining: 12m 4s\n",
      "270:\tlearn: 1787.8975959\ttotal: 4m 28s\tremaining: 12m 3s\n",
      "271:\tlearn: 1787.7935329\ttotal: 4m 29s\tremaining: 12m 2s\n",
      "272:\tlearn: 1787.4694309\ttotal: 4m 30s\tremaining: 12m 1s\n",
      "273:\tlearn: 1787.2796050\ttotal: 4m 31s\tremaining: 11m 59s\n",
      "274:\tlearn: 1786.9416588\ttotal: 4m 32s\tremaining: 11m 58s\n",
      "275:\tlearn: 1786.8997412\ttotal: 4m 33s\tremaining: 11m 57s\n",
      "276:\tlearn: 1786.7686673\ttotal: 4m 34s\tremaining: 11m 56s\n",
      "277:\tlearn: 1786.1417494\ttotal: 4m 35s\tremaining: 11m 55s\n",
      "278:\tlearn: 1785.7526611\ttotal: 4m 36s\tremaining: 11m 54s\n",
      "279:\tlearn: 1785.2038033\ttotal: 4m 37s\tremaining: 11m 52s\n",
      "280:\tlearn: 1785.0157372\ttotal: 4m 38s\tremaining: 11m 51s\n",
      "281:\tlearn: 1784.7485769\ttotal: 4m 39s\tremaining: 11m 51s\n",
      "282:\tlearn: 1783.9894210\ttotal: 4m 40s\tremaining: 11m 49s\n",
      "283:\tlearn: 1783.4461543\ttotal: 4m 41s\tremaining: 11m 48s\n",
      "284:\tlearn: 1783.3168341\ttotal: 4m 42s\tremaining: 11m 47s\n",
      "285:\tlearn: 1782.6684044\ttotal: 4m 42s\tremaining: 11m 46s\n",
      "286:\tlearn: 1782.1435690\ttotal: 4m 43s\tremaining: 11m 44s\n",
      "287:\tlearn: 1781.4825311\ttotal: 4m 44s\tremaining: 11m 43s\n",
      "288:\tlearn: 1780.9086969\ttotal: 4m 45s\tremaining: 11m 42s\n",
      "289:\tlearn: 1780.3790050\ttotal: 4m 46s\tremaining: 11m 41s\n",
      "290:\tlearn: 1780.2314348\ttotal: 4m 47s\tremaining: 11m 41s\n",
      "291:\tlearn: 1779.8117689\ttotal: 4m 48s\tremaining: 11m 39s\n",
      "292:\tlearn: 1779.3305398\ttotal: 4m 49s\tremaining: 11m 39s\n",
      "293:\tlearn: 1778.9013445\ttotal: 4m 50s\tremaining: 11m 37s\n",
      "294:\tlearn: 1778.7382836\ttotal: 4m 51s\tremaining: 11m 36s\n",
      "295:\tlearn: 1778.5685352\ttotal: 4m 52s\tremaining: 11m 35s\n",
      "296:\tlearn: 1778.4631415\ttotal: 4m 53s\tremaining: 11m 34s\n",
      "297:\tlearn: 1777.8905273\ttotal: 4m 54s\tremaining: 11m 32s\n",
      "298:\tlearn: 1777.5849690\ttotal: 4m 55s\tremaining: 11m 31s\n",
      "299:\tlearn: 1777.3909676\ttotal: 4m 56s\tremaining: 11m 30s\n",
      "300:\tlearn: 1776.8593541\ttotal: 4m 56s\tremaining: 11m 29s\n",
      "301:\tlearn: 1776.2713963\ttotal: 4m 58s\tremaining: 11m 29s\n",
      "302:\tlearn: 1775.7941089\ttotal: 4m 59s\tremaining: 11m 28s\n",
      "303:\tlearn: 1775.5417130\ttotal: 5m\tremaining: 11m 27s\n",
      "304:\tlearn: 1775.3195333\ttotal: 5m 1s\tremaining: 11m 25s\n",
      "305:\tlearn: 1774.6326788\ttotal: 5m 2s\tremaining: 11m 25s\n",
      "306:\tlearn: 1774.1279493\ttotal: 5m 3s\tremaining: 11m 24s\n",
      "307:\tlearn: 1773.5479170\ttotal: 5m 4s\tremaining: 11m 23s\n",
      "308:\tlearn: 1773.3327678\ttotal: 5m 5s\tremaining: 11m 22s\n",
      "309:\tlearn: 1773.0633288\ttotal: 5m 6s\tremaining: 11m 21s\n",
      "310:\tlearn: 1772.7499356\ttotal: 5m 6s\tremaining: 11m 19s\n",
      "311:\tlearn: 1772.3602923\ttotal: 5m 7s\tremaining: 11m 18s\n",
      "312:\tlearn: 1771.9868197\ttotal: 5m 8s\tremaining: 11m 17s\n",
      "313:\tlearn: 1771.7245884\ttotal: 5m 9s\tremaining: 11m 16s\n",
      "314:\tlearn: 1771.3733793\ttotal: 5m 10s\tremaining: 11m 15s\n",
      "315:\tlearn: 1770.9452282\ttotal: 5m 11s\tremaining: 11m 14s\n",
      "316:\tlearn: 1770.7244762\ttotal: 5m 12s\tremaining: 11m 13s\n",
      "317:\tlearn: 1770.1989550\ttotal: 5m 13s\tremaining: 11m 12s\n",
      "318:\tlearn: 1769.6199794\ttotal: 5m 14s\tremaining: 11m 10s\n",
      "319:\tlearn: 1769.2362002\ttotal: 5m 15s\tremaining: 11m 10s\n",
      "320:\tlearn: 1768.6730065\ttotal: 5m 16s\tremaining: 11m 8s\n",
      "321:\tlearn: 1768.3038975\ttotal: 5m 17s\tremaining: 11m 7s\n",
      "322:\tlearn: 1767.9613114\ttotal: 5m 18s\tremaining: 11m 7s\n",
      "323:\tlearn: 1767.6323950\ttotal: 5m 19s\tremaining: 11m 6s\n",
      "324:\tlearn: 1766.8414163\ttotal: 5m 20s\tremaining: 11m 4s\n",
      "325:\tlearn: 1766.5891399\ttotal: 5m 21s\tremaining: 11m 3s\n",
      "326:\tlearn: 1766.1009152\ttotal: 5m 21s\tremaining: 11m 2s\n",
      "327:\tlearn: 1765.5615851\ttotal: 5m 22s\tremaining: 11m 1s\n",
      "328:\tlearn: 1765.2292942\ttotal: 5m 23s\tremaining: 11m\n",
      "329:\tlearn: 1764.9126740\ttotal: 5m 24s\tremaining: 10m 59s\n",
      "330:\tlearn: 1764.6346818\ttotal: 5m 25s\tremaining: 10m 58s\n",
      "331:\tlearn: 1764.2278935\ttotal: 5m 26s\tremaining: 10m 57s\n",
      "332:\tlearn: 1763.9377190\ttotal: 5m 27s\tremaining: 10m 56s\n",
      "333:\tlearn: 1763.7653544\ttotal: 5m 28s\tremaining: 10m 55s\n",
      "334:\tlearn: 1763.5339119\ttotal: 5m 29s\tremaining: 10m 54s\n",
      "335:\tlearn: 1763.2975034\ttotal: 5m 30s\tremaining: 10m 53s\n",
      "336:\tlearn: 1763.0368059\ttotal: 5m 31s\tremaining: 10m 52s\n",
      "337:\tlearn: 1762.6409737\ttotal: 5m 32s\tremaining: 10m 51s\n",
      "338:\tlearn: 1762.1892710\ttotal: 5m 33s\tremaining: 10m 50s\n",
      "339:\tlearn: 1761.5581726\ttotal: 5m 34s\tremaining: 10m 49s\n",
      "340:\tlearn: 1761.4148790\ttotal: 5m 35s\tremaining: 10m 48s\n",
      "341:\tlearn: 1761.0961427\ttotal: 5m 36s\tremaining: 10m 47s\n",
      "342:\tlearn: 1761.0669224\ttotal: 5m 37s\tremaining: 10m 46s\n",
      "343:\tlearn: 1760.9737845\ttotal: 5m 38s\tremaining: 10m 45s\n",
      "344:\tlearn: 1760.6161247\ttotal: 5m 39s\tremaining: 10m 44s\n",
      "345:\tlearn: 1760.1633898\ttotal: 5m 40s\tremaining: 10m 42s\n",
      "346:\tlearn: 1759.8912368\ttotal: 5m 41s\tremaining: 10m 42s\n",
      "347:\tlearn: 1759.5690831\ttotal: 5m 42s\tremaining: 10m 40s\n",
      "348:\tlearn: 1759.2299706\ttotal: 5m 43s\tremaining: 10m 39s\n",
      "349:\tlearn: 1759.0744931\ttotal: 5m 43s\tremaining: 10m 38s\n",
      "350:\tlearn: 1758.8818719\ttotal: 5m 45s\tremaining: 10m 37s\n",
      "351:\tlearn: 1758.6372907\ttotal: 5m 45s\tremaining: 10m 36s\n",
      "352:\tlearn: 1758.3494707\ttotal: 5m 47s\tremaining: 10m 36s\n",
      "353:\tlearn: 1758.0570995\ttotal: 5m 48s\tremaining: 10m 35s\n",
      "354:\tlearn: 1757.7855558\ttotal: 5m 49s\tremaining: 10m 34s\n",
      "355:\tlearn: 1757.3940846\ttotal: 5m 50s\tremaining: 10m 33s\n",
      "356:\tlearn: 1757.2035418\ttotal: 5m 51s\tremaining: 10m 32s\n",
      "357:\tlearn: 1757.0322529\ttotal: 5m 52s\tremaining: 10m 31s\n",
      "358:\tlearn: 1756.5367306\ttotal: 5m 53s\tremaining: 10m 30s\n",
      "359:\tlearn: 1756.2050253\ttotal: 5m 53s\tremaining: 10m 29s\n",
      "360:\tlearn: 1755.9453778\ttotal: 5m 54s\tremaining: 10m 28s\n",
      "361:\tlearn: 1755.3562936\ttotal: 5m 55s\tremaining: 10m 27s\n",
      "362:\tlearn: 1754.9124135\ttotal: 5m 56s\tremaining: 10m 26s\n",
      "363:\tlearn: 1754.5700571\ttotal: 5m 57s\tremaining: 10m 25s\n",
      "364:\tlearn: 1754.0711905\ttotal: 5m 58s\tremaining: 10m 24s\n",
      "365:\tlearn: 1753.7216574\ttotal: 5m 59s\tremaining: 10m 23s\n",
      "366:\tlearn: 1753.5762733\ttotal: 6m\tremaining: 10m 22s\n",
      "367:\tlearn: 1753.2827424\ttotal: 6m 1s\tremaining: 10m 21s\n",
      "368:\tlearn: 1752.9969335\ttotal: 6m 2s\tremaining: 10m 20s\n",
      "369:\tlearn: 1752.5157031\ttotal: 6m 3s\tremaining: 10m 19s\n",
      "370:\tlearn: 1752.2752503\ttotal: 6m 4s\tremaining: 10m 17s\n",
      "371:\tlearn: 1751.9196022\ttotal: 6m 5s\tremaining: 10m 17s\n",
      "372:\tlearn: 1751.4877966\ttotal: 6m 6s\tremaining: 10m 16s\n",
      "373:\tlearn: 1751.2773628\ttotal: 6m 7s\tremaining: 10m 14s\n",
      "374:\tlearn: 1751.0693957\ttotal: 6m 8s\tremaining: 10m 13s\n",
      "375:\tlearn: 1750.8257398\ttotal: 6m 9s\tremaining: 10m 12s\n",
      "376:\tlearn: 1750.6753522\ttotal: 6m 10s\tremaining: 10m 11s\n",
      "377:\tlearn: 1750.5117155\ttotal: 6m 11s\tremaining: 10m 11s\n",
      "378:\tlearn: 1750.4198105\ttotal: 6m 12s\tremaining: 10m 10s\n",
      "379:\tlearn: 1750.2473277\ttotal: 6m 13s\tremaining: 10m 9s\n",
      "380:\tlearn: 1749.9579825\ttotal: 6m 14s\tremaining: 10m 7s\n",
      "381:\tlearn: 1749.8015354\ttotal: 6m 15s\tremaining: 10m 6s\n",
      "382:\tlearn: 1749.5020808\ttotal: 6m 16s\tremaining: 10m 6s\n",
      "383:\tlearn: 1749.1419015\ttotal: 6m 17s\tremaining: 10m 5s\n",
      "384:\tlearn: 1748.8135182\ttotal: 6m 18s\tremaining: 10m 4s\n",
      "385:\tlearn: 1748.6114227\ttotal: 6m 19s\tremaining: 10m 3s\n",
      "386:\tlearn: 1748.3857546\ttotal: 6m 20s\tremaining: 10m 2s\n",
      "387:\tlearn: 1748.1345997\ttotal: 6m 21s\tremaining: 10m 1s\n",
      "388:\tlearn: 1747.9425330\ttotal: 6m 22s\tremaining: 10m\n",
      "389:\tlearn: 1747.6733835\ttotal: 6m 23s\tremaining: 9m 59s\n",
      "390:\tlearn: 1747.4951983\ttotal: 6m 24s\tremaining: 9m 58s\n",
      "391:\tlearn: 1746.9875971\ttotal: 6m 25s\tremaining: 9m 57s\n",
      "392:\tlearn: 1746.6337111\ttotal: 6m 26s\tremaining: 9m 56s\n",
      "393:\tlearn: 1746.4446786\ttotal: 6m 26s\tremaining: 9m 55s\n",
      "394:\tlearn: 1745.9670947\ttotal: 6m 27s\tremaining: 9m 53s\n",
      "395:\tlearn: 1745.5964513\ttotal: 6m 28s\tremaining: 9m 52s\n",
      "396:\tlearn: 1745.2945095\ttotal: 6m 29s\tremaining: 9m 51s\n",
      "397:\tlearn: 1745.1074914\ttotal: 6m 30s\tremaining: 9m 50s\n",
      "398:\tlearn: 1744.7662857\ttotal: 6m 31s\tremaining: 9m 49s\n",
      "399:\tlearn: 1744.4672230\ttotal: 6m 32s\tremaining: 9m 48s\n",
      "400:\tlearn: 1744.1939277\ttotal: 6m 33s\tremaining: 9m 48s\n",
      "401:\tlearn: 1743.6236695\ttotal: 6m 34s\tremaining: 9m 47s\n",
      "402:\tlearn: 1743.4535520\ttotal: 6m 35s\tremaining: 9m 46s\n",
      "403:\tlearn: 1743.2268675\ttotal: 6m 36s\tremaining: 9m 45s\n",
      "404:\tlearn: 1743.0378963\ttotal: 6m 37s\tremaining: 9m 44s\n",
      "405:\tlearn: 1742.7585167\ttotal: 6m 38s\tremaining: 9m 43s\n",
      "406:\tlearn: 1742.4443020\ttotal: 6m 39s\tremaining: 9m 42s\n",
      "407:\tlearn: 1742.1997196\ttotal: 6m 40s\tremaining: 9m 41s\n",
      "408:\tlearn: 1741.8028033\ttotal: 6m 41s\tremaining: 9m 40s\n",
      "409:\tlearn: 1741.5490394\ttotal: 6m 42s\tremaining: 9m 39s\n",
      "410:\tlearn: 1741.3220992\ttotal: 6m 43s\tremaining: 9m 38s\n",
      "411:\tlearn: 1741.2571933\ttotal: 6m 44s\tremaining: 9m 37s\n",
      "412:\tlearn: 1741.1042648\ttotal: 6m 45s\tremaining: 9m 36s\n",
      "413:\tlearn: 1741.0811012\ttotal: 6m 46s\tremaining: 9m 35s\n",
      "414:\tlearn: 1740.7875947\ttotal: 6m 47s\tremaining: 9m 34s\n",
      "415:\tlearn: 1740.7269243\ttotal: 6m 48s\tremaining: 9m 33s\n",
      "416:\tlearn: 1740.2612567\ttotal: 6m 49s\tremaining: 9m 32s\n",
      "417:\tlearn: 1739.9534070\ttotal: 6m 50s\tremaining: 9m 31s\n",
      "418:\tlearn: 1739.7061782\ttotal: 6m 51s\tremaining: 9m 30s\n",
      "419:\tlearn: 1739.4257798\ttotal: 6m 52s\tremaining: 9m 29s\n",
      "420:\tlearn: 1739.2519788\ttotal: 6m 53s\tremaining: 9m 28s\n",
      "421:\tlearn: 1738.8791413\ttotal: 6m 54s\tremaining: 9m 27s\n",
      "422:\tlearn: 1738.5593895\ttotal: 6m 55s\tremaining: 9m 26s\n",
      "423:\tlearn: 1738.2311789\ttotal: 6m 56s\tremaining: 9m 25s\n",
      "424:\tlearn: 1737.9284573\ttotal: 6m 57s\tremaining: 9m 24s\n",
      "425:\tlearn: 1737.7694245\ttotal: 6m 58s\tremaining: 9m 23s\n",
      "426:\tlearn: 1737.5278064\ttotal: 6m 59s\tremaining: 9m 23s\n",
      "427:\tlearn: 1737.1750834\ttotal: 7m\tremaining: 9m 22s\n",
      "428:\tlearn: 1736.7206763\ttotal: 7m 1s\tremaining: 9m 21s\n",
      "429:\tlearn: 1736.2363185\ttotal: 7m 2s\tremaining: 9m 20s\n",
      "430:\tlearn: 1735.8866900\ttotal: 7m 3s\tremaining: 9m 19s\n",
      "431:\tlearn: 1735.5154340\ttotal: 7m 4s\tremaining: 9m 18s\n",
      "432:\tlearn: 1735.4403441\ttotal: 7m 5s\tremaining: 9m 17s\n",
      "433:\tlearn: 1735.1883422\ttotal: 7m 6s\tremaining: 9m 16s\n",
      "434:\tlearn: 1735.1810663\ttotal: 7m 7s\tremaining: 9m 15s\n",
      "435:\tlearn: 1734.9932793\ttotal: 7m 8s\tremaining: 9m 14s\n",
      "436:\tlearn: 1734.7999317\ttotal: 7m 9s\tremaining: 9m 13s\n",
      "437:\tlearn: 1734.3744882\ttotal: 7m 10s\tremaining: 9m 12s\n",
      "438:\tlearn: 1734.2238198\ttotal: 7m 11s\tremaining: 9m 11s\n",
      "439:\tlearn: 1733.9938319\ttotal: 7m 12s\tremaining: 9m 10s\n",
      "440:\tlearn: 1733.7787922\ttotal: 7m 13s\tremaining: 9m 9s\n",
      "441:\tlearn: 1733.4442926\ttotal: 7m 14s\tremaining: 9m 8s\n",
      "442:\tlearn: 1733.3346416\ttotal: 7m 15s\tremaining: 9m 7s\n",
      "443:\tlearn: 1733.1280149\ttotal: 7m 16s\tremaining: 9m 6s\n",
      "444:\tlearn: 1733.0157168\ttotal: 7m 17s\tremaining: 9m 5s\n",
      "445:\tlearn: 1732.9008304\ttotal: 7m 18s\tremaining: 9m 4s\n",
      "446:\tlearn: 1732.7262392\ttotal: 7m 19s\tremaining: 9m 3s\n",
      "447:\tlearn: 1732.6419173\ttotal: 7m 20s\tremaining: 9m 2s\n",
      "448:\tlearn: 1732.6116814\ttotal: 7m 21s\tremaining: 9m 1s\n",
      "449:\tlearn: 1732.4757291\ttotal: 7m 22s\tremaining: 9m\n",
      "450:\tlearn: 1732.1091291\ttotal: 7m 23s\tremaining: 8m 59s\n",
      "451:\tlearn: 1731.9406674\ttotal: 7m 23s\tremaining: 8m 58s\n",
      "452:\tlearn: 1731.6856442\ttotal: 7m 25s\tremaining: 8m 57s\n",
      "453:\tlearn: 1731.5712511\ttotal: 7m 26s\tremaining: 8m 56s\n",
      "454:\tlearn: 1731.3518761\ttotal: 7m 26s\tremaining: 8m 55s\n",
      "455:\tlearn: 1731.1802306\ttotal: 7m 27s\tremaining: 8m 54s\n",
      "456:\tlearn: 1731.0038608\ttotal: 7m 28s\tremaining: 8m 53s\n",
      "457:\tlearn: 1730.8021420\ttotal: 7m 29s\tremaining: 8m 52s\n",
      "458:\tlearn: 1730.4461466\ttotal: 7m 30s\tremaining: 8m 51s\n",
      "459:\tlearn: 1730.2777228\ttotal: 7m 31s\tremaining: 8m 50s\n",
      "460:\tlearn: 1730.1367473\ttotal: 7m 32s\tremaining: 8m 49s\n",
      "461:\tlearn: 1729.7072475\ttotal: 7m 33s\tremaining: 8m 48s\n",
      "462:\tlearn: 1729.5885149\ttotal: 7m 34s\tremaining: 8m 47s\n",
      "463:\tlearn: 1729.4183125\ttotal: 7m 35s\tremaining: 8m 46s\n",
      "464:\tlearn: 1729.2924620\ttotal: 7m 36s\tremaining: 8m 45s\n",
      "465:\tlearn: 1728.9486761\ttotal: 7m 37s\tremaining: 8m 44s\n",
      "466:\tlearn: 1728.8105520\ttotal: 7m 38s\tremaining: 8m 43s\n",
      "467:\tlearn: 1728.6954008\ttotal: 7m 39s\tremaining: 8m 42s\n",
      "468:\tlearn: 1728.5086736\ttotal: 7m 40s\tremaining: 8m 41s\n",
      "469:\tlearn: 1728.2880435\ttotal: 7m 41s\tremaining: 8m 40s\n",
      "470:\tlearn: 1727.9925931\ttotal: 7m 42s\tremaining: 8m 39s\n",
      "471:\tlearn: 1727.8113183\ttotal: 7m 43s\tremaining: 8m 38s\n",
      "472:\tlearn: 1727.5240943\ttotal: 7m 44s\tremaining: 8m 37s\n",
      "473:\tlearn: 1727.1376375\ttotal: 7m 45s\tremaining: 8m 36s\n",
      "474:\tlearn: 1727.0686008\ttotal: 7m 46s\tremaining: 8m 35s\n",
      "475:\tlearn: 1726.8892483\ttotal: 7m 47s\tremaining: 8m 34s\n",
      "476:\tlearn: 1726.6609617\ttotal: 7m 48s\tremaining: 8m 33s\n",
      "477:\tlearn: 1726.4566307\ttotal: 7m 49s\tremaining: 8m 32s\n",
      "478:\tlearn: 1726.3829935\ttotal: 7m 50s\tremaining: 8m 31s\n",
      "479:\tlearn: 1726.1180392\ttotal: 7m 51s\tremaining: 8m 30s\n",
      "480:\tlearn: 1725.9036212\ttotal: 7m 51s\tremaining: 8m 29s\n",
      "481:\tlearn: 1725.7781872\ttotal: 7m 52s\tremaining: 8m 28s\n",
      "482:\tlearn: 1725.6715889\ttotal: 7m 53s\tremaining: 8m 27s\n",
      "483:\tlearn: 1725.3353881\ttotal: 7m 55s\tremaining: 8m 26s\n",
      "484:\tlearn: 1725.0353698\ttotal: 7m 55s\tremaining: 8m 25s\n",
      "485:\tlearn: 1724.9240290\ttotal: 7m 57s\tremaining: 8m 24s\n",
      "486:\tlearn: 1724.7774464\ttotal: 7m 58s\tremaining: 8m 23s\n",
      "487:\tlearn: 1724.6750859\ttotal: 7m 59s\tremaining: 8m 23s\n",
      "488:\tlearn: 1724.5606893\ttotal: 8m\tremaining: 8m 22s\n",
      "489:\tlearn: 1724.3054263\ttotal: 8m 1s\tremaining: 8m 21s\n",
      "490:\tlearn: 1724.1046406\ttotal: 8m 2s\tremaining: 8m 20s\n",
      "491:\tlearn: 1723.7579229\ttotal: 8m 3s\tremaining: 8m 18s\n",
      "492:\tlearn: 1723.7446105\ttotal: 8m 3s\tremaining: 8m 17s\n",
      "493:\tlearn: 1723.5412076\ttotal: 8m 4s\tremaining: 8m 16s\n",
      "494:\tlearn: 1723.2706028\ttotal: 8m 5s\tremaining: 8m 15s\n",
      "495:\tlearn: 1723.0653628\ttotal: 8m 6s\tremaining: 8m 14s\n",
      "496:\tlearn: 1722.6218720\ttotal: 8m 7s\tremaining: 8m 13s\n",
      "497:\tlearn: 1722.4558743\ttotal: 8m 8s\tremaining: 8m 12s\n",
      "498:\tlearn: 1722.0905265\ttotal: 8m 9s\tremaining: 8m 11s\n",
      "499:\tlearn: 1722.0436384\ttotal: 8m 10s\tremaining: 8m 10s\n",
      "500:\tlearn: 1721.7692408\ttotal: 8m 11s\tremaining: 8m 9s\n",
      "501:\tlearn: 1721.5183757\ttotal: 8m 12s\tremaining: 8m 8s\n",
      "502:\tlearn: 1721.3217046\ttotal: 8m 13s\tremaining: 8m 7s\n",
      "503:\tlearn: 1721.0919140\ttotal: 8m 14s\tremaining: 8m 6s\n",
      "504:\tlearn: 1721.0267654\ttotal: 8m 15s\tremaining: 8m 5s\n",
      "505:\tlearn: 1720.8577001\ttotal: 8m 16s\tremaining: 8m 4s\n",
      "506:\tlearn: 1720.6481104\ttotal: 8m 17s\tremaining: 8m 3s\n",
      "507:\tlearn: 1720.4105186\ttotal: 8m 18s\tremaining: 8m 2s\n",
      "508:\tlearn: 1720.2317703\ttotal: 8m 19s\tremaining: 8m 1s\n",
      "509:\tlearn: 1720.1089896\ttotal: 8m 20s\tremaining: 8m 1s\n",
      "510:\tlearn: 1719.9510741\ttotal: 8m 21s\tremaining: 8m\n",
      "511:\tlearn: 1719.7730274\ttotal: 8m 22s\tremaining: 7m 59s\n",
      "512:\tlearn: 1719.4748499\ttotal: 8m 23s\tremaining: 7m 58s\n",
      "513:\tlearn: 1719.3105448\ttotal: 8m 24s\tremaining: 7m 57s\n",
      "514:\tlearn: 1718.7721728\ttotal: 8m 25s\tremaining: 7m 56s\n",
      "515:\tlearn: 1718.5249907\ttotal: 8m 26s\tremaining: 7m 55s\n",
      "516:\tlearn: 1718.4020248\ttotal: 8m 27s\tremaining: 7m 54s\n",
      "517:\tlearn: 1718.2489871\ttotal: 8m 28s\tremaining: 7m 53s\n",
      "518:\tlearn: 1718.0223045\ttotal: 8m 29s\tremaining: 7m 52s\n",
      "519:\tlearn: 1717.6146127\ttotal: 8m 30s\tremaining: 7m 51s\n",
      "520:\tlearn: 1717.4859642\ttotal: 8m 31s\tremaining: 7m 50s\n",
      "521:\tlearn: 1717.0913911\ttotal: 8m 32s\tremaining: 7m 49s\n",
      "522:\tlearn: 1716.8467538\ttotal: 8m 33s\tremaining: 7m 48s\n",
      "523:\tlearn: 1716.5437428\ttotal: 8m 34s\tremaining: 7m 47s\n",
      "524:\tlearn: 1716.3605661\ttotal: 8m 35s\tremaining: 7m 46s\n",
      "525:\tlearn: 1716.2226771\ttotal: 8m 36s\tremaining: 7m 45s\n",
      "526:\tlearn: 1715.9540721\ttotal: 8m 37s\tremaining: 7m 44s\n",
      "527:\tlearn: 1715.8106748\ttotal: 8m 38s\tremaining: 7m 43s\n",
      "528:\tlearn: 1715.6122489\ttotal: 8m 39s\tremaining: 7m 42s\n",
      "529:\tlearn: 1715.4317361\ttotal: 8m 40s\tremaining: 7m 41s\n",
      "530:\tlearn: 1715.0784148\ttotal: 8m 41s\tremaining: 7m 40s\n",
      "531:\tlearn: 1714.7737289\ttotal: 8m 42s\tremaining: 7m 39s\n",
      "532:\tlearn: 1714.6045111\ttotal: 8m 43s\tremaining: 7m 38s\n",
      "533:\tlearn: 1714.4088632\ttotal: 8m 44s\tremaining: 7m 37s\n",
      "534:\tlearn: 1714.0648106\ttotal: 8m 45s\tremaining: 7m 36s\n",
      "535:\tlearn: 1713.6870597\ttotal: 8m 46s\tremaining: 7m 35s\n",
      "536:\tlearn: 1713.3413274\ttotal: 8m 47s\tremaining: 7m 34s\n",
      "537:\tlearn: 1713.1301610\ttotal: 8m 48s\tremaining: 7m 33s\n",
      "538:\tlearn: 1713.1043568\ttotal: 8m 49s\tremaining: 7m 32s\n",
      "539:\tlearn: 1712.8653663\ttotal: 8m 50s\tremaining: 7m 31s\n",
      "540:\tlearn: 1712.6069858\ttotal: 8m 50s\tremaining: 7m 30s\n",
      "541:\tlearn: 1712.3832489\ttotal: 8m 51s\tremaining: 7m 29s\n",
      "542:\tlearn: 1712.2791570\ttotal: 8m 52s\tremaining: 7m 28s\n",
      "543:\tlearn: 1712.1117543\ttotal: 8m 53s\tremaining: 7m 27s\n",
      "544:\tlearn: 1711.9503753\ttotal: 8m 54s\tremaining: 7m 26s\n",
      "545:\tlearn: 1711.8438112\ttotal: 8m 55s\tremaining: 7m 25s\n",
      "546:\tlearn: 1711.7240102\ttotal: 8m 56s\tremaining: 7m 24s\n",
      "547:\tlearn: 1711.4287744\ttotal: 8m 58s\tremaining: 7m 23s\n",
      "548:\tlearn: 1711.3576534\ttotal: 8m 59s\tremaining: 7m 23s\n",
      "549:\tlearn: 1711.1937229\ttotal: 9m\tremaining: 7m 22s\n",
      "550:\tlearn: 1711.0498232\ttotal: 9m 1s\tremaining: 7m 21s\n",
      "551:\tlearn: 1710.5991893\ttotal: 9m 2s\tremaining: 7m 20s\n",
      "552:\tlearn: 1710.5054988\ttotal: 9m 3s\tremaining: 7m 19s\n",
      "553:\tlearn: 1710.3141564\ttotal: 9m 4s\tremaining: 7m 18s\n",
      "554:\tlearn: 1710.0420906\ttotal: 9m 5s\tremaining: 7m 17s\n",
      "555:\tlearn: 1709.8488004\ttotal: 9m 6s\tremaining: 7m 16s\n",
      "556:\tlearn: 1709.6508121\ttotal: 9m 7s\tremaining: 7m 15s\n",
      "557:\tlearn: 1709.3802714\ttotal: 9m 8s\tremaining: 7m 14s\n",
      "558:\tlearn: 1709.2615527\ttotal: 9m 9s\tremaining: 7m 13s\n",
      "559:\tlearn: 1709.1480569\ttotal: 9m 11s\tremaining: 7m 13s\n",
      "560:\tlearn: 1709.0948894\ttotal: 9m 12s\tremaining: 7m 12s\n",
      "561:\tlearn: 1708.8075920\ttotal: 9m 13s\tremaining: 7m 11s\n",
      "562:\tlearn: 1708.3426368\ttotal: 9m 14s\tremaining: 7m 10s\n",
      "563:\tlearn: 1708.1809402\ttotal: 9m 15s\tremaining: 7m 9s\n",
      "564:\tlearn: 1708.0181415\ttotal: 9m 16s\tremaining: 7m 8s\n",
      "565:\tlearn: 1707.9515576\ttotal: 9m 17s\tremaining: 7m 7s\n",
      "566:\tlearn: 1707.8364388\ttotal: 9m 18s\tremaining: 7m 6s\n",
      "567:\tlearn: 1707.6068344\ttotal: 9m 19s\tremaining: 7m 5s\n",
      "568:\tlearn: 1707.3075245\ttotal: 9m 20s\tremaining: 7m 4s\n",
      "569:\tlearn: 1706.9011784\ttotal: 9m 21s\tremaining: 7m 3s\n",
      "570:\tlearn: 1706.6648268\ttotal: 9m 22s\tremaining: 7m 2s\n",
      "571:\tlearn: 1706.4867577\ttotal: 9m 23s\tremaining: 7m 1s\n",
      "572:\tlearn: 1706.2448818\ttotal: 9m 23s\tremaining: 7m\n",
      "573:\tlearn: 1705.9483712\ttotal: 9m 25s\tremaining: 6m 59s\n",
      "574:\tlearn: 1705.8898937\ttotal: 9m 26s\tremaining: 6m 58s\n",
      "575:\tlearn: 1705.6960928\ttotal: 9m 26s\tremaining: 6m 57s\n",
      "576:\tlearn: 1705.6435652\ttotal: 9m 28s\tremaining: 6m 56s\n",
      "577:\tlearn: 1705.2475031\ttotal: 9m 29s\tremaining: 6m 55s\n",
      "578:\tlearn: 1705.0989365\ttotal: 9m 30s\tremaining: 6m 54s\n",
      "579:\tlearn: 1704.6351937\ttotal: 9m 31s\tremaining: 6m 53s\n",
      "580:\tlearn: 1704.6240601\ttotal: 9m 32s\tremaining: 6m 52s\n",
      "581:\tlearn: 1704.3965372\ttotal: 9m 33s\tremaining: 6m 51s\n",
      "582:\tlearn: 1704.2188886\ttotal: 9m 34s\tremaining: 6m 50s\n",
      "583:\tlearn: 1704.0076100\ttotal: 9m 35s\tremaining: 6m 49s\n",
      "584:\tlearn: 1703.8910400\ttotal: 9m 36s\tremaining: 6m 49s\n",
      "585:\tlearn: 1703.7635880\ttotal: 9m 37s\tremaining: 6m 48s\n",
      "586:\tlearn: 1703.6298684\ttotal: 9m 38s\tremaining: 6m 47s\n",
      "587:\tlearn: 1703.3508109\ttotal: 9m 39s\tremaining: 6m 46s\n",
      "588:\tlearn: 1703.1752752\ttotal: 9m 40s\tremaining: 6m 45s\n",
      "589:\tlearn: 1703.0596464\ttotal: 9m 41s\tremaining: 6m 44s\n",
      "590:\tlearn: 1702.7005114\ttotal: 9m 42s\tremaining: 6m 43s\n",
      "591:\tlearn: 1702.5514217\ttotal: 9m 43s\tremaining: 6m 42s\n",
      "592:\tlearn: 1702.4423079\ttotal: 9m 44s\tremaining: 6m 41s\n",
      "593:\tlearn: 1702.0250578\ttotal: 9m 45s\tremaining: 6m 40s\n",
      "594:\tlearn: 1701.8289621\ttotal: 9m 46s\tremaining: 6m 39s\n",
      "595:\tlearn: 1701.6396065\ttotal: 9m 47s\tremaining: 6m 38s\n",
      "596:\tlearn: 1701.3657625\ttotal: 9m 48s\tremaining: 6m 37s\n",
      "597:\tlearn: 1701.2923796\ttotal: 9m 49s\tremaining: 6m 36s\n",
      "598:\tlearn: 1701.1133689\ttotal: 9m 51s\tremaining: 6m 35s\n",
      "599:\tlearn: 1700.9135615\ttotal: 9m 52s\tremaining: 6m 34s\n",
      "600:\tlearn: 1700.7455806\ttotal: 9m 53s\tremaining: 6m 34s\n",
      "601:\tlearn: 1700.6177839\ttotal: 9m 55s\tremaining: 6m 33s\n",
      "602:\tlearn: 1700.1658043\ttotal: 9m 55s\tremaining: 6m 32s\n",
      "603:\tlearn: 1699.8526147\ttotal: 9m 57s\tremaining: 6m 31s\n",
      "604:\tlearn: 1699.7112545\ttotal: 9m 57s\tremaining: 6m 30s\n",
      "605:\tlearn: 1699.5181974\ttotal: 9m 59s\tremaining: 6m 29s\n",
      "606:\tlearn: 1699.3744524\ttotal: 10m\tremaining: 6m 28s\n",
      "607:\tlearn: 1699.1041891\ttotal: 10m 1s\tremaining: 6m 27s\n",
      "608:\tlearn: 1698.9660529\ttotal: 10m 2s\tremaining: 6m 26s\n",
      "609:\tlearn: 1698.7956554\ttotal: 10m 3s\tremaining: 6m 25s\n",
      "610:\tlearn: 1698.7269333\ttotal: 10m 4s\tremaining: 6m 24s\n",
      "611:\tlearn: 1698.6733069\ttotal: 10m 5s\tremaining: 6m 23s\n",
      "612:\tlearn: 1698.5258821\ttotal: 10m 6s\tremaining: 6m 22s\n",
      "613:\tlearn: 1698.3739753\ttotal: 10m 7s\tremaining: 6m 21s\n",
      "614:\tlearn: 1698.3382786\ttotal: 10m 8s\tremaining: 6m 20s\n",
      "615:\tlearn: 1698.0322589\ttotal: 10m 9s\tremaining: 6m 19s\n",
      "616:\tlearn: 1697.9436299\ttotal: 10m 10s\tremaining: 6m 18s\n",
      "617:\tlearn: 1697.7662068\ttotal: 10m 11s\tremaining: 6m 18s\n",
      "618:\tlearn: 1697.3716389\ttotal: 10m 12s\tremaining: 6m 17s\n",
      "619:\tlearn: 1697.1371175\ttotal: 10m 13s\tremaining: 6m 16s\n",
      "620:\tlearn: 1697.0246644\ttotal: 10m 14s\tremaining: 6m 15s\n",
      "621:\tlearn: 1696.8556291\ttotal: 10m 15s\tremaining: 6m 14s\n",
      "622:\tlearn: 1696.6886553\ttotal: 10m 16s\tremaining: 6m 13s\n",
      "623:\tlearn: 1696.6501178\ttotal: 10m 17s\tremaining: 6m 12s\n",
      "624:\tlearn: 1696.6288700\ttotal: 10m 18s\tremaining: 6m 11s\n",
      "625:\tlearn: 1696.5643822\ttotal: 10m 20s\tremaining: 6m 10s\n",
      "626:\tlearn: 1696.5190002\ttotal: 10m 21s\tremaining: 6m 9s\n",
      "627:\tlearn: 1696.3613231\ttotal: 10m 22s\tremaining: 6m 8s\n",
      "628:\tlearn: 1696.2256284\ttotal: 10m 23s\tremaining: 6m 7s\n",
      "629:\tlearn: 1695.9000588\ttotal: 10m 24s\tremaining: 6m 6s\n",
      "630:\tlearn: 1695.7206575\ttotal: 10m 25s\tremaining: 6m 5s\n",
      "631:\tlearn: 1695.6675745\ttotal: 10m 26s\tremaining: 6m 4s\n",
      "632:\tlearn: 1695.5143769\ttotal: 10m 27s\tremaining: 6m 3s\n",
      "633:\tlearn: 1695.4357551\ttotal: 10m 28s\tremaining: 6m 3s\n",
      "634:\tlearn: 1695.3724173\ttotal: 10m 30s\tremaining: 6m 2s\n",
      "635:\tlearn: 1695.1306341\ttotal: 10m 31s\tremaining: 6m 1s\n",
      "636:\tlearn: 1695.0324108\ttotal: 10m 32s\tremaining: 6m\n",
      "637:\tlearn: 1694.9819734\ttotal: 10m 33s\tremaining: 5m 59s\n",
      "638:\tlearn: 1694.8348334\ttotal: 10m 34s\tremaining: 5m 58s\n",
      "639:\tlearn: 1694.8189824\ttotal: 10m 35s\tremaining: 5m 57s\n",
      "640:\tlearn: 1694.7473609\ttotal: 10m 36s\tremaining: 5m 56s\n",
      "641:\tlearn: 1694.5857821\ttotal: 10m 37s\tremaining: 5m 55s\n",
      "642:\tlearn: 1694.4266433\ttotal: 10m 38s\tremaining: 5m 54s\n",
      "643:\tlearn: 1694.2397072\ttotal: 10m 40s\tremaining: 5m 53s\n",
      "644:\tlearn: 1694.0821808\ttotal: 10m 41s\tremaining: 5m 52s\n",
      "645:\tlearn: 1693.9266363\ttotal: 10m 42s\tremaining: 5m 51s\n",
      "646:\tlearn: 1693.7625004\ttotal: 10m 43s\tremaining: 5m 50s\n",
      "647:\tlearn: 1693.6826407\ttotal: 10m 44s\tremaining: 5m 49s\n",
      "648:\tlearn: 1693.5546550\ttotal: 10m 45s\tremaining: 5m 48s\n",
      "649:\tlearn: 1693.3598377\ttotal: 10m 46s\tremaining: 5m 47s\n",
      "650:\tlearn: 1693.2347217\ttotal: 10m 47s\tremaining: 5m 46s\n",
      "651:\tlearn: 1693.0974294\ttotal: 10m 48s\tremaining: 5m 45s\n",
      "652:\tlearn: 1692.9584644\ttotal: 10m 49s\tremaining: 5m 45s\n",
      "653:\tlearn: 1692.9456295\ttotal: 10m 50s\tremaining: 5m 44s\n",
      "654:\tlearn: 1692.8180755\ttotal: 10m 51s\tremaining: 5m 43s\n",
      "655:\tlearn: 1692.4499705\ttotal: 10m 52s\tremaining: 5m 42s\n",
      "656:\tlearn: 1692.4444128\ttotal: 10m 53s\tremaining: 5m 41s\n",
      "657:\tlearn: 1692.1988140\ttotal: 10m 54s\tremaining: 5m 40s\n",
      "658:\tlearn: 1692.1636749\ttotal: 10m 55s\tremaining: 5m 39s\n",
      "659:\tlearn: 1691.7880525\ttotal: 10m 56s\tremaining: 5m 38s\n",
      "660:\tlearn: 1691.5822503\ttotal: 10m 57s\tremaining: 5m 37s\n",
      "661:\tlearn: 1691.4658645\ttotal: 10m 58s\tremaining: 5m 36s\n",
      "662:\tlearn: 1691.1984412\ttotal: 11m\tremaining: 5m 35s\n",
      "663:\tlearn: 1690.9952280\ttotal: 11m 1s\tremaining: 5m 34s\n",
      "664:\tlearn: 1690.8075194\ttotal: 11m 2s\tremaining: 5m 33s\n",
      "665:\tlearn: 1690.6144328\ttotal: 11m 3s\tremaining: 5m 32s\n",
      "666:\tlearn: 1690.4315815\ttotal: 11m 4s\tremaining: 5m 31s\n",
      "667:\tlearn: 1690.1317446\ttotal: 11m 5s\tremaining: 5m 30s\n",
      "668:\tlearn: 1689.8514558\ttotal: 11m 6s\tremaining: 5m 29s\n",
      "669:\tlearn: 1689.5705358\ttotal: 11m 7s\tremaining: 5m 28s\n",
      "670:\tlearn: 1689.5061677\ttotal: 11m 8s\tremaining: 5m 27s\n",
      "671:\tlearn: 1689.4122141\ttotal: 11m 9s\tremaining: 5m 26s\n",
      "672:\tlearn: 1689.3802644\ttotal: 11m 10s\tremaining: 5m 25s\n",
      "673:\tlearn: 1689.2378222\ttotal: 11m 11s\tremaining: 5m 24s\n",
      "674:\tlearn: 1689.0764594\ttotal: 11m 12s\tremaining: 5m 23s\n",
      "675:\tlearn: 1688.9234623\ttotal: 11m 13s\tremaining: 5m 22s\n",
      "676:\tlearn: 1688.8350876\ttotal: 11m 14s\tremaining: 5m 21s\n",
      "677:\tlearn: 1688.7444652\ttotal: 11m 15s\tremaining: 5m 20s\n",
      "678:\tlearn: 1688.6591672\ttotal: 11m 16s\tremaining: 5m 19s\n",
      "679:\tlearn: 1688.4484839\ttotal: 11m 17s\tremaining: 5m 18s\n",
      "680:\tlearn: 1688.3051413\ttotal: 11m 18s\tremaining: 5m 17s\n",
      "681:\tlearn: 1688.0638520\ttotal: 11m 19s\tremaining: 5m 16s\n",
      "682:\tlearn: 1687.9271148\ttotal: 11m 20s\tremaining: 5m 15s\n",
      "683:\tlearn: 1687.7826311\ttotal: 11m 21s\tremaining: 5m 14s\n",
      "684:\tlearn: 1687.6470068\ttotal: 11m 22s\tremaining: 5m 13s\n",
      "685:\tlearn: 1687.4623958\ttotal: 11m 23s\tremaining: 5m 12s\n",
      "686:\tlearn: 1687.4616004\ttotal: 11m 24s\tremaining: 5m 11s\n",
      "687:\tlearn: 1687.2560214\ttotal: 11m 25s\tremaining: 5m 10s\n",
      "688:\tlearn: 1687.0191494\ttotal: 11m 26s\tremaining: 5m 9s\n",
      "689:\tlearn: 1686.7701313\ttotal: 11m 27s\tremaining: 5m 8s\n",
      "690:\tlearn: 1686.5742872\ttotal: 11m 28s\tremaining: 5m 7s\n",
      "691:\tlearn: 1686.4600632\ttotal: 11m 29s\tremaining: 5m 6s\n",
      "692:\tlearn: 1686.1036288\ttotal: 11m 30s\tremaining: 5m 5s\n",
      "693:\tlearn: 1685.7914767\ttotal: 11m 31s\tremaining: 5m 4s\n",
      "694:\tlearn: 1685.7300910\ttotal: 11m 32s\tremaining: 5m 3s\n",
      "695:\tlearn: 1685.5841618\ttotal: 11m 33s\tremaining: 5m 2s\n",
      "696:\tlearn: 1685.4769843\ttotal: 11m 34s\tremaining: 5m 1s\n",
      "697:\tlearn: 1685.3822598\ttotal: 11m 35s\tremaining: 5m 1s\n",
      "698:\tlearn: 1685.3542830\ttotal: 11m 37s\tremaining: 5m\n",
      "699:\tlearn: 1685.1482860\ttotal: 11m 38s\tremaining: 4m 59s\n",
      "700:\tlearn: 1685.0590799\ttotal: 11m 39s\tremaining: 4m 58s\n",
      "701:\tlearn: 1684.9418836\ttotal: 11m 40s\tremaining: 4m 57s\n",
      "702:\tlearn: 1684.5657803\ttotal: 11m 41s\tremaining: 4m 56s\n",
      "703:\tlearn: 1684.3879664\ttotal: 11m 42s\tremaining: 4m 55s\n",
      "704:\tlearn: 1684.3353176\ttotal: 11m 43s\tremaining: 4m 54s\n",
      "705:\tlearn: 1684.0758124\ttotal: 11m 44s\tremaining: 4m 53s\n",
      "706:\tlearn: 1683.8155776\ttotal: 11m 45s\tremaining: 4m 52s\n",
      "707:\tlearn: 1683.7014376\ttotal: 11m 46s\tremaining: 4m 51s\n",
      "708:\tlearn: 1683.4968379\ttotal: 11m 47s\tremaining: 4m 50s\n",
      "709:\tlearn: 1683.3074446\ttotal: 11m 48s\tremaining: 4m 49s\n",
      "710:\tlearn: 1683.1873102\ttotal: 11m 49s\tremaining: 4m 48s\n",
      "711:\tlearn: 1683.0943378\ttotal: 11m 49s\tremaining: 4m 47s\n",
      "712:\tlearn: 1682.9611582\ttotal: 11m 50s\tremaining: 4m 46s\n",
      "713:\tlearn: 1682.8417111\ttotal: 11m 51s\tremaining: 4m 45s\n",
      "714:\tlearn: 1682.8175588\ttotal: 11m 53s\tremaining: 4m 44s\n",
      "715:\tlearn: 1682.6032506\ttotal: 11m 54s\tremaining: 4m 43s\n",
      "716:\tlearn: 1682.2646042\ttotal: 11m 55s\tremaining: 4m 42s\n",
      "717:\tlearn: 1682.1702489\ttotal: 11m 56s\tremaining: 4m 41s\n",
      "718:\tlearn: 1681.8869764\ttotal: 11m 57s\tremaining: 4m 40s\n",
      "719:\tlearn: 1681.8158147\ttotal: 11m 58s\tremaining: 4m 39s\n",
      "720:\tlearn: 1681.5454933\ttotal: 11m 59s\tremaining: 4m 38s\n",
      "721:\tlearn: 1681.3866193\ttotal: 12m\tremaining: 4m 37s\n",
      "722:\tlearn: 1681.1311320\ttotal: 12m 1s\tremaining: 4m 36s\n",
      "723:\tlearn: 1680.9846458\ttotal: 12m 2s\tremaining: 4m 35s\n",
      "724:\tlearn: 1680.8533133\ttotal: 12m 3s\tremaining: 4m 34s\n",
      "725:\tlearn: 1680.6596628\ttotal: 12m 4s\tremaining: 4m 33s\n",
      "726:\tlearn: 1680.6132003\ttotal: 12m 5s\tremaining: 4m 32s\n",
      "727:\tlearn: 1680.5651126\ttotal: 12m 6s\tremaining: 4m 31s\n",
      "728:\tlearn: 1680.2655777\ttotal: 12m 7s\tremaining: 4m 30s\n",
      "729:\tlearn: 1680.1397856\ttotal: 12m 8s\tremaining: 4m 29s\n",
      "730:\tlearn: 1679.8516853\ttotal: 12m 9s\tremaining: 4m 28s\n",
      "731:\tlearn: 1679.8229783\ttotal: 12m 10s\tremaining: 4m 27s\n",
      "732:\tlearn: 1679.4944592\ttotal: 12m 11s\tremaining: 4m 26s\n",
      "733:\tlearn: 1679.2277678\ttotal: 12m 12s\tremaining: 4m 25s\n",
      "734:\tlearn: 1679.1441762\ttotal: 12m 13s\tremaining: 4m 24s\n",
      "735:\tlearn: 1678.9633754\ttotal: 12m 14s\tremaining: 4m 23s\n",
      "736:\tlearn: 1678.8504018\ttotal: 12m 15s\tremaining: 4m 22s\n",
      "737:\tlearn: 1678.7659301\ttotal: 12m 16s\tremaining: 4m 21s\n",
      "738:\tlearn: 1678.5984033\ttotal: 12m 17s\tremaining: 4m 20s\n",
      "739:\tlearn: 1678.4520984\ttotal: 12m 18s\tremaining: 4m 19s\n",
      "740:\tlearn: 1678.3830692\ttotal: 12m 19s\tremaining: 4m 18s\n",
      "741:\tlearn: 1678.2797811\ttotal: 12m 20s\tremaining: 4m 17s\n",
      "742:\tlearn: 1678.2647179\ttotal: 12m 21s\tremaining: 4m 16s\n",
      "743:\tlearn: 1678.1598348\ttotal: 12m 22s\tremaining: 4m 15s\n",
      "744:\tlearn: 1678.0359813\ttotal: 12m 23s\tremaining: 4m 14s\n",
      "745:\tlearn: 1678.0085553\ttotal: 12m 25s\tremaining: 4m 13s\n",
      "746:\tlearn: 1677.9132996\ttotal: 12m 26s\tremaining: 4m 12s\n",
      "747:\tlearn: 1677.8450762\ttotal: 12m 27s\tremaining: 4m 11s\n",
      "748:\tlearn: 1677.7632689\ttotal: 12m 28s\tremaining: 4m 10s\n",
      "749:\tlearn: 1677.6271129\ttotal: 12m 29s\tremaining: 4m 9s\n",
      "750:\tlearn: 1677.4455110\ttotal: 12m 30s\tremaining: 4m 8s\n",
      "751:\tlearn: 1677.2496790\ttotal: 12m 31s\tremaining: 4m 7s\n",
      "752:\tlearn: 1677.0542065\ttotal: 12m 32s\tremaining: 4m 6s\n",
      "753:\tlearn: 1676.7320196\ttotal: 12m 33s\tremaining: 4m 5s\n",
      "754:\tlearn: 1676.7044030\ttotal: 12m 35s\tremaining: 4m 5s\n",
      "755:\tlearn: 1676.6219916\ttotal: 12m 36s\tremaining: 4m 4s\n",
      "756:\tlearn: 1676.4517850\ttotal: 12m 37s\tremaining: 4m 3s\n",
      "757:\tlearn: 1676.4121384\ttotal: 12m 38s\tremaining: 4m 2s\n",
      "758:\tlearn: 1676.2434745\ttotal: 12m 40s\tremaining: 4m 1s\n",
      "759:\tlearn: 1675.9477304\ttotal: 12m 41s\tremaining: 4m\n",
      "760:\tlearn: 1675.7480941\ttotal: 12m 42s\tremaining: 3m 59s\n",
      "761:\tlearn: 1675.4601989\ttotal: 12m 43s\tremaining: 3m 58s\n",
      "762:\tlearn: 1675.4332106\ttotal: 12m 44s\tremaining: 3m 57s\n",
      "763:\tlearn: 1675.3436527\ttotal: 12m 45s\tremaining: 3m 56s\n",
      "764:\tlearn: 1675.1424772\ttotal: 12m 46s\tremaining: 3m 55s\n",
      "765:\tlearn: 1675.0621806\ttotal: 12m 47s\tremaining: 3m 54s\n",
      "766:\tlearn: 1674.8242069\ttotal: 12m 48s\tremaining: 3m 53s\n",
      "767:\tlearn: 1674.7513582\ttotal: 12m 49s\tremaining: 3m 52s\n",
      "768:\tlearn: 1674.6962927\ttotal: 12m 50s\tremaining: 3m 51s\n",
      "769:\tlearn: 1674.5185492\ttotal: 12m 51s\tremaining: 3m 50s\n",
      "770:\tlearn: 1674.4226007\ttotal: 12m 53s\tremaining: 3m 49s\n",
      "771:\tlearn: 1674.1233569\ttotal: 12m 54s\tremaining: 3m 48s\n",
      "772:\tlearn: 1673.9202792\ttotal: 12m 55s\tremaining: 3m 47s\n",
      "773:\tlearn: 1673.6049963\ttotal: 12m 56s\tremaining: 3m 46s\n",
      "774:\tlearn: 1673.5357377\ttotal: 12m 57s\tremaining: 3m 45s\n",
      "775:\tlearn: 1673.2454761\ttotal: 12m 58s\tremaining: 3m 44s\n",
      "776:\tlearn: 1672.8457068\ttotal: 12m 59s\tremaining: 3m 43s\n",
      "777:\tlearn: 1672.7616659\ttotal: 13m\tremaining: 3m 42s\n",
      "778:\tlearn: 1672.7607642\ttotal: 13m 1s\tremaining: 3m 41s\n",
      "779:\tlearn: 1672.5492487\ttotal: 13m 2s\tremaining: 3m 40s\n",
      "780:\tlearn: 1672.4598484\ttotal: 13m 3s\tremaining: 3m 39s\n",
      "781:\tlearn: 1672.2484515\ttotal: 13m 4s\tremaining: 3m 38s\n",
      "782:\tlearn: 1672.2422689\ttotal: 13m 5s\tremaining: 3m 37s\n",
      "783:\tlearn: 1672.0363850\ttotal: 13m 6s\tremaining: 3m 36s\n",
      "784:\tlearn: 1671.8398646\ttotal: 13m 7s\tremaining: 3m 35s\n",
      "785:\tlearn: 1671.6414776\ttotal: 13m 8s\tremaining: 3m 34s\n",
      "786:\tlearn: 1671.5055103\ttotal: 13m 9s\tremaining: 3m 33s\n",
      "787:\tlearn: 1671.3714634\ttotal: 13m 10s\tremaining: 3m 32s\n",
      "788:\tlearn: 1671.1463991\ttotal: 13m 11s\tremaining: 3m 31s\n",
      "789:\tlearn: 1671.0830892\ttotal: 13m 12s\tremaining: 3m 30s\n",
      "790:\tlearn: 1671.0074093\ttotal: 13m 13s\tremaining: 3m 29s\n",
      "791:\tlearn: 1670.8584456\ttotal: 13m 14s\tremaining: 3m 28s\n",
      "792:\tlearn: 1670.6693930\ttotal: 13m 15s\tremaining: 3m 27s\n",
      "793:\tlearn: 1670.5983224\ttotal: 13m 16s\tremaining: 3m 26s\n",
      "794:\tlearn: 1670.3541504\ttotal: 13m 17s\tremaining: 3m 25s\n",
      "795:\tlearn: 1670.1441869\ttotal: 13m 18s\tremaining: 3m 24s\n",
      "796:\tlearn: 1670.0116080\ttotal: 13m 19s\tremaining: 3m 23s\n",
      "797:\tlearn: 1669.8993601\ttotal: 13m 20s\tremaining: 3m 22s\n",
      "798:\tlearn: 1669.7552611\ttotal: 13m 21s\tremaining: 3m 21s\n",
      "799:\tlearn: 1669.6491139\ttotal: 13m 22s\tremaining: 3m 20s\n",
      "800:\tlearn: 1669.5912931\ttotal: 13m 23s\tremaining: 3m 19s\n",
      "801:\tlearn: 1669.5429935\ttotal: 13m 25s\tremaining: 3m 18s\n",
      "802:\tlearn: 1669.4024437\ttotal: 13m 25s\tremaining: 3m 17s\n",
      "803:\tlearn: 1669.2877245\ttotal: 13m 26s\tremaining: 3m 16s\n",
      "804:\tlearn: 1669.2191767\ttotal: 13m 27s\tremaining: 3m 15s\n",
      "805:\tlearn: 1669.1711401\ttotal: 13m 29s\tremaining: 3m 14s\n",
      "806:\tlearn: 1669.0408253\ttotal: 13m 30s\tremaining: 3m 13s\n",
      "807:\tlearn: 1668.9762308\ttotal: 13m 31s\tremaining: 3m 12s\n",
      "808:\tlearn: 1668.8924942\ttotal: 13m 32s\tremaining: 3m 11s\n",
      "809:\tlearn: 1668.8462795\ttotal: 13m 32s\tremaining: 3m 10s\n",
      "810:\tlearn: 1668.5224215\ttotal: 13m 33s\tremaining: 3m 9s\n",
      "811:\tlearn: 1668.4668244\ttotal: 13m 34s\tremaining: 3m 8s\n",
      "812:\tlearn: 1668.2113999\ttotal: 13m 35s\tremaining: 3m 7s\n",
      "813:\tlearn: 1668.0767515\ttotal: 13m 37s\tremaining: 3m 6s\n",
      "814:\tlearn: 1668.0481067\ttotal: 13m 38s\tremaining: 3m 5s\n",
      "815:\tlearn: 1667.9897927\ttotal: 13m 39s\tremaining: 3m 4s\n",
      "816:\tlearn: 1667.9633101\ttotal: 13m 40s\tremaining: 3m 3s\n",
      "817:\tlearn: 1667.7889781\ttotal: 13m 41s\tremaining: 3m 2s\n",
      "818:\tlearn: 1667.5436269\ttotal: 13m 42s\tremaining: 3m 1s\n",
      "819:\tlearn: 1667.4452371\ttotal: 13m 43s\tremaining: 3m\n",
      "820:\tlearn: 1667.1850338\ttotal: 13m 44s\tremaining: 2m 59s\n",
      "821:\tlearn: 1667.0293198\ttotal: 13m 46s\tremaining: 2m 58s\n",
      "822:\tlearn: 1666.8519655\ttotal: 13m 47s\tremaining: 2m 57s\n",
      "823:\tlearn: 1666.6555131\ttotal: 13m 48s\tremaining: 2m 56s\n",
      "824:\tlearn: 1666.4385639\ttotal: 13m 49s\tremaining: 2m 55s\n",
      "825:\tlearn: 1666.3626869\ttotal: 13m 50s\tremaining: 2m 54s\n",
      "826:\tlearn: 1666.2428594\ttotal: 13m 51s\tremaining: 2m 53s\n",
      "827:\tlearn: 1665.7479187\ttotal: 13m 52s\tremaining: 2m 52s\n",
      "828:\tlearn: 1665.6823734\ttotal: 13m 52s\tremaining: 2m 51s\n",
      "829:\tlearn: 1665.5074895\ttotal: 13m 53s\tremaining: 2m 50s\n",
      "830:\tlearn: 1665.4595308\ttotal: 13m 54s\tremaining: 2m 49s\n",
      "831:\tlearn: 1665.1742625\ttotal: 13m 55s\tremaining: 2m 48s\n",
      "832:\tlearn: 1665.1367550\ttotal: 13m 56s\tremaining: 2m 47s\n",
      "833:\tlearn: 1664.8828951\ttotal: 13m 57s\tremaining: 2m 46s\n",
      "834:\tlearn: 1664.7721563\ttotal: 13m 58s\tremaining: 2m 45s\n",
      "835:\tlearn: 1664.5038104\ttotal: 13m 59s\tremaining: 2m 44s\n",
      "836:\tlearn: 1664.3537865\ttotal: 14m\tremaining: 2m 43s\n",
      "837:\tlearn: 1664.1354021\ttotal: 14m 1s\tremaining: 2m 42s\n",
      "838:\tlearn: 1664.0098095\ttotal: 14m 2s\tremaining: 2m 41s\n",
      "839:\tlearn: 1663.8301529\ttotal: 14m 3s\tremaining: 2m 40s\n",
      "840:\tlearn: 1663.7119929\ttotal: 14m 4s\tremaining: 2m 39s\n",
      "841:\tlearn: 1663.6218342\ttotal: 14m 5s\tremaining: 2m 38s\n",
      "842:\tlearn: 1663.4713672\ttotal: 14m 6s\tremaining: 2m 37s\n",
      "843:\tlearn: 1663.4510435\ttotal: 14m 7s\tremaining: 2m 36s\n",
      "844:\tlearn: 1663.3720533\ttotal: 14m 8s\tremaining: 2m 35s\n",
      "845:\tlearn: 1663.3201899\ttotal: 14m 9s\tremaining: 2m 34s\n",
      "846:\tlearn: 1663.1374189\ttotal: 14m 11s\tremaining: 2m 33s\n",
      "847:\tlearn: 1663.0721313\ttotal: 14m 11s\tremaining: 2m 32s\n",
      "848:\tlearn: 1663.0419942\ttotal: 14m 12s\tremaining: 2m 31s\n",
      "849:\tlearn: 1662.8978036\ttotal: 14m 14s\tremaining: 2m 30s\n",
      "850:\tlearn: 1662.8323991\ttotal: 14m 14s\tremaining: 2m 29s\n",
      "851:\tlearn: 1662.7468929\ttotal: 14m 15s\tremaining: 2m 28s\n",
      "852:\tlearn: 1662.6977229\ttotal: 14m 17s\tremaining: 2m 27s\n",
      "853:\tlearn: 1662.5286181\ttotal: 14m 18s\tremaining: 2m 26s\n",
      "854:\tlearn: 1662.2382385\ttotal: 14m 19s\tremaining: 2m 25s\n",
      "855:\tlearn: 1662.0322363\ttotal: 14m 20s\tremaining: 2m 24s\n",
      "856:\tlearn: 1661.8944518\ttotal: 14m 21s\tremaining: 2m 23s\n",
      "857:\tlearn: 1661.8047586\ttotal: 14m 22s\tremaining: 2m 22s\n",
      "858:\tlearn: 1661.7149956\ttotal: 14m 23s\tremaining: 2m 21s\n",
      "859:\tlearn: 1661.4423927\ttotal: 14m 24s\tremaining: 2m 20s\n",
      "860:\tlearn: 1661.3483901\ttotal: 14m 25s\tremaining: 2m 19s\n",
      "861:\tlearn: 1661.1713826\ttotal: 14m 26s\tremaining: 2m 18s\n",
      "862:\tlearn: 1661.0682055\ttotal: 14m 27s\tremaining: 2m 17s\n",
      "863:\tlearn: 1660.8872544\ttotal: 14m 28s\tremaining: 2m 16s\n",
      "864:\tlearn: 1660.6933064\ttotal: 14m 29s\tremaining: 2m 15s\n",
      "865:\tlearn: 1660.5476841\ttotal: 14m 30s\tremaining: 2m 14s\n",
      "866:\tlearn: 1660.5167682\ttotal: 14m 31s\tremaining: 2m 13s\n",
      "867:\tlearn: 1660.4614559\ttotal: 14m 32s\tremaining: 2m 12s\n",
      "868:\tlearn: 1660.4255115\ttotal: 14m 33s\tremaining: 2m 11s\n",
      "869:\tlearn: 1660.1484203\ttotal: 14m 34s\tremaining: 2m 10s\n",
      "870:\tlearn: 1659.9284327\ttotal: 14m 35s\tremaining: 2m 9s\n",
      "871:\tlearn: 1659.6539225\ttotal: 14m 36s\tremaining: 2m 8s\n",
      "872:\tlearn: 1659.6498726\ttotal: 14m 37s\tremaining: 2m 7s\n",
      "873:\tlearn: 1659.4768214\ttotal: 14m 38s\tremaining: 2m 6s\n",
      "874:\tlearn: 1659.3020258\ttotal: 14m 39s\tremaining: 2m 5s\n",
      "875:\tlearn: 1659.2743517\ttotal: 14m 40s\tremaining: 2m 4s\n",
      "876:\tlearn: 1658.9768750\ttotal: 14m 41s\tremaining: 2m 3s\n",
      "877:\tlearn: 1658.7393132\ttotal: 14m 42s\tremaining: 2m 2s\n",
      "878:\tlearn: 1658.7115356\ttotal: 14m 43s\tremaining: 2m 1s\n",
      "879:\tlearn: 1658.5984576\ttotal: 14m 44s\tremaining: 2m\n",
      "880:\tlearn: 1658.4773006\ttotal: 14m 45s\tremaining: 1m 59s\n",
      "881:\tlearn: 1658.1283598\ttotal: 14m 46s\tremaining: 1m 58s\n",
      "882:\tlearn: 1658.0728841\ttotal: 14m 48s\tremaining: 1m 57s\n",
      "883:\tlearn: 1657.9965298\ttotal: 14m 49s\tremaining: 1m 56s\n",
      "884:\tlearn: 1657.8420947\ttotal: 14m 49s\tremaining: 1m 55s\n",
      "885:\tlearn: 1657.7690137\ttotal: 14m 51s\tremaining: 1m 54s\n",
      "886:\tlearn: 1657.6069224\ttotal: 14m 52s\tremaining: 1m 53s\n",
      "887:\tlearn: 1657.5609918\ttotal: 14m 53s\tremaining: 1m 52s\n",
      "888:\tlearn: 1657.2852005\ttotal: 14m 54s\tremaining: 1m 51s\n",
      "889:\tlearn: 1657.2272700\ttotal: 14m 55s\tremaining: 1m 50s\n",
      "890:\tlearn: 1657.1568845\ttotal: 14m 57s\tremaining: 1m 49s\n",
      "891:\tlearn: 1657.0060780\ttotal: 14m 58s\tremaining: 1m 48s\n",
      "892:\tlearn: 1656.8923298\ttotal: 14m 59s\tremaining: 1m 47s\n",
      "893:\tlearn: 1656.8688260\ttotal: 15m\tremaining: 1m 46s\n",
      "894:\tlearn: 1656.7484096\ttotal: 15m 1s\tremaining: 1m 45s\n",
      "895:\tlearn: 1656.6621981\ttotal: 15m 3s\tremaining: 1m 44s\n",
      "896:\tlearn: 1656.6367326\ttotal: 15m 4s\tremaining: 1m 43s\n",
      "897:\tlearn: 1656.5562393\ttotal: 15m 5s\tremaining: 1m 42s\n",
      "898:\tlearn: 1656.4109050\ttotal: 15m 6s\tremaining: 1m 41s\n",
      "899:\tlearn: 1656.2344123\ttotal: 15m 7s\tremaining: 1m 40s\n",
      "900:\tlearn: 1656.1930210\ttotal: 15m 8s\tremaining: 1m 39s\n",
      "901:\tlearn: 1655.9558261\ttotal: 15m 9s\tremaining: 1m 38s\n",
      "902:\tlearn: 1655.8566209\ttotal: 15m 10s\tremaining: 1m 37s\n",
      "903:\tlearn: 1655.8434656\ttotal: 15m 11s\tremaining: 1m 36s\n",
      "904:\tlearn: 1655.8374405\ttotal: 15m 12s\tremaining: 1m 35s\n",
      "905:\tlearn: 1655.6096513\ttotal: 15m 13s\tremaining: 1m 34s\n",
      "906:\tlearn: 1655.4186897\ttotal: 15m 14s\tremaining: 1m 33s\n",
      "907:\tlearn: 1655.3789347\ttotal: 15m 15s\tremaining: 1m 32s\n",
      "908:\tlearn: 1655.2711995\ttotal: 15m 16s\tremaining: 1m 31s\n",
      "909:\tlearn: 1655.0757491\ttotal: 15m 17s\tremaining: 1m 30s\n",
      "910:\tlearn: 1654.9777035\ttotal: 15m 18s\tremaining: 1m 29s\n",
      "911:\tlearn: 1654.8177695\ttotal: 15m 19s\tremaining: 1m 28s\n",
      "912:\tlearn: 1654.7666693\ttotal: 15m 20s\tremaining: 1m 27s\n",
      "913:\tlearn: 1654.6650448\ttotal: 15m 21s\tremaining: 1m 26s\n",
      "914:\tlearn: 1654.5361508\ttotal: 15m 22s\tremaining: 1m 25s\n",
      "915:\tlearn: 1654.4875740\ttotal: 15m 23s\tremaining: 1m 24s\n",
      "916:\tlearn: 1654.4432439\ttotal: 15m 25s\tremaining: 1m 23s\n",
      "917:\tlearn: 1654.2823613\ttotal: 15m 25s\tremaining: 1m 22s\n",
      "918:\tlearn: 1654.0645873\ttotal: 15m 26s\tremaining: 1m 21s\n",
      "919:\tlearn: 1653.9216669\ttotal: 15m 27s\tremaining: 1m 20s\n",
      "920:\tlearn: 1653.7908829\ttotal: 15m 28s\tremaining: 1m 19s\n",
      "921:\tlearn: 1653.6825327\ttotal: 15m 29s\tremaining: 1m 18s\n",
      "922:\tlearn: 1653.6503747\ttotal: 15m 31s\tremaining: 1m 17s\n",
      "923:\tlearn: 1653.4854047\ttotal: 15m 32s\tremaining: 1m 16s\n",
      "924:\tlearn: 1653.4367475\ttotal: 15m 33s\tremaining: 1m 15s\n",
      "925:\tlearn: 1653.2592034\ttotal: 15m 34s\tremaining: 1m 14s\n",
      "926:\tlearn: 1653.1949571\ttotal: 15m 35s\tremaining: 1m 13s\n",
      "927:\tlearn: 1653.1571146\ttotal: 15m 36s\tremaining: 1m 12s\n",
      "928:\tlearn: 1652.8491295\ttotal: 15m 37s\tremaining: 1m 11s\n",
      "929:\tlearn: 1652.7150307\ttotal: 15m 38s\tremaining: 1m 10s\n",
      "930:\tlearn: 1652.6925405\ttotal: 15m 38s\tremaining: 1m 9s\n",
      "931:\tlearn: 1652.5155608\ttotal: 15m 39s\tremaining: 1m 8s\n",
      "932:\tlearn: 1652.4858316\ttotal: 15m 40s\tremaining: 1m 7s\n",
      "933:\tlearn: 1652.2848612\ttotal: 15m 41s\tremaining: 1m 6s\n",
      "934:\tlearn: 1652.1150339\ttotal: 15m 42s\tremaining: 1m 5s\n",
      "935:\tlearn: 1652.0021360\ttotal: 15m 43s\tremaining: 1m 4s\n",
      "936:\tlearn: 1651.8347970\ttotal: 15m 44s\tremaining: 1m 3s\n",
      "937:\tlearn: 1651.6906013\ttotal: 15m 45s\tremaining: 1m 2s\n",
      "938:\tlearn: 1651.5766137\ttotal: 15m 46s\tremaining: 1m 1s\n",
      "939:\tlearn: 1651.4892069\ttotal: 15m 47s\tremaining: 1m\n",
      "940:\tlearn: 1651.4555952\ttotal: 15m 48s\tremaining: 59.5s\n",
      "941:\tlearn: 1651.4108813\ttotal: 15m 49s\tremaining: 58.5s\n",
      "942:\tlearn: 1651.1248904\ttotal: 15m 50s\tremaining: 57.5s\n",
      "943:\tlearn: 1650.9490984\ttotal: 15m 51s\tremaining: 56.5s\n",
      "944:\tlearn: 1650.6601029\ttotal: 15m 52s\tremaining: 55.4s\n",
      "945:\tlearn: 1650.5662228\ttotal: 15m 53s\tremaining: 54.4s\n",
      "946:\tlearn: 1650.4379864\ttotal: 15m 54s\tremaining: 53.4s\n",
      "947:\tlearn: 1650.4010269\ttotal: 15m 55s\tremaining: 52.4s\n",
      "948:\tlearn: 1650.2831599\ttotal: 15m 56s\tremaining: 51.4s\n",
      "949:\tlearn: 1650.1694299\ttotal: 15m 57s\tremaining: 50.4s\n",
      "950:\tlearn: 1650.0520199\ttotal: 15m 58s\tremaining: 49.4s\n",
      "951:\tlearn: 1649.9182246\ttotal: 15m 59s\tremaining: 48.4s\n",
      "952:\tlearn: 1649.8883623\ttotal: 16m\tremaining: 47.4s\n",
      "953:\tlearn: 1649.7796504\ttotal: 16m 1s\tremaining: 46.4s\n",
      "954:\tlearn: 1649.6479743\ttotal: 16m 2s\tremaining: 45.4s\n",
      "955:\tlearn: 1649.6159852\ttotal: 16m 4s\tremaining: 44.4s\n",
      "956:\tlearn: 1649.4588779\ttotal: 16m 5s\tremaining: 43.4s\n",
      "957:\tlearn: 1649.3362959\ttotal: 16m 6s\tremaining: 42.4s\n",
      "958:\tlearn: 1649.2445247\ttotal: 16m 6s\tremaining: 41.3s\n",
      "959:\tlearn: 1649.1711924\ttotal: 16m 8s\tremaining: 40.3s\n",
      "960:\tlearn: 1649.1384257\ttotal: 16m 9s\tremaining: 39.3s\n",
      "961:\tlearn: 1649.0202433\ttotal: 16m 10s\tremaining: 38.3s\n",
      "962:\tlearn: 1648.9600132\ttotal: 16m 11s\tremaining: 37.3s\n",
      "963:\tlearn: 1648.8054390\ttotal: 16m 12s\tremaining: 36.3s\n",
      "964:\tlearn: 1648.7132389\ttotal: 16m 13s\tremaining: 35.3s\n",
      "965:\tlearn: 1648.6337605\ttotal: 16m 14s\tremaining: 34.3s\n",
      "966:\tlearn: 1648.4295884\ttotal: 16m 15s\tremaining: 33.3s\n",
      "967:\tlearn: 1648.3572760\ttotal: 16m 16s\tremaining: 32.3s\n",
      "968:\tlearn: 1648.2170119\ttotal: 16m 17s\tremaining: 31.3s\n",
      "969:\tlearn: 1648.0761178\ttotal: 16m 19s\tremaining: 30.3s\n",
      "970:\tlearn: 1647.9737569\ttotal: 16m 20s\tremaining: 29.3s\n",
      "971:\tlearn: 1647.9469698\ttotal: 16m 21s\tremaining: 28.3s\n",
      "972:\tlearn: 1647.8415533\ttotal: 16m 23s\tremaining: 27.3s\n",
      "973:\tlearn: 1647.7338542\ttotal: 16m 24s\tremaining: 26.3s\n",
      "974:\tlearn: 1647.7063478\ttotal: 16m 25s\tremaining: 25.3s\n",
      "975:\tlearn: 1647.6716589\ttotal: 16m 27s\tremaining: 24.3s\n",
      "976:\tlearn: 1647.5775580\ttotal: 16m 28s\tremaining: 23.3s\n",
      "977:\tlearn: 1647.4646645\ttotal: 16m 29s\tremaining: 22.3s\n",
      "978:\tlearn: 1647.4042502\ttotal: 16m 30s\tremaining: 21.3s\n",
      "979:\tlearn: 1647.2543325\ttotal: 16m 32s\tremaining: 20.2s\n",
      "980:\tlearn: 1647.1672272\ttotal: 16m 33s\tremaining: 19.2s\n",
      "981:\tlearn: 1647.1038182\ttotal: 16m 34s\tremaining: 18.2s\n",
      "982:\tlearn: 1647.0156266\ttotal: 16m 35s\tremaining: 17.2s\n",
      "983:\tlearn: 1646.9822396\ttotal: 16m 36s\tremaining: 16.2s\n",
      "984:\tlearn: 1646.9150584\ttotal: 16m 37s\tremaining: 15.2s\n",
      "985:\tlearn: 1646.7916962\ttotal: 16m 38s\tremaining: 14.2s\n",
      "986:\tlearn: 1646.7080351\ttotal: 16m 39s\tremaining: 13.2s\n",
      "987:\tlearn: 1646.5119325\ttotal: 16m 40s\tremaining: 12.2s\n",
      "988:\tlearn: 1646.1373637\ttotal: 16m 41s\tremaining: 11.1s\n",
      "989:\tlearn: 1645.8158030\ttotal: 16m 42s\tremaining: 10.1s\n",
      "990:\tlearn: 1645.6691243\ttotal: 16m 43s\tremaining: 9.11s\n",
      "991:\tlearn: 1645.5615058\ttotal: 16m 44s\tremaining: 8.1s\n",
      "992:\tlearn: 1645.5037544\ttotal: 16m 45s\tremaining: 7.09s\n",
      "993:\tlearn: 1645.3863325\ttotal: 16m 46s\tremaining: 6.07s\n",
      "994:\tlearn: 1645.2879690\ttotal: 16m 47s\tremaining: 5.06s\n",
      "995:\tlearn: 1645.1275698\ttotal: 16m 48s\tremaining: 4.05s\n",
      "996:\tlearn: 1644.9550099\ttotal: 16m 49s\tremaining: 3.04s\n",
      "997:\tlearn: 1644.7520232\ttotal: 16m 50s\tremaining: 2.02s\n",
      "998:\tlearn: 1644.7440568\ttotal: 16m 51s\tremaining: 1.01s\n",
      "999:\tlearn: 1644.7093437\ttotal: 16m 52s\tremaining: 0us\n",
      "Время обучения CatBoost модели: 1016.0383296012878\n",
      "---------------------------------------------------------------\n",
      "Время предсказания модели линейной регрессии: 0.101531982421875\n",
      "Время предсказания модели решающего дерева: 0.013418197631835938\n",
      "Время предсказания модели случайного леса: 0.43886780738830566\n",
      "Время предсказания LightGBM  модели: 1.5896258354187012\n",
      "0:\tlearn: 4255.2155102\ttotal: 936ms\tremaining: 15m 34s\n",
      "1:\tlearn: 3961.4221679\ttotal: 1.8s\tremaining: 14m 57s\n",
      "2:\tlearn: 3709.6727970\ttotal: 2.68s\tremaining: 14m 51s\n",
      "3:\tlearn: 3486.2815298\ttotal: 3.71s\tremaining: 15m 22s\n",
      "4:\tlearn: 3287.5754822\ttotal: 4.76s\tremaining: 15m 47s\n",
      "5:\tlearn: 3112.2288106\ttotal: 5.68s\tremaining: 15m 41s\n",
      "6:\tlearn: 2959.3458303\ttotal: 6.79s\tremaining: 16m 3s\n",
      "7:\tlearn: 2826.4455043\ttotal: 7.86s\tremaining: 16m 14s\n",
      "8:\tlearn: 2708.4166225\ttotal: 8.96s\tremaining: 16m 26s\n",
      "9:\tlearn: 2606.6591979\ttotal: 9.87s\tremaining: 16m 17s\n",
      "10:\tlearn: 2521.2963194\ttotal: 10.9s\tremaining: 16m 18s\n",
      "11:\tlearn: 2446.0474199\ttotal: 11.9s\tremaining: 16m 18s\n",
      "12:\tlearn: 2383.1898973\ttotal: 12.8s\tremaining: 16m 9s\n",
      "13:\tlearn: 2327.1657720\ttotal: 13.7s\tremaining: 16m 6s\n",
      "14:\tlearn: 2280.8455020\ttotal: 14.7s\tremaining: 16m 4s\n",
      "15:\tlearn: 2240.7742585\ttotal: 15.6s\tremaining: 16m\n",
      "16:\tlearn: 2206.2077583\ttotal: 16.6s\tremaining: 15m 57s\n",
      "17:\tlearn: 2175.1302325\ttotal: 17.4s\tremaining: 15m 50s\n",
      "18:\tlearn: 2149.5833304\ttotal: 18.3s\tremaining: 15m 46s\n",
      "19:\tlearn: 2126.4453508\ttotal: 19.2s\tremaining: 15m 40s\n",
      "20:\tlearn: 2107.2331551\ttotal: 20.1s\tremaining: 15m 38s\n",
      "21:\tlearn: 2090.3154158\ttotal: 21.1s\tremaining: 15m 36s\n",
      "22:\tlearn: 2076.0079720\ttotal: 21.9s\tremaining: 15m 32s\n",
      "23:\tlearn: 2063.6373241\ttotal: 22.9s\tremaining: 15m 29s\n",
      "24:\tlearn: 2052.1916863\ttotal: 23.8s\tremaining: 15m 26s\n",
      "25:\tlearn: 2042.7248897\ttotal: 24.8s\tremaining: 15m 28s\n",
      "26:\tlearn: 2034.3765079\ttotal: 25.6s\tremaining: 15m 24s\n",
      "27:\tlearn: 2026.0056231\ttotal: 26.5s\tremaining: 15m 19s\n",
      "28:\tlearn: 2018.9389612\ttotal: 27.4s\tremaining: 15m 16s\n",
      "29:\tlearn: 2012.5726173\ttotal: 28.2s\tremaining: 15m 12s\n",
      "30:\tlearn: 2007.2620248\ttotal: 29.1s\tremaining: 15m 10s\n",
      "31:\tlearn: 2001.2529505\ttotal: 30.1s\tremaining: 15m 9s\n",
      "32:\tlearn: 1996.5357190\ttotal: 30.9s\tremaining: 15m 5s\n",
      "33:\tlearn: 1991.3629891\ttotal: 31.8s\tremaining: 15m 3s\n",
      "34:\tlearn: 1987.4947363\ttotal: 32.7s\tremaining: 15m 1s\n",
      "35:\tlearn: 1983.5451507\ttotal: 33.6s\tremaining: 14m 58s\n",
      "36:\tlearn: 1980.0577763\ttotal: 34.5s\tremaining: 14m 57s\n",
      "37:\tlearn: 1977.1097423\ttotal: 35.3s\tremaining: 14m 54s\n",
      "38:\tlearn: 1974.3547380\ttotal: 36.3s\tremaining: 14m 53s\n",
      "39:\tlearn: 1970.5248569\ttotal: 37.2s\tremaining: 14m 53s\n",
      "40:\tlearn: 1967.6904864\ttotal: 38.3s\tremaining: 14m 54s\n",
      "41:\tlearn: 1965.5392420\ttotal: 39.2s\tremaining: 14m 53s\n",
      "42:\tlearn: 1963.7336690\ttotal: 40.1s\tremaining: 14m 52s\n",
      "43:\tlearn: 1961.3929852\ttotal: 41s\tremaining: 14m 50s\n",
      "44:\tlearn: 1959.5608101\ttotal: 42s\tremaining: 14m 51s\n",
      "45:\tlearn: 1956.8296080\ttotal: 42.9s\tremaining: 14m 50s\n",
      "46:\tlearn: 1954.2926042\ttotal: 43.8s\tremaining: 14m 48s\n",
      "47:\tlearn: 1952.4178597\ttotal: 44.7s\tremaining: 14m 46s\n",
      "48:\tlearn: 1951.1570394\ttotal: 45.6s\tremaining: 14m 45s\n",
      "49:\tlearn: 1949.2100699\ttotal: 46.4s\tremaining: 14m 42s\n",
      "50:\tlearn: 1947.9081282\ttotal: 47.2s\tremaining: 14m 38s\n",
      "51:\tlearn: 1946.4894994\ttotal: 48.1s\tremaining: 14m 36s\n",
      "52:\tlearn: 1945.0411447\ttotal: 48.9s\tremaining: 14m 34s\n",
      "53:\tlearn: 1943.9939949\ttotal: 49.8s\tremaining: 14m 31s\n",
      "54:\tlearn: 1942.9974274\ttotal: 50.7s\tremaining: 14m 30s\n",
      "55:\tlearn: 1941.5200891\ttotal: 51.7s\tremaining: 14m 31s\n",
      "56:\tlearn: 1939.1608388\ttotal: 52.7s\tremaining: 14m 32s\n",
      "57:\tlearn: 1938.5051004\ttotal: 53.6s\tremaining: 14m 30s\n",
      "58:\tlearn: 1937.0974131\ttotal: 54.5s\tremaining: 14m 29s\n",
      "59:\tlearn: 1935.0717963\ttotal: 55.4s\tremaining: 14m 28s\n",
      "60:\tlearn: 1934.1276649\ttotal: 56.4s\tremaining: 14m 28s\n",
      "61:\tlearn: 1932.1590142\ttotal: 57.3s\tremaining: 14m 26s\n",
      "62:\tlearn: 1930.3831483\ttotal: 58.3s\tremaining: 14m 26s\n",
      "63:\tlearn: 1929.0526931\ttotal: 59.1s\tremaining: 14m 24s\n",
      "64:\tlearn: 1927.5249077\ttotal: 1m\tremaining: 14m 23s\n",
      "65:\tlearn: 1926.4392896\ttotal: 1m\tremaining: 14m 22s\n",
      "66:\tlearn: 1925.0457870\ttotal: 1m 1s\tremaining: 14m 21s\n",
      "67:\tlearn: 1924.4995848\ttotal: 1m 2s\tremaining: 14m 20s\n",
      "68:\tlearn: 1923.9565251\ttotal: 1m 3s\tremaining: 14m 21s\n",
      "69:\tlearn: 1922.9912433\ttotal: 1m 4s\tremaining: 14m 21s\n",
      "70:\tlearn: 1921.2908301\ttotal: 1m 5s\tremaining: 14m 20s\n",
      "71:\tlearn: 1919.4782717\ttotal: 1m 6s\tremaining: 14m 18s\n",
      "72:\tlearn: 1917.9309399\ttotal: 1m 7s\tremaining: 14m 16s\n",
      "73:\tlearn: 1916.4879853\ttotal: 1m 8s\tremaining: 14m 16s\n",
      "74:\tlearn: 1914.5865772\ttotal: 1m 9s\tremaining: 14m 15s\n",
      "75:\tlearn: 1913.4300465\ttotal: 1m 10s\tremaining: 14m 15s\n",
      "76:\tlearn: 1912.2456510\ttotal: 1m 11s\tremaining: 14m 14s\n",
      "77:\tlearn: 1911.0964533\ttotal: 1m 12s\tremaining: 14m 13s\n",
      "78:\tlearn: 1910.3769542\ttotal: 1m 13s\tremaining: 14m 14s\n",
      "79:\tlearn: 1909.2551587\ttotal: 1m 14s\tremaining: 14m 14s\n",
      "80:\tlearn: 1908.5576816\ttotal: 1m 15s\tremaining: 14m 13s\n",
      "81:\tlearn: 1907.9749584\ttotal: 1m 16s\tremaining: 14m 12s\n",
      "82:\tlearn: 1907.5121114\ttotal: 1m 16s\tremaining: 14m 10s\n",
      "83:\tlearn: 1906.7687306\ttotal: 1m 17s\tremaining: 14m 9s\n",
      "84:\tlearn: 1906.1018194\ttotal: 1m 18s\tremaining: 14m 8s\n",
      "85:\tlearn: 1904.9798356\ttotal: 1m 19s\tremaining: 14m 7s\n",
      "86:\tlearn: 1903.8503738\ttotal: 1m 20s\tremaining: 14m 8s\n",
      "87:\tlearn: 1903.0195821\ttotal: 1m 21s\tremaining: 14m 7s\n",
      "88:\tlearn: 1901.7945609\ttotal: 1m 22s\tremaining: 14m 6s\n",
      "89:\tlearn: 1900.6592576\ttotal: 1m 23s\tremaining: 14m 5s\n",
      "90:\tlearn: 1899.7494458\ttotal: 1m 24s\tremaining: 14m 6s\n",
      "91:\tlearn: 1898.6796570\ttotal: 1m 25s\tremaining: 14m 4s\n",
      "92:\tlearn: 1898.3485952\ttotal: 1m 26s\tremaining: 14m 3s\n",
      "93:\tlearn: 1897.0178592\ttotal: 1m 27s\tremaining: 14m 3s\n",
      "94:\tlearn: 1895.5370148\ttotal: 1m 28s\tremaining: 14m 3s\n",
      "95:\tlearn: 1894.6263467\ttotal: 1m 29s\tremaining: 14m 2s\n",
      "96:\tlearn: 1893.2604844\ttotal: 1m 30s\tremaining: 14m\n",
      "97:\tlearn: 1892.7611723\ttotal: 1m 31s\tremaining: 14m\n",
      "98:\tlearn: 1891.7587091\ttotal: 1m 32s\tremaining: 14m\n",
      "99:\tlearn: 1891.0160593\ttotal: 1m 33s\tremaining: 13m 59s\n",
      "100:\tlearn: 1890.0622230\ttotal: 1m 34s\tremaining: 13m 59s\n",
      "101:\tlearn: 1889.2825117\ttotal: 1m 35s\tremaining: 13m 59s\n",
      "102:\tlearn: 1889.0666762\ttotal: 1m 36s\tremaining: 13m 58s\n",
      "103:\tlearn: 1888.4418388\ttotal: 1m 37s\tremaining: 13m 57s\n",
      "104:\tlearn: 1887.3117606\ttotal: 1m 38s\tremaining: 13m 56s\n",
      "105:\tlearn: 1887.0940122\ttotal: 1m 39s\tremaining: 13m 55s\n",
      "106:\tlearn: 1886.5721216\ttotal: 1m 39s\tremaining: 13m 54s\n",
      "107:\tlearn: 1885.2942588\ttotal: 1m 40s\tremaining: 13m 52s\n",
      "108:\tlearn: 1884.8827619\ttotal: 1m 41s\tremaining: 13m 50s\n",
      "109:\tlearn: 1883.7891862\ttotal: 1m 42s\tremaining: 13m 49s\n",
      "110:\tlearn: 1883.1186693\ttotal: 1m 43s\tremaining: 13m 48s\n",
      "111:\tlearn: 1881.0179047\ttotal: 1m 44s\tremaining: 13m 48s\n",
      "112:\tlearn: 1880.4539125\ttotal: 1m 45s\tremaining: 13m 47s\n",
      "113:\tlearn: 1879.5754158\ttotal: 1m 46s\tremaining: 13m 45s\n",
      "114:\tlearn: 1879.3631967\ttotal: 1m 47s\tremaining: 13m 45s\n",
      "115:\tlearn: 1878.4085846\ttotal: 1m 48s\tremaining: 13m 44s\n",
      "116:\tlearn: 1876.5047749\ttotal: 1m 49s\tremaining: 13m 45s\n",
      "117:\tlearn: 1875.3660910\ttotal: 1m 50s\tremaining: 13m 44s\n",
      "118:\tlearn: 1874.1246239\ttotal: 1m 51s\tremaining: 13m 43s\n",
      "119:\tlearn: 1872.8336823\ttotal: 1m 52s\tremaining: 13m 43s\n",
      "120:\tlearn: 1872.6067628\ttotal: 1m 53s\tremaining: 13m 42s\n",
      "121:\tlearn: 1871.9506309\ttotal: 1m 54s\tremaining: 13m 41s\n",
      "122:\tlearn: 1871.7530003\ttotal: 1m 55s\tremaining: 13m 40s\n",
      "123:\tlearn: 1871.1407613\ttotal: 1m 56s\tremaining: 13m 39s\n",
      "124:\tlearn: 1870.4601780\ttotal: 1m 56s\tremaining: 13m 38s\n",
      "125:\tlearn: 1869.7384051\ttotal: 1m 57s\tremaining: 13m 36s\n",
      "126:\tlearn: 1868.2515723\ttotal: 1m 58s\tremaining: 13m 35s\n",
      "127:\tlearn: 1867.6830633\ttotal: 1m 59s\tremaining: 13m 34s\n",
      "128:\tlearn: 1866.2873924\ttotal: 2m\tremaining: 13m 33s\n",
      "129:\tlearn: 1865.8951091\ttotal: 2m 1s\tremaining: 13m 32s\n",
      "130:\tlearn: 1865.0678603\ttotal: 2m 2s\tremaining: 13m 31s\n",
      "131:\tlearn: 1863.8795304\ttotal: 2m 3s\tremaining: 13m 30s\n",
      "132:\tlearn: 1863.5321856\ttotal: 2m 3s\tremaining: 13m 28s\n",
      "133:\tlearn: 1862.2993913\ttotal: 2m 4s\tremaining: 13m 26s\n",
      "134:\tlearn: 1861.3747296\ttotal: 2m 5s\tremaining: 13m 25s\n",
      "135:\tlearn: 1860.4575283\ttotal: 2m 6s\tremaining: 13m 25s\n",
      "136:\tlearn: 1859.8091553\ttotal: 2m 7s\tremaining: 13m 23s\n",
      "137:\tlearn: 1859.3095221\ttotal: 2m 8s\tremaining: 13m 23s\n",
      "138:\tlearn: 1858.2556343\ttotal: 2m 9s\tremaining: 13m 22s\n",
      "139:\tlearn: 1857.8615720\ttotal: 2m 10s\tremaining: 13m 22s\n",
      "140:\tlearn: 1856.7247173\ttotal: 2m 11s\tremaining: 13m 21s\n",
      "141:\tlearn: 1856.1670968\ttotal: 2m 12s\tremaining: 13m 21s\n",
      "142:\tlearn: 1855.5664128\ttotal: 2m 13s\tremaining: 13m 19s\n",
      "143:\tlearn: 1855.0840829\ttotal: 2m 14s\tremaining: 13m 19s\n",
      "144:\tlearn: 1854.3359600\ttotal: 2m 15s\tremaining: 13m 18s\n",
      "145:\tlearn: 1853.1440006\ttotal: 2m 16s\tremaining: 13m 17s\n",
      "146:\tlearn: 1852.9454118\ttotal: 2m 17s\tremaining: 13m 16s\n",
      "147:\tlearn: 1852.3195356\ttotal: 2m 18s\tremaining: 13m 16s\n",
      "148:\tlearn: 1852.0103251\ttotal: 2m 19s\tremaining: 13m 15s\n",
      "149:\tlearn: 1851.0318686\ttotal: 2m 20s\tremaining: 13m 15s\n",
      "150:\tlearn: 1850.3965518\ttotal: 2m 21s\tremaining: 13m 14s\n",
      "151:\tlearn: 1849.2127664\ttotal: 2m 22s\tremaining: 13m 14s\n",
      "152:\tlearn: 1848.8183529\ttotal: 2m 23s\tremaining: 13m 12s\n",
      "153:\tlearn: 1848.2980149\ttotal: 2m 24s\tremaining: 13m 11s\n",
      "154:\tlearn: 1847.8871775\ttotal: 2m 25s\tremaining: 13m 10s\n",
      "155:\tlearn: 1847.3876838\ttotal: 2m 26s\tremaining: 13m 10s\n",
      "156:\tlearn: 1847.1907904\ttotal: 2m 27s\tremaining: 13m 9s\n",
      "157:\tlearn: 1846.6783975\ttotal: 2m 27s\tremaining: 13m 8s\n",
      "158:\tlearn: 1846.0235958\ttotal: 2m 28s\tremaining: 13m 7s\n",
      "159:\tlearn: 1845.9557688\ttotal: 2m 29s\tremaining: 13m 6s\n",
      "160:\tlearn: 1845.1609191\ttotal: 2m 30s\tremaining: 13m 4s\n",
      "161:\tlearn: 1844.3759822\ttotal: 2m 31s\tremaining: 13m 3s\n",
      "162:\tlearn: 1844.0728717\ttotal: 2m 32s\tremaining: 13m 2s\n",
      "163:\tlearn: 1843.3749963\ttotal: 2m 33s\tremaining: 13m 1s\n",
      "164:\tlearn: 1842.1899532\ttotal: 2m 34s\tremaining: 12m 59s\n",
      "165:\tlearn: 1842.0055331\ttotal: 2m 35s\tremaining: 12m 58s\n",
      "166:\tlearn: 1841.4783982\ttotal: 2m 35s\tremaining: 12m 57s\n",
      "167:\tlearn: 1840.8853290\ttotal: 2m 36s\tremaining: 12m 56s\n",
      "168:\tlearn: 1840.7917459\ttotal: 2m 37s\tremaining: 12m 55s\n",
      "169:\tlearn: 1840.6715986\ttotal: 2m 38s\tremaining: 12m 53s\n",
      "170:\tlearn: 1840.2820478\ttotal: 2m 39s\tremaining: 12m 52s\n",
      "171:\tlearn: 1839.9463133\ttotal: 2m 40s\tremaining: 12m 52s\n",
      "172:\tlearn: 1839.0414954\ttotal: 2m 41s\tremaining: 12m 51s\n",
      "173:\tlearn: 1838.5760833\ttotal: 2m 42s\tremaining: 12m 50s\n",
      "174:\tlearn: 1838.2399613\ttotal: 2m 43s\tremaining: 12m 49s\n",
      "175:\tlearn: 1837.9347531\ttotal: 2m 44s\tremaining: 12m 48s\n",
      "176:\tlearn: 1836.1723126\ttotal: 2m 45s\tremaining: 12m 47s\n",
      "177:\tlearn: 1835.6233238\ttotal: 2m 46s\tremaining: 12m 47s\n",
      "178:\tlearn: 1835.1568449\ttotal: 2m 47s\tremaining: 12m 46s\n",
      "179:\tlearn: 1834.3109985\ttotal: 2m 48s\tremaining: 12m 45s\n",
      "180:\tlearn: 1833.7969974\ttotal: 2m 49s\tremaining: 12m 45s\n",
      "181:\tlearn: 1833.6970940\ttotal: 2m 49s\tremaining: 12m 43s\n",
      "182:\tlearn: 1833.3416948\ttotal: 2m 50s\tremaining: 12m 41s\n",
      "183:\tlearn: 1832.0945300\ttotal: 2m 51s\tremaining: 12m 40s\n",
      "184:\tlearn: 1831.5568549\ttotal: 2m 52s\tremaining: 12m 39s\n",
      "185:\tlearn: 1831.0474089\ttotal: 2m 53s\tremaining: 12m 39s\n",
      "186:\tlearn: 1830.6486939\ttotal: 2m 54s\tremaining: 12m 38s\n",
      "187:\tlearn: 1829.7019500\ttotal: 2m 55s\tremaining: 12m 37s\n",
      "188:\tlearn: 1829.2626148\ttotal: 2m 56s\tremaining: 12m 37s\n",
      "189:\tlearn: 1829.1642653\ttotal: 2m 57s\tremaining: 12m 35s\n",
      "190:\tlearn: 1828.5772398\ttotal: 2m 58s\tremaining: 12m 34s\n",
      "191:\tlearn: 1827.9565206\ttotal: 2m 59s\tremaining: 12m 34s\n",
      "192:\tlearn: 1827.1461839\ttotal: 3m\tremaining: 12m 34s\n",
      "193:\tlearn: 1826.5894318\ttotal: 3m 1s\tremaining: 12m 33s\n",
      "194:\tlearn: 1825.9644632\ttotal: 3m 2s\tremaining: 12m 32s\n",
      "195:\tlearn: 1825.6684975\ttotal: 3m 3s\tremaining: 12m 31s\n",
      "196:\tlearn: 1825.0982278\ttotal: 3m 4s\tremaining: 12m 30s\n",
      "197:\tlearn: 1824.2939133\ttotal: 3m 5s\tremaining: 12m 29s\n",
      "198:\tlearn: 1824.1327241\ttotal: 3m 6s\tremaining: 12m 28s\n",
      "199:\tlearn: 1823.1417923\ttotal: 3m 6s\tremaining: 12m 27s\n",
      "200:\tlearn: 1822.7249457\ttotal: 3m 7s\tremaining: 12m 26s\n",
      "201:\tlearn: 1822.0635830\ttotal: 3m 8s\tremaining: 12m 25s\n",
      "202:\tlearn: 1821.0564815\ttotal: 3m 9s\tremaining: 12m 25s\n",
      "203:\tlearn: 1820.3671809\ttotal: 3m 10s\tremaining: 12m 24s\n",
      "204:\tlearn: 1819.4788544\ttotal: 3m 11s\tremaining: 12m 23s\n",
      "205:\tlearn: 1818.8595831\ttotal: 3m 12s\tremaining: 12m 22s\n",
      "206:\tlearn: 1818.5779862\ttotal: 3m 13s\tremaining: 12m 21s\n",
      "207:\tlearn: 1817.9621529\ttotal: 3m 14s\tremaining: 12m 20s\n",
      "208:\tlearn: 1817.4517074\ttotal: 3m 15s\tremaining: 12m 19s\n",
      "209:\tlearn: 1816.9134656\ttotal: 3m 16s\tremaining: 12m 18s\n",
      "210:\tlearn: 1816.1010348\ttotal: 3m 17s\tremaining: 12m 17s\n",
      "211:\tlearn: 1815.9042654\ttotal: 3m 18s\tremaining: 12m 17s\n",
      "212:\tlearn: 1815.4318725\ttotal: 3m 19s\tremaining: 12m 16s\n",
      "213:\tlearn: 1814.8228115\ttotal: 3m 20s\tremaining: 12m 15s\n",
      "214:\tlearn: 1814.7060161\ttotal: 3m 21s\tremaining: 12m 15s\n",
      "215:\tlearn: 1814.6363462\ttotal: 3m 22s\tremaining: 12m 14s\n",
      "216:\tlearn: 1813.3207485\ttotal: 3m 23s\tremaining: 12m 13s\n",
      "217:\tlearn: 1812.5379839\ttotal: 3m 24s\tremaining: 12m 12s\n",
      "218:\tlearn: 1812.2593560\ttotal: 3m 25s\tremaining: 12m 11s\n",
      "219:\tlearn: 1811.0476051\ttotal: 3m 25s\tremaining: 12m 10s\n",
      "220:\tlearn: 1810.7025864\ttotal: 3m 26s\tremaining: 12m 9s\n",
      "221:\tlearn: 1810.4132469\ttotal: 3m 27s\tremaining: 12m 8s\n",
      "222:\tlearn: 1809.5810664\ttotal: 3m 28s\tremaining: 12m 7s\n",
      "223:\tlearn: 1808.9685815\ttotal: 3m 29s\tremaining: 12m 6s\n",
      "224:\tlearn: 1808.4966927\ttotal: 3m 30s\tremaining: 12m 5s\n",
      "225:\tlearn: 1808.4271051\ttotal: 3m 31s\tremaining: 12m 4s\n",
      "226:\tlearn: 1807.3727044\ttotal: 3m 32s\tremaining: 12m 3s\n",
      "227:\tlearn: 1807.3584434\ttotal: 3m 33s\tremaining: 12m 2s\n",
      "228:\tlearn: 1807.2273864\ttotal: 3m 34s\tremaining: 12m 1s\n",
      "229:\tlearn: 1806.7579526\ttotal: 3m 35s\tremaining: 12m\n",
      "230:\tlearn: 1806.0559713\ttotal: 3m 36s\tremaining: 11m 59s\n",
      "231:\tlearn: 1805.2915089\ttotal: 3m 36s\tremaining: 11m 58s\n",
      "232:\tlearn: 1804.7446742\ttotal: 3m 37s\tremaining: 11m 57s\n",
      "233:\tlearn: 1804.3339879\ttotal: 3m 38s\tremaining: 11m 56s\n",
      "234:\tlearn: 1804.1754114\ttotal: 3m 39s\tremaining: 11m 55s\n",
      "235:\tlearn: 1804.0082717\ttotal: 3m 40s\tremaining: 11m 54s\n",
      "236:\tlearn: 1803.5348925\ttotal: 3m 41s\tremaining: 11m 53s\n",
      "237:\tlearn: 1803.0186624\ttotal: 3m 42s\tremaining: 11m 52s\n",
      "238:\tlearn: 1802.3758291\ttotal: 3m 43s\tremaining: 11m 52s\n",
      "239:\tlearn: 1802.0246866\ttotal: 3m 44s\tremaining: 11m 51s\n",
      "240:\tlearn: 1801.7806277\ttotal: 3m 45s\tremaining: 11m 50s\n",
      "241:\tlearn: 1801.4433402\ttotal: 3m 46s\tremaining: 11m 49s\n",
      "242:\tlearn: 1801.1826543\ttotal: 3m 47s\tremaining: 11m 48s\n",
      "243:\tlearn: 1800.3755191\ttotal: 3m 48s\tremaining: 11m 47s\n",
      "244:\tlearn: 1799.7935882\ttotal: 3m 49s\tremaining: 11m 47s\n",
      "245:\tlearn: 1799.2794121\ttotal: 3m 50s\tremaining: 11m 46s\n",
      "246:\tlearn: 1799.2059223\ttotal: 3m 51s\tremaining: 11m 45s\n",
      "247:\tlearn: 1799.1110340\ttotal: 3m 52s\tremaining: 11m 44s\n",
      "248:\tlearn: 1798.9133949\ttotal: 3m 53s\tremaining: 11m 43s\n",
      "249:\tlearn: 1798.0764139\ttotal: 3m 54s\tremaining: 11m 42s\n",
      "250:\tlearn: 1797.5770061\ttotal: 3m 55s\tremaining: 11m 42s\n",
      "251:\tlearn: 1797.0486868\ttotal: 3m 56s\tremaining: 11m 41s\n",
      "252:\tlearn: 1796.6617001\ttotal: 3m 57s\tremaining: 11m 40s\n",
      "253:\tlearn: 1795.9829606\ttotal: 3m 58s\tremaining: 11m 39s\n",
      "254:\tlearn: 1795.5492600\ttotal: 3m 59s\tremaining: 11m 38s\n",
      "255:\tlearn: 1794.8522490\ttotal: 3m 59s\tremaining: 11m 37s\n",
      "256:\tlearn: 1794.4855661\ttotal: 4m\tremaining: 11m 36s\n",
      "257:\tlearn: 1793.8279223\ttotal: 4m 1s\tremaining: 11m 35s\n",
      "258:\tlearn: 1793.5842947\ttotal: 4m 2s\tremaining: 11m 33s\n",
      "259:\tlearn: 1792.8738335\ttotal: 4m 3s\tremaining: 11m 32s\n",
      "260:\tlearn: 1792.4455792\ttotal: 4m 4s\tremaining: 11m 31s\n",
      "261:\tlearn: 1792.0107758\ttotal: 4m 5s\tremaining: 11m 30s\n",
      "262:\tlearn: 1791.3286427\ttotal: 4m 6s\tremaining: 11m 30s\n",
      "263:\tlearn: 1790.8422943\ttotal: 4m 7s\tremaining: 11m 29s\n",
      "264:\tlearn: 1790.5044211\ttotal: 4m 8s\tremaining: 11m 28s\n",
      "265:\tlearn: 1790.0499510\ttotal: 4m 9s\tremaining: 11m 28s\n",
      "266:\tlearn: 1789.5959515\ttotal: 4m 10s\tremaining: 11m 27s\n",
      "267:\tlearn: 1789.1078874\ttotal: 4m 11s\tremaining: 11m 26s\n",
      "268:\tlearn: 1788.7401105\ttotal: 4m 12s\tremaining: 11m 25s\n",
      "269:\tlearn: 1788.4780817\ttotal: 4m 13s\tremaining: 11m 25s\n",
      "270:\tlearn: 1787.8975959\ttotal: 4m 14s\tremaining: 11m 23s\n",
      "271:\tlearn: 1787.7935329\ttotal: 4m 15s\tremaining: 11m 23s\n",
      "272:\tlearn: 1787.4694309\ttotal: 4m 16s\tremaining: 11m 22s\n",
      "273:\tlearn: 1787.2796050\ttotal: 4m 17s\tremaining: 11m 21s\n",
      "274:\tlearn: 1786.9416588\ttotal: 4m 18s\tremaining: 11m 20s\n",
      "275:\tlearn: 1786.8997412\ttotal: 4m 18s\tremaining: 11m 19s\n",
      "276:\tlearn: 1786.7686673\ttotal: 4m 19s\tremaining: 11m 18s\n",
      "277:\tlearn: 1786.1417494\ttotal: 4m 20s\tremaining: 11m 17s\n",
      "278:\tlearn: 1785.7526611\ttotal: 4m 21s\tremaining: 11m 16s\n",
      "279:\tlearn: 1785.2038033\ttotal: 4m 22s\tremaining: 11m 15s\n",
      "280:\tlearn: 1785.0157372\ttotal: 4m 23s\tremaining: 11m 15s\n",
      "281:\tlearn: 1784.7485769\ttotal: 4m 24s\tremaining: 11m 14s\n",
      "282:\tlearn: 1783.9894210\ttotal: 4m 25s\tremaining: 11m 13s\n",
      "283:\tlearn: 1783.4461543\ttotal: 4m 26s\tremaining: 11m 12s\n",
      "284:\tlearn: 1783.3168341\ttotal: 4m 27s\tremaining: 11m 11s\n",
      "285:\tlearn: 1782.6684044\ttotal: 4m 28s\tremaining: 11m 10s\n",
      "286:\tlearn: 1782.1435690\ttotal: 4m 29s\tremaining: 11m 9s\n",
      "287:\tlearn: 1781.4825311\ttotal: 4m 30s\tremaining: 11m 8s\n",
      "288:\tlearn: 1780.9086969\ttotal: 4m 31s\tremaining: 11m 8s\n",
      "289:\tlearn: 1780.3790050\ttotal: 4m 32s\tremaining: 11m 7s\n",
      "290:\tlearn: 1780.2314348\ttotal: 4m 33s\tremaining: 11m 6s\n",
      "291:\tlearn: 1779.8117689\ttotal: 4m 34s\tremaining: 11m 5s\n",
      "292:\tlearn: 1779.3305398\ttotal: 4m 35s\tremaining: 11m 5s\n",
      "293:\tlearn: 1778.9013445\ttotal: 4m 36s\tremaining: 11m 3s\n",
      "294:\tlearn: 1778.7382836\ttotal: 4m 37s\tremaining: 11m 2s\n",
      "295:\tlearn: 1778.5685352\ttotal: 4m 38s\tremaining: 11m 2s\n",
      "296:\tlearn: 1778.4631415\ttotal: 4m 39s\tremaining: 11m 1s\n",
      "297:\tlearn: 1777.8905273\ttotal: 4m 40s\tremaining: 11m\n",
      "298:\tlearn: 1777.5849690\ttotal: 4m 41s\tremaining: 10m 59s\n",
      "299:\tlearn: 1777.3909676\ttotal: 4m 42s\tremaining: 10m 58s\n",
      "300:\tlearn: 1776.8593541\ttotal: 4m 43s\tremaining: 10m 57s\n",
      "301:\tlearn: 1776.2713963\ttotal: 4m 44s\tremaining: 10m 56s\n",
      "302:\tlearn: 1775.7941089\ttotal: 4m 45s\tremaining: 10m 56s\n",
      "303:\tlearn: 1775.5417130\ttotal: 4m 46s\tremaining: 10m 55s\n",
      "304:\tlearn: 1775.3195333\ttotal: 4m 47s\tremaining: 10m 54s\n",
      "305:\tlearn: 1774.6326788\ttotal: 4m 48s\tremaining: 10m 53s\n",
      "306:\tlearn: 1774.1279493\ttotal: 4m 49s\tremaining: 10m 52s\n",
      "307:\tlearn: 1773.5479170\ttotal: 4m 50s\tremaining: 10m 51s\n",
      "308:\tlearn: 1773.3327678\ttotal: 4m 51s\tremaining: 10m 50s\n",
      "309:\tlearn: 1773.0633288\ttotal: 4m 52s\tremaining: 10m 50s\n",
      "310:\tlearn: 1772.7499356\ttotal: 4m 52s\tremaining: 10m 48s\n",
      "311:\tlearn: 1772.3602923\ttotal: 4m 54s\tremaining: 10m 48s\n",
      "312:\tlearn: 1771.9868197\ttotal: 4m 55s\tremaining: 10m 47s\n",
      "313:\tlearn: 1771.7245884\ttotal: 4m 56s\tremaining: 10m 46s\n",
      "314:\tlearn: 1771.3733793\ttotal: 4m 57s\tremaining: 10m 45s\n",
      "315:\tlearn: 1770.9452282\ttotal: 4m 58s\tremaining: 10m 45s\n",
      "316:\tlearn: 1770.7244762\ttotal: 4m 59s\tremaining: 10m 44s\n",
      "317:\tlearn: 1770.1989550\ttotal: 4m 59s\tremaining: 10m 43s\n",
      "318:\tlearn: 1769.6199794\ttotal: 5m\tremaining: 10m 42s\n",
      "319:\tlearn: 1769.2362002\ttotal: 5m 1s\tremaining: 10m 41s\n",
      "320:\tlearn: 1768.6730065\ttotal: 5m 2s\tremaining: 10m 40s\n",
      "321:\tlearn: 1768.3038975\ttotal: 5m 3s\tremaining: 10m 39s\n",
      "322:\tlearn: 1767.9613114\ttotal: 5m 4s\tremaining: 10m 39s\n",
      "323:\tlearn: 1767.6323950\ttotal: 5m 5s\tremaining: 10m 38s\n",
      "324:\tlearn: 1766.8414163\ttotal: 5m 6s\tremaining: 10m 37s\n",
      "325:\tlearn: 1766.5891399\ttotal: 5m 7s\tremaining: 10m 36s\n",
      "326:\tlearn: 1766.1009152\ttotal: 5m 8s\tremaining: 10m 35s\n",
      "327:\tlearn: 1765.5615851\ttotal: 5m 9s\tremaining: 10m 34s\n",
      "328:\tlearn: 1765.2292942\ttotal: 5m 10s\tremaining: 10m 33s\n",
      "329:\tlearn: 1764.9126740\ttotal: 5m 11s\tremaining: 10m 32s\n",
      "330:\tlearn: 1764.6346818\ttotal: 5m 12s\tremaining: 10m 31s\n",
      "331:\tlearn: 1764.2278935\ttotal: 5m 13s\tremaining: 10m 30s\n",
      "332:\tlearn: 1763.9377190\ttotal: 5m 14s\tremaining: 10m 29s\n",
      "333:\tlearn: 1763.7653544\ttotal: 5m 15s\tremaining: 10m 28s\n",
      "334:\tlearn: 1763.5339119\ttotal: 5m 16s\tremaining: 10m 27s\n",
      "335:\tlearn: 1763.2975034\ttotal: 5m 17s\tremaining: 10m 26s\n",
      "336:\tlearn: 1763.0368059\ttotal: 5m 18s\tremaining: 10m 25s\n",
      "337:\tlearn: 1762.6409737\ttotal: 5m 19s\tremaining: 10m 25s\n",
      "338:\tlearn: 1762.1892710\ttotal: 5m 20s\tremaining: 10m 24s\n",
      "339:\tlearn: 1761.5581726\ttotal: 5m 21s\tremaining: 10m 23s\n",
      "340:\tlearn: 1761.4148790\ttotal: 5m 21s\tremaining: 10m 22s\n",
      "341:\tlearn: 1761.0961427\ttotal: 5m 22s\tremaining: 10m 21s\n",
      "342:\tlearn: 1761.0669224\ttotal: 5m 23s\tremaining: 10m 20s\n",
      "343:\tlearn: 1760.9737845\ttotal: 5m 24s\tremaining: 10m 19s\n",
      "344:\tlearn: 1760.6161247\ttotal: 5m 25s\tremaining: 10m 18s\n",
      "345:\tlearn: 1760.1633898\ttotal: 5m 26s\tremaining: 10m 17s\n",
      "346:\tlearn: 1759.8912368\ttotal: 5m 27s\tremaining: 10m 17s\n",
      "347:\tlearn: 1759.5690831\ttotal: 5m 28s\tremaining: 10m 15s\n",
      "348:\tlearn: 1759.2299706\ttotal: 5m 29s\tremaining: 10m 14s\n",
      "349:\tlearn: 1759.0744931\ttotal: 5m 30s\tremaining: 10m 13s\n",
      "350:\tlearn: 1758.8818719\ttotal: 5m 31s\tremaining: 10m 13s\n",
      "351:\tlearn: 1758.6372907\ttotal: 5m 32s\tremaining: 10m 11s\n",
      "352:\tlearn: 1758.3494707\ttotal: 5m 33s\tremaining: 10m 11s\n",
      "353:\tlearn: 1758.0570995\ttotal: 5m 34s\tremaining: 10m 10s\n",
      "354:\tlearn: 1757.7855558\ttotal: 5m 35s\tremaining: 10m 9s\n",
      "355:\tlearn: 1757.3940846\ttotal: 5m 36s\tremaining: 10m 8s\n",
      "356:\tlearn: 1757.2035418\ttotal: 5m 37s\tremaining: 10m 7s\n",
      "357:\tlearn: 1757.0322529\ttotal: 5m 38s\tremaining: 10m 6s\n",
      "358:\tlearn: 1756.5367306\ttotal: 5m 39s\tremaining: 10m 5s\n",
      "359:\tlearn: 1756.2050253\ttotal: 5m 40s\tremaining: 10m 4s\n",
      "360:\tlearn: 1755.9453778\ttotal: 5m 41s\tremaining: 10m 4s\n",
      "361:\tlearn: 1755.3562936\ttotal: 5m 42s\tremaining: 10m 3s\n",
      "362:\tlearn: 1754.9124135\ttotal: 5m 43s\tremaining: 10m 2s\n",
      "363:\tlearn: 1754.5700571\ttotal: 5m 44s\tremaining: 10m 1s\n",
      "364:\tlearn: 1754.0711905\ttotal: 5m 45s\tremaining: 10m\n",
      "365:\tlearn: 1753.7216574\ttotal: 5m 46s\tremaining: 9m 59s\n",
      "366:\tlearn: 1753.5762733\ttotal: 5m 47s\tremaining: 9m 58s\n",
      "367:\tlearn: 1753.2827424\ttotal: 5m 48s\tremaining: 9m 57s\n",
      "368:\tlearn: 1752.9969335\ttotal: 5m 49s\tremaining: 9m 57s\n",
      "369:\tlearn: 1752.5157031\ttotal: 5m 50s\tremaining: 9m 56s\n",
      "370:\tlearn: 1752.2752503\ttotal: 5m 51s\tremaining: 9m 55s\n",
      "371:\tlearn: 1751.9196022\ttotal: 5m 52s\tremaining: 9m 54s\n",
      "372:\tlearn: 1751.4877966\ttotal: 5m 53s\tremaining: 9m 53s\n",
      "373:\tlearn: 1751.2773628\ttotal: 5m 53s\tremaining: 9m 52s\n",
      "374:\tlearn: 1751.0693957\ttotal: 5m 54s\tremaining: 9m 51s\n",
      "375:\tlearn: 1750.8257398\ttotal: 5m 55s\tremaining: 9m 50s\n",
      "376:\tlearn: 1750.6753522\ttotal: 5m 56s\tremaining: 9m 49s\n",
      "377:\tlearn: 1750.5117155\ttotal: 5m 57s\tremaining: 9m 48s\n",
      "378:\tlearn: 1750.4198105\ttotal: 5m 58s\tremaining: 9m 48s\n",
      "379:\tlearn: 1750.2473277\ttotal: 5m 59s\tremaining: 9m 47s\n",
      "380:\tlearn: 1749.9579825\ttotal: 6m\tremaining: 9m 46s\n",
      "381:\tlearn: 1749.8015354\ttotal: 6m 1s\tremaining: 9m 45s\n",
      "382:\tlearn: 1749.5020808\ttotal: 6m 2s\tremaining: 9m 44s\n",
      "383:\tlearn: 1749.1419015\ttotal: 6m 3s\tremaining: 9m 43s\n",
      "384:\tlearn: 1748.8135182\ttotal: 6m 4s\tremaining: 9m 42s\n",
      "385:\tlearn: 1748.6114227\ttotal: 6m 5s\tremaining: 9m 41s\n",
      "386:\tlearn: 1748.3857546\ttotal: 6m 6s\tremaining: 9m 40s\n",
      "387:\tlearn: 1748.1345997\ttotal: 6m 7s\tremaining: 9m 39s\n",
      "388:\tlearn: 1747.9425330\ttotal: 6m 8s\tremaining: 9m 39s\n",
      "389:\tlearn: 1747.6733835\ttotal: 6m 9s\tremaining: 9m 38s\n",
      "390:\tlearn: 1747.4951983\ttotal: 6m 10s\tremaining: 9m 37s\n",
      "391:\tlearn: 1746.9875971\ttotal: 6m 11s\tremaining: 9m 36s\n",
      "392:\tlearn: 1746.6337111\ttotal: 6m 12s\tremaining: 9m 35s\n",
      "393:\tlearn: 1746.4446786\ttotal: 6m 13s\tremaining: 9m 34s\n",
      "394:\tlearn: 1745.9670947\ttotal: 6m 14s\tremaining: 9m 32s\n",
      "395:\tlearn: 1745.5964513\ttotal: 6m 15s\tremaining: 9m 32s\n",
      "396:\tlearn: 1745.2945095\ttotal: 6m 15s\tremaining: 9m 30s\n",
      "397:\tlearn: 1745.1074914\ttotal: 6m 16s\tremaining: 9m 30s\n",
      "398:\tlearn: 1744.7662857\ttotal: 6m 17s\tremaining: 9m 29s\n",
      "399:\tlearn: 1744.4672230\ttotal: 6m 18s\tremaining: 9m 28s\n",
      "400:\tlearn: 1744.1939277\ttotal: 6m 20s\tremaining: 9m 27s\n",
      "401:\tlearn: 1743.6236695\ttotal: 6m 21s\tremaining: 9m 27s\n",
      "402:\tlearn: 1743.4535520\ttotal: 6m 22s\tremaining: 9m 26s\n",
      "403:\tlearn: 1743.2268675\ttotal: 6m 23s\tremaining: 9m 25s\n",
      "404:\tlearn: 1743.0378963\ttotal: 6m 24s\tremaining: 9m 24s\n",
      "405:\tlearn: 1742.7585167\ttotal: 6m 25s\tremaining: 9m 23s\n",
      "406:\tlearn: 1742.4443020\ttotal: 6m 26s\tremaining: 9m 22s\n",
      "407:\tlearn: 1742.1997196\ttotal: 6m 27s\tremaining: 9m 21s\n",
      "408:\tlearn: 1741.8028033\ttotal: 6m 28s\tremaining: 9m 20s\n",
      "409:\tlearn: 1741.5490394\ttotal: 6m 28s\tremaining: 9m 19s\n",
      "410:\tlearn: 1741.3220992\ttotal: 6m 29s\tremaining: 9m 18s\n",
      "411:\tlearn: 1741.2571933\ttotal: 6m 30s\tremaining: 9m 17s\n",
      "412:\tlearn: 1741.1042648\ttotal: 6m 31s\tremaining: 9m 16s\n",
      "413:\tlearn: 1741.0811012\ttotal: 6m 32s\tremaining: 9m 15s\n",
      "414:\tlearn: 1740.7875947\ttotal: 6m 33s\tremaining: 9m 14s\n",
      "415:\tlearn: 1740.7269243\ttotal: 6m 34s\tremaining: 9m 14s\n",
      "416:\tlearn: 1740.2612567\ttotal: 6m 35s\tremaining: 9m 13s\n",
      "417:\tlearn: 1739.9534070\ttotal: 6m 36s\tremaining: 9m 12s\n",
      "418:\tlearn: 1739.7061782\ttotal: 6m 37s\tremaining: 9m 11s\n",
      "419:\tlearn: 1739.4257798\ttotal: 6m 38s\tremaining: 9m 10s\n",
      "420:\tlearn: 1739.2519788\ttotal: 6m 39s\tremaining: 9m 9s\n",
      "421:\tlearn: 1738.8791413\ttotal: 6m 40s\tremaining: 9m 8s\n",
      "422:\tlearn: 1738.5593895\ttotal: 6m 41s\tremaining: 9m 7s\n",
      "423:\tlearn: 1738.2311789\ttotal: 6m 42s\tremaining: 9m 6s\n",
      "424:\tlearn: 1737.9284573\ttotal: 6m 43s\tremaining: 9m 5s\n",
      "425:\tlearn: 1737.7694245\ttotal: 6m 44s\tremaining: 9m 4s\n",
      "426:\tlearn: 1737.5278064\ttotal: 6m 44s\tremaining: 9m 3s\n",
      "427:\tlearn: 1737.1750834\ttotal: 6m 46s\tremaining: 9m 2s\n",
      "428:\tlearn: 1736.7206763\ttotal: 6m 46s\tremaining: 9m 1s\n",
      "429:\tlearn: 1736.2363185\ttotal: 6m 47s\tremaining: 9m\n",
      "430:\tlearn: 1735.8866900\ttotal: 6m 48s\tremaining: 8m 59s\n",
      "431:\tlearn: 1735.5154340\ttotal: 6m 49s\tremaining: 8m 58s\n",
      "432:\tlearn: 1735.4403441\ttotal: 6m 50s\tremaining: 8m 57s\n",
      "433:\tlearn: 1735.1883422\ttotal: 6m 51s\tremaining: 8m 56s\n",
      "434:\tlearn: 1735.1810663\ttotal: 6m 52s\tremaining: 8m 55s\n",
      "435:\tlearn: 1734.9932793\ttotal: 6m 53s\tremaining: 8m 54s\n",
      "436:\tlearn: 1734.7999317\ttotal: 6m 54s\tremaining: 8m 53s\n",
      "437:\tlearn: 1734.3744882\ttotal: 6m 55s\tremaining: 8m 53s\n",
      "438:\tlearn: 1734.2238198\ttotal: 6m 56s\tremaining: 8m 51s\n",
      "439:\tlearn: 1733.9938319\ttotal: 6m 57s\tremaining: 8m 51s\n",
      "440:\tlearn: 1733.7787922\ttotal: 6m 58s\tremaining: 8m 50s\n",
      "441:\tlearn: 1733.4442926\ttotal: 6m 59s\tremaining: 8m 49s\n",
      "442:\tlearn: 1733.3346416\ttotal: 7m\tremaining: 8m 48s\n",
      "443:\tlearn: 1733.1280149\ttotal: 7m 1s\tremaining: 8m 47s\n",
      "444:\tlearn: 1733.0157168\ttotal: 7m 2s\tremaining: 8m 46s\n",
      "445:\tlearn: 1732.9008304\ttotal: 7m 3s\tremaining: 8m 45s\n",
      "446:\tlearn: 1732.7262392\ttotal: 7m 4s\tremaining: 8m 44s\n",
      "447:\tlearn: 1732.6419173\ttotal: 7m 5s\tremaining: 8m 43s\n",
      "448:\tlearn: 1732.6116814\ttotal: 7m 6s\tremaining: 8m 42s\n",
      "449:\tlearn: 1732.4757291\ttotal: 7m 7s\tremaining: 8m 41s\n",
      "450:\tlearn: 1732.1091291\ttotal: 7m 7s\tremaining: 8m 40s\n",
      "451:\tlearn: 1731.9406674\ttotal: 7m 8s\tremaining: 8m 39s\n",
      "452:\tlearn: 1731.6856442\ttotal: 7m 9s\tremaining: 8m 39s\n",
      "453:\tlearn: 1731.5712511\ttotal: 7m 10s\tremaining: 8m 38s\n",
      "454:\tlearn: 1731.3518761\ttotal: 7m 11s\tremaining: 8m 37s\n",
      "455:\tlearn: 1731.1802306\ttotal: 7m 12s\tremaining: 8m 35s\n",
      "456:\tlearn: 1731.0038608\ttotal: 7m 13s\tremaining: 8m 35s\n",
      "457:\tlearn: 1730.8021420\ttotal: 7m 14s\tremaining: 8m 34s\n",
      "458:\tlearn: 1730.4461466\ttotal: 7m 15s\tremaining: 8m 33s\n",
      "459:\tlearn: 1730.2777228\ttotal: 7m 16s\tremaining: 8m 32s\n",
      "460:\tlearn: 1730.1367473\ttotal: 7m 17s\tremaining: 8m 31s\n",
      "461:\tlearn: 1729.7072475\ttotal: 7m 18s\tremaining: 8m 30s\n",
      "462:\tlearn: 1729.5885149\ttotal: 7m 19s\tremaining: 8m 29s\n",
      "463:\tlearn: 1729.4183125\ttotal: 7m 20s\tremaining: 8m 28s\n",
      "464:\tlearn: 1729.2924620\ttotal: 7m 20s\tremaining: 8m 27s\n",
      "465:\tlearn: 1728.9486761\ttotal: 7m 21s\tremaining: 8m 26s\n",
      "466:\tlearn: 1728.8105520\ttotal: 7m 22s\tremaining: 8m 25s\n",
      "467:\tlearn: 1728.6954008\ttotal: 7m 23s\tremaining: 8m 24s\n",
      "468:\tlearn: 1728.5086736\ttotal: 7m 24s\tremaining: 8m 23s\n",
      "469:\tlearn: 1728.2880435\ttotal: 7m 25s\tremaining: 8m 22s\n",
      "470:\tlearn: 1727.9925931\ttotal: 7m 26s\tremaining: 8m 21s\n",
      "471:\tlearn: 1727.8113183\ttotal: 7m 27s\tremaining: 8m 20s\n",
      "472:\tlearn: 1727.5240943\ttotal: 7m 28s\tremaining: 8m 19s\n",
      "473:\tlearn: 1727.1376375\ttotal: 7m 29s\tremaining: 8m 18s\n",
      "474:\tlearn: 1727.0686008\ttotal: 7m 30s\tremaining: 8m 17s\n",
      "475:\tlearn: 1726.8892483\ttotal: 7m 31s\tremaining: 8m 16s\n",
      "476:\tlearn: 1726.6609617\ttotal: 7m 32s\tremaining: 8m 16s\n",
      "477:\tlearn: 1726.4566307\ttotal: 7m 33s\tremaining: 8m 15s\n",
      "478:\tlearn: 1726.3829935\ttotal: 7m 34s\tremaining: 8m 14s\n",
      "479:\tlearn: 1726.1180392\ttotal: 7m 35s\tremaining: 8m 13s\n",
      "480:\tlearn: 1725.9036212\ttotal: 7m 36s\tremaining: 8m 12s\n",
      "481:\tlearn: 1725.7781872\ttotal: 7m 37s\tremaining: 8m 11s\n",
      "482:\tlearn: 1725.6715889\ttotal: 7m 38s\tremaining: 8m 10s\n",
      "483:\tlearn: 1725.3353881\ttotal: 7m 39s\tremaining: 8m 9s\n",
      "484:\tlearn: 1725.0353698\ttotal: 7m 40s\tremaining: 8m 8s\n",
      "485:\tlearn: 1724.9240290\ttotal: 7m 41s\tremaining: 8m 7s\n",
      "486:\tlearn: 1724.7774464\ttotal: 7m 42s\tremaining: 8m 7s\n",
      "487:\tlearn: 1724.6750859\ttotal: 7m 43s\tremaining: 8m 6s\n",
      "488:\tlearn: 1724.5606893\ttotal: 7m 44s\tremaining: 8m 5s\n",
      "489:\tlearn: 1724.3054263\ttotal: 7m 45s\tremaining: 8m 4s\n",
      "490:\tlearn: 1724.1046406\ttotal: 7m 46s\tremaining: 8m 3s\n",
      "491:\tlearn: 1723.7579229\ttotal: 7m 47s\tremaining: 8m 2s\n",
      "492:\tlearn: 1723.7446105\ttotal: 7m 48s\tremaining: 8m 1s\n",
      "493:\tlearn: 1723.5412076\ttotal: 7m 49s\tremaining: 8m\n",
      "494:\tlearn: 1723.2706028\ttotal: 7m 50s\tremaining: 7m 59s\n",
      "495:\tlearn: 1723.0653628\ttotal: 7m 51s\tremaining: 7m 58s\n",
      "496:\tlearn: 1722.6218720\ttotal: 7m 51s\tremaining: 7m 57s\n",
      "497:\tlearn: 1722.4558743\ttotal: 7m 52s\tremaining: 7m 56s\n",
      "498:\tlearn: 1722.0905265\ttotal: 7m 53s\tremaining: 7m 55s\n",
      "499:\tlearn: 1722.0436384\ttotal: 7m 54s\tremaining: 7m 54s\n",
      "500:\tlearn: 1721.7692408\ttotal: 7m 55s\tremaining: 7m 54s\n",
      "501:\tlearn: 1721.5183757\ttotal: 7m 57s\tremaining: 7m 53s\n",
      "502:\tlearn: 1721.3217046\ttotal: 7m 57s\tremaining: 7m 52s\n",
      "503:\tlearn: 1721.0919140\ttotal: 7m 59s\tremaining: 7m 51s\n",
      "504:\tlearn: 1721.0267654\ttotal: 8m\tremaining: 7m 50s\n",
      "505:\tlearn: 1720.8577001\ttotal: 8m\tremaining: 7m 49s\n",
      "506:\tlearn: 1720.6481104\ttotal: 8m 1s\tremaining: 7m 48s\n",
      "507:\tlearn: 1720.4105186\ttotal: 8m 2s\tremaining: 7m 47s\n",
      "508:\tlearn: 1720.2317703\ttotal: 8m 3s\tremaining: 7m 46s\n",
      "509:\tlearn: 1720.1089896\ttotal: 8m 5s\tremaining: 7m 46s\n",
      "510:\tlearn: 1719.9510741\ttotal: 8m 6s\tremaining: 7m 45s\n",
      "511:\tlearn: 1719.7730274\ttotal: 8m 6s\tremaining: 7m 44s\n",
      "512:\tlearn: 1719.4748499\ttotal: 8m 7s\tremaining: 7m 43s\n",
      "513:\tlearn: 1719.3105448\ttotal: 8m 8s\tremaining: 7m 42s\n",
      "514:\tlearn: 1718.7721728\ttotal: 8m 9s\tremaining: 7m 41s\n",
      "515:\tlearn: 1718.5249907\ttotal: 8m 10s\tremaining: 7m 40s\n",
      "516:\tlearn: 1718.4020248\ttotal: 8m 11s\tremaining: 7m 39s\n",
      "517:\tlearn: 1718.2489871\ttotal: 8m 13s\tremaining: 7m 38s\n",
      "518:\tlearn: 1718.0223045\ttotal: 8m 13s\tremaining: 7m 37s\n",
      "519:\tlearn: 1717.6146127\ttotal: 8m 14s\tremaining: 7m 36s\n",
      "520:\tlearn: 1717.4859642\ttotal: 8m 15s\tremaining: 7m 35s\n",
      "521:\tlearn: 1717.0913911\ttotal: 8m 16s\tremaining: 7m 34s\n",
      "522:\tlearn: 1716.8467538\ttotal: 8m 17s\tremaining: 7m 33s\n",
      "523:\tlearn: 1716.5437428\ttotal: 8m 18s\tremaining: 7m 32s\n",
      "524:\tlearn: 1716.3605661\ttotal: 8m 19s\tremaining: 7m 31s\n",
      "525:\tlearn: 1716.2226771\ttotal: 8m 20s\tremaining: 7m 30s\n",
      "526:\tlearn: 1715.9540721\ttotal: 8m 21s\tremaining: 7m 29s\n",
      "527:\tlearn: 1715.8106748\ttotal: 8m 21s\tremaining: 7m 28s\n",
      "528:\tlearn: 1715.6122489\ttotal: 8m 22s\tremaining: 7m 27s\n",
      "529:\tlearn: 1715.4317361\ttotal: 8m 23s\tremaining: 7m 26s\n",
      "530:\tlearn: 1715.0784148\ttotal: 8m 24s\tremaining: 7m 25s\n",
      "531:\tlearn: 1714.7737289\ttotal: 8m 26s\tremaining: 7m 25s\n",
      "532:\tlearn: 1714.6045111\ttotal: 8m 26s\tremaining: 7m 24s\n",
      "533:\tlearn: 1714.4088632\ttotal: 8m 27s\tremaining: 7m 23s\n",
      "534:\tlearn: 1714.0648106\ttotal: 8m 28s\tremaining: 7m 22s\n",
      "535:\tlearn: 1713.6870597\ttotal: 8m 29s\tremaining: 7m 21s\n",
      "536:\tlearn: 1713.3413274\ttotal: 8m 30s\tremaining: 7m 20s\n",
      "537:\tlearn: 1713.1301610\ttotal: 8m 31s\tremaining: 7m 19s\n",
      "538:\tlearn: 1713.1043568\ttotal: 8m 32s\tremaining: 7m 18s\n",
      "539:\tlearn: 1712.8653663\ttotal: 8m 33s\tremaining: 7m 17s\n",
      "540:\tlearn: 1712.6069858\ttotal: 8m 34s\tremaining: 7m 16s\n",
      "541:\tlearn: 1712.3832489\ttotal: 8m 35s\tremaining: 7m 15s\n",
      "542:\tlearn: 1712.2791570\ttotal: 8m 36s\tremaining: 7m 14s\n",
      "543:\tlearn: 1712.1117543\ttotal: 8m 37s\tremaining: 7m 13s\n",
      "544:\tlearn: 1711.9503753\ttotal: 8m 38s\tremaining: 7m 12s\n",
      "545:\tlearn: 1711.8438112\ttotal: 8m 39s\tremaining: 7m 11s\n",
      "546:\tlearn: 1711.7240102\ttotal: 8m 40s\tremaining: 7m 10s\n",
      "547:\tlearn: 1711.4287744\ttotal: 8m 41s\tremaining: 7m 10s\n",
      "548:\tlearn: 1711.3576534\ttotal: 8m 42s\tremaining: 7m 9s\n",
      "549:\tlearn: 1711.1937229\ttotal: 8m 43s\tremaining: 7m 8s\n",
      "550:\tlearn: 1711.0498232\ttotal: 8m 44s\tremaining: 7m 7s\n",
      "551:\tlearn: 1710.5991893\ttotal: 8m 45s\tremaining: 7m 6s\n",
      "552:\tlearn: 1710.5054988\ttotal: 8m 46s\tremaining: 7m 5s\n",
      "553:\tlearn: 1710.3141564\ttotal: 8m 47s\tremaining: 7m 4s\n",
      "554:\tlearn: 1710.0420906\ttotal: 8m 48s\tremaining: 7m 3s\n",
      "555:\tlearn: 1709.8488004\ttotal: 8m 49s\tremaining: 7m 2s\n",
      "556:\tlearn: 1709.6508121\ttotal: 8m 50s\tremaining: 7m 1s\n",
      "557:\tlearn: 1709.3802714\ttotal: 8m 51s\tremaining: 7m 1s\n",
      "558:\tlearn: 1709.2615527\ttotal: 8m 52s\tremaining: 7m\n",
      "559:\tlearn: 1709.1480569\ttotal: 8m 53s\tremaining: 6m 59s\n",
      "560:\tlearn: 1709.0948894\ttotal: 8m 54s\tremaining: 6m 58s\n",
      "561:\tlearn: 1708.8075920\ttotal: 8m 55s\tremaining: 6m 57s\n",
      "562:\tlearn: 1708.3426368\ttotal: 8m 56s\tremaining: 6m 56s\n",
      "563:\tlearn: 1708.1809402\ttotal: 8m 57s\tremaining: 6m 55s\n",
      "564:\tlearn: 1708.0181415\ttotal: 8m 59s\tremaining: 6m 55s\n",
      "565:\tlearn: 1707.9515576\ttotal: 9m\tremaining: 6m 54s\n",
      "566:\tlearn: 1707.8364388\ttotal: 9m 1s\tremaining: 6m 53s\n",
      "567:\tlearn: 1707.6068344\ttotal: 9m 2s\tremaining: 6m 52s\n",
      "568:\tlearn: 1707.3075245\ttotal: 9m 3s\tremaining: 6m 51s\n",
      "569:\tlearn: 1706.9011784\ttotal: 9m 3s\tremaining: 6m 50s\n",
      "570:\tlearn: 1706.6648268\ttotal: 9m 4s\tremaining: 6m 49s\n",
      "571:\tlearn: 1706.4867577\ttotal: 9m 5s\tremaining: 6m 48s\n",
      "572:\tlearn: 1706.2448818\ttotal: 9m 6s\tremaining: 6m 47s\n",
      "573:\tlearn: 1705.9483712\ttotal: 9m 7s\tremaining: 6m 46s\n",
      "574:\tlearn: 1705.8898937\ttotal: 9m 8s\tremaining: 6m 45s\n",
      "575:\tlearn: 1705.6960928\ttotal: 9m 9s\tremaining: 6m 44s\n",
      "576:\tlearn: 1705.6435652\ttotal: 9m 10s\tremaining: 6m 43s\n",
      "577:\tlearn: 1705.2475031\ttotal: 9m 11s\tremaining: 6m 42s\n",
      "578:\tlearn: 1705.0989365\ttotal: 9m 12s\tremaining: 6m 41s\n",
      "579:\tlearn: 1704.6351937\ttotal: 9m 13s\tremaining: 6m 40s\n",
      "580:\tlearn: 1704.6240601\ttotal: 9m 13s\tremaining: 6m 39s\n",
      "581:\tlearn: 1704.3965372\ttotal: 9m 14s\tremaining: 6m 38s\n",
      "582:\tlearn: 1704.2188886\ttotal: 9m 15s\tremaining: 6m 37s\n",
      "583:\tlearn: 1704.0076100\ttotal: 9m 16s\tremaining: 6m 36s\n",
      "584:\tlearn: 1703.8910400\ttotal: 9m 18s\tremaining: 6m 35s\n",
      "585:\tlearn: 1703.7635880\ttotal: 9m 19s\tremaining: 6m 35s\n",
      "586:\tlearn: 1703.6298684\ttotal: 9m 19s\tremaining: 6m 33s\n",
      "587:\tlearn: 1703.3508109\ttotal: 9m 20s\tremaining: 6m 32s\n",
      "588:\tlearn: 1703.1752752\ttotal: 9m 21s\tremaining: 6m 31s\n",
      "589:\tlearn: 1703.0596464\ttotal: 9m 22s\tremaining: 6m 31s\n",
      "590:\tlearn: 1702.7005114\ttotal: 9m 23s\tremaining: 6m 30s\n",
      "591:\tlearn: 1702.5514217\ttotal: 9m 24s\tremaining: 6m 29s\n",
      "592:\tlearn: 1702.4423079\ttotal: 9m 25s\tremaining: 6m 28s\n",
      "593:\tlearn: 1702.0250578\ttotal: 9m 26s\tremaining: 6m 27s\n",
      "594:\tlearn: 1701.8289621\ttotal: 9m 27s\tremaining: 6m 26s\n",
      "595:\tlearn: 1701.6396065\ttotal: 9m 28s\tremaining: 6m 25s\n",
      "596:\tlearn: 1701.3657625\ttotal: 9m 29s\tremaining: 6m 24s\n",
      "597:\tlearn: 1701.2923796\ttotal: 9m 30s\tremaining: 6m 23s\n",
      "598:\tlearn: 1701.1133689\ttotal: 9m 31s\tremaining: 6m 22s\n",
      "599:\tlearn: 1700.9135615\ttotal: 9m 32s\tremaining: 6m 21s\n",
      "600:\tlearn: 1700.7455806\ttotal: 9m 33s\tremaining: 6m 20s\n",
      "601:\tlearn: 1700.6177839\ttotal: 9m 34s\tremaining: 6m 19s\n",
      "602:\tlearn: 1700.1658043\ttotal: 9m 35s\tremaining: 6m 18s\n",
      "603:\tlearn: 1699.8526147\ttotal: 9m 36s\tremaining: 6m 17s\n",
      "604:\tlearn: 1699.7112545\ttotal: 9m 36s\tremaining: 6m 16s\n",
      "605:\tlearn: 1699.5181974\ttotal: 9m 37s\tremaining: 6m 15s\n",
      "606:\tlearn: 1699.3744524\ttotal: 9m 39s\tremaining: 6m 14s\n",
      "607:\tlearn: 1699.1041891\ttotal: 9m 40s\tremaining: 6m 13s\n",
      "608:\tlearn: 1698.9660529\ttotal: 9m 40s\tremaining: 6m 13s\n",
      "609:\tlearn: 1698.7956554\ttotal: 9m 41s\tremaining: 6m 11s\n",
      "610:\tlearn: 1698.7269333\ttotal: 9m 42s\tremaining: 6m 11s\n",
      "611:\tlearn: 1698.6733069\ttotal: 9m 43s\tremaining: 6m 10s\n",
      "612:\tlearn: 1698.5258821\ttotal: 9m 44s\tremaining: 6m 9s\n",
      "613:\tlearn: 1698.3739753\ttotal: 9m 45s\tremaining: 6m 8s\n",
      "614:\tlearn: 1698.3382786\ttotal: 9m 46s\tremaining: 6m 7s\n",
      "615:\tlearn: 1698.0322589\ttotal: 9m 47s\tremaining: 6m 6s\n",
      "616:\tlearn: 1697.9436299\ttotal: 9m 49s\tremaining: 6m 5s\n",
      "617:\tlearn: 1697.7662068\ttotal: 9m 50s\tremaining: 6m 4s\n",
      "618:\tlearn: 1697.3716389\ttotal: 9m 51s\tremaining: 6m 3s\n",
      "619:\tlearn: 1697.1371175\ttotal: 9m 52s\tremaining: 6m 3s\n",
      "620:\tlearn: 1697.0246644\ttotal: 9m 53s\tremaining: 6m 2s\n",
      "621:\tlearn: 1696.8556291\ttotal: 9m 54s\tremaining: 6m 1s\n",
      "622:\tlearn: 1696.6886553\ttotal: 9m 55s\tremaining: 6m\n",
      "623:\tlearn: 1696.6501178\ttotal: 9m 56s\tremaining: 5m 59s\n",
      "624:\tlearn: 1696.6288700\ttotal: 9m 57s\tremaining: 5m 58s\n",
      "625:\tlearn: 1696.5643822\ttotal: 9m 58s\tremaining: 5m 57s\n",
      "626:\tlearn: 1696.5190002\ttotal: 9m 59s\tremaining: 5m 56s\n",
      "627:\tlearn: 1696.3613231\ttotal: 10m\tremaining: 5m 55s\n",
      "628:\tlearn: 1696.2256284\ttotal: 10m 1s\tremaining: 5m 54s\n",
      "629:\tlearn: 1695.9000588\ttotal: 10m 2s\tremaining: 5m 53s\n",
      "630:\tlearn: 1695.7206575\ttotal: 10m 3s\tremaining: 5m 52s\n",
      "631:\tlearn: 1695.6675745\ttotal: 10m 4s\tremaining: 5m 51s\n",
      "632:\tlearn: 1695.5143769\ttotal: 10m 5s\tremaining: 5m 51s\n",
      "633:\tlearn: 1695.4357551\ttotal: 10m 6s\tremaining: 5m 50s\n",
      "634:\tlearn: 1695.3724173\ttotal: 10m 7s\tremaining: 5m 49s\n",
      "635:\tlearn: 1695.1306341\ttotal: 10m 8s\tremaining: 5m 48s\n",
      "636:\tlearn: 1695.0324108\ttotal: 10m 9s\tremaining: 5m 47s\n",
      "637:\tlearn: 1694.9819734\ttotal: 10m 10s\tremaining: 5m 46s\n",
      "638:\tlearn: 1694.8348334\ttotal: 10m 11s\tremaining: 5m 45s\n",
      "639:\tlearn: 1694.8189824\ttotal: 10m 12s\tremaining: 5m 44s\n",
      "640:\tlearn: 1694.7473609\ttotal: 10m 13s\tremaining: 5m 43s\n",
      "641:\tlearn: 1694.5857821\ttotal: 10m 14s\tremaining: 5m 42s\n",
      "642:\tlearn: 1694.4266433\ttotal: 10m 15s\tremaining: 5m 41s\n",
      "643:\tlearn: 1694.2397072\ttotal: 10m 16s\tremaining: 5m 40s\n",
      "644:\tlearn: 1694.0821808\ttotal: 10m 17s\tremaining: 5m 39s\n",
      "645:\tlearn: 1693.9266363\ttotal: 10m 18s\tremaining: 5m 38s\n",
      "646:\tlearn: 1693.7625004\ttotal: 10m 19s\tremaining: 5m 37s\n",
      "647:\tlearn: 1693.6826407\ttotal: 10m 20s\tremaining: 5m 36s\n",
      "648:\tlearn: 1693.5546550\ttotal: 10m 21s\tremaining: 5m 35s\n",
      "649:\tlearn: 1693.3598377\ttotal: 10m 22s\tremaining: 5m 35s\n",
      "650:\tlearn: 1693.2347217\ttotal: 10m 23s\tremaining: 5m 34s\n",
      "651:\tlearn: 1693.0974294\ttotal: 10m 24s\tremaining: 5m 33s\n",
      "652:\tlearn: 1692.9584644\ttotal: 10m 25s\tremaining: 5m 32s\n",
      "653:\tlearn: 1692.9456295\ttotal: 10m 26s\tremaining: 5m 31s\n",
      "654:\tlearn: 1692.8180755\ttotal: 10m 27s\tremaining: 5m 30s\n",
      "655:\tlearn: 1692.4499705\ttotal: 10m 28s\tremaining: 5m 29s\n",
      "656:\tlearn: 1692.4444128\ttotal: 10m 28s\tremaining: 5m 28s\n",
      "657:\tlearn: 1692.1988140\ttotal: 10m 29s\tremaining: 5m 27s\n",
      "658:\tlearn: 1692.1636749\ttotal: 10m 30s\tremaining: 5m 26s\n",
      "659:\tlearn: 1691.7880525\ttotal: 10m 31s\tremaining: 5m 25s\n",
      "660:\tlearn: 1691.5822503\ttotal: 10m 33s\tremaining: 5m 24s\n",
      "661:\tlearn: 1691.4658645\ttotal: 10m 34s\tremaining: 5m 23s\n",
      "662:\tlearn: 1691.1984412\ttotal: 10m 35s\tremaining: 5m 22s\n",
      "663:\tlearn: 1690.9952280\ttotal: 10m 36s\tremaining: 5m 21s\n",
      "664:\tlearn: 1690.8075194\ttotal: 10m 37s\tremaining: 5m 21s\n",
      "665:\tlearn: 1690.6144328\ttotal: 10m 38s\tremaining: 5m 20s\n",
      "666:\tlearn: 1690.4315815\ttotal: 10m 39s\tremaining: 5m 19s\n",
      "667:\tlearn: 1690.1317446\ttotal: 10m 40s\tremaining: 5m 18s\n",
      "668:\tlearn: 1689.8514558\ttotal: 10m 41s\tremaining: 5m 17s\n",
      "669:\tlearn: 1689.5705358\ttotal: 10m 42s\tremaining: 5m 16s\n",
      "670:\tlearn: 1689.5061677\ttotal: 10m 43s\tremaining: 5m 15s\n",
      "671:\tlearn: 1689.4122141\ttotal: 10m 43s\tremaining: 5m 14s\n",
      "672:\tlearn: 1689.3802644\ttotal: 10m 44s\tremaining: 5m 13s\n",
      "673:\tlearn: 1689.2378222\ttotal: 10m 45s\tremaining: 5m 12s\n",
      "674:\tlearn: 1689.0764594\ttotal: 10m 46s\tremaining: 5m 11s\n",
      "675:\tlearn: 1688.9234623\ttotal: 10m 48s\tremaining: 5m 10s\n",
      "676:\tlearn: 1688.8350876\ttotal: 10m 49s\tremaining: 5m 9s\n",
      "677:\tlearn: 1688.7444652\ttotal: 10m 50s\tremaining: 5m 8s\n",
      "678:\tlearn: 1688.6591672\ttotal: 10m 51s\tremaining: 5m 7s\n",
      "679:\tlearn: 1688.4484839\ttotal: 10m 52s\tremaining: 5m 7s\n",
      "680:\tlearn: 1688.3051413\ttotal: 10m 53s\tremaining: 5m 5s\n",
      "681:\tlearn: 1688.0638520\ttotal: 10m 54s\tremaining: 5m 5s\n",
      "682:\tlearn: 1687.9271148\ttotal: 10m 55s\tremaining: 5m 4s\n",
      "683:\tlearn: 1687.7826311\ttotal: 10m 56s\tremaining: 5m 3s\n",
      "684:\tlearn: 1687.6470068\ttotal: 10m 57s\tremaining: 5m 2s\n",
      "685:\tlearn: 1687.4623958\ttotal: 10m 58s\tremaining: 5m 1s\n",
      "686:\tlearn: 1687.4616004\ttotal: 10m 58s\tremaining: 5m\n",
      "687:\tlearn: 1687.2560214\ttotal: 10m 59s\tremaining: 4m 59s\n",
      "688:\tlearn: 1687.0191494\ttotal: 11m\tremaining: 4m 58s\n",
      "689:\tlearn: 1686.7701313\ttotal: 11m 1s\tremaining: 4m 57s\n",
      "690:\tlearn: 1686.5742872\ttotal: 11m 2s\tremaining: 4m 56s\n",
      "691:\tlearn: 1686.4600632\ttotal: 11m 3s\tremaining: 4m 55s\n",
      "692:\tlearn: 1686.1036288\ttotal: 11m 4s\tremaining: 4m 54s\n",
      "693:\tlearn: 1685.7914767\ttotal: 11m 5s\tremaining: 4m 53s\n",
      "694:\tlearn: 1685.7300910\ttotal: 11m 6s\tremaining: 4m 52s\n",
      "695:\tlearn: 1685.5841618\ttotal: 11m 7s\tremaining: 4m 51s\n",
      "696:\tlearn: 1685.4769843\ttotal: 11m 8s\tremaining: 4m 50s\n",
      "697:\tlearn: 1685.3822598\ttotal: 11m 10s\tremaining: 4m 50s\n",
      "698:\tlearn: 1685.3542830\ttotal: 11m 11s\tremaining: 4m 49s\n",
      "699:\tlearn: 1685.1482860\ttotal: 11m 12s\tremaining: 4m 48s\n",
      "700:\tlearn: 1685.0590799\ttotal: 11m 13s\tremaining: 4m 47s\n",
      "701:\tlearn: 1684.9418836\ttotal: 11m 15s\tremaining: 4m 46s\n",
      "702:\tlearn: 1684.5657803\ttotal: 11m 16s\tremaining: 4m 45s\n",
      "703:\tlearn: 1684.3879664\ttotal: 11m 16s\tremaining: 4m 44s\n",
      "704:\tlearn: 1684.3353176\ttotal: 11m 18s\tremaining: 4m 43s\n",
      "705:\tlearn: 1684.0758124\ttotal: 11m 18s\tremaining: 4m 42s\n",
      "706:\tlearn: 1683.8155776\ttotal: 11m 19s\tremaining: 4m 41s\n",
      "707:\tlearn: 1683.7014376\ttotal: 11m 20s\tremaining: 4m 40s\n",
      "708:\tlearn: 1683.4968379\ttotal: 11m 21s\tremaining: 4m 39s\n",
      "709:\tlearn: 1683.3074446\ttotal: 11m 22s\tremaining: 4m 38s\n",
      "710:\tlearn: 1683.1873102\ttotal: 11m 23s\tremaining: 4m 37s\n",
      "711:\tlearn: 1683.0943378\ttotal: 11m 24s\tremaining: 4m 36s\n",
      "712:\tlearn: 1682.9611582\ttotal: 11m 25s\tremaining: 4m 35s\n",
      "713:\tlearn: 1682.8417111\ttotal: 11m 26s\tremaining: 4m 34s\n",
      "714:\tlearn: 1682.8175588\ttotal: 11m 27s\tremaining: 4m 34s\n",
      "715:\tlearn: 1682.6032506\ttotal: 11m 28s\tremaining: 4m 33s\n",
      "716:\tlearn: 1682.2646042\ttotal: 11m 29s\tremaining: 4m 32s\n",
      "717:\tlearn: 1682.1702489\ttotal: 11m 30s\tremaining: 4m 31s\n",
      "718:\tlearn: 1681.8869764\ttotal: 11m 31s\tremaining: 4m 30s\n",
      "719:\tlearn: 1681.8158147\ttotal: 11m 32s\tremaining: 4m 29s\n",
      "720:\tlearn: 1681.5454933\ttotal: 11m 34s\tremaining: 4m 28s\n",
      "721:\tlearn: 1681.3866193\ttotal: 11m 35s\tremaining: 4m 27s\n",
      "722:\tlearn: 1681.1311320\ttotal: 11m 36s\tremaining: 4m 26s\n",
      "723:\tlearn: 1680.9846458\ttotal: 11m 37s\tremaining: 4m 25s\n",
      "724:\tlearn: 1680.8533133\ttotal: 11m 38s\tremaining: 4m 24s\n",
      "725:\tlearn: 1680.6596628\ttotal: 11m 39s\tremaining: 4m 23s\n",
      "726:\tlearn: 1680.6132003\ttotal: 11m 40s\tremaining: 4m 23s\n",
      "727:\tlearn: 1680.5651126\ttotal: 11m 41s\tremaining: 4m 22s\n",
      "728:\tlearn: 1680.2655777\ttotal: 11m 42s\tremaining: 4m 21s\n",
      "729:\tlearn: 1680.1397856\ttotal: 11m 43s\tremaining: 4m 20s\n",
      "730:\tlearn: 1679.8516853\ttotal: 11m 45s\tremaining: 4m 19s\n",
      "731:\tlearn: 1679.8229783\ttotal: 11m 46s\tremaining: 4m 18s\n",
      "732:\tlearn: 1679.4944592\ttotal: 11m 46s\tremaining: 4m 17s\n",
      "733:\tlearn: 1679.2277678\ttotal: 11m 48s\tremaining: 4m 16s\n",
      "734:\tlearn: 1679.1441762\ttotal: 11m 49s\tremaining: 4m 15s\n",
      "735:\tlearn: 1678.9633754\ttotal: 11m 50s\tremaining: 4m 14s\n",
      "736:\tlearn: 1678.8504018\ttotal: 11m 51s\tremaining: 4m 13s\n",
      "737:\tlearn: 1678.7659301\ttotal: 11m 52s\tremaining: 4m 12s\n",
      "738:\tlearn: 1678.5984033\ttotal: 11m 53s\tremaining: 4m 12s\n",
      "739:\tlearn: 1678.4520984\ttotal: 11m 54s\tremaining: 4m 11s\n",
      "740:\tlearn: 1678.3830692\ttotal: 11m 55s\tremaining: 4m 10s\n",
      "741:\tlearn: 1678.2797811\ttotal: 11m 56s\tremaining: 4m 9s\n",
      "742:\tlearn: 1678.2647179\ttotal: 11m 57s\tremaining: 4m 8s\n",
      "743:\tlearn: 1678.1598348\ttotal: 11m 58s\tremaining: 4m 7s\n",
      "744:\tlearn: 1678.0359813\ttotal: 11m 59s\tremaining: 4m 6s\n",
      "745:\tlearn: 1678.0085553\ttotal: 12m\tremaining: 4m 5s\n",
      "746:\tlearn: 1677.9132996\ttotal: 12m 1s\tremaining: 4m 4s\n",
      "747:\tlearn: 1677.8450762\ttotal: 12m 2s\tremaining: 4m 3s\n",
      "748:\tlearn: 1677.7632689\ttotal: 12m 3s\tremaining: 4m 2s\n",
      "749:\tlearn: 1677.6271129\ttotal: 12m 5s\tremaining: 4m 1s\n",
      "750:\tlearn: 1677.4455110\ttotal: 12m 6s\tremaining: 4m\n",
      "751:\tlearn: 1677.2496790\ttotal: 12m 7s\tremaining: 3m 59s\n",
      "752:\tlearn: 1677.0542065\ttotal: 12m 8s\tremaining: 3m 58s\n",
      "753:\tlearn: 1676.7320196\ttotal: 12m 9s\tremaining: 3m 57s\n",
      "754:\tlearn: 1676.7044030\ttotal: 12m 10s\tremaining: 3m 56s\n",
      "755:\tlearn: 1676.6219916\ttotal: 12m 11s\tremaining: 3m 56s\n",
      "756:\tlearn: 1676.4517850\ttotal: 12m 12s\tremaining: 3m 55s\n",
      "757:\tlearn: 1676.4121384\ttotal: 12m 13s\tremaining: 3m 54s\n",
      "758:\tlearn: 1676.2434745\ttotal: 12m 14s\tremaining: 3m 53s\n",
      "759:\tlearn: 1675.9477304\ttotal: 12m 15s\tremaining: 3m 52s\n",
      "760:\tlearn: 1675.7480941\ttotal: 12m 16s\tremaining: 3m 51s\n",
      "761:\tlearn: 1675.4601989\ttotal: 12m 17s\tremaining: 3m 50s\n",
      "762:\tlearn: 1675.4332106\ttotal: 12m 18s\tremaining: 3m 49s\n",
      "763:\tlearn: 1675.3436527\ttotal: 12m 19s\tremaining: 3m 48s\n",
      "764:\tlearn: 1675.1424772\ttotal: 12m 20s\tremaining: 3m 47s\n",
      "765:\tlearn: 1675.0621806\ttotal: 12m 21s\tremaining: 3m 46s\n",
      "766:\tlearn: 1674.8242069\ttotal: 12m 22s\tremaining: 3m 45s\n",
      "767:\tlearn: 1674.7513582\ttotal: 12m 23s\tremaining: 3m 44s\n",
      "768:\tlearn: 1674.6962927\ttotal: 12m 24s\tremaining: 3m 43s\n",
      "769:\tlearn: 1674.5185492\ttotal: 12m 25s\tremaining: 3m 42s\n",
      "770:\tlearn: 1674.4226007\ttotal: 12m 26s\tremaining: 3m 41s\n",
      "771:\tlearn: 1674.1233569\ttotal: 12m 27s\tremaining: 3m 40s\n",
      "772:\tlearn: 1673.9202792\ttotal: 12m 28s\tremaining: 3m 39s\n",
      "773:\tlearn: 1673.6049963\ttotal: 12m 29s\tremaining: 3m 38s\n",
      "774:\tlearn: 1673.5357377\ttotal: 12m 30s\tremaining: 3m 37s\n",
      "775:\tlearn: 1673.2454761\ttotal: 12m 31s\tremaining: 3m 37s\n",
      "776:\tlearn: 1672.8457068\ttotal: 12m 32s\tremaining: 3m 36s\n",
      "777:\tlearn: 1672.7616659\ttotal: 12m 33s\tremaining: 3m 35s\n",
      "778:\tlearn: 1672.7607642\ttotal: 12m 34s\tremaining: 3m 33s\n",
      "779:\tlearn: 1672.5492487\ttotal: 12m 35s\tremaining: 3m 33s\n",
      "780:\tlearn: 1672.4598484\ttotal: 12m 36s\tremaining: 3m 32s\n",
      "781:\tlearn: 1672.2484515\ttotal: 12m 37s\tremaining: 3m 31s\n",
      "782:\tlearn: 1672.2422689\ttotal: 12m 38s\tremaining: 3m 30s\n",
      "783:\tlearn: 1672.0363850\ttotal: 12m 39s\tremaining: 3m 29s\n",
      "784:\tlearn: 1671.8398646\ttotal: 12m 39s\tremaining: 3m 28s\n",
      "785:\tlearn: 1671.6414776\ttotal: 12m 40s\tremaining: 3m 27s\n",
      "786:\tlearn: 1671.5055103\ttotal: 12m 41s\tremaining: 3m 26s\n",
      "787:\tlearn: 1671.3714634\ttotal: 12m 42s\tremaining: 3m 25s\n",
      "788:\tlearn: 1671.1463991\ttotal: 12m 43s\tremaining: 3m 24s\n",
      "789:\tlearn: 1671.0830892\ttotal: 12m 44s\tremaining: 3m 23s\n",
      "790:\tlearn: 1671.0074093\ttotal: 12m 45s\tremaining: 3m 22s\n",
      "791:\tlearn: 1670.8584456\ttotal: 12m 46s\tremaining: 3m 21s\n",
      "792:\tlearn: 1670.6693930\ttotal: 12m 47s\tremaining: 3m 20s\n",
      "793:\tlearn: 1670.5983224\ttotal: 12m 48s\tremaining: 3m 19s\n",
      "794:\tlearn: 1670.3541504\ttotal: 12m 49s\tremaining: 3m 18s\n",
      "795:\tlearn: 1670.1441869\ttotal: 12m 50s\tremaining: 3m 17s\n",
      "796:\tlearn: 1670.0116080\ttotal: 12m 51s\tremaining: 3m 16s\n",
      "797:\tlearn: 1669.8993601\ttotal: 12m 52s\tremaining: 3m 15s\n",
      "798:\tlearn: 1669.7552611\ttotal: 12m 53s\tremaining: 3m 14s\n",
      "799:\tlearn: 1669.6491139\ttotal: 12m 54s\tremaining: 3m 13s\n",
      "800:\tlearn: 1669.5912931\ttotal: 12m 55s\tremaining: 3m 12s\n",
      "801:\tlearn: 1669.5429935\ttotal: 12m 56s\tremaining: 3m 11s\n",
      "802:\tlearn: 1669.4024437\ttotal: 12m 57s\tremaining: 3m 10s\n",
      "803:\tlearn: 1669.2877245\ttotal: 12m 58s\tremaining: 3m 9s\n",
      "804:\tlearn: 1669.2191767\ttotal: 12m 59s\tremaining: 3m 8s\n",
      "805:\tlearn: 1669.1711401\ttotal: 13m\tremaining: 3m 7s\n",
      "806:\tlearn: 1669.0408253\ttotal: 13m 1s\tremaining: 3m 6s\n",
      "807:\tlearn: 1668.9762308\ttotal: 13m 2s\tremaining: 3m 6s\n",
      "808:\tlearn: 1668.8924942\ttotal: 13m 3s\tremaining: 3m 5s\n",
      "809:\tlearn: 1668.8462795\ttotal: 13m 4s\tremaining: 3m 4s\n",
      "810:\tlearn: 1668.5224215\ttotal: 13m 5s\tremaining: 3m 3s\n",
      "811:\tlearn: 1668.4668244\ttotal: 13m 6s\tremaining: 3m 2s\n",
      "812:\tlearn: 1668.2113999\ttotal: 13m 7s\tremaining: 3m 1s\n",
      "813:\tlearn: 1668.0767515\ttotal: 13m 8s\tremaining: 3m\n",
      "814:\tlearn: 1668.0481067\ttotal: 13m 9s\tremaining: 2m 59s\n",
      "815:\tlearn: 1667.9897927\ttotal: 13m 10s\tremaining: 2m 58s\n",
      "816:\tlearn: 1667.9633101\ttotal: 13m 11s\tremaining: 2m 57s\n",
      "817:\tlearn: 1667.7889781\ttotal: 13m 12s\tremaining: 2m 56s\n",
      "818:\tlearn: 1667.5436269\ttotal: 13m 13s\tremaining: 2m 55s\n",
      "819:\tlearn: 1667.4452371\ttotal: 13m 14s\tremaining: 2m 54s\n",
      "820:\tlearn: 1667.1850338\ttotal: 13m 15s\tremaining: 2m 53s\n",
      "821:\tlearn: 1667.0293198\ttotal: 13m 16s\tremaining: 2m 52s\n",
      "822:\tlearn: 1666.8519655\ttotal: 13m 17s\tremaining: 2m 51s\n",
      "823:\tlearn: 1666.6555131\ttotal: 13m 18s\tremaining: 2m 50s\n",
      "824:\tlearn: 1666.4385639\ttotal: 13m 19s\tremaining: 2m 49s\n",
      "825:\tlearn: 1666.3626869\ttotal: 13m 20s\tremaining: 2m 48s\n",
      "826:\tlearn: 1666.2428594\ttotal: 13m 21s\tremaining: 2m 47s\n",
      "827:\tlearn: 1665.7479187\ttotal: 13m 22s\tremaining: 2m 46s\n",
      "828:\tlearn: 1665.6823734\ttotal: 13m 23s\tremaining: 2m 45s\n",
      "829:\tlearn: 1665.5074895\ttotal: 13m 24s\tremaining: 2m 44s\n",
      "830:\tlearn: 1665.4595308\ttotal: 13m 25s\tremaining: 2m 43s\n",
      "831:\tlearn: 1665.1742625\ttotal: 13m 26s\tremaining: 2m 42s\n",
      "832:\tlearn: 1665.1367550\ttotal: 13m 27s\tremaining: 2m 41s\n",
      "833:\tlearn: 1664.8828951\ttotal: 13m 28s\tremaining: 2m 40s\n",
      "834:\tlearn: 1664.7721563\ttotal: 13m 29s\tremaining: 2m 39s\n",
      "835:\tlearn: 1664.5038104\ttotal: 13m 30s\tremaining: 2m 38s\n",
      "836:\tlearn: 1664.3537865\ttotal: 13m 31s\tremaining: 2m 38s\n",
      "837:\tlearn: 1664.1354021\ttotal: 13m 32s\tremaining: 2m 37s\n",
      "838:\tlearn: 1664.0098095\ttotal: 13m 33s\tremaining: 2m 36s\n",
      "839:\tlearn: 1663.8301529\ttotal: 13m 34s\tremaining: 2m 35s\n",
      "840:\tlearn: 1663.7119929\ttotal: 13m 35s\tremaining: 2m 34s\n",
      "841:\tlearn: 1663.6218342\ttotal: 13m 36s\tremaining: 2m 33s\n",
      "842:\tlearn: 1663.4713672\ttotal: 13m 37s\tremaining: 2m 32s\n",
      "843:\tlearn: 1663.4510435\ttotal: 13m 38s\tremaining: 2m 31s\n",
      "844:\tlearn: 1663.3720533\ttotal: 13m 39s\tremaining: 2m 30s\n",
      "845:\tlearn: 1663.3201899\ttotal: 13m 40s\tremaining: 2m 29s\n",
      "846:\tlearn: 1663.1374189\ttotal: 13m 41s\tremaining: 2m 28s\n",
      "847:\tlearn: 1663.0721313\ttotal: 13m 42s\tremaining: 2m 27s\n",
      "848:\tlearn: 1663.0419942\ttotal: 13m 43s\tremaining: 2m 26s\n",
      "849:\tlearn: 1662.8978036\ttotal: 13m 44s\tremaining: 2m 25s\n",
      "850:\tlearn: 1662.8323991\ttotal: 13m 45s\tremaining: 2m 24s\n",
      "851:\tlearn: 1662.7468929\ttotal: 13m 46s\tremaining: 2m 23s\n",
      "852:\tlearn: 1662.6977229\ttotal: 13m 47s\tremaining: 2m 22s\n",
      "853:\tlearn: 1662.5286181\ttotal: 13m 48s\tremaining: 2m 21s\n",
      "854:\tlearn: 1662.2382385\ttotal: 13m 49s\tremaining: 2m 20s\n",
      "855:\tlearn: 1662.0322363\ttotal: 13m 50s\tremaining: 2m 19s\n",
      "856:\tlearn: 1661.8944518\ttotal: 13m 51s\tremaining: 2m 18s\n",
      "857:\tlearn: 1661.8047586\ttotal: 13m 52s\tremaining: 2m 17s\n",
      "858:\tlearn: 1661.7149956\ttotal: 13m 53s\tremaining: 2m 16s\n",
      "859:\tlearn: 1661.4423927\ttotal: 13m 54s\tremaining: 2m 15s\n",
      "860:\tlearn: 1661.3483901\ttotal: 13m 55s\tremaining: 2m 14s\n",
      "861:\tlearn: 1661.1713826\ttotal: 13m 56s\tremaining: 2m 13s\n",
      "862:\tlearn: 1661.0682055\ttotal: 13m 57s\tremaining: 2m 13s\n",
      "863:\tlearn: 1660.8872544\ttotal: 13m 58s\tremaining: 2m 12s\n",
      "864:\tlearn: 1660.6933064\ttotal: 14m\tremaining: 2m 11s\n",
      "865:\tlearn: 1660.5476841\ttotal: 14m 1s\tremaining: 2m 10s\n",
      "866:\tlearn: 1660.5167682\ttotal: 14m 2s\tremaining: 2m 9s\n",
      "867:\tlearn: 1660.4614559\ttotal: 14m 3s\tremaining: 2m 8s\n",
      "868:\tlearn: 1660.4255115\ttotal: 14m 4s\tremaining: 2m 7s\n",
      "869:\tlearn: 1660.1484203\ttotal: 14m 5s\tremaining: 2m 6s\n",
      "870:\tlearn: 1659.9284327\ttotal: 14m 6s\tremaining: 2m 5s\n",
      "871:\tlearn: 1659.6539225\ttotal: 14m 7s\tremaining: 2m 4s\n",
      "872:\tlearn: 1659.6498726\ttotal: 14m 8s\tremaining: 2m 3s\n",
      "873:\tlearn: 1659.4768214\ttotal: 14m 9s\tremaining: 2m 2s\n",
      "874:\tlearn: 1659.3020258\ttotal: 14m 10s\tremaining: 2m 1s\n",
      "875:\tlearn: 1659.2743517\ttotal: 14m 11s\tremaining: 2m\n",
      "876:\tlearn: 1658.9768750\ttotal: 14m 12s\tremaining: 1m 59s\n",
      "877:\tlearn: 1658.7393132\ttotal: 14m 13s\tremaining: 1m 58s\n",
      "878:\tlearn: 1658.7115356\ttotal: 14m 14s\tremaining: 1m 57s\n",
      "879:\tlearn: 1658.5984576\ttotal: 14m 16s\tremaining: 1m 56s\n",
      "880:\tlearn: 1658.4773006\ttotal: 14m 17s\tremaining: 1m 55s\n",
      "881:\tlearn: 1658.1283598\ttotal: 14m 18s\tremaining: 1m 54s\n",
      "882:\tlearn: 1658.0728841\ttotal: 14m 19s\tremaining: 1m 53s\n",
      "883:\tlearn: 1657.9965298\ttotal: 14m 20s\tremaining: 1m 52s\n",
      "884:\tlearn: 1657.8420947\ttotal: 14m 21s\tremaining: 1m 51s\n",
      "885:\tlearn: 1657.7690137\ttotal: 14m 22s\tremaining: 1m 50s\n",
      "886:\tlearn: 1657.6069224\ttotal: 14m 23s\tremaining: 1m 50s\n",
      "887:\tlearn: 1657.5609918\ttotal: 14m 24s\tremaining: 1m 49s\n",
      "888:\tlearn: 1657.2852005\ttotal: 14m 25s\tremaining: 1m 48s\n",
      "889:\tlearn: 1657.2272700\ttotal: 14m 26s\tremaining: 1m 47s\n",
      "890:\tlearn: 1657.1568845\ttotal: 14m 28s\tremaining: 1m 46s\n",
      "891:\tlearn: 1657.0060780\ttotal: 14m 29s\tremaining: 1m 45s\n",
      "892:\tlearn: 1656.8923298\ttotal: 14m 30s\tremaining: 1m 44s\n",
      "893:\tlearn: 1656.8688260\ttotal: 14m 31s\tremaining: 1m 43s\n",
      "894:\tlearn: 1656.7484096\ttotal: 14m 32s\tremaining: 1m 42s\n",
      "895:\tlearn: 1656.6621981\ttotal: 14m 33s\tremaining: 1m 41s\n",
      "896:\tlearn: 1656.6367326\ttotal: 14m 34s\tremaining: 1m 40s\n",
      "897:\tlearn: 1656.5562393\ttotal: 14m 35s\tremaining: 1m 39s\n",
      "898:\tlearn: 1656.4109050\ttotal: 14m 36s\tremaining: 1m 38s\n",
      "899:\tlearn: 1656.2344123\ttotal: 14m 37s\tremaining: 1m 37s\n",
      "900:\tlearn: 1656.1930210\ttotal: 14m 38s\tremaining: 1m 36s\n",
      "901:\tlearn: 1655.9558261\ttotal: 14m 39s\tremaining: 1m 35s\n",
      "902:\tlearn: 1655.8566209\ttotal: 14m 40s\tremaining: 1m 34s\n",
      "903:\tlearn: 1655.8434656\ttotal: 14m 41s\tremaining: 1m 33s\n",
      "904:\tlearn: 1655.8374405\ttotal: 14m 42s\tremaining: 1m 32s\n",
      "905:\tlearn: 1655.6096513\ttotal: 14m 43s\tremaining: 1m 31s\n",
      "906:\tlearn: 1655.4186897\ttotal: 14m 44s\tremaining: 1m 30s\n",
      "907:\tlearn: 1655.3789347\ttotal: 14m 45s\tremaining: 1m 29s\n",
      "908:\tlearn: 1655.2711995\ttotal: 14m 46s\tremaining: 1m 28s\n",
      "909:\tlearn: 1655.0757491\ttotal: 14m 47s\tremaining: 1m 27s\n",
      "910:\tlearn: 1654.9777035\ttotal: 14m 48s\tremaining: 1m 26s\n",
      "911:\tlearn: 1654.8177695\ttotal: 14m 49s\tremaining: 1m 25s\n",
      "912:\tlearn: 1654.7666693\ttotal: 14m 50s\tremaining: 1m 24s\n",
      "913:\tlearn: 1654.6650448\ttotal: 14m 51s\tremaining: 1m 23s\n",
      "914:\tlearn: 1654.5361508\ttotal: 14m 52s\tremaining: 1m 22s\n",
      "915:\tlearn: 1654.4875740\ttotal: 14m 53s\tremaining: 1m 21s\n",
      "916:\tlearn: 1654.4432439\ttotal: 14m 54s\tremaining: 1m 20s\n",
      "917:\tlearn: 1654.2823613\ttotal: 14m 55s\tremaining: 1m 20s\n",
      "918:\tlearn: 1654.0645873\ttotal: 14m 56s\tremaining: 1m 19s\n",
      "919:\tlearn: 1653.9216669\ttotal: 14m 57s\tremaining: 1m 18s\n",
      "920:\tlearn: 1653.7908829\ttotal: 14m 58s\tremaining: 1m 17s\n",
      "921:\tlearn: 1653.6825327\ttotal: 14m 59s\tremaining: 1m 16s\n",
      "922:\tlearn: 1653.6503747\ttotal: 15m\tremaining: 1m 15s\n",
      "923:\tlearn: 1653.4854047\ttotal: 15m 1s\tremaining: 1m 14s\n",
      "924:\tlearn: 1653.4367475\ttotal: 15m 2s\tremaining: 1m 13s\n",
      "925:\tlearn: 1653.2592034\ttotal: 15m 4s\tremaining: 1m 12s\n",
      "926:\tlearn: 1653.1949571\ttotal: 15m 5s\tremaining: 1m 11s\n",
      "927:\tlearn: 1653.1571146\ttotal: 15m 6s\tremaining: 1m 10s\n",
      "928:\tlearn: 1652.8491295\ttotal: 15m 7s\tremaining: 1m 9s\n",
      "929:\tlearn: 1652.7150307\ttotal: 15m 8s\tremaining: 1m 8s\n",
      "930:\tlearn: 1652.6925405\ttotal: 15m 9s\tremaining: 1m 7s\n",
      "931:\tlearn: 1652.5155608\ttotal: 15m 10s\tremaining: 1m 6s\n",
      "932:\tlearn: 1652.4858316\ttotal: 15m 11s\tremaining: 1m 5s\n",
      "933:\tlearn: 1652.2848612\ttotal: 15m 12s\tremaining: 1m 4s\n",
      "934:\tlearn: 1652.1150339\ttotal: 15m 13s\tremaining: 1m 3s\n",
      "935:\tlearn: 1652.0021360\ttotal: 15m 14s\tremaining: 1m 2s\n",
      "936:\tlearn: 1651.8347970\ttotal: 15m 15s\tremaining: 1m 1s\n",
      "937:\tlearn: 1651.6906013\ttotal: 15m 16s\tremaining: 1m\n",
      "938:\tlearn: 1651.5766137\ttotal: 15m 17s\tremaining: 59.6s\n",
      "939:\tlearn: 1651.4892069\ttotal: 15m 18s\tremaining: 58.7s\n",
      "940:\tlearn: 1651.4555952\ttotal: 15m 20s\tremaining: 57.7s\n",
      "941:\tlearn: 1651.4108813\ttotal: 15m 21s\tremaining: 56.7s\n",
      "942:\tlearn: 1651.1248904\ttotal: 15m 22s\tremaining: 55.8s\n",
      "943:\tlearn: 1650.9490984\ttotal: 15m 23s\tremaining: 54.8s\n",
      "944:\tlearn: 1650.6601029\ttotal: 15m 24s\tremaining: 53.8s\n",
      "945:\tlearn: 1650.5662228\ttotal: 15m 25s\tremaining: 52.8s\n",
      "946:\tlearn: 1650.4379864\ttotal: 15m 26s\tremaining: 51.8s\n",
      "947:\tlearn: 1650.4010269\ttotal: 15m 27s\tremaining: 50.9s\n",
      "948:\tlearn: 1650.2831599\ttotal: 15m 28s\tremaining: 49.9s\n",
      "949:\tlearn: 1650.1694299\ttotal: 15m 29s\tremaining: 48.9s\n",
      "950:\tlearn: 1650.0520199\ttotal: 15m 30s\tremaining: 47.9s\n",
      "951:\tlearn: 1649.9182246\ttotal: 15m 31s\tremaining: 47s\n",
      "952:\tlearn: 1649.8883623\ttotal: 15m 33s\tremaining: 46s\n",
      "953:\tlearn: 1649.7796504\ttotal: 15m 34s\tremaining: 45s\n",
      "954:\tlearn: 1649.6479743\ttotal: 15m 35s\tremaining: 44.1s\n",
      "955:\tlearn: 1649.6159852\ttotal: 15m 36s\tremaining: 43.1s\n",
      "956:\tlearn: 1649.4588779\ttotal: 15m 37s\tremaining: 42.1s\n",
      "957:\tlearn: 1649.3362959\ttotal: 15m 38s\tremaining: 41.1s\n",
      "958:\tlearn: 1649.2445247\ttotal: 15m 39s\tremaining: 40.2s\n",
      "959:\tlearn: 1649.1711924\ttotal: 15m 40s\tremaining: 39.2s\n",
      "960:\tlearn: 1649.1384257\ttotal: 15m 41s\tremaining: 38.2s\n",
      "961:\tlearn: 1649.0202433\ttotal: 15m 42s\tremaining: 37.2s\n",
      "962:\tlearn: 1648.9600132\ttotal: 15m 43s\tremaining: 36.3s\n",
      "963:\tlearn: 1648.8054390\ttotal: 15m 44s\tremaining: 35.3s\n",
      "964:\tlearn: 1648.7132389\ttotal: 15m 45s\tremaining: 34.3s\n",
      "965:\tlearn: 1648.6337605\ttotal: 15m 46s\tremaining: 33.3s\n",
      "966:\tlearn: 1648.4295884\ttotal: 15m 47s\tremaining: 32.3s\n",
      "967:\tlearn: 1648.3572760\ttotal: 15m 49s\tremaining: 31.4s\n",
      "968:\tlearn: 1648.2170119\ttotal: 15m 50s\tremaining: 30.4s\n",
      "969:\tlearn: 1648.0761178\ttotal: 15m 51s\tremaining: 29.4s\n",
      "970:\tlearn: 1647.9737569\ttotal: 15m 52s\tremaining: 28.4s\n",
      "971:\tlearn: 1647.9469698\ttotal: 15m 53s\tremaining: 27.5s\n",
      "972:\tlearn: 1647.8415533\ttotal: 15m 54s\tremaining: 26.5s\n",
      "973:\tlearn: 1647.7338542\ttotal: 15m 55s\tremaining: 25.5s\n",
      "974:\tlearn: 1647.7063478\ttotal: 15m 56s\tremaining: 24.5s\n",
      "975:\tlearn: 1647.6716589\ttotal: 15m 57s\tremaining: 23.6s\n",
      "976:\tlearn: 1647.5775580\ttotal: 15m 58s\tremaining: 22.6s\n",
      "977:\tlearn: 1647.4646645\ttotal: 16m\tremaining: 21.6s\n",
      "978:\tlearn: 1647.4042502\ttotal: 16m 1s\tremaining: 20.6s\n",
      "979:\tlearn: 1647.2543325\ttotal: 16m 1s\tremaining: 19.6s\n",
      "980:\tlearn: 1647.1672272\ttotal: 16m 3s\tremaining: 18.7s\n",
      "981:\tlearn: 1647.1038182\ttotal: 16m 4s\tremaining: 17.7s\n",
      "982:\tlearn: 1647.0156266\ttotal: 16m 5s\tremaining: 16.7s\n",
      "983:\tlearn: 1646.9822396\ttotal: 16m 6s\tremaining: 15.7s\n",
      "984:\tlearn: 1646.9150584\ttotal: 16m 7s\tremaining: 14.7s\n",
      "985:\tlearn: 1646.7916962\ttotal: 16m 8s\tremaining: 13.8s\n",
      "986:\tlearn: 1646.7080351\ttotal: 16m 9s\tremaining: 12.8s\n",
      "987:\tlearn: 1646.5119325\ttotal: 16m 10s\tremaining: 11.8s\n",
      "988:\tlearn: 1646.1373637\ttotal: 16m 11s\tremaining: 10.8s\n",
      "989:\tlearn: 1645.8158030\ttotal: 16m 12s\tremaining: 9.82s\n",
      "990:\tlearn: 1645.6691243\ttotal: 16m 13s\tremaining: 8.84s\n",
      "991:\tlearn: 1645.5615058\ttotal: 16m 14s\tremaining: 7.86s\n",
      "992:\tlearn: 1645.5037544\ttotal: 16m 15s\tremaining: 6.88s\n",
      "993:\tlearn: 1645.3863325\ttotal: 16m 16s\tremaining: 5.89s\n",
      "994:\tlearn: 1645.2879690\ttotal: 16m 17s\tremaining: 4.91s\n",
      "995:\tlearn: 1645.1275698\ttotal: 16m 18s\tremaining: 3.93s\n",
      "996:\tlearn: 1644.9550099\ttotal: 16m 19s\tremaining: 2.95s\n",
      "997:\tlearn: 1644.7520232\ttotal: 16m 20s\tremaining: 1.96s\n",
      "998:\tlearn: 1644.7440568\ttotal: 16m 21s\tremaining: 982ms\n",
      "999:\tlearn: 1644.7093437\ttotal: 16m 22s\tremaining: 0us\n",
      "Время предсказания CatBoost модели: 0.9078600406646729\n",
      "---------------------------------------------------------------\n",
      "RMSE модели линейной регрессии: 3042.3465481155413\n",
      "RMSE модели решающего дерева: 2024.0371336424485\n",
      "RMSE модели случайного леса: 1951.0393857321444\n",
      "[LightGBM] [Warning] Unknown parameter: verbose_eval\n",
      "RMSE LightGBM  модели: 1815.1686874135037\n",
      "0:\tlearn: 4255.2155102\ttotal: 952ms\tremaining: 15m 51s\n",
      "1:\tlearn: 3961.4221679\ttotal: 1.86s\tremaining: 15m 30s\n",
      "2:\tlearn: 3709.6727970\ttotal: 2.81s\tremaining: 15m 32s\n",
      "3:\tlearn: 3486.2815298\ttotal: 4.01s\tremaining: 16m 38s\n",
      "4:\tlearn: 3287.5754822\ttotal: 5.12s\tremaining: 16m 58s\n",
      "5:\tlearn: 3112.2288106\ttotal: 6.13s\tremaining: 16m 55s\n",
      "6:\tlearn: 2959.3458303\ttotal: 7.42s\tremaining: 17m 32s\n",
      "7:\tlearn: 2826.4455043\ttotal: 8.5s\tremaining: 17m 33s\n",
      "8:\tlearn: 2708.4166225\ttotal: 9.57s\tremaining: 17m 33s\n",
      "9:\tlearn: 2606.6591979\ttotal: 10.6s\tremaining: 17m 27s\n",
      "10:\tlearn: 2521.2963194\ttotal: 11.6s\tremaining: 17m 25s\n",
      "11:\tlearn: 2446.0474199\ttotal: 12.6s\tremaining: 17m 21s\n",
      "12:\tlearn: 2383.1898973\ttotal: 13.6s\tremaining: 17m 14s\n",
      "13:\tlearn: 2327.1657720\ttotal: 14.7s\tremaining: 17m 17s\n",
      "14:\tlearn: 2280.8455020\ttotal: 15.7s\tremaining: 17m 11s\n",
      "15:\tlearn: 2240.7742585\ttotal: 16.6s\tremaining: 17m 2s\n",
      "16:\tlearn: 2206.2077583\ttotal: 17.6s\tremaining: 16m 57s\n",
      "17:\tlearn: 2175.1302325\ttotal: 18.5s\tremaining: 16m 49s\n",
      "18:\tlearn: 2149.5833304\ttotal: 19.5s\tremaining: 16m 45s\n",
      "19:\tlearn: 2126.4453508\ttotal: 20.4s\tremaining: 16m 37s\n",
      "20:\tlearn: 2107.2331551\ttotal: 21.3s\tremaining: 16m 33s\n",
      "21:\tlearn: 2090.3154158\ttotal: 22.3s\tremaining: 16m 30s\n",
      "22:\tlearn: 2076.0079720\ttotal: 23.2s\tremaining: 16m 24s\n",
      "23:\tlearn: 2063.6373241\ttotal: 24.1s\tremaining: 16m 21s\n",
      "24:\tlearn: 2052.1916863\ttotal: 25.1s\tremaining: 16m 17s\n",
      "25:\tlearn: 2042.7248897\ttotal: 26.1s\tremaining: 16m 18s\n",
      "26:\tlearn: 2034.3765079\ttotal: 27s\tremaining: 16m 13s\n",
      "27:\tlearn: 2026.0056231\ttotal: 27.9s\tremaining: 16m 7s\n",
      "28:\tlearn: 2018.9389612\ttotal: 28.8s\tremaining: 16m 3s\n",
      "29:\tlearn: 2012.5726173\ttotal: 29.7s\tremaining: 15m 59s\n",
      "30:\tlearn: 2007.2620248\ttotal: 30.6s\tremaining: 15m 56s\n",
      "31:\tlearn: 2001.2529505\ttotal: 31.6s\tremaining: 15m 56s\n",
      "32:\tlearn: 1996.5357190\ttotal: 32.5s\tremaining: 15m 51s\n",
      "33:\tlearn: 1991.3629891\ttotal: 33.5s\tremaining: 15m 50s\n",
      "34:\tlearn: 1987.4947363\ttotal: 34.5s\tremaining: 15m 50s\n",
      "35:\tlearn: 1983.5451507\ttotal: 35.4s\tremaining: 15m 47s\n",
      "36:\tlearn: 1980.0577763\ttotal: 36.4s\tremaining: 15m 46s\n",
      "37:\tlearn: 1977.1097423\ttotal: 37.2s\tremaining: 15m 42s\n",
      "38:\tlearn: 1974.3547380\ttotal: 38.3s\tremaining: 15m 42s\n",
      "39:\tlearn: 1970.5248569\ttotal: 39.3s\tremaining: 15m 42s\n",
      "40:\tlearn: 1967.6904864\ttotal: 40.3s\tremaining: 15m 43s\n",
      "41:\tlearn: 1965.5392420\ttotal: 41.4s\tremaining: 15m 43s\n",
      "42:\tlearn: 1963.7336690\ttotal: 42.3s\tremaining: 15m 42s\n",
      "43:\tlearn: 1961.3929852\ttotal: 43.3s\tremaining: 15m 39s\n",
      "44:\tlearn: 1959.5608101\ttotal: 44.5s\tremaining: 15m 44s\n",
      "45:\tlearn: 1956.8296080\ttotal: 45.6s\tremaining: 15m 45s\n",
      "46:\tlearn: 1954.2926042\ttotal: 46.5s\tremaining: 15m 43s\n",
      "47:\tlearn: 1952.4178597\ttotal: 47.5s\tremaining: 15m 41s\n",
      "48:\tlearn: 1951.1570394\ttotal: 48.4s\tremaining: 15m 39s\n",
      "49:\tlearn: 1949.2100699\ttotal: 49.3s\tremaining: 15m 36s\n",
      "50:\tlearn: 1947.9081282\ttotal: 50.1s\tremaining: 15m 31s\n",
      "51:\tlearn: 1946.4894994\ttotal: 51s\tremaining: 15m 29s\n",
      "52:\tlearn: 1945.0411447\ttotal: 51.8s\tremaining: 15m 26s\n",
      "53:\tlearn: 1943.9939949\ttotal: 52.7s\tremaining: 15m 23s\n",
      "54:\tlearn: 1942.9974274\ttotal: 53.6s\tremaining: 15m 21s\n",
      "55:\tlearn: 1941.5200891\ttotal: 54.8s\tremaining: 15m 23s\n",
      "56:\tlearn: 1939.1608388\ttotal: 55.8s\tremaining: 15m 23s\n",
      "57:\tlearn: 1938.5051004\ttotal: 56.9s\tremaining: 15m 23s\n",
      "58:\tlearn: 1937.0974131\ttotal: 57.9s\tremaining: 15m 24s\n",
      "59:\tlearn: 1935.0717963\ttotal: 58.9s\tremaining: 15m 23s\n",
      "60:\tlearn: 1934.1276649\ttotal: 59.9s\tremaining: 15m 22s\n",
      "61:\tlearn: 1932.1590142\ttotal: 1m\tremaining: 15m 20s\n",
      "62:\tlearn: 1930.3831483\ttotal: 1m 1s\tremaining: 15m 20s\n",
      "63:\tlearn: 1929.0526931\ttotal: 1m 2s\tremaining: 15m 16s\n",
      "64:\tlearn: 1927.5249077\ttotal: 1m 3s\tremaining: 15m 15s\n",
      "65:\tlearn: 1926.4392896\ttotal: 1m 4s\tremaining: 15m 14s\n",
      "66:\tlearn: 1925.0457870\ttotal: 1m 5s\tremaining: 15m 13s\n",
      "67:\tlearn: 1924.4995848\ttotal: 1m 6s\tremaining: 15m 12s\n",
      "68:\tlearn: 1923.9565251\ttotal: 1m 7s\tremaining: 15m 13s\n",
      "69:\tlearn: 1922.9912433\ttotal: 1m 8s\tremaining: 15m 12s\n",
      "70:\tlearn: 1921.2908301\ttotal: 1m 9s\tremaining: 15m 11s\n",
      "71:\tlearn: 1919.4782717\ttotal: 1m 10s\tremaining: 15m 9s\n",
      "72:\tlearn: 1917.9309399\ttotal: 1m 11s\tremaining: 15m 7s\n",
      "73:\tlearn: 1916.4879853\ttotal: 1m 12s\tremaining: 15m 7s\n",
      "74:\tlearn: 1914.5865772\ttotal: 1m 13s\tremaining: 15m 6s\n",
      "75:\tlearn: 1913.4300465\ttotal: 1m 14s\tremaining: 15m 5s\n",
      "76:\tlearn: 1912.2456510\ttotal: 1m 15s\tremaining: 15m 4s\n",
      "77:\tlearn: 1911.0964533\ttotal: 1m 16s\tremaining: 15m 6s\n",
      "78:\tlearn: 1910.3769542\ttotal: 1m 18s\tremaining: 15m 10s\n",
      "79:\tlearn: 1909.2551587\ttotal: 1m 19s\tremaining: 15m 12s\n",
      "80:\tlearn: 1908.5576816\ttotal: 1m 20s\tremaining: 15m 12s\n",
      "81:\tlearn: 1907.9749584\ttotal: 1m 21s\tremaining: 15m 14s\n",
      "82:\tlearn: 1907.5121114\ttotal: 1m 22s\tremaining: 15m 13s\n",
      "83:\tlearn: 1906.7687306\ttotal: 1m 23s\tremaining: 15m 14s\n",
      "84:\tlearn: 1906.1018194\ttotal: 1m 24s\tremaining: 15m 13s\n",
      "85:\tlearn: 1904.9798356\ttotal: 1m 26s\tremaining: 15m 15s\n",
      "86:\tlearn: 1903.8503738\ttotal: 1m 27s\tremaining: 15m 16s\n",
      "87:\tlearn: 1903.0195821\ttotal: 1m 28s\tremaining: 15m 15s\n",
      "88:\tlearn: 1901.7945609\ttotal: 1m 29s\tremaining: 15m 14s\n",
      "89:\tlearn: 1900.6592576\ttotal: 1m 30s\tremaining: 15m 12s\n",
      "90:\tlearn: 1899.7494458\ttotal: 1m 31s\tremaining: 15m 13s\n"
     ]
    },
    {
     "ename": "KeyboardInterrupt",
     "evalue": "",
     "output_type": "error",
     "traceback": [
      "\u001b[0;31m---------------------------------------------------------------------------\u001b[0m",
      "\u001b[0;31mKeyboardInterrupt\u001b[0m                         Traceback (most recent call last)",
      "\u001b[0;32m/tmp/ipykernel_36/1515656839.py\u001b[0m in \u001b[0;36m<module>\u001b[0;34m\u001b[0m\n\u001b[1;32m     15\u001b[0m \u001b[0mprint\u001b[0m\u001b[0;34m(\u001b[0m\u001b[0;34m'RMSE модели случайного леса:'\u001b[0m\u001b[0;34m,\u001b[0m \u001b[0mRMSE\u001b[0m\u001b[0;34m(\u001b[0m\u001b[0mbest_RFR\u001b[0m\u001b[0;34m,\u001b[0m \u001b[0mfeatures_train_sc\u001b[0m\u001b[0;34m,\u001b[0m \u001b[0mfeatures_test_sc\u001b[0m\u001b[0;34m)\u001b[0m\u001b[0;34m)\u001b[0m\u001b[0;34m\u001b[0m\u001b[0;34m\u001b[0m\u001b[0m\n\u001b[1;32m     16\u001b[0m \u001b[0mprint\u001b[0m\u001b[0;34m(\u001b[0m\u001b[0;34m'RMSE LightGBM  модели:'\u001b[0m\u001b[0;34m,\u001b[0m \u001b[0mRMSE\u001b[0m\u001b[0;34m(\u001b[0m\u001b[0mbest_LGBMR\u001b[0m\u001b[0;34m,\u001b[0m \u001b[0mfeatures_train_sc\u001b[0m\u001b[0;34m,\u001b[0m \u001b[0mfeatures_test_sc\u001b[0m\u001b[0;34m)\u001b[0m\u001b[0;34m)\u001b[0m\u001b[0;34m\u001b[0m\u001b[0;34m\u001b[0m\u001b[0m\n\u001b[0;32m---> 17\u001b[0;31m \u001b[0mprint\u001b[0m\u001b[0;34m(\u001b[0m\u001b[0;34m'RMSE CatBoost модели:'\u001b[0m\u001b[0;34m,\u001b[0m \u001b[0mRMSE\u001b[0m\u001b[0;34m(\u001b[0m\u001b[0mbest_CBR\u001b[0m\u001b[0;34m,\u001b[0m \u001b[0mfeatures_train\u001b[0m\u001b[0;34m,\u001b[0m \u001b[0mfeatures_test\u001b[0m\u001b[0;34m)\u001b[0m\u001b[0;34m)\u001b[0m\u001b[0;34m\u001b[0m\u001b[0;34m\u001b[0m\u001b[0m\n\u001b[0m",
      "\u001b[0;32m/tmp/ipykernel_36/2074418935.py\u001b[0m in \u001b[0;36mRMSE\u001b[0;34m(model, train_features, test_features)\u001b[0m\n\u001b[1;32m      1\u001b[0m \u001b[0;31m# Создадим функцию для вычисления RMSE\u001b[0m\u001b[0;34m\u001b[0m\u001b[0;34m\u001b[0m\u001b[0;34m\u001b[0m\u001b[0m\n\u001b[1;32m      2\u001b[0m \u001b[0;32mdef\u001b[0m \u001b[0mRMSE\u001b[0m\u001b[0;34m(\u001b[0m\u001b[0mmodel\u001b[0m\u001b[0;34m,\u001b[0m \u001b[0mtrain_features\u001b[0m\u001b[0;34m,\u001b[0m \u001b[0mtest_features\u001b[0m\u001b[0;34m)\u001b[0m\u001b[0;34m:\u001b[0m\u001b[0;34m\u001b[0m\u001b[0;34m\u001b[0m\u001b[0m\n\u001b[0;32m----> 3\u001b[0;31m     \u001b[0mmodel\u001b[0m\u001b[0;34m.\u001b[0m\u001b[0mfit\u001b[0m\u001b[0;34m(\u001b[0m\u001b[0mtrain_features\u001b[0m\u001b[0;34m,\u001b[0m \u001b[0mtarget_train\u001b[0m\u001b[0;34m)\u001b[0m\u001b[0;34m\u001b[0m\u001b[0;34m\u001b[0m\u001b[0m\n\u001b[0m\u001b[1;32m      4\u001b[0m     \u001b[0mpredictions\u001b[0m \u001b[0;34m=\u001b[0m \u001b[0mmodel\u001b[0m\u001b[0;34m.\u001b[0m\u001b[0mpredict\u001b[0m\u001b[0;34m(\u001b[0m\u001b[0mtest_features\u001b[0m\u001b[0;34m)\u001b[0m\u001b[0;34m\u001b[0m\u001b[0;34m\u001b[0m\u001b[0m\n\u001b[1;32m      5\u001b[0m     \u001b[0mRMSE\u001b[0m \u001b[0;34m=\u001b[0m\u001b[0;34m(\u001b[0m\u001b[0mmean_squared_error\u001b[0m\u001b[0;34m(\u001b[0m\u001b[0mtarget_test\u001b[0m\u001b[0;34m,\u001b[0m \u001b[0mpredictions\u001b[0m\u001b[0;34m)\u001b[0m\u001b[0;34m)\u001b[0m\u001b[0;34m**\u001b[0m\u001b[0;36m0.5\u001b[0m\u001b[0;34m\u001b[0m\u001b[0;34m\u001b[0m\u001b[0m\n",
      "\u001b[0;32m/opt/conda/lib/python3.9/site-packages/catboost/core.py\u001b[0m in \u001b[0;36mfit\u001b[0;34m(self, X, y, cat_features, sample_weight, baseline, use_best_model, eval_set, verbose, logging_level, plot, column_description, verbose_eval, metric_period, silent, early_stopping_rounds, save_snapshot, snapshot_file, snapshot_interval, init_model, callbacks, log_cout, log_cerr)\u001b[0m\n\u001b[1;32m   5297\u001b[0m             \u001b[0mCatBoostRegressor\u001b[0m\u001b[0;34m.\u001b[0m\u001b[0m_check_is_compatible_loss\u001b[0m\u001b[0;34m(\u001b[0m\u001b[0mparams\u001b[0m\u001b[0;34m[\u001b[0m\u001b[0;34m'loss_function'\u001b[0m\u001b[0;34m]\u001b[0m\u001b[0;34m)\u001b[0m\u001b[0;34m\u001b[0m\u001b[0;34m\u001b[0m\u001b[0m\n\u001b[1;32m   5298\u001b[0m \u001b[0;34m\u001b[0m\u001b[0m\n\u001b[0;32m-> 5299\u001b[0;31m         return self._fit(X, y, cat_features, None, None, None, sample_weight, None, None, None, None, baseline,\n\u001b[0m\u001b[1;32m   5300\u001b[0m                          \u001b[0muse_best_model\u001b[0m\u001b[0;34m,\u001b[0m \u001b[0meval_set\u001b[0m\u001b[0;34m,\u001b[0m \u001b[0mverbose\u001b[0m\u001b[0;34m,\u001b[0m \u001b[0mlogging_level\u001b[0m\u001b[0;34m,\u001b[0m \u001b[0mplot\u001b[0m\u001b[0;34m,\u001b[0m \u001b[0mcolumn_description\u001b[0m\u001b[0;34m,\u001b[0m\u001b[0;34m\u001b[0m\u001b[0;34m\u001b[0m\u001b[0m\n\u001b[1;32m   5301\u001b[0m                          \u001b[0mverbose_eval\u001b[0m\u001b[0;34m,\u001b[0m \u001b[0mmetric_period\u001b[0m\u001b[0;34m,\u001b[0m \u001b[0msilent\u001b[0m\u001b[0;34m,\u001b[0m \u001b[0mearly_stopping_rounds\u001b[0m\u001b[0;34m,\u001b[0m\u001b[0;34m\u001b[0m\u001b[0;34m\u001b[0m\u001b[0m\n",
      "\u001b[0;32m/opt/conda/lib/python3.9/site-packages/catboost/core.py\u001b[0m in \u001b[0;36m_fit\u001b[0;34m(self, X, y, cat_features, text_features, embedding_features, pairs, sample_weight, group_id, group_weight, subgroup_id, pairs_weight, baseline, use_best_model, eval_set, verbose, logging_level, plot, column_description, verbose_eval, metric_period, silent, early_stopping_rounds, save_snapshot, snapshot_file, snapshot_interval, init_model, callbacks, log_cout, log_cerr)\u001b[0m\n\u001b[1;32m   2035\u001b[0m         \u001b[0;32mwith\u001b[0m \u001b[0mlog_fixup\u001b[0m\u001b[0;34m(\u001b[0m\u001b[0mlog_cout\u001b[0m\u001b[0;34m,\u001b[0m \u001b[0mlog_cerr\u001b[0m\u001b[0;34m)\u001b[0m\u001b[0;34m,\u001b[0m\u001b[0;31m \u001b[0m\u001b[0;31m\\\u001b[0m\u001b[0;34m\u001b[0m\u001b[0;34m\u001b[0m\u001b[0m\n\u001b[1;32m   2036\u001b[0m             \u001b[0mplot_wrapper\u001b[0m\u001b[0;34m(\u001b[0m\u001b[0mplot\u001b[0m\u001b[0;34m,\u001b[0m \u001b[0;34m[\u001b[0m\u001b[0m_get_train_dir\u001b[0m\u001b[0;34m(\u001b[0m\u001b[0mself\u001b[0m\u001b[0;34m.\u001b[0m\u001b[0mget_params\u001b[0m\u001b[0;34m(\u001b[0m\u001b[0;34m)\u001b[0m\u001b[0;34m)\u001b[0m\u001b[0;34m]\u001b[0m\u001b[0;34m)\u001b[0m\u001b[0;34m:\u001b[0m\u001b[0;34m\u001b[0m\u001b[0;34m\u001b[0m\u001b[0m\n\u001b[0;32m-> 2037\u001b[0;31m             self._train(\n\u001b[0m\u001b[1;32m   2038\u001b[0m                 \u001b[0mtrain_pool\u001b[0m\u001b[0;34m,\u001b[0m\u001b[0;34m\u001b[0m\u001b[0;34m\u001b[0m\u001b[0m\n\u001b[1;32m   2039\u001b[0m                 \u001b[0mtrain_params\u001b[0m\u001b[0;34m[\u001b[0m\u001b[0;34m\"eval_sets\"\u001b[0m\u001b[0;34m]\u001b[0m\u001b[0;34m,\u001b[0m\u001b[0;34m\u001b[0m\u001b[0;34m\u001b[0m\u001b[0m\n",
      "\u001b[0;32m/opt/conda/lib/python3.9/site-packages/catboost/core.py\u001b[0m in \u001b[0;36m_train\u001b[0;34m(self, train_pool, test_pool, params, allow_clear_pool, init_model)\u001b[0m\n\u001b[1;32m   1462\u001b[0m \u001b[0;34m\u001b[0m\u001b[0m\n\u001b[1;32m   1463\u001b[0m     \u001b[0;32mdef\u001b[0m \u001b[0m_train\u001b[0m\u001b[0;34m(\u001b[0m\u001b[0mself\u001b[0m\u001b[0;34m,\u001b[0m \u001b[0mtrain_pool\u001b[0m\u001b[0;34m,\u001b[0m \u001b[0mtest_pool\u001b[0m\u001b[0;34m,\u001b[0m \u001b[0mparams\u001b[0m\u001b[0;34m,\u001b[0m \u001b[0mallow_clear_pool\u001b[0m\u001b[0;34m,\u001b[0m \u001b[0minit_model\u001b[0m\u001b[0;34m)\u001b[0m\u001b[0;34m:\u001b[0m\u001b[0;34m\u001b[0m\u001b[0;34m\u001b[0m\u001b[0m\n\u001b[0;32m-> 1464\u001b[0;31m         \u001b[0mself\u001b[0m\u001b[0;34m.\u001b[0m\u001b[0m_object\u001b[0m\u001b[0;34m.\u001b[0m\u001b[0m_train\u001b[0m\u001b[0;34m(\u001b[0m\u001b[0mtrain_pool\u001b[0m\u001b[0;34m,\u001b[0m \u001b[0mtest_pool\u001b[0m\u001b[0;34m,\u001b[0m \u001b[0mparams\u001b[0m\u001b[0;34m,\u001b[0m \u001b[0mallow_clear_pool\u001b[0m\u001b[0;34m,\u001b[0m \u001b[0minit_model\u001b[0m\u001b[0;34m.\u001b[0m\u001b[0m_object\u001b[0m \u001b[0;32mif\u001b[0m \u001b[0minit_model\u001b[0m \u001b[0;32melse\u001b[0m \u001b[0;32mNone\u001b[0m\u001b[0;34m)\u001b[0m\u001b[0;34m\u001b[0m\u001b[0;34m\u001b[0m\u001b[0m\n\u001b[0m\u001b[1;32m   1465\u001b[0m         \u001b[0mself\u001b[0m\u001b[0;34m.\u001b[0m\u001b[0m_set_trained_model_attributes\u001b[0m\u001b[0;34m(\u001b[0m\u001b[0;34m)\u001b[0m\u001b[0;34m\u001b[0m\u001b[0;34m\u001b[0m\u001b[0m\n\u001b[1;32m   1466\u001b[0m \u001b[0;34m\u001b[0m\u001b[0m\n",
      "\u001b[0;32m_catboost.pyx\u001b[0m in \u001b[0;36m_catboost._CatBoost._train\u001b[0;34m()\u001b[0m\n",
      "\u001b[0;32m_catboost.pyx\u001b[0m in \u001b[0;36m_catboost._CatBoost._train\u001b[0;34m()\u001b[0m\n",
      "\u001b[0;31mKeyboardInterrupt\u001b[0m: "
     ]
    }
   ],
   "source": [
    "print('Время обучения модели линейной регрессии:', learn_time(LR, features_train_sc))\n",
    "print('Время обучения модели решающего дерева:', learn_time(best_DTR, features_train_sc))\n",
    "print('Время обучения модели случайного леса:', learn_time(best_RFR, features_train_sc))\n",
    "print('Время обучения LightGBM  модели:', learn_time(best_LGBMR, features_train_sc))\n",
    "print('Время обучения CatBoost модели:', learn_time(best_CBR, features_train))\n",
    "print('---------------------------------------------------------------')\n",
    "print('Время предсказания модели линейной регрессии:', predict_time(LR, features_train_sc, features_test_sc))\n",
    "print('Время предсказания модели решающего дерева:', predict_time(best_DTR, features_train_sc, features_test_sc))\n",
    "print('Время предсказания модели случайного леса:', predict_time(best_RFR, features_train_sc, features_test_sc))\n",
    "print('Время предсказания LightGBM  модели:', predict_time(best_LGBMR, features_train_sc, features_test_sc))\n",
    "print('Время предсказания CatBoost модели:', predict_time(best_CBR, features_train, features_test))\n",
    "print('---------------------------------------------------------------')\n",
    "print('RMSE модели линейной регрессии:', RMSE(LR, features_train_sc, features_test_sc))\n",
    "print('RMSE модели решающего дерева:', RMSE(best_DTR, features_train_sc, features_test_sc))\n",
    "print('RMSE модели случайного леса:', RMSE(best_RFR, features_train_sc, features_test_sc))\n",
    "print('RMSE LightGBM  модели:', RMSE(best_LGBMR, features_train_sc, features_test_sc))\n",
    "print('RMSE CatBoost модели:', RMSE(best_CBR, features_train, features_test))"
   ]
  },
  {
   "cell_type": "markdown",
   "metadata": {},
   "source": [
    "**Вывод**\n",
    "\n",
    "В процессе исследования были обучены 5 моделей: линейной регрессии, решающего дерева, случайного леса и две модели градиентного бустинга. Исследование показало, что чем дольше модель обучает и предсказывает, тем выше ее качество. По времени обучения и предсказания модели можно расположить в следующем порядке, начиная с самой быстрой модели:\n",
    "1. Модель линейной регрессии.\n",
    "2. Модель решающего дерева.\n",
    "3. Модель случайного леса.\n",
    "4. LightGBM  модель.\n",
    "5. CatBoost модель.\n",
    "\n",
    "По качеству они располагаются в обратном порядке, начиная с CatBoost модели. Взяв в расчет все измерения, для предсказания стоимости автомобилей лучше всего использовать модель решающего дерева. Данная модель гораздо быстрее остальных, кроме линейной регрессии. К тому же по качеству она несильно уступает модели случайного леса."
   ]
  },
  {
   "cell_type": "markdown",
   "metadata": {},
   "source": [
    "<div class=\"alert alert-success\">\n",
    "✔️❌ Модель не выбрана для проекта в итоге. То есть та, которая по критериям лучшая и которую можно предложить использовать в этой задачи. Возможно предложена, возможно вывод сформулирован не совсем ясно. Напиши, пожалуйста, какую модель выдвигаешь в призеры и почему:)"
   ]
  },
  {
   "cell_type": "markdown",
   "metadata": {},
   "source": [
    "<div class=\"alert alert-info\"> <b>Комментарий студента:</b> Сделаю после того, как разберусь с CatBoosting.\n",
    "</div>"
   ]
  },
  {
   "cell_type": "markdown",
   "metadata": {},
   "source": [
    "<div class=\"alert alert-info\"> <b>Комментарий студента:</b> Выбрал итоговую модель.\n",
    "</div>"
   ]
  },
  {
   "cell_type": "markdown",
   "metadata": {},
   "source": [
    "<div class=\"alert alert-success\">\n",
    "    <b>Комментарий ревьюера v3</b>    <br>\n",
    "✔️ Да, все логично и понятно👍 "
   ]
  },
  {
   "cell_type": "markdown",
   "metadata": {},
   "source": [
    "## Чек-лист проверки"
   ]
  },
  {
   "cell_type": "markdown",
   "metadata": {},
   "source": [
    "<div class=\"alert alert-warning\"> \n",
    "⚠️ Не хватает итогового вывода по всей работе. Это достаточно важный этап в работе. В итоговом выводе мы описываем основные действия в работе и итоги. Поэтому не забывай уделять им особое внимание в последующих проектах. Так же в целом можно развиваться в направлении выводов например по метрикам, именно как расшифровка значения результата, работе модели, по признакам и зависимостям и тд"
   ]
  },
  {
   "cell_type": "markdown",
   "metadata": {},
   "source": [
    "<div class=\"alert alert-success\">\n",
    "✔️ Работа хороша! Рассуждения и решения верные, очень логичные и осмысленные. Ты показываешь хорошее владение всем изучаемым в модуле материалом. Уверенно пользуешься pandas, пишешь хорошие функции, работаешь с моделями и метриками с пониманием. Делаешь четкие обоснованные выводы. Работа аккуратная и комментарии по ходу работы всегда очень уместны!   <br>    <br>\n",
    "    Осталось исправить всего несколько пунктов:    <br>\n",
    "    1. Разбивка данных на три выборки или обосновать почему тут можно не разбивать;    <br>\n",
    "    2. Категориальные признаки добавить в CatBoostRegressor;    <br>\n",
    "    3. Выбрать итоговую модель    <br>    <br>\n",
    "    \n",
    "Жду твоих исправлений :)      <br>"
   ]
  },
  {
   "cell_type": "markdown",
   "metadata": {},
   "source": [
    "<div class=\"alert alert-success\">\n",
    "<b>Комментарий ревьюера v3</b>    <br>\n",
    "Отлично поработали, спасибо тебе за это! Получилась суперская работа! Желаю тебе удачи в стараниях) Уверена что у тебя все получится!"
   ]
  },
  {
   "cell_type": "markdown",
   "metadata": {},
   "source": [
    "Поставьте 'x' в выполненных пунктах. Далее нажмите Shift+Enter."
   ]
  },
  {
   "cell_type": "markdown",
   "metadata": {},
   "source": [
    "- [x]  Jupyter Notebook открыт\n",
    "- [x]  Весь код выполняется без ошибок\n",
    "- [x]  Ячейки с кодом расположены в порядке исполнения\n",
    "- [x]  Выполнена загрузка и подготовка данных\n",
    "- [x]  Выполнено обучение моделей\n",
    "- [x]  Есть анализ скорости работы и качества моделей"
   ]
  },
  {
   "cell_type": "code",
   "execution_count": null,
   "metadata": {},
   "outputs": [],
   "source": []
  }
 ],
 "metadata": {
  "ExecuteTimeLog": [
   {
    "duration": 506,
    "start_time": "2022-03-23T19:46:25.177Z"
   },
   {
    "duration": 1034,
    "start_time": "2022-03-23T19:47:37.880Z"
   },
   {
    "duration": 34,
    "start_time": "2022-03-23T19:49:00.764Z"
   },
   {
    "duration": 173,
    "start_time": "2022-03-23T19:51:19.817Z"
   },
   {
    "duration": 310,
    "start_time": "2022-03-23T20:05:42.388Z"
   },
   {
    "duration": 177,
    "start_time": "2022-03-23T20:05:52.419Z"
   },
   {
    "duration": 111,
    "start_time": "2022-03-25T18:40:28.911Z"
   },
   {
    "duration": 528,
    "start_time": "2022-03-25T18:40:32.179Z"
   },
   {
    "duration": 1489,
    "start_time": "2022-03-25T18:40:32.710Z"
   },
   {
    "duration": 45,
    "start_time": "2022-03-25T18:40:34.202Z"
   },
   {
    "duration": 314,
    "start_time": "2022-03-25T18:40:34.251Z"
   },
   {
    "duration": 174,
    "start_time": "2022-03-25T18:40:34.573Z"
   },
   {
    "duration": 46,
    "start_time": "2022-03-27T12:58:18.930Z"
   },
   {
    "duration": 374,
    "start_time": "2022-03-27T12:58:23.671Z"
   },
   {
    "duration": 747,
    "start_time": "2022-03-27T12:58:24.047Z"
   },
   {
    "duration": 20,
    "start_time": "2022-03-27T12:58:24.795Z"
   },
   {
    "duration": 136,
    "start_time": "2022-03-27T12:58:24.817Z"
   },
   {
    "duration": 885,
    "start_time": "2022-03-27T12:58:24.955Z"
   },
   {
    "duration": 0,
    "start_time": "2022-03-27T12:58:25.841Z"
   },
   {
    "duration": 928,
    "start_time": "2022-03-27T12:58:44.247Z"
   },
   {
    "duration": 91,
    "start_time": "2022-03-27T13:05:00.274Z"
   },
   {
    "duration": 132,
    "start_time": "2022-03-27T13:05:41.990Z"
   },
   {
    "duration": 109,
    "start_time": "2022-03-27T13:05:45.168Z"
   },
   {
    "duration": 98,
    "start_time": "2022-03-27T13:07:02.049Z"
   },
   {
    "duration": 157,
    "start_time": "2022-03-27T13:33:07.333Z"
   },
   {
    "duration": 152,
    "start_time": "2022-03-27T13:33:20.093Z"
   },
   {
    "duration": 432,
    "start_time": "2022-03-27T18:33:36.606Z"
   },
   {
    "duration": 986,
    "start_time": "2022-03-27T18:33:37.041Z"
   },
   {
    "duration": 27,
    "start_time": "2022-03-27T18:33:38.029Z"
   },
   {
    "duration": 179,
    "start_time": "2022-03-27T18:33:38.059Z"
   },
   {
    "duration": 360,
    "start_time": "2022-03-27T18:33:38.241Z"
   },
   {
    "duration": 100,
    "start_time": "2022-03-27T18:33:38.603Z"
   },
   {
    "duration": 171,
    "start_time": "2022-03-27T18:33:38.705Z"
   },
   {
    "duration": 74,
    "start_time": "2022-03-27T18:42:50.998Z"
   },
   {
    "duration": 24,
    "start_time": "2022-03-27T18:43:17.774Z"
   },
   {
    "duration": 3138,
    "start_time": "2022-03-27T18:45:39.170Z"
   },
   {
    "duration": 10,
    "start_time": "2022-03-27T18:48:39.477Z"
   },
   {
    "duration": 3,
    "start_time": "2022-03-27T18:48:57.692Z"
   },
   {
    "duration": 840,
    "start_time": "2022-03-27T18:48:57.697Z"
   },
   {
    "duration": 15,
    "start_time": "2022-03-27T18:48:58.539Z"
   },
   {
    "duration": 153,
    "start_time": "2022-03-27T18:48:58.556Z"
   },
   {
    "duration": 227,
    "start_time": "2022-03-27T18:48:58.711Z"
   },
   {
    "duration": 95,
    "start_time": "2022-03-27T18:48:58.940Z"
   },
   {
    "duration": 151,
    "start_time": "2022-03-27T18:48:59.037Z"
   },
   {
    "duration": 12,
    "start_time": "2022-03-27T18:48:59.190Z"
   },
   {
    "duration": 132,
    "start_time": "2022-03-27T18:49:44.937Z"
   },
   {
    "duration": 138,
    "start_time": "2022-03-27T18:49:50.800Z"
   },
   {
    "duration": 119,
    "start_time": "2022-03-27T18:50:05.032Z"
   },
   {
    "duration": 10,
    "start_time": "2022-03-27T18:51:15.727Z"
   },
   {
    "duration": 196,
    "start_time": "2022-03-27T18:51:24.015Z"
   },
   {
    "duration": 13,
    "start_time": "2022-03-27T18:51:57.110Z"
   },
   {
    "duration": 184,
    "start_time": "2022-03-27T18:53:43.252Z"
   },
   {
    "duration": 127,
    "start_time": "2022-03-27T18:54:51.738Z"
   },
   {
    "duration": 138,
    "start_time": "2022-03-27T18:55:01.722Z"
   },
   {
    "duration": 34,
    "start_time": "2022-03-27T18:55:13.505Z"
   },
   {
    "duration": 26,
    "start_time": "2022-03-27T18:56:20.536Z"
   },
   {
    "duration": 27,
    "start_time": "2022-03-27T18:56:34.744Z"
   },
   {
    "duration": 27,
    "start_time": "2022-03-27T18:57:12.926Z"
   },
   {
    "duration": 132,
    "start_time": "2022-03-27T18:57:21.456Z"
   },
   {
    "duration": 143,
    "start_time": "2022-03-27T18:57:34.463Z"
   },
   {
    "duration": 134,
    "start_time": "2022-03-27T18:57:44.197Z"
   },
   {
    "duration": 128,
    "start_time": "2022-03-27T18:57:47.365Z"
   },
   {
    "duration": 37,
    "start_time": "2022-03-27T18:58:18.309Z"
   },
   {
    "duration": 269,
    "start_time": "2022-03-27T18:58:50.780Z"
   },
   {
    "duration": 31,
    "start_time": "2022-03-27T18:59:00.116Z"
   },
   {
    "duration": 3,
    "start_time": "2022-03-27T18:59:15.361Z"
   },
   {
    "duration": 847,
    "start_time": "2022-03-27T18:59:15.367Z"
   },
   {
    "duration": 17,
    "start_time": "2022-03-27T18:59:16.216Z"
   },
   {
    "duration": 173,
    "start_time": "2022-03-27T18:59:16.235Z"
   },
   {
    "duration": 244,
    "start_time": "2022-03-27T18:59:16.411Z"
   },
   {
    "duration": 103,
    "start_time": "2022-03-27T18:59:16.657Z"
   },
   {
    "duration": 169,
    "start_time": "2022-03-27T18:59:16.762Z"
   },
   {
    "duration": 34,
    "start_time": "2022-03-27T18:59:16.932Z"
   },
   {
    "duration": 31,
    "start_time": "2022-03-27T18:59:28.867Z"
   },
   {
    "duration": 139,
    "start_time": "2022-03-27T19:00:08.002Z"
   },
   {
    "duration": 140,
    "start_time": "2022-03-27T19:00:29.170Z"
   },
   {
    "duration": 3,
    "start_time": "2022-03-27T19:01:04.272Z"
   },
   {
    "duration": 859,
    "start_time": "2022-03-27T19:01:04.277Z"
   },
   {
    "duration": 16,
    "start_time": "2022-03-27T19:01:05.138Z"
   },
   {
    "duration": 162,
    "start_time": "2022-03-27T19:01:05.157Z"
   },
   {
    "duration": 318,
    "start_time": "2022-03-27T19:01:05.322Z"
   },
   {
    "duration": 94,
    "start_time": "2022-03-27T19:01:05.642Z"
   },
   {
    "duration": 125,
    "start_time": "2022-03-27T19:01:05.738Z"
   },
   {
    "duration": 145,
    "start_time": "2022-03-27T19:01:05.866Z"
   },
   {
    "duration": 345,
    "start_time": "2022-03-27T19:11:25.626Z"
   },
   {
    "duration": 192,
    "start_time": "2022-03-27T19:11:30.346Z"
   },
   {
    "duration": 399,
    "start_time": "2022-03-27T19:11:53.761Z"
   },
   {
    "duration": 0,
    "start_time": "2022-03-27T19:12:34.575Z"
   },
   {
    "duration": 0,
    "start_time": "2022-03-27T19:12:34.576Z"
   },
   {
    "duration": 0,
    "start_time": "2022-03-27T19:12:34.578Z"
   },
   {
    "duration": 0,
    "start_time": "2022-03-27T19:12:34.580Z"
   },
   {
    "duration": 0,
    "start_time": "2022-03-27T19:12:34.601Z"
   },
   {
    "duration": 0,
    "start_time": "2022-03-27T19:12:34.604Z"
   },
   {
    "duration": 0,
    "start_time": "2022-03-27T19:12:34.606Z"
   },
   {
    "duration": 0,
    "start_time": "2022-03-27T19:12:34.607Z"
   },
   {
    "duration": 0,
    "start_time": "2022-03-27T19:12:34.608Z"
   },
   {
    "duration": 3,
    "start_time": "2022-03-27T19:12:41.140Z"
   },
   {
    "duration": 856,
    "start_time": "2022-03-27T19:12:41.145Z"
   },
   {
    "duration": 16,
    "start_time": "2022-03-27T19:12:42.003Z"
   },
   {
    "duration": 151,
    "start_time": "2022-03-27T19:12:42.021Z"
   },
   {
    "duration": 226,
    "start_time": "2022-03-27T19:12:42.175Z"
   },
   {
    "duration": 104,
    "start_time": "2022-03-27T19:12:42.404Z"
   },
   {
    "duration": 121,
    "start_time": "2022-03-27T19:12:42.510Z"
   },
   {
    "duration": 153,
    "start_time": "2022-03-27T19:12:42.633Z"
   },
   {
    "duration": 492,
    "start_time": "2022-03-27T19:12:42.788Z"
   },
   {
    "duration": 175,
    "start_time": "2022-03-27T19:12:57.592Z"
   },
   {
    "duration": 156,
    "start_time": "2022-03-27T19:13:07.639Z"
   },
   {
    "duration": 94,
    "start_time": "2022-03-27T19:14:00.182Z"
   },
   {
    "duration": 479,
    "start_time": "2022-03-28T09:43:17.823Z"
   },
   {
    "duration": 168,
    "start_time": "2022-03-28T09:43:24.403Z"
   },
   {
    "duration": 3,
    "start_time": "2022-03-28T09:43:59.049Z"
   },
   {
    "duration": 792,
    "start_time": "2022-03-28T09:43:59.053Z"
   },
   {
    "duration": 21,
    "start_time": "2022-03-28T09:43:59.846Z"
   },
   {
    "duration": 132,
    "start_time": "2022-03-28T09:43:59.868Z"
   },
   {
    "duration": 270,
    "start_time": "2022-03-28T09:44:00.002Z"
   },
   {
    "duration": 87,
    "start_time": "2022-03-28T09:44:00.274Z"
   },
   {
    "duration": 132,
    "start_time": "2022-03-28T09:44:00.363Z"
   },
   {
    "duration": 128,
    "start_time": "2022-03-28T09:44:00.497Z"
   },
   {
    "duration": 211,
    "start_time": "2022-03-28T09:44:00.627Z"
   },
   {
    "duration": 125,
    "start_time": "2022-03-28T09:44:00.840Z"
   },
   {
    "duration": 10,
    "start_time": "2022-03-28T09:44:00.967Z"
   },
   {
    "duration": 8,
    "start_time": "2022-03-28T09:44:20.665Z"
   },
   {
    "duration": 1079,
    "start_time": "2022-03-28T15:11:56.158Z"
   },
   {
    "duration": 990,
    "start_time": "2022-03-28T15:11:57.240Z"
   },
   {
    "duration": 27,
    "start_time": "2022-03-28T15:11:58.232Z"
   },
   {
    "duration": 171,
    "start_time": "2022-03-28T15:11:58.262Z"
   },
   {
    "duration": 362,
    "start_time": "2022-03-28T15:11:58.435Z"
   },
   {
    "duration": 108,
    "start_time": "2022-03-28T15:11:58.799Z"
   },
   {
    "duration": 173,
    "start_time": "2022-03-28T15:11:58.909Z"
   },
   {
    "duration": 184,
    "start_time": "2022-03-28T15:11:59.084Z"
   },
   {
    "duration": 299,
    "start_time": "2022-03-28T15:11:59.271Z"
   },
   {
    "duration": 110,
    "start_time": "2022-03-28T15:11:59.582Z"
   },
   {
    "duration": 116,
    "start_time": "2022-03-28T15:11:59.694Z"
   },
   {
    "duration": 235,
    "start_time": "2022-03-28T15:13:39.949Z"
   },
   {
    "duration": 237,
    "start_time": "2022-03-28T15:14:31.471Z"
   },
   {
    "duration": 219,
    "start_time": "2022-03-28T15:15:03.127Z"
   },
   {
    "duration": 399,
    "start_time": "2022-03-28T15:15:44.261Z"
   },
   {
    "duration": 267,
    "start_time": "2022-03-28T15:15:52.526Z"
   },
   {
    "duration": 379,
    "start_time": "2022-03-28T15:15:58.545Z"
   },
   {
    "duration": 241,
    "start_time": "2022-03-28T15:16:19.891Z"
   },
   {
    "duration": 399,
    "start_time": "2022-03-28T15:17:00.364Z"
   },
   {
    "duration": 13,
    "start_time": "2022-03-28T15:32:25.179Z"
   },
   {
    "duration": 11,
    "start_time": "2022-03-28T15:33:04.156Z"
   },
   {
    "duration": 426,
    "start_time": "2022-03-28T15:33:29.341Z"
   },
   {
    "duration": 963,
    "start_time": "2022-03-28T15:34:45.282Z"
   },
   {
    "duration": 1564,
    "start_time": "2022-03-28T15:35:01.515Z"
   },
   {
    "duration": 733,
    "start_time": "2022-03-28T15:35:11.930Z"
   },
   {
    "duration": 900,
    "start_time": "2022-03-28T15:35:21.242Z"
   },
   {
    "duration": 890,
    "start_time": "2022-03-28T15:36:05.609Z"
   },
   {
    "duration": 1545,
    "start_time": "2022-03-28T15:38:08.958Z"
   },
   {
    "duration": 412,
    "start_time": "2022-03-28T15:38:39.295Z"
   },
   {
    "duration": 1628,
    "start_time": "2022-03-28T15:39:44.437Z"
   },
   {
    "duration": 1646,
    "start_time": "2022-03-28T15:39:53.689Z"
   },
   {
    "duration": 15,
    "start_time": "2022-03-28T15:40:44.908Z"
   },
   {
    "duration": 1582,
    "start_time": "2022-03-28T15:41:05.762Z"
   },
   {
    "duration": 1759,
    "start_time": "2022-03-28T15:46:01.849Z"
   },
   {
    "duration": 1806,
    "start_time": "2022-03-28T15:46:34.363Z"
   },
   {
    "duration": 1667,
    "start_time": "2022-03-28T15:49:36.985Z"
   },
   {
    "duration": 18,
    "start_time": "2022-03-28T15:52:35.795Z"
   },
   {
    "duration": 1598,
    "start_time": "2022-03-28T15:52:49.130Z"
   },
   {
    "duration": 52,
    "start_time": "2022-03-28T15:56:35.845Z"
   },
   {
    "duration": 79,
    "start_time": "2022-03-28T15:56:41.924Z"
   },
   {
    "duration": 83,
    "start_time": "2022-03-28T15:57:03.499Z"
   },
   {
    "duration": 92,
    "start_time": "2022-03-28T15:58:26.731Z"
   },
   {
    "duration": 93,
    "start_time": "2022-03-28T15:58:34.867Z"
   },
   {
    "duration": 52,
    "start_time": "2022-03-28T15:58:42.458Z"
   },
   {
    "duration": 31,
    "start_time": "2022-03-28T15:59:28.186Z"
   },
   {
    "duration": 8,
    "start_time": "2022-03-28T15:59:43.881Z"
   },
   {
    "duration": 17,
    "start_time": "2022-03-28T16:07:05.758Z"
   },
   {
    "duration": 61,
    "start_time": "2022-03-28T16:08:46.157Z"
   },
   {
    "duration": 57,
    "start_time": "2022-03-28T16:22:11.229Z"
   },
   {
    "duration": 371,
    "start_time": "2022-03-28T16:37:20.812Z"
   },
   {
    "duration": 326,
    "start_time": "2022-03-28T16:37:56.995Z"
   },
   {
    "duration": 400,
    "start_time": "2022-03-28T16:47:09.632Z"
   },
   {
    "duration": 56,
    "start_time": "2022-03-28T19:12:07.135Z"
   },
   {
    "duration": 902,
    "start_time": "2022-03-28T19:12:12.594Z"
   },
   {
    "duration": 818,
    "start_time": "2022-03-28T19:12:13.501Z"
   },
   {
    "duration": 21,
    "start_time": "2022-03-28T19:12:14.321Z"
   },
   {
    "duration": 157,
    "start_time": "2022-03-28T19:12:14.344Z"
   },
   {
    "duration": 269,
    "start_time": "2022-03-28T19:12:14.503Z"
   },
   {
    "duration": 98,
    "start_time": "2022-03-28T19:12:14.774Z"
   },
   {
    "duration": 149,
    "start_time": "2022-03-28T19:12:14.875Z"
   },
   {
    "duration": 153,
    "start_time": "2022-03-28T19:12:15.026Z"
   },
   {
    "duration": 226,
    "start_time": "2022-03-28T19:12:15.181Z"
   },
   {
    "duration": 106,
    "start_time": "2022-03-28T19:12:15.409Z"
   },
   {
    "duration": 1114,
    "start_time": "2022-03-28T19:12:15.517Z"
   },
   {
    "duration": 32,
    "start_time": "2022-03-28T19:12:16.633Z"
   },
   {
    "duration": 54,
    "start_time": "2022-03-28T19:12:16.666Z"
   },
   {
    "duration": 31,
    "start_time": "2022-03-28T19:12:16.721Z"
   },
   {
    "duration": 261,
    "start_time": "2022-03-28T19:12:16.754Z"
   },
   {
    "duration": 275,
    "start_time": "2022-03-28T19:12:17.017Z"
   },
   {
    "duration": 1113,
    "start_time": "2022-03-28T19:12:59.490Z"
   },
   {
    "duration": 2,
    "start_time": "2022-03-28T19:40:12.024Z"
   },
   {
    "duration": 14,
    "start_time": "2022-03-28T19:41:47.319Z"
   },
   {
    "duration": 33,
    "start_time": "2022-03-28T19:41:57.222Z"
   },
   {
    "duration": 16,
    "start_time": "2022-03-28T19:42:56.375Z"
   },
   {
    "duration": 1028,
    "start_time": "2022-03-28T19:52:19.536Z"
   },
   {
    "duration": 5,
    "start_time": "2022-03-28T19:52:24.792Z"
   },
   {
    "duration": 881,
    "start_time": "2022-03-28T19:52:24.799Z"
   },
   {
    "duration": 22,
    "start_time": "2022-03-28T19:52:25.682Z"
   },
   {
    "duration": 156,
    "start_time": "2022-03-28T19:52:25.707Z"
   },
   {
    "duration": 230,
    "start_time": "2022-03-28T19:52:25.866Z"
   },
   {
    "duration": 104,
    "start_time": "2022-03-28T19:52:26.098Z"
   },
   {
    "duration": 118,
    "start_time": "2022-03-28T19:52:26.204Z"
   },
   {
    "duration": 146,
    "start_time": "2022-03-28T19:52:26.324Z"
   },
   {
    "duration": 256,
    "start_time": "2022-03-28T19:52:26.473Z"
   },
   {
    "duration": 102,
    "start_time": "2022-03-28T19:52:26.732Z"
   },
   {
    "duration": 1265,
    "start_time": "2022-03-28T19:52:26.836Z"
   },
   {
    "duration": 35,
    "start_time": "2022-03-28T19:52:28.103Z"
   },
   {
    "duration": 60,
    "start_time": "2022-03-28T19:52:28.141Z"
   },
   {
    "duration": 40,
    "start_time": "2022-03-28T19:52:28.204Z"
   },
   {
    "duration": 395,
    "start_time": "2022-03-28T19:52:28.247Z"
   },
   {
    "duration": 424,
    "start_time": "2022-03-28T19:52:28.645Z"
   },
   {
    "duration": 30,
    "start_time": "2022-03-28T19:52:29.071Z"
   },
   {
    "duration": 4,
    "start_time": "2022-03-28T19:52:48.385Z"
   },
   {
    "duration": 1152,
    "start_time": "2022-03-28T19:52:48.391Z"
   },
   {
    "duration": 22,
    "start_time": "2022-03-28T19:52:49.545Z"
   },
   {
    "duration": 255,
    "start_time": "2022-03-28T19:52:49.570Z"
   },
   {
    "duration": 380,
    "start_time": "2022-03-28T19:52:49.827Z"
   },
   {
    "duration": 98,
    "start_time": "2022-03-28T19:52:50.210Z"
   },
   {
    "duration": 129,
    "start_time": "2022-03-28T19:52:50.310Z"
   },
   {
    "duration": 147,
    "start_time": "2022-03-28T19:52:50.441Z"
   },
   {
    "duration": 256,
    "start_time": "2022-03-28T19:52:50.591Z"
   },
   {
    "duration": 102,
    "start_time": "2022-03-28T19:52:50.848Z"
   },
   {
    "duration": 1172,
    "start_time": "2022-03-28T19:52:50.952Z"
   },
   {
    "duration": 32,
    "start_time": "2022-03-28T19:52:52.125Z"
   },
   {
    "duration": 55,
    "start_time": "2022-03-28T19:52:52.159Z"
   },
   {
    "duration": 30,
    "start_time": "2022-03-28T19:52:52.215Z"
   },
   {
    "duration": 273,
    "start_time": "2022-03-28T19:52:52.247Z"
   },
   {
    "duration": 338,
    "start_time": "2022-03-28T19:52:52.523Z"
   },
   {
    "duration": 19,
    "start_time": "2022-03-28T19:52:52.863Z"
   },
   {
    "duration": 876,
    "start_time": "2022-03-28T19:55:16.706Z"
   },
   {
    "duration": 925,
    "start_time": "2022-03-28T19:56:49.880Z"
   },
   {
    "duration": 31,
    "start_time": "2022-03-28T19:58:24.319Z"
   },
   {
    "duration": 74567,
    "start_time": "2022-03-28T19:59:01.198Z"
   },
   {
    "duration": 6,
    "start_time": "2022-03-28T20:04:37.113Z"
   },
   {
    "duration": 848,
    "start_time": "2022-03-28T20:04:37.122Z"
   },
   {
    "duration": 16,
    "start_time": "2022-03-28T20:04:37.972Z"
   },
   {
    "duration": 149,
    "start_time": "2022-03-28T20:04:38.000Z"
   },
   {
    "duration": 242,
    "start_time": "2022-03-28T20:04:38.152Z"
   },
   {
    "duration": 108,
    "start_time": "2022-03-28T20:04:38.397Z"
   },
   {
    "duration": 117,
    "start_time": "2022-03-28T20:04:38.507Z"
   },
   {
    "duration": 148,
    "start_time": "2022-03-28T20:04:38.626Z"
   },
   {
    "duration": 228,
    "start_time": "2022-03-28T20:04:38.775Z"
   },
   {
    "duration": 101,
    "start_time": "2022-03-28T20:04:39.005Z"
   },
   {
    "duration": 1196,
    "start_time": "2022-03-28T20:04:39.108Z"
   },
   {
    "duration": 29,
    "start_time": "2022-03-28T20:04:40.306Z"
   },
   {
    "duration": 38,
    "start_time": "2022-03-28T20:04:40.338Z"
   },
   {
    "duration": 46,
    "start_time": "2022-03-28T20:04:40.378Z"
   },
   {
    "duration": 255,
    "start_time": "2022-03-28T20:04:40.426Z"
   },
   {
    "duration": 294,
    "start_time": "2022-03-28T20:04:40.684Z"
   },
   {
    "duration": 31,
    "start_time": "2022-03-28T20:04:40.980Z"
   },
   {
    "duration": 0,
    "start_time": "2022-03-28T20:05:53.216Z"
   },
   {
    "duration": 0,
    "start_time": "2022-03-28T20:05:53.217Z"
   },
   {
    "duration": 0,
    "start_time": "2022-03-28T20:05:53.218Z"
   },
   {
    "duration": 0,
    "start_time": "2022-03-28T20:05:53.219Z"
   },
   {
    "duration": 0,
    "start_time": "2022-03-28T20:05:53.220Z"
   },
   {
    "duration": 0,
    "start_time": "2022-03-28T20:05:53.221Z"
   },
   {
    "duration": 0,
    "start_time": "2022-03-28T20:05:53.222Z"
   },
   {
    "duration": 0,
    "start_time": "2022-03-28T20:05:53.223Z"
   },
   {
    "duration": 0,
    "start_time": "2022-03-28T20:05:53.224Z"
   },
   {
    "duration": 0,
    "start_time": "2022-03-28T20:05:53.225Z"
   },
   {
    "duration": 0,
    "start_time": "2022-03-28T20:05:53.227Z"
   },
   {
    "duration": 0,
    "start_time": "2022-03-28T20:05:53.228Z"
   },
   {
    "duration": 0,
    "start_time": "2022-03-28T20:05:53.228Z"
   },
   {
    "duration": 0,
    "start_time": "2022-03-28T20:05:53.229Z"
   },
   {
    "duration": 0,
    "start_time": "2022-03-28T20:05:53.231Z"
   },
   {
    "duration": 0,
    "start_time": "2022-03-28T20:05:53.232Z"
   },
   {
    "duration": 0,
    "start_time": "2022-03-28T20:05:53.234Z"
   },
   {
    "duration": 0,
    "start_time": "2022-03-28T20:05:53.235Z"
   },
   {
    "duration": 0,
    "start_time": "2022-03-28T20:05:53.237Z"
   },
   {
    "duration": 0,
    "start_time": "2022-03-28T20:05:53.301Z"
   },
   {
    "duration": 4,
    "start_time": "2022-03-28T20:05:58.469Z"
   },
   {
    "duration": 829,
    "start_time": "2022-03-28T20:05:58.475Z"
   },
   {
    "duration": 17,
    "start_time": "2022-03-28T20:05:59.306Z"
   },
   {
    "duration": 158,
    "start_time": "2022-03-28T20:05:59.325Z"
   },
   {
    "duration": 248,
    "start_time": "2022-03-28T20:05:59.485Z"
   },
   {
    "duration": 104,
    "start_time": "2022-03-28T20:05:59.735Z"
   },
   {
    "duration": 129,
    "start_time": "2022-03-28T20:05:59.841Z"
   },
   {
    "duration": 146,
    "start_time": "2022-03-28T20:05:59.972Z"
   },
   {
    "duration": 235,
    "start_time": "2022-03-28T20:06:00.121Z"
   },
   {
    "duration": 100,
    "start_time": "2022-03-28T20:06:00.360Z"
   },
   {
    "duration": 1205,
    "start_time": "2022-03-28T20:06:00.462Z"
   },
   {
    "duration": 40,
    "start_time": "2022-03-28T20:06:01.670Z"
   },
   {
    "duration": 51,
    "start_time": "2022-03-28T20:06:01.712Z"
   },
   {
    "duration": 36,
    "start_time": "2022-03-28T20:06:01.766Z"
   },
   {
    "duration": 263,
    "start_time": "2022-03-28T20:06:01.804Z"
   },
   {
    "duration": 289,
    "start_time": "2022-03-28T20:06:02.069Z"
   },
   {
    "duration": 18,
    "start_time": "2022-03-28T20:06:02.360Z"
   },
   {
    "duration": 227,
    "start_time": "2022-03-28T20:06:02.380Z"
   },
   {
    "duration": 0,
    "start_time": "2022-03-28T20:06:02.609Z"
   },
   {
    "duration": 0,
    "start_time": "2022-03-28T20:06:02.610Z"
   },
   {
    "duration": 296,
    "start_time": "2022-03-28T20:06:20.696Z"
   },
   {
    "duration": 383,
    "start_time": "2022-03-28T20:08:24.052Z"
   },
   {
    "duration": 1851,
    "start_time": "2022-03-29T09:29:12.857Z"
   },
   {
    "duration": 945,
    "start_time": "2022-03-29T09:29:14.711Z"
   },
   {
    "duration": 20,
    "start_time": "2022-03-29T09:29:15.657Z"
   },
   {
    "duration": 165,
    "start_time": "2022-03-29T09:29:15.679Z"
   },
   {
    "duration": 263,
    "start_time": "2022-03-29T09:29:15.847Z"
   },
   {
    "duration": 116,
    "start_time": "2022-03-29T09:29:16.112Z"
   },
   {
    "duration": 165,
    "start_time": "2022-03-29T09:29:16.229Z"
   },
   {
    "duration": 180,
    "start_time": "2022-03-29T09:29:16.396Z"
   },
   {
    "duration": 277,
    "start_time": "2022-03-29T09:29:16.578Z"
   },
   {
    "duration": 102,
    "start_time": "2022-03-29T09:29:16.859Z"
   },
   {
    "duration": 1334,
    "start_time": "2022-03-29T09:29:16.962Z"
   },
   {
    "duration": 47,
    "start_time": "2022-03-29T09:29:18.297Z"
   },
   {
    "duration": 43,
    "start_time": "2022-03-29T09:29:18.346Z"
   },
   {
    "duration": 29,
    "start_time": "2022-03-29T09:29:18.391Z"
   },
   {
    "duration": 287,
    "start_time": "2022-03-29T09:29:18.421Z"
   },
   {
    "duration": 298,
    "start_time": "2022-03-29T09:29:18.710Z"
   },
   {
    "duration": 15,
    "start_time": "2022-03-29T09:29:19.009Z"
   },
   {
    "duration": 588,
    "start_time": "2022-03-29T09:29:19.025Z"
   },
   {
    "duration": 410,
    "start_time": "2022-03-29T09:29:19.614Z"
   },
   {
    "duration": 897,
    "start_time": "2022-03-29T09:29:20.035Z"
   },
   {
    "duration": 4,
    "start_time": "2022-03-29T09:29:20.937Z"
   },
   {
    "duration": 3,
    "start_time": "2022-03-29T09:30:25.728Z"
   },
   {
    "duration": 856,
    "start_time": "2022-03-29T09:30:25.734Z"
   },
   {
    "duration": 16,
    "start_time": "2022-03-29T09:30:26.591Z"
   },
   {
    "duration": 157,
    "start_time": "2022-03-29T09:30:26.609Z"
   },
   {
    "duration": 247,
    "start_time": "2022-03-29T09:30:26.768Z"
   },
   {
    "duration": 99,
    "start_time": "2022-03-29T09:30:27.017Z"
   },
   {
    "duration": 145,
    "start_time": "2022-03-29T09:30:27.117Z"
   },
   {
    "duration": 148,
    "start_time": "2022-03-29T09:30:27.264Z"
   },
   {
    "duration": 236,
    "start_time": "2022-03-29T09:30:27.414Z"
   },
   {
    "duration": 108,
    "start_time": "2022-03-29T09:30:27.652Z"
   },
   {
    "duration": 1320,
    "start_time": "2022-03-29T09:30:27.761Z"
   },
   {
    "duration": 28,
    "start_time": "2022-03-29T09:30:29.083Z"
   },
   {
    "duration": 57,
    "start_time": "2022-03-29T09:30:29.113Z"
   },
   {
    "duration": 28,
    "start_time": "2022-03-29T09:30:29.172Z"
   },
   {
    "duration": 265,
    "start_time": "2022-03-29T09:30:29.202Z"
   },
   {
    "duration": 277,
    "start_time": "2022-03-29T09:30:29.468Z"
   },
   {
    "duration": 18,
    "start_time": "2022-03-29T09:30:29.747Z"
   },
   {
    "duration": 515,
    "start_time": "2022-03-29T09:30:29.767Z"
   },
   {
    "duration": 601,
    "start_time": "2022-03-29T09:30:30.285Z"
   },
   {
    "duration": 893,
    "start_time": "2022-03-29T09:30:30.888Z"
   },
   {
    "duration": 3,
    "start_time": "2022-03-29T09:30:31.783Z"
   },
   {
    "duration": 529,
    "start_time": "2022-03-29T09:31:35.797Z"
   },
   {
    "duration": 565,
    "start_time": "2022-03-29T09:32:05.216Z"
   },
   {
    "duration": 498,
    "start_time": "2022-03-29T09:32:59.176Z"
   },
   {
    "duration": 25,
    "start_time": "2022-03-29T09:41:15.320Z"
   },
   {
    "duration": 3,
    "start_time": "2022-03-29T09:42:26.597Z"
   },
   {
    "duration": 139,
    "start_time": "2022-03-29T09:42:26.931Z"
   },
   {
    "duration": 13,
    "start_time": "2022-03-29T09:49:35.606Z"
   },
   {
    "duration": 3,
    "start_time": "2022-03-29T09:49:53.550Z"
   },
   {
    "duration": 14,
    "start_time": "2022-03-29T09:49:54.145Z"
   },
   {
    "duration": 69,
    "start_time": "2022-03-29T14:56:37.916Z"
   },
   {
    "duration": 2691,
    "start_time": "2022-03-29T14:56:40.918Z"
   },
   {
    "duration": 1068,
    "start_time": "2022-03-29T14:56:43.613Z"
   },
   {
    "duration": 29,
    "start_time": "2022-03-29T14:56:44.684Z"
   },
   {
    "duration": 186,
    "start_time": "2022-03-29T14:56:44.718Z"
   },
   {
    "duration": 395,
    "start_time": "2022-03-29T14:56:44.906Z"
   },
   {
    "duration": 116,
    "start_time": "2022-03-29T14:56:45.304Z"
   },
   {
    "duration": 177,
    "start_time": "2022-03-29T14:56:45.423Z"
   },
   {
    "duration": 206,
    "start_time": "2022-03-29T14:56:45.603Z"
   },
   {
    "duration": 304,
    "start_time": "2022-03-29T14:56:45.811Z"
   },
   {
    "duration": 117,
    "start_time": "2022-03-29T14:56:46.119Z"
   },
   {
    "duration": 1792,
    "start_time": "2022-03-29T14:56:46.238Z"
   },
   {
    "duration": 69,
    "start_time": "2022-03-29T14:56:48.032Z"
   },
   {
    "duration": 74,
    "start_time": "2022-03-29T14:56:48.103Z"
   },
   {
    "duration": 56,
    "start_time": "2022-03-29T14:56:48.179Z"
   },
   {
    "duration": 401,
    "start_time": "2022-03-29T14:56:48.238Z"
   },
   {
    "duration": 466,
    "start_time": "2022-03-29T14:56:48.641Z"
   },
   {
    "duration": 25,
    "start_time": "2022-03-29T14:56:49.109Z"
   },
   {
    "duration": 757,
    "start_time": "2022-03-29T14:56:49.137Z"
   },
   {
    "duration": 1166,
    "start_time": "2022-03-29T14:56:49.896Z"
   },
   {
    "duration": 133,
    "start_time": "2022-03-29T14:56:51.068Z"
   },
   {
    "duration": 0,
    "start_time": "2022-03-29T14:56:51.204Z"
   },
   {
    "duration": 0,
    "start_time": "2022-03-29T14:56:51.205Z"
   },
   {
    "duration": 0,
    "start_time": "2022-03-29T14:56:51.207Z"
   },
   {
    "duration": 124,
    "start_time": "2022-03-29T14:57:01.777Z"
   },
   {
    "duration": 136,
    "start_time": "2022-03-29T14:59:55.765Z"
   },
   {
    "duration": 27,
    "start_time": "2022-03-29T15:01:08.036Z"
   },
   {
    "duration": 5,
    "start_time": "2022-03-29T15:03:01.574Z"
   },
   {
    "duration": 1045,
    "start_time": "2022-03-29T15:03:01.582Z"
   },
   {
    "duration": 23,
    "start_time": "2022-03-29T15:03:02.629Z"
   },
   {
    "duration": 184,
    "start_time": "2022-03-29T15:03:02.655Z"
   },
   {
    "duration": 335,
    "start_time": "2022-03-29T15:03:02.842Z"
   },
   {
    "duration": 114,
    "start_time": "2022-03-29T15:03:03.180Z"
   },
   {
    "duration": 184,
    "start_time": "2022-03-29T15:03:03.296Z"
   },
   {
    "duration": 204,
    "start_time": "2022-03-29T15:03:03.482Z"
   },
   {
    "duration": 318,
    "start_time": "2022-03-29T15:03:03.692Z"
   },
   {
    "duration": 128,
    "start_time": "2022-03-29T15:03:04.013Z"
   },
   {
    "duration": 1888,
    "start_time": "2022-03-29T15:03:04.144Z"
   },
   {
    "duration": 67,
    "start_time": "2022-03-29T15:03:06.034Z"
   },
   {
    "duration": 67,
    "start_time": "2022-03-29T15:03:06.104Z"
   },
   {
    "duration": 53,
    "start_time": "2022-03-29T15:03:06.174Z"
   },
   {
    "duration": 389,
    "start_time": "2022-03-29T15:03:06.229Z"
   },
   {
    "duration": 428,
    "start_time": "2022-03-29T15:03:06.620Z"
   },
   {
    "duration": 735,
    "start_time": "2022-03-29T15:03:07.050Z"
   },
   {
    "duration": 27,
    "start_time": "2022-03-29T15:03:07.787Z"
   },
   {
    "duration": 695,
    "start_time": "2022-03-29T15:03:07.817Z"
   },
   {
    "duration": 137,
    "start_time": "2022-03-29T15:03:08.515Z"
   },
   {
    "duration": 31,
    "start_time": "2022-03-29T15:03:08.655Z"
   },
   {
    "duration": 85,
    "start_time": "2022-03-29T15:03:08.688Z"
   },
   {
    "duration": 0,
    "start_time": "2022-03-29T15:03:08.777Z"
   },
   {
    "duration": 102,
    "start_time": "2022-03-29T15:03:13.840Z"
   },
   {
    "duration": 5,
    "start_time": "2022-03-29T15:04:11.297Z"
   },
   {
    "duration": 978,
    "start_time": "2022-03-29T15:04:11.305Z"
   },
   {
    "duration": 23,
    "start_time": "2022-03-29T15:04:12.286Z"
   },
   {
    "duration": 180,
    "start_time": "2022-03-29T15:04:12.312Z"
   },
   {
    "duration": 309,
    "start_time": "2022-03-29T15:04:12.494Z"
   },
   {
    "duration": 107,
    "start_time": "2022-03-29T15:04:12.805Z"
   },
   {
    "duration": 159,
    "start_time": "2022-03-29T15:04:12.914Z"
   },
   {
    "duration": 201,
    "start_time": "2022-03-29T15:04:13.075Z"
   },
   {
    "duration": 302,
    "start_time": "2022-03-29T15:04:13.280Z"
   },
   {
    "duration": 112,
    "start_time": "2022-03-29T15:04:13.585Z"
   },
   {
    "duration": 1768,
    "start_time": "2022-03-29T15:04:13.699Z"
   },
   {
    "duration": 49,
    "start_time": "2022-03-29T15:04:15.469Z"
   },
   {
    "duration": 76,
    "start_time": "2022-03-29T15:04:15.520Z"
   },
   {
    "duration": 53,
    "start_time": "2022-03-29T15:04:15.599Z"
   },
   {
    "duration": 416,
    "start_time": "2022-03-29T15:04:15.654Z"
   },
   {
    "duration": 599,
    "start_time": "2022-03-29T15:04:16.073Z"
   },
   {
    "duration": 643,
    "start_time": "2022-03-29T15:04:16.674Z"
   },
   {
    "duration": 21,
    "start_time": "2022-03-29T15:04:17.319Z"
   },
   {
    "duration": 0,
    "start_time": "2022-03-29T15:04:17.342Z"
   },
   {
    "duration": 0,
    "start_time": "2022-03-29T15:04:17.343Z"
   },
   {
    "duration": 0,
    "start_time": "2022-03-29T15:04:17.345Z"
   },
   {
    "duration": 0,
    "start_time": "2022-03-29T15:04:17.367Z"
   },
   {
    "duration": 0,
    "start_time": "2022-03-29T15:04:17.369Z"
   },
   {
    "duration": 29,
    "start_time": "2022-03-29T15:04:56.517Z"
   },
   {
    "duration": 23,
    "start_time": "2022-03-29T15:08:21.609Z"
   },
   {
    "duration": 5,
    "start_time": "2022-03-29T15:11:56.237Z"
   },
   {
    "duration": 962,
    "start_time": "2022-03-29T15:11:56.245Z"
   },
   {
    "duration": 23,
    "start_time": "2022-03-29T15:11:57.210Z"
   },
   {
    "duration": 173,
    "start_time": "2022-03-29T15:11:57.235Z"
   },
   {
    "duration": 315,
    "start_time": "2022-03-29T15:11:57.411Z"
   },
   {
    "duration": 111,
    "start_time": "2022-03-29T15:11:57.728Z"
   },
   {
    "duration": 135,
    "start_time": "2022-03-29T15:11:57.841Z"
   },
   {
    "duration": 197,
    "start_time": "2022-03-29T15:11:57.978Z"
   },
   {
    "duration": 282,
    "start_time": "2022-03-29T15:11:58.178Z"
   },
   {
    "duration": 116,
    "start_time": "2022-03-29T15:11:58.462Z"
   },
   {
    "duration": 1671,
    "start_time": "2022-03-29T15:11:58.582Z"
   },
   {
    "duration": 60,
    "start_time": "2022-03-29T15:12:00.256Z"
   },
   {
    "duration": 71,
    "start_time": "2022-03-29T15:12:00.318Z"
   },
   {
    "duration": 52,
    "start_time": "2022-03-29T15:12:00.392Z"
   },
   {
    "duration": 438,
    "start_time": "2022-03-29T15:12:00.446Z"
   },
   {
    "duration": 441,
    "start_time": "2022-03-29T15:12:00.886Z"
   },
   {
    "duration": 40,
    "start_time": "2022-03-29T15:12:01.330Z"
   },
   {
    "duration": 460,
    "start_time": "2022-03-29T15:12:01.373Z"
   },
   {
    "duration": 734,
    "start_time": "2022-03-29T15:12:01.835Z"
   },
   {
    "duration": 200,
    "start_time": "2022-03-29T15:12:02.572Z"
   },
   {
    "duration": 414,
    "start_time": "2022-03-29T15:12:02.774Z"
   },
   {
    "duration": 38,
    "start_time": "2022-03-29T15:12:03.190Z"
   },
   {
    "duration": 3,
    "start_time": "2022-03-29T15:12:03.231Z"
   },
   {
    "duration": 2808,
    "start_time": "2022-03-29T15:12:03.236Z"
   },
   {
    "duration": 7,
    "start_time": "2022-03-29T15:12:47.531Z"
   },
   {
    "duration": 3511,
    "start_time": "2022-03-29T15:13:36.041Z"
   },
   {
    "duration": 7,
    "start_time": "2022-03-29T15:14:14.768Z"
   },
   {
    "duration": 5,
    "start_time": "2022-03-29T15:14:57.928Z"
   },
   {
    "duration": 1072,
    "start_time": "2022-03-29T15:14:57.936Z"
   },
   {
    "duration": 23,
    "start_time": "2022-03-29T15:14:59.010Z"
   },
   {
    "duration": 182,
    "start_time": "2022-03-29T15:14:59.036Z"
   },
   {
    "duration": 311,
    "start_time": "2022-03-29T15:14:59.220Z"
   },
   {
    "duration": 112,
    "start_time": "2022-03-29T15:14:59.533Z"
   },
   {
    "duration": 148,
    "start_time": "2022-03-29T15:14:59.648Z"
   },
   {
    "duration": 204,
    "start_time": "2022-03-29T15:14:59.799Z"
   },
   {
    "duration": 329,
    "start_time": "2022-03-29T15:15:00.007Z"
   },
   {
    "duration": 121,
    "start_time": "2022-03-29T15:15:00.338Z"
   },
   {
    "duration": 2084,
    "start_time": "2022-03-29T15:15:00.461Z"
   },
   {
    "duration": 65,
    "start_time": "2022-03-29T15:15:02.547Z"
   },
   {
    "duration": 68,
    "start_time": "2022-03-29T15:15:02.614Z"
   },
   {
    "duration": 57,
    "start_time": "2022-03-29T15:15:02.684Z"
   },
   {
    "duration": 453,
    "start_time": "2022-03-29T15:15:02.744Z"
   },
   {
    "duration": 576,
    "start_time": "2022-03-29T15:15:03.199Z"
   },
   {
    "duration": 28,
    "start_time": "2022-03-29T15:15:03.778Z"
   },
   {
    "duration": 443,
    "start_time": "2022-03-29T15:15:03.808Z"
   },
   {
    "duration": 952,
    "start_time": "2022-03-29T15:15:04.253Z"
   },
   {
    "duration": 203,
    "start_time": "2022-03-29T15:15:05.207Z"
   },
   {
    "duration": 419,
    "start_time": "2022-03-29T15:15:05.412Z"
   },
   {
    "duration": 2757,
    "start_time": "2022-03-29T15:15:05.834Z"
   },
   {
    "duration": 29,
    "start_time": "2022-03-29T15:16:12.886Z"
   },
   {
    "duration": 2175,
    "start_time": "2022-03-29T15:16:52.260Z"
   },
   {
    "duration": 6,
    "start_time": "2022-03-29T15:16:54.438Z"
   },
   {
    "duration": 11,
    "start_time": "2022-03-29T15:17:01.484Z"
   },
   {
    "duration": 11,
    "start_time": "2022-03-29T15:17:09.156Z"
   },
   {
    "duration": 6,
    "start_time": "2022-03-29T15:42:01.641Z"
   },
   {
    "duration": 13,
    "start_time": "2022-03-29T15:42:21.401Z"
   },
   {
    "duration": 5,
    "start_time": "2022-03-29T15:42:39.424Z"
   },
   {
    "duration": 70,
    "start_time": "2022-03-29T15:43:03.946Z"
   },
   {
    "duration": 1957,
    "start_time": "2022-03-29T15:43:08.201Z"
   },
   {
    "duration": 1033,
    "start_time": "2022-03-29T15:43:10.160Z"
   },
   {
    "duration": 27,
    "start_time": "2022-03-29T15:43:11.195Z"
   },
   {
    "duration": 175,
    "start_time": "2022-03-29T15:43:11.225Z"
   },
   {
    "duration": 374,
    "start_time": "2022-03-29T15:43:11.402Z"
   },
   {
    "duration": 112,
    "start_time": "2022-03-29T15:43:11.778Z"
   },
   {
    "duration": 167,
    "start_time": "2022-03-29T15:43:11.892Z"
   },
   {
    "duration": 196,
    "start_time": "2022-03-29T15:43:12.061Z"
   },
   {
    "duration": 302,
    "start_time": "2022-03-29T15:43:12.260Z"
   },
   {
    "duration": 119,
    "start_time": "2022-03-29T15:43:12.566Z"
   },
   {
    "duration": 1866,
    "start_time": "2022-03-29T15:43:12.687Z"
   },
   {
    "duration": 65,
    "start_time": "2022-03-29T15:43:14.555Z"
   },
   {
    "duration": 73,
    "start_time": "2022-03-29T15:43:14.623Z"
   },
   {
    "duration": 50,
    "start_time": "2022-03-29T15:43:14.698Z"
   },
   {
    "duration": 422,
    "start_time": "2022-03-29T15:43:14.750Z"
   },
   {
    "duration": 469,
    "start_time": "2022-03-29T15:43:15.175Z"
   },
   {
    "duration": 33,
    "start_time": "2022-03-29T15:43:15.646Z"
   },
   {
    "duration": 468,
    "start_time": "2022-03-29T15:43:15.682Z"
   },
   {
    "duration": 722,
    "start_time": "2022-03-29T15:43:16.153Z"
   },
   {
    "duration": 205,
    "start_time": "2022-03-29T15:43:16.877Z"
   },
   {
    "duration": 415,
    "start_time": "2022-03-29T15:43:17.084Z"
   },
   {
    "duration": 3110,
    "start_time": "2022-03-29T15:43:17.501Z"
   },
   {
    "duration": 31900,
    "start_time": "2022-03-29T15:43:20.613Z"
   },
   {
    "duration": 0,
    "start_time": "2022-03-29T15:48:35.291Z"
   },
   {
    "duration": 0,
    "start_time": "2022-03-29T15:48:35.293Z"
   },
   {
    "duration": 0,
    "start_time": "2022-03-29T15:48:35.295Z"
   },
   {
    "duration": 0,
    "start_time": "2022-03-29T15:48:35.297Z"
   },
   {
    "duration": 0,
    "start_time": "2022-03-29T15:48:35.298Z"
   },
   {
    "duration": 0,
    "start_time": "2022-03-29T15:48:35.300Z"
   },
   {
    "duration": 0,
    "start_time": "2022-03-29T15:48:35.302Z"
   },
   {
    "duration": 0,
    "start_time": "2022-03-29T15:48:35.303Z"
   },
   {
    "duration": 0,
    "start_time": "2022-03-29T15:48:35.370Z"
   },
   {
    "duration": 0,
    "start_time": "2022-03-29T15:48:35.374Z"
   },
   {
    "duration": 0,
    "start_time": "2022-03-29T15:48:35.375Z"
   },
   {
    "duration": 0,
    "start_time": "2022-03-29T15:48:35.377Z"
   },
   {
    "duration": 0,
    "start_time": "2022-03-29T15:48:35.379Z"
   },
   {
    "duration": 0,
    "start_time": "2022-03-29T15:48:35.381Z"
   },
   {
    "duration": 0,
    "start_time": "2022-03-29T15:48:35.382Z"
   },
   {
    "duration": 0,
    "start_time": "2022-03-29T15:48:35.384Z"
   },
   {
    "duration": 0,
    "start_time": "2022-03-29T15:48:35.385Z"
   },
   {
    "duration": 0,
    "start_time": "2022-03-29T15:48:35.387Z"
   },
   {
    "duration": 0,
    "start_time": "2022-03-29T15:48:35.388Z"
   },
   {
    "duration": 0,
    "start_time": "2022-03-29T15:48:35.390Z"
   },
   {
    "duration": 0,
    "start_time": "2022-03-29T15:48:35.391Z"
   },
   {
    "duration": 0,
    "start_time": "2022-03-29T15:48:35.393Z"
   },
   {
    "duration": 0,
    "start_time": "2022-03-29T15:48:35.394Z"
   },
   {
    "duration": 2374,
    "start_time": "2022-03-29T20:15:47.530Z"
   },
   {
    "duration": 1135,
    "start_time": "2022-03-29T20:15:49.907Z"
   },
   {
    "duration": 38,
    "start_time": "2022-03-29T20:15:51.045Z"
   },
   {
    "duration": 180,
    "start_time": "2022-03-29T20:15:51.087Z"
   },
   {
    "duration": 400,
    "start_time": "2022-03-29T20:15:51.269Z"
   },
   {
    "duration": 118,
    "start_time": "2022-03-29T20:15:51.672Z"
   },
   {
    "duration": 172,
    "start_time": "2022-03-29T20:15:51.792Z"
   },
   {
    "duration": 208,
    "start_time": "2022-03-29T20:15:51.966Z"
   },
   {
    "duration": 309,
    "start_time": "2022-03-29T20:15:52.185Z"
   },
   {
    "duration": 127,
    "start_time": "2022-03-29T20:15:52.499Z"
   },
   {
    "duration": 1910,
    "start_time": "2022-03-29T20:15:52.629Z"
   },
   {
    "duration": 69,
    "start_time": "2022-03-29T20:15:54.541Z"
   },
   {
    "duration": 80,
    "start_time": "2022-03-29T20:15:54.612Z"
   },
   {
    "duration": 55,
    "start_time": "2022-03-29T20:15:54.695Z"
   },
   {
    "duration": 513,
    "start_time": "2022-03-29T20:15:54.752Z"
   },
   {
    "duration": 648,
    "start_time": "2022-03-29T20:15:55.268Z"
   },
   {
    "duration": 23,
    "start_time": "2022-03-29T20:15:55.919Z"
   },
   {
    "duration": 559,
    "start_time": "2022-03-29T20:15:55.944Z"
   },
   {
    "duration": 1384,
    "start_time": "2022-03-29T20:15:56.506Z"
   },
   {
    "duration": 200,
    "start_time": "2022-03-29T20:15:57.892Z"
   },
   {
    "duration": 410,
    "start_time": "2022-03-29T20:15:58.094Z"
   },
   {
    "duration": 3125,
    "start_time": "2022-03-29T20:15:58.507Z"
   },
   {
    "duration": 4,
    "start_time": "2022-03-29T20:16:01.634Z"
   },
   {
    "duration": 180,
    "start_time": "2022-03-29T20:16:01.641Z"
   },
   {
    "duration": 6,
    "start_time": "2022-03-29T20:17:25.916Z"
   },
   {
    "duration": 1139,
    "start_time": "2022-03-29T20:17:25.925Z"
   },
   {
    "duration": 27,
    "start_time": "2022-03-29T20:17:27.067Z"
   },
   {
    "duration": 186,
    "start_time": "2022-03-29T20:17:27.097Z"
   },
   {
    "duration": 359,
    "start_time": "2022-03-29T20:17:27.285Z"
   },
   {
    "duration": 114,
    "start_time": "2022-03-29T20:17:27.646Z"
   },
   {
    "duration": 150,
    "start_time": "2022-03-29T20:17:27.763Z"
   },
   {
    "duration": 206,
    "start_time": "2022-03-29T20:17:27.916Z"
   },
   {
    "duration": 301,
    "start_time": "2022-03-29T20:17:28.125Z"
   },
   {
    "duration": 124,
    "start_time": "2022-03-29T20:17:28.428Z"
   },
   {
    "duration": 1933,
    "start_time": "2022-03-29T20:17:28.554Z"
   },
   {
    "duration": 53,
    "start_time": "2022-03-29T20:17:30.490Z"
   },
   {
    "duration": 79,
    "start_time": "2022-03-29T20:17:30.545Z"
   },
   {
    "duration": 63,
    "start_time": "2022-03-29T20:17:30.626Z"
   },
   {
    "duration": 546,
    "start_time": "2022-03-29T20:17:30.691Z"
   },
   {
    "duration": 506,
    "start_time": "2022-03-29T20:17:31.239Z"
   },
   {
    "duration": 38,
    "start_time": "2022-03-29T20:17:31.748Z"
   },
   {
    "duration": 503,
    "start_time": "2022-03-29T20:17:31.788Z"
   },
   {
    "duration": 1386,
    "start_time": "2022-03-29T20:17:32.293Z"
   },
   {
    "duration": 200,
    "start_time": "2022-03-29T20:17:33.683Z"
   },
   {
    "duration": 426,
    "start_time": "2022-03-29T20:17:33.886Z"
   },
   {
    "duration": 3301,
    "start_time": "2022-03-29T20:17:34.314Z"
   },
   {
    "duration": 3,
    "start_time": "2022-03-29T20:17:37.618Z"
   },
   {
    "duration": 93366,
    "start_time": "2022-03-29T20:17:37.625Z"
   },
   {
    "duration": 89492,
    "start_time": "2022-03-29T20:19:17.392Z"
   },
   {
    "duration": 61072,
    "start_time": "2022-03-29T20:27:27.212Z"
   },
   {
    "duration": 1742,
    "start_time": "2022-03-30T09:14:41.085Z"
   },
   {
    "duration": 877,
    "start_time": "2022-03-30T09:14:42.829Z"
   },
   {
    "duration": 25,
    "start_time": "2022-03-30T09:14:43.708Z"
   },
   {
    "duration": 145,
    "start_time": "2022-03-30T09:14:43.735Z"
   },
   {
    "duration": 291,
    "start_time": "2022-03-30T09:14:43.882Z"
   },
   {
    "duration": 96,
    "start_time": "2022-03-30T09:14:44.175Z"
   },
   {
    "duration": 143,
    "start_time": "2022-03-30T09:14:44.273Z"
   },
   {
    "duration": 150,
    "start_time": "2022-03-30T09:14:44.418Z"
   },
   {
    "duration": 238,
    "start_time": "2022-03-30T09:14:44.570Z"
   },
   {
    "duration": 104,
    "start_time": "2022-03-30T09:14:44.812Z"
   },
   {
    "duration": 1246,
    "start_time": "2022-03-30T09:14:44.918Z"
   },
   {
    "duration": 33,
    "start_time": "2022-03-30T09:14:46.166Z"
   },
   {
    "duration": 61,
    "start_time": "2022-03-30T09:14:46.201Z"
   },
   {
    "duration": 33,
    "start_time": "2022-03-30T09:14:46.264Z"
   },
   {
    "duration": 279,
    "start_time": "2022-03-30T09:14:46.299Z"
   },
   {
    "duration": 327,
    "start_time": "2022-03-30T09:14:46.580Z"
   },
   {
    "duration": 24,
    "start_time": "2022-03-30T09:14:46.909Z"
   },
   {
    "duration": 432,
    "start_time": "2022-03-30T09:14:46.935Z"
   },
   {
    "duration": 806,
    "start_time": "2022-03-30T09:14:47.369Z"
   },
   {
    "duration": 192,
    "start_time": "2022-03-30T09:14:48.177Z"
   },
   {
    "duration": 288,
    "start_time": "2022-03-30T09:14:48.371Z"
   },
   {
    "duration": 2619,
    "start_time": "2022-03-30T09:14:48.662Z"
   },
   {
    "duration": 2,
    "start_time": "2022-03-30T09:14:51.283Z"
   },
   {
    "duration": 1,
    "start_time": "2022-03-30T09:15:07.978Z"
   },
   {
    "duration": 0,
    "start_time": "2022-03-30T09:15:07.979Z"
   },
   {
    "duration": 0,
    "start_time": "2022-03-30T09:15:07.981Z"
   },
   {
    "duration": 0,
    "start_time": "2022-03-30T09:15:07.981Z"
   },
   {
    "duration": 0,
    "start_time": "2022-03-30T09:15:07.983Z"
   },
   {
    "duration": 0,
    "start_time": "2022-03-30T09:15:07.984Z"
   },
   {
    "duration": 0,
    "start_time": "2022-03-30T09:15:07.985Z"
   },
   {
    "duration": 0,
    "start_time": "2022-03-30T09:15:07.986Z"
   },
   {
    "duration": 0,
    "start_time": "2022-03-30T09:15:07.987Z"
   },
   {
    "duration": 0,
    "start_time": "2022-03-30T09:15:07.988Z"
   },
   {
    "duration": 0,
    "start_time": "2022-03-30T09:15:07.989Z"
   },
   {
    "duration": 0,
    "start_time": "2022-03-30T09:15:07.990Z"
   },
   {
    "duration": 0,
    "start_time": "2022-03-30T09:15:07.991Z"
   },
   {
    "duration": 0,
    "start_time": "2022-03-30T09:15:07.992Z"
   },
   {
    "duration": 0,
    "start_time": "2022-03-30T09:15:07.993Z"
   },
   {
    "duration": 0,
    "start_time": "2022-03-30T09:15:07.994Z"
   },
   {
    "duration": 0,
    "start_time": "2022-03-30T09:15:07.995Z"
   },
   {
    "duration": 0,
    "start_time": "2022-03-30T09:15:07.996Z"
   },
   {
    "duration": 0,
    "start_time": "2022-03-30T09:15:07.997Z"
   },
   {
    "duration": 0,
    "start_time": "2022-03-30T09:15:08.032Z"
   },
   {
    "duration": 0,
    "start_time": "2022-03-30T09:15:08.033Z"
   },
   {
    "duration": 0,
    "start_time": "2022-03-30T09:15:08.034Z"
   },
   {
    "duration": 0,
    "start_time": "2022-03-30T09:15:08.035Z"
   },
   {
    "duration": 0,
    "start_time": "2022-03-30T09:15:08.035Z"
   },
   {
    "duration": 4,
    "start_time": "2022-03-30T09:15:11.863Z"
   },
   {
    "duration": 854,
    "start_time": "2022-03-30T09:15:11.870Z"
   },
   {
    "duration": 15,
    "start_time": "2022-03-30T09:15:12.726Z"
   },
   {
    "duration": 136,
    "start_time": "2022-03-30T09:15:12.743Z"
   },
   {
    "duration": 216,
    "start_time": "2022-03-30T09:15:12.881Z"
   },
   {
    "duration": 93,
    "start_time": "2022-03-30T09:15:13.098Z"
   },
   {
    "duration": 115,
    "start_time": "2022-03-30T09:15:13.193Z"
   },
   {
    "duration": 139,
    "start_time": "2022-03-30T09:15:13.310Z"
   },
   {
    "duration": 225,
    "start_time": "2022-03-30T09:15:13.451Z"
   },
   {
    "duration": 98,
    "start_time": "2022-03-30T09:15:13.679Z"
   },
   {
    "duration": 1242,
    "start_time": "2022-03-30T09:15:13.779Z"
   },
   {
    "duration": 34,
    "start_time": "2022-03-30T09:15:15.023Z"
   },
   {
    "duration": 32,
    "start_time": "2022-03-30T09:15:15.059Z"
   },
   {
    "duration": 48,
    "start_time": "2022-03-30T09:15:15.093Z"
   },
   {
    "duration": 236,
    "start_time": "2022-03-30T09:15:15.143Z"
   },
   {
    "duration": 274,
    "start_time": "2022-03-30T09:15:15.381Z"
   },
   {
    "duration": 17,
    "start_time": "2022-03-30T09:15:15.657Z"
   },
   {
    "duration": 365,
    "start_time": "2022-03-30T09:15:15.676Z"
   },
   {
    "duration": 811,
    "start_time": "2022-03-30T09:15:16.043Z"
   },
   {
    "duration": 194,
    "start_time": "2022-03-30T09:15:16.855Z"
   },
   {
    "duration": 285,
    "start_time": "2022-03-30T09:15:17.052Z"
   },
   {
    "duration": 2670,
    "start_time": "2022-03-30T09:15:17.339Z"
   },
   {
    "duration": 3,
    "start_time": "2022-03-30T09:15:20.011Z"
   },
   {
    "duration": 49222,
    "start_time": "2022-03-30T09:15:20.015Z"
   },
   {
    "duration": 50381,
    "start_time": "2022-03-30T09:26:44.756Z"
   },
   {
    "duration": 59122,
    "start_time": "2022-03-30T09:28:34.413Z"
   },
   {
    "duration": 50840,
    "start_time": "2022-03-30T09:37:27.501Z"
   },
   {
    "duration": 62759,
    "start_time": "2022-03-30T09:41:30.073Z"
   },
   {
    "duration": 3153,
    "start_time": "2022-03-30T17:20:46.080Z"
   },
   {
    "duration": 1123,
    "start_time": "2022-03-30T17:20:49.236Z"
   },
   {
    "duration": 27,
    "start_time": "2022-03-30T17:20:50.361Z"
   },
   {
    "duration": 188,
    "start_time": "2022-03-30T17:20:50.391Z"
   },
   {
    "duration": 402,
    "start_time": "2022-03-30T17:20:50.581Z"
   },
   {
    "duration": 111,
    "start_time": "2022-03-30T17:20:50.986Z"
   },
   {
    "duration": 172,
    "start_time": "2022-03-30T17:20:51.100Z"
   },
   {
    "duration": 201,
    "start_time": "2022-03-30T17:20:51.274Z"
   },
   {
    "duration": 292,
    "start_time": "2022-03-30T17:20:51.477Z"
   },
   {
    "duration": 120,
    "start_time": "2022-03-30T17:20:51.773Z"
   },
   {
    "duration": 1812,
    "start_time": "2022-03-30T17:20:51.896Z"
   },
   {
    "duration": 67,
    "start_time": "2022-03-30T17:20:53.710Z"
   },
   {
    "duration": 76,
    "start_time": "2022-03-30T17:20:53.779Z"
   },
   {
    "duration": 53,
    "start_time": "2022-03-30T17:20:53.858Z"
   },
   {
    "duration": 446,
    "start_time": "2022-03-30T17:20:53.913Z"
   },
   {
    "duration": 597,
    "start_time": "2022-03-30T17:20:54.362Z"
   },
   {
    "duration": 23,
    "start_time": "2022-03-30T17:20:54.961Z"
   },
   {
    "duration": 526,
    "start_time": "2022-03-30T17:20:54.986Z"
   },
   {
    "duration": 1238,
    "start_time": "2022-03-30T17:20:55.514Z"
   },
   {
    "duration": 202,
    "start_time": "2022-03-30T17:20:56.755Z"
   },
   {
    "duration": 411,
    "start_time": "2022-03-30T17:20:56.959Z"
   },
   {
    "duration": 3135,
    "start_time": "2022-03-30T17:20:57.372Z"
   },
   {
    "duration": 77276,
    "start_time": "2022-03-30T17:21:00.509Z"
   },
   {
    "duration": 216,
    "start_time": "2022-03-30T17:22:17.787Z"
   },
   {
    "duration": 35692,
    "start_time": "2022-03-30T17:23:14.304Z"
   },
   {
    "duration": 8,
    "start_time": "2022-03-30T17:24:17.560Z"
   },
   {
    "duration": 1040,
    "start_time": "2022-03-30T17:24:17.571Z"
   },
   {
    "duration": 33,
    "start_time": "2022-03-30T17:24:18.613Z"
   },
   {
    "duration": 178,
    "start_time": "2022-03-30T17:24:18.650Z"
   },
   {
    "duration": 407,
    "start_time": "2022-03-30T17:24:18.831Z"
   },
   {
    "duration": 112,
    "start_time": "2022-03-30T17:24:19.243Z"
   },
   {
    "duration": 139,
    "start_time": "2022-03-30T17:24:19.357Z"
   },
   {
    "duration": 227,
    "start_time": "2022-03-30T17:24:19.498Z"
   },
   {
    "duration": 316,
    "start_time": "2022-03-30T17:24:19.728Z"
   },
   {
    "duration": 125,
    "start_time": "2022-03-30T17:24:20.050Z"
   },
   {
    "duration": 2569,
    "start_time": "2022-03-30T17:24:20.178Z"
   },
   {
    "duration": 53,
    "start_time": "2022-03-30T17:24:22.750Z"
   },
   {
    "duration": 81,
    "start_time": "2022-03-30T17:24:22.805Z"
   },
   {
    "duration": 61,
    "start_time": "2022-03-30T17:24:22.888Z"
   },
   {
    "duration": 427,
    "start_time": "2022-03-30T17:24:22.951Z"
   },
   {
    "duration": 449,
    "start_time": "2022-03-30T17:24:23.384Z"
   },
   {
    "duration": 33,
    "start_time": "2022-03-30T17:24:23.835Z"
   },
   {
    "duration": 454,
    "start_time": "2022-03-30T17:24:23.871Z"
   },
   {
    "duration": 894,
    "start_time": "2022-03-30T17:24:24.328Z"
   },
   {
    "duration": 194,
    "start_time": "2022-03-30T17:24:25.225Z"
   },
   {
    "duration": 387,
    "start_time": "2022-03-30T17:24:25.422Z"
   },
   {
    "duration": 3247,
    "start_time": "2022-03-30T17:24:25.811Z"
   },
   {
    "duration": 37084,
    "start_time": "2022-03-30T17:24:29.061Z"
   },
   {
    "duration": 266,
    "start_time": "2022-03-30T17:25:06.148Z"
   },
   {
    "duration": 6,
    "start_time": "2022-03-30T17:28:06.238Z"
   },
   {
    "duration": 978,
    "start_time": "2022-03-30T17:28:06.247Z"
   },
   {
    "duration": 26,
    "start_time": "2022-03-30T17:28:07.228Z"
   },
   {
    "duration": 165,
    "start_time": "2022-03-30T17:28:07.257Z"
   },
   {
    "duration": 329,
    "start_time": "2022-03-30T17:28:07.425Z"
   },
   {
    "duration": 109,
    "start_time": "2022-03-30T17:28:07.756Z"
   },
   {
    "duration": 137,
    "start_time": "2022-03-30T17:28:07.867Z"
   },
   {
    "duration": 207,
    "start_time": "2022-03-30T17:28:08.006Z"
   },
   {
    "duration": 331,
    "start_time": "2022-03-30T17:28:08.215Z"
   },
   {
    "duration": 131,
    "start_time": "2022-03-30T17:28:08.549Z"
   },
   {
    "duration": 1803,
    "start_time": "2022-03-30T17:28:08.683Z"
   },
   {
    "duration": 70,
    "start_time": "2022-03-30T17:28:10.488Z"
   },
   {
    "duration": 58,
    "start_time": "2022-03-30T17:28:10.560Z"
   },
   {
    "duration": 70,
    "start_time": "2022-03-30T17:28:10.620Z"
   },
   {
    "duration": 382,
    "start_time": "2022-03-30T17:28:10.692Z"
   },
   {
    "duration": 450,
    "start_time": "2022-03-30T17:28:11.076Z"
   },
   {
    "duration": 32,
    "start_time": "2022-03-30T17:28:11.528Z"
   },
   {
    "duration": 451,
    "start_time": "2022-03-30T17:28:11.563Z"
   },
   {
    "duration": 1000,
    "start_time": "2022-03-30T17:28:12.016Z"
   },
   {
    "duration": 202,
    "start_time": "2022-03-30T17:28:13.018Z"
   },
   {
    "duration": 508,
    "start_time": "2022-03-30T17:28:13.223Z"
   },
   {
    "duration": 3111,
    "start_time": "2022-03-30T17:28:13.733Z"
   },
   {
    "duration": 30111,
    "start_time": "2022-03-30T17:28:16.846Z"
   },
   {
    "duration": 5,
    "start_time": "2022-03-30T17:28:46.959Z"
   },
   {
    "duration": 4,
    "start_time": "2022-03-30T17:35:52.712Z"
   },
   {
    "duration": 350,
    "start_time": "2022-03-30T17:36:56.437Z"
   },
   {
    "duration": 222,
    "start_time": "2022-03-30T17:37:11.195Z"
   },
   {
    "duration": 220,
    "start_time": "2022-03-30T17:37:44.755Z"
   },
   {
    "duration": 4,
    "start_time": "2022-03-30T17:38:03.882Z"
   },
   {
    "duration": 4,
    "start_time": "2022-03-30T17:39:21.561Z"
   },
   {
    "duration": 17,
    "start_time": "2022-03-30T17:40:19.783Z"
   },
   {
    "duration": 4,
    "start_time": "2022-03-30T17:40:39.206Z"
   },
   {
    "duration": 4,
    "start_time": "2022-03-30T17:40:39.630Z"
   },
   {
    "duration": 323382,
    "start_time": "2022-03-30T17:40:40.456Z"
   },
   {
    "duration": 6,
    "start_time": "2022-03-30T17:46:50.541Z"
   },
   {
    "duration": 1003,
    "start_time": "2022-03-30T17:46:50.551Z"
   },
   {
    "duration": 24,
    "start_time": "2022-03-30T17:46:51.556Z"
   },
   {
    "duration": 182,
    "start_time": "2022-03-30T17:46:51.584Z"
   },
   {
    "duration": 318,
    "start_time": "2022-03-30T17:46:51.768Z"
   },
   {
    "duration": 105,
    "start_time": "2022-03-30T17:46:52.088Z"
   },
   {
    "duration": 146,
    "start_time": "2022-03-30T17:46:52.195Z"
   },
   {
    "duration": 192,
    "start_time": "2022-03-30T17:46:52.343Z"
   },
   {
    "duration": 281,
    "start_time": "2022-03-30T17:46:52.544Z"
   },
   {
    "duration": 105,
    "start_time": "2022-03-30T17:46:52.828Z"
   },
   {
    "duration": 1668,
    "start_time": "2022-03-30T17:46:52.935Z"
   },
   {
    "duration": 57,
    "start_time": "2022-03-30T17:46:54.605Z"
   },
   {
    "duration": 55,
    "start_time": "2022-03-30T17:46:54.664Z"
   },
   {
    "duration": 63,
    "start_time": "2022-03-30T17:46:54.721Z"
   },
   {
    "duration": 528,
    "start_time": "2022-03-30T17:46:54.786Z"
   },
   {
    "duration": 436,
    "start_time": "2022-03-30T17:46:55.316Z"
   },
   {
    "duration": 28,
    "start_time": "2022-03-30T17:46:55.755Z"
   },
   {
    "duration": 460,
    "start_time": "2022-03-30T17:46:55.785Z"
   },
   {
    "duration": 686,
    "start_time": "2022-03-30T17:46:56.247Z"
   },
   {
    "duration": 207,
    "start_time": "2022-03-30T17:46:56.936Z"
   },
   {
    "duration": 390,
    "start_time": "2022-03-30T17:46:57.145Z"
   },
   {
    "duration": 3297,
    "start_time": "2022-03-30T17:46:57.538Z"
   },
   {
    "duration": 2231,
    "start_time": "2022-03-30T17:47:41.356Z"
   },
   {
    "duration": 1059,
    "start_time": "2022-03-30T17:47:43.590Z"
   },
   {
    "duration": 31,
    "start_time": "2022-03-30T17:47:44.652Z"
   },
   {
    "duration": 202,
    "start_time": "2022-03-30T17:47:44.686Z"
   },
   {
    "duration": 420,
    "start_time": "2022-03-30T17:47:44.891Z"
   },
   {
    "duration": 112,
    "start_time": "2022-03-30T17:47:45.314Z"
   },
   {
    "duration": 173,
    "start_time": "2022-03-30T17:47:45.428Z"
   },
   {
    "duration": 194,
    "start_time": "2022-03-30T17:47:45.603Z"
   },
   {
    "duration": 298,
    "start_time": "2022-03-30T17:47:45.799Z"
   },
   {
    "duration": 114,
    "start_time": "2022-03-30T17:47:46.102Z"
   },
   {
    "duration": 1792,
    "start_time": "2022-03-30T17:47:46.218Z"
   },
   {
    "duration": 65,
    "start_time": "2022-03-30T17:47:48.012Z"
   },
   {
    "duration": 65,
    "start_time": "2022-03-30T17:47:48.079Z"
   },
   {
    "duration": 55,
    "start_time": "2022-03-30T17:47:48.146Z"
   },
   {
    "duration": 418,
    "start_time": "2022-03-30T17:47:48.203Z"
   },
   {
    "duration": 458,
    "start_time": "2022-03-30T17:47:48.623Z"
   },
   {
    "duration": 24,
    "start_time": "2022-03-30T17:47:49.083Z"
   },
   {
    "duration": 513,
    "start_time": "2022-03-30T17:47:49.109Z"
   },
   {
    "duration": 718,
    "start_time": "2022-03-30T17:47:49.624Z"
   },
   {
    "duration": 191,
    "start_time": "2022-03-30T17:47:50.344Z"
   },
   {
    "duration": 395,
    "start_time": "2022-03-30T17:47:50.537Z"
   },
   {
    "duration": 3171,
    "start_time": "2022-03-30T17:47:50.934Z"
   },
   {
    "duration": 30046,
    "start_time": "2022-03-30T17:47:54.108Z"
   },
   {
    "duration": 4,
    "start_time": "2022-03-30T17:48:24.156Z"
   },
   {
    "duration": 15,
    "start_time": "2022-03-30T17:48:24.163Z"
   },
   {
    "duration": 6,
    "start_time": "2022-03-30T17:48:24.243Z"
   },
   {
    "duration": 0,
    "start_time": "2022-03-30T17:48:24.251Z"
   },
   {
    "duration": 96811,
    "start_time": "2022-03-30T18:01:13.479Z"
   },
   {
    "duration": 4,
    "start_time": "2022-03-30T18:04:02.979Z"
   },
   {
    "duration": 422738,
    "start_time": "2022-03-30T18:04:03.476Z"
   },
   {
    "duration": 2155,
    "start_time": "2022-03-30T18:12:18.272Z"
   },
   {
    "duration": 1036,
    "start_time": "2022-03-30T18:12:20.430Z"
   },
   {
    "duration": 29,
    "start_time": "2022-03-30T18:12:21.469Z"
   },
   {
    "duration": 186,
    "start_time": "2022-03-30T18:12:21.502Z"
   },
   {
    "duration": 600,
    "start_time": "2022-03-30T18:12:21.690Z"
   },
   {
    "duration": 179,
    "start_time": "2022-03-30T18:12:22.293Z"
   },
   {
    "duration": 184,
    "start_time": "2022-03-30T18:12:22.474Z"
   },
   {
    "duration": 251,
    "start_time": "2022-03-30T18:12:22.660Z"
   },
   {
    "duration": 418,
    "start_time": "2022-03-30T18:12:22.914Z"
   },
   {
    "duration": 132,
    "start_time": "2022-03-30T18:12:23.342Z"
   },
   {
    "duration": 1823,
    "start_time": "2022-03-30T18:12:23.476Z"
   },
   {
    "duration": 66,
    "start_time": "2022-03-30T18:12:25.302Z"
   },
   {
    "duration": 73,
    "start_time": "2022-03-30T18:12:25.370Z"
   },
   {
    "duration": 50,
    "start_time": "2022-03-30T18:12:25.445Z"
   },
   {
    "duration": 410,
    "start_time": "2022-03-30T18:12:25.497Z"
   },
   {
    "duration": 438,
    "start_time": "2022-03-30T18:12:25.909Z"
   },
   {
    "duration": 22,
    "start_time": "2022-03-30T18:12:26.349Z"
   },
   {
    "duration": 441,
    "start_time": "2022-03-30T18:12:26.373Z"
   },
   {
    "duration": 841,
    "start_time": "2022-03-30T18:12:26.816Z"
   },
   {
    "duration": 190,
    "start_time": "2022-03-30T18:12:27.659Z"
   },
   {
    "duration": 406,
    "start_time": "2022-03-30T18:12:27.851Z"
   },
   {
    "duration": 3205,
    "start_time": "2022-03-30T18:12:28.259Z"
   },
   {
    "duration": 37688,
    "start_time": "2022-03-30T18:12:31.466Z"
   },
   {
    "duration": 5,
    "start_time": "2022-03-30T18:13:09.156Z"
   },
   {
    "duration": 15,
    "start_time": "2022-03-30T18:13:09.163Z"
   },
   {
    "duration": 103236,
    "start_time": "2022-03-30T18:13:09.180Z"
   },
   {
    "duration": 5,
    "start_time": "2022-03-30T18:14:52.418Z"
   },
   {
    "duration": 179,
    "start_time": "2022-03-30T18:17:38.374Z"
   },
   {
    "duration": 3,
    "start_time": "2022-03-30T18:17:42.039Z"
   },
   {
    "duration": 4,
    "start_time": "2022-03-30T18:17:42.808Z"
   },
   {
    "duration": 99890,
    "start_time": "2022-03-30T18:17:45.688Z"
   },
   {
    "duration": 6,
    "start_time": "2022-03-30T18:19:55.094Z"
   },
   {
    "duration": 3,
    "start_time": "2022-03-30T18:23:46.366Z"
   },
   {
    "duration": 230,
    "start_time": "2022-03-30T18:27:10.036Z"
   },
   {
    "duration": 209,
    "start_time": "2022-03-30T18:27:16.034Z"
   },
   {
    "duration": 5,
    "start_time": "2022-03-30T18:27:23.641Z"
   },
   {
    "duration": 1646,
    "start_time": "2022-03-30T18:48:10.246Z"
   },
   {
    "duration": 812,
    "start_time": "2022-03-30T18:48:11.894Z"
   },
   {
    "duration": 18,
    "start_time": "2022-03-30T18:48:12.708Z"
   },
   {
    "duration": 141,
    "start_time": "2022-03-30T18:48:12.728Z"
   },
   {
    "duration": 275,
    "start_time": "2022-03-30T18:48:12.870Z"
   },
   {
    "duration": 95,
    "start_time": "2022-03-30T18:48:13.147Z"
   },
   {
    "duration": 137,
    "start_time": "2022-03-30T18:48:13.244Z"
   },
   {
    "duration": 128,
    "start_time": "2022-03-30T18:48:13.383Z"
   },
   {
    "duration": 225,
    "start_time": "2022-03-30T18:48:13.512Z"
   },
   {
    "duration": 83,
    "start_time": "2022-03-30T18:48:13.740Z"
   },
   {
    "duration": 1093,
    "start_time": "2022-03-30T18:48:13.825Z"
   },
   {
    "duration": 35,
    "start_time": "2022-03-30T18:48:14.920Z"
   },
   {
    "duration": 32,
    "start_time": "2022-03-30T18:48:14.956Z"
   },
   {
    "duration": 49,
    "start_time": "2022-03-30T18:48:14.990Z"
   },
   {
    "duration": 245,
    "start_time": "2022-03-30T18:48:15.041Z"
   },
   {
    "duration": 290,
    "start_time": "2022-03-30T18:48:15.288Z"
   },
   {
    "duration": 16,
    "start_time": "2022-03-30T18:48:15.580Z"
   },
   {
    "duration": 384,
    "start_time": "2022-03-30T18:48:15.598Z"
   },
   {
    "duration": 721,
    "start_time": "2022-03-30T18:48:15.983Z"
   },
   {
    "duration": 202,
    "start_time": "2022-03-30T18:48:16.705Z"
   },
   {
    "duration": 295,
    "start_time": "2022-03-30T18:48:16.908Z"
   },
   {
    "duration": 2740,
    "start_time": "2022-03-30T18:48:17.205Z"
   },
   {
    "duration": 24198,
    "start_time": "2022-03-30T18:48:19.946Z"
   },
   {
    "duration": 3,
    "start_time": "2022-03-30T18:48:44.145Z"
   },
   {
    "duration": 6,
    "start_time": "2022-03-30T18:48:44.150Z"
   },
   {
    "duration": 79727,
    "start_time": "2022-03-30T18:48:44.158Z"
   },
   {
    "duration": 3,
    "start_time": "2022-03-30T18:50:03.887Z"
   },
   {
    "duration": 8,
    "start_time": "2022-03-30T18:50:03.893Z"
   },
   {
    "duration": 6,
    "start_time": "2022-03-30T18:50:03.902Z"
   },
   {
    "duration": 604933,
    "start_time": "2022-03-30T18:50:03.910Z"
   },
   {
    "duration": 3,
    "start_time": "2022-03-30T19:00:46.093Z"
   },
   {
    "duration": 3,
    "start_time": "2022-03-30T19:00:46.784Z"
   },
   {
    "duration": 588041,
    "start_time": "2022-03-30T19:00:47.811Z"
   },
   {
    "duration": 3,
    "start_time": "2022-03-30T19:10:46.514Z"
   },
   {
    "duration": 1472,
    "start_time": "2022-03-30T19:20:58.877Z"
   },
   {
    "duration": 817,
    "start_time": "2022-03-30T19:21:00.351Z"
   },
   {
    "duration": 19,
    "start_time": "2022-03-30T19:21:01.170Z"
   },
   {
    "duration": 171,
    "start_time": "2022-03-30T19:21:01.191Z"
   },
   {
    "duration": 285,
    "start_time": "2022-03-30T19:21:01.363Z"
   },
   {
    "duration": 91,
    "start_time": "2022-03-30T19:21:01.650Z"
   },
   {
    "duration": 152,
    "start_time": "2022-03-30T19:21:01.743Z"
   },
   {
    "duration": 134,
    "start_time": "2022-03-30T19:21:01.897Z"
   },
   {
    "duration": 224,
    "start_time": "2022-03-30T19:21:02.033Z"
   },
   {
    "duration": 97,
    "start_time": "2022-03-30T19:21:02.260Z"
   },
   {
    "duration": 1107,
    "start_time": "2022-03-30T19:21:02.359Z"
   },
   {
    "duration": 30,
    "start_time": "2022-03-30T19:21:03.467Z"
   },
   {
    "duration": 49,
    "start_time": "2022-03-30T19:21:03.499Z"
   },
   {
    "duration": 38,
    "start_time": "2022-03-30T19:21:03.550Z"
   },
   {
    "duration": 220,
    "start_time": "2022-03-30T19:21:03.590Z"
   },
   {
    "duration": 262,
    "start_time": "2022-03-30T19:21:03.811Z"
   },
   {
    "duration": 15,
    "start_time": "2022-03-30T19:21:04.075Z"
   },
   {
    "duration": 335,
    "start_time": "2022-03-30T19:21:04.092Z"
   },
   {
    "duration": 699,
    "start_time": "2022-03-30T19:21:04.437Z"
   },
   {
    "duration": 200,
    "start_time": "2022-03-30T19:21:05.138Z"
   },
   {
    "duration": 295,
    "start_time": "2022-03-30T19:21:05.339Z"
   },
   {
    "duration": 2712,
    "start_time": "2022-03-30T19:21:05.637Z"
   },
   {
    "duration": 22893,
    "start_time": "2022-03-30T19:21:08.351Z"
   },
   {
    "duration": 5,
    "start_time": "2022-03-30T19:21:31.245Z"
   },
   {
    "duration": 17,
    "start_time": "2022-03-30T19:21:31.251Z"
   },
   {
    "duration": 80353,
    "start_time": "2022-03-30T19:21:31.269Z"
   },
   {
    "duration": 4,
    "start_time": "2022-03-30T19:22:51.623Z"
   },
   {
    "duration": 2,
    "start_time": "2022-03-30T19:22:51.639Z"
   },
   {
    "duration": 7,
    "start_time": "2022-03-30T19:22:51.643Z"
   },
   {
    "duration": 1486,
    "start_time": "2022-03-30T19:24:06.754Z"
   },
   {
    "duration": 810,
    "start_time": "2022-03-30T19:24:08.929Z"
   },
   {
    "duration": 5,
    "start_time": "2022-03-30T19:24:23.538Z"
   },
   {
    "duration": 823,
    "start_time": "2022-03-30T19:24:24.281Z"
   },
   {
    "duration": 19,
    "start_time": "2022-03-30T19:24:25.752Z"
   },
   {
    "duration": 152,
    "start_time": "2022-03-30T19:24:27.104Z"
   },
   {
    "duration": 254,
    "start_time": "2022-03-30T19:24:28.105Z"
   },
   {
    "duration": 84,
    "start_time": "2022-03-30T19:24:28.529Z"
   },
   {
    "duration": 120,
    "start_time": "2022-03-30T19:24:29.345Z"
   },
   {
    "duration": 123,
    "start_time": "2022-03-30T19:24:29.753Z"
   },
   {
    "duration": 221,
    "start_time": "2022-03-30T19:24:30.649Z"
   },
   {
    "duration": 92,
    "start_time": "2022-03-30T19:24:31.136Z"
   },
   {
    "duration": 1234,
    "start_time": "2022-03-30T19:24:32.201Z"
   },
   {
    "duration": 34,
    "start_time": "2022-03-30T19:24:33.437Z"
   },
   {
    "duration": 33,
    "start_time": "2022-03-30T19:24:34.759Z"
   },
   {
    "duration": 42,
    "start_time": "2022-03-30T19:24:36.069Z"
   },
   {
    "duration": 279,
    "start_time": "2022-03-30T19:24:37.167Z"
   },
   {
    "duration": 254,
    "start_time": "2022-03-30T19:24:38.335Z"
   },
   {
    "duration": 16,
    "start_time": "2022-03-30T19:24:41.719Z"
   },
   {
    "duration": 334,
    "start_time": "2022-03-30T19:24:42.304Z"
   },
   {
    "duration": 844,
    "start_time": "2022-03-30T19:24:49.599Z"
   },
   {
    "duration": 191,
    "start_time": "2022-03-30T19:24:51.370Z"
   },
   {
    "duration": 297,
    "start_time": "2022-03-30T19:24:55.181Z"
   },
   {
    "duration": 2822,
    "start_time": "2022-03-30T19:24:57.303Z"
   },
   {
    "duration": 3,
    "start_time": "2022-03-30T19:25:14.079Z"
   },
   {
    "duration": 4,
    "start_time": "2022-03-30T19:25:32.047Z"
   },
   {
    "duration": 4,
    "start_time": "2022-03-30T19:25:54.518Z"
   },
   {
    "duration": 24387,
    "start_time": "2022-03-30T19:26:10.357Z"
   },
   {
    "duration": 3,
    "start_time": "2022-03-30T19:26:39.276Z"
   },
   {
    "duration": 2,
    "start_time": "2022-03-30T19:26:41.972Z"
   },
   {
    "duration": 158604,
    "start_time": "2022-03-30T19:26:48.461Z"
   },
   {
    "duration": 3,
    "start_time": "2022-03-30T19:31:39.699Z"
   },
   {
    "duration": 163472,
    "start_time": "2022-03-30T19:31:41.069Z"
   },
   {
    "duration": 4,
    "start_time": "2022-03-30T19:35:25.511Z"
   },
   {
    "duration": 4,
    "start_time": "2022-03-30T19:37:13.858Z"
   },
   {
    "duration": 4,
    "start_time": "2022-03-30T19:37:14.714Z"
   },
   {
    "duration": 374975,
    "start_time": "2022-03-30T19:37:32.347Z"
   },
   {
    "duration": 3,
    "start_time": "2022-03-30T19:44:28.833Z"
   },
   {
    "duration": 3,
    "start_time": "2022-03-30T19:45:47.767Z"
   },
   {
    "duration": 226257,
    "start_time": "2022-03-30T19:46:19.911Z"
   },
   {
    "duration": 2,
    "start_time": "2022-03-30T19:50:20.067Z"
   },
   {
    "duration": 20,
    "start_time": "2022-03-30T19:50:59.255Z"
   },
   {
    "duration": 92,
    "start_time": "2022-03-30T19:50:59.681Z"
   },
   {
    "duration": 2263,
    "start_time": "2022-03-30T19:51:11.296Z"
   },
   {
    "duration": 5,
    "start_time": "2022-03-30T19:51:39.319Z"
   },
   {
    "duration": 762,
    "start_time": "2022-03-30T19:51:39.325Z"
   },
   {
    "duration": 14,
    "start_time": "2022-03-30T19:51:40.089Z"
   },
   {
    "duration": 138,
    "start_time": "2022-03-30T19:51:40.106Z"
   },
   {
    "duration": 219,
    "start_time": "2022-03-30T19:51:40.246Z"
   },
   {
    "duration": 87,
    "start_time": "2022-03-30T19:51:40.467Z"
   },
   {
    "duration": 112,
    "start_time": "2022-03-30T19:51:40.555Z"
   },
   {
    "duration": 131,
    "start_time": "2022-03-30T19:51:40.669Z"
   },
   {
    "duration": 226,
    "start_time": "2022-03-30T19:51:40.801Z"
   },
   {
    "duration": 92,
    "start_time": "2022-03-30T19:51:41.029Z"
   },
   {
    "duration": 1037,
    "start_time": "2022-03-30T19:51:41.124Z"
   },
   {
    "duration": 33,
    "start_time": "2022-03-30T19:51:42.163Z"
   },
   {
    "duration": 54,
    "start_time": "2022-03-30T19:51:42.198Z"
   },
   {
    "duration": 32,
    "start_time": "2022-03-30T19:51:42.255Z"
   },
   {
    "duration": 230,
    "start_time": "2022-03-30T19:51:42.289Z"
   },
   {
    "duration": 238,
    "start_time": "2022-03-30T19:51:42.520Z"
   },
   {
    "duration": 17,
    "start_time": "2022-03-30T19:51:42.760Z"
   },
   {
    "duration": 350,
    "start_time": "2022-03-30T19:51:42.779Z"
   },
   {
    "duration": 7,
    "start_time": "2022-03-30T19:51:43.131Z"
   },
   {
    "duration": 25,
    "start_time": "2022-03-30T19:51:43.140Z"
   },
   {
    "duration": 97,
    "start_time": "2022-03-30T19:51:43.167Z"
   },
   {
    "duration": 2334,
    "start_time": "2022-03-30T19:51:43.266Z"
   },
   {
    "duration": 0,
    "start_time": "2022-03-30T19:51:45.603Z"
   },
   {
    "duration": 0,
    "start_time": "2022-03-30T19:51:45.605Z"
   },
   {
    "duration": 0,
    "start_time": "2022-03-30T19:51:45.606Z"
   },
   {
    "duration": 0,
    "start_time": "2022-03-30T19:51:45.607Z"
   },
   {
    "duration": 0,
    "start_time": "2022-03-30T19:51:45.609Z"
   },
   {
    "duration": 0,
    "start_time": "2022-03-30T19:51:45.611Z"
   },
   {
    "duration": 0,
    "start_time": "2022-03-30T19:51:45.612Z"
   },
   {
    "duration": 0,
    "start_time": "2022-03-30T19:51:45.614Z"
   },
   {
    "duration": 0,
    "start_time": "2022-03-30T19:51:45.615Z"
   },
   {
    "duration": 0,
    "start_time": "2022-03-30T19:51:45.616Z"
   },
   {
    "duration": 0,
    "start_time": "2022-03-30T19:51:45.617Z"
   },
   {
    "duration": 0,
    "start_time": "2022-03-30T19:51:45.638Z"
   },
   {
    "duration": 2,
    "start_time": "2022-03-30T19:54:01.364Z"
   },
   {
    "duration": 3,
    "start_time": "2022-03-30T19:54:10.011Z"
   },
   {
    "duration": 3,
    "start_time": "2022-03-30T19:54:10.522Z"
   },
   {
    "duration": 13058,
    "start_time": "2022-03-30T19:54:11.130Z"
   },
   {
    "duration": 5,
    "start_time": "2022-03-30T19:59:35.186Z"
   },
   {
    "duration": 734,
    "start_time": "2022-03-30T19:59:35.192Z"
   },
   {
    "duration": 15,
    "start_time": "2022-03-30T19:59:35.928Z"
   },
   {
    "duration": 393,
    "start_time": "2022-03-30T19:59:35.945Z"
   },
   {
    "duration": 216,
    "start_time": "2022-03-30T19:59:36.340Z"
   },
   {
    "duration": 88,
    "start_time": "2022-03-30T19:59:36.558Z"
   },
   {
    "duration": 143,
    "start_time": "2022-03-30T19:59:36.647Z"
   },
   {
    "duration": 125,
    "start_time": "2022-03-30T19:59:36.791Z"
   },
   {
    "duration": 240,
    "start_time": "2022-03-30T19:59:36.917Z"
   },
   {
    "duration": 105,
    "start_time": "2022-03-30T19:59:37.159Z"
   },
   {
    "duration": 1053,
    "start_time": "2022-03-30T19:59:37.267Z"
   },
   {
    "duration": 37,
    "start_time": "2022-03-30T19:59:38.322Z"
   },
   {
    "duration": 30,
    "start_time": "2022-03-30T19:59:38.362Z"
   },
   {
    "duration": 45,
    "start_time": "2022-03-30T19:59:38.394Z"
   },
   {
    "duration": 220,
    "start_time": "2022-03-30T19:59:38.440Z"
   },
   {
    "duration": 262,
    "start_time": "2022-03-30T19:59:38.661Z"
   },
   {
    "duration": 17,
    "start_time": "2022-03-30T19:59:38.925Z"
   },
   {
    "duration": 339,
    "start_time": "2022-03-30T19:59:38.944Z"
   },
   {
    "duration": 727,
    "start_time": "2022-03-30T19:59:39.285Z"
   },
   {
    "duration": 12,
    "start_time": "2022-03-30T19:59:40.014Z"
   },
   {
    "duration": 0,
    "start_time": "2022-03-30T19:59:40.038Z"
   },
   {
    "duration": 0,
    "start_time": "2022-03-30T19:59:40.039Z"
   },
   {
    "duration": 0,
    "start_time": "2022-03-30T19:59:40.040Z"
   },
   {
    "duration": 0,
    "start_time": "2022-03-30T19:59:40.041Z"
   },
   {
    "duration": 0,
    "start_time": "2022-03-30T19:59:40.042Z"
   },
   {
    "duration": 0,
    "start_time": "2022-03-30T19:59:40.043Z"
   },
   {
    "duration": 0,
    "start_time": "2022-03-30T19:59:40.044Z"
   },
   {
    "duration": 0,
    "start_time": "2022-03-30T19:59:40.046Z"
   },
   {
    "duration": 0,
    "start_time": "2022-03-30T19:59:40.047Z"
   },
   {
    "duration": 0,
    "start_time": "2022-03-30T19:59:40.048Z"
   },
   {
    "duration": 0,
    "start_time": "2022-03-30T19:59:40.049Z"
   },
   {
    "duration": 0,
    "start_time": "2022-03-30T19:59:40.050Z"
   },
   {
    "duration": 0,
    "start_time": "2022-03-30T19:59:40.051Z"
   },
   {
    "duration": 0,
    "start_time": "2022-03-30T19:59:40.052Z"
   },
   {
    "duration": 0,
    "start_time": "2022-03-30T19:59:40.053Z"
   },
   {
    "duration": 119,
    "start_time": "2022-03-30T20:00:57.283Z"
   },
   {
    "duration": 4,
    "start_time": "2022-03-30T20:10:32.158Z"
   },
   {
    "duration": 758,
    "start_time": "2022-03-30T20:10:32.164Z"
   },
   {
    "duration": 20,
    "start_time": "2022-03-30T20:10:32.924Z"
   },
   {
    "duration": 137,
    "start_time": "2022-03-30T20:10:32.946Z"
   },
   {
    "duration": 226,
    "start_time": "2022-03-30T20:10:33.085Z"
   },
   {
    "duration": 157,
    "start_time": "2022-03-30T20:10:33.313Z"
   },
   {
    "duration": 14,
    "start_time": "2022-03-30T20:10:33.472Z"
   },
   {
    "duration": 26,
    "start_time": "2022-03-30T20:10:33.488Z"
   },
   {
    "duration": 0,
    "start_time": "2022-03-30T20:10:33.517Z"
   },
   {
    "duration": 0,
    "start_time": "2022-03-30T20:10:33.518Z"
   },
   {
    "duration": 0,
    "start_time": "2022-03-30T20:10:33.519Z"
   },
   {
    "duration": 0,
    "start_time": "2022-03-30T20:10:33.538Z"
   },
   {
    "duration": 0,
    "start_time": "2022-03-30T20:10:33.539Z"
   },
   {
    "duration": 1,
    "start_time": "2022-03-30T20:10:33.540Z"
   },
   {
    "duration": 0,
    "start_time": "2022-03-30T20:10:33.542Z"
   },
   {
    "duration": 0,
    "start_time": "2022-03-30T20:10:33.542Z"
   },
   {
    "duration": 0,
    "start_time": "2022-03-30T20:10:33.544Z"
   },
   {
    "duration": 0,
    "start_time": "2022-03-30T20:10:33.545Z"
   },
   {
    "duration": 0,
    "start_time": "2022-03-30T20:10:33.547Z"
   },
   {
    "duration": 0,
    "start_time": "2022-03-30T20:10:33.548Z"
   },
   {
    "duration": 0,
    "start_time": "2022-03-30T20:10:33.550Z"
   },
   {
    "duration": 0,
    "start_time": "2022-03-30T20:10:33.551Z"
   },
   {
    "duration": 0,
    "start_time": "2022-03-30T20:10:33.552Z"
   },
   {
    "duration": 0,
    "start_time": "2022-03-30T20:10:33.553Z"
   },
   {
    "duration": 0,
    "start_time": "2022-03-30T20:10:33.554Z"
   },
   {
    "duration": 0,
    "start_time": "2022-03-30T20:10:33.555Z"
   },
   {
    "duration": 0,
    "start_time": "2022-03-30T20:10:33.556Z"
   },
   {
    "duration": 0,
    "start_time": "2022-03-30T20:10:33.557Z"
   },
   {
    "duration": 0,
    "start_time": "2022-03-30T20:10:33.558Z"
   },
   {
    "duration": 0,
    "start_time": "2022-03-30T20:10:33.559Z"
   },
   {
    "duration": 0,
    "start_time": "2022-03-30T20:10:33.560Z"
   },
   {
    "duration": 0,
    "start_time": "2022-03-30T20:10:33.561Z"
   },
   {
    "duration": 0,
    "start_time": "2022-03-30T20:10:33.562Z"
   },
   {
    "duration": 0,
    "start_time": "2022-03-30T20:10:33.563Z"
   },
   {
    "duration": 0,
    "start_time": "2022-03-30T20:10:33.564Z"
   },
   {
    "duration": 0,
    "start_time": "2022-03-30T20:10:33.565Z"
   },
   {
    "duration": 4,
    "start_time": "2022-03-30T20:11:08.294Z"
   },
   {
    "duration": 766,
    "start_time": "2022-03-30T20:11:08.300Z"
   },
   {
    "duration": 14,
    "start_time": "2022-03-30T20:11:09.068Z"
   },
   {
    "duration": 131,
    "start_time": "2022-03-30T20:11:09.084Z"
   },
   {
    "duration": 223,
    "start_time": "2022-03-30T20:11:09.217Z"
   },
   {
    "duration": 81,
    "start_time": "2022-03-30T20:11:09.441Z"
   },
   {
    "duration": 128,
    "start_time": "2022-03-30T20:11:09.524Z"
   },
   {
    "duration": 151,
    "start_time": "2022-03-30T20:11:09.654Z"
   },
   {
    "duration": 40,
    "start_time": "2022-03-30T20:11:09.807Z"
   },
   {
    "duration": 14,
    "start_time": "2022-03-30T20:11:09.849Z"
   },
   {
    "duration": 102,
    "start_time": "2022-03-30T20:11:09.864Z"
   },
   {
    "duration": 1048,
    "start_time": "2022-03-30T20:11:09.968Z"
   },
   {
    "duration": 30,
    "start_time": "2022-03-30T20:11:11.018Z"
   },
   {
    "duration": 24,
    "start_time": "2022-03-30T20:11:11.050Z"
   },
   {
    "duration": 23,
    "start_time": "2022-03-30T20:11:11.075Z"
   },
   {
    "duration": 160,
    "start_time": "2022-03-30T20:11:11.100Z"
   },
   {
    "duration": 156,
    "start_time": "2022-03-30T20:11:11.262Z"
   },
   {
    "duration": 17,
    "start_time": "2022-03-30T20:11:11.420Z"
   },
   {
    "duration": 342,
    "start_time": "2022-03-30T20:11:11.439Z"
   },
   {
    "duration": 678,
    "start_time": "2022-03-30T20:11:11.783Z"
   },
   {
    "duration": 21,
    "start_time": "2022-03-30T20:11:12.463Z"
   },
   {
    "duration": 212,
    "start_time": "2022-03-30T20:11:12.486Z"
   },
   {
    "duration": 285,
    "start_time": "2022-03-30T20:11:12.700Z"
   },
   {
    "duration": 2827,
    "start_time": "2022-03-30T20:11:12.990Z"
   },
   {
    "duration": 23621,
    "start_time": "2022-03-30T20:11:15.819Z"
   },
   {
    "duration": 2,
    "start_time": "2022-03-30T20:11:39.442Z"
   },
   {
    "duration": 6,
    "start_time": "2022-03-30T20:11:39.446Z"
   },
   {
    "duration": 161450,
    "start_time": "2022-03-30T20:11:39.453Z"
   },
   {
    "duration": 3,
    "start_time": "2022-03-30T20:14:20.905Z"
   },
   {
    "duration": 5,
    "start_time": "2022-03-30T20:14:20.910Z"
   },
   {
    "duration": 8,
    "start_time": "2022-03-30T20:14:20.917Z"
   },
   {
    "duration": 11,
    "start_time": "2022-03-30T20:14:20.927Z"
   },
   {
    "duration": 6,
    "start_time": "2022-03-30T20:14:20.939Z"
   },
   {
    "duration": 16,
    "start_time": "2022-03-30T20:14:20.947Z"
   },
   {
    "duration": 6,
    "start_time": "2022-03-30T20:14:20.965Z"
   },
   {
    "duration": 662106,
    "start_time": "2022-03-30T20:14:20.972Z"
   },
   {
    "duration": 5,
    "start_time": "2022-03-30T20:27:54.408Z"
   },
   {
    "duration": 1727,
    "start_time": "2022-03-31T09:31:02.641Z"
   },
   {
    "duration": 732,
    "start_time": "2022-03-31T09:31:04.370Z"
   },
   {
    "duration": 16,
    "start_time": "2022-03-31T09:31:05.103Z"
   },
   {
    "duration": 138,
    "start_time": "2022-03-31T09:31:05.121Z"
   },
   {
    "duration": 245,
    "start_time": "2022-03-31T09:31:05.261Z"
   },
   {
    "duration": 85,
    "start_time": "2022-03-31T09:31:05.507Z"
   },
   {
    "duration": 122,
    "start_time": "2022-03-31T09:31:05.593Z"
   },
   {
    "duration": 151,
    "start_time": "2022-03-31T09:31:05.716Z"
   },
   {
    "duration": 33,
    "start_time": "2022-03-31T09:31:05.869Z"
   },
   {
    "duration": 13,
    "start_time": "2022-03-31T09:31:05.905Z"
   },
   {
    "duration": 101,
    "start_time": "2022-03-31T09:31:05.919Z"
   },
   {
    "duration": 961,
    "start_time": "2022-03-31T09:31:06.021Z"
   },
   {
    "duration": 21,
    "start_time": "2022-03-31T09:31:06.984Z"
   },
   {
    "duration": 20,
    "start_time": "2022-03-31T09:31:07.007Z"
   },
   {
    "duration": 20,
    "start_time": "2022-03-31T09:31:07.029Z"
   },
   {
    "duration": 158,
    "start_time": "2022-03-31T09:31:07.050Z"
   },
   {
    "duration": 132,
    "start_time": "2022-03-31T09:31:07.209Z"
   },
   {
    "duration": 5,
    "start_time": "2022-03-31T09:31:07.343Z"
   },
   {
    "duration": 352,
    "start_time": "2022-03-31T09:31:07.350Z"
   },
   {
    "duration": 446,
    "start_time": "2022-03-31T09:31:07.704Z"
   },
   {
    "duration": 30,
    "start_time": "2022-03-31T09:31:08.151Z"
   },
   {
    "duration": 164,
    "start_time": "2022-03-31T09:31:08.182Z"
   },
   {
    "duration": 259,
    "start_time": "2022-03-31T09:31:08.348Z"
   },
   {
    "duration": 2415,
    "start_time": "2022-03-31T09:31:08.608Z"
   },
   {
    "duration": 17957,
    "start_time": "2022-03-31T09:31:11.025Z"
   },
   {
    "duration": 3,
    "start_time": "2022-03-31T09:31:28.983Z"
   },
   {
    "duration": 5,
    "start_time": "2022-03-31T09:31:28.988Z"
   },
   {
    "duration": 132172,
    "start_time": "2022-03-31T09:31:28.997Z"
   },
   {
    "duration": 12,
    "start_time": "2022-03-31T09:33:41.171Z"
   },
   {
    "duration": 5,
    "start_time": "2022-03-31T09:33:41.184Z"
   },
   {
    "duration": 5,
    "start_time": "2022-03-31T09:33:41.190Z"
   },
   {
    "duration": 6,
    "start_time": "2022-03-31T09:33:41.196Z"
   },
   {
    "duration": 4,
    "start_time": "2022-03-31T09:33:41.203Z"
   },
   {
    "duration": 5,
    "start_time": "2022-03-31T09:33:41.208Z"
   },
   {
    "duration": 199,
    "start_time": "2022-03-31T09:33:41.215Z"
   },
   {
    "duration": 0,
    "start_time": "2022-03-31T09:33:41.416Z"
   },
   {
    "duration": 0,
    "start_time": "2022-03-31T09:33:41.417Z"
   },
   {
    "duration": 0,
    "start_time": "2022-03-31T09:33:41.418Z"
   },
   {
    "duration": 0,
    "start_time": "2022-03-31T09:33:41.419Z"
   },
   {
    "duration": 0,
    "start_time": "2022-03-31T09:33:41.420Z"
   },
   {
    "duration": 3,
    "start_time": "2022-03-31T09:33:58.608Z"
   },
   {
    "duration": 1831,
    "start_time": "2022-03-31T14:59:00.386Z"
   },
   {
    "duration": 1042,
    "start_time": "2022-03-31T14:59:02.218Z"
   },
   {
    "duration": 18,
    "start_time": "2022-03-31T14:59:03.261Z"
   },
   {
    "duration": 133,
    "start_time": "2022-03-31T14:59:03.281Z"
   },
   {
    "duration": 252,
    "start_time": "2022-03-31T14:59:03.415Z"
   },
   {
    "duration": 80,
    "start_time": "2022-03-31T14:59:03.668Z"
   },
   {
    "duration": 125,
    "start_time": "2022-03-31T14:59:03.750Z"
   },
   {
    "duration": 142,
    "start_time": "2022-03-31T14:59:03.876Z"
   },
   {
    "duration": 26,
    "start_time": "2022-03-31T14:59:04.020Z"
   },
   {
    "duration": 22,
    "start_time": "2022-03-31T14:59:04.048Z"
   },
   {
    "duration": 93,
    "start_time": "2022-03-31T14:59:04.072Z"
   },
   {
    "duration": 958,
    "start_time": "2022-03-31T14:59:04.167Z"
   },
   {
    "duration": 23,
    "start_time": "2022-03-31T14:59:05.126Z"
   },
   {
    "duration": 30,
    "start_time": "2022-03-31T14:59:05.150Z"
   },
   {
    "duration": 21,
    "start_time": "2022-03-31T14:59:05.181Z"
   },
   {
    "duration": 159,
    "start_time": "2022-03-31T14:59:05.203Z"
   },
   {
    "duration": 140,
    "start_time": "2022-03-31T14:59:05.364Z"
   },
   {
    "duration": 5,
    "start_time": "2022-03-31T14:59:05.506Z"
   },
   {
    "duration": 366,
    "start_time": "2022-03-31T14:59:05.513Z"
   },
   {
    "duration": 516,
    "start_time": "2022-03-31T14:59:05.880Z"
   },
   {
    "duration": 22,
    "start_time": "2022-03-31T14:59:06.398Z"
   },
   {
    "duration": 180,
    "start_time": "2022-03-31T14:59:06.421Z"
   },
   {
    "duration": 283,
    "start_time": "2022-03-31T14:59:06.602Z"
   },
   {
    "duration": 1850,
    "start_time": "2022-03-31T14:59:06.886Z"
   },
   {
    "duration": 14028,
    "start_time": "2022-03-31T14:59:08.738Z"
   },
   {
    "duration": 3,
    "start_time": "2022-03-31T14:59:22.768Z"
   },
   {
    "duration": 6,
    "start_time": "2022-03-31T14:59:22.773Z"
   },
   {
    "duration": 89130,
    "start_time": "2022-03-31T14:59:22.784Z"
   },
   {
    "duration": 3,
    "start_time": "2022-03-31T15:00:51.916Z"
   },
   {
    "duration": 8,
    "start_time": "2022-03-31T15:00:51.921Z"
   },
   {
    "duration": 8,
    "start_time": "2022-03-31T15:00:51.930Z"
   },
   {
    "duration": 7,
    "start_time": "2022-03-31T15:00:51.939Z"
   },
   {
    "duration": 6,
    "start_time": "2022-03-31T15:00:51.947Z"
   },
   {
    "duration": 7,
    "start_time": "2022-03-31T15:00:51.962Z"
   },
   {
    "duration": 7,
    "start_time": "2022-03-31T15:00:51.970Z"
   },
   {
    "duration": 838507,
    "start_time": "2022-03-31T15:00:51.978Z"
   },
   {
    "duration": 0,
    "start_time": "2022-03-31T15:14:50.487Z"
   },
   {
    "duration": 0,
    "start_time": "2022-03-31T15:14:50.488Z"
   },
   {
    "duration": 0,
    "start_time": "2022-03-31T15:14:50.489Z"
   },
   {
    "duration": 0,
    "start_time": "2022-03-31T15:14:50.490Z"
   },
   {
    "duration": 0,
    "start_time": "2022-03-31T15:14:50.491Z"
   },
   {
    "duration": 1542,
    "start_time": "2022-03-31T15:15:21.777Z"
   },
   {
    "duration": 755,
    "start_time": "2022-03-31T15:15:23.321Z"
   },
   {
    "duration": 19,
    "start_time": "2022-03-31T15:15:24.078Z"
   },
   {
    "duration": 139,
    "start_time": "2022-03-31T15:15:24.102Z"
   },
   {
    "duration": 263,
    "start_time": "2022-03-31T15:15:24.243Z"
   },
   {
    "duration": 85,
    "start_time": "2022-03-31T15:15:24.508Z"
   },
   {
    "duration": 124,
    "start_time": "2022-03-31T15:15:24.595Z"
   },
   {
    "duration": 175,
    "start_time": "2022-03-31T15:15:24.721Z"
   },
   {
    "duration": 29,
    "start_time": "2022-03-31T15:15:24.898Z"
   },
   {
    "duration": 33,
    "start_time": "2022-03-31T15:15:24.930Z"
   },
   {
    "duration": 90,
    "start_time": "2022-03-31T15:15:24.964Z"
   },
   {
    "duration": 1017,
    "start_time": "2022-03-31T15:15:25.056Z"
   },
   {
    "duration": 25,
    "start_time": "2022-03-31T15:15:26.074Z"
   },
   {
    "duration": 22,
    "start_time": "2022-03-31T15:15:26.102Z"
   },
   {
    "duration": 44,
    "start_time": "2022-03-31T15:15:26.126Z"
   },
   {
    "duration": 159,
    "start_time": "2022-03-31T15:15:26.172Z"
   },
   {
    "duration": 151,
    "start_time": "2022-03-31T15:15:26.333Z"
   },
   {
    "duration": 124,
    "start_time": "2022-03-31T15:15:26.486Z"
   },
   {
    "duration": 0,
    "start_time": "2022-03-31T15:15:26.612Z"
   },
   {
    "duration": 0,
    "start_time": "2022-03-31T15:15:26.613Z"
   },
   {
    "duration": 0,
    "start_time": "2022-03-31T15:15:26.615Z"
   },
   {
    "duration": 0,
    "start_time": "2022-03-31T15:15:26.617Z"
   },
   {
    "duration": 0,
    "start_time": "2022-03-31T15:15:26.618Z"
   },
   {
    "duration": 0,
    "start_time": "2022-03-31T15:15:26.619Z"
   },
   {
    "duration": 0,
    "start_time": "2022-03-31T15:15:26.620Z"
   },
   {
    "duration": 0,
    "start_time": "2022-03-31T15:15:26.621Z"
   },
   {
    "duration": 0,
    "start_time": "2022-03-31T15:15:26.622Z"
   },
   {
    "duration": 0,
    "start_time": "2022-03-31T15:15:26.622Z"
   },
   {
    "duration": 0,
    "start_time": "2022-03-31T15:15:26.623Z"
   },
   {
    "duration": 0,
    "start_time": "2022-03-31T15:15:26.624Z"
   },
   {
    "duration": 0,
    "start_time": "2022-03-31T15:15:26.625Z"
   },
   {
    "duration": 0,
    "start_time": "2022-03-31T15:15:26.626Z"
   },
   {
    "duration": 0,
    "start_time": "2022-03-31T15:15:26.627Z"
   },
   {
    "duration": 0,
    "start_time": "2022-03-31T15:15:26.628Z"
   },
   {
    "duration": 0,
    "start_time": "2022-03-31T15:15:26.629Z"
   },
   {
    "duration": 0,
    "start_time": "2022-03-31T15:15:26.630Z"
   },
   {
    "duration": 0,
    "start_time": "2022-03-31T15:15:26.631Z"
   },
   {
    "duration": 0,
    "start_time": "2022-03-31T15:15:26.663Z"
   },
   {
    "duration": 0,
    "start_time": "2022-03-31T15:15:26.664Z"
   },
   {
    "duration": 0,
    "start_time": "2022-03-31T15:15:26.665Z"
   },
   {
    "duration": 0,
    "start_time": "2022-03-31T15:15:26.666Z"
   },
   {
    "duration": 6,
    "start_time": "2022-03-31T15:15:39.349Z"
   },
   {
    "duration": 316,
    "start_time": "2022-03-31T15:15:39.357Z"
   },
   {
    "duration": 680,
    "start_time": "2022-03-31T15:15:39.675Z"
   },
   {
    "duration": 25,
    "start_time": "2022-03-31T15:15:40.362Z"
   },
   {
    "duration": 165,
    "start_time": "2022-03-31T15:15:40.389Z"
   },
   {
    "duration": 341,
    "start_time": "2022-03-31T15:15:40.556Z"
   },
   {
    "duration": 1809,
    "start_time": "2022-03-31T15:15:40.899Z"
   },
   {
    "duration": 15054,
    "start_time": "2022-03-31T15:15:42.710Z"
   },
   {
    "duration": 3,
    "start_time": "2022-03-31T15:15:57.768Z"
   },
   {
    "duration": 6,
    "start_time": "2022-03-31T15:15:57.773Z"
   },
   {
    "duration": 63165,
    "start_time": "2022-03-31T15:15:57.781Z"
   },
   {
    "duration": 0,
    "start_time": "2022-03-31T15:17:00.949Z"
   },
   {
    "duration": 0,
    "start_time": "2022-03-31T15:17:00.950Z"
   },
   {
    "duration": 0,
    "start_time": "2022-03-31T15:17:00.951Z"
   },
   {
    "duration": 0,
    "start_time": "2022-03-31T15:17:00.953Z"
   },
   {
    "duration": 0,
    "start_time": "2022-03-31T15:17:00.965Z"
   },
   {
    "duration": 0,
    "start_time": "2022-03-31T15:17:00.965Z"
   },
   {
    "duration": 0,
    "start_time": "2022-03-31T15:17:00.967Z"
   },
   {
    "duration": 0,
    "start_time": "2022-03-31T15:17:00.968Z"
   },
   {
    "duration": 0,
    "start_time": "2022-03-31T15:17:00.969Z"
   },
   {
    "duration": 0,
    "start_time": "2022-03-31T15:17:00.970Z"
   },
   {
    "duration": 0,
    "start_time": "2022-03-31T15:17:00.971Z"
   },
   {
    "duration": 0,
    "start_time": "2022-03-31T15:17:00.972Z"
   },
   {
    "duration": 0,
    "start_time": "2022-03-31T15:17:00.972Z"
   },
   {
    "duration": 1979,
    "start_time": "2022-03-31T15:17:12.276Z"
   },
   {
    "duration": 1067,
    "start_time": "2022-03-31T15:17:14.257Z"
   },
   {
    "duration": 24,
    "start_time": "2022-03-31T15:17:15.326Z"
   },
   {
    "duration": 137,
    "start_time": "2022-03-31T15:17:15.362Z"
   },
   {
    "duration": 260,
    "start_time": "2022-03-31T15:17:15.500Z"
   },
   {
    "duration": 82,
    "start_time": "2022-03-31T15:17:15.762Z"
   },
   {
    "duration": 132,
    "start_time": "2022-03-31T15:17:15.846Z"
   },
   {
    "duration": 152,
    "start_time": "2022-03-31T15:17:15.980Z"
   },
   {
    "duration": 35,
    "start_time": "2022-03-31T15:17:16.133Z"
   },
   {
    "duration": 15,
    "start_time": "2022-03-31T15:17:16.170Z"
   },
   {
    "duration": 102,
    "start_time": "2022-03-31T15:17:16.186Z"
   },
   {
    "duration": 1268,
    "start_time": "2022-03-31T15:17:16.289Z"
   },
   {
    "duration": 33,
    "start_time": "2022-03-31T15:17:17.563Z"
   },
   {
    "duration": 31,
    "start_time": "2022-03-31T15:17:17.598Z"
   },
   {
    "duration": 49,
    "start_time": "2022-03-31T15:17:17.632Z"
   },
   {
    "duration": 211,
    "start_time": "2022-03-31T15:17:17.684Z"
   },
   {
    "duration": 143,
    "start_time": "2022-03-31T15:17:17.897Z"
   },
   {
    "duration": 7,
    "start_time": "2022-03-31T15:17:18.041Z"
   },
   {
    "duration": 314,
    "start_time": "2022-03-31T15:17:18.049Z"
   },
   {
    "duration": 60,
    "start_time": "2022-03-31T15:17:18.365Z"
   },
   {
    "duration": 39,
    "start_time": "2022-03-31T15:17:18.426Z"
   },
   {
    "duration": 31,
    "start_time": "2022-03-31T15:17:18.467Z"
   },
   {
    "duration": 78,
    "start_time": "2022-03-31T15:17:18.500Z"
   },
   {
    "duration": 389,
    "start_time": "2022-03-31T15:17:18.580Z"
   },
   {
    "duration": 3194,
    "start_time": "2022-03-31T15:17:18.970Z"
   },
   {
    "duration": 2,
    "start_time": "2022-03-31T15:17:22.166Z"
   },
   {
    "duration": 11,
    "start_time": "2022-03-31T15:17:22.170Z"
   },
   {
    "duration": 17534,
    "start_time": "2022-03-31T15:17:22.185Z"
   },
   {
    "duration": 4,
    "start_time": "2022-03-31T15:17:39.720Z"
   },
   {
    "duration": 11,
    "start_time": "2022-03-31T15:17:39.726Z"
   },
   {
    "duration": 8,
    "start_time": "2022-03-31T15:17:39.738Z"
   },
   {
    "duration": 10,
    "start_time": "2022-03-31T15:17:39.747Z"
   },
   {
    "duration": 6,
    "start_time": "2022-03-31T15:17:39.763Z"
   },
   {
    "duration": 5,
    "start_time": "2022-03-31T15:17:39.771Z"
   },
   {
    "duration": 7,
    "start_time": "2022-03-31T15:17:39.777Z"
   },
   {
    "duration": 730475,
    "start_time": "2022-03-31T15:17:39.786Z"
   },
   {
    "duration": 0,
    "start_time": "2022-03-31T15:29:50.262Z"
   },
   {
    "duration": 0,
    "start_time": "2022-03-31T15:29:50.263Z"
   },
   {
    "duration": 0,
    "start_time": "2022-03-31T15:29:50.264Z"
   },
   {
    "duration": 0,
    "start_time": "2022-03-31T15:29:50.265Z"
   },
   {
    "duration": 0,
    "start_time": "2022-03-31T15:29:50.266Z"
   },
   {
    "duration": 1503,
    "start_time": "2022-03-31T15:30:03.417Z"
   },
   {
    "duration": 760,
    "start_time": "2022-03-31T15:30:04.922Z"
   },
   {
    "duration": 17,
    "start_time": "2022-03-31T15:30:05.684Z"
   },
   {
    "duration": 148,
    "start_time": "2022-03-31T15:30:05.703Z"
   },
   {
    "duration": 264,
    "start_time": "2022-03-31T15:30:05.852Z"
   },
   {
    "duration": 88,
    "start_time": "2022-03-31T15:30:06.118Z"
   },
   {
    "duration": 135,
    "start_time": "2022-03-31T15:30:06.208Z"
   },
   {
    "duration": 157,
    "start_time": "2022-03-31T15:30:06.345Z"
   },
   {
    "duration": 30,
    "start_time": "2022-03-31T15:30:06.504Z"
   },
   {
    "duration": 32,
    "start_time": "2022-03-31T15:30:06.536Z"
   },
   {
    "duration": 94,
    "start_time": "2022-03-31T15:30:06.569Z"
   },
   {
    "duration": 1013,
    "start_time": "2022-03-31T15:30:06.665Z"
   },
   {
    "duration": 26,
    "start_time": "2022-03-31T15:30:07.679Z"
   },
   {
    "duration": 26,
    "start_time": "2022-03-31T15:30:07.707Z"
   },
   {
    "duration": 19,
    "start_time": "2022-03-31T15:30:07.735Z"
   },
   {
    "duration": 151,
    "start_time": "2022-03-31T15:30:07.756Z"
   },
   {
    "duration": 136,
    "start_time": "2022-03-31T15:30:07.909Z"
   },
   {
    "duration": 6,
    "start_time": "2022-03-31T15:30:08.047Z"
   },
   {
    "duration": 349,
    "start_time": "2022-03-31T15:30:08.055Z"
   },
   {
    "duration": 74,
    "start_time": "2022-03-31T15:30:08.406Z"
   },
   {
    "duration": 20,
    "start_time": "2022-03-31T15:30:08.482Z"
   },
   {
    "duration": 31,
    "start_time": "2022-03-31T15:30:08.504Z"
   },
   {
    "duration": 89,
    "start_time": "2022-03-31T15:30:08.537Z"
   },
   {
    "duration": 426,
    "start_time": "2022-03-31T15:30:08.627Z"
   },
   {
    "duration": 2014,
    "start_time": "2022-03-31T15:30:09.055Z"
   },
   {
    "duration": 4,
    "start_time": "2022-03-31T15:30:11.071Z"
   },
   {
    "duration": 6,
    "start_time": "2022-03-31T15:30:11.164Z"
   },
   {
    "duration": 16205,
    "start_time": "2022-03-31T15:30:11.173Z"
   },
   {
    "duration": 4,
    "start_time": "2022-03-31T15:30:27.379Z"
   },
   {
    "duration": 7,
    "start_time": "2022-03-31T15:30:27.385Z"
   },
   {
    "duration": 9,
    "start_time": "2022-03-31T15:30:27.393Z"
   },
   {
    "duration": 20,
    "start_time": "2022-03-31T15:30:27.404Z"
   },
   {
    "duration": 5,
    "start_time": "2022-03-31T15:30:27.426Z"
   },
   {
    "duration": 6,
    "start_time": "2022-03-31T15:30:27.432Z"
   },
   {
    "duration": 6,
    "start_time": "2022-03-31T15:30:27.440Z"
   },
   {
    "duration": 2056,
    "start_time": "2022-03-31T15:30:40.328Z"
   },
   {
    "duration": 853,
    "start_time": "2022-03-31T15:30:42.387Z"
   },
   {
    "duration": 27,
    "start_time": "2022-03-31T15:30:43.242Z"
   },
   {
    "duration": 133,
    "start_time": "2022-03-31T15:30:43.271Z"
   },
   {
    "duration": 262,
    "start_time": "2022-03-31T15:30:43.406Z"
   },
   {
    "duration": 80,
    "start_time": "2022-03-31T15:30:43.670Z"
   },
   {
    "duration": 121,
    "start_time": "2022-03-31T15:30:43.763Z"
   },
   {
    "duration": 142,
    "start_time": "2022-03-31T15:30:43.886Z"
   },
   {
    "duration": 36,
    "start_time": "2022-03-31T15:30:44.030Z"
   },
   {
    "duration": 15,
    "start_time": "2022-03-31T15:30:44.068Z"
   },
   {
    "duration": 96,
    "start_time": "2022-03-31T15:30:44.084Z"
   },
   {
    "duration": 1005,
    "start_time": "2022-03-31T15:30:44.182Z"
   },
   {
    "duration": 21,
    "start_time": "2022-03-31T15:30:45.189Z"
   },
   {
    "duration": 24,
    "start_time": "2022-03-31T15:30:45.211Z"
   },
   {
    "duration": 40,
    "start_time": "2022-03-31T15:30:45.236Z"
   },
   {
    "duration": 171,
    "start_time": "2022-03-31T15:30:45.277Z"
   },
   {
    "duration": 146,
    "start_time": "2022-03-31T15:30:45.449Z"
   },
   {
    "duration": 6,
    "start_time": "2022-03-31T15:30:45.596Z"
   },
   {
    "duration": 366,
    "start_time": "2022-03-31T15:30:45.604Z"
   },
   {
    "duration": 66,
    "start_time": "2022-03-31T15:30:45.972Z"
   },
   {
    "duration": 38,
    "start_time": "2022-03-31T15:30:46.040Z"
   },
   {
    "duration": 31,
    "start_time": "2022-03-31T15:30:46.080Z"
   },
   {
    "duration": 88,
    "start_time": "2022-03-31T15:30:46.113Z"
   },
   {
    "duration": 390,
    "start_time": "2022-03-31T15:30:46.203Z"
   },
   {
    "duration": 2272,
    "start_time": "2022-03-31T15:30:46.595Z"
   },
   {
    "duration": 93,
    "start_time": "2022-03-31T15:30:48.873Z"
   },
   {
    "duration": 7,
    "start_time": "2022-03-31T15:30:48.969Z"
   },
   {
    "duration": 16737,
    "start_time": "2022-03-31T15:30:48.979Z"
   },
   {
    "duration": 5,
    "start_time": "2022-03-31T15:31:05.718Z"
   },
   {
    "duration": 9,
    "start_time": "2022-03-31T15:31:05.724Z"
   },
   {
    "duration": 12,
    "start_time": "2022-03-31T15:31:05.735Z"
   },
   {
    "duration": 15,
    "start_time": "2022-03-31T15:31:05.748Z"
   },
   {
    "duration": 3,
    "start_time": "2022-03-31T15:31:05.764Z"
   },
   {
    "duration": 7,
    "start_time": "2022-03-31T15:31:05.769Z"
   },
   {
    "duration": 9,
    "start_time": "2022-03-31T15:31:05.777Z"
   },
   {
    "duration": 303391,
    "start_time": "2022-03-31T15:31:05.787Z"
   },
   {
    "duration": 5,
    "start_time": "2022-03-31T15:36:09.179Z"
   },
   {
    "duration": 8,
    "start_time": "2022-03-31T15:36:09.186Z"
   },
   {
    "duration": 6,
    "start_time": "2022-03-31T15:36:09.196Z"
   },
   {
    "duration": 960,
    "start_time": "2022-03-31T15:36:09.204Z"
   },
   {
    "duration": 0,
    "start_time": "2022-03-31T15:36:10.167Z"
   },
   {
    "duration": 4,
    "start_time": "2022-03-31T15:36:48.555Z"
   },
   {
    "duration": 1327659,
    "start_time": "2022-03-31T15:36:48.839Z"
   },
   {
    "duration": 7947,
    "start_time": "2022-03-31T16:00:46.398Z"
   },
   {
    "duration": 838,
    "start_time": "2022-03-31T16:00:54.348Z"
   },
   {
    "duration": 18,
    "start_time": "2022-03-31T16:00:55.191Z"
   },
   {
    "duration": 165,
    "start_time": "2022-03-31T16:00:55.211Z"
   },
   {
    "duration": 280,
    "start_time": "2022-03-31T16:00:55.377Z"
   },
   {
    "duration": 97,
    "start_time": "2022-03-31T16:00:55.659Z"
   },
   {
    "duration": 123,
    "start_time": "2022-03-31T16:00:55.770Z"
   },
   {
    "duration": 157,
    "start_time": "2022-03-31T16:00:55.894Z"
   },
   {
    "duration": 50,
    "start_time": "2022-03-31T16:00:56.052Z"
   },
   {
    "duration": 14,
    "start_time": "2022-03-31T16:00:56.105Z"
   },
   {
    "duration": 105,
    "start_time": "2022-03-31T16:00:56.121Z"
   },
   {
    "duration": 1078,
    "start_time": "2022-03-31T16:00:56.228Z"
   },
   {
    "duration": 21,
    "start_time": "2022-03-31T16:00:57.307Z"
   },
   {
    "duration": 37,
    "start_time": "2022-03-31T16:00:57.330Z"
   },
   {
    "duration": 26,
    "start_time": "2022-03-31T16:00:57.371Z"
   },
   {
    "duration": 151,
    "start_time": "2022-03-31T16:00:57.399Z"
   },
   {
    "duration": 158,
    "start_time": "2022-03-31T16:00:57.552Z"
   },
   {
    "duration": 5,
    "start_time": "2022-03-31T16:00:57.712Z"
   },
   {
    "duration": 326,
    "start_time": "2022-03-31T16:00:57.719Z"
   },
   {
    "duration": 55,
    "start_time": "2022-03-31T16:00:58.047Z"
   },
   {
    "duration": 2,
    "start_time": "2022-03-31T16:00:58.104Z"
   },
   {
    "duration": 13,
    "start_time": "2022-03-31T16:00:58.107Z"
   },
   {
    "duration": 53,
    "start_time": "2022-03-31T16:00:58.121Z"
   },
   {
    "duration": 133,
    "start_time": "2022-03-31T16:00:58.178Z"
   },
   {
    "duration": 183,
    "start_time": "2022-03-31T16:00:58.313Z"
   },
   {
    "duration": 11,
    "start_time": "2022-03-31T16:00:58.562Z"
   },
   {
    "duration": 26,
    "start_time": "2022-03-31T16:00:58.575Z"
   },
   {
    "duration": 6050,
    "start_time": "2022-03-31T16:00:58.604Z"
   },
   {
    "duration": 12,
    "start_time": "2022-03-31T16:01:04.656Z"
   },
   {
    "duration": 18,
    "start_time": "2022-03-31T16:01:04.672Z"
   },
   {
    "duration": 9,
    "start_time": "2022-03-31T16:01:04.692Z"
   },
   {
    "duration": 6,
    "start_time": "2022-03-31T16:01:04.703Z"
   },
   {
    "duration": 4,
    "start_time": "2022-03-31T16:01:04.710Z"
   },
   {
    "duration": 6,
    "start_time": "2022-03-31T16:01:04.715Z"
   },
   {
    "duration": 5,
    "start_time": "2022-03-31T16:01:04.722Z"
   },
   {
    "duration": 266998,
    "start_time": "2022-03-31T16:01:04.728Z"
   },
   {
    "duration": 4,
    "start_time": "2022-03-31T16:05:31.728Z"
   },
   {
    "duration": 8,
    "start_time": "2022-03-31T16:05:31.733Z"
   },
   {
    "duration": 16,
    "start_time": "2022-03-31T16:05:31.742Z"
   },
   {
    "duration": 157624,
    "start_time": "2022-03-31T16:05:31.760Z"
   },
   {
    "duration": 90,
    "start_time": "2022-03-31T16:08:09.386Z"
   },
   {
    "duration": 4,
    "start_time": "2022-03-31T16:15:10.308Z"
   },
   {
    "duration": 740,
    "start_time": "2022-03-31T16:15:10.314Z"
   },
   {
    "duration": 24,
    "start_time": "2022-03-31T16:15:11.056Z"
   },
   {
    "duration": 184,
    "start_time": "2022-03-31T16:15:11.083Z"
   },
   {
    "duration": 194,
    "start_time": "2022-03-31T16:15:11.269Z"
   },
   {
    "duration": 77,
    "start_time": "2022-03-31T16:15:11.465Z"
   },
   {
    "duration": 123,
    "start_time": "2022-03-31T16:15:11.544Z"
   },
   {
    "duration": 135,
    "start_time": "2022-03-31T16:15:11.668Z"
   },
   {
    "duration": 26,
    "start_time": "2022-03-31T16:15:11.805Z"
   },
   {
    "duration": 13,
    "start_time": "2022-03-31T16:15:11.833Z"
   },
   {
    "duration": 93,
    "start_time": "2022-03-31T16:15:11.848Z"
   },
   {
    "duration": 1027,
    "start_time": "2022-03-31T16:15:11.943Z"
   },
   {
    "duration": 19,
    "start_time": "2022-03-31T16:15:12.972Z"
   },
   {
    "duration": 22,
    "start_time": "2022-03-31T16:15:12.993Z"
   },
   {
    "duration": 46,
    "start_time": "2022-03-31T16:15:13.017Z"
   },
   {
    "duration": 132,
    "start_time": "2022-03-31T16:15:13.065Z"
   },
   {
    "duration": 132,
    "start_time": "2022-03-31T16:15:13.199Z"
   },
   {
    "duration": 6,
    "start_time": "2022-03-31T16:15:13.333Z"
   },
   {
    "duration": 329,
    "start_time": "2022-03-31T16:15:13.340Z"
   },
   {
    "duration": 34,
    "start_time": "2022-03-31T16:15:13.670Z"
   },
   {
    "duration": 40,
    "start_time": "2022-03-31T16:15:13.705Z"
   },
   {
    "duration": 14,
    "start_time": "2022-03-31T16:15:13.747Z"
   },
   {
    "duration": 43,
    "start_time": "2022-03-31T16:15:13.763Z"
   },
   {
    "duration": 173,
    "start_time": "2022-03-31T16:15:13.810Z"
   },
   {
    "duration": 290,
    "start_time": "2022-03-31T16:15:13.985Z"
   },
   {
    "duration": 3,
    "start_time": "2022-03-31T16:15:14.277Z"
   },
   {
    "duration": 82,
    "start_time": "2022-03-31T16:15:14.281Z"
   },
   {
    "duration": 8669,
    "start_time": "2022-03-31T16:15:14.365Z"
   },
   {
    "duration": 4,
    "start_time": "2022-03-31T16:15:23.036Z"
   },
   {
    "duration": 3,
    "start_time": "2022-03-31T16:15:23.042Z"
   },
   {
    "duration": 3,
    "start_time": "2022-03-31T16:15:23.062Z"
   },
   {
    "duration": 7,
    "start_time": "2022-03-31T16:15:23.067Z"
   },
   {
    "duration": 4,
    "start_time": "2022-03-31T16:15:23.075Z"
   },
   {
    "duration": 5,
    "start_time": "2022-03-31T16:15:23.080Z"
   },
   {
    "duration": 4,
    "start_time": "2022-03-31T16:15:23.086Z"
   },
   {
    "duration": 14245,
    "start_time": "2022-03-31T16:15:23.092Z"
   },
   {
    "duration": 0,
    "start_time": "2022-03-31T16:15:37.339Z"
   },
   {
    "duration": 0,
    "start_time": "2022-03-31T16:15:37.340Z"
   },
   {
    "duration": 0,
    "start_time": "2022-03-31T16:15:37.341Z"
   },
   {
    "duration": 0,
    "start_time": "2022-03-31T16:15:37.342Z"
   },
   {
    "duration": 0,
    "start_time": "2022-03-31T16:15:37.343Z"
   },
   {
    "duration": 3,
    "start_time": "2022-03-31T16:15:59.335Z"
   },
   {
    "duration": 373812,
    "start_time": "2022-03-31T16:15:59.340Z"
   },
   {
    "duration": 4,
    "start_time": "2022-03-31T16:22:13.153Z"
   },
   {
    "duration": 5,
    "start_time": "2022-03-31T16:22:13.158Z"
   },
   {
    "duration": 6,
    "start_time": "2022-03-31T16:22:13.165Z"
   },
   {
    "duration": 56195,
    "start_time": "2022-03-31T16:22:13.172Z"
   },
   {
    "duration": 4,
    "start_time": "2022-03-31T16:23:09.368Z"
   },
   {
    "duration": 2,
    "start_time": "2022-03-31T17:32:02.185Z"
   },
   {
    "duration": 3,
    "start_time": "2022-03-31T17:32:08.109Z"
   },
   {
    "duration": 764305,
    "start_time": "2022-03-31T17:32:10.721Z"
   },
   {
    "duration": 4,
    "start_time": "2022-03-31T17:45:05.445Z"
   },
   {
    "duration": 2,
    "start_time": "2022-03-31T17:59:47.935Z"
   },
   {
    "duration": 3,
    "start_time": "2022-03-31T17:59:48.775Z"
   },
   {
    "duration": 11,
    "start_time": "2022-03-31T17:59:49.687Z"
   },
   {
    "duration": 3,
    "start_time": "2022-03-31T18:00:20.486Z"
   },
   {
    "duration": 329517,
    "start_time": "2022-03-31T18:00:22.760Z"
   },
   {
    "duration": 4,
    "start_time": "2022-03-31T18:06:03.198Z"
   },
   {
    "duration": 3,
    "start_time": "2022-03-31T18:09:09.688Z"
   },
   {
    "duration": 3,
    "start_time": "2022-03-31T18:09:10.226Z"
   },
   {
    "duration": 11,
    "start_time": "2022-03-31T18:09:11.417Z"
   },
   {
    "duration": 3,
    "start_time": "2022-03-31T18:09:20.041Z"
   },
   {
    "duration": 12,
    "start_time": "2022-03-31T18:09:20.608Z"
   },
   {
    "duration": 2,
    "start_time": "2022-03-31T18:10:20.696Z"
   },
   {
    "duration": 12,
    "start_time": "2022-03-31T18:10:21.319Z"
   },
   {
    "duration": 3,
    "start_time": "2022-03-31T18:10:47.256Z"
   },
   {
    "duration": 0,
    "start_time": "2022-03-31T18:11:35.483Z"
   },
   {
    "duration": 0,
    "start_time": "2022-03-31T18:11:35.484Z"
   },
   {
    "duration": 2,
    "start_time": "2022-03-31T18:11:48.222Z"
   },
   {
    "duration": 3,
    "start_time": "2022-03-31T18:11:48.934Z"
   },
   {
    "duration": 2629763,
    "start_time": "2022-03-31T18:11:49.629Z"
   },
   {
    "duration": 4,
    "start_time": "2022-03-31T18:55:56.662Z"
   },
   {
    "duration": 4,
    "start_time": "2022-03-31T19:03:20.345Z"
   },
   {
    "duration": 2,
    "start_time": "2022-03-31T19:06:33.707Z"
   },
   {
    "duration": 4,
    "start_time": "2022-03-31T19:09:45.445Z"
   },
   {
    "duration": 2,
    "start_time": "2022-03-31T19:10:11.777Z"
   },
   {
    "duration": 5,
    "start_time": "2022-03-31T19:11:37.319Z"
   },
   {
    "duration": 5,
    "start_time": "2022-03-31T19:12:35.868Z"
   },
   {
    "duration": 8,
    "start_time": "2022-03-31T19:12:39.814Z"
   },
   {
    "duration": 12,
    "start_time": "2022-03-31T19:14:29.561Z"
   },
   {
    "duration": 307,
    "start_time": "2022-03-31T19:14:58.064Z"
   },
   {
    "duration": 16,
    "start_time": "2022-03-31T19:15:15.872Z"
   },
   {
    "duration": 729,
    "start_time": "2022-03-31T19:16:24.934Z"
   },
   {
    "duration": 15,
    "start_time": "2022-03-31T19:16:28.367Z"
   },
   {
    "duration": 15,
    "start_time": "2022-03-31T19:16:38.166Z"
   },
   {
    "duration": 3,
    "start_time": "2022-03-31T19:18:05.164Z"
   },
   {
    "duration": 7,
    "start_time": "2022-03-31T19:18:05.585Z"
   },
   {
    "duration": 717,
    "start_time": "2022-03-31T19:18:06.195Z"
   },
   {
    "duration": 809,
    "start_time": "2022-03-31T19:18:06.914Z"
   },
   {
    "duration": 18,
    "start_time": "2022-03-31T19:21:57.013Z"
   },
   {
    "duration": 3,
    "start_time": "2022-03-31T19:28:06.469Z"
   },
   {
    "duration": 10,
    "start_time": "2022-03-31T19:30:01.753Z"
   },
   {
    "duration": 9,
    "start_time": "2022-03-31T19:30:19.507Z"
   },
   {
    "duration": 9,
    "start_time": "2022-03-31T19:32:57.251Z"
   },
   {
    "duration": 394,
    "start_time": "2022-03-31T19:33:10.468Z"
   },
   {
    "duration": 9,
    "start_time": "2022-03-31T19:33:18.294Z"
   },
   {
    "duration": 57814,
    "start_time": "2022-03-31T19:33:35.117Z"
   },
   {
    "duration": 128,
    "start_time": "2022-03-31T19:41:15.580Z"
   },
   {
    "duration": 150,
    "start_time": "2022-03-31T19:42:34.736Z"
   },
   {
    "duration": 2,
    "start_time": "2022-03-31T19:43:38.958Z"
   },
   {
    "duration": 135,
    "start_time": "2022-03-31T19:45:15.485Z"
   },
   {
    "duration": 11,
    "start_time": "2022-03-31T19:45:44.242Z"
   },
   {
    "duration": 13,
    "start_time": "2022-03-31T19:46:01.225Z"
   },
   {
    "duration": 11,
    "start_time": "2022-03-31T19:46:22.485Z"
   },
   {
    "duration": 12,
    "start_time": "2022-03-31T19:46:28.984Z"
   },
   {
    "duration": 13,
    "start_time": "2022-03-31T19:46:33.560Z"
   },
   {
    "duration": 4,
    "start_time": "2022-03-31T19:46:38.481Z"
   },
   {
    "duration": 293052,
    "start_time": "2022-03-31T19:47:40.511Z"
   },
   {
    "duration": 9,
    "start_time": "2022-03-31T19:53:23.557Z"
   },
   {
    "duration": 3,
    "start_time": "2022-03-31T19:53:28.576Z"
   },
   {
    "duration": 802,
    "start_time": "2022-03-31T19:53:33.782Z"
   },
   {
    "duration": 3,
    "start_time": "2022-03-31T19:54:00.583Z"
   },
   {
    "duration": 4,
    "start_time": "2022-03-31T19:54:01.006Z"
   },
   {
    "duration": 3,
    "start_time": "2022-03-31T19:54:01.439Z"
   },
   {
    "duration": 263013,
    "start_time": "2022-03-31T19:54:02.223Z"
   },
   {
    "duration": 753,
    "start_time": "2022-03-31T19:58:25.239Z"
   },
   {
    "duration": 497,
    "start_time": "2022-03-31T19:59:53.539Z"
   },
   {
    "duration": 9,
    "start_time": "2022-03-31T20:00:16.208Z"
   },
   {
    "duration": 351,
    "start_time": "2022-03-31T20:00:20.214Z"
   },
   {
    "duration": 4,
    "start_time": "2022-03-31T20:01:57.580Z"
   },
   {
    "duration": 9,
    "start_time": "2022-03-31T20:02:55.715Z"
   },
   {
    "duration": 562,
    "start_time": "2022-03-31T20:03:01.659Z"
   },
   {
    "duration": 545,
    "start_time": "2022-03-31T20:03:06.818Z"
   },
   {
    "duration": 500,
    "start_time": "2022-03-31T20:03:51.393Z"
   },
   {
    "duration": 62435,
    "start_time": "2022-03-31T20:05:21.440Z"
   },
   {
    "duration": 1282,
    "start_time": "2022-03-31T20:09:45.584Z"
   },
   {
    "duration": 1290,
    "start_time": "2022-03-31T20:11:21.479Z"
   },
   {
    "duration": 3,
    "start_time": "2022-03-31T20:12:41.974Z"
   },
   {
    "duration": 248246,
    "start_time": "2022-03-31T20:13:37.907Z"
   },
   {
    "duration": 0,
    "start_time": "2022-03-31T20:17:46.155Z"
   },
   {
    "duration": 307,
    "start_time": "2022-03-31T20:17:49.356Z"
   },
   {
    "duration": 757,
    "start_time": "2022-03-31T20:18:31.207Z"
   },
   {
    "duration": 99845,
    "start_time": "2022-03-31T20:18:39.748Z"
   },
   {
    "duration": 0,
    "start_time": "2022-03-31T20:20:19.595Z"
   },
   {
    "duration": 1110,
    "start_time": "2022-03-31T20:20:22.264Z"
   },
   {
    "duration": 263653,
    "start_time": "2022-03-31T20:24:58.465Z"
   },
   {
    "duration": 0,
    "start_time": "2022-03-31T20:29:22.120Z"
   },
   {
    "duration": 5,
    "start_time": "2022-03-31T20:29:25.906Z"
   },
   {
    "duration": 179635,
    "start_time": "2022-03-31T20:29:32.339Z"
   },
   {
    "duration": 5,
    "start_time": "2022-03-31T20:33:46.900Z"
   },
   {
    "duration": 198693,
    "start_time": "2022-03-31T20:33:56.207Z"
   },
   {
    "duration": 5,
    "start_time": "2022-03-31T20:39:33.907Z"
   },
   {
    "duration": 3,
    "start_time": "2022-03-31T20:39:35.905Z"
   },
   {
    "duration": 3,
    "start_time": "2022-03-31T20:39:48.890Z"
   },
   {
    "duration": 259688,
    "start_time": "2022-03-31T20:39:54.028Z"
   },
   {
    "duration": 1725,
    "start_time": "2022-04-02T13:14:43.269Z"
   },
   {
    "duration": 710,
    "start_time": "2022-04-02T13:14:44.996Z"
   },
   {
    "duration": 16,
    "start_time": "2022-04-02T13:14:45.708Z"
   },
   {
    "duration": 136,
    "start_time": "2022-04-02T13:14:45.726Z"
   },
   {
    "duration": 266,
    "start_time": "2022-04-02T13:14:45.864Z"
   },
   {
    "duration": 97,
    "start_time": "2022-04-02T13:14:46.132Z"
   },
   {
    "duration": 127,
    "start_time": "2022-04-02T13:14:46.231Z"
   },
   {
    "duration": 149,
    "start_time": "2022-04-02T13:14:46.359Z"
   },
   {
    "duration": 27,
    "start_time": "2022-04-02T13:14:46.510Z"
   },
   {
    "duration": 15,
    "start_time": "2022-04-02T13:14:46.539Z"
   },
   {
    "duration": 105,
    "start_time": "2022-04-02T13:14:46.555Z"
   },
   {
    "duration": 1012,
    "start_time": "2022-04-02T13:14:46.662Z"
   },
   {
    "duration": 26,
    "start_time": "2022-04-02T13:14:47.676Z"
   },
   {
    "duration": 22,
    "start_time": "2022-04-02T13:14:47.704Z"
   },
   {
    "duration": 20,
    "start_time": "2022-04-02T13:14:47.728Z"
   },
   {
    "duration": 157,
    "start_time": "2022-04-02T13:14:47.749Z"
   },
   {
    "duration": 133,
    "start_time": "2022-04-02T13:14:47.908Z"
   },
   {
    "duration": 5,
    "start_time": "2022-04-02T13:14:48.043Z"
   },
   {
    "duration": 352,
    "start_time": "2022-04-02T13:14:48.050Z"
   },
   {
    "duration": 33,
    "start_time": "2022-04-02T13:14:48.404Z"
   },
   {
    "duration": 10,
    "start_time": "2022-04-02T13:14:48.439Z"
   },
   {
    "duration": 92,
    "start_time": "2022-04-02T13:14:48.450Z"
   },
   {
    "duration": 132,
    "start_time": "2022-04-02T13:14:48.544Z"
   },
   {
    "duration": 214,
    "start_time": "2022-04-02T13:14:48.678Z"
   },
   {
    "duration": 3,
    "start_time": "2022-04-02T13:14:48.893Z"
   },
   {
    "duration": 83,
    "start_time": "2022-04-02T13:14:48.898Z"
   },
   {
    "duration": 6015,
    "start_time": "2022-04-02T13:14:48.983Z"
   },
   {
    "duration": 3,
    "start_time": "2022-04-02T13:14:54.999Z"
   },
   {
    "duration": 7,
    "start_time": "2022-04-02T13:14:55.004Z"
   },
   {
    "duration": 6,
    "start_time": "2022-04-02T13:14:55.012Z"
   },
   {
    "duration": 554433,
    "start_time": "2022-04-02T13:14:55.020Z"
   },
   {
    "duration": 3,
    "start_time": "2022-04-02T13:24:09.455Z"
   },
   {
    "duration": 6,
    "start_time": "2022-04-02T13:24:09.460Z"
   },
   {
    "duration": 15,
    "start_time": "2022-04-02T13:24:09.467Z"
   },
   {
    "duration": 282011,
    "start_time": "2022-04-02T13:24:09.484Z"
   },
   {
    "duration": 86,
    "start_time": "2022-04-02T13:28:51.496Z"
   },
   {
    "duration": 5,
    "start_time": "2022-04-02T13:28:51.584Z"
   },
   {
    "duration": 3164,
    "start_time": "2022-04-02T13:28:51.590Z"
   },
   {
    "duration": 0,
    "start_time": "2022-04-02T13:28:54.756Z"
   },
   {
    "duration": 0,
    "start_time": "2022-04-02T13:28:54.757Z"
   },
   {
    "duration": 0,
    "start_time": "2022-04-02T13:28:54.758Z"
   },
   {
    "duration": 0,
    "start_time": "2022-04-02T13:28:54.759Z"
   },
   {
    "duration": 0,
    "start_time": "2022-04-02T13:28:54.760Z"
   },
   {
    "duration": 0,
    "start_time": "2022-04-02T13:28:54.761Z"
   },
   {
    "duration": 0,
    "start_time": "2022-04-02T13:28:54.762Z"
   },
   {
    "duration": 0,
    "start_time": "2022-04-02T13:28:54.763Z"
   },
   {
    "duration": 0,
    "start_time": "2022-04-02T13:28:54.764Z"
   },
   {
    "duration": 3097,
    "start_time": "2022-04-02T13:29:45.861Z"
   },
   {
    "duration": 6,
    "start_time": "2022-04-02T13:30:14.870Z"
   },
   {
    "duration": 3365,
    "start_time": "2022-04-02T13:31:06.615Z"
   },
   {
    "duration": 3,
    "start_time": "2022-04-02T13:31:41.581Z"
   },
   {
    "duration": 7989,
    "start_time": "2022-04-02T13:35:16.470Z"
   },
   {
    "duration": 8,
    "start_time": "2022-04-02T13:37:04.021Z"
   },
   {
    "duration": 3,
    "start_time": "2022-04-02T13:38:43.278Z"
   },
   {
    "duration": 9,
    "start_time": "2022-04-02T13:38:58.665Z"
   },
   {
    "duration": 21,
    "start_time": "2022-04-02T13:39:19.833Z"
   },
   {
    "duration": 4,
    "start_time": "2022-04-02T13:39:26.818Z"
   },
   {
    "duration": 4,
    "start_time": "2022-04-02T13:40:20.151Z"
   },
   {
    "duration": 72,
    "start_time": "2022-04-02T13:46:13.528Z"
   },
   {
    "duration": 9,
    "start_time": "2022-04-02T13:47:39.726Z"
   },
   {
    "duration": 35,
    "start_time": "2022-04-02T13:48:21.859Z"
   },
   {
    "duration": 13,
    "start_time": "2022-04-02T13:48:23.155Z"
   },
   {
    "duration": 66,
    "start_time": "2022-04-02T13:48:24.364Z"
   },
   {
    "duration": 117,
    "start_time": "2022-04-02T13:48:28.090Z"
   },
   {
    "duration": 2,
    "start_time": "2022-04-02T13:48:37.083Z"
   },
   {
    "duration": 7,
    "start_time": "2022-04-02T13:48:38.771Z"
   },
   {
    "duration": 3,
    "start_time": "2022-04-02T13:48:39.466Z"
   },
   {
    "duration": 68,
    "start_time": "2022-04-02T13:48:40.594Z"
   },
   {
    "duration": 3,
    "start_time": "2022-04-02T13:49:01.115Z"
   },
   {
    "duration": 52,
    "start_time": "2022-04-02T13:49:01.661Z"
   },
   {
    "duration": 6,
    "start_time": "2022-04-02T13:49:36.186Z"
   },
   {
    "duration": 307,
    "start_time": "2022-04-02T13:49:37.106Z"
   },
   {
    "duration": 33,
    "start_time": "2022-04-02T13:49:42.161Z"
   },
   {
    "duration": 10,
    "start_time": "2022-04-02T13:49:45.955Z"
   },
   {
    "duration": 63,
    "start_time": "2022-04-02T13:49:47.328Z"
   },
   {
    "duration": 106,
    "start_time": "2022-04-02T13:49:52.160Z"
   },
   {
    "duration": 2,
    "start_time": "2022-04-02T13:50:00.871Z"
   },
   {
    "duration": 7,
    "start_time": "2022-04-02T13:50:01.386Z"
   },
   {
    "duration": 3,
    "start_time": "2022-04-02T13:50:01.993Z"
   },
   {
    "duration": 50,
    "start_time": "2022-04-02T13:50:03.393Z"
   },
   {
    "duration": 22,
    "start_time": "2022-04-02T13:50:43.256Z"
   },
   {
    "duration": 9,
    "start_time": "2022-04-02T14:01:17.713Z"
   },
   {
    "duration": 8,
    "start_time": "2022-04-02T14:01:38.368Z"
   },
   {
    "duration": 199,
    "start_time": "2022-04-02T14:06:33.401Z"
   },
   {
    "duration": 172,
    "start_time": "2022-04-02T14:06:40.377Z"
   },
   {
    "duration": 15,
    "start_time": "2022-04-02T14:10:09.245Z"
   },
   {
    "duration": 3014,
    "start_time": "2022-04-02T14:11:50.090Z"
   },
   {
    "duration": 3047,
    "start_time": "2022-04-02T14:11:53.312Z"
   },
   {
    "duration": 3245,
    "start_time": "2022-04-02T14:12:18.137Z"
   },
   {
    "duration": 22,
    "start_time": "2022-04-02T14:15:57.203Z"
   },
   {
    "duration": 6,
    "start_time": "2022-04-02T14:17:30.273Z"
   },
   {
    "duration": 8,
    "start_time": "2022-04-02T14:17:37.033Z"
   },
   {
    "duration": 220,
    "start_time": "2022-04-02T14:18:01.704Z"
   },
   {
    "duration": 8,
    "start_time": "2022-04-02T14:18:02.184Z"
   },
   {
    "duration": 230,
    "start_time": "2022-04-02T14:18:08.200Z"
   },
   {
    "duration": 16,
    "start_time": "2022-04-02T14:18:14.158Z"
   },
   {
    "duration": 15,
    "start_time": "2022-04-02T14:18:29.264Z"
   },
   {
    "duration": 208,
    "start_time": "2022-04-02T14:18:31.935Z"
   },
   {
    "duration": 178,
    "start_time": "2022-04-02T14:18:41.517Z"
   },
   {
    "duration": 196,
    "start_time": "2022-04-02T14:18:46.742Z"
   },
   {
    "duration": 194,
    "start_time": "2022-04-02T14:18:49.966Z"
   },
   {
    "duration": 1503,
    "start_time": "2022-04-02T14:18:55.822Z"
   },
   {
    "duration": 3,
    "start_time": "2022-04-02T14:19:05.078Z"
   },
   {
    "duration": 4,
    "start_time": "2022-04-02T14:19:06.598Z"
   },
   {
    "duration": 3,
    "start_time": "2022-04-02T14:19:15.437Z"
   },
   {
    "duration": 4,
    "start_time": "2022-04-02T14:19:16.942Z"
   },
   {
    "duration": 17,
    "start_time": "2022-04-02T14:19:28.236Z"
   },
   {
    "duration": 3211,
    "start_time": "2022-04-02T14:19:35.221Z"
   },
   {
    "duration": 0,
    "start_time": "2022-04-02T14:19:38.434Z"
   },
   {
    "duration": 3,
    "start_time": "2022-04-02T14:19:58.437Z"
   },
   {
    "duration": 9,
    "start_time": "2022-04-02T14:20:00.053Z"
   },
   {
    "duration": 8578,
    "start_time": "2022-04-02T14:20:08.693Z"
   },
   {
    "duration": 4,
    "start_time": "2022-04-02T14:23:29.049Z"
   },
   {
    "duration": 9,
    "start_time": "2022-04-02T14:23:30.374Z"
   },
   {
    "duration": 4,
    "start_time": "2022-04-02T14:23:39.064Z"
   },
   {
    "duration": 8,
    "start_time": "2022-04-02T14:23:41.712Z"
   },
   {
    "duration": 3,
    "start_time": "2022-04-02T14:24:13.944Z"
   },
   {
    "duration": 10,
    "start_time": "2022-04-02T14:24:15.261Z"
   },
   {
    "duration": 11,
    "start_time": "2022-04-02T14:26:33.866Z"
   },
   {
    "duration": 3,
    "start_time": "2022-04-02T14:26:59.339Z"
   },
   {
    "duration": 5,
    "start_time": "2022-04-02T14:26:59.745Z"
   },
   {
    "duration": 3,
    "start_time": "2022-04-02T14:27:00.290Z"
   },
   {
    "duration": 13,
    "start_time": "2022-04-02T14:27:00.769Z"
   },
   {
    "duration": 511,
    "start_time": "2022-04-02T14:29:22.958Z"
   },
   {
    "duration": 2,
    "start_time": "2022-04-02T14:31:58.044Z"
   },
   {
    "duration": 3,
    "start_time": "2022-04-02T14:32:00.971Z"
   },
   {
    "duration": 14,
    "start_time": "2022-04-02T14:32:09.213Z"
   },
   {
    "duration": 3123,
    "start_time": "2022-04-02T14:33:29.104Z"
   },
   {
    "duration": 3,
    "start_time": "2022-04-02T14:33:41.760Z"
   },
   {
    "duration": 5,
    "start_time": "2022-04-02T14:33:42.128Z"
   },
   {
    "duration": 3127,
    "start_time": "2022-04-02T14:33:42.760Z"
   },
   {
    "duration": 4,
    "start_time": "2022-04-02T14:34:18.777Z"
   },
   {
    "duration": 3,
    "start_time": "2022-04-02T14:34:19.935Z"
   },
   {
    "duration": 25,
    "start_time": "2022-04-02T14:34:21.535Z"
   },
   {
    "duration": 5,
    "start_time": "2022-04-02T14:39:35.047Z"
   },
   {
    "duration": 54,
    "start_time": "2022-04-02T14:39:35.847Z"
   },
   {
    "duration": 35,
    "start_time": "2022-04-02T14:39:36.470Z"
   },
   {
    "duration": 62,
    "start_time": "2022-04-02T14:39:43.999Z"
   },
   {
    "duration": 5,
    "start_time": "2022-04-02T14:40:12.382Z"
   },
   {
    "duration": 49,
    "start_time": "2022-04-02T14:40:12.753Z"
   },
   {
    "duration": 41,
    "start_time": "2022-04-02T14:40:13.128Z"
   },
   {
    "duration": 5,
    "start_time": "2022-04-02T14:44:33.000Z"
   },
   {
    "duration": 44,
    "start_time": "2022-04-02T14:44:33.425Z"
   },
   {
    "duration": 4,
    "start_time": "2022-04-02T14:44:33.832Z"
   },
   {
    "duration": 56,
    "start_time": "2022-04-02T14:44:34.607Z"
   },
   {
    "duration": 5,
    "start_time": "2022-04-02T14:45:58.037Z"
   },
   {
    "duration": 47,
    "start_time": "2022-04-02T14:45:58.453Z"
   },
   {
    "duration": 3,
    "start_time": "2022-04-02T14:45:58.804Z"
   },
   {
    "duration": 55,
    "start_time": "2022-04-02T14:45:59.246Z"
   },
   {
    "duration": 3,
    "start_time": "2022-04-02T14:47:17.058Z"
   },
   {
    "duration": 717,
    "start_time": "2022-04-02T14:47:17.064Z"
   },
   {
    "duration": 24,
    "start_time": "2022-04-02T14:47:17.783Z"
   },
   {
    "duration": 135,
    "start_time": "2022-04-02T14:47:17.809Z"
   },
   {
    "duration": 192,
    "start_time": "2022-04-02T14:47:17.946Z"
   },
   {
    "duration": 80,
    "start_time": "2022-04-02T14:47:18.140Z"
   },
   {
    "duration": 122,
    "start_time": "2022-04-02T14:47:18.222Z"
   },
   {
    "duration": 131,
    "start_time": "2022-04-02T14:47:18.346Z"
   },
   {
    "duration": 27,
    "start_time": "2022-04-02T14:47:18.481Z"
   },
   {
    "duration": 12,
    "start_time": "2022-04-02T14:47:18.509Z"
   },
   {
    "duration": 91,
    "start_time": "2022-04-02T14:47:18.524Z"
   },
   {
    "duration": 985,
    "start_time": "2022-04-02T14:47:18.617Z"
   },
   {
    "duration": 17,
    "start_time": "2022-04-02T14:47:19.604Z"
   },
   {
    "duration": 20,
    "start_time": "2022-04-02T14:47:19.623Z"
   },
   {
    "duration": 40,
    "start_time": "2022-04-02T14:47:19.645Z"
   },
   {
    "duration": 122,
    "start_time": "2022-04-02T14:47:19.686Z"
   },
   {
    "duration": 137,
    "start_time": "2022-04-02T14:47:19.810Z"
   },
   {
    "duration": 6,
    "start_time": "2022-04-02T14:47:19.949Z"
   },
   {
    "duration": 308,
    "start_time": "2022-04-02T14:47:19.956Z"
   },
   {
    "duration": 5,
    "start_time": "2022-04-02T14:47:20.265Z"
   },
   {
    "duration": 56,
    "start_time": "2022-04-02T14:47:20.271Z"
   },
   {
    "duration": 4,
    "start_time": "2022-04-02T14:47:20.328Z"
   },
   {
    "duration": 70,
    "start_time": "2022-04-02T14:47:20.333Z"
   },
   {
    "duration": 39,
    "start_time": "2022-04-02T14:47:20.405Z"
   },
   {
    "duration": 0,
    "start_time": "2022-04-02T14:47:20.446Z"
   },
   {
    "duration": 0,
    "start_time": "2022-04-02T14:47:20.448Z"
   },
   {
    "duration": 0,
    "start_time": "2022-04-02T14:47:20.448Z"
   },
   {
    "duration": 0,
    "start_time": "2022-04-02T14:47:20.449Z"
   },
   {
    "duration": 0,
    "start_time": "2022-04-02T14:47:20.450Z"
   },
   {
    "duration": 0,
    "start_time": "2022-04-02T14:47:20.451Z"
   },
   {
    "duration": 0,
    "start_time": "2022-04-02T14:47:20.452Z"
   },
   {
    "duration": 0,
    "start_time": "2022-04-02T14:47:20.453Z"
   },
   {
    "duration": 0,
    "start_time": "2022-04-02T14:47:20.454Z"
   },
   {
    "duration": 0,
    "start_time": "2022-04-02T14:47:20.455Z"
   },
   {
    "duration": 0,
    "start_time": "2022-04-02T14:47:20.481Z"
   },
   {
    "duration": 0,
    "start_time": "2022-04-02T14:47:20.482Z"
   },
   {
    "duration": 0,
    "start_time": "2022-04-02T14:47:20.483Z"
   },
   {
    "duration": 0,
    "start_time": "2022-04-02T14:47:20.484Z"
   },
   {
    "duration": 0,
    "start_time": "2022-04-02T14:47:20.485Z"
   },
   {
    "duration": 0,
    "start_time": "2022-04-02T14:47:20.486Z"
   },
   {
    "duration": 0,
    "start_time": "2022-04-02T14:47:20.487Z"
   },
   {
    "duration": 0,
    "start_time": "2022-04-02T14:47:20.488Z"
   },
   {
    "duration": 0,
    "start_time": "2022-04-02T14:47:20.489Z"
   },
   {
    "duration": 0,
    "start_time": "2022-04-02T14:47:20.491Z"
   },
   {
    "duration": 0,
    "start_time": "2022-04-02T14:47:20.492Z"
   },
   {
    "duration": 0,
    "start_time": "2022-04-02T14:47:20.493Z"
   },
   {
    "duration": 0,
    "start_time": "2022-04-02T14:47:20.494Z"
   },
   {
    "duration": 0,
    "start_time": "2022-04-02T14:47:20.495Z"
   },
   {
    "duration": 57,
    "start_time": "2022-04-02T14:49:14.241Z"
   },
   {
    "duration": 9,
    "start_time": "2022-04-02T14:49:47.225Z"
   },
   {
    "duration": 57,
    "start_time": "2022-04-02T14:50:02.527Z"
   },
   {
    "duration": 58,
    "start_time": "2022-04-02T14:50:09.664Z"
   },
   {
    "duration": 15,
    "start_time": "2022-04-02T14:50:21.424Z"
   },
   {
    "duration": 13,
    "start_time": "2022-04-02T14:51:29.365Z"
   },
   {
    "duration": 18,
    "start_time": "2022-04-02T14:52:04.997Z"
   },
   {
    "duration": 23,
    "start_time": "2022-04-02T14:52:06.950Z"
   },
   {
    "duration": 39,
    "start_time": "2022-04-02T14:52:40.012Z"
   },
   {
    "duration": 143,
    "start_time": "2022-04-02T14:54:01.241Z"
   },
   {
    "duration": 3,
    "start_time": "2022-04-02T14:55:59.118Z"
   },
   {
    "duration": 10,
    "start_time": "2022-04-02T14:56:06.973Z"
   },
   {
    "duration": 3,
    "start_time": "2022-04-02T14:57:55.492Z"
   },
   {
    "duration": 9,
    "start_time": "2022-04-02T14:57:55.899Z"
   },
   {
    "duration": 95,
    "start_time": "2022-04-02T14:58:06.154Z"
   },
   {
    "duration": 4,
    "start_time": "2022-04-02T14:58:12.371Z"
   },
   {
    "duration": 8,
    "start_time": "2022-04-02T14:58:12.803Z"
   },
   {
    "duration": 5,
    "start_time": "2022-04-02T14:58:48.099Z"
   },
   {
    "duration": 48,
    "start_time": "2022-04-02T14:58:48.513Z"
   },
   {
    "duration": 3,
    "start_time": "2022-04-02T14:58:48.969Z"
   },
   {
    "duration": 44,
    "start_time": "2022-04-02T14:58:49.450Z"
   },
   {
    "duration": 126,
    "start_time": "2022-04-02T14:58:51.201Z"
   },
   {
    "duration": 23,
    "start_time": "2022-04-02T14:59:10.777Z"
   },
   {
    "duration": 2,
    "start_time": "2022-04-02T14:59:18.537Z"
   },
   {
    "duration": 4,
    "start_time": "2022-04-02T14:59:18.914Z"
   },
   {
    "duration": 4,
    "start_time": "2022-04-02T14:59:20.449Z"
   },
   {
    "duration": 3,
    "start_time": "2022-04-02T14:59:36.655Z"
   },
   {
    "duration": 20,
    "start_time": "2022-04-02T14:59:37.136Z"
   },
   {
    "duration": 19,
    "start_time": "2022-04-02T15:09:51.314Z"
   },
   {
    "duration": 2,
    "start_time": "2022-04-02T15:10:23.249Z"
   },
   {
    "duration": 5,
    "start_time": "2022-04-02T15:10:23.657Z"
   },
   {
    "duration": 3,
    "start_time": "2022-04-02T15:10:24.018Z"
   },
   {
    "duration": 20,
    "start_time": "2022-04-02T15:10:24.681Z"
   },
   {
    "duration": 8300,
    "start_time": "2022-04-02T15:10:37.027Z"
   },
   {
    "duration": 10,
    "start_time": "2022-04-02T15:11:06.089Z"
   },
   {
    "duration": 9,
    "start_time": "2022-04-02T15:12:34.495Z"
   },
   {
    "duration": 367,
    "start_time": "2022-04-02T15:13:06.230Z"
   },
   {
    "duration": 4,
    "start_time": "2022-04-02T15:25:56.354Z"
   },
   {
    "duration": 644,
    "start_time": "2022-04-02T15:25:56.360Z"
   },
   {
    "duration": 13,
    "start_time": "2022-04-02T15:25:57.006Z"
   },
   {
    "duration": 125,
    "start_time": "2022-04-02T15:25:57.020Z"
   },
   {
    "duration": 188,
    "start_time": "2022-04-02T15:25:57.147Z"
   },
   {
    "duration": 84,
    "start_time": "2022-04-02T15:25:57.336Z"
   },
   {
    "duration": 118,
    "start_time": "2022-04-02T15:25:57.421Z"
   },
   {
    "duration": 130,
    "start_time": "2022-04-02T15:25:57.540Z"
   },
   {
    "duration": 30,
    "start_time": "2022-04-02T15:25:57.672Z"
   },
   {
    "duration": 13,
    "start_time": "2022-04-02T15:25:57.703Z"
   },
   {
    "duration": 87,
    "start_time": "2022-04-02T15:25:57.718Z"
   },
   {
    "duration": 875,
    "start_time": "2022-04-02T15:25:57.807Z"
   },
   {
    "duration": 16,
    "start_time": "2022-04-02T15:25:58.684Z"
   },
   {
    "duration": 19,
    "start_time": "2022-04-02T15:25:58.702Z"
   },
   {
    "duration": 18,
    "start_time": "2022-04-02T15:25:58.723Z"
   },
   {
    "duration": 133,
    "start_time": "2022-04-02T15:25:58.742Z"
   },
   {
    "duration": 114,
    "start_time": "2022-04-02T15:25:58.877Z"
   },
   {
    "duration": 5,
    "start_time": "2022-04-02T15:25:58.993Z"
   },
   {
    "duration": 319,
    "start_time": "2022-04-02T15:25:58.999Z"
   },
   {
    "duration": 5,
    "start_time": "2022-04-02T15:25:59.319Z"
   },
   {
    "duration": 57,
    "start_time": "2022-04-02T15:25:59.325Z"
   },
   {
    "duration": 3,
    "start_time": "2022-04-02T15:25:59.384Z"
   },
   {
    "duration": 50,
    "start_time": "2022-04-02T15:25:59.389Z"
   },
   {
    "duration": 145,
    "start_time": "2022-04-02T15:25:59.441Z"
   },
   {
    "duration": 207,
    "start_time": "2022-04-02T15:25:59.588Z"
   },
   {
    "duration": 2,
    "start_time": "2022-04-02T15:25:59.881Z"
   },
   {
    "duration": 7,
    "start_time": "2022-04-02T15:25:59.884Z"
   },
   {
    "duration": 12,
    "start_time": "2022-04-02T15:25:59.892Z"
   },
   {
    "duration": 0,
    "start_time": "2022-04-02T15:26:00.044Z"
   },
   {
    "duration": 0,
    "start_time": "2022-04-02T15:26:00.045Z"
   },
   {
    "duration": 0,
    "start_time": "2022-04-02T15:26:00.046Z"
   },
   {
    "duration": 0,
    "start_time": "2022-04-02T15:26:00.047Z"
   },
   {
    "duration": 0,
    "start_time": "2022-04-02T15:26:00.048Z"
   },
   {
    "duration": 0,
    "start_time": "2022-04-02T15:26:00.049Z"
   },
   {
    "duration": 0,
    "start_time": "2022-04-02T15:26:00.050Z"
   },
   {
    "duration": 0,
    "start_time": "2022-04-02T15:26:00.051Z"
   },
   {
    "duration": 0,
    "start_time": "2022-04-02T15:26:00.052Z"
   },
   {
    "duration": 0,
    "start_time": "2022-04-02T15:26:00.053Z"
   },
   {
    "duration": 0,
    "start_time": "2022-04-02T15:26:00.054Z"
   },
   {
    "duration": 0,
    "start_time": "2022-04-02T15:26:00.055Z"
   },
   {
    "duration": 0,
    "start_time": "2022-04-02T15:26:00.056Z"
   },
   {
    "duration": 0,
    "start_time": "2022-04-02T15:26:00.057Z"
   },
   {
    "duration": 0,
    "start_time": "2022-04-02T15:26:00.057Z"
   },
   {
    "duration": 0,
    "start_time": "2022-04-02T15:26:00.058Z"
   },
   {
    "duration": 0,
    "start_time": "2022-04-02T15:26:00.059Z"
   },
   {
    "duration": 0,
    "start_time": "2022-04-02T15:26:00.081Z"
   },
   {
    "duration": 0,
    "start_time": "2022-04-02T15:26:00.081Z"
   },
   {
    "duration": 6273,
    "start_time": "2022-04-02T15:26:37.464Z"
   },
   {
    "duration": 4,
    "start_time": "2022-04-02T15:26:43.739Z"
   },
   {
    "duration": 10,
    "start_time": "2022-04-02T15:26:43.744Z"
   },
   {
    "duration": 10,
    "start_time": "2022-04-02T15:26:43.755Z"
   },
   {
    "duration": 8451,
    "start_time": "2022-04-02T15:26:43.767Z"
   },
   {
    "duration": 0,
    "start_time": "2022-04-02T15:26:52.220Z"
   },
   {
    "duration": 0,
    "start_time": "2022-04-02T15:26:52.221Z"
   },
   {
    "duration": 0,
    "start_time": "2022-04-02T15:26:52.222Z"
   },
   {
    "duration": 0,
    "start_time": "2022-04-02T15:26:52.223Z"
   },
   {
    "duration": 0,
    "start_time": "2022-04-02T15:26:52.223Z"
   },
   {
    "duration": 0,
    "start_time": "2022-04-02T15:26:52.224Z"
   },
   {
    "duration": 0,
    "start_time": "2022-04-02T15:26:52.225Z"
   },
   {
    "duration": 0,
    "start_time": "2022-04-02T15:26:52.226Z"
   },
   {
    "duration": 0,
    "start_time": "2022-04-02T15:26:52.227Z"
   },
   {
    "duration": 0,
    "start_time": "2022-04-02T15:26:52.228Z"
   },
   {
    "duration": 0,
    "start_time": "2022-04-02T15:26:52.230Z"
   },
   {
    "duration": 0,
    "start_time": "2022-04-02T15:26:52.230Z"
   },
   {
    "duration": 0,
    "start_time": "2022-04-02T15:26:52.231Z"
   },
   {
    "duration": 0,
    "start_time": "2022-04-02T15:26:52.232Z"
   },
   {
    "duration": 0,
    "start_time": "2022-04-02T15:26:52.234Z"
   },
   {
    "duration": 2356,
    "start_time": "2022-04-04T16:23:17.636Z"
   },
   {
    "duration": 1091,
    "start_time": "2022-04-04T16:23:19.995Z"
   },
   {
    "duration": 30,
    "start_time": "2022-04-04T16:23:21.088Z"
   },
   {
    "duration": 171,
    "start_time": "2022-04-04T16:23:29.681Z"
   },
   {
    "duration": 429,
    "start_time": "2022-04-04T16:23:30.919Z"
   },
   {
    "duration": 120,
    "start_time": "2022-04-04T16:23:31.400Z"
   },
   {
    "duration": 176,
    "start_time": "2022-04-04T16:23:33.024Z"
   },
   {
    "duration": 237,
    "start_time": "2022-04-04T16:23:33.488Z"
   },
   {
    "duration": 48,
    "start_time": "2022-04-04T16:23:34.351Z"
   },
   {
    "duration": 22,
    "start_time": "2022-04-04T16:23:36.757Z"
   },
   {
    "duration": 119,
    "start_time": "2022-04-04T16:23:37.904Z"
   },
   {
    "duration": 1976,
    "start_time": "2022-04-04T16:23:44.295Z"
   },
   {
    "duration": 41,
    "start_time": "2022-04-04T16:23:50.494Z"
   },
   {
    "duration": 39,
    "start_time": "2022-04-04T16:23:51.303Z"
   },
   {
    "duration": 40,
    "start_time": "2022-04-04T16:23:52.559Z"
   },
   {
    "duration": 301,
    "start_time": "2022-04-04T16:23:53.935Z"
   },
   {
    "duration": 291,
    "start_time": "2022-04-04T16:23:55.367Z"
   },
   {
    "duration": 9,
    "start_time": "2022-04-04T16:24:04.695Z"
   },
   {
    "duration": 544,
    "start_time": "2022-04-04T16:24:05.143Z"
   },
   {
    "duration": 14,
    "start_time": "2022-04-04T16:24:07.565Z"
   },
   {
    "duration": 45,
    "start_time": "2022-04-04T16:24:09.142Z"
   },
   {
    "duration": 3,
    "start_time": "2022-04-04T16:24:09.742Z"
   },
   {
    "duration": 49,
    "start_time": "2022-04-04T16:24:10.607Z"
   },
   {
    "duration": 228,
    "start_time": "2022-04-04T16:24:15.462Z"
   },
   {
    "duration": 385,
    "start_time": "2022-04-04T16:24:24.797Z"
   },
   {
    "duration": 3,
    "start_time": "2022-04-04T16:24:33.629Z"
   },
   {
    "duration": 4,
    "start_time": "2022-04-04T16:24:34.205Z"
   },
   {
    "duration": 12607,
    "start_time": "2022-04-04T16:24:34.918Z"
   },
   {
    "duration": 5,
    "start_time": "2022-04-04T16:24:50.421Z"
   },
   {
    "duration": 4,
    "start_time": "2022-04-04T16:27:04.199Z"
   },
   {
    "duration": 4,
    "start_time": "2022-04-04T16:27:04.754Z"
   },
   {
    "duration": 4,
    "start_time": "2022-04-04T16:27:05.193Z"
   },
   {
    "duration": 5,
    "start_time": "2022-04-04T16:27:09.282Z"
   },
   {
    "duration": 4,
    "start_time": "2022-04-04T16:27:54.119Z"
   },
   {
    "duration": 5,
    "start_time": "2022-04-04T16:27:54.569Z"
   },
   {
    "duration": 193,
    "start_time": "2022-04-04T16:27:55.138Z"
   },
   {
    "duration": 1717,
    "start_time": "2022-04-04T16:28:23.912Z"
   },
   {
    "duration": 0,
    "start_time": "2022-04-04T16:28:25.632Z"
   },
   {
    "duration": 6,
    "start_time": "2022-04-04T16:28:41.667Z"
   },
   {
    "duration": 5,
    "start_time": "2022-04-04T16:28:43.769Z"
   },
   {
    "duration": 15,
    "start_time": "2022-04-04T16:28:44.656Z"
   },
   {
    "duration": 20,
    "start_time": "2022-04-04T16:37:09.317Z"
   },
   {
    "duration": 6,
    "start_time": "2022-04-04T16:38:29.283Z"
   },
   {
    "duration": 1154,
    "start_time": "2022-04-04T16:38:29.628Z"
   },
   {
    "duration": 24,
    "start_time": "2022-04-04T16:38:30.785Z"
   },
   {
    "duration": 202,
    "start_time": "2022-04-04T16:38:30.811Z"
   },
   {
    "duration": 311,
    "start_time": "2022-04-04T16:38:31.690Z"
   },
   {
    "duration": 113,
    "start_time": "2022-04-04T16:38:32.033Z"
   },
   {
    "duration": 159,
    "start_time": "2022-04-04T16:38:32.981Z"
   },
   {
    "duration": 250,
    "start_time": "2022-04-04T16:38:33.466Z"
   },
   {
    "duration": 44,
    "start_time": "2022-04-04T16:38:33.868Z"
   },
   {
    "duration": 20,
    "start_time": "2022-04-04T16:38:34.755Z"
   },
   {
    "duration": 125,
    "start_time": "2022-04-04T16:38:35.412Z"
   },
   {
    "duration": 2008,
    "start_time": "2022-04-04T16:38:36.349Z"
   },
   {
    "duration": 42,
    "start_time": "2022-04-04T16:38:38.359Z"
   },
   {
    "duration": 38,
    "start_time": "2022-04-04T16:38:38.843Z"
   },
   {
    "duration": 33,
    "start_time": "2022-04-04T16:38:40.194Z"
   },
   {
    "duration": 336,
    "start_time": "2022-04-04T16:38:41.954Z"
   },
   {
    "duration": 256,
    "start_time": "2022-04-04T16:38:42.785Z"
   },
   {
    "duration": 8,
    "start_time": "2022-04-04T16:38:47.481Z"
   },
   {
    "duration": 486,
    "start_time": "2022-04-04T16:38:47.858Z"
   },
   {
    "duration": 8,
    "start_time": "2022-04-04T16:38:49.913Z"
   },
   {
    "duration": 37,
    "start_time": "2022-04-04T16:38:50.904Z"
   },
   {
    "duration": 3,
    "start_time": "2022-04-04T16:38:51.649Z"
   },
   {
    "duration": 52,
    "start_time": "2022-04-04T16:38:52.194Z"
   },
   {
    "duration": 82,
    "start_time": "2022-04-04T16:38:59.250Z"
   },
   {
    "duration": 176,
    "start_time": "2022-04-04T16:39:15.081Z"
   },
   {
    "duration": 3,
    "start_time": "2022-04-04T16:39:44.681Z"
   },
   {
    "duration": 6,
    "start_time": "2022-04-04T16:39:45.111Z"
   },
   {
    "duration": 8,
    "start_time": "2022-04-04T16:39:45.769Z"
   },
   {
    "duration": 6,
    "start_time": "2022-04-04T16:39:47.169Z"
   },
   {
    "duration": 19,
    "start_time": "2022-04-04T16:39:47.770Z"
   },
   {
    "duration": 5,
    "start_time": "2022-04-04T16:40:17.536Z"
   },
   {
    "duration": 4,
    "start_time": "2022-04-04T16:42:46.381Z"
   },
   {
    "duration": 4,
    "start_time": "2022-04-04T16:42:47.124Z"
   },
   {
    "duration": 1219,
    "start_time": "2022-04-04T16:42:47.948Z"
   },
   {
    "duration": 5,
    "start_time": "2022-04-04T16:43:21.680Z"
   },
   {
    "duration": 3912,
    "start_time": "2022-04-04T16:43:22.236Z"
   },
   {
    "duration": 29,
    "start_time": "2022-04-04T16:43:46.779Z"
   },
   {
    "duration": 28,
    "start_time": "2022-04-04T16:44:38.881Z"
   },
   {
    "duration": 3,
    "start_time": "2022-04-04T16:47:12.262Z"
   },
   {
    "duration": 5,
    "start_time": "2022-04-04T16:47:12.693Z"
   },
   {
    "duration": 37,
    "start_time": "2022-04-04T16:47:13.051Z"
   },
   {
    "duration": 3626,
    "start_time": "2022-04-04T16:47:13.800Z"
   },
   {
    "duration": 8,
    "start_time": "2022-04-04T16:48:44.148Z"
   },
   {
    "duration": 6,
    "start_time": "2022-04-04T16:56:01.746Z"
   },
   {
    "duration": 5,
    "start_time": "2022-04-04T16:56:13.409Z"
   },
   {
    "duration": 98,
    "start_time": "2022-04-04T16:56:23.155Z"
   },
   {
    "duration": 11,
    "start_time": "2022-04-04T16:56:32.432Z"
   },
   {
    "duration": 1349,
    "start_time": "2022-04-04T16:56:40.106Z"
   },
   {
    "duration": 3,
    "start_time": "2022-04-04T16:56:55.831Z"
   },
   {
    "duration": 3,
    "start_time": "2022-04-04T16:56:56.327Z"
   },
   {
    "duration": 5,
    "start_time": "2022-04-04T16:56:56.767Z"
   },
   {
    "duration": 5,
    "start_time": "2022-04-04T16:56:58.191Z"
   },
   {
    "duration": 7,
    "start_time": "2022-04-04T16:56:58.681Z"
   },
   {
    "duration": 1339,
    "start_time": "2022-04-04T16:56:59.705Z"
   },
   {
    "duration": 13,
    "start_time": "2022-04-04T16:59:41.453Z"
   },
   {
    "duration": 1878,
    "start_time": "2022-04-04T17:00:10.599Z"
   },
   {
    "duration": 4,
    "start_time": "2022-04-04T17:01:54.154Z"
   },
   {
    "duration": 3,
    "start_time": "2022-04-04T17:01:54.522Z"
   },
   {
    "duration": 4,
    "start_time": "2022-04-04T17:01:54.929Z"
   },
   {
    "duration": 4,
    "start_time": "2022-04-04T17:01:56.727Z"
   },
   {
    "duration": 7,
    "start_time": "2022-04-04T17:02:06.689Z"
   },
   {
    "duration": 14,
    "start_time": "2022-04-04T17:02:07.923Z"
   },
   {
    "duration": 14,
    "start_time": "2022-04-04T17:02:16.642Z"
   },
   {
    "duration": 4,
    "start_time": "2022-04-04T17:04:44.405Z"
   },
   {
    "duration": 3,
    "start_time": "2022-04-04T17:04:44.701Z"
   },
   {
    "duration": 4,
    "start_time": "2022-04-04T17:04:45.003Z"
   },
   {
    "duration": 4,
    "start_time": "2022-04-04T17:04:45.398Z"
   },
   {
    "duration": 8,
    "start_time": "2022-04-04T17:04:45.782Z"
   },
   {
    "duration": 13,
    "start_time": "2022-04-04T17:04:46.654Z"
   },
   {
    "duration": 57,
    "start_time": "2022-04-04T17:05:24.324Z"
   },
   {
    "duration": 8,
    "start_time": "2022-04-04T17:06:12.812Z"
   },
   {
    "duration": 1226,
    "start_time": "2022-04-04T17:06:13.203Z"
   },
   {
    "duration": 42,
    "start_time": "2022-04-04T17:06:14.432Z"
   },
   {
    "duration": 236,
    "start_time": "2022-04-04T17:06:14.476Z"
   },
   {
    "duration": 349,
    "start_time": "2022-04-04T17:06:15.497Z"
   },
   {
    "duration": 134,
    "start_time": "2022-04-04T17:06:15.850Z"
   },
   {
    "duration": 156,
    "start_time": "2022-04-04T17:06:16.458Z"
   },
   {
    "duration": 4,
    "start_time": "2022-04-04T17:06:16.795Z"
   },
   {
    "duration": 212,
    "start_time": "2022-04-04T17:06:17.163Z"
   },
   {
    "duration": 348,
    "start_time": "2022-04-04T17:06:17.969Z"
   },
   {
    "duration": 113,
    "start_time": "2022-04-04T17:06:18.788Z"
   },
   {
    "duration": 1984,
    "start_time": "2022-04-04T17:06:20.068Z"
   },
   {
    "duration": 68,
    "start_time": "2022-04-04T17:06:22.055Z"
   },
   {
    "duration": 64,
    "start_time": "2022-04-04T17:06:22.581Z"
   },
   {
    "duration": 53,
    "start_time": "2022-04-04T17:06:27.379Z"
   },
   {
    "duration": 436,
    "start_time": "2022-04-04T17:06:29.314Z"
   },
   {
    "duration": 577,
    "start_time": "2022-04-04T17:06:30.538Z"
   },
   {
    "duration": 18,
    "start_time": "2022-04-04T17:06:34.128Z"
   },
   {
    "duration": 563,
    "start_time": "2022-04-04T17:06:34.389Z"
   },
   {
    "duration": 17,
    "start_time": "2022-04-04T17:06:35.521Z"
   },
   {
    "duration": 100,
    "start_time": "2022-04-04T17:06:36.190Z"
   },
   {
    "duration": 3,
    "start_time": "2022-04-04T17:06:36.489Z"
   },
   {
    "duration": 197,
    "start_time": "2022-04-04T17:06:36.834Z"
   },
   {
    "duration": 258,
    "start_time": "2022-04-04T17:06:39.346Z"
   },
   {
    "duration": 5,
    "start_time": "2022-04-04T17:06:57.249Z"
   },
   {
    "duration": 4,
    "start_time": "2022-04-04T17:06:57.616Z"
   },
   {
    "duration": 4,
    "start_time": "2022-04-04T17:06:58.128Z"
   },
   {
    "duration": 6,
    "start_time": "2022-04-04T17:06:58.641Z"
   },
   {
    "duration": 7,
    "start_time": "2022-04-04T17:06:59.482Z"
   },
   {
    "duration": 14,
    "start_time": "2022-04-04T17:07:00.026Z"
   },
   {
    "duration": 4,
    "start_time": "2022-04-04T17:11:52.868Z"
   },
   {
    "duration": 4,
    "start_time": "2022-04-04T17:11:53.241Z"
   },
   {
    "duration": 4,
    "start_time": "2022-04-04T17:11:53.722Z"
   },
   {
    "duration": 5,
    "start_time": "2022-04-04T17:11:55.866Z"
   },
   {
    "duration": 11,
    "start_time": "2022-04-04T17:11:56.466Z"
   },
   {
    "duration": 106,
    "start_time": "2022-04-04T17:11:57.380Z"
   },
   {
    "duration": 14,
    "start_time": "2022-04-04T17:13:14.128Z"
   },
   {
    "duration": 4,
    "start_time": "2022-04-04T17:21:07.085Z"
   },
   {
    "duration": 5,
    "start_time": "2022-04-04T17:21:17.892Z"
   },
   {
    "duration": 121,
    "start_time": "2022-04-04T17:21:40.281Z"
   },
   {
    "duration": 1538,
    "start_time": "2022-04-04T17:21:51.407Z"
   },
   {
    "duration": 193,
    "start_time": "2022-04-04T17:24:55.767Z"
   },
   {
    "duration": 41,
    "start_time": "2022-04-04T17:24:56.274Z"
   },
   {
    "duration": 10,
    "start_time": "2022-04-04T17:24:57.302Z"
   },
   {
    "duration": 102,
    "start_time": "2022-04-04T17:24:58.113Z"
   },
   {
    "duration": 1758,
    "start_time": "2022-04-04T17:24:59.855Z"
   },
   {
    "duration": 29,
    "start_time": "2022-04-04T17:25:05.981Z"
   },
   {
    "duration": 38,
    "start_time": "2022-04-04T17:25:06.863Z"
   },
   {
    "duration": 35,
    "start_time": "2022-04-04T17:25:07.656Z"
   },
   {
    "duration": 223,
    "start_time": "2022-04-04T17:25:08.814Z"
   },
   {
    "duration": 238,
    "start_time": "2022-04-04T17:25:09.878Z"
   },
   {
    "duration": 12,
    "start_time": "2022-04-04T17:25:14.382Z"
   },
   {
    "duration": 519,
    "start_time": "2022-04-04T17:25:14.726Z"
   },
   {
    "duration": 12,
    "start_time": "2022-04-04T17:25:15.701Z"
   },
   {
    "duration": 38,
    "start_time": "2022-04-04T17:25:16.527Z"
   },
   {
    "duration": 3,
    "start_time": "2022-04-04T17:25:16.778Z"
   },
   {
    "duration": 49,
    "start_time": "2022-04-04T17:25:17.006Z"
   },
   {
    "duration": 191,
    "start_time": "2022-04-04T17:25:18.565Z"
   },
   {
    "duration": 3,
    "start_time": "2022-04-04T17:25:32.392Z"
   },
   {
    "duration": 2,
    "start_time": "2022-04-04T17:25:32.951Z"
   },
   {
    "duration": 4,
    "start_time": "2022-04-04T17:25:33.381Z"
   },
   {
    "duration": 5,
    "start_time": "2022-04-04T17:25:34.374Z"
   },
   {
    "duration": 7,
    "start_time": "2022-04-04T17:25:35.039Z"
   },
   {
    "duration": 1551,
    "start_time": "2022-04-04T17:25:36.896Z"
   },
   {
    "duration": 6,
    "start_time": "2022-04-04T17:28:25.099Z"
   },
   {
    "duration": 989,
    "start_time": "2022-04-04T17:28:25.482Z"
   },
   {
    "duration": 24,
    "start_time": "2022-04-04T17:28:26.474Z"
   },
   {
    "duration": 188,
    "start_time": "2022-04-04T17:28:26.500Z"
   },
   {
    "duration": 321,
    "start_time": "2022-04-04T17:28:27.227Z"
   },
   {
    "duration": 115,
    "start_time": "2022-04-04T17:28:27.577Z"
   },
   {
    "duration": 134,
    "start_time": "2022-04-04T17:28:28.312Z"
   },
   {
    "duration": 219,
    "start_time": "2022-04-04T17:28:28.625Z"
   },
   {
    "duration": 44,
    "start_time": "2022-04-04T17:28:28.961Z"
   },
   {
    "duration": 17,
    "start_time": "2022-04-04T17:28:31.666Z"
   },
   {
    "duration": 107,
    "start_time": "2022-04-04T17:28:32.531Z"
   },
   {
    "duration": 1774,
    "start_time": "2022-04-04T17:28:37.079Z"
   },
   {
    "duration": 40,
    "start_time": "2022-04-04T17:28:38.856Z"
   },
   {
    "duration": 45,
    "start_time": "2022-04-04T17:28:39.601Z"
   },
   {
    "duration": 55,
    "start_time": "2022-04-04T17:28:41.049Z"
   },
   {
    "duration": 251,
    "start_time": "2022-04-04T17:28:42.448Z"
   },
   {
    "duration": 249,
    "start_time": "2022-04-04T17:28:43.537Z"
   },
   {
    "duration": 8,
    "start_time": "2022-04-04T17:28:49.080Z"
   },
   {
    "duration": 449,
    "start_time": "2022-04-04T17:28:49.536Z"
   },
   {
    "duration": 8,
    "start_time": "2022-04-04T17:28:50.848Z"
   },
   {
    "duration": 41,
    "start_time": "2022-04-04T17:28:51.552Z"
   },
   {
    "duration": 3,
    "start_time": "2022-04-04T17:28:51.915Z"
   },
   {
    "duration": 52,
    "start_time": "2022-04-04T17:28:52.369Z"
   },
   {
    "duration": 225,
    "start_time": "2022-04-04T17:29:26.959Z"
   },
   {
    "duration": 5,
    "start_time": "2022-04-04T17:29:35.944Z"
   },
   {
    "duration": 3,
    "start_time": "2022-04-04T17:29:36.600Z"
   },
   {
    "duration": 4,
    "start_time": "2022-04-04T17:29:37.071Z"
   },
   {
    "duration": 4,
    "start_time": "2022-04-04T17:29:37.681Z"
   },
   {
    "duration": 8,
    "start_time": "2022-04-04T17:29:38.063Z"
   },
   {
    "duration": 1417,
    "start_time": "2022-04-04T17:29:38.737Z"
   },
   {
    "duration": 1260,
    "start_time": "2022-04-04T17:31:13.440Z"
   },
   {
    "duration": 37,
    "start_time": "2022-04-04T17:32:37.786Z"
   },
   {
    "duration": 26,
    "start_time": "2022-04-04T17:34:26.314Z"
   },
   {
    "duration": 3,
    "start_time": "2022-04-04T17:34:26.953Z"
   },
   {
    "duration": 4,
    "start_time": "2022-04-04T17:34:27.441Z"
   },
   {
    "duration": 5,
    "start_time": "2022-04-04T17:34:27.836Z"
   },
   {
    "duration": 7,
    "start_time": "2022-04-04T17:34:29.082Z"
   },
   {
    "duration": 2021162,
    "start_time": "2022-04-04T17:34:30.242Z"
   },
   {
    "duration": 1448,
    "start_time": "2022-04-04T18:08:20.826Z"
   },
   {
    "duration": 4,
    "start_time": "2022-04-04T18:10:42.837Z"
   },
   {
    "duration": 4,
    "start_time": "2022-04-04T18:11:08.227Z"
   },
   {
    "duration": 4,
    "start_time": "2022-04-04T18:11:09.581Z"
   },
   {
    "duration": 4,
    "start_time": "2022-04-04T18:11:09.924Z"
   },
   {
    "duration": 4,
    "start_time": "2022-04-04T18:11:10.332Z"
   },
   {
    "duration": 14,
    "start_time": "2022-04-04T18:11:10.711Z"
   },
   {
    "duration": 5,
    "start_time": "2022-04-04T18:11:44.284Z"
   },
   {
    "duration": 5,
    "start_time": "2022-04-04T18:11:51.468Z"
   },
   {
    "duration": 0,
    "start_time": "2022-04-04T18:12:51.603Z"
   },
   {
    "duration": 4,
    "start_time": "2022-04-04T18:14:54.248Z"
   },
   {
    "duration": 4,
    "start_time": "2022-04-04T18:14:55.128Z"
   },
   {
    "duration": 4,
    "start_time": "2022-04-04T18:14:55.822Z"
   },
   {
    "duration": 82,
    "start_time": "2022-04-04T18:14:57.780Z"
   },
   {
    "duration": 6,
    "start_time": "2022-04-04T18:23:40.739Z"
   },
   {
    "duration": 1040,
    "start_time": "2022-04-04T18:23:40.747Z"
   },
   {
    "duration": 22,
    "start_time": "2022-04-04T18:23:41.790Z"
   },
   {
    "duration": 187,
    "start_time": "2022-04-04T18:23:41.815Z"
   },
   {
    "duration": 340,
    "start_time": "2022-04-04T18:23:42.005Z"
   },
   {
    "duration": 135,
    "start_time": "2022-04-04T18:23:42.348Z"
   },
   {
    "duration": 167,
    "start_time": "2022-04-04T18:23:42.486Z"
   },
   {
    "duration": 245,
    "start_time": "2022-04-04T18:23:42.656Z"
   },
   {
    "duration": 70,
    "start_time": "2022-04-04T18:23:42.903Z"
   },
   {
    "duration": 17,
    "start_time": "2022-04-04T18:23:42.976Z"
   },
   {
    "duration": 137,
    "start_time": "2022-04-04T18:23:42.997Z"
   },
   {
    "duration": 1831,
    "start_time": "2022-04-04T18:23:43.136Z"
   },
   {
    "duration": 34,
    "start_time": "2022-04-04T18:23:44.972Z"
   },
   {
    "duration": 36,
    "start_time": "2022-04-04T18:23:45.008Z"
   },
   {
    "duration": 55,
    "start_time": "2022-04-04T18:23:45.046Z"
   },
   {
    "duration": 274,
    "start_time": "2022-04-04T18:23:45.103Z"
   },
   {
    "duration": 251,
    "start_time": "2022-04-04T18:23:45.380Z"
   },
   {
    "duration": 8,
    "start_time": "2022-04-04T18:23:45.633Z"
   },
   {
    "duration": 499,
    "start_time": "2022-04-04T18:23:45.644Z"
   },
   {
    "duration": 7,
    "start_time": "2022-04-04T18:23:46.145Z"
   },
   {
    "duration": 50,
    "start_time": "2022-04-04T18:23:46.155Z"
   },
   {
    "duration": 73,
    "start_time": "2022-04-04T18:23:46.207Z"
   },
   {
    "duration": 233,
    "start_time": "2022-04-04T18:23:46.283Z"
   },
   {
    "duration": 82,
    "start_time": "2022-04-04T18:23:46.519Z"
   },
   {
    "duration": 0,
    "start_time": "2022-04-04T18:23:46.604Z"
   },
   {
    "duration": 0,
    "start_time": "2022-04-04T18:23:46.605Z"
   },
   {
    "duration": 0,
    "start_time": "2022-04-04T18:23:46.606Z"
   },
   {
    "duration": 0,
    "start_time": "2022-04-04T18:23:46.609Z"
   },
   {
    "duration": 1,
    "start_time": "2022-04-04T18:23:46.610Z"
   },
   {
    "duration": 0,
    "start_time": "2022-04-04T18:23:46.612Z"
   },
   {
    "duration": 0,
    "start_time": "2022-04-04T18:23:46.613Z"
   },
   {
    "duration": 0,
    "start_time": "2022-04-04T18:23:46.614Z"
   },
   {
    "duration": 0,
    "start_time": "2022-04-04T18:23:46.616Z"
   },
   {
    "duration": 0,
    "start_time": "2022-04-04T18:23:46.617Z"
   },
   {
    "duration": 0,
    "start_time": "2022-04-04T18:23:46.618Z"
   },
   {
    "duration": 0,
    "start_time": "2022-04-04T18:23:46.620Z"
   },
   {
    "duration": 0,
    "start_time": "2022-04-04T18:23:46.622Z"
   },
   {
    "duration": 0,
    "start_time": "2022-04-04T18:23:46.623Z"
   },
   {
    "duration": 0,
    "start_time": "2022-04-04T18:23:46.624Z"
   },
   {
    "duration": 0,
    "start_time": "2022-04-04T18:23:46.625Z"
   },
   {
    "duration": 0,
    "start_time": "2022-04-04T18:23:46.627Z"
   },
   {
    "duration": 0,
    "start_time": "2022-04-04T18:23:46.667Z"
   },
   {
    "duration": 0,
    "start_time": "2022-04-04T18:23:46.671Z"
   },
   {
    "duration": 0,
    "start_time": "2022-04-04T18:23:46.672Z"
   },
   {
    "duration": 0,
    "start_time": "2022-04-04T18:23:46.673Z"
   },
   {
    "duration": 6,
    "start_time": "2022-04-04T18:24:23.947Z"
   },
   {
    "duration": 1288,
    "start_time": "2022-04-04T18:24:23.957Z"
   },
   {
    "duration": 36,
    "start_time": "2022-04-04T18:24:25.248Z"
   },
   {
    "duration": 320,
    "start_time": "2022-04-04T18:24:25.291Z"
   },
   {
    "duration": 359,
    "start_time": "2022-04-04T18:24:25.613Z"
   },
   {
    "duration": 121,
    "start_time": "2022-04-04T18:24:25.975Z"
   },
   {
    "duration": 171,
    "start_time": "2022-04-04T18:24:26.099Z"
   },
   {
    "duration": 252,
    "start_time": "2022-04-04T18:24:26.273Z"
   },
   {
    "duration": 68,
    "start_time": "2022-04-04T18:24:26.528Z"
   },
   {
    "duration": 15,
    "start_time": "2022-04-04T18:24:26.599Z"
   },
   {
    "duration": 142,
    "start_time": "2022-04-04T18:24:26.617Z"
   },
   {
    "duration": 1947,
    "start_time": "2022-04-04T18:24:26.762Z"
   },
   {
    "duration": 33,
    "start_time": "2022-04-04T18:24:28.711Z"
   },
   {
    "duration": 58,
    "start_time": "2022-04-04T18:24:28.747Z"
   },
   {
    "duration": 34,
    "start_time": "2022-04-04T18:24:28.808Z"
   },
   {
    "duration": 278,
    "start_time": "2022-04-04T18:24:28.844Z"
   },
   {
    "duration": 272,
    "start_time": "2022-04-04T18:24:29.124Z"
   },
   {
    "duration": 9,
    "start_time": "2022-04-04T18:24:29.398Z"
   },
   {
    "duration": 451,
    "start_time": "2022-04-04T18:24:29.409Z"
   },
   {
    "duration": 16,
    "start_time": "2022-04-04T18:24:29.862Z"
   },
   {
    "duration": 48,
    "start_time": "2022-04-04T18:24:29.881Z"
   },
   {
    "duration": 63,
    "start_time": "2022-04-04T18:24:29.932Z"
   },
   {
    "duration": 206,
    "start_time": "2022-04-04T18:24:29.997Z"
   },
   {
    "duration": 398,
    "start_time": "2022-04-04T18:24:30.205Z"
   },
   {
    "duration": 14,
    "start_time": "2022-04-04T18:24:30.668Z"
   },
   {
    "duration": 7,
    "start_time": "2022-04-04T18:24:30.689Z"
   },
   {
    "duration": 13745,
    "start_time": "2022-04-04T18:24:30.698Z"
   },
   {
    "duration": 5,
    "start_time": "2022-04-04T18:24:44.448Z"
   },
   {
    "duration": 8,
    "start_time": "2022-04-04T18:24:44.467Z"
   },
   {
    "duration": 17,
    "start_time": "2022-04-04T18:24:44.478Z"
   },
   {
    "duration": 1043553,
    "start_time": "2022-04-04T18:24:44.497Z"
   },
   {
    "duration": 17,
    "start_time": "2022-04-04T18:42:08.053Z"
   },
   {
    "duration": 4,
    "start_time": "2022-04-04T18:42:08.072Z"
   },
   {
    "duration": 10,
    "start_time": "2022-04-04T18:42:08.078Z"
   },
   {
    "duration": 833,
    "start_time": "2022-04-04T18:42:08.090Z"
   },
   {
    "duration": 0,
    "start_time": "2022-04-04T18:42:08.926Z"
   },
   {
    "duration": 0,
    "start_time": "2022-04-04T18:42:08.928Z"
   },
   {
    "duration": 0,
    "start_time": "2022-04-04T18:42:08.929Z"
   },
   {
    "duration": 0,
    "start_time": "2022-04-04T18:42:08.931Z"
   },
   {
    "duration": 0,
    "start_time": "2022-04-04T18:42:08.933Z"
   },
   {
    "duration": 0,
    "start_time": "2022-04-04T18:42:08.934Z"
   },
   {
    "duration": 0,
    "start_time": "2022-04-04T18:42:08.936Z"
   },
   {
    "duration": 0,
    "start_time": "2022-04-04T18:42:08.938Z"
   },
   {
    "duration": 0,
    "start_time": "2022-04-04T18:42:08.939Z"
   },
   {
    "duration": 0,
    "start_time": "2022-04-04T18:42:08.941Z"
   },
   {
    "duration": 4,
    "start_time": "2022-04-04T18:43:37.100Z"
   },
   {
    "duration": 4,
    "start_time": "2022-04-04T18:43:38.040Z"
   },
   {
    "duration": 1157,
    "start_time": "2022-04-04T18:43:38.781Z"
   },
   {
    "duration": 3,
    "start_time": "2022-04-04T18:46:27.857Z"
   },
   {
    "duration": 4,
    "start_time": "2022-04-04T18:46:28.208Z"
   },
   {
    "duration": 2809605,
    "start_time": "2022-04-04T18:46:28.581Z"
   },
   {
    "duration": 35835,
    "start_time": "2022-04-04T19:33:35.956Z"
   },
   {
    "duration": 0,
    "start_time": "2022-04-04T19:34:11.794Z"
   },
   {
    "duration": 0,
    "start_time": "2022-04-04T19:34:11.796Z"
   },
   {
    "duration": 0,
    "start_time": "2022-04-04T19:34:11.797Z"
   },
   {
    "duration": 0,
    "start_time": "2022-04-04T19:34:11.798Z"
   },
   {
    "duration": 0,
    "start_time": "2022-04-04T19:34:11.800Z"
   },
   {
    "duration": 0,
    "start_time": "2022-04-04T19:34:11.802Z"
   },
   {
    "duration": 0,
    "start_time": "2022-04-04T19:34:11.804Z"
   },
   {
    "duration": 0,
    "start_time": "2022-04-04T19:34:11.806Z"
   },
   {
    "duration": 0,
    "start_time": "2022-04-04T19:34:11.807Z"
   },
   {
    "duration": 0,
    "start_time": "2022-04-04T19:34:11.808Z"
   },
   {
    "duration": 4,
    "start_time": "2022-04-04T19:34:29.528Z"
   },
   {
    "duration": 5,
    "start_time": "2022-04-04T19:34:30.055Z"
   },
   {
    "duration": 0,
    "start_time": "2022-04-04T19:34:50.887Z"
   },
   {
    "duration": 6,
    "start_time": "2022-04-04T19:34:57.305Z"
   },
   {
    "duration": 5,
    "start_time": "2022-04-04T19:35:11.238Z"
   },
   {
    "duration": 5,
    "start_time": "2022-04-04T19:35:11.823Z"
   },
   {
    "duration": 4,
    "start_time": "2022-04-04T19:35:12.280Z"
   },
   {
    "duration": 39885,
    "start_time": "2022-04-04T19:35:12.919Z"
   },
   {
    "duration": 14,
    "start_time": "2022-04-04T19:36:17.909Z"
   },
   {
    "duration": 6,
    "start_time": "2022-04-04T19:36:57.333Z"
   },
   {
    "duration": 5,
    "start_time": "2022-04-04T19:37:07.263Z"
   },
   {
    "duration": 5,
    "start_time": "2022-04-04T19:37:07.718Z"
   },
   {
    "duration": 5,
    "start_time": "2022-04-04T19:37:08.188Z"
   },
   {
    "duration": 144465,
    "start_time": "2022-04-04T19:37:09.044Z"
   },
   {
    "duration": 7,
    "start_time": "2022-04-04T19:42:52.455Z"
   },
   {
    "duration": 5,
    "start_time": "2022-04-04T19:42:58.036Z"
   },
   {
    "duration": 5,
    "start_time": "2022-04-04T19:42:58.420Z"
   },
   {
    "duration": 5,
    "start_time": "2022-04-04T19:42:58.789Z"
   },
   {
    "duration": 0,
    "start_time": "2022-04-04T19:55:34.001Z"
   },
   {
    "duration": 495446,
    "start_time": "2022-04-04T19:55:36.332Z"
   },
   {
    "duration": 6,
    "start_time": "2022-04-04T20:04:22.319Z"
   },
   {
    "duration": 5,
    "start_time": "2022-04-04T20:04:27.973Z"
   },
   {
    "duration": 5,
    "start_time": "2022-04-04T20:04:28.535Z"
   },
   {
    "duration": 5,
    "start_time": "2022-04-04T20:04:28.927Z"
   },
   {
    "duration": 2613485,
    "start_time": "2022-04-04T20:04:29.385Z"
   },
   {
    "duration": 95,
    "start_time": "2022-04-04T20:54:56.067Z"
   }
  ],
  "kernelspec": {
   "display_name": "Python 3 (ipykernel)",
   "language": "python",
   "name": "python3"
  },
  "language_info": {
   "codemirror_mode": {
    "name": "ipython",
    "version": 3
   },
   "file_extension": ".py",
   "mimetype": "text/x-python",
   "name": "python",
   "nbconvert_exporter": "python",
   "pygments_lexer": "ipython3",
   "version": "3.9.7"
  },
  "toc": {
   "base_numbering": 1,
   "nav_menu": {},
   "number_sections": true,
   "sideBar": true,
   "skip_h1_title": true,
   "title_cell": "Table of Contents",
   "title_sidebar": "Contents",
   "toc_cell": false,
   "toc_position": {},
   "toc_section_display": true,
   "toc_window_display": false
  }
 },
 "nbformat": 4,
 "nbformat_minor": 2
}
