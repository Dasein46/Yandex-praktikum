{
 "cells": [
  {
   "cell_type": "markdown",
   "metadata": {},
   "source": [
    "# Выбор локации для скважины"
   ]
  },
  {
   "cell_type": "markdown",
   "metadata": {},
   "source": [
    "От руководства добывающей компании «ГлавРосГосНефть» поступила задача определения места, где бурить новую скважину.\n",
    "\n",
    "Были предоставлены пробы нефти в трёх регионах: в каждом 10 000 месторождений, где измерили качество нефти и объём её запасов. **Цель** - построить модель машинного обучения, которая поможет определить регион, где добыча принесёт наибольшую прибыль. Также необходимо проанализировать возможную прибыль и риски техникой *Bootstrap.*\n",
    "\n",
    "Для достижения цели необходимо выполнить следующие шаги для выбора локации:\n",
    "\n",
    "- в избранном регионе найти месторождения, для каждого определить значения признаков;\n",
    "- построить модель и оценить объём запасов;\n",
    "- выбрать месторождения с самым высокими оценками значений. Количество месторождений зависит от бюджета компании и стоимости разработки одной скважины;\n",
    "- найти суммарную прибыль отобранных месторождений.\n",
    "\n",
    "Для анализа были предоставлены три файла, содержащих данные геологоразведки трёх регионов: geo_data_0.csv, geo_data_1.csv и geo_data_2.csv."
   ]
  },
  {
   "cell_type": "markdown",
   "metadata": {},
   "source": [
    "# Содержание\n",
    "* [Загрузка и подготовка данных](#Загрузка-и-подготовка-данных)\n",
    "* [Обучение и провека модели](#Обучение-и-проверка-модели)\n",
    "* [Подготовка к расчету прибыли](#Подготовка-к-расчету-прибыли)\n",
    "* [Расчет прибыли и рисков](#Расчет-прибыли-и-рисков)"
   ]
  },
  {
   "cell_type": "markdown",
   "metadata": {},
   "source": [
    "## Загрузка и подготовка данных"
   ]
  },
  {
   "cell_type": "code",
   "execution_count": 1,
   "metadata": {},
   "outputs": [],
   "source": [
    "# загрузим все необходимые библиотеки\n",
    "import pandas as pd\n",
    "import numpy as np\n",
    "import matplotlib.pyplot as plt\n",
    "from sklearn.linear_model import LinearRegression\n",
    "from sklearn.model_selection import train_test_split\n",
    "from sklearn.metrics import mean_squared_error\n",
    "from sklearn.preprocessing import StandardScaler\n",
    "from scipy import stats as st\n",
    "from numpy.random import RandomState\n",
    "pd.options.mode.chained_assignment = None"
   ]
  },
  {
   "cell_type": "code",
   "execution_count": 2,
   "metadata": {},
   "outputs": [],
   "source": [
    "# загрузим три таблицы с данными по каждому региону\n",
    "df_1 = pd.read_csv('/datasets/geo_data_0.csv')\n",
    "df_2 = pd.read_csv('/datasets/geo_data_1.csv')\n",
    "df_3 = pd.read_csv('/datasets/geo_data_2.csv')"
   ]
  },
  {
   "cell_type": "code",
   "execution_count": 3,
   "metadata": {},
   "outputs": [
    {
     "data": {
      "text/html": [
       "<div>\n",
       "<style scoped>\n",
       "    .dataframe tbody tr th:only-of-type {\n",
       "        vertical-align: middle;\n",
       "    }\n",
       "\n",
       "    .dataframe tbody tr th {\n",
       "        vertical-align: top;\n",
       "    }\n",
       "\n",
       "    .dataframe thead th {\n",
       "        text-align: right;\n",
       "    }\n",
       "</style>\n",
       "<table border=\"1\" class=\"dataframe\">\n",
       "  <thead>\n",
       "    <tr style=\"text-align: right;\">\n",
       "      <th></th>\n",
       "      <th>id</th>\n",
       "      <th>f0</th>\n",
       "      <th>f1</th>\n",
       "      <th>f2</th>\n",
       "      <th>product</th>\n",
       "    </tr>\n",
       "  </thead>\n",
       "  <tbody>\n",
       "    <tr>\n",
       "      <th>0</th>\n",
       "      <td>txEyH</td>\n",
       "      <td>0.705745</td>\n",
       "      <td>-0.497823</td>\n",
       "      <td>1.221170</td>\n",
       "      <td>105.280062</td>\n",
       "    </tr>\n",
       "    <tr>\n",
       "      <th>1</th>\n",
       "      <td>2acmU</td>\n",
       "      <td>1.334711</td>\n",
       "      <td>-0.340164</td>\n",
       "      <td>4.365080</td>\n",
       "      <td>73.037750</td>\n",
       "    </tr>\n",
       "    <tr>\n",
       "      <th>2</th>\n",
       "      <td>409Wp</td>\n",
       "      <td>1.022732</td>\n",
       "      <td>0.151990</td>\n",
       "      <td>1.419926</td>\n",
       "      <td>85.265647</td>\n",
       "    </tr>\n",
       "    <tr>\n",
       "      <th>3</th>\n",
       "      <td>iJLyR</td>\n",
       "      <td>-0.032172</td>\n",
       "      <td>0.139033</td>\n",
       "      <td>2.978566</td>\n",
       "      <td>168.620776</td>\n",
       "    </tr>\n",
       "    <tr>\n",
       "      <th>4</th>\n",
       "      <td>Xdl7t</td>\n",
       "      <td>1.988431</td>\n",
       "      <td>0.155413</td>\n",
       "      <td>4.751769</td>\n",
       "      <td>154.036647</td>\n",
       "    </tr>\n",
       "  </tbody>\n",
       "</table>\n",
       "</div>"
      ],
      "text/plain": [
       "      id        f0        f1        f2     product\n",
       "0  txEyH  0.705745 -0.497823  1.221170  105.280062\n",
       "1  2acmU  1.334711 -0.340164  4.365080   73.037750\n",
       "2  409Wp  1.022732  0.151990  1.419926   85.265647\n",
       "3  iJLyR -0.032172  0.139033  2.978566  168.620776\n",
       "4  Xdl7t  1.988431  0.155413  4.751769  154.036647"
      ]
     },
     "execution_count": 3,
     "metadata": {},
     "output_type": "execute_result"
    }
   ],
   "source": [
    "# посмотрим на первые 5 строчек первой таблицы\n",
    "df_1.head()"
   ]
  },
  {
   "cell_type": "code",
   "execution_count": 4,
   "metadata": {},
   "outputs": [
    {
     "data": {
      "text/html": [
       "<div>\n",
       "<style scoped>\n",
       "    .dataframe tbody tr th:only-of-type {\n",
       "        vertical-align: middle;\n",
       "    }\n",
       "\n",
       "    .dataframe tbody tr th {\n",
       "        vertical-align: top;\n",
       "    }\n",
       "\n",
       "    .dataframe thead th {\n",
       "        text-align: right;\n",
       "    }\n",
       "</style>\n",
       "<table border=\"1\" class=\"dataframe\">\n",
       "  <thead>\n",
       "    <tr style=\"text-align: right;\">\n",
       "      <th></th>\n",
       "      <th>id</th>\n",
       "      <th>f0</th>\n",
       "      <th>f1</th>\n",
       "      <th>f2</th>\n",
       "      <th>product</th>\n",
       "    </tr>\n",
       "  </thead>\n",
       "  <tbody>\n",
       "    <tr>\n",
       "      <th>0</th>\n",
       "      <td>kBEdx</td>\n",
       "      <td>-15.001348</td>\n",
       "      <td>-8.276000</td>\n",
       "      <td>-0.005876</td>\n",
       "      <td>3.179103</td>\n",
       "    </tr>\n",
       "    <tr>\n",
       "      <th>1</th>\n",
       "      <td>62mP7</td>\n",
       "      <td>14.272088</td>\n",
       "      <td>-3.475083</td>\n",
       "      <td>0.999183</td>\n",
       "      <td>26.953261</td>\n",
       "    </tr>\n",
       "    <tr>\n",
       "      <th>2</th>\n",
       "      <td>vyE1P</td>\n",
       "      <td>6.263187</td>\n",
       "      <td>-5.948386</td>\n",
       "      <td>5.001160</td>\n",
       "      <td>134.766305</td>\n",
       "    </tr>\n",
       "    <tr>\n",
       "      <th>3</th>\n",
       "      <td>KcrkZ</td>\n",
       "      <td>-13.081196</td>\n",
       "      <td>-11.506057</td>\n",
       "      <td>4.999415</td>\n",
       "      <td>137.945408</td>\n",
       "    </tr>\n",
       "    <tr>\n",
       "      <th>4</th>\n",
       "      <td>AHL4O</td>\n",
       "      <td>12.702195</td>\n",
       "      <td>-8.147433</td>\n",
       "      <td>5.004363</td>\n",
       "      <td>134.766305</td>\n",
       "    </tr>\n",
       "  </tbody>\n",
       "</table>\n",
       "</div>"
      ],
      "text/plain": [
       "      id         f0         f1        f2     product\n",
       "0  kBEdx -15.001348  -8.276000 -0.005876    3.179103\n",
       "1  62mP7  14.272088  -3.475083  0.999183   26.953261\n",
       "2  vyE1P   6.263187  -5.948386  5.001160  134.766305\n",
       "3  KcrkZ -13.081196 -11.506057  4.999415  137.945408\n",
       "4  AHL4O  12.702195  -8.147433  5.004363  134.766305"
      ]
     },
     "execution_count": 4,
     "metadata": {},
     "output_type": "execute_result"
    }
   ],
   "source": [
    "# посмотрим на первые 5 строчек второй таблицы\n",
    "df_2.head()"
   ]
  },
  {
   "cell_type": "code",
   "execution_count": 5,
   "metadata": {},
   "outputs": [
    {
     "data": {
      "text/html": [
       "<div>\n",
       "<style scoped>\n",
       "    .dataframe tbody tr th:only-of-type {\n",
       "        vertical-align: middle;\n",
       "    }\n",
       "\n",
       "    .dataframe tbody tr th {\n",
       "        vertical-align: top;\n",
       "    }\n",
       "\n",
       "    .dataframe thead th {\n",
       "        text-align: right;\n",
       "    }\n",
       "</style>\n",
       "<table border=\"1\" class=\"dataframe\">\n",
       "  <thead>\n",
       "    <tr style=\"text-align: right;\">\n",
       "      <th></th>\n",
       "      <th>id</th>\n",
       "      <th>f0</th>\n",
       "      <th>f1</th>\n",
       "      <th>f2</th>\n",
       "      <th>product</th>\n",
       "    </tr>\n",
       "  </thead>\n",
       "  <tbody>\n",
       "    <tr>\n",
       "      <th>0</th>\n",
       "      <td>fwXo0</td>\n",
       "      <td>-1.146987</td>\n",
       "      <td>0.963328</td>\n",
       "      <td>-0.828965</td>\n",
       "      <td>27.758673</td>\n",
       "    </tr>\n",
       "    <tr>\n",
       "      <th>1</th>\n",
       "      <td>WJtFt</td>\n",
       "      <td>0.262778</td>\n",
       "      <td>0.269839</td>\n",
       "      <td>-2.530187</td>\n",
       "      <td>56.069697</td>\n",
       "    </tr>\n",
       "    <tr>\n",
       "      <th>2</th>\n",
       "      <td>ovLUW</td>\n",
       "      <td>0.194587</td>\n",
       "      <td>0.289035</td>\n",
       "      <td>-5.586433</td>\n",
       "      <td>62.871910</td>\n",
       "    </tr>\n",
       "    <tr>\n",
       "      <th>3</th>\n",
       "      <td>q6cA6</td>\n",
       "      <td>2.236060</td>\n",
       "      <td>-0.553760</td>\n",
       "      <td>0.930038</td>\n",
       "      <td>114.572842</td>\n",
       "    </tr>\n",
       "    <tr>\n",
       "      <th>4</th>\n",
       "      <td>WPMUX</td>\n",
       "      <td>-0.515993</td>\n",
       "      <td>1.716266</td>\n",
       "      <td>5.899011</td>\n",
       "      <td>149.600746</td>\n",
       "    </tr>\n",
       "  </tbody>\n",
       "</table>\n",
       "</div>"
      ],
      "text/plain": [
       "      id        f0        f1        f2     product\n",
       "0  fwXo0 -1.146987  0.963328 -0.828965   27.758673\n",
       "1  WJtFt  0.262778  0.269839 -2.530187   56.069697\n",
       "2  ovLUW  0.194587  0.289035 -5.586433   62.871910\n",
       "3  q6cA6  2.236060 -0.553760  0.930038  114.572842\n",
       "4  WPMUX -0.515993  1.716266  5.899011  149.600746"
      ]
     },
     "execution_count": 5,
     "metadata": {},
     "output_type": "execute_result"
    }
   ],
   "source": [
    "# посмотрим на первые 5 строчек третьей таблицы\n",
    "df_3.head()"
   ]
  },
  {
   "cell_type": "markdown",
   "metadata": {},
   "source": [
    "Согласно приложенной документации:\n",
    "- id — уникальный идентификатор скважины;\n",
    "- f0, f1, f2 — три признака точек (неважно, что они означают, но сами признаки значимы);\n",
    "- product — объём запасов в скважине (тыс. баррелей)."
   ]
  },
  {
   "cell_type": "code",
   "execution_count": 6,
   "metadata": {},
   "outputs": [
    {
     "name": "stdout",
     "output_type": "stream",
     "text": [
      "<class 'pandas.core.frame.DataFrame'>\n",
      "RangeIndex: 100000 entries, 0 to 99999\n",
      "Data columns (total 5 columns):\n",
      " #   Column   Non-Null Count   Dtype  \n",
      "---  ------   --------------   -----  \n",
      " 0   id       100000 non-null  object \n",
      " 1   f0       100000 non-null  float64\n",
      " 2   f1       100000 non-null  float64\n",
      " 3   f2       100000 non-null  float64\n",
      " 4   product  100000 non-null  float64\n",
      "dtypes: float64(4), object(1)\n",
      "memory usage: 3.8+ MB\n"
     ]
    }
   ],
   "source": [
    "# посмотрим на общую информацию о первой таблице\n",
    "df_1.info()"
   ]
  },
  {
   "cell_type": "code",
   "execution_count": 7,
   "metadata": {},
   "outputs": [
    {
     "name": "stdout",
     "output_type": "stream",
     "text": [
      "<class 'pandas.core.frame.DataFrame'>\n",
      "RangeIndex: 100000 entries, 0 to 99999\n",
      "Data columns (total 5 columns):\n",
      " #   Column   Non-Null Count   Dtype  \n",
      "---  ------   --------------   -----  \n",
      " 0   id       100000 non-null  object \n",
      " 1   f0       100000 non-null  float64\n",
      " 2   f1       100000 non-null  float64\n",
      " 3   f2       100000 non-null  float64\n",
      " 4   product  100000 non-null  float64\n",
      "dtypes: float64(4), object(1)\n",
      "memory usage: 3.8+ MB\n"
     ]
    }
   ],
   "source": [
    "# посмотрим на общую информацию о второй таблице\n",
    "df_2.info()"
   ]
  },
  {
   "cell_type": "code",
   "execution_count": 8,
   "metadata": {},
   "outputs": [
    {
     "name": "stdout",
     "output_type": "stream",
     "text": [
      "<class 'pandas.core.frame.DataFrame'>\n",
      "RangeIndex: 100000 entries, 0 to 99999\n",
      "Data columns (total 5 columns):\n",
      " #   Column   Non-Null Count   Dtype  \n",
      "---  ------   --------------   -----  \n",
      " 0   id       100000 non-null  object \n",
      " 1   f0       100000 non-null  float64\n",
      " 2   f1       100000 non-null  float64\n",
      " 3   f2       100000 non-null  float64\n",
      " 4   product  100000 non-null  float64\n",
      "dtypes: float64(4), object(1)\n",
      "memory usage: 3.8+ MB\n"
     ]
    }
   ],
   "source": [
    "# посмотрим на общую информацию о третьей таблице\n",
    "df_3.info()"
   ]
  },
  {
   "cell_type": "markdown",
   "metadata": {},
   "source": [
    "Три таблицы имеют одинаковую размерность без пропусков. Проверим данные на наличие дубликатов."
   ]
  },
  {
   "cell_type": "code",
   "execution_count": 9,
   "metadata": {},
   "outputs": [
    {
     "name": "stdout",
     "output_type": "stream",
     "text": [
      "Количество дубликатов в первой таблице: 0\n",
      "Количество дубликатов во второй таблице: 0\n",
      "Количество дубликатов в третьей таблице: 0\n"
     ]
    }
   ],
   "source": [
    "# проверка на наличие дубликатов\n",
    "print(\"Количество дубликатов в первой таблице:\", df_1.duplicated().sum())\n",
    "print(\"Количество дубликатов во второй таблице:\", df_2.duplicated().sum())\n",
    "print(\"Количество дубликатов в третьей таблице:\", df_3.duplicated().sum())"
   ]
  },
  {
   "cell_type": "markdown",
   "metadata": {},
   "source": [
    "**Вывод**\n",
    "\n",
    "На первом этапе были рассмотрены три таблицы с данными георазведки в разных регионах - df_1, df_2 и df_3. Таблицы имеют одинаковую размерность (5 столбцов и 100000 строк). 1 столбец - id - имеет тип данных object, остальные - float. Дубликатов не обнаружено, как и пропусков."
   ]
  },
  {
   "cell_type": "markdown",
   "metadata": {},
   "source": [
    "## Обучение и проверка модели"
   ]
  },
  {
   "cell_type": "markdown",
   "metadata": {},
   "source": [
    "На данном этапе разобьем данные на обучающую и валидационную выборки. Затем обучим модель и сделаем предсказания на валидационной выборке. После чего найдем средний запас предсказанного сырья и RMSE модели. Поскольку данные операции необходимо будет сделать для каждого региона, то необходимо будет составить функции."
   ]
  },
  {
   "cell_type": "code",
   "execution_count": 10,
   "metadata": {},
   "outputs": [],
   "source": [
    "# выделим признаки и целевой признак в каждом регионе\n",
    "features_1 = df_1.drop(columns=['id', 'product'], axis=1)\n",
    "target_1 = df_1['product']\n",
    "features_2 = df_2.drop(columns=['id', 'product'], axis=1)\n",
    "target_2 = df_2['product']\n",
    "features_3 = df_3.drop(columns=['id', 'product'], axis=1)\n",
    "target_3 = df_3['product']"
   ]
  },
  {
   "cell_type": "code",
   "execution_count": 11,
   "metadata": {},
   "outputs": [],
   "source": [
    "# построим функцию для разбивки каждой выборки на обучающую и валидационную, а также сразу стандартизируем количественные\n",
    "# признаки\n",
    "def test_split(df, features, target):\n",
    "    features_train, features_valid, target_train, target_valid = train_test_split(features, target, test_size=0.25,\n",
    "                                                                                   random_state=12345)\n",
    "    scaler = StandardScaler()\n",
    "    scaler.fit(features_train)\n",
    "    features_train = scaler.transform(features_train)\n",
    "    features_valid = scaler.transform(features_valid)\n",
    "    \n",
    "    return features_train, features_valid, target_train, target_valid"
   ]
  },
  {
   "cell_type": "code",
   "execution_count": 12,
   "metadata": {},
   "outputs": [],
   "source": [
    "# воспользуемся ранее составленной функцией для таблиц df_1, df_2 и df_3\n",
    "features_train_1, features_valid_1, target_train_1, target_valid_1 = test_split(df_1, features_1, target_1)\n",
    "features_train_2, features_valid_2, target_train_2, target_valid_2 = test_split(df_2, features_2, target_2)\n",
    "features_train_3, features_valid_3, target_train_3, target_valid_3 = test_split(df_3, features_3, target_3)"
   ]
  },
  {
   "cell_type": "code",
   "execution_count": 13,
   "metadata": {},
   "outputs": [],
   "source": [
    "# построим функцию для расчета RMSE и среднего запаса предсказанного сырья\n",
    "def ml(df, features_train, target_train, features_valid, target_valid):\n",
    "    model = LinearRegression()\n",
    "    model.fit(features_train, target_train)\n",
    "    predictions = model.predict(features_valid)\n",
    "    predictions = pd.Series(predictions)\n",
    "    # расчет средней квадратической ошибки\n",
    "    RMSE = mean_squared_error(target_valid, predictions)**0.5\n",
    "    # расчет среднего запаса предсказанного сырья\n",
    "    mean_product_predict = predictions.mean()\n",
    "   \n",
    "    print('RMSE:', RMSE)\n",
    "    print('Средний запас предсказанного сырья:', mean_product_predict)\n",
    "    \n",
    "    return (predictions, RMSE, mean_product_predict)"
   ]
  },
  {
   "cell_type": "code",
   "execution_count": 14,
   "metadata": {},
   "outputs": [
    {
     "name": "stdout",
     "output_type": "stream",
     "text": [
      "Первый регион\n",
      "RMSE: 37.5794217150813\n",
      "Средний запас предсказанного сырья: 92.59256778438008\n",
      "-----------------------------------------------------\n",
      "Второй регион\n",
      "RMSE: 0.8930992867756167\n",
      "Средний запас предсказанного сырья: 68.72854689544579\n",
      "-----------------------------------------------------\n",
      "Третий регион\n",
      "RMSE: 40.02970873393434\n",
      "Средний запас предсказанного сырья: 94.96504596800506\n"
     ]
    }
   ],
   "source": [
    "# применим функцию ml для расчета RMSE и среднего запаса предсказанного сырья в трех регионах, а также для создания \n",
    "# переменной с предсказаниями модели\n",
    "print('Первый регион')\n",
    "predictions_1, RMSE_1, mean_product_predict_1 = ml(df_1, features_train_1, target_train_1, features_valid_1, target_valid_1)\n",
    "print('-----------------------------------------------------')\n",
    "print('Второй регион')\n",
    "predictions_2, RMSE_2, mean_product_predict_2 = ml(df_2, features_train_2, target_train_2, features_valid_2, target_valid_2)\n",
    "print('-----------------------------------------------------')\n",
    "print('Третий регион')\n",
    "predictions_3, RMSE_3, mean_product_predict_3 = ml(df_3, features_train_3, target_train_3, features_valid_3, target_valid_3)"
   ]
  },
  {
   "cell_type": "markdown",
   "metadata": {},
   "source": [
    "**Вывод**\n",
    "\n",
    "Модель линейной регрессии показала разные результаты в трех регионах. Среднее квадратическое отклонение в первом и третьем регионах составило 37.579 и 40.029 соответственно, а во втором регионе - всего 0.893, что говорит о ненадежности предсказаний модели в регионах с высоким RMSE. При этом средний запас предсказанного сырья во втором регионе самый низкий, однако этому значению можно доверять с большей уверенностью."
   ]
  },
  {
   "cell_type": "markdown",
   "metadata": {},
   "source": [
    "## Подготовка к расчёту прибыли"
   ]
  },
  {
   "cell_type": "code",
   "execution_count": 15,
   "metadata": {},
   "outputs": [],
   "source": [
    "# сохраним все ключевые значения для расчетов в отдельных переменных\n",
    "N = 500 # количество исследуемых точек в регионе\n",
    "M = 200 # количество лучших точек, выбираемых с помощью машинного обучения\n",
    "BUDGET = 10000000000 # бюджет на разработку скважин в регионе\n",
    "INCOME_PER_PROD = 450000 # доход с каждой единицы продукта (1000 бар.)\n",
    "LOSS_PROBABILITY = 0.025 # вероятность убытков"
   ]
  },
  {
   "cell_type": "code",
   "execution_count": 16,
   "metadata": {},
   "outputs": [
    {
     "name": "stdout",
     "output_type": "stream",
     "text": [
      "Достаточный объем сырья для безубыточной разработки новой скважины 111.11111111111111 тыс. баррелей\n"
     ]
    }
   ],
   "source": [
    "# рассчитаем достаточный объем сырья для безубыточной разработки новой скважины\n",
    "average_budget_for_oil = BUDGET / M # средний бюджет на разработку одной скважины в регионе\n",
    "necessary_product = average_budget_for_oil / INCOME_PER_PROD # достаточный объем сырья для безубыточной разработки\n",
    "print('Достаточный объем сырья для безубыточной разработки новой скважины', necessary_product, 'тыс. баррелей')"
   ]
  },
  {
   "cell_type": "markdown",
   "metadata": {},
   "source": [
    "Найдем среднее значение запасов сырья в каждом регионе и сравним его с безубыточным значением."
   ]
  },
  {
   "cell_type": "code",
   "execution_count": 17,
   "metadata": {},
   "outputs": [],
   "source": [
    "def comparison(df):\n",
    "    if df['product'].mean() > necessary_product:\n",
    "        print('В регионе в среднем достаточно сырья для безубыточной разработки новой скважины.')\n",
    "    else:\n",
    "        print('В регионе в среднем недостаточно сырья для безубыточной разработки новой скважины.')"
   ]
  },
  {
   "cell_type": "code",
   "execution_count": 18,
   "metadata": {},
   "outputs": [
    {
     "name": "stdout",
     "output_type": "stream",
     "text": [
      "В регионе в среднем недостаточно сырья для безубыточной разработки новой скважины.\n"
     ]
    }
   ],
   "source": [
    "# 1-ый регион\n",
    "comparison(df_1)"
   ]
  },
  {
   "cell_type": "code",
   "execution_count": 19,
   "metadata": {},
   "outputs": [
    {
     "name": "stdout",
     "output_type": "stream",
     "text": [
      "В регионе в среднем недостаточно сырья для безубыточной разработки новой скважины.\n"
     ]
    }
   ],
   "source": [
    "# 2-ый регион\n",
    "comparison(df_2)"
   ]
  },
  {
   "cell_type": "code",
   "execution_count": 20,
   "metadata": {},
   "outputs": [
    {
     "name": "stdout",
     "output_type": "stream",
     "text": [
      "В регионе в среднем недостаточно сырья для безубыточной разработки новой скважины.\n"
     ]
    }
   ],
   "source": [
    "# 3-ый регион\n",
    "comparison(df_3)"
   ]
  },
  {
   "cell_type": "markdown",
   "metadata": {},
   "source": [
    "На данном этапе все необходимые для расчет прибыли показатели были сохранены в переменные. Также было установлено, что в регионах в среднем недостаточно сырья для безубыточной разработки новой скважины."
   ]
  },
  {
   "cell_type": "markdown",
   "metadata": {},
   "source": [
    "## Расчёт прибыли и рисков "
   ]
  },
  {
   "cell_type": "code",
   "execution_count": 21,
   "metadata": {},
   "outputs": [],
   "source": [
    "# построим функцию для расчёта прибыли по выбранным скважинам и предсказаниям модели\n",
    "def income(predictions, target):\n",
    "    target = pd.Series(target).reset_index(drop=True)\n",
    "    predictions = pd.Series(predictions).reset_index(drop=True)\n",
    "    top_pred = predictions.sort_values(ascending=False)\n",
    "    top_target = target[top_pred.index][:200]\n",
    "    revenue = top_target.sum() * INCOME_PER_PROD \n",
    "    return round((revenue - BUDGET) / 1000000000, 3)"
   ]
  },
  {
   "cell_type": "code",
   "execution_count": 22,
   "metadata": {},
   "outputs": [
    {
     "name": "stdout",
     "output_type": "stream",
     "text": [
      "Первый регион\n",
      "Прибыль: 3.321 млрд. руб.\n",
      "-----------------------------------------------------\n",
      "Второй регион\n",
      "Прибыль: 2.415 млрд. руб.\n",
      "-----------------------------------------------------\n",
      "Третий регион\n",
      "Прибыль: 2.71 млрд. руб.\n"
     ]
    }
   ],
   "source": [
    "print('Первый регион')\n",
    "print('Прибыль:', income(predictions_1, target_valid_1), 'млрд. руб.')\n",
    "print('-----------------------------------------------------')\n",
    "print('Второй регион')\n",
    "print('Прибыль:', income(predictions_2, target_valid_2), 'млрд. руб.')\n",
    "print('-----------------------------------------------------')\n",
    "print('Третий регион')\n",
    "print('Прибыль:', income(predictions_3, target_valid_3), 'млрд. руб.')"
   ]
  },
  {
   "cell_type": "markdown",
   "metadata": {},
   "source": [
    "Посчитаем риски с помощью процедуры Bootstrap. Для этого построим функцию."
   ]
  },
  {
   "cell_type": "code",
   "execution_count": 23,
   "metadata": {},
   "outputs": [],
   "source": [
    "def bootstrap(predictions, target):\n",
    "    state = np.random.RandomState(12345)\n",
    "    target = pd.Series(target).reset_index(drop=True)\n",
    "    predictions = pd.Series(predictions).reset_index(drop=True)\n",
    "    revenue =[]\n",
    "    \n",
    "    for i in range(1000):\n",
    "        target_sample = target.sample(n=500, replace=True, random_state=state)\n",
    "        predictions_sample = predictions[target_sample.index]\n",
    "        revenue.append(income(predictions_sample, target_sample))\n",
    "    revenue = pd.Series(revenue)\n",
    "    lower = revenue.quantile(0.025)\n",
    "    higher = revenue.quantile(0.975)\n",
    "    mean = revenue.mean()\n",
    "    risk = (revenue < 0).mean()\n",
    "    \n",
    "    print('2.5-% квантиль:', round(lower, 3), 'млрд. руб.')\n",
    "    print('97.5-% квантиль:', round(higher, 3), 'млрд. руб.')\n",
    "    print('Средняя прибыль:', round(mean, 3), 'млрд. руб.')\n",
    "    print('Средние убытки:', round(risk, 3), 'млрд. руб.')"
   ]
  },
  {
   "cell_type": "code",
   "execution_count": 24,
   "metadata": {},
   "outputs": [
    {
     "name": "stdout",
     "output_type": "stream",
     "text": [
      "Первый регион\n",
      "2.5-% квантиль: -0.111 млрд. руб.\n",
      "97.5-% квантиль: 0.91 млрд. руб.\n",
      "Средняя прибыль: 0.396 млрд. руб.\n",
      "Средние убытки: 0.069 млрд. руб.\n",
      "-----------------------------------------------------\n",
      "Второй регион\n",
      "2.5-% квантиль: 0.034 млрд. руб.\n",
      "97.5-% квантиль: 0.852 млрд. руб.\n",
      "Средняя прибыль: 0.456 млрд. руб.\n",
      "Средние убытки: 0.015 млрд. руб.\n",
      "-----------------------------------------------------\n",
      "Третий регион\n",
      "2.5-% квантиль: -0.163 млрд. руб.\n",
      "97.5-% квантиль: 0.95 млрд. руб.\n",
      "Средняя прибыль: 0.404 млрд. руб.\n",
      "Средние убытки: 0.076 млрд. руб.\n"
     ]
    }
   ],
   "source": [
    "print('Первый регион')\n",
    "bootstrap(predictions_1, target_valid_1)\n",
    "print('-----------------------------------------------------')\n",
    "print('Второй регион')\n",
    "bootstrap(predictions_2, target_valid_2)\n",
    "print('-----------------------------------------------------')\n",
    "print('Третий регион')\n",
    "bootstrap(predictions_3, target_valid_3)"
   ]
  },
  {
   "cell_type": "markdown",
   "metadata": {},
   "source": [
    "**Вывод**\n",
    "\n",
    "В процессе исследования было установлено, что второй регион принесет самую высокую прибыль от добычи нефти на новых скважинах (0.456 млрд. руб.). При этом риск убытков в данном регионе самый низкий (0.015 млрд. руб.). Также в нем самые высокие значения 95-% доверительного интервала"
   ]
  }
 ],
 "metadata": {
  "ExecuteTimeLog": [
   {
    "duration": 1430,
    "start_time": "2022-02-10T11:05:46.028Z"
   },
   {
    "duration": 975,
    "start_time": "2022-02-10T11:07:43.133Z"
   },
   {
    "duration": 17,
    "start_time": "2022-02-10T11:08:24.671Z"
   },
   {
    "duration": 14,
    "start_time": "2022-02-10T11:08:44.770Z"
   },
   {
    "duration": 12,
    "start_time": "2022-02-10T11:09:00.384Z"
   },
   {
    "duration": 12,
    "start_time": "2022-02-10T11:38:59.874Z"
   },
   {
    "duration": 16,
    "start_time": "2022-02-10T11:40:30.728Z"
   },
   {
    "duration": 14,
    "start_time": "2022-02-10T11:44:49.152Z"
   },
   {
    "duration": 35,
    "start_time": "2022-02-10T11:45:12.295Z"
   },
   {
    "duration": 9,
    "start_time": "2022-02-10T11:46:33.096Z"
   },
   {
    "duration": 11,
    "start_time": "2022-02-10T11:46:33.107Z"
   },
   {
    "duration": 10,
    "start_time": "2022-02-10T11:46:33.215Z"
   },
   {
    "duration": 14,
    "start_time": "2022-02-10T11:47:17.768Z"
   },
   {
    "duration": 15,
    "start_time": "2022-02-10T11:47:30.123Z"
   },
   {
    "duration": 13,
    "start_time": "2022-02-10T12:14:11.865Z"
   },
   {
    "duration": 433,
    "start_time": "2022-02-10T12:16:05.123Z"
   },
   {
    "duration": 64,
    "start_time": "2022-02-10T12:16:24.626Z"
   },
   {
    "duration": 177,
    "start_time": "2022-02-10T12:17:35.330Z"
   },
   {
    "duration": 4,
    "start_time": "2022-02-10T12:44:08.127Z"
   },
   {
    "duration": 278,
    "start_time": "2022-02-10T12:45:11.116Z"
   },
   {
    "duration": 5,
    "start_time": "2022-02-10T12:45:13.965Z"
   },
   {
    "duration": 6,
    "start_time": "2022-02-10T12:45:14.465Z"
   },
   {
    "duration": 7,
    "start_time": "2022-02-10T12:45:33.145Z"
   },
   {
    "duration": 5,
    "start_time": "2022-02-10T12:45:54.781Z"
   },
   {
    "duration": 13,
    "start_time": "2022-02-10T12:45:55.124Z"
   },
   {
    "duration": 16,
    "start_time": "2022-02-10T12:46:09.257Z"
   },
   {
    "duration": 4,
    "start_time": "2022-02-10T13:06:18.400Z"
   },
   {
    "duration": 343,
    "start_time": "2022-02-10T13:08:12.701Z"
   },
   {
    "duration": 282,
    "start_time": "2022-02-10T13:09:58.186Z"
   },
   {
    "duration": 298,
    "start_time": "2022-02-10T13:10:06.588Z"
   },
   {
    "duration": 281,
    "start_time": "2022-02-10T13:10:12.893Z"
   },
   {
    "duration": 7,
    "start_time": "2022-02-10T13:10:18.791Z"
   },
   {
    "duration": 15,
    "start_time": "2022-02-10T13:12:00.310Z"
   },
   {
    "duration": 4,
    "start_time": "2022-02-11T10:29:37.127Z"
   },
   {
    "duration": 1233,
    "start_time": "2022-02-11T10:31:43.205Z"
   },
   {
    "duration": 395,
    "start_time": "2022-02-11T10:31:44.439Z"
   },
   {
    "duration": 12,
    "start_time": "2022-02-11T10:31:44.836Z"
   },
   {
    "duration": 11,
    "start_time": "2022-02-11T10:31:44.850Z"
   },
   {
    "duration": 13,
    "start_time": "2022-02-11T10:31:44.863Z"
   },
   {
    "duration": 26,
    "start_time": "2022-02-11T10:31:44.878Z"
   },
   {
    "duration": 10,
    "start_time": "2022-02-11T10:31:44.906Z"
   },
   {
    "duration": 10,
    "start_time": "2022-02-11T10:31:44.918Z"
   },
   {
    "duration": 150,
    "start_time": "2022-02-11T10:31:44.930Z"
   },
   {
    "duration": 9,
    "start_time": "2022-02-11T10:31:45.082Z"
   },
   {
    "duration": 3,
    "start_time": "2022-02-11T10:31:45.098Z"
   },
   {
    "duration": 533,
    "start_time": "2022-02-11T10:31:45.103Z"
   },
   {
    "duration": 4,
    "start_time": "2022-02-11T10:49:32.542Z"
   },
   {
    "duration": 14,
    "start_time": "2022-02-11T10:49:33.094Z"
   },
   {
    "duration": 23,
    "start_time": "2022-02-11T10:49:43.152Z"
   },
   {
    "duration": 39,
    "start_time": "2022-02-11T10:52:08.537Z"
   },
   {
    "duration": 4,
    "start_time": "2022-02-11T11:05:57.269Z"
   },
   {
    "duration": 78,
    "start_time": "2022-02-11T11:05:57.679Z"
   },
   {
    "duration": 68,
    "start_time": "2022-02-11T11:06:12.246Z"
   },
   {
    "duration": 4,
    "start_time": "2022-02-11T11:50:54.767Z"
   },
   {
    "duration": 492,
    "start_time": "2022-02-11T11:51:33.719Z"
   },
   {
    "duration": 3,
    "start_time": "2022-02-11T11:52:45.240Z"
   },
   {
    "duration": 310,
    "start_time": "2022-02-11T11:52:45.534Z"
   },
   {
    "duration": 544,
    "start_time": "2022-02-11T11:53:18.558Z"
   },
   {
    "duration": 4,
    "start_time": "2022-02-11T11:53:58.653Z"
   },
   {
    "duration": 4,
    "start_time": "2022-02-11T11:54:04.205Z"
   },
   {
    "duration": 11,
    "start_time": "2022-02-11T11:54:04.621Z"
   },
   {
    "duration": 251,
    "start_time": "2022-02-11T11:54:11.324Z"
   },
   {
    "duration": 12,
    "start_time": "2022-02-11T11:54:17.588Z"
   },
   {
    "duration": 4,
    "start_time": "2022-02-11T11:54:35.556Z"
   },
   {
    "duration": 12,
    "start_time": "2022-02-11T11:54:40.212Z"
   },
   {
    "duration": 4,
    "start_time": "2022-02-11T12:09:35.468Z"
   },
   {
    "duration": 11,
    "start_time": "2022-02-11T12:09:41.127Z"
   },
   {
    "duration": 4,
    "start_time": "2022-02-11T12:37:52.439Z"
   },
   {
    "duration": 14,
    "start_time": "2022-02-11T12:37:52.895Z"
   },
   {
    "duration": 11,
    "start_time": "2022-02-11T12:39:43.901Z"
   },
   {
    "duration": 17,
    "start_time": "2022-02-11T12:53:36.509Z"
   },
   {
    "duration": 96,
    "start_time": "2022-02-11T12:55:08.464Z"
   },
   {
    "duration": 12,
    "start_time": "2022-02-11T12:55:15.863Z"
   },
   {
    "duration": 116,
    "start_time": "2022-02-11T12:55:46.648Z"
   },
   {
    "duration": 87,
    "start_time": "2022-02-11T12:55:57.168Z"
   },
   {
    "duration": 91,
    "start_time": "2022-02-11T12:56:13.878Z"
   },
   {
    "duration": 81,
    "start_time": "2022-02-11T12:56:29.438Z"
   },
   {
    "duration": 149,
    "start_time": "2022-02-11T12:56:56.069Z"
   },
   {
    "duration": 198,
    "start_time": "2022-02-11T12:57:05.014Z"
   },
   {
    "duration": 48,
    "start_time": "2022-02-11T12:57:09.565Z"
   },
   {
    "duration": 163,
    "start_time": "2022-02-11T12:57:15.645Z"
   },
   {
    "duration": 114,
    "start_time": "2022-02-11T12:57:26.598Z"
   },
   {
    "duration": 3,
    "start_time": "2022-02-11T14:25:55.857Z"
   },
   {
    "duration": 5,
    "start_time": "2022-02-11T14:32:08.324Z"
   },
   {
    "duration": 5,
    "start_time": "2022-02-11T14:33:49.757Z"
   },
   {
    "duration": 4,
    "start_time": "2022-02-11T14:35:04.780Z"
   },
   {
    "duration": 87,
    "start_time": "2022-02-11T14:48:24.025Z"
   },
   {
    "duration": 3,
    "start_time": "2022-02-11T14:48:50.208Z"
   },
   {
    "duration": 4,
    "start_time": "2022-02-11T14:49:11.216Z"
   },
   {
    "duration": 4,
    "start_time": "2022-02-11T14:49:55.134Z"
   },
   {
    "duration": 4,
    "start_time": "2022-02-11T14:50:28.029Z"
   },
   {
    "duration": 4,
    "start_time": "2022-02-11T14:50:28.604Z"
   },
   {
    "duration": 3,
    "start_time": "2022-02-11T14:50:41.997Z"
   },
   {
    "duration": 4,
    "start_time": "2022-02-11T14:50:42.437Z"
   },
   {
    "duration": 5,
    "start_time": "2022-02-11T14:50:43.005Z"
   },
   {
    "duration": 4,
    "start_time": "2022-02-11T14:50:43.446Z"
   },
   {
    "duration": 109,
    "start_time": "2022-02-11T18:14:54.020Z"
   },
   {
    "duration": 4,
    "start_time": "2022-02-11T18:14:57.007Z"
   },
   {
    "duration": 381,
    "start_time": "2022-02-11T18:14:57.016Z"
   },
   {
    "duration": 9,
    "start_time": "2022-02-11T18:14:57.399Z"
   },
   {
    "duration": 11,
    "start_time": "2022-02-11T18:14:57.411Z"
   },
   {
    "duration": 12,
    "start_time": "2022-02-11T18:14:57.424Z"
   },
   {
    "duration": 12,
    "start_time": "2022-02-11T18:14:57.439Z"
   },
   {
    "duration": 10,
    "start_time": "2022-02-11T18:14:57.453Z"
   },
   {
    "duration": 43,
    "start_time": "2022-02-11T18:14:57.465Z"
   },
   {
    "duration": 134,
    "start_time": "2022-02-11T18:14:57.510Z"
   },
   {
    "duration": 9,
    "start_time": "2022-02-11T18:14:57.647Z"
   },
   {
    "duration": 9,
    "start_time": "2022-02-11T18:14:57.658Z"
   },
   {
    "duration": 80,
    "start_time": "2022-02-11T18:14:57.668Z"
   },
   {
    "duration": 4,
    "start_time": "2022-02-11T18:14:57.749Z"
   },
   {
    "duration": 102,
    "start_time": "2022-02-11T18:14:57.754Z"
   },
   {
    "duration": -514,
    "start_time": "2022-02-11T18:14:58.372Z"
   },
   {
    "duration": -519,
    "start_time": "2022-02-11T18:14:58.378Z"
   },
   {
    "duration": -523,
    "start_time": "2022-02-11T18:14:58.382Z"
   },
   {
    "duration": -524,
    "start_time": "2022-02-11T18:14:58.385Z"
   },
   {
    "duration": -531,
    "start_time": "2022-02-11T18:14:58.393Z"
   },
   {
    "duration": -544,
    "start_time": "2022-02-11T18:14:58.407Z"
   },
   {
    "duration": -549,
    "start_time": "2022-02-11T18:14:58.413Z"
   },
   {
    "duration": -550,
    "start_time": "2022-02-11T18:14:58.415Z"
   },
   {
    "duration": -550,
    "start_time": "2022-02-11T18:14:58.417Z"
   },
   {
    "duration": 4,
    "start_time": "2022-02-11T18:16:49.068Z"
   },
   {
    "duration": 85,
    "start_time": "2022-02-11T18:16:49.639Z"
   },
   {
    "duration": 5,
    "start_time": "2022-02-11T18:18:58.472Z"
   },
   {
    "duration": 399,
    "start_time": "2022-02-11T18:18:58.479Z"
   },
   {
    "duration": 10,
    "start_time": "2022-02-11T18:18:58.880Z"
   },
   {
    "duration": 30,
    "start_time": "2022-02-11T18:18:58.891Z"
   },
   {
    "duration": 12,
    "start_time": "2022-02-11T18:18:58.923Z"
   },
   {
    "duration": 13,
    "start_time": "2022-02-11T18:18:58.937Z"
   },
   {
    "duration": 12,
    "start_time": "2022-02-11T18:18:58.952Z"
   },
   {
    "duration": 11,
    "start_time": "2022-02-11T18:18:58.967Z"
   },
   {
    "duration": 137,
    "start_time": "2022-02-11T18:18:59.000Z"
   },
   {
    "duration": 9,
    "start_time": "2022-02-11T18:18:59.139Z"
   },
   {
    "duration": 7,
    "start_time": "2022-02-11T18:18:59.150Z"
   },
   {
    "duration": 79,
    "start_time": "2022-02-11T18:18:59.159Z"
   },
   {
    "duration": 4,
    "start_time": "2022-02-11T18:18:59.240Z"
   },
   {
    "duration": 94,
    "start_time": "2022-02-11T18:18:59.245Z"
   },
   {
    "duration": -531,
    "start_time": "2022-02-11T18:18:59.873Z"
   },
   {
    "duration": -532,
    "start_time": "2022-02-11T18:18:59.875Z"
   },
   {
    "duration": -534,
    "start_time": "2022-02-11T18:18:59.879Z"
   },
   {
    "duration": -535,
    "start_time": "2022-02-11T18:18:59.881Z"
   },
   {
    "duration": -538,
    "start_time": "2022-02-11T18:18:59.886Z"
   },
   {
    "duration": -540,
    "start_time": "2022-02-11T18:18:59.889Z"
   },
   {
    "duration": -542,
    "start_time": "2022-02-11T18:18:59.892Z"
   },
   {
    "duration": -543,
    "start_time": "2022-02-11T18:18:59.894Z"
   },
   {
    "duration": -545,
    "start_time": "2022-02-11T18:18:59.897Z"
   },
   {
    "duration": 4,
    "start_time": "2022-02-11T18:20:50.205Z"
   },
   {
    "duration": 106,
    "start_time": "2022-02-11T18:20:50.698Z"
   },
   {
    "duration": 4,
    "start_time": "2022-02-11T18:21:57.528Z"
   },
   {
    "duration": 85,
    "start_time": "2022-02-11T18:21:57.815Z"
   },
   {
    "duration": 4,
    "start_time": "2022-02-11T18:22:45.338Z"
   },
   {
    "duration": 98,
    "start_time": "2022-02-11T18:22:45.818Z"
   },
   {
    "duration": 5,
    "start_time": "2022-02-11T18:23:57.974Z"
   },
   {
    "duration": 86,
    "start_time": "2022-02-11T18:23:58.324Z"
   },
   {
    "duration": 14,
    "start_time": "2022-02-11T18:24:31.291Z"
   },
   {
    "duration": 6,
    "start_time": "2022-02-11T18:24:47.013Z"
   },
   {
    "duration": 5,
    "start_time": "2022-02-11T18:25:07.371Z"
   },
   {
    "duration": 12,
    "start_time": "2022-02-11T18:25:07.745Z"
   },
   {
    "duration": 4,
    "start_time": "2022-02-11T18:25:10.863Z"
   },
   {
    "duration": 4,
    "start_time": "2022-02-11T18:25:24.830Z"
   },
   {
    "duration": 12,
    "start_time": "2022-02-11T18:25:25.276Z"
   },
   {
    "duration": 1458,
    "start_time": "2022-02-13T10:14:02.311Z"
   },
   {
    "duration": 478,
    "start_time": "2022-02-13T10:14:03.772Z"
   },
   {
    "duration": 21,
    "start_time": "2022-02-13T10:14:04.254Z"
   },
   {
    "duration": 20,
    "start_time": "2022-02-13T10:14:04.278Z"
   },
   {
    "duration": 14,
    "start_time": "2022-02-13T10:14:04.300Z"
   },
   {
    "duration": 41,
    "start_time": "2022-02-13T10:14:04.316Z"
   },
   {
    "duration": 13,
    "start_time": "2022-02-13T10:14:04.359Z"
   },
   {
    "duration": 22,
    "start_time": "2022-02-13T10:14:04.376Z"
   },
   {
    "duration": 199,
    "start_time": "2022-02-13T10:14:04.401Z"
   },
   {
    "duration": 11,
    "start_time": "2022-02-13T10:14:04.602Z"
   },
   {
    "duration": 34,
    "start_time": "2022-02-13T10:14:04.616Z"
   },
   {
    "duration": 98,
    "start_time": "2022-02-13T10:14:04.652Z"
   },
   {
    "duration": 7,
    "start_time": "2022-02-13T10:14:04.752Z"
   },
   {
    "duration": 187,
    "start_time": "2022-02-13T10:14:04.761Z"
   },
   {
    "duration": 8,
    "start_time": "2022-02-13T10:14:04.951Z"
   },
   {
    "duration": 19,
    "start_time": "2022-02-13T10:14:04.961Z"
   },
   {
    "duration": 23,
    "start_time": "2022-02-13T10:14:04.982Z"
   },
   {
    "duration": 32,
    "start_time": "2022-02-13T10:14:05.008Z"
   },
   {
    "duration": 37,
    "start_time": "2022-02-13T10:14:05.042Z"
   },
   {
    "duration": 23,
    "start_time": "2022-02-13T10:14:05.082Z"
   },
   {
    "duration": 26,
    "start_time": "2022-02-13T10:14:05.108Z"
   },
   {
    "duration": 10,
    "start_time": "2022-02-13T10:14:05.137Z"
   },
   {
    "duration": 13,
    "start_time": "2022-02-13T10:14:05.151Z"
   },
   {
    "duration": 108,
    "start_time": "2022-02-13T10:14:05.166Z"
   },
   {
    "duration": 7,
    "start_time": "2022-02-13T10:21:14.367Z"
   },
   {
    "duration": 437,
    "start_time": "2022-02-13T10:21:14.376Z"
   },
   {
    "duration": 11,
    "start_time": "2022-02-13T10:21:14.817Z"
   },
   {
    "duration": 26,
    "start_time": "2022-02-13T10:21:14.831Z"
   },
   {
    "duration": 16,
    "start_time": "2022-02-13T10:21:14.860Z"
   },
   {
    "duration": 17,
    "start_time": "2022-02-13T10:21:14.878Z"
   },
   {
    "duration": 13,
    "start_time": "2022-02-13T10:21:14.897Z"
   },
   {
    "duration": 46,
    "start_time": "2022-02-13T10:21:14.913Z"
   },
   {
    "duration": 192,
    "start_time": "2022-02-13T10:21:14.962Z"
   },
   {
    "duration": 10,
    "start_time": "2022-02-13T10:21:15.157Z"
   },
   {
    "duration": 12,
    "start_time": "2022-02-13T10:21:15.170Z"
   },
   {
    "duration": 85,
    "start_time": "2022-02-13T10:21:15.184Z"
   },
   {
    "duration": 5,
    "start_time": "2022-02-13T10:21:15.272Z"
   },
   {
    "duration": 279,
    "start_time": "2022-02-13T10:21:15.279Z"
   },
   {
    "duration": 97,
    "start_time": "2022-02-13T10:21:15.651Z"
   },
   {
    "duration": 9,
    "start_time": "2022-02-13T10:21:15.751Z"
   },
   {
    "duration": 7,
    "start_time": "2022-02-13T10:21:15.762Z"
   },
   {
    "duration": 8,
    "start_time": "2022-02-13T10:21:15.772Z"
   },
   {
    "duration": 17,
    "start_time": "2022-02-13T10:21:15.783Z"
   },
   {
    "duration": 7,
    "start_time": "2022-02-13T10:21:15.803Z"
   },
   {
    "duration": 197,
    "start_time": "2022-02-13T10:21:15.813Z"
   },
   {
    "duration": 4,
    "start_time": "2022-02-13T11:07:47.719Z"
   },
   {
    "duration": 6,
    "start_time": "2022-02-13T11:13:45.761Z"
   },
   {
    "duration": 16,
    "start_time": "2022-02-13T11:16:02.120Z"
   },
   {
    "duration": 16,
    "start_time": "2022-02-13T11:17:41.796Z"
   },
   {
    "duration": 13,
    "start_time": "2022-02-13T11:17:56.267Z"
   },
   {
    "duration": 5,
    "start_time": "2022-02-13T11:18:18.380Z"
   },
   {
    "duration": 17,
    "start_time": "2022-02-13T11:18:18.795Z"
   },
   {
    "duration": 17,
    "start_time": "2022-02-13T11:18:19.907Z"
   },
   {
    "duration": 9,
    "start_time": "2022-02-13T11:19:46.667Z"
   },
   {
    "duration": 591,
    "start_time": "2022-02-13T11:19:46.679Z"
   },
   {
    "duration": 14,
    "start_time": "2022-02-13T11:19:47.274Z"
   },
   {
    "duration": 19,
    "start_time": "2022-02-13T11:19:47.291Z"
   },
   {
    "duration": 45,
    "start_time": "2022-02-13T11:19:47.313Z"
   },
   {
    "duration": 20,
    "start_time": "2022-02-13T11:19:47.364Z"
   },
   {
    "duration": 22,
    "start_time": "2022-02-13T11:19:47.387Z"
   },
   {
    "duration": 45,
    "start_time": "2022-02-13T11:19:47.413Z"
   },
   {
    "duration": 228,
    "start_time": "2022-02-13T11:19:47.463Z"
   },
   {
    "duration": 15,
    "start_time": "2022-02-13T11:19:47.695Z"
   },
   {
    "duration": 27,
    "start_time": "2022-02-13T11:19:47.713Z"
   },
   {
    "duration": 105,
    "start_time": "2022-02-13T11:19:47.743Z"
   },
   {
    "duration": 7,
    "start_time": "2022-02-13T11:19:47.851Z"
   },
   {
    "duration": 193,
    "start_time": "2022-02-13T11:19:47.861Z"
   },
   {
    "duration": 95,
    "start_time": "2022-02-13T11:19:48.058Z"
   },
   {
    "duration": 10,
    "start_time": "2022-02-13T11:19:48.156Z"
   },
   {
    "duration": 18,
    "start_time": "2022-02-13T11:19:48.168Z"
   },
   {
    "duration": 9,
    "start_time": "2022-02-13T11:19:48.188Z"
   },
   {
    "duration": 9,
    "start_time": "2022-02-13T11:19:48.200Z"
   },
   {
    "duration": 36,
    "start_time": "2022-02-13T11:19:48.212Z"
   },
   {
    "duration": 6,
    "start_time": "2022-02-13T11:19:48.251Z"
   },
   {
    "duration": 21,
    "start_time": "2022-02-13T11:19:48.260Z"
   },
   {
    "duration": 12,
    "start_time": "2022-02-13T11:19:48.283Z"
   },
   {
    "duration": 5,
    "start_time": "2022-02-13T12:18:47.123Z"
   },
   {
    "duration": 677,
    "start_time": "2022-02-13T12:18:47.431Z"
   },
   {
    "duration": 5,
    "start_time": "2022-02-13T12:18:57.839Z"
   },
   {
    "duration": 12,
    "start_time": "2022-02-13T12:18:58.246Z"
   },
   {
    "duration": 7,
    "start_time": "2022-02-13T12:19:53.918Z"
   },
   {
    "duration": 8,
    "start_time": "2022-02-13T12:20:17.309Z"
   },
   {
    "duration": 4,
    "start_time": "2022-02-13T12:28:02.624Z"
   },
   {
    "duration": 19,
    "start_time": "2022-02-13T12:28:02.953Z"
   },
   {
    "duration": 8,
    "start_time": "2022-02-13T12:28:04.290Z"
   },
   {
    "duration": 4,
    "start_time": "2022-02-13T12:31:51.804Z"
   },
   {
    "duration": 6,
    "start_time": "2022-02-13T12:31:57.513Z"
   },
   {
    "duration": 445,
    "start_time": "2022-02-13T12:31:57.522Z"
   },
   {
    "duration": 15,
    "start_time": "2022-02-13T12:31:57.970Z"
   },
   {
    "duration": 19,
    "start_time": "2022-02-13T12:31:57.987Z"
   },
   {
    "duration": 41,
    "start_time": "2022-02-13T12:31:58.009Z"
   },
   {
    "duration": 16,
    "start_time": "2022-02-13T12:31:58.052Z"
   },
   {
    "duration": 14,
    "start_time": "2022-02-13T12:31:58.070Z"
   },
   {
    "duration": 19,
    "start_time": "2022-02-13T12:31:58.088Z"
   },
   {
    "duration": 217,
    "start_time": "2022-02-13T12:31:58.110Z"
   },
   {
    "duration": 25,
    "start_time": "2022-02-13T12:31:58.331Z"
   },
   {
    "duration": 5,
    "start_time": "2022-02-13T12:31:58.359Z"
   },
   {
    "duration": 47,
    "start_time": "2022-02-13T12:31:58.368Z"
   },
   {
    "duration": 30,
    "start_time": "2022-02-13T12:31:58.418Z"
   },
   {
    "duration": 209,
    "start_time": "2022-02-13T12:31:58.451Z"
   },
   {
    "duration": 9,
    "start_time": "2022-02-13T12:31:58.750Z"
   },
   {
    "duration": 95,
    "start_time": "2022-02-13T12:31:58.763Z"
   },
   {
    "duration": 14,
    "start_time": "2022-02-13T12:31:58.861Z"
   },
   {
    "duration": 6,
    "start_time": "2022-02-13T12:31:58.877Z"
   },
   {
    "duration": 5,
    "start_time": "2022-02-13T12:31:58.886Z"
   },
   {
    "duration": 6,
    "start_time": "2022-02-13T12:31:58.894Z"
   },
   {
    "duration": 47,
    "start_time": "2022-02-13T12:31:58.902Z"
   },
   {
    "duration": 15,
    "start_time": "2022-02-13T12:31:58.951Z"
   },
   {
    "duration": 7,
    "start_time": "2022-02-13T12:31:58.970Z"
   },
   {
    "duration": 18,
    "start_time": "2022-02-13T12:31:58.979Z"
   },
   {
    "duration": 25,
    "start_time": "2022-02-13T12:31:58.999Z"
   },
   {
    "duration": 8,
    "start_time": "2022-02-13T12:32:23.730Z"
   },
   {
    "duration": 473,
    "start_time": "2022-02-13T12:32:23.741Z"
   },
   {
    "duration": 12,
    "start_time": "2022-02-13T12:32:24.217Z"
   },
   {
    "duration": 22,
    "start_time": "2022-02-13T12:32:24.233Z"
   },
   {
    "duration": 12,
    "start_time": "2022-02-13T12:32:24.258Z"
   },
   {
    "duration": 16,
    "start_time": "2022-02-13T12:32:24.273Z"
   },
   {
    "duration": 62,
    "start_time": "2022-02-13T12:32:24.292Z"
   },
   {
    "duration": 14,
    "start_time": "2022-02-13T12:32:24.360Z"
   },
   {
    "duration": 201,
    "start_time": "2022-02-13T12:32:24.378Z"
   },
   {
    "duration": 10,
    "start_time": "2022-02-13T12:32:24.582Z"
   },
   {
    "duration": 14,
    "start_time": "2022-02-13T12:32:24.595Z"
   },
   {
    "duration": 89,
    "start_time": "2022-02-13T12:32:24.612Z"
   },
   {
    "duration": 5,
    "start_time": "2022-02-13T12:32:24.704Z"
   },
   {
    "duration": 244,
    "start_time": "2022-02-13T12:32:24.711Z"
   },
   {
    "duration": 93,
    "start_time": "2022-02-13T12:32:24.959Z"
   },
   {
    "duration": 12,
    "start_time": "2022-02-13T12:32:25.056Z"
   },
   {
    "duration": 4,
    "start_time": "2022-02-13T12:32:25.149Z"
   },
   {
    "duration": 8,
    "start_time": "2022-02-13T12:32:25.156Z"
   },
   {
    "duration": 6,
    "start_time": "2022-02-13T12:32:25.167Z"
   },
   {
    "duration": 6,
    "start_time": "2022-02-13T12:32:25.176Z"
   },
   {
    "duration": 7,
    "start_time": "2022-02-13T12:32:25.185Z"
   },
   {
    "duration": 53,
    "start_time": "2022-02-13T12:32:25.195Z"
   },
   {
    "duration": 7,
    "start_time": "2022-02-13T12:32:25.254Z"
   },
   {
    "duration": 8,
    "start_time": "2022-02-13T12:32:25.264Z"
   },
   {
    "duration": 16,
    "start_time": "2022-02-13T12:32:25.275Z"
   },
   {
    "duration": 11,
    "start_time": "2022-02-13T12:33:03.572Z"
   },
   {
    "duration": 341,
    "start_time": "2022-02-13T12:40:22.849Z"
   },
   {
    "duration": 12,
    "start_time": "2022-02-13T12:41:50.847Z"
   },
   {
    "duration": 16,
    "start_time": "2022-02-13T12:41:58.327Z"
   },
   {
    "duration": 19,
    "start_time": "2022-02-13T14:47:18.060Z"
   },
   {
    "duration": 17,
    "start_time": "2022-02-13T14:50:46.916Z"
   },
   {
    "duration": 13,
    "start_time": "2022-02-13T14:51:50.173Z"
   },
   {
    "duration": 13,
    "start_time": "2022-02-13T14:52:41.282Z"
   },
   {
    "duration": 16,
    "start_time": "2022-02-13T15:02:26.905Z"
   },
   {
    "duration": 7,
    "start_time": "2022-02-13T15:06:45.896Z"
   },
   {
    "duration": 7,
    "start_time": "2022-02-13T15:07:57.733Z"
   },
   {
    "duration": 14,
    "start_time": "2022-02-13T15:10:53.441Z"
   },
   {
    "duration": 12,
    "start_time": "2022-02-13T15:11:58.032Z"
   },
   {
    "duration": 5,
    "start_time": "2022-02-13T15:14:14.805Z"
   },
   {
    "duration": 13,
    "start_time": "2022-02-13T15:14:38.988Z"
   },
   {
    "duration": 11,
    "start_time": "2022-02-13T15:15:14.772Z"
   },
   {
    "duration": 12,
    "start_time": "2022-02-13T15:16:16.073Z"
   },
   {
    "duration": 15,
    "start_time": "2022-02-13T15:17:50.284Z"
   },
   {
    "duration": 5,
    "start_time": "2022-02-13T15:20:08.668Z"
   },
   {
    "duration": 14,
    "start_time": "2022-02-13T15:20:13.300Z"
   },
   {
    "duration": 12,
    "start_time": "2022-02-13T15:28:44.863Z"
   },
   {
    "duration": 5,
    "start_time": "2022-02-13T15:28:51.519Z"
   },
   {
    "duration": 13,
    "start_time": "2022-02-13T15:28:52.071Z"
   },
   {
    "duration": 5,
    "start_time": "2022-02-13T15:29:33.527Z"
   },
   {
    "duration": 15,
    "start_time": "2022-02-13T15:29:33.822Z"
   },
   {
    "duration": 5,
    "start_time": "2022-02-13T15:30:18.150Z"
   },
   {
    "duration": 13,
    "start_time": "2022-02-13T15:30:18.461Z"
   },
   {
    "duration": 8,
    "start_time": "2022-02-13T15:31:23.645Z"
   },
   {
    "duration": 14,
    "start_time": "2022-02-13T15:31:23.899Z"
   },
   {
    "duration": 31,
    "start_time": "2022-02-13T15:34:10.089Z"
   },
   {
    "duration": 30,
    "start_time": "2022-02-13T15:34:32.642Z"
   },
   {
    "duration": 7,
    "start_time": "2022-02-13T16:11:03.308Z"
   },
   {
    "duration": 8476,
    "start_time": "2022-02-13T16:12:21.811Z"
   },
   {
    "duration": 6,
    "start_time": "2022-02-13T16:13:51.465Z"
   },
   {
    "duration": 672,
    "start_time": "2022-02-13T16:13:51.849Z"
   },
   {
    "duration": 8,
    "start_time": "2022-02-13T16:14:24.322Z"
   },
   {
    "duration": 1243,
    "start_time": "2022-02-13T16:14:24.826Z"
   },
   {
    "duration": 635,
    "start_time": "2022-02-13T16:15:25.369Z"
   },
   {
    "duration": 9,
    "start_time": "2022-02-13T16:16:54.526Z"
   },
   {
    "duration": 5178,
    "start_time": "2022-02-13T16:16:54.837Z"
   },
   {
    "duration": 6,
    "start_time": "2022-02-13T16:18:06.293Z"
   },
   {
    "duration": 7506,
    "start_time": "2022-02-13T16:18:06.659Z"
   },
   {
    "duration": 6,
    "start_time": "2022-02-13T16:20:18.168Z"
   },
   {
    "duration": 37,
    "start_time": "2022-02-13T16:20:23.585Z"
   },
   {
    "duration": 8,
    "start_time": "2022-02-13T16:20:26.521Z"
   },
   {
    "duration": 7610,
    "start_time": "2022-02-13T16:20:27.217Z"
   },
   {
    "duration": 9,
    "start_time": "2022-02-13T16:21:05.745Z"
   },
   {
    "duration": 9134,
    "start_time": "2022-02-13T16:21:06.056Z"
   },
   {
    "duration": 7,
    "start_time": "2022-02-13T16:21:36.503Z"
   },
   {
    "duration": 5162,
    "start_time": "2022-02-13T16:21:37.535Z"
   },
   {
    "duration": 7,
    "start_time": "2022-02-13T16:30:46.141Z"
   },
   {
    "duration": 8643,
    "start_time": "2022-02-13T16:30:51.661Z"
   },
   {
    "duration": 8,
    "start_time": "2022-02-13T16:31:59.016Z"
   },
   {
    "duration": 22571,
    "start_time": "2022-02-13T16:32:54.856Z"
   },
   {
    "duration": 8,
    "start_time": "2022-02-13T16:35:52.627Z"
   },
   {
    "duration": 16171,
    "start_time": "2022-02-13T16:35:52.955Z"
   },
   {
    "duration": 8,
    "start_time": "2022-02-13T16:45:18.416Z"
   },
   {
    "duration": 467,
    "start_time": "2022-02-13T16:45:18.428Z"
   },
   {
    "duration": 13,
    "start_time": "2022-02-13T16:45:18.899Z"
   },
   {
    "duration": 35,
    "start_time": "2022-02-13T16:45:18.915Z"
   },
   {
    "duration": 12,
    "start_time": "2022-02-13T16:45:18.952Z"
   },
   {
    "duration": 17,
    "start_time": "2022-02-13T16:45:18.966Z"
   },
   {
    "duration": 13,
    "start_time": "2022-02-13T16:45:18.986Z"
   },
   {
    "duration": 55,
    "start_time": "2022-02-13T16:45:19.003Z"
   },
   {
    "duration": 206,
    "start_time": "2022-02-13T16:45:19.062Z"
   },
   {
    "duration": 13,
    "start_time": "2022-02-13T16:45:19.273Z"
   },
   {
    "duration": 9,
    "start_time": "2022-02-13T16:45:19.288Z"
   },
   {
    "duration": 103,
    "start_time": "2022-02-13T16:45:19.300Z"
   },
   {
    "duration": 6,
    "start_time": "2022-02-13T16:45:19.406Z"
   },
   {
    "duration": 340,
    "start_time": "2022-02-13T16:45:19.415Z"
   },
   {
    "duration": 88,
    "start_time": "2022-02-13T16:45:19.765Z"
   },
   {
    "duration": 12,
    "start_time": "2022-02-13T16:45:19.856Z"
   },
   {
    "duration": 8,
    "start_time": "2022-02-13T16:45:19.872Z"
   },
   {
    "duration": 8,
    "start_time": "2022-02-13T16:45:19.884Z"
   },
   {
    "duration": 7,
    "start_time": "2022-02-13T16:45:19.896Z"
   },
   {
    "duration": 42,
    "start_time": "2022-02-13T16:45:19.906Z"
   },
   {
    "duration": 8,
    "start_time": "2022-02-13T16:45:19.952Z"
   },
   {
    "duration": 36,
    "start_time": "2022-02-13T16:45:19.963Z"
   },
   {
    "duration": 8,
    "start_time": "2022-02-13T16:45:20.004Z"
   },
   {
    "duration": 15993,
    "start_time": "2022-02-13T16:45:20.015Z"
   },
   {
    "duration": 90,
    "start_time": "2022-02-13T18:04:41.972Z"
   },
   {
    "duration": 86,
    "start_time": "2022-02-13T18:07:51.731Z"
   },
   {
    "duration": 1220,
    "start_time": "2022-02-14T17:47:26.970Z"
   },
   {
    "duration": 373,
    "start_time": "2022-02-14T17:47:28.192Z"
   },
   {
    "duration": 12,
    "start_time": "2022-02-14T17:47:28.568Z"
   },
   {
    "duration": 9,
    "start_time": "2022-02-14T17:47:28.582Z"
   },
   {
    "duration": 20,
    "start_time": "2022-02-14T17:47:28.593Z"
   },
   {
    "duration": 11,
    "start_time": "2022-02-14T17:47:28.615Z"
   },
   {
    "duration": 11,
    "start_time": "2022-02-14T17:47:28.628Z"
   },
   {
    "duration": 11,
    "start_time": "2022-02-14T17:47:28.642Z"
   },
   {
    "duration": 158,
    "start_time": "2022-02-14T17:47:28.656Z"
   },
   {
    "duration": 337,
    "start_time": "2022-02-14T17:47:28.816Z"
   },
   {
    "duration": -720,
    "start_time": "2022-02-14T17:47:29.875Z"
   },
   {
    "duration": -721,
    "start_time": "2022-02-14T17:47:29.877Z"
   },
   {
    "duration": -723,
    "start_time": "2022-02-14T17:47:29.880Z"
   },
   {
    "duration": -733,
    "start_time": "2022-02-14T17:47:29.891Z"
   },
   {
    "duration": -735,
    "start_time": "2022-02-14T17:47:29.894Z"
   },
   {
    "duration": -736,
    "start_time": "2022-02-14T17:47:29.896Z"
   },
   {
    "duration": -739,
    "start_time": "2022-02-14T17:47:29.900Z"
   },
   {
    "duration": -741,
    "start_time": "2022-02-14T17:47:29.903Z"
   },
   {
    "duration": -753,
    "start_time": "2022-02-14T17:47:29.915Z"
   },
   {
    "duration": -755,
    "start_time": "2022-02-14T17:47:29.918Z"
   },
   {
    "duration": -757,
    "start_time": "2022-02-14T17:47:29.921Z"
   },
   {
    "duration": -759,
    "start_time": "2022-02-14T17:47:29.924Z"
   },
   {
    "duration": -760,
    "start_time": "2022-02-14T17:47:29.926Z"
   },
   {
    "duration": -762,
    "start_time": "2022-02-14T17:47:29.929Z"
   },
   {
    "duration": -763,
    "start_time": "2022-02-14T17:47:29.931Z"
   },
   {
    "duration": 4,
    "start_time": "2022-02-14T17:48:37.520Z"
   },
   {
    "duration": 414,
    "start_time": "2022-02-14T17:48:37.526Z"
   },
   {
    "duration": 9,
    "start_time": "2022-02-14T17:48:37.942Z"
   },
   {
    "duration": 11,
    "start_time": "2022-02-14T17:48:37.953Z"
   },
   {
    "duration": 12,
    "start_time": "2022-02-14T17:48:37.965Z"
   },
   {
    "duration": 13,
    "start_time": "2022-02-14T17:48:37.979Z"
   },
   {
    "duration": 23,
    "start_time": "2022-02-14T17:48:37.994Z"
   },
   {
    "duration": 14,
    "start_time": "2022-02-14T17:48:38.020Z"
   },
   {
    "duration": 139,
    "start_time": "2022-02-14T17:48:38.036Z"
   },
   {
    "duration": 238,
    "start_time": "2022-02-14T17:48:38.177Z"
   },
   {
    "duration": -724,
    "start_time": "2022-02-14T17:48:39.141Z"
   },
   {
    "duration": -727,
    "start_time": "2022-02-14T17:48:39.145Z"
   },
   {
    "duration": -735,
    "start_time": "2022-02-14T17:48:39.154Z"
   },
   {
    "duration": -743,
    "start_time": "2022-02-14T17:48:39.163Z"
   },
   {
    "duration": -746,
    "start_time": "2022-02-14T17:48:39.167Z"
   },
   {
    "duration": -747,
    "start_time": "2022-02-14T17:48:39.170Z"
   },
   {
    "duration": -748,
    "start_time": "2022-02-14T17:48:39.172Z"
   },
   {
    "duration": -751,
    "start_time": "2022-02-14T17:48:39.176Z"
   },
   {
    "duration": -760,
    "start_time": "2022-02-14T17:48:39.185Z"
   },
   {
    "duration": -765,
    "start_time": "2022-02-14T17:48:39.192Z"
   },
   {
    "duration": -776,
    "start_time": "2022-02-14T17:48:39.204Z"
   },
   {
    "duration": -785,
    "start_time": "2022-02-14T17:48:39.215Z"
   },
   {
    "duration": -787,
    "start_time": "2022-02-14T17:48:39.218Z"
   },
   {
    "duration": -793,
    "start_time": "2022-02-14T17:48:39.225Z"
   },
   {
    "duration": -802,
    "start_time": "2022-02-14T17:48:39.235Z"
   },
   {
    "duration": 34675,
    "start_time": "2022-02-14T17:49:54.185Z"
   },
   {
    "duration": 6344,
    "start_time": "2022-02-14T17:50:28.862Z"
   },
   {
    "duration": 304,
    "start_time": "2022-02-14T17:50:54.903Z"
   },
   {
    "duration": 4,
    "start_time": "2022-02-14T17:59:56.315Z"
   },
   {
    "duration": 275,
    "start_time": "2022-02-14T17:59:57.825Z"
   },
   {
    "duration": 4,
    "start_time": "2022-02-14T18:00:09.991Z"
   },
   {
    "duration": 419,
    "start_time": "2022-02-14T18:00:09.998Z"
   },
   {
    "duration": 11,
    "start_time": "2022-02-14T18:00:10.419Z"
   },
   {
    "duration": 28,
    "start_time": "2022-02-14T18:00:10.432Z"
   },
   {
    "duration": 26,
    "start_time": "2022-02-14T18:00:10.462Z"
   },
   {
    "duration": 44,
    "start_time": "2022-02-14T18:00:10.490Z"
   },
   {
    "duration": 22,
    "start_time": "2022-02-14T18:00:10.536Z"
   },
   {
    "duration": 34,
    "start_time": "2022-02-14T18:00:10.561Z"
   },
   {
    "duration": 134,
    "start_time": "2022-02-14T18:00:10.597Z"
   },
   {
    "duration": 11,
    "start_time": "2022-02-14T18:00:10.733Z"
   },
   {
    "duration": 26,
    "start_time": "2022-02-14T18:00:10.747Z"
   },
   {
    "duration": 88,
    "start_time": "2022-02-14T18:00:10.775Z"
   },
   {
    "duration": 4,
    "start_time": "2022-02-14T18:00:10.865Z"
   },
   {
    "duration": 341,
    "start_time": "2022-02-14T18:00:10.871Z"
   },
   {
    "duration": 94,
    "start_time": "2022-02-14T18:00:11.214Z"
   },
   {
    "duration": 15,
    "start_time": "2022-02-14T18:00:11.310Z"
   },
   {
    "duration": 35,
    "start_time": "2022-02-14T18:00:11.328Z"
   },
   {
    "duration": 30,
    "start_time": "2022-02-14T18:00:11.366Z"
   },
   {
    "duration": 16,
    "start_time": "2022-02-14T18:00:11.398Z"
   },
   {
    "duration": 29,
    "start_time": "2022-02-14T18:00:11.417Z"
   },
   {
    "duration": 10,
    "start_time": "2022-02-14T18:00:11.448Z"
   },
   {
    "duration": 50,
    "start_time": "2022-02-14T18:00:11.460Z"
   },
   {
    "duration": 18,
    "start_time": "2022-02-14T18:00:11.513Z"
   },
   {
    "duration": 10177,
    "start_time": "2022-02-14T18:00:11.533Z"
   },
   {
    "duration": 1538,
    "start_time": "2022-02-15T16:29:43.571Z"
   },
   {
    "duration": 1927,
    "start_time": "2022-02-15T16:29:45.112Z"
   },
   {
    "duration": 17,
    "start_time": "2022-02-15T16:29:47.041Z"
   },
   {
    "duration": 21,
    "start_time": "2022-02-15T16:29:47.070Z"
   },
   {
    "duration": 14,
    "start_time": "2022-02-15T16:29:47.094Z"
   },
   {
    "duration": 16,
    "start_time": "2022-02-15T16:29:47.111Z"
   },
   {
    "duration": 50,
    "start_time": "2022-02-15T16:29:47.130Z"
   },
   {
    "duration": 16,
    "start_time": "2022-02-15T16:29:47.186Z"
   },
   {
    "duration": 248,
    "start_time": "2022-02-15T16:29:47.205Z"
   },
   {
    "duration": 17,
    "start_time": "2022-02-15T16:29:47.456Z"
   },
   {
    "duration": 21,
    "start_time": "2022-02-15T16:29:47.477Z"
   },
   {
    "duration": 103,
    "start_time": "2022-02-15T16:29:47.501Z"
   },
   {
    "duration": 6,
    "start_time": "2022-02-15T16:29:47.606Z"
   },
   {
    "duration": 256,
    "start_time": "2022-02-15T16:29:47.615Z"
   },
   {
    "duration": 5,
    "start_time": "2022-02-15T16:29:47.875Z"
   },
   {
    "duration": 104,
    "start_time": "2022-02-15T16:29:47.885Z"
   },
   {
    "duration": 6,
    "start_time": "2022-02-15T16:29:47.992Z"
   },
   {
    "duration": 7,
    "start_time": "2022-02-15T16:29:48.001Z"
   },
   {
    "duration": 5,
    "start_time": "2022-02-15T16:29:48.011Z"
   },
   {
    "duration": 7,
    "start_time": "2022-02-15T16:29:48.018Z"
   },
   {
    "duration": 6,
    "start_time": "2022-02-15T16:29:48.027Z"
   },
   {
    "duration": 1193,
    "start_time": "2022-02-15T16:29:48.035Z"
   },
   {
    "duration": -1247,
    "start_time": "2022-02-15T16:29:50.477Z"
   },
   {
    "duration": -1247,
    "start_time": "2022-02-15T16:29:50.479Z"
   },
   {
    "duration": 5,
    "start_time": "2022-02-15T16:30:34.503Z"
   },
   {
    "duration": 530,
    "start_time": "2022-02-15T16:30:37.048Z"
   },
   {
    "duration": 5,
    "start_time": "2022-02-15T16:30:46.770Z"
   },
   {
    "duration": 531,
    "start_time": "2022-02-15T16:30:47.560Z"
   },
   {
    "duration": 6,
    "start_time": "2022-02-15T16:31:01.849Z"
   },
   {
    "duration": 33,
    "start_time": "2022-02-15T16:31:03.849Z"
   },
   {
    "duration": 5,
    "start_time": "2022-02-15T16:31:14.655Z"
   },
   {
    "duration": 468,
    "start_time": "2022-02-15T16:31:14.663Z"
   },
   {
    "duration": 13,
    "start_time": "2022-02-15T16:31:15.135Z"
   },
   {
    "duration": 26,
    "start_time": "2022-02-15T16:31:15.151Z"
   },
   {
    "duration": 13,
    "start_time": "2022-02-15T16:31:15.179Z"
   },
   {
    "duration": 17,
    "start_time": "2022-02-15T16:31:15.194Z"
   },
   {
    "duration": 15,
    "start_time": "2022-02-15T16:31:15.213Z"
   },
   {
    "duration": 49,
    "start_time": "2022-02-15T16:31:15.232Z"
   },
   {
    "duration": 228,
    "start_time": "2022-02-15T16:31:15.284Z"
   },
   {
    "duration": 10,
    "start_time": "2022-02-15T16:31:15.515Z"
   },
   {
    "duration": 8,
    "start_time": "2022-02-15T16:31:15.528Z"
   },
   {
    "duration": 89,
    "start_time": "2022-02-15T16:31:15.538Z"
   },
   {
    "duration": 5,
    "start_time": "2022-02-15T16:31:15.629Z"
   },
   {
    "duration": 239,
    "start_time": "2022-02-15T16:31:15.637Z"
   },
   {
    "duration": 8,
    "start_time": "2022-02-15T16:31:15.968Z"
   },
   {
    "duration": 113,
    "start_time": "2022-02-15T16:31:15.979Z"
   },
   {
    "duration": 19,
    "start_time": "2022-02-15T16:31:16.095Z"
   },
   {
    "duration": 7,
    "start_time": "2022-02-15T16:31:16.117Z"
   },
   {
    "duration": 6,
    "start_time": "2022-02-15T16:31:16.127Z"
   },
   {
    "duration": 5,
    "start_time": "2022-02-15T16:31:16.135Z"
   },
   {
    "duration": 26,
    "start_time": "2022-02-15T16:31:16.143Z"
   },
   {
    "duration": 30,
    "start_time": "2022-02-15T16:31:16.171Z"
   },
   {
    "duration": 9,
    "start_time": "2022-02-15T16:31:16.205Z"
   },
   {
    "duration": 15009,
    "start_time": "2022-02-15T16:31:16.217Z"
   },
   {
    "duration": 9,
    "start_time": "2022-02-15T16:35:04.266Z"
   },
   {
    "duration": 15025,
    "start_time": "2022-02-15T16:35:06.029Z"
   },
   {
    "duration": 6,
    "start_time": "2022-02-15T16:36:32.869Z"
   },
   {
    "duration": 498,
    "start_time": "2022-02-15T16:36:32.878Z"
   },
   {
    "duration": 12,
    "start_time": "2022-02-15T16:36:33.379Z"
   },
   {
    "duration": 23,
    "start_time": "2022-02-15T16:36:33.393Z"
   },
   {
    "duration": 18,
    "start_time": "2022-02-15T16:36:33.418Z"
   },
   {
    "duration": 39,
    "start_time": "2022-02-15T16:36:33.438Z"
   },
   {
    "duration": 13,
    "start_time": "2022-02-15T16:36:33.480Z"
   },
   {
    "duration": 13,
    "start_time": "2022-02-15T16:36:33.496Z"
   },
   {
    "duration": 244,
    "start_time": "2022-02-15T16:36:33.512Z"
   },
   {
    "duration": 12,
    "start_time": "2022-02-15T16:36:33.769Z"
   },
   {
    "duration": 26,
    "start_time": "2022-02-15T16:36:33.783Z"
   },
   {
    "duration": 86,
    "start_time": "2022-02-15T16:36:33.811Z"
   },
   {
    "duration": 6,
    "start_time": "2022-02-15T16:36:33.899Z"
   },
   {
    "duration": 262,
    "start_time": "2022-02-15T16:36:33.907Z"
   },
   {
    "duration": 6,
    "start_time": "2022-02-15T16:36:34.173Z"
   },
   {
    "duration": 115,
    "start_time": "2022-02-15T16:36:34.182Z"
   },
   {
    "duration": 11,
    "start_time": "2022-02-15T16:36:34.299Z"
   },
   {
    "duration": 11,
    "start_time": "2022-02-15T16:36:34.312Z"
   },
   {
    "duration": 14,
    "start_time": "2022-02-15T16:36:34.326Z"
   },
   {
    "duration": 16,
    "start_time": "2022-02-15T16:36:34.342Z"
   },
   {
    "duration": 19,
    "start_time": "2022-02-15T16:36:34.360Z"
   },
   {
    "duration": 40,
    "start_time": "2022-02-15T16:36:34.382Z"
   },
   {
    "duration": 8,
    "start_time": "2022-02-15T16:36:34.426Z"
   },
   {
    "duration": 15690,
    "start_time": "2022-02-15T16:36:34.437Z"
   }
  ],
  "kernelspec": {
   "display_name": "Python 3 (ipykernel)",
   "language": "python",
   "name": "python3"
  },
  "language_info": {
   "codemirror_mode": {
    "name": "ipython",
    "version": 3
   },
   "file_extension": ".py",
   "mimetype": "text/x-python",
   "name": "python",
   "nbconvert_exporter": "python",
   "pygments_lexer": "ipython3",
   "version": "3.9.7"
  },
  "toc": {
   "base_numbering": 1,
   "nav_menu": {},
   "number_sections": true,
   "sideBar": true,
   "skip_h1_title": true,
   "title_cell": "Table of Contents",
   "title_sidebar": "Contents",
   "toc_cell": false,
   "toc_position": {},
   "toc_section_display": true,
   "toc_window_display": false
  }
 },
 "nbformat": 4,
 "nbformat_minor": 2
}
