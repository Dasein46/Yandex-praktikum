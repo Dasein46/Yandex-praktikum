{
 "cells": [
  {
   "cell_type": "markdown",
   "metadata": {},
   "source": [
    "# Определение перспективного тарифа для телеком-компании\n",
    "\n",
    "Заказчик предоставил для анализа два тарифных плана: \"Смарт\" и \"Ультра\". Для составления рекламного бюджета коммерческий департамент хочет понять, какой тариф приносит больше денег. Были предоставлены данные о пользователях \"Мегалайна\" по небольшой выборке, состоящей из 500 человек. Данные включают в себя следующую информацию о пользователях: кто они, откуда, каким тарифом пользуются, сколько звонков и сообщений каждый отправил за 2018 год.\n",
    "\n",
    "**Цель исследования** - провести анализ поведения клиентов и сделать вывод - какой тариф лучше.\n",
    "\n",
    "**Ход исследования**\n",
    "\n",
    "Данные о пользователях \"Мегалайна\" будут получены из файлов calls.csv, internet.csv, messages.csv, tariffs.csv и users.csv. О качестве данных ничего не известно. Поэтому перед проведением основого анализа необходимо провести предобработку данных.\n",
    "\n",
    "Таким образом, исследование можно разделить на следующие этапы:\n",
    "\n",
    "1. Изучение данных из файла.\n",
    "2. Предобработка данных.\n",
    "3. Анализ поведения клиентов.\n",
    "4. Проверка гипотез."
   ]
  },
  {
   "cell_type": "markdown",
   "metadata": {},
   "source": [
    "# Содержание\n",
    "* [Изучение данных из файла](#Изучение-данных-из-файла)\n",
    "* [Прeдобработка данных](#Предобработка-данных)\n",
    "* [Анализ поведения клиентов](#Анализ-поведения-клиентов)\n",
    "* [Проверка гипотез](#Проверка-гипотез)\n",
    "    * [Средняя выручка пользователей тарифов «Ультра» и «Смарт» различаются](#Средняя-выручка-пользователей-тарифов-«Ультра»-и-«Смарт»-различаются)\n",
    "    * [Средняя выручка пользователей из Москвы отличается от выручки пользователей из других регионов](#Средняя-выручка-пользователей-из-Москвы-отличается-от-выручки-пользователей-из-других-регионов)\n",
    "* [Общий вывод](#Общий-вывод)"
   ]
  },
  {
   "cell_type": "markdown",
   "metadata": {},
   "source": [
    "## Изучение данных из файла\n"
   ]
  },
  {
   "cell_type": "code",
   "execution_count": 1,
   "metadata": {},
   "outputs": [],
   "source": [
    "# импортируем все необходимые для исследования библиотеки\n",
    "import pandas as pd\n",
    "import matplotlib.pyplot as plt\n",
    "import numpy as np\n",
    "import scipy.stats as st"
   ]
  },
  {
   "cell_type": "code",
   "execution_count": 2,
   "metadata": {},
   "outputs": [],
   "source": [
    "# загрузим файлы с данными и сохраним их в переменных\n",
    "calls_df = pd.read_csv('/datasets/calls.csv') # данные о звонках\n",
    "internet_df = pd.read_csv('/datasets/internet.csv', index_col=0) # данные о интернете\n",
    "messages_df = pd.read_csv('/datasets/messages.csv') # данные о сообщениях\n",
    "tariffs_df = pd.read_csv('/datasets/tariffs.csv') # данные о тарифах\n",
    "users_df = pd.read_csv('/datasets/users.csv') # данные о пользователях"
   ]
  },
  {
   "cell_type": "code",
   "execution_count": 3,
   "metadata": {},
   "outputs": [
    {
     "data": {
      "text/html": [
       "<div>\n",
       "<style scoped>\n",
       "    .dataframe tbody tr th:only-of-type {\n",
       "        vertical-align: middle;\n",
       "    }\n",
       "\n",
       "    .dataframe tbody tr th {\n",
       "        vertical-align: top;\n",
       "    }\n",
       "\n",
       "    .dataframe thead th {\n",
       "        text-align: right;\n",
       "    }\n",
       "</style>\n",
       "<table border=\"1\" class=\"dataframe\">\n",
       "  <thead>\n",
       "    <tr style=\"text-align: right;\">\n",
       "      <th></th>\n",
       "      <th>id</th>\n",
       "      <th>call_date</th>\n",
       "      <th>duration</th>\n",
       "      <th>user_id</th>\n",
       "    </tr>\n",
       "  </thead>\n",
       "  <tbody>\n",
       "    <tr>\n",
       "      <td>0</td>\n",
       "      <td>1000_0</td>\n",
       "      <td>2018-07-25</td>\n",
       "      <td>0.00</td>\n",
       "      <td>1000</td>\n",
       "    </tr>\n",
       "    <tr>\n",
       "      <td>1</td>\n",
       "      <td>1000_1</td>\n",
       "      <td>2018-08-17</td>\n",
       "      <td>0.00</td>\n",
       "      <td>1000</td>\n",
       "    </tr>\n",
       "    <tr>\n",
       "      <td>2</td>\n",
       "      <td>1000_2</td>\n",
       "      <td>2018-06-11</td>\n",
       "      <td>2.85</td>\n",
       "      <td>1000</td>\n",
       "    </tr>\n",
       "    <tr>\n",
       "      <td>3</td>\n",
       "      <td>1000_3</td>\n",
       "      <td>2018-09-21</td>\n",
       "      <td>13.80</td>\n",
       "      <td>1000</td>\n",
       "    </tr>\n",
       "    <tr>\n",
       "      <td>4</td>\n",
       "      <td>1000_4</td>\n",
       "      <td>2018-12-15</td>\n",
       "      <td>5.18</td>\n",
       "      <td>1000</td>\n",
       "    </tr>\n",
       "  </tbody>\n",
       "</table>\n",
       "</div>"
      ],
      "text/plain": [
       "       id   call_date  duration  user_id\n",
       "0  1000_0  2018-07-25      0.00     1000\n",
       "1  1000_1  2018-08-17      0.00     1000\n",
       "2  1000_2  2018-06-11      2.85     1000\n",
       "3  1000_3  2018-09-21     13.80     1000\n",
       "4  1000_4  2018-12-15      5.18     1000"
      ]
     },
     "execution_count": 3,
     "metadata": {},
     "output_type": "execute_result"
    }
   ],
   "source": [
    "# выведем на экран первые 5 строк calls_df\n",
    "calls_df.head()"
   ]
  },
  {
   "cell_type": "code",
   "execution_count": 4,
   "metadata": {},
   "outputs": [
    {
     "name": "stdout",
     "output_type": "stream",
     "text": [
      "<class 'pandas.core.frame.DataFrame'>\n",
      "RangeIndex: 202607 entries, 0 to 202606\n",
      "Data columns (total 4 columns):\n",
      "id           202607 non-null object\n",
      "call_date    202607 non-null object\n",
      "duration     202607 non-null float64\n",
      "user_id      202607 non-null int64\n",
      "dtypes: float64(1), int64(1), object(2)\n",
      "memory usage: 6.2+ MB\n"
     ]
    }
   ],
   "source": [
    "# получим общую информацию о данных в таблице calls_df\n",
    "calls_df.info()"
   ]
  },
  {
   "cell_type": "code",
   "execution_count": 5,
   "metadata": {},
   "outputs": [],
   "source": [
    "# уменьшим тип столбцов duration и user_id \n",
    "calls_df['duration'] = calls_df['duration'].astype('float32')\n",
    "calls_df['user_id'] = calls_df['user_id'].astype('int32')"
   ]
  },
  {
   "cell_type": "code",
   "execution_count": 6,
   "metadata": {},
   "outputs": [
    {
     "data": {
      "text/plain": [
       "0"
      ]
     },
     "execution_count": 6,
     "metadata": {},
     "output_type": "execute_result"
    }
   ],
   "source": [
    "# проверим таблицу на наличие дубликатов\n",
    "calls_df.duplicated().sum()"
   ]
  },
  {
   "cell_type": "markdown",
   "metadata": {},
   "source": [
    "Таблица calls_df состоит из 4 столбцов. В ней встречаются следующие типы данных: object (2), float и int. В столбце call_date необходимо будет заменить формат с object на формат времени и даты. В столбце duration мы видим 0. Это пропущенные звонки - их обрабатывать не надо.\n",
    "\n",
    "Согласно документации к данным:\n",
    "- id — уникальный номер звонка;\n",
    "- call_date — дата звонка;\n",
    "- duration — длительность звонка в минутах;\n",
    "- user_id — идентификатор пользователя, сделавшего звонок."
   ]
  },
  {
   "cell_type": "code",
   "execution_count": 7,
   "metadata": {},
   "outputs": [
    {
     "data": {
      "text/html": [
       "<div>\n",
       "<style scoped>\n",
       "    .dataframe tbody tr th:only-of-type {\n",
       "        vertical-align: middle;\n",
       "    }\n",
       "\n",
       "    .dataframe tbody tr th {\n",
       "        vertical-align: top;\n",
       "    }\n",
       "\n",
       "    .dataframe thead th {\n",
       "        text-align: right;\n",
       "    }\n",
       "</style>\n",
       "<table border=\"1\" class=\"dataframe\">\n",
       "  <thead>\n",
       "    <tr style=\"text-align: right;\">\n",
       "      <th></th>\n",
       "      <th>id</th>\n",
       "      <th>mb_used</th>\n",
       "      <th>session_date</th>\n",
       "      <th>user_id</th>\n",
       "    </tr>\n",
       "  </thead>\n",
       "  <tbody>\n",
       "    <tr>\n",
       "      <td>0</td>\n",
       "      <td>1000_0</td>\n",
       "      <td>112.95</td>\n",
       "      <td>2018-11-25</td>\n",
       "      <td>1000</td>\n",
       "    </tr>\n",
       "    <tr>\n",
       "      <td>1</td>\n",
       "      <td>1000_1</td>\n",
       "      <td>1052.81</td>\n",
       "      <td>2018-09-07</td>\n",
       "      <td>1000</td>\n",
       "    </tr>\n",
       "    <tr>\n",
       "      <td>2</td>\n",
       "      <td>1000_2</td>\n",
       "      <td>1197.26</td>\n",
       "      <td>2018-06-25</td>\n",
       "      <td>1000</td>\n",
       "    </tr>\n",
       "    <tr>\n",
       "      <td>3</td>\n",
       "      <td>1000_3</td>\n",
       "      <td>550.27</td>\n",
       "      <td>2018-08-22</td>\n",
       "      <td>1000</td>\n",
       "    </tr>\n",
       "    <tr>\n",
       "      <td>4</td>\n",
       "      <td>1000_4</td>\n",
       "      <td>302.56</td>\n",
       "      <td>2018-09-24</td>\n",
       "      <td>1000</td>\n",
       "    </tr>\n",
       "  </tbody>\n",
       "</table>\n",
       "</div>"
      ],
      "text/plain": [
       "       id  mb_used session_date  user_id\n",
       "0  1000_0   112.95   2018-11-25     1000\n",
       "1  1000_1  1052.81   2018-09-07     1000\n",
       "2  1000_2  1197.26   2018-06-25     1000\n",
       "3  1000_3   550.27   2018-08-22     1000\n",
       "4  1000_4   302.56   2018-09-24     1000"
      ]
     },
     "execution_count": 7,
     "metadata": {},
     "output_type": "execute_result"
    }
   ],
   "source": [
    "# выведем на экран первые 5 строк internet_df\n",
    "internet_df.head()"
   ]
  },
  {
   "cell_type": "code",
   "execution_count": 8,
   "metadata": {},
   "outputs": [
    {
     "name": "stdout",
     "output_type": "stream",
     "text": [
      "<class 'pandas.core.frame.DataFrame'>\n",
      "Int64Index: 149396 entries, 0 to 149395\n",
      "Data columns (total 4 columns):\n",
      "id              149396 non-null object\n",
      "mb_used         149396 non-null float64\n",
      "session_date    149396 non-null object\n",
      "user_id         149396 non-null int64\n",
      "dtypes: float64(1), int64(1), object(2)\n",
      "memory usage: 5.7+ MB\n"
     ]
    }
   ],
   "source": [
    "# получим общую информацию о данных в таблице internet_df\n",
    "internet_df.info()"
   ]
  },
  {
   "cell_type": "code",
   "execution_count": 9,
   "metadata": {},
   "outputs": [],
   "source": [
    "# уменьшим тип столбцов mb_used и user_id \n",
    "internet_df['mb_used'] = internet_df['mb_used'].astype('float32')\n",
    "internet_df['user_id'] = internet_df['user_id'].astype('int32')"
   ]
  },
  {
   "cell_type": "code",
   "execution_count": 10,
   "metadata": {},
   "outputs": [
    {
     "data": {
      "text/plain": [
       "0"
      ]
     },
     "execution_count": 10,
     "metadata": {},
     "output_type": "execute_result"
    }
   ],
   "source": [
    "# проверим таблицу на наличие дубликатов\n",
    "internet_df.duplicated().sum()"
   ]
  },
  {
   "cell_type": "markdown",
   "metadata": {},
   "source": [
    "Таблица internet_df состоит из 5 столбцов. В ней встречаются следующие типы данных: object (2), float и int. В столбце session_date необходимо будет заменить формат с object на формат времени и даты. \n",
    "\n",
    "Согласно документации к данным:\n",
    "- id — уникальный номер сессии;\n",
    "- mb_used — объём потраченного за сессию интернет-трафика (в мегабайтах);\n",
    "- session_date — дата интернет-сессии; \n",
    "- user_id — идентификатор пользователя."
   ]
  },
  {
   "cell_type": "code",
   "execution_count": 11,
   "metadata": {},
   "outputs": [
    {
     "data": {
      "text/html": [
       "<div>\n",
       "<style scoped>\n",
       "    .dataframe tbody tr th:only-of-type {\n",
       "        vertical-align: middle;\n",
       "    }\n",
       "\n",
       "    .dataframe tbody tr th {\n",
       "        vertical-align: top;\n",
       "    }\n",
       "\n",
       "    .dataframe thead th {\n",
       "        text-align: right;\n",
       "    }\n",
       "</style>\n",
       "<table border=\"1\" class=\"dataframe\">\n",
       "  <thead>\n",
       "    <tr style=\"text-align: right;\">\n",
       "      <th></th>\n",
       "      <th>id</th>\n",
       "      <th>message_date</th>\n",
       "      <th>user_id</th>\n",
       "    </tr>\n",
       "  </thead>\n",
       "  <tbody>\n",
       "    <tr>\n",
       "      <td>0</td>\n",
       "      <td>1000_0</td>\n",
       "      <td>2018-06-27</td>\n",
       "      <td>1000</td>\n",
       "    </tr>\n",
       "    <tr>\n",
       "      <td>1</td>\n",
       "      <td>1000_1</td>\n",
       "      <td>2018-10-08</td>\n",
       "      <td>1000</td>\n",
       "    </tr>\n",
       "    <tr>\n",
       "      <td>2</td>\n",
       "      <td>1000_2</td>\n",
       "      <td>2018-08-04</td>\n",
       "      <td>1000</td>\n",
       "    </tr>\n",
       "    <tr>\n",
       "      <td>3</td>\n",
       "      <td>1000_3</td>\n",
       "      <td>2018-06-16</td>\n",
       "      <td>1000</td>\n",
       "    </tr>\n",
       "    <tr>\n",
       "      <td>4</td>\n",
       "      <td>1000_4</td>\n",
       "      <td>2018-12-05</td>\n",
       "      <td>1000</td>\n",
       "    </tr>\n",
       "  </tbody>\n",
       "</table>\n",
       "</div>"
      ],
      "text/plain": [
       "       id message_date  user_id\n",
       "0  1000_0   2018-06-27     1000\n",
       "1  1000_1   2018-10-08     1000\n",
       "2  1000_2   2018-08-04     1000\n",
       "3  1000_3   2018-06-16     1000\n",
       "4  1000_4   2018-12-05     1000"
      ]
     },
     "execution_count": 11,
     "metadata": {},
     "output_type": "execute_result"
    }
   ],
   "source": [
    "# выведем на экран первые 5 строк messages_df\n",
    "messages_df.head()"
   ]
  },
  {
   "cell_type": "code",
   "execution_count": 12,
   "metadata": {},
   "outputs": [
    {
     "name": "stdout",
     "output_type": "stream",
     "text": [
      "<class 'pandas.core.frame.DataFrame'>\n",
      "RangeIndex: 123036 entries, 0 to 123035\n",
      "Data columns (total 3 columns):\n",
      "id              123036 non-null object\n",
      "message_date    123036 non-null object\n",
      "user_id         123036 non-null int64\n",
      "dtypes: int64(1), object(2)\n",
      "memory usage: 2.8+ MB\n"
     ]
    }
   ],
   "source": [
    "# получим общую информацию о данных в таблице messages_df\n",
    "messages_df.info()"
   ]
  },
  {
   "cell_type": "markdown",
   "metadata": {},
   "source": [
    "Таблица messages_df состоит из 3 столбцов. В ней встречаются следующие типы данных: object (2) и int. В столбце message_date необходимо будет заменить формат с object на формат времени и даты.\n",
    "\n",
    "Согласно документации к данным:\n",
    "- id — уникальный номер сообщения;\n",
    "- message_date — дата сообщения;\n",
    "- user_id — идентификатор пользователя, отправившего сообщение."
   ]
  },
  {
   "cell_type": "code",
   "execution_count": 13,
   "metadata": {},
   "outputs": [],
   "source": [
    "# уменьшим тип столбца user_id\n",
    "messages_df['user_id'] = messages_df['user_id'].astype('int32')"
   ]
  },
  {
   "cell_type": "code",
   "execution_count": 14,
   "metadata": {},
   "outputs": [
    {
     "data": {
      "text/plain": [
       "0"
      ]
     },
     "execution_count": 14,
     "metadata": {},
     "output_type": "execute_result"
    }
   ],
   "source": [
    "# проверим таблицу на наличие дубликатов\n",
    "messages_df.duplicated().sum()"
   ]
  },
  {
   "cell_type": "markdown",
   "metadata": {},
   "source": [
    "Таблица messages_df состоит из 3 столбцов. В ней встречаются следующие типы данных: object (2) и int. В столбце message_date необходимо будет заменить формат с object на формат времени и даты.\n",
    "\n",
    "Согласно документации к данным:\n",
    "- id — уникальный номер сообщения;\n",
    "- message_date — дата сообщения;\n",
    "- user_id — идентификатор пользователя, отправившего сообщение."
   ]
  },
  {
   "cell_type": "code",
   "execution_count": 15,
   "metadata": {},
   "outputs": [
    {
     "data": {
      "text/html": [
       "<div>\n",
       "<style scoped>\n",
       "    .dataframe tbody tr th:only-of-type {\n",
       "        vertical-align: middle;\n",
       "    }\n",
       "\n",
       "    .dataframe tbody tr th {\n",
       "        vertical-align: top;\n",
       "    }\n",
       "\n",
       "    .dataframe thead th {\n",
       "        text-align: right;\n",
       "    }\n",
       "</style>\n",
       "<table border=\"1\" class=\"dataframe\">\n",
       "  <thead>\n",
       "    <tr style=\"text-align: right;\">\n",
       "      <th></th>\n",
       "      <th>messages_included</th>\n",
       "      <th>mb_per_month_included</th>\n",
       "      <th>minutes_included</th>\n",
       "      <th>rub_monthly_fee</th>\n",
       "      <th>rub_per_gb</th>\n",
       "      <th>rub_per_message</th>\n",
       "      <th>rub_per_minute</th>\n",
       "      <th>tariff_name</th>\n",
       "    </tr>\n",
       "  </thead>\n",
       "  <tbody>\n",
       "    <tr>\n",
       "      <td>0</td>\n",
       "      <td>50</td>\n",
       "      <td>15360</td>\n",
       "      <td>500</td>\n",
       "      <td>550</td>\n",
       "      <td>200</td>\n",
       "      <td>3</td>\n",
       "      <td>3</td>\n",
       "      <td>smart</td>\n",
       "    </tr>\n",
       "    <tr>\n",
       "      <td>1</td>\n",
       "      <td>1000</td>\n",
       "      <td>30720</td>\n",
       "      <td>3000</td>\n",
       "      <td>1950</td>\n",
       "      <td>150</td>\n",
       "      <td>1</td>\n",
       "      <td>1</td>\n",
       "      <td>ultra</td>\n",
       "    </tr>\n",
       "  </tbody>\n",
       "</table>\n",
       "</div>"
      ],
      "text/plain": [
       "   messages_included  mb_per_month_included  minutes_included  \\\n",
       "0                 50                  15360               500   \n",
       "1               1000                  30720              3000   \n",
       "\n",
       "   rub_monthly_fee  rub_per_gb  rub_per_message  rub_per_minute tariff_name  \n",
       "0              550         200                3               3       smart  \n",
       "1             1950         150                1               1       ultra  "
      ]
     },
     "execution_count": 15,
     "metadata": {},
     "output_type": "execute_result"
    }
   ],
   "source": [
    "# выведем на экран первые 2 строки tariffs_df\n",
    "tariffs_df.head()"
   ]
  },
  {
   "cell_type": "code",
   "execution_count": 16,
   "metadata": {},
   "outputs": [
    {
     "name": "stdout",
     "output_type": "stream",
     "text": [
      "<class 'pandas.core.frame.DataFrame'>\n",
      "RangeIndex: 2 entries, 0 to 1\n",
      "Data columns (total 8 columns):\n",
      "messages_included        2 non-null int64\n",
      "mb_per_month_included    2 non-null int64\n",
      "minutes_included         2 non-null int64\n",
      "rub_monthly_fee          2 non-null int64\n",
      "rub_per_gb               2 non-null int64\n",
      "rub_per_message          2 non-null int64\n",
      "rub_per_minute           2 non-null int64\n",
      "tariff_name              2 non-null object\n",
      "dtypes: int64(7), object(1)\n",
      "memory usage: 256.0+ bytes\n"
     ]
    }
   ],
   "source": [
    "# получим общую информацию о данных в таблице tariffs_df\n",
    "tariffs_df.info()"
   ]
  },
  {
   "cell_type": "code",
   "execution_count": 17,
   "metadata": {},
   "outputs": [],
   "source": [
    "# уменьшим тип столбцов с int 64 на int 16\n",
    "columns = ['messages_included', 'mb_per_month_included', 'minutes_included', 'rub_monthly_fee', 'rub_per_minute', 'rub_per_message',\n",
    "          'rub_per_gb']\n",
    "for column in columns:\n",
    "    tariffs_df[column] = tariffs_df[column].astype('int16')"
   ]
  },
  {
   "cell_type": "code",
   "execution_count": 18,
   "metadata": {},
   "outputs": [
    {
     "data": {
      "text/plain": [
       "0"
      ]
     },
     "execution_count": 18,
     "metadata": {},
     "output_type": "execute_result"
    }
   ],
   "source": [
    "# проверим таблицу на наличие дубликатов\n",
    "tariffs_df.duplicated().sum()"
   ]
  },
  {
   "cell_type": "markdown",
   "metadata": {},
   "source": [
    "Таблица tariffs_df состоит из 8 столбцов. В ней встречаются следующие типы данных: object и int (7).\n",
    "\n",
    "Согласно документации к данным:\n",
    "\n",
    "tariff_name — название тарифа;\n",
    "rub_monthly_fee — ежемесячная абонентская плата в рублях;\n",
    "minutes_included — количество минут разговора в месяц, включённых в абонентскую плату;\n",
    "messages_included — количество сообщений в месяц, включённых в абонентскую плату;\n",
    "mb_per_month_included — объём интернет-трафика, включённого в абонентскую плату (в мегабайтах);\n",
    "rub_per_minute — стоимость минуты разговора сверх тарифного пакета (например, если в тарифе 100 минут разговора в месяц, то со 101 минуты будет взиматься плата);\n",
    "rub_per_message — стоимость отправки сообщения сверх тарифного пакета;\n",
    "rub_per_gb — стоимость дополнительного гигабайта интернет-трафика сверх тарифного пакета (1 гигабайт = 1024 мегабайта)."
   ]
  },
  {
   "cell_type": "code",
   "execution_count": 19,
   "metadata": {},
   "outputs": [
    {
     "data": {
      "text/html": [
       "<div>\n",
       "<style scoped>\n",
       "    .dataframe tbody tr th:only-of-type {\n",
       "        vertical-align: middle;\n",
       "    }\n",
       "\n",
       "    .dataframe tbody tr th {\n",
       "        vertical-align: top;\n",
       "    }\n",
       "\n",
       "    .dataframe thead th {\n",
       "        text-align: right;\n",
       "    }\n",
       "</style>\n",
       "<table border=\"1\" class=\"dataframe\">\n",
       "  <thead>\n",
       "    <tr style=\"text-align: right;\">\n",
       "      <th></th>\n",
       "      <th>user_id</th>\n",
       "      <th>age</th>\n",
       "      <th>churn_date</th>\n",
       "      <th>city</th>\n",
       "      <th>first_name</th>\n",
       "      <th>last_name</th>\n",
       "      <th>reg_date</th>\n",
       "      <th>tariff</th>\n",
       "    </tr>\n",
       "  </thead>\n",
       "  <tbody>\n",
       "    <tr>\n",
       "      <td>0</td>\n",
       "      <td>1000</td>\n",
       "      <td>52</td>\n",
       "      <td>NaN</td>\n",
       "      <td>Краснодар</td>\n",
       "      <td>Рафаил</td>\n",
       "      <td>Верещагин</td>\n",
       "      <td>2018-05-25</td>\n",
       "      <td>ultra</td>\n",
       "    </tr>\n",
       "    <tr>\n",
       "      <td>1</td>\n",
       "      <td>1001</td>\n",
       "      <td>41</td>\n",
       "      <td>NaN</td>\n",
       "      <td>Москва</td>\n",
       "      <td>Иван</td>\n",
       "      <td>Ежов</td>\n",
       "      <td>2018-11-01</td>\n",
       "      <td>smart</td>\n",
       "    </tr>\n",
       "    <tr>\n",
       "      <td>2</td>\n",
       "      <td>1002</td>\n",
       "      <td>59</td>\n",
       "      <td>NaN</td>\n",
       "      <td>Стерлитамак</td>\n",
       "      <td>Евгений</td>\n",
       "      <td>Абрамович</td>\n",
       "      <td>2018-06-17</td>\n",
       "      <td>smart</td>\n",
       "    </tr>\n",
       "    <tr>\n",
       "      <td>3</td>\n",
       "      <td>1003</td>\n",
       "      <td>23</td>\n",
       "      <td>NaN</td>\n",
       "      <td>Москва</td>\n",
       "      <td>Белла</td>\n",
       "      <td>Белякова</td>\n",
       "      <td>2018-08-17</td>\n",
       "      <td>ultra</td>\n",
       "    </tr>\n",
       "    <tr>\n",
       "      <td>4</td>\n",
       "      <td>1004</td>\n",
       "      <td>68</td>\n",
       "      <td>NaN</td>\n",
       "      <td>Новокузнецк</td>\n",
       "      <td>Татьяна</td>\n",
       "      <td>Авдеенко</td>\n",
       "      <td>2018-05-14</td>\n",
       "      <td>ultra</td>\n",
       "    </tr>\n",
       "  </tbody>\n",
       "</table>\n",
       "</div>"
      ],
      "text/plain": [
       "   user_id  age churn_date         city first_name  last_name    reg_date  \\\n",
       "0     1000   52        NaN    Краснодар     Рафаил  Верещагин  2018-05-25   \n",
       "1     1001   41        NaN       Москва       Иван       Ежов  2018-11-01   \n",
       "2     1002   59        NaN  Стерлитамак    Евгений  Абрамович  2018-06-17   \n",
       "3     1003   23        NaN       Москва      Белла   Белякова  2018-08-17   \n",
       "4     1004   68        NaN  Новокузнецк    Татьяна   Авдеенко  2018-05-14   \n",
       "\n",
       "  tariff  \n",
       "0  ultra  \n",
       "1  smart  \n",
       "2  smart  \n",
       "3  ultra  \n",
       "4  ultra  "
      ]
     },
     "execution_count": 19,
     "metadata": {},
     "output_type": "execute_result"
    }
   ],
   "source": [
    "# выведем на экран первые 5 строк users_df\n",
    "users_df.head()"
   ]
  },
  {
   "cell_type": "code",
   "execution_count": 20,
   "metadata": {},
   "outputs": [
    {
     "name": "stdout",
     "output_type": "stream",
     "text": [
      "<class 'pandas.core.frame.DataFrame'>\n",
      "RangeIndex: 500 entries, 0 to 499\n",
      "Data columns (total 8 columns):\n",
      "user_id       500 non-null int64\n",
      "age           500 non-null int64\n",
      "churn_date    38 non-null object\n",
      "city          500 non-null object\n",
      "first_name    500 non-null object\n",
      "last_name     500 non-null object\n",
      "reg_date      500 non-null object\n",
      "tariff        500 non-null object\n",
      "dtypes: int64(2), object(6)\n",
      "memory usage: 31.4+ KB\n"
     ]
    }
   ],
   "source": [
    "# получим общую информацию о данных в таблице users_df\n",
    "users_df.info()"
   ]
  },
  {
   "cell_type": "code",
   "execution_count": 21,
   "metadata": {},
   "outputs": [],
   "source": [
    "# уменьшим тип столбцов user_id и age\n",
    "users_df = users_df.astype({'user_id': 'int32', 'age': 'int32'})"
   ]
  },
  {
   "cell_type": "code",
   "execution_count": 22,
   "metadata": {},
   "outputs": [
    {
     "data": {
      "text/plain": [
       "0"
      ]
     },
     "execution_count": 22,
     "metadata": {},
     "output_type": "execute_result"
    }
   ],
   "source": [
    "# проверим таблицу на наличие дубликатов\n",
    "users_df.duplicated().sum()"
   ]
  },
  {
   "cell_type": "markdown",
   "metadata": {},
   "source": [
    "Таблица users_df состоит из 8 столбцов. В ней встречаются следующие типы данных: object (6) и int (2). В столбце reg_date необходимо будет заменить формат с object на формат времени и даты. \n",
    "\n",
    "Согласно документации к данным:\n",
    "- user_id — уникальный идентификатор пользователя;\n",
    "- first_name — имя пользователя;\n",
    "- last_name — фамилия пользователя;\n",
    "- age — возраст пользователя (годы);\n",
    "- reg_date — дата подключения тарифа (день, месяц, год);\n",
    "- churn_date — дата прекращения пользования тарифом (если значение пропущено, то тариф ещё действовал на момент выгрузки данных);\n",
    "- city — город проживания пользователя;\n",
    "- tarif — название тарифного плана."
   ]
  },
  {
   "cell_type": "markdown",
   "metadata": {},
   "source": [
    "Таким образом, вся информация разбита на 5 таблиц: о звонках, интернете, сообщениях, тарифах и пользователях. Везде требуется замена даты на правильный формат. "
   ]
  },
  {
   "cell_type": "markdown",
   "metadata": {},
   "source": [
    "## Предобработка данных"
   ]
  },
  {
   "cell_type": "code",
   "execution_count": 23,
   "metadata": {},
   "outputs": [],
   "source": [
    "# исправим тип данных в столбцах с датами\n",
    "calls_df['call_date'] = pd.to_datetime(calls_df['call_date'], format='%Y-%m-%d')\n",
    "internet_df['session_date'] = pd.to_datetime(internet_df['session_date'], format='%Y-%m-%d')\n",
    "messages_df['message_date'] = pd.to_datetime(messages_df['message_date'], format='%Y-%m-%d')\n",
    "users_df['reg_date'] = pd.to_datetime(users_df['reg_date'], format='%Y-%m-%d')"
   ]
  },
  {
   "cell_type": "markdown",
   "metadata": {},
   "source": [
    "В рамках этапа предобработки данных посчитаем следующие показатели для каждого пользователя:\n",
    "- количество сделанных звонков и израсходованных минут разговора по месяцам;\n",
    "- количество отправленных сообщений по месяцам;\n",
    "- объем израсходованного интернет-трафика по месяцам;\n",
    "- помесячную выручку с каждого пользователя.\n",
    "Cперва добавим столбец с месяцем в calls_df, messages_df и internet_df."
   ]
  },
  {
   "cell_type": "code",
   "execution_count": 24,
   "metadata": {},
   "outputs": [],
   "source": [
    "# добавим столбец month в указанные выше таблицы\n",
    "calls_df['month'] = pd.to_datetime(calls_df['call_date']).dt.month\n",
    "internet_df['month'] = pd.to_datetime(internet_df['session_date']).dt.month\n",
    "messages_df['month'] = pd.to_datetime(messages_df['message_date']).dt.month\n",
    "users_df['month'] = pd.to_datetime(users_df['reg_date']).dt.month"
   ]
  },
  {
   "cell_type": "markdown",
   "metadata": {},
   "source": [
    "«Мегалайн» всегда округляет секунды до минут, а мегабайты — до гигабайт. Каждый звонок округляется отдельно: даже если он длился всего 1 секунду, будет засчитан как 1 минута.\n",
    "Для веб-трафика отдельные сессии не считаются. Вместо этого общая сумма за месяц округляется в бо́льшую сторону. Если абонент использует 1025 мегабайт в этом месяце, с него возьмут плату за 2 гигабайта."
   ]
  },
  {
   "cell_type": "code",
   "execution_count": 25,
   "metadata": {},
   "outputs": [],
   "source": [
    "# избавимся от 0 в столбце duration, так как недозвоны не сыграют никакой роли в анализе данных\n",
    "calls_df = calls_df.query('duration > 0')"
   ]
  },
  {
   "cell_type": "code",
   "execution_count": 26,
   "metadata": {},
   "outputs": [],
   "source": [
    "# округлим секунды до минут\n",
    "calls_df['duration'] = round(calls_df['duration']).astype('int')"
   ]
  },
  {
   "cell_type": "code",
   "execution_count": 27,
   "metadata": {},
   "outputs": [
    {
     "data": {
      "image/png": "[encoded data removed]",
      "text/plain": [
       "<Figure size 432x288 with 1 Axes>"
      ]
     },
     "metadata": {
      "needs_background": "light"
     },
     "output_type": "display_data"
    }
   ],
   "source": [
    "# построим гистрограмму продолжительности телефонных разговоровb\n",
    "plt.hist(calls_df['duration'], bins=30)\n",
    "plt.grid()\n",
    "plt.title('Продолжительность телефонных разговоров')\n",
    "plt.xlabel('Время разговора, мин.')\n",
    "plt.ylabel('Частота')\n",
    "plt.show()"
   ]
  },
  {
   "cell_type": "markdown",
   "metadata": {},
   "source": [
    "Согласно графику, большинство людей разговаривает около 4 и 9 минут."
   ]
  },
  {
   "cell_type": "code",
   "execution_count": 28,
   "metadata": {},
   "outputs": [
    {
     "data": {
      "text/html": [
       "<div>\n",
       "<style scoped>\n",
       "    .dataframe tbody tr th:only-of-type {\n",
       "        vertical-align: middle;\n",
       "    }\n",
       "\n",
       "    .dataframe tbody tr th {\n",
       "        vertical-align: top;\n",
       "    }\n",
       "\n",
       "    .dataframe thead th {\n",
       "        text-align: right;\n",
       "    }\n",
       "</style>\n",
       "<table border=\"1\" class=\"dataframe\">\n",
       "  <thead>\n",
       "    <tr style=\"text-align: right;\">\n",
       "      <th></th>\n",
       "      <th></th>\n",
       "      <th>sum</th>\n",
       "      <th>count</th>\n",
       "    </tr>\n",
       "    <tr>\n",
       "      <th>user_id</th>\n",
       "      <th>month</th>\n",
       "      <th></th>\n",
       "      <th></th>\n",
       "    </tr>\n",
       "  </thead>\n",
       "  <tbody>\n",
       "    <tr>\n",
       "      <td rowspan=\"5\" valign=\"top\">1000</td>\n",
       "      <td>5</td>\n",
       "      <td>149</td>\n",
       "      <td>17</td>\n",
       "    </tr>\n",
       "    <tr>\n",
       "      <td>6</td>\n",
       "      <td>159</td>\n",
       "      <td>28</td>\n",
       "    </tr>\n",
       "    <tr>\n",
       "      <td>7</td>\n",
       "      <td>319</td>\n",
       "      <td>41</td>\n",
       "    </tr>\n",
       "    <tr>\n",
       "      <td>8</td>\n",
       "      <td>391</td>\n",
       "      <td>42</td>\n",
       "    </tr>\n",
       "    <tr>\n",
       "      <td>9</td>\n",
       "      <td>439</td>\n",
       "      <td>46</td>\n",
       "    </tr>\n",
       "    <tr>\n",
       "      <td>...</td>\n",
       "      <td>...</td>\n",
       "      <td>...</td>\n",
       "      <td>...</td>\n",
       "    </tr>\n",
       "    <tr>\n",
       "      <td>1498</td>\n",
       "      <td>10</td>\n",
       "      <td>230</td>\n",
       "      <td>30</td>\n",
       "    </tr>\n",
       "    <tr>\n",
       "      <td rowspan=\"4\" valign=\"top\">1499</td>\n",
       "      <td>9</td>\n",
       "      <td>64</td>\n",
       "      <td>8</td>\n",
       "    </tr>\n",
       "    <tr>\n",
       "      <td>10</td>\n",
       "      <td>429</td>\n",
       "      <td>44</td>\n",
       "    </tr>\n",
       "    <tr>\n",
       "      <td>11</td>\n",
       "      <td>574</td>\n",
       "      <td>62</td>\n",
       "    </tr>\n",
       "    <tr>\n",
       "      <td>12</td>\n",
       "      <td>467</td>\n",
       "      <td>56</td>\n",
       "    </tr>\n",
       "  </tbody>\n",
       "</table>\n",
       "<p>3168 rows × 2 columns</p>\n",
       "</div>"
      ],
      "text/plain": [
       "               sum  count\n",
       "user_id month            \n",
       "1000    5      149     17\n",
       "        6      159     28\n",
       "        7      319     41\n",
       "        8      391     42\n",
       "        9      439     46\n",
       "...            ...    ...\n",
       "1498    10     230     30\n",
       "1499    9       64      8\n",
       "        10     429     44\n",
       "        11     574     62\n",
       "        12     467     56\n",
       "\n",
       "[3168 rows x 2 columns]"
      ]
     },
     "execution_count": 28,
     "metadata": {},
     "output_type": "execute_result"
    }
   ],
   "source": [
    "# для нахождения количества израсходованных минут разговора по месяцам построим сводную таблицу\n",
    "calls_pivot = calls_df.pivot_table(index=['user_id', 'month'], values='duration', aggfunc=['sum', 'count'])\n",
    "calls_pivot.columns = ['sum', 'count']\n",
    "calls_pivot"
   ]
  },
  {
   "cell_type": "markdown",
   "metadata": {},
   "source": [
    "Мы видим, что количество минут и звонков у отдельных пользователей от месяца к месяцу может существенно отличаться."
   ]
  },
  {
   "cell_type": "code",
   "execution_count": 29,
   "metadata": {},
   "outputs": [
    {
     "data": {
      "text/html": [
       "<div>\n",
       "<style scoped>\n",
       "    .dataframe tbody tr th:only-of-type {\n",
       "        vertical-align: middle;\n",
       "    }\n",
       "\n",
       "    .dataframe tbody tr th {\n",
       "        vertical-align: top;\n",
       "    }\n",
       "\n",
       "    .dataframe thead th {\n",
       "        text-align: right;\n",
       "    }\n",
       "</style>\n",
       "<table border=\"1\" class=\"dataframe\">\n",
       "  <thead>\n",
       "    <tr style=\"text-align: right;\">\n",
       "      <th></th>\n",
       "      <th></th>\n",
       "      <th>message_date</th>\n",
       "    </tr>\n",
       "    <tr>\n",
       "      <th>user_id</th>\n",
       "      <th>month</th>\n",
       "      <th></th>\n",
       "    </tr>\n",
       "  </thead>\n",
       "  <tbody>\n",
       "    <tr>\n",
       "      <td rowspan=\"5\" valign=\"top\">1000</td>\n",
       "      <td>5</td>\n",
       "      <td>22</td>\n",
       "    </tr>\n",
       "    <tr>\n",
       "      <td>6</td>\n",
       "      <td>60</td>\n",
       "    </tr>\n",
       "    <tr>\n",
       "      <td>7</td>\n",
       "      <td>75</td>\n",
       "    </tr>\n",
       "    <tr>\n",
       "      <td>8</td>\n",
       "      <td>81</td>\n",
       "    </tr>\n",
       "    <tr>\n",
       "      <td>9</td>\n",
       "      <td>57</td>\n",
       "    </tr>\n",
       "    <tr>\n",
       "      <td>...</td>\n",
       "      <td>...</td>\n",
       "      <td>...</td>\n",
       "    </tr>\n",
       "    <tr>\n",
       "      <td>1498</td>\n",
       "      <td>10</td>\n",
       "      <td>42</td>\n",
       "    </tr>\n",
       "    <tr>\n",
       "      <td rowspan=\"4\" valign=\"top\">1499</td>\n",
       "      <td>9</td>\n",
       "      <td>11</td>\n",
       "    </tr>\n",
       "    <tr>\n",
       "      <td>10</td>\n",
       "      <td>48</td>\n",
       "    </tr>\n",
       "    <tr>\n",
       "      <td>11</td>\n",
       "      <td>59</td>\n",
       "    </tr>\n",
       "    <tr>\n",
       "      <td>12</td>\n",
       "      <td>66</td>\n",
       "    </tr>\n",
       "  </tbody>\n",
       "</table>\n",
       "<p>2717 rows × 1 columns</p>\n",
       "</div>"
      ],
      "text/plain": [
       "               message_date\n",
       "user_id month              \n",
       "1000    5                22\n",
       "        6                60\n",
       "        7                75\n",
       "        8                81\n",
       "        9                57\n",
       "...                     ...\n",
       "1498    10               42\n",
       "1499    9                11\n",
       "        10               48\n",
       "        11               59\n",
       "        12               66\n",
       "\n",
       "[2717 rows x 1 columns]"
      ]
     },
     "execution_count": 29,
     "metadata": {},
     "output_type": "execute_result"
    }
   ],
   "source": [
    "# для нахождения количества отправленных сообщений по месяцам построим сводную таблицу\n",
    "message_pivot = messages_df.pivot_table(index=['user_id', 'month'], values='message_date', aggfunc='count')\n",
    "message_pivot"
   ]
  },
  {
   "cell_type": "code",
   "execution_count": 30,
   "metadata": {},
   "outputs": [],
   "source": [
    "# переименуем столбец message_date в messages\n",
    "message_pivot.columns = ['messages']"
   ]
  },
  {
   "cell_type": "markdown",
   "metadata": {},
   "source": [
    "Для нахождения помесячной выручки с каждого пользователя необходимо создать новую таблицу, которая будет включать в себя необходимые столбцы из других таблиц."
   ]
  },
  {
   "cell_type": "code",
   "execution_count": 31,
   "metadata": {},
   "outputs": [
    {
     "data": {
      "text/html": [
       "<div>\n",
       "<style scoped>\n",
       "    .dataframe tbody tr th:only-of-type {\n",
       "        vertical-align: middle;\n",
       "    }\n",
       "\n",
       "    .dataframe tbody tr th {\n",
       "        vertical-align: top;\n",
       "    }\n",
       "\n",
       "    .dataframe thead th {\n",
       "        text-align: right;\n",
       "    }\n",
       "</style>\n",
       "<table border=\"1\" class=\"dataframe\">\n",
       "  <thead>\n",
       "    <tr style=\"text-align: right;\">\n",
       "      <th></th>\n",
       "      <th></th>\n",
       "      <th>mb_used</th>\n",
       "    </tr>\n",
       "    <tr>\n",
       "      <th>user_id</th>\n",
       "      <th>month</th>\n",
       "      <th></th>\n",
       "    </tr>\n",
       "  </thead>\n",
       "  <tbody>\n",
       "    <tr>\n",
       "      <td rowspan=\"5\" valign=\"top\">1000</td>\n",
       "      <td>5</td>\n",
       "      <td>2253.489990</td>\n",
       "    </tr>\n",
       "    <tr>\n",
       "      <td>6</td>\n",
       "      <td>23233.769531</td>\n",
       "    </tr>\n",
       "    <tr>\n",
       "      <td>7</td>\n",
       "      <td>14003.639648</td>\n",
       "    </tr>\n",
       "    <tr>\n",
       "      <td>8</td>\n",
       "      <td>14055.929688</td>\n",
       "    </tr>\n",
       "    <tr>\n",
       "      <td>9</td>\n",
       "      <td>14568.910156</td>\n",
       "    </tr>\n",
       "    <tr>\n",
       "      <td>...</td>\n",
       "      <td>...</td>\n",
       "      <td>...</td>\n",
       "    </tr>\n",
       "    <tr>\n",
       "      <td>1498</td>\n",
       "      <td>10</td>\n",
       "      <td>20579.359375</td>\n",
       "    </tr>\n",
       "    <tr>\n",
       "      <td rowspan=\"4\" valign=\"top\">1499</td>\n",
       "      <td>9</td>\n",
       "      <td>1845.750000</td>\n",
       "    </tr>\n",
       "    <tr>\n",
       "      <td>10</td>\n",
       "      <td>17788.509766</td>\n",
       "    </tr>\n",
       "    <tr>\n",
       "      <td>11</td>\n",
       "      <td>17963.310547</td>\n",
       "    </tr>\n",
       "    <tr>\n",
       "      <td>12</td>\n",
       "      <td>13055.580078</td>\n",
       "    </tr>\n",
       "  </tbody>\n",
       "</table>\n",
       "<p>3203 rows × 1 columns</p>\n",
       "</div>"
      ],
      "text/plain": [
       "                    mb_used\n",
       "user_id month              \n",
       "1000    5       2253.489990\n",
       "        6      23233.769531\n",
       "        7      14003.639648\n",
       "        8      14055.929688\n",
       "        9      14568.910156\n",
       "...                     ...\n",
       "1498    10     20579.359375\n",
       "1499    9       1845.750000\n",
       "        10     17788.509766\n",
       "        11     17963.310547\n",
       "        12     13055.580078\n",
       "\n",
       "[3203 rows x 1 columns]"
      ]
     },
     "execution_count": 31,
     "metadata": {},
     "output_type": "execute_result"
    }
   ],
   "source": [
    "# для нахождения количества расхожованного интернета по месяцам построим сводную таблицу\n",
    "internet_pivot = internet_df.pivot_table(index=['user_id', 'month'], values='mb_used', aggfunc='sum')\n",
    "internet_pivot"
   ]
  },
  {
   "cell_type": "code",
   "execution_count": 32,
   "metadata": {},
   "outputs": [
    {
     "data": {
      "text/html": [
       "<div>\n",
       "<style scoped>\n",
       "    .dataframe tbody tr th:only-of-type {\n",
       "        vertical-align: middle;\n",
       "    }\n",
       "\n",
       "    .dataframe tbody tr th {\n",
       "        vertical-align: top;\n",
       "    }\n",
       "\n",
       "    .dataframe thead th {\n",
       "        text-align: right;\n",
       "    }\n",
       "</style>\n",
       "<table border=\"1\" class=\"dataframe\">\n",
       "  <thead>\n",
       "    <tr style=\"text-align: right;\">\n",
       "      <th></th>\n",
       "      <th></th>\n",
       "      <th>mb_used</th>\n",
       "      <th>gb_used</th>\n",
       "    </tr>\n",
       "    <tr>\n",
       "      <th>user_id</th>\n",
       "      <th>month</th>\n",
       "      <th></th>\n",
       "      <th></th>\n",
       "    </tr>\n",
       "  </thead>\n",
       "  <tbody>\n",
       "    <tr>\n",
       "      <td rowspan=\"5\" valign=\"top\">1000</td>\n",
       "      <td>5</td>\n",
       "      <td>2253.489990</td>\n",
       "      <td>3.0</td>\n",
       "    </tr>\n",
       "    <tr>\n",
       "      <td>6</td>\n",
       "      <td>23233.769531</td>\n",
       "      <td>23.0</td>\n",
       "    </tr>\n",
       "    <tr>\n",
       "      <td>7</td>\n",
       "      <td>14003.639648</td>\n",
       "      <td>14.0</td>\n",
       "    </tr>\n",
       "    <tr>\n",
       "      <td>8</td>\n",
       "      <td>14055.929688</td>\n",
       "      <td>14.0</td>\n",
       "    </tr>\n",
       "    <tr>\n",
       "      <td>9</td>\n",
       "      <td>14568.910156</td>\n",
       "      <td>15.0</td>\n",
       "    </tr>\n",
       "    <tr>\n",
       "      <td>...</td>\n",
       "      <td>...</td>\n",
       "      <td>...</td>\n",
       "      <td>...</td>\n",
       "    </tr>\n",
       "    <tr>\n",
       "      <td>1498</td>\n",
       "      <td>10</td>\n",
       "      <td>20579.359375</td>\n",
       "      <td>21.0</td>\n",
       "    </tr>\n",
       "    <tr>\n",
       "      <td rowspan=\"4\" valign=\"top\">1499</td>\n",
       "      <td>9</td>\n",
       "      <td>1845.750000</td>\n",
       "      <td>2.0</td>\n",
       "    </tr>\n",
       "    <tr>\n",
       "      <td>10</td>\n",
       "      <td>17788.509766</td>\n",
       "      <td>18.0</td>\n",
       "    </tr>\n",
       "    <tr>\n",
       "      <td>11</td>\n",
       "      <td>17963.310547</td>\n",
       "      <td>18.0</td>\n",
       "    </tr>\n",
       "    <tr>\n",
       "      <td>12</td>\n",
       "      <td>13055.580078</td>\n",
       "      <td>13.0</td>\n",
       "    </tr>\n",
       "  </tbody>\n",
       "</table>\n",
       "<p>3203 rows × 2 columns</p>\n",
       "</div>"
      ],
      "text/plain": [
       "                    mb_used  gb_used\n",
       "user_id month                       \n",
       "1000    5       2253.489990      3.0\n",
       "        6      23233.769531     23.0\n",
       "        7      14003.639648     14.0\n",
       "        8      14055.929688     14.0\n",
       "        9      14568.910156     15.0\n",
       "...                     ...      ...\n",
       "1498    10     20579.359375     21.0\n",
       "1499    9       1845.750000      2.0\n",
       "        10     17788.509766     18.0\n",
       "        11     17963.310547     18.0\n",
       "        12     13055.580078     13.0\n",
       "\n",
       "[3203 rows x 2 columns]"
      ]
     },
     "execution_count": 32,
     "metadata": {},
     "output_type": "execute_result"
    }
   ],
   "source": [
    "# добавим столбец с гигабайтами\n",
    "internet_pivot['gb_used'] = np.ceil((internet_pivot['mb_used'] / 1024))\n",
    "internet_pivot"
   ]
  },
  {
   "cell_type": "code",
   "execution_count": 33,
   "metadata": {
    "scrolled": true
   },
   "outputs": [
    {
     "data": {
      "text/html": [
       "<div>\n",
       "<style scoped>\n",
       "    .dataframe tbody tr th:only-of-type {\n",
       "        vertical-align: middle;\n",
       "    }\n",
       "\n",
       "    .dataframe tbody tr th {\n",
       "        vertical-align: top;\n",
       "    }\n",
       "\n",
       "    .dataframe thead th {\n",
       "        text-align: right;\n",
       "    }\n",
       "</style>\n",
       "<table border=\"1\" class=\"dataframe\">\n",
       "  <thead>\n",
       "    <tr style=\"text-align: right;\">\n",
       "      <th></th>\n",
       "      <th>user_id</th>\n",
       "      <th>month</th>\n",
       "      <th>messages</th>\n",
       "      <th>sum</th>\n",
       "      <th>count</th>\n",
       "      <th>mb_used</th>\n",
       "      <th>gb_used</th>\n",
       "      <th>age</th>\n",
       "      <th>churn_date</th>\n",
       "      <th>city</th>\n",
       "      <th>first_name</th>\n",
       "      <th>last_name</th>\n",
       "      <th>reg_date</th>\n",
       "      <th>tariff</th>\n",
       "    </tr>\n",
       "  </thead>\n",
       "  <tbody>\n",
       "    <tr>\n",
       "      <td>0</td>\n",
       "      <td>1000</td>\n",
       "      <td>5</td>\n",
       "      <td>22.0</td>\n",
       "      <td>149.0</td>\n",
       "      <td>17.0</td>\n",
       "      <td>2253.489990</td>\n",
       "      <td>3.0</td>\n",
       "      <td>52</td>\n",
       "      <td>NaN</td>\n",
       "      <td>Краснодар</td>\n",
       "      <td>Рафаил</td>\n",
       "      <td>Верещагин</td>\n",
       "      <td>2018-05-25</td>\n",
       "      <td>ultra</td>\n",
       "    </tr>\n",
       "    <tr>\n",
       "      <td>1</td>\n",
       "      <td>1002</td>\n",
       "      <td>6</td>\n",
       "      <td>4.0</td>\n",
       "      <td>111.0</td>\n",
       "      <td>14.0</td>\n",
       "      <td>10856.820312</td>\n",
       "      <td>11.0</td>\n",
       "      <td>59</td>\n",
       "      <td>NaN</td>\n",
       "      <td>Стерлитамак</td>\n",
       "      <td>Евгений</td>\n",
       "      <td>Абрамович</td>\n",
       "      <td>2018-06-17</td>\n",
       "      <td>smart</td>\n",
       "    </tr>\n",
       "    <tr>\n",
       "      <td>2</td>\n",
       "      <td>1003</td>\n",
       "      <td>8</td>\n",
       "      <td>37.0</td>\n",
       "      <td>353.0</td>\n",
       "      <td>43.0</td>\n",
       "      <td>8565.209961</td>\n",
       "      <td>9.0</td>\n",
       "      <td>23</td>\n",
       "      <td>NaN</td>\n",
       "      <td>Москва</td>\n",
       "      <td>Белла</td>\n",
       "      <td>Белякова</td>\n",
       "      <td>2018-08-17</td>\n",
       "      <td>ultra</td>\n",
       "    </tr>\n",
       "    <tr>\n",
       "      <td>3</td>\n",
       "      <td>1004</td>\n",
       "      <td>5</td>\n",
       "      <td>95.0</td>\n",
       "      <td>32.0</td>\n",
       "      <td>7.0</td>\n",
       "      <td>13403.980469</td>\n",
       "      <td>14.0</td>\n",
       "      <td>68</td>\n",
       "      <td>NaN</td>\n",
       "      <td>Новокузнецк</td>\n",
       "      <td>Татьяна</td>\n",
       "      <td>Авдеенко</td>\n",
       "      <td>2018-05-14</td>\n",
       "      <td>ultra</td>\n",
       "    </tr>\n",
       "    <tr>\n",
       "      <td>4</td>\n",
       "      <td>1005</td>\n",
       "      <td>1</td>\n",
       "      <td>7.0</td>\n",
       "      <td>92.0</td>\n",
       "      <td>11.0</td>\n",
       "      <td>2727.969971</td>\n",
       "      <td>3.0</td>\n",
       "      <td>67</td>\n",
       "      <td>NaN</td>\n",
       "      <td>Набережные Челны</td>\n",
       "      <td>Афанасий</td>\n",
       "      <td>Горлов</td>\n",
       "      <td>2018-01-25</td>\n",
       "      <td>smart</td>\n",
       "    </tr>\n",
       "    <tr>\n",
       "      <td>...</td>\n",
       "      <td>...</td>\n",
       "      <td>...</td>\n",
       "      <td>...</td>\n",
       "      <td>...</td>\n",
       "      <td>...</td>\n",
       "      <td>...</td>\n",
       "      <td>...</td>\n",
       "      <td>...</td>\n",
       "      <td>...</td>\n",
       "      <td>...</td>\n",
       "      <td>...</td>\n",
       "      <td>...</td>\n",
       "      <td>...</td>\n",
       "      <td>...</td>\n",
       "    </tr>\n",
       "    <tr>\n",
       "      <td>493</td>\n",
       "      <td>1469</td>\n",
       "      <td>7</td>\n",
       "      <td>NaN</td>\n",
       "      <td>744.0</td>\n",
       "      <td>88.0</td>\n",
       "      <td>23165.960938</td>\n",
       "      <td>23.0</td>\n",
       "      <td>41</td>\n",
       "      <td>NaN</td>\n",
       "      <td>Сочи</td>\n",
       "      <td>Аксён</td>\n",
       "      <td>Абалкин</td>\n",
       "      <td>2018-07-06</td>\n",
       "      <td>ultra</td>\n",
       "    </tr>\n",
       "    <tr>\n",
       "      <td>494</td>\n",
       "      <td>1479</td>\n",
       "      <td>7</td>\n",
       "      <td>NaN</td>\n",
       "      <td>636.0</td>\n",
       "      <td>74.0</td>\n",
       "      <td>25872.720703</td>\n",
       "      <td>26.0</td>\n",
       "      <td>40</td>\n",
       "      <td>NaN</td>\n",
       "      <td>Хабаровск</td>\n",
       "      <td>Игорь</td>\n",
       "      <td>Богданов</td>\n",
       "      <td>2018-07-03</td>\n",
       "      <td>smart</td>\n",
       "    </tr>\n",
       "    <tr>\n",
       "      <td>495</td>\n",
       "      <td>1494</td>\n",
       "      <td>8</td>\n",
       "      <td>NaN</td>\n",
       "      <td>248.0</td>\n",
       "      <td>26.0</td>\n",
       "      <td>6590.750000</td>\n",
       "      <td>7.0</td>\n",
       "      <td>62</td>\n",
       "      <td>NaN</td>\n",
       "      <td>Омск</td>\n",
       "      <td>Ренат</td>\n",
       "      <td>Андропов</td>\n",
       "      <td>2018-08-17</td>\n",
       "      <td>smart</td>\n",
       "    </tr>\n",
       "    <tr>\n",
       "      <td>496</td>\n",
       "      <td>1240</td>\n",
       "      <td>2</td>\n",
       "      <td>NaN</td>\n",
       "      <td>NaN</td>\n",
       "      <td>NaN</td>\n",
       "      <td>959.510010</td>\n",
       "      <td>1.0</td>\n",
       "      <td>30</td>\n",
       "      <td>NaN</td>\n",
       "      <td>Воронеж</td>\n",
       "      <td>Зинаида</td>\n",
       "      <td>Шарова</td>\n",
       "      <td>2018-02-27</td>\n",
       "      <td>ultra</td>\n",
       "    </tr>\n",
       "    <tr>\n",
       "      <td>497</td>\n",
       "      <td>1476</td>\n",
       "      <td>4</td>\n",
       "      <td>NaN</td>\n",
       "      <td>NaN</td>\n",
       "      <td>NaN</td>\n",
       "      <td>530.780029</td>\n",
       "      <td>1.0</td>\n",
       "      <td>50</td>\n",
       "      <td>NaN</td>\n",
       "      <td>Москва</td>\n",
       "      <td>Валентина</td>\n",
       "      <td>Семенова</td>\n",
       "      <td>2018-04-30</td>\n",
       "      <td>ultra</td>\n",
       "    </tr>\n",
       "  </tbody>\n",
       "</table>\n",
       "<p>498 rows × 14 columns</p>\n",
       "</div>"
      ],
      "text/plain": [
       "     user_id  month  messages    sum  count       mb_used  gb_used  age  \\\n",
       "0       1000      5      22.0  149.0   17.0   2253.489990      3.0   52   \n",
       "1       1002      6       4.0  111.0   14.0  10856.820312     11.0   59   \n",
       "2       1003      8      37.0  353.0   43.0   8565.209961      9.0   23   \n",
       "3       1004      5      95.0   32.0    7.0  13403.980469     14.0   68   \n",
       "4       1005      1       7.0   92.0   11.0   2727.969971      3.0   67   \n",
       "..       ...    ...       ...    ...    ...           ...      ...  ...   \n",
       "493     1469      7       NaN  744.0   88.0  23165.960938     23.0   41   \n",
       "494     1479      7       NaN  636.0   74.0  25872.720703     26.0   40   \n",
       "495     1494      8       NaN  248.0   26.0   6590.750000      7.0   62   \n",
       "496     1240      2       NaN    NaN    NaN    959.510010      1.0   30   \n",
       "497     1476      4       NaN    NaN    NaN    530.780029      1.0   50   \n",
       "\n",
       "    churn_date              city first_name  last_name   reg_date tariff  \n",
       "0          NaN         Краснодар     Рафаил  Верещагин 2018-05-25  ultra  \n",
       "1          NaN       Стерлитамак    Евгений  Абрамович 2018-06-17  smart  \n",
       "2          NaN            Москва      Белла   Белякова 2018-08-17  ultra  \n",
       "3          NaN       Новокузнецк    Татьяна   Авдеенко 2018-05-14  ultra  \n",
       "4          NaN  Набережные Челны   Афанасий     Горлов 2018-01-25  smart  \n",
       "..         ...               ...        ...        ...        ...    ...  \n",
       "493        NaN              Сочи      Аксён    Абалкин 2018-07-06  ultra  \n",
       "494        NaN         Хабаровск      Игорь   Богданов 2018-07-03  smart  \n",
       "495        NaN              Омск      Ренат   Андропов 2018-08-17  smart  \n",
       "496        NaN           Воронеж    Зинаида     Шарова 2018-02-27  ultra  \n",
       "497        NaN            Москва  Валентина   Семенова 2018-04-30  ultra  \n",
       "\n",
       "[498 rows x 14 columns]"
      ]
     },
     "execution_count": 33,
     "metadata": {},
     "output_type": "execute_result"
    }
   ],
   "source": [
    "# объединим таблицы message_pivot и calls_pivot\n",
    "call_mes_df = message_pivot.merge(calls_pivot, on=['user_id', 'month'], how='outer')\n",
    "# объединим таблицы call_mes_df и internet_pivot\n",
    "all_df = call_mes_df.merge(internet_pivot, on=['user_id', 'month'], how='outer')\n",
    "# объединим таблицу all_df с информацией о пользователях\n",
    "all_df = all_df.merge(users_df, on=['user_id', 'month'], how='inner')\n",
    "all_df"
   ]
  },
  {
   "cell_type": "markdown",
   "metadata": {},
   "source": [
    "Мы видим, что количество пользователей уменьшилось (в изначальной таблице users_df их было 500 человек). Выведем на экран строчки, которые не попали в объединенную таблицу."
   ]
  },
  {
   "cell_type": "code",
   "execution_count": 34,
   "metadata": {},
   "outputs": [
    {
     "data": {
      "text/html": [
       "<div>\n",
       "<style scoped>\n",
       "    .dataframe tbody tr th:only-of-type {\n",
       "        vertical-align: middle;\n",
       "    }\n",
       "\n",
       "    .dataframe tbody tr th {\n",
       "        vertical-align: top;\n",
       "    }\n",
       "\n",
       "    .dataframe thead th {\n",
       "        text-align: right;\n",
       "    }\n",
       "</style>\n",
       "<table border=\"1\" class=\"dataframe\">\n",
       "  <thead>\n",
       "    <tr style=\"text-align: right;\">\n",
       "      <th></th>\n",
       "      <th>user_id</th>\n",
       "      <th>age</th>\n",
       "      <th>churn_date</th>\n",
       "      <th>city</th>\n",
       "      <th>first_name</th>\n",
       "      <th>last_name</th>\n",
       "      <th>reg_date</th>\n",
       "      <th>tariff</th>\n",
       "      <th>month</th>\n",
       "    </tr>\n",
       "  </thead>\n",
       "  <tbody>\n",
       "    <tr>\n",
       "      <td>128</td>\n",
       "      <td>1128</td>\n",
       "      <td>51</td>\n",
       "      <td>2018-12-23</td>\n",
       "      <td>Волжский</td>\n",
       "      <td>Ксения</td>\n",
       "      <td>Агаева</td>\n",
       "      <td>2018-12-15</td>\n",
       "      <td>ultra</td>\n",
       "      <td>12</td>\n",
       "    </tr>\n",
       "    <tr>\n",
       "      <td>371</td>\n",
       "      <td>1371</td>\n",
       "      <td>50</td>\n",
       "      <td>2018-12-30</td>\n",
       "      <td>Омск</td>\n",
       "      <td>Ириней</td>\n",
       "      <td>Трофимов</td>\n",
       "      <td>2018-12-25</td>\n",
       "      <td>smart</td>\n",
       "      <td>12</td>\n",
       "    </tr>\n",
       "  </tbody>\n",
       "</table>\n",
       "</div>"
      ],
      "text/plain": [
       "     user_id  age  churn_date      city first_name last_name   reg_date  \\\n",
       "128     1128   51  2018-12-23  Волжский     Ксения    Агаева 2018-12-15   \n",
       "371     1371   50  2018-12-30      Омск     Ириней  Трофимов 2018-12-25   \n",
       "\n",
       "    tariff  month  \n",
       "128  ultra     12  \n",
       "371  smart     12  "
      ]
     },
     "execution_count": 34,
     "metadata": {},
     "output_type": "execute_result"
    }
   ],
   "source": [
    "users_df[users_df['user_id'].isin(all_df['user_id'].unique()) == False]"
   ]
  },
  {
   "cell_type": "markdown",
   "metadata": {},
   "source": [
    "Мы видим, что один пользователь пользовался тарифом \"Ультра\" всего 8 дней, а другой - тарифом \"Смарт\" 5 дней."
   ]
  },
  {
   "cell_type": "code",
   "execution_count": 35,
   "metadata": {},
   "outputs": [
    {
     "data": {
      "text/plain": [
       "user_id         0\n",
       "month           0\n",
       "messages       85\n",
       "sum             9\n",
       "count           9\n",
       "mb_used         4\n",
       "gb_used         4\n",
       "age             0\n",
       "churn_date    462\n",
       "city            0\n",
       "first_name      0\n",
       "last_name       0\n",
       "reg_date        0\n",
       "tariff          0\n",
       "dtype: int64"
      ]
     },
     "execution_count": 35,
     "metadata": {},
     "output_type": "execute_result"
    }
   ],
   "source": [
    "# узнаем количество пропусков в полученной таблице\n",
    "all_df.isna().sum()"
   ]
  },
  {
   "cell_type": "markdown",
   "metadata": {},
   "source": [
    "Появление одних пропусков мы описали на первом этапе. Другие могли возникнуть в результате объединения таблиц. Для дальнейших вычислений заменим их на 0."
   ]
  },
  {
   "cell_type": "code",
   "execution_count": 36,
   "metadata": {},
   "outputs": [
    {
     "data": {
      "text/html": [
       "<div>\n",
       "<style scoped>\n",
       "    .dataframe tbody tr th:only-of-type {\n",
       "        vertical-align: middle;\n",
       "    }\n",
       "\n",
       "    .dataframe tbody tr th {\n",
       "        vertical-align: top;\n",
       "    }\n",
       "\n",
       "    .dataframe thead th {\n",
       "        text-align: right;\n",
       "    }\n",
       "</style>\n",
       "<table border=\"1\" class=\"dataframe\">\n",
       "  <thead>\n",
       "    <tr style=\"text-align: right;\">\n",
       "      <th></th>\n",
       "      <th>user_id</th>\n",
       "      <th>month</th>\n",
       "      <th>messages</th>\n",
       "      <th>sum</th>\n",
       "      <th>count</th>\n",
       "      <th>mb_used</th>\n",
       "      <th>gb_used</th>\n",
       "      <th>age</th>\n",
       "      <th>churn_date</th>\n",
       "      <th>city</th>\n",
       "      <th>first_name</th>\n",
       "      <th>last_name</th>\n",
       "      <th>reg_date</th>\n",
       "      <th>tariff</th>\n",
       "    </tr>\n",
       "  </thead>\n",
       "  <tbody>\n",
       "    <tr>\n",
       "      <td>0</td>\n",
       "      <td>1000</td>\n",
       "      <td>5</td>\n",
       "      <td>22.0</td>\n",
       "      <td>149.0</td>\n",
       "      <td>17.0</td>\n",
       "      <td>2253.489990</td>\n",
       "      <td>3.0</td>\n",
       "      <td>52</td>\n",
       "      <td>0</td>\n",
       "      <td>Краснодар</td>\n",
       "      <td>Рафаил</td>\n",
       "      <td>Верещагин</td>\n",
       "      <td>2018-05-25</td>\n",
       "      <td>ultra</td>\n",
       "    </tr>\n",
       "    <tr>\n",
       "      <td>413</td>\n",
       "      <td>1001</td>\n",
       "      <td>11</td>\n",
       "      <td>0.0</td>\n",
       "      <td>410.0</td>\n",
       "      <td>45.0</td>\n",
       "      <td>18429.339844</td>\n",
       "      <td>18.0</td>\n",
       "      <td>41</td>\n",
       "      <td>0</td>\n",
       "      <td>Москва</td>\n",
       "      <td>Иван</td>\n",
       "      <td>Ежов</td>\n",
       "      <td>2018-11-01</td>\n",
       "      <td>smart</td>\n",
       "    </tr>\n",
       "    <tr>\n",
       "      <td>1</td>\n",
       "      <td>1002</td>\n",
       "      <td>6</td>\n",
       "      <td>4.0</td>\n",
       "      <td>111.0</td>\n",
       "      <td>14.0</td>\n",
       "      <td>10856.820312</td>\n",
       "      <td>11.0</td>\n",
       "      <td>59</td>\n",
       "      <td>0</td>\n",
       "      <td>Стерлитамак</td>\n",
       "      <td>Евгений</td>\n",
       "      <td>Абрамович</td>\n",
       "      <td>2018-06-17</td>\n",
       "      <td>smart</td>\n",
       "    </tr>\n",
       "    <tr>\n",
       "      <td>2</td>\n",
       "      <td>1003</td>\n",
       "      <td>8</td>\n",
       "      <td>37.0</td>\n",
       "      <td>353.0</td>\n",
       "      <td>43.0</td>\n",
       "      <td>8565.209961</td>\n",
       "      <td>9.0</td>\n",
       "      <td>23</td>\n",
       "      <td>0</td>\n",
       "      <td>Москва</td>\n",
       "      <td>Белла</td>\n",
       "      <td>Белякова</td>\n",
       "      <td>2018-08-17</td>\n",
       "      <td>ultra</td>\n",
       "    </tr>\n",
       "    <tr>\n",
       "      <td>3</td>\n",
       "      <td>1004</td>\n",
       "      <td>5</td>\n",
       "      <td>95.0</td>\n",
       "      <td>32.0</td>\n",
       "      <td>7.0</td>\n",
       "      <td>13403.980469</td>\n",
       "      <td>14.0</td>\n",
       "      <td>68</td>\n",
       "      <td>0</td>\n",
       "      <td>Новокузнецк</td>\n",
       "      <td>Татьяна</td>\n",
       "      <td>Авдеенко</td>\n",
       "      <td>2018-05-14</td>\n",
       "      <td>ultra</td>\n",
       "    </tr>\n",
       "    <tr>\n",
       "      <td>...</td>\n",
       "      <td>...</td>\n",
       "      <td>...</td>\n",
       "      <td>...</td>\n",
       "      <td>...</td>\n",
       "      <td>...</td>\n",
       "      <td>...</td>\n",
       "      <td>...</td>\n",
       "      <td>...</td>\n",
       "      <td>...</td>\n",
       "      <td>...</td>\n",
       "      <td>...</td>\n",
       "      <td>...</td>\n",
       "      <td>...</td>\n",
       "      <td>...</td>\n",
       "    </tr>\n",
       "    <tr>\n",
       "      <td>408</td>\n",
       "      <td>1495</td>\n",
       "      <td>8</td>\n",
       "      <td>13.0</td>\n",
       "      <td>88.0</td>\n",
       "      <td>13.0</td>\n",
       "      <td>2614.070068</td>\n",
       "      <td>3.0</td>\n",
       "      <td>65</td>\n",
       "      <td>0</td>\n",
       "      <td>Иркутск</td>\n",
       "      <td>Авксентий</td>\n",
       "      <td>Фокин</td>\n",
       "      <td>2018-08-28</td>\n",
       "      <td>ultra</td>\n",
       "    </tr>\n",
       "    <tr>\n",
       "      <td>409</td>\n",
       "      <td>1496</td>\n",
       "      <td>1</td>\n",
       "      <td>9.0</td>\n",
       "      <td>45.0</td>\n",
       "      <td>6.0</td>\n",
       "      <td>3762.729980</td>\n",
       "      <td>4.0</td>\n",
       "      <td>36</td>\n",
       "      <td>0</td>\n",
       "      <td>Вологда</td>\n",
       "      <td>Трифон</td>\n",
       "      <td>Блохин</td>\n",
       "      <td>2018-01-27</td>\n",
       "      <td>smart</td>\n",
       "    </tr>\n",
       "    <tr>\n",
       "      <td>410</td>\n",
       "      <td>1497</td>\n",
       "      <td>10</td>\n",
       "      <td>20.0</td>\n",
       "      <td>461.0</td>\n",
       "      <td>50.0</td>\n",
       "      <td>11500.290039</td>\n",
       "      <td>12.0</td>\n",
       "      <td>32</td>\n",
       "      <td>0</td>\n",
       "      <td>Челябинск</td>\n",
       "      <td>Каролина</td>\n",
       "      <td>Агеева</td>\n",
       "      <td>2018-10-09</td>\n",
       "      <td>smart</td>\n",
       "    </tr>\n",
       "    <tr>\n",
       "      <td>411</td>\n",
       "      <td>1498</td>\n",
       "      <td>7</td>\n",
       "      <td>20.0</td>\n",
       "      <td>168.0</td>\n",
       "      <td>20.0</td>\n",
       "      <td>7476.240234</td>\n",
       "      <td>8.0</td>\n",
       "      <td>68</td>\n",
       "      <td>2018-10-25</td>\n",
       "      <td>Владикавказ</td>\n",
       "      <td>Всеволод</td>\n",
       "      <td>Акимчин</td>\n",
       "      <td>2018-07-19</td>\n",
       "      <td>smart</td>\n",
       "    </tr>\n",
       "    <tr>\n",
       "      <td>412</td>\n",
       "      <td>1499</td>\n",
       "      <td>9</td>\n",
       "      <td>11.0</td>\n",
       "      <td>64.0</td>\n",
       "      <td>8.0</td>\n",
       "      <td>1845.750000</td>\n",
       "      <td>2.0</td>\n",
       "      <td>35</td>\n",
       "      <td>0</td>\n",
       "      <td>Пермь</td>\n",
       "      <td>Гектор</td>\n",
       "      <td>Корнилов</td>\n",
       "      <td>2018-09-27</td>\n",
       "      <td>smart</td>\n",
       "    </tr>\n",
       "  </tbody>\n",
       "</table>\n",
       "<p>498 rows × 14 columns</p>\n",
       "</div>"
      ],
      "text/plain": [
       "     user_id  month  messages    sum  count       mb_used  gb_used  age  \\\n",
       "0       1000      5      22.0  149.0   17.0   2253.489990      3.0   52   \n",
       "413     1001     11       0.0  410.0   45.0  18429.339844     18.0   41   \n",
       "1       1002      6       4.0  111.0   14.0  10856.820312     11.0   59   \n",
       "2       1003      8      37.0  353.0   43.0   8565.209961      9.0   23   \n",
       "3       1004      5      95.0   32.0    7.0  13403.980469     14.0   68   \n",
       "..       ...    ...       ...    ...    ...           ...      ...  ...   \n",
       "408     1495      8      13.0   88.0   13.0   2614.070068      3.0   65   \n",
       "409     1496      1       9.0   45.0    6.0   3762.729980      4.0   36   \n",
       "410     1497     10      20.0  461.0   50.0  11500.290039     12.0   32   \n",
       "411     1498      7      20.0  168.0   20.0   7476.240234      8.0   68   \n",
       "412     1499      9      11.0   64.0    8.0   1845.750000      2.0   35   \n",
       "\n",
       "     churn_date         city first_name  last_name   reg_date tariff  \n",
       "0             0    Краснодар     Рафаил  Верещагин 2018-05-25  ultra  \n",
       "413           0       Москва       Иван       Ежов 2018-11-01  smart  \n",
       "1             0  Стерлитамак    Евгений  Абрамович 2018-06-17  smart  \n",
       "2             0       Москва      Белла   Белякова 2018-08-17  ultra  \n",
       "3             0  Новокузнецк    Татьяна   Авдеенко 2018-05-14  ultra  \n",
       "..          ...          ...        ...        ...        ...    ...  \n",
       "408           0      Иркутск  Авксентий      Фокин 2018-08-28  ultra  \n",
       "409           0      Вологда     Трифон     Блохин 2018-01-27  smart  \n",
       "410           0    Челябинск   Каролина     Агеева 2018-10-09  smart  \n",
       "411  2018-10-25  Владикавказ   Всеволод    Акимчин 2018-07-19  smart  \n",
       "412           0        Пермь     Гектор   Корнилов 2018-09-27  smart  \n",
       "\n",
       "[498 rows x 14 columns]"
      ]
     },
     "execution_count": 36,
     "metadata": {},
     "output_type": "execute_result"
    }
   ],
   "source": [
    "# заменим NaN на 0 и отсортируем таблицу по возрастанию номера user_id\n",
    "all_df = all_df.fillna(0).sort_values(by='user_id')\n",
    "all_df"
   ]
  },
  {
   "cell_type": "code",
   "execution_count": 37,
   "metadata": {},
   "outputs": [],
   "source": [
    "# удалим ненужные столбцы, которые нам не понадобятся для расчет выручки\n",
    "del all_df['age']\n",
    "del all_df['churn_date']\n",
    "del all_df['first_name']\n",
    "del all_df['last_name']\n",
    "del all_df['reg_date']\n",
    "del all_df['mb_used']"
   ]
  },
  {
   "cell_type": "code",
   "execution_count": 38,
   "metadata": {},
   "outputs": [
    {
     "data": {
      "text/html": [
       "<div>\n",
       "<style scoped>\n",
       "    .dataframe tbody tr th:only-of-type {\n",
       "        vertical-align: middle;\n",
       "    }\n",
       "\n",
       "    .dataframe tbody tr th {\n",
       "        vertical-align: top;\n",
       "    }\n",
       "\n",
       "    .dataframe thead th {\n",
       "        text-align: right;\n",
       "    }\n",
       "</style>\n",
       "<table border=\"1\" class=\"dataframe\">\n",
       "  <thead>\n",
       "    <tr style=\"text-align: right;\">\n",
       "      <th></th>\n",
       "      <th>user_id</th>\n",
       "      <th>month</th>\n",
       "      <th>messages</th>\n",
       "      <th>sum</th>\n",
       "      <th>count</th>\n",
       "      <th>gb_used</th>\n",
       "      <th>city</th>\n",
       "      <th>tariff</th>\n",
       "    </tr>\n",
       "  </thead>\n",
       "  <tbody>\n",
       "    <tr>\n",
       "      <td>0</td>\n",
       "      <td>1000</td>\n",
       "      <td>5</td>\n",
       "      <td>22.0</td>\n",
       "      <td>149.0</td>\n",
       "      <td>17.0</td>\n",
       "      <td>3.0</td>\n",
       "      <td>Краснодар</td>\n",
       "      <td>ultra</td>\n",
       "    </tr>\n",
       "    <tr>\n",
       "      <td>413</td>\n",
       "      <td>1001</td>\n",
       "      <td>11</td>\n",
       "      <td>0.0</td>\n",
       "      <td>410.0</td>\n",
       "      <td>45.0</td>\n",
       "      <td>18.0</td>\n",
       "      <td>Москва</td>\n",
       "      <td>smart</td>\n",
       "    </tr>\n",
       "    <tr>\n",
       "      <td>1</td>\n",
       "      <td>1002</td>\n",
       "      <td>6</td>\n",
       "      <td>4.0</td>\n",
       "      <td>111.0</td>\n",
       "      <td>14.0</td>\n",
       "      <td>11.0</td>\n",
       "      <td>Стерлитамак</td>\n",
       "      <td>smart</td>\n",
       "    </tr>\n",
       "    <tr>\n",
       "      <td>2</td>\n",
       "      <td>1003</td>\n",
       "      <td>8</td>\n",
       "      <td>37.0</td>\n",
       "      <td>353.0</td>\n",
       "      <td>43.0</td>\n",
       "      <td>9.0</td>\n",
       "      <td>Москва</td>\n",
       "      <td>ultra</td>\n",
       "    </tr>\n",
       "    <tr>\n",
       "      <td>3</td>\n",
       "      <td>1004</td>\n",
       "      <td>5</td>\n",
       "      <td>95.0</td>\n",
       "      <td>32.0</td>\n",
       "      <td>7.0</td>\n",
       "      <td>14.0</td>\n",
       "      <td>Новокузнецк</td>\n",
       "      <td>ultra</td>\n",
       "    </tr>\n",
       "  </tbody>\n",
       "</table>\n",
       "</div>"
      ],
      "text/plain": [
       "     user_id  month  messages    sum  count  gb_used         city tariff\n",
       "0       1000      5      22.0  149.0   17.0      3.0    Краснодар  ultra\n",
       "413     1001     11       0.0  410.0   45.0     18.0       Москва  smart\n",
       "1       1002      6       4.0  111.0   14.0     11.0  Стерлитамак  smart\n",
       "2       1003      8      37.0  353.0   43.0      9.0       Москва  ultra\n",
       "3       1004      5      95.0   32.0    7.0     14.0  Новокузнецк  ultra"
      ]
     },
     "execution_count": 38,
     "metadata": {},
     "output_type": "execute_result"
    }
   ],
   "source": [
    "# посмотрим на отредактированную таблицу\n",
    "all_df.head()"
   ]
  },
  {
   "cell_type": "markdown",
   "metadata": {},
   "source": [
    "Перед тем, как построим функцию для вычисления выручки, переведем Mb в Gb в таблице с тарифами для работы в одной системе координат."
   ]
  },
  {
   "cell_type": "code",
   "execution_count": 39,
   "metadata": {},
   "outputs": [],
   "source": [
    "# переведем мегабайты в гигабайты в таблице с тарифами\n",
    "tariffs_df['gb_per_month_included'] = tariffs_df['mb_per_month_included'] / 1024"
   ]
  },
  {
   "cell_type": "code",
   "execution_count": 40,
   "metadata": {},
   "outputs": [],
   "source": [
    "# построим функцию для расчета помесячной выручки с каждого пользователя\n",
    "def income(row):\n",
    "    messages = row['messages'] # сократим запись, добавив all_df['messages'] в новую переменную\n",
    "    duration = row['sum'] # сократим запись, добавив all_df['duration'] в новую переменную\n",
    "    internet = row['gb_used'] # сократим запись, добавив all_df['gb_used'] в новую переменную\n",
    "    tariff = row['tariff'] # сократим запись, добавив all_df['tariff'] в новую переменную\n",
    "    # посчитаем количество перерасходования минут, гигабайт и сообщений по тарифу smart\n",
    "    if tariff == 'smart':\n",
    "        extra_messages = messages - tariffs_df.loc[0, 'messages_included']\n",
    "        extra_duration = duration - tariffs_df.loc[0, 'minutes_included']\n",
    "        extra_internet = internet - tariffs_df.loc[0, 'gb_per_month_included']\n",
    "        # посчитаем выручку по тарифу smart\n",
    "        if extra_messages < 0:\n",
    "            extra_messages = 0\n",
    "        if extra_duration < 0:\n",
    "            extra_duration = 0\n",
    "        if extra_internet < 0:\n",
    "            extra_internet = 0\n",
    "        return((tariffs_df.loc[0, 'rub_per_message'] * extra_messages) +\n",
    "              (tariffs_df.loc[0, 'rub_per_minute'] * extra_duration) +\n",
    "                (tariffs_df.loc[0, 'rub_per_gb'] * extra_internet) +\n",
    "              (tariffs_df.loc[0, 'rub_monthly_fee']))\n",
    "     # посчитаем количество перерасходования минут, гигабайт и сообщений по тарифу ultra\n",
    "    else:\n",
    "        extra_messages = messages - tariffs_df.loc[1, 'messages_included']\n",
    "        extra_duration = duration - tariffs_df.loc[1, 'minutes_included']\n",
    "        extra_internet = internet - tariffs_df.loc[1, 'gb_per_month_included']\n",
    "        # посчитаем выручку по тарифу ultra\n",
    "        if extra_messages < 0:\n",
    "            extra_messages = 0\n",
    "        if extra_duration < 0:\n",
    "            extra_duration = 0\n",
    "        if extra_internet < 0:\n",
    "            extra_internet = 0\n",
    "        return((tariffs_df.loc[1, 'rub_per_message'] * extra_messages) +\n",
    "              (tariffs_df.loc[1, 'rub_per_minute'] * extra_duration) +\n",
    "                (tariffs_df.loc[1, 'rub_per_gb'] * extra_internet) +\n",
    "               (tariffs_df.loc[1, 'rub_monthly_fee']))"
   ]
  },
  {
   "cell_type": "code",
   "execution_count": 41,
   "metadata": {},
   "outputs": [
    {
     "data": {
      "text/html": [
       "<div>\n",
       "<style scoped>\n",
       "    .dataframe tbody tr th:only-of-type {\n",
       "        vertical-align: middle;\n",
       "    }\n",
       "\n",
       "    .dataframe tbody tr th {\n",
       "        vertical-align: top;\n",
       "    }\n",
       "\n",
       "    .dataframe thead th {\n",
       "        text-align: right;\n",
       "    }\n",
       "</style>\n",
       "<table border=\"1\" class=\"dataframe\">\n",
       "  <thead>\n",
       "    <tr style=\"text-align: right;\">\n",
       "      <th></th>\n",
       "      <th>user_id</th>\n",
       "      <th>month</th>\n",
       "      <th>messages</th>\n",
       "      <th>sum</th>\n",
       "      <th>count</th>\n",
       "      <th>gb_used</th>\n",
       "      <th>city</th>\n",
       "      <th>tariff</th>\n",
       "      <th>income</th>\n",
       "    </tr>\n",
       "  </thead>\n",
       "  <tbody>\n",
       "    <tr>\n",
       "      <td>0</td>\n",
       "      <td>1000</td>\n",
       "      <td>5</td>\n",
       "      <td>22.0</td>\n",
       "      <td>149.0</td>\n",
       "      <td>17.0</td>\n",
       "      <td>3.0</td>\n",
       "      <td>Краснодар</td>\n",
       "      <td>ultra</td>\n",
       "      <td>1950.0</td>\n",
       "    </tr>\n",
       "    <tr>\n",
       "      <td>413</td>\n",
       "      <td>1001</td>\n",
       "      <td>11</td>\n",
       "      <td>0.0</td>\n",
       "      <td>410.0</td>\n",
       "      <td>45.0</td>\n",
       "      <td>18.0</td>\n",
       "      <td>Москва</td>\n",
       "      <td>smart</td>\n",
       "      <td>1150.0</td>\n",
       "    </tr>\n",
       "    <tr>\n",
       "      <td>1</td>\n",
       "      <td>1002</td>\n",
       "      <td>6</td>\n",
       "      <td>4.0</td>\n",
       "      <td>111.0</td>\n",
       "      <td>14.0</td>\n",
       "      <td>11.0</td>\n",
       "      <td>Стерлитамак</td>\n",
       "      <td>smart</td>\n",
       "      <td>550.0</td>\n",
       "    </tr>\n",
       "    <tr>\n",
       "      <td>2</td>\n",
       "      <td>1003</td>\n",
       "      <td>8</td>\n",
       "      <td>37.0</td>\n",
       "      <td>353.0</td>\n",
       "      <td>43.0</td>\n",
       "      <td>9.0</td>\n",
       "      <td>Москва</td>\n",
       "      <td>ultra</td>\n",
       "      <td>1950.0</td>\n",
       "    </tr>\n",
       "    <tr>\n",
       "      <td>3</td>\n",
       "      <td>1004</td>\n",
       "      <td>5</td>\n",
       "      <td>95.0</td>\n",
       "      <td>32.0</td>\n",
       "      <td>7.0</td>\n",
       "      <td>14.0</td>\n",
       "      <td>Новокузнецк</td>\n",
       "      <td>ultra</td>\n",
       "      <td>1950.0</td>\n",
       "    </tr>\n",
       "  </tbody>\n",
       "</table>\n",
       "</div>"
      ],
      "text/plain": [
       "     user_id  month  messages    sum  count  gb_used         city tariff  \\\n",
       "0       1000      5      22.0  149.0   17.0      3.0    Краснодар  ultra   \n",
       "413     1001     11       0.0  410.0   45.0     18.0       Москва  smart   \n",
       "1       1002      6       4.0  111.0   14.0     11.0  Стерлитамак  smart   \n",
       "2       1003      8      37.0  353.0   43.0      9.0       Москва  ultra   \n",
       "3       1004      5      95.0   32.0    7.0     14.0  Новокузнецк  ultra   \n",
       "\n",
       "     income  \n",
       "0    1950.0  \n",
       "413  1150.0  \n",
       "1     550.0  \n",
       "2    1950.0  \n",
       "3    1950.0  "
      ]
     },
     "execution_count": 41,
     "metadata": {},
     "output_type": "execute_result"
    }
   ],
   "source": [
    "# добавим в таблицу all_df с выручкой по каждому тарифу\n",
    "all_df['income'] = all_df.apply(income, axis=1)\n",
    "all_df.head()"
   ]
  },
  {
   "cell_type": "markdown",
   "metadata": {},
   "source": [
    "Таким образом, в результате данного этапа анализа данных были изменены типы данны, заменены пропуски, добавлены новые столбцы с месяцами, мегабайты переведены в гигабайты. Также на данном этапе было рассчитано количество сделанных звонков и израсходованных минут разговора по месяцам, количество отправленных сообщений по месяцам, объем израсходованного интернет-трафика по месяцам и помесячная выручка с каждого пользователя."
   ]
  },
  {
   "cell_type": "markdown",
   "metadata": {},
   "source": [
    "## Анализ поведения клиентов "
   ]
  },
  {
   "cell_type": "markdown",
   "metadata": {},
   "source": [
    "Далее рассчитаем, сколько минут разговора, сколько сообщений и какой объем интернет-трафика требуется пользователям каждого тарифа в месяц. В этом нам поможет вычисление среднего значения, дисперсии и стандартного отклонения. Гистограммы помогут визуализировать информацию."
   ]
  },
  {
   "cell_type": "code",
   "execution_count": 42,
   "metadata": {},
   "outputs": [
    {
     "data": {
      "text/html": [
       "<div>\n",
       "<style scoped>\n",
       "    .dataframe tbody tr th:only-of-type {\n",
       "        vertical-align: middle;\n",
       "    }\n",
       "\n",
       "    .dataframe tbody tr th {\n",
       "        vertical-align: top;\n",
       "    }\n",
       "\n",
       "    .dataframe thead th {\n",
       "        text-align: right;\n",
       "    }\n",
       "</style>\n",
       "<table border=\"1\" class=\"dataframe\">\n",
       "  <thead>\n",
       "    <tr style=\"text-align: right;\">\n",
       "      <th></th>\n",
       "      <th>user_id</th>\n",
       "      <th>month</th>\n",
       "      <th>messages</th>\n",
       "      <th>sum</th>\n",
       "      <th>count</th>\n",
       "      <th>gb_used</th>\n",
       "      <th>income</th>\n",
       "    </tr>\n",
       "  </thead>\n",
       "  <tbody>\n",
       "    <tr>\n",
       "      <td>count</td>\n",
       "      <td>350.000000</td>\n",
       "      <td>350.000000</td>\n",
       "      <td>350.000000</td>\n",
       "      <td>350.000000</td>\n",
       "      <td>350.000000</td>\n",
       "      <td>350.000000</td>\n",
       "      <td>350.000000</td>\n",
       "    </tr>\n",
       "    <tr>\n",
       "      <td>mean</td>\n",
       "      <td>1243.771429</td>\n",
       "      <td>6.565714</td>\n",
       "      <td>19.334286</td>\n",
       "      <td>230.720000</td>\n",
       "      <td>27.182857</td>\n",
       "      <td>9.737143</td>\n",
       "      <td>698.237143</td>\n",
       "    </tr>\n",
       "    <tr>\n",
       "      <td>std</td>\n",
       "      <td>145.033439</td>\n",
       "      <td>3.417463</td>\n",
       "      <td>20.791080</td>\n",
       "      <td>152.638706</td>\n",
       "      <td>17.812160</td>\n",
       "      <td>5.701208</td>\n",
       "      <td>398.683864</td>\n",
       "    </tr>\n",
       "    <tr>\n",
       "      <td>min</td>\n",
       "      <td>1001.000000</td>\n",
       "      <td>1.000000</td>\n",
       "      <td>0.000000</td>\n",
       "      <td>0.000000</td>\n",
       "      <td>0.000000</td>\n",
       "      <td>0.000000</td>\n",
       "      <td>550.000000</td>\n",
       "    </tr>\n",
       "    <tr>\n",
       "      <td>25%</td>\n",
       "      <td>1119.500000</td>\n",
       "      <td>4.000000</td>\n",
       "      <td>3.000000</td>\n",
       "      <td>104.000000</td>\n",
       "      <td>12.000000</td>\n",
       "      <td>5.000000</td>\n",
       "      <td>550.000000</td>\n",
       "    </tr>\n",
       "    <tr>\n",
       "      <td>50%</td>\n",
       "      <td>1235.500000</td>\n",
       "      <td>7.000000</td>\n",
       "      <td>13.000000</td>\n",
       "      <td>211.500000</td>\n",
       "      <td>25.000000</td>\n",
       "      <td>9.000000</td>\n",
       "      <td>550.000000</td>\n",
       "    </tr>\n",
       "    <tr>\n",
       "      <td>75%</td>\n",
       "      <td>1371.500000</td>\n",
       "      <td>10.000000</td>\n",
       "      <td>29.000000</td>\n",
       "      <td>327.500000</td>\n",
       "      <td>39.000000</td>\n",
       "      <td>13.000000</td>\n",
       "      <td>552.250000</td>\n",
       "    </tr>\n",
       "    <tr>\n",
       "      <td>max</td>\n",
       "      <td>1499.000000</td>\n",
       "      <td>12.000000</td>\n",
       "      <td>103.000000</td>\n",
       "      <td>665.000000</td>\n",
       "      <td>82.000000</td>\n",
       "      <td>26.000000</td>\n",
       "      <td>3158.000000</td>\n",
       "    </tr>\n",
       "  </tbody>\n",
       "</table>\n",
       "</div>"
      ],
      "text/plain": [
       "           user_id       month    messages         sum       count  \\\n",
       "count   350.000000  350.000000  350.000000  350.000000  350.000000   \n",
       "mean   1243.771429    6.565714   19.334286  230.720000   27.182857   \n",
       "std     145.033439    3.417463   20.791080  152.638706   17.812160   \n",
       "min    1001.000000    1.000000    0.000000    0.000000    0.000000   \n",
       "25%    1119.500000    4.000000    3.000000  104.000000   12.000000   \n",
       "50%    1235.500000    7.000000   13.000000  211.500000   25.000000   \n",
       "75%    1371.500000   10.000000   29.000000  327.500000   39.000000   \n",
       "max    1499.000000   12.000000  103.000000  665.000000   82.000000   \n",
       "\n",
       "          gb_used       income  \n",
       "count  350.000000   350.000000  \n",
       "mean     9.737143   698.237143  \n",
       "std      5.701208   398.683864  \n",
       "min      0.000000   550.000000  \n",
       "25%      5.000000   550.000000  \n",
       "50%      9.000000   550.000000  \n",
       "75%     13.000000   552.250000  \n",
       "max     26.000000  3158.000000  "
      ]
     },
     "execution_count": 42,
     "metadata": {},
     "output_type": "execute_result"
    }
   ],
   "source": [
    "# посчитаем среднее и стандартное отклонение для тарифа smart\n",
    "smart_df = all_df[all_df['tariff'] == 'smart']\n",
    "smart_df.describe()"
   ]
  },
  {
   "cell_type": "markdown",
   "metadata": {},
   "source": [
    "Пользователь тарифа smart в среднем в месяц отправляет 20 сообщений, разговаривает 230,7 мин. и тратит 9,74 гб. При этом компания в среднем зарабывает с каждого пользователя 698,2 руб. в месяц.\n",
    "Стандартное отклонение составляет:\n",
    "- для сообщений - 20,8;\n",
    "- для продолжительности звонков - 152,6 мин.;\n",
    "- для расходованных гб - 5,7.\n",
    "Видим, что есть значительные выбросы в столбцах sum и gb_used."
   ]
  },
  {
   "cell_type": "markdown",
   "metadata": {},
   "source": [
    "<div style=\"border:solid green 2px; padding: 20px\"> <b>Отлично:</b><br>\n",
    "  Мне нравится, что ты видишь за цифрами логику и извлекаешь нужную информацию при анализе!</div>       "
   ]
  },
  {
   "cell_type": "code",
   "execution_count": 43,
   "metadata": {},
   "outputs": [
    {
     "data": {
      "text/plain": [
       "user_id      20974.599184\n",
       "month           11.645682\n",
       "messages       431.033967\n",
       "sum          23232.007314\n",
       "count          316.366563\n",
       "gb_used         32.410908\n",
       "income      158494.683763\n",
       "dtype: float64"
      ]
     },
     "execution_count": 43,
     "metadata": {},
     "output_type": "execute_result"
    }
   ],
   "source": [
    "# посчитаем дисперсию для тарифа smart\n",
    "np.var(smart_df)"
   ]
  },
  {
   "cell_type": "code",
   "execution_count": 44,
   "metadata": {},
   "outputs": [],
   "source": [
    "# создадим словарь с названиями столбцов и названиями графиков для построения гистрограмм с помощью цикла\n",
    "df_hists_smart = {'messages': 'Количество сообщений', 'sum': 'Продолжительность телефонных разговоров', 'gb_used': 'Количество израсходованного интернета'}"
   ]
  },
  {
   "cell_type": "code",
   "execution_count": 45,
   "metadata": {},
   "outputs": [
    {
     "data": {
      "image/png": "[encoded data removed]",
      "text/plain": [
       "<Figure size 576x432 with 1 Axes>"
      ]
     },
     "metadata": {
      "needs_background": "light"
     },
     "output_type": "display_data"
    },
    {
     "data": {
      "image/png": "[encoded data removed]",
      "text/plain": [
       "<Figure size 576x432 with 1 Axes>"
      ]
     },
     "metadata": {
      "needs_background": "light"
     },
     "output_type": "display_data"
    },
    {
     "data": {
      "image/png": "[encoded data removed]",
      "text/plain": [
       "<Figure size 576x432 with 1 Axes>"
      ]
     },
     "metadata": {
      "needs_background": "light"
     },
     "output_type": "display_data"
    }
   ],
   "source": [
    "# построим гистограммы четырех параметров\n",
    "for key in df_hists_smart:\n",
    "    smart_df.plot(kind='hist', y=key, title=df_hists_smart[key], grid=True, bins=30, figsize=(8, 6))\n",
    "    "
   ]
  },
  {
   "cell_type": "markdown",
   "metadata": {},
   "source": [
    "Мы видим, что большинство людей вообще не пользуются сообщениями (скорее всего используют мессенджеры, пользование которыми не может быть учтено в тарифе). Если же пользователи отправляют сообщения, то в большинстве случаев их количество составляет около 15 или 30 шт. Распределение в этом случае похоже на Пуассона, но много значений выбивается из него.\n",
    "\n",
    "Малая часть людей не пользовалась предоставленными минутами разговора. Возможно, они находились в отпуске и/или использовали другую sim-карту. Распределение данном случае напоминает нормальное. Наиболее встречаемая частота составляет 280-320 минут.\n",
    "\n",
    "Большое количество людей не пользовалось интернетом. Возможно, в большинстве случаев пользователи использовали wi-fi, который здесь не учитывается. За исключением выбивающегося значения из общей выборки (0), в остальном распределением похоже на распределение Пуассона. Чаще всего пользователи расходуют 0,3 гб в месяц."
   ]
  },
  {
   "cell_type": "code",
   "execution_count": 46,
   "metadata": {},
   "outputs": [
    {
     "data": {
      "text/html": [
       "<div>\n",
       "<style scoped>\n",
       "    .dataframe tbody tr th:only-of-type {\n",
       "        vertical-align: middle;\n",
       "    }\n",
       "\n",
       "    .dataframe tbody tr th {\n",
       "        vertical-align: top;\n",
       "    }\n",
       "\n",
       "    .dataframe thead th {\n",
       "        text-align: right;\n",
       "    }\n",
       "</style>\n",
       "<table border=\"1\" class=\"dataframe\">\n",
       "  <thead>\n",
       "    <tr style=\"text-align: right;\">\n",
       "      <th></th>\n",
       "      <th>user_id</th>\n",
       "      <th>month</th>\n",
       "      <th>messages</th>\n",
       "      <th>sum</th>\n",
       "      <th>count</th>\n",
       "      <th>gb_used</th>\n",
       "      <th>income</th>\n",
       "    </tr>\n",
       "  </thead>\n",
       "  <tbody>\n",
       "    <tr>\n",
       "      <td>count</td>\n",
       "      <td>148.000000</td>\n",
       "      <td>148.000000</td>\n",
       "      <td>148.000000</td>\n",
       "      <td>148.000000</td>\n",
       "      <td>148.000000</td>\n",
       "      <td>148.000000</td>\n",
       "      <td>148.000000</td>\n",
       "    </tr>\n",
       "    <tr>\n",
       "      <td>mean</td>\n",
       "      <td>1263.047297</td>\n",
       "      <td>6.209459</td>\n",
       "      <td>31.864865</td>\n",
       "      <td>284.128378</td>\n",
       "      <td>33.912162</td>\n",
       "      <td>11.385135</td>\n",
       "      <td>1960.135135</td>\n",
       "    </tr>\n",
       "    <tr>\n",
       "      <td>std</td>\n",
       "      <td>143.031861</td>\n",
       "      <td>3.297605</td>\n",
       "      <td>37.016387</td>\n",
       "      <td>252.558373</td>\n",
       "      <td>30.163484</td>\n",
       "      <td>8.259831</td>\n",
       "      <td>75.583773</td>\n",
       "    </tr>\n",
       "    <tr>\n",
       "      <td>min</td>\n",
       "      <td>1000.000000</td>\n",
       "      <td>1.000000</td>\n",
       "      <td>0.000000</td>\n",
       "      <td>0.000000</td>\n",
       "      <td>0.000000</td>\n",
       "      <td>0.000000</td>\n",
       "      <td>1950.000000</td>\n",
       "    </tr>\n",
       "    <tr>\n",
       "      <td>25%</td>\n",
       "      <td>1146.750000</td>\n",
       "      <td>3.750000</td>\n",
       "      <td>4.000000</td>\n",
       "      <td>80.750000</td>\n",
       "      <td>9.000000</td>\n",
       "      <td>4.000000</td>\n",
       "      <td>1950.000000</td>\n",
       "    </tr>\n",
       "    <tr>\n",
       "      <td>50%</td>\n",
       "      <td>1276.500000</td>\n",
       "      <td>6.000000</td>\n",
       "      <td>20.000000</td>\n",
       "      <td>233.500000</td>\n",
       "      <td>27.500000</td>\n",
       "      <td>10.000000</td>\n",
       "      <td>1950.000000</td>\n",
       "    </tr>\n",
       "    <tr>\n",
       "      <td>75%</td>\n",
       "      <td>1379.250000</td>\n",
       "      <td>9.000000</td>\n",
       "      <td>49.250000</td>\n",
       "      <td>420.000000</td>\n",
       "      <td>48.500000</td>\n",
       "      <td>16.250000</td>\n",
       "      <td>1950.000000</td>\n",
       "    </tr>\n",
       "    <tr>\n",
       "      <td>max</td>\n",
       "      <td>1495.000000</td>\n",
       "      <td>12.000000</td>\n",
       "      <td>223.000000</td>\n",
       "      <td>1117.000000</td>\n",
       "      <td>140.000000</td>\n",
       "      <td>35.000000</td>\n",
       "      <td>2700.000000</td>\n",
       "    </tr>\n",
       "  </tbody>\n",
       "</table>\n",
       "</div>"
      ],
      "text/plain": [
       "           user_id       month    messages          sum       count  \\\n",
       "count   148.000000  148.000000  148.000000   148.000000  148.000000   \n",
       "mean   1263.047297    6.209459   31.864865   284.128378   33.912162   \n",
       "std     143.031861    3.297605   37.016387   252.558373   30.163484   \n",
       "min    1000.000000    1.000000    0.000000     0.000000    0.000000   \n",
       "25%    1146.750000    3.750000    4.000000    80.750000    9.000000   \n",
       "50%    1276.500000    6.000000   20.000000   233.500000   27.500000   \n",
       "75%    1379.250000    9.000000   49.250000   420.000000   48.500000   \n",
       "max    1495.000000   12.000000  223.000000  1117.000000  140.000000   \n",
       "\n",
       "          gb_used       income  \n",
       "count  148.000000   148.000000  \n",
       "mean    11.385135  1960.135135  \n",
       "std      8.259831    75.583773  \n",
       "min      0.000000  1950.000000  \n",
       "25%      4.000000  1950.000000  \n",
       "50%     10.000000  1950.000000  \n",
       "75%     16.250000  1950.000000  \n",
       "max     35.000000  2700.000000  "
      ]
     },
     "execution_count": 46,
     "metadata": {},
     "output_type": "execute_result"
    }
   ],
   "source": [
    "# посчитаем среднее и стандартное отклонение для тарифа smart\n",
    "ultra_df = all_df[all_df['tariff'] == 'ultra']\n",
    "ultra_df.describe()"
   ]
  },
  {
   "cell_type": "markdown",
   "metadata": {},
   "source": [
    "Пользователь тарифа ultra в среднем в месяц отправляет 32 сообщения, разговаривает 284,1 мин. и тратит 11,39 гб. При этом компания в среднем зарабывает с каждого пользователя 1960,14 руб. в месяц, т.е. предоставляемых услуг тарифа хватает практически каждому пользователю, поэтому он не перерасходует минуты, сообщения и гигабайты.\n",
    "Стандартное отклонение составляет:\n",
    "- для сообщений - 37;\n",
    "- для продолжительности звонков - 252,56 мин.;\n",
    "- для расходованных гб - 8,26.\n",
    "Видим, что в тарифе \"Ультра\" значительно меньше выбросов, чем в тарифе \"Смарт\"."
   ]
  },
  {
   "cell_type": "code",
   "execution_count": 47,
   "metadata": {},
   "outputs": [
    {
     "data": {
      "text/plain": [
       "user_id     20319.882898\n",
       "month          10.800721\n",
       "messages     1360.954711\n",
       "sum         63354.747033\n",
       "count         903.688230\n",
       "gb_used        67.763832\n",
       "income       5674.306063\n",
       "dtype: float64"
      ]
     },
     "execution_count": 47,
     "metadata": {},
     "output_type": "execute_result"
    }
   ],
   "source": [
    "# посчитаем дисперсию для тарифа smart\n",
    "np.var(ultra_df)"
   ]
  },
  {
   "cell_type": "code",
   "execution_count": 48,
   "metadata": {},
   "outputs": [],
   "source": [
    "# создадим словарь с названиями столбцов и названиями графиков для построения гистрограмм с помощью цикла\n",
    "df_hists_ultra = {'messages': 'Количество сообщений', 'sum': 'Продолжительность телефонных разговоров', 'gb_used': 'Количество израсходованного интернета'}"
   ]
  },
  {
   "cell_type": "code",
   "execution_count": 49,
   "metadata": {},
   "outputs": [
    {
     "data": {
      "image/png": "[encoded data removed]",
      "text/plain": [
       "<Figure size 576x432 with 1 Axes>"
      ]
     },
     "metadata": {
      "needs_background": "light"
     },
     "output_type": "display_data"
    },
    {
     "data": {
      "image/png": "[encoded data removed]",
      "text/plain": [
       "<Figure size 576x432 with 1 Axes>"
      ]
     },
     "metadata": {
      "needs_background": "light"
     },
     "output_type": "display_data"
    },
    {
     "data": {
      "image/png": "[encoded data removed]",
      "text/plain": [
       "<Figure size 576x432 with 1 Axes>"
      ]
     },
     "metadata": {
      "needs_background": "light"
     },
     "output_type": "display_data"
    }
   ],
   "source": [
    "# построим гистограммы четырех параметров\n",
    "for key in df_hists_ultra:\n",
    "    ultra_df.plot(kind='hist', y=key, title=df_hists_ultra[key], grid=True, bins=40, figsize=(8, 6))"
   ]
  },
  {
   "cell_type": "markdown",
   "metadata": {},
   "source": [
    "Графики сообщений, звонков и интернета в тарифе ultra похожи на соответствующие графики в тарифе smart. Здесь также встречается большое количество людей, которые не отправляют сообщения, не звонят и не расходуют интернет-трафик. Согласно графикам, мы видим, что большинство пользователей тарифа ultra еще далеки от максимального расходования предоставляемых тарифом минут, сообщений и гб."
   ]
  },
  {
   "cell_type": "markdown",
   "metadata": {},
   "source": [
    "## Проверка гипотез"
   ]
  },
  {
   "cell_type": "markdown",
   "metadata": {},
   "source": [
    "Чтобы проверить гипотезу о равенстве среднего двух генеральных совокупностей по взятым из них выборкам, применим метод scipy.stats.ttest_ind()."
   ]
  },
  {
   "cell_type": "markdown",
   "metadata": {},
   "source": [
    "### Средняя выручка пользователей тарифов «Ультра» и «Смарт» различаются"
   ]
  },
  {
   "cell_type": "markdown",
   "metadata": {},
   "source": [
    "H0 - разница в средней выручке между пользователями тарифов \"Ультра\" и \"Смарт\" статистически не значима.\n",
    "H1 - разница в средней выручке между пользователями тарифов \"Ультра\" и \"Смарт\" статистически значима.\n",
    "За альфу возьмем значение 0.05 ,то есть при p value < 5% мы отвергаем нулевую гипотезу."
   ]
  },
  {
   "cell_type": "code",
   "execution_count": 50,
   "metadata": {},
   "outputs": [
    {
     "data": {
      "text/plain": [
       "2693.1994151987806"
      ]
     },
     "execution_count": 50,
     "metadata": {},
     "output_type": "execute_result"
    }
   ],
   "source": [
    "# для определения значения параметра equal_var(True или False) найдем разницу между дисперсиями выборок\n",
    "var_df1 = (np.var(smart_df['income']) / np.var(ultra_df['income'])) * 100 - 100\n",
    "var_df1"
   ]
  },
  {
   "cell_type": "markdown",
   "metadata": {},
   "source": [
    "Разница в дисперсиях намного больше 5%, поэтому параметр equal_var будет равен False."
   ]
  },
  {
   "cell_type": "code",
   "execution_count": 51,
   "metadata": {},
   "outputs": [
    {
     "name": "stdout",
     "output_type": "stream",
     "text": [
      "p-значение: 7.881718010465732e-195\n",
      "Отвергаем нулевую гипотезу\n"
     ]
    }
   ],
   "source": [
    "# проверка гипотезы №1\n",
    "alpha=0.05\n",
    "results_1 = st.ttest_ind(smart_df['income'], ultra_df['income'], equal_var=False)\n",
    "print('p-значение:', results_1.pvalue)\n",
    "\n",
    "if results_1.pvalue < alpha:\n",
    "    print('Отвергаем нулевую гипотезу')\n",
    "else:\n",
    "    print('Не получилось отвергнуть нулевую гипотезу')"
   ]
  },
  {
   "cell_type": "markdown",
   "metadata": {},
   "source": [
    "### Средняя выручка пользователей из Москвы отличается от выручки пользователей из других регионов"
   ]
  },
  {
   "cell_type": "markdown",
   "metadata": {},
   "source": [
    "H0 - разница в средней выручке между пользователями из Москвы и из других регионов статистически не значима.\n",
    "H1 - разница в средней выручке между пользователями из Москвы и из других регионов статистически значима.\n",
    "За альфу возьмем значение 0.05 ,то есть при p value < 5% мы отвергаем нулевую гипотезу."
   ]
  },
  {
   "cell_type": "code",
   "execution_count": 52,
   "metadata": {},
   "outputs": [
    {
     "data": {
      "text/plain": [
       "-3.3175393210733404"
      ]
     },
     "execution_count": 52,
     "metadata": {},
     "output_type": "execute_result"
    }
   ],
   "source": [
    "# для определения значения параметра equal_var(True или False) найдем разницу между дисперсиями выборок\n",
    "var_df1 = (np.var(all_df[all_df['city']=='Москва']['income']) / np.var(all_df[all_df['city']!='Москва']['income'])) * 100 - 100\n",
    "var_df1"
   ]
  },
  {
   "cell_type": "markdown",
   "metadata": {},
   "source": [
    "Разница в дисперсиях меньше 5%, поэтому параметр equal_var будет равен True."
   ]
  },
  {
   "cell_type": "code",
   "execution_count": 53,
   "metadata": {},
   "outputs": [
    {
     "name": "stdout",
     "output_type": "stream",
     "text": [
      "p-значение: 0.7089987815625939\n",
      "Не получилось отвергнуть нулевую гипотезу\n"
     ]
    }
   ],
   "source": [
    "# проверка гипотезы №2\n",
    "alpha=0.05\n",
    "results_2 = st.ttest_ind(all_df[all_df['city']=='Москва']['income'], all_df[all_df['city']!='Москва']['income'], equal_var=True)\n",
    "print('p-значение:', results_2.pvalue)\n",
    "\n",
    "if results_2.pvalue < alpha:\n",
    "    print('Отвергаем нулевую гипотезу')\n",
    "else:\n",
    "    print('Не получилось отвергнуть нулевую гипотезу')"
   ]
  },
  {
   "cell_type": "markdown",
   "metadata": {},
   "source": [
    "Таким образом, мы отвергаем 1-ю нулевую гипотезу, т.е. разница в средней выручке между пользователями тарифов \"Ультра\" и \"Смарт\" статистически значима. 2-ю гипотезу не удалось отвергнуть, т.е. разница в средней выручке между пользователями из Москвы и из других регионов статистически не значима."
   ]
  },
  {
   "cell_type": "markdown",
   "metadata": {},
   "source": [
    "## Общий вывод"
   ]
  },
  {
   "cell_type": "markdown",
   "metadata": {},
   "source": [
    "В процессе анализа тарифов \"Мегалайн\" было проведено сравнение тарифов \"Смарт\" и \"Ультра\". При использовании первого тарифа людям часто не хватает минут, сообщений и гигабайтов интернета, т.е. пользователи выходят за рамки тарифа и доплачивают перерасходы. С тарифом \"Ультра\" наблюдается противоположная картина - пользователи не успевают расходовать за месяц весь трафик. Таким образом, в качестве рекомендаций можно предложить поднять цену 1-го тарифа, включив туда дополнительные минуты, сообщения и интернет, и уменьшить цену 2-го тарифа, сократив количество минут, сообщений и интернет-трафика. Средний доход по тарифу \"Смарт\" составляет 698,2 руб., а ежемесячная плата - 550 руб. Т.е. в среднемесячный перерасход составляет 148,2 руб. Средний доход по тарифу \"Ультра\" составляет 1960,1 руб., а ежемесячная плата - 1950 руб. Т.е. в среднемесячный перерасход составляет 10,1 руб. \n",
    "Также в результате проверки гипотез мы установили, что разница между средней выручкой двух тарифов статистически значима. Интересным фактом является то, что разница в средней выручке между Москвой и другими регионами статистически не значима."
   ]
  }
 ],
 "metadata": {
  "ExecuteTimeLog": [
   {
    "duration": 1519,
    "start_time": "2021-12-10T13:19:01.403Z"
   },
   {
    "duration": 523,
    "start_time": "2021-12-10T13:19:02.925Z"
   },
   {
    "duration": 16,
    "start_time": "2021-12-10T13:19:03.450Z"
   },
   {
    "duration": 12,
    "start_time": "2021-12-10T13:19:21.138Z"
   },
   {
    "duration": 28,
    "start_time": "2021-12-10T13:19:39.953Z"
   },
   {
    "duration": 12,
    "start_time": "2021-12-10T13:21:52.071Z"
   },
   {
    "duration": 3,
    "start_time": "2021-12-10T13:22:15.978Z"
   },
   {
    "duration": 31,
    "start_time": "2021-12-10T13:22:37.786Z"
   },
   {
    "duration": 4,
    "start_time": "2021-12-10T13:27:54.533Z"
   },
   {
    "duration": 515,
    "start_time": "2021-12-10T13:27:54.540Z"
   },
   {
    "duration": 12,
    "start_time": "2021-12-10T13:27:55.057Z"
   },
   {
    "duration": 29,
    "start_time": "2021-12-10T13:27:55.071Z"
   },
   {
    "duration": 12,
    "start_time": "2021-12-10T13:27:55.102Z"
   },
   {
    "duration": 22,
    "start_time": "2021-12-10T13:27:55.117Z"
   },
   {
    "duration": 10,
    "start_time": "2021-12-10T13:27:55.142Z"
   },
   {
    "duration": 24,
    "start_time": "2021-12-10T13:27:55.154Z"
   },
   {
    "duration": 4,
    "start_time": "2021-12-10T13:27:55.180Z"
   },
   {
    "duration": 27,
    "start_time": "2021-12-10T13:28:24.692Z"
   },
   {
    "duration": 434,
    "start_time": "2021-12-10T13:28:34.496Z"
   },
   {
    "duration": 76,
    "start_time": "2021-12-10T13:28:54.376Z"
   },
   {
    "duration": 3,
    "start_time": "2021-12-10T13:32:16.118Z"
   },
   {
    "duration": 536,
    "start_time": "2021-12-10T13:32:16.124Z"
   },
   {
    "duration": 10,
    "start_time": "2021-12-10T13:32:16.663Z"
   },
   {
    "duration": 29,
    "start_time": "2021-12-10T13:32:16.676Z"
   },
   {
    "duration": 11,
    "start_time": "2021-12-10T13:32:16.707Z"
   },
   {
    "duration": 26,
    "start_time": "2021-12-10T13:32:16.721Z"
   },
   {
    "duration": 10,
    "start_time": "2021-12-10T13:32:16.751Z"
   },
   {
    "duration": 20,
    "start_time": "2021-12-10T13:32:16.764Z"
   },
   {
    "duration": 951,
    "start_time": "2021-12-10T13:32:16.818Z"
   },
   {
    "duration": -129,
    "start_time": "2021-12-10T13:32:17.901Z"
   },
   {
    "duration": -132,
    "start_time": "2021-12-10T13:32:17.905Z"
   },
   {
    "duration": -134,
    "start_time": "2021-12-10T13:32:17.909Z"
   },
   {
    "duration": 4,
    "start_time": "2021-12-10T13:32:33.028Z"
   },
   {
    "duration": 511,
    "start_time": "2021-12-10T13:32:33.035Z"
   },
   {
    "duration": 10,
    "start_time": "2021-12-10T13:32:33.549Z"
   },
   {
    "duration": 32,
    "start_time": "2021-12-10T13:32:33.562Z"
   },
   {
    "duration": 14,
    "start_time": "2021-12-10T13:32:33.596Z"
   },
   {
    "duration": 27,
    "start_time": "2021-12-10T13:32:33.612Z"
   },
   {
    "duration": 11,
    "start_time": "2021-12-10T13:32:33.642Z"
   },
   {
    "duration": 19,
    "start_time": "2021-12-10T13:32:33.658Z"
   },
   {
    "duration": 11,
    "start_time": "2021-12-10T13:32:33.718Z"
   },
   {
    "duration": 9,
    "start_time": "2021-12-10T13:32:33.731Z"
   },
   {
    "duration": 476,
    "start_time": "2021-12-10T13:32:33.743Z"
   },
   {
    "duration": -153,
    "start_time": "2021-12-10T13:32:34.374Z"
   },
   {
    "duration": 5,
    "start_time": "2021-12-10T13:32:54.148Z"
   },
   {
    "duration": 518,
    "start_time": "2021-12-10T13:32:54.156Z"
   },
   {
    "duration": 11,
    "start_time": "2021-12-10T13:32:54.677Z"
   },
   {
    "duration": 30,
    "start_time": "2021-12-10T13:32:54.690Z"
   },
   {
    "duration": 12,
    "start_time": "2021-12-10T13:32:54.722Z"
   },
   {
    "duration": 26,
    "start_time": "2021-12-10T13:32:54.736Z"
   },
   {
    "duration": 16,
    "start_time": "2021-12-10T13:32:54.764Z"
   },
   {
    "duration": 42,
    "start_time": "2021-12-10T13:32:54.783Z"
   },
   {
    "duration": 12,
    "start_time": "2021-12-10T13:32:54.828Z"
   },
   {
    "duration": 14,
    "start_time": "2021-12-10T13:32:54.842Z"
   },
   {
    "duration": 17,
    "start_time": "2021-12-10T13:32:54.858Z"
   },
   {
    "duration": 46,
    "start_time": "2021-12-10T13:32:54.877Z"
   },
   {
    "duration": 965,
    "start_time": "2021-12-10T17:21:34.691Z"
   },
   {
    "duration": 356,
    "start_time": "2021-12-10T17:21:35.657Z"
   },
   {
    "duration": 10,
    "start_time": "2021-12-10T17:21:36.015Z"
   },
   {
    "duration": 20,
    "start_time": "2021-12-10T17:21:36.027Z"
   },
   {
    "duration": 7,
    "start_time": "2021-12-10T17:21:36.048Z"
   },
   {
    "duration": 16,
    "start_time": "2021-12-10T17:21:36.057Z"
   },
   {
    "duration": 6,
    "start_time": "2021-12-10T17:21:36.074Z"
   },
   {
    "duration": 13,
    "start_time": "2021-12-10T17:21:36.082Z"
   },
   {
    "duration": 7,
    "start_time": "2021-12-10T17:21:36.097Z"
   },
   {
    "duration": 8,
    "start_time": "2021-12-10T17:21:36.106Z"
   },
   {
    "duration": 12,
    "start_time": "2021-12-10T17:21:36.115Z"
   },
   {
    "duration": 7,
    "start_time": "2021-12-10T17:21:36.128Z"
   },
   {
    "duration": 83,
    "start_time": "2021-12-10T17:21:36.136Z"
   },
   {
    "duration": 311,
    "start_time": "2021-12-10T17:21:36.221Z"
   },
   {
    "duration": 58,
    "start_time": "2021-12-10T17:40:25.966Z"
   },
   {
    "duration": 227,
    "start_time": "2021-12-10T17:52:23.339Z"
   },
   {
    "duration": 6,
    "start_time": "2021-12-10T17:52:38.349Z"
   },
   {
    "duration": 6,
    "start_time": "2021-12-10T17:52:46.909Z"
   },
   {
    "duration": 6,
    "start_time": "2021-12-10T17:52:52.529Z"
   },
   {
    "duration": 7,
    "start_time": "2021-12-10T17:52:59.322Z"
   },
   {
    "duration": 6,
    "start_time": "2021-12-10T17:53:03.725Z"
   },
   {
    "duration": 7,
    "start_time": "2021-12-10T18:02:38.043Z"
   },
   {
    "duration": 6,
    "start_time": "2021-12-10T18:04:58.980Z"
   },
   {
    "duration": 10,
    "start_time": "2021-12-10T18:05:14.218Z"
   },
   {
    "duration": 8,
    "start_time": "2021-12-10T18:08:34.128Z"
   },
   {
    "duration": 9,
    "start_time": "2021-12-10T18:08:45.121Z"
   },
   {
    "duration": 11,
    "start_time": "2021-12-10T18:08:56.057Z"
   },
   {
    "duration": 334,
    "start_time": "2021-12-10T18:12:24.453Z"
   },
   {
    "duration": 248,
    "start_time": "2021-12-10T18:12:37.876Z"
   },
   {
    "duration": 244,
    "start_time": "2021-12-10T18:14:02.992Z"
   },
   {
    "duration": 271,
    "start_time": "2021-12-10T18:14:35.842Z"
   },
   {
    "duration": 252,
    "start_time": "2021-12-10T18:14:48.391Z"
   },
   {
    "duration": 24,
    "start_time": "2021-12-10T18:15:02.444Z"
   },
   {
    "duration": 9,
    "start_time": "2021-12-10T18:15:32.197Z"
   },
   {
    "duration": 884,
    "start_time": "2021-12-10T18:33:31.490Z"
   },
   {
    "duration": 912,
    "start_time": "2021-12-10T18:33:59.325Z"
   },
   {
    "duration": 880,
    "start_time": "2021-12-10T18:35:46.684Z"
   },
   {
    "duration": 1558,
    "start_time": "2021-12-10T18:41:53.405Z"
   },
   {
    "duration": 909,
    "start_time": "2021-12-10T18:41:58.905Z"
   },
   {
    "duration": 891,
    "start_time": "2021-12-10T18:51:38.370Z"
   },
   {
    "duration": 232,
    "start_time": "2021-12-10T18:54:54.362Z"
   },
   {
    "duration": 286,
    "start_time": "2021-12-10T18:55:04.389Z"
   },
   {
    "duration": 914,
    "start_time": "2021-12-10T18:55:48.437Z"
   },
   {
    "duration": 42,
    "start_time": "2021-12-10T19:03:36.847Z"
   },
   {
    "duration": 21,
    "start_time": "2021-12-10T19:06:26.150Z"
   },
   {
    "duration": 28,
    "start_time": "2021-12-10T19:06:32.933Z"
   },
   {
    "duration": 23,
    "start_time": "2021-12-10T19:26:22.088Z"
   },
   {
    "duration": 381,
    "start_time": "2021-12-12T16:25:27.492Z"
   },
   {
    "duration": 1067,
    "start_time": "2021-12-12T16:25:34.128Z"
   },
   {
    "duration": 398,
    "start_time": "2021-12-12T16:25:35.197Z"
   },
   {
    "duration": 11,
    "start_time": "2021-12-12T16:25:35.597Z"
   },
   {
    "duration": 30,
    "start_time": "2021-12-12T16:25:35.609Z"
   },
   {
    "duration": 12,
    "start_time": "2021-12-12T16:25:35.641Z"
   },
   {
    "duration": 30,
    "start_time": "2021-12-12T16:25:35.655Z"
   },
   {
    "duration": 8,
    "start_time": "2021-12-12T16:25:35.687Z"
   },
   {
    "duration": 26,
    "start_time": "2021-12-12T16:25:35.697Z"
   },
   {
    "duration": 22,
    "start_time": "2021-12-12T16:25:35.725Z"
   },
   {
    "duration": 25,
    "start_time": "2021-12-12T16:25:35.749Z"
   },
   {
    "duration": 16,
    "start_time": "2021-12-12T16:25:35.776Z"
   },
   {
    "duration": 21,
    "start_time": "2021-12-12T16:25:35.794Z"
   },
   {
    "duration": 71,
    "start_time": "2021-12-12T16:25:35.817Z"
   },
   {
    "duration": 64,
    "start_time": "2021-12-12T16:25:35.890Z"
   },
   {
    "duration": 6,
    "start_time": "2021-12-12T16:25:35.956Z"
   },
   {
    "duration": 625,
    "start_time": "2021-12-12T16:25:35.964Z"
   },
   {
    "duration": 9,
    "start_time": "2021-12-12T16:25:36.591Z"
   },
   {
    "duration": 29,
    "start_time": "2021-12-12T16:25:36.601Z"
   },
   {
    "duration": 942,
    "start_time": "2021-12-12T16:25:36.632Z"
   },
   {
    "duration": 2446,
    "start_time": "2021-12-12T16:25:37.576Z"
   },
   {
    "duration": -1185,
    "start_time": "2021-12-12T16:25:41.209Z"
   },
   {
    "duration": -1191,
    "start_time": "2021-12-12T16:25:41.216Z"
   },
   {
    "duration": 1418,
    "start_time": "2021-12-12T16:26:44.221Z"
   },
   {
    "duration": 1399,
    "start_time": "2021-12-12T16:27:00.649Z"
   },
   {
    "duration": 1866,
    "start_time": "2021-12-12T16:27:37.719Z"
   },
   {
    "duration": 1379,
    "start_time": "2021-12-12T16:28:33.040Z"
   },
   {
    "duration": 1363,
    "start_time": "2021-12-12T16:29:08.665Z"
   },
   {
    "duration": 3,
    "start_time": "2021-12-12T16:31:14.378Z"
   },
   {
    "duration": 390,
    "start_time": "2021-12-12T16:31:14.383Z"
   },
   {
    "duration": 8,
    "start_time": "2021-12-12T16:31:14.776Z"
   },
   {
    "duration": 22,
    "start_time": "2021-12-12T16:31:14.787Z"
   },
   {
    "duration": 9,
    "start_time": "2021-12-12T16:31:14.811Z"
   },
   {
    "duration": 17,
    "start_time": "2021-12-12T16:31:14.822Z"
   },
   {
    "duration": 8,
    "start_time": "2021-12-12T16:31:14.841Z"
   },
   {
    "duration": 15,
    "start_time": "2021-12-12T16:31:14.852Z"
   },
   {
    "duration": 38,
    "start_time": "2021-12-12T16:31:14.870Z"
   },
   {
    "duration": 11,
    "start_time": "2021-12-12T16:31:14.910Z"
   },
   {
    "duration": 11,
    "start_time": "2021-12-12T16:31:14.922Z"
   },
   {
    "duration": 8,
    "start_time": "2021-12-12T16:31:14.935Z"
   },
   {
    "duration": 77,
    "start_time": "2021-12-12T16:31:14.944Z"
   },
   {
    "duration": 60,
    "start_time": "2021-12-12T16:31:15.023Z"
   },
   {
    "duration": 37,
    "start_time": "2021-12-12T16:31:15.085Z"
   },
   {
    "duration": 4,
    "start_time": "2021-12-12T16:31:15.123Z"
   },
   {
    "duration": 5,
    "start_time": "2021-12-12T16:31:15.129Z"
   },
   {
    "duration": 19,
    "start_time": "2021-12-12T16:31:15.135Z"
   },
   {
    "duration": 670,
    "start_time": "2021-12-12T16:31:15.156Z"
   },
   {
    "duration": 40,
    "start_time": "2021-12-12T16:31:15.828Z"
   },
   {
    "duration": 46,
    "start_time": "2021-12-12T16:31:15.869Z"
   },
   {
    "duration": 25,
    "start_time": "2021-12-12T16:31:15.917Z"
   },
   {
    "duration": 330,
    "start_time": "2021-12-12T16:38:06.799Z"
   },
   {
    "duration": 32,
    "start_time": "2021-12-12T16:43:14.126Z"
   },
   {
    "duration": 301,
    "start_time": "2021-12-12T16:43:33.365Z"
   },
   {
    "duration": 384,
    "start_time": "2021-12-12T16:43:46.306Z"
   },
   {
    "duration": 726,
    "start_time": "2021-12-12T16:44:28.411Z"
   },
   {
    "duration": 445,
    "start_time": "2021-12-12T16:59:55.683Z"
   },
   {
    "duration": 271,
    "start_time": "2021-12-12T17:00:20.094Z"
   },
   {
    "duration": 3,
    "start_time": "2021-12-12T17:01:36.836Z"
   },
   {
    "duration": 449,
    "start_time": "2021-12-12T17:01:36.842Z"
   },
   {
    "duration": 8,
    "start_time": "2021-12-12T17:01:37.294Z"
   },
   {
    "duration": 32,
    "start_time": "2021-12-12T17:01:37.304Z"
   },
   {
    "duration": 7,
    "start_time": "2021-12-12T17:01:37.338Z"
   },
   {
    "duration": 20,
    "start_time": "2021-12-12T17:01:37.347Z"
   },
   {
    "duration": 8,
    "start_time": "2021-12-12T17:01:37.368Z"
   },
   {
    "duration": 47,
    "start_time": "2021-12-12T17:01:37.378Z"
   },
   {
    "duration": 8,
    "start_time": "2021-12-12T17:01:37.428Z"
   },
   {
    "duration": 7,
    "start_time": "2021-12-12T17:01:37.438Z"
   },
   {
    "duration": 10,
    "start_time": "2021-12-12T17:01:37.447Z"
   },
   {
    "duration": 8,
    "start_time": "2021-12-12T17:01:37.458Z"
   },
   {
    "duration": 103,
    "start_time": "2021-12-12T17:01:37.467Z"
   },
   {
    "duration": 72,
    "start_time": "2021-12-12T17:01:37.571Z"
   },
   {
    "duration": 16,
    "start_time": "2021-12-12T17:01:37.645Z"
   },
   {
    "duration": 5,
    "start_time": "2021-12-12T17:01:37.663Z"
   },
   {
    "duration": 324,
    "start_time": "2021-12-12T17:01:37.670Z"
   },
   {
    "duration": 42,
    "start_time": "2021-12-12T17:01:37.997Z"
   },
   {
    "duration": 2,
    "start_time": "2021-12-12T17:01:38.041Z"
   },
   {
    "duration": 37,
    "start_time": "2021-12-12T17:01:38.045Z"
   },
   {
    "duration": 24,
    "start_time": "2021-12-12T17:01:38.083Z"
   },
   {
    "duration": 19,
    "start_time": "2021-12-12T17:01:38.110Z"
   },
   {
    "duration": 35,
    "start_time": "2021-12-12T17:01:38.132Z"
   },
   {
    "duration": 3,
    "start_time": "2021-12-12T17:23:21.601Z"
   },
   {
    "duration": 385,
    "start_time": "2021-12-12T17:23:21.607Z"
   },
   {
    "duration": 8,
    "start_time": "2021-12-12T17:23:21.994Z"
   },
   {
    "duration": 23,
    "start_time": "2021-12-12T17:23:22.004Z"
   },
   {
    "duration": 8,
    "start_time": "2021-12-12T17:23:22.028Z"
   },
   {
    "duration": 18,
    "start_time": "2021-12-12T17:23:22.038Z"
   },
   {
    "duration": 7,
    "start_time": "2021-12-12T17:23:22.058Z"
   },
   {
    "duration": 39,
    "start_time": "2021-12-12T17:23:22.067Z"
   },
   {
    "duration": 8,
    "start_time": "2021-12-12T17:23:22.109Z"
   },
   {
    "duration": 11,
    "start_time": "2021-12-12T17:23:22.119Z"
   },
   {
    "duration": 14,
    "start_time": "2021-12-12T17:23:22.131Z"
   },
   {
    "duration": 10,
    "start_time": "2021-12-12T17:23:22.146Z"
   },
   {
    "duration": 81,
    "start_time": "2021-12-12T17:23:22.158Z"
   },
   {
    "duration": 57,
    "start_time": "2021-12-12T17:23:22.241Z"
   },
   {
    "duration": 19,
    "start_time": "2021-12-12T17:23:22.306Z"
   },
   {
    "duration": 5,
    "start_time": "2021-12-12T17:23:22.327Z"
   },
   {
    "duration": 283,
    "start_time": "2021-12-12T17:23:22.334Z"
   },
   {
    "duration": 40,
    "start_time": "2021-12-12T17:23:22.620Z"
   },
   {
    "duration": 46,
    "start_time": "2021-12-12T17:23:22.662Z"
   },
   {
    "duration": 4,
    "start_time": "2021-12-12T17:23:22.710Z"
   },
   {
    "duration": 15,
    "start_time": "2021-12-12T17:23:22.716Z"
   },
   {
    "duration": 25,
    "start_time": "2021-12-12T17:23:22.733Z"
   },
   {
    "duration": 861,
    "start_time": "2021-12-12T17:50:36.480Z"
   },
   {
    "duration": 1088,
    "start_time": "2021-12-12T17:50:41.555Z"
   },
   {
    "duration": 473,
    "start_time": "2021-12-12T18:05:06.193Z"
   },
   {
    "duration": 952,
    "start_time": "2021-12-12T18:09:00.893Z"
   },
   {
    "duration": 932,
    "start_time": "2021-12-12T18:10:01.652Z"
   },
   {
    "duration": 23,
    "start_time": "2021-12-12T18:11:34.954Z"
   },
   {
    "duration": 4,
    "start_time": "2021-12-12T18:33:14.898Z"
   },
   {
    "duration": 433,
    "start_time": "2021-12-12T18:33:14.904Z"
   },
   {
    "duration": 8,
    "start_time": "2021-12-12T18:33:15.339Z"
   },
   {
    "duration": 21,
    "start_time": "2021-12-12T18:33:15.349Z"
   },
   {
    "duration": 8,
    "start_time": "2021-12-12T18:33:15.371Z"
   },
   {
    "duration": 16,
    "start_time": "2021-12-12T18:33:15.381Z"
   },
   {
    "duration": 11,
    "start_time": "2021-12-12T18:33:15.399Z"
   },
   {
    "duration": 18,
    "start_time": "2021-12-12T18:33:15.415Z"
   },
   {
    "duration": 8,
    "start_time": "2021-12-12T18:33:15.435Z"
   },
   {
    "duration": 7,
    "start_time": "2021-12-12T18:33:15.445Z"
   },
   {
    "duration": 11,
    "start_time": "2021-12-12T18:33:15.454Z"
   },
   {
    "duration": 6,
    "start_time": "2021-12-12T18:33:15.467Z"
   },
   {
    "duration": 67,
    "start_time": "2021-12-12T18:33:15.509Z"
   },
   {
    "duration": 81,
    "start_time": "2021-12-12T18:33:15.578Z"
   },
   {
    "duration": 21,
    "start_time": "2021-12-12T18:33:15.662Z"
   },
   {
    "duration": 5,
    "start_time": "2021-12-12T18:33:15.685Z"
   },
   {
    "duration": 306,
    "start_time": "2021-12-12T18:33:15.691Z"
   },
   {
    "duration": 36,
    "start_time": "2021-12-12T18:33:15.999Z"
   },
   {
    "duration": 34,
    "start_time": "2021-12-12T18:33:16.037Z"
   },
   {
    "duration": 5,
    "start_time": "2021-12-12T18:33:16.073Z"
   },
   {
    "duration": 47,
    "start_time": "2021-12-12T18:33:16.080Z"
   },
   {
    "duration": 26,
    "start_time": "2021-12-12T18:33:16.129Z"
   },
   {
    "duration": 23,
    "start_time": "2021-12-12T18:33:16.158Z"
   },
   {
    "duration": 25,
    "start_time": "2021-12-12T18:34:59.923Z"
   },
   {
    "duration": 4,
    "start_time": "2021-12-12T18:35:03.229Z"
   },
   {
    "duration": 429,
    "start_time": "2021-12-12T18:35:03.235Z"
   },
   {
    "duration": 8,
    "start_time": "2021-12-12T18:35:03.666Z"
   },
   {
    "duration": 24,
    "start_time": "2021-12-12T18:35:03.676Z"
   },
   {
    "duration": 13,
    "start_time": "2021-12-12T18:35:03.702Z"
   },
   {
    "duration": 19,
    "start_time": "2021-12-12T18:35:03.719Z"
   },
   {
    "duration": 8,
    "start_time": "2021-12-12T18:35:03.740Z"
   },
   {
    "duration": 17,
    "start_time": "2021-12-12T18:35:03.750Z"
   },
   {
    "duration": 44,
    "start_time": "2021-12-12T18:35:03.769Z"
   },
   {
    "duration": 10,
    "start_time": "2021-12-12T18:35:03.816Z"
   },
   {
    "duration": 12,
    "start_time": "2021-12-12T18:35:03.828Z"
   },
   {
    "duration": 8,
    "start_time": "2021-12-12T18:35:03.841Z"
   },
   {
    "duration": 96,
    "start_time": "2021-12-12T18:35:03.851Z"
   },
   {
    "duration": 69,
    "start_time": "2021-12-12T18:35:03.948Z"
   },
   {
    "duration": 18,
    "start_time": "2021-12-12T18:35:04.020Z"
   },
   {
    "duration": 4,
    "start_time": "2021-12-12T18:35:04.040Z"
   },
   {
    "duration": 314,
    "start_time": "2021-12-12T18:35:04.046Z"
   },
   {
    "duration": 28,
    "start_time": "2021-12-12T18:35:04.361Z"
   },
   {
    "duration": 44,
    "start_time": "2021-12-12T18:35:04.391Z"
   },
   {
    "duration": 4,
    "start_time": "2021-12-12T18:35:04.437Z"
   },
   {
    "duration": 17,
    "start_time": "2021-12-12T18:35:04.442Z"
   },
   {
    "duration": 51,
    "start_time": "2021-12-12T18:35:04.461Z"
   },
   {
    "duration": 24,
    "start_time": "2021-12-12T18:35:04.518Z"
   },
   {
    "duration": 46,
    "start_time": "2021-12-12T18:39:00.740Z"
   },
   {
    "duration": 52,
    "start_time": "2021-12-12T18:39:04.500Z"
   },
   {
    "duration": 57,
    "start_time": "2021-12-12T18:39:09.932Z"
   },
   {
    "duration": 379,
    "start_time": "2021-12-12T18:41:50.651Z"
   },
   {
    "duration": 3,
    "start_time": "2021-12-12T18:50:33.743Z"
   },
   {
    "duration": 416,
    "start_time": "2021-12-12T18:50:33.748Z"
   },
   {
    "duration": 8,
    "start_time": "2021-12-12T18:50:34.166Z"
   },
   {
    "duration": 22,
    "start_time": "2021-12-12T18:50:34.176Z"
   },
   {
    "duration": 8,
    "start_time": "2021-12-12T18:50:34.200Z"
   },
   {
    "duration": 18,
    "start_time": "2021-12-12T18:50:34.210Z"
   },
   {
    "duration": 7,
    "start_time": "2021-12-12T18:50:34.230Z"
   },
   {
    "duration": 16,
    "start_time": "2021-12-12T18:50:34.239Z"
   },
   {
    "duration": 9,
    "start_time": "2021-12-12T18:50:34.257Z"
   },
   {
    "duration": 6,
    "start_time": "2021-12-12T18:50:34.268Z"
   },
   {
    "duration": 37,
    "start_time": "2021-12-12T18:50:34.276Z"
   },
   {
    "duration": 7,
    "start_time": "2021-12-12T18:50:34.315Z"
   },
   {
    "duration": 61,
    "start_time": "2021-12-12T18:50:34.323Z"
   },
   {
    "duration": 84,
    "start_time": "2021-12-12T18:50:34.386Z"
   },
   {
    "duration": 16,
    "start_time": "2021-12-12T18:50:34.472Z"
   },
   {
    "duration": 18,
    "start_time": "2021-12-12T18:50:34.490Z"
   },
   {
    "duration": 278,
    "start_time": "2021-12-12T18:50:34.510Z"
   },
   {
    "duration": 34,
    "start_time": "2021-12-12T18:50:34.790Z"
   },
   {
    "duration": 24,
    "start_time": "2021-12-12T18:50:34.826Z"
   },
   {
    "duration": 3,
    "start_time": "2021-12-12T18:50:34.852Z"
   },
   {
    "duration": 13,
    "start_time": "2021-12-12T18:50:34.857Z"
   },
   {
    "duration": 53,
    "start_time": "2021-12-12T18:50:34.872Z"
   },
   {
    "duration": 61,
    "start_time": "2021-12-12T18:50:34.928Z"
   },
   {
    "duration": 107,
    "start_time": "2021-12-12T18:50:53.659Z"
   },
   {
    "duration": 22,
    "start_time": "2021-12-12T18:54:35.191Z"
   },
   {
    "duration": 10,
    "start_time": "2021-12-12T18:54:53.440Z"
   },
   {
    "duration": 11,
    "start_time": "2021-12-12T19:31:17.131Z"
   },
   {
    "duration": 96,
    "start_time": "2021-12-12T19:39:14.266Z"
   },
   {
    "duration": 38,
    "start_time": "2021-12-12T19:39:19.347Z"
   },
   {
    "duration": 369,
    "start_time": "2021-12-12T20:03:01.759Z"
   },
   {
    "duration": 5,
    "start_time": "2021-12-12T20:03:15.223Z"
   },
   {
    "duration": 346,
    "start_time": "2021-12-12T20:03:20.654Z"
   },
   {
    "duration": 349,
    "start_time": "2021-12-12T20:04:39.514Z"
   },
   {
    "duration": 352,
    "start_time": "2021-12-12T20:06:30.726Z"
   },
   {
    "duration": 354,
    "start_time": "2021-12-12T20:08:31.011Z"
   },
   {
    "duration": 2612,
    "start_time": "2021-12-12T20:12:49.083Z"
   },
   {
    "duration": 986,
    "start_time": "2021-12-12T20:13:24.436Z"
   },
   {
    "duration": 397,
    "start_time": "2021-12-12T20:14:01.715Z"
   },
   {
    "duration": 346,
    "start_time": "2021-12-12T20:14:11.179Z"
   },
   {
    "duration": 8993,
    "start_time": "2021-12-12T20:14:55.827Z"
   },
   {
    "duration": -1851,
    "start_time": "2021-12-12T20:15:55.659Z"
   },
   {
    "duration": 4,
    "start_time": "2021-12-12T20:15:59.790Z"
   },
   {
    "duration": 425,
    "start_time": "2021-12-12T20:15:59.796Z"
   },
   {
    "duration": 8,
    "start_time": "2021-12-12T20:16:00.223Z"
   },
   {
    "duration": 23,
    "start_time": "2021-12-12T20:16:00.233Z"
   },
   {
    "duration": 9,
    "start_time": "2021-12-12T20:16:00.257Z"
   },
   {
    "duration": 25,
    "start_time": "2021-12-12T20:16:00.267Z"
   },
   {
    "duration": 16,
    "start_time": "2021-12-12T20:16:00.294Z"
   },
   {
    "duration": 19,
    "start_time": "2021-12-12T20:16:00.312Z"
   },
   {
    "duration": 8,
    "start_time": "2021-12-12T20:16:00.334Z"
   },
   {
    "duration": 15,
    "start_time": "2021-12-12T20:16:00.344Z"
   },
   {
    "duration": 20,
    "start_time": "2021-12-12T20:16:00.360Z"
   },
   {
    "duration": 11,
    "start_time": "2021-12-12T20:16:00.382Z"
   },
   {
    "duration": 59,
    "start_time": "2021-12-12T20:16:00.407Z"
   },
   {
    "duration": 73,
    "start_time": "2021-12-12T20:16:00.467Z"
   },
   {
    "duration": 16,
    "start_time": "2021-12-12T20:16:00.542Z"
   },
   {
    "duration": 13,
    "start_time": "2021-12-12T20:16:00.560Z"
   },
   {
    "duration": 433,
    "start_time": "2021-12-12T20:16:00.575Z"
   },
   {
    "duration": 27,
    "start_time": "2021-12-12T20:16:01.010Z"
   },
   {
    "duration": 43,
    "start_time": "2021-12-12T20:16:01.039Z"
   },
   {
    "duration": 4,
    "start_time": "2021-12-12T20:16:01.084Z"
   },
   {
    "duration": 28,
    "start_time": "2021-12-12T20:16:01.090Z"
   },
   {
    "duration": 29,
    "start_time": "2021-12-12T20:16:01.120Z"
   },
   {
    "duration": 103,
    "start_time": "2021-12-12T20:16:01.151Z"
   },
   {
    "duration": 11,
    "start_time": "2021-12-12T20:16:01.256Z"
   },
   {
    "duration": 128,
    "start_time": "2021-12-12T20:16:01.269Z"
   },
   {
    "duration": 28,
    "start_time": "2021-12-12T20:16:01.398Z"
   },
   {
    "duration": 9148,
    "start_time": "2021-12-12T20:16:47.000Z"
   },
   {
    "duration": 3,
    "start_time": "2021-12-12T20:17:10.040Z"
   },
   {
    "duration": 395,
    "start_time": "2021-12-12T20:17:10.046Z"
   },
   {
    "duration": 9,
    "start_time": "2021-12-12T20:17:10.443Z"
   },
   {
    "duration": 38,
    "start_time": "2021-12-12T20:17:10.455Z"
   },
   {
    "duration": 10,
    "start_time": "2021-12-12T20:17:10.495Z"
   },
   {
    "duration": 24,
    "start_time": "2021-12-12T20:17:10.507Z"
   },
   {
    "duration": 7,
    "start_time": "2021-12-12T20:17:10.533Z"
   },
   {
    "duration": 42,
    "start_time": "2021-12-12T20:17:10.543Z"
   },
   {
    "duration": 21,
    "start_time": "2021-12-12T20:17:10.587Z"
   },
   {
    "duration": 7,
    "start_time": "2021-12-12T20:17:10.610Z"
   },
   {
    "duration": 11,
    "start_time": "2021-12-12T20:17:10.619Z"
   },
   {
    "duration": 14,
    "start_time": "2021-12-12T20:17:10.632Z"
   },
   {
    "duration": 73,
    "start_time": "2021-12-12T20:17:10.647Z"
   },
   {
    "duration": 65,
    "start_time": "2021-12-12T20:17:10.722Z"
   },
   {
    "duration": 30,
    "start_time": "2021-12-12T20:17:10.789Z"
   },
   {
    "duration": 5,
    "start_time": "2021-12-12T20:17:10.821Z"
   },
   {
    "duration": 289,
    "start_time": "2021-12-12T20:17:10.828Z"
   },
   {
    "duration": 28,
    "start_time": "2021-12-12T20:17:11.120Z"
   },
   {
    "duration": 27,
    "start_time": "2021-12-12T20:17:11.150Z"
   },
   {
    "duration": 31,
    "start_time": "2021-12-12T20:17:11.178Z"
   },
   {
    "duration": 14,
    "start_time": "2021-12-12T20:17:11.211Z"
   },
   {
    "duration": 28,
    "start_time": "2021-12-12T20:17:11.227Z"
   },
   {
    "duration": 105,
    "start_time": "2021-12-12T20:17:11.258Z"
   },
   {
    "duration": 12,
    "start_time": "2021-12-12T20:17:11.365Z"
   },
   {
    "duration": 123,
    "start_time": "2021-12-12T20:17:11.379Z"
   },
   {
    "duration": 9,
    "start_time": "2021-12-12T20:17:11.504Z"
   },
   {
    "duration": 14,
    "start_time": "2021-12-12T20:17:11.515Z"
   },
   {
    "duration": 3,
    "start_time": "2021-12-12T20:17:25.862Z"
   },
   {
    "duration": 12,
    "start_time": "2021-12-12T20:17:43.045Z"
   },
   {
    "duration": 3,
    "start_time": "2021-12-12T20:19:16.636Z"
   },
   {
    "duration": 400,
    "start_time": "2021-12-12T20:19:16.641Z"
   },
   {
    "duration": 9,
    "start_time": "2021-12-12T20:19:17.043Z"
   },
   {
    "duration": 23,
    "start_time": "2021-12-12T20:19:17.054Z"
   },
   {
    "duration": 9,
    "start_time": "2021-12-12T20:19:17.079Z"
   },
   {
    "duration": 19,
    "start_time": "2021-12-12T20:19:17.091Z"
   },
   {
    "duration": 8,
    "start_time": "2021-12-12T20:19:17.112Z"
   },
   {
    "duration": 15,
    "start_time": "2021-12-12T20:19:17.123Z"
   },
   {
    "duration": 9,
    "start_time": "2021-12-12T20:19:17.140Z"
   },
   {
    "duration": 6,
    "start_time": "2021-12-12T20:19:17.151Z"
   },
   {
    "duration": 47,
    "start_time": "2021-12-12T20:19:17.159Z"
   },
   {
    "duration": 7,
    "start_time": "2021-12-12T20:19:17.208Z"
   },
   {
    "duration": 66,
    "start_time": "2021-12-12T20:19:17.217Z"
   },
   {
    "duration": 74,
    "start_time": "2021-12-12T20:19:17.285Z"
   },
   {
    "duration": 15,
    "start_time": "2021-12-12T20:19:17.360Z"
   },
   {
    "duration": 4,
    "start_time": "2021-12-12T20:19:17.376Z"
   },
   {
    "duration": 269,
    "start_time": "2021-12-12T20:19:17.382Z"
   },
   {
    "duration": 25,
    "start_time": "2021-12-12T20:19:17.653Z"
   },
   {
    "duration": 40,
    "start_time": "2021-12-12T20:19:17.680Z"
   },
   {
    "duration": 4,
    "start_time": "2021-12-12T20:19:17.722Z"
   },
   {
    "duration": 23,
    "start_time": "2021-12-12T20:19:17.728Z"
   },
   {
    "duration": 126,
    "start_time": "2021-12-12T20:19:17.753Z"
   },
   {
    "duration": 86,
    "start_time": "2021-12-12T20:19:17.882Z"
   },
   {
    "duration": 12,
    "start_time": "2021-12-12T20:19:17.969Z"
   },
   {
    "duration": 127,
    "start_time": "2021-12-12T20:19:17.983Z"
   },
   {
    "duration": 9,
    "start_time": "2021-12-12T20:19:18.111Z"
   },
   {
    "duration": 10,
    "start_time": "2021-12-12T20:19:18.122Z"
   },
   {
    "duration": 435,
    "start_time": "2021-12-13T10:38:05.104Z"
   },
   {
    "duration": 1363,
    "start_time": "2021-12-13T10:38:11.326Z"
   },
   {
    "duration": 503,
    "start_time": "2021-12-13T10:38:12.692Z"
   },
   {
    "duration": 17,
    "start_time": "2021-12-13T10:38:13.198Z"
   },
   {
    "duration": 30,
    "start_time": "2021-12-13T10:38:13.218Z"
   },
   {
    "duration": 12,
    "start_time": "2021-12-13T10:38:13.250Z"
   },
   {
    "duration": 36,
    "start_time": "2021-12-13T10:38:13.264Z"
   },
   {
    "duration": 23,
    "start_time": "2021-12-13T10:38:13.302Z"
   },
   {
    "duration": 25,
    "start_time": "2021-12-13T10:38:13.329Z"
   },
   {
    "duration": 12,
    "start_time": "2021-12-13T10:38:13.357Z"
   },
   {
    "duration": 10,
    "start_time": "2021-12-13T10:38:13.372Z"
   },
   {
    "duration": 46,
    "start_time": "2021-12-13T10:38:13.385Z"
   },
   {
    "duration": 23,
    "start_time": "2021-12-13T10:38:13.434Z"
   },
   {
    "duration": 94,
    "start_time": "2021-12-13T10:38:13.459Z"
   },
   {
    "duration": 97,
    "start_time": "2021-12-13T10:38:13.556Z"
   },
   {
    "duration": 28,
    "start_time": "2021-12-13T10:38:13.655Z"
   },
   {
    "duration": 5,
    "start_time": "2021-12-13T10:38:13.685Z"
   },
   {
    "duration": 435,
    "start_time": "2021-12-13T10:38:13.693Z"
   },
   {
    "duration": 41,
    "start_time": "2021-12-13T10:38:14.130Z"
   },
   {
    "duration": 61,
    "start_time": "2021-12-13T10:38:14.173Z"
   },
   {
    "duration": 6,
    "start_time": "2021-12-13T10:38:14.237Z"
   },
   {
    "duration": 20,
    "start_time": "2021-12-13T10:38:14.246Z"
   },
   {
    "duration": 61,
    "start_time": "2021-12-13T10:38:14.269Z"
   },
   {
    "duration": 128,
    "start_time": "2021-12-13T10:38:14.334Z"
   },
   {
    "duration": 19,
    "start_time": "2021-12-13T10:38:14.465Z"
   },
   {
    "duration": 228,
    "start_time": "2021-12-13T10:38:14.487Z"
   },
   {
    "duration": 16,
    "start_time": "2021-12-13T10:38:14.717Z"
   },
   {
    "duration": 16,
    "start_time": "2021-12-13T10:38:14.736Z"
   },
   {
    "duration": 11,
    "start_time": "2021-12-13T10:38:14.754Z"
   },
   {
    "duration": 94,
    "start_time": "2021-12-13T10:38:14.768Z"
   },
   {
    "duration": 1389,
    "start_time": "2021-12-13T10:40:23.153Z"
   },
   {
    "duration": 4,
    "start_time": "2021-12-13T10:40:53.967Z"
   },
   {
    "duration": 24,
    "start_time": "2021-12-13T10:41:07.553Z"
   },
   {
    "duration": 4,
    "start_time": "2021-12-13T10:42:15.358Z"
   },
   {
    "duration": 479,
    "start_time": "2021-12-13T10:42:15.365Z"
   },
   {
    "duration": 10,
    "start_time": "2021-12-13T10:42:15.847Z"
   },
   {
    "duration": 34,
    "start_time": "2021-12-13T10:42:15.859Z"
   },
   {
    "duration": 11,
    "start_time": "2021-12-13T10:42:15.895Z"
   },
   {
    "duration": 24,
    "start_time": "2021-12-13T10:42:15.909Z"
   },
   {
    "duration": 9,
    "start_time": "2021-12-13T10:42:15.936Z"
   },
   {
    "duration": 21,
    "start_time": "2021-12-13T10:42:15.949Z"
   },
   {
    "duration": 11,
    "start_time": "2021-12-13T10:42:15.973Z"
   },
   {
    "duration": 43,
    "start_time": "2021-12-13T10:42:15.987Z"
   },
   {
    "duration": 19,
    "start_time": "2021-12-13T10:42:16.034Z"
   },
   {
    "duration": 11,
    "start_time": "2021-12-13T10:42:16.055Z"
   },
   {
    "duration": 121,
    "start_time": "2021-12-13T10:42:16.069Z"
   },
   {
    "duration": 99,
    "start_time": "2021-12-13T10:42:16.193Z"
   },
   {
    "duration": 33,
    "start_time": "2021-12-13T10:42:16.295Z"
   },
   {
    "duration": 5,
    "start_time": "2021-12-13T10:42:16.331Z"
   },
   {
    "duration": 433,
    "start_time": "2021-12-13T10:42:16.338Z"
   },
   {
    "duration": 51,
    "start_time": "2021-12-13T10:42:16.773Z"
   },
   {
    "duration": 35,
    "start_time": "2021-12-13T10:42:16.827Z"
   },
   {
    "duration": 3,
    "start_time": "2021-12-13T10:42:16.865Z"
   },
   {
    "duration": 25,
    "start_time": "2021-12-13T10:42:16.870Z"
   },
   {
    "duration": 39,
    "start_time": "2021-12-13T10:42:16.897Z"
   },
   {
    "duration": 40,
    "start_time": "2021-12-13T10:42:16.940Z"
   },
   {
    "duration": 132,
    "start_time": "2021-12-13T10:42:16.983Z"
   },
   {
    "duration": 19,
    "start_time": "2021-12-13T10:42:17.117Z"
   },
   {
    "duration": 240,
    "start_time": "2021-12-13T10:42:17.138Z"
   },
   {
    "duration": 12,
    "start_time": "2021-12-13T10:42:17.381Z"
   },
   {
    "duration": 32,
    "start_time": "2021-12-13T10:42:17.396Z"
   },
   {
    "duration": 148,
    "start_time": "2021-12-13T10:42:17.431Z"
   },
   {
    "duration": 4,
    "start_time": "2021-12-13T10:48:10.770Z"
   },
   {
    "duration": 513,
    "start_time": "2021-12-13T10:48:10.777Z"
   },
   {
    "duration": 11,
    "start_time": "2021-12-13T10:48:11.293Z"
   },
   {
    "duration": 31,
    "start_time": "2021-12-13T10:48:11.307Z"
   },
   {
    "duration": 11,
    "start_time": "2021-12-13T10:48:11.340Z"
   },
   {
    "duration": 23,
    "start_time": "2021-12-13T10:48:11.354Z"
   },
   {
    "duration": 10,
    "start_time": "2021-12-13T10:48:11.380Z"
   },
   {
    "duration": 20,
    "start_time": "2021-12-13T10:48:11.422Z"
   },
   {
    "duration": 12,
    "start_time": "2021-12-13T10:48:11.445Z"
   },
   {
    "duration": 11,
    "start_time": "2021-12-13T10:48:11.460Z"
   },
   {
    "duration": 50,
    "start_time": "2021-12-13T10:48:11.474Z"
   },
   {
    "duration": 10,
    "start_time": "2021-12-13T10:48:11.527Z"
   },
   {
    "duration": 105,
    "start_time": "2021-12-13T10:48:11.540Z"
   },
   {
    "duration": 92,
    "start_time": "2021-12-13T10:48:11.648Z"
   },
   {
    "duration": 25,
    "start_time": "2021-12-13T10:48:11.743Z"
   },
   {
    "duration": 6,
    "start_time": "2021-12-13T10:48:11.771Z"
   },
   {
    "duration": 435,
    "start_time": "2021-12-13T10:48:11.779Z"
   },
   {
    "duration": 43,
    "start_time": "2021-12-13T10:48:12.216Z"
   },
   {
    "duration": 33,
    "start_time": "2021-12-13T10:48:12.262Z"
   },
   {
    "duration": 3,
    "start_time": "2021-12-13T10:48:12.323Z"
   },
   {
    "duration": 10,
    "start_time": "2021-12-13T10:48:12.329Z"
   },
   {
    "duration": 25,
    "start_time": "2021-12-13T10:48:12.341Z"
   },
   {
    "duration": 54,
    "start_time": "2021-12-13T10:48:12.370Z"
   },
   {
    "duration": 123,
    "start_time": "2021-12-13T10:48:12.427Z"
   },
   {
    "duration": 16,
    "start_time": "2021-12-13T10:48:12.552Z"
   },
   {
    "duration": 182,
    "start_time": "2021-12-13T10:48:12.570Z"
   },
   {
    "duration": 14,
    "start_time": "2021-12-13T10:48:12.755Z"
   },
   {
    "duration": 16,
    "start_time": "2021-12-13T10:48:12.771Z"
   },
   {
    "duration": 99,
    "start_time": "2021-12-13T10:48:12.790Z"
   },
   {
    "duration": 314,
    "start_time": "2021-12-13T10:55:48.671Z"
   },
   {
    "duration": 5,
    "start_time": "2021-12-13T10:56:02.734Z"
   },
   {
    "duration": 9,
    "start_time": "2021-12-13T11:23:47.048Z"
   },
   {
    "duration": 675,
    "start_time": "2021-12-13T11:25:23.054Z"
   },
   {
    "duration": 4,
    "start_time": "2021-12-13T11:25:54.394Z"
   },
   {
    "duration": 501,
    "start_time": "2021-12-13T11:25:54.401Z"
   },
   {
    "duration": 11,
    "start_time": "2021-12-13T11:25:54.905Z"
   },
   {
    "duration": 35,
    "start_time": "2021-12-13T11:25:54.919Z"
   },
   {
    "duration": 12,
    "start_time": "2021-12-13T11:25:54.957Z"
   },
   {
    "duration": 32,
    "start_time": "2021-12-13T11:25:54.972Z"
   },
   {
    "duration": 18,
    "start_time": "2021-12-13T11:25:55.007Z"
   },
   {
    "duration": 24,
    "start_time": "2021-12-13T11:25:55.028Z"
   },
   {
    "duration": 19,
    "start_time": "2021-12-13T11:25:55.055Z"
   },
   {
    "duration": 16,
    "start_time": "2021-12-13T11:25:55.077Z"
   },
   {
    "duration": 33,
    "start_time": "2021-12-13T11:25:55.095Z"
   },
   {
    "duration": 19,
    "start_time": "2021-12-13T11:25:55.131Z"
   },
   {
    "duration": 96,
    "start_time": "2021-12-13T11:25:55.152Z"
   },
   {
    "duration": 92,
    "start_time": "2021-12-13T11:25:55.251Z"
   },
   {
    "duration": 22,
    "start_time": "2021-12-13T11:25:55.346Z"
   },
   {
    "duration": 5,
    "start_time": "2021-12-13T11:25:55.371Z"
   },
   {
    "duration": 426,
    "start_time": "2021-12-13T11:25:55.378Z"
   },
   {
    "duration": 45,
    "start_time": "2021-12-13T11:25:55.807Z"
   },
   {
    "duration": 33,
    "start_time": "2021-12-13T11:25:55.854Z"
   },
   {
    "duration": 3,
    "start_time": "2021-12-13T11:25:55.889Z"
   },
   {
    "duration": 29,
    "start_time": "2021-12-13T11:25:55.894Z"
   },
   {
    "duration": 18,
    "start_time": "2021-12-13T11:25:55.925Z"
   },
   {
    "duration": 35,
    "start_time": "2021-12-13T11:25:55.948Z"
   },
   {
    "duration": 144,
    "start_time": "2021-12-13T11:25:55.986Z"
   },
   {
    "duration": 14,
    "start_time": "2021-12-13T11:25:56.132Z"
   },
   {
    "duration": 177,
    "start_time": "2021-12-13T11:25:56.148Z"
   },
   {
    "duration": 12,
    "start_time": "2021-12-13T11:25:56.328Z"
   },
   {
    "duration": 28,
    "start_time": "2021-12-13T11:25:56.343Z"
   },
   {
    "duration": 6,
    "start_time": "2021-12-13T11:25:56.373Z"
   },
   {
    "duration": 9,
    "start_time": "2021-12-13T11:25:56.382Z"
   },
   {
    "duration": 616,
    "start_time": "2021-12-13T11:25:56.394Z"
   },
   {
    "duration": 759,
    "start_time": "2021-12-13T11:26:16.197Z"
   },
   {
    "duration": 4,
    "start_time": "2021-12-13T11:28:28.811Z"
   },
   {
    "duration": 506,
    "start_time": "2021-12-13T11:28:28.818Z"
   },
   {
    "duration": 10,
    "start_time": "2021-12-13T11:28:29.327Z"
   },
   {
    "duration": 29,
    "start_time": "2021-12-13T11:28:29.340Z"
   },
   {
    "duration": 12,
    "start_time": "2021-12-13T11:28:29.371Z"
   },
   {
    "duration": 53,
    "start_time": "2021-12-13T11:28:29.386Z"
   },
   {
    "duration": 12,
    "start_time": "2021-12-13T11:28:29.441Z"
   },
   {
    "duration": 22,
    "start_time": "2021-12-13T11:28:29.456Z"
   },
   {
    "duration": 42,
    "start_time": "2021-12-13T11:28:29.481Z"
   },
   {
    "duration": 10,
    "start_time": "2021-12-13T11:28:29.526Z"
   },
   {
    "duration": 17,
    "start_time": "2021-12-13T11:28:29.540Z"
   },
   {
    "duration": 12,
    "start_time": "2021-12-13T11:28:29.560Z"
   },
   {
    "duration": 124,
    "start_time": "2021-12-13T11:28:29.575Z"
   },
   {
    "duration": 95,
    "start_time": "2021-12-13T11:28:29.701Z"
   },
   {
    "duration": 37,
    "start_time": "2021-12-13T11:28:29.799Z"
   },
   {
    "duration": 6,
    "start_time": "2021-12-13T11:28:29.839Z"
   },
   {
    "duration": 497,
    "start_time": "2021-12-13T11:28:29.848Z"
   },
   {
    "duration": 36,
    "start_time": "2021-12-13T11:28:30.347Z"
   },
   {
    "duration": 54,
    "start_time": "2021-12-13T11:28:30.386Z"
   },
   {
    "duration": 4,
    "start_time": "2021-12-13T11:28:30.442Z"
   },
   {
    "duration": 19,
    "start_time": "2021-12-13T11:28:30.448Z"
   },
   {
    "duration": 39,
    "start_time": "2021-12-13T11:28:30.469Z"
   },
   {
    "duration": 43,
    "start_time": "2021-12-13T11:28:30.513Z"
   },
   {
    "duration": 116,
    "start_time": "2021-12-13T11:28:30.558Z"
   },
   {
    "duration": 16,
    "start_time": "2021-12-13T11:28:30.677Z"
   },
   {
    "duration": 187,
    "start_time": "2021-12-13T11:28:30.696Z"
   },
   {
    "duration": 16,
    "start_time": "2021-12-13T11:28:30.887Z"
   },
   {
    "duration": 16,
    "start_time": "2021-12-13T11:28:30.924Z"
   },
   {
    "duration": 14,
    "start_time": "2021-12-13T11:28:30.942Z"
   },
   {
    "duration": 17,
    "start_time": "2021-12-13T11:28:30.958Z"
   },
   {
    "duration": 653,
    "start_time": "2021-12-13T11:28:30.977Z"
   },
   {
    "duration": 604,
    "start_time": "2021-12-13T11:30:29.631Z"
   },
   {
    "duration": 4,
    "start_time": "2021-12-13T11:32:50.129Z"
   },
   {
    "duration": 487,
    "start_time": "2021-12-13T11:32:50.135Z"
   },
   {
    "duration": 12,
    "start_time": "2021-12-13T11:32:50.626Z"
   },
   {
    "duration": 37,
    "start_time": "2021-12-13T11:32:50.642Z"
   },
   {
    "duration": 13,
    "start_time": "2021-12-13T11:32:50.682Z"
   },
   {
    "duration": 25,
    "start_time": "2021-12-13T11:32:50.722Z"
   },
   {
    "duration": 29,
    "start_time": "2021-12-13T11:32:50.751Z"
   },
   {
    "duration": 25,
    "start_time": "2021-12-13T11:32:50.783Z"
   },
   {
    "duration": 31,
    "start_time": "2021-12-13T11:32:50.810Z"
   },
   {
    "duration": 20,
    "start_time": "2021-12-13T11:32:50.843Z"
   },
   {
    "duration": 33,
    "start_time": "2021-12-13T11:32:50.865Z"
   },
   {
    "duration": 23,
    "start_time": "2021-12-13T11:32:50.900Z"
   },
   {
    "duration": 91,
    "start_time": "2021-12-13T11:32:50.925Z"
   },
   {
    "duration": 78,
    "start_time": "2021-12-13T11:32:51.018Z"
   },
   {
    "duration": 31,
    "start_time": "2021-12-13T11:32:51.099Z"
   },
   {
    "duration": 6,
    "start_time": "2021-12-13T11:32:51.132Z"
   },
   {
    "duration": 414,
    "start_time": "2021-12-13T11:32:51.140Z"
   },
   {
    "duration": 35,
    "start_time": "2021-12-13T11:32:51.556Z"
   },
   {
    "duration": 52,
    "start_time": "2021-12-13T11:32:51.595Z"
   },
   {
    "duration": 4,
    "start_time": "2021-12-13T11:32:51.649Z"
   },
   {
    "duration": 10,
    "start_time": "2021-12-13T11:32:51.655Z"
   },
   {
    "duration": 17,
    "start_time": "2021-12-13T11:32:51.668Z"
   },
   {
    "duration": 71,
    "start_time": "2021-12-13T11:32:51.687Z"
   },
   {
    "duration": 145,
    "start_time": "2021-12-13T11:32:51.761Z"
   },
   {
    "duration": 25,
    "start_time": "2021-12-13T11:32:51.909Z"
   },
   {
    "duration": 186,
    "start_time": "2021-12-13T11:32:51.937Z"
   },
   {
    "duration": 15,
    "start_time": "2021-12-13T11:32:52.126Z"
   },
   {
    "duration": 18,
    "start_time": "2021-12-13T11:32:52.143Z"
   },
   {
    "duration": 12,
    "start_time": "2021-12-13T11:32:52.164Z"
   },
   {
    "duration": 10,
    "start_time": "2021-12-13T11:32:52.178Z"
   },
   {
    "duration": 2179,
    "start_time": "2021-12-13T11:32:52.190Z"
   },
   {
    "duration": 4,
    "start_time": "2021-12-13T11:33:15.492Z"
   },
   {
    "duration": 497,
    "start_time": "2021-12-13T11:33:15.499Z"
   },
   {
    "duration": 11,
    "start_time": "2021-12-13T11:33:16.000Z"
   },
   {
    "duration": 32,
    "start_time": "2021-12-13T11:33:16.014Z"
   },
   {
    "duration": 11,
    "start_time": "2021-12-13T11:33:16.049Z"
   },
   {
    "duration": 23,
    "start_time": "2021-12-13T11:33:16.063Z"
   },
   {
    "duration": 37,
    "start_time": "2021-12-13T11:33:16.088Z"
   },
   {
    "duration": 22,
    "start_time": "2021-12-13T11:33:16.128Z"
   },
   {
    "duration": 11,
    "start_time": "2021-12-13T11:33:16.153Z"
   },
   {
    "duration": 10,
    "start_time": "2021-12-13T11:33:16.167Z"
   },
   {
    "duration": 53,
    "start_time": "2021-12-13T11:33:16.180Z"
   },
   {
    "duration": 12,
    "start_time": "2021-12-13T11:33:16.236Z"
   },
   {
    "duration": 110,
    "start_time": "2021-12-13T11:33:16.251Z"
   },
   {
    "duration": 100,
    "start_time": "2021-12-13T11:33:16.363Z"
   },
   {
    "duration": 23,
    "start_time": "2021-12-13T11:33:16.466Z"
   },
   {
    "duration": 5,
    "start_time": "2021-12-13T11:33:16.492Z"
   },
   {
    "duration": 428,
    "start_time": "2021-12-13T11:33:16.499Z"
   },
   {
    "duration": 37,
    "start_time": "2021-12-13T11:33:16.929Z"
   },
   {
    "duration": 55,
    "start_time": "2021-12-13T11:33:16.969Z"
   },
   {
    "duration": 3,
    "start_time": "2021-12-13T11:33:17.027Z"
   },
   {
    "duration": 21,
    "start_time": "2021-12-13T11:33:17.033Z"
   },
   {
    "duration": 34,
    "start_time": "2021-12-13T11:33:17.056Z"
   },
   {
    "duration": 45,
    "start_time": "2021-12-13T11:33:17.097Z"
   },
   {
    "duration": 131,
    "start_time": "2021-12-13T11:33:17.145Z"
   },
   {
    "duration": 17,
    "start_time": "2021-12-13T11:33:17.279Z"
   },
   {
    "duration": 264,
    "start_time": "2021-12-13T11:33:17.298Z"
   },
   {
    "duration": 16,
    "start_time": "2021-12-13T11:33:17.565Z"
   },
   {
    "duration": 17,
    "start_time": "2021-12-13T11:33:17.584Z"
   },
   {
    "duration": 7,
    "start_time": "2021-12-13T11:33:17.624Z"
   },
   {
    "duration": 17,
    "start_time": "2021-12-13T11:33:17.634Z"
   },
   {
    "duration": 2046,
    "start_time": "2021-12-13T11:33:17.653Z"
   },
   {
    "duration": 2052,
    "start_time": "2021-12-13T11:33:24.670Z"
   },
   {
    "duration": 2041,
    "start_time": "2021-12-13T11:36:43.771Z"
   },
   {
    "duration": 4,
    "start_time": "2021-12-13T11:36:47.980Z"
   },
   {
    "duration": 496,
    "start_time": "2021-12-13T11:36:47.988Z"
   },
   {
    "duration": 13,
    "start_time": "2021-12-13T11:36:48.487Z"
   },
   {
    "duration": 28,
    "start_time": "2021-12-13T11:36:48.504Z"
   },
   {
    "duration": 13,
    "start_time": "2021-12-13T11:36:48.535Z"
   },
   {
    "duration": 22,
    "start_time": "2021-12-13T11:36:48.551Z"
   },
   {
    "duration": 10,
    "start_time": "2021-12-13T11:36:48.577Z"
   },
   {
    "duration": 18,
    "start_time": "2021-12-13T11:36:48.627Z"
   },
   {
    "duration": 13,
    "start_time": "2021-12-13T11:36:48.649Z"
   },
   {
    "duration": 10,
    "start_time": "2021-12-13T11:36:48.665Z"
   },
   {
    "duration": 57,
    "start_time": "2021-12-13T11:36:48.678Z"
   },
   {
    "duration": 8,
    "start_time": "2021-12-13T11:36:48.738Z"
   },
   {
    "duration": 116,
    "start_time": "2021-12-13T11:36:48.749Z"
   },
   {
    "duration": 99,
    "start_time": "2021-12-13T11:36:48.867Z"
   },
   {
    "duration": 26,
    "start_time": "2021-12-13T11:36:48.969Z"
   },
   {
    "duration": 25,
    "start_time": "2021-12-13T11:36:48.998Z"
   },
   {
    "duration": 400,
    "start_time": "2021-12-13T11:36:49.026Z"
   },
   {
    "duration": 34,
    "start_time": "2021-12-13T11:36:49.428Z"
   },
   {
    "duration": 33,
    "start_time": "2021-12-13T11:36:49.464Z"
   },
   {
    "duration": 24,
    "start_time": "2021-12-13T11:36:49.499Z"
   },
   {
    "duration": 12,
    "start_time": "2021-12-13T11:36:49.525Z"
   },
   {
    "duration": 23,
    "start_time": "2021-12-13T11:36:49.539Z"
   },
   {
    "duration": 34,
    "start_time": "2021-12-13T11:36:49.567Z"
   },
   {
    "duration": 135,
    "start_time": "2021-12-13T11:36:49.604Z"
   },
   {
    "duration": 14,
    "start_time": "2021-12-13T11:36:49.741Z"
   },
   {
    "duration": 319,
    "start_time": "2021-12-13T11:36:49.757Z"
   },
   {
    "duration": 17,
    "start_time": "2021-12-13T11:36:50.079Z"
   },
   {
    "duration": 32,
    "start_time": "2021-12-13T11:36:50.099Z"
   },
   {
    "duration": 10,
    "start_time": "2021-12-13T11:36:50.134Z"
   },
   {
    "duration": 10,
    "start_time": "2021-12-13T11:36:50.147Z"
   },
   {
    "duration": 2053,
    "start_time": "2021-12-13T11:36:50.159Z"
   },
   {
    "duration": 10,
    "start_time": "2021-12-13T12:26:12.456Z"
   },
   {
    "duration": 29,
    "start_time": "2021-12-13T12:26:19.659Z"
   },
   {
    "duration": 42,
    "start_time": "2021-12-13T12:27:00.653Z"
   },
   {
    "duration": 25,
    "start_time": "2021-12-13T12:36:29.903Z"
   },
   {
    "duration": 4,
    "start_time": "2021-12-13T12:46:25.125Z"
   },
   {
    "duration": 530,
    "start_time": "2021-12-13T12:46:25.132Z"
   },
   {
    "duration": 11,
    "start_time": "2021-12-13T12:46:25.665Z"
   },
   {
    "duration": 28,
    "start_time": "2021-12-13T12:46:25.680Z"
   },
   {
    "duration": 13,
    "start_time": "2021-12-13T12:46:25.711Z"
   },
   {
    "duration": 21,
    "start_time": "2021-12-13T12:46:25.726Z"
   },
   {
    "duration": 11,
    "start_time": "2021-12-13T12:46:25.750Z"
   },
   {
    "duration": 19,
    "start_time": "2021-12-13T12:46:25.764Z"
   },
   {
    "duration": 48,
    "start_time": "2021-12-13T12:46:25.786Z"
   },
   {
    "duration": 11,
    "start_time": "2021-12-13T12:46:25.836Z"
   },
   {
    "duration": 17,
    "start_time": "2021-12-13T12:46:25.850Z"
   },
   {
    "duration": 32,
    "start_time": "2021-12-13T12:46:25.869Z"
   },
   {
    "duration": 100,
    "start_time": "2021-12-13T12:46:25.904Z"
   },
   {
    "duration": 93,
    "start_time": "2021-12-13T12:46:26.007Z"
   },
   {
    "duration": 37,
    "start_time": "2021-12-13T12:46:26.103Z"
   },
   {
    "duration": 5,
    "start_time": "2021-12-13T12:46:26.143Z"
   },
   {
    "duration": 435,
    "start_time": "2021-12-13T12:46:26.151Z"
   },
   {
    "duration": 54,
    "start_time": "2021-12-13T12:46:26.588Z"
   },
   {
    "duration": 41,
    "start_time": "2021-12-13T12:46:26.644Z"
   },
   {
    "duration": 4,
    "start_time": "2021-12-13T12:46:26.688Z"
   },
   {
    "duration": 7,
    "start_time": "2021-12-13T12:46:26.723Z"
   },
   {
    "duration": 23,
    "start_time": "2021-12-13T12:46:26.732Z"
   },
   {
    "duration": 36,
    "start_time": "2021-12-13T12:46:26.759Z"
   },
   {
    "duration": 170,
    "start_time": "2021-12-13T12:46:26.825Z"
   },
   {
    "duration": 27,
    "start_time": "2021-12-13T12:46:26.998Z"
   },
   {
    "duration": 175,
    "start_time": "2021-12-13T12:46:27.028Z"
   },
   {
    "duration": 23,
    "start_time": "2021-12-13T12:46:27.205Z"
   },
   {
    "duration": 13,
    "start_time": "2021-12-13T12:46:27.231Z"
   },
   {
    "duration": 10,
    "start_time": "2021-12-13T12:46:27.246Z"
   },
   {
    "duration": 10,
    "start_time": "2021-12-13T12:46:27.258Z"
   },
   {
    "duration": 2178,
    "start_time": "2021-12-13T12:46:27.270Z"
   },
   {
    "duration": 41,
    "start_time": "2021-12-13T12:46:29.451Z"
   },
   {
    "duration": 39,
    "start_time": "2021-12-13T12:46:29.494Z"
   },
   {
    "duration": 4,
    "start_time": "2021-12-13T12:46:29.535Z"
   },
   {
    "duration": 1532,
    "start_time": "2021-12-13T12:46:29.541Z"
   },
   {
    "duration": 1492,
    "start_time": "2021-12-13T12:46:54.196Z"
   },
   {
    "duration": 1123,
    "start_time": "2021-12-13T12:49:07.435Z"
   },
   {
    "duration": 1727,
    "start_time": "2021-12-13T12:49:13.859Z"
   },
   {
    "duration": 1416,
    "start_time": "2021-12-13T12:49:20.631Z"
   },
   {
    "duration": 1467,
    "start_time": "2021-12-13T12:49:37.071Z"
   },
   {
    "duration": 680,
    "start_time": "2021-12-13T12:51:01.464Z"
   },
   {
    "duration": 670,
    "start_time": "2021-12-13T12:51:21.927Z"
   },
   {
    "duration": 1346,
    "start_time": "2021-12-13T12:51:29.538Z"
   },
   {
    "duration": 4,
    "start_time": "2021-12-13T13:09:03.627Z"
   },
   {
    "duration": 526,
    "start_time": "2021-12-13T13:09:03.635Z"
   },
   {
    "duration": 12,
    "start_time": "2021-12-13T13:09:04.164Z"
   },
   {
    "duration": 37,
    "start_time": "2021-12-13T13:09:04.179Z"
   },
   {
    "duration": 13,
    "start_time": "2021-12-13T13:09:04.218Z"
   },
   {
    "duration": 27,
    "start_time": "2021-12-13T13:09:04.233Z"
   },
   {
    "duration": 10,
    "start_time": "2021-12-13T13:09:04.264Z"
   },
   {
    "duration": 49,
    "start_time": "2021-12-13T13:09:04.276Z"
   },
   {
    "duration": 12,
    "start_time": "2021-12-13T13:09:04.328Z"
   },
   {
    "duration": 13,
    "start_time": "2021-12-13T13:09:04.343Z"
   },
   {
    "duration": 23,
    "start_time": "2021-12-13T13:09:04.358Z"
   },
   {
    "duration": 18,
    "start_time": "2021-12-13T13:09:04.383Z"
   },
   {
    "duration": 99,
    "start_time": "2021-12-13T13:09:04.403Z"
   },
   {
    "duration": 99,
    "start_time": "2021-12-13T13:09:04.504Z"
   },
   {
    "duration": 32,
    "start_time": "2021-12-13T13:09:04.606Z"
   },
   {
    "duration": 5,
    "start_time": "2021-12-13T13:09:04.640Z"
   },
   {
    "duration": 454,
    "start_time": "2021-12-13T13:09:04.647Z"
   },
   {
    "duration": 53,
    "start_time": "2021-12-13T13:09:05.104Z"
   },
   {
    "duration": 34,
    "start_time": "2021-12-13T13:09:05.164Z"
   },
   {
    "duration": 24,
    "start_time": "2021-12-13T13:09:05.201Z"
   },
   {
    "duration": 10,
    "start_time": "2021-12-13T13:09:05.229Z"
   },
   {
    "duration": 18,
    "start_time": "2021-12-13T13:09:05.241Z"
   },
   {
    "duration": 67,
    "start_time": "2021-12-13T13:09:05.261Z"
   },
   {
    "duration": 128,
    "start_time": "2021-12-13T13:09:05.330Z"
   },
   {
    "duration": 14,
    "start_time": "2021-12-13T13:09:05.460Z"
   },
   {
    "duration": 190,
    "start_time": "2021-12-13T13:09:05.476Z"
   },
   {
    "duration": 13,
    "start_time": "2021-12-13T13:09:05.668Z"
   },
   {
    "duration": 14,
    "start_time": "2021-12-13T13:09:05.684Z"
   },
   {
    "duration": 23,
    "start_time": "2021-12-13T13:09:05.700Z"
   },
   {
    "duration": 10,
    "start_time": "2021-12-13T13:09:05.725Z"
   },
   {
    "duration": 2061,
    "start_time": "2021-12-13T13:09:05.737Z"
   },
   {
    "duration": 49,
    "start_time": "2021-12-13T13:09:07.800Z"
   },
   {
    "duration": 23,
    "start_time": "2021-12-13T13:09:07.852Z"
   },
   {
    "duration": 3,
    "start_time": "2021-12-13T13:09:07.878Z"
   },
   {
    "duration": 294,
    "start_time": "2021-12-13T13:09:07.883Z"
   },
   {
    "duration": 137,
    "start_time": "2021-12-13T13:09:08.042Z"
   },
   {
    "duration": 132,
    "start_time": "2021-12-13T13:09:08.048Z"
   },
   {
    "duration": 131,
    "start_time": "2021-12-13T13:09:08.051Z"
   },
   {
    "duration": 129,
    "start_time": "2021-12-13T13:09:08.054Z"
   },
   {
    "duration": 5,
    "start_time": "2021-12-13T13:09:54.347Z"
   },
   {
    "duration": 565,
    "start_time": "2021-12-13T13:09:54.355Z"
   },
   {
    "duration": 12,
    "start_time": "2021-12-13T13:09:54.923Z"
   },
   {
    "duration": 29,
    "start_time": "2021-12-13T13:09:54.939Z"
   },
   {
    "duration": 52,
    "start_time": "2021-12-13T13:09:54.971Z"
   },
   {
    "duration": 23,
    "start_time": "2021-12-13T13:09:55.026Z"
   },
   {
    "duration": 13,
    "start_time": "2021-12-13T13:09:55.053Z"
   },
   {
    "duration": 26,
    "start_time": "2021-12-13T13:09:55.068Z"
   },
   {
    "duration": 34,
    "start_time": "2021-12-13T13:09:55.096Z"
   },
   {
    "duration": 14,
    "start_time": "2021-12-13T13:09:55.132Z"
   },
   {
    "duration": 17,
    "start_time": "2021-12-13T13:09:55.148Z"
   },
   {
    "duration": 11,
    "start_time": "2021-12-13T13:09:55.168Z"
   },
   {
    "duration": 116,
    "start_time": "2021-12-13T13:09:55.181Z"
   },
   {
    "duration": 91,
    "start_time": "2021-12-13T13:09:55.301Z"
   },
   {
    "duration": 38,
    "start_time": "2021-12-13T13:09:55.395Z"
   },
   {
    "duration": 6,
    "start_time": "2021-12-13T13:09:55.435Z"
   },
   {
    "duration": 589,
    "start_time": "2021-12-13T13:09:55.443Z"
   },
   {
    "duration": 37,
    "start_time": "2021-12-13T13:09:56.035Z"
   },
   {
    "duration": 59,
    "start_time": "2021-12-13T13:09:56.076Z"
   },
   {
    "duration": 3,
    "start_time": "2021-12-13T13:09:56.137Z"
   },
   {
    "duration": 8,
    "start_time": "2021-12-13T13:09:56.143Z"
   },
   {
    "duration": 15,
    "start_time": "2021-12-13T13:09:56.153Z"
   },
   {
    "duration": 64,
    "start_time": "2021-12-13T13:09:56.171Z"
   },
   {
    "duration": 123,
    "start_time": "2021-12-13T13:09:56.237Z"
   },
   {
    "duration": 15,
    "start_time": "2021-12-13T13:09:56.363Z"
   },
   {
    "duration": 182,
    "start_time": "2021-12-13T13:09:56.380Z"
   },
   {
    "duration": 15,
    "start_time": "2021-12-13T13:09:56.564Z"
   },
   {
    "duration": 12,
    "start_time": "2021-12-13T13:09:56.581Z"
   },
   {
    "duration": 28,
    "start_time": "2021-12-13T13:09:56.595Z"
   },
   {
    "duration": 10,
    "start_time": "2021-12-13T13:09:56.626Z"
   },
   {
    "duration": 2264,
    "start_time": "2021-12-13T13:09:56.639Z"
   },
   {
    "duration": 53,
    "start_time": "2021-12-13T13:09:58.906Z"
   },
   {
    "duration": 24,
    "start_time": "2021-12-13T13:09:58.961Z"
   },
   {
    "duration": 3,
    "start_time": "2021-12-13T13:09:58.987Z"
   },
   {
    "duration": 1454,
    "start_time": "2021-12-13T13:09:58.993Z"
   },
   {
    "duration": 43,
    "start_time": "2021-12-13T13:10:00.449Z"
   },
   {
    "duration": 14,
    "start_time": "2021-12-13T13:10:00.494Z"
   },
   {
    "duration": 14,
    "start_time": "2021-12-13T13:10:00.510Z"
   },
   {
    "duration": 1512,
    "start_time": "2021-12-13T13:10:00.527Z"
   },
   {
    "duration": 5,
    "start_time": "2021-12-13T13:12:06.948Z"
   },
   {
    "duration": 478,
    "start_time": "2021-12-13T13:12:06.956Z"
   },
   {
    "duration": 13,
    "start_time": "2021-12-13T13:12:07.438Z"
   },
   {
    "duration": 31,
    "start_time": "2021-12-13T13:12:07.454Z"
   },
   {
    "duration": 11,
    "start_time": "2021-12-13T13:12:07.488Z"
   },
   {
    "duration": 39,
    "start_time": "2021-12-13T13:12:07.501Z"
   },
   {
    "duration": 10,
    "start_time": "2021-12-13T13:12:07.543Z"
   },
   {
    "duration": 21,
    "start_time": "2021-12-13T13:12:07.557Z"
   },
   {
    "duration": 43,
    "start_time": "2021-12-13T13:12:07.581Z"
   },
   {
    "duration": 10,
    "start_time": "2021-12-13T13:12:07.627Z"
   },
   {
    "duration": 17,
    "start_time": "2021-12-13T13:12:07.640Z"
   },
   {
    "duration": 9,
    "start_time": "2021-12-13T13:12:07.659Z"
   },
   {
    "duration": 126,
    "start_time": "2021-12-13T13:12:07.670Z"
   },
   {
    "duration": 93,
    "start_time": "2021-12-13T13:12:07.798Z"
   },
   {
    "duration": 19,
    "start_time": "2021-12-13T13:12:07.893Z"
   },
   {
    "duration": 10,
    "start_time": "2021-12-13T13:12:07.915Z"
   },
   {
    "duration": 438,
    "start_time": "2021-12-13T13:12:07.927Z"
   },
   {
    "duration": 36,
    "start_time": "2021-12-13T13:12:08.368Z"
   },
   {
    "duration": 33,
    "start_time": "2021-12-13T13:12:08.422Z"
   },
   {
    "duration": 4,
    "start_time": "2021-12-13T13:12:08.457Z"
   },
   {
    "duration": 10,
    "start_time": "2021-12-13T13:12:08.463Z"
   },
   {
    "duration": 20,
    "start_time": "2021-12-13T13:12:08.475Z"
   },
   {
    "duration": 38,
    "start_time": "2021-12-13T13:12:08.524Z"
   },
   {
    "duration": 133,
    "start_time": "2021-12-13T13:12:08.565Z"
   },
   {
    "duration": 31,
    "start_time": "2021-12-13T13:12:08.701Z"
   },
   {
    "duration": 322,
    "start_time": "2021-12-13T13:12:08.734Z"
   },
   {
    "duration": 16,
    "start_time": "2021-12-13T13:12:09.059Z"
   },
   {
    "duration": 45,
    "start_time": "2021-12-13T13:12:09.078Z"
   },
   {
    "duration": 5,
    "start_time": "2021-12-13T13:12:09.126Z"
   },
   {
    "duration": 13,
    "start_time": "2021-12-13T13:12:09.134Z"
   },
   {
    "duration": 2052,
    "start_time": "2021-12-13T13:12:09.150Z"
   },
   {
    "duration": 52,
    "start_time": "2021-12-13T13:12:11.205Z"
   },
   {
    "duration": 21,
    "start_time": "2021-12-13T13:12:11.260Z"
   },
   {
    "duration": 4,
    "start_time": "2021-12-13T13:12:11.284Z"
   },
   {
    "duration": 1416,
    "start_time": "2021-12-13T13:12:11.291Z"
   },
   {
    "duration": 55,
    "start_time": "2021-12-13T13:12:12.709Z"
   },
   {
    "duration": 15,
    "start_time": "2021-12-13T13:12:12.767Z"
   },
   {
    "duration": 24,
    "start_time": "2021-12-13T13:12:12.785Z"
   },
   {
    "duration": 1363,
    "start_time": "2021-12-13T13:12:12.811Z"
   },
   {
    "duration": 1481,
    "start_time": "2021-12-13T13:12:26.413Z"
   },
   {
    "duration": 2065,
    "start_time": "2021-12-13T13:12:36.180Z"
   },
   {
    "duration": 1445,
    "start_time": "2021-12-13T13:12:42.996Z"
   },
   {
    "duration": 1202,
    "start_time": "2021-12-13T13:12:49.158Z"
   },
   {
    "duration": 1477,
    "start_time": "2021-12-13T13:12:57.146Z"
   },
   {
    "duration": 1481,
    "start_time": "2021-12-13T13:13:17.079Z"
   },
   {
    "duration": 1584,
    "start_time": "2021-12-13T13:13:31.887Z"
   },
   {
    "duration": 1317,
    "start_time": "2021-12-13T13:13:38.375Z"
   },
   {
    "duration": 924,
    "start_time": "2021-12-13T13:46:32.117Z"
   },
   {
    "duration": 1490,
    "start_time": "2021-12-13T13:46:39.790Z"
   },
   {
    "duration": 339,
    "start_time": "2021-12-13T14:05:39.258Z"
   },
   {
    "duration": 4,
    "start_time": "2021-12-13T14:06:04.928Z"
   },
   {
    "duration": 608,
    "start_time": "2021-12-13T14:06:04.934Z"
   },
   {
    "duration": 11,
    "start_time": "2021-12-13T14:06:05.545Z"
   },
   {
    "duration": 41,
    "start_time": "2021-12-13T14:06:05.558Z"
   },
   {
    "duration": 16,
    "start_time": "2021-12-13T14:06:05.601Z"
   },
   {
    "duration": 26,
    "start_time": "2021-12-13T14:06:05.619Z"
   },
   {
    "duration": 10,
    "start_time": "2021-12-13T14:06:05.647Z"
   },
   {
    "duration": 20,
    "start_time": "2021-12-13T14:06:05.661Z"
   },
   {
    "duration": 39,
    "start_time": "2021-12-13T14:06:05.685Z"
   },
   {
    "duration": 11,
    "start_time": "2021-12-13T14:06:05.727Z"
   },
   {
    "duration": 17,
    "start_time": "2021-12-13T14:06:05.741Z"
   },
   {
    "duration": 12,
    "start_time": "2021-12-13T14:06:05.761Z"
   },
   {
    "duration": 107,
    "start_time": "2021-12-13T14:06:05.776Z"
   },
   {
    "duration": 92,
    "start_time": "2021-12-13T14:06:05.886Z"
   },
   {
    "duration": 19,
    "start_time": "2021-12-13T14:06:05.980Z"
   },
   {
    "duration": 5,
    "start_time": "2021-12-13T14:06:06.002Z"
   },
   {
    "duration": 464,
    "start_time": "2021-12-13T14:06:06.024Z"
   },
   {
    "duration": 49,
    "start_time": "2021-12-13T14:06:06.490Z"
   },
   {
    "duration": 35,
    "start_time": "2021-12-13T14:06:06.542Z"
   },
   {
    "duration": 4,
    "start_time": "2021-12-13T14:06:06.580Z"
   },
   {
    "duration": 36,
    "start_time": "2021-12-13T14:06:06.587Z"
   },
   {
    "duration": 18,
    "start_time": "2021-12-13T14:06:06.626Z"
   },
   {
    "duration": 38,
    "start_time": "2021-12-13T14:06:06.650Z"
   },
   {
    "duration": 168,
    "start_time": "2021-12-13T14:06:06.692Z"
   },
   {
    "duration": 16,
    "start_time": "2021-12-13T14:06:06.863Z"
   },
   {
    "duration": 197,
    "start_time": "2021-12-13T14:06:06.882Z"
   },
   {
    "duration": 17,
    "start_time": "2021-12-13T14:06:07.082Z"
   },
   {
    "duration": 29,
    "start_time": "2021-12-13T14:06:07.101Z"
   },
   {
    "duration": 6,
    "start_time": "2021-12-13T14:06:07.133Z"
   },
   {
    "duration": 11,
    "start_time": "2021-12-13T14:06:07.142Z"
   },
   {
    "duration": 2289,
    "start_time": "2021-12-13T14:06:07.156Z"
   },
   {
    "duration": 50,
    "start_time": "2021-12-13T14:06:09.448Z"
   },
   {
    "duration": 43,
    "start_time": "2021-12-13T14:06:09.500Z"
   },
   {
    "duration": 8,
    "start_time": "2021-12-13T14:06:09.545Z"
   },
   {
    "duration": 1358,
    "start_time": "2021-12-13T14:06:09.556Z"
   },
   {
    "duration": 40,
    "start_time": "2021-12-13T14:06:10.924Z"
   },
   {
    "duration": 13,
    "start_time": "2021-12-13T14:06:10.967Z"
   },
   {
    "duration": 3,
    "start_time": "2021-12-13T14:06:10.983Z"
   },
   {
    "duration": 1627,
    "start_time": "2021-12-13T14:06:10.988Z"
   },
   {
    "duration": 403,
    "start_time": "2021-12-13T14:06:12.618Z"
   },
   {
    "duration": 9,
    "start_time": "2021-12-13T14:06:31.135Z"
   },
   {
    "duration": 5,
    "start_time": "2021-12-13T14:15:33.497Z"
   },
   {
    "duration": 582,
    "start_time": "2021-12-13T14:15:33.505Z"
   },
   {
    "duration": 13,
    "start_time": "2021-12-13T14:15:34.091Z"
   },
   {
    "duration": 33,
    "start_time": "2021-12-13T14:15:34.108Z"
   },
   {
    "duration": 14,
    "start_time": "2021-12-13T14:15:34.144Z"
   },
   {
    "duration": 26,
    "start_time": "2021-12-13T14:15:34.161Z"
   },
   {
    "duration": 39,
    "start_time": "2021-12-13T14:15:34.192Z"
   },
   {
    "duration": 29,
    "start_time": "2021-12-13T14:15:34.235Z"
   },
   {
    "duration": 19,
    "start_time": "2021-12-13T14:15:34.268Z"
   },
   {
    "duration": 39,
    "start_time": "2021-12-13T14:15:34.291Z"
   },
   {
    "duration": 24,
    "start_time": "2021-12-13T14:15:34.332Z"
   },
   {
    "duration": 18,
    "start_time": "2021-12-13T14:15:34.359Z"
   },
   {
    "duration": 101,
    "start_time": "2021-12-13T14:15:34.380Z"
   },
   {
    "duration": 99,
    "start_time": "2021-12-13T14:15:34.483Z"
   },
   {
    "duration": 23,
    "start_time": "2021-12-13T14:15:34.584Z"
   },
   {
    "duration": 6,
    "start_time": "2021-12-13T14:15:34.623Z"
   },
   {
    "duration": 603,
    "start_time": "2021-12-13T14:15:34.631Z"
   },
   {
    "duration": 42,
    "start_time": "2021-12-13T14:15:35.237Z"
   },
   {
    "duration": 69,
    "start_time": "2021-12-13T14:15:35.284Z"
   },
   {
    "duration": 5,
    "start_time": "2021-12-13T14:15:35.357Z"
   },
   {
    "duration": 15,
    "start_time": "2021-12-13T14:15:35.365Z"
   },
   {
    "duration": 24,
    "start_time": "2021-12-13T14:15:35.382Z"
   },
   {
    "duration": 51,
    "start_time": "2021-12-13T14:15:35.409Z"
   },
   {
    "duration": 142,
    "start_time": "2021-12-13T14:15:35.463Z"
   },
   {
    "duration": 22,
    "start_time": "2021-12-13T14:15:35.608Z"
   },
   {
    "duration": 185,
    "start_time": "2021-12-13T14:15:35.633Z"
   },
   {
    "duration": 13,
    "start_time": "2021-12-13T14:15:35.820Z"
   },
   {
    "duration": 19,
    "start_time": "2021-12-13T14:15:35.836Z"
   },
   {
    "duration": 10,
    "start_time": "2021-12-13T14:15:35.857Z"
   },
   {
    "duration": 11,
    "start_time": "2021-12-13T14:15:35.870Z"
   },
   {
    "duration": 2428,
    "start_time": "2021-12-13T14:15:35.924Z"
   },
   {
    "duration": 46,
    "start_time": "2021-12-13T14:15:38.355Z"
   },
   {
    "duration": 28,
    "start_time": "2021-12-13T14:15:38.423Z"
   },
   {
    "duration": 4,
    "start_time": "2021-12-13T14:15:38.455Z"
   },
   {
    "duration": 1416,
    "start_time": "2021-12-13T14:15:38.461Z"
   },
   {
    "duration": 59,
    "start_time": "2021-12-13T14:15:39.879Z"
   },
   {
    "duration": 16,
    "start_time": "2021-12-13T14:15:39.940Z"
   },
   {
    "duration": 5,
    "start_time": "2021-12-13T14:15:39.959Z"
   },
   {
    "duration": 1709,
    "start_time": "2021-12-13T14:15:39.967Z"
   },
   {
    "duration": 8,
    "start_time": "2021-12-13T14:15:41.679Z"
   },
   {
    "duration": 33,
    "start_time": "2021-12-13T14:15:41.691Z"
   },
   {
    "duration": 16,
    "start_time": "2021-12-13T14:20:28.271Z"
   },
   {
    "duration": 286,
    "start_time": "2021-12-13T14:24:29.185Z"
   },
   {
    "duration": 12,
    "start_time": "2021-12-13T14:25:33.662Z"
   },
   {
    "duration": 8,
    "start_time": "2021-12-13T14:25:48.445Z"
   },
   {
    "duration": 10,
    "start_time": "2021-12-13T14:26:04.832Z"
   },
   {
    "duration": 4,
    "start_time": "2021-12-13T19:04:41.922Z"
   },
   {
    "duration": 523,
    "start_time": "2021-12-13T19:04:41.929Z"
   },
   {
    "duration": 13,
    "start_time": "2021-12-13T19:04:42.456Z"
   },
   {
    "duration": 33,
    "start_time": "2021-12-13T19:04:42.473Z"
   },
   {
    "duration": 13,
    "start_time": "2021-12-13T19:04:42.509Z"
   },
   {
    "duration": 23,
    "start_time": "2021-12-13T19:04:42.560Z"
   },
   {
    "duration": 10,
    "start_time": "2021-12-13T19:04:42.586Z"
   },
   {
    "duration": 65,
    "start_time": "2021-12-13T19:04:42.600Z"
   },
   {
    "duration": 11,
    "start_time": "2021-12-13T19:04:42.669Z"
   },
   {
    "duration": 10,
    "start_time": "2021-12-13T19:04:42.682Z"
   },
   {
    "duration": 67,
    "start_time": "2021-12-13T19:04:42.694Z"
   },
   {
    "duration": 11,
    "start_time": "2021-12-13T19:04:42.763Z"
   },
   {
    "duration": 161,
    "start_time": "2021-12-13T19:04:42.776Z"
   },
   {
    "duration": 121,
    "start_time": "2021-12-13T19:04:42.940Z"
   },
   {
    "duration": 31,
    "start_time": "2021-12-13T19:04:43.065Z"
   },
   {
    "duration": 7,
    "start_time": "2021-12-13T19:04:43.099Z"
   },
   {
    "duration": 653,
    "start_time": "2021-12-13T19:04:43.109Z"
   },
   {
    "duration": 46,
    "start_time": "2021-12-13T19:04:43.765Z"
   },
   {
    "duration": 63,
    "start_time": "2021-12-13T19:04:43.814Z"
   },
   {
    "duration": 4,
    "start_time": "2021-12-13T19:04:43.881Z"
   },
   {
    "duration": 9,
    "start_time": "2021-12-13T19:04:43.887Z"
   },
   {
    "duration": 18,
    "start_time": "2021-12-13T19:04:43.899Z"
   },
   {
    "duration": 52,
    "start_time": "2021-12-13T19:04:43.963Z"
   },
   {
    "duration": 197,
    "start_time": "2021-12-13T19:04:44.019Z"
   },
   {
    "duration": 40,
    "start_time": "2021-12-13T19:04:44.219Z"
   },
   {
    "duration": 282,
    "start_time": "2021-12-13T19:04:44.262Z"
   },
   {
    "duration": 22,
    "start_time": "2021-12-13T19:04:44.547Z"
   },
   {
    "duration": 14,
    "start_time": "2021-12-13T19:04:44.571Z"
   },
   {
    "duration": 5,
    "start_time": "2021-12-13T19:04:44.587Z"
   },
   {
    "duration": 10,
    "start_time": "2021-12-13T19:04:44.594Z"
   },
   {
    "duration": 2165,
    "start_time": "2021-12-13T19:04:44.607Z"
   },
   {
    "duration": 10,
    "start_time": "2021-12-13T19:04:46.774Z"
   },
   {
    "duration": 11,
    "start_time": "2021-12-13T19:04:46.786Z"
   },
   {
    "duration": 76,
    "start_time": "2021-12-13T19:04:46.811Z"
   },
   {
    "duration": 26,
    "start_time": "2021-12-13T19:04:46.889Z"
   },
   {
    "duration": 3,
    "start_time": "2021-12-13T19:04:46.918Z"
   },
   {
    "duration": 1471,
    "start_time": "2021-12-13T19:04:46.924Z"
   },
   {
    "duration": 68,
    "start_time": "2021-12-13T19:04:48.398Z"
   },
   {
    "duration": 22,
    "start_time": "2021-12-13T19:04:48.469Z"
   },
   {
    "duration": 5,
    "start_time": "2021-12-13T19:04:48.494Z"
   },
   {
    "duration": 2097,
    "start_time": "2021-12-13T19:04:48.502Z"
   },
   {
    "duration": 10,
    "start_time": "2021-12-13T19:04:50.602Z"
   },
   {
    "duration": 51,
    "start_time": "2021-12-13T19:04:50.615Z"
   },
   {
    "duration": 4,
    "start_time": "2021-12-13T19:05:06.699Z"
   },
   {
    "duration": 539,
    "start_time": "2021-12-13T19:05:06.720Z"
   },
   {
    "duration": 11,
    "start_time": "2021-12-13T19:05:07.262Z"
   },
   {
    "duration": 29,
    "start_time": "2021-12-13T19:05:07.276Z"
   },
   {
    "duration": 12,
    "start_time": "2021-12-13T19:05:07.308Z"
   },
   {
    "duration": 58,
    "start_time": "2021-12-13T19:05:07.323Z"
   },
   {
    "duration": 10,
    "start_time": "2021-12-13T19:05:07.384Z"
   },
   {
    "duration": 22,
    "start_time": "2021-12-13T19:05:07.396Z"
   },
   {
    "duration": 12,
    "start_time": "2021-12-13T19:05:07.459Z"
   },
   {
    "duration": 9,
    "start_time": "2021-12-13T19:05:07.475Z"
   },
   {
    "duration": 15,
    "start_time": "2021-12-13T19:05:07.487Z"
   },
   {
    "duration": 10,
    "start_time": "2021-12-13T19:05:07.504Z"
   },
   {
    "duration": 104,
    "start_time": "2021-12-13T19:05:07.560Z"
   },
   {
    "duration": 96,
    "start_time": "2021-12-13T19:05:07.667Z"
   },
   {
    "duration": 23,
    "start_time": "2021-12-13T19:05:07.765Z"
   },
   {
    "duration": 6,
    "start_time": "2021-12-13T19:05:07.790Z"
   },
   {
    "duration": 453,
    "start_time": "2021-12-13T19:05:07.798Z"
   },
   {
    "duration": 36,
    "start_time": "2021-12-13T19:05:08.259Z"
   },
   {
    "duration": 62,
    "start_time": "2021-12-13T19:05:08.297Z"
   },
   {
    "duration": 5,
    "start_time": "2021-12-13T19:05:08.362Z"
   },
   {
    "duration": 8,
    "start_time": "2021-12-13T19:05:08.370Z"
   },
   {
    "duration": 19,
    "start_time": "2021-12-13T19:05:08.382Z"
   },
   {
    "duration": 88,
    "start_time": "2021-12-13T19:05:08.404Z"
   },
   {
    "duration": 154,
    "start_time": "2021-12-13T19:05:08.496Z"
   },
   {
    "duration": 17,
    "start_time": "2021-12-13T19:05:08.660Z"
   },
   {
    "duration": 211,
    "start_time": "2021-12-13T19:05:08.680Z"
   },
   {
    "duration": 14,
    "start_time": "2021-12-13T19:05:08.893Z"
   },
   {
    "duration": 14,
    "start_time": "2021-12-13T19:05:08.912Z"
   },
   {
    "duration": 5,
    "start_time": "2021-12-13T19:05:08.960Z"
   },
   {
    "duration": 10,
    "start_time": "2021-12-13T19:05:08.968Z"
   },
   {
    "duration": 2107,
    "start_time": "2021-12-13T19:05:08.980Z"
   },
   {
    "duration": 9,
    "start_time": "2021-12-13T19:05:11.089Z"
   },
   {
    "duration": 9,
    "start_time": "2021-12-13T19:05:11.100Z"
   },
   {
    "duration": 78,
    "start_time": "2021-12-13T19:05:11.111Z"
   },
   {
    "duration": 25,
    "start_time": "2021-12-13T19:05:11.192Z"
   },
   {
    "duration": 3,
    "start_time": "2021-12-13T19:05:11.220Z"
   },
   {
    "duration": 1513,
    "start_time": "2021-12-13T19:05:11.225Z"
   },
   {
    "duration": 50,
    "start_time": "2021-12-13T19:05:12.740Z"
   },
   {
    "duration": 15,
    "start_time": "2021-12-13T19:05:12.792Z"
   },
   {
    "duration": 10,
    "start_time": "2021-12-13T19:05:12.809Z"
   },
   {
    "duration": 1395,
    "start_time": "2021-12-13T19:05:12.821Z"
   },
   {
    "duration": 10,
    "start_time": "2021-12-13T19:05:14.219Z"
   },
   {
    "duration": 41,
    "start_time": "2021-12-13T19:05:14.232Z"
   },
   {
    "duration": 4,
    "start_time": "2021-12-13T19:05:19.006Z"
   },
   {
    "duration": 522,
    "start_time": "2021-12-13T19:05:19.021Z"
   },
   {
    "duration": 10,
    "start_time": "2021-12-13T19:05:19.546Z"
   },
   {
    "duration": 29,
    "start_time": "2021-12-13T19:05:19.560Z"
   },
   {
    "duration": 12,
    "start_time": "2021-12-13T19:05:19.592Z"
   },
   {
    "duration": 69,
    "start_time": "2021-12-13T19:05:19.606Z"
   },
   {
    "duration": 10,
    "start_time": "2021-12-13T19:05:19.678Z"
   },
   {
    "duration": 20,
    "start_time": "2021-12-13T19:05:19.690Z"
   },
   {
    "duration": 53,
    "start_time": "2021-12-13T19:05:19.713Z"
   },
   {
    "duration": 11,
    "start_time": "2021-12-13T19:05:19.771Z"
   },
   {
    "duration": 16,
    "start_time": "2021-12-13T19:05:19.785Z"
   },
   {
    "duration": 58,
    "start_time": "2021-12-13T19:05:19.804Z"
   },
   {
    "duration": 107,
    "start_time": "2021-12-13T19:05:19.864Z"
   },
   {
    "duration": 115,
    "start_time": "2021-12-13T19:05:19.974Z"
   },
   {
    "duration": 26,
    "start_time": "2021-12-13T19:05:20.092Z"
   },
   {
    "duration": 6,
    "start_time": "2021-12-13T19:05:20.121Z"
   },
   {
    "duration": 431,
    "start_time": "2021-12-13T19:05:20.131Z"
   },
   {
    "duration": 38,
    "start_time": "2021-12-13T19:05:20.565Z"
   },
   {
    "duration": 62,
    "start_time": "2021-12-13T19:05:20.606Z"
   },
   {
    "duration": 3,
    "start_time": "2021-12-13T19:05:20.671Z"
   },
   {
    "duration": 7,
    "start_time": "2021-12-13T19:05:20.677Z"
   },
   {
    "duration": 17,
    "start_time": "2021-12-13T19:05:20.686Z"
   },
   {
    "duration": 80,
    "start_time": "2021-12-13T19:05:20.705Z"
   },
   {
    "duration": 130,
    "start_time": "2021-12-13T19:05:20.788Z"
   },
   {
    "duration": 13,
    "start_time": "2021-12-13T19:05:20.921Z"
   },
   {
    "duration": 202,
    "start_time": "2021-12-13T19:05:20.937Z"
   },
   {
    "duration": 27,
    "start_time": "2021-12-13T19:05:21.141Z"
   },
   {
    "duration": 15,
    "start_time": "2021-12-13T19:05:21.173Z"
   },
   {
    "duration": 7,
    "start_time": "2021-12-13T19:05:21.191Z"
   },
   {
    "duration": 12,
    "start_time": "2021-12-13T19:05:21.200Z"
   },
   {
    "duration": 2193,
    "start_time": "2021-12-13T19:05:21.215Z"
   },
   {
    "duration": 9,
    "start_time": "2021-12-13T19:05:23.410Z"
   },
   {
    "duration": 43,
    "start_time": "2021-12-13T19:05:23.422Z"
   },
   {
    "duration": 41,
    "start_time": "2021-12-13T19:05:23.468Z"
   },
   {
    "duration": 59,
    "start_time": "2021-12-13T19:05:23.512Z"
   },
   {
    "duration": 4,
    "start_time": "2021-12-13T19:05:23.573Z"
   },
   {
    "duration": 1333,
    "start_time": "2021-12-13T19:05:23.579Z"
   },
   {
    "duration": 56,
    "start_time": "2021-12-13T19:05:24.914Z"
   },
   {
    "duration": 16,
    "start_time": "2021-12-13T19:05:24.972Z"
   },
   {
    "duration": 3,
    "start_time": "2021-12-13T19:05:24.991Z"
   },
   {
    "duration": 1509,
    "start_time": "2021-12-13T19:05:24.997Z"
   },
   {
    "duration": 7,
    "start_time": "2021-12-13T19:05:26.509Z"
   },
   {
    "duration": 42,
    "start_time": "2021-12-13T19:05:26.519Z"
   },
   {
    "duration": 5,
    "start_time": "2021-12-13T19:07:20.557Z"
   },
   {
    "duration": 553,
    "start_time": "2021-12-13T19:07:20.565Z"
   },
   {
    "duration": 10,
    "start_time": "2021-12-13T19:07:21.121Z"
   },
   {
    "duration": 31,
    "start_time": "2021-12-13T19:07:21.134Z"
   },
   {
    "duration": 12,
    "start_time": "2021-12-13T19:07:21.168Z"
   },
   {
    "duration": 29,
    "start_time": "2021-12-13T19:07:21.183Z"
   },
   {
    "duration": 11,
    "start_time": "2021-12-13T19:07:21.215Z"
   },
   {
    "duration": 48,
    "start_time": "2021-12-13T19:07:21.230Z"
   },
   {
    "duration": 12,
    "start_time": "2021-12-13T19:07:21.281Z"
   },
   {
    "duration": 10,
    "start_time": "2021-12-13T19:07:21.295Z"
   },
   {
    "duration": 53,
    "start_time": "2021-12-13T19:07:21.308Z"
   },
   {
    "duration": 11,
    "start_time": "2021-12-13T19:07:21.364Z"
   },
   {
    "duration": 107,
    "start_time": "2021-12-13T19:07:21.378Z"
   },
   {
    "duration": 95,
    "start_time": "2021-12-13T19:07:21.488Z"
   },
   {
    "duration": 23,
    "start_time": "2021-12-13T19:07:21.585Z"
   },
   {
    "duration": 5,
    "start_time": "2021-12-13T19:07:21.611Z"
   },
   {
    "duration": 458,
    "start_time": "2021-12-13T19:07:21.618Z"
   },
   {
    "duration": 37,
    "start_time": "2021-12-13T19:07:22.078Z"
   },
   {
    "duration": 59,
    "start_time": "2021-12-13T19:07:22.118Z"
   },
   {
    "duration": 4,
    "start_time": "2021-12-13T19:07:22.180Z"
   },
   {
    "duration": 18,
    "start_time": "2021-12-13T19:07:22.188Z"
   },
   {
    "duration": 33,
    "start_time": "2021-12-13T19:07:22.209Z"
   },
   {
    "duration": 44,
    "start_time": "2021-12-13T19:07:22.249Z"
   },
   {
    "duration": 140,
    "start_time": "2021-12-13T19:07:22.297Z"
   },
   {
    "duration": 29,
    "start_time": "2021-12-13T19:07:22.440Z"
   },
   {
    "duration": 177,
    "start_time": "2021-12-13T19:07:22.472Z"
   },
   {
    "duration": 14,
    "start_time": "2021-12-13T19:07:22.659Z"
   },
   {
    "duration": 14,
    "start_time": "2021-12-13T19:07:22.675Z"
   },
   {
    "duration": 5,
    "start_time": "2021-12-13T19:07:22.691Z"
   },
   {
    "duration": 10,
    "start_time": "2021-12-13T19:07:22.698Z"
   },
   {
    "duration": 2076,
    "start_time": "2021-12-13T19:07:22.710Z"
   },
   {
    "duration": 11,
    "start_time": "2021-12-13T19:07:24.789Z"
   },
   {
    "duration": 18,
    "start_time": "2021-12-13T19:07:24.803Z"
   },
   {
    "duration": 73,
    "start_time": "2021-12-13T19:07:24.823Z"
   },
   {
    "duration": 29,
    "start_time": "2021-12-13T19:07:24.899Z"
   },
   {
    "duration": 28,
    "start_time": "2021-12-13T19:07:24.931Z"
   },
   {
    "duration": 1321,
    "start_time": "2021-12-13T19:07:24.961Z"
   },
   {
    "duration": 40,
    "start_time": "2021-12-13T19:07:26.284Z"
   },
   {
    "duration": 36,
    "start_time": "2021-12-13T19:07:26.326Z"
   },
   {
    "duration": 3,
    "start_time": "2021-12-13T19:07:26.364Z"
   },
   {
    "duration": 1476,
    "start_time": "2021-12-13T19:07:26.370Z"
   },
   {
    "duration": 14,
    "start_time": "2021-12-13T19:07:27.849Z"
   },
   {
    "duration": 13,
    "start_time": "2021-12-13T19:07:27.865Z"
   },
   {
    "duration": 4,
    "start_time": "2021-12-13T19:08:37.733Z"
   },
   {
    "duration": 544,
    "start_time": "2021-12-13T19:08:37.740Z"
   },
   {
    "duration": 10,
    "start_time": "2021-12-13T19:08:38.287Z"
   },
   {
    "duration": 27,
    "start_time": "2021-12-13T19:08:38.300Z"
   },
   {
    "duration": 11,
    "start_time": "2021-12-13T19:08:38.329Z"
   },
   {
    "duration": 31,
    "start_time": "2021-12-13T19:08:38.343Z"
   },
   {
    "duration": 10,
    "start_time": "2021-12-13T19:08:38.376Z"
   },
   {
    "duration": 20,
    "start_time": "2021-12-13T19:08:38.391Z"
   },
   {
    "duration": 44,
    "start_time": "2021-12-13T19:08:38.415Z"
   },
   {
    "duration": 12,
    "start_time": "2021-12-13T19:08:38.462Z"
   },
   {
    "duration": 17,
    "start_time": "2021-12-13T19:08:38.477Z"
   },
   {
    "duration": 8,
    "start_time": "2021-12-13T19:08:38.496Z"
   },
   {
    "duration": 134,
    "start_time": "2021-12-13T19:08:38.508Z"
   },
   {
    "duration": 92,
    "start_time": "2021-12-13T19:08:38.645Z"
   },
   {
    "duration": 35,
    "start_time": "2021-12-13T19:08:38.739Z"
   },
   {
    "duration": 6,
    "start_time": "2021-12-13T19:08:38.776Z"
   },
   {
    "duration": 437,
    "start_time": "2021-12-13T19:08:38.784Z"
   },
   {
    "duration": 58,
    "start_time": "2021-12-13T19:08:39.223Z"
   },
   {
    "duration": 34,
    "start_time": "2021-12-13T19:08:39.284Z"
   },
   {
    "duration": 4,
    "start_time": "2021-12-13T19:08:39.321Z"
   },
   {
    "duration": 35,
    "start_time": "2021-12-13T19:08:39.328Z"
   },
   {
    "duration": 19,
    "start_time": "2021-12-13T19:08:39.366Z"
   },
   {
    "duration": 38,
    "start_time": "2021-12-13T19:08:39.390Z"
   },
   {
    "duration": 124,
    "start_time": "2021-12-13T19:08:39.459Z"
   },
   {
    "duration": 14,
    "start_time": "2021-12-13T19:08:39.585Z"
   },
   {
    "duration": 191,
    "start_time": "2021-12-13T19:08:39.602Z"
   },
   {
    "duration": 14,
    "start_time": "2021-12-13T19:08:39.796Z"
   },
   {
    "duration": 14,
    "start_time": "2021-12-13T19:08:39.812Z"
   },
   {
    "duration": 31,
    "start_time": "2021-12-13T19:08:39.828Z"
   },
   {
    "duration": 9,
    "start_time": "2021-12-13T19:08:39.862Z"
   },
   {
    "duration": 2036,
    "start_time": "2021-12-13T19:08:39.874Z"
   },
   {
    "duration": 9,
    "start_time": "2021-12-13T19:08:41.912Z"
   },
   {
    "duration": 10,
    "start_time": "2021-12-13T19:08:41.923Z"
   },
   {
    "duration": 62,
    "start_time": "2021-12-13T19:08:41.935Z"
   },
   {
    "duration": 25,
    "start_time": "2021-12-13T19:08:42.000Z"
   },
   {
    "duration": 3,
    "start_time": "2021-12-13T19:08:42.028Z"
   },
   {
    "duration": 1358,
    "start_time": "2021-12-13T19:08:42.034Z"
   },
   {
    "duration": 40,
    "start_time": "2021-12-13T19:08:43.394Z"
   },
   {
    "duration": 30,
    "start_time": "2021-12-13T19:08:43.437Z"
   },
   {
    "duration": 4,
    "start_time": "2021-12-13T19:08:43.469Z"
   },
   {
    "duration": 1465,
    "start_time": "2021-12-13T19:08:43.475Z"
   },
   {
    "duration": 7,
    "start_time": "2021-12-13T19:08:44.942Z"
   },
   {
    "duration": 12,
    "start_time": "2021-12-13T19:08:44.960Z"
   },
   {
    "duration": 5,
    "start_time": "2021-12-13T19:09:46.966Z"
   },
   {
    "duration": 524,
    "start_time": "2021-12-13T19:09:46.973Z"
   },
   {
    "duration": 11,
    "start_time": "2021-12-13T19:09:47.500Z"
   },
   {
    "duration": 26,
    "start_time": "2021-12-13T19:09:47.514Z"
   },
   {
    "duration": 12,
    "start_time": "2021-12-13T19:09:47.543Z"
   },
   {
    "duration": 22,
    "start_time": "2021-12-13T19:09:47.559Z"
   },
   {
    "duration": 10,
    "start_time": "2021-12-13T19:09:47.584Z"
   },
   {
    "duration": 20,
    "start_time": "2021-12-13T19:09:47.597Z"
   },
   {
    "duration": 47,
    "start_time": "2021-12-13T19:09:47.621Z"
   },
   {
    "duration": 10,
    "start_time": "2021-12-13T19:09:47.670Z"
   },
   {
    "duration": 16,
    "start_time": "2021-12-13T19:09:47.682Z"
   },
   {
    "duration": 8,
    "start_time": "2021-12-13T19:09:47.701Z"
   },
   {
    "duration": 124,
    "start_time": "2021-12-13T19:09:47.712Z"
   },
   {
    "duration": 92,
    "start_time": "2021-12-13T19:09:47.839Z"
   },
   {
    "duration": 32,
    "start_time": "2021-12-13T19:09:47.934Z"
   },
   {
    "duration": 5,
    "start_time": "2021-12-13T19:09:47.968Z"
   },
   {
    "duration": 442,
    "start_time": "2021-12-13T19:09:47.976Z"
   },
   {
    "duration": 49,
    "start_time": "2021-12-13T19:09:48.421Z"
   },
   {
    "duration": 33,
    "start_time": "2021-12-13T19:09:48.473Z"
   },
   {
    "duration": 3,
    "start_time": "2021-12-13T19:09:48.509Z"
   },
   {
    "duration": 8,
    "start_time": "2021-12-13T19:09:48.514Z"
   },
   {
    "duration": 45,
    "start_time": "2021-12-13T19:09:48.524Z"
   },
   {
    "duration": 36,
    "start_time": "2021-12-13T19:09:48.574Z"
   },
   {
    "duration": 143,
    "start_time": "2021-12-13T19:09:48.613Z"
   },
   {
    "duration": 14,
    "start_time": "2021-12-13T19:09:48.759Z"
   },
   {
    "duration": 185,
    "start_time": "2021-12-13T19:09:48.776Z"
   },
   {
    "duration": 13,
    "start_time": "2021-12-13T19:09:48.963Z"
   },
   {
    "duration": 14,
    "start_time": "2021-12-13T19:09:48.978Z"
   },
   {
    "duration": 6,
    "start_time": "2021-12-13T19:09:48.994Z"
   },
   {
    "duration": 10,
    "start_time": "2021-12-13T19:09:49.002Z"
   },
   {
    "duration": 2146,
    "start_time": "2021-12-13T19:09:49.014Z"
   },
   {
    "duration": 9,
    "start_time": "2021-12-13T19:09:51.163Z"
   },
   {
    "duration": 14,
    "start_time": "2021-12-13T19:09:51.175Z"
   },
   {
    "duration": 77,
    "start_time": "2021-12-13T19:09:51.191Z"
   },
   {
    "duration": 26,
    "start_time": "2021-12-13T19:09:51.271Z"
   },
   {
    "duration": 4,
    "start_time": "2021-12-13T19:09:51.299Z"
   },
   {
    "duration": 1453,
    "start_time": "2021-12-13T19:09:51.306Z"
   },
   {
    "duration": 40,
    "start_time": "2021-12-13T19:09:52.761Z"
   },
   {
    "duration": 14,
    "start_time": "2021-12-13T19:09:52.803Z"
   },
   {
    "duration": 3,
    "start_time": "2021-12-13T19:09:52.820Z"
   },
   {
    "duration": 1340,
    "start_time": "2021-12-13T19:09:52.859Z"
   },
   {
    "duration": 7,
    "start_time": "2021-12-13T19:09:54.202Z"
   },
   {
    "duration": 15,
    "start_time": "2021-12-13T19:09:54.212Z"
   },
   {
    "duration": 4,
    "start_time": "2021-12-13T19:13:44.408Z"
   },
   {
    "duration": 530,
    "start_time": "2021-12-13T19:13:44.414Z"
   },
   {
    "duration": 12,
    "start_time": "2021-12-13T19:13:44.947Z"
   },
   {
    "duration": 28,
    "start_time": "2021-12-13T19:13:44.961Z"
   },
   {
    "duration": 12,
    "start_time": "2021-12-13T19:13:44.992Z"
   },
   {
    "duration": 53,
    "start_time": "2021-12-13T19:13:45.007Z"
   },
   {
    "duration": 10,
    "start_time": "2021-12-13T19:13:45.062Z"
   },
   {
    "duration": 20,
    "start_time": "2021-12-13T19:13:45.076Z"
   },
   {
    "duration": 11,
    "start_time": "2021-12-13T19:13:45.099Z"
   },
   {
    "duration": 176,
    "start_time": "2021-12-13T19:13:45.112Z"
   },
   {
    "duration": 17,
    "start_time": "2021-12-13T19:13:45.292Z"
   },
   {
    "duration": 10,
    "start_time": "2021-12-13T19:13:45.311Z"
   },
   {
    "duration": 123,
    "start_time": "2021-12-13T19:13:45.324Z"
   },
   {
    "duration": 85,
    "start_time": "2021-12-13T19:13:45.460Z"
   },
   {
    "duration": 20,
    "start_time": "2021-12-13T19:13:45.559Z"
   },
   {
    "duration": 5,
    "start_time": "2021-12-13T19:13:45.582Z"
   },
   {
    "duration": 440,
    "start_time": "2021-12-13T19:13:45.589Z"
   },
   {
    "duration": 51,
    "start_time": "2021-12-13T19:13:46.032Z"
   },
   {
    "duration": 34,
    "start_time": "2021-12-13T19:13:46.086Z"
   },
   {
    "duration": 4,
    "start_time": "2021-12-13T19:13:46.122Z"
   },
   {
    "duration": 32,
    "start_time": "2021-12-13T19:13:46.128Z"
   },
   {
    "duration": 16,
    "start_time": "2021-12-13T19:13:46.162Z"
   },
   {
    "duration": 37,
    "start_time": "2021-12-13T19:13:46.184Z"
   },
   {
    "duration": 148,
    "start_time": "2021-12-13T19:13:46.224Z"
   },
   {
    "duration": 15,
    "start_time": "2021-12-13T19:13:46.375Z"
   },
   {
    "duration": 184,
    "start_time": "2021-12-13T19:13:46.393Z"
   },
   {
    "duration": 14,
    "start_time": "2021-12-13T19:13:46.579Z"
   },
   {
    "duration": 14,
    "start_time": "2021-12-13T19:13:46.595Z"
   },
   {
    "duration": 6,
    "start_time": "2021-12-13T19:13:46.612Z"
   },
   {
    "duration": 43,
    "start_time": "2021-12-13T19:13:46.620Z"
   },
   {
    "duration": 2036,
    "start_time": "2021-12-13T19:13:46.665Z"
   },
   {
    "duration": 9,
    "start_time": "2021-12-13T19:13:48.704Z"
   },
   {
    "duration": 11,
    "start_time": "2021-12-13T19:13:48.716Z"
   },
   {
    "duration": 66,
    "start_time": "2021-12-13T19:13:48.729Z"
   },
   {
    "duration": 27,
    "start_time": "2021-12-13T19:13:48.798Z"
   },
   {
    "duration": 3,
    "start_time": "2021-12-13T19:13:48.828Z"
   },
   {
    "duration": 1489,
    "start_time": "2021-12-13T19:13:48.858Z"
   },
   {
    "duration": 44,
    "start_time": "2021-12-13T19:13:50.349Z"
   },
   {
    "duration": 15,
    "start_time": "2021-12-13T19:13:50.396Z"
   },
   {
    "duration": 4,
    "start_time": "2021-12-13T19:13:50.413Z"
   },
   {
    "duration": 1387,
    "start_time": "2021-12-13T19:13:50.419Z"
   },
   {
    "duration": 8,
    "start_time": "2021-12-13T19:13:51.809Z"
   },
   {
    "duration": 12,
    "start_time": "2021-12-13T19:13:51.819Z"
   },
   {
    "duration": 5,
    "start_time": "2021-12-13T19:14:03.323Z"
   },
   {
    "duration": 533,
    "start_time": "2021-12-13T19:14:03.333Z"
   },
   {
    "duration": 12,
    "start_time": "2021-12-13T19:14:03.869Z"
   },
   {
    "duration": 26,
    "start_time": "2021-12-13T19:14:03.884Z"
   },
   {
    "duration": 11,
    "start_time": "2021-12-13T19:14:03.913Z"
   },
   {
    "duration": 53,
    "start_time": "2021-12-13T19:14:03.926Z"
   },
   {
    "duration": 10,
    "start_time": "2021-12-13T19:14:03.982Z"
   },
   {
    "duration": 19,
    "start_time": "2021-12-13T19:14:03.995Z"
   },
   {
    "duration": 43,
    "start_time": "2021-12-13T19:14:04.018Z"
   },
   {
    "duration": 10,
    "start_time": "2021-12-13T19:14:04.064Z"
   },
   {
    "duration": 18,
    "start_time": "2021-12-13T19:14:04.076Z"
   },
   {
    "duration": 9,
    "start_time": "2021-12-13T19:14:04.096Z"
   },
   {
    "duration": 118,
    "start_time": "2021-12-13T19:14:04.108Z"
   },
   {
    "duration": 92,
    "start_time": "2021-12-13T19:14:04.228Z"
   },
   {
    "duration": 36,
    "start_time": "2021-12-13T19:14:04.322Z"
   },
   {
    "duration": 6,
    "start_time": "2021-12-13T19:14:04.360Z"
   },
   {
    "duration": 425,
    "start_time": "2021-12-13T19:14:04.368Z"
   },
   {
    "duration": 35,
    "start_time": "2021-12-13T19:14:04.796Z"
   },
   {
    "duration": 51,
    "start_time": "2021-12-13T19:14:04.834Z"
   },
   {
    "duration": 3,
    "start_time": "2021-12-13T19:14:04.887Z"
   },
   {
    "duration": 6,
    "start_time": "2021-12-13T19:14:04.893Z"
   },
   {
    "duration": 15,
    "start_time": "2021-12-13T19:14:04.901Z"
   },
   {
    "duration": 205,
    "start_time": "2021-12-13T19:14:04.918Z"
   },
   {
    "duration": 122,
    "start_time": "2021-12-13T19:14:05.128Z"
   },
   {
    "duration": 14,
    "start_time": "2021-12-13T19:14:05.259Z"
   },
   {
    "duration": 186,
    "start_time": "2021-12-13T19:14:05.276Z"
   },
   {
    "duration": 14,
    "start_time": "2021-12-13T19:14:05.464Z"
   },
   {
    "duration": 15,
    "start_time": "2021-12-13T19:14:05.481Z"
   },
   {
    "duration": 6,
    "start_time": "2021-12-13T19:14:05.499Z"
   },
   {
    "duration": 53,
    "start_time": "2021-12-13T19:14:05.508Z"
   },
   {
    "duration": 2116,
    "start_time": "2021-12-13T19:14:05.564Z"
   },
   {
    "duration": 12,
    "start_time": "2021-12-13T19:14:07.683Z"
   },
   {
    "duration": 13,
    "start_time": "2021-12-13T19:14:07.697Z"
   },
   {
    "duration": 79,
    "start_time": "2021-12-13T19:14:07.712Z"
   },
   {
    "duration": 29,
    "start_time": "2021-12-13T19:14:07.793Z"
   },
   {
    "duration": 3,
    "start_time": "2021-12-13T19:14:07.825Z"
   },
   {
    "duration": 1519,
    "start_time": "2021-12-13T19:14:07.831Z"
   },
   {
    "duration": 43,
    "start_time": "2021-12-13T19:14:09.360Z"
   },
   {
    "duration": 18,
    "start_time": "2021-12-13T19:14:09.406Z"
   },
   {
    "duration": 3,
    "start_time": "2021-12-13T19:14:09.426Z"
   },
   {
    "duration": 1391,
    "start_time": "2021-12-13T19:14:09.460Z"
   },
   {
    "duration": 12,
    "start_time": "2021-12-13T19:14:10.853Z"
   },
   {
    "duration": 12,
    "start_time": "2021-12-13T19:14:10.868Z"
   },
   {
    "duration": 4,
    "start_time": "2021-12-13T19:16:31.498Z"
   },
   {
    "duration": 505,
    "start_time": "2021-12-13T19:16:31.506Z"
   },
   {
    "duration": 11,
    "start_time": "2021-12-13T19:16:32.013Z"
   },
   {
    "duration": 27,
    "start_time": "2021-12-13T19:16:32.027Z"
   },
   {
    "duration": 11,
    "start_time": "2021-12-13T19:16:32.057Z"
   },
   {
    "duration": 24,
    "start_time": "2021-12-13T19:16:32.071Z"
   },
   {
    "duration": 10,
    "start_time": "2021-12-13T19:16:32.097Z"
   },
   {
    "duration": 19,
    "start_time": "2021-12-13T19:16:32.110Z"
   },
   {
    "duration": 13,
    "start_time": "2021-12-13T19:16:32.162Z"
   },
   {
    "duration": 12,
    "start_time": "2021-12-13T19:16:32.178Z"
   },
   {
    "duration": 17,
    "start_time": "2021-12-13T19:16:32.193Z"
   },
   {
    "duration": 53,
    "start_time": "2021-12-13T19:16:32.214Z"
   },
   {
    "duration": 101,
    "start_time": "2021-12-13T19:16:32.269Z"
   },
   {
    "duration": 89,
    "start_time": "2021-12-13T19:16:32.373Z"
   },
   {
    "duration": 24,
    "start_time": "2021-12-13T19:16:32.464Z"
   },
   {
    "duration": 6,
    "start_time": "2021-12-13T19:16:32.490Z"
   },
   {
    "duration": 441,
    "start_time": "2021-12-13T19:16:32.498Z"
   },
   {
    "duration": 48,
    "start_time": "2021-12-13T19:16:32.942Z"
   },
   {
    "duration": 32,
    "start_time": "2021-12-13T19:16:32.993Z"
   },
   {
    "duration": 3,
    "start_time": "2021-12-13T19:16:33.028Z"
   },
   {
    "duration": 28,
    "start_time": "2021-12-13T19:16:33.034Z"
   },
   {
    "duration": 15,
    "start_time": "2021-12-13T19:16:33.064Z"
   },
   {
    "duration": 39,
    "start_time": "2021-12-13T19:16:33.082Z"
   },
   {
    "duration": 132,
    "start_time": "2021-12-13T19:16:33.158Z"
   },
   {
    "duration": 14,
    "start_time": "2021-12-13T19:16:33.293Z"
   },
   {
    "duration": 433,
    "start_time": "2021-12-13T19:16:33.310Z"
   },
   {
    "duration": 27,
    "start_time": "2021-12-13T19:16:33.746Z"
   },
   {
    "duration": 20,
    "start_time": "2021-12-13T19:16:33.776Z"
   },
   {
    "duration": 6,
    "start_time": "2021-12-13T19:16:33.800Z"
   },
   {
    "duration": 15,
    "start_time": "2021-12-13T19:16:33.809Z"
   },
   {
    "duration": 2499,
    "start_time": "2021-12-13T19:16:33.861Z"
   },
   {
    "duration": 9,
    "start_time": "2021-12-13T19:16:36.363Z"
   },
   {
    "duration": 9,
    "start_time": "2021-12-13T19:16:36.374Z"
   },
   {
    "duration": 81,
    "start_time": "2021-12-13T19:16:36.385Z"
   },
   {
    "duration": 26,
    "start_time": "2021-12-13T19:16:36.469Z"
   },
   {
    "duration": 3,
    "start_time": "2021-12-13T19:16:36.498Z"
   },
   {
    "duration": 1358,
    "start_time": "2021-12-13T19:16:36.504Z"
   },
   {
    "duration": 42,
    "start_time": "2021-12-13T19:16:37.865Z"
   },
   {
    "duration": 16,
    "start_time": "2021-12-13T19:16:37.909Z"
   },
   {
    "duration": 4,
    "start_time": "2021-12-13T19:16:37.960Z"
   },
   {
    "duration": 1383,
    "start_time": "2021-12-13T19:16:37.967Z"
   },
   {
    "duration": 12,
    "start_time": "2021-12-13T19:16:39.352Z"
   },
   {
    "duration": 12,
    "start_time": "2021-12-13T19:16:39.367Z"
   },
   {
    "duration": 4,
    "start_time": "2021-12-13T19:20:24.876Z"
   },
   {
    "duration": 552,
    "start_time": "2021-12-13T19:20:24.883Z"
   },
   {
    "duration": 11,
    "start_time": "2021-12-13T19:20:25.439Z"
   },
   {
    "duration": 30,
    "start_time": "2021-12-13T19:20:25.454Z"
   },
   {
    "duration": 12,
    "start_time": "2021-12-13T19:20:25.487Z"
   },
   {
    "duration": 22,
    "start_time": "2021-12-13T19:20:25.502Z"
   },
   {
    "duration": 40,
    "start_time": "2021-12-13T19:20:25.527Z"
   },
   {
    "duration": 19,
    "start_time": "2021-12-13T19:20:25.572Z"
   },
   {
    "duration": 11,
    "start_time": "2021-12-13T19:20:25.594Z"
   },
   {
    "duration": 51,
    "start_time": "2021-12-13T19:20:25.608Z"
   },
   {
    "duration": 17,
    "start_time": "2021-12-13T19:20:25.662Z"
   },
   {
    "duration": 9,
    "start_time": "2021-12-13T19:20:25.682Z"
   },
   {
    "duration": 121,
    "start_time": "2021-12-13T19:20:25.694Z"
   },
   {
    "duration": 91,
    "start_time": "2021-12-13T19:20:25.817Z"
   },
   {
    "duration": 24,
    "start_time": "2021-12-13T19:20:25.910Z"
   },
   {
    "duration": 5,
    "start_time": "2021-12-13T19:20:25.936Z"
   },
   {
    "duration": 421,
    "start_time": "2021-12-13T19:20:25.961Z"
   },
   {
    "duration": 37,
    "start_time": "2021-12-13T19:20:26.385Z"
   },
   {
    "duration": 57,
    "start_time": "2021-12-13T19:20:26.424Z"
   },
   {
    "duration": 4,
    "start_time": "2021-12-13T19:20:26.484Z"
   },
   {
    "duration": 8,
    "start_time": "2021-12-13T19:20:26.490Z"
   },
   {
    "duration": 15,
    "start_time": "2021-12-13T19:20:26.500Z"
   },
   {
    "duration": 65,
    "start_time": "2021-12-13T19:20:26.523Z"
   },
   {
    "duration": 131,
    "start_time": "2021-12-13T19:20:26.591Z"
   },
   {
    "duration": 15,
    "start_time": "2021-12-13T19:20:26.724Z"
   },
   {
    "duration": 295,
    "start_time": "2021-12-13T19:20:26.758Z"
   },
   {
    "duration": 16,
    "start_time": "2021-12-13T19:20:27.056Z"
   },
   {
    "duration": 14,
    "start_time": "2021-12-13T19:20:27.075Z"
   },
   {
    "duration": 6,
    "start_time": "2021-12-13T19:20:27.092Z"
   },
   {
    "duration": 58,
    "start_time": "2021-12-13T19:20:27.101Z"
   },
   {
    "duration": 2055,
    "start_time": "2021-12-13T19:20:27.162Z"
   },
   {
    "duration": 8,
    "start_time": "2021-12-13T19:20:29.219Z"
   },
   {
    "duration": 33,
    "start_time": "2021-12-13T19:20:29.229Z"
   },
   {
    "duration": 39,
    "start_time": "2021-12-13T19:20:29.265Z"
   },
   {
    "duration": 26,
    "start_time": "2021-12-13T19:20:29.306Z"
   },
   {
    "duration": 25,
    "start_time": "2021-12-13T19:20:29.335Z"
   },
   {
    "duration": 1429,
    "start_time": "2021-12-13T19:20:29.362Z"
   },
   {
    "duration": 41,
    "start_time": "2021-12-13T19:20:30.794Z"
   },
   {
    "duration": 44,
    "start_time": "2021-12-13T19:20:30.837Z"
   },
   {
    "duration": 5,
    "start_time": "2021-12-13T19:20:30.884Z"
   },
   {
    "duration": 1452,
    "start_time": "2021-12-13T19:20:30.892Z"
   },
   {
    "duration": 16,
    "start_time": "2021-12-13T19:20:32.346Z"
   },
   {
    "duration": 14,
    "start_time": "2021-12-13T19:20:32.365Z"
   },
   {
    "duration": 4,
    "start_time": "2021-12-13T19:20:51.567Z"
   },
   {
    "duration": 526,
    "start_time": "2021-12-13T19:20:51.573Z"
   },
   {
    "duration": 12,
    "start_time": "2021-12-13T19:20:52.102Z"
   },
   {
    "duration": 29,
    "start_time": "2021-12-13T19:20:52.116Z"
   },
   {
    "duration": 14,
    "start_time": "2021-12-13T19:20:52.147Z"
   },
   {
    "duration": 26,
    "start_time": "2021-12-13T19:20:52.163Z"
   },
   {
    "duration": 10,
    "start_time": "2021-12-13T19:20:52.194Z"
   },
   {
    "duration": 51,
    "start_time": "2021-12-13T19:20:52.208Z"
   },
   {
    "duration": 12,
    "start_time": "2021-12-13T19:20:52.261Z"
   },
   {
    "duration": 10,
    "start_time": "2021-12-13T19:20:52.275Z"
   },
   {
    "duration": 15,
    "start_time": "2021-12-13T19:20:52.288Z"
   },
   {
    "duration": 11,
    "start_time": "2021-12-13T19:20:52.305Z"
   },
   {
    "duration": 84,
    "start_time": "2021-12-13T19:20:52.360Z"
   },
   {
    "duration": 85,
    "start_time": "2021-12-13T19:20:52.459Z"
   },
   {
    "duration": 33,
    "start_time": "2021-12-13T19:20:52.547Z"
   },
   {
    "duration": 6,
    "start_time": "2021-12-13T19:20:52.582Z"
   },
   {
    "duration": 442,
    "start_time": "2021-12-13T19:20:52.590Z"
   },
   {
    "duration": 55,
    "start_time": "2021-12-13T19:20:53.035Z"
   },
   {
    "duration": 36,
    "start_time": "2021-12-13T19:20:53.097Z"
   },
   {
    "duration": 24,
    "start_time": "2021-12-13T19:20:53.137Z"
   },
   {
    "duration": 7,
    "start_time": "2021-12-13T19:20:53.163Z"
   },
   {
    "duration": 20,
    "start_time": "2021-12-13T19:20:53.172Z"
   },
   {
    "duration": 68,
    "start_time": "2021-12-13T19:20:53.195Z"
   },
   {
    "duration": 137,
    "start_time": "2021-12-13T19:20:53.265Z"
   },
   {
    "duration": 17,
    "start_time": "2021-12-13T19:20:53.405Z"
   },
   {
    "duration": 337,
    "start_time": "2021-12-13T19:20:53.424Z"
   },
   {
    "duration": 17,
    "start_time": "2021-12-13T19:20:53.763Z"
   },
   {
    "duration": 18,
    "start_time": "2021-12-13T19:20:53.782Z"
   },
   {
    "duration": 6,
    "start_time": "2021-12-13T19:20:53.803Z"
   },
   {
    "duration": 47,
    "start_time": "2021-12-13T19:20:53.812Z"
   },
   {
    "duration": 2146,
    "start_time": "2021-12-13T19:20:53.862Z"
   },
   {
    "duration": 10,
    "start_time": "2021-12-13T19:20:56.011Z"
   },
   {
    "duration": 37,
    "start_time": "2021-12-13T19:20:56.024Z"
   },
   {
    "duration": 48,
    "start_time": "2021-12-13T19:20:56.063Z"
   },
   {
    "duration": 57,
    "start_time": "2021-12-13T19:20:56.114Z"
   },
   {
    "duration": 3,
    "start_time": "2021-12-13T19:20:56.174Z"
   },
   {
    "duration": 1383,
    "start_time": "2021-12-13T19:20:56.180Z"
   },
   {
    "duration": 40,
    "start_time": "2021-12-13T19:20:57.565Z"
   },
   {
    "duration": 15,
    "start_time": "2021-12-13T19:20:57.608Z"
   },
   {
    "duration": 33,
    "start_time": "2021-12-13T19:20:57.626Z"
   },
   {
    "duration": 1374,
    "start_time": "2021-12-13T19:20:57.661Z"
   },
   {
    "duration": 22,
    "start_time": "2021-12-13T19:20:59.038Z"
   },
   {
    "duration": 12,
    "start_time": "2021-12-13T19:20:59.062Z"
   },
   {
    "duration": 4,
    "start_time": "2021-12-13T19:21:46.151Z"
   },
   {
    "duration": 549,
    "start_time": "2021-12-13T19:21:46.162Z"
   },
   {
    "duration": 11,
    "start_time": "2021-12-13T19:21:46.714Z"
   },
   {
    "duration": 30,
    "start_time": "2021-12-13T19:21:46.728Z"
   },
   {
    "duration": 12,
    "start_time": "2021-12-13T19:21:46.761Z"
   },
   {
    "duration": 25,
    "start_time": "2021-12-13T19:21:46.776Z"
   },
   {
    "duration": 11,
    "start_time": "2021-12-13T19:21:46.804Z"
   },
   {
    "duration": 57,
    "start_time": "2021-12-13T19:21:46.817Z"
   },
   {
    "duration": 13,
    "start_time": "2021-12-13T19:21:46.876Z"
   },
   {
    "duration": 10,
    "start_time": "2021-12-13T19:21:46.893Z"
   },
   {
    "duration": 15,
    "start_time": "2021-12-13T19:21:46.906Z"
   },
   {
    "duration": 9,
    "start_time": "2021-12-13T19:21:46.961Z"
   },
   {
    "duration": 105,
    "start_time": "2021-12-13T19:21:46.972Z"
   },
   {
    "duration": 97,
    "start_time": "2021-12-13T19:21:47.080Z"
   },
   {
    "duration": 27,
    "start_time": "2021-12-13T19:21:47.180Z"
   },
   {
    "duration": 7,
    "start_time": "2021-12-13T19:21:47.209Z"
   },
   {
    "duration": 483,
    "start_time": "2021-12-13T19:21:47.219Z"
   },
   {
    "duration": 62,
    "start_time": "2021-12-13T19:21:47.705Z"
   },
   {
    "duration": 37,
    "start_time": "2021-12-13T19:21:47.770Z"
   },
   {
    "duration": 4,
    "start_time": "2021-12-13T19:21:47.810Z"
   },
   {
    "duration": 11,
    "start_time": "2021-12-13T19:21:47.817Z"
   },
   {
    "duration": 42,
    "start_time": "2021-12-13T19:21:47.831Z"
   },
   {
    "duration": 37,
    "start_time": "2021-12-13T19:21:47.876Z"
   },
   {
    "duration": 155,
    "start_time": "2021-12-13T19:21:47.915Z"
   },
   {
    "duration": 20,
    "start_time": "2021-12-13T19:21:48.073Z"
   },
   {
    "duration": 217,
    "start_time": "2021-12-13T19:21:48.097Z"
   },
   {
    "duration": 13,
    "start_time": "2021-12-13T19:21:48.316Z"
   },
   {
    "duration": 32,
    "start_time": "2021-12-13T19:21:48.335Z"
   },
   {
    "duration": 5,
    "start_time": "2021-12-13T19:21:48.370Z"
   },
   {
    "duration": 11,
    "start_time": "2021-12-13T19:21:48.378Z"
   },
   {
    "duration": 2217,
    "start_time": "2021-12-13T19:21:48.391Z"
   },
   {
    "duration": 9,
    "start_time": "2021-12-13T19:21:50.611Z"
   },
   {
    "duration": 13,
    "start_time": "2021-12-13T19:21:50.623Z"
   },
   {
    "duration": 43,
    "start_time": "2021-12-13T19:21:50.659Z"
   },
   {
    "duration": 26,
    "start_time": "2021-12-13T19:21:50.704Z"
   },
   {
    "duration": 5,
    "start_time": "2021-12-13T19:21:50.760Z"
   },
   {
    "duration": 1496,
    "start_time": "2021-12-13T19:21:50.768Z"
   },
   {
    "duration": 41,
    "start_time": "2021-12-13T19:21:52.266Z"
   },
   {
    "duration": 17,
    "start_time": "2021-12-13T19:21:52.309Z"
   },
   {
    "duration": 31,
    "start_time": "2021-12-13T19:21:52.329Z"
   },
   {
    "duration": 1369,
    "start_time": "2021-12-13T19:21:52.363Z"
   },
   {
    "duration": 7,
    "start_time": "2021-12-13T19:21:53.735Z"
   },
   {
    "duration": 14,
    "start_time": "2021-12-13T19:21:53.760Z"
   },
   {
    "duration": 4,
    "start_time": "2021-12-13T20:29:59.340Z"
   },
   {
    "duration": 722,
    "start_time": "2021-12-13T20:29:59.346Z"
   },
   {
    "duration": 15,
    "start_time": "2021-12-13T20:30:00.071Z"
   },
   {
    "duration": 60,
    "start_time": "2021-12-13T20:30:00.089Z"
   },
   {
    "duration": 21,
    "start_time": "2021-12-13T20:30:00.153Z"
   },
   {
    "duration": 40,
    "start_time": "2021-12-13T20:30:00.177Z"
   },
   {
    "duration": 12,
    "start_time": "2021-12-13T20:30:00.222Z"
   },
   {
    "duration": 30,
    "start_time": "2021-12-13T20:30:00.262Z"
   },
   {
    "duration": 13,
    "start_time": "2021-12-13T20:30:00.295Z"
   },
   {
    "duration": 14,
    "start_time": "2021-12-13T20:30:00.311Z"
   },
   {
    "duration": 16,
    "start_time": "2021-12-13T20:30:00.359Z"
   },
   {
    "duration": 16,
    "start_time": "2021-12-13T20:30:00.378Z"
   },
   {
    "duration": 114,
    "start_time": "2021-12-13T20:30:00.398Z"
   },
   {
    "duration": 96,
    "start_time": "2021-12-13T20:30:00.514Z"
   },
   {
    "duration": 26,
    "start_time": "2021-12-13T20:30:00.613Z"
   },
   {
    "duration": 17,
    "start_time": "2021-12-13T20:30:00.642Z"
   },
   {
    "duration": 443,
    "start_time": "2021-12-13T20:30:00.661Z"
   },
   {
    "duration": 54,
    "start_time": "2021-12-13T20:30:01.107Z"
   },
   {
    "duration": 50,
    "start_time": "2021-12-13T20:30:01.170Z"
   },
   {
    "duration": 4,
    "start_time": "2021-12-13T20:30:01.223Z"
   },
   {
    "duration": 30,
    "start_time": "2021-12-13T20:30:01.230Z"
   },
   {
    "duration": 23,
    "start_time": "2021-12-13T20:30:01.263Z"
   },
   {
    "duration": 41,
    "start_time": "2021-12-13T20:30:01.289Z"
   },
   {
    "duration": 155,
    "start_time": "2021-12-13T20:30:01.332Z"
   },
   {
    "duration": 16,
    "start_time": "2021-12-13T20:30:01.490Z"
   },
   {
    "duration": 198,
    "start_time": "2021-12-13T20:30:01.510Z"
   },
   {
    "duration": 17,
    "start_time": "2021-12-13T20:30:01.711Z"
   },
   {
    "duration": 32,
    "start_time": "2021-12-13T20:30:01.731Z"
   },
   {
    "duration": 4,
    "start_time": "2021-12-13T20:30:01.766Z"
   },
   {
    "duration": 10,
    "start_time": "2021-12-13T20:30:01.773Z"
   },
   {
    "duration": 2088,
    "start_time": "2021-12-13T20:30:01.785Z"
   },
   {
    "duration": 10,
    "start_time": "2021-12-13T20:30:03.875Z"
   },
   {
    "duration": 8,
    "start_time": "2021-12-13T20:30:03.888Z"
   },
   {
    "duration": 73,
    "start_time": "2021-12-13T20:30:03.898Z"
   },
   {
    "duration": 25,
    "start_time": "2021-12-13T20:30:03.974Z"
   },
   {
    "duration": 4,
    "start_time": "2021-12-13T20:30:04.002Z"
   },
   {
    "duration": 1597,
    "start_time": "2021-12-13T20:30:04.009Z"
   },
   {
    "duration": 73,
    "start_time": "2021-12-13T20:30:05.609Z"
   },
   {
    "duration": 18,
    "start_time": "2021-12-13T20:30:05.685Z"
   },
   {
    "duration": 4,
    "start_time": "2021-12-13T20:30:05.706Z"
   },
   {
    "duration": 1453,
    "start_time": "2021-12-13T20:30:05.713Z"
   },
   {
    "duration": 8,
    "start_time": "2021-12-13T20:30:07.168Z"
   },
   {
    "duration": 14,
    "start_time": "2021-12-13T20:30:07.178Z"
   },
   {
    "duration": 4,
    "start_time": "2021-12-13T20:44:39.623Z"
   },
   {
    "duration": 581,
    "start_time": "2021-12-13T20:44:39.630Z"
   },
   {
    "duration": 13,
    "start_time": "2021-12-13T20:44:40.214Z"
   },
   {
    "duration": 27,
    "start_time": "2021-12-13T20:44:40.230Z"
   },
   {
    "duration": 13,
    "start_time": "2021-12-13T20:44:40.259Z"
   },
   {
    "duration": 23,
    "start_time": "2021-12-13T20:44:40.275Z"
   },
   {
    "duration": 11,
    "start_time": "2021-12-13T20:44:40.301Z"
   },
   {
    "duration": 57,
    "start_time": "2021-12-13T20:44:40.315Z"
   },
   {
    "duration": 11,
    "start_time": "2021-12-13T20:44:40.376Z"
   },
   {
    "duration": 10,
    "start_time": "2021-12-13T20:44:40.389Z"
   },
   {
    "duration": 16,
    "start_time": "2021-12-13T20:44:40.401Z"
   },
   {
    "duration": 46,
    "start_time": "2021-12-13T20:44:40.420Z"
   },
   {
    "duration": 102,
    "start_time": "2021-12-13T20:44:40.468Z"
   },
   {
    "duration": 92,
    "start_time": "2021-12-13T20:44:40.572Z"
   },
   {
    "duration": 25,
    "start_time": "2021-12-13T20:44:40.667Z"
   },
   {
    "duration": 6,
    "start_time": "2021-12-13T20:44:40.694Z"
   },
   {
    "duration": 539,
    "start_time": "2021-12-13T20:44:40.702Z"
   },
   {
    "duration": 45,
    "start_time": "2021-12-13T20:44:41.244Z"
   },
   {
    "duration": 35,
    "start_time": "2021-12-13T20:44:41.292Z"
   },
   {
    "duration": 3,
    "start_time": "2021-12-13T20:44:41.330Z"
   },
   {
    "duration": 6,
    "start_time": "2021-12-13T20:44:41.360Z"
   },
   {
    "duration": 30,
    "start_time": "2021-12-13T20:44:41.368Z"
   },
   {
    "duration": 37,
    "start_time": "2021-12-13T20:44:41.404Z"
   },
   {
    "duration": 130,
    "start_time": "2021-12-13T20:44:41.460Z"
   },
   {
    "duration": 15,
    "start_time": "2021-12-13T20:44:41.592Z"
   },
   {
    "duration": 182,
    "start_time": "2021-12-13T20:44:41.609Z"
   },
   {
    "duration": 14,
    "start_time": "2021-12-13T20:44:41.794Z"
   },
   {
    "duration": 21,
    "start_time": "2021-12-13T20:44:41.810Z"
   },
   {
    "duration": 26,
    "start_time": "2021-12-13T20:44:41.833Z"
   },
   {
    "duration": 14,
    "start_time": "2021-12-13T20:44:41.862Z"
   },
   {
    "duration": 2028,
    "start_time": "2021-12-13T20:44:41.879Z"
   },
   {
    "duration": 9,
    "start_time": "2021-12-13T20:44:43.909Z"
   },
   {
    "duration": 14,
    "start_time": "2021-12-13T20:44:43.920Z"
   },
   {
    "duration": 68,
    "start_time": "2021-12-13T20:44:43.936Z"
   },
   {
    "duration": 26,
    "start_time": "2021-12-13T20:44:44.006Z"
   },
   {
    "duration": 3,
    "start_time": "2021-12-13T20:44:44.035Z"
   },
   {
    "duration": 1290,
    "start_time": "2021-12-13T20:44:44.059Z"
   },
   {
    "duration": 54,
    "start_time": "2021-12-13T20:44:45.352Z"
   },
   {
    "duration": 18,
    "start_time": "2021-12-13T20:44:45.409Z"
   },
   {
    "duration": 30,
    "start_time": "2021-12-13T20:44:45.429Z"
   },
   {
    "duration": 1529,
    "start_time": "2021-12-13T20:44:45.462Z"
   },
   {
    "duration": 8,
    "start_time": "2021-12-13T20:44:46.994Z"
   },
   {
    "duration": 14,
    "start_time": "2021-12-13T20:44:47.004Z"
   },
   {
    "duration": 1377,
    "start_time": "2021-12-14T08:06:41.921Z"
   },
   {
    "duration": 521,
    "start_time": "2021-12-14T08:06:43.301Z"
   },
   {
    "duration": 14,
    "start_time": "2021-12-14T08:06:43.826Z"
   },
   {
    "duration": 28,
    "start_time": "2021-12-14T08:06:43.843Z"
   },
   {
    "duration": 11,
    "start_time": "2021-12-14T08:06:43.874Z"
   },
   {
    "duration": 51,
    "start_time": "2021-12-14T08:06:43.887Z"
   },
   {
    "duration": 9,
    "start_time": "2021-12-14T08:06:43.940Z"
   },
   {
    "duration": 18,
    "start_time": "2021-12-14T08:06:43.953Z"
   },
   {
    "duration": 44,
    "start_time": "2021-12-14T08:06:43.974Z"
   },
   {
    "duration": 8,
    "start_time": "2021-12-14T08:06:44.021Z"
   },
   {
    "duration": 17,
    "start_time": "2021-12-14T08:06:44.032Z"
   },
   {
    "duration": 9,
    "start_time": "2021-12-14T08:06:44.051Z"
   },
   {
    "duration": 131,
    "start_time": "2021-12-14T08:06:44.063Z"
   },
   {
    "duration": 103,
    "start_time": "2021-12-14T08:06:44.196Z"
   },
   {
    "duration": 32,
    "start_time": "2021-12-14T08:06:44.301Z"
   },
   {
    "duration": 5,
    "start_time": "2021-12-14T08:06:44.335Z"
   },
   {
    "duration": 436,
    "start_time": "2021-12-14T08:06:44.343Z"
   },
   {
    "duration": 54,
    "start_time": "2021-12-14T08:06:44.782Z"
   },
   {
    "duration": 34,
    "start_time": "2021-12-14T08:06:44.838Z"
   },
   {
    "duration": 3,
    "start_time": "2021-12-14T08:06:44.875Z"
   },
   {
    "duration": 7,
    "start_time": "2021-12-14T08:06:44.881Z"
   },
   {
    "duration": 19,
    "start_time": "2021-12-14T08:06:44.917Z"
   },
   {
    "duration": 37,
    "start_time": "2021-12-14T08:06:44.941Z"
   },
   {
    "duration": 157,
    "start_time": "2021-12-14T08:06:44.982Z"
   },
   {
    "duration": 15,
    "start_time": "2021-12-14T08:06:45.142Z"
   },
   {
    "duration": 186,
    "start_time": "2021-12-14T08:06:45.159Z"
   },
   {
    "duration": 15,
    "start_time": "2021-12-14T08:06:45.348Z"
   },
   {
    "duration": 15,
    "start_time": "2021-12-14T08:06:45.366Z"
   },
   {
    "duration": 35,
    "start_time": "2021-12-14T08:06:45.384Z"
   },
   {
    "duration": 15,
    "start_time": "2021-12-14T08:06:45.422Z"
   },
   {
    "duration": 2030,
    "start_time": "2021-12-14T08:06:45.440Z"
   },
   {
    "duration": 11,
    "start_time": "2021-12-14T08:06:47.473Z"
   },
   {
    "duration": 31,
    "start_time": "2021-12-14T08:06:47.487Z"
   },
   {
    "duration": 43,
    "start_time": "2021-12-14T08:06:47.521Z"
   },
   {
    "duration": 58,
    "start_time": "2021-12-14T08:06:47.567Z"
   },
   {
    "duration": 3,
    "start_time": "2021-12-14T08:06:47.627Z"
   },
   {
    "duration": 1364,
    "start_time": "2021-12-14T08:06:47.633Z"
   },
   {
    "duration": 48,
    "start_time": "2021-12-14T08:06:48.999Z"
   },
   {
    "duration": 16,
    "start_time": "2021-12-14T08:06:49.050Z"
   },
   {
    "duration": 4,
    "start_time": "2021-12-14T08:06:49.068Z"
   },
   {
    "duration": 1492,
    "start_time": "2021-12-14T08:06:49.074Z"
   },
   {
    "duration": 8,
    "start_time": "2021-12-14T08:06:50.568Z"
   },
   {
    "duration": 13,
    "start_time": "2021-12-14T08:06:50.578Z"
   },
   {
    "duration": 4,
    "start_time": "2021-12-14T08:31:43.300Z"
   },
   {
    "duration": 571,
    "start_time": "2021-12-14T08:31:43.306Z"
   },
   {
    "duration": 11,
    "start_time": "2021-12-14T08:31:43.880Z"
   },
   {
    "duration": 41,
    "start_time": "2021-12-14T08:31:43.893Z"
   },
   {
    "duration": 12,
    "start_time": "2021-12-14T08:31:43.936Z"
   },
   {
    "duration": 39,
    "start_time": "2021-12-14T08:31:43.950Z"
   },
   {
    "duration": 11,
    "start_time": "2021-12-14T08:31:43.991Z"
   },
   {
    "duration": 32,
    "start_time": "2021-12-14T08:31:44.005Z"
   },
   {
    "duration": 22,
    "start_time": "2021-12-14T08:31:44.040Z"
   },
   {
    "duration": 26,
    "start_time": "2021-12-14T08:31:44.064Z"
   },
   {
    "duration": 27,
    "start_time": "2021-12-14T08:31:44.093Z"
   },
   {
    "duration": 31,
    "start_time": "2021-12-14T08:31:44.122Z"
   },
   {
    "duration": 106,
    "start_time": "2021-12-14T08:31:44.156Z"
   },
   {
    "duration": 99,
    "start_time": "2021-12-14T08:31:44.265Z"
   },
   {
    "duration": 30,
    "start_time": "2021-12-14T08:31:44.366Z"
   },
   {
    "duration": 19,
    "start_time": "2021-12-14T08:31:44.398Z"
   },
   {
    "duration": 452,
    "start_time": "2021-12-14T08:31:44.421Z"
   },
   {
    "duration": 52,
    "start_time": "2021-12-14T08:31:44.876Z"
   },
   {
    "duration": 37,
    "start_time": "2021-12-14T08:31:44.930Z"
   },
   {
    "duration": 4,
    "start_time": "2021-12-14T08:31:44.970Z"
   },
   {
    "duration": 33,
    "start_time": "2021-12-14T08:31:44.977Z"
   },
   {
    "duration": 45,
    "start_time": "2021-12-14T08:31:45.013Z"
   },
   {
    "duration": 40,
    "start_time": "2021-12-14T08:31:45.063Z"
   },
   {
    "duration": 132,
    "start_time": "2021-12-14T08:31:45.107Z"
   },
   {
    "duration": 15,
    "start_time": "2021-12-14T08:31:45.242Z"
   },
   {
    "duration": 189,
    "start_time": "2021-12-14T08:31:45.259Z"
   },
   {
    "duration": 15,
    "start_time": "2021-12-14T08:31:45.451Z"
   },
   {
    "duration": 25,
    "start_time": "2021-12-14T08:31:45.469Z"
   },
   {
    "duration": 23,
    "start_time": "2021-12-14T08:31:45.497Z"
   },
   {
    "duration": 29,
    "start_time": "2021-12-14T08:31:45.522Z"
   },
   {
    "duration": 2002,
    "start_time": "2021-12-14T08:31:45.554Z"
   },
   {
    "duration": 10,
    "start_time": "2021-12-14T08:31:47.559Z"
   },
   {
    "duration": 9,
    "start_time": "2021-12-14T08:31:47.572Z"
   },
   {
    "duration": 70,
    "start_time": "2021-12-14T08:31:47.583Z"
   },
   {
    "duration": 27,
    "start_time": "2021-12-14T08:31:47.655Z"
   },
   {
    "duration": 4,
    "start_time": "2021-12-14T08:31:47.684Z"
   },
   {
    "duration": 1333,
    "start_time": "2021-12-14T08:31:47.717Z"
   },
   {
    "duration": 39,
    "start_time": "2021-12-14T08:31:49.052Z"
   },
   {
    "duration": 33,
    "start_time": "2021-12-14T08:31:49.093Z"
   },
   {
    "duration": 3,
    "start_time": "2021-12-14T08:31:49.128Z"
   },
   {
    "duration": 1404,
    "start_time": "2021-12-14T08:31:49.133Z"
   },
   {
    "duration": 8,
    "start_time": "2021-12-14T08:31:50.539Z"
   },
   {
    "duration": 19,
    "start_time": "2021-12-14T08:31:50.550Z"
   },
   {
    "duration": 1045,
    "start_time": "2021-12-14T18:03:21.990Z"
   },
   {
    "duration": 383,
    "start_time": "2021-12-14T18:03:23.037Z"
   },
   {
    "duration": 11,
    "start_time": "2021-12-14T18:03:23.422Z"
   },
   {
    "duration": 26,
    "start_time": "2021-12-14T18:03:23.435Z"
   },
   {
    "duration": 8,
    "start_time": "2021-12-14T18:03:23.462Z"
   },
   {
    "duration": 22,
    "start_time": "2021-12-14T18:03:23.472Z"
   },
   {
    "duration": 8,
    "start_time": "2021-12-14T18:03:23.495Z"
   },
   {
    "duration": 15,
    "start_time": "2021-12-14T18:03:23.505Z"
   },
   {
    "duration": 41,
    "start_time": "2021-12-14T18:03:23.523Z"
   },
   {
    "duration": 6,
    "start_time": "2021-12-14T18:03:23.566Z"
   },
   {
    "duration": 18,
    "start_time": "2021-12-14T18:03:23.573Z"
   },
   {
    "duration": 29,
    "start_time": "2021-12-14T18:03:23.593Z"
   },
   {
    "duration": 94,
    "start_time": "2021-12-14T18:03:23.624Z"
   },
   {
    "duration": 68,
    "start_time": "2021-12-14T18:03:23.720Z"
   },
   {
    "duration": 23,
    "start_time": "2021-12-14T18:03:23.790Z"
   },
   {
    "duration": 4,
    "start_time": "2021-12-14T18:03:23.815Z"
   },
   {
    "duration": 263,
    "start_time": "2021-12-14T18:03:23.820Z"
   },
   {
    "duration": 28,
    "start_time": "2021-12-14T18:03:24.085Z"
   },
   {
    "duration": 23,
    "start_time": "2021-12-14T18:03:24.114Z"
   },
   {
    "duration": 25,
    "start_time": "2021-12-14T18:03:24.138Z"
   },
   {
    "duration": 7,
    "start_time": "2021-12-14T18:03:24.165Z"
   },
   {
    "duration": 15,
    "start_time": "2021-12-14T18:03:24.174Z"
   },
   {
    "duration": 26,
    "start_time": "2021-12-14T18:03:24.193Z"
   },
   {
    "duration": 106,
    "start_time": "2021-12-14T18:03:24.222Z"
   },
   {
    "duration": 11,
    "start_time": "2021-12-14T18:03:24.330Z"
   },
   {
    "duration": 129,
    "start_time": "2021-12-14T18:03:24.343Z"
   },
   {
    "duration": 10,
    "start_time": "2021-12-14T18:03:24.474Z"
   },
   {
    "duration": 11,
    "start_time": "2021-12-14T18:03:24.486Z"
   },
   {
    "duration": 6,
    "start_time": "2021-12-14T18:03:24.498Z"
   },
   {
    "duration": 7,
    "start_time": "2021-12-14T18:03:24.506Z"
   },
   {
    "duration": 1103,
    "start_time": "2021-12-14T18:03:24.515Z"
   },
   {
    "duration": 7,
    "start_time": "2021-12-14T18:03:25.620Z"
   },
   {
    "duration": 11,
    "start_time": "2021-12-14T18:03:25.628Z"
   },
   {
    "duration": 38,
    "start_time": "2021-12-14T18:03:25.641Z"
   },
   {
    "duration": 18,
    "start_time": "2021-12-14T18:03:25.680Z"
   },
   {
    "duration": 3,
    "start_time": "2021-12-14T18:03:25.699Z"
   },
   {
    "duration": 774,
    "start_time": "2021-12-14T18:03:25.703Z"
   },
   {
    "duration": 25,
    "start_time": "2021-12-14T18:03:26.479Z"
   },
   {
    "duration": 10,
    "start_time": "2021-12-14T18:03:26.505Z"
   },
   {
    "duration": 2,
    "start_time": "2021-12-14T18:03:26.517Z"
   },
   {
    "duration": 878,
    "start_time": "2021-12-14T18:03:26.521Z"
   },
   {
    "duration": 6,
    "start_time": "2021-12-14T18:03:27.400Z"
   },
   {
    "duration": 13,
    "start_time": "2021-12-14T18:03:27.408Z"
   },
   {
    "duration": 1094,
    "start_time": "2021-12-14T18:15:27.256Z"
   },
   {
    "duration": 434,
    "start_time": "2021-12-14T18:15:28.352Z"
   },
   {
    "duration": 15,
    "start_time": "2021-12-14T18:15:28.789Z"
   },
   {
    "duration": 27,
    "start_time": "2021-12-14T18:15:28.807Z"
   },
   {
    "duration": 10,
    "start_time": "2021-12-14T18:15:28.836Z"
   },
   {
    "duration": 34,
    "start_time": "2021-12-14T18:15:28.848Z"
   },
   {
    "duration": 9,
    "start_time": "2021-12-14T18:15:28.885Z"
   },
   {
    "duration": 17,
    "start_time": "2021-12-14T18:15:28.896Z"
   },
   {
    "duration": 8,
    "start_time": "2021-12-14T18:15:28.916Z"
   },
   {
    "duration": 9,
    "start_time": "2021-12-14T18:15:28.926Z"
   },
   {
    "duration": 40,
    "start_time": "2021-12-14T18:15:28.937Z"
   },
   {
    "duration": 11,
    "start_time": "2021-12-14T18:15:28.979Z"
   },
   {
    "duration": 71,
    "start_time": "2021-12-14T18:15:28.992Z"
   },
   {
    "duration": 60,
    "start_time": "2021-12-14T18:15:29.065Z"
   },
   {
    "duration": 32,
    "start_time": "2021-12-14T18:15:29.127Z"
   },
   {
    "duration": 5,
    "start_time": "2021-12-14T18:15:29.162Z"
   },
   {
    "duration": 285,
    "start_time": "2021-12-14T18:15:29.170Z"
   },
   {
    "duration": 37,
    "start_time": "2021-12-14T18:15:29.456Z"
   },
   {
    "duration": 26,
    "start_time": "2021-12-14T18:15:29.495Z"
   },
   {
    "duration": 2,
    "start_time": "2021-12-14T18:15:29.523Z"
   },
   {
    "duration": 10,
    "start_time": "2021-12-14T18:15:29.527Z"
   },
   {
    "duration": 35,
    "start_time": "2021-12-14T18:15:29.539Z"
   },
   {
    "duration": 26,
    "start_time": "2021-12-14T18:15:29.576Z"
   },
   {
    "duration": 107,
    "start_time": "2021-12-14T18:15:29.604Z"
   },
   {
    "duration": 12,
    "start_time": "2021-12-14T18:15:29.713Z"
   },
   {
    "duration": 128,
    "start_time": "2021-12-14T18:15:29.726Z"
   },
   {
    "duration": 14,
    "start_time": "2021-12-14T18:15:29.858Z"
   },
   {
    "duration": 10,
    "start_time": "2021-12-14T18:15:29.874Z"
   },
   {
    "duration": 4,
    "start_time": "2021-12-14T18:15:29.886Z"
   },
   {
    "duration": 14,
    "start_time": "2021-12-14T18:15:29.891Z"
   },
   {
    "duration": 1257,
    "start_time": "2021-12-14T18:15:29.907Z"
   },
   {
    "duration": 6,
    "start_time": "2021-12-14T18:15:31.166Z"
   },
   {
    "duration": 25,
    "start_time": "2021-12-14T18:15:31.174Z"
   },
   {
    "duration": 28,
    "start_time": "2021-12-14T18:15:31.201Z"
   },
   {
    "duration": 19,
    "start_time": "2021-12-14T18:15:31.231Z"
   },
   {
    "duration": 12,
    "start_time": "2021-12-14T18:15:31.252Z"
   },
   {
    "duration": 784,
    "start_time": "2021-12-14T18:15:31.266Z"
   },
   {
    "duration": 29,
    "start_time": "2021-12-14T18:15:32.052Z"
   },
   {
    "duration": 10,
    "start_time": "2021-12-14T18:15:32.083Z"
   },
   {
    "duration": 2,
    "start_time": "2021-12-14T18:15:32.095Z"
   },
   {
    "duration": 885,
    "start_time": "2021-12-14T18:15:32.099Z"
   },
   {
    "duration": 5,
    "start_time": "2021-12-14T18:15:32.985Z"
   },
   {
    "duration": 9,
    "start_time": "2021-12-14T18:15:32.992Z"
   },
   {
    "duration": 5,
    "start_time": "2021-12-14T18:57:15.190Z"
   },
   {
    "duration": 12,
    "start_time": "2021-12-14T19:00:40.623Z"
   },
   {
    "duration": 88,
    "start_time": "2021-12-14T19:13:29.028Z"
   },
   {
    "duration": 15,
    "start_time": "2021-12-14T19:20:43.615Z"
   },
   {
    "duration": 127,
    "start_time": "2021-12-15T06:01:18.980Z"
   },
   {
    "duration": 563,
    "start_time": "2021-12-15T06:01:31.375Z"
   },
   {
    "duration": 1174,
    "start_time": "2021-12-15T06:02:05.115Z"
   },
   {
    "duration": 428,
    "start_time": "2021-12-15T06:02:06.291Z"
   },
   {
    "duration": 10,
    "start_time": "2021-12-15T06:02:06.722Z"
   },
   {
    "duration": 29,
    "start_time": "2021-12-15T06:02:06.735Z"
   },
   {
    "duration": 4,
    "start_time": "2021-12-15T06:02:06.766Z"
   },
   {
    "duration": 20,
    "start_time": "2021-12-15T06:02:06.771Z"
   },
   {
    "duration": 36,
    "start_time": "2021-12-15T06:02:06.792Z"
   },
   {
    "duration": 8,
    "start_time": "2021-12-15T06:02:06.831Z"
   },
   {
    "duration": 23,
    "start_time": "2021-12-15T06:02:06.841Z"
   },
   {
    "duration": 15,
    "start_time": "2021-12-15T06:02:06.867Z"
   },
   {
    "duration": 16,
    "start_time": "2021-12-15T06:02:06.884Z"
   },
   {
    "duration": 15,
    "start_time": "2021-12-15T06:02:06.906Z"
   },
   {
    "duration": 15,
    "start_time": "2021-12-15T06:02:06.923Z"
   },
   {
    "duration": 125,
    "start_time": "2021-12-15T06:02:06.940Z"
   },
   {
    "duration": 92,
    "start_time": "2021-12-15T06:02:07.068Z"
   },
   {
    "duration": 40,
    "start_time": "2021-12-15T06:02:07.163Z"
   },
   {
    "duration": 5,
    "start_time": "2021-12-15T06:02:07.206Z"
   },
   {
    "duration": 448,
    "start_time": "2021-12-15T06:02:07.213Z"
   },
   {
    "duration": 54,
    "start_time": "2021-12-15T06:02:07.663Z"
   },
   {
    "duration": 39,
    "start_time": "2021-12-15T06:02:07.719Z"
   },
   {
    "duration": 3,
    "start_time": "2021-12-15T06:02:07.760Z"
   },
   {
    "duration": 7,
    "start_time": "2021-12-15T06:02:07.766Z"
   },
   {
    "duration": 39,
    "start_time": "2021-12-15T06:02:07.778Z"
   },
   {
    "duration": 36,
    "start_time": "2021-12-15T06:02:07.819Z"
   },
   {
    "duration": 99,
    "start_time": "2021-12-15T06:02:07.858Z"
   },
   {
    "duration": 12,
    "start_time": "2021-12-15T06:02:07.959Z"
   },
   {
    "duration": 138,
    "start_time": "2021-12-15T06:02:07.972Z"
   },
   {
    "duration": 11,
    "start_time": "2021-12-15T06:02:08.112Z"
   },
   {
    "duration": 13,
    "start_time": "2021-12-15T06:02:08.124Z"
   },
   {
    "duration": 10,
    "start_time": "2021-12-15T06:02:08.139Z"
   },
   {
    "duration": 7,
    "start_time": "2021-12-15T06:02:08.151Z"
   },
   {
    "duration": 1308,
    "start_time": "2021-12-15T06:02:08.160Z"
   },
   {
    "duration": 13,
    "start_time": "2021-12-15T06:02:09.469Z"
   },
   {
    "duration": 24,
    "start_time": "2021-12-15T06:02:09.484Z"
   },
   {
    "duration": 23,
    "start_time": "2021-12-15T06:02:09.510Z"
   },
   {
    "duration": 30,
    "start_time": "2021-12-15T06:02:09.535Z"
   },
   {
    "duration": 20,
    "start_time": "2021-12-15T06:02:09.567Z"
   },
   {
    "duration": 3,
    "start_time": "2021-12-15T06:02:09.589Z"
   },
   {
    "duration": 844,
    "start_time": "2021-12-15T06:02:09.606Z"
   },
   {
    "duration": 27,
    "start_time": "2021-12-15T06:02:10.453Z"
   },
   {
    "duration": 27,
    "start_time": "2021-12-15T06:02:10.482Z"
   },
   {
    "duration": 3,
    "start_time": "2021-12-15T06:02:10.511Z"
   },
   {
    "duration": 927,
    "start_time": "2021-12-15T06:02:10.516Z"
   },
   {
    "duration": 6,
    "start_time": "2021-12-15T06:02:11.445Z"
   },
   {
    "duration": 14,
    "start_time": "2021-12-15T06:02:11.453Z"
   },
   {
    "duration": 9,
    "start_time": "2021-12-15T06:03:07.873Z"
   },
   {
    "duration": 17,
    "start_time": "2021-12-15T06:03:20.878Z"
   },
   {
    "duration": 3,
    "start_time": "2021-12-15T06:04:31.385Z"
   },
   {
    "duration": 557,
    "start_time": "2021-12-15T06:04:31.390Z"
   },
   {
    "duration": 10,
    "start_time": "2021-12-15T06:04:31.950Z"
   },
   {
    "duration": 21,
    "start_time": "2021-12-15T06:04:31.962Z"
   },
   {
    "duration": 27,
    "start_time": "2021-12-15T06:04:31.985Z"
   },
   {
    "duration": 27,
    "start_time": "2021-12-15T06:07:09.771Z"
   },
   {
    "duration": 4,
    "start_time": "2021-12-15T06:09:37.996Z"
   },
   {
    "duration": 6,
    "start_time": "2021-12-15T06:14:33.776Z"
   },
   {
    "duration": 5,
    "start_time": "2021-12-15T06:15:50.804Z"
   },
   {
    "duration": 33,
    "start_time": "2021-12-15T06:16:05.115Z"
   },
   {
    "duration": 3,
    "start_time": "2021-12-15T06:18:12.154Z"
   },
   {
    "duration": 446,
    "start_time": "2021-12-15T06:18:12.159Z"
   },
   {
    "duration": 8,
    "start_time": "2021-12-15T06:18:12.607Z"
   },
   {
    "duration": 22,
    "start_time": "2021-12-15T06:18:12.617Z"
   },
   {
    "duration": 5,
    "start_time": "2021-12-15T06:18:12.640Z"
   },
   {
    "duration": 14,
    "start_time": "2021-12-15T06:18:12.647Z"
   },
   {
    "duration": 17,
    "start_time": "2021-12-15T06:18:12.663Z"
   },
   {
    "duration": 27,
    "start_time": "2021-12-15T06:18:12.682Z"
   },
   {
    "duration": 15,
    "start_time": "2021-12-15T06:18:12.711Z"
   },
   {
    "duration": 8,
    "start_time": "2021-12-15T06:18:12.728Z"
   },
   {
    "duration": 8,
    "start_time": "2021-12-15T06:18:12.737Z"
   },
   {
    "duration": 10,
    "start_time": "2021-12-15T06:18:12.746Z"
   },
   {
    "duration": 6,
    "start_time": "2021-12-15T06:18:12.758Z"
   },
   {
    "duration": 93,
    "start_time": "2021-12-15T06:18:12.766Z"
   },
   {
    "duration": 73,
    "start_time": "2021-12-15T06:18:12.861Z"
   },
   {
    "duration": 18,
    "start_time": "2021-12-15T06:18:12.935Z"
   },
   {
    "duration": 4,
    "start_time": "2021-12-15T06:18:12.955Z"
   },
   {
    "duration": 283,
    "start_time": "2021-12-15T06:18:12.960Z"
   },
   {
    "duration": 26,
    "start_time": "2021-12-15T06:18:13.246Z"
   },
   {
    "duration": 43,
    "start_time": "2021-12-15T06:18:13.274Z"
   },
   {
    "duration": 2,
    "start_time": "2021-12-15T06:18:13.319Z"
   },
   {
    "duration": 6,
    "start_time": "2021-12-15T06:18:13.323Z"
   },
   {
    "duration": 452,
    "start_time": "2021-12-15T06:18:13.330Z"
   },
   {
    "duration": 928,
    "start_time": "2021-12-15T06:18:12.857Z"
   },
   {
    "duration": 915,
    "start_time": "2021-12-15T06:18:12.871Z"
   },
   {
    "duration": 891,
    "start_time": "2021-12-15T06:18:12.897Z"
   },
   {
    "duration": 884,
    "start_time": "2021-12-15T06:18:12.905Z"
   },
   {
    "duration": 866,
    "start_time": "2021-12-15T06:18:12.924Z"
   },
   {
    "duration": 852,
    "start_time": "2021-12-15T06:18:12.940Z"
   },
   {
    "duration": 848,
    "start_time": "2021-12-15T06:18:12.945Z"
   },
   {
    "duration": 845,
    "start_time": "2021-12-15T06:18:12.950Z"
   },
   {
    "duration": 841,
    "start_time": "2021-12-15T06:18:12.955Z"
   },
   {
    "duration": 838,
    "start_time": "2021-12-15T06:18:12.960Z"
   },
   {
    "duration": 834,
    "start_time": "2021-12-15T06:18:12.965Z"
   },
   {
    "duration": 831,
    "start_time": "2021-12-15T06:18:12.970Z"
   },
   {
    "duration": 829,
    "start_time": "2021-12-15T06:18:12.973Z"
   },
   {
    "duration": 827,
    "start_time": "2021-12-15T06:18:12.977Z"
   },
   {
    "duration": 823,
    "start_time": "2021-12-15T06:18:12.982Z"
   },
   {
    "duration": 819,
    "start_time": "2021-12-15T06:18:12.988Z"
   },
   {
    "duration": 814,
    "start_time": "2021-12-15T06:18:12.994Z"
   },
   {
    "duration": 811,
    "start_time": "2021-12-15T06:18:12.999Z"
   },
   {
    "duration": 808,
    "start_time": "2021-12-15T06:18:13.003Z"
   },
   {
    "duration": 805,
    "start_time": "2021-12-15T06:18:13.008Z"
   },
   {
    "duration": 801,
    "start_time": "2021-12-15T06:18:13.013Z"
   },
   {
    "duration": 797,
    "start_time": "2021-12-15T06:18:13.019Z"
   },
   {
    "duration": 5,
    "start_time": "2021-12-15T06:22:29.999Z"
   },
   {
    "duration": 381,
    "start_time": "2021-12-15T08:49:33.052Z"
   },
   {
    "duration": 3,
    "start_time": "2021-12-15T08:49:38.286Z"
   },
   {
    "duration": 476,
    "start_time": "2021-12-15T08:49:38.294Z"
   },
   {
    "duration": 8,
    "start_time": "2021-12-15T08:49:38.772Z"
   },
   {
    "duration": 26,
    "start_time": "2021-12-15T08:49:38.782Z"
   },
   {
    "duration": 5,
    "start_time": "2021-12-15T08:49:38.810Z"
   },
   {
    "duration": 9,
    "start_time": "2021-12-15T08:49:38.816Z"
   },
   {
    "duration": 18,
    "start_time": "2021-12-15T08:49:38.827Z"
   },
   {
    "duration": 5,
    "start_time": "2021-12-15T08:49:38.847Z"
   },
   {
    "duration": 8,
    "start_time": "2021-12-15T08:49:38.854Z"
   },
   {
    "duration": 51,
    "start_time": "2021-12-15T08:49:38.864Z"
   },
   {
    "duration": 4,
    "start_time": "2021-12-15T08:49:38.917Z"
   },
   {
    "duration": 11,
    "start_time": "2021-12-15T08:49:38.923Z"
   },
   {
    "duration": 6,
    "start_time": "2021-12-15T08:49:38.936Z"
   },
   {
    "duration": 371,
    "start_time": "2021-12-15T08:49:38.944Z"
   },
   {
    "duration": 1004,
    "start_time": "2021-12-15T08:49:38.314Z"
   },
   {
    "duration": 998,
    "start_time": "2021-12-15T08:49:38.321Z"
   },
   {
    "duration": 993,
    "start_time": "2021-12-15T08:49:38.327Z"
   },
   {
    "duration": 988,
    "start_time": "2021-12-15T08:49:38.333Z"
   },
   {
    "duration": 985,
    "start_time": "2021-12-15T08:49:38.337Z"
   },
   {
    "duration": 981,
    "start_time": "2021-12-15T08:49:38.342Z"
   },
   {
    "duration": 978,
    "start_time": "2021-12-15T08:49:38.346Z"
   },
   {
    "duration": 973,
    "start_time": "2021-12-15T08:49:38.352Z"
   },
   {
    "duration": 968,
    "start_time": "2021-12-15T08:49:38.358Z"
   },
   {
    "duration": 965,
    "start_time": "2021-12-15T08:49:38.363Z"
   },
   {
    "duration": 933,
    "start_time": "2021-12-15T08:49:38.396Z"
   },
   {
    "duration": 930,
    "start_time": "2021-12-15T08:49:38.400Z"
   },
   {
    "duration": 925,
    "start_time": "2021-12-15T08:49:38.406Z"
   },
   {
    "duration": 921,
    "start_time": "2021-12-15T08:49:38.411Z"
   },
   {
    "duration": 917,
    "start_time": "2021-12-15T08:49:38.416Z"
   },
   {
    "duration": 914,
    "start_time": "2021-12-15T08:49:38.420Z"
   },
   {
    "duration": 910,
    "start_time": "2021-12-15T08:49:38.425Z"
   },
   {
    "duration": 906,
    "start_time": "2021-12-15T08:49:38.429Z"
   },
   {
    "duration": 904,
    "start_time": "2021-12-15T08:49:38.433Z"
   },
   {
    "duration": 899,
    "start_time": "2021-12-15T08:49:38.439Z"
   },
   {
    "duration": 896,
    "start_time": "2021-12-15T08:49:38.443Z"
   },
   {
    "duration": 893,
    "start_time": "2021-12-15T08:49:38.447Z"
   },
   {
    "duration": 888,
    "start_time": "2021-12-15T08:49:38.453Z"
   },
   {
    "duration": 886,
    "start_time": "2021-12-15T08:49:38.456Z"
   },
   {
    "duration": 883,
    "start_time": "2021-12-15T08:49:38.460Z"
   },
   {
    "duration": 881,
    "start_time": "2021-12-15T08:49:38.464Z"
   },
   {
    "duration": 870,
    "start_time": "2021-12-15T08:49:38.476Z"
   },
   {
    "duration": 867,
    "start_time": "2021-12-15T08:49:38.480Z"
   },
   {
    "duration": 864,
    "start_time": "2021-12-15T08:49:38.484Z"
   },
   {
    "duration": 861,
    "start_time": "2021-12-15T08:49:38.489Z"
   },
   {
    "duration": 859,
    "start_time": "2021-12-15T08:49:38.493Z"
   },
   {
    "duration": 857,
    "start_time": "2021-12-15T08:49:38.496Z"
   },
   {
    "duration": 853,
    "start_time": "2021-12-15T08:49:38.501Z"
   },
   {
    "duration": 851,
    "start_time": "2021-12-15T08:49:38.505Z"
   },
   {
    "duration": 1525,
    "start_time": "2021-12-15T08:50:03.401Z"
   },
   {
    "duration": 363,
    "start_time": "2021-12-15T08:54:01.492Z"
   },
   {
    "duration": 130,
    "start_time": "2021-12-15T08:55:48.447Z"
   },
   {
    "duration": 954,
    "start_time": "2021-12-15T08:55:59.329Z"
   },
   {
    "duration": 415,
    "start_time": "2021-12-15T09:36:18.592Z"
   },
   {
    "duration": 3,
    "start_time": "2021-12-15T09:36:50.166Z"
   },
   {
    "duration": 5,
    "start_time": "2021-12-15T09:36:54.390Z"
   },
   {
    "duration": 4,
    "start_time": "2021-12-15T09:39:57.489Z"
   },
   {
    "duration": 9,
    "start_time": "2021-12-15T09:40:04.013Z"
   },
   {
    "duration": 13,
    "start_time": "2021-12-15T09:41:23.297Z"
   },
   {
    "duration": 14,
    "start_time": "2021-12-15T10:01:26.357Z"
   },
   {
    "duration": 1657,
    "start_time": "2021-12-15T10:02:50.773Z"
   },
   {
    "duration": 1384,
    "start_time": "2021-12-15T10:03:28.312Z"
   },
   {
    "duration": 9,
    "start_time": "2021-12-15T10:03:45.967Z"
   },
   {
    "duration": 9,
    "start_time": "2021-12-15T10:03:57.348Z"
   },
   {
    "duration": 132,
    "start_time": "2021-12-15T10:04:05.786Z"
   },
   {
    "duration": 113,
    "start_time": "2021-12-15T10:04:13.351Z"
   },
   {
    "duration": 8,
    "start_time": "2021-12-15T10:04:32.180Z"
   },
   {
    "duration": 9,
    "start_time": "2021-12-15T10:04:40.987Z"
   },
   {
    "duration": 8,
    "start_time": "2021-12-15T10:05:32.613Z"
   },
   {
    "duration": 118,
    "start_time": "2021-12-15T10:05:41.786Z"
   },
   {
    "duration": 7,
    "start_time": "2021-12-15T10:16:27.097Z"
   },
   {
    "duration": 4,
    "start_time": "2021-12-15T10:18:02.394Z"
   },
   {
    "duration": 453,
    "start_time": "2021-12-15T10:18:02.400Z"
   },
   {
    "duration": 8,
    "start_time": "2021-12-15T10:18:02.856Z"
   },
   {
    "duration": 28,
    "start_time": "2021-12-15T10:18:02.866Z"
   },
   {
    "duration": 10,
    "start_time": "2021-12-15T10:18:02.896Z"
   },
   {
    "duration": 22,
    "start_time": "2021-12-15T10:18:02.908Z"
   },
   {
    "duration": 22,
    "start_time": "2021-12-15T10:18:02.933Z"
   },
   {
    "duration": 5,
    "start_time": "2021-12-15T10:18:02.958Z"
   },
   {
    "duration": 13,
    "start_time": "2021-12-15T10:18:02.965Z"
   },
   {
    "duration": 26,
    "start_time": "2021-12-15T10:18:02.980Z"
   },
   {
    "duration": 5,
    "start_time": "2021-12-15T10:18:03.008Z"
   },
   {
    "duration": 14,
    "start_time": "2021-12-15T10:18:03.014Z"
   },
   {
    "duration": 8,
    "start_time": "2021-12-15T10:18:03.030Z"
   },
   {
    "duration": 10,
    "start_time": "2021-12-15T10:18:03.040Z"
   },
   {
    "duration": 14,
    "start_time": "2021-12-15T10:18:03.052Z"
   },
   {
    "duration": 10,
    "start_time": "2021-12-15T10:18:03.068Z"
   },
   {
    "duration": 133,
    "start_time": "2021-12-15T10:18:03.081Z"
   },
   {
    "duration": 95,
    "start_time": "2021-12-15T10:18:03.216Z"
   },
   {
    "duration": 23,
    "start_time": "2021-12-15T10:18:03.317Z"
   },
   {
    "duration": 5,
    "start_time": "2021-12-15T10:18:03.344Z"
   },
   {
    "duration": 466,
    "start_time": "2021-12-15T10:18:03.352Z"
   },
   {
    "duration": 32,
    "start_time": "2021-12-15T10:18:03.820Z"
   },
   {
    "duration": 26,
    "start_time": "2021-12-15T10:18:03.853Z"
   },
   {
    "duration": 26,
    "start_time": "2021-12-15T10:18:03.881Z"
   },
   {
    "duration": 4,
    "start_time": "2021-12-15T10:18:03.909Z"
   },
   {
    "duration": 353,
    "start_time": "2021-12-15T10:18:03.915Z"
   },
   {
    "duration": 929,
    "start_time": "2021-12-15T10:18:03.341Z"
   },
   {
    "duration": 904,
    "start_time": "2021-12-15T10:18:03.367Z"
   },
   {
    "duration": 891,
    "start_time": "2021-12-15T10:18:03.381Z"
   },
   {
    "duration": 879,
    "start_time": "2021-12-15T10:18:03.394Z"
   },
   {
    "duration": 876,
    "start_time": "2021-12-15T10:18:03.398Z"
   },
   {
    "duration": 873,
    "start_time": "2021-12-15T10:18:03.402Z"
   },
   {
    "duration": 868,
    "start_time": "2021-12-15T10:18:03.407Z"
   },
   {
    "duration": 866,
    "start_time": "2021-12-15T10:18:03.411Z"
   },
   {
    "duration": 863,
    "start_time": "2021-12-15T10:18:03.415Z"
   },
   {
    "duration": 861,
    "start_time": "2021-12-15T10:18:03.418Z"
   },
   {
    "duration": 857,
    "start_time": "2021-12-15T10:18:03.423Z"
   },
   {
    "duration": 855,
    "start_time": "2021-12-15T10:18:03.427Z"
   },
   {
    "duration": 852,
    "start_time": "2021-12-15T10:18:03.431Z"
   },
   {
    "duration": 849,
    "start_time": "2021-12-15T10:18:03.435Z"
   },
   {
    "duration": 845,
    "start_time": "2021-12-15T10:18:03.440Z"
   },
   {
    "duration": 842,
    "start_time": "2021-12-15T10:18:03.444Z"
   },
   {
    "duration": 839,
    "start_time": "2021-12-15T10:18:03.448Z"
   },
   {
    "duration": 836,
    "start_time": "2021-12-15T10:18:03.452Z"
   },
   {
    "duration": 831,
    "start_time": "2021-12-15T10:18:03.458Z"
   },
   {
    "duration": 812,
    "start_time": "2021-12-15T10:18:03.478Z"
   },
   {
    "duration": 808,
    "start_time": "2021-12-15T10:18:03.483Z"
   },
   {
    "duration": 804,
    "start_time": "2021-12-15T10:18:03.488Z"
   },
   {
    "duration": 427,
    "start_time": "2021-12-15T10:21:27.539Z"
   },
   {
    "duration": 688,
    "start_time": "2021-12-15T10:23:19.628Z"
   },
   {
    "duration": 670,
    "start_time": "2021-12-15T10:25:44.393Z"
   },
   {
    "duration": 381,
    "start_time": "2021-12-15T10:25:48.120Z"
   },
   {
    "duration": 358,
    "start_time": "2021-12-15T10:25:54.418Z"
   },
   {
    "duration": 359,
    "start_time": "2021-12-15T10:27:42.864Z"
   },
   {
    "duration": 358,
    "start_time": "2021-12-15T10:28:02.977Z"
   },
   {
    "duration": 550,
    "start_time": "2021-12-15T10:28:15.091Z"
   },
   {
    "duration": 4,
    "start_time": "2021-12-15T10:29:47.573Z"
   },
   {
    "duration": 8965,
    "start_time": "2021-12-15T10:30:03.187Z"
   },
   {
    "duration": 3,
    "start_time": "2021-12-15T10:30:32.636Z"
   },
   {
    "duration": 461,
    "start_time": "2021-12-15T10:30:32.641Z"
   },
   {
    "duration": 8,
    "start_time": "2021-12-15T10:30:33.104Z"
   },
   {
    "duration": 36,
    "start_time": "2021-12-15T10:30:33.115Z"
   },
   {
    "duration": 6,
    "start_time": "2021-12-15T10:30:33.153Z"
   },
   {
    "duration": 14,
    "start_time": "2021-12-15T10:30:33.160Z"
   },
   {
    "duration": 57,
    "start_time": "2021-12-15T10:30:33.177Z"
   },
   {
    "duration": 5,
    "start_time": "2021-12-15T10:30:33.236Z"
   },
   {
    "duration": 11,
    "start_time": "2021-12-15T10:30:33.243Z"
   },
   {
    "duration": 28,
    "start_time": "2021-12-15T10:30:33.255Z"
   },
   {
    "duration": 24,
    "start_time": "2021-12-15T10:30:33.285Z"
   },
   {
    "duration": 9,
    "start_time": "2021-12-15T10:30:33.311Z"
   },
   {
    "duration": 11,
    "start_time": "2021-12-15T10:30:33.322Z"
   },
   {
    "duration": 8,
    "start_time": "2021-12-15T10:30:33.334Z"
   },
   {
    "duration": 14,
    "start_time": "2021-12-15T10:30:33.344Z"
   },
   {
    "duration": 12,
    "start_time": "2021-12-15T10:30:33.360Z"
   },
   {
    "duration": 8841,
    "start_time": "2021-12-15T10:30:33.374Z"
   },
   {
    "duration": 1026,
    "start_time": "2021-12-15T10:30:41.193Z"
   },
   {
    "duration": 1011,
    "start_time": "2021-12-15T10:30:41.210Z"
   },
   {
    "duration": 999,
    "start_time": "2021-12-15T10:30:41.223Z"
   },
   {
    "duration": 986,
    "start_time": "2021-12-15T10:30:41.237Z"
   },
   {
    "duration": 980,
    "start_time": "2021-12-15T10:30:41.245Z"
   },
   {
    "duration": 966,
    "start_time": "2021-12-15T10:30:41.260Z"
   },
   {
    "duration": 951,
    "start_time": "2021-12-15T10:30:41.276Z"
   },
   {
    "duration": 938,
    "start_time": "2021-12-15T10:30:41.290Z"
   },
   {
    "duration": 928,
    "start_time": "2021-12-15T10:30:41.301Z"
   },
   {
    "duration": 926,
    "start_time": "2021-12-15T10:30:41.305Z"
   },
   {
    "duration": 922,
    "start_time": "2021-12-15T10:30:41.311Z"
   },
   {
    "duration": 915,
    "start_time": "2021-12-15T10:30:41.319Z"
   },
   {
    "duration": 912,
    "start_time": "2021-12-15T10:30:41.323Z"
   },
   {
    "duration": 904,
    "start_time": "2021-12-15T10:30:41.333Z"
   },
   {
    "duration": 901,
    "start_time": "2021-12-15T10:30:41.337Z"
   },
   {
    "duration": 896,
    "start_time": "2021-12-15T10:30:41.343Z"
   },
   {
    "duration": 890,
    "start_time": "2021-12-15T10:30:41.351Z"
   },
   {
    "duration": 887,
    "start_time": "2021-12-15T10:30:41.355Z"
   },
   {
    "duration": 883,
    "start_time": "2021-12-15T10:30:41.360Z"
   },
   {
    "duration": 875,
    "start_time": "2021-12-15T10:30:41.370Z"
   },
   {
    "duration": 871,
    "start_time": "2021-12-15T10:30:41.375Z"
   },
   {
    "duration": 863,
    "start_time": "2021-12-15T10:30:41.385Z"
   },
   {
    "duration": 861,
    "start_time": "2021-12-15T10:30:41.388Z"
   },
   {
    "duration": 857,
    "start_time": "2021-12-15T10:30:41.393Z"
   },
   {
    "duration": 850,
    "start_time": "2021-12-15T10:30:41.402Z"
   },
   {
    "duration": 847,
    "start_time": "2021-12-15T10:30:41.406Z"
   },
   {
    "duration": 843,
    "start_time": "2021-12-15T10:30:41.411Z"
   },
   {
    "duration": 836,
    "start_time": "2021-12-15T10:30:41.420Z"
   },
   {
    "duration": 830,
    "start_time": "2021-12-15T10:30:41.427Z"
   },
   {
    "duration": 870,
    "start_time": "2021-12-15T10:30:41.437Z"
   },
   {
    "duration": 858,
    "start_time": "2021-12-15T10:30:41.450Z"
   },
   {
    "duration": 856,
    "start_time": "2021-12-15T10:30:41.454Z"
   },
   {
    "duration": 17,
    "start_time": "2021-12-15T10:33:00.134Z"
   },
   {
    "duration": 5,
    "start_time": "2021-12-15T10:33:16.816Z"
   },
   {
    "duration": 94,
    "start_time": "2021-12-15T10:37:05.274Z"
   },
   {
    "duration": 89,
    "start_time": "2021-12-15T10:37:19.349Z"
   },
   {
    "duration": 40,
    "start_time": "2021-12-15T10:39:38.952Z"
   },
   {
    "duration": 38,
    "start_time": "2021-12-15T10:44:38.347Z"
   },
   {
    "duration": 9,
    "start_time": "2021-12-15T10:45:52.003Z"
   },
   {
    "duration": 10,
    "start_time": "2021-12-15T10:46:42.570Z"
   },
   {
    "duration": 4,
    "start_time": "2021-12-15T10:47:01.751Z"
   },
   {
    "duration": 643,
    "start_time": "2021-12-15T10:47:01.759Z"
   },
   {
    "duration": 10,
    "start_time": "2021-12-15T10:47:02.404Z"
   },
   {
    "duration": 23,
    "start_time": "2021-12-15T10:47:02.417Z"
   },
   {
    "duration": 5,
    "start_time": "2021-12-15T10:47:02.442Z"
   },
   {
    "duration": 126,
    "start_time": "2021-12-15T10:47:02.449Z"
   },
   {
    "duration": 9,
    "start_time": "2021-12-15T10:47:02.576Z"
   },
   {
    "duration": 31,
    "start_time": "2021-12-15T10:47:02.588Z"
   },
   {
    "duration": 6,
    "start_time": "2021-12-15T10:47:02.622Z"
   },
   {
    "duration": 45,
    "start_time": "2021-12-15T10:47:02.631Z"
   },
   {
    "duration": 31,
    "start_time": "2021-12-15T10:47:02.677Z"
   },
   {
    "duration": 16,
    "start_time": "2021-12-15T10:47:02.709Z"
   },
   {
    "duration": 3,
    "start_time": "2021-12-15T10:47:02.727Z"
   },
   {
    "duration": 44,
    "start_time": "2021-12-15T10:47:02.732Z"
   },
   {
    "duration": 34,
    "start_time": "2021-12-15T10:47:02.778Z"
   },
   {
    "duration": 9,
    "start_time": "2021-12-15T10:47:02.814Z"
   },
   {
    "duration": 8,
    "start_time": "2021-12-15T10:47:02.825Z"
   },
   {
    "duration": 10,
    "start_time": "2021-12-15T10:47:02.836Z"
   },
   {
    "duration": 15,
    "start_time": "2021-12-15T10:47:02.848Z"
   },
   {
    "duration": 42,
    "start_time": "2021-12-15T10:47:02.866Z"
   },
   {
    "duration": 7,
    "start_time": "2021-12-15T10:47:02.910Z"
   },
   {
    "duration": 9,
    "start_time": "2021-12-15T10:47:02.919Z"
   },
   {
    "duration": 79,
    "start_time": "2021-12-15T10:47:02.930Z"
   },
   {
    "duration": 66,
    "start_time": "2021-12-15T10:47:03.013Z"
   },
   {
    "duration": 29,
    "start_time": "2021-12-15T10:47:03.082Z"
   },
   {
    "duration": 5,
    "start_time": "2021-12-15T10:47:03.113Z"
   },
   {
    "duration": 316,
    "start_time": "2021-12-15T10:47:03.119Z"
   },
   {
    "duration": 29,
    "start_time": "2021-12-15T10:47:03.437Z"
   },
   {
    "duration": 46,
    "start_time": "2021-12-15T10:47:03.468Z"
   },
   {
    "duration": 3,
    "start_time": "2021-12-15T10:47:03.516Z"
   },
   {
    "duration": 7,
    "start_time": "2021-12-15T10:47:03.521Z"
   },
   {
    "duration": 366,
    "start_time": "2021-12-15T10:47:03.530Z"
   },
   {
    "duration": 625,
    "start_time": "2021-12-15T10:47:03.273Z"
   },
   {
    "duration": 621,
    "start_time": "2021-12-15T10:47:03.278Z"
   },
   {
    "duration": 613,
    "start_time": "2021-12-15T10:47:03.287Z"
   },
   {
    "duration": 610,
    "start_time": "2021-12-15T10:47:03.291Z"
   },
   {
    "duration": 605,
    "start_time": "2021-12-15T10:47:03.297Z"
   },
   {
    "duration": 599,
    "start_time": "2021-12-15T10:47:03.304Z"
   },
   {
    "duration": 596,
    "start_time": "2021-12-15T10:47:03.308Z"
   },
   {
    "duration": 592,
    "start_time": "2021-12-15T10:47:03.314Z"
   },
   {
    "duration": 581,
    "start_time": "2021-12-15T10:47:03.326Z"
   },
   {
    "duration": 570,
    "start_time": "2021-12-15T10:47:03.338Z"
   },
   {
    "duration": 560,
    "start_time": "2021-12-15T10:47:03.349Z"
   },
   {
    "duration": 552,
    "start_time": "2021-12-15T10:47:03.358Z"
   },
   {
    "duration": 543,
    "start_time": "2021-12-15T10:47:03.368Z"
   },
   {
    "duration": 527,
    "start_time": "2021-12-15T10:47:03.385Z"
   },
   {
    "duration": 523,
    "start_time": "2021-12-15T10:47:03.390Z"
   },
   {
    "duration": 520,
    "start_time": "2021-12-15T10:47:03.394Z"
   },
   {
    "duration": 517,
    "start_time": "2021-12-15T10:47:03.398Z"
   },
   {
    "duration": 512,
    "start_time": "2021-12-15T10:47:03.404Z"
   },
   {
    "duration": 509,
    "start_time": "2021-12-15T10:47:03.409Z"
   },
   {
    "duration": 505,
    "start_time": "2021-12-15T10:47:03.414Z"
   },
   {
    "duration": 499,
    "start_time": "2021-12-15T10:47:03.420Z"
   },
   {
    "duration": 496,
    "start_time": "2021-12-15T10:47:03.424Z"
   },
   {
    "duration": 110,
    "start_time": "2021-12-15T12:22:47.457Z"
   },
   {
    "duration": 1098,
    "start_time": "2021-12-15T12:23:01.745Z"
   },
   {
    "duration": 613,
    "start_time": "2021-12-15T12:23:08.283Z"
   },
   {
    "duration": 218,
    "start_time": "2021-12-15T12:23:19.552Z"
   },
   {
    "duration": 241,
    "start_time": "2021-12-15T12:29:01.035Z"
   },
   {
    "duration": 221,
    "start_time": "2021-12-15T12:29:15.581Z"
   },
   {
    "duration": 237,
    "start_time": "2021-12-15T12:34:24.040Z"
   },
   {
    "duration": 49,
    "start_time": "2021-12-15T12:36:58.380Z"
   },
   {
    "duration": 4,
    "start_time": "2021-12-15T12:37:03.274Z"
   },
   {
    "duration": 661,
    "start_time": "2021-12-15T12:37:03.280Z"
   },
   {
    "duration": 11,
    "start_time": "2021-12-15T12:37:03.944Z"
   },
   {
    "duration": 36,
    "start_time": "2021-12-15T12:37:03.958Z"
   },
   {
    "duration": 6,
    "start_time": "2021-12-15T12:37:03.996Z"
   },
   {
    "duration": 99,
    "start_time": "2021-12-15T12:37:04.004Z"
   },
   {
    "duration": 9,
    "start_time": "2021-12-15T12:37:04.108Z"
   },
   {
    "duration": 19,
    "start_time": "2021-12-15T12:37:04.120Z"
   },
   {
    "duration": 112,
    "start_time": "2021-12-15T12:37:04.141Z"
   },
   {
    "duration": 52,
    "start_time": "2021-12-15T12:37:04.255Z"
   },
   {
    "duration": 8,
    "start_time": "2021-12-15T12:37:04.309Z"
   },
   {
    "duration": 32,
    "start_time": "2021-12-15T12:37:04.319Z"
   },
   {
    "duration": 6,
    "start_time": "2021-12-15T12:37:04.353Z"
   },
   {
    "duration": 58,
    "start_time": "2021-12-15T12:37:04.361Z"
   },
   {
    "duration": 13,
    "start_time": "2021-12-15T12:37:04.421Z"
   },
   {
    "duration": 10,
    "start_time": "2021-12-15T12:37:04.436Z"
   },
   {
    "duration": 9,
    "start_time": "2021-12-15T12:37:04.448Z"
   },
   {
    "duration": 9,
    "start_time": "2021-12-15T12:37:04.459Z"
   },
   {
    "duration": 43,
    "start_time": "2021-12-15T12:37:04.471Z"
   },
   {
    "duration": 7,
    "start_time": "2021-12-15T12:37:04.516Z"
   },
   {
    "duration": 5,
    "start_time": "2021-12-15T12:37:04.525Z"
   },
   {
    "duration": 10,
    "start_time": "2021-12-15T12:37:04.532Z"
   },
   {
    "duration": 86,
    "start_time": "2021-12-15T12:37:04.544Z"
   },
   {
    "duration": 61,
    "start_time": "2021-12-15T12:37:04.632Z"
   },
   {
    "duration": 22,
    "start_time": "2021-12-15T12:37:04.695Z"
   },
   {
    "duration": 4,
    "start_time": "2021-12-15T12:37:04.719Z"
   },
   {
    "duration": 257,
    "start_time": "2021-12-15T12:37:04.725Z"
   },
   {
    "duration": 53,
    "start_time": "2021-12-15T12:37:04.984Z"
   },
   {
    "duration": 26,
    "start_time": "2021-12-15T12:37:05.039Z"
   },
   {
    "duration": 3,
    "start_time": "2021-12-15T12:37:05.066Z"
   },
   {
    "duration": 7,
    "start_time": "2021-12-15T12:37:05.071Z"
   },
   {
    "duration": 463,
    "start_time": "2021-12-15T12:37:05.080Z"
   },
   {
    "duration": 8,
    "start_time": "2021-12-15T12:37:05.538Z"
   },
   {
    "duration": 4,
    "start_time": "2021-12-15T12:37:05.543Z"
   },
   {
    "duration": 2,
    "start_time": "2021-12-15T12:37:05.546Z"
   },
   {
    "duration": -2,
    "start_time": "2021-12-15T12:37:05.552Z"
   },
   {
    "duration": -5,
    "start_time": "2021-12-15T12:37:05.556Z"
   },
   {
    "duration": -7,
    "start_time": "2021-12-15T12:37:05.560Z"
   },
   {
    "duration": -11,
    "start_time": "2021-12-15T12:37:05.565Z"
   },
   {
    "duration": -14,
    "start_time": "2021-12-15T12:37:05.570Z"
   },
   {
    "duration": -18,
    "start_time": "2021-12-15T12:37:05.575Z"
   },
   {
    "duration": -20,
    "start_time": "2021-12-15T12:37:05.579Z"
   },
   {
    "duration": -24,
    "start_time": "2021-12-15T12:37:05.584Z"
   },
   {
    "duration": -49,
    "start_time": "2021-12-15T12:37:05.611Z"
   },
   {
    "duration": -55,
    "start_time": "2021-12-15T12:37:05.618Z"
   },
   {
    "duration": -58,
    "start_time": "2021-12-15T12:37:05.624Z"
   },
   {
    "duration": -64,
    "start_time": "2021-12-15T12:37:05.631Z"
   },
   {
    "duration": -68,
    "start_time": "2021-12-15T12:37:05.636Z"
   },
   {
    "duration": -72,
    "start_time": "2021-12-15T12:37:05.641Z"
   },
   {
    "duration": -78,
    "start_time": "2021-12-15T12:37:05.648Z"
   },
   {
    "duration": -83,
    "start_time": "2021-12-15T12:37:05.654Z"
   },
   {
    "duration": -86,
    "start_time": "2021-12-15T12:37:05.658Z"
   },
   {
    "duration": -89,
    "start_time": "2021-12-15T12:37:05.663Z"
   },
   {
    "duration": -93,
    "start_time": "2021-12-15T12:37:05.668Z"
   },
   {
    "duration": 43,
    "start_time": "2021-12-15T12:38:59.083Z"
   },
   {
    "duration": 3,
    "start_time": "2021-12-15T12:40:15.869Z"
   },
   {
    "duration": 455,
    "start_time": "2021-12-15T12:40:15.874Z"
   },
   {
    "duration": 7,
    "start_time": "2021-12-15T12:40:16.331Z"
   },
   {
    "duration": 32,
    "start_time": "2021-12-15T12:40:16.340Z"
   },
   {
    "duration": 5,
    "start_time": "2021-12-15T12:40:16.374Z"
   },
   {
    "duration": 92,
    "start_time": "2021-12-15T12:40:16.381Z"
   },
   {
    "duration": 8,
    "start_time": "2021-12-15T12:40:16.475Z"
   },
   {
    "duration": 31,
    "start_time": "2021-12-15T12:40:16.486Z"
   },
   {
    "duration": 5,
    "start_time": "2021-12-15T12:40:16.519Z"
   },
   {
    "duration": 43,
    "start_time": "2021-12-15T12:40:16.526Z"
   },
   {
    "duration": 8,
    "start_time": "2021-12-15T12:40:16.571Z"
   },
   {
    "duration": 46,
    "start_time": "2021-12-15T12:40:16.582Z"
   },
   {
    "duration": 4,
    "start_time": "2021-12-15T12:40:16.631Z"
   },
   {
    "duration": 44,
    "start_time": "2021-12-15T12:40:16.637Z"
   },
   {
    "duration": 30,
    "start_time": "2021-12-15T12:40:16.683Z"
   },
   {
    "duration": 7,
    "start_time": "2021-12-15T12:40:16.715Z"
   },
   {
    "duration": 8,
    "start_time": "2021-12-15T12:40:16.724Z"
   },
   {
    "duration": 8,
    "start_time": "2021-12-15T12:40:16.734Z"
   },
   {
    "duration": 11,
    "start_time": "2021-12-15T12:40:16.746Z"
   },
   {
    "duration": 7,
    "start_time": "2021-12-15T12:40:16.759Z"
   },
   {
    "duration": 39,
    "start_time": "2021-12-15T12:40:16.768Z"
   },
   {
    "duration": 9,
    "start_time": "2021-12-15T12:40:16.809Z"
   },
   {
    "duration": 61,
    "start_time": "2021-12-15T12:40:16.820Z"
   },
   {
    "duration": 84,
    "start_time": "2021-12-15T12:40:16.883Z"
   },
   {
    "duration": 18,
    "start_time": "2021-12-15T12:40:16.969Z"
   },
   {
    "duration": 18,
    "start_time": "2021-12-15T12:40:16.989Z"
   },
   {
    "duration": 238,
    "start_time": "2021-12-15T12:40:17.008Z"
   },
   {
    "duration": 58,
    "start_time": "2021-12-15T12:40:17.248Z"
   },
   {
    "duration": 24,
    "start_time": "2021-12-15T12:40:17.308Z"
   },
   {
    "duration": 5,
    "start_time": "2021-12-15T12:40:17.333Z"
   },
   {
    "duration": 10,
    "start_time": "2021-12-15T12:40:17.340Z"
   },
   {
    "duration": 35,
    "start_time": "2021-12-15T12:40:17.352Z"
   },
   {
    "duration": 102,
    "start_time": "2021-12-15T12:40:17.390Z"
   },
   {
    "duration": 23,
    "start_time": "2021-12-15T12:40:17.494Z"
   },
   {
    "duration": 132,
    "start_time": "2021-12-15T12:40:17.519Z"
   },
   {
    "duration": 11,
    "start_time": "2021-12-15T12:40:17.653Z"
   },
   {
    "duration": 10,
    "start_time": "2021-12-15T12:40:17.666Z"
   },
   {
    "duration": 29,
    "start_time": "2021-12-15T12:40:17.677Z"
   },
   {
    "duration": 7,
    "start_time": "2021-12-15T12:40:17.708Z"
   },
   {
    "duration": 1345,
    "start_time": "2021-12-15T12:40:17.717Z"
   },
   {
    "duration": 13,
    "start_time": "2021-12-15T12:40:19.064Z"
   },
   {
    "duration": 6,
    "start_time": "2021-12-15T12:40:19.079Z"
   },
   {
    "duration": 6,
    "start_time": "2021-12-15T12:40:19.107Z"
   },
   {
    "duration": 30,
    "start_time": "2021-12-15T12:40:19.115Z"
   },
   {
    "duration": 21,
    "start_time": "2021-12-15T12:40:19.147Z"
   },
   {
    "duration": 2,
    "start_time": "2021-12-15T12:40:19.170Z"
   },
   {
    "duration": 885,
    "start_time": "2021-12-15T12:40:19.174Z"
   },
   {
    "duration": 45,
    "start_time": "2021-12-15T12:40:20.062Z"
   },
   {
    "duration": 14,
    "start_time": "2021-12-15T12:40:20.109Z"
   },
   {
    "duration": 4,
    "start_time": "2021-12-15T12:40:20.125Z"
   },
   {
    "duration": 881,
    "start_time": "2021-12-15T12:40:20.131Z"
   },
   {
    "duration": 6,
    "start_time": "2021-12-15T12:40:21.014Z"
   },
   {
    "duration": 13,
    "start_time": "2021-12-15T12:40:21.022Z"
   },
   {
    "duration": 1146,
    "start_time": "2021-12-15T17:36:51.563Z"
   },
   {
    "duration": 440,
    "start_time": "2021-12-15T17:36:52.711Z"
   },
   {
    "duration": 13,
    "start_time": "2021-12-15T17:36:53.154Z"
   },
   {
    "duration": 29,
    "start_time": "2021-12-15T17:36:53.169Z"
   },
   {
    "duration": 4,
    "start_time": "2021-12-15T17:36:53.200Z"
   },
   {
    "duration": 108,
    "start_time": "2021-12-15T17:36:53.206Z"
   },
   {
    "duration": 8,
    "start_time": "2021-12-15T17:36:53.316Z"
   },
   {
    "duration": 17,
    "start_time": "2021-12-15T17:36:53.327Z"
   },
   {
    "duration": 4,
    "start_time": "2021-12-15T17:36:53.346Z"
   },
   {
    "duration": 72,
    "start_time": "2021-12-15T17:36:53.351Z"
   },
   {
    "duration": 7,
    "start_time": "2021-12-15T17:36:53.425Z"
   },
   {
    "duration": 25,
    "start_time": "2021-12-15T17:36:53.434Z"
   },
   {
    "duration": 3,
    "start_time": "2021-12-15T17:36:53.461Z"
   },
   {
    "duration": 68,
    "start_time": "2021-12-15T17:36:53.466Z"
   },
   {
    "duration": 8,
    "start_time": "2021-12-15T17:36:53.536Z"
   },
   {
    "duration": 7,
    "start_time": "2021-12-15T17:36:53.546Z"
   },
   {
    "duration": 8,
    "start_time": "2021-12-15T17:36:53.555Z"
   },
   {
    "duration": 28,
    "start_time": "2021-12-15T17:36:53.564Z"
   },
   {
    "duration": 12,
    "start_time": "2021-12-15T17:36:53.594Z"
   },
   {
    "duration": 8,
    "start_time": "2021-12-15T17:36:53.608Z"
   },
   {
    "duration": 12,
    "start_time": "2021-12-15T17:36:53.617Z"
   },
   {
    "duration": 8,
    "start_time": "2021-12-15T17:36:53.630Z"
   },
   {
    "duration": 84,
    "start_time": "2021-12-15T17:36:53.642Z"
   },
   {
    "duration": 66,
    "start_time": "2021-12-15T17:36:53.728Z"
   },
   {
    "duration": 18,
    "start_time": "2021-12-15T17:36:53.796Z"
   },
   {
    "duration": 5,
    "start_time": "2021-12-15T17:36:53.815Z"
   },
   {
    "duration": 256,
    "start_time": "2021-12-15T17:36:53.822Z"
   },
   {
    "duration": 47,
    "start_time": "2021-12-15T17:36:54.080Z"
   },
   {
    "duration": 32,
    "start_time": "2021-12-15T17:36:54.129Z"
   },
   {
    "duration": 3,
    "start_time": "2021-12-15T17:36:54.163Z"
   },
   {
    "duration": 25,
    "start_time": "2021-12-15T17:36:54.167Z"
   },
   {
    "duration": 39,
    "start_time": "2021-12-15T17:36:54.194Z"
   },
   {
    "duration": 4,
    "start_time": "2021-12-15T17:36:54.235Z"
   },
   {
    "duration": 5,
    "start_time": "2021-12-15T17:36:54.240Z"
   },
   {
    "duration": 95,
    "start_time": "2021-12-15T17:36:54.246Z"
   },
   {
    "duration": 11,
    "start_time": "2021-12-15T17:36:54.343Z"
   },
   {
    "duration": 124,
    "start_time": "2021-12-15T17:36:54.356Z"
   },
   {
    "duration": 18,
    "start_time": "2021-12-15T17:36:54.482Z"
   },
   {
    "duration": 10,
    "start_time": "2021-12-15T17:36:54.501Z"
   },
   {
    "duration": 6,
    "start_time": "2021-12-15T17:36:54.513Z"
   },
   {
    "duration": 7,
    "start_time": "2021-12-15T17:36:54.520Z"
   },
   {
    "duration": 5932,
    "start_time": "2021-12-15T17:36:54.528Z"
   },
   {
    "duration": -983,
    "start_time": "2021-12-15T17:37:01.445Z"
   },
   {
    "duration": -987,
    "start_time": "2021-12-15T17:37:01.451Z"
   },
   {
    "duration": -1001,
    "start_time": "2021-12-15T17:37:01.466Z"
   },
   {
    "duration": -1019,
    "start_time": "2021-12-15T17:37:01.485Z"
   },
   {
    "duration": -1036,
    "start_time": "2021-12-15T17:37:01.503Z"
   },
   {
    "duration": -1068,
    "start_time": "2021-12-15T17:37:01.536Z"
   },
   {
    "duration": -1119,
    "start_time": "2021-12-15T17:37:01.588Z"
   },
   {
    "duration": -1152,
    "start_time": "2021-12-15T17:37:01.622Z"
   },
   {
    "duration": -1155,
    "start_time": "2021-12-15T17:37:01.626Z"
   },
   {
    "duration": -1158,
    "start_time": "2021-12-15T17:37:01.630Z"
   },
   {
    "duration": -1167,
    "start_time": "2021-12-15T17:37:01.640Z"
   },
   {
    "duration": -1172,
    "start_time": "2021-12-15T17:37:01.646Z"
   },
   {
    "duration": -1180,
    "start_time": "2021-12-15T17:37:01.654Z"
   },
   {
    "duration": 17,
    "start_time": "2021-12-15T17:37:51.654Z"
   },
   {
    "duration": 173,
    "start_time": "2021-12-15T17:44:55.055Z"
   },
   {
    "duration": 16,
    "start_time": "2021-12-15T17:47:51.728Z"
   },
   {
    "duration": 3,
    "start_time": "2021-12-15T17:48:32.259Z"
   },
   {
    "duration": 435,
    "start_time": "2021-12-15T17:48:32.267Z"
   },
   {
    "duration": 16,
    "start_time": "2021-12-15T17:48:32.705Z"
   },
   {
    "duration": 41,
    "start_time": "2021-12-15T17:48:32.724Z"
   },
   {
    "duration": 12,
    "start_time": "2021-12-15T17:48:32.768Z"
   },
   {
    "duration": 149,
    "start_time": "2021-12-15T17:48:32.783Z"
   },
   {
    "duration": 8,
    "start_time": "2021-12-15T17:48:32.934Z"
   },
   {
    "duration": 18,
    "start_time": "2021-12-15T17:48:32.943Z"
   },
   {
    "duration": 4,
    "start_time": "2021-12-15T17:48:32.962Z"
   },
   {
    "duration": 58,
    "start_time": "2021-12-15T17:48:32.969Z"
   },
   {
    "duration": 7,
    "start_time": "2021-12-15T17:48:33.029Z"
   },
   {
    "duration": 15,
    "start_time": "2021-12-15T17:48:33.037Z"
   },
   {
    "duration": 3,
    "start_time": "2021-12-15T17:48:33.054Z"
   },
   {
    "duration": 61,
    "start_time": "2021-12-15T17:48:33.059Z"
   },
   {
    "duration": 7,
    "start_time": "2021-12-15T17:48:33.122Z"
   },
   {
    "duration": 21,
    "start_time": "2021-12-15T17:48:33.131Z"
   },
   {
    "duration": 11,
    "start_time": "2021-12-15T17:48:33.154Z"
   },
   {
    "duration": 10,
    "start_time": "2021-12-15T17:48:33.167Z"
   },
   {
    "duration": 16,
    "start_time": "2021-12-15T17:48:33.178Z"
   },
   {
    "duration": 8,
    "start_time": "2021-12-15T17:48:33.196Z"
   },
   {
    "duration": 11,
    "start_time": "2021-12-15T17:48:33.205Z"
   },
   {
    "duration": 11,
    "start_time": "2021-12-15T17:48:33.218Z"
   },
   {
    "duration": 67,
    "start_time": "2021-12-15T17:48:33.230Z"
   },
   {
    "duration": 59,
    "start_time": "2021-12-15T17:48:33.298Z"
   },
   {
    "duration": 32,
    "start_time": "2021-12-15T17:48:33.359Z"
   },
   {
    "duration": 4,
    "start_time": "2021-12-15T17:48:33.393Z"
   },
   {
    "duration": 242,
    "start_time": "2021-12-15T17:48:33.399Z"
   },
   {
    "duration": 49,
    "start_time": "2021-12-15T17:48:33.645Z"
   },
   {
    "duration": 22,
    "start_time": "2021-12-15T17:48:33.696Z"
   },
   {
    "duration": 3,
    "start_time": "2021-12-15T17:48:33.719Z"
   },
   {
    "duration": 5,
    "start_time": "2021-12-15T17:48:33.723Z"
   },
   {
    "duration": 28,
    "start_time": "2021-12-15T17:48:33.729Z"
   },
   {
    "duration": 40,
    "start_time": "2021-12-15T17:48:33.758Z"
   },
   {
    "duration": 3,
    "start_time": "2021-12-15T17:48:33.800Z"
   },
   {
    "duration": 92,
    "start_time": "2021-12-15T17:48:33.804Z"
   },
   {
    "duration": 11,
    "start_time": "2021-12-15T17:48:33.898Z"
   },
   {
    "duration": 186,
    "start_time": "2021-12-15T17:48:33.910Z"
   },
   {
    "duration": 9,
    "start_time": "2021-12-15T17:48:34.098Z"
   },
   {
    "duration": 9,
    "start_time": "2021-12-15T17:48:34.109Z"
   },
   {
    "duration": 5,
    "start_time": "2021-12-15T17:48:34.120Z"
   },
   {
    "duration": 8,
    "start_time": "2021-12-15T17:48:34.127Z"
   },
   {
    "duration": 5583,
    "start_time": "2021-12-15T17:48:34.136Z"
   },
   {
    "duration": -924,
    "start_time": "2021-12-15T17:48:40.645Z"
   },
   {
    "duration": -929,
    "start_time": "2021-12-15T17:48:40.652Z"
   },
   {
    "duration": -934,
    "start_time": "2021-12-15T17:48:40.658Z"
   },
   {
    "duration": -938,
    "start_time": "2021-12-15T17:48:40.662Z"
   },
   {
    "duration": -942,
    "start_time": "2021-12-15T17:48:40.667Z"
   },
   {
    "duration": -945,
    "start_time": "2021-12-15T17:48:40.671Z"
   },
   {
    "duration": -948,
    "start_time": "2021-12-15T17:48:40.675Z"
   },
   {
    "duration": -951,
    "start_time": "2021-12-15T17:48:40.679Z"
   },
   {
    "duration": -953,
    "start_time": "2021-12-15T17:48:40.682Z"
   },
   {
    "duration": -956,
    "start_time": "2021-12-15T17:48:40.686Z"
   },
   {
    "duration": -959,
    "start_time": "2021-12-15T17:48:40.690Z"
   },
   {
    "duration": -961,
    "start_time": "2021-12-15T17:48:40.693Z"
   },
   {
    "duration": -964,
    "start_time": "2021-12-15T17:48:40.697Z"
   },
   {
    "duration": 3,
    "start_time": "2021-12-15T17:55:30.100Z"
   },
   {
    "duration": 453,
    "start_time": "2021-12-15T17:55:30.107Z"
   },
   {
    "duration": 9,
    "start_time": "2021-12-15T17:55:30.562Z"
   },
   {
    "duration": 27,
    "start_time": "2021-12-15T17:55:30.573Z"
   },
   {
    "duration": 5,
    "start_time": "2021-12-15T17:55:30.602Z"
   },
   {
    "duration": 94,
    "start_time": "2021-12-15T17:55:30.609Z"
   },
   {
    "duration": 8,
    "start_time": "2021-12-15T17:55:30.705Z"
   },
   {
    "duration": 26,
    "start_time": "2021-12-15T17:55:30.715Z"
   },
   {
    "duration": 5,
    "start_time": "2021-12-15T17:55:30.743Z"
   },
   {
    "duration": 59,
    "start_time": "2021-12-15T17:55:30.750Z"
   },
   {
    "duration": 7,
    "start_time": "2021-12-15T17:55:30.810Z"
   },
   {
    "duration": 22,
    "start_time": "2021-12-15T17:55:30.818Z"
   },
   {
    "duration": 9,
    "start_time": "2021-12-15T17:55:30.841Z"
   },
   {
    "duration": 54,
    "start_time": "2021-12-15T17:55:30.851Z"
   },
   {
    "duration": 7,
    "start_time": "2021-12-15T17:55:30.907Z"
   },
   {
    "duration": 24,
    "start_time": "2021-12-15T17:55:30.916Z"
   },
   {
    "duration": 15,
    "start_time": "2021-12-15T17:55:30.941Z"
   },
   {
    "duration": 20,
    "start_time": "2021-12-15T17:55:30.958Z"
   },
   {
    "duration": 16,
    "start_time": "2021-12-15T17:55:30.980Z"
   },
   {
    "duration": 23,
    "start_time": "2021-12-15T17:55:30.998Z"
   },
   {
    "duration": 18,
    "start_time": "2021-12-15T17:55:31.022Z"
   },
   {
    "duration": 17,
    "start_time": "2021-12-15T17:55:31.041Z"
   },
   {
    "duration": 74,
    "start_time": "2021-12-15T17:55:31.060Z"
   },
   {
    "duration": 62,
    "start_time": "2021-12-15T17:55:31.137Z"
   },
   {
    "duration": 18,
    "start_time": "2021-12-15T17:55:31.201Z"
   },
   {
    "duration": 6,
    "start_time": "2021-12-15T17:55:31.221Z"
   },
   {
    "duration": 258,
    "start_time": "2021-12-15T17:55:31.228Z"
   },
   {
    "duration": 46,
    "start_time": "2021-12-15T17:55:31.491Z"
   },
   {
    "duration": 23,
    "start_time": "2021-12-15T17:55:31.539Z"
   },
   {
    "duration": 2,
    "start_time": "2021-12-15T17:55:31.564Z"
   },
   {
    "duration": 34,
    "start_time": "2021-12-15T17:55:31.568Z"
   },
   {
    "duration": 50,
    "start_time": "2021-12-15T17:55:31.603Z"
   },
   {
    "duration": 14,
    "start_time": "2021-12-15T17:55:31.655Z"
   },
   {
    "duration": 7,
    "start_time": "2021-12-15T17:55:31.671Z"
   },
   {
    "duration": 55,
    "start_time": "2021-12-15T17:55:31.679Z"
   },
   {
    "duration": 6,
    "start_time": "2021-12-15T17:55:31.736Z"
   },
   {
    "duration": 21,
    "start_time": "2021-12-15T17:55:31.744Z"
   },
   {
    "duration": 4448,
    "start_time": "2021-12-15T17:55:31.767Z"
   },
   {
    "duration": -917,
    "start_time": "2021-12-15T17:55:37.134Z"
   },
   {
    "duration": -921,
    "start_time": "2021-12-15T17:55:37.139Z"
   },
   {
    "duration": -930,
    "start_time": "2021-12-15T17:55:37.149Z"
   },
   {
    "duration": -934,
    "start_time": "2021-12-15T17:55:37.154Z"
   },
   {
    "duration": -944,
    "start_time": "2021-12-15T17:55:37.165Z"
   },
   {
    "duration": -947,
    "start_time": "2021-12-15T17:55:37.169Z"
   },
   {
    "duration": -951,
    "start_time": "2021-12-15T17:55:37.174Z"
   },
   {
    "duration": -957,
    "start_time": "2021-12-15T17:55:37.181Z"
   },
   {
    "duration": -959,
    "start_time": "2021-12-15T17:55:37.184Z"
   },
   {
    "duration": -962,
    "start_time": "2021-12-15T17:55:37.188Z"
   },
   {
    "duration": -964,
    "start_time": "2021-12-15T17:55:37.191Z"
   },
   {
    "duration": -972,
    "start_time": "2021-12-15T17:55:37.200Z"
   },
   {
    "duration": -978,
    "start_time": "2021-12-15T17:55:37.206Z"
   },
   {
    "duration": -985,
    "start_time": "2021-12-15T17:55:37.214Z"
   },
   {
    "duration": -988,
    "start_time": "2021-12-15T17:55:37.218Z"
   },
   {
    "duration": -993,
    "start_time": "2021-12-15T17:55:37.224Z"
   },
   {
    "duration": -1011,
    "start_time": "2021-12-15T17:55:37.243Z"
   },
   {
    "duration": 3,
    "start_time": "2021-12-15T17:57:18.582Z"
   },
   {
    "duration": 439,
    "start_time": "2021-12-15T17:57:18.587Z"
   },
   {
    "duration": 7,
    "start_time": "2021-12-15T17:57:19.028Z"
   },
   {
    "duration": 39,
    "start_time": "2021-12-15T17:57:19.037Z"
   },
   {
    "duration": 4,
    "start_time": "2021-12-15T17:57:19.078Z"
   },
   {
    "duration": 92,
    "start_time": "2021-12-15T17:57:19.084Z"
   },
   {
    "duration": 7,
    "start_time": "2021-12-15T17:57:19.179Z"
   },
   {
    "duration": 27,
    "start_time": "2021-12-15T17:57:19.192Z"
   },
   {
    "duration": 13,
    "start_time": "2021-12-15T17:57:19.220Z"
   },
   {
    "duration": 72,
    "start_time": "2021-12-15T17:57:19.234Z"
   },
   {
    "duration": 7,
    "start_time": "2021-12-15T17:57:19.307Z"
   },
   {
    "duration": 28,
    "start_time": "2021-12-15T17:57:19.315Z"
   },
   {
    "duration": 15,
    "start_time": "2021-12-15T17:57:19.345Z"
   },
   {
    "duration": 53,
    "start_time": "2021-12-15T17:57:19.362Z"
   },
   {
    "duration": 7,
    "start_time": "2021-12-15T17:57:19.417Z"
   },
   {
    "duration": 9,
    "start_time": "2021-12-15T17:57:19.426Z"
   },
   {
    "duration": 8,
    "start_time": "2021-12-15T17:57:19.437Z"
   },
   {
    "duration": 8,
    "start_time": "2021-12-15T17:57:19.446Z"
   },
   {
    "duration": 35,
    "start_time": "2021-12-15T17:57:19.457Z"
   },
   {
    "duration": 9,
    "start_time": "2021-12-15T17:57:19.495Z"
   },
   {
    "duration": 6,
    "start_time": "2021-12-15T17:57:19.506Z"
   },
   {
    "duration": 9,
    "start_time": "2021-12-15T17:57:19.514Z"
   },
   {
    "duration": 71,
    "start_time": "2021-12-15T17:57:19.524Z"
   },
   {
    "duration": 60,
    "start_time": "2021-12-15T17:57:19.597Z"
   },
   {
    "duration": 17,
    "start_time": "2021-12-15T17:57:19.658Z"
   },
   {
    "duration": 14,
    "start_time": "2021-12-15T17:57:19.677Z"
   },
   {
    "duration": 242,
    "start_time": "2021-12-15T17:57:19.693Z"
   },
   {
    "duration": 55,
    "start_time": "2021-12-15T17:57:19.937Z"
   },
   {
    "duration": 23,
    "start_time": "2021-12-15T17:57:19.994Z"
   },
   {
    "duration": 3,
    "start_time": "2021-12-15T17:57:20.019Z"
   },
   {
    "duration": 6,
    "start_time": "2021-12-15T17:57:20.024Z"
   },
   {
    "duration": 32,
    "start_time": "2021-12-15T17:57:20.032Z"
   },
   {
    "duration": 38,
    "start_time": "2021-12-15T17:57:20.066Z"
   },
   {
    "duration": 2,
    "start_time": "2021-12-15T17:57:20.105Z"
   },
   {
    "duration": 47,
    "start_time": "2021-12-15T17:57:20.109Z"
   },
   {
    "duration": 6,
    "start_time": "2021-12-15T17:57:20.158Z"
   },
   {
    "duration": 22,
    "start_time": "2021-12-15T17:57:20.191Z"
   },
   {
    "duration": 4662,
    "start_time": "2021-12-15T17:57:20.214Z"
   },
   {
    "duration": -920,
    "start_time": "2021-12-15T17:57:25.797Z"
   },
   {
    "duration": -929,
    "start_time": "2021-12-15T17:57:25.807Z"
   },
   {
    "duration": -931,
    "start_time": "2021-12-15T17:57:25.811Z"
   },
   {
    "duration": -937,
    "start_time": "2021-12-15T17:57:25.818Z"
   },
   {
    "duration": -942,
    "start_time": "2021-12-15T17:57:25.824Z"
   },
   {
    "duration": -945,
    "start_time": "2021-12-15T17:57:25.828Z"
   },
   {
    "duration": -948,
    "start_time": "2021-12-15T17:57:25.832Z"
   },
   {
    "duration": -953,
    "start_time": "2021-12-15T17:57:25.838Z"
   },
   {
    "duration": -956,
    "start_time": "2021-12-15T17:57:25.842Z"
   },
   {
    "duration": -959,
    "start_time": "2021-12-15T17:57:25.846Z"
   },
   {
    "duration": -961,
    "start_time": "2021-12-15T17:57:25.849Z"
   },
   {
    "duration": -964,
    "start_time": "2021-12-15T17:57:25.853Z"
   },
   {
    "duration": -966,
    "start_time": "2021-12-15T17:57:25.856Z"
   },
   {
    "duration": -970,
    "start_time": "2021-12-15T17:57:25.861Z"
   },
   {
    "duration": -973,
    "start_time": "2021-12-15T17:57:25.865Z"
   },
   {
    "duration": -975,
    "start_time": "2021-12-15T17:57:25.868Z"
   },
   {
    "duration": -978,
    "start_time": "2021-12-15T17:57:25.872Z"
   },
   {
    "duration": 3,
    "start_time": "2021-12-15T17:58:55.200Z"
   },
   {
    "duration": 416,
    "start_time": "2021-12-15T17:58:55.206Z"
   },
   {
    "duration": 7,
    "start_time": "2021-12-15T17:58:55.624Z"
   },
   {
    "duration": 21,
    "start_time": "2021-12-15T17:58:55.633Z"
   },
   {
    "duration": 4,
    "start_time": "2021-12-15T17:58:55.656Z"
   },
   {
    "duration": 75,
    "start_time": "2021-12-15T17:58:55.661Z"
   },
   {
    "duration": 8,
    "start_time": "2021-12-15T17:58:55.737Z"
   },
   {
    "duration": 22,
    "start_time": "2021-12-15T17:58:55.746Z"
   },
   {
    "duration": 5,
    "start_time": "2021-12-15T17:58:55.770Z"
   },
   {
    "duration": 55,
    "start_time": "2021-12-15T17:58:55.777Z"
   },
   {
    "duration": 6,
    "start_time": "2021-12-15T17:58:55.834Z"
   },
   {
    "duration": 17,
    "start_time": "2021-12-15T17:58:55.841Z"
   },
   {
    "duration": 3,
    "start_time": "2021-12-15T17:58:55.860Z"
   },
   {
    "duration": 60,
    "start_time": "2021-12-15T17:58:55.864Z"
   },
   {
    "duration": 8,
    "start_time": "2021-12-15T17:58:55.925Z"
   },
   {
    "duration": 11,
    "start_time": "2021-12-15T17:58:55.935Z"
   },
   {
    "duration": 7,
    "start_time": "2021-12-15T17:58:55.948Z"
   },
   {
    "duration": 8,
    "start_time": "2021-12-15T17:58:55.956Z"
   },
   {
    "duration": 31,
    "start_time": "2021-12-15T17:58:55.965Z"
   },
   {
    "duration": 7,
    "start_time": "2021-12-15T17:58:55.998Z"
   },
   {
    "duration": 5,
    "start_time": "2021-12-15T17:58:56.006Z"
   },
   {
    "duration": 8,
    "start_time": "2021-12-15T17:58:56.013Z"
   },
   {
    "duration": 78,
    "start_time": "2021-12-15T17:58:56.023Z"
   },
   {
    "duration": 56,
    "start_time": "2021-12-15T17:58:56.105Z"
   },
   {
    "duration": 27,
    "start_time": "2021-12-15T17:58:56.164Z"
   },
   {
    "duration": 5,
    "start_time": "2021-12-15T17:58:56.193Z"
   },
   {
    "duration": 239,
    "start_time": "2021-12-15T17:58:56.200Z"
   },
   {
    "duration": 53,
    "start_time": "2021-12-15T17:58:56.441Z"
   },
   {
    "duration": 24,
    "start_time": "2021-12-15T17:58:56.496Z"
   },
   {
    "duration": 3,
    "start_time": "2021-12-15T17:58:56.521Z"
   },
   {
    "duration": 19,
    "start_time": "2021-12-15T17:58:56.526Z"
   },
   {
    "duration": 29,
    "start_time": "2021-12-15T17:58:56.547Z"
   },
   {
    "duration": 25,
    "start_time": "2021-12-15T17:58:56.578Z"
   },
   {
    "duration": 18,
    "start_time": "2021-12-15T17:58:56.605Z"
   },
   {
    "duration": 50,
    "start_time": "2021-12-15T17:58:56.625Z"
   },
   {
    "duration": 7,
    "start_time": "2021-12-15T17:58:56.677Z"
   },
   {
    "duration": 33,
    "start_time": "2021-12-15T17:58:56.686Z"
   },
   {
    "duration": 7,
    "start_time": "2021-12-15T17:58:56.721Z"
   },
   {
    "duration": 21,
    "start_time": "2021-12-15T17:58:56.729Z"
   },
   {
    "duration": 9,
    "start_time": "2021-12-15T17:58:56.751Z"
   },
   {
    "duration": 10,
    "start_time": "2021-12-15T17:58:56.761Z"
   },
   {
    "duration": 86,
    "start_time": "2021-12-15T17:58:56.773Z"
   },
   {
    "duration": 13,
    "start_time": "2021-12-15T17:58:56.861Z"
   },
   {
    "duration": 9,
    "start_time": "2021-12-15T17:58:56.876Z"
   },
   {
    "duration": 8,
    "start_time": "2021-12-15T17:58:56.891Z"
   },
   {
    "duration": 39,
    "start_time": "2021-12-15T17:58:56.901Z"
   },
   {
    "duration": 8,
    "start_time": "2021-12-15T17:58:56.942Z"
   },
   {
    "duration": 12,
    "start_time": "2021-12-15T17:58:56.952Z"
   },
   {
    "duration": 804,
    "start_time": "2021-12-15T17:58:56.966Z"
   },
   {
    "duration": 37,
    "start_time": "2021-12-15T17:58:57.773Z"
   },
   {
    "duration": 13,
    "start_time": "2021-12-15T17:58:57.812Z"
   },
   {
    "duration": 10,
    "start_time": "2021-12-15T17:58:57.827Z"
   },
   {
    "duration": 987,
    "start_time": "2021-12-15T17:58:57.839Z"
   },
   {
    "duration": 5,
    "start_time": "2021-12-15T17:58:58.829Z"
   },
   {
    "duration": 20,
    "start_time": "2021-12-15T17:58:58.836Z"
   },
   {
    "duration": 3,
    "start_time": "2021-12-15T18:03:31.466Z"
   },
   {
    "duration": 426,
    "start_time": "2021-12-15T18:03:31.474Z"
   },
   {
    "duration": 9,
    "start_time": "2021-12-15T18:03:31.902Z"
   },
   {
    "duration": 22,
    "start_time": "2021-12-15T18:03:31.913Z"
   },
   {
    "duration": 5,
    "start_time": "2021-12-15T18:03:31.937Z"
   },
   {
    "duration": 107,
    "start_time": "2021-12-15T18:03:31.943Z"
   },
   {
    "duration": 10,
    "start_time": "2021-12-15T18:03:32.052Z"
   },
   {
    "duration": 31,
    "start_time": "2021-12-15T18:03:32.063Z"
   },
   {
    "duration": 4,
    "start_time": "2021-12-15T18:03:32.096Z"
   },
   {
    "duration": 48,
    "start_time": "2021-12-15T18:03:32.102Z"
   },
   {
    "duration": 7,
    "start_time": "2021-12-15T18:03:32.152Z"
   },
   {
    "duration": 22,
    "start_time": "2021-12-15T18:03:32.160Z"
   },
   {
    "duration": 4,
    "start_time": "2021-12-15T18:03:32.191Z"
   },
   {
    "duration": 44,
    "start_time": "2021-12-15T18:03:32.196Z"
   },
   {
    "duration": 8,
    "start_time": "2021-12-15T18:03:32.241Z"
   },
   {
    "duration": 28,
    "start_time": "2021-12-15T18:03:32.250Z"
   },
   {
    "duration": 10,
    "start_time": "2021-12-15T18:03:32.281Z"
   },
   {
    "duration": 8,
    "start_time": "2021-12-15T18:03:32.293Z"
   },
   {
    "duration": 11,
    "start_time": "2021-12-15T18:03:32.303Z"
   },
   {
    "duration": 8,
    "start_time": "2021-12-15T18:03:32.315Z"
   },
   {
    "duration": 6,
    "start_time": "2021-12-15T18:03:32.325Z"
   },
   {
    "duration": 9,
    "start_time": "2021-12-15T18:03:32.332Z"
   },
   {
    "duration": 85,
    "start_time": "2021-12-15T18:03:32.342Z"
   },
   {
    "duration": 65,
    "start_time": "2021-12-15T18:03:32.428Z"
   },
   {
    "duration": 18,
    "start_time": "2021-12-15T18:03:32.495Z"
   },
   {
    "duration": 4,
    "start_time": "2021-12-15T18:03:32.514Z"
   },
   {
    "duration": 254,
    "start_time": "2021-12-15T18:03:32.520Z"
   },
   {
    "duration": 46,
    "start_time": "2021-12-15T18:03:32.778Z"
   },
   {
    "duration": 22,
    "start_time": "2021-12-15T18:03:32.827Z"
   },
   {
    "duration": 3,
    "start_time": "2021-12-15T18:03:32.851Z"
   },
   {
    "duration": 48,
    "start_time": "2021-12-15T18:03:32.856Z"
   },
   {
    "duration": 15,
    "start_time": "2021-12-15T18:03:32.906Z"
   },
   {
    "duration": 37,
    "start_time": "2021-12-15T18:03:32.923Z"
   },
   {
    "duration": 34,
    "start_time": "2021-12-15T18:03:32.962Z"
   },
   {
    "duration": 21,
    "start_time": "2021-12-15T18:03:32.998Z"
   },
   {
    "duration": 6,
    "start_time": "2021-12-15T18:03:33.021Z"
   },
   {
    "duration": 11,
    "start_time": "2021-12-15T18:03:33.029Z"
   },
   {
    "duration": 6,
    "start_time": "2021-12-15T18:03:33.041Z"
   },
   {
    "duration": 7,
    "start_time": "2021-12-15T18:03:33.049Z"
   },
   {
    "duration": 88,
    "start_time": "2021-12-15T18:03:33.057Z"
   },
   {
    "duration": 11,
    "start_time": "2021-12-15T18:03:33.147Z"
   },
   {
    "duration": 7,
    "start_time": "2021-12-15T18:03:33.159Z"
   },
   {
    "duration": 27,
    "start_time": "2021-12-15T18:03:33.167Z"
   },
   {
    "duration": 28,
    "start_time": "2021-12-15T18:03:33.196Z"
   },
   {
    "duration": 7,
    "start_time": "2021-12-15T18:03:33.226Z"
   },
   {
    "duration": 3,
    "start_time": "2021-12-15T18:03:33.234Z"
   },
   {
    "duration": 785,
    "start_time": "2021-12-15T18:03:33.238Z"
   },
   {
    "duration": 29,
    "start_time": "2021-12-15T18:03:34.025Z"
   },
   {
    "duration": 7,
    "start_time": "2021-12-15T18:03:34.055Z"
   },
   {
    "duration": 28,
    "start_time": "2021-12-15T18:03:34.064Z"
   },
   {
    "duration": 865,
    "start_time": "2021-12-15T18:03:34.094Z"
   },
   {
    "duration": 6,
    "start_time": "2021-12-15T18:03:34.961Z"
   },
   {
    "duration": 26,
    "start_time": "2021-12-15T18:03:34.969Z"
   },
   {
    "duration": 3,
    "start_time": "2021-12-15T18:35:40.065Z"
   },
   {
    "duration": 427,
    "start_time": "2021-12-15T18:35:40.071Z"
   },
   {
    "duration": 8,
    "start_time": "2021-12-15T18:35:40.500Z"
   },
   {
    "duration": 22,
    "start_time": "2021-12-15T18:35:40.510Z"
   },
   {
    "duration": 4,
    "start_time": "2021-12-15T18:35:40.534Z"
   },
   {
    "duration": 105,
    "start_time": "2021-12-15T18:35:40.539Z"
   },
   {
    "duration": 7,
    "start_time": "2021-12-15T18:35:40.647Z"
   },
   {
    "duration": 17,
    "start_time": "2021-12-15T18:35:40.656Z"
   },
   {
    "duration": 18,
    "start_time": "2021-12-15T18:35:40.675Z"
   },
   {
    "duration": 40,
    "start_time": "2021-12-15T18:35:40.695Z"
   },
   {
    "duration": 7,
    "start_time": "2021-12-15T18:35:40.737Z"
   },
   {
    "duration": 15,
    "start_time": "2021-12-15T18:35:40.746Z"
   },
   {
    "duration": 4,
    "start_time": "2021-12-15T18:35:40.763Z"
   },
   {
    "duration": 58,
    "start_time": "2021-12-15T18:35:40.768Z"
   },
   {
    "duration": 9,
    "start_time": "2021-12-15T18:35:40.828Z"
   },
   {
    "duration": 9,
    "start_time": "2021-12-15T18:35:40.838Z"
   },
   {
    "duration": 7,
    "start_time": "2021-12-15T18:35:40.849Z"
   },
   {
    "duration": 37,
    "start_time": "2021-12-15T18:35:40.857Z"
   },
   {
    "duration": 9,
    "start_time": "2021-12-15T18:35:40.898Z"
   },
   {
    "duration": 6,
    "start_time": "2021-12-15T18:35:40.910Z"
   },
   {
    "duration": 5,
    "start_time": "2021-12-15T18:35:40.918Z"
   },
   {
    "duration": 12,
    "start_time": "2021-12-15T18:35:40.925Z"
   },
   {
    "duration": 80,
    "start_time": "2021-12-15T18:35:40.939Z"
   },
   {
    "duration": 59,
    "start_time": "2021-12-15T18:35:41.020Z"
   },
   {
    "duration": 24,
    "start_time": "2021-12-15T18:35:41.080Z"
   },
   {
    "duration": 3,
    "start_time": "2021-12-15T18:35:41.106Z"
   },
   {
    "duration": 239,
    "start_time": "2021-12-15T18:35:41.111Z"
   },
   {
    "duration": 52,
    "start_time": "2021-12-15T18:35:41.352Z"
   },
   {
    "duration": 21,
    "start_time": "2021-12-15T18:35:41.406Z"
   },
   {
    "duration": 3,
    "start_time": "2021-12-15T18:35:41.428Z"
   },
   {
    "duration": 28,
    "start_time": "2021-12-15T18:35:41.433Z"
   },
   {
    "duration": 34,
    "start_time": "2021-12-15T18:35:41.463Z"
   },
   {
    "duration": 38,
    "start_time": "2021-12-15T18:35:41.498Z"
   },
   {
    "duration": 10,
    "start_time": "2021-12-15T18:35:41.538Z"
   },
   {
    "duration": 9,
    "start_time": "2021-12-15T18:35:41.550Z"
   },
   {
    "duration": 48,
    "start_time": "2021-12-15T18:35:41.560Z"
   },
   {
    "duration": 5,
    "start_time": "2021-12-15T18:35:41.610Z"
   },
   {
    "duration": 13,
    "start_time": "2021-12-15T18:35:41.617Z"
   },
   {
    "duration": 4,
    "start_time": "2021-12-15T18:35:41.632Z"
   },
   {
    "duration": 6,
    "start_time": "2021-12-15T18:35:41.638Z"
   },
   {
    "duration": 84,
    "start_time": "2021-12-15T18:35:41.646Z"
   },
   {
    "duration": 12,
    "start_time": "2021-12-15T18:35:41.732Z"
   },
   {
    "duration": 6,
    "start_time": "2021-12-15T18:35:41.746Z"
   },
   {
    "duration": 6,
    "start_time": "2021-12-15T18:35:41.754Z"
   },
   {
    "duration": 50,
    "start_time": "2021-12-15T18:35:41.761Z"
   },
   {
    "duration": 8,
    "start_time": "2021-12-15T18:35:41.813Z"
   },
   {
    "duration": 5,
    "start_time": "2021-12-15T18:35:41.822Z"
   },
   {
    "duration": 905,
    "start_time": "2021-12-15T18:35:41.828Z"
   },
   {
    "duration": 28,
    "start_time": "2021-12-15T18:35:42.735Z"
   },
   {
    "duration": 8,
    "start_time": "2021-12-15T18:35:42.764Z"
   },
   {
    "duration": 3,
    "start_time": "2021-12-15T18:35:42.791Z"
   },
   {
    "duration": 897,
    "start_time": "2021-12-15T18:35:42.795Z"
   },
   {
    "duration": 5,
    "start_time": "2021-12-15T18:35:43.693Z"
   },
   {
    "duration": 10,
    "start_time": "2021-12-15T18:35:43.699Z"
   },
   {
    "duration": 3,
    "start_time": "2021-12-15T18:59:10.491Z"
   },
   {
    "duration": 469,
    "start_time": "2021-12-15T18:59:10.497Z"
   },
   {
    "duration": 9,
    "start_time": "2021-12-15T18:59:10.968Z"
   },
   {
    "duration": 22,
    "start_time": "2021-12-15T18:59:10.979Z"
   },
   {
    "duration": 4,
    "start_time": "2021-12-15T18:59:11.003Z"
   },
   {
    "duration": 98,
    "start_time": "2021-12-15T18:59:11.009Z"
   },
   {
    "duration": 8,
    "start_time": "2021-12-15T18:59:11.109Z"
   },
   {
    "duration": 18,
    "start_time": "2021-12-15T18:59:11.119Z"
   },
   {
    "duration": 5,
    "start_time": "2021-12-15T18:59:11.139Z"
   },
   {
    "duration": 57,
    "start_time": "2021-12-15T18:59:11.146Z"
   },
   {
    "duration": 8,
    "start_time": "2021-12-15T18:59:11.204Z"
   },
   {
    "duration": 20,
    "start_time": "2021-12-15T18:59:11.213Z"
   },
   {
    "duration": 3,
    "start_time": "2021-12-15T18:59:11.235Z"
   },
   {
    "duration": 56,
    "start_time": "2021-12-15T18:59:11.239Z"
   },
   {
    "duration": 8,
    "start_time": "2021-12-15T18:59:11.296Z"
   },
   {
    "duration": 8,
    "start_time": "2021-12-15T18:59:11.306Z"
   },
   {
    "duration": 7,
    "start_time": "2021-12-15T18:59:11.316Z"
   },
   {
    "duration": 8,
    "start_time": "2021-12-15T18:59:11.325Z"
   },
   {
    "duration": 10,
    "start_time": "2021-12-15T18:59:11.335Z"
   },
   {
    "duration": 8,
    "start_time": "2021-12-15T18:59:11.347Z"
   },
   {
    "duration": 40,
    "start_time": "2021-12-15T18:59:11.356Z"
   },
   {
    "duration": 8,
    "start_time": "2021-12-15T18:59:11.398Z"
   },
   {
    "duration": 59,
    "start_time": "2021-12-15T18:59:11.408Z"
   },
   {
    "duration": 78,
    "start_time": "2021-12-15T18:59:11.471Z"
   },
   {
    "duration": 17,
    "start_time": "2021-12-15T18:59:11.551Z"
   },
   {
    "duration": 22,
    "start_time": "2021-12-15T18:59:11.569Z"
   },
   {
    "duration": 237,
    "start_time": "2021-12-15T18:59:11.593Z"
   },
   {
    "duration": 44,
    "start_time": "2021-12-15T18:59:11.832Z"
   },
   {
    "duration": 34,
    "start_time": "2021-12-15T18:59:11.877Z"
   },
   {
    "duration": 7,
    "start_time": "2021-12-15T18:59:11.913Z"
   },
   {
    "duration": 39,
    "start_time": "2021-12-15T18:59:11.921Z"
   },
   {
    "duration": 18,
    "start_time": "2021-12-15T18:59:11.962Z"
   },
   {
    "duration": 54,
    "start_time": "2021-12-15T18:59:11.981Z"
   },
   {
    "duration": 10,
    "start_time": "2021-12-15T18:59:12.037Z"
   },
   {
    "duration": 18,
    "start_time": "2021-12-15T18:59:12.049Z"
   },
   {
    "duration": 31,
    "start_time": "2021-12-15T18:59:12.069Z"
   },
   {
    "duration": 5,
    "start_time": "2021-12-15T18:59:12.101Z"
   },
   {
    "duration": 14,
    "start_time": "2021-12-15T18:59:12.108Z"
   },
   {
    "duration": 31,
    "start_time": "2021-12-15T18:59:12.124Z"
   },
   {
    "duration": 19,
    "start_time": "2021-12-15T18:59:12.156Z"
   },
   {
    "duration": 98,
    "start_time": "2021-12-15T18:59:12.176Z"
   },
   {
    "duration": 13,
    "start_time": "2021-12-15T18:59:12.276Z"
   },
   {
    "duration": 13,
    "start_time": "2021-12-15T18:59:12.290Z"
   },
   {
    "duration": 10,
    "start_time": "2021-12-15T18:59:12.304Z"
   },
   {
    "duration": 33,
    "start_time": "2021-12-15T18:59:12.315Z"
   },
   {
    "duration": 8,
    "start_time": "2021-12-15T18:59:12.350Z"
   },
   {
    "duration": 5,
    "start_time": "2021-12-15T18:59:12.359Z"
   },
   {
    "duration": 820,
    "start_time": "2021-12-15T18:59:12.366Z"
   },
   {
    "duration": 30,
    "start_time": "2021-12-15T18:59:13.191Z"
   },
   {
    "duration": 9,
    "start_time": "2021-12-15T18:59:13.223Z"
   },
   {
    "duration": 7,
    "start_time": "2021-12-15T18:59:13.234Z"
   },
   {
    "duration": 946,
    "start_time": "2021-12-15T18:59:13.243Z"
   },
   {
    "duration": 6,
    "start_time": "2021-12-15T18:59:14.192Z"
   },
   {
    "duration": 10,
    "start_time": "2021-12-15T18:59:14.200Z"
   },
   {
    "duration": 2,
    "start_time": "2021-12-15T19:06:58.677Z"
   },
   {
    "duration": 1077,
    "start_time": "2021-12-15T19:06:58.753Z"
   },
   {
    "duration": 9,
    "start_time": "2021-12-15T19:06:59.833Z"
   },
   {
    "duration": 21,
    "start_time": "2021-12-15T19:06:59.844Z"
   },
   {
    "duration": 6,
    "start_time": "2021-12-15T19:06:59.867Z"
   },
   {
    "duration": 80,
    "start_time": "2021-12-15T19:06:59.874Z"
   },
   {
    "duration": 9,
    "start_time": "2021-12-15T19:06:59.956Z"
   },
   {
    "duration": 28,
    "start_time": "2021-12-15T19:06:59.967Z"
   },
   {
    "duration": 5,
    "start_time": "2021-12-15T19:06:59.999Z"
   },
   {
    "duration": 43,
    "start_time": "2021-12-15T19:07:00.006Z"
   },
   {
    "duration": 7,
    "start_time": "2021-12-15T19:07:00.051Z"
   },
   {
    "duration": 143,
    "start_time": "2021-12-15T19:07:00.060Z"
   },
   {
    "duration": 4,
    "start_time": "2021-12-15T19:07:00.205Z"
   },
   {
    "duration": 52,
    "start_time": "2021-12-15T19:07:00.210Z"
   },
   {
    "duration": 7,
    "start_time": "2021-12-15T19:07:00.264Z"
   },
   {
    "duration": 22,
    "start_time": "2021-12-15T19:07:00.273Z"
   },
   {
    "duration": 13,
    "start_time": "2021-12-15T19:07:00.297Z"
   },
   {
    "duration": 14,
    "start_time": "2021-12-15T19:07:00.312Z"
   },
   {
    "duration": 16,
    "start_time": "2021-12-15T19:07:00.327Z"
   },
   {
    "duration": 13,
    "start_time": "2021-12-15T19:07:00.345Z"
   },
   {
    "duration": 18,
    "start_time": "2021-12-15T19:07:00.359Z"
   },
   {
    "duration": 21,
    "start_time": "2021-12-15T19:07:00.379Z"
   },
   {
    "duration": 70,
    "start_time": "2021-12-15T19:07:00.402Z"
   },
   {
    "duration": 58,
    "start_time": "2021-12-15T19:07:00.475Z"
   },
   {
    "duration": 15,
    "start_time": "2021-12-15T19:07:00.535Z"
   },
   {
    "duration": 35,
    "start_time": "2021-12-15T19:07:00.551Z"
   },
   {
    "duration": 257,
    "start_time": "2021-12-15T19:07:00.588Z"
   },
   {
    "duration": 54,
    "start_time": "2021-12-15T19:07:00.847Z"
   },
   {
    "duration": 24,
    "start_time": "2021-12-15T19:07:00.902Z"
   },
   {
    "duration": 3,
    "start_time": "2021-12-15T19:07:00.928Z"
   },
   {
    "duration": 35,
    "start_time": "2021-12-15T19:07:00.933Z"
   },
   {
    "duration": 34,
    "start_time": "2021-12-15T19:07:00.970Z"
   },
   {
    "duration": 52,
    "start_time": "2021-12-15T19:07:01.007Z"
   },
   {
    "duration": 11,
    "start_time": "2021-12-15T19:07:01.062Z"
   },
   {
    "duration": 21,
    "start_time": "2021-12-15T19:07:01.075Z"
   },
   {
    "duration": 22,
    "start_time": "2021-12-15T19:07:01.098Z"
   },
   {
    "duration": 5,
    "start_time": "2021-12-15T19:07:01.122Z"
   },
   {
    "duration": 15,
    "start_time": "2021-12-15T19:07:01.129Z"
   },
   {
    "duration": 11,
    "start_time": "2021-12-15T19:07:01.146Z"
   },
   {
    "duration": 11,
    "start_time": "2021-12-15T19:07:01.159Z"
   },
   {
    "duration": 77,
    "start_time": "2021-12-15T19:07:01.172Z"
   },
   {
    "duration": 11,
    "start_time": "2021-12-15T19:07:01.251Z"
   },
   {
    "duration": 49,
    "start_time": "2021-12-15T19:07:01.264Z"
   },
   {
    "duration": 8,
    "start_time": "2021-12-15T19:07:01.314Z"
   },
   {
    "duration": 5,
    "start_time": "2021-12-15T19:07:01.324Z"
   },
   {
    "duration": 824,
    "start_time": "2021-12-15T19:07:01.331Z"
   },
   {
    "duration": 36,
    "start_time": "2021-12-15T19:07:02.156Z"
   },
   {
    "duration": 7,
    "start_time": "2021-12-15T19:07:02.194Z"
   },
   {
    "duration": 5,
    "start_time": "2021-12-15T19:07:02.203Z"
   },
   {
    "duration": 926,
    "start_time": "2021-12-15T19:07:02.209Z"
   },
   {
    "duration": 5,
    "start_time": "2021-12-15T19:07:03.137Z"
   },
   {
    "duration": 9,
    "start_time": "2021-12-15T19:07:03.144Z"
   },
   {
    "duration": 3,
    "start_time": "2021-12-15T19:07:32.591Z"
   },
   {
    "duration": 438,
    "start_time": "2021-12-15T19:07:32.596Z"
   },
   {
    "duration": 7,
    "start_time": "2021-12-15T19:07:33.037Z"
   },
   {
    "duration": 27,
    "start_time": "2021-12-15T19:07:33.046Z"
   },
   {
    "duration": 5,
    "start_time": "2021-12-15T19:07:33.075Z"
   },
   {
    "duration": 117,
    "start_time": "2021-12-15T19:07:33.081Z"
   },
   {
    "duration": 8,
    "start_time": "2021-12-15T19:07:33.199Z"
   },
   {
    "duration": 28,
    "start_time": "2021-12-15T19:07:33.209Z"
   },
   {
    "duration": 4,
    "start_time": "2021-12-15T19:07:33.240Z"
   },
   {
    "duration": 51,
    "start_time": "2021-12-15T19:07:33.246Z"
   },
   {
    "duration": 6,
    "start_time": "2021-12-15T19:07:33.299Z"
   },
   {
    "duration": 30,
    "start_time": "2021-12-15T19:07:33.307Z"
   },
   {
    "duration": 14,
    "start_time": "2021-12-15T19:07:33.338Z"
   },
   {
    "duration": 47,
    "start_time": "2021-12-15T19:07:33.354Z"
   },
   {
    "duration": 8,
    "start_time": "2021-12-15T19:07:33.403Z"
   },
   {
    "duration": 19,
    "start_time": "2021-12-15T19:07:33.412Z"
   },
   {
    "duration": 15,
    "start_time": "2021-12-15T19:07:33.433Z"
   },
   {
    "duration": 9,
    "start_time": "2021-12-15T19:07:33.449Z"
   },
   {
    "duration": 12,
    "start_time": "2021-12-15T19:07:33.459Z"
   },
   {
    "duration": 9,
    "start_time": "2021-12-15T19:07:33.472Z"
   },
   {
    "duration": 9,
    "start_time": "2021-12-15T19:07:33.483Z"
   },
   {
    "duration": 13,
    "start_time": "2021-12-15T19:07:33.493Z"
   },
   {
    "duration": 56,
    "start_time": "2021-12-15T19:07:33.507Z"
   },
   {
    "duration": 65,
    "start_time": "2021-12-15T19:07:33.564Z"
   },
   {
    "duration": 16,
    "start_time": "2021-12-15T19:07:33.631Z"
   },
   {
    "duration": 17,
    "start_time": "2021-12-15T19:07:33.649Z"
   },
   {
    "duration": 239,
    "start_time": "2021-12-15T19:07:33.670Z"
   },
   {
    "duration": 41,
    "start_time": "2021-12-15T19:07:33.911Z"
   },
   {
    "duration": 24,
    "start_time": "2021-12-15T19:07:33.953Z"
   },
   {
    "duration": 2,
    "start_time": "2021-12-15T19:07:33.991Z"
   },
   {
    "duration": 27,
    "start_time": "2021-12-15T19:07:33.995Z"
   },
   {
    "duration": 14,
    "start_time": "2021-12-15T19:07:34.024Z"
   },
   {
    "duration": 61,
    "start_time": "2021-12-15T19:07:34.040Z"
   },
   {
    "duration": 12,
    "start_time": "2021-12-15T19:07:34.103Z"
   },
   {
    "duration": 7,
    "start_time": "2021-12-15T19:07:34.117Z"
   },
   {
    "duration": 22,
    "start_time": "2021-12-15T19:07:34.126Z"
   },
   {
    "duration": 6,
    "start_time": "2021-12-15T19:07:34.150Z"
   },
   {
    "duration": 42,
    "start_time": "2021-12-15T19:07:34.157Z"
   },
   {
    "duration": 4,
    "start_time": "2021-12-15T19:07:34.201Z"
   },
   {
    "duration": 8,
    "start_time": "2021-12-15T19:07:34.207Z"
   },
   {
    "duration": 84,
    "start_time": "2021-12-15T19:07:34.217Z"
   },
   {
    "duration": 31,
    "start_time": "2021-12-15T19:07:34.303Z"
   },
   {
    "duration": 9,
    "start_time": "2021-12-15T19:07:34.336Z"
   },
   {
    "duration": 3,
    "start_time": "2021-12-15T19:07:34.347Z"
   },
   {
    "duration": 833,
    "start_time": "2021-12-15T19:07:34.352Z"
   },
   {
    "duration": 34,
    "start_time": "2021-12-15T19:07:35.186Z"
   },
   {
    "duration": 8,
    "start_time": "2021-12-15T19:07:35.221Z"
   },
   {
    "duration": 4,
    "start_time": "2021-12-15T19:07:35.230Z"
   },
   {
    "duration": 1046,
    "start_time": "2021-12-15T19:07:35.236Z"
   },
   {
    "duration": 9,
    "start_time": "2021-12-15T19:07:36.283Z"
   },
   {
    "duration": 11,
    "start_time": "2021-12-15T19:07:36.294Z"
   },
   {
    "duration": 5,
    "start_time": "2021-12-15T20:08:51.360Z"
   },
   {
    "duration": 5,
    "start_time": "2021-12-15T20:10:11.110Z"
   },
   {
    "duration": 5,
    "start_time": "2021-12-15T20:16:11.146Z"
   },
   {
    "duration": 6,
    "start_time": "2021-12-15T20:16:16.165Z"
   },
   {
    "duration": 3,
    "start_time": "2021-12-15T20:23:37.376Z"
   },
   {
    "duration": 1494,
    "start_time": "2021-12-15T20:23:37.381Z"
   },
   {
    "duration": 9,
    "start_time": "2021-12-15T20:23:38.877Z"
   },
   {
    "duration": 23,
    "start_time": "2021-12-15T20:23:38.887Z"
   },
   {
    "duration": 4,
    "start_time": "2021-12-15T20:23:38.912Z"
   },
   {
    "duration": 99,
    "start_time": "2021-12-15T20:23:38.918Z"
   },
   {
    "duration": 9,
    "start_time": "2021-12-15T20:23:39.019Z"
   },
   {
    "duration": 18,
    "start_time": "2021-12-15T20:23:39.031Z"
   },
   {
    "duration": 5,
    "start_time": "2021-12-15T20:23:39.051Z"
   },
   {
    "duration": 66,
    "start_time": "2021-12-15T20:23:39.058Z"
   },
   {
    "duration": 8,
    "start_time": "2021-12-15T20:23:39.126Z"
   },
   {
    "duration": 16,
    "start_time": "2021-12-15T20:23:39.136Z"
   },
   {
    "duration": 3,
    "start_time": "2021-12-15T20:23:39.154Z"
   },
   {
    "duration": 62,
    "start_time": "2021-12-15T20:23:39.159Z"
   },
   {
    "duration": 8,
    "start_time": "2021-12-15T20:23:39.223Z"
   },
   {
    "duration": 8,
    "start_time": "2021-12-15T20:23:39.233Z"
   },
   {
    "duration": 6,
    "start_time": "2021-12-15T20:23:39.243Z"
   },
   {
    "duration": 8,
    "start_time": "2021-12-15T20:23:39.251Z"
   },
   {
    "duration": 10,
    "start_time": "2021-12-15T20:23:39.292Z"
   },
   {
    "duration": 11,
    "start_time": "2021-12-15T20:23:39.305Z"
   },
   {
    "duration": 10,
    "start_time": "2021-12-15T20:23:39.317Z"
   },
   {
    "duration": 9,
    "start_time": "2021-12-15T20:23:39.328Z"
   },
   {
    "duration": 70,
    "start_time": "2021-12-15T20:23:39.339Z"
   },
   {
    "duration": 58,
    "start_time": "2021-12-15T20:23:39.411Z"
   },
   {
    "duration": 27,
    "start_time": "2021-12-15T20:23:39.471Z"
   },
   {
    "duration": 4,
    "start_time": "2021-12-15T20:23:39.500Z"
   },
   {
    "duration": 257,
    "start_time": "2021-12-15T20:23:39.506Z"
   },
   {
    "duration": 53,
    "start_time": "2021-12-15T20:23:39.764Z"
   },
   {
    "duration": 23,
    "start_time": "2021-12-15T20:23:39.818Z"
   },
   {
    "duration": 3,
    "start_time": "2021-12-15T20:23:39.842Z"
   },
   {
    "duration": 45,
    "start_time": "2021-12-15T20:23:39.847Z"
   },
   {
    "duration": 16,
    "start_time": "2021-12-15T20:23:39.895Z"
   },
   {
    "duration": 40,
    "start_time": "2021-12-15T20:23:39.913Z"
   },
   {
    "duration": 12,
    "start_time": "2021-12-15T20:23:39.954Z"
   },
   {
    "duration": 5,
    "start_time": "2021-12-15T20:23:39.992Z"
   },
   {
    "duration": 26,
    "start_time": "2021-12-15T20:23:39.999Z"
   },
   {
    "duration": 6,
    "start_time": "2021-12-15T20:23:40.027Z"
   },
   {
    "duration": 12,
    "start_time": "2021-12-15T20:23:40.034Z"
   },
   {
    "duration": 5,
    "start_time": "2021-12-15T20:23:40.048Z"
   },
   {
    "duration": 37,
    "start_time": "2021-12-15T20:23:40.054Z"
   },
   {
    "duration": 64,
    "start_time": "2021-12-15T20:23:40.093Z"
   },
   {
    "duration": 44,
    "start_time": "2021-12-15T20:23:40.159Z"
   },
   {
    "duration": 7,
    "start_time": "2021-12-15T20:23:40.205Z"
   },
   {
    "duration": 2,
    "start_time": "2021-12-15T20:23:40.214Z"
   },
   {
    "duration": 852,
    "start_time": "2021-12-15T20:23:40.218Z"
   },
   {
    "duration": 40,
    "start_time": "2021-12-15T20:23:41.071Z"
   },
   {
    "duration": 10,
    "start_time": "2021-12-15T20:23:41.113Z"
   },
   {
    "duration": 4,
    "start_time": "2021-12-15T20:23:41.125Z"
   },
   {
    "duration": 986,
    "start_time": "2021-12-15T20:23:41.131Z"
   },
   {
    "duration": 5,
    "start_time": "2021-12-15T20:23:42.119Z"
   },
   {
    "duration": 7,
    "start_time": "2021-12-15T20:23:42.126Z"
   },
   {
    "duration": 5,
    "start_time": "2021-12-15T20:23:42.134Z"
   },
   {
    "duration": 31,
    "start_time": "2021-12-15T20:23:42.140Z"
   },
   {
    "duration": 7,
    "start_time": "2021-12-15T20:26:59.990Z"
   },
   {
    "duration": 8,
    "start_time": "2021-12-15T20:27:45.771Z"
   },
   {
    "duration": 3,
    "start_time": "2021-12-15T20:36:50.182Z"
   },
   {
    "duration": 465,
    "start_time": "2021-12-15T20:36:50.187Z"
   },
   {
    "duration": 8,
    "start_time": "2021-12-15T20:36:50.654Z"
   },
   {
    "duration": 23,
    "start_time": "2021-12-15T20:36:50.664Z"
   },
   {
    "duration": 5,
    "start_time": "2021-12-15T20:36:50.689Z"
   },
   {
    "duration": 116,
    "start_time": "2021-12-15T20:36:50.696Z"
   },
   {
    "duration": 9,
    "start_time": "2021-12-15T20:36:50.815Z"
   },
   {
    "duration": 17,
    "start_time": "2021-12-15T20:36:50.827Z"
   },
   {
    "duration": 5,
    "start_time": "2021-12-15T20:36:50.847Z"
   },
   {
    "duration": 79,
    "start_time": "2021-12-15T20:36:50.854Z"
   },
   {
    "duration": 8,
    "start_time": "2021-12-15T20:36:50.935Z"
   },
   {
    "duration": 18,
    "start_time": "2021-12-15T20:36:50.945Z"
   },
   {
    "duration": 4,
    "start_time": "2021-12-15T20:36:50.965Z"
   },
   {
    "duration": 77,
    "start_time": "2021-12-15T20:36:50.971Z"
   },
   {
    "duration": 8,
    "start_time": "2021-12-15T20:36:51.050Z"
   },
   {
    "duration": 35,
    "start_time": "2021-12-15T20:36:51.060Z"
   },
   {
    "duration": 10,
    "start_time": "2021-12-15T20:36:51.099Z"
   },
   {
    "duration": 7,
    "start_time": "2021-12-15T20:36:51.110Z"
   },
   {
    "duration": 10,
    "start_time": "2021-12-15T20:36:51.120Z"
   },
   {
    "duration": 7,
    "start_time": "2021-12-15T20:36:51.133Z"
   },
   {
    "duration": 7,
    "start_time": "2021-12-15T20:36:51.141Z"
   },
   {
    "duration": 8,
    "start_time": "2021-12-15T20:36:51.150Z"
   },
   {
    "duration": 93,
    "start_time": "2021-12-15T20:36:51.160Z"
   },
   {
    "duration": 77,
    "start_time": "2021-12-15T20:36:51.255Z"
   },
   {
    "duration": 20,
    "start_time": "2021-12-15T20:36:51.334Z"
   },
   {
    "duration": 4,
    "start_time": "2021-12-15T20:36:51.356Z"
   },
   {
    "duration": 278,
    "start_time": "2021-12-15T20:36:51.362Z"
   },
   {
    "duration": 56,
    "start_time": "2021-12-15T20:36:51.642Z"
   },
   {
    "duration": 24,
    "start_time": "2021-12-15T20:36:51.704Z"
   },
   {
    "duration": 2,
    "start_time": "2021-12-15T20:36:51.730Z"
   },
   {
    "duration": 28,
    "start_time": "2021-12-15T20:36:51.734Z"
   },
   {
    "duration": 141,
    "start_time": "2021-12-15T20:36:51.764Z"
   },
   {
    "duration": 41,
    "start_time": "2021-12-15T20:36:51.907Z"
   },
   {
    "duration": 12,
    "start_time": "2021-12-15T20:36:51.949Z"
   },
   {
    "duration": 6,
    "start_time": "2021-12-15T20:36:51.962Z"
   },
   {
    "duration": 27,
    "start_time": "2021-12-15T20:36:51.994Z"
   },
   {
    "duration": 5,
    "start_time": "2021-12-15T20:36:52.023Z"
   },
   {
    "duration": 14,
    "start_time": "2021-12-15T20:36:52.030Z"
   },
   {
    "duration": 10,
    "start_time": "2021-12-15T20:36:52.046Z"
   },
   {
    "duration": 9,
    "start_time": "2021-12-15T20:36:52.057Z"
   },
   {
    "duration": 103,
    "start_time": "2021-12-15T20:36:52.068Z"
   },
   {
    "duration": 82,
    "start_time": "2021-12-15T20:36:52.173Z"
   },
   {
    "duration": 18,
    "start_time": "2021-12-15T20:36:52.257Z"
   },
   {
    "duration": 16,
    "start_time": "2021-12-15T20:36:52.281Z"
   },
   {
    "duration": 957,
    "start_time": "2021-12-15T20:36:52.300Z"
   },
   {
    "duration": 42,
    "start_time": "2021-12-15T20:36:53.258Z"
   },
   {
    "duration": 8,
    "start_time": "2021-12-15T20:36:53.302Z"
   },
   {
    "duration": 21,
    "start_time": "2021-12-15T20:36:53.312Z"
   },
   {
    "duration": 988,
    "start_time": "2021-12-15T20:36:53.334Z"
   },
   {
    "duration": 5,
    "start_time": "2021-12-15T20:36:54.324Z"
   },
   {
    "duration": 20,
    "start_time": "2021-12-15T20:36:54.331Z"
   },
   {
    "duration": 17,
    "start_time": "2021-12-15T20:36:54.352Z"
   },
   {
    "duration": 19,
    "start_time": "2021-12-15T20:36:54.371Z"
   },
   {
    "duration": 3,
    "start_time": "2021-12-15T20:40:30.271Z"
   },
   {
    "duration": 440,
    "start_time": "2021-12-15T20:40:30.276Z"
   },
   {
    "duration": 8,
    "start_time": "2021-12-15T20:40:30.718Z"
   },
   {
    "duration": 23,
    "start_time": "2021-12-15T20:40:30.728Z"
   },
   {
    "duration": 4,
    "start_time": "2021-12-15T20:40:30.753Z"
   },
   {
    "duration": 99,
    "start_time": "2021-12-15T20:40:30.758Z"
   },
   {
    "duration": 8,
    "start_time": "2021-12-15T20:40:30.859Z"
   },
   {
    "duration": 26,
    "start_time": "2021-12-15T20:40:30.869Z"
   },
   {
    "duration": 5,
    "start_time": "2021-12-15T20:40:30.896Z"
   },
   {
    "duration": 43,
    "start_time": "2021-12-15T20:40:30.902Z"
   },
   {
    "duration": 7,
    "start_time": "2021-12-15T20:40:30.947Z"
   },
   {
    "duration": 36,
    "start_time": "2021-12-15T20:40:30.956Z"
   },
   {
    "duration": 3,
    "start_time": "2021-12-15T20:40:30.994Z"
   },
   {
    "duration": 46,
    "start_time": "2021-12-15T20:40:30.999Z"
   },
   {
    "duration": 8,
    "start_time": "2021-12-15T20:40:31.046Z"
   },
   {
    "duration": 19,
    "start_time": "2021-12-15T20:40:31.056Z"
   },
   {
    "duration": 14,
    "start_time": "2021-12-15T20:40:31.077Z"
   },
   {
    "duration": 10,
    "start_time": "2021-12-15T20:40:31.093Z"
   },
   {
    "duration": 15,
    "start_time": "2021-12-15T20:40:31.106Z"
   },
   {
    "duration": 9,
    "start_time": "2021-12-15T20:40:31.124Z"
   },
   {
    "duration": 10,
    "start_time": "2021-12-15T20:40:31.135Z"
   },
   {
    "duration": 9,
    "start_time": "2021-12-15T20:40:31.147Z"
   },
   {
    "duration": 75,
    "start_time": "2021-12-15T20:40:31.157Z"
   },
   {
    "duration": 66,
    "start_time": "2021-12-15T20:40:31.234Z"
   },
   {
    "duration": 15,
    "start_time": "2021-12-15T20:40:31.302Z"
   },
   {
    "duration": 4,
    "start_time": "2021-12-15T20:40:31.319Z"
   },
   {
    "duration": 248,
    "start_time": "2021-12-15T20:40:31.325Z"
   },
   {
    "duration": 53,
    "start_time": "2021-12-15T20:40:31.575Z"
   },
   {
    "duration": 23,
    "start_time": "2021-12-15T20:40:31.630Z"
   },
   {
    "duration": 2,
    "start_time": "2021-12-15T20:40:31.655Z"
   },
   {
    "duration": 48,
    "start_time": "2021-12-15T20:40:31.658Z"
   },
   {
    "duration": 16,
    "start_time": "2021-12-15T20:40:31.708Z"
   },
   {
    "duration": 40,
    "start_time": "2021-12-15T20:40:31.726Z"
   },
   {
    "duration": 34,
    "start_time": "2021-12-15T20:40:31.767Z"
   },
   {
    "duration": 9,
    "start_time": "2021-12-15T20:40:31.803Z"
   },
   {
    "duration": 30,
    "start_time": "2021-12-15T20:40:31.813Z"
   },
   {
    "duration": 5,
    "start_time": "2021-12-15T20:40:31.845Z"
   },
   {
    "duration": 23,
    "start_time": "2021-12-15T20:40:31.852Z"
   },
   {
    "duration": 14,
    "start_time": "2021-12-15T20:40:31.877Z"
   },
   {
    "duration": 17,
    "start_time": "2021-12-15T20:40:31.893Z"
   },
   {
    "duration": 85,
    "start_time": "2021-12-15T20:40:31.912Z"
   },
   {
    "duration": 28,
    "start_time": "2021-12-15T20:40:31.999Z"
   },
   {
    "duration": 8,
    "start_time": "2021-12-15T20:40:32.028Z"
   },
   {
    "duration": 20,
    "start_time": "2021-12-15T20:40:32.037Z"
   },
   {
    "duration": 818,
    "start_time": "2021-12-15T20:40:32.058Z"
   },
   {
    "duration": 32,
    "start_time": "2021-12-15T20:40:32.878Z"
   },
   {
    "duration": 7,
    "start_time": "2021-12-15T20:40:32.912Z"
   },
   {
    "duration": 7,
    "start_time": "2021-12-15T20:40:32.920Z"
   },
   {
    "duration": 985,
    "start_time": "2021-12-15T20:40:32.929Z"
   },
   {
    "duration": 5,
    "start_time": "2021-12-15T20:40:33.916Z"
   },
   {
    "duration": 8,
    "start_time": "2021-12-15T20:40:33.923Z"
   },
   {
    "duration": 7,
    "start_time": "2021-12-15T20:40:33.933Z"
   },
   {
    "duration": 7,
    "start_time": "2021-12-15T20:40:33.942Z"
   },
   {
    "duration": 339,
    "start_time": "2021-12-16T06:02:22.208Z"
   },
   {
    "duration": 1743,
    "start_time": "2021-12-16T06:02:32.523Z"
   },
   {
    "duration": 484,
    "start_time": "2021-12-16T06:02:34.269Z"
   },
   {
    "duration": 15,
    "start_time": "2021-12-16T06:02:34.755Z"
   },
   {
    "duration": 36,
    "start_time": "2021-12-16T06:02:34.772Z"
   },
   {
    "duration": 6,
    "start_time": "2021-12-16T06:02:34.811Z"
   },
   {
    "duration": 137,
    "start_time": "2021-12-16T06:02:34.819Z"
   },
   {
    "duration": 12,
    "start_time": "2021-12-16T06:02:34.958Z"
   },
   {
    "duration": 31,
    "start_time": "2021-12-16T06:02:34.974Z"
   },
   {
    "duration": 18,
    "start_time": "2021-12-16T06:02:35.009Z"
   },
   {
    "duration": 70,
    "start_time": "2021-12-16T06:02:35.030Z"
   },
   {
    "duration": 25,
    "start_time": "2021-12-16T06:02:35.103Z"
   },
   {
    "duration": 32,
    "start_time": "2021-12-16T06:02:35.130Z"
   },
   {
    "duration": 32,
    "start_time": "2021-12-16T06:02:35.164Z"
   },
   {
    "duration": 71,
    "start_time": "2021-12-16T06:02:35.199Z"
   },
   {
    "duration": 11,
    "start_time": "2021-12-16T06:02:35.272Z"
   },
   {
    "duration": 30,
    "start_time": "2021-12-16T06:02:35.285Z"
   },
   {
    "duration": 18,
    "start_time": "2021-12-16T06:02:35.318Z"
   },
   {
    "duration": 22,
    "start_time": "2021-12-16T06:02:35.338Z"
   },
   {
    "duration": 22,
    "start_time": "2021-12-16T06:02:35.362Z"
   },
   {
    "duration": 25,
    "start_time": "2021-12-16T06:02:35.387Z"
   },
   {
    "duration": 15,
    "start_time": "2021-12-16T06:02:35.415Z"
   },
   {
    "duration": 16,
    "start_time": "2021-12-16T06:02:35.432Z"
   },
   {
    "duration": 89,
    "start_time": "2021-12-16T06:02:35.453Z"
   },
   {
    "duration": 88,
    "start_time": "2021-12-16T06:02:35.545Z"
   },
   {
    "duration": 27,
    "start_time": "2021-12-16T06:02:35.635Z"
   },
   {
    "duration": 5,
    "start_time": "2021-12-16T06:02:35.664Z"
   },
   {
    "duration": 354,
    "start_time": "2021-12-16T06:02:35.672Z"
   },
   {
    "duration": 64,
    "start_time": "2021-12-16T06:02:36.028Z"
   },
   {
    "duration": 49,
    "start_time": "2021-12-16T06:02:36.095Z"
   },
   {
    "duration": 3,
    "start_time": "2021-12-16T06:02:36.147Z"
   },
   {
    "duration": 56,
    "start_time": "2021-12-16T06:02:36.152Z"
   },
   {
    "duration": 32,
    "start_time": "2021-12-16T06:02:36.211Z"
   },
   {
    "duration": 78,
    "start_time": "2021-12-16T06:02:36.245Z"
   },
   {
    "duration": 16,
    "start_time": "2021-12-16T06:02:36.325Z"
   },
   {
    "duration": 11,
    "start_time": "2021-12-16T06:02:36.344Z"
   },
   {
    "duration": 30,
    "start_time": "2021-12-16T06:02:36.358Z"
   },
   {
    "duration": 37,
    "start_time": "2021-12-16T06:02:36.390Z"
   },
   {
    "duration": 24,
    "start_time": "2021-12-16T06:02:36.429Z"
   },
   {
    "duration": 12,
    "start_time": "2021-12-16T06:02:36.456Z"
   },
   {
    "duration": 10,
    "start_time": "2021-12-16T06:02:36.470Z"
   },
   {
    "duration": 118,
    "start_time": "2021-12-16T06:02:36.482Z"
   },
   {
    "duration": 51,
    "start_time": "2021-12-16T06:02:36.603Z"
   },
   {
    "duration": 10,
    "start_time": "2021-12-16T06:02:36.656Z"
   },
   {
    "duration": 16,
    "start_time": "2021-12-16T06:02:36.668Z"
   },
   {
    "duration": 3,
    "start_time": "2021-12-16T06:02:36.686Z"
   },
   {
    "duration": 1232,
    "start_time": "2021-12-16T06:02:36.691Z"
   },
   {
    "duration": 44,
    "start_time": "2021-12-16T06:02:37.925Z"
   },
   {
    "duration": 10,
    "start_time": "2021-12-16T06:02:37.971Z"
   },
   {
    "duration": 6,
    "start_time": "2021-12-16T06:02:37.983Z"
   },
   {
    "duration": 1339,
    "start_time": "2021-12-16T06:02:37.991Z"
   },
   {
    "duration": 6,
    "start_time": "2021-12-16T06:02:39.333Z"
   },
   {
    "duration": 27,
    "start_time": "2021-12-16T06:02:39.341Z"
   },
   {
    "duration": 10,
    "start_time": "2021-12-16T06:02:39.370Z"
   },
   {
    "duration": 10,
    "start_time": "2021-12-16T06:02:39.383Z"
   },
   {
    "duration": 8,
    "start_time": "2021-12-16T06:06:43.807Z"
   },
   {
    "duration": 8,
    "start_time": "2021-12-16T06:06:50.599Z"
   },
   {
    "duration": 71,
    "start_time": "2021-12-16T06:21:30.978Z"
   },
   {
    "duration": 4,
    "start_time": "2021-12-16T06:22:14.150Z"
   },
   {
    "duration": 526,
    "start_time": "2021-12-16T06:22:14.157Z"
   },
   {
    "duration": 11,
    "start_time": "2021-12-16T06:22:14.685Z"
   },
   {
    "duration": 29,
    "start_time": "2021-12-16T06:22:14.699Z"
   },
   {
    "duration": 6,
    "start_time": "2021-12-16T06:22:14.731Z"
   },
   {
    "duration": 123,
    "start_time": "2021-12-16T06:22:14.740Z"
   },
   {
    "duration": 12,
    "start_time": "2021-12-16T06:22:14.867Z"
   },
   {
    "duration": 41,
    "start_time": "2021-12-16T06:22:14.882Z"
   },
   {
    "duration": 6,
    "start_time": "2021-12-16T06:22:14.926Z"
   },
   {
    "duration": 79,
    "start_time": "2021-12-16T06:22:14.934Z"
   },
   {
    "duration": 13,
    "start_time": "2021-12-16T06:22:15.015Z"
   },
   {
    "duration": 25,
    "start_time": "2021-12-16T06:22:15.031Z"
   },
   {
    "duration": 5,
    "start_time": "2021-12-16T06:22:15.059Z"
   },
   {
    "duration": 79,
    "start_time": "2021-12-16T06:22:15.066Z"
   },
   {
    "duration": 12,
    "start_time": "2021-12-16T06:22:15.148Z"
   },
   {
    "duration": 15,
    "start_time": "2021-12-16T06:22:15.163Z"
   },
   {
    "duration": 14,
    "start_time": "2021-12-16T06:22:15.181Z"
   },
   {
    "duration": 31,
    "start_time": "2021-12-16T06:22:15.197Z"
   },
   {
    "duration": 18,
    "start_time": "2021-12-16T06:22:15.234Z"
   },
   {
    "duration": 9,
    "start_time": "2021-12-16T06:22:15.256Z"
   },
   {
    "duration": 9,
    "start_time": "2021-12-16T06:22:15.267Z"
   },
   {
    "duration": 11,
    "start_time": "2021-12-16T06:22:15.279Z"
   },
   {
    "duration": 100,
    "start_time": "2021-12-16T06:22:15.323Z"
   },
   {
    "duration": 84,
    "start_time": "2021-12-16T06:22:15.425Z"
   },
   {
    "duration": 29,
    "start_time": "2021-12-16T06:22:15.511Z"
   },
   {
    "duration": 5,
    "start_time": "2021-12-16T06:22:15.542Z"
   },
   {
    "duration": 381,
    "start_time": "2021-12-16T06:22:15.550Z"
   },
   {
    "duration": 64,
    "start_time": "2021-12-16T06:22:15.933Z"
   },
   {
    "duration": 49,
    "start_time": "2021-12-16T06:22:15.999Z"
   },
   {
    "duration": 3,
    "start_time": "2021-12-16T06:22:16.051Z"
   },
   {
    "duration": 41,
    "start_time": "2021-12-16T06:22:16.056Z"
   },
   {
    "duration": 23,
    "start_time": "2021-12-16T06:22:16.124Z"
   },
   {
    "duration": 75,
    "start_time": "2021-12-16T06:22:16.149Z"
   },
   {
    "duration": 16,
    "start_time": "2021-12-16T06:22:16.227Z"
   },
   {
    "duration": 11,
    "start_time": "2021-12-16T06:22:16.246Z"
   },
   {
    "duration": 63,
    "start_time": "2021-12-16T06:22:16.260Z"
   },
   {
    "duration": 8,
    "start_time": "2021-12-16T06:22:16.326Z"
   },
   {
    "duration": 20,
    "start_time": "2021-12-16T06:22:16.336Z"
   },
   {
    "duration": 8,
    "start_time": "2021-12-16T06:22:16.358Z"
   },
   {
    "duration": 10,
    "start_time": "2021-12-16T06:22:16.368Z"
   },
   {
    "duration": 8378,
    "start_time": "2021-12-16T06:22:16.380Z"
   },
   {
    "duration": 114,
    "start_time": "2021-12-16T06:22:24.648Z"
   },
   {
    "duration": 109,
    "start_time": "2021-12-16T06:22:24.655Z"
   },
   {
    "duration": 99,
    "start_time": "2021-12-16T06:22:24.668Z"
   },
   {
    "duration": 91,
    "start_time": "2021-12-16T06:22:24.678Z"
   },
   {
    "duration": -45,
    "start_time": "2021-12-16T06:22:24.817Z"
   },
   {
    "duration": -128,
    "start_time": "2021-12-16T06:22:24.902Z"
   },
   {
    "duration": -147,
    "start_time": "2021-12-16T06:22:24.923Z"
   },
   {
    "duration": -151,
    "start_time": "2021-12-16T06:22:24.929Z"
   },
   {
    "duration": -195,
    "start_time": "2021-12-16T06:22:24.976Z"
   },
   {
    "duration": -199,
    "start_time": "2021-12-16T06:22:24.982Z"
   },
   {
    "duration": -293,
    "start_time": "2021-12-16T06:22:25.079Z"
   },
   {
    "duration": -371,
    "start_time": "2021-12-16T06:22:25.159Z"
   },
   {
    "duration": 4,
    "start_time": "2021-12-16T06:26:49.790Z"
   },
   {
    "duration": 511,
    "start_time": "2021-12-16T06:26:49.821Z"
   },
   {
    "duration": 11,
    "start_time": "2021-12-16T06:26:50.334Z"
   },
   {
    "duration": 51,
    "start_time": "2021-12-16T06:26:50.348Z"
   },
   {
    "duration": 20,
    "start_time": "2021-12-16T06:26:50.401Z"
   },
   {
    "duration": 128,
    "start_time": "2021-12-16T06:26:50.423Z"
   },
   {
    "duration": 11,
    "start_time": "2021-12-16T06:26:50.553Z"
   },
   {
    "duration": 33,
    "start_time": "2021-12-16T06:26:50.567Z"
   },
   {
    "duration": 21,
    "start_time": "2021-12-16T06:26:50.603Z"
   },
   {
    "duration": 61,
    "start_time": "2021-12-16T06:26:50.628Z"
   },
   {
    "duration": 10,
    "start_time": "2021-12-16T06:26:50.692Z"
   },
   {
    "duration": 36,
    "start_time": "2021-12-16T06:26:50.704Z"
   },
   {
    "duration": 14,
    "start_time": "2021-12-16T06:26:50.742Z"
   },
   {
    "duration": 75,
    "start_time": "2021-12-16T06:26:50.758Z"
   },
   {
    "duration": 12,
    "start_time": "2021-12-16T06:26:50.835Z"
   },
   {
    "duration": 27,
    "start_time": "2021-12-16T06:26:50.849Z"
   },
   {
    "duration": 24,
    "start_time": "2021-12-16T06:26:50.878Z"
   },
   {
    "duration": 30,
    "start_time": "2021-12-16T06:26:50.904Z"
   },
   {
    "duration": 40,
    "start_time": "2021-12-16T06:26:50.937Z"
   },
   {
    "duration": 18,
    "start_time": "2021-12-16T06:26:50.980Z"
   },
   {
    "duration": 23,
    "start_time": "2021-12-16T06:26:51.000Z"
   },
   {
    "duration": 30,
    "start_time": "2021-12-16T06:26:51.026Z"
   },
   {
    "duration": 95,
    "start_time": "2021-12-16T06:26:51.059Z"
   },
   {
    "duration": 83,
    "start_time": "2021-12-16T06:26:51.157Z"
   },
   {
    "duration": 22,
    "start_time": "2021-12-16T06:26:51.242Z"
   },
   {
    "duration": 5,
    "start_time": "2021-12-16T06:26:51.267Z"
   },
   {
    "duration": 361,
    "start_time": "2021-12-16T06:26:51.274Z"
   },
   {
    "duration": 64,
    "start_time": "2021-12-16T06:26:51.640Z"
   },
   {
    "duration": 35,
    "start_time": "2021-12-16T06:26:51.725Z"
   },
   {
    "duration": 5,
    "start_time": "2021-12-16T06:26:51.762Z"
   },
   {
    "duration": 68,
    "start_time": "2021-12-16T06:26:51.769Z"
   },
   {
    "duration": 22,
    "start_time": "2021-12-16T06:26:51.840Z"
   },
   {
    "duration": 167,
    "start_time": "2021-12-16T06:26:51.864Z"
   },
   {
    "duration": 16,
    "start_time": "2021-12-16T06:26:52.034Z"
   },
   {
    "duration": 33,
    "start_time": "2021-12-16T06:26:52.053Z"
   },
   {
    "duration": 44,
    "start_time": "2021-12-16T06:26:52.089Z"
   },
   {
    "duration": 8,
    "start_time": "2021-12-16T06:26:52.136Z"
   },
   {
    "duration": 39,
    "start_time": "2021-12-16T06:26:52.146Z"
   },
   {
    "duration": 16,
    "start_time": "2021-12-16T06:26:52.187Z"
   },
   {
    "duration": 26,
    "start_time": "2021-12-16T06:26:52.205Z"
   },
   {
    "duration": 124,
    "start_time": "2021-12-16T06:26:52.233Z"
   },
   {
    "duration": 63,
    "start_time": "2021-12-16T06:26:52.360Z"
   },
   {
    "duration": 12,
    "start_time": "2021-12-16T06:26:52.425Z"
   },
   {
    "duration": 18,
    "start_time": "2021-12-16T06:26:52.439Z"
   },
   {
    "duration": 10066,
    "start_time": "2021-12-16T06:26:52.459Z"
   },
   {
    "duration": 668,
    "start_time": "2021-12-16T06:27:01.860Z"
   },
   {
    "duration": 667,
    "start_time": "2021-12-16T06:27:01.864Z"
   },
   {
    "duration": 664,
    "start_time": "2021-12-16T06:27:01.869Z"
   },
   {
    "duration": 660,
    "start_time": "2021-12-16T06:27:01.876Z"
   },
   {
    "duration": 651,
    "start_time": "2021-12-16T06:27:01.887Z"
   },
   {
    "duration": 611,
    "start_time": "2021-12-16T06:27:01.930Z"
   },
   {
    "duration": 604,
    "start_time": "2021-12-16T06:27:01.939Z"
   },
   {
    "duration": 602,
    "start_time": "2021-12-16T06:27:01.943Z"
   },
   {
    "duration": 5,
    "start_time": "2021-12-16T06:28:05.717Z"
   },
   {
    "duration": 557,
    "start_time": "2021-12-16T06:28:05.725Z"
   },
   {
    "duration": 11,
    "start_time": "2021-12-16T06:28:06.285Z"
   },
   {
    "duration": 29,
    "start_time": "2021-12-16T06:28:06.299Z"
   },
   {
    "duration": 8,
    "start_time": "2021-12-16T06:28:06.331Z"
   },
   {
    "duration": 139,
    "start_time": "2021-12-16T06:28:06.342Z"
   },
   {
    "duration": 11,
    "start_time": "2021-12-16T06:28:06.484Z"
   },
   {
    "duration": 41,
    "start_time": "2021-12-16T06:28:06.498Z"
   },
   {
    "duration": 8,
    "start_time": "2021-12-16T06:28:06.541Z"
   },
   {
    "duration": 76,
    "start_time": "2021-12-16T06:28:06.551Z"
   },
   {
    "duration": 9,
    "start_time": "2021-12-16T06:28:06.630Z"
   },
   {
    "duration": 26,
    "start_time": "2021-12-16T06:28:06.641Z"
   },
   {
    "duration": 6,
    "start_time": "2021-12-16T06:28:06.669Z"
   },
   {
    "duration": 89,
    "start_time": "2021-12-16T06:28:06.677Z"
   },
   {
    "duration": 11,
    "start_time": "2021-12-16T06:28:06.769Z"
   },
   {
    "duration": 11,
    "start_time": "2021-12-16T06:28:06.783Z"
   },
   {
    "duration": 32,
    "start_time": "2021-12-16T06:28:06.796Z"
   },
   {
    "duration": 17,
    "start_time": "2021-12-16T06:28:06.831Z"
   },
   {
    "duration": 15,
    "start_time": "2021-12-16T06:28:06.854Z"
   },
   {
    "duration": 13,
    "start_time": "2021-12-16T06:28:06.872Z"
   },
   {
    "duration": 8,
    "start_time": "2021-12-16T06:28:06.887Z"
   },
   {
    "duration": 9,
    "start_time": "2021-12-16T06:28:06.923Z"
   },
   {
    "duration": 106,
    "start_time": "2021-12-16T06:28:06.935Z"
   },
   {
    "duration": 94,
    "start_time": "2021-12-16T06:28:07.044Z"
   },
   {
    "duration": 22,
    "start_time": "2021-12-16T06:28:07.141Z"
   },
   {
    "duration": 5,
    "start_time": "2021-12-16T06:28:07.166Z"
   },
   {
    "duration": 384,
    "start_time": "2021-12-16T06:28:07.174Z"
   },
   {
    "duration": 83,
    "start_time": "2021-12-16T06:28:07.560Z"
   },
   {
    "duration": 36,
    "start_time": "2021-12-16T06:28:07.645Z"
   },
   {
    "duration": 4,
    "start_time": "2021-12-16T06:28:07.683Z"
   },
   {
    "duration": 66,
    "start_time": "2021-12-16T06:28:07.690Z"
   },
   {
    "duration": 23,
    "start_time": "2021-12-16T06:28:07.759Z"
   },
   {
    "duration": 86,
    "start_time": "2021-12-16T06:28:07.785Z"
   },
   {
    "duration": 18,
    "start_time": "2021-12-16T06:28:07.873Z"
   },
   {
    "duration": 34,
    "start_time": "2021-12-16T06:28:07.893Z"
   },
   {
    "duration": 32,
    "start_time": "2021-12-16T06:28:07.930Z"
   },
   {
    "duration": 9,
    "start_time": "2021-12-16T06:28:07.964Z"
   },
   {
    "duration": 49,
    "start_time": "2021-12-16T06:28:07.976Z"
   },
   {
    "duration": 10,
    "start_time": "2021-12-16T06:28:08.027Z"
   },
   {
    "duration": 10,
    "start_time": "2021-12-16T06:28:08.040Z"
   },
   {
    "duration": 122,
    "start_time": "2021-12-16T06:28:08.052Z"
   },
   {
    "duration": 58,
    "start_time": "2021-12-16T06:28:08.176Z"
   },
   {
    "duration": 13,
    "start_time": "2021-12-16T06:28:08.237Z"
   },
   {
    "duration": 9,
    "start_time": "2021-12-16T06:28:08.252Z"
   },
   {
    "duration": 1261,
    "start_time": "2021-12-16T06:28:08.263Z"
   },
   {
    "duration": 45,
    "start_time": "2021-12-16T06:28:09.526Z"
   },
   {
    "duration": 12,
    "start_time": "2021-12-16T06:28:09.574Z"
   },
   {
    "duration": 8,
    "start_time": "2021-12-16T06:28:09.588Z"
   },
   {
    "duration": 9750,
    "start_time": "2021-12-16T06:28:09.624Z"
   },
   {
    "duration": 625,
    "start_time": "2021-12-16T06:28:18.752Z"
   },
   {
    "duration": 617,
    "start_time": "2021-12-16T06:28:18.762Z"
   },
   {
    "duration": 600,
    "start_time": "2021-12-16T06:28:18.780Z"
   },
   {
    "duration": 510,
    "start_time": "2021-12-16T06:28:18.872Z"
   },
   {
    "duration": 4,
    "start_time": "2021-12-16T06:28:45.057Z"
   },
   {
    "duration": 521,
    "start_time": "2021-12-16T06:28:45.064Z"
   },
   {
    "duration": 11,
    "start_time": "2021-12-16T06:28:45.588Z"
   },
   {
    "duration": 30,
    "start_time": "2021-12-16T06:28:45.602Z"
   },
   {
    "duration": 5,
    "start_time": "2021-12-16T06:28:45.635Z"
   },
   {
    "duration": 119,
    "start_time": "2021-12-16T06:28:45.643Z"
   },
   {
    "duration": 11,
    "start_time": "2021-12-16T06:28:45.765Z"
   },
   {
    "duration": 29,
    "start_time": "2021-12-16T06:28:45.779Z"
   },
   {
    "duration": 6,
    "start_time": "2021-12-16T06:28:45.824Z"
   },
   {
    "duration": 60,
    "start_time": "2021-12-16T06:28:45.832Z"
   },
   {
    "duration": 31,
    "start_time": "2021-12-16T06:28:45.894Z"
   },
   {
    "duration": 19,
    "start_time": "2021-12-16T06:28:45.927Z"
   },
   {
    "duration": 4,
    "start_time": "2021-12-16T06:28:45.949Z"
   },
   {
    "duration": 85,
    "start_time": "2021-12-16T06:28:45.956Z"
   },
   {
    "duration": 11,
    "start_time": "2021-12-16T06:28:46.044Z"
   },
   {
    "duration": 13,
    "start_time": "2021-12-16T06:28:46.057Z"
   },
   {
    "duration": 15,
    "start_time": "2021-12-16T06:28:46.072Z"
   },
   {
    "duration": 36,
    "start_time": "2021-12-16T06:28:46.089Z"
   },
   {
    "duration": 15,
    "start_time": "2021-12-16T06:28:46.131Z"
   },
   {
    "duration": 15,
    "start_time": "2021-12-16T06:28:46.149Z"
   },
   {
    "duration": 20,
    "start_time": "2021-12-16T06:28:46.167Z"
   },
   {
    "duration": 18,
    "start_time": "2021-12-16T06:28:46.189Z"
   },
   {
    "duration": 101,
    "start_time": "2021-12-16T06:28:46.224Z"
   },
   {
    "duration": 84,
    "start_time": "2021-12-16T06:28:46.328Z"
   },
   {
    "duration": 28,
    "start_time": "2021-12-16T06:28:46.415Z"
   },
   {
    "duration": 7,
    "start_time": "2021-12-16T06:28:46.446Z"
   },
   {
    "duration": 407,
    "start_time": "2021-12-16T06:28:46.456Z"
   },
   {
    "duration": 81,
    "start_time": "2021-12-16T06:28:46.866Z"
   },
   {
    "duration": 35,
    "start_time": "2021-12-16T06:28:46.951Z"
   },
   {
    "duration": 4,
    "start_time": "2021-12-16T06:28:46.989Z"
   },
   {
    "duration": 65,
    "start_time": "2021-12-16T06:28:46.996Z"
   },
   {
    "duration": 24,
    "start_time": "2021-12-16T06:28:47.064Z"
   },
   {
    "duration": 89,
    "start_time": "2021-12-16T06:28:47.090Z"
   },
   {
    "duration": 16,
    "start_time": "2021-12-16T06:28:47.182Z"
   },
   {
    "duration": 33,
    "start_time": "2021-12-16T06:28:47.200Z"
   },
   {
    "duration": 32,
    "start_time": "2021-12-16T06:28:47.235Z"
   },
   {
    "duration": 7,
    "start_time": "2021-12-16T06:28:47.270Z"
   },
   {
    "duration": 52,
    "start_time": "2021-12-16T06:28:47.279Z"
   },
   {
    "duration": 12,
    "start_time": "2021-12-16T06:28:47.334Z"
   },
   {
    "duration": 10,
    "start_time": "2021-12-16T06:28:47.349Z"
   },
   {
    "duration": 117,
    "start_time": "2021-12-16T06:28:47.361Z"
   },
   {
    "duration": 54,
    "start_time": "2021-12-16T06:28:47.480Z"
   },
   {
    "duration": 10,
    "start_time": "2021-12-16T06:28:47.537Z"
   },
   {
    "duration": 7,
    "start_time": "2021-12-16T06:28:47.549Z"
   },
   {
    "duration": 1213,
    "start_time": "2021-12-16T06:28:47.558Z"
   },
   {
    "duration": 61,
    "start_time": "2021-12-16T06:28:48.773Z"
   },
   {
    "duration": 13,
    "start_time": "2021-12-16T06:28:48.836Z"
   },
   {
    "duration": 12,
    "start_time": "2021-12-16T06:28:48.851Z"
   },
   {
    "duration": 1513,
    "start_time": "2021-12-16T06:28:48.865Z"
   },
   {
    "duration": 9,
    "start_time": "2021-12-16T06:28:50.381Z"
   },
   {
    "duration": 13,
    "start_time": "2021-12-16T06:28:50.392Z"
   },
   {
    "duration": 10,
    "start_time": "2021-12-16T06:28:50.424Z"
   },
   {
    "duration": 22,
    "start_time": "2021-12-16T06:28:50.437Z"
   },
   {
    "duration": 4,
    "start_time": "2021-12-16T07:41:38.655Z"
   },
   {
    "duration": 548,
    "start_time": "2021-12-16T07:41:38.662Z"
   },
   {
    "duration": 11,
    "start_time": "2021-12-16T07:41:39.213Z"
   },
   {
    "duration": 29,
    "start_time": "2021-12-16T07:41:39.227Z"
   },
   {
    "duration": 6,
    "start_time": "2021-12-16T07:41:39.258Z"
   },
   {
    "duration": 147,
    "start_time": "2021-12-16T07:41:39.266Z"
   },
   {
    "duration": 15,
    "start_time": "2021-12-16T07:41:39.417Z"
   },
   {
    "duration": 23,
    "start_time": "2021-12-16T07:41:39.435Z"
   },
   {
    "duration": 6,
    "start_time": "2021-12-16T07:41:39.460Z"
   },
   {
    "duration": 93,
    "start_time": "2021-12-16T07:41:39.469Z"
   },
   {
    "duration": 10,
    "start_time": "2021-12-16T07:41:39.565Z"
   },
   {
    "duration": 21,
    "start_time": "2021-12-16T07:41:39.577Z"
   },
   {
    "duration": 5,
    "start_time": "2021-12-16T07:41:39.624Z"
   },
   {
    "duration": 56,
    "start_time": "2021-12-16T07:41:39.631Z"
   },
   {
    "duration": 11,
    "start_time": "2021-12-16T07:41:39.690Z"
   },
   {
    "duration": 27,
    "start_time": "2021-12-16T07:41:39.703Z"
   },
   {
    "duration": 13,
    "start_time": "2021-12-16T07:41:39.732Z"
   },
   {
    "duration": 12,
    "start_time": "2021-12-16T07:41:39.747Z"
   },
   {
    "duration": 14,
    "start_time": "2021-12-16T07:41:39.764Z"
   },
   {
    "duration": 44,
    "start_time": "2021-12-16T07:41:39.781Z"
   },
   {
    "duration": 9,
    "start_time": "2021-12-16T07:41:39.827Z"
   },
   {
    "duration": 14,
    "start_time": "2021-12-16T07:41:39.839Z"
   },
   {
    "duration": 111,
    "start_time": "2021-12-16T07:41:39.856Z"
   },
   {
    "duration": 91,
    "start_time": "2021-12-16T07:41:39.969Z"
   },
   {
    "duration": 22,
    "start_time": "2021-12-16T07:41:40.062Z"
   },
   {
    "duration": 6,
    "start_time": "2021-12-16T07:41:40.087Z"
   },
   {
    "duration": 356,
    "start_time": "2021-12-16T07:41:40.096Z"
   },
   {
    "duration": 72,
    "start_time": "2021-12-16T07:41:40.455Z"
   },
   {
    "duration": 33,
    "start_time": "2021-12-16T07:41:40.529Z"
   },
   {
    "duration": 3,
    "start_time": "2021-12-16T07:41:40.564Z"
   },
   {
    "duration": 63,
    "start_time": "2021-12-16T07:41:40.569Z"
   },
   {
    "duration": 24,
    "start_time": "2021-12-16T07:41:40.635Z"
   },
   {
    "duration": 84,
    "start_time": "2021-12-16T07:41:40.662Z"
   },
   {
    "duration": 17,
    "start_time": "2021-12-16T07:41:40.749Z"
   },
   {
    "duration": 10,
    "start_time": "2021-12-16T07:41:40.768Z"
   },
   {
    "duration": 66,
    "start_time": "2021-12-16T07:41:40.780Z"
   },
   {
    "duration": 8,
    "start_time": "2021-12-16T07:41:40.849Z"
   },
   {
    "duration": 17,
    "start_time": "2021-12-16T07:41:40.860Z"
   },
   {
    "duration": 9,
    "start_time": "2021-12-16T07:41:40.880Z"
   },
   {
    "duration": 39,
    "start_time": "2021-12-16T07:41:40.891Z"
   },
   {
    "duration": 108,
    "start_time": "2021-12-16T07:41:40.932Z"
   },
   {
    "duration": 45,
    "start_time": "2021-12-16T07:41:41.042Z"
   },
   {
    "duration": 34,
    "start_time": "2021-12-16T07:41:41.090Z"
   },
   {
    "duration": 4,
    "start_time": "2021-12-16T07:41:41.127Z"
   },
   {
    "duration": 1231,
    "start_time": "2021-12-16T07:41:41.134Z"
   },
   {
    "duration": 64,
    "start_time": "2021-12-16T07:41:42.367Z"
   },
   {
    "duration": 10,
    "start_time": "2021-12-16T07:41:42.434Z"
   },
   {
    "duration": 9,
    "start_time": "2021-12-16T07:41:42.447Z"
   },
   {
    "duration": 1338,
    "start_time": "2021-12-16T07:41:42.458Z"
   },
   {
    "duration": 7,
    "start_time": "2021-12-16T07:41:43.798Z"
   },
   {
    "duration": 19,
    "start_time": "2021-12-16T07:41:43.807Z"
   },
   {
    "duration": 13,
    "start_time": "2021-12-16T07:41:43.828Z"
   },
   {
    "duration": 9,
    "start_time": "2021-12-16T07:41:43.843Z"
   },
   {
    "duration": 5,
    "start_time": "2021-12-16T07:42:14.608Z"
   },
   {
    "duration": 545,
    "start_time": "2021-12-16T07:42:14.617Z"
   },
   {
    "duration": 11,
    "start_time": "2021-12-16T07:42:15.166Z"
   },
   {
    "duration": 25,
    "start_time": "2021-12-16T07:42:15.180Z"
   },
   {
    "duration": 6,
    "start_time": "2021-12-16T07:42:15.207Z"
   },
   {
    "duration": 118,
    "start_time": "2021-12-16T07:42:15.215Z"
   },
   {
    "duration": 10,
    "start_time": "2021-12-16T07:42:15.337Z"
   },
   {
    "duration": 23,
    "start_time": "2021-12-16T07:42:15.350Z"
   },
   {
    "duration": 6,
    "start_time": "2021-12-16T07:42:15.376Z"
   },
   {
    "duration": 93,
    "start_time": "2021-12-16T07:42:15.384Z"
   },
   {
    "duration": 10,
    "start_time": "2021-12-16T07:42:15.479Z"
   },
   {
    "duration": 40,
    "start_time": "2021-12-16T07:42:15.491Z"
   },
   {
    "duration": 4,
    "start_time": "2021-12-16T07:42:15.534Z"
   },
   {
    "duration": 54,
    "start_time": "2021-12-16T07:42:15.540Z"
   },
   {
    "duration": 31,
    "start_time": "2021-12-16T07:42:15.596Z"
   },
   {
    "duration": 11,
    "start_time": "2021-12-16T07:42:15.630Z"
   },
   {
    "duration": 11,
    "start_time": "2021-12-16T07:42:15.644Z"
   },
   {
    "duration": 12,
    "start_time": "2021-12-16T07:42:15.657Z"
   },
   {
    "duration": 15,
    "start_time": "2021-12-16T07:42:15.674Z"
   },
   {
    "duration": 9,
    "start_time": "2021-12-16T07:42:15.724Z"
   },
   {
    "duration": 6,
    "start_time": "2021-12-16T07:42:15.735Z"
   },
   {
    "duration": 28,
    "start_time": "2021-12-16T07:42:15.744Z"
   },
   {
    "duration": 100,
    "start_time": "2021-12-16T07:42:15.774Z"
   },
   {
    "duration": 92,
    "start_time": "2021-12-16T07:42:15.876Z"
   },
   {
    "duration": 20,
    "start_time": "2021-12-16T07:42:15.970Z"
   },
   {
    "duration": 6,
    "start_time": "2021-12-16T07:42:15.992Z"
   },
   {
    "duration": 385,
    "start_time": "2021-12-16T07:42:16.000Z"
   },
   {
    "duration": 79,
    "start_time": "2021-12-16T07:42:16.387Z"
   },
   {
    "duration": 54,
    "start_time": "2021-12-16T07:42:16.469Z"
   },
   {
    "duration": 5,
    "start_time": "2021-12-16T07:42:16.525Z"
   },
   {
    "duration": 55,
    "start_time": "2021-12-16T07:42:16.533Z"
   },
   {
    "duration": 146,
    "start_time": "2021-12-16T07:42:16.591Z"
   },
   {
    "duration": 72,
    "start_time": "2021-12-16T07:42:16.740Z"
   },
   {
    "duration": 22,
    "start_time": "2021-12-16T07:42:16.815Z"
   },
   {
    "duration": 23,
    "start_time": "2021-12-16T07:42:16.840Z"
   },
   {
    "duration": 38,
    "start_time": "2021-12-16T07:42:16.865Z"
   },
   {
    "duration": 22,
    "start_time": "2021-12-16T07:42:16.906Z"
   },
   {
    "duration": 21,
    "start_time": "2021-12-16T07:42:16.930Z"
   },
   {
    "duration": 22,
    "start_time": "2021-12-16T07:42:16.953Z"
   },
   {
    "duration": 14,
    "start_time": "2021-12-16T07:42:16.977Z"
   },
   {
    "duration": 119,
    "start_time": "2021-12-16T07:42:16.993Z"
   },
   {
    "duration": 49,
    "start_time": "2021-12-16T07:42:17.115Z"
   },
   {
    "duration": 10,
    "start_time": "2021-12-16T07:42:17.167Z"
   },
   {
    "duration": 8,
    "start_time": "2021-12-16T07:42:17.180Z"
   },
   {
    "duration": 1236,
    "start_time": "2021-12-16T07:42:17.190Z"
   },
   {
    "duration": 45,
    "start_time": "2021-12-16T07:42:18.429Z"
   },
   {
    "duration": 12,
    "start_time": "2021-12-16T07:42:18.476Z"
   },
   {
    "duration": 34,
    "start_time": "2021-12-16T07:42:18.490Z"
   },
   {
    "duration": 1328,
    "start_time": "2021-12-16T07:42:18.526Z"
   },
   {
    "duration": 7,
    "start_time": "2021-12-16T07:42:19.857Z"
   },
   {
    "duration": 9,
    "start_time": "2021-12-16T07:42:19.866Z"
   },
   {
    "duration": 10,
    "start_time": "2021-12-16T07:42:19.877Z"
   },
   {
    "duration": 38,
    "start_time": "2021-12-16T07:42:19.889Z"
   },
   {
    "duration": 4,
    "start_time": "2021-12-16T07:47:43.642Z"
   },
   {
    "duration": 537,
    "start_time": "2021-12-16T07:47:43.649Z"
   },
   {
    "duration": 12,
    "start_time": "2021-12-16T07:47:44.189Z"
   },
   {
    "duration": 28,
    "start_time": "2021-12-16T07:47:44.203Z"
   },
   {
    "duration": 6,
    "start_time": "2021-12-16T07:47:44.234Z"
   },
   {
    "duration": 135,
    "start_time": "2021-12-16T07:47:44.243Z"
   },
   {
    "duration": 12,
    "start_time": "2021-12-16T07:47:44.382Z"
   },
   {
    "duration": 42,
    "start_time": "2021-12-16T07:47:44.397Z"
   },
   {
    "duration": 6,
    "start_time": "2021-12-16T07:47:44.442Z"
   },
   {
    "duration": 89,
    "start_time": "2021-12-16T07:47:44.450Z"
   },
   {
    "duration": 10,
    "start_time": "2021-12-16T07:47:44.542Z"
   },
   {
    "duration": 22,
    "start_time": "2021-12-16T07:47:44.554Z"
   },
   {
    "duration": 4,
    "start_time": "2021-12-16T07:47:44.579Z"
   },
   {
    "duration": 86,
    "start_time": "2021-12-16T07:47:44.586Z"
   },
   {
    "duration": 13,
    "start_time": "2021-12-16T07:47:44.674Z"
   },
   {
    "duration": 37,
    "start_time": "2021-12-16T07:47:44.689Z"
   },
   {
    "duration": 12,
    "start_time": "2021-12-16T07:47:44.728Z"
   },
   {
    "duration": 15,
    "start_time": "2021-12-16T07:47:44.742Z"
   },
   {
    "duration": 15,
    "start_time": "2021-12-16T07:47:44.763Z"
   },
   {
    "duration": 15,
    "start_time": "2021-12-16T07:47:44.781Z"
   },
   {
    "duration": 8,
    "start_time": "2021-12-16T07:47:44.824Z"
   },
   {
    "duration": 16,
    "start_time": "2021-12-16T07:47:44.834Z"
   },
   {
    "duration": 106,
    "start_time": "2021-12-16T07:47:44.852Z"
   },
   {
    "duration": 99,
    "start_time": "2021-12-16T07:47:44.960Z"
   },
   {
    "duration": 21,
    "start_time": "2021-12-16T07:47:45.061Z"
   },
   {
    "duration": 33,
    "start_time": "2021-12-16T07:47:45.085Z"
   },
   {
    "duration": 367,
    "start_time": "2021-12-16T07:47:45.121Z"
   },
   {
    "duration": 79,
    "start_time": "2021-12-16T07:47:45.491Z"
   },
   {
    "duration": 33,
    "start_time": "2021-12-16T07:47:45.572Z"
   },
   {
    "duration": 16,
    "start_time": "2021-12-16T07:47:45.608Z"
   },
   {
    "duration": 67,
    "start_time": "2021-12-16T07:47:45.627Z"
   },
   {
    "duration": 40,
    "start_time": "2021-12-16T07:47:45.697Z"
   },
   {
    "duration": 110,
    "start_time": "2021-12-16T07:47:45.741Z"
   },
   {
    "duration": 17,
    "start_time": "2021-12-16T07:47:45.854Z"
   },
   {
    "duration": 22,
    "start_time": "2021-12-16T07:47:45.874Z"
   },
   {
    "duration": 47,
    "start_time": "2021-12-16T07:47:45.899Z"
   },
   {
    "duration": 9,
    "start_time": "2021-12-16T07:47:45.949Z"
   },
   {
    "duration": 32,
    "start_time": "2021-12-16T07:47:45.960Z"
   },
   {
    "duration": 28,
    "start_time": "2021-12-16T07:47:45.994Z"
   },
   {
    "duration": 17,
    "start_time": "2021-12-16T07:47:46.025Z"
   },
   {
    "duration": 134,
    "start_time": "2021-12-16T07:47:46.045Z"
   },
   {
    "duration": 57,
    "start_time": "2021-12-16T07:47:46.181Z"
   },
   {
    "duration": 11,
    "start_time": "2021-12-16T07:47:46.241Z"
   },
   {
    "duration": 26,
    "start_time": "2021-12-16T07:47:46.254Z"
   },
   {
    "duration": 1294,
    "start_time": "2021-12-16T07:47:46.282Z"
   },
   {
    "duration": 60,
    "start_time": "2021-12-16T07:47:47.579Z"
   },
   {
    "duration": 12,
    "start_time": "2021-12-16T07:47:47.641Z"
   },
   {
    "duration": 29,
    "start_time": "2021-12-16T07:47:47.655Z"
   },
   {
    "duration": 1539,
    "start_time": "2021-12-16T07:47:47.687Z"
   },
   {
    "duration": 7,
    "start_time": "2021-12-16T07:47:49.229Z"
   },
   {
    "duration": 8,
    "start_time": "2021-12-16T07:47:49.239Z"
   },
   {
    "duration": 13,
    "start_time": "2021-12-16T07:47:49.249Z"
   },
   {
    "duration": 10,
    "start_time": "2021-12-16T07:47:49.265Z"
   },
   {
    "duration": 111,
    "start_time": "2021-12-16T18:38:11.784Z"
   },
   {
    "duration": 409,
    "start_time": "2021-12-16T18:42:09.311Z"
   },
   {
    "duration": 1423,
    "start_time": "2021-12-16T18:42:21.147Z"
   },
   {
    "duration": 558,
    "start_time": "2021-12-16T18:42:22.572Z"
   },
   {
    "duration": 20,
    "start_time": "2021-12-16T18:42:23.134Z"
   },
   {
    "duration": 39,
    "start_time": "2021-12-16T18:42:23.158Z"
   },
   {
    "duration": 8,
    "start_time": "2021-12-16T18:42:23.200Z"
   },
   {
    "duration": 164,
    "start_time": "2021-12-16T18:42:23.211Z"
   },
   {
    "duration": 12,
    "start_time": "2021-12-16T18:42:23.378Z"
   },
   {
    "duration": 45,
    "start_time": "2021-12-16T18:42:23.394Z"
   },
   {
    "duration": 20,
    "start_time": "2021-12-16T18:42:23.443Z"
   },
   {
    "duration": 109,
    "start_time": "2021-12-16T18:42:23.466Z"
   },
   {
    "duration": 14,
    "start_time": "2021-12-16T18:42:23.578Z"
   },
   {
    "duration": 31,
    "start_time": "2021-12-16T18:42:23.595Z"
   },
   {
    "duration": 15,
    "start_time": "2021-12-16T18:42:23.629Z"
   },
   {
    "duration": 100,
    "start_time": "2021-12-16T18:42:23.661Z"
   },
   {
    "duration": 13,
    "start_time": "2021-12-16T18:42:23.763Z"
   },
   {
    "duration": 32,
    "start_time": "2021-12-16T18:42:23.778Z"
   },
   {
    "duration": 18,
    "start_time": "2021-12-16T18:42:23.812Z"
   },
   {
    "duration": 13,
    "start_time": "2021-12-16T18:42:23.832Z"
   },
   {
    "duration": 31,
    "start_time": "2021-12-16T18:42:23.847Z"
   },
   {
    "duration": 23,
    "start_time": "2021-12-16T18:42:23.880Z"
   },
   {
    "duration": 13,
    "start_time": "2021-12-16T18:42:23.905Z"
   },
   {
    "duration": 24,
    "start_time": "2021-12-16T18:42:23.920Z"
   },
   {
    "duration": 100,
    "start_time": "2021-12-16T18:42:23.948Z"
   },
   {
    "duration": 95,
    "start_time": "2021-12-16T18:42:24.051Z"
   },
   {
    "duration": 36,
    "start_time": "2021-12-16T18:42:24.149Z"
   },
   {
    "duration": 5,
    "start_time": "2021-12-16T18:42:24.187Z"
   },
   {
    "duration": 393,
    "start_time": "2021-12-16T18:42:24.196Z"
   },
   {
    "duration": 82,
    "start_time": "2021-12-16T18:42:24.591Z"
   },
   {
    "duration": 37,
    "start_time": "2021-12-16T18:42:24.676Z"
   },
   {
    "duration": 5,
    "start_time": "2021-12-16T18:42:24.716Z"
   },
   {
    "duration": 73,
    "start_time": "2021-12-16T18:42:24.725Z"
   },
   {
    "duration": 26,
    "start_time": "2021-12-16T18:42:24.801Z"
   },
   {
    "duration": 90,
    "start_time": "2021-12-16T18:42:24.829Z"
   },
   {
    "duration": 39,
    "start_time": "2021-12-16T18:42:24.922Z"
   },
   {
    "duration": 34,
    "start_time": "2021-12-16T18:42:24.964Z"
   },
   {
    "duration": 45,
    "start_time": "2021-12-16T18:42:25.001Z"
   },
   {
    "duration": 12,
    "start_time": "2021-12-16T18:42:25.049Z"
   },
   {
    "duration": 34,
    "start_time": "2021-12-16T18:42:25.063Z"
   },
   {
    "duration": 31,
    "start_time": "2021-12-16T18:42:25.101Z"
   },
   {
    "duration": 18,
    "start_time": "2021-12-16T18:42:25.135Z"
   },
   {
    "duration": 281,
    "start_time": "2021-12-16T18:42:25.157Z"
   },
   {
    "duration": 89,
    "start_time": "2021-12-16T18:42:25.447Z"
   },
   {
    "duration": 66,
    "start_time": "2021-12-16T18:42:25.545Z"
   },
   {
    "duration": 91,
    "start_time": "2021-12-16T18:42:25.627Z"
   },
   {
    "duration": 1289,
    "start_time": "2021-12-16T18:42:27.214Z"
   },
   {
    "duration": 1291,
    "start_time": "2021-12-16T18:42:39.670Z"
   },
   {
    "duration": 1349,
    "start_time": "2021-12-16T18:53:46.367Z"
   },
   {
    "duration": 587,
    "start_time": "2021-12-16T18:53:47.718Z"
   },
   {
    "duration": 16,
    "start_time": "2021-12-16T18:53:48.308Z"
   },
   {
    "duration": 30,
    "start_time": "2021-12-16T18:53:48.327Z"
   },
   {
    "duration": 7,
    "start_time": "2021-12-16T18:53:48.359Z"
   },
   {
    "duration": 150,
    "start_time": "2021-12-16T18:53:48.368Z"
   },
   {
    "duration": 11,
    "start_time": "2021-12-16T18:53:48.521Z"
   },
   {
    "duration": 39,
    "start_time": "2021-12-16T18:53:48.536Z"
   },
   {
    "duration": 7,
    "start_time": "2021-12-16T18:53:48.579Z"
   },
   {
    "duration": 95,
    "start_time": "2021-12-16T18:53:48.588Z"
   },
   {
    "duration": 10,
    "start_time": "2021-12-16T18:53:48.685Z"
   },
   {
    "duration": 20,
    "start_time": "2021-12-16T18:53:48.698Z"
   },
   {
    "duration": 5,
    "start_time": "2021-12-16T18:53:48.721Z"
   },
   {
    "duration": 63,
    "start_time": "2021-12-16T18:53:48.760Z"
   },
   {
    "duration": 11,
    "start_time": "2021-12-16T18:53:48.826Z"
   },
   {
    "duration": 8,
    "start_time": "2021-12-16T18:53:48.860Z"
   },
   {
    "duration": 10,
    "start_time": "2021-12-16T18:53:48.870Z"
   },
   {
    "duration": 9,
    "start_time": "2021-12-16T18:53:48.883Z"
   },
   {
    "duration": 15,
    "start_time": "2021-12-16T18:53:48.894Z"
   },
   {
    "duration": 52,
    "start_time": "2021-12-16T18:53:48.912Z"
   },
   {
    "duration": 7,
    "start_time": "2021-12-16T18:53:48.967Z"
   },
   {
    "duration": 12,
    "start_time": "2021-12-16T18:53:48.976Z"
   },
   {
    "duration": 120,
    "start_time": "2021-12-16T18:53:48.996Z"
   },
   {
    "duration": 98,
    "start_time": "2021-12-16T18:53:49.120Z"
   },
   {
    "duration": 29,
    "start_time": "2021-12-16T18:53:49.220Z"
   },
   {
    "duration": 10,
    "start_time": "2021-12-16T18:53:49.251Z"
   },
   {
    "duration": 384,
    "start_time": "2021-12-16T18:53:49.263Z"
   },
   {
    "duration": 70,
    "start_time": "2021-12-16T18:53:49.650Z"
   },
   {
    "duration": 60,
    "start_time": "2021-12-16T18:53:49.723Z"
   },
   {
    "duration": 4,
    "start_time": "2021-12-16T18:53:49.786Z"
   },
   {
    "duration": 41,
    "start_time": "2021-12-16T18:53:49.793Z"
   },
   {
    "duration": 26,
    "start_time": "2021-12-16T18:53:49.860Z"
   },
   {
    "duration": 87,
    "start_time": "2021-12-16T18:53:49.889Z"
   },
   {
    "duration": 17,
    "start_time": "2021-12-16T18:53:49.979Z"
   },
   {
    "duration": 19,
    "start_time": "2021-12-16T18:53:49.999Z"
   },
   {
    "duration": 69,
    "start_time": "2021-12-16T18:53:50.020Z"
   },
   {
    "duration": 9,
    "start_time": "2021-12-16T18:53:50.092Z"
   },
   {
    "duration": 19,
    "start_time": "2021-12-16T18:53:50.104Z"
   },
   {
    "duration": 9,
    "start_time": "2021-12-16T18:53:50.125Z"
   },
   {
    "duration": 14,
    "start_time": "2021-12-16T18:53:50.161Z"
   },
   {
    "duration": 191,
    "start_time": "2021-12-16T18:53:50.178Z"
   },
   {
    "duration": 45,
    "start_time": "2021-12-16T18:53:50.371Z"
   },
   {
    "duration": 12,
    "start_time": "2021-12-16T18:53:50.418Z"
   },
   {
    "duration": 3,
    "start_time": "2021-12-16T18:53:50.460Z"
   },
   {
    "duration": 1408,
    "start_time": "2021-12-16T18:53:50.465Z"
   },
   {
    "duration": 46,
    "start_time": "2021-12-16T18:53:51.875Z"
   },
   {
    "duration": 36,
    "start_time": "2021-12-16T18:53:51.923Z"
   },
   {
    "duration": 4,
    "start_time": "2021-12-16T18:53:51.961Z"
   },
   {
    "duration": 1452,
    "start_time": "2021-12-16T18:53:51.972Z"
   },
   {
    "duration": 8,
    "start_time": "2021-12-16T18:53:53.426Z"
   },
   {
    "duration": 28,
    "start_time": "2021-12-16T18:53:53.436Z"
   },
   {
    "duration": 15,
    "start_time": "2021-12-16T18:53:53.467Z"
   },
   {
    "duration": 12,
    "start_time": "2021-12-16T18:53:53.484Z"
   },
   {
    "duration": 17,
    "start_time": "2021-12-16T18:54:25.895Z"
   },
   {
    "duration": 18,
    "start_time": "2021-12-16T18:55:46.832Z"
   },
   {
    "duration": 21,
    "start_time": "2021-12-16T18:55:57.313Z"
   },
   {
    "duration": 19,
    "start_time": "2021-12-16T18:56:02.934Z"
   },
   {
    "duration": 21,
    "start_time": "2021-12-16T18:56:06.877Z"
   },
   {
    "duration": 24,
    "start_time": "2021-12-16T18:57:19.976Z"
   },
   {
    "duration": 26,
    "start_time": "2021-12-16T18:57:27.383Z"
   },
   {
    "duration": 26,
    "start_time": "2021-12-16T18:57:34.441Z"
   },
   {
    "duration": 21,
    "start_time": "2021-12-16T18:58:03.423Z"
   },
   {
    "duration": 21,
    "start_time": "2021-12-16T18:58:06.775Z"
   },
   {
    "duration": 22,
    "start_time": "2021-12-16T18:58:09.668Z"
   },
   {
    "duration": 22,
    "start_time": "2021-12-16T18:58:14.207Z"
   },
   {
    "duration": 23,
    "start_time": "2021-12-16T18:58:16.323Z"
   },
   {
    "duration": 29,
    "start_time": "2021-12-16T18:58:17.976Z"
   },
   {
    "duration": 25,
    "start_time": "2021-12-16T18:58:25.093Z"
   },
   {
    "duration": 21,
    "start_time": "2021-12-16T18:58:45.006Z"
   },
   {
    "duration": 22,
    "start_time": "2021-12-16T18:58:47.339Z"
   },
   {
    "duration": 26,
    "start_time": "2021-12-16T18:58:49.751Z"
   },
   {
    "duration": 22,
    "start_time": "2021-12-16T18:58:51.484Z"
   },
   {
    "duration": 26,
    "start_time": "2021-12-16T18:58:52.955Z"
   },
   {
    "duration": 1020,
    "start_time": "2021-12-22T08:49:19.127Z"
   },
   {
    "duration": 463,
    "start_time": "2021-12-22T08:49:20.149Z"
   },
   {
    "duration": 12,
    "start_time": "2021-12-22T08:49:20.614Z"
   },
   {
    "duration": 24,
    "start_time": "2021-12-22T08:49:20.628Z"
   },
   {
    "duration": 4,
    "start_time": "2021-12-22T08:49:20.654Z"
   },
   {
    "duration": 104,
    "start_time": "2021-12-22T08:49:20.660Z"
   },
   {
    "duration": 8,
    "start_time": "2021-12-22T08:49:20.766Z"
   },
   {
    "duration": 26,
    "start_time": "2021-12-22T08:49:20.777Z"
   },
   {
    "duration": 5,
    "start_time": "2021-12-22T08:49:20.805Z"
   },
   {
    "duration": 58,
    "start_time": "2021-12-22T08:49:20.811Z"
   },
   {
    "duration": 11,
    "start_time": "2021-12-22T08:49:20.891Z"
   },
   {
    "duration": 16,
    "start_time": "2021-12-22T08:49:20.905Z"
   },
   {
    "duration": 4,
    "start_time": "2021-12-22T08:49:20.923Z"
   },
   {
    "duration": 88,
    "start_time": "2021-12-22T08:49:20.929Z"
   },
   {
    "duration": 8,
    "start_time": "2021-12-22T08:49:21.019Z"
   },
   {
    "duration": 7,
    "start_time": "2021-12-22T08:49:21.029Z"
   },
   {
    "duration": 8,
    "start_time": "2021-12-22T08:49:21.038Z"
   },
   {
    "duration": 8,
    "start_time": "2021-12-22T08:49:21.048Z"
   },
   {
    "duration": 36,
    "start_time": "2021-12-22T08:49:21.057Z"
   },
   {
    "duration": 10,
    "start_time": "2021-12-22T08:49:21.095Z"
   },
   {
    "duration": 7,
    "start_time": "2021-12-22T08:49:21.107Z"
   },
   {
    "duration": 10,
    "start_time": "2021-12-22T08:49:21.116Z"
   },
   {
    "duration": 81,
    "start_time": "2021-12-22T08:49:21.131Z"
   },
   {
    "duration": 63,
    "start_time": "2021-12-22T08:49:21.215Z"
   },
   {
    "duration": 24,
    "start_time": "2021-12-22T08:49:21.280Z"
   },
   {
    "duration": 4,
    "start_time": "2021-12-22T08:49:21.306Z"
   },
   {
    "duration": 270,
    "start_time": "2021-12-22T08:49:21.311Z"
   },
   {
    "duration": 50,
    "start_time": "2021-12-22T08:49:21.583Z"
   },
   {
    "duration": 22,
    "start_time": "2021-12-22T08:49:21.635Z"
   },
   {
    "duration": 2,
    "start_time": "2021-12-22T08:49:21.659Z"
   },
   {
    "duration": 51,
    "start_time": "2021-12-22T08:49:21.663Z"
   },
   {
    "duration": 15,
    "start_time": "2021-12-22T08:49:21.716Z"
   },
   {
    "duration": 38,
    "start_time": "2021-12-22T08:49:21.733Z"
   },
   {
    "duration": 29,
    "start_time": "2021-12-22T08:49:21.772Z"
   },
   {
    "duration": 7,
    "start_time": "2021-12-22T08:49:21.803Z"
   },
   {
    "duration": 22,
    "start_time": "2021-12-22T08:49:21.812Z"
   },
   {
    "duration": 6,
    "start_time": "2021-12-22T08:49:21.836Z"
   },
   {
    "duration": 48,
    "start_time": "2021-12-22T08:49:21.844Z"
   },
   {
    "duration": 5,
    "start_time": "2021-12-22T08:49:21.894Z"
   },
   {
    "duration": 7,
    "start_time": "2021-12-22T08:49:21.901Z"
   },
   {
    "duration": 83,
    "start_time": "2021-12-22T08:49:21.910Z"
   },
   {
    "duration": 30,
    "start_time": "2021-12-22T08:49:21.995Z"
   },
   {
    "duration": 10,
    "start_time": "2021-12-22T08:49:22.027Z"
   },
   {
    "duration": 4,
    "start_time": "2021-12-22T08:49:22.039Z"
   },
   {
    "duration": 862,
    "start_time": "2021-12-22T08:49:22.045Z"
   },
   {
    "duration": 29,
    "start_time": "2021-12-22T08:49:22.909Z"
   },
   {
    "duration": 7,
    "start_time": "2021-12-22T08:49:22.940Z"
   },
   {
    "duration": 3,
    "start_time": "2021-12-22T08:49:22.948Z"
   },
   {
    "duration": 912,
    "start_time": "2021-12-22T08:49:22.953Z"
   },
   {
    "duration": 5,
    "start_time": "2021-12-22T08:49:23.867Z"
   },
   {
    "duration": 18,
    "start_time": "2021-12-22T08:49:23.874Z"
   },
   {
    "duration": 7,
    "start_time": "2021-12-22T08:49:23.893Z"
   },
   {
    "duration": 6,
    "start_time": "2021-12-22T08:49:23.902Z"
   }
  ],
  "kernelspec": {
   "display_name": "Python 3 (ipykernel)",
   "language": "python",
   "name": "python3"
  },
  "language_info": {
   "codemirror_mode": {
    "name": "ipython",
    "version": 3
   },
   "file_extension": ".py",
   "mimetype": "text/x-python",
   "name": "python",
   "nbconvert_exporter": "python",
   "pygments_lexer": "ipython3",
   "version": "3.9.7"
  },
  "toc": {
   "base_numbering": 1,
   "nav_menu": {},
   "number_sections": true,
   "sideBar": true,
   "skip_h1_title": true,
   "title_cell": "Table of Contents",
   "title_sidebar": "Contents",
   "toc_cell": false,
   "toc_position": {},
   "toc_section_display": true,
   "toc_window_display": false
  }
 },
 "nbformat": 4,
 "nbformat_minor": 2
}
