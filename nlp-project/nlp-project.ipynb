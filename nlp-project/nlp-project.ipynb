{
 "cells": [
  {
   "cell_type": "markdown",
   "metadata": {},
   "source": [
    "# Проект для «Викишоп»"
   ]
  },
  {
   "cell_type": "markdown",
   "metadata": {},
   "source": [
    "Интернет-магазин «Викишоп» запускает новый сервис. Теперь пользователи могут редактировать и дополнять описания товаров, как в вики-сообществах. То есть клиенты предлагают свои правки и комментируют изменения других. Магазин обратился к нам, чтобы создать инструмент, который будет искать токсичные комментарии и отправлять их на модерацию. \n",
    "\n",
    "**Цель:** обучить модель классифицировать комментарии на позитивные и негативные. В нашем распоряжении набор данных с разметкой о токсичности правок.\n",
    "\n",
    "Руководство магазина требует от нас построить модель со значением метрики качества *F1* не меньше 0.75. \n",
    "\n",
    "**Задачи:**\n",
    "\n",
    "1. Загрузить и подготовить данные.\n",
    "2. Обучить разные модели. \n",
    "3. Сделать выводы.\n",
    "\n",
    "**Описание данных**\n",
    "\n",
    "Данные находятся в файле `toxic_comments.csv`. Столбец *text* в нём содержит текст комментария, а *toxic* — целевой признак."
   ]
  },
  {
   "cell_type": "markdown",
   "metadata": {
    "toc": true
   },
   "source": [
    "<h1>Содержание<span class=\"tocSkip\"></span></h1>\n",
    "<a href=\"#Подготовка\" data-toc-modified-id=\"Подготовка-1\"><span class=\"toc-item-num\">1&nbsp;&nbsp;</span>Подготовка</a></span></li><li><span><a href=\"#Обучение\" data-toc-modified-id=\"Обучение-2\"><span class=\"toc-item-num\">2&nbsp;&nbsp;</span>Обучение</a></span><ul class=\"toc-item\"><li><span><a href=\"#Модель-логистической-регрессии\" data-toc-modified-id=\"Модель-логистической-регрессии-2.1\"><span class=\"toc-item-num\">2.1&nbsp;&nbsp;</span>Модель логистической регрессии</a></span></li><li><span><a href=\"#Модель-решающего-дерева\" data-toc-modified-id=\"Модель-решающего-дерева-2.2\"><span class=\"toc-item-num\">2.2&nbsp;&nbsp;</span>Модель решающего дерева</a></span></li><li><span><a href=\"#Модель-случайного-леса\" data-toc-modified-id=\"Модель-случайного-леса-2.3\"><span class=\"toc-item-num\">2.3&nbsp;&nbsp;</span>Модель случайного леса</a></span></li><li><span><a href=\"#Модель-градиентного-бустинга\" data-toc-modified-id=\"Модель-градиентного-бустинга-2.4\"><span class=\"toc-item-num\">2.4&nbsp;&nbsp;</span>Модель градиентного бустинга</a></span></li></ul></li><li><span><a href=\"#Выводы\" data-toc-modified-id=\"Выводы-3\"><span class=\"toc-item-num\">3&nbsp;&nbsp;</span>Выводы</a></span></li>"
   ]
  },
  {
   "cell_type": "markdown",
   "metadata": {},
   "source": [
    "## Подготовка"
   ]
  },
  {
   "cell_type": "code",
   "execution_count": 47,
   "metadata": {},
   "outputs": [],
   "source": [
    "# Импортируем необходимые библиотеки\n",
    "import numpy as np\n",
    "import pandas as pd\n",
    "from tqdm import tqdm\n",
    "from nltk.stem import WordNetLemmatizer \n",
    "from nltk.tokenize import word_tokenize\n",
    "from nltk.corpus import stopwords\n",
    "from nltk.tokenize import sent_tokenize\n",
    "from sklearn.pipeline import Pipeline\n",
    "import re\n",
    "import nltk \n",
    "from nltk.corpus import stopwords as nltk_stopwords\n",
    "from sklearn.feature_extraction.text import TfidfVectorizer\n",
    "from sklearn.feature_extraction.text import TfidfTransformer\n",
    "from sklearn.metrics import f1_score\n",
    "from sklearn.linear_model import LogisticRegression\n",
    "from sklearn.tree import DecisionTreeClassifier\n",
    "from sklearn.ensemble import RandomForestClassifier\n",
    "from xgboost import XGBClassifier\n",
    "from sklearn.model_selection import train_test_split, cross_val_score, GridSearchCV"
   ]
  },
  {
   "cell_type": "code",
   "execution_count": 48,
   "metadata": {},
   "outputs": [
    {
     "data": {
      "text/html": [
       "<div>\n",
       "<style scoped>\n",
       "    .dataframe tbody tr th:only-of-type {\n",
       "        vertical-align: middle;\n",
       "    }\n",
       "\n",
       "    .dataframe tbody tr th {\n",
       "        vertical-align: top;\n",
       "    }\n",
       "\n",
       "    .dataframe thead th {\n",
       "        text-align: right;\n",
       "    }\n",
       "</style>\n",
       "<table border=\"1\" class=\"dataframe\">\n",
       "  <thead>\n",
       "    <tr style=\"text-align: right;\">\n",
       "      <th></th>\n",
       "      <th>text</th>\n",
       "      <th>toxic</th>\n",
       "    </tr>\n",
       "  </thead>\n",
       "  <tbody>\n",
       "    <tr>\n",
       "      <th>0</th>\n",
       "      <td>Explanation\\nWhy the edits made under my usern...</td>\n",
       "      <td>0</td>\n",
       "    </tr>\n",
       "    <tr>\n",
       "      <th>1</th>\n",
       "      <td>D'aww! He matches this background colour I'm s...</td>\n",
       "      <td>0</td>\n",
       "    </tr>\n",
       "    <tr>\n",
       "      <th>2</th>\n",
       "      <td>Hey man, I'm really not trying to edit war. It...</td>\n",
       "      <td>0</td>\n",
       "    </tr>\n",
       "    <tr>\n",
       "      <th>3</th>\n",
       "      <td>\"\\nMore\\nI can't make any real suggestions on ...</td>\n",
       "      <td>0</td>\n",
       "    </tr>\n",
       "    <tr>\n",
       "      <th>4</th>\n",
       "      <td>You, sir, are my hero. Any chance you remember...</td>\n",
       "      <td>0</td>\n",
       "    </tr>\n",
       "    <tr>\n",
       "      <th>5</th>\n",
       "      <td>\"\\n\\nCongratulations from me as well, use the ...</td>\n",
       "      <td>0</td>\n",
       "    </tr>\n",
       "    <tr>\n",
       "      <th>6</th>\n",
       "      <td>COCKSUCKER BEFORE YOU PISS AROUND ON MY WORK</td>\n",
       "      <td>1</td>\n",
       "    </tr>\n",
       "    <tr>\n",
       "      <th>7</th>\n",
       "      <td>Your vandalism to the Matt Shirvington article...</td>\n",
       "      <td>0</td>\n",
       "    </tr>\n",
       "    <tr>\n",
       "      <th>8</th>\n",
       "      <td>Sorry if the word 'nonsense' was offensive to ...</td>\n",
       "      <td>0</td>\n",
       "    </tr>\n",
       "    <tr>\n",
       "      <th>9</th>\n",
       "      <td>alignment on this subject and which are contra...</td>\n",
       "      <td>0</td>\n",
       "    </tr>\n",
       "  </tbody>\n",
       "</table>\n",
       "</div>"
      ],
      "text/plain": [
       "                                                text  toxic\n",
       "0  Explanation\\nWhy the edits made under my usern...      0\n",
       "1  D'aww! He matches this background colour I'm s...      0\n",
       "2  Hey man, I'm really not trying to edit war. It...      0\n",
       "3  \"\\nMore\\nI can't make any real suggestions on ...      0\n",
       "4  You, sir, are my hero. Any chance you remember...      0\n",
       "5  \"\\n\\nCongratulations from me as well, use the ...      0\n",
       "6       COCKSUCKER BEFORE YOU PISS AROUND ON MY WORK      1\n",
       "7  Your vandalism to the Matt Shirvington article...      0\n",
       "8  Sorry if the word 'nonsense' was offensive to ...      0\n",
       "9  alignment on this subject and which are contra...      0"
      ]
     },
     "execution_count": 48,
     "metadata": {},
     "output_type": "execute_result"
    }
   ],
   "source": [
    "# Загрузим данные и посмотрим на первые 10 строк\n",
    "df = pd.read_csv('/datasets/toxic_comments.csv')\n",
    "df.head(10)"
   ]
  },
  {
   "cell_type": "code",
   "execution_count": 49,
   "metadata": {},
   "outputs": [
    {
     "name": "stdout",
     "output_type": "stream",
     "text": [
      "Количество строк в таблице составляет 159571\n"
     ]
    }
   ],
   "source": [
    "print('Количество строк в таблице составляет', df.shape[0])"
   ]
  },
  {
   "cell_type": "code",
   "execution_count": 50,
   "metadata": {},
   "outputs": [
    {
     "data": {
      "text/plain": [
       "text     0\n",
       "toxic    0\n",
       "dtype: int64"
      ]
     },
     "execution_count": 50,
     "metadata": {},
     "output_type": "execute_result"
    }
   ],
   "source": [
    "# Проверим данные на наличие пропусков\n",
    "df.isna().sum()"
   ]
  },
  {
   "cell_type": "markdown",
   "metadata": {},
   "source": [
    "Пропусков в данных нет. Проверим далее на наличие дубликатов."
   ]
  },
  {
   "cell_type": "code",
   "execution_count": 51,
   "metadata": {},
   "outputs": [
    {
     "name": "stdout",
     "output_type": "stream",
     "text": [
      "Количество дубликатов: 0\n"
     ]
    }
   ],
   "source": [
    "print('Количество дубликатов:', df.duplicated().sum())"
   ]
  },
  {
   "cell_type": "markdown",
   "metadata": {},
   "source": [
    "Займемся предобработкой текста. Начнем с приведения символов к нижнему регистру."
   ]
  },
  {
   "cell_type": "code",
   "execution_count": 52,
   "metadata": {},
   "outputs": [],
   "source": [
    "df['text'] = df['text'].str.lower()"
   ]
  },
  {
   "cell_type": "markdown",
   "metadata": {},
   "source": [
    "Поскольку мы имеем дело с очень большим датасетом (159571 строк), то лемматизация будет проходить очень долго. Поэтому возьмем 50000 случайных строк."
   ]
  },
  {
   "cell_type": "code",
   "execution_count": 53,
   "metadata": {},
   "outputs": [],
   "source": [
    "df_new = df.sample(n=50000, random_state=12345).reset_index(drop=True)"
   ]
  },
  {
   "cell_type": "markdown",
   "metadata": {},
   "source": [
    "Создадим корпус постов. Преобразуем столбец text в тестовый формат."
   ]
  },
  {
   "cell_type": "code",
   "execution_count": 54,
   "metadata": {},
   "outputs": [],
   "source": [
    "corpus = df_new['text'].values.astype('U')"
   ]
  },
  {
   "cell_type": "markdown",
   "metadata": {},
   "source": [
    "Теперь очистим текст от ненужных символов, чтоб в дальнейшем они не мешали процессу обучения модели."
   ]
  },
  {
   "cell_type": "code",
   "execution_count": 55,
   "metadata": {},
   "outputs": [],
   "source": [
    "# Составим функцию для очистки текста\n",
    "def clear_text(text):\n",
    "    text = re.sub(r'[^a-zA-Z]', ' ', text)\n",
    "    text = text.split()\n",
    "    text = ' '.join(text)\n",
    "    \n",
    "    return text"
   ]
  },
  {
   "cell_type": "code",
   "execution_count": 56,
   "metadata": {},
   "outputs": [],
   "source": [
    "# Применим функцию к нашему тексту\n",
    "for i in range(len(corpus)):\n",
    "    corpus[i] = clear_text(corpus[i])"
   ]
  },
  {
   "cell_type": "code",
   "execution_count": 57,
   "metadata": {},
   "outputs": [],
   "source": [
    "# Составим функцию для токенизации и лемматизации текста\n",
    "def lemmatizered(text):\n",
    "    wnl = WordNetLemmatizer()\n",
    "    corpus_new = []\n",
    "    for sentence in text:\n",
    "        word_list = nltk.word_tokenize(sentence)\n",
    "        corpus_new.append(' '.join([wnl.lemmatize(w) for w in word_list]))\n",
    "    return corpus_new"
   ]
  },
  {
   "cell_type": "code",
   "execution_count": 58,
   "metadata": {},
   "outputs": [],
   "source": [
    "# Применим функцию к нашему корпусу\n",
    "lem = lemmatizered(corpus)"
   ]
  },
  {
   "cell_type": "code",
   "execution_count": 59,
   "metadata": {},
   "outputs": [
    {
     "data": {
      "text/html": [
       "<div>\n",
       "<style scoped>\n",
       "    .dataframe tbody tr th:only-of-type {\n",
       "        vertical-align: middle;\n",
       "    }\n",
       "\n",
       "    .dataframe tbody tr th {\n",
       "        vertical-align: top;\n",
       "    }\n",
       "\n",
       "    .dataframe thead th {\n",
       "        text-align: right;\n",
       "    }\n",
       "</style>\n",
       "<table border=\"1\" class=\"dataframe\">\n",
       "  <thead>\n",
       "    <tr style=\"text-align: right;\">\n",
       "      <th></th>\n",
       "      <th>text</th>\n",
       "      <th>toxic</th>\n",
       "      <th>lemm_text</th>\n",
       "    </tr>\n",
       "  </thead>\n",
       "  <tbody>\n",
       "    <tr>\n",
       "      <th>0</th>\n",
       "      <td>ahh shut the fuck up you douchebag sand nigger...</td>\n",
       "      <td>1</td>\n",
       "      <td>ahh shut the fuck up you douchebag sand nigger...</td>\n",
       "    </tr>\n",
       "    <tr>\n",
       "      <th>1</th>\n",
       "      <td>\"\\n\\nreply: there is no such thing as texas co...</td>\n",
       "      <td>0</td>\n",
       "      <td>reply there is no such thing a texas commerce ...</td>\n",
       "    </tr>\n",
       "    <tr>\n",
       "      <th>2</th>\n",
       "      <td>reply\\nhey, you could at least mention jasenov...</td>\n",
       "      <td>0</td>\n",
       "      <td>reply hey you could at least mention jasenovac...</td>\n",
       "    </tr>\n",
       "    <tr>\n",
       "      <th>3</th>\n",
       "      <td>thats fine, there is no deadline )   chi?</td>\n",
       "      <td>0</td>\n",
       "      <td>thats fine there is no deadline chi</td>\n",
       "    </tr>\n",
       "    <tr>\n",
       "      <th>4</th>\n",
       "      <td>\"\\n\\ndyk nomination of mustarabim\\n hello! you...</td>\n",
       "      <td>0</td>\n",
       "      <td>dyk nomination of mustarabim hello your submis...</td>\n",
       "    </tr>\n",
       "    <tr>\n",
       "      <th>5</th>\n",
       "      <td>\"\\n\\nsockpuppetry case\\n \\nyou have been accus...</td>\n",
       "      <td>0</td>\n",
       "      <td>sockpuppetry case you have been accused of soc...</td>\n",
       "    </tr>\n",
       "    <tr>\n",
       "      <th>6</th>\n",
       "      <td>judging by what i've just read in an article, ...</td>\n",
       "      <td>0</td>\n",
       "      <td>judging by what i ve just read in an article t...</td>\n",
       "    </tr>\n",
       "    <tr>\n",
       "      <th>7</th>\n",
       "      <td>todd and copper\\nin the first film they were l...</td>\n",
       "      <td>0</td>\n",
       "      <td>todd and copper in the first film they were li...</td>\n",
       "    </tr>\n",
       "    <tr>\n",
       "      <th>8</th>\n",
       "      <td>\"\\n\\n \\nyou have been blocked from editing for...</td>\n",
       "      <td>0</td>\n",
       "      <td>you have been blocked from editing for a perio...</td>\n",
       "    </tr>\n",
       "    <tr>\n",
       "      <th>9</th>\n",
       "      <td>| decline=can't find evidence of block either ...</td>\n",
       "      <td>0</td>\n",
       "      <td>decline can t find evidence of block either a ...</td>\n",
       "    </tr>\n",
       "  </tbody>\n",
       "</table>\n",
       "</div>"
      ],
      "text/plain": [
       "                                                text  toxic  \\\n",
       "0  ahh shut the fuck up you douchebag sand nigger...      1   \n",
       "1  \"\\n\\nreply: there is no such thing as texas co...      0   \n",
       "2  reply\\nhey, you could at least mention jasenov...      0   \n",
       "3          thats fine, there is no deadline )   chi?      0   \n",
       "4  \"\\n\\ndyk nomination of mustarabim\\n hello! you...      0   \n",
       "5  \"\\n\\nsockpuppetry case\\n \\nyou have been accus...      0   \n",
       "6  judging by what i've just read in an article, ...      0   \n",
       "7  todd and copper\\nin the first film they were l...      0   \n",
       "8  \"\\n\\n \\nyou have been blocked from editing for...      0   \n",
       "9  | decline=can't find evidence of block either ...      0   \n",
       "\n",
       "                                           lemm_text  \n",
       "0  ahh shut the fuck up you douchebag sand nigger...  \n",
       "1  reply there is no such thing a texas commerce ...  \n",
       "2  reply hey you could at least mention jasenovac...  \n",
       "3                thats fine there is no deadline chi  \n",
       "4  dyk nomination of mustarabim hello your submis...  \n",
       "5  sockpuppetry case you have been accused of soc...  \n",
       "6  judging by what i ve just read in an article t...  \n",
       "7  todd and copper in the first film they were li...  \n",
       "8  you have been blocked from editing for a perio...  \n",
       "9  decline can t find evidence of block either a ...  "
      ]
     },
     "execution_count": 59,
     "metadata": {},
     "output_type": "execute_result"
    }
   ],
   "source": [
    "# Добавим в исходную таблицу лемматизированный текст\n",
    "df_corpus = pd.DataFrame(lem)\n",
    "df_new['lemm_text'] = df_corpus[0]\n",
    "df_new.head(10)"
   ]
  },
  {
   "cell_type": "markdown",
   "metadata": {},
   "source": [
    "**Вывод**\n",
    "На первом этапе был загружен и обработан текст. В процессе предобработки текста было выбрано случайным образом 20000 строк для облегчения процесса лемматизации и дальнейшего обучения модели. Также была проведена очистка текста от ненужных символов, его токенизация и лемматизация. Для обучения моделей применим величины TF-IDF как признаки, позволяющие определить тональность текста."
   ]
  },
  {
   "cell_type": "markdown",
   "metadata": {},
   "source": [
    "## Обучение"
   ]
  },
  {
   "cell_type": "code",
   "execution_count": 60,
   "metadata": {},
   "outputs": [],
   "source": [
    "# Выделим фич и таргет\n",
    "features = df_new['lemm_text']\n",
    "target = df_new['toxic']"
   ]
  },
  {
   "cell_type": "code",
   "execution_count": 61,
   "metadata": {},
   "outputs": [],
   "source": [
    "# Разобьем исходные данные на обучающую и тестовую выборки\n",
    "features_train, features_test, target_train, target_test = train_test_split(\n",
    "    features, target, test_size=0.25, random_state=12345, stratify = df_new['toxic'])"
   ]
  },
  {
   "cell_type": "code",
   "execution_count": 62,
   "metadata": {},
   "outputs": [
    {
     "name": "stderr",
     "output_type": "stream",
     "text": [
      "[nltk_data] Downloading package stopwords to /home/jovyan/nltk_data...\n",
      "[nltk_data]   Package stopwords is already up-to-date!\n"
     ]
    }
   ],
   "source": [
    "# Выделим стоп-слова для применения TF-IDF \n",
    "nltk.download('stopwords')\n",
    "stopwords = set(nltk_stopwords.words('english'))\n",
    "# Преобразуем текст в векторы с помощью TfidfVectorizer\n",
    "count_tf_idf = TfidfVectorizer(stop_words=stopwords)\n",
    "tf_idf_model = count_tf_idf.fit(features_train)\n",
    "\n",
    "train_tfidf = count_tf_idf.transform(features_train)\n",
    "test_tfidf = count_tf_idf.transform(features_test)"
   ]
  },
  {
   "cell_type": "markdown",
   "metadata": {},
   "source": [
    "Для обучения будем использовать модели логистической регрессии, решающего дерева, случайного леса и градиентного бустинга."
   ]
  },
  {
   "cell_type": "markdown",
   "metadata": {},
   "source": [
    "### Модель логистической регрессии"
   ]
  },
  {
   "cell_type": "markdown",
   "metadata": {},
   "source": [
    "С помощью GridSearchCV найдем оптимальные гиперпараметры модели."
   ]
  },
  {
   "cell_type": "code",
   "execution_count": 63,
   "metadata": {},
   "outputs": [
    {
     "name": "stdout",
     "output_type": "stream",
     "text": [
      "CPU times: user 42.8 s, sys: 50 s, total: 1min 32s\n",
      "Wall time: 1min 32s\n"
     ]
    },
    {
     "data": {
      "text/plain": [
       "{'C': 10}"
      ]
     },
     "execution_count": 63,
     "metadata": {},
     "output_type": "execute_result"
    }
   ],
   "source": [
    "%%time\n",
    "\n",
    "lr = LogisticRegression(penalty='l2', class_weight='balanced',  solver='liblinear', random_state=12345)\n",
    "parameters = {'C': [0.001,0.01,0.1,1,10,100,1000]}\n",
    "lr_grid = GridSearchCV(lr, parameters, cv=3, scoring='f1')\n",
    "lr_grid.fit(train_tfidf, target_train)\n",
    "# Найдем оптимальные гиперпараметры\n",
    "lr_grid.best_params_"
   ]
  },
  {
   "cell_type": "markdown",
   "metadata": {},
   "source": [
    "Вычислим значение f1 на тестовой выборке при C = 10."
   ]
  },
  {
   "cell_type": "code",
   "execution_count": 64,
   "metadata": {},
   "outputs": [
    {
     "name": "stdout",
     "output_type": "stream",
     "text": [
      "Значение f1 при использовании модели логистической регрессии: 0.75\n",
      "CPU times: user 3.21 s, sys: 3.08 s, total: 6.29 s\n",
      "Wall time: 6.3 s\n"
     ]
    }
   ],
   "source": [
    "%%time\n",
    "\n",
    "lr = LogisticRegression(C=10, penalty='l2', class_weight='balanced',  solver='liblinear', random_state=12345)\n",
    "lr.fit(train_tfidf, target_train)\n",
    "predictions = lr.predict(test_tfidf)\n",
    "print('Значение f1 при использовании модели логистической регрессии:', round(f1_score(target_test, predictions), 2))"
   ]
  },
  {
   "cell_type": "markdown",
   "metadata": {},
   "source": [
    "### Модель решающего дерева"
   ]
  },
  {
   "cell_type": "markdown",
   "metadata": {},
   "source": [
    "Аналогично предыдущему пункту 2.1 найдем оптимальные гиперпараметры для модели решающего дерева."
   ]
  },
  {
   "cell_type": "code",
   "execution_count": 65,
   "metadata": {},
   "outputs": [
    {
     "name": "stdout",
     "output_type": "stream",
     "text": [
      "CPU times: user 49.2 s, sys: 0 ns, total: 49.2 s\n",
      "Wall time: 49.7 s\n"
     ]
    },
    {
     "data": {
      "text/plain": [
       "{'max_depth': 12}"
      ]
     },
     "execution_count": 65,
     "metadata": {},
     "output_type": "execute_result"
    }
   ],
   "source": [
    "%%time\n",
    "\n",
    "dtc = DecisionTreeClassifier(class_weight='balanced', random_state=12345)\n",
    "parameters = {'max_depth': range(1, 13, 1)}\n",
    "dtc_grid = GridSearchCV(dtc, parameters, cv=3, scoring='f1')\n",
    "dtc_grid.fit(train_tfidf, target_train)\n",
    "dtc_grid.best_params_"
   ]
  },
  {
   "cell_type": "markdown",
   "metadata": {},
   "source": [
    "Вычислим значение f1 на тестовой выборке при max_depth = 12."
   ]
  },
  {
   "cell_type": "code",
   "execution_count": 66,
   "metadata": {},
   "outputs": [
    {
     "name": "stdout",
     "output_type": "stream",
     "text": [
      "Значение f1 при использовании модели решающего дерева: 0.59\n",
      "CPU times: user 1.8 s, sys: 0 ns, total: 1.8 s\n",
      "Wall time: 1.81 s\n"
     ]
    }
   ],
   "source": [
    "%%time\n",
    "\n",
    "dtc = DecisionTreeClassifier(max_depth=12, class_weight='balanced', random_state=12345)\n",
    "dtc.fit(train_tfidf, target_train)\n",
    "predictions = dtc.predict(test_tfidf)\n",
    "print('Значение f1 при использовании модели решающего дерева:', round(f1_score(target_test, predictions), 2))"
   ]
  },
  {
   "cell_type": "markdown",
   "metadata": {},
   "source": [
    "### Модель случайного леса"
   ]
  },
  {
   "cell_type": "markdown",
   "metadata": {},
   "source": [
    "Найдем оптимальные гиперпараметры для модели случайного леса."
   ]
  },
  {
   "cell_type": "code",
   "execution_count": 67,
   "metadata": {},
   "outputs": [
    {
     "name": "stdout",
     "output_type": "stream",
     "text": [
      "CPU times: user 4min 6s, sys: 0 ns, total: 4min 6s\n",
      "Wall time: 4min 8s\n"
     ]
    },
    {
     "data": {
      "text/plain": [
       "{'max_depth': 9,\n",
       " 'min_samples_leaf': 3,\n",
       " 'min_samples_split': 2,\n",
       " 'n_estimators': 45}"
      ]
     },
     "execution_count": 67,
     "metadata": {},
     "output_type": "execute_result"
    }
   ],
   "source": [
    "%%time\n",
    "\n",
    "rfc = RandomForestClassifier(class_weight='balanced', random_state=12345)\n",
    "parameters = {'n_estimators': range(10, 50, 5),\n",
    "              'max_depth': range(1, 10, 2),\n",
    "              'min_samples_leaf': range(3, 5),\n",
    "              'min_samples_split': range(2, 6, 2)}\n",
    "rfc_grid = GridSearchCV(rfc, parameters, cv=3, scoring='f1')\n",
    "rfc_grid.fit(train_tfidf, target_train)\n",
    "rfc_grid.best_params_"
   ]
  },
  {
   "cell_type": "markdown",
   "metadata": {},
   "source": [
    " Вычислим значение f1 на тестовой выборке при max_depth = 9, min_samples_leaf = 3, min_samples_split = 2 и n_estimators = 45."
   ]
  },
  {
   "cell_type": "code",
   "execution_count": 68,
   "metadata": {},
   "outputs": [
    {
     "name": "stdout",
     "output_type": "stream",
     "text": [
      "Значение f1 при использовании модели случайного леса: 0.38\n",
      "CPU times: user 476 ms, sys: 0 ns, total: 476 ms\n",
      "Wall time: 486 ms\n"
     ]
    }
   ],
   "source": [
    "%%time\n",
    "\n",
    "rfc = RandomForestClassifier(max_depth=9, min_samples_leaf=3, min_samples_split=2, n_estimators=45, class_weight='balanced', random_state=12345) \n",
    "rfc.fit(train_tfidf, target_train)\n",
    "predictions = rfc.predict(test_tfidf)\n",
    "print('Значение f1 при использовании модели случайного леса:', round(f1_score(target_test, predictions), 2))"
   ]
  },
  {
   "cell_type": "markdown",
   "metadata": {},
   "source": [
    "### Модель градиентного бустинга"
   ]
  },
  {
   "cell_type": "markdown",
   "metadata": {},
   "source": [
    "Найдем оптимальные гиперпараметры для модели градиентного бустинга."
   ]
  },
  {
   "cell_type": "code",
   "execution_count": 69,
   "metadata": {},
   "outputs": [
    {
     "name": "stderr",
     "output_type": "stream",
     "text": [
      "/opt/conda/lib/python3.9/site-packages/xgboost/sklearn.py:1224: UserWarning: The use of label encoder in XGBClassifier is deprecated and will be removed in a future release. To remove this warning, do the following: 1) Pass option use_label_encoder=False when constructing XGBClassifier object; and 2) Encode your labels (y) as integers starting with 0, i.e. 0, 1, 2, ..., [num_class - 1].\n",
      "  warnings.warn(label_encoder_deprecation_msg, UserWarning)\n"
     ]
    },
    {
     "name": "stdout",
     "output_type": "stream",
     "text": [
      "[16:14:30] WARNING: ../src/learner.cc:1115: Starting in XGBoost 1.3.0, the default evaluation metric used with the objective 'binary:logistic' was changed from 'error' to 'logloss'. Explicitly set eval_metric if you'd like to restore the old behavior.\n"
     ]
    },
    {
     "name": "stderr",
     "output_type": "stream",
     "text": [
      "/opt/conda/lib/python3.9/site-packages/xgboost/sklearn.py:1224: UserWarning: The use of label encoder in XGBClassifier is deprecated and will be removed in a future release. To remove this warning, do the following: 1) Pass option use_label_encoder=False when constructing XGBClassifier object; and 2) Encode your labels (y) as integers starting with 0, i.e. 0, 1, 2, ..., [num_class - 1].\n",
      "  warnings.warn(label_encoder_deprecation_msg, UserWarning)\n"
     ]
    },
    {
     "name": "stdout",
     "output_type": "stream",
     "text": [
      "[16:14:33] WARNING: ../src/learner.cc:1115: Starting in XGBoost 1.3.0, the default evaluation metric used with the objective 'binary:logistic' was changed from 'error' to 'logloss'. Explicitly set eval_metric if you'd like to restore the old behavior.\n"
     ]
    },
    {
     "name": "stderr",
     "output_type": "stream",
     "text": [
      "/opt/conda/lib/python3.9/site-packages/xgboost/sklearn.py:1224: UserWarning: The use of label encoder in XGBClassifier is deprecated and will be removed in a future release. To remove this warning, do the following: 1) Pass option use_label_encoder=False when constructing XGBClassifier object; and 2) Encode your labels (y) as integers starting with 0, i.e. 0, 1, 2, ..., [num_class - 1].\n",
      "  warnings.warn(label_encoder_deprecation_msg, UserWarning)\n"
     ]
    },
    {
     "name": "stdout",
     "output_type": "stream",
     "text": [
      "[16:14:35] WARNING: ../src/learner.cc:1115: Starting in XGBoost 1.3.0, the default evaluation metric used with the objective 'binary:logistic' was changed from 'error' to 'logloss'. Explicitly set eval_metric if you'd like to restore the old behavior.\n"
     ]
    },
    {
     "name": "stderr",
     "output_type": "stream",
     "text": [
      "/opt/conda/lib/python3.9/site-packages/xgboost/sklearn.py:1224: UserWarning: The use of label encoder in XGBClassifier is deprecated and will be removed in a future release. To remove this warning, do the following: 1) Pass option use_label_encoder=False when constructing XGBClassifier object; and 2) Encode your labels (y) as integers starting with 0, i.e. 0, 1, 2, ..., [num_class - 1].\n",
      "  warnings.warn(label_encoder_deprecation_msg, UserWarning)\n"
     ]
    },
    {
     "name": "stdout",
     "output_type": "stream",
     "text": [
      "[16:14:38] WARNING: ../src/learner.cc:1115: Starting in XGBoost 1.3.0, the default evaluation metric used with the objective 'binary:logistic' was changed from 'error' to 'logloss'. Explicitly set eval_metric if you'd like to restore the old behavior.\n"
     ]
    },
    {
     "name": "stderr",
     "output_type": "stream",
     "text": [
      "/opt/conda/lib/python3.9/site-packages/xgboost/sklearn.py:1224: UserWarning: The use of label encoder in XGBClassifier is deprecated and will be removed in a future release. To remove this warning, do the following: 1) Pass option use_label_encoder=False when constructing XGBClassifier object; and 2) Encode your labels (y) as integers starting with 0, i.e. 0, 1, 2, ..., [num_class - 1].\n",
      "  warnings.warn(label_encoder_deprecation_msg, UserWarning)\n"
     ]
    },
    {
     "name": "stdout",
     "output_type": "stream",
     "text": [
      "[16:14:43] WARNING: ../src/learner.cc:1115: Starting in XGBoost 1.3.0, the default evaluation metric used with the objective 'binary:logistic' was changed from 'error' to 'logloss'. Explicitly set eval_metric if you'd like to restore the old behavior.\n"
     ]
    },
    {
     "name": "stderr",
     "output_type": "stream",
     "text": [
      "/opt/conda/lib/python3.9/site-packages/xgboost/sklearn.py:1224: UserWarning: The use of label encoder in XGBClassifier is deprecated and will be removed in a future release. To remove this warning, do the following: 1) Pass option use_label_encoder=False when constructing XGBClassifier object; and 2) Encode your labels (y) as integers starting with 0, i.e. 0, 1, 2, ..., [num_class - 1].\n",
      "  warnings.warn(label_encoder_deprecation_msg, UserWarning)\n"
     ]
    },
    {
     "name": "stdout",
     "output_type": "stream",
     "text": [
      "[16:14:48] WARNING: ../src/learner.cc:1115: Starting in XGBoost 1.3.0, the default evaluation metric used with the objective 'binary:logistic' was changed from 'error' to 'logloss'. Explicitly set eval_metric if you'd like to restore the old behavior.\n"
     ]
    },
    {
     "name": "stderr",
     "output_type": "stream",
     "text": [
      "/opt/conda/lib/python3.9/site-packages/xgboost/sklearn.py:1224: UserWarning: The use of label encoder in XGBClassifier is deprecated and will be removed in a future release. To remove this warning, do the following: 1) Pass option use_label_encoder=False when constructing XGBClassifier object; and 2) Encode your labels (y) as integers starting with 0, i.e. 0, 1, 2, ..., [num_class - 1].\n",
      "  warnings.warn(label_encoder_deprecation_msg, UserWarning)\n"
     ]
    },
    {
     "name": "stdout",
     "output_type": "stream",
     "text": [
      "[16:14:53] WARNING: ../src/learner.cc:1115: Starting in XGBoost 1.3.0, the default evaluation metric used with the objective 'binary:logistic' was changed from 'error' to 'logloss'. Explicitly set eval_metric if you'd like to restore the old behavior.\n"
     ]
    },
    {
     "name": "stderr",
     "output_type": "stream",
     "text": [
      "/opt/conda/lib/python3.9/site-packages/xgboost/sklearn.py:1224: UserWarning: The use of label encoder in XGBClassifier is deprecated and will be removed in a future release. To remove this warning, do the following: 1) Pass option use_label_encoder=False when constructing XGBClassifier object; and 2) Encode your labels (y) as integers starting with 0, i.e. 0, 1, 2, ..., [num_class - 1].\n",
      "  warnings.warn(label_encoder_deprecation_msg, UserWarning)\n"
     ]
    },
    {
     "name": "stdout",
     "output_type": "stream",
     "text": [
      "[16:15:00] WARNING: ../src/learner.cc:1115: Starting in XGBoost 1.3.0, the default evaluation metric used with the objective 'binary:logistic' was changed from 'error' to 'logloss'. Explicitly set eval_metric if you'd like to restore the old behavior.\n"
     ]
    },
    {
     "name": "stderr",
     "output_type": "stream",
     "text": [
      "/opt/conda/lib/python3.9/site-packages/xgboost/sklearn.py:1224: UserWarning: The use of label encoder in XGBClassifier is deprecated and will be removed in a future release. To remove this warning, do the following: 1) Pass option use_label_encoder=False when constructing XGBClassifier object; and 2) Encode your labels (y) as integers starting with 0, i.e. 0, 1, 2, ..., [num_class - 1].\n",
      "  warnings.warn(label_encoder_deprecation_msg, UserWarning)\n"
     ]
    },
    {
     "name": "stdout",
     "output_type": "stream",
     "text": [
      "[16:15:08] WARNING: ../src/learner.cc:1115: Starting in XGBoost 1.3.0, the default evaluation metric used with the objective 'binary:logistic' was changed from 'error' to 'logloss'. Explicitly set eval_metric if you'd like to restore the old behavior.\n"
     ]
    },
    {
     "name": "stderr",
     "output_type": "stream",
     "text": [
      "/opt/conda/lib/python3.9/site-packages/xgboost/sklearn.py:1224: UserWarning: The use of label encoder in XGBClassifier is deprecated and will be removed in a future release. To remove this warning, do the following: 1) Pass option use_label_encoder=False when constructing XGBClassifier object; and 2) Encode your labels (y) as integers starting with 0, i.e. 0, 1, 2, ..., [num_class - 1].\n",
      "  warnings.warn(label_encoder_deprecation_msg, UserWarning)\n"
     ]
    },
    {
     "name": "stdout",
     "output_type": "stream",
     "text": [
      "[16:15:15] WARNING: ../src/learner.cc:1115: Starting in XGBoost 1.3.0, the default evaluation metric used with the objective 'binary:logistic' was changed from 'error' to 'logloss'. Explicitly set eval_metric if you'd like to restore the old behavior.\n"
     ]
    },
    {
     "name": "stderr",
     "output_type": "stream",
     "text": [
      "/opt/conda/lib/python3.9/site-packages/xgboost/sklearn.py:1224: UserWarning: The use of label encoder in XGBClassifier is deprecated and will be removed in a future release. To remove this warning, do the following: 1) Pass option use_label_encoder=False when constructing XGBClassifier object; and 2) Encode your labels (y) as integers starting with 0, i.e. 0, 1, 2, ..., [num_class - 1].\n",
      "  warnings.warn(label_encoder_deprecation_msg, UserWarning)\n"
     ]
    },
    {
     "name": "stdout",
     "output_type": "stream",
     "text": [
      "[16:15:25] WARNING: ../src/learner.cc:1115: Starting in XGBoost 1.3.0, the default evaluation metric used with the objective 'binary:logistic' was changed from 'error' to 'logloss'. Explicitly set eval_metric if you'd like to restore the old behavior.\n"
     ]
    },
    {
     "name": "stderr",
     "output_type": "stream",
     "text": [
      "/opt/conda/lib/python3.9/site-packages/xgboost/sklearn.py:1224: UserWarning: The use of label encoder in XGBClassifier is deprecated and will be removed in a future release. To remove this warning, do the following: 1) Pass option use_label_encoder=False when constructing XGBClassifier object; and 2) Encode your labels (y) as integers starting with 0, i.e. 0, 1, 2, ..., [num_class - 1].\n",
      "  warnings.warn(label_encoder_deprecation_msg, UserWarning)\n"
     ]
    },
    {
     "name": "stdout",
     "output_type": "stream",
     "text": [
      "[16:15:34] WARNING: ../src/learner.cc:1115: Starting in XGBoost 1.3.0, the default evaluation metric used with the objective 'binary:logistic' was changed from 'error' to 'logloss'. Explicitly set eval_metric if you'd like to restore the old behavior.\n"
     ]
    },
    {
     "name": "stderr",
     "output_type": "stream",
     "text": [
      "/opt/conda/lib/python3.9/site-packages/xgboost/sklearn.py:1224: UserWarning: The use of label encoder in XGBClassifier is deprecated and will be removed in a future release. To remove this warning, do the following: 1) Pass option use_label_encoder=False when constructing XGBClassifier object; and 2) Encode your labels (y) as integers starting with 0, i.e. 0, 1, 2, ..., [num_class - 1].\n",
      "  warnings.warn(label_encoder_deprecation_msg, UserWarning)\n"
     ]
    },
    {
     "name": "stdout",
     "output_type": "stream",
     "text": [
      "[16:15:44] WARNING: ../src/learner.cc:1115: Starting in XGBoost 1.3.0, the default evaluation metric used with the objective 'binary:logistic' was changed from 'error' to 'logloss'. Explicitly set eval_metric if you'd like to restore the old behavior.\n"
     ]
    },
    {
     "name": "stderr",
     "output_type": "stream",
     "text": [
      "/opt/conda/lib/python3.9/site-packages/xgboost/sklearn.py:1224: UserWarning: The use of label encoder in XGBClassifier is deprecated and will be removed in a future release. To remove this warning, do the following: 1) Pass option use_label_encoder=False when constructing XGBClassifier object; and 2) Encode your labels (y) as integers starting with 0, i.e. 0, 1, 2, ..., [num_class - 1].\n",
      "  warnings.warn(label_encoder_deprecation_msg, UserWarning)\n"
     ]
    },
    {
     "name": "stdout",
     "output_type": "stream",
     "text": [
      "[16:15:51] WARNING: ../src/learner.cc:1115: Starting in XGBoost 1.3.0, the default evaluation metric used with the objective 'binary:logistic' was changed from 'error' to 'logloss'. Explicitly set eval_metric if you'd like to restore the old behavior.\n"
     ]
    },
    {
     "name": "stderr",
     "output_type": "stream",
     "text": [
      "/opt/conda/lib/python3.9/site-packages/xgboost/sklearn.py:1224: UserWarning: The use of label encoder in XGBClassifier is deprecated and will be removed in a future release. To remove this warning, do the following: 1) Pass option use_label_encoder=False when constructing XGBClassifier object; and 2) Encode your labels (y) as integers starting with 0, i.e. 0, 1, 2, ..., [num_class - 1].\n",
      "  warnings.warn(label_encoder_deprecation_msg, UserWarning)\n"
     ]
    },
    {
     "name": "stdout",
     "output_type": "stream",
     "text": [
      "[16:15:57] WARNING: ../src/learner.cc:1115: Starting in XGBoost 1.3.0, the default evaluation metric used with the objective 'binary:logistic' was changed from 'error' to 'logloss'. Explicitly set eval_metric if you'd like to restore the old behavior.\n"
     ]
    },
    {
     "name": "stderr",
     "output_type": "stream",
     "text": [
      "/opt/conda/lib/python3.9/site-packages/xgboost/sklearn.py:1224: UserWarning: The use of label encoder in XGBClassifier is deprecated and will be removed in a future release. To remove this warning, do the following: 1) Pass option use_label_encoder=False when constructing XGBClassifier object; and 2) Encode your labels (y) as integers starting with 0, i.e. 0, 1, 2, ..., [num_class - 1].\n",
      "  warnings.warn(label_encoder_deprecation_msg, UserWarning)\n"
     ]
    },
    {
     "name": "stdout",
     "output_type": "stream",
     "text": [
      "[16:16:03] WARNING: ../src/learner.cc:1115: Starting in XGBoost 1.3.0, the default evaluation metric used with the objective 'binary:logistic' was changed from 'error' to 'logloss'. Explicitly set eval_metric if you'd like to restore the old behavior.\n"
     ]
    },
    {
     "name": "stderr",
     "output_type": "stream",
     "text": [
      "/opt/conda/lib/python3.9/site-packages/xgboost/sklearn.py:1224: UserWarning: The use of label encoder in XGBClassifier is deprecated and will be removed in a future release. To remove this warning, do the following: 1) Pass option use_label_encoder=False when constructing XGBClassifier object; and 2) Encode your labels (y) as integers starting with 0, i.e. 0, 1, 2, ..., [num_class - 1].\n",
      "  warnings.warn(label_encoder_deprecation_msg, UserWarning)\n"
     ]
    },
    {
     "name": "stdout",
     "output_type": "stream",
     "text": [
      "[16:16:12] WARNING: ../src/learner.cc:1115: Starting in XGBoost 1.3.0, the default evaluation metric used with the objective 'binary:logistic' was changed from 'error' to 'logloss'. Explicitly set eval_metric if you'd like to restore the old behavior.\n"
     ]
    },
    {
     "name": "stderr",
     "output_type": "stream",
     "text": [
      "/opt/conda/lib/python3.9/site-packages/xgboost/sklearn.py:1224: UserWarning: The use of label encoder in XGBClassifier is deprecated and will be removed in a future release. To remove this warning, do the following: 1) Pass option use_label_encoder=False when constructing XGBClassifier object; and 2) Encode your labels (y) as integers starting with 0, i.e. 0, 1, 2, ..., [num_class - 1].\n",
      "  warnings.warn(label_encoder_deprecation_msg, UserWarning)\n"
     ]
    },
    {
     "name": "stdout",
     "output_type": "stream",
     "text": [
      "[16:16:19] WARNING: ../src/learner.cc:1115: Starting in XGBoost 1.3.0, the default evaluation metric used with the objective 'binary:logistic' was changed from 'error' to 'logloss'. Explicitly set eval_metric if you'd like to restore the old behavior.\n"
     ]
    },
    {
     "name": "stderr",
     "output_type": "stream",
     "text": [
      "/opt/conda/lib/python3.9/site-packages/xgboost/sklearn.py:1224: UserWarning: The use of label encoder in XGBClassifier is deprecated and will be removed in a future release. To remove this warning, do the following: 1) Pass option use_label_encoder=False when constructing XGBClassifier object; and 2) Encode your labels (y) as integers starting with 0, i.e. 0, 1, 2, ..., [num_class - 1].\n",
      "  warnings.warn(label_encoder_deprecation_msg, UserWarning)\n"
     ]
    },
    {
     "name": "stdout",
     "output_type": "stream",
     "text": [
      "[16:16:24] WARNING: ../src/learner.cc:1115: Starting in XGBoost 1.3.0, the default evaluation metric used with the objective 'binary:logistic' was changed from 'error' to 'logloss'. Explicitly set eval_metric if you'd like to restore the old behavior.\n"
     ]
    },
    {
     "name": "stderr",
     "output_type": "stream",
     "text": [
      "/opt/conda/lib/python3.9/site-packages/xgboost/sklearn.py:1224: UserWarning: The use of label encoder in XGBClassifier is deprecated and will be removed in a future release. To remove this warning, do the following: 1) Pass option use_label_encoder=False when constructing XGBClassifier object; and 2) Encode your labels (y) as integers starting with 0, i.e. 0, 1, 2, ..., [num_class - 1].\n",
      "  warnings.warn(label_encoder_deprecation_msg, UserWarning)\n"
     ]
    },
    {
     "name": "stdout",
     "output_type": "stream",
     "text": [
      "[16:16:30] WARNING: ../src/learner.cc:1115: Starting in XGBoost 1.3.0, the default evaluation metric used with the objective 'binary:logistic' was changed from 'error' to 'logloss'. Explicitly set eval_metric if you'd like to restore the old behavior.\n"
     ]
    },
    {
     "name": "stderr",
     "output_type": "stream",
     "text": [
      "/opt/conda/lib/python3.9/site-packages/xgboost/sklearn.py:1224: UserWarning: The use of label encoder in XGBClassifier is deprecated and will be removed in a future release. To remove this warning, do the following: 1) Pass option use_label_encoder=False when constructing XGBClassifier object; and 2) Encode your labels (y) as integers starting with 0, i.e. 0, 1, 2, ..., [num_class - 1].\n",
      "  warnings.warn(label_encoder_deprecation_msg, UserWarning)\n"
     ]
    },
    {
     "name": "stdout",
     "output_type": "stream",
     "text": [
      "[16:16:37] WARNING: ../src/learner.cc:1115: Starting in XGBoost 1.3.0, the default evaluation metric used with the objective 'binary:logistic' was changed from 'error' to 'logloss'. Explicitly set eval_metric if you'd like to restore the old behavior.\n"
     ]
    },
    {
     "name": "stderr",
     "output_type": "stream",
     "text": [
      "/opt/conda/lib/python3.9/site-packages/xgboost/sklearn.py:1224: UserWarning: The use of label encoder in XGBClassifier is deprecated and will be removed in a future release. To remove this warning, do the following: 1) Pass option use_label_encoder=False when constructing XGBClassifier object; and 2) Encode your labels (y) as integers starting with 0, i.e. 0, 1, 2, ..., [num_class - 1].\n",
      "  warnings.warn(label_encoder_deprecation_msg, UserWarning)\n"
     ]
    },
    {
     "name": "stdout",
     "output_type": "stream",
     "text": [
      "[16:16:44] WARNING: ../src/learner.cc:1115: Starting in XGBoost 1.3.0, the default evaluation metric used with the objective 'binary:logistic' was changed from 'error' to 'logloss'. Explicitly set eval_metric if you'd like to restore the old behavior.\n"
     ]
    },
    {
     "name": "stderr",
     "output_type": "stream",
     "text": [
      "/opt/conda/lib/python3.9/site-packages/xgboost/sklearn.py:1224: UserWarning: The use of label encoder in XGBClassifier is deprecated and will be removed in a future release. To remove this warning, do the following: 1) Pass option use_label_encoder=False when constructing XGBClassifier object; and 2) Encode your labels (y) as integers starting with 0, i.e. 0, 1, 2, ..., [num_class - 1].\n",
      "  warnings.warn(label_encoder_deprecation_msg, UserWarning)\n"
     ]
    },
    {
     "name": "stdout",
     "output_type": "stream",
     "text": [
      "[16:16:53] WARNING: ../src/learner.cc:1115: Starting in XGBoost 1.3.0, the default evaluation metric used with the objective 'binary:logistic' was changed from 'error' to 'logloss'. Explicitly set eval_metric if you'd like to restore the old behavior.\n"
     ]
    },
    {
     "name": "stderr",
     "output_type": "stream",
     "text": [
      "/opt/conda/lib/python3.9/site-packages/xgboost/sklearn.py:1224: UserWarning: The use of label encoder in XGBClassifier is deprecated and will be removed in a future release. To remove this warning, do the following: 1) Pass option use_label_encoder=False when constructing XGBClassifier object; and 2) Encode your labels (y) as integers starting with 0, i.e. 0, 1, 2, ..., [num_class - 1].\n",
      "  warnings.warn(label_encoder_deprecation_msg, UserWarning)\n"
     ]
    },
    {
     "name": "stdout",
     "output_type": "stream",
     "text": [
      "[16:17:03] WARNING: ../src/learner.cc:1115: Starting in XGBoost 1.3.0, the default evaluation metric used with the objective 'binary:logistic' was changed from 'error' to 'logloss'. Explicitly set eval_metric if you'd like to restore the old behavior.\n"
     ]
    },
    {
     "name": "stderr",
     "output_type": "stream",
     "text": [
      "/opt/conda/lib/python3.9/site-packages/xgboost/sklearn.py:1224: UserWarning: The use of label encoder in XGBClassifier is deprecated and will be removed in a future release. To remove this warning, do the following: 1) Pass option use_label_encoder=False when constructing XGBClassifier object; and 2) Encode your labels (y) as integers starting with 0, i.e. 0, 1, 2, ..., [num_class - 1].\n",
      "  warnings.warn(label_encoder_deprecation_msg, UserWarning)\n"
     ]
    },
    {
     "name": "stdout",
     "output_type": "stream",
     "text": [
      "[16:17:12] WARNING: ../src/learner.cc:1115: Starting in XGBoost 1.3.0, the default evaluation metric used with the objective 'binary:logistic' was changed from 'error' to 'logloss'. Explicitly set eval_metric if you'd like to restore the old behavior.\n"
     ]
    },
    {
     "name": "stderr",
     "output_type": "stream",
     "text": [
      "/opt/conda/lib/python3.9/site-packages/xgboost/sklearn.py:1224: UserWarning: The use of label encoder in XGBClassifier is deprecated and will be removed in a future release. To remove this warning, do the following: 1) Pass option use_label_encoder=False when constructing XGBClassifier object; and 2) Encode your labels (y) as integers starting with 0, i.e. 0, 1, 2, ..., [num_class - 1].\n",
      "  warnings.warn(label_encoder_deprecation_msg, UserWarning)\n"
     ]
    },
    {
     "name": "stdout",
     "output_type": "stream",
     "text": [
      "[16:17:16] WARNING: ../src/learner.cc:1115: Starting in XGBoost 1.3.0, the default evaluation metric used with the objective 'binary:logistic' was changed from 'error' to 'logloss'. Explicitly set eval_metric if you'd like to restore the old behavior.\n"
     ]
    },
    {
     "name": "stderr",
     "output_type": "stream",
     "text": [
      "/opt/conda/lib/python3.9/site-packages/xgboost/sklearn.py:1224: UserWarning: The use of label encoder in XGBClassifier is deprecated and will be removed in a future release. To remove this warning, do the following: 1) Pass option use_label_encoder=False when constructing XGBClassifier object; and 2) Encode your labels (y) as integers starting with 0, i.e. 0, 1, 2, ..., [num_class - 1].\n",
      "  warnings.warn(label_encoder_deprecation_msg, UserWarning)\n"
     ]
    },
    {
     "name": "stdout",
     "output_type": "stream",
     "text": [
      "[16:17:20] WARNING: ../src/learner.cc:1115: Starting in XGBoost 1.3.0, the default evaluation metric used with the objective 'binary:logistic' was changed from 'error' to 'logloss'. Explicitly set eval_metric if you'd like to restore the old behavior.\n"
     ]
    },
    {
     "name": "stderr",
     "output_type": "stream",
     "text": [
      "/opt/conda/lib/python3.9/site-packages/xgboost/sklearn.py:1224: UserWarning: The use of label encoder in XGBClassifier is deprecated and will be removed in a future release. To remove this warning, do the following: 1) Pass option use_label_encoder=False when constructing XGBClassifier object; and 2) Encode your labels (y) as integers starting with 0, i.e. 0, 1, 2, ..., [num_class - 1].\n",
      "  warnings.warn(label_encoder_deprecation_msg, UserWarning)\n"
     ]
    },
    {
     "name": "stdout",
     "output_type": "stream",
     "text": [
      "[16:17:24] WARNING: ../src/learner.cc:1115: Starting in XGBoost 1.3.0, the default evaluation metric used with the objective 'binary:logistic' was changed from 'error' to 'logloss'. Explicitly set eval_metric if you'd like to restore the old behavior.\n"
     ]
    },
    {
     "name": "stderr",
     "output_type": "stream",
     "text": [
      "/opt/conda/lib/python3.9/site-packages/xgboost/sklearn.py:1224: UserWarning: The use of label encoder in XGBClassifier is deprecated and will be removed in a future release. To remove this warning, do the following: 1) Pass option use_label_encoder=False when constructing XGBClassifier object; and 2) Encode your labels (y) as integers starting with 0, i.e. 0, 1, 2, ..., [num_class - 1].\n",
      "  warnings.warn(label_encoder_deprecation_msg, UserWarning)\n"
     ]
    },
    {
     "name": "stdout",
     "output_type": "stream",
     "text": [
      "[16:17:31] WARNING: ../src/learner.cc:1115: Starting in XGBoost 1.3.0, the default evaluation metric used with the objective 'binary:logistic' was changed from 'error' to 'logloss'. Explicitly set eval_metric if you'd like to restore the old behavior.\n"
     ]
    },
    {
     "name": "stderr",
     "output_type": "stream",
     "text": [
      "/opt/conda/lib/python3.9/site-packages/xgboost/sklearn.py:1224: UserWarning: The use of label encoder in XGBClassifier is deprecated and will be removed in a future release. To remove this warning, do the following: 1) Pass option use_label_encoder=False when constructing XGBClassifier object; and 2) Encode your labels (y) as integers starting with 0, i.e. 0, 1, 2, ..., [num_class - 1].\n",
      "  warnings.warn(label_encoder_deprecation_msg, UserWarning)\n"
     ]
    },
    {
     "name": "stdout",
     "output_type": "stream",
     "text": [
      "[16:17:38] WARNING: ../src/learner.cc:1115: Starting in XGBoost 1.3.0, the default evaluation metric used with the objective 'binary:logistic' was changed from 'error' to 'logloss'. Explicitly set eval_metric if you'd like to restore the old behavior.\n"
     ]
    },
    {
     "name": "stderr",
     "output_type": "stream",
     "text": [
      "/opt/conda/lib/python3.9/site-packages/xgboost/sklearn.py:1224: UserWarning: The use of label encoder in XGBClassifier is deprecated and will be removed in a future release. To remove this warning, do the following: 1) Pass option use_label_encoder=False when constructing XGBClassifier object; and 2) Encode your labels (y) as integers starting with 0, i.e. 0, 1, 2, ..., [num_class - 1].\n",
      "  warnings.warn(label_encoder_deprecation_msg, UserWarning)\n"
     ]
    },
    {
     "name": "stdout",
     "output_type": "stream",
     "text": [
      "[16:17:47] WARNING: ../src/learner.cc:1115: Starting in XGBoost 1.3.0, the default evaluation metric used with the objective 'binary:logistic' was changed from 'error' to 'logloss'. Explicitly set eval_metric if you'd like to restore the old behavior.\n"
     ]
    },
    {
     "name": "stderr",
     "output_type": "stream",
     "text": [
      "/opt/conda/lib/python3.9/site-packages/xgboost/sklearn.py:1224: UserWarning: The use of label encoder in XGBClassifier is deprecated and will be removed in a future release. To remove this warning, do the following: 1) Pass option use_label_encoder=False when constructing XGBClassifier object; and 2) Encode your labels (y) as integers starting with 0, i.e. 0, 1, 2, ..., [num_class - 1].\n",
      "  warnings.warn(label_encoder_deprecation_msg, UserWarning)\n"
     ]
    },
    {
     "name": "stdout",
     "output_type": "stream",
     "text": [
      "[16:17:59] WARNING: ../src/learner.cc:1115: Starting in XGBoost 1.3.0, the default evaluation metric used with the objective 'binary:logistic' was changed from 'error' to 'logloss'. Explicitly set eval_metric if you'd like to restore the old behavior.\n"
     ]
    },
    {
     "name": "stderr",
     "output_type": "stream",
     "text": [
      "/opt/conda/lib/python3.9/site-packages/xgboost/sklearn.py:1224: UserWarning: The use of label encoder in XGBClassifier is deprecated and will be removed in a future release. To remove this warning, do the following: 1) Pass option use_label_encoder=False when constructing XGBClassifier object; and 2) Encode your labels (y) as integers starting with 0, i.e. 0, 1, 2, ..., [num_class - 1].\n",
      "  warnings.warn(label_encoder_deprecation_msg, UserWarning)\n"
     ]
    },
    {
     "name": "stdout",
     "output_type": "stream",
     "text": [
      "[16:18:09] WARNING: ../src/learner.cc:1115: Starting in XGBoost 1.3.0, the default evaluation metric used with the objective 'binary:logistic' was changed from 'error' to 'logloss'. Explicitly set eval_metric if you'd like to restore the old behavior.\n"
     ]
    },
    {
     "name": "stderr",
     "output_type": "stream",
     "text": [
      "/opt/conda/lib/python3.9/site-packages/xgboost/sklearn.py:1224: UserWarning: The use of label encoder in XGBClassifier is deprecated and will be removed in a future release. To remove this warning, do the following: 1) Pass option use_label_encoder=False when constructing XGBClassifier object; and 2) Encode your labels (y) as integers starting with 0, i.e. 0, 1, 2, ..., [num_class - 1].\n",
      "  warnings.warn(label_encoder_deprecation_msg, UserWarning)\n"
     ]
    },
    {
     "name": "stdout",
     "output_type": "stream",
     "text": [
      "[16:18:23] WARNING: ../src/learner.cc:1115: Starting in XGBoost 1.3.0, the default evaluation metric used with the objective 'binary:logistic' was changed from 'error' to 'logloss'. Explicitly set eval_metric if you'd like to restore the old behavior.\n"
     ]
    },
    {
     "name": "stderr",
     "output_type": "stream",
     "text": [
      "/opt/conda/lib/python3.9/site-packages/xgboost/sklearn.py:1224: UserWarning: The use of label encoder in XGBClassifier is deprecated and will be removed in a future release. To remove this warning, do the following: 1) Pass option use_label_encoder=False when constructing XGBClassifier object; and 2) Encode your labels (y) as integers starting with 0, i.e. 0, 1, 2, ..., [num_class - 1].\n",
      "  warnings.warn(label_encoder_deprecation_msg, UserWarning)\n"
     ]
    },
    {
     "name": "stdout",
     "output_type": "stream",
     "text": [
      "[16:19:04] WARNING: ../src/learner.cc:1115: Starting in XGBoost 1.3.0, the default evaluation metric used with the objective 'binary:logistic' was changed from 'error' to 'logloss'. Explicitly set eval_metric if you'd like to restore the old behavior.\n"
     ]
    },
    {
     "name": "stderr",
     "output_type": "stream",
     "text": [
      "/opt/conda/lib/python3.9/site-packages/xgboost/sklearn.py:1224: UserWarning: The use of label encoder in XGBClassifier is deprecated and will be removed in a future release. To remove this warning, do the following: 1) Pass option use_label_encoder=False when constructing XGBClassifier object; and 2) Encode your labels (y) as integers starting with 0, i.e. 0, 1, 2, ..., [num_class - 1].\n",
      "  warnings.warn(label_encoder_deprecation_msg, UserWarning)\n"
     ]
    },
    {
     "name": "stdout",
     "output_type": "stream",
     "text": [
      "[16:19:31] WARNING: ../src/learner.cc:1115: Starting in XGBoost 1.3.0, the default evaluation metric used with the objective 'binary:logistic' was changed from 'error' to 'logloss'. Explicitly set eval_metric if you'd like to restore the old behavior.\n"
     ]
    },
    {
     "name": "stderr",
     "output_type": "stream",
     "text": [
      "/opt/conda/lib/python3.9/site-packages/xgboost/sklearn.py:1224: UserWarning: The use of label encoder in XGBClassifier is deprecated and will be removed in a future release. To remove this warning, do the following: 1) Pass option use_label_encoder=False when constructing XGBClassifier object; and 2) Encode your labels (y) as integers starting with 0, i.e. 0, 1, 2, ..., [num_class - 1].\n",
      "  warnings.warn(label_encoder_deprecation_msg, UserWarning)\n"
     ]
    },
    {
     "name": "stdout",
     "output_type": "stream",
     "text": [
      "[16:19:47] WARNING: ../src/learner.cc:1115: Starting in XGBoost 1.3.0, the default evaluation metric used with the objective 'binary:logistic' was changed from 'error' to 'logloss'. Explicitly set eval_metric if you'd like to restore the old behavior.\n"
     ]
    },
    {
     "name": "stderr",
     "output_type": "stream",
     "text": [
      "/opt/conda/lib/python3.9/site-packages/xgboost/sklearn.py:1224: UserWarning: The use of label encoder in XGBClassifier is deprecated and will be removed in a future release. To remove this warning, do the following: 1) Pass option use_label_encoder=False when constructing XGBClassifier object; and 2) Encode your labels (y) as integers starting with 0, i.e. 0, 1, 2, ..., [num_class - 1].\n",
      "  warnings.warn(label_encoder_deprecation_msg, UserWarning)\n"
     ]
    },
    {
     "name": "stdout",
     "output_type": "stream",
     "text": [
      "[16:19:54] WARNING: ../src/learner.cc:1115: Starting in XGBoost 1.3.0, the default evaluation metric used with the objective 'binary:logistic' was changed from 'error' to 'logloss'. Explicitly set eval_metric if you'd like to restore the old behavior.\n"
     ]
    },
    {
     "name": "stderr",
     "output_type": "stream",
     "text": [
      "/opt/conda/lib/python3.9/site-packages/xgboost/sklearn.py:1224: UserWarning: The use of label encoder in XGBClassifier is deprecated and will be removed in a future release. To remove this warning, do the following: 1) Pass option use_label_encoder=False when constructing XGBClassifier object; and 2) Encode your labels (y) as integers starting with 0, i.e. 0, 1, 2, ..., [num_class - 1].\n",
      "  warnings.warn(label_encoder_deprecation_msg, UserWarning)\n"
     ]
    },
    {
     "name": "stdout",
     "output_type": "stream",
     "text": [
      "[16:20:07] WARNING: ../src/learner.cc:1115: Starting in XGBoost 1.3.0, the default evaluation metric used with the objective 'binary:logistic' was changed from 'error' to 'logloss'. Explicitly set eval_metric if you'd like to restore the old behavior.\n"
     ]
    },
    {
     "name": "stderr",
     "output_type": "stream",
     "text": [
      "/opt/conda/lib/python3.9/site-packages/xgboost/sklearn.py:1224: UserWarning: The use of label encoder in XGBClassifier is deprecated and will be removed in a future release. To remove this warning, do the following: 1) Pass option use_label_encoder=False when constructing XGBClassifier object; and 2) Encode your labels (y) as integers starting with 0, i.e. 0, 1, 2, ..., [num_class - 1].\n",
      "  warnings.warn(label_encoder_deprecation_msg, UserWarning)\n"
     ]
    },
    {
     "name": "stdout",
     "output_type": "stream",
     "text": [
      "[16:20:23] WARNING: ../src/learner.cc:1115: Starting in XGBoost 1.3.0, the default evaluation metric used with the objective 'binary:logistic' was changed from 'error' to 'logloss'. Explicitly set eval_metric if you'd like to restore the old behavior.\n"
     ]
    },
    {
     "name": "stderr",
     "output_type": "stream",
     "text": [
      "/opt/conda/lib/python3.9/site-packages/xgboost/sklearn.py:1224: UserWarning: The use of label encoder in XGBClassifier is deprecated and will be removed in a future release. To remove this warning, do the following: 1) Pass option use_label_encoder=False when constructing XGBClassifier object; and 2) Encode your labels (y) as integers starting with 0, i.e. 0, 1, 2, ..., [num_class - 1].\n",
      "  warnings.warn(label_encoder_deprecation_msg, UserWarning)\n"
     ]
    },
    {
     "name": "stdout",
     "output_type": "stream",
     "text": [
      "[16:20:55] WARNING: ../src/learner.cc:1115: Starting in XGBoost 1.3.0, the default evaluation metric used with the objective 'binary:logistic' was changed from 'error' to 'logloss'. Explicitly set eval_metric if you'd like to restore the old behavior.\n"
     ]
    },
    {
     "name": "stderr",
     "output_type": "stream",
     "text": [
      "/opt/conda/lib/python3.9/site-packages/xgboost/sklearn.py:1224: UserWarning: The use of label encoder in XGBClassifier is deprecated and will be removed in a future release. To remove this warning, do the following: 1) Pass option use_label_encoder=False when constructing XGBClassifier object; and 2) Encode your labels (y) as integers starting with 0, i.e. 0, 1, 2, ..., [num_class - 1].\n",
      "  warnings.warn(label_encoder_deprecation_msg, UserWarning)\n"
     ]
    },
    {
     "name": "stdout",
     "output_type": "stream",
     "text": [
      "[16:21:21] WARNING: ../src/learner.cc:1115: Starting in XGBoost 1.3.0, the default evaluation metric used with the objective 'binary:logistic' was changed from 'error' to 'logloss'. Explicitly set eval_metric if you'd like to restore the old behavior.\n"
     ]
    },
    {
     "name": "stderr",
     "output_type": "stream",
     "text": [
      "/opt/conda/lib/python3.9/site-packages/xgboost/sklearn.py:1224: UserWarning: The use of label encoder in XGBClassifier is deprecated and will be removed in a future release. To remove this warning, do the following: 1) Pass option use_label_encoder=False when constructing XGBClassifier object; and 2) Encode your labels (y) as integers starting with 0, i.e. 0, 1, 2, ..., [num_class - 1].\n",
      "  warnings.warn(label_encoder_deprecation_msg, UserWarning)\n"
     ]
    },
    {
     "name": "stdout",
     "output_type": "stream",
     "text": [
      "[16:21:40] WARNING: ../src/learner.cc:1115: Starting in XGBoost 1.3.0, the default evaluation metric used with the objective 'binary:logistic' was changed from 'error' to 'logloss'. Explicitly set eval_metric if you'd like to restore the old behavior.\n"
     ]
    },
    {
     "name": "stderr",
     "output_type": "stream",
     "text": [
      "/opt/conda/lib/python3.9/site-packages/xgboost/sklearn.py:1224: UserWarning: The use of label encoder in XGBClassifier is deprecated and will be removed in a future release. To remove this warning, do the following: 1) Pass option use_label_encoder=False when constructing XGBClassifier object; and 2) Encode your labels (y) as integers starting with 0, i.e. 0, 1, 2, ..., [num_class - 1].\n",
      "  warnings.warn(label_encoder_deprecation_msg, UserWarning)\n"
     ]
    },
    {
     "name": "stdout",
     "output_type": "stream",
     "text": [
      "[16:22:09] WARNING: ../src/learner.cc:1115: Starting in XGBoost 1.3.0, the default evaluation metric used with the objective 'binary:logistic' was changed from 'error' to 'logloss'. Explicitly set eval_metric if you'd like to restore the old behavior.\n"
     ]
    },
    {
     "name": "stderr",
     "output_type": "stream",
     "text": [
      "/opt/conda/lib/python3.9/site-packages/xgboost/sklearn.py:1224: UserWarning: The use of label encoder in XGBClassifier is deprecated and will be removed in a future release. To remove this warning, do the following: 1) Pass option use_label_encoder=False when constructing XGBClassifier object; and 2) Encode your labels (y) as integers starting with 0, i.e. 0, 1, 2, ..., [num_class - 1].\n",
      "  warnings.warn(label_encoder_deprecation_msg, UserWarning)\n"
     ]
    },
    {
     "name": "stdout",
     "output_type": "stream",
     "text": [
      "[16:22:39] WARNING: ../src/learner.cc:1115: Starting in XGBoost 1.3.0, the default evaluation metric used with the objective 'binary:logistic' was changed from 'error' to 'logloss'. Explicitly set eval_metric if you'd like to restore the old behavior.\n"
     ]
    },
    {
     "name": "stderr",
     "output_type": "stream",
     "text": [
      "/opt/conda/lib/python3.9/site-packages/xgboost/sklearn.py:1224: UserWarning: The use of label encoder in XGBClassifier is deprecated and will be removed in a future release. To remove this warning, do the following: 1) Pass option use_label_encoder=False when constructing XGBClassifier object; and 2) Encode your labels (y) as integers starting with 0, i.e. 0, 1, 2, ..., [num_class - 1].\n",
      "  warnings.warn(label_encoder_deprecation_msg, UserWarning)\n"
     ]
    },
    {
     "name": "stdout",
     "output_type": "stream",
     "text": [
      "[16:23:29] WARNING: ../src/learner.cc:1115: Starting in XGBoost 1.3.0, the default evaluation metric used with the objective 'binary:logistic' was changed from 'error' to 'logloss'. Explicitly set eval_metric if you'd like to restore the old behavior.\n"
     ]
    },
    {
     "name": "stderr",
     "output_type": "stream",
     "text": [
      "/opt/conda/lib/python3.9/site-packages/xgboost/sklearn.py:1224: UserWarning: The use of label encoder in XGBClassifier is deprecated and will be removed in a future release. To remove this warning, do the following: 1) Pass option use_label_encoder=False when constructing XGBClassifier object; and 2) Encode your labels (y) as integers starting with 0, i.e. 0, 1, 2, ..., [num_class - 1].\n",
      "  warnings.warn(label_encoder_deprecation_msg, UserWarning)\n"
     ]
    },
    {
     "name": "stdout",
     "output_type": "stream",
     "text": [
      "[16:24:31] WARNING: ../src/learner.cc:1115: Starting in XGBoost 1.3.0, the default evaluation metric used with the objective 'binary:logistic' was changed from 'error' to 'logloss'. Explicitly set eval_metric if you'd like to restore the old behavior.\n"
     ]
    },
    {
     "name": "stderr",
     "output_type": "stream",
     "text": [
      "/opt/conda/lib/python3.9/site-packages/xgboost/sklearn.py:1224: UserWarning: The use of label encoder in XGBClassifier is deprecated and will be removed in a future release. To remove this warning, do the following: 1) Pass option use_label_encoder=False when constructing XGBClassifier object; and 2) Encode your labels (y) as integers starting with 0, i.e. 0, 1, 2, ..., [num_class - 1].\n",
      "  warnings.warn(label_encoder_deprecation_msg, UserWarning)\n"
     ]
    },
    {
     "name": "stdout",
     "output_type": "stream",
     "text": [
      "[16:25:34] WARNING: ../src/learner.cc:1115: Starting in XGBoost 1.3.0, the default evaluation metric used with the objective 'binary:logistic' was changed from 'error' to 'logloss'. Explicitly set eval_metric if you'd like to restore the old behavior.\n"
     ]
    },
    {
     "name": "stderr",
     "output_type": "stream",
     "text": [
      "/opt/conda/lib/python3.9/site-packages/xgboost/sklearn.py:1224: UserWarning: The use of label encoder in XGBClassifier is deprecated and will be removed in a future release. To remove this warning, do the following: 1) Pass option use_label_encoder=False when constructing XGBClassifier object; and 2) Encode your labels (y) as integers starting with 0, i.e. 0, 1, 2, ..., [num_class - 1].\n",
      "  warnings.warn(label_encoder_deprecation_msg, UserWarning)\n"
     ]
    },
    {
     "name": "stdout",
     "output_type": "stream",
     "text": [
      "[16:26:40] WARNING: ../src/learner.cc:1115: Starting in XGBoost 1.3.0, the default evaluation metric used with the objective 'binary:logistic' was changed from 'error' to 'logloss'. Explicitly set eval_metric if you'd like to restore the old behavior.\n"
     ]
    },
    {
     "name": "stderr",
     "output_type": "stream",
     "text": [
      "/opt/conda/lib/python3.9/site-packages/xgboost/sklearn.py:1224: UserWarning: The use of label encoder in XGBClassifier is deprecated and will be removed in a future release. To remove this warning, do the following: 1) Pass option use_label_encoder=False when constructing XGBClassifier object; and 2) Encode your labels (y) as integers starting with 0, i.e. 0, 1, 2, ..., [num_class - 1].\n",
      "  warnings.warn(label_encoder_deprecation_msg, UserWarning)\n"
     ]
    },
    {
     "name": "stdout",
     "output_type": "stream",
     "text": [
      "[16:27:01] WARNING: ../src/learner.cc:1115: Starting in XGBoost 1.3.0, the default evaluation metric used with the objective 'binary:logistic' was changed from 'error' to 'logloss'. Explicitly set eval_metric if you'd like to restore the old behavior.\n"
     ]
    },
    {
     "name": "stderr",
     "output_type": "stream",
     "text": [
      "/opt/conda/lib/python3.9/site-packages/xgboost/sklearn.py:1224: UserWarning: The use of label encoder in XGBClassifier is deprecated and will be removed in a future release. To remove this warning, do the following: 1) Pass option use_label_encoder=False when constructing XGBClassifier object; and 2) Encode your labels (y) as integers starting with 0, i.e. 0, 1, 2, ..., [num_class - 1].\n",
      "  warnings.warn(label_encoder_deprecation_msg, UserWarning)\n"
     ]
    },
    {
     "name": "stdout",
     "output_type": "stream",
     "text": [
      "[16:27:23] WARNING: ../src/learner.cc:1115: Starting in XGBoost 1.3.0, the default evaluation metric used with the objective 'binary:logistic' was changed from 'error' to 'logloss'. Explicitly set eval_metric if you'd like to restore the old behavior.\n"
     ]
    },
    {
     "name": "stderr",
     "output_type": "stream",
     "text": [
      "/opt/conda/lib/python3.9/site-packages/xgboost/sklearn.py:1224: UserWarning: The use of label encoder in XGBClassifier is deprecated and will be removed in a future release. To remove this warning, do the following: 1) Pass option use_label_encoder=False when constructing XGBClassifier object; and 2) Encode your labels (y) as integers starting with 0, i.e. 0, 1, 2, ..., [num_class - 1].\n",
      "  warnings.warn(label_encoder_deprecation_msg, UserWarning)\n"
     ]
    },
    {
     "name": "stdout",
     "output_type": "stream",
     "text": [
      "[16:27:45] WARNING: ../src/learner.cc:1115: Starting in XGBoost 1.3.0, the default evaluation metric used with the objective 'binary:logistic' was changed from 'error' to 'logloss'. Explicitly set eval_metric if you'd like to restore the old behavior.\n"
     ]
    },
    {
     "name": "stderr",
     "output_type": "stream",
     "text": [
      "/opt/conda/lib/python3.9/site-packages/xgboost/sklearn.py:1224: UserWarning: The use of label encoder in XGBClassifier is deprecated and will be removed in a future release. To remove this warning, do the following: 1) Pass option use_label_encoder=False when constructing XGBClassifier object; and 2) Encode your labels (y) as integers starting with 0, i.e. 0, 1, 2, ..., [num_class - 1].\n",
      "  warnings.warn(label_encoder_deprecation_msg, UserWarning)\n"
     ]
    },
    {
     "name": "stdout",
     "output_type": "stream",
     "text": [
      "[16:28:28] WARNING: ../src/learner.cc:1115: Starting in XGBoost 1.3.0, the default evaluation metric used with the objective 'binary:logistic' was changed from 'error' to 'logloss'. Explicitly set eval_metric if you'd like to restore the old behavior.\n"
     ]
    },
    {
     "name": "stderr",
     "output_type": "stream",
     "text": [
      "/opt/conda/lib/python3.9/site-packages/xgboost/sklearn.py:1224: UserWarning: The use of label encoder in XGBClassifier is deprecated and will be removed in a future release. To remove this warning, do the following: 1) Pass option use_label_encoder=False when constructing XGBClassifier object; and 2) Encode your labels (y) as integers starting with 0, i.e. 0, 1, 2, ..., [num_class - 1].\n",
      "  warnings.warn(label_encoder_deprecation_msg, UserWarning)\n"
     ]
    },
    {
     "name": "stdout",
     "output_type": "stream",
     "text": [
      "[16:29:10] WARNING: ../src/learner.cc:1115: Starting in XGBoost 1.3.0, the default evaluation metric used with the objective 'binary:logistic' was changed from 'error' to 'logloss'. Explicitly set eval_metric if you'd like to restore the old behavior.\n"
     ]
    },
    {
     "name": "stderr",
     "output_type": "stream",
     "text": [
      "/opt/conda/lib/python3.9/site-packages/xgboost/sklearn.py:1224: UserWarning: The use of label encoder in XGBClassifier is deprecated and will be removed in a future release. To remove this warning, do the following: 1) Pass option use_label_encoder=False when constructing XGBClassifier object; and 2) Encode your labels (y) as integers starting with 0, i.e. 0, 1, 2, ..., [num_class - 1].\n",
      "  warnings.warn(label_encoder_deprecation_msg, UserWarning)\n"
     ]
    },
    {
     "name": "stdout",
     "output_type": "stream",
     "text": [
      "[16:29:52] WARNING: ../src/learner.cc:1115: Starting in XGBoost 1.3.0, the default evaluation metric used with the objective 'binary:logistic' was changed from 'error' to 'logloss'. Explicitly set eval_metric if you'd like to restore the old behavior.\n"
     ]
    },
    {
     "name": "stderr",
     "output_type": "stream",
     "text": [
      "/opt/conda/lib/python3.9/site-packages/xgboost/sklearn.py:1224: UserWarning: The use of label encoder in XGBClassifier is deprecated and will be removed in a future release. To remove this warning, do the following: 1) Pass option use_label_encoder=False when constructing XGBClassifier object; and 2) Encode your labels (y) as integers starting with 0, i.e. 0, 1, 2, ..., [num_class - 1].\n",
      "  warnings.warn(label_encoder_deprecation_msg, UserWarning)\n"
     ]
    },
    {
     "name": "stdout",
     "output_type": "stream",
     "text": [
      "[16:30:55] WARNING: ../src/learner.cc:1115: Starting in XGBoost 1.3.0, the default evaluation metric used with the objective 'binary:logistic' was changed from 'error' to 'logloss'. Explicitly set eval_metric if you'd like to restore the old behavior.\n"
     ]
    },
    {
     "name": "stderr",
     "output_type": "stream",
     "text": [
      "/opt/conda/lib/python3.9/site-packages/xgboost/sklearn.py:1224: UserWarning: The use of label encoder in XGBClassifier is deprecated and will be removed in a future release. To remove this warning, do the following: 1) Pass option use_label_encoder=False when constructing XGBClassifier object; and 2) Encode your labels (y) as integers starting with 0, i.e. 0, 1, 2, ..., [num_class - 1].\n",
      "  warnings.warn(label_encoder_deprecation_msg, UserWarning)\n"
     ]
    },
    {
     "name": "stdout",
     "output_type": "stream",
     "text": [
      "[16:31:58] WARNING: ../src/learner.cc:1115: Starting in XGBoost 1.3.0, the default evaluation metric used with the objective 'binary:logistic' was changed from 'error' to 'logloss'. Explicitly set eval_metric if you'd like to restore the old behavior.\n"
     ]
    },
    {
     "name": "stderr",
     "output_type": "stream",
     "text": [
      "/opt/conda/lib/python3.9/site-packages/xgboost/sklearn.py:1224: UserWarning: The use of label encoder in XGBClassifier is deprecated and will be removed in a future release. To remove this warning, do the following: 1) Pass option use_label_encoder=False when constructing XGBClassifier object; and 2) Encode your labels (y) as integers starting with 0, i.e. 0, 1, 2, ..., [num_class - 1].\n",
      "  warnings.warn(label_encoder_deprecation_msg, UserWarning)\n"
     ]
    },
    {
     "name": "stdout",
     "output_type": "stream",
     "text": [
      "[16:33:04] WARNING: ../src/learner.cc:1115: Starting in XGBoost 1.3.0, the default evaluation metric used with the objective 'binary:logistic' was changed from 'error' to 'logloss'. Explicitly set eval_metric if you'd like to restore the old behavior.\n"
     ]
    },
    {
     "name": "stderr",
     "output_type": "stream",
     "text": [
      "/opt/conda/lib/python3.9/site-packages/xgboost/sklearn.py:1224: UserWarning: The use of label encoder in XGBClassifier is deprecated and will be removed in a future release. To remove this warning, do the following: 1) Pass option use_label_encoder=False when constructing XGBClassifier object; and 2) Encode your labels (y) as integers starting with 0, i.e. 0, 1, 2, ..., [num_class - 1].\n",
      "  warnings.warn(label_encoder_deprecation_msg, UserWarning)\n"
     ]
    },
    {
     "name": "stdout",
     "output_type": "stream",
     "text": [
      "[16:34:31] WARNING: ../src/learner.cc:1115: Starting in XGBoost 1.3.0, the default evaluation metric used with the objective 'binary:logistic' was changed from 'error' to 'logloss'. Explicitly set eval_metric if you'd like to restore the old behavior.\n"
     ]
    },
    {
     "name": "stderr",
     "output_type": "stream",
     "text": [
      "/opt/conda/lib/python3.9/site-packages/xgboost/sklearn.py:1224: UserWarning: The use of label encoder in XGBClassifier is deprecated and will be removed in a future release. To remove this warning, do the following: 1) Pass option use_label_encoder=False when constructing XGBClassifier object; and 2) Encode your labels (y) as integers starting with 0, i.e. 0, 1, 2, ..., [num_class - 1].\n",
      "  warnings.warn(label_encoder_deprecation_msg, UserWarning)\n"
     ]
    },
    {
     "name": "stdout",
     "output_type": "stream",
     "text": [
      "[16:36:00] WARNING: ../src/learner.cc:1115: Starting in XGBoost 1.3.0, the default evaluation metric used with the objective 'binary:logistic' was changed from 'error' to 'logloss'. Explicitly set eval_metric if you'd like to restore the old behavior.\n"
     ]
    },
    {
     "name": "stderr",
     "output_type": "stream",
     "text": [
      "/opt/conda/lib/python3.9/site-packages/xgboost/sklearn.py:1224: UserWarning: The use of label encoder in XGBClassifier is deprecated and will be removed in a future release. To remove this warning, do the following: 1) Pass option use_label_encoder=False when constructing XGBClassifier object; and 2) Encode your labels (y) as integers starting with 0, i.e. 0, 1, 2, ..., [num_class - 1].\n",
      "  warnings.warn(label_encoder_deprecation_msg, UserWarning)\n"
     ]
    },
    {
     "name": "stdout",
     "output_type": "stream",
     "text": [
      "[16:37:15] WARNING: ../src/learner.cc:1115: Starting in XGBoost 1.3.0, the default evaluation metric used with the objective 'binary:logistic' was changed from 'error' to 'logloss'. Explicitly set eval_metric if you'd like to restore the old behavior.\n"
     ]
    },
    {
     "name": "stderr",
     "output_type": "stream",
     "text": [
      "/opt/conda/lib/python3.9/site-packages/xgboost/sklearn.py:1224: UserWarning: The use of label encoder in XGBClassifier is deprecated and will be removed in a future release. To remove this warning, do the following: 1) Pass option use_label_encoder=False when constructing XGBClassifier object; and 2) Encode your labels (y) as integers starting with 0, i.e. 0, 1, 2, ..., [num_class - 1].\n",
      "  warnings.warn(label_encoder_deprecation_msg, UserWarning)\n"
     ]
    },
    {
     "name": "stdout",
     "output_type": "stream",
     "text": [
      "[16:37:17] WARNING: ../src/learner.cc:1115: Starting in XGBoost 1.3.0, the default evaluation metric used with the objective 'binary:logistic' was changed from 'error' to 'logloss'. Explicitly set eval_metric if you'd like to restore the old behavior.\n"
     ]
    },
    {
     "name": "stderr",
     "output_type": "stream",
     "text": [
      "/opt/conda/lib/python3.9/site-packages/xgboost/sklearn.py:1224: UserWarning: The use of label encoder in XGBClassifier is deprecated and will be removed in a future release. To remove this warning, do the following: 1) Pass option use_label_encoder=False when constructing XGBClassifier object; and 2) Encode your labels (y) as integers starting with 0, i.e. 0, 1, 2, ..., [num_class - 1].\n",
      "  warnings.warn(label_encoder_deprecation_msg, UserWarning)\n"
     ]
    },
    {
     "name": "stdout",
     "output_type": "stream",
     "text": [
      "[16:37:20] WARNING: ../src/learner.cc:1115: Starting in XGBoost 1.3.0, the default evaluation metric used with the objective 'binary:logistic' was changed from 'error' to 'logloss'. Explicitly set eval_metric if you'd like to restore the old behavior.\n"
     ]
    },
    {
     "name": "stderr",
     "output_type": "stream",
     "text": [
      "/opt/conda/lib/python3.9/site-packages/xgboost/sklearn.py:1224: UserWarning: The use of label encoder in XGBClassifier is deprecated and will be removed in a future release. To remove this warning, do the following: 1) Pass option use_label_encoder=False when constructing XGBClassifier object; and 2) Encode your labels (y) as integers starting with 0, i.e. 0, 1, 2, ..., [num_class - 1].\n",
      "  warnings.warn(label_encoder_deprecation_msg, UserWarning)\n"
     ]
    },
    {
     "name": "stdout",
     "output_type": "stream",
     "text": [
      "[16:37:23] WARNING: ../src/learner.cc:1115: Starting in XGBoost 1.3.0, the default evaluation metric used with the objective 'binary:logistic' was changed from 'error' to 'logloss'. Explicitly set eval_metric if you'd like to restore the old behavior.\n"
     ]
    },
    {
     "name": "stderr",
     "output_type": "stream",
     "text": [
      "/opt/conda/lib/python3.9/site-packages/xgboost/sklearn.py:1224: UserWarning: The use of label encoder in XGBClassifier is deprecated and will be removed in a future release. To remove this warning, do the following: 1) Pass option use_label_encoder=False when constructing XGBClassifier object; and 2) Encode your labels (y) as integers starting with 0, i.e. 0, 1, 2, ..., [num_class - 1].\n",
      "  warnings.warn(label_encoder_deprecation_msg, UserWarning)\n"
     ]
    },
    {
     "name": "stdout",
     "output_type": "stream",
     "text": [
      "[16:37:28] WARNING: ../src/learner.cc:1115: Starting in XGBoost 1.3.0, the default evaluation metric used with the objective 'binary:logistic' was changed from 'error' to 'logloss'. Explicitly set eval_metric if you'd like to restore the old behavior.\n"
     ]
    },
    {
     "name": "stderr",
     "output_type": "stream",
     "text": [
      "/opt/conda/lib/python3.9/site-packages/xgboost/sklearn.py:1224: UserWarning: The use of label encoder in XGBClassifier is deprecated and will be removed in a future release. To remove this warning, do the following: 1) Pass option use_label_encoder=False when constructing XGBClassifier object; and 2) Encode your labels (y) as integers starting with 0, i.e. 0, 1, 2, ..., [num_class - 1].\n",
      "  warnings.warn(label_encoder_deprecation_msg, UserWarning)\n"
     ]
    },
    {
     "name": "stdout",
     "output_type": "stream",
     "text": [
      "[16:37:33] WARNING: ../src/learner.cc:1115: Starting in XGBoost 1.3.0, the default evaluation metric used with the objective 'binary:logistic' was changed from 'error' to 'logloss'. Explicitly set eval_metric if you'd like to restore the old behavior.\n"
     ]
    },
    {
     "name": "stderr",
     "output_type": "stream",
     "text": [
      "/opt/conda/lib/python3.9/site-packages/xgboost/sklearn.py:1224: UserWarning: The use of label encoder in XGBClassifier is deprecated and will be removed in a future release. To remove this warning, do the following: 1) Pass option use_label_encoder=False when constructing XGBClassifier object; and 2) Encode your labels (y) as integers starting with 0, i.e. 0, 1, 2, ..., [num_class - 1].\n",
      "  warnings.warn(label_encoder_deprecation_msg, UserWarning)\n"
     ]
    },
    {
     "name": "stdout",
     "output_type": "stream",
     "text": [
      "[16:37:38] WARNING: ../src/learner.cc:1115: Starting in XGBoost 1.3.0, the default evaluation metric used with the objective 'binary:logistic' was changed from 'error' to 'logloss'. Explicitly set eval_metric if you'd like to restore the old behavior.\n"
     ]
    },
    {
     "name": "stderr",
     "output_type": "stream",
     "text": [
      "/opt/conda/lib/python3.9/site-packages/xgboost/sklearn.py:1224: UserWarning: The use of label encoder in XGBClassifier is deprecated and will be removed in a future release. To remove this warning, do the following: 1) Pass option use_label_encoder=False when constructing XGBClassifier object; and 2) Encode your labels (y) as integers starting with 0, i.e. 0, 1, 2, ..., [num_class - 1].\n",
      "  warnings.warn(label_encoder_deprecation_msg, UserWarning)\n"
     ]
    },
    {
     "name": "stdout",
     "output_type": "stream",
     "text": [
      "[16:37:46] WARNING: ../src/learner.cc:1115: Starting in XGBoost 1.3.0, the default evaluation metric used with the objective 'binary:logistic' was changed from 'error' to 'logloss'. Explicitly set eval_metric if you'd like to restore the old behavior.\n"
     ]
    },
    {
     "name": "stderr",
     "output_type": "stream",
     "text": [
      "/opt/conda/lib/python3.9/site-packages/xgboost/sklearn.py:1224: UserWarning: The use of label encoder in XGBClassifier is deprecated and will be removed in a future release. To remove this warning, do the following: 1) Pass option use_label_encoder=False when constructing XGBClassifier object; and 2) Encode your labels (y) as integers starting with 0, i.e. 0, 1, 2, ..., [num_class - 1].\n",
      "  warnings.warn(label_encoder_deprecation_msg, UserWarning)\n"
     ]
    },
    {
     "name": "stdout",
     "output_type": "stream",
     "text": [
      "[16:37:53] WARNING: ../src/learner.cc:1115: Starting in XGBoost 1.3.0, the default evaluation metric used with the objective 'binary:logistic' was changed from 'error' to 'logloss'. Explicitly set eval_metric if you'd like to restore the old behavior.\n"
     ]
    },
    {
     "name": "stderr",
     "output_type": "stream",
     "text": [
      "/opt/conda/lib/python3.9/site-packages/xgboost/sklearn.py:1224: UserWarning: The use of label encoder in XGBClassifier is deprecated and will be removed in a future release. To remove this warning, do the following: 1) Pass option use_label_encoder=False when constructing XGBClassifier object; and 2) Encode your labels (y) as integers starting with 0, i.e. 0, 1, 2, ..., [num_class - 1].\n",
      "  warnings.warn(label_encoder_deprecation_msg, UserWarning)\n"
     ]
    },
    {
     "name": "stdout",
     "output_type": "stream",
     "text": [
      "[16:38:00] WARNING: ../src/learner.cc:1115: Starting in XGBoost 1.3.0, the default evaluation metric used with the objective 'binary:logistic' was changed from 'error' to 'logloss'. Explicitly set eval_metric if you'd like to restore the old behavior.\n"
     ]
    },
    {
     "name": "stderr",
     "output_type": "stream",
     "text": [
      "/opt/conda/lib/python3.9/site-packages/xgboost/sklearn.py:1224: UserWarning: The use of label encoder in XGBClassifier is deprecated and will be removed in a future release. To remove this warning, do the following: 1) Pass option use_label_encoder=False when constructing XGBClassifier object; and 2) Encode your labels (y) as integers starting with 0, i.e. 0, 1, 2, ..., [num_class - 1].\n",
      "  warnings.warn(label_encoder_deprecation_msg, UserWarning)\n"
     ]
    },
    {
     "name": "stdout",
     "output_type": "stream",
     "text": [
      "[16:38:04] WARNING: ../src/learner.cc:1115: Starting in XGBoost 1.3.0, the default evaluation metric used with the objective 'binary:logistic' was changed from 'error' to 'logloss'. Explicitly set eval_metric if you'd like to restore the old behavior.\n"
     ]
    },
    {
     "name": "stderr",
     "output_type": "stream",
     "text": [
      "/opt/conda/lib/python3.9/site-packages/xgboost/sklearn.py:1224: UserWarning: The use of label encoder in XGBClassifier is deprecated and will be removed in a future release. To remove this warning, do the following: 1) Pass option use_label_encoder=False when constructing XGBClassifier object; and 2) Encode your labels (y) as integers starting with 0, i.e. 0, 1, 2, ..., [num_class - 1].\n",
      "  warnings.warn(label_encoder_deprecation_msg, UserWarning)\n"
     ]
    },
    {
     "name": "stdout",
     "output_type": "stream",
     "text": [
      "[16:38:09] WARNING: ../src/learner.cc:1115: Starting in XGBoost 1.3.0, the default evaluation metric used with the objective 'binary:logistic' was changed from 'error' to 'logloss'. Explicitly set eval_metric if you'd like to restore the old behavior.\n"
     ]
    },
    {
     "name": "stderr",
     "output_type": "stream",
     "text": [
      "/opt/conda/lib/python3.9/site-packages/xgboost/sklearn.py:1224: UserWarning: The use of label encoder in XGBClassifier is deprecated and will be removed in a future release. To remove this warning, do the following: 1) Pass option use_label_encoder=False when constructing XGBClassifier object; and 2) Encode your labels (y) as integers starting with 0, i.e. 0, 1, 2, ..., [num_class - 1].\n",
      "  warnings.warn(label_encoder_deprecation_msg, UserWarning)\n"
     ]
    },
    {
     "name": "stdout",
     "output_type": "stream",
     "text": [
      "[16:38:13] WARNING: ../src/learner.cc:1115: Starting in XGBoost 1.3.0, the default evaluation metric used with the objective 'binary:logistic' was changed from 'error' to 'logloss'. Explicitly set eval_metric if you'd like to restore the old behavior.\n"
     ]
    },
    {
     "name": "stderr",
     "output_type": "stream",
     "text": [
      "/opt/conda/lib/python3.9/site-packages/xgboost/sklearn.py:1224: UserWarning: The use of label encoder in XGBClassifier is deprecated and will be removed in a future release. To remove this warning, do the following: 1) Pass option use_label_encoder=False when constructing XGBClassifier object; and 2) Encode your labels (y) as integers starting with 0, i.e. 0, 1, 2, ..., [num_class - 1].\n",
      "  warnings.warn(label_encoder_deprecation_msg, UserWarning)\n"
     ]
    },
    {
     "name": "stdout",
     "output_type": "stream",
     "text": [
      "[16:38:16] WARNING: ../src/learner.cc:1115: Starting in XGBoost 1.3.0, the default evaluation metric used with the objective 'binary:logistic' was changed from 'error' to 'logloss'. Explicitly set eval_metric if you'd like to restore the old behavior.\n"
     ]
    },
    {
     "name": "stderr",
     "output_type": "stream",
     "text": [
      "/opt/conda/lib/python3.9/site-packages/xgboost/sklearn.py:1224: UserWarning: The use of label encoder in XGBClassifier is deprecated and will be removed in a future release. To remove this warning, do the following: 1) Pass option use_label_encoder=False when constructing XGBClassifier object; and 2) Encode your labels (y) as integers starting with 0, i.e. 0, 1, 2, ..., [num_class - 1].\n",
      "  warnings.warn(label_encoder_deprecation_msg, UserWarning)\n"
     ]
    },
    {
     "name": "stdout",
     "output_type": "stream",
     "text": [
      "[16:38:18] WARNING: ../src/learner.cc:1115: Starting in XGBoost 1.3.0, the default evaluation metric used with the objective 'binary:logistic' was changed from 'error' to 'logloss'. Explicitly set eval_metric if you'd like to restore the old behavior.\n"
     ]
    },
    {
     "name": "stderr",
     "output_type": "stream",
     "text": [
      "/opt/conda/lib/python3.9/site-packages/xgboost/sklearn.py:1224: UserWarning: The use of label encoder in XGBClassifier is deprecated and will be removed in a future release. To remove this warning, do the following: 1) Pass option use_label_encoder=False when constructing XGBClassifier object; and 2) Encode your labels (y) as integers starting with 0, i.e. 0, 1, 2, ..., [num_class - 1].\n",
      "  warnings.warn(label_encoder_deprecation_msg, UserWarning)\n"
     ]
    },
    {
     "name": "stdout",
     "output_type": "stream",
     "text": [
      "[16:38:21] WARNING: ../src/learner.cc:1115: Starting in XGBoost 1.3.0, the default evaluation metric used with the objective 'binary:logistic' was changed from 'error' to 'logloss'. Explicitly set eval_metric if you'd like to restore the old behavior.\n"
     ]
    },
    {
     "name": "stderr",
     "output_type": "stream",
     "text": [
      "/opt/conda/lib/python3.9/site-packages/xgboost/sklearn.py:1224: UserWarning: The use of label encoder in XGBClassifier is deprecated and will be removed in a future release. To remove this warning, do the following: 1) Pass option use_label_encoder=False when constructing XGBClassifier object; and 2) Encode your labels (y) as integers starting with 0, i.e. 0, 1, 2, ..., [num_class - 1].\n",
      "  warnings.warn(label_encoder_deprecation_msg, UserWarning)\n"
     ]
    },
    {
     "name": "stdout",
     "output_type": "stream",
     "text": [
      "[16:38:25] WARNING: ../src/learner.cc:1115: Starting in XGBoost 1.3.0, the default evaluation metric used with the objective 'binary:logistic' was changed from 'error' to 'logloss'. Explicitly set eval_metric if you'd like to restore the old behavior.\n"
     ]
    },
    {
     "name": "stderr",
     "output_type": "stream",
     "text": [
      "/opt/conda/lib/python3.9/site-packages/xgboost/sklearn.py:1224: UserWarning: The use of label encoder in XGBClassifier is deprecated and will be removed in a future release. To remove this warning, do the following: 1) Pass option use_label_encoder=False when constructing XGBClassifier object; and 2) Encode your labels (y) as integers starting with 0, i.e. 0, 1, 2, ..., [num_class - 1].\n",
      "  warnings.warn(label_encoder_deprecation_msg, UserWarning)\n"
     ]
    },
    {
     "name": "stdout",
     "output_type": "stream",
     "text": [
      "[16:38:30] WARNING: ../src/learner.cc:1115: Starting in XGBoost 1.3.0, the default evaluation metric used with the objective 'binary:logistic' was changed from 'error' to 'logloss'. Explicitly set eval_metric if you'd like to restore the old behavior.\n"
     ]
    },
    {
     "name": "stderr",
     "output_type": "stream",
     "text": [
      "/opt/conda/lib/python3.9/site-packages/xgboost/sklearn.py:1224: UserWarning: The use of label encoder in XGBClassifier is deprecated and will be removed in a future release. To remove this warning, do the following: 1) Pass option use_label_encoder=False when constructing XGBClassifier object; and 2) Encode your labels (y) as integers starting with 0, i.e. 0, 1, 2, ..., [num_class - 1].\n",
      "  warnings.warn(label_encoder_deprecation_msg, UserWarning)\n"
     ]
    },
    {
     "name": "stdout",
     "output_type": "stream",
     "text": [
      "[16:38:35] WARNING: ../src/learner.cc:1115: Starting in XGBoost 1.3.0, the default evaluation metric used with the objective 'binary:logistic' was changed from 'error' to 'logloss'. Explicitly set eval_metric if you'd like to restore the old behavior.\n"
     ]
    },
    {
     "name": "stderr",
     "output_type": "stream",
     "text": [
      "/opt/conda/lib/python3.9/site-packages/xgboost/sklearn.py:1224: UserWarning: The use of label encoder in XGBClassifier is deprecated and will be removed in a future release. To remove this warning, do the following: 1) Pass option use_label_encoder=False when constructing XGBClassifier object; and 2) Encode your labels (y) as integers starting with 0, i.e. 0, 1, 2, ..., [num_class - 1].\n",
      "  warnings.warn(label_encoder_deprecation_msg, UserWarning)\n"
     ]
    },
    {
     "name": "stdout",
     "output_type": "stream",
     "text": [
      "[16:38:42] WARNING: ../src/learner.cc:1115: Starting in XGBoost 1.3.0, the default evaluation metric used with the objective 'binary:logistic' was changed from 'error' to 'logloss'. Explicitly set eval_metric if you'd like to restore the old behavior.\n"
     ]
    },
    {
     "name": "stderr",
     "output_type": "stream",
     "text": [
      "/opt/conda/lib/python3.9/site-packages/xgboost/sklearn.py:1224: UserWarning: The use of label encoder in XGBClassifier is deprecated and will be removed in a future release. To remove this warning, do the following: 1) Pass option use_label_encoder=False when constructing XGBClassifier object; and 2) Encode your labels (y) as integers starting with 0, i.e. 0, 1, 2, ..., [num_class - 1].\n",
      "  warnings.warn(label_encoder_deprecation_msg, UserWarning)\n"
     ]
    },
    {
     "name": "stdout",
     "output_type": "stream",
     "text": [
      "[16:38:49] WARNING: ../src/learner.cc:1115: Starting in XGBoost 1.3.0, the default evaluation metric used with the objective 'binary:logistic' was changed from 'error' to 'logloss'. Explicitly set eval_metric if you'd like to restore the old behavior.\n"
     ]
    },
    {
     "name": "stderr",
     "output_type": "stream",
     "text": [
      "/opt/conda/lib/python3.9/site-packages/xgboost/sklearn.py:1224: UserWarning: The use of label encoder in XGBClassifier is deprecated and will be removed in a future release. To remove this warning, do the following: 1) Pass option use_label_encoder=False when constructing XGBClassifier object; and 2) Encode your labels (y) as integers starting with 0, i.e. 0, 1, 2, ..., [num_class - 1].\n",
      "  warnings.warn(label_encoder_deprecation_msg, UserWarning)\n"
     ]
    },
    {
     "name": "stdout",
     "output_type": "stream",
     "text": [
      "[16:38:56] WARNING: ../src/learner.cc:1115: Starting in XGBoost 1.3.0, the default evaluation metric used with the objective 'binary:logistic' was changed from 'error' to 'logloss'. Explicitly set eval_metric if you'd like to restore the old behavior.\n"
     ]
    },
    {
     "name": "stderr",
     "output_type": "stream",
     "text": [
      "/opt/conda/lib/python3.9/site-packages/xgboost/sklearn.py:1224: UserWarning: The use of label encoder in XGBClassifier is deprecated and will be removed in a future release. To remove this warning, do the following: 1) Pass option use_label_encoder=False when constructing XGBClassifier object; and 2) Encode your labels (y) as integers starting with 0, i.e. 0, 1, 2, ..., [num_class - 1].\n",
      "  warnings.warn(label_encoder_deprecation_msg, UserWarning)\n"
     ]
    },
    {
     "name": "stdout",
     "output_type": "stream",
     "text": [
      "[16:39:05] WARNING: ../src/learner.cc:1115: Starting in XGBoost 1.3.0, the default evaluation metric used with the objective 'binary:logistic' was changed from 'error' to 'logloss'. Explicitly set eval_metric if you'd like to restore the old behavior.\n"
     ]
    },
    {
     "name": "stderr",
     "output_type": "stream",
     "text": [
      "/opt/conda/lib/python3.9/site-packages/xgboost/sklearn.py:1224: UserWarning: The use of label encoder in XGBClassifier is deprecated and will be removed in a future release. To remove this warning, do the following: 1) Pass option use_label_encoder=False when constructing XGBClassifier object; and 2) Encode your labels (y) as integers starting with 0, i.e. 0, 1, 2, ..., [num_class - 1].\n",
      "  warnings.warn(label_encoder_deprecation_msg, UserWarning)\n"
     ]
    },
    {
     "name": "stdout",
     "output_type": "stream",
     "text": [
      "[16:39:14] WARNING: ../src/learner.cc:1115: Starting in XGBoost 1.3.0, the default evaluation metric used with the objective 'binary:logistic' was changed from 'error' to 'logloss'. Explicitly set eval_metric if you'd like to restore the old behavior.\n"
     ]
    },
    {
     "name": "stderr",
     "output_type": "stream",
     "text": [
      "/opt/conda/lib/python3.9/site-packages/xgboost/sklearn.py:1224: UserWarning: The use of label encoder in XGBClassifier is deprecated and will be removed in a future release. To remove this warning, do the following: 1) Pass option use_label_encoder=False when constructing XGBClassifier object; and 2) Encode your labels (y) as integers starting with 0, i.e. 0, 1, 2, ..., [num_class - 1].\n",
      "  warnings.warn(label_encoder_deprecation_msg, UserWarning)\n"
     ]
    },
    {
     "name": "stdout",
     "output_type": "stream",
     "text": [
      "[16:39:24] WARNING: ../src/learner.cc:1115: Starting in XGBoost 1.3.0, the default evaluation metric used with the objective 'binary:logistic' was changed from 'error' to 'logloss'. Explicitly set eval_metric if you'd like to restore the old behavior.\n"
     ]
    },
    {
     "name": "stderr",
     "output_type": "stream",
     "text": [
      "/opt/conda/lib/python3.9/site-packages/xgboost/sklearn.py:1224: UserWarning: The use of label encoder in XGBClassifier is deprecated and will be removed in a future release. To remove this warning, do the following: 1) Pass option use_label_encoder=False when constructing XGBClassifier object; and 2) Encode your labels (y) as integers starting with 0, i.e. 0, 1, 2, ..., [num_class - 1].\n",
      "  warnings.warn(label_encoder_deprecation_msg, UserWarning)\n"
     ]
    },
    {
     "name": "stdout",
     "output_type": "stream",
     "text": [
      "[16:39:28] WARNING: ../src/learner.cc:1115: Starting in XGBoost 1.3.0, the default evaluation metric used with the objective 'binary:logistic' was changed from 'error' to 'logloss'. Explicitly set eval_metric if you'd like to restore the old behavior.\n"
     ]
    },
    {
     "name": "stderr",
     "output_type": "stream",
     "text": [
      "/opt/conda/lib/python3.9/site-packages/xgboost/sklearn.py:1224: UserWarning: The use of label encoder in XGBClassifier is deprecated and will be removed in a future release. To remove this warning, do the following: 1) Pass option use_label_encoder=False when constructing XGBClassifier object; and 2) Encode your labels (y) as integers starting with 0, i.e. 0, 1, 2, ..., [num_class - 1].\n",
      "  warnings.warn(label_encoder_deprecation_msg, UserWarning)\n"
     ]
    },
    {
     "name": "stdout",
     "output_type": "stream",
     "text": [
      "[16:39:32] WARNING: ../src/learner.cc:1115: Starting in XGBoost 1.3.0, the default evaluation metric used with the objective 'binary:logistic' was changed from 'error' to 'logloss'. Explicitly set eval_metric if you'd like to restore the old behavior.\n"
     ]
    },
    {
     "name": "stderr",
     "output_type": "stream",
     "text": [
      "/opt/conda/lib/python3.9/site-packages/xgboost/sklearn.py:1224: UserWarning: The use of label encoder in XGBClassifier is deprecated and will be removed in a future release. To remove this warning, do the following: 1) Pass option use_label_encoder=False when constructing XGBClassifier object; and 2) Encode your labels (y) as integers starting with 0, i.e. 0, 1, 2, ..., [num_class - 1].\n",
      "  warnings.warn(label_encoder_deprecation_msg, UserWarning)\n"
     ]
    },
    {
     "name": "stdout",
     "output_type": "stream",
     "text": [
      "[16:39:37] WARNING: ../src/learner.cc:1115: Starting in XGBoost 1.3.0, the default evaluation metric used with the objective 'binary:logistic' was changed from 'error' to 'logloss'. Explicitly set eval_metric if you'd like to restore the old behavior.\n"
     ]
    },
    {
     "name": "stderr",
     "output_type": "stream",
     "text": [
      "/opt/conda/lib/python3.9/site-packages/xgboost/sklearn.py:1224: UserWarning: The use of label encoder in XGBClassifier is deprecated and will be removed in a future release. To remove this warning, do the following: 1) Pass option use_label_encoder=False when constructing XGBClassifier object; and 2) Encode your labels (y) as integers starting with 0, i.e. 0, 1, 2, ..., [num_class - 1].\n",
      "  warnings.warn(label_encoder_deprecation_msg, UserWarning)\n"
     ]
    },
    {
     "name": "stdout",
     "output_type": "stream",
     "text": [
      "[16:39:45] WARNING: ../src/learner.cc:1115: Starting in XGBoost 1.3.0, the default evaluation metric used with the objective 'binary:logistic' was changed from 'error' to 'logloss'. Explicitly set eval_metric if you'd like to restore the old behavior.\n"
     ]
    },
    {
     "name": "stderr",
     "output_type": "stream",
     "text": [
      "/opt/conda/lib/python3.9/site-packages/xgboost/sklearn.py:1224: UserWarning: The use of label encoder in XGBClassifier is deprecated and will be removed in a future release. To remove this warning, do the following: 1) Pass option use_label_encoder=False when constructing XGBClassifier object; and 2) Encode your labels (y) as integers starting with 0, i.e. 0, 1, 2, ..., [num_class - 1].\n",
      "  warnings.warn(label_encoder_deprecation_msg, UserWarning)\n"
     ]
    },
    {
     "name": "stdout",
     "output_type": "stream",
     "text": [
      "[16:39:54] WARNING: ../src/learner.cc:1115: Starting in XGBoost 1.3.0, the default evaluation metric used with the objective 'binary:logistic' was changed from 'error' to 'logloss'. Explicitly set eval_metric if you'd like to restore the old behavior.\n"
     ]
    },
    {
     "name": "stderr",
     "output_type": "stream",
     "text": [
      "/opt/conda/lib/python3.9/site-packages/xgboost/sklearn.py:1224: UserWarning: The use of label encoder in XGBClassifier is deprecated and will be removed in a future release. To remove this warning, do the following: 1) Pass option use_label_encoder=False when constructing XGBClassifier object; and 2) Encode your labels (y) as integers starting with 0, i.e. 0, 1, 2, ..., [num_class - 1].\n",
      "  warnings.warn(label_encoder_deprecation_msg, UserWarning)\n"
     ]
    },
    {
     "name": "stdout",
     "output_type": "stream",
     "text": [
      "[16:40:01] WARNING: ../src/learner.cc:1115: Starting in XGBoost 1.3.0, the default evaluation metric used with the objective 'binary:logistic' was changed from 'error' to 'logloss'. Explicitly set eval_metric if you'd like to restore the old behavior.\n"
     ]
    },
    {
     "name": "stderr",
     "output_type": "stream",
     "text": [
      "/opt/conda/lib/python3.9/site-packages/xgboost/sklearn.py:1224: UserWarning: The use of label encoder in XGBClassifier is deprecated and will be removed in a future release. To remove this warning, do the following: 1) Pass option use_label_encoder=False when constructing XGBClassifier object; and 2) Encode your labels (y) as integers starting with 0, i.e. 0, 1, 2, ..., [num_class - 1].\n",
      "  warnings.warn(label_encoder_deprecation_msg, UserWarning)\n"
     ]
    },
    {
     "name": "stdout",
     "output_type": "stream",
     "text": [
      "[16:40:12] WARNING: ../src/learner.cc:1115: Starting in XGBoost 1.3.0, the default evaluation metric used with the objective 'binary:logistic' was changed from 'error' to 'logloss'. Explicitly set eval_metric if you'd like to restore the old behavior.\n"
     ]
    },
    {
     "name": "stderr",
     "output_type": "stream",
     "text": [
      "/opt/conda/lib/python3.9/site-packages/xgboost/sklearn.py:1224: UserWarning: The use of label encoder in XGBClassifier is deprecated and will be removed in a future release. To remove this warning, do the following: 1) Pass option use_label_encoder=False when constructing XGBClassifier object; and 2) Encode your labels (y) as integers starting with 0, i.e. 0, 1, 2, ..., [num_class - 1].\n",
      "  warnings.warn(label_encoder_deprecation_msg, UserWarning)\n"
     ]
    },
    {
     "name": "stdout",
     "output_type": "stream",
     "text": [
      "[16:40:23] WARNING: ../src/learner.cc:1115: Starting in XGBoost 1.3.0, the default evaluation metric used with the objective 'binary:logistic' was changed from 'error' to 'logloss'. Explicitly set eval_metric if you'd like to restore the old behavior.\n"
     ]
    },
    {
     "name": "stderr",
     "output_type": "stream",
     "text": [
      "/opt/conda/lib/python3.9/site-packages/xgboost/sklearn.py:1224: UserWarning: The use of label encoder in XGBClassifier is deprecated and will be removed in a future release. To remove this warning, do the following: 1) Pass option use_label_encoder=False when constructing XGBClassifier object; and 2) Encode your labels (y) as integers starting with 0, i.e. 0, 1, 2, ..., [num_class - 1].\n",
      "  warnings.warn(label_encoder_deprecation_msg, UserWarning)\n"
     ]
    },
    {
     "name": "stdout",
     "output_type": "stream",
     "text": [
      "[16:40:34] WARNING: ../src/learner.cc:1115: Starting in XGBoost 1.3.0, the default evaluation metric used with the objective 'binary:logistic' was changed from 'error' to 'logloss'. Explicitly set eval_metric if you'd like to restore the old behavior.\n"
     ]
    },
    {
     "name": "stderr",
     "output_type": "stream",
     "text": [
      "/opt/conda/lib/python3.9/site-packages/xgboost/sklearn.py:1224: UserWarning: The use of label encoder in XGBClassifier is deprecated and will be removed in a future release. To remove this warning, do the following: 1) Pass option use_label_encoder=False when constructing XGBClassifier object; and 2) Encode your labels (y) as integers starting with 0, i.e. 0, 1, 2, ..., [num_class - 1].\n",
      "  warnings.warn(label_encoder_deprecation_msg, UserWarning)\n"
     ]
    },
    {
     "name": "stdout",
     "output_type": "stream",
     "text": [
      "[16:41:03] WARNING: ../src/learner.cc:1115: Starting in XGBoost 1.3.0, the default evaluation metric used with the objective 'binary:logistic' was changed from 'error' to 'logloss'. Explicitly set eval_metric if you'd like to restore the old behavior.\n"
     ]
    },
    {
     "name": "stderr",
     "output_type": "stream",
     "text": [
      "/opt/conda/lib/python3.9/site-packages/xgboost/sklearn.py:1224: UserWarning: The use of label encoder in XGBClassifier is deprecated and will be removed in a future release. To remove this warning, do the following: 1) Pass option use_label_encoder=False when constructing XGBClassifier object; and 2) Encode your labels (y) as integers starting with 0, i.e. 0, 1, 2, ..., [num_class - 1].\n",
      "  warnings.warn(label_encoder_deprecation_msg, UserWarning)\n"
     ]
    },
    {
     "name": "stdout",
     "output_type": "stream",
     "text": [
      "[16:41:41] WARNING: ../src/learner.cc:1115: Starting in XGBoost 1.3.0, the default evaluation metric used with the objective 'binary:logistic' was changed from 'error' to 'logloss'. Explicitly set eval_metric if you'd like to restore the old behavior.\n"
     ]
    },
    {
     "name": "stderr",
     "output_type": "stream",
     "text": [
      "/opt/conda/lib/python3.9/site-packages/xgboost/sklearn.py:1224: UserWarning: The use of label encoder in XGBClassifier is deprecated and will be removed in a future release. To remove this warning, do the following: 1) Pass option use_label_encoder=False when constructing XGBClassifier object; and 2) Encode your labels (y) as integers starting with 0, i.e. 0, 1, 2, ..., [num_class - 1].\n",
      "  warnings.warn(label_encoder_deprecation_msg, UserWarning)\n"
     ]
    },
    {
     "name": "stdout",
     "output_type": "stream",
     "text": [
      "[16:42:13] WARNING: ../src/learner.cc:1115: Starting in XGBoost 1.3.0, the default evaluation metric used with the objective 'binary:logistic' was changed from 'error' to 'logloss'. Explicitly set eval_metric if you'd like to restore the old behavior.\n"
     ]
    },
    {
     "name": "stderr",
     "output_type": "stream",
     "text": [
      "/opt/conda/lib/python3.9/site-packages/xgboost/sklearn.py:1224: UserWarning: The use of label encoder in XGBClassifier is deprecated and will be removed in a future release. To remove this warning, do the following: 1) Pass option use_label_encoder=False when constructing XGBClassifier object; and 2) Encode your labels (y) as integers starting with 0, i.e. 0, 1, 2, ..., [num_class - 1].\n",
      "  warnings.warn(label_encoder_deprecation_msg, UserWarning)\n"
     ]
    },
    {
     "name": "stdout",
     "output_type": "stream",
     "text": [
      "[16:42:19] WARNING: ../src/learner.cc:1115: Starting in XGBoost 1.3.0, the default evaluation metric used with the objective 'binary:logistic' was changed from 'error' to 'logloss'. Explicitly set eval_metric if you'd like to restore the old behavior.\n"
     ]
    },
    {
     "name": "stderr",
     "output_type": "stream",
     "text": [
      "/opt/conda/lib/python3.9/site-packages/xgboost/sklearn.py:1224: UserWarning: The use of label encoder in XGBClassifier is deprecated and will be removed in a future release. To remove this warning, do the following: 1) Pass option use_label_encoder=False when constructing XGBClassifier object; and 2) Encode your labels (y) as integers starting with 0, i.e. 0, 1, 2, ..., [num_class - 1].\n",
      "  warnings.warn(label_encoder_deprecation_msg, UserWarning)\n"
     ]
    },
    {
     "name": "stdout",
     "output_type": "stream",
     "text": [
      "[16:42:24] WARNING: ../src/learner.cc:1115: Starting in XGBoost 1.3.0, the default evaluation metric used with the objective 'binary:logistic' was changed from 'error' to 'logloss'. Explicitly set eval_metric if you'd like to restore the old behavior.\n"
     ]
    },
    {
     "name": "stderr",
     "output_type": "stream",
     "text": [
      "/opt/conda/lib/python3.9/site-packages/xgboost/sklearn.py:1224: UserWarning: The use of label encoder in XGBClassifier is deprecated and will be removed in a future release. To remove this warning, do the following: 1) Pass option use_label_encoder=False when constructing XGBClassifier object; and 2) Encode your labels (y) as integers starting with 0, i.e. 0, 1, 2, ..., [num_class - 1].\n",
      "  warnings.warn(label_encoder_deprecation_msg, UserWarning)\n"
     ]
    },
    {
     "name": "stdout",
     "output_type": "stream",
     "text": [
      "[16:42:29] WARNING: ../src/learner.cc:1115: Starting in XGBoost 1.3.0, the default evaluation metric used with the objective 'binary:logistic' was changed from 'error' to 'logloss'. Explicitly set eval_metric if you'd like to restore the old behavior.\n"
     ]
    },
    {
     "name": "stderr",
     "output_type": "stream",
     "text": [
      "/opt/conda/lib/python3.9/site-packages/xgboost/sklearn.py:1224: UserWarning: The use of label encoder in XGBClassifier is deprecated and will be removed in a future release. To remove this warning, do the following: 1) Pass option use_label_encoder=False when constructing XGBClassifier object; and 2) Encode your labels (y) as integers starting with 0, i.e. 0, 1, 2, ..., [num_class - 1].\n",
      "  warnings.warn(label_encoder_deprecation_msg, UserWarning)\n"
     ]
    },
    {
     "name": "stdout",
     "output_type": "stream",
     "text": [
      "[16:42:42] WARNING: ../src/learner.cc:1115: Starting in XGBoost 1.3.0, the default evaluation metric used with the objective 'binary:logistic' was changed from 'error' to 'logloss'. Explicitly set eval_metric if you'd like to restore the old behavior.\n"
     ]
    },
    {
     "name": "stderr",
     "output_type": "stream",
     "text": [
      "/opt/conda/lib/python3.9/site-packages/xgboost/sklearn.py:1224: UserWarning: The use of label encoder in XGBClassifier is deprecated and will be removed in a future release. To remove this warning, do the following: 1) Pass option use_label_encoder=False when constructing XGBClassifier object; and 2) Encode your labels (y) as integers starting with 0, i.e. 0, 1, 2, ..., [num_class - 1].\n",
      "  warnings.warn(label_encoder_deprecation_msg, UserWarning)\n"
     ]
    },
    {
     "name": "stdout",
     "output_type": "stream",
     "text": [
      "[16:42:53] WARNING: ../src/learner.cc:1115: Starting in XGBoost 1.3.0, the default evaluation metric used with the objective 'binary:logistic' was changed from 'error' to 'logloss'. Explicitly set eval_metric if you'd like to restore the old behavior.\n"
     ]
    },
    {
     "name": "stderr",
     "output_type": "stream",
     "text": [
      "/opt/conda/lib/python3.9/site-packages/xgboost/sklearn.py:1224: UserWarning: The use of label encoder in XGBClassifier is deprecated and will be removed in a future release. To remove this warning, do the following: 1) Pass option use_label_encoder=False when constructing XGBClassifier object; and 2) Encode your labels (y) as integers starting with 0, i.e. 0, 1, 2, ..., [num_class - 1].\n",
      "  warnings.warn(label_encoder_deprecation_msg, UserWarning)\n"
     ]
    },
    {
     "name": "stdout",
     "output_type": "stream",
     "text": [
      "[16:43:25] WARNING: ../src/learner.cc:1115: Starting in XGBoost 1.3.0, the default evaluation metric used with the objective 'binary:logistic' was changed from 'error' to 'logloss'. Explicitly set eval_metric if you'd like to restore the old behavior.\n"
     ]
    },
    {
     "name": "stderr",
     "output_type": "stream",
     "text": [
      "/opt/conda/lib/python3.9/site-packages/xgboost/sklearn.py:1224: UserWarning: The use of label encoder in XGBClassifier is deprecated and will be removed in a future release. To remove this warning, do the following: 1) Pass option use_label_encoder=False when constructing XGBClassifier object; and 2) Encode your labels (y) as integers starting with 0, i.e. 0, 1, 2, ..., [num_class - 1].\n",
      "  warnings.warn(label_encoder_deprecation_msg, UserWarning)\n"
     ]
    },
    {
     "name": "stdout",
     "output_type": "stream",
     "text": [
      "[16:44:09] WARNING: ../src/learner.cc:1115: Starting in XGBoost 1.3.0, the default evaluation metric used with the objective 'binary:logistic' was changed from 'error' to 'logloss'. Explicitly set eval_metric if you'd like to restore the old behavior.\n"
     ]
    },
    {
     "name": "stderr",
     "output_type": "stream",
     "text": [
      "/opt/conda/lib/python3.9/site-packages/xgboost/sklearn.py:1224: UserWarning: The use of label encoder in XGBClassifier is deprecated and will be removed in a future release. To remove this warning, do the following: 1) Pass option use_label_encoder=False when constructing XGBClassifier object; and 2) Encode your labels (y) as integers starting with 0, i.e. 0, 1, 2, ..., [num_class - 1].\n",
      "  warnings.warn(label_encoder_deprecation_msg, UserWarning)\n"
     ]
    },
    {
     "name": "stdout",
     "output_type": "stream",
     "text": [
      "[16:44:26] WARNING: ../src/learner.cc:1115: Starting in XGBoost 1.3.0, the default evaluation metric used with the objective 'binary:logistic' was changed from 'error' to 'logloss'. Explicitly set eval_metric if you'd like to restore the old behavior.\n"
     ]
    },
    {
     "name": "stderr",
     "output_type": "stream",
     "text": [
      "/opt/conda/lib/python3.9/site-packages/xgboost/sklearn.py:1224: UserWarning: The use of label encoder in XGBClassifier is deprecated and will be removed in a future release. To remove this warning, do the following: 1) Pass option use_label_encoder=False when constructing XGBClassifier object; and 2) Encode your labels (y) as integers starting with 0, i.e. 0, 1, 2, ..., [num_class - 1].\n",
      "  warnings.warn(label_encoder_deprecation_msg, UserWarning)\n"
     ]
    },
    {
     "name": "stdout",
     "output_type": "stream",
     "text": [
      "[16:44:52] WARNING: ../src/learner.cc:1115: Starting in XGBoost 1.3.0, the default evaluation metric used with the objective 'binary:logistic' was changed from 'error' to 'logloss'. Explicitly set eval_metric if you'd like to restore the old behavior.\n"
     ]
    },
    {
     "name": "stderr",
     "output_type": "stream",
     "text": [
      "/opt/conda/lib/python3.9/site-packages/xgboost/sklearn.py:1224: UserWarning: The use of label encoder in XGBClassifier is deprecated and will be removed in a future release. To remove this warning, do the following: 1) Pass option use_label_encoder=False when constructing XGBClassifier object; and 2) Encode your labels (y) as integers starting with 0, i.e. 0, 1, 2, ..., [num_class - 1].\n",
      "  warnings.warn(label_encoder_deprecation_msg, UserWarning)\n"
     ]
    },
    {
     "name": "stdout",
     "output_type": "stream",
     "text": [
      "[16:45:49] WARNING: ../src/learner.cc:1115: Starting in XGBoost 1.3.0, the default evaluation metric used with the objective 'binary:logistic' was changed from 'error' to 'logloss'. Explicitly set eval_metric if you'd like to restore the old behavior.\n"
     ]
    },
    {
     "name": "stderr",
     "output_type": "stream",
     "text": [
      "/opt/conda/lib/python3.9/site-packages/xgboost/sklearn.py:1224: UserWarning: The use of label encoder in XGBClassifier is deprecated and will be removed in a future release. To remove this warning, do the following: 1) Pass option use_label_encoder=False when constructing XGBClassifier object; and 2) Encode your labels (y) as integers starting with 0, i.e. 0, 1, 2, ..., [num_class - 1].\n",
      "  warnings.warn(label_encoder_deprecation_msg, UserWarning)\n"
     ]
    },
    {
     "name": "stdout",
     "output_type": "stream",
     "text": [
      "[16:46:13] WARNING: ../src/learner.cc:1115: Starting in XGBoost 1.3.0, the default evaluation metric used with the objective 'binary:logistic' was changed from 'error' to 'logloss'. Explicitly set eval_metric if you'd like to restore the old behavior.\n"
     ]
    },
    {
     "name": "stderr",
     "output_type": "stream",
     "text": [
      "/opt/conda/lib/python3.9/site-packages/xgboost/sklearn.py:1224: UserWarning: The use of label encoder in XGBClassifier is deprecated and will be removed in a future release. To remove this warning, do the following: 1) Pass option use_label_encoder=False when constructing XGBClassifier object; and 2) Encode your labels (y) as integers starting with 0, i.e. 0, 1, 2, ..., [num_class - 1].\n",
      "  warnings.warn(label_encoder_deprecation_msg, UserWarning)\n"
     ]
    },
    {
     "name": "stdout",
     "output_type": "stream",
     "text": [
      "[16:46:34] WARNING: ../src/learner.cc:1115: Starting in XGBoost 1.3.0, the default evaluation metric used with the objective 'binary:logistic' was changed from 'error' to 'logloss'. Explicitly set eval_metric if you'd like to restore the old behavior.\n"
     ]
    },
    {
     "name": "stderr",
     "output_type": "stream",
     "text": [
      "/opt/conda/lib/python3.9/site-packages/xgboost/sklearn.py:1224: UserWarning: The use of label encoder in XGBClassifier is deprecated and will be removed in a future release. To remove this warning, do the following: 1) Pass option use_label_encoder=False when constructing XGBClassifier object; and 2) Encode your labels (y) as integers starting with 0, i.e. 0, 1, 2, ..., [num_class - 1].\n",
      "  warnings.warn(label_encoder_deprecation_msg, UserWarning)\n"
     ]
    },
    {
     "name": "stdout",
     "output_type": "stream",
     "text": [
      "[16:46:54] WARNING: ../src/learner.cc:1115: Starting in XGBoost 1.3.0, the default evaluation metric used with the objective 'binary:logistic' was changed from 'error' to 'logloss'. Explicitly set eval_metric if you'd like to restore the old behavior.\n"
     ]
    },
    {
     "name": "stderr",
     "output_type": "stream",
     "text": [
      "/opt/conda/lib/python3.9/site-packages/xgboost/sklearn.py:1224: UserWarning: The use of label encoder in XGBClassifier is deprecated and will be removed in a future release. To remove this warning, do the following: 1) Pass option use_label_encoder=False when constructing XGBClassifier object; and 2) Encode your labels (y) as integers starting with 0, i.e. 0, 1, 2, ..., [num_class - 1].\n",
      "  warnings.warn(label_encoder_deprecation_msg, UserWarning)\n"
     ]
    },
    {
     "name": "stdout",
     "output_type": "stream",
     "text": [
      "[16:47:15] WARNING: ../src/learner.cc:1115: Starting in XGBoost 1.3.0, the default evaluation metric used with the objective 'binary:logistic' was changed from 'error' to 'logloss'. Explicitly set eval_metric if you'd like to restore the old behavior.\n"
     ]
    },
    {
     "name": "stderr",
     "output_type": "stream",
     "text": [
      "/opt/conda/lib/python3.9/site-packages/xgboost/sklearn.py:1224: UserWarning: The use of label encoder in XGBClassifier is deprecated and will be removed in a future release. To remove this warning, do the following: 1) Pass option use_label_encoder=False when constructing XGBClassifier object; and 2) Encode your labels (y) as integers starting with 0, i.e. 0, 1, 2, ..., [num_class - 1].\n",
      "  warnings.warn(label_encoder_deprecation_msg, UserWarning)\n"
     ]
    },
    {
     "name": "stdout",
     "output_type": "stream",
     "text": [
      "[16:47:33] WARNING: ../src/learner.cc:1115: Starting in XGBoost 1.3.0, the default evaluation metric used with the objective 'binary:logistic' was changed from 'error' to 'logloss'. Explicitly set eval_metric if you'd like to restore the old behavior.\n"
     ]
    },
    {
     "name": "stderr",
     "output_type": "stream",
     "text": [
      "/opt/conda/lib/python3.9/site-packages/xgboost/sklearn.py:1224: UserWarning: The use of label encoder in XGBClassifier is deprecated and will be removed in a future release. To remove this warning, do the following: 1) Pass option use_label_encoder=False when constructing XGBClassifier object; and 2) Encode your labels (y) as integers starting with 0, i.e. 0, 1, 2, ..., [num_class - 1].\n",
      "  warnings.warn(label_encoder_deprecation_msg, UserWarning)\n"
     ]
    },
    {
     "name": "stdout",
     "output_type": "stream",
     "text": [
      "[16:47:47] WARNING: ../src/learner.cc:1115: Starting in XGBoost 1.3.0, the default evaluation metric used with the objective 'binary:logistic' was changed from 'error' to 'logloss'. Explicitly set eval_metric if you'd like to restore the old behavior.\n"
     ]
    },
    {
     "name": "stderr",
     "output_type": "stream",
     "text": [
      "/opt/conda/lib/python3.9/site-packages/xgboost/sklearn.py:1224: UserWarning: The use of label encoder in XGBClassifier is deprecated and will be removed in a future release. To remove this warning, do the following: 1) Pass option use_label_encoder=False when constructing XGBClassifier object; and 2) Encode your labels (y) as integers starting with 0, i.e. 0, 1, 2, ..., [num_class - 1].\n",
      "  warnings.warn(label_encoder_deprecation_msg, UserWarning)\n"
     ]
    },
    {
     "name": "stdout",
     "output_type": "stream",
     "text": [
      "[16:48:26] WARNING: ../src/learner.cc:1115: Starting in XGBoost 1.3.0, the default evaluation metric used with the objective 'binary:logistic' was changed from 'error' to 'logloss'. Explicitly set eval_metric if you'd like to restore the old behavior.\n"
     ]
    },
    {
     "name": "stderr",
     "output_type": "stream",
     "text": [
      "/opt/conda/lib/python3.9/site-packages/xgboost/sklearn.py:1224: UserWarning: The use of label encoder in XGBClassifier is deprecated and will be removed in a future release. To remove this warning, do the following: 1) Pass option use_label_encoder=False when constructing XGBClassifier object; and 2) Encode your labels (y) as integers starting with 0, i.e. 0, 1, 2, ..., [num_class - 1].\n",
      "  warnings.warn(label_encoder_deprecation_msg, UserWarning)\n"
     ]
    },
    {
     "name": "stdout",
     "output_type": "stream",
     "text": [
      "[16:49:07] WARNING: ../src/learner.cc:1115: Starting in XGBoost 1.3.0, the default evaluation metric used with the objective 'binary:logistic' was changed from 'error' to 'logloss'. Explicitly set eval_metric if you'd like to restore the old behavior.\n"
     ]
    },
    {
     "name": "stderr",
     "output_type": "stream",
     "text": [
      "/opt/conda/lib/python3.9/site-packages/xgboost/sklearn.py:1224: UserWarning: The use of label encoder in XGBClassifier is deprecated and will be removed in a future release. To remove this warning, do the following: 1) Pass option use_label_encoder=False when constructing XGBClassifier object; and 2) Encode your labels (y) as integers starting with 0, i.e. 0, 1, 2, ..., [num_class - 1].\n",
      "  warnings.warn(label_encoder_deprecation_msg, UserWarning)\n"
     ]
    },
    {
     "name": "stdout",
     "output_type": "stream",
     "text": [
      "[16:49:46] WARNING: ../src/learner.cc:1115: Starting in XGBoost 1.3.0, the default evaluation metric used with the objective 'binary:logistic' was changed from 'error' to 'logloss'. Explicitly set eval_metric if you'd like to restore the old behavior.\n"
     ]
    },
    {
     "name": "stderr",
     "output_type": "stream",
     "text": [
      "/opt/conda/lib/python3.9/site-packages/xgboost/sklearn.py:1224: UserWarning: The use of label encoder in XGBClassifier is deprecated and will be removed in a future release. To remove this warning, do the following: 1) Pass option use_label_encoder=False when constructing XGBClassifier object; and 2) Encode your labels (y) as integers starting with 0, i.e. 0, 1, 2, ..., [num_class - 1].\n",
      "  warnings.warn(label_encoder_deprecation_msg, UserWarning)\n"
     ]
    },
    {
     "name": "stdout",
     "output_type": "stream",
     "text": [
      "[16:50:28] WARNING: ../src/learner.cc:1115: Starting in XGBoost 1.3.0, the default evaluation metric used with the objective 'binary:logistic' was changed from 'error' to 'logloss'. Explicitly set eval_metric if you'd like to restore the old behavior.\n"
     ]
    },
    {
     "name": "stderr",
     "output_type": "stream",
     "text": [
      "/opt/conda/lib/python3.9/site-packages/xgboost/sklearn.py:1224: UserWarning: The use of label encoder in XGBClassifier is deprecated and will be removed in a future release. To remove this warning, do the following: 1) Pass option use_label_encoder=False when constructing XGBClassifier object; and 2) Encode your labels (y) as integers starting with 0, i.e. 0, 1, 2, ..., [num_class - 1].\n",
      "  warnings.warn(label_encoder_deprecation_msg, UserWarning)\n"
     ]
    },
    {
     "name": "stdout",
     "output_type": "stream",
     "text": [
      "[16:51:12] WARNING: ../src/learner.cc:1115: Starting in XGBoost 1.3.0, the default evaluation metric used with the objective 'binary:logistic' was changed from 'error' to 'logloss'. Explicitly set eval_metric if you'd like to restore the old behavior.\n"
     ]
    },
    {
     "name": "stderr",
     "output_type": "stream",
     "text": [
      "/opt/conda/lib/python3.9/site-packages/xgboost/sklearn.py:1224: UserWarning: The use of label encoder in XGBClassifier is deprecated and will be removed in a future release. To remove this warning, do the following: 1) Pass option use_label_encoder=False when constructing XGBClassifier object; and 2) Encode your labels (y) as integers starting with 0, i.e. 0, 1, 2, ..., [num_class - 1].\n",
      "  warnings.warn(label_encoder_deprecation_msg, UserWarning)\n"
     ]
    },
    {
     "name": "stdout",
     "output_type": "stream",
     "text": [
      "[16:52:10] WARNING: ../src/learner.cc:1115: Starting in XGBoost 1.3.0, the default evaluation metric used with the objective 'binary:logistic' was changed from 'error' to 'logloss'. Explicitly set eval_metric if you'd like to restore the old behavior.\n"
     ]
    },
    {
     "name": "stderr",
     "output_type": "stream",
     "text": [
      "/opt/conda/lib/python3.9/site-packages/xgboost/sklearn.py:1224: UserWarning: The use of label encoder in XGBClassifier is deprecated and will be removed in a future release. To remove this warning, do the following: 1) Pass option use_label_encoder=False when constructing XGBClassifier object; and 2) Encode your labels (y) as integers starting with 0, i.e. 0, 1, 2, ..., [num_class - 1].\n",
      "  warnings.warn(label_encoder_deprecation_msg, UserWarning)\n"
     ]
    },
    {
     "name": "stdout",
     "output_type": "stream",
     "text": [
      "[16:52:34] WARNING: ../src/learner.cc:1115: Starting in XGBoost 1.3.0, the default evaluation metric used with the objective 'binary:logistic' was changed from 'error' to 'logloss'. Explicitly set eval_metric if you'd like to restore the old behavior.\n"
     ]
    },
    {
     "name": "stderr",
     "output_type": "stream",
     "text": [
      "/opt/conda/lib/python3.9/site-packages/xgboost/sklearn.py:1224: UserWarning: The use of label encoder in XGBClassifier is deprecated and will be removed in a future release. To remove this warning, do the following: 1) Pass option use_label_encoder=False when constructing XGBClassifier object; and 2) Encode your labels (y) as integers starting with 0, i.e. 0, 1, 2, ..., [num_class - 1].\n",
      "  warnings.warn(label_encoder_deprecation_msg, UserWarning)\n"
     ]
    },
    {
     "name": "stdout",
     "output_type": "stream",
     "text": [
      "[16:52:58] WARNING: ../src/learner.cc:1115: Starting in XGBoost 1.3.0, the default evaluation metric used with the objective 'binary:logistic' was changed from 'error' to 'logloss'. Explicitly set eval_metric if you'd like to restore the old behavior.\n",
      "CPU times: user 38min 37s, sys: 8.35 s, total: 38min 45s\n",
      "Wall time: 39min 1s\n"
     ]
    },
    {
     "data": {
      "text/plain": [
       "{'learning_rate': 0.3, 'max_depth': 9, 'n_estimators': 40}"
      ]
     },
     "execution_count": 69,
     "metadata": {},
     "output_type": "execute_result"
    }
   ],
   "source": [
    "%%time\n",
    "\n",
    "xgbc = XGBClassifier(random_state=12345)\n",
    "parametrs = {'max_depth': range(1, 10, 2),\n",
    "            'learning_rate':[0.1, 0.3],\n",
    "            'n_estimators': range(10, 50, 10)}\n",
    "xgbc_grid = GridSearchCV(xgbc, parametrs, scoring='f1', cv=3)\n",
    "xgbc_grid.fit(train_tfidf, target_train)\n",
    "xgbc_grid.best_params_"
   ]
  },
  {
   "cell_type": "markdown",
   "metadata": {},
   "source": [
    "Вычислим значение f1 на тестовой выборке при learning_rate =  0.3, max_depth = 9 и n_estimators = 40."
   ]
  },
  {
   "cell_type": "code",
   "execution_count": 70,
   "metadata": {},
   "outputs": [
    {
     "name": "stdout",
     "output_type": "stream",
     "text": [
      "[16:53:33] WARNING: ../src/learner.cc:1115: Starting in XGBoost 1.3.0, the default evaluation metric used with the objective 'binary:logistic' was changed from 'error' to 'logloss'. Explicitly set eval_metric if you'd like to restore the old behavior.\n",
      "Значение f1 при использовании модели градиентного бустинга: 0.67\n",
      "CPU times: user 55.1 s, sys: 187 ms, total: 55.2 s\n",
      "Wall time: 55.8 s\n"
     ]
    }
   ],
   "source": [
    "%%time\n",
    "\n",
    "xgbc = XGBClassifier(learning_rate=0.3, max_depth=9, n_estimators = 40, random_state=12345) \n",
    "xgbc.fit(train_tfidf, target_train)\n",
    "predictions = xgbc.predict(test_tfidf)\n",
    "print('Значение f1 при использовании модели градиентного бустинга:', round(f1_score(target_test, predictions), 2))"
   ]
  },
  {
   "cell_type": "markdown",
   "metadata": {},
   "source": [
    "## Выводы"
   ]
  },
  {
   "cell_type": "markdown",
   "metadata": {},
   "source": [
    "Достижение поставленной руководством компании \"Викишоп\" цели осуществлено в два этапа:\n",
    "\n",
    "1. Предобработка текста.\n",
    "2. Обучение моделей.\n",
    "\n",
    "На первом этапе текст удалось выполнить следующие задачи:\n",
    "\n",
    "- привести все буквы к нижнему регистру;\n",
    "- очистить текст от ненужных символов;\n",
    "- провести токенизацию и лемматизацию текста.\n",
    "\n",
    "Для эффективного обучения моделей была осуществлена оценка важности слов величиной TF-IDF, которую мы использовали для трансформации фичей. В качестве обучаемых моделей были выбраны:\n",
    "\n",
    "1. Модель логистической регрессии.\n",
    "2. Модель решающего дерева.\n",
    "3. Модель случайного леса.\n",
    "4. Модель градиентного бустинга.\n",
    "\n",
    "В качестве метрики руководство компании установило значение F1 не ниже 0.75. Лишь модель логистической регрессии смогла достигнуть планового показателя. Помимо качества модели стоит отметить ее скорость: она уступила только модели решающего дерева. \n",
    "\n",
    "Таким образом, составленная модель логистической регрессии позволит компании качественно классифицировать комментарии на позитивыне и негативные."
   ]
  }
 ],
 "metadata": {
  "ExecuteTimeLog": [
   {
    "duration": 2523,
    "start_time": "2022-04-16T16:09:37.121Z"
   },
   {
    "duration": 741,
    "start_time": "2022-04-16T16:10:43.501Z"
   },
   {
    "duration": 715,
    "start_time": "2022-04-16T16:10:48.233Z"
   },
   {
    "duration": 688,
    "start_time": "2022-04-16T16:11:06.505Z"
   },
   {
    "duration": 2434,
    "start_time": "2022-04-16T16:18:37.974Z"
   },
   {
    "duration": 756,
    "start_time": "2022-04-16T16:18:40.410Z"
   },
   {
    "duration": 383,
    "start_time": "2022-04-16T16:57:59.617Z"
   },
   {
    "duration": 756,
    "start_time": "2022-04-16T16:58:44.812Z"
   },
   {
    "duration": 691,
    "start_time": "2022-04-16T16:59:39.749Z"
   },
   {
    "duration": 25,
    "start_time": "2022-04-16T16:59:54.350Z"
   },
   {
    "duration": 202,
    "start_time": "2022-04-16T17:01:29.370Z"
   },
   {
    "duration": 2,
    "start_time": "2022-04-16T17:07:51.963Z"
   },
   {
    "duration": 17,
    "start_time": "2022-04-16T17:18:19.544Z"
   },
   {
    "duration": 21,
    "start_time": "2022-04-16T17:18:26.140Z"
   },
   {
    "duration": 15,
    "start_time": "2022-04-16T17:19:41.864Z"
   },
   {
    "duration": 64,
    "start_time": "2022-04-16T17:25:32.860Z"
   },
   {
    "duration": 10,
    "start_time": "2022-04-16T17:27:15.868Z"
   },
   {
    "duration": 9,
    "start_time": "2022-04-16T17:27:20.484Z"
   },
   {
    "duration": 2,
    "start_time": "2022-04-16T17:27:55.749Z"
   },
   {
    "duration": 12,
    "start_time": "2022-04-16T17:28:29.147Z"
   },
   {
    "duration": 1769,
    "start_time": "2022-04-16T17:29:04.200Z"
   },
   {
    "duration": 42,
    "start_time": "2022-04-16T17:29:18.552Z"
   },
   {
    "duration": 391,
    "start_time": "2022-04-16T17:29:24.009Z"
   },
   {
    "duration": 735,
    "start_time": "2022-04-16T17:29:24.402Z"
   },
   {
    "duration": 19,
    "start_time": "2022-04-16T17:29:25.139Z"
   },
   {
    "duration": 213,
    "start_time": "2022-04-16T17:29:25.160Z"
   },
   {
    "duration": 2,
    "start_time": "2022-04-16T17:29:25.375Z"
   },
   {
    "duration": 1763,
    "start_time": "2022-04-16T17:29:25.379Z"
   },
   {
    "duration": 5,
    "start_time": "2022-04-16T17:29:27.143Z"
   },
   {
    "duration": 35,
    "start_time": "2022-04-16T17:29:27.150Z"
   },
   {
    "duration": 46,
    "start_time": "2022-04-16T17:30:09.698Z"
   },
   {
    "duration": 6,
    "start_time": "2022-04-16T17:30:12.810Z"
   },
   {
    "duration": 340,
    "start_time": "2022-04-16T17:30:24.253Z"
   },
   {
    "duration": 860,
    "start_time": "2022-04-16T17:30:24.595Z"
   },
   {
    "duration": 28,
    "start_time": "2022-04-16T17:30:25.457Z"
   },
   {
    "duration": 220,
    "start_time": "2022-04-16T17:30:25.487Z"
   },
   {
    "duration": 3,
    "start_time": "2022-04-16T17:30:25.708Z"
   },
   {
    "duration": 1788,
    "start_time": "2022-04-16T17:30:25.712Z"
   },
   {
    "duration": 3,
    "start_time": "2022-04-16T17:30:27.502Z"
   },
   {
    "duration": 41,
    "start_time": "2022-04-16T17:30:27.507Z"
   },
   {
    "duration": 677,
    "start_time": "2022-04-16T17:32:33.041Z"
   },
   {
    "duration": 11,
    "start_time": "2022-04-16T17:33:17.401Z"
   },
   {
    "duration": 3,
    "start_time": "2022-04-16T17:43:14.205Z"
   },
   {
    "duration": 5,
    "start_time": "2022-04-16T17:44:07.941Z"
   },
   {
    "duration": 701,
    "start_time": "2022-04-16T17:48:44.572Z"
   },
   {
    "duration": 13,
    "start_time": "2022-04-16T17:48:53.782Z"
   },
   {
    "duration": 10,
    "start_time": "2022-04-16T17:49:01.164Z"
   },
   {
    "duration": 5,
    "start_time": "2022-04-16T17:49:55.186Z"
   },
   {
    "duration": 11,
    "start_time": "2022-04-16T17:50:14.866Z"
   },
   {
    "duration": 390,
    "start_time": "2022-04-16T18:18:01.814Z"
   },
   {
    "duration": 821,
    "start_time": "2022-04-16T18:18:02.206Z"
   },
   {
    "duration": 22,
    "start_time": "2022-04-16T18:18:03.028Z"
   },
   {
    "duration": 225,
    "start_time": "2022-04-16T18:18:03.051Z"
   },
   {
    "duration": 2,
    "start_time": "2022-04-16T18:18:03.278Z"
   },
   {
    "duration": 1822,
    "start_time": "2022-04-16T18:18:03.282Z"
   },
   {
    "duration": 11,
    "start_time": "2022-04-16T18:18:05.105Z"
   },
   {
    "duration": 9,
    "start_time": "2022-04-16T18:18:05.117Z"
   },
   {
    "duration": 10,
    "start_time": "2022-04-16T18:18:05.127Z"
   },
   {
    "duration": 808,
    "start_time": "2022-04-16T18:18:05.138Z"
   },
   {
    "duration": 0,
    "start_time": "2022-04-16T18:18:05.948Z"
   },
   {
    "duration": 0,
    "start_time": "2022-04-16T18:18:05.950Z"
   },
   {
    "duration": 10,
    "start_time": "2022-04-16T18:18:22.181Z"
   },
   {
    "duration": 3,
    "start_time": "2022-04-16T18:18:41.124Z"
   },
   {
    "duration": 690,
    "start_time": "2022-04-16T18:18:41.570Z"
   },
   {
    "duration": 23,
    "start_time": "2022-04-16T18:18:42.262Z"
   },
   {
    "duration": 195,
    "start_time": "2022-04-16T18:18:43.035Z"
   },
   {
    "duration": 2,
    "start_time": "2022-04-16T18:18:43.949Z"
   },
   {
    "duration": 2,
    "start_time": "2022-04-16T18:18:44.822Z"
   },
   {
    "duration": 3,
    "start_time": "2022-04-16T18:18:45.456Z"
   },
   {
    "duration": 10,
    "start_time": "2022-04-16T18:18:46.237Z"
   },
   {
    "duration": 13,
    "start_time": "2022-04-16T18:19:16.165Z"
   },
   {
    "duration": 420,
    "start_time": "2022-04-16T18:23:01.271Z"
   },
   {
    "duration": 815,
    "start_time": "2022-04-16T18:23:01.693Z"
   },
   {
    "duration": 21,
    "start_time": "2022-04-16T18:23:02.509Z"
   },
   {
    "duration": 216,
    "start_time": "2022-04-16T18:23:02.532Z"
   },
   {
    "duration": 2,
    "start_time": "2022-04-16T18:23:02.750Z"
   },
   {
    "duration": 1823,
    "start_time": "2022-04-16T18:23:02.754Z"
   },
   {
    "duration": 5,
    "start_time": "2022-04-16T18:23:04.579Z"
   },
   {
    "duration": 74,
    "start_time": "2022-04-16T18:23:04.585Z"
   },
   {
    "duration": 0,
    "start_time": "2022-04-16T18:23:04.660Z"
   },
   {
    "duration": 0,
    "start_time": "2022-04-16T18:23:04.661Z"
   },
   {
    "duration": 0,
    "start_time": "2022-04-16T18:23:04.663Z"
   },
   {
    "duration": 0,
    "start_time": "2022-04-16T18:23:04.663Z"
   },
   {
    "duration": 0,
    "start_time": "2022-04-16T18:23:04.664Z"
   },
   {
    "duration": 392,
    "start_time": "2022-04-18T16:45:07.661Z"
   },
   {
    "duration": 748,
    "start_time": "2022-04-18T16:45:08.055Z"
   },
   {
    "duration": 24,
    "start_time": "2022-04-18T16:45:08.805Z"
   },
   {
    "duration": 219,
    "start_time": "2022-04-18T16:45:08.831Z"
   },
   {
    "duration": 2,
    "start_time": "2022-04-18T16:45:09.052Z"
   },
   {
    "duration": 1762,
    "start_time": "2022-04-18T16:45:09.055Z"
   },
   {
    "duration": 4,
    "start_time": "2022-04-18T16:45:10.819Z"
   },
   {
    "duration": 77,
    "start_time": "2022-04-18T16:45:10.825Z"
   },
   {
    "duration": 0,
    "start_time": "2022-04-18T16:45:10.903Z"
   },
   {
    "duration": 0,
    "start_time": "2022-04-18T16:45:10.905Z"
   },
   {
    "duration": 0,
    "start_time": "2022-04-18T16:45:10.906Z"
   },
   {
    "duration": 0,
    "start_time": "2022-04-18T16:45:10.906Z"
   },
   {
    "duration": 0,
    "start_time": "2022-04-18T16:45:10.908Z"
   },
   {
    "duration": 4,
    "start_time": "2022-04-18T16:45:17.646Z"
   },
   {
    "duration": 3,
    "start_time": "2022-04-18T16:45:20.184Z"
   },
   {
    "duration": 647,
    "start_time": "2022-04-18T16:45:21.806Z"
   },
   {
    "duration": 14,
    "start_time": "2022-04-18T16:45:49.309Z"
   },
   {
    "duration": 891,
    "start_time": "2022-04-18T16:48:26.905Z"
   },
   {
    "duration": 3,
    "start_time": "2022-04-18T16:51:45.447Z"
   },
   {
    "duration": 61,
    "start_time": "2022-04-18T16:52:06.765Z"
   },
   {
    "duration": 3,
    "start_time": "2022-04-18T16:52:36.018Z"
   },
   {
    "duration": 1152,
    "start_time": "2022-04-18T16:52:36.483Z"
   },
   {
    "duration": 4,
    "start_time": "2022-04-18T16:53:45.274Z"
   },
   {
    "duration": 13,
    "start_time": "2022-04-18T16:53:46.723Z"
   },
   {
    "duration": 13,
    "start_time": "2022-04-18T16:53:53.026Z"
   },
   {
    "duration": 13,
    "start_time": "2022-04-18T16:54:37.237Z"
   },
   {
    "duration": 7,
    "start_time": "2022-04-18T16:55:00.353Z"
   },
   {
    "duration": 3,
    "start_time": "2022-04-18T16:55:10.704Z"
   },
   {
    "duration": 40410,
    "start_time": "2022-04-18T16:55:11.096Z"
   },
   {
    "duration": 2,
    "start_time": "2022-04-18T16:58:18.604Z"
   },
   {
    "duration": 729,
    "start_time": "2022-04-18T16:58:18.608Z"
   },
   {
    "duration": 30,
    "start_time": "2022-04-18T16:58:19.338Z"
   },
   {
    "duration": 222,
    "start_time": "2022-04-18T16:58:19.370Z"
   },
   {
    "duration": 3,
    "start_time": "2022-04-18T16:58:19.593Z"
   },
   {
    "duration": 1458,
    "start_time": "2022-04-18T16:58:28.835Z"
   },
   {
    "duration": 809,
    "start_time": "2022-04-18T16:58:30.295Z"
   },
   {
    "duration": 27,
    "start_time": "2022-04-18T16:58:31.106Z"
   },
   {
    "duration": 228,
    "start_time": "2022-04-18T16:58:31.135Z"
   },
   {
    "duration": 3,
    "start_time": "2022-04-18T16:58:31.366Z"
   },
   {
    "duration": 1830,
    "start_time": "2022-04-18T16:58:31.371Z"
   },
   {
    "duration": 5,
    "start_time": "2022-04-18T16:58:33.203Z"
   },
   {
    "duration": 821,
    "start_time": "2022-04-18T16:58:33.210Z"
   },
   {
    "duration": 0,
    "start_time": "2022-04-18T16:58:34.034Z"
   },
   {
    "duration": 0,
    "start_time": "2022-04-18T16:58:34.035Z"
   },
   {
    "duration": 1,
    "start_time": "2022-04-18T16:58:34.036Z"
   },
   {
    "duration": 0,
    "start_time": "2022-04-18T16:58:34.038Z"
   },
   {
    "duration": 0,
    "start_time": "2022-04-18T16:58:34.047Z"
   },
   {
    "duration": 4,
    "start_time": "2022-04-18T16:59:12.576Z"
   },
   {
    "duration": 762,
    "start_time": "2022-04-18T16:59:12.986Z"
   },
   {
    "duration": 3,
    "start_time": "2022-04-18T17:00:38.592Z"
   },
   {
    "duration": 5594395,
    "start_time": "2022-04-18T17:00:42.016Z"
   },
   {
    "duration": 34,
    "start_time": "2022-04-18T18:36:17.489Z"
   },
   {
    "duration": 1360,
    "start_time": "2022-04-18T18:36:46.310Z"
   },
   {
    "duration": 819,
    "start_time": "2022-04-18T18:36:47.672Z"
   },
   {
    "duration": 26,
    "start_time": "2022-04-18T18:36:48.493Z"
   },
   {
    "duration": 220,
    "start_time": "2022-04-18T18:36:48.521Z"
   },
   {
    "duration": 2,
    "start_time": "2022-04-18T18:36:48.747Z"
   },
   {
    "duration": 0,
    "start_time": "2022-04-18T18:36:51.055Z"
   },
   {
    "duration": 0,
    "start_time": "2022-04-18T18:36:51.056Z"
   },
   {
    "duration": 0,
    "start_time": "2022-04-18T18:36:51.058Z"
   },
   {
    "duration": 0,
    "start_time": "2022-04-18T18:36:51.059Z"
   },
   {
    "duration": 0,
    "start_time": "2022-04-18T18:36:51.061Z"
   },
   {
    "duration": 0,
    "start_time": "2022-04-18T18:36:51.062Z"
   },
   {
    "duration": 0,
    "start_time": "2022-04-18T18:36:51.063Z"
   },
   {
    "duration": 0,
    "start_time": "2022-04-18T18:36:51.065Z"
   },
   {
    "duration": 0,
    "start_time": "2022-04-18T18:36:51.067Z"
   },
   {
    "duration": 0,
    "start_time": "2022-04-18T18:36:51.068Z"
   },
   {
    "duration": 0,
    "start_time": "2022-04-18T18:36:51.070Z"
   },
   {
    "duration": 0,
    "start_time": "2022-04-18T18:36:51.071Z"
   },
   {
    "duration": 0,
    "start_time": "2022-04-18T18:36:51.073Z"
   },
   {
    "duration": 0,
    "start_time": "2022-04-18T18:36:51.074Z"
   },
   {
    "duration": 1334,
    "start_time": "2022-04-18T18:37:18.077Z"
   },
   {
    "duration": 835,
    "start_time": "2022-04-18T18:37:20.620Z"
   },
   {
    "duration": 28,
    "start_time": "2022-04-18T18:37:21.457Z"
   },
   {
    "duration": 215,
    "start_time": "2022-04-18T18:37:22.589Z"
   },
   {
    "duration": 3,
    "start_time": "2022-04-18T18:37:23.343Z"
   },
   {
    "duration": 2377,
    "start_time": "2022-04-18T18:37:24.380Z"
   },
   {
    "duration": 185,
    "start_time": "2022-04-18T18:37:26.760Z"
   },
   {
    "duration": 3,
    "start_time": "2022-04-18T18:38:34.939Z"
   },
   {
    "duration": 4727,
    "start_time": "2022-04-18T18:38:39.173Z"
   },
   {
    "duration": 4,
    "start_time": "2022-04-18T18:38:55.907Z"
   },
   {
    "duration": 3,
    "start_time": "2022-04-18T18:39:40.941Z"
   },
   {
    "duration": 725,
    "start_time": "2022-04-18T18:39:40.946Z"
   },
   {
    "duration": 27,
    "start_time": "2022-04-18T18:39:41.673Z"
   },
   {
    "duration": 220,
    "start_time": "2022-04-18T18:39:41.702Z"
   },
   {
    "duration": 2,
    "start_time": "2022-04-18T18:39:41.925Z"
   },
   {
    "duration": 1322,
    "start_time": "2022-04-18T18:39:46.839Z"
   },
   {
    "duration": 816,
    "start_time": "2022-04-18T18:39:48.164Z"
   },
   {
    "duration": 27,
    "start_time": "2022-04-18T18:39:48.982Z"
   },
   {
    "duration": 230,
    "start_time": "2022-04-18T18:39:49.010Z"
   },
   {
    "duration": 2,
    "start_time": "2022-04-18T18:39:49.247Z"
   },
   {
    "duration": 1860,
    "start_time": "2022-04-18T18:39:49.251Z"
   },
   {
    "duration": 7,
    "start_time": "2022-04-18T18:39:51.113Z"
   },
   {
    "duration": 4,
    "start_time": "2022-04-18T18:39:51.121Z"
   },
   {
    "duration": 1340,
    "start_time": "2022-04-18T18:39:56.166Z"
   },
   {
    "duration": 813,
    "start_time": "2022-04-18T18:39:57.508Z"
   },
   {
    "duration": 32,
    "start_time": "2022-04-18T18:39:58.323Z"
   },
   {
    "duration": 226,
    "start_time": "2022-04-18T18:39:58.358Z"
   },
   {
    "duration": 3,
    "start_time": "2022-04-18T18:39:58.586Z"
   },
   {
    "duration": 1860,
    "start_time": "2022-04-18T18:39:58.591Z"
   },
   {
    "duration": 15,
    "start_time": "2022-04-18T18:40:00.453Z"
   },
   {
    "duration": 11,
    "start_time": "2022-04-18T18:40:00.469Z"
   },
   {
    "duration": 4930,
    "start_time": "2022-04-18T18:40:00.482Z"
   },
   {
    "duration": 4,
    "start_time": "2022-04-18T18:40:05.415Z"
   },
   {
    "duration": 6,
    "start_time": "2022-04-18T18:40:05.420Z"
   },
   {
    "duration": 135,
    "start_time": "2022-04-18T18:40:05.427Z"
   },
   {
    "duration": 0,
    "start_time": "2022-04-18T18:40:05.564Z"
   },
   {
    "duration": 0,
    "start_time": "2022-04-18T18:40:05.565Z"
   },
   {
    "duration": 0,
    "start_time": "2022-04-18T18:40:05.566Z"
   },
   {
    "duration": 4,
    "start_time": "2022-04-18T18:48:20.269Z"
   },
   {
    "duration": 4,
    "start_time": "2022-04-18T18:48:40.806Z"
   },
   {
    "duration": 9642,
    "start_time": "2022-04-18T18:48:43.648Z"
   },
   {
    "duration": 5,
    "start_time": "2022-04-18T18:48:55.294Z"
   },
   {
    "duration": 601,
    "start_time": "2022-04-18T18:49:58.573Z"
   },
   {
    "duration": 4,
    "start_time": "2022-04-18T18:51:03.419Z"
   },
   {
    "duration": 2608,
    "start_time": "2022-04-18T18:51:04.385Z"
   },
   {
    "duration": 4,
    "start_time": "2022-04-18T18:51:11.100Z"
   },
   {
    "duration": 661,
    "start_time": "2022-04-18T18:51:12.512Z"
   },
   {
    "duration": 6,
    "start_time": "2022-04-18T18:51:39.202Z"
   },
   {
    "duration": 32,
    "start_time": "2022-04-18T18:55:35.924Z"
   },
   {
    "duration": 4,
    "start_time": "2022-04-18T18:55:54.053Z"
   },
   {
    "duration": 744,
    "start_time": "2022-04-18T18:55:54.844Z"
   },
   {
    "duration": 26,
    "start_time": "2022-04-18T18:55:55.590Z"
   },
   {
    "duration": 207,
    "start_time": "2022-04-18T18:55:56.963Z"
   },
   {
    "duration": 3,
    "start_time": "2022-04-18T18:55:58.437Z"
   },
   {
    "duration": 2,
    "start_time": "2022-04-18T18:55:59.796Z"
   },
   {
    "duration": 4,
    "start_time": "2022-04-18T18:56:00.275Z"
   },
   {
    "duration": 16,
    "start_time": "2022-04-18T18:56:08.244Z"
   },
   {
    "duration": 3,
    "start_time": "2022-04-18T18:56:24.516Z"
   },
   {
    "duration": 7,
    "start_time": "2022-04-18T18:56:25.298Z"
   },
   {
    "duration": 17,
    "start_time": "2022-04-18T18:56:27.869Z"
   },
   {
    "duration": 46,
    "start_time": "2022-04-18T18:56:47.121Z"
   },
   {
    "duration": 5,
    "start_time": "2022-04-18T18:58:25.379Z"
   },
   {
    "duration": 6,
    "start_time": "2022-04-18T18:58:28.594Z"
   },
   {
    "duration": 1358,
    "start_time": "2022-04-18T18:58:39.058Z"
   },
   {
    "duration": 816,
    "start_time": "2022-04-18T18:58:40.418Z"
   },
   {
    "duration": 38,
    "start_time": "2022-04-18T18:58:41.236Z"
   },
   {
    "duration": 232,
    "start_time": "2022-04-18T18:58:41.276Z"
   },
   {
    "duration": 3,
    "start_time": "2022-04-18T18:58:41.510Z"
   },
   {
    "duration": 2397,
    "start_time": "2022-04-18T18:58:41.514Z"
   },
   {
    "duration": 7,
    "start_time": "2022-04-18T18:58:43.913Z"
   },
   {
    "duration": 5,
    "start_time": "2022-04-18T18:58:43.922Z"
   },
   {
    "duration": 231158,
    "start_time": "2022-04-18T18:58:43.929Z"
   },
   {
    "duration": 4,
    "start_time": "2022-04-18T19:02:35.090Z"
   },
   {
    "duration": 3657,
    "start_time": "2022-04-18T19:02:35.095Z"
   },
   {
    "duration": 9,
    "start_time": "2022-04-18T19:02:38.753Z"
   },
   {
    "duration": 660,
    "start_time": "2022-04-18T19:02:38.763Z"
   },
   {
    "duration": 5,
    "start_time": "2022-04-18T19:02:39.425Z"
   },
   {
    "duration": 16,
    "start_time": "2022-04-18T19:02:39.432Z"
   },
   {
    "duration": 148,
    "start_time": "2022-04-18T19:02:39.458Z"
   },
   {
    "duration": 0,
    "start_time": "2022-04-18T19:02:39.607Z"
   },
   {
    "duration": 0,
    "start_time": "2022-04-18T19:02:39.609Z"
   },
   {
    "duration": 0,
    "start_time": "2022-04-18T19:02:39.611Z"
   },
   {
    "duration": 4,
    "start_time": "2022-04-18T19:02:47.444Z"
   },
   {
    "duration": 636,
    "start_time": "2022-04-18T19:03:24.539Z"
   },
   {
    "duration": 6,
    "start_time": "2022-04-18T19:03:31.004Z"
   },
   {
    "duration": 4,
    "start_time": "2022-04-18T19:03:42.653Z"
   },
   {
    "duration": 764,
    "start_time": "2022-04-18T19:03:42.659Z"
   },
   {
    "duration": 37,
    "start_time": "2022-04-18T19:03:43.425Z"
   },
   {
    "duration": 216,
    "start_time": "2022-04-18T19:03:43.468Z"
   },
   {
    "duration": 3,
    "start_time": "2022-04-18T19:03:43.686Z"
   },
   {
    "duration": 1299,
    "start_time": "2022-04-18T19:03:51.674Z"
   },
   {
    "duration": 817,
    "start_time": "2022-04-18T19:03:52.974Z"
   },
   {
    "duration": 26,
    "start_time": "2022-04-18T19:03:53.793Z"
   },
   {
    "duration": 234,
    "start_time": "2022-04-18T19:03:53.820Z"
   },
   {
    "duration": 4,
    "start_time": "2022-04-18T19:03:54.056Z"
   },
   {
    "duration": 1978,
    "start_time": "2022-04-18T19:03:54.062Z"
   },
   {
    "duration": 26,
    "start_time": "2022-04-18T19:03:56.042Z"
   },
   {
    "duration": 4,
    "start_time": "2022-04-18T19:03:56.070Z"
   },
   {
    "duration": 218736,
    "start_time": "2022-04-18T19:03:56.076Z"
   },
   {
    "duration": 5,
    "start_time": "2022-04-18T19:07:34.814Z"
   },
   {
    "duration": 670,
    "start_time": "2022-04-18T19:07:34.821Z"
   },
   {
    "duration": 5,
    "start_time": "2022-04-18T19:07:35.492Z"
   },
   {
    "duration": 4,
    "start_time": "2022-04-18T19:07:35.499Z"
   },
   {
    "duration": 5,
    "start_time": "2022-04-18T19:07:35.504Z"
   },
   {
    "duration": 3,
    "start_time": "2022-04-18T19:08:34.333Z"
   },
   {
    "duration": 736,
    "start_time": "2022-04-18T19:08:34.337Z"
   },
   {
    "duration": 23,
    "start_time": "2022-04-18T19:08:35.074Z"
   },
   {
    "duration": 222,
    "start_time": "2022-04-18T19:08:35.099Z"
   },
   {
    "duration": 3,
    "start_time": "2022-04-18T19:08:35.322Z"
   },
   {
    "duration": 41,
    "start_time": "2022-04-18T19:08:35.326Z"
   },
   {
    "duration": 39,
    "start_time": "2022-04-18T19:08:35.369Z"
   },
   {
    "duration": 3,
    "start_time": "2022-04-18T19:08:35.410Z"
   },
   {
    "duration": 218318,
    "start_time": "2022-04-18T19:08:35.415Z"
   },
   {
    "duration": 24,
    "start_time": "2022-04-18T19:12:13.734Z"
   },
   {
    "duration": 70,
    "start_time": "2022-04-18T19:12:13.760Z"
   },
   {
    "duration": 5,
    "start_time": "2022-04-18T19:12:13.832Z"
   },
   {
    "duration": 2,
    "start_time": "2022-04-18T19:12:13.850Z"
   },
   {
    "duration": 18,
    "start_time": "2022-04-18T19:12:13.854Z"
   },
   {
    "duration": 4,
    "start_time": "2022-04-18T19:12:50.884Z"
   },
   {
    "duration": 3,
    "start_time": "2022-04-18T19:14:03.284Z"
   },
   {
    "duration": 739,
    "start_time": "2022-04-18T19:14:03.289Z"
   },
   {
    "duration": 39,
    "start_time": "2022-04-18T19:14:04.029Z"
   },
   {
    "duration": 208,
    "start_time": "2022-04-18T19:14:04.076Z"
   },
   {
    "duration": 3,
    "start_time": "2022-04-18T19:14:04.285Z"
   },
   {
    "duration": 31,
    "start_time": "2022-04-18T19:14:04.289Z"
   },
   {
    "duration": 48,
    "start_time": "2022-04-18T19:14:04.322Z"
   },
   {
    "duration": 9,
    "start_time": "2022-04-18T19:14:04.372Z"
   },
   {
    "duration": 113953,
    "start_time": "2022-04-18T19:14:04.384Z"
   },
   {
    "duration": 0,
    "start_time": "2022-04-18T19:15:58.339Z"
   },
   {
    "duration": 0,
    "start_time": "2022-04-18T19:15:58.340Z"
   },
   {
    "duration": 0,
    "start_time": "2022-04-18T19:15:58.341Z"
   },
   {
    "duration": 0,
    "start_time": "2022-04-18T19:15:58.347Z"
   },
   {
    "duration": 0,
    "start_time": "2022-04-18T19:15:58.349Z"
   },
   {
    "duration": 6,
    "start_time": "2022-04-18T19:17:00.751Z"
   },
   {
    "duration": 7178,
    "start_time": "2022-04-18T19:17:01.678Z"
   },
   {
    "duration": 24,
    "start_time": "2022-04-18T19:17:11.253Z"
   },
   {
    "duration": 78,
    "start_time": "2022-04-18T19:17:16.360Z"
   },
   {
    "duration": 46,
    "start_time": "2022-04-18T19:36:41.458Z"
   },
   {
    "duration": 1294,
    "start_time": "2022-04-18T19:36:57.802Z"
   },
   {
    "duration": 806,
    "start_time": "2022-04-18T19:37:00.384Z"
   },
   {
    "duration": 26,
    "start_time": "2022-04-18T19:37:02.176Z"
   },
   {
    "duration": 205,
    "start_time": "2022-04-18T19:37:05.738Z"
   },
   {
    "duration": 3,
    "start_time": "2022-04-18T19:37:08.776Z"
   },
   {
    "duration": 1930,
    "start_time": "2022-04-18T19:37:14.943Z"
   },
   {
    "duration": 4,
    "start_time": "2022-04-18T19:37:18.527Z"
   },
   {
    "duration": 3,
    "start_time": "2022-04-18T19:37:24.712Z"
   },
   {
    "duration": 8966,
    "start_time": "2022-04-18T19:37:38.008Z"
   },
   {
    "duration": 4,
    "start_time": "2022-04-18T19:37:48.944Z"
   },
   {
    "duration": 668,
    "start_time": "2022-04-18T19:37:53.936Z"
   },
   {
    "duration": 4,
    "start_time": "2022-04-18T19:39:45.101Z"
   },
   {
    "duration": 85502,
    "start_time": "2022-04-18T19:39:45.716Z"
   },
   {
    "duration": 9,
    "start_time": "2022-04-18T19:41:11.220Z"
   },
   {
    "duration": 118,
    "start_time": "2022-04-18T19:41:24.954Z"
   },
   {
    "duration": 12,
    "start_time": "2022-04-18T19:41:32.226Z"
   },
   {
    "duration": 10,
    "start_time": "2022-04-18T19:41:36.091Z"
   },
   {
    "duration": 4,
    "start_time": "2022-04-18T19:41:47.122Z"
   },
   {
    "duration": 4,
    "start_time": "2022-04-18T19:41:59.482Z"
   },
   {
    "duration": 4,
    "start_time": "2022-04-18T19:42:34.026Z"
   },
   {
    "duration": 665,
    "start_time": "2022-04-18T19:43:56.903Z"
   },
   {
    "duration": 4,
    "start_time": "2022-04-18T19:47:59.844Z"
   },
   {
    "duration": 733599,
    "start_time": "2022-04-18T19:48:36.291Z"
   },
   {
    "duration": 10,
    "start_time": "2022-04-18T20:01:12.486Z"
   },
   {
    "duration": 4,
    "start_time": "2022-04-18T20:01:40.581Z"
   },
   {
    "duration": 9,
    "start_time": "2022-04-18T20:01:45.493Z"
   },
   {
    "duration": 53,
    "start_time": "2022-04-18T20:01:50.366Z"
   },
   {
    "duration": 788926,
    "start_time": "2022-04-18T20:02:11.669Z"
   },
   {
    "duration": 25,
    "start_time": "2022-04-18T20:18:32.492Z"
   },
   {
    "duration": 2,
    "start_time": "2022-04-18T20:28:11.940Z"
   },
   {
    "duration": 10,
    "start_time": "2022-04-18T20:28:50.142Z"
   },
   {
    "duration": 1331,
    "start_time": "2022-04-18T20:28:54.021Z"
   },
   {
    "duration": 850,
    "start_time": "2022-04-18T20:28:55.355Z"
   },
   {
    "duration": 4,
    "start_time": "2022-04-18T20:28:56.206Z"
   },
   {
    "duration": 41,
    "start_time": "2022-04-18T20:28:56.212Z"
   },
   {
    "duration": 224,
    "start_time": "2022-04-18T20:28:56.255Z"
   },
   {
    "duration": 2,
    "start_time": "2022-04-18T20:28:56.481Z"
   },
   {
    "duration": 2019,
    "start_time": "2022-04-18T20:28:56.484Z"
   },
   {
    "duration": 7,
    "start_time": "2022-04-18T20:28:58.505Z"
   },
   {
    "duration": 1271,
    "start_time": "2022-04-18T20:29:22.203Z"
   },
   {
    "duration": 834,
    "start_time": "2022-04-18T20:29:23.476Z"
   },
   {
    "duration": 4,
    "start_time": "2022-04-18T20:29:24.311Z"
   },
   {
    "duration": 39,
    "start_time": "2022-04-18T20:29:24.316Z"
   },
   {
    "duration": 229,
    "start_time": "2022-04-18T20:29:24.357Z"
   },
   {
    "duration": 2,
    "start_time": "2022-04-18T20:29:24.587Z"
   },
   {
    "duration": 2003,
    "start_time": "2022-04-18T20:29:24.591Z"
   },
   {
    "duration": 6,
    "start_time": "2022-04-18T20:29:26.596Z"
   },
   {
    "duration": 233094,
    "start_time": "2022-04-18T20:29:26.604Z"
   },
   {
    "duration": 0,
    "start_time": "2022-04-18T20:33:19.700Z"
   },
   {
    "duration": 0,
    "start_time": "2022-04-18T20:33:19.702Z"
   },
   {
    "duration": 0,
    "start_time": "2022-04-18T20:33:19.703Z"
   },
   {
    "duration": 0,
    "start_time": "2022-04-18T20:33:19.705Z"
   },
   {
    "duration": 0,
    "start_time": "2022-04-18T20:33:19.706Z"
   },
   {
    "duration": 0,
    "start_time": "2022-04-18T20:33:19.707Z"
   },
   {
    "duration": 4,
    "start_time": "2022-04-18T20:34:04.903Z"
   },
   {
    "duration": 1558475,
    "start_time": "2022-04-18T20:34:05.639Z"
   },
   {
    "duration": 8,
    "start_time": "2022-04-18T21:00:11.996Z"
   },
   {
    "duration": 33502,
    "start_time": "2022-04-18T21:00:50.891Z"
   },
   {
    "duration": 3,
    "start_time": "2022-04-18T21:01:46.928Z"
   },
   {
    "duration": 3,
    "start_time": "2022-04-18T21:02:13.912Z"
   },
   {
    "duration": 11083,
    "start_time": "2022-04-18T21:02:14.944Z"
   },
   {
    "duration": 670,
    "start_time": "2022-04-18T21:02:28.430Z"
   },
   {
    "duration": 63,
    "start_time": "2022-04-18T21:04:44.763Z"
   },
   {
    "duration": 34,
    "start_time": "2022-04-18T21:04:45.394Z"
   },
   {
    "duration": 17778,
    "start_time": "2022-04-18T21:04:46.171Z"
   },
   {
    "duration": 1306,
    "start_time": "2022-04-19T09:26:20.706Z"
   },
   {
    "duration": 3341,
    "start_time": "2022-04-19T09:26:22.014Z"
   },
   {
    "duration": 3,
    "start_time": "2022-04-19T09:26:25.356Z"
   },
   {
    "duration": 27,
    "start_time": "2022-04-19T09:26:25.361Z"
   },
   {
    "duration": 203,
    "start_time": "2022-04-19T09:26:29.216Z"
   },
   {
    "duration": 3,
    "start_time": "2022-04-19T09:26:31.449Z"
   },
   {
    "duration": 1782,
    "start_time": "2022-04-19T09:26:32.128Z"
   },
   {
    "duration": 125,
    "start_time": "2022-04-19T09:26:34.722Z"
   },
   {
    "duration": 29,
    "start_time": "2022-04-19T09:27:14.072Z"
   },
   {
    "duration": 15,
    "start_time": "2022-04-19T09:27:16.602Z"
   },
   {
    "duration": 66,
    "start_time": "2022-04-19T09:27:28.938Z"
   },
   {
    "duration": 137,
    "start_time": "2022-04-19T09:27:44.642Z"
   },
   {
    "duration": 1666,
    "start_time": "2022-04-19T09:29:37.374Z"
   },
   {
    "duration": 9,
    "start_time": "2022-04-19T09:30:00.838Z"
   },
   {
    "duration": 4,
    "start_time": "2022-04-19T09:32:04.265Z"
   },
   {
    "duration": 1721,
    "start_time": "2022-04-19T09:32:26.319Z"
   },
   {
    "duration": 3553,
    "start_time": "2022-04-19T09:32:29.236Z"
   },
   {
    "duration": 4,
    "start_time": "2022-04-19T09:32:34.892Z"
   },
   {
    "duration": 27,
    "start_time": "2022-04-19T09:32:36.426Z"
   },
   {
    "duration": 210,
    "start_time": "2022-04-19T09:32:37.258Z"
   },
   {
    "duration": 3,
    "start_time": "2022-04-19T09:32:38.180Z"
   },
   {
    "duration": 1915,
    "start_time": "2022-04-19T09:32:40.198Z"
   },
   {
    "duration": 108,
    "start_time": "2022-04-19T09:32:43.839Z"
   },
   {
    "duration": 39,
    "start_time": "2022-04-19T09:32:50.081Z"
   },
   {
    "duration": 68,
    "start_time": "2022-04-19T09:33:14.439Z"
   },
   {
    "duration": 1413,
    "start_time": "2022-04-19T09:33:19.609Z"
   },
   {
    "duration": 3345,
    "start_time": "2022-04-19T09:33:21.024Z"
   },
   {
    "duration": 4,
    "start_time": "2022-04-19T09:33:25.663Z"
   },
   {
    "duration": 26,
    "start_time": "2022-04-19T09:33:28.587Z"
   },
   {
    "duration": 204,
    "start_time": "2022-04-19T09:33:29.636Z"
   },
   {
    "duration": 3,
    "start_time": "2022-04-19T09:33:31.160Z"
   },
   {
    "duration": 1766,
    "start_time": "2022-04-19T09:33:33.900Z"
   },
   {
    "duration": 1375,
    "start_time": "2022-04-19T09:34:15.550Z"
   },
   {
    "duration": 3462,
    "start_time": "2022-04-19T09:34:16.928Z"
   },
   {
    "duration": 4,
    "start_time": "2022-04-19T09:34:20.392Z"
   },
   {
    "duration": 46,
    "start_time": "2022-04-19T09:34:20.399Z"
   },
   {
    "duration": 245,
    "start_time": "2022-04-19T09:34:20.447Z"
   },
   {
    "duration": 2,
    "start_time": "2022-04-19T09:34:20.693Z"
   },
   {
    "duration": 2001,
    "start_time": "2022-04-19T09:34:20.697Z"
   },
   {
    "duration": 0,
    "start_time": "2022-04-19T09:34:22.700Z"
   },
   {
    "duration": 0,
    "start_time": "2022-04-19T09:34:22.702Z"
   },
   {
    "duration": 0,
    "start_time": "2022-04-19T09:34:22.704Z"
   },
   {
    "duration": 0,
    "start_time": "2022-04-19T09:34:22.705Z"
   },
   {
    "duration": 0,
    "start_time": "2022-04-19T09:34:22.706Z"
   },
   {
    "duration": 0,
    "start_time": "2022-04-19T09:34:22.707Z"
   },
   {
    "duration": 0,
    "start_time": "2022-04-19T09:34:22.724Z"
   },
   {
    "duration": 0,
    "start_time": "2022-04-19T09:34:22.725Z"
   },
   {
    "duration": 0,
    "start_time": "2022-04-19T09:34:22.727Z"
   },
   {
    "duration": 1293,
    "start_time": "2022-04-19T09:35:03.344Z"
   },
   {
    "duration": 3299,
    "start_time": "2022-04-19T09:35:04.639Z"
   },
   {
    "duration": 4,
    "start_time": "2022-04-19T09:35:07.940Z"
   },
   {
    "duration": 28,
    "start_time": "2022-04-19T09:35:07.946Z"
   },
   {
    "duration": 207,
    "start_time": "2022-04-19T09:35:07.976Z"
   },
   {
    "duration": 2,
    "start_time": "2022-04-19T09:35:08.185Z"
   },
   {
    "duration": 1670,
    "start_time": "2022-04-19T09:35:08.188Z"
   },
   {
    "duration": 122,
    "start_time": "2022-04-19T09:35:09.860Z"
   },
   {
    "duration": 0,
    "start_time": "2022-04-19T09:35:09.984Z"
   },
   {
    "duration": 0,
    "start_time": "2022-04-19T09:35:09.985Z"
   },
   {
    "duration": 0,
    "start_time": "2022-04-19T09:35:09.986Z"
   },
   {
    "duration": 0,
    "start_time": "2022-04-19T09:35:09.987Z"
   },
   {
    "duration": 0,
    "start_time": "2022-04-19T09:35:09.988Z"
   },
   {
    "duration": 0,
    "start_time": "2022-04-19T09:35:09.988Z"
   },
   {
    "duration": 0,
    "start_time": "2022-04-19T09:35:09.989Z"
   },
   {
    "duration": 0,
    "start_time": "2022-04-19T09:35:09.990Z"
   },
   {
    "duration": 4,
    "start_time": "2022-04-19T09:37:11.042Z"
   },
   {
    "duration": 671,
    "start_time": "2022-04-19T09:37:11.933Z"
   },
   {
    "duration": 4,
    "start_time": "2022-04-19T09:37:13.472Z"
   },
   {
    "duration": 26,
    "start_time": "2022-04-19T09:37:14.884Z"
   },
   {
    "duration": 206,
    "start_time": "2022-04-19T09:37:16.320Z"
   },
   {
    "duration": 3,
    "start_time": "2022-04-19T09:37:18.984Z"
   },
   {
    "duration": 4,
    "start_time": "2022-04-19T09:37:20.420Z"
   },
   {
    "duration": 16,
    "start_time": "2022-04-19T09:37:27.677Z"
   },
   {
    "duration": 1496,
    "start_time": "2022-04-19T15:11:50.260Z"
   },
   {
    "duration": 890,
    "start_time": "2022-04-19T15:11:55.742Z"
   },
   {
    "duration": 4,
    "start_time": "2022-04-19T15:11:57.210Z"
   },
   {
    "duration": 26,
    "start_time": "2022-04-19T15:11:58.450Z"
   },
   {
    "duration": 232,
    "start_time": "2022-04-19T15:11:59.538Z"
   },
   {
    "duration": 283,
    "start_time": "2022-04-19T15:13:01.851Z"
   },
   {
    "duration": 47,
    "start_time": "2022-04-19T18:57:21.282Z"
   },
   {
    "duration": 1515,
    "start_time": "2022-04-19T18:57:28.820Z"
   },
   {
    "duration": 10458,
    "start_time": "2022-04-19T18:57:30.337Z"
   },
   {
    "duration": 3,
    "start_time": "2022-04-19T18:57:40.797Z"
   },
   {
    "duration": 35,
    "start_time": "2022-04-19T18:57:40.802Z"
   },
   {
    "duration": 225,
    "start_time": "2022-04-19T18:57:40.838Z"
   },
   {
    "duration": 269,
    "start_time": "2022-04-19T18:57:41.064Z"
   },
   {
    "duration": 1893,
    "start_time": "2022-04-19T18:57:41.335Z"
   },
   {
    "duration": 156,
    "start_time": "2022-04-19T18:57:43.230Z"
   },
   {
    "duration": 0,
    "start_time": "2022-04-19T18:57:43.388Z"
   },
   {
    "duration": 0,
    "start_time": "2022-04-19T18:57:43.390Z"
   },
   {
    "duration": 0,
    "start_time": "2022-04-19T18:57:43.391Z"
   },
   {
    "duration": 0,
    "start_time": "2022-04-19T18:57:43.392Z"
   },
   {
    "duration": 0,
    "start_time": "2022-04-19T18:57:43.393Z"
   },
   {
    "duration": 0,
    "start_time": "2022-04-19T18:57:43.394Z"
   },
   {
    "duration": 0,
    "start_time": "2022-04-19T18:57:43.395Z"
   },
   {
    "duration": 0,
    "start_time": "2022-04-19T18:57:43.396Z"
   },
   {
    "duration": 3,
    "start_time": "2022-04-19T19:00:06.232Z"
   },
   {
    "duration": 3,
    "start_time": "2022-04-19T19:00:34.452Z"
   },
   {
    "duration": 2,
    "start_time": "2022-04-19T19:00:55.519Z"
   },
   {
    "duration": 14,
    "start_time": "2022-04-19T19:01:12.807Z"
   },
   {
    "duration": 11,
    "start_time": "2022-04-19T19:02:30.462Z"
   },
   {
    "duration": 6071,
    "start_time": "2022-04-19T19:02:59.323Z"
   },
   {
    "duration": 4,
    "start_time": "2022-04-19T19:03:17.644Z"
   },
   {
    "duration": 3,
    "start_time": "2022-04-19T19:03:43.297Z"
   },
   {
    "duration": 1453,
    "start_time": "2022-04-19T19:03:43.302Z"
   },
   {
    "duration": 3,
    "start_time": "2022-04-19T19:03:44.756Z"
   },
   {
    "duration": 31,
    "start_time": "2022-04-19T19:03:44.761Z"
   },
   {
    "duration": 222,
    "start_time": "2022-04-19T19:03:44.793Z"
   },
   {
    "duration": 274,
    "start_time": "2022-04-19T19:03:45.017Z"
   },
   {
    "duration": 1583,
    "start_time": "2022-04-19T19:03:58.221Z"
   },
   {
    "duration": 13329,
    "start_time": "2022-04-19T19:03:59.807Z"
   },
   {
    "duration": 4,
    "start_time": "2022-04-19T19:04:13.138Z"
   },
   {
    "duration": 27,
    "start_time": "2022-04-19T19:04:13.144Z"
   },
   {
    "duration": 235,
    "start_time": "2022-04-19T19:04:13.173Z"
   },
   {
    "duration": 273,
    "start_time": "2022-04-19T19:04:13.410Z"
   },
   {
    "duration": 1870,
    "start_time": "2022-04-19T19:04:13.685Z"
   },
   {
    "duration": 12,
    "start_time": "2022-04-19T19:04:15.557Z"
   },
   {
    "duration": 6051,
    "start_time": "2022-04-19T19:04:15.571Z"
   },
   {
    "duration": 4,
    "start_time": "2022-04-19T19:04:21.625Z"
   },
   {
    "duration": 206,
    "start_time": "2022-04-19T19:04:21.631Z"
   },
   {
    "duration": 0,
    "start_time": "2022-04-19T19:04:21.839Z"
   },
   {
    "duration": 0,
    "start_time": "2022-04-19T19:04:21.840Z"
   },
   {
    "duration": 0,
    "start_time": "2022-04-19T19:04:21.841Z"
   },
   {
    "duration": 0,
    "start_time": "2022-04-19T19:04:21.842Z"
   },
   {
    "duration": 0,
    "start_time": "2022-04-19T19:04:21.843Z"
   },
   {
    "duration": 0,
    "start_time": "2022-04-19T19:04:21.844Z"
   },
   {
    "duration": 0,
    "start_time": "2022-04-19T19:04:21.845Z"
   },
   {
    "duration": 0,
    "start_time": "2022-04-19T19:04:21.847Z"
   },
   {
    "duration": 10,
    "start_time": "2022-04-19T19:07:23.212Z"
   },
   {
    "duration": 10,
    "start_time": "2022-04-19T19:07:56.398Z"
   },
   {
    "duration": 1402,
    "start_time": "2022-04-19T19:10:34.454Z"
   },
   {
    "duration": 13414,
    "start_time": "2022-04-19T19:10:35.858Z"
   },
   {
    "duration": 4,
    "start_time": "2022-04-19T19:10:49.274Z"
   },
   {
    "duration": 26,
    "start_time": "2022-04-19T19:10:49.280Z"
   },
   {
    "duration": 225,
    "start_time": "2022-04-19T19:10:49.308Z"
   },
   {
    "duration": 260,
    "start_time": "2022-04-19T19:10:49.535Z"
   },
   {
    "duration": 1891,
    "start_time": "2022-04-19T19:10:49.797Z"
   },
   {
    "duration": 5,
    "start_time": "2022-04-19T19:10:51.690Z"
   },
   {
    "duration": 6552,
    "start_time": "2022-04-19T19:10:51.696Z"
   },
   {
    "duration": 4,
    "start_time": "2022-04-19T19:10:58.251Z"
   },
   {
    "duration": 5,
    "start_time": "2022-04-19T19:10:58.256Z"
   },
   {
    "duration": 8898,
    "start_time": "2022-04-19T19:10:58.262Z"
   },
   {
    "duration": 623,
    "start_time": "2022-04-19T19:11:07.161Z"
   },
   {
    "duration": 66,
    "start_time": "2022-04-19T19:11:07.786Z"
   },
   {
    "duration": 25,
    "start_time": "2022-04-19T19:11:07.853Z"
   },
   {
    "duration": 319,
    "start_time": "2022-04-19T19:11:07.879Z"
   },
   {
    "duration": 0,
    "start_time": "2022-04-19T19:11:08.199Z"
   },
   {
    "duration": 0,
    "start_time": "2022-04-19T19:11:08.200Z"
   },
   {
    "duration": 192,
    "start_time": "2022-04-19T19:12:58.327Z"
   },
   {
    "duration": 3,
    "start_time": "2022-04-19T19:13:28.422Z"
   },
   {
    "duration": 10,
    "start_time": "2022-04-19T19:16:05.091Z"
   },
   {
    "duration": 55,
    "start_time": "2022-04-19T19:16:28.738Z"
   },
   {
    "duration": 3,
    "start_time": "2022-04-19T19:17:08.497Z"
   },
   {
    "duration": 3,
    "start_time": "2022-04-19T19:17:09.288Z"
   },
   {
    "duration": 10,
    "start_time": "2022-04-19T19:17:09.888Z"
   },
   {
    "duration": 9,
    "start_time": "2022-04-19T19:17:27.800Z"
   },
   {
    "duration": 9765,
    "start_time": "2022-04-19T19:17:32.360Z"
   },
   {
    "duration": 7,
    "start_time": "2022-04-19T19:18:05.304Z"
   },
   {
    "duration": 3,
    "start_time": "2022-04-19T19:18:17.191Z"
   },
   {
    "duration": 4,
    "start_time": "2022-04-19T19:18:19.967Z"
   },
   {
    "duration": 3,
    "start_time": "2022-04-19T19:18:20.423Z"
   },
   {
    "duration": 3,
    "start_time": "2022-04-19T19:18:20.839Z"
   },
   {
    "duration": 8,
    "start_time": "2022-04-19T19:18:21.446Z"
   },
   {
    "duration": 5,
    "start_time": "2022-04-19T19:18:33.544Z"
   },
   {
    "duration": 5,
    "start_time": "2022-04-19T19:22:34.450Z"
   },
   {
    "duration": 4,
    "start_time": "2022-04-19T19:22:38.890Z"
   },
   {
    "duration": 3,
    "start_time": "2022-04-19T19:23:57.815Z"
   },
   {
    "duration": 755,
    "start_time": "2022-04-19T19:23:57.820Z"
   },
   {
    "duration": 3,
    "start_time": "2022-04-19T19:23:58.577Z"
   },
   {
    "duration": 41,
    "start_time": "2022-04-19T19:23:58.582Z"
   },
   {
    "duration": 221,
    "start_time": "2022-04-19T19:23:58.625Z"
   },
   {
    "duration": 291,
    "start_time": "2022-04-19T19:23:58.848Z"
   },
   {
    "duration": 1471,
    "start_time": "2022-04-19T19:24:14.343Z"
   },
   {
    "duration": 10193,
    "start_time": "2022-04-19T19:24:15.816Z"
   },
   {
    "duration": 4,
    "start_time": "2022-04-19T19:24:26.011Z"
   },
   {
    "duration": 28,
    "start_time": "2022-04-19T19:24:26.022Z"
   },
   {
    "duration": 226,
    "start_time": "2022-04-19T19:24:26.052Z"
   },
   {
    "duration": 292,
    "start_time": "2022-04-19T19:24:26.279Z"
   },
   {
    "duration": 2010,
    "start_time": "2022-04-19T19:24:26.573Z"
   },
   {
    "duration": 22,
    "start_time": "2022-04-19T19:24:28.585Z"
   },
   {
    "duration": 6123,
    "start_time": "2022-04-19T19:24:28.609Z"
   },
   {
    "duration": 5,
    "start_time": "2022-04-19T19:24:34.734Z"
   },
   {
    "duration": 4,
    "start_time": "2022-04-19T19:24:34.740Z"
   },
   {
    "duration": 5,
    "start_time": "2022-04-19T19:24:34.745Z"
   },
   {
    "duration": 58485,
    "start_time": "2022-04-19T19:24:34.751Z"
   },
   {
    "duration": 4,
    "start_time": "2022-04-19T19:25:33.237Z"
   },
   {
    "duration": 653,
    "start_time": "2022-04-19T19:25:33.243Z"
   },
   {
    "duration": 73,
    "start_time": "2022-04-19T19:25:33.897Z"
   },
   {
    "duration": 27,
    "start_time": "2022-04-19T19:25:33.971Z"
   },
   {
    "duration": 273,
    "start_time": "2022-04-19T19:25:34.000Z"
   },
   {
    "duration": 0,
    "start_time": "2022-04-19T19:25:34.275Z"
   },
   {
    "duration": 0,
    "start_time": "2022-04-19T19:25:34.276Z"
   },
   {
    "duration": 4,
    "start_time": "2022-04-19T19:26:58.484Z"
   },
   {
    "duration": 739,
    "start_time": "2022-04-19T19:26:58.490Z"
   },
   {
    "duration": 4,
    "start_time": "2022-04-19T19:26:59.230Z"
   },
   {
    "duration": 26,
    "start_time": "2022-04-19T19:26:59.236Z"
   },
   {
    "duration": 219,
    "start_time": "2022-04-19T19:26:59.264Z"
   },
   {
    "duration": 248,
    "start_time": "2022-04-19T19:26:59.485Z"
   },
   {
    "duration": 1535,
    "start_time": "2022-04-19T19:27:08.853Z"
   },
   {
    "duration": 10356,
    "start_time": "2022-04-19T19:27:10.390Z"
   },
   {
    "duration": 4,
    "start_time": "2022-04-19T19:27:20.747Z"
   },
   {
    "duration": 32,
    "start_time": "2022-04-19T19:27:20.753Z"
   },
   {
    "duration": 245,
    "start_time": "2022-04-19T19:27:20.787Z"
   },
   {
    "duration": 309,
    "start_time": "2022-04-19T19:27:21.034Z"
   },
   {
    "duration": 2070,
    "start_time": "2022-04-19T19:27:21.345Z"
   },
   {
    "duration": 8,
    "start_time": "2022-04-19T19:27:23.416Z"
   },
   {
    "duration": 6391,
    "start_time": "2022-04-19T19:27:23.425Z"
   },
   {
    "duration": 6,
    "start_time": "2022-04-19T19:27:29.818Z"
   },
   {
    "duration": 30,
    "start_time": "2022-04-19T19:27:29.825Z"
   },
   {
    "duration": 12,
    "start_time": "2022-04-19T19:27:29.856Z"
   },
   {
    "duration": 1324,
    "start_time": "2022-04-19T19:27:29.869Z"
   },
   {
    "duration": 3,
    "start_time": "2022-04-19T19:27:31.195Z"
   },
   {
    "duration": 637,
    "start_time": "2022-04-19T19:27:31.199Z"
   },
   {
    "duration": 59,
    "start_time": "2022-04-19T19:27:31.838Z"
   },
   {
    "duration": 39,
    "start_time": "2022-04-19T19:27:31.898Z"
   },
   {
    "duration": 314,
    "start_time": "2022-04-19T19:27:31.938Z"
   },
   {
    "duration": 0,
    "start_time": "2022-04-19T19:27:32.254Z"
   },
   {
    "duration": 0,
    "start_time": "2022-04-19T19:27:32.256Z"
   },
   {
    "duration": 2,
    "start_time": "2022-04-19T19:29:59.934Z"
   },
   {
    "duration": 189,
    "start_time": "2022-04-19T19:30:45.492Z"
   },
   {
    "duration": 193,
    "start_time": "2022-04-19T19:30:52.059Z"
   },
   {
    "duration": 210,
    "start_time": "2022-04-19T19:31:19.826Z"
   },
   {
    "duration": 196,
    "start_time": "2022-04-19T19:31:26.186Z"
   },
   {
    "duration": 221,
    "start_time": "2022-04-19T19:31:54.602Z"
   },
   {
    "duration": 185,
    "start_time": "2022-04-19T19:32:15.794Z"
   },
   {
    "duration": 3,
    "start_time": "2022-04-19T19:32:51.951Z"
   },
   {
    "duration": 28,
    "start_time": "2022-04-19T19:32:58.443Z"
   },
   {
    "duration": 3,
    "start_time": "2022-04-19T19:34:16.487Z"
   },
   {
    "duration": 28,
    "start_time": "2022-04-19T19:34:18.673Z"
   },
   {
    "duration": 3,
    "start_time": "2022-04-19T19:35:55.268Z"
   },
   {
    "duration": 18,
    "start_time": "2022-04-19T19:35:56.181Z"
   },
   {
    "duration": 1550,
    "start_time": "2022-04-19T19:36:10.882Z"
   },
   {
    "duration": 872,
    "start_time": "2022-04-19T19:36:12.434Z"
   },
   {
    "duration": 4,
    "start_time": "2022-04-19T19:36:13.308Z"
   },
   {
    "duration": 30,
    "start_time": "2022-04-19T19:36:13.324Z"
   },
   {
    "duration": 254,
    "start_time": "2022-04-19T19:36:13.356Z"
   },
   {
    "duration": 310,
    "start_time": "2022-04-19T19:36:13.612Z"
   },
   {
    "duration": 2062,
    "start_time": "2022-04-19T19:36:13.924Z"
   },
   {
    "duration": 21,
    "start_time": "2022-04-19T19:36:15.988Z"
   },
   {
    "duration": 6336,
    "start_time": "2022-04-19T19:36:16.010Z"
   },
   {
    "duration": 4,
    "start_time": "2022-04-19T19:36:22.349Z"
   },
   {
    "duration": 4,
    "start_time": "2022-04-19T19:36:22.355Z"
   },
   {
    "duration": 4,
    "start_time": "2022-04-19T19:36:22.361Z"
   },
   {
    "duration": 146,
    "start_time": "2022-04-19T19:36:22.367Z"
   },
   {
    "duration": 0,
    "start_time": "2022-04-19T19:36:22.514Z"
   },
   {
    "duration": 0,
    "start_time": "2022-04-19T19:36:22.515Z"
   },
   {
    "duration": 0,
    "start_time": "2022-04-19T19:36:22.516Z"
   },
   {
    "duration": 0,
    "start_time": "2022-04-19T19:36:22.517Z"
   },
   {
    "duration": 0,
    "start_time": "2022-04-19T19:36:22.518Z"
   },
   {
    "duration": 0,
    "start_time": "2022-04-19T19:36:22.522Z"
   },
   {
    "duration": 0,
    "start_time": "2022-04-19T19:36:22.522Z"
   },
   {
    "duration": 4,
    "start_time": "2022-04-19T19:36:43.539Z"
   },
   {
    "duration": 19,
    "start_time": "2022-04-19T19:36:44.092Z"
   },
   {
    "duration": 210,
    "start_time": "2022-04-19T19:38:05.257Z"
   },
   {
    "duration": 4,
    "start_time": "2022-04-19T19:38:25.609Z"
   },
   {
    "duration": 6,
    "start_time": "2022-04-19T19:38:36.826Z"
   },
   {
    "duration": 4,
    "start_time": "2022-04-19T19:39:01.024Z"
   },
   {
    "duration": 217,
    "start_time": "2022-04-19T19:39:24.730Z"
   },
   {
    "duration": 3,
    "start_time": "2022-04-19T19:40:01.927Z"
   },
   {
    "duration": 1341,
    "start_time": "2022-04-19T19:40:26.958Z"
   },
   {
    "duration": 9,
    "start_time": "2022-04-19T19:40:54.750Z"
   },
   {
    "duration": 4,
    "start_time": "2022-04-19T19:40:59.383Z"
   },
   {
    "duration": 218,
    "start_time": "2022-04-19T19:41:05.550Z"
   },
   {
    "duration": 1477,
    "start_time": "2022-04-19T19:41:26.914Z"
   },
   {
    "duration": 852,
    "start_time": "2022-04-19T19:41:28.393Z"
   },
   {
    "duration": 4,
    "start_time": "2022-04-19T19:41:29.246Z"
   },
   {
    "duration": 28,
    "start_time": "2022-04-19T19:41:29.252Z"
   },
   {
    "duration": 232,
    "start_time": "2022-04-19T19:41:29.282Z"
   },
   {
    "duration": 287,
    "start_time": "2022-04-19T19:41:29.522Z"
   },
   {
    "duration": 2026,
    "start_time": "2022-04-19T19:41:29.811Z"
   },
   {
    "duration": 10,
    "start_time": "2022-04-19T19:41:31.839Z"
   },
   {
    "duration": 6064,
    "start_time": "2022-04-19T19:41:31.851Z"
   },
   {
    "duration": 6,
    "start_time": "2022-04-19T19:41:37.918Z"
   },
   {
    "duration": 3,
    "start_time": "2022-04-19T19:41:37.926Z"
   },
   {
    "duration": 195,
    "start_time": "2022-04-19T19:41:37.931Z"
   },
   {
    "duration": 0,
    "start_time": "2022-04-19T19:41:38.127Z"
   },
   {
    "duration": 0,
    "start_time": "2022-04-19T19:41:38.128Z"
   },
   {
    "duration": 0,
    "start_time": "2022-04-19T19:41:38.130Z"
   },
   {
    "duration": 0,
    "start_time": "2022-04-19T19:41:38.131Z"
   },
   {
    "duration": 0,
    "start_time": "2022-04-19T19:41:38.133Z"
   },
   {
    "duration": 0,
    "start_time": "2022-04-19T19:41:38.134Z"
   },
   {
    "duration": 0,
    "start_time": "2022-04-19T19:41:38.135Z"
   },
   {
    "duration": 0,
    "start_time": "2022-04-19T19:41:38.136Z"
   },
   {
    "duration": 0,
    "start_time": "2022-04-19T19:41:38.137Z"
   },
   {
    "duration": 0,
    "start_time": "2022-04-19T19:41:38.138Z"
   },
   {
    "duration": 0,
    "start_time": "2022-04-19T19:41:38.139Z"
   },
   {
    "duration": 0,
    "start_time": "2022-04-19T19:41:38.140Z"
   },
   {
    "duration": 0,
    "start_time": "2022-04-19T19:41:38.141Z"
   },
   {
    "duration": 1362,
    "start_time": "2022-04-19T19:41:57.130Z"
   },
   {
    "duration": 829,
    "start_time": "2022-04-19T19:41:58.494Z"
   },
   {
    "duration": 4,
    "start_time": "2022-04-19T19:41:59.324Z"
   },
   {
    "duration": 30,
    "start_time": "2022-04-19T19:41:59.330Z"
   },
   {
    "duration": 246,
    "start_time": "2022-04-19T19:41:59.362Z"
   },
   {
    "duration": 275,
    "start_time": "2022-04-19T19:41:59.609Z"
   },
   {
    "duration": 1977,
    "start_time": "2022-04-19T19:41:59.886Z"
   },
   {
    "duration": 7,
    "start_time": "2022-04-19T19:42:01.865Z"
   },
   {
    "duration": 6174,
    "start_time": "2022-04-19T19:42:01.873Z"
   },
   {
    "duration": 4,
    "start_time": "2022-04-19T19:42:08.051Z"
   },
   {
    "duration": 3,
    "start_time": "2022-04-19T19:42:08.057Z"
   },
   {
    "duration": 5,
    "start_time": "2022-04-19T19:42:08.061Z"
   },
   {
    "duration": 152,
    "start_time": "2022-04-19T19:42:08.068Z"
   },
   {
    "duration": 4,
    "start_time": "2022-04-19T19:42:08.221Z"
   },
   {
    "duration": 12,
    "start_time": "2022-04-19T19:42:08.226Z"
   },
   {
    "duration": 5,
    "start_time": "2022-04-19T19:42:08.239Z"
   },
   {
    "duration": 462,
    "start_time": "2022-04-19T19:42:08.245Z"
   },
   {
    "duration": 1138,
    "start_time": "2022-04-19T19:42:08.709Z"
   },
   {
    "duration": 4,
    "start_time": "2022-04-19T19:42:09.848Z"
   },
   {
    "duration": 672,
    "start_time": "2022-04-19T19:42:09.854Z"
   },
   {
    "duration": 57,
    "start_time": "2022-04-19T19:42:10.527Z"
   },
   {
    "duration": 37,
    "start_time": "2022-04-19T19:42:10.585Z"
   },
   {
    "duration": 6533,
    "start_time": "2022-04-19T19:42:10.624Z"
   },
   {
    "duration": 2,
    "start_time": "2022-04-19T19:42:17.159Z"
   },
   {
    "duration": 8,
    "start_time": "2022-04-19T19:42:17.163Z"
   },
   {
    "duration": 4,
    "start_time": "2022-04-19T19:42:50.871Z"
   },
   {
    "duration": 217,
    "start_time": "2022-04-19T19:42:56.529Z"
   },
   {
    "duration": 1561,
    "start_time": "2022-04-19T19:43:06.609Z"
   },
   {
    "duration": 867,
    "start_time": "2022-04-19T19:43:08.172Z"
   },
   {
    "duration": 3,
    "start_time": "2022-04-19T19:43:09.040Z"
   },
   {
    "duration": 50,
    "start_time": "2022-04-19T19:43:09.046Z"
   },
   {
    "duration": 244,
    "start_time": "2022-04-19T19:43:09.098Z"
   },
   {
    "duration": 274,
    "start_time": "2022-04-19T19:43:09.343Z"
   },
   {
    "duration": 2020,
    "start_time": "2022-04-19T19:43:09.622Z"
   },
   {
    "duration": 5,
    "start_time": "2022-04-19T19:43:11.644Z"
   },
   {
    "duration": 6373,
    "start_time": "2022-04-19T19:43:11.651Z"
   },
   {
    "duration": 4,
    "start_time": "2022-04-19T19:43:18.027Z"
   },
   {
    "duration": 23,
    "start_time": "2022-04-19T19:43:18.032Z"
   },
   {
    "duration": 25,
    "start_time": "2022-04-19T19:43:18.057Z"
   },
   {
    "duration": 234,
    "start_time": "2022-04-19T19:43:18.084Z"
   },
   {
    "duration": 4,
    "start_time": "2022-04-19T19:43:18.320Z"
   },
   {
    "duration": 30,
    "start_time": "2022-04-19T19:43:18.325Z"
   },
   {
    "duration": 28,
    "start_time": "2022-04-19T19:43:18.357Z"
   },
   {
    "duration": 1641,
    "start_time": "2022-04-19T19:43:18.387Z"
   },
   {
    "duration": 3,
    "start_time": "2022-04-19T19:43:20.030Z"
   },
   {
    "duration": 30,
    "start_time": "2022-04-19T19:43:20.034Z"
   },
   {
    "duration": 793,
    "start_time": "2022-04-19T19:43:20.066Z"
   },
   {
    "duration": 80,
    "start_time": "2022-04-19T19:43:20.861Z"
   },
   {
    "duration": 29,
    "start_time": "2022-04-19T19:43:20.942Z"
   },
   {
    "duration": 6725,
    "start_time": "2022-04-19T19:43:20.972Z"
   },
   {
    "duration": 2,
    "start_time": "2022-04-19T19:43:27.699Z"
   },
   {
    "duration": 25,
    "start_time": "2022-04-19T19:43:27.702Z"
   },
   {
    "duration": 17,
    "start_time": "2022-04-19T19:45:17.674Z"
   },
   {
    "duration": 4,
    "start_time": "2022-04-19T19:45:31.154Z"
   },
   {
    "duration": 691,
    "start_time": "2022-04-19T19:45:31.159Z"
   },
   {
    "duration": 4,
    "start_time": "2022-04-19T19:45:31.851Z"
   },
   {
    "duration": 23,
    "start_time": "2022-04-19T19:45:31.856Z"
   },
   {
    "duration": 207,
    "start_time": "2022-04-19T19:45:31.880Z"
   },
   {
    "duration": 243,
    "start_time": "2022-04-19T19:45:32.088Z"
   },
   {
    "duration": 1324,
    "start_time": "2022-04-19T19:45:42.867Z"
   },
   {
    "duration": 10173,
    "start_time": "2022-04-19T19:45:44.193Z"
   },
   {
    "duration": 3,
    "start_time": "2022-04-19T19:45:54.367Z"
   },
   {
    "duration": 24,
    "start_time": "2022-04-19T19:45:54.372Z"
   },
   {
    "duration": 216,
    "start_time": "2022-04-19T19:45:54.398Z"
   },
   {
    "duration": 262,
    "start_time": "2022-04-19T19:45:54.615Z"
   },
   {
    "duration": 1944,
    "start_time": "2022-04-19T19:45:54.879Z"
   },
   {
    "duration": 6,
    "start_time": "2022-04-19T19:45:56.825Z"
   },
   {
    "duration": 6070,
    "start_time": "2022-04-19T19:45:56.833Z"
   },
   {
    "duration": 4,
    "start_time": "2022-04-19T19:46:02.906Z"
   },
   {
    "duration": 167,
    "start_time": "2022-04-19T19:46:02.911Z"
   },
   {
    "duration": 0,
    "start_time": "2022-04-19T19:46:03.080Z"
   },
   {
    "duration": 0,
    "start_time": "2022-04-19T19:46:03.081Z"
   },
   {
    "duration": 0,
    "start_time": "2022-04-19T19:46:03.082Z"
   },
   {
    "duration": 0,
    "start_time": "2022-04-19T19:46:03.083Z"
   },
   {
    "duration": 0,
    "start_time": "2022-04-19T19:46:03.085Z"
   },
   {
    "duration": 0,
    "start_time": "2022-04-19T19:46:03.085Z"
   },
   {
    "duration": 0,
    "start_time": "2022-04-19T19:46:03.086Z"
   },
   {
    "duration": 0,
    "start_time": "2022-04-19T19:46:03.087Z"
   },
   {
    "duration": 0,
    "start_time": "2022-04-19T19:46:03.088Z"
   },
   {
    "duration": 18739,
    "start_time": "2022-04-19T19:46:52.236Z"
   },
   {
    "duration": 23320,
    "start_time": "2022-04-19T19:47:31.732Z"
   },
   {
    "duration": 4,
    "start_time": "2022-04-19T19:48:04.992Z"
   },
   {
    "duration": 4,
    "start_time": "2022-04-19T19:48:17.328Z"
   },
   {
    "duration": 45735,
    "start_time": "2022-04-19T19:48:50.561Z"
   },
   {
    "duration": 4,
    "start_time": "2022-04-19T19:50:39.686Z"
   },
   {
    "duration": 4,
    "start_time": "2022-04-19T19:50:55.695Z"
   },
   {
    "duration": 1377,
    "start_time": "2022-04-19T19:52:23.027Z"
   },
   {
    "duration": 4,
    "start_time": "2022-04-19T19:52:31.098Z"
   },
   {
    "duration": 6,
    "start_time": "2022-04-19T19:52:59.490Z"
   },
   {
    "duration": 3,
    "start_time": "2022-04-19T19:53:27.508Z"
   },
   {
    "duration": 6,
    "start_time": "2022-04-19T19:53:43.725Z"
   },
   {
    "duration": 45873,
    "start_time": "2022-04-19T19:54:19.504Z"
   },
   {
    "duration": 9,
    "start_time": "2022-04-19T19:55:58.318Z"
   },
   {
    "duration": 1367,
    "start_time": "2022-04-19T19:56:18.835Z"
   },
   {
    "duration": 839,
    "start_time": "2022-04-19T19:56:20.204Z"
   },
   {
    "duration": 3,
    "start_time": "2022-04-19T19:56:21.044Z"
   },
   {
    "duration": 30,
    "start_time": "2022-04-19T19:56:21.049Z"
   },
   {
    "duration": 238,
    "start_time": "2022-04-19T19:56:21.080Z"
   },
   {
    "duration": 294,
    "start_time": "2022-04-19T19:56:21.322Z"
   },
   {
    "duration": 2058,
    "start_time": "2022-04-19T19:56:21.622Z"
   },
   {
    "duration": 8,
    "start_time": "2022-04-19T19:56:23.682Z"
   },
   {
    "duration": 6284,
    "start_time": "2022-04-19T19:56:23.692Z"
   },
   {
    "duration": 5,
    "start_time": "2022-04-19T19:56:29.979Z"
   },
   {
    "duration": 44992,
    "start_time": "2022-04-19T19:56:29.985Z"
   },
   {
    "duration": 112,
    "start_time": "2022-04-19T19:57:14.979Z"
   },
   {
    "duration": 0,
    "start_time": "2022-04-19T19:57:15.093Z"
   },
   {
    "duration": 0,
    "start_time": "2022-04-19T19:57:15.094Z"
   },
   {
    "duration": 0,
    "start_time": "2022-04-19T19:57:15.095Z"
   },
   {
    "duration": 0,
    "start_time": "2022-04-19T19:57:15.096Z"
   },
   {
    "duration": 0,
    "start_time": "2022-04-19T19:57:15.097Z"
   },
   {
    "duration": 0,
    "start_time": "2022-04-19T19:57:15.098Z"
   },
   {
    "duration": 0,
    "start_time": "2022-04-19T19:57:15.099Z"
   },
   {
    "duration": 0,
    "start_time": "2022-04-19T19:57:15.101Z"
   },
   {
    "duration": 0,
    "start_time": "2022-04-19T19:57:15.101Z"
   },
   {
    "duration": 0,
    "start_time": "2022-04-19T19:57:15.102Z"
   },
   {
    "duration": 0,
    "start_time": "2022-04-19T19:57:15.104Z"
   },
   {
    "duration": 16,
    "start_time": "2022-04-19T19:57:44.971Z"
   },
   {
    "duration": 17,
    "start_time": "2022-04-19T19:58:23.291Z"
   },
   {
    "duration": 16,
    "start_time": "2022-04-19T19:58:36.963Z"
   },
   {
    "duration": 15,
    "start_time": "2022-04-19T19:58:42.044Z"
   },
   {
    "duration": 16,
    "start_time": "2022-04-19T19:59:39.377Z"
   },
   {
    "duration": 45862,
    "start_time": "2022-04-19T19:59:54.296Z"
   },
   {
    "duration": 9,
    "start_time": "2022-04-19T20:01:44.028Z"
   },
   {
    "duration": 9,
    "start_time": "2022-04-19T20:01:58.998Z"
   },
   {
    "duration": 5468,
    "start_time": "2022-04-19T20:02:03.468Z"
   },
   {
    "duration": 4,
    "start_time": "2022-04-19T20:02:12.700Z"
   },
   {
    "duration": 5403,
    "start_time": "2022-04-19T20:06:21.607Z"
   },
   {
    "duration": 3,
    "start_time": "2022-04-19T20:06:29.047Z"
   },
   {
    "duration": 5907,
    "start_time": "2022-04-19T20:06:37.677Z"
   },
   {
    "duration": 4,
    "start_time": "2022-04-19T20:06:51.949Z"
   },
   {
    "duration": 1344,
    "start_time": "2022-04-19T20:07:43.075Z"
   },
   {
    "duration": 801,
    "start_time": "2022-04-19T20:07:44.421Z"
   },
   {
    "duration": 4,
    "start_time": "2022-04-19T20:07:45.224Z"
   },
   {
    "duration": 29,
    "start_time": "2022-04-19T20:07:45.229Z"
   },
   {
    "duration": 228,
    "start_time": "2022-04-19T20:07:45.261Z"
   },
   {
    "duration": 278,
    "start_time": "2022-04-19T20:07:45.490Z"
   },
   {
    "duration": 1966,
    "start_time": "2022-04-19T20:07:45.770Z"
   },
   {
    "duration": 8,
    "start_time": "2022-04-19T20:07:47.738Z"
   },
   {
    "duration": 6043,
    "start_time": "2022-04-19T20:07:47.747Z"
   },
   {
    "duration": 113,
    "start_time": "2022-04-19T20:07:53.791Z"
   },
   {
    "duration": 1,
    "start_time": "2022-04-19T20:07:53.905Z"
   },
   {
    "duration": 0,
    "start_time": "2022-04-19T20:07:53.907Z"
   },
   {
    "duration": 0,
    "start_time": "2022-04-19T20:07:53.908Z"
   },
   {
    "duration": 0,
    "start_time": "2022-04-19T20:07:53.909Z"
   },
   {
    "duration": 0,
    "start_time": "2022-04-19T20:07:53.922Z"
   },
   {
    "duration": 0,
    "start_time": "2022-04-19T20:07:53.923Z"
   },
   {
    "duration": 0,
    "start_time": "2022-04-19T20:07:53.924Z"
   },
   {
    "duration": 0,
    "start_time": "2022-04-19T20:07:53.925Z"
   },
   {
    "duration": 0,
    "start_time": "2022-04-19T20:07:53.926Z"
   },
   {
    "duration": 0,
    "start_time": "2022-04-19T20:07:53.927Z"
   },
   {
    "duration": 0,
    "start_time": "2022-04-19T20:07:53.928Z"
   },
   {
    "duration": 0,
    "start_time": "2022-04-19T20:07:53.929Z"
   },
   {
    "duration": 0,
    "start_time": "2022-04-19T20:07:53.930Z"
   },
   {
    "duration": 1415,
    "start_time": "2022-04-19T20:08:11.678Z"
   },
   {
    "duration": 896,
    "start_time": "2022-04-19T20:08:13.095Z"
   },
   {
    "duration": 4,
    "start_time": "2022-04-19T20:08:13.993Z"
   },
   {
    "duration": 42,
    "start_time": "2022-04-19T20:08:13.999Z"
   },
   {
    "duration": 230,
    "start_time": "2022-04-19T20:08:14.043Z"
   },
   {
    "duration": 288,
    "start_time": "2022-04-19T20:08:14.274Z"
   },
   {
    "duration": 2238,
    "start_time": "2022-04-19T20:08:14.563Z"
   },
   {
    "duration": 4,
    "start_time": "2022-04-19T20:08:16.803Z"
   },
   {
    "duration": 6777,
    "start_time": "2022-04-19T20:08:16.809Z"
   },
   {
    "duration": 120,
    "start_time": "2022-04-19T20:08:23.589Z"
   },
   {
    "duration": 0,
    "start_time": "2022-04-19T20:08:23.711Z"
   },
   {
    "duration": 0,
    "start_time": "2022-04-19T20:08:23.712Z"
   },
   {
    "duration": 0,
    "start_time": "2022-04-19T20:08:23.713Z"
   },
   {
    "duration": 0,
    "start_time": "2022-04-19T20:08:23.722Z"
   },
   {
    "duration": 0,
    "start_time": "2022-04-19T20:08:23.723Z"
   },
   {
    "duration": 0,
    "start_time": "2022-04-19T20:08:23.724Z"
   },
   {
    "duration": 0,
    "start_time": "2022-04-19T20:08:23.724Z"
   },
   {
    "duration": 0,
    "start_time": "2022-04-19T20:08:23.725Z"
   },
   {
    "duration": 0,
    "start_time": "2022-04-19T20:08:23.726Z"
   },
   {
    "duration": 0,
    "start_time": "2022-04-19T20:08:23.727Z"
   },
   {
    "duration": 0,
    "start_time": "2022-04-19T20:08:23.728Z"
   },
   {
    "duration": 0,
    "start_time": "2022-04-19T20:08:23.729Z"
   },
   {
    "duration": 3,
    "start_time": "2022-04-19T20:08:56.757Z"
   },
   {
    "duration": 739,
    "start_time": "2022-04-19T20:08:56.762Z"
   },
   {
    "duration": 3,
    "start_time": "2022-04-19T20:08:57.503Z"
   },
   {
    "duration": 22,
    "start_time": "2022-04-19T20:08:57.507Z"
   },
   {
    "duration": 198,
    "start_time": "2022-04-19T20:08:57.530Z"
   },
   {
    "duration": 245,
    "start_time": "2022-04-19T20:08:57.729Z"
   },
   {
    "duration": 1530,
    "start_time": "2022-04-19T20:09:09.215Z"
   },
   {
    "duration": 13581,
    "start_time": "2022-04-19T20:09:10.747Z"
   },
   {
    "duration": 4,
    "start_time": "2022-04-19T20:09:24.329Z"
   },
   {
    "duration": 42,
    "start_time": "2022-04-19T20:09:24.335Z"
   },
   {
    "duration": 220,
    "start_time": "2022-04-19T20:09:24.378Z"
   },
   {
    "duration": 283,
    "start_time": "2022-04-19T20:09:24.599Z"
   },
   {
    "duration": 2092,
    "start_time": "2022-04-19T20:09:24.884Z"
   },
   {
    "duration": 22,
    "start_time": "2022-04-19T20:09:26.978Z"
   },
   {
    "duration": 6222,
    "start_time": "2022-04-19T20:09:27.002Z"
   },
   {
    "duration": 136,
    "start_time": "2022-04-19T20:09:33.227Z"
   },
   {
    "duration": 0,
    "start_time": "2022-04-19T20:09:33.365Z"
   },
   {
    "duration": 0,
    "start_time": "2022-04-19T20:09:33.366Z"
   },
   {
    "duration": 0,
    "start_time": "2022-04-19T20:09:33.366Z"
   },
   {
    "duration": 0,
    "start_time": "2022-04-19T20:09:33.368Z"
   },
   {
    "duration": 0,
    "start_time": "2022-04-19T20:09:33.368Z"
   },
   {
    "duration": 0,
    "start_time": "2022-04-19T20:09:33.369Z"
   },
   {
    "duration": 0,
    "start_time": "2022-04-19T20:09:33.370Z"
   },
   {
    "duration": 0,
    "start_time": "2022-04-19T20:09:33.371Z"
   },
   {
    "duration": 0,
    "start_time": "2022-04-19T20:09:33.372Z"
   },
   {
    "duration": 0,
    "start_time": "2022-04-19T20:09:33.373Z"
   },
   {
    "duration": 0,
    "start_time": "2022-04-19T20:09:33.374Z"
   },
   {
    "duration": 0,
    "start_time": "2022-04-19T20:09:33.375Z"
   },
   {
    "duration": 32,
    "start_time": "2022-04-19T20:13:00.167Z"
   },
   {
    "duration": 4,
    "start_time": "2022-04-19T20:13:51.374Z"
   },
   {
    "duration": 8,
    "start_time": "2022-04-19T20:14:07.335Z"
   },
   {
    "duration": 4,
    "start_time": "2022-04-19T20:14:17.589Z"
   },
   {
    "duration": 9,
    "start_time": "2022-04-19T20:14:32.556Z"
   },
   {
    "duration": 2,
    "start_time": "2022-04-19T20:17:27.632Z"
   },
   {
    "duration": 183,
    "start_time": "2022-04-19T20:17:30.240Z"
   },
   {
    "duration": 81388,
    "start_time": "2022-04-19T20:17:51.175Z"
   },
   {
    "duration": 30,
    "start_time": "2022-04-19T20:19:23.469Z"
   },
   {
    "duration": 3,
    "start_time": "2022-04-19T20:19:46.415Z"
   },
   {
    "duration": 16,
    "start_time": "2022-04-19T20:20:09.037Z"
   },
   {
    "duration": 1511,
    "start_time": "2022-04-19T20:21:46.548Z"
   },
   {
    "duration": 10084,
    "start_time": "2022-04-19T20:21:48.061Z"
   },
   {
    "duration": 4,
    "start_time": "2022-04-19T20:21:58.147Z"
   },
   {
    "duration": 54,
    "start_time": "2022-04-19T20:21:58.153Z"
   },
   {
    "duration": 245,
    "start_time": "2022-04-19T20:21:58.208Z"
   },
   {
    "duration": 316,
    "start_time": "2022-04-19T20:21:58.455Z"
   },
   {
    "duration": 2089,
    "start_time": "2022-04-19T20:21:58.773Z"
   },
   {
    "duration": 20,
    "start_time": "2022-04-19T20:22:00.864Z"
   },
   {
    "duration": 6622,
    "start_time": "2022-04-19T20:22:00.886Z"
   },
   {
    "duration": 3,
    "start_time": "2022-04-19T20:22:07.511Z"
   },
   {
    "duration": 1357,
    "start_time": "2022-04-20T15:29:28.201Z"
   },
   {
    "duration": 791,
    "start_time": "2022-04-20T15:29:29.559Z"
   },
   {
    "duration": 4,
    "start_time": "2022-04-20T15:29:31.155Z"
   },
   {
    "duration": 26,
    "start_time": "2022-04-20T15:29:32.754Z"
   },
   {
    "duration": 204,
    "start_time": "2022-04-20T15:29:33.811Z"
   },
   {
    "duration": 259,
    "start_time": "2022-04-20T15:29:34.914Z"
   },
   {
    "duration": 1796,
    "start_time": "2022-04-20T15:29:35.905Z"
   },
   {
    "duration": 4,
    "start_time": "2022-04-20T15:29:37.704Z"
   },
   {
    "duration": 3081,
    "start_time": "2022-04-20T15:29:38.713Z"
   },
   {
    "duration": 3696,
    "start_time": "2022-04-20T15:29:52.697Z"
   },
   {
    "duration": 3631,
    "start_time": "2022-04-20T15:30:00.250Z"
   },
   {
    "duration": 8,
    "start_time": "2022-04-20T15:30:41.368Z"
   },
   {
    "duration": 9,
    "start_time": "2022-04-20T15:31:07.512Z"
   },
   {
    "duration": 17,
    "start_time": "2022-04-20T15:31:47.223Z"
   },
   {
    "duration": 187,
    "start_time": "2022-04-20T15:31:59.087Z"
   },
   {
    "duration": 3611,
    "start_time": "2022-04-20T15:32:21.278Z"
   },
   {
    "duration": 321322,
    "start_time": "2022-04-20T15:32:53.750Z"
   },
   {
    "duration": 3,
    "start_time": "2022-04-20T15:38:26.837Z"
   },
   {
    "duration": 4,
    "start_time": "2022-04-20T15:38:43.060Z"
   },
   {
    "duration": 9,
    "start_time": "2022-04-20T15:39:13.572Z"
   },
   {
    "duration": 6737,
    "start_time": "2022-04-20T15:39:29.140Z"
   },
   {
    "duration": 4,
    "start_time": "2022-04-20T15:39:51.731Z"
   },
   {
    "duration": 4,
    "start_time": "2022-04-20T15:39:58.898Z"
   },
   {
    "duration": 3,
    "start_time": "2022-04-20T15:40:24.290Z"
   },
   {
    "duration": 13,
    "start_time": "2022-04-20T15:42:36.358Z"
   },
   {
    "duration": 192,
    "start_time": "2022-04-20T15:43:02.430Z"
   },
   {
    "duration": 4,
    "start_time": "2022-04-20T15:46:22.697Z"
   },
   {
    "duration": 8,
    "start_time": "2022-04-20T16:04:17.416Z"
   },
   {
    "duration": 1373,
    "start_time": "2022-04-20T16:05:48.505Z"
   },
   {
    "duration": 799,
    "start_time": "2022-04-20T16:05:50.512Z"
   },
   {
    "duration": 4,
    "start_time": "2022-04-20T16:05:51.792Z"
   },
   {
    "duration": 26,
    "start_time": "2022-04-20T16:05:55.769Z"
   },
   {
    "duration": 218,
    "start_time": "2022-04-20T16:05:57.968Z"
   },
   {
    "duration": 254,
    "start_time": "2022-04-20T16:05:59.992Z"
   },
   {
    "duration": 1400,
    "start_time": "2022-04-20T16:06:30.761Z"
   },
   {
    "duration": 794,
    "start_time": "2022-04-20T16:06:32.777Z"
   },
   {
    "duration": 4,
    "start_time": "2022-04-20T16:06:34.266Z"
   },
   {
    "duration": 26,
    "start_time": "2022-04-20T16:06:35.629Z"
   },
   {
    "duration": 204,
    "start_time": "2022-04-20T16:06:37.361Z"
   },
   {
    "duration": 247,
    "start_time": "2022-04-20T16:06:39.118Z"
   },
   {
    "duration": 44,
    "start_time": "2022-04-20T16:06:52.302Z"
   },
   {
    "duration": 1396,
    "start_time": "2022-04-20T16:07:29.604Z"
   },
   {
    "duration": 758,
    "start_time": "2022-04-20T16:07:31.002Z"
   },
   {
    "duration": 4,
    "start_time": "2022-04-20T16:07:31.761Z"
   },
   {
    "duration": 26,
    "start_time": "2022-04-20T16:07:31.766Z"
   },
   {
    "duration": 213,
    "start_time": "2022-04-20T16:07:31.800Z"
   },
   {
    "duration": 249,
    "start_time": "2022-04-20T16:07:32.014Z"
   },
   {
    "duration": 1391,
    "start_time": "2022-04-20T16:07:57.165Z"
   },
   {
    "duration": 769,
    "start_time": "2022-04-20T16:07:58.558Z"
   },
   {
    "duration": 4,
    "start_time": "2022-04-20T16:07:59.329Z"
   },
   {
    "duration": 20,
    "start_time": "2022-04-20T16:07:59.335Z"
   },
   {
    "duration": 216,
    "start_time": "2022-04-20T16:07:59.356Z"
   },
   {
    "duration": 251,
    "start_time": "2022-04-20T16:07:59.574Z"
   },
   {
    "duration": 1315,
    "start_time": "2022-04-20T16:08:31.130Z"
   },
   {
    "duration": 766,
    "start_time": "2022-04-20T16:08:32.447Z"
   },
   {
    "duration": 3,
    "start_time": "2022-04-20T16:08:33.215Z"
   },
   {
    "duration": 26,
    "start_time": "2022-04-20T16:08:33.220Z"
   },
   {
    "duration": 213,
    "start_time": "2022-04-20T16:08:33.248Z"
   },
   {
    "duration": 253,
    "start_time": "2022-04-20T16:08:33.462Z"
   },
   {
    "duration": 1804,
    "start_time": "2022-04-20T16:08:33.717Z"
   },
   {
    "duration": 5,
    "start_time": "2022-04-20T16:08:35.523Z"
   },
   {
    "duration": 5883,
    "start_time": "2022-04-20T16:08:35.529Z"
   },
   {
    "duration": 10,
    "start_time": "2022-04-20T16:08:41.415Z"
   },
   {
    "duration": 3,
    "start_time": "2022-04-20T16:08:41.427Z"
   },
   {
    "duration": 5,
    "start_time": "2022-04-20T16:08:41.431Z"
   },
   {
    "duration": 40427,
    "start_time": "2022-04-20T16:08:41.437Z"
   },
   {
    "duration": 0,
    "start_time": "2022-04-20T16:09:21.866Z"
   },
   {
    "duration": 0,
    "start_time": "2022-04-20T16:09:21.867Z"
   },
   {
    "duration": 0,
    "start_time": "2022-04-20T16:09:21.868Z"
   },
   {
    "duration": 0,
    "start_time": "2022-04-20T16:09:21.869Z"
   },
   {
    "duration": 0,
    "start_time": "2022-04-20T16:09:21.870Z"
   },
   {
    "duration": 0,
    "start_time": "2022-04-20T16:09:21.871Z"
   },
   {
    "duration": 0,
    "start_time": "2022-04-20T16:09:21.872Z"
   },
   {
    "duration": 0,
    "start_time": "2022-04-20T16:09:21.873Z"
   },
   {
    "duration": 0,
    "start_time": "2022-04-20T16:09:21.874Z"
   },
   {
    "duration": 0,
    "start_time": "2022-04-20T16:09:21.875Z"
   },
   {
    "duration": 0,
    "start_time": "2022-04-20T16:09:21.876Z"
   },
   {
    "duration": 0,
    "start_time": "2022-04-20T16:09:21.876Z"
   },
   {
    "duration": 0,
    "start_time": "2022-04-20T16:09:21.877Z"
   },
   {
    "duration": 0,
    "start_time": "2022-04-20T16:09:21.878Z"
   },
   {
    "duration": 8,
    "start_time": "2022-04-20T16:09:27.571Z"
   },
   {
    "duration": 147,
    "start_time": "2022-04-20T16:12:13.687Z"
   },
   {
    "duration": 1804,
    "start_time": "2022-04-20T16:12:18.206Z"
   },
   {
    "duration": 3,
    "start_time": "2022-04-20T16:12:24.910Z"
   },
   {
    "duration": 5774,
    "start_time": "2022-04-20T16:12:30.318Z"
   },
   {
    "duration": 4,
    "start_time": "2022-04-20T16:12:40.240Z"
   },
   {
    "duration": 4,
    "start_time": "2022-04-20T16:12:55.120Z"
   },
   {
    "duration": 3,
    "start_time": "2022-04-20T16:13:08.306Z"
   },
   {
    "duration": 1370,
    "start_time": "2022-04-20T16:13:50.357Z"
   },
   {
    "duration": 763,
    "start_time": "2022-04-20T16:13:51.729Z"
   },
   {
    "duration": 3,
    "start_time": "2022-04-20T16:13:52.494Z"
   },
   {
    "duration": 28,
    "start_time": "2022-04-20T16:13:52.501Z"
   },
   {
    "duration": 212,
    "start_time": "2022-04-20T16:13:52.531Z"
   },
   {
    "duration": 257,
    "start_time": "2022-04-20T16:13:52.745Z"
   },
   {
    "duration": 11,
    "start_time": "2022-04-20T16:13:53.004Z"
   },
   {
    "duration": 1826,
    "start_time": "2022-04-20T16:13:53.016Z"
   },
   {
    "duration": 16,
    "start_time": "2022-04-20T16:13:54.844Z"
   },
   {
    "duration": 5880,
    "start_time": "2022-04-20T16:13:54.863Z"
   },
   {
    "duration": 4,
    "start_time": "2022-04-20T16:14:00.745Z"
   },
   {
    "duration": 21,
    "start_time": "2022-04-20T16:14:00.750Z"
   },
   {
    "duration": 26,
    "start_time": "2022-04-20T16:14:00.773Z"
   },
   {
    "duration": 1280,
    "start_time": "2022-04-20T16:14:58.049Z"
   },
   {
    "duration": 773,
    "start_time": "2022-04-20T16:14:59.330Z"
   },
   {
    "duration": 3,
    "start_time": "2022-04-20T16:15:00.105Z"
   },
   {
    "duration": 35,
    "start_time": "2022-04-20T16:15:00.110Z"
   },
   {
    "duration": 212,
    "start_time": "2022-04-20T16:15:00.146Z"
   },
   {
    "duration": 265,
    "start_time": "2022-04-20T16:15:00.360Z"
   },
   {
    "duration": 11,
    "start_time": "2022-04-20T16:15:00.627Z"
   },
   {
    "duration": 256,
    "start_time": "2022-04-20T16:15:00.639Z"
   },
   {
    "duration": 14,
    "start_time": "2022-04-20T16:15:00.896Z"
   },
   {
    "duration": 756,
    "start_time": "2022-04-20T16:15:00.913Z"
   },
   {
    "duration": 105,
    "start_time": "2022-04-20T16:15:01.670Z"
   },
   {
    "duration": 0,
    "start_time": "2022-04-20T16:15:01.777Z"
   },
   {
    "duration": 0,
    "start_time": "2022-04-20T16:15:01.777Z"
   },
   {
    "duration": 0,
    "start_time": "2022-04-20T16:15:01.778Z"
   },
   {
    "duration": 0,
    "start_time": "2022-04-20T16:15:01.779Z"
   },
   {
    "duration": 0,
    "start_time": "2022-04-20T16:15:01.780Z"
   },
   {
    "duration": 0,
    "start_time": "2022-04-20T16:15:01.781Z"
   },
   {
    "duration": 0,
    "start_time": "2022-04-20T16:15:01.782Z"
   },
   {
    "duration": 0,
    "start_time": "2022-04-20T16:15:01.783Z"
   },
   {
    "duration": 0,
    "start_time": "2022-04-20T16:15:01.784Z"
   },
   {
    "duration": 0,
    "start_time": "2022-04-20T16:15:01.800Z"
   },
   {
    "duration": 0,
    "start_time": "2022-04-20T16:15:01.801Z"
   },
   {
    "duration": 0,
    "start_time": "2022-04-20T16:15:01.802Z"
   },
   {
    "duration": 0,
    "start_time": "2022-04-20T16:15:01.803Z"
   },
   {
    "duration": 0,
    "start_time": "2022-04-20T16:15:01.804Z"
   },
   {
    "duration": 0,
    "start_time": "2022-04-20T16:15:01.805Z"
   },
   {
    "duration": 0,
    "start_time": "2022-04-20T16:15:01.806Z"
   },
   {
    "duration": 0,
    "start_time": "2022-04-20T16:15:01.807Z"
   },
   {
    "duration": 3,
    "start_time": "2022-04-20T16:17:46.248Z"
   },
   {
    "duration": 12,
    "start_time": "2022-04-20T16:18:14.473Z"
   },
   {
    "duration": 3,
    "start_time": "2022-04-20T16:18:28.672Z"
   },
   {
    "duration": 1525,
    "start_time": "2022-04-20T16:18:29.199Z"
   },
   {
    "duration": 4,
    "start_time": "2022-04-20T16:18:48.331Z"
   },
   {
    "duration": 3,
    "start_time": "2022-04-20T16:19:19.160Z"
   },
   {
    "duration": 13505802,
    "start_time": "2022-04-20T16:19:19.766Z"
   },
   {
    "duration": 5,
    "start_time": "2022-04-20T20:04:38.486Z"
   },
   {
    "duration": 97,
    "start_time": "2022-04-20T20:08:44.497Z"
   },
   {
    "duration": 95,
    "start_time": "2022-04-20T20:10:10.364Z"
   },
   {
    "duration": 4,
    "start_time": "2022-04-20T20:10:41.236Z"
   },
   {
    "duration": 90,
    "start_time": "2022-04-20T20:10:42.404Z"
   },
   {
    "duration": 91,
    "start_time": "2022-04-20T20:11:05.575Z"
   },
   {
    "duration": 4,
    "start_time": "2022-04-20T20:13:30.257Z"
   },
   {
    "duration": 8,
    "start_time": "2022-04-20T20:13:51.176Z"
   },
   {
    "duration": 97,
    "start_time": "2022-04-20T20:14:32.808Z"
   },
   {
    "duration": 4,
    "start_time": "2022-04-20T20:22:14.348Z"
   },
   {
    "duration": 724,
    "start_time": "2022-04-20T20:22:14.354Z"
   },
   {
    "duration": 3,
    "start_time": "2022-04-20T20:22:15.080Z"
   },
   {
    "duration": 39,
    "start_time": "2022-04-20T20:22:15.085Z"
   },
   {
    "duration": 205,
    "start_time": "2022-04-20T20:22:15.127Z"
   },
   {
    "duration": 259,
    "start_time": "2022-04-20T20:22:15.334Z"
   },
   {
    "duration": 14,
    "start_time": "2022-04-20T20:22:15.594Z"
   },
   {
    "duration": 5,
    "start_time": "2022-04-20T20:22:15.609Z"
   },
   {
    "duration": 4,
    "start_time": "2022-04-20T20:22:15.616Z"
   },
   {
    "duration": 465,
    "start_time": "2022-04-20T20:22:15.621Z"
   },
   {
    "duration": 3,
    "start_time": "2022-04-20T20:22:16.088Z"
   },
   {
    "duration": 38819,
    "start_time": "2022-04-20T20:22:16.093Z"
   },
   {
    "duration": 0,
    "start_time": "2022-04-20T20:22:54.914Z"
   },
   {
    "duration": 0,
    "start_time": "2022-04-20T20:22:54.916Z"
   },
   {
    "duration": 0,
    "start_time": "2022-04-20T20:22:54.917Z"
   },
   {
    "duration": 0,
    "start_time": "2022-04-20T20:22:54.918Z"
   },
   {
    "duration": 0,
    "start_time": "2022-04-20T20:22:54.919Z"
   },
   {
    "duration": 0,
    "start_time": "2022-04-20T20:22:54.920Z"
   },
   {
    "duration": 0,
    "start_time": "2022-04-20T20:22:54.920Z"
   },
   {
    "duration": 0,
    "start_time": "2022-04-20T20:22:54.922Z"
   },
   {
    "duration": 4,
    "start_time": "2022-04-20T20:25:21.999Z"
   },
   {
    "duration": 719,
    "start_time": "2022-04-20T20:25:22.005Z"
   },
   {
    "duration": 4,
    "start_time": "2022-04-20T20:25:22.726Z"
   },
   {
    "duration": 24,
    "start_time": "2022-04-20T20:25:22.732Z"
   },
   {
    "duration": 210,
    "start_time": "2022-04-20T20:25:22.757Z"
   },
   {
    "duration": 275,
    "start_time": "2022-04-20T20:25:22.969Z"
   },
   {
    "duration": 25,
    "start_time": "2022-04-20T20:25:23.246Z"
   },
   {
    "duration": 255,
    "start_time": "2022-04-20T20:25:23.273Z"
   },
   {
    "duration": 19,
    "start_time": "2022-04-20T20:25:23.530Z"
   },
   {
    "duration": 905,
    "start_time": "2022-04-20T20:25:23.552Z"
   },
   {
    "duration": 3,
    "start_time": "2022-04-20T20:25:24.458Z"
   },
   {
    "duration": 18492,
    "start_time": "2022-04-20T20:25:24.462Z"
   },
   {
    "duration": 0,
    "start_time": "2022-04-20T20:25:42.956Z"
   },
   {
    "duration": 0,
    "start_time": "2022-04-20T20:25:42.957Z"
   },
   {
    "duration": 0,
    "start_time": "2022-04-20T20:25:42.959Z"
   },
   {
    "duration": 0,
    "start_time": "2022-04-20T20:25:42.960Z"
   },
   {
    "duration": 0,
    "start_time": "2022-04-20T20:25:42.961Z"
   },
   {
    "duration": 0,
    "start_time": "2022-04-20T20:25:42.962Z"
   },
   {
    "duration": 0,
    "start_time": "2022-04-20T20:25:42.963Z"
   },
   {
    "duration": 0,
    "start_time": "2022-04-20T20:25:42.964Z"
   },
   {
    "duration": 9,
    "start_time": "2022-04-21T09:18:58.515Z"
   },
   {
    "duration": 1481,
    "start_time": "2022-04-21T09:21:23.587Z"
   },
   {
    "duration": 12834,
    "start_time": "2022-04-21T09:21:52.541Z"
   },
   {
    "duration": 169,
    "start_time": "2022-04-21T09:22:29.403Z"
   },
   {
    "duration": 3,
    "start_time": "2022-04-21T09:22:52.947Z"
   },
   {
    "duration": 25,
    "start_time": "2022-04-21T09:22:53.427Z"
   },
   {
    "duration": 206,
    "start_time": "2022-04-21T09:22:54.435Z"
   },
   {
    "duration": 261,
    "start_time": "2022-04-21T09:22:55.907Z"
   },
   {
    "duration": 11,
    "start_time": "2022-04-21T09:22:57.082Z"
   },
   {
    "duration": 244,
    "start_time": "2022-04-21T09:23:02.122Z"
   },
   {
    "duration": 29,
    "start_time": "2022-04-21T09:23:16.499Z"
   },
   {
    "duration": 8,
    "start_time": "2022-04-21T09:23:30.003Z"
   },
   {
    "duration": 246,
    "start_time": "2022-04-21T09:23:53.602Z"
   },
   {
    "duration": 2617,
    "start_time": "2022-04-21T09:24:55.761Z"
   },
   {
    "duration": 2643,
    "start_time": "2022-04-21T09:25:12.600Z"
   },
   {
    "duration": 9,
    "start_time": "2022-04-21T09:25:33.663Z"
   },
   {
    "duration": 10590,
    "start_time": "2022-04-21T09:26:17.239Z"
   },
   {
    "duration": 1487,
    "start_time": "2022-04-21T09:27:03.283Z"
   },
   {
    "duration": 801,
    "start_time": "2022-04-21T09:27:04.772Z"
   },
   {
    "duration": 3,
    "start_time": "2022-04-21T09:27:05.575Z"
   },
   {
    "duration": 32,
    "start_time": "2022-04-21T09:27:05.580Z"
   },
   {
    "duration": 219,
    "start_time": "2022-04-21T09:27:05.623Z"
   },
   {
    "duration": 280,
    "start_time": "2022-04-21T09:27:05.844Z"
   },
   {
    "duration": 11,
    "start_time": "2022-04-21T09:27:06.126Z"
   },
   {
    "duration": 261,
    "start_time": "2022-04-21T09:27:06.139Z"
   },
   {
    "duration": 10567,
    "start_time": "2022-04-21T09:27:06.401Z"
   },
   {
    "duration": 3,
    "start_time": "2022-04-21T09:27:16.971Z"
   },
   {
    "duration": 779,
    "start_time": "2022-04-21T09:27:16.975Z"
   },
   {
    "duration": 4,
    "start_time": "2022-04-21T09:27:17.755Z"
   },
   {
    "duration": 33735,
    "start_time": "2022-04-21T09:27:17.760Z"
   },
   {
    "duration": 0,
    "start_time": "2022-04-21T09:27:51.497Z"
   },
   {
    "duration": 0,
    "start_time": "2022-04-21T09:27:51.498Z"
   },
   {
    "duration": 0,
    "start_time": "2022-04-21T09:27:51.499Z"
   },
   {
    "duration": 0,
    "start_time": "2022-04-21T09:27:51.500Z"
   },
   {
    "duration": 0,
    "start_time": "2022-04-21T09:27:51.501Z"
   },
   {
    "duration": 0,
    "start_time": "2022-04-21T09:27:51.502Z"
   },
   {
    "duration": 0,
    "start_time": "2022-04-21T09:27:51.503Z"
   },
   {
    "duration": 0,
    "start_time": "2022-04-21T09:27:51.504Z"
   },
   {
    "duration": 1384,
    "start_time": "2022-04-21T09:28:22.310Z"
   },
   {
    "duration": 797,
    "start_time": "2022-04-21T09:28:23.697Z"
   },
   {
    "duration": 3,
    "start_time": "2022-04-21T09:28:24.496Z"
   },
   {
    "duration": 38,
    "start_time": "2022-04-21T09:28:24.502Z"
   },
   {
    "duration": 210,
    "start_time": "2022-04-21T09:28:24.541Z"
   },
   {
    "duration": 245,
    "start_time": "2022-04-21T09:28:24.753Z"
   },
   {
    "duration": 10,
    "start_time": "2022-04-21T09:28:25.000Z"
   },
   {
    "duration": 244,
    "start_time": "2022-04-21T09:28:25.021Z"
   },
   {
    "duration": 130,
    "start_time": "2022-04-21T09:28:25.266Z"
   },
   {
    "duration": 0,
    "start_time": "2022-04-21T09:28:25.398Z"
   },
   {
    "duration": 0,
    "start_time": "2022-04-21T09:28:25.399Z"
   },
   {
    "duration": 0,
    "start_time": "2022-04-21T09:28:25.400Z"
   },
   {
    "duration": 0,
    "start_time": "2022-04-21T09:28:25.401Z"
   },
   {
    "duration": 0,
    "start_time": "2022-04-21T09:28:25.403Z"
   },
   {
    "duration": 1,
    "start_time": "2022-04-21T09:28:25.403Z"
   },
   {
    "duration": 0,
    "start_time": "2022-04-21T09:28:25.404Z"
   },
   {
    "duration": 0,
    "start_time": "2022-04-21T09:28:25.422Z"
   },
   {
    "duration": 0,
    "start_time": "2022-04-21T09:28:25.424Z"
   },
   {
    "duration": 0,
    "start_time": "2022-04-21T09:28:25.425Z"
   },
   {
    "duration": 0,
    "start_time": "2022-04-21T09:28:25.426Z"
   },
   {
    "duration": 0,
    "start_time": "2022-04-21T09:28:25.427Z"
   },
   {
    "duration": 2,
    "start_time": "2022-04-21T09:28:37.368Z"
   },
   {
    "duration": 4,
    "start_time": "2022-04-21T09:28:45.022Z"
   },
   {
    "duration": 4,
    "start_time": "2022-04-21T09:28:51.518Z"
   },
   {
    "duration": 8,
    "start_time": "2022-04-21T09:28:55.927Z"
   },
   {
    "duration": 9,
    "start_time": "2022-04-21T09:29:12.871Z"
   },
   {
    "duration": 17,
    "start_time": "2022-04-21T09:29:21.910Z"
   },
   {
    "duration": 1415,
    "start_time": "2022-04-21T09:29:29.523Z"
   },
   {
    "duration": 769,
    "start_time": "2022-04-21T09:29:30.940Z"
   },
   {
    "duration": 3,
    "start_time": "2022-04-21T09:29:31.711Z"
   },
   {
    "duration": 27,
    "start_time": "2022-04-21T09:29:31.724Z"
   },
   {
    "duration": 223,
    "start_time": "2022-04-21T09:29:31.753Z"
   },
   {
    "duration": 262,
    "start_time": "2022-04-21T09:29:31.978Z"
   },
   {
    "duration": 11,
    "start_time": "2022-04-21T09:29:32.242Z"
   },
   {
    "duration": 259,
    "start_time": "2022-04-21T09:29:32.254Z"
   },
   {
    "duration": 118,
    "start_time": "2022-04-21T09:29:32.523Z"
   },
   {
    "duration": 0,
    "start_time": "2022-04-21T09:29:32.643Z"
   },
   {
    "duration": 0,
    "start_time": "2022-04-21T09:29:32.644Z"
   },
   {
    "duration": 0,
    "start_time": "2022-04-21T09:29:32.646Z"
   },
   {
    "duration": 0,
    "start_time": "2022-04-21T09:29:32.647Z"
   },
   {
    "duration": 0,
    "start_time": "2022-04-21T09:29:32.648Z"
   },
   {
    "duration": 0,
    "start_time": "2022-04-21T09:29:32.649Z"
   },
   {
    "duration": 0,
    "start_time": "2022-04-21T09:29:32.650Z"
   },
   {
    "duration": 0,
    "start_time": "2022-04-21T09:29:32.651Z"
   },
   {
    "duration": 0,
    "start_time": "2022-04-21T09:29:32.652Z"
   },
   {
    "duration": 0,
    "start_time": "2022-04-21T09:29:32.653Z"
   },
   {
    "duration": 0,
    "start_time": "2022-04-21T09:29:32.655Z"
   },
   {
    "duration": 0,
    "start_time": "2022-04-21T09:29:32.656Z"
   },
   {
    "duration": 10,
    "start_time": "2022-04-21T09:39:23.910Z"
   },
   {
    "duration": 16,
    "start_time": "2022-04-21T09:41:50.397Z"
   },
   {
    "duration": 5,
    "start_time": "2022-04-21T09:41:59.676Z"
   },
   {
    "duration": 6,
    "start_time": "2022-04-21T09:42:25.683Z"
   },
   {
    "duration": 6,
    "start_time": "2022-04-21T09:43:05.218Z"
   },
   {
    "duration": 11,
    "start_time": "2022-04-21T09:43:40.325Z"
   },
   {
    "duration": 9,
    "start_time": "2022-04-21T09:43:59.898Z"
   },
   {
    "duration": 2679,
    "start_time": "2022-04-21T09:44:16.466Z"
   },
   {
    "duration": 4,
    "start_time": "2022-04-21T09:44:29.424Z"
   },
   {
    "duration": 8,
    "start_time": "2022-04-21T09:44:46.511Z"
   },
   {
    "duration": 15,
    "start_time": "2022-04-21T09:45:05.400Z"
   },
   {
    "duration": 17,
    "start_time": "2022-04-21T09:45:21.535Z"
   },
   {
    "duration": 2721,
    "start_time": "2022-04-21T09:45:30.849Z"
   },
   {
    "duration": 5,
    "start_time": "2022-04-21T09:45:42.216Z"
   },
   {
    "duration": 12054,
    "start_time": "2022-04-21T09:46:11.302Z"
   },
   {
    "duration": 20113,
    "start_time": "2022-04-21T09:46:30.226Z"
   },
   {
    "duration": 11,
    "start_time": "2022-04-21T09:49:01.549Z"
   },
   {
    "duration": 20027,
    "start_time": "2022-04-21T09:49:18.274Z"
   },
   {
    "duration": 253,
    "start_time": "2022-04-21T09:50:26.415Z"
   },
   {
    "duration": 10219,
    "start_time": "2022-04-21T09:50:50.852Z"
   },
   {
    "duration": 10530,
    "start_time": "2022-04-21T09:51:08.318Z"
   },
   {
    "duration": 10584,
    "start_time": "2022-04-21T09:51:30.222Z"
   },
   {
    "duration": 9,
    "start_time": "2022-04-21T09:52:15.134Z"
   },
   {
    "duration": 3,
    "start_time": "2022-04-21T09:52:19.428Z"
   },
   {
    "duration": 805,
    "start_time": "2022-04-21T09:52:20.212Z"
   },
   {
    "duration": 711,
    "start_time": "2022-04-21T09:52:42.885Z"
   },
   {
    "duration": 3,
    "start_time": "2022-04-21T09:54:01.218Z"
   },
   {
    "duration": 11,
    "start_time": "2022-04-21T09:54:29.130Z"
   },
   {
    "duration": 26,
    "start_time": "2022-04-21T09:54:59.969Z"
   },
   {
    "duration": 27,
    "start_time": "2022-04-21T09:55:41.586Z"
   },
   {
    "duration": 12,
    "start_time": "2022-04-21T09:55:45.409Z"
   },
   {
    "duration": 284,
    "start_time": "2022-04-21T09:55:59.080Z"
   },
   {
    "duration": 22,
    "start_time": "2022-04-21T09:56:02.400Z"
   },
   {
    "duration": 865,
    "start_time": "2022-04-21T09:56:18.432Z"
   },
   {
    "duration": 20,
    "start_time": "2022-04-21T09:56:24.359Z"
   },
   {
    "duration": 18,
    "start_time": "2022-04-21T09:56:38.657Z"
   },
   {
    "duration": 1360,
    "start_time": "2022-04-21T09:56:47.323Z"
   },
   {
    "duration": 785,
    "start_time": "2022-04-21T09:56:48.685Z"
   },
   {
    "duration": 4,
    "start_time": "2022-04-21T09:56:49.472Z"
   },
   {
    "duration": 32,
    "start_time": "2022-04-21T09:56:49.478Z"
   },
   {
    "duration": 223,
    "start_time": "2022-04-21T09:56:49.511Z"
   },
   {
    "duration": 260,
    "start_time": "2022-04-21T09:56:49.736Z"
   },
   {
    "duration": 11,
    "start_time": "2022-04-21T09:56:49.997Z"
   },
   {
    "duration": 254,
    "start_time": "2022-04-21T09:56:50.009Z"
   },
   {
    "duration": 4,
    "start_time": "2022-04-21T09:56:50.265Z"
   },
   {
    "duration": 771,
    "start_time": "2022-04-21T09:56:50.271Z"
   },
   {
    "duration": 3,
    "start_time": "2022-04-21T09:56:51.043Z"
   },
   {
    "duration": 1089,
    "start_time": "2022-04-21T09:56:51.048Z"
   },
   {
    "duration": 3,
    "start_time": "2022-04-21T09:56:52.139Z"
   },
   {
    "duration": 130,
    "start_time": "2022-04-21T09:56:52.144Z"
   },
   {
    "duration": 0,
    "start_time": "2022-04-21T09:56:52.275Z"
   },
   {
    "duration": 0,
    "start_time": "2022-04-21T09:56:52.277Z"
   },
   {
    "duration": 0,
    "start_time": "2022-04-21T09:56:52.278Z"
   },
   {
    "duration": 0,
    "start_time": "2022-04-21T09:56:52.279Z"
   },
   {
    "duration": 0,
    "start_time": "2022-04-21T09:56:52.279Z"
   },
   {
    "duration": 0,
    "start_time": "2022-04-21T09:56:52.280Z"
   },
   {
    "duration": 0,
    "start_time": "2022-04-21T09:56:52.282Z"
   },
   {
    "duration": 0,
    "start_time": "2022-04-21T09:56:52.283Z"
   },
   {
    "duration": 22,
    "start_time": "2022-04-21T09:57:20.813Z"
   },
   {
    "duration": 6,
    "start_time": "2022-04-21T09:59:22.489Z"
   },
   {
    "duration": 1392,
    "start_time": "2022-04-21T09:59:54.442Z"
   },
   {
    "duration": 42,
    "start_time": "2022-04-21T10:00:36.761Z"
   },
   {
    "duration": 1403,
    "start_time": "2022-04-21T10:01:08.835Z"
   },
   {
    "duration": 806,
    "start_time": "2022-04-21T10:01:10.240Z"
   },
   {
    "duration": 3,
    "start_time": "2022-04-21T10:01:11.048Z"
   },
   {
    "duration": 35,
    "start_time": "2022-04-21T10:01:11.053Z"
   },
   {
    "duration": 236,
    "start_time": "2022-04-21T10:01:11.090Z"
   },
   {
    "duration": 280,
    "start_time": "2022-04-21T10:01:11.328Z"
   },
   {
    "duration": 19,
    "start_time": "2022-04-21T10:01:11.610Z"
   },
   {
    "duration": 257,
    "start_time": "2022-04-21T10:01:11.631Z"
   },
   {
    "duration": 4,
    "start_time": "2022-04-21T10:01:11.890Z"
   },
   {
    "duration": 790,
    "start_time": "2022-04-21T10:01:11.897Z"
   },
   {
    "duration": 4,
    "start_time": "2022-04-21T10:01:12.689Z"
   },
   {
    "duration": 1368,
    "start_time": "2022-04-21T10:01:12.695Z"
   },
   {
    "duration": 0,
    "start_time": "2022-04-21T10:01:14.065Z"
   },
   {
    "duration": 0,
    "start_time": "2022-04-21T10:01:14.067Z"
   },
   {
    "duration": 0,
    "start_time": "2022-04-21T10:01:14.068Z"
   },
   {
    "duration": 0,
    "start_time": "2022-04-21T10:01:14.070Z"
   },
   {
    "duration": 0,
    "start_time": "2022-04-21T10:01:14.071Z"
   },
   {
    "duration": 0,
    "start_time": "2022-04-21T10:01:14.073Z"
   },
   {
    "duration": 0,
    "start_time": "2022-04-21T10:01:14.074Z"
   },
   {
    "duration": 0,
    "start_time": "2022-04-21T10:01:14.076Z"
   },
   {
    "duration": 0,
    "start_time": "2022-04-21T10:01:14.077Z"
   },
   {
    "duration": 0,
    "start_time": "2022-04-21T10:01:14.079Z"
   },
   {
    "duration": 3,
    "start_time": "2022-04-21T10:07:31.320Z"
   },
   {
    "duration": 2,
    "start_time": "2022-04-21T10:08:02.483Z"
   },
   {
    "duration": 4,
    "start_time": "2022-04-21T10:08:03.009Z"
   },
   {
    "duration": 9841,
    "start_time": "2022-04-21T10:08:38.466Z"
   },
   {
    "duration": 1408,
    "start_time": "2022-04-21T10:09:32.001Z"
   },
   {
    "duration": 832,
    "start_time": "2022-04-21T10:09:33.411Z"
   },
   {
    "duration": 4,
    "start_time": "2022-04-21T10:09:34.245Z"
   },
   {
    "duration": 35,
    "start_time": "2022-04-21T10:09:34.251Z"
   },
   {
    "duration": 234,
    "start_time": "2022-04-21T10:09:34.288Z"
   },
   {
    "duration": 278,
    "start_time": "2022-04-21T10:09:34.524Z"
   },
   {
    "duration": 19,
    "start_time": "2022-04-21T10:09:34.803Z"
   },
   {
    "duration": 254,
    "start_time": "2022-04-21T10:09:34.824Z"
   },
   {
    "duration": 26,
    "start_time": "2022-04-21T10:09:35.080Z"
   },
   {
    "duration": 833,
    "start_time": "2022-04-21T10:09:35.109Z"
   },
   {
    "duration": 4,
    "start_time": "2022-04-21T10:09:35.943Z"
   },
   {
    "duration": 14,
    "start_time": "2022-04-21T10:09:35.949Z"
   },
   {
    "duration": 14,
    "start_time": "2022-04-21T10:09:35.964Z"
   },
   {
    "duration": 10636,
    "start_time": "2022-04-21T10:09:35.979Z"
   },
   {
    "duration": 4,
    "start_time": "2022-04-21T10:09:46.617Z"
   },
   {
    "duration": 123,
    "start_time": "2022-04-21T10:09:46.623Z"
   },
   {
    "duration": 0,
    "start_time": "2022-04-21T10:09:46.747Z"
   },
   {
    "duration": 0,
    "start_time": "2022-04-21T10:09:46.748Z"
   },
   {
    "duration": 0,
    "start_time": "2022-04-21T10:09:46.750Z"
   },
   {
    "duration": 0,
    "start_time": "2022-04-21T10:09:46.750Z"
   },
   {
    "duration": 0,
    "start_time": "2022-04-21T10:09:46.752Z"
   },
   {
    "duration": 0,
    "start_time": "2022-04-21T10:09:46.753Z"
   },
   {
    "duration": 0,
    "start_time": "2022-04-21T10:09:46.754Z"
   },
   {
    "duration": 0,
    "start_time": "2022-04-21T10:09:46.755Z"
   },
   {
    "duration": 3,
    "start_time": "2022-04-21T10:10:45.416Z"
   },
   {
    "duration": 4,
    "start_time": "2022-04-21T10:10:46.030Z"
   },
   {
    "duration": 3,
    "start_time": "2022-04-21T10:11:01.839Z"
   },
   {
    "duration": 5,
    "start_time": "2022-04-21T10:11:02.430Z"
   },
   {
    "duration": 3,
    "start_time": "2022-04-21T10:11:12.584Z"
   },
   {
    "duration": 11,
    "start_time": "2022-04-21T10:11:12.589Z"
   },
   {
    "duration": 21,
    "start_time": "2022-04-21T10:11:12.602Z"
   },
   {
    "duration": 4,
    "start_time": "2022-04-21T10:11:16.671Z"
   },
   {
    "duration": 3,
    "start_time": "2022-04-21T10:11:35.638Z"
   },
   {
    "duration": 4,
    "start_time": "2022-04-21T10:11:36.077Z"
   },
   {
    "duration": 9478,
    "start_time": "2022-04-21T10:11:36.398Z"
   },
   {
    "duration": 4,
    "start_time": "2022-04-21T10:11:49.469Z"
   },
   {
    "duration": 4,
    "start_time": "2022-04-21T10:12:46.445Z"
   },
   {
    "duration": 9783,
    "start_time": "2022-04-21T10:12:47.117Z"
   },
   {
    "duration": 3,
    "start_time": "2022-04-21T10:14:03.859Z"
   },
   {
    "duration": 9889,
    "start_time": "2022-04-21T10:14:04.554Z"
   },
   {
    "duration": 4,
    "start_time": "2022-04-21T10:14:53.705Z"
   },
   {
    "duration": 9382,
    "start_time": "2022-04-21T10:15:26.360Z"
   },
   {
    "duration": 18,
    "start_time": "2022-04-21T10:15:37.240Z"
   },
   {
    "duration": 1455,
    "start_time": "2022-04-21T10:17:14.899Z"
   },
   {
    "duration": 813,
    "start_time": "2022-04-21T10:17:16.356Z"
   },
   {
    "duration": 3,
    "start_time": "2022-04-21T10:17:17.171Z"
   },
   {
    "duration": 27,
    "start_time": "2022-04-21T10:17:17.177Z"
   },
   {
    "duration": 224,
    "start_time": "2022-04-21T10:17:17.222Z"
   },
   {
    "duration": 276,
    "start_time": "2022-04-21T10:17:17.448Z"
   },
   {
    "duration": 11,
    "start_time": "2022-04-21T10:17:17.725Z"
   },
   {
    "duration": 255,
    "start_time": "2022-04-21T10:17:17.738Z"
   },
   {
    "duration": 4,
    "start_time": "2022-04-21T10:17:17.995Z"
   },
   {
    "duration": 777,
    "start_time": "2022-04-21T10:17:18.003Z"
   },
   {
    "duration": 4,
    "start_time": "2022-04-21T10:17:18.782Z"
   },
   {
    "duration": 10557,
    "start_time": "2022-04-21T10:17:18.788Z"
   },
   {
    "duration": 11,
    "start_time": "2022-04-21T10:17:29.347Z"
   },
   {
    "duration": 123,
    "start_time": "2022-04-21T10:17:29.360Z"
   },
   {
    "duration": 0,
    "start_time": "2022-04-21T10:17:29.485Z"
   },
   {
    "duration": 0,
    "start_time": "2022-04-21T10:17:29.487Z"
   },
   {
    "duration": 0,
    "start_time": "2022-04-21T10:17:29.489Z"
   },
   {
    "duration": 0,
    "start_time": "2022-04-21T10:17:29.490Z"
   },
   {
    "duration": 0,
    "start_time": "2022-04-21T10:17:29.492Z"
   },
   {
    "duration": 0,
    "start_time": "2022-04-21T10:17:29.493Z"
   },
   {
    "duration": 12,
    "start_time": "2022-04-21T10:17:41.562Z"
   },
   {
    "duration": 192,
    "start_time": "2022-04-21T10:41:42.113Z"
   },
   {
    "duration": 12,
    "start_time": "2022-04-21T10:44:09.670Z"
   },
   {
    "duration": 7,
    "start_time": "2022-04-21T10:44:45.332Z"
   },
   {
    "duration": 3,
    "start_time": "2022-04-21T10:45:32.763Z"
   },
   {
    "duration": 10,
    "start_time": "2022-04-21T10:45:33.146Z"
   },
   {
    "duration": 1609,
    "start_time": "2022-04-21T10:47:21.073Z"
   },
   {
    "duration": 16,
    "start_time": "2022-04-21T10:53:43.078Z"
   },
   {
    "duration": 3,
    "start_time": "2022-04-21T10:53:46.007Z"
   },
   {
    "duration": 8,
    "start_time": "2022-04-21T10:53:46.511Z"
   },
   {
    "duration": 1458,
    "start_time": "2022-04-21T10:53:47.759Z"
   },
   {
    "duration": 1507,
    "start_time": "2022-04-21T10:56:32.455Z"
   },
   {
    "duration": 952,
    "start_time": "2022-04-21T10:56:33.964Z"
   },
   {
    "duration": 6,
    "start_time": "2022-04-21T10:56:34.918Z"
   },
   {
    "duration": 38,
    "start_time": "2022-04-21T10:56:34.926Z"
   },
   {
    "duration": 226,
    "start_time": "2022-04-21T10:56:34.966Z"
   },
   {
    "duration": 300,
    "start_time": "2022-04-21T10:56:35.194Z"
   },
   {
    "duration": 10,
    "start_time": "2022-04-21T10:56:35.495Z"
   },
   {
    "duration": 273,
    "start_time": "2022-04-21T10:56:35.507Z"
   },
   {
    "duration": 3,
    "start_time": "2022-04-21T10:56:35.782Z"
   },
   {
    "duration": 995,
    "start_time": "2022-04-21T10:56:35.788Z"
   },
   {
    "duration": 4,
    "start_time": "2022-04-21T10:56:36.785Z"
   },
   {
    "duration": 11997,
    "start_time": "2022-04-21T10:56:36.791Z"
   },
   {
    "duration": 11,
    "start_time": "2022-04-21T10:56:48.790Z"
   },
   {
    "duration": 3487,
    "start_time": "2022-04-21T10:56:48.803Z"
   },
   {
    "duration": 0,
    "start_time": "2022-04-21T10:56:52.291Z"
   },
   {
    "duration": 0,
    "start_time": "2022-04-21T10:56:52.293Z"
   },
   {
    "duration": 0,
    "start_time": "2022-04-21T10:56:52.294Z"
   },
   {
    "duration": 0,
    "start_time": "2022-04-21T10:56:52.295Z"
   },
   {
    "duration": 0,
    "start_time": "2022-04-21T10:56:52.296Z"
   },
   {
    "duration": 0,
    "start_time": "2022-04-21T10:56:52.298Z"
   },
   {
    "duration": 0,
    "start_time": "2022-04-21T10:56:52.299Z"
   },
   {
    "duration": 13,
    "start_time": "2022-04-21T10:57:11.886Z"
   },
   {
    "duration": 1104,
    "start_time": "2022-04-21T10:57:11.901Z"
   },
   {
    "duration": 3,
    "start_time": "2022-04-21T10:57:13.007Z"
   },
   {
    "duration": 10,
    "start_time": "2022-04-21T10:57:13.012Z"
   },
   {
    "duration": 18,
    "start_time": "2022-04-21T10:57:13.024Z"
   },
   {
    "duration": 4,
    "start_time": "2022-04-21T10:57:13.045Z"
   },
   {
    "duration": 10,
    "start_time": "2022-04-21T10:57:13.051Z"
   },
   {
    "duration": 1442,
    "start_time": "2022-04-21T10:57:13.063Z"
   },
   {
    "duration": 6,
    "start_time": "2022-04-21T10:57:57.212Z"
   },
   {
    "duration": 4,
    "start_time": "2022-04-21T11:00:47.897Z"
   },
   {
    "duration": 207,
    "start_time": "2022-04-21T11:01:11.376Z"
   },
   {
    "duration": 4,
    "start_time": "2022-04-21T11:01:32.360Z"
   },
   {
    "duration": 232,
    "start_time": "2022-04-21T11:01:39.663Z"
   },
   {
    "duration": 6,
    "start_time": "2022-04-21T11:04:10.067Z"
   },
   {
    "duration": 4,
    "start_time": "2022-04-21T11:04:18.388Z"
   },
   {
    "duration": 5,
    "start_time": "2022-04-21T11:04:25.259Z"
   },
   {
    "duration": 4,
    "start_time": "2022-04-21T11:04:30.214Z"
   },
   {
    "duration": 9,
    "start_time": "2022-04-21T11:06:41.760Z"
   },
   {
    "duration": 7,
    "start_time": "2022-04-21T11:06:46.087Z"
   },
   {
    "duration": 6,
    "start_time": "2022-04-21T11:06:56.175Z"
   },
   {
    "duration": 1576,
    "start_time": "2022-04-21T11:08:03.626Z"
   },
   {
    "duration": 894,
    "start_time": "2022-04-21T11:08:05.204Z"
   },
   {
    "duration": 4,
    "start_time": "2022-04-21T11:08:06.100Z"
   },
   {
    "duration": 26,
    "start_time": "2022-04-21T11:08:06.122Z"
   },
   {
    "duration": 258,
    "start_time": "2022-04-21T11:08:06.149Z"
   },
   {
    "duration": 300,
    "start_time": "2022-04-21T11:08:06.410Z"
   },
   {
    "duration": 20,
    "start_time": "2022-04-21T11:08:06.712Z"
   },
   {
    "duration": 302,
    "start_time": "2022-04-21T11:08:06.734Z"
   },
   {
    "duration": 3,
    "start_time": "2022-04-21T11:08:07.038Z"
   },
   {
    "duration": 877,
    "start_time": "2022-04-21T11:08:07.046Z"
   },
   {
    "duration": 3,
    "start_time": "2022-04-21T11:08:07.925Z"
   },
   {
    "duration": 12791,
    "start_time": "2022-04-21T11:08:07.931Z"
   },
   {
    "duration": 14,
    "start_time": "2022-04-21T11:08:20.724Z"
   },
   {
    "duration": 10,
    "start_time": "2022-04-21T11:08:20.741Z"
   },
   {
    "duration": 19,
    "start_time": "2022-04-21T11:08:20.753Z"
   },
   {
    "duration": 17,
    "start_time": "2022-04-21T11:08:20.775Z"
   },
   {
    "duration": 15,
    "start_time": "2022-04-21T11:08:20.794Z"
   },
   {
    "duration": 1727,
    "start_time": "2022-04-21T11:08:20.810Z"
   },
   {
    "duration": 1536,
    "start_time": "2022-04-21T11:11:43.343Z"
   },
   {
    "duration": 907,
    "start_time": "2022-04-21T11:11:44.882Z"
   },
   {
    "duration": 4,
    "start_time": "2022-04-21T11:11:45.791Z"
   },
   {
    "duration": 51,
    "start_time": "2022-04-21T11:11:45.798Z"
   },
   {
    "duration": 274,
    "start_time": "2022-04-21T11:11:45.851Z"
   },
   {
    "duration": 3,
    "start_time": "2022-04-21T11:11:46.128Z"
   },
   {
    "duration": 20,
    "start_time": "2022-04-21T11:11:46.132Z"
   },
   {
    "duration": 264,
    "start_time": "2022-04-21T11:11:46.154Z"
   },
   {
    "duration": 20,
    "start_time": "2022-04-21T11:11:46.423Z"
   },
   {
    "duration": 953,
    "start_time": "2022-04-21T11:11:46.446Z"
   },
   {
    "duration": 4,
    "start_time": "2022-04-21T11:11:47.401Z"
   },
   {
    "duration": 12384,
    "start_time": "2022-04-21T11:11:47.406Z"
   },
   {
    "duration": 12,
    "start_time": "2022-04-21T11:11:59.791Z"
   },
   {
    "duration": 7,
    "start_time": "2022-04-21T11:11:59.805Z"
   },
   {
    "duration": 3,
    "start_time": "2022-04-21T11:11:59.823Z"
   },
   {
    "duration": 5,
    "start_time": "2022-04-21T11:11:59.828Z"
   },
   {
    "duration": 11,
    "start_time": "2022-04-21T11:11:59.834Z"
   },
   {
    "duration": 1794,
    "start_time": "2022-04-21T11:11:59.846Z"
   },
   {
    "duration": 1550,
    "start_time": "2022-04-21T11:16:08.124Z"
   },
   {
    "duration": 890,
    "start_time": "2022-04-21T11:16:09.677Z"
   },
   {
    "duration": 5,
    "start_time": "2022-04-21T11:16:10.569Z"
   },
   {
    "duration": 48,
    "start_time": "2022-04-21T11:16:10.576Z"
   },
   {
    "duration": 269,
    "start_time": "2022-04-21T11:16:10.626Z"
   },
   {
    "duration": 3,
    "start_time": "2022-04-21T11:16:10.897Z"
   },
   {
    "duration": 22,
    "start_time": "2022-04-21T11:16:10.902Z"
   },
   {
    "duration": 289,
    "start_time": "2022-04-21T11:16:10.926Z"
   },
   {
    "duration": 3,
    "start_time": "2022-04-21T11:16:11.223Z"
   },
   {
    "duration": 995,
    "start_time": "2022-04-21T11:16:11.230Z"
   },
   {
    "duration": 5,
    "start_time": "2022-04-21T11:16:12.227Z"
   },
   {
    "duration": 13396,
    "start_time": "2022-04-21T11:16:12.234Z"
   },
   {
    "duration": 12,
    "start_time": "2022-04-21T11:16:25.632Z"
   },
   {
    "duration": 21,
    "start_time": "2022-04-21T11:16:25.646Z"
   },
   {
    "duration": 8,
    "start_time": "2022-04-21T11:16:25.670Z"
   },
   {
    "duration": 8,
    "start_time": "2022-04-21T11:16:25.680Z"
   },
   {
    "duration": 14,
    "start_time": "2022-04-21T11:16:25.690Z"
   },
   {
    "duration": 1842,
    "start_time": "2022-04-21T11:16:25.706Z"
   },
   {
    "duration": 1603,
    "start_time": "2022-04-21T11:19:04.135Z"
   },
   {
    "duration": 886,
    "start_time": "2022-04-21T11:19:05.741Z"
   },
   {
    "duration": 5,
    "start_time": "2022-04-21T11:19:06.629Z"
   },
   {
    "duration": 32,
    "start_time": "2022-04-21T11:19:06.636Z"
   },
   {
    "duration": 253,
    "start_time": "2022-04-21T11:19:06.670Z"
   },
   {
    "duration": 2,
    "start_time": "2022-04-21T11:19:06.926Z"
   },
   {
    "duration": 18,
    "start_time": "2022-04-21T11:19:06.930Z"
   },
   {
    "duration": 292,
    "start_time": "2022-04-21T11:19:06.950Z"
   },
   {
    "duration": 5,
    "start_time": "2022-04-21T11:19:07.244Z"
   },
   {
    "duration": 896,
    "start_time": "2022-04-21T11:19:07.252Z"
   },
   {
    "duration": 4,
    "start_time": "2022-04-21T11:19:08.150Z"
   },
   {
    "duration": 12191,
    "start_time": "2022-04-21T11:19:08.156Z"
   },
   {
    "duration": 17,
    "start_time": "2022-04-21T11:19:20.348Z"
   },
   {
    "duration": 4,
    "start_time": "2022-04-21T11:19:20.367Z"
   },
   {
    "duration": 11,
    "start_time": "2022-04-21T11:19:20.373Z"
   },
   {
    "duration": 6,
    "start_time": "2022-04-21T11:19:20.386Z"
   },
   {
    "duration": 29,
    "start_time": "2022-04-21T11:19:20.394Z"
   },
   {
    "duration": 1670,
    "start_time": "2022-04-21T11:19:20.425Z"
   },
   {
    "duration": 5,
    "start_time": "2022-04-21T11:27:29.920Z"
   },
   {
    "duration": 4,
    "start_time": "2022-04-21T11:28:02.166Z"
   },
   {
    "duration": 4,
    "start_time": "2022-04-21T11:28:08.255Z"
   },
   {
    "duration": 745,
    "start_time": "2022-04-21T11:29:10.399Z"
   },
   {
    "duration": 762,
    "start_time": "2022-04-21T11:29:22.869Z"
   },
   {
    "duration": 1332,
    "start_time": "2022-04-21T11:30:23.102Z"
   },
   {
    "duration": 5,
    "start_time": "2022-04-21T11:30:35.658Z"
   },
   {
    "duration": 1671,
    "start_time": "2022-04-21T11:31:41.514Z"
   },
   {
    "duration": 1626,
    "start_time": "2022-04-21T11:32:02.314Z"
   },
   {
    "duration": 926,
    "start_time": "2022-04-21T11:32:03.944Z"
   },
   {
    "duration": 5,
    "start_time": "2022-04-21T11:32:04.875Z"
   },
   {
    "duration": 54,
    "start_time": "2022-04-21T11:32:04.882Z"
   },
   {
    "duration": 315,
    "start_time": "2022-04-21T11:32:04.939Z"
   },
   {
    "duration": 381,
    "start_time": "2022-04-21T11:32:05.256Z"
   },
   {
    "duration": 13,
    "start_time": "2022-04-21T11:32:05.639Z"
   },
   {
    "duration": 291,
    "start_time": "2022-04-21T11:32:05.654Z"
   },
   {
    "duration": 59,
    "start_time": "2022-04-21T11:32:05.949Z"
   },
   {
    "duration": 873,
    "start_time": "2022-04-21T11:32:06.010Z"
   },
   {
    "duration": 5,
    "start_time": "2022-04-21T11:32:06.885Z"
   },
   {
    "duration": 13300,
    "start_time": "2022-04-21T11:32:06.892Z"
   },
   {
    "duration": 15,
    "start_time": "2022-04-21T11:32:20.195Z"
   },
   {
    "duration": 6,
    "start_time": "2022-04-21T11:32:20.223Z"
   },
   {
    "duration": 6,
    "start_time": "2022-04-21T11:32:20.231Z"
   },
   {
    "duration": 6,
    "start_time": "2022-04-21T11:32:20.239Z"
   },
   {
    "duration": 7,
    "start_time": "2022-04-21T11:32:20.247Z"
   },
   {
    "duration": 16,
    "start_time": "2022-04-21T11:32:20.256Z"
   },
   {
    "duration": 1805,
    "start_time": "2022-04-21T11:32:20.274Z"
   },
   {
    "duration": 5,
    "start_time": "2022-04-21T11:32:22.081Z"
   },
   {
    "duration": 360,
    "start_time": "2022-04-21T11:32:56.317Z"
   },
   {
    "duration": 13,
    "start_time": "2022-04-21T11:33:39.670Z"
   },
   {
    "duration": 13569,
    "start_time": "2022-04-21T11:34:23.164Z"
   },
   {
    "duration": 11948,
    "start_time": "2022-04-21T11:35:01.578Z"
   },
   {
    "duration": 11769,
    "start_time": "2022-04-21T11:35:20.258Z"
   },
   {
    "duration": 11,
    "start_time": "2022-04-21T11:36:49.392Z"
   },
   {
    "duration": 14,
    "start_time": "2022-04-21T11:36:56.200Z"
   },
   {
    "duration": 19,
    "start_time": "2022-04-21T11:37:19.447Z"
   },
   {
    "duration": 1746,
    "start_time": "2022-04-21T11:38:11.870Z"
   },
   {
    "duration": 18,
    "start_time": "2022-04-21T11:38:13.618Z"
   },
   {
    "duration": 14,
    "start_time": "2022-04-21T11:41:35.744Z"
   },
   {
    "duration": 7,
    "start_time": "2022-04-21T11:44:38.892Z"
   },
   {
    "duration": 11,
    "start_time": "2022-04-21T11:45:21.779Z"
   },
   {
    "duration": 435570,
    "start_time": "2022-04-21T11:45:34.363Z"
   },
   {
    "duration": 11,
    "start_time": "2022-04-21T11:53:42.263Z"
   },
   {
    "duration": 5,
    "start_time": "2022-04-21T11:53:55.654Z"
   },
   {
    "duration": 4,
    "start_time": "2022-04-21T11:54:57.560Z"
   },
   {
    "duration": 7,
    "start_time": "2022-04-21T11:55:02.877Z"
   },
   {
    "duration": 1624,
    "start_time": "2022-04-21T11:58:57.741Z"
   },
   {
    "duration": 12,
    "start_time": "2022-04-21T12:09:14.456Z"
   },
   {
    "duration": 16741,
    "start_time": "2022-04-21T12:10:01.483Z"
   },
   {
    "duration": 13448,
    "start_time": "2022-04-21T12:11:03.378Z"
   },
   {
    "duration": 4,
    "start_time": "2022-04-21T12:12:45.652Z"
   },
   {
    "duration": 2601,
    "start_time": "2022-04-21T12:14:43.529Z"
   },
   {
    "duration": 903,
    "start_time": "2022-04-21T12:15:05.004Z"
   },
   {
    "duration": 4865,
    "start_time": "2022-04-21T12:15:10.360Z"
   },
   {
    "duration": 187,
    "start_time": "2022-04-21T12:17:52.189Z"
   },
   {
    "duration": 4757,
    "start_time": "2022-04-21T12:17:57.067Z"
   },
   {
    "duration": 1080,
    "start_time": "2022-04-21T12:26:41.943Z"
   },
   {
    "duration": 2150,
    "start_time": "2022-04-21T12:26:43.584Z"
   },
   {
    "duration": 3324,
    "start_time": "2022-04-21T12:26:46.295Z"
   },
   {
    "duration": 1535,
    "start_time": "2022-04-21T12:27:48.058Z"
   },
   {
    "duration": 940,
    "start_time": "2022-04-21T12:27:49.595Z"
   },
   {
    "duration": 4,
    "start_time": "2022-04-21T12:27:50.537Z"
   },
   {
    "duration": 36,
    "start_time": "2022-04-21T12:27:50.544Z"
   },
   {
    "duration": 241,
    "start_time": "2022-04-21T12:27:50.582Z"
   },
   {
    "duration": 285,
    "start_time": "2022-04-21T12:27:50.824Z"
   },
   {
    "duration": 17,
    "start_time": "2022-04-21T12:27:51.111Z"
   },
   {
    "duration": 271,
    "start_time": "2022-04-21T12:27:51.129Z"
   },
   {
    "duration": 16,
    "start_time": "2022-04-21T12:27:51.402Z"
   },
   {
    "duration": 963,
    "start_time": "2022-04-21T12:27:51.420Z"
   },
   {
    "duration": 4,
    "start_time": "2022-04-21T12:27:52.385Z"
   },
   {
    "duration": 12648,
    "start_time": "2022-04-21T12:27:52.391Z"
   },
   {
    "duration": 13,
    "start_time": "2022-04-21T12:28:05.040Z"
   },
   {
    "duration": 4,
    "start_time": "2022-04-21T12:28:05.054Z"
   },
   {
    "duration": 19,
    "start_time": "2022-04-21T12:28:05.060Z"
   },
   {
    "duration": 1813,
    "start_time": "2022-04-21T12:28:05.081Z"
   },
   {
    "duration": 1658,
    "start_time": "2022-04-21T12:28:06.895Z"
   },
   {
    "duration": 1379,
    "start_time": "2022-04-21T12:28:08.555Z"
   },
   {
    "duration": 205,
    "start_time": "2022-04-21T12:28:10.022Z"
   },
   {
    "duration": 10,
    "start_time": "2022-04-21T12:28:10.229Z"
   },
   {
    "duration": 21,
    "start_time": "2022-04-21T12:35:46.738Z"
   },
   {
    "duration": 221,
    "start_time": "2022-04-21T12:36:49.047Z"
   },
   {
    "duration": 252,
    "start_time": "2022-04-21T12:37:20.958Z"
   },
   {
    "duration": 1628,
    "start_time": "2022-04-21T12:39:30.857Z"
   },
   {
    "duration": 991,
    "start_time": "2022-04-21T12:39:32.487Z"
   },
   {
    "duration": 4,
    "start_time": "2022-04-21T12:39:33.480Z"
   },
   {
    "duration": 43,
    "start_time": "2022-04-21T12:39:33.486Z"
   },
   {
    "duration": 269,
    "start_time": "2022-04-21T12:39:33.531Z"
   },
   {
    "duration": 286,
    "start_time": "2022-04-21T12:39:33.802Z"
   },
   {
    "duration": 12,
    "start_time": "2022-04-21T12:39:34.090Z"
   },
   {
    "duration": 279,
    "start_time": "2022-04-21T12:39:34.103Z"
   },
   {
    "duration": 5,
    "start_time": "2022-04-21T12:39:34.384Z"
   },
   {
    "duration": 1026,
    "start_time": "2022-04-21T12:39:34.393Z"
   },
   {
    "duration": 3,
    "start_time": "2022-04-21T12:39:35.423Z"
   },
   {
    "duration": 12706,
    "start_time": "2022-04-21T12:39:35.428Z"
   },
   {
    "duration": 12,
    "start_time": "2022-04-21T12:39:48.135Z"
   },
   {
    "duration": 5,
    "start_time": "2022-04-21T12:39:48.149Z"
   },
   {
    "duration": 16,
    "start_time": "2022-04-21T12:39:48.156Z"
   },
   {
    "duration": 1659,
    "start_time": "2022-04-21T12:39:48.173Z"
   },
   {
    "duration": 13495,
    "start_time": "2022-04-21T12:39:49.834Z"
   },
   {
    "duration": 88,
    "start_time": "2022-04-21T12:40:03.336Z"
   },
   {
    "duration": 0,
    "start_time": "2022-04-21T12:40:03.426Z"
   },
   {
    "duration": 0,
    "start_time": "2022-04-21T12:40:03.428Z"
   },
   {
    "duration": 2511,
    "start_time": "2022-04-21T12:40:32.013Z"
   },
   {
    "duration": 412,
    "start_time": "2022-04-21T12:40:37.278Z"
   },
   {
    "duration": 15750,
    "start_time": "2022-04-21T12:41:31.783Z"
   },
   {
    "duration": 753,
    "start_time": "2022-04-21T12:46:58.997Z"
   },
   {
    "duration": 13,
    "start_time": "2022-04-21T12:51:11.097Z"
   },
   {
    "duration": 121465,
    "start_time": "2022-04-21T12:56:01.218Z"
   },
   {
    "duration": 297,
    "start_time": "2022-04-21T13:00:41.339Z"
   },
   {
    "duration": 226,
    "start_time": "2022-04-21T13:01:06.483Z"
   },
   {
    "duration": 114,
    "start_time": "2022-04-21T13:02:02.136Z"
   },
   {
    "duration": 1164,
    "start_time": "2022-04-21T13:02:11.545Z"
   },
   {
    "duration": 305,
    "start_time": "2022-04-21T13:02:23.648Z"
   },
   {
    "duration": 308,
    "start_time": "2022-04-21T13:08:13.736Z"
   },
   {
    "duration": 17880,
    "start_time": "2022-04-21T13:11:45.171Z"
   },
   {
    "duration": 1621911,
    "start_time": "2022-04-21T13:12:52.237Z"
   },
   {
    "duration": 39971,
    "start_time": "2022-04-21T13:42:37.965Z"
   },
   {
    "duration": 90,
    "start_time": "2022-04-21T13:45:42.161Z"
   },
   {
    "duration": 11478,
    "start_time": "2022-04-21T13:46:02.051Z"
   },
   {
    "duration": 1306,
    "start_time": "2022-04-21T13:46:19.831Z"
   },
   {
    "duration": 42807,
    "start_time": "2022-04-21T13:47:34.119Z"
   },
   {
    "duration": 1683,
    "start_time": "2022-04-21T13:48:31.244Z"
   },
   {
    "duration": 17,
    "start_time": "2022-04-21T13:49:06.484Z"
   },
   {
    "duration": 1769,
    "start_time": "2022-04-21T13:49:31.219Z"
   },
   {
    "duration": 888,
    "start_time": "2022-04-21T13:49:32.990Z"
   },
   {
    "duration": 4,
    "start_time": "2022-04-21T13:49:33.883Z"
   },
   {
    "duration": 46,
    "start_time": "2022-04-21T13:49:33.889Z"
   },
   {
    "duration": 259,
    "start_time": "2022-04-21T13:49:33.937Z"
   },
   {
    "duration": 381,
    "start_time": "2022-04-21T13:49:34.199Z"
   },
   {
    "duration": 22,
    "start_time": "2022-04-21T13:49:34.582Z"
   },
   {
    "duration": 634,
    "start_time": "2022-04-21T13:49:34.606Z"
   },
   {
    "duration": 5,
    "start_time": "2022-04-21T13:49:35.243Z"
   },
   {
    "duration": 2491,
    "start_time": "2022-04-21T13:49:35.250Z"
   },
   {
    "duration": 5,
    "start_time": "2022-04-21T13:49:37.743Z"
   },
   {
    "duration": 29813,
    "start_time": "2022-04-21T13:49:37.749Z"
   },
   {
    "duration": 16,
    "start_time": "2022-04-21T13:50:07.564Z"
   },
   {
    "duration": 3,
    "start_time": "2022-04-21T13:50:07.582Z"
   },
   {
    "duration": 42,
    "start_time": "2022-04-21T13:50:07.587Z"
   },
   {
    "duration": 4191,
    "start_time": "2022-04-21T13:50:07.631Z"
   },
   {
    "duration": 128909,
    "start_time": "2022-04-21T13:50:11.824Z"
   },
   {
    "duration": 9988,
    "start_time": "2022-04-21T13:52:20.735Z"
   },
   {
    "duration": 62370,
    "start_time": "2022-04-21T13:52:30.725Z"
   },
   {
    "duration": 2099,
    "start_time": "2022-04-21T13:53:33.097Z"
   },
   {
    "duration": 315407,
    "start_time": "2022-04-21T13:53:35.198Z"
   },
   {
    "duration": 637,
    "start_time": "2022-04-21T13:58:50.607Z"
   },
   {
    "duration": 2383609,
    "start_time": "2022-04-21T13:58:51.246Z"
   },
   {
    "duration": 58778,
    "start_time": "2022-04-21T14:38:34.857Z"
   },
   {
    "duration": 565,
    "start_time": "2022-04-21T14:41:48.672Z"
   },
   {
    "duration": 1520,
    "start_time": "2022-04-25T15:16:31.582Z"
   },
   {
    "duration": 772,
    "start_time": "2022-04-25T15:16:33.104Z"
   },
   {
    "duration": 3,
    "start_time": "2022-04-25T15:16:33.878Z"
   },
   {
    "duration": 37,
    "start_time": "2022-04-25T15:16:33.883Z"
   },
   {
    "duration": 224,
    "start_time": "2022-04-25T15:16:33.921Z"
   },
   {
    "duration": 271,
    "start_time": "2022-04-25T15:16:34.146Z"
   },
   {
    "duration": 15,
    "start_time": "2022-04-25T15:16:34.419Z"
   },
   {
    "duration": 589,
    "start_time": "2022-04-25T15:16:34.435Z"
   },
   {
    "duration": 12,
    "start_time": "2022-04-25T15:16:35.026Z"
   },
   {
    "duration": 1808,
    "start_time": "2022-04-25T15:16:35.040Z"
   },
   {
    "duration": 3,
    "start_time": "2022-04-25T15:16:36.850Z"
   },
   {
    "duration": 23756,
    "start_time": "2022-04-25T15:16:36.854Z"
   },
   {
    "duration": 15,
    "start_time": "2022-04-25T15:17:00.611Z"
   },
   {
    "duration": 18,
    "start_time": "2022-04-25T15:17:00.628Z"
   },
   {
    "duration": 42,
    "start_time": "2022-04-25T15:17:00.647Z"
   },
   {
    "duration": 4,
    "start_time": "2022-04-25T15:17:00.690Z"
   },
   {
    "duration": 21,
    "start_time": "2022-04-25T15:17:00.696Z"
   },
   {
    "duration": 17,
    "start_time": "2022-04-25T15:17:00.719Z"
   },
   {
    "duration": 0,
    "start_time": "2022-04-25T15:17:00.737Z"
   },
   {
    "duration": 0,
    "start_time": "2022-04-25T15:17:00.738Z"
   },
   {
    "duration": 0,
    "start_time": "2022-04-25T15:17:00.739Z"
   },
   {
    "duration": 0,
    "start_time": "2022-04-25T15:17:00.740Z"
   },
   {
    "duration": 0,
    "start_time": "2022-04-25T15:17:00.741Z"
   },
   {
    "duration": 0,
    "start_time": "2022-04-25T15:17:00.742Z"
   },
   {
    "duration": 0,
    "start_time": "2022-04-25T15:17:00.743Z"
   },
   {
    "duration": 0,
    "start_time": "2022-04-25T15:17:00.744Z"
   },
   {
    "duration": 0,
    "start_time": "2022-04-25T15:17:00.745Z"
   },
   {
    "duration": 105,
    "start_time": "2022-04-25T15:17:52.797Z"
   },
   {
    "duration": 4,
    "start_time": "2022-04-25T15:25:06.372Z"
   },
   {
    "duration": 3,
    "start_time": "2022-04-25T15:25:12.988Z"
   },
   {
    "duration": 2,
    "start_time": "2022-04-25T15:25:15.236Z"
   },
   {
    "duration": 2,
    "start_time": "2022-04-25T15:25:18.422Z"
   },
   {
    "duration": 10,
    "start_time": "2022-04-25T15:26:34.772Z"
   },
   {
    "duration": 192,
    "start_time": "2022-04-25T15:29:05.045Z"
   },
   {
    "duration": 29,
    "start_time": "2022-04-25T15:29:09.654Z"
   },
   {
    "duration": 28,
    "start_time": "2022-04-25T15:29:48.059Z"
   },
   {
    "duration": 3,
    "start_time": "2022-04-25T15:31:55.954Z"
   },
   {
    "duration": 15,
    "start_time": "2022-04-25T15:31:56.747Z"
   },
   {
    "duration": 129,
    "start_time": "2022-04-25T15:32:34.322Z"
   },
   {
    "duration": 3,
    "start_time": "2022-04-25T15:32:38.009Z"
   },
   {
    "duration": 16648,
    "start_time": "2022-04-25T15:32:39.363Z"
   },
   {
    "duration": 4,
    "start_time": "2022-04-25T15:33:05.081Z"
   },
   {
    "duration": 2,
    "start_time": "2022-04-25T15:33:07.697Z"
   },
   {
    "duration": 4,
    "start_time": "2022-04-25T15:33:09.975Z"
   },
   {
    "duration": 3,
    "start_time": "2022-04-25T15:33:10.641Z"
   },
   {
    "duration": 28,
    "start_time": "2022-04-25T15:33:12.282Z"
   },
   {
    "duration": 4,
    "start_time": "2022-04-25T15:36:20.316Z"
   },
   {
    "duration": 2,
    "start_time": "2022-04-25T15:36:21.134Z"
   },
   {
    "duration": 28,
    "start_time": "2022-04-25T15:36:22.005Z"
   },
   {
    "duration": 4,
    "start_time": "2022-04-25T15:49:44.821Z"
   },
   {
    "duration": 19528,
    "start_time": "2022-04-25T15:49:45.673Z"
   },
   {
    "duration": 3,
    "start_time": "2022-04-25T15:52:18.444Z"
   },
   {
    "duration": 29,
    "start_time": "2022-04-25T15:52:19.165Z"
   },
   {
    "duration": 3,
    "start_time": "2022-04-25T15:52:43.851Z"
   },
   {
    "duration": 18866,
    "start_time": "2022-04-25T15:52:44.236Z"
   },
   {
    "duration": 4,
    "start_time": "2022-04-25T16:07:09.490Z"
   },
   {
    "duration": 729,
    "start_time": "2022-04-25T16:07:09.496Z"
   },
   {
    "duration": 4,
    "start_time": "2022-04-25T16:07:10.227Z"
   },
   {
    "duration": 30,
    "start_time": "2022-04-25T16:07:10.233Z"
   },
   {
    "duration": 220,
    "start_time": "2022-04-25T16:07:10.265Z"
   },
   {
    "duration": 248,
    "start_time": "2022-04-25T16:07:10.487Z"
   },
   {
    "duration": 14,
    "start_time": "2022-04-25T16:07:10.737Z"
   },
   {
    "duration": 631,
    "start_time": "2022-04-25T16:07:10.752Z"
   },
   {
    "duration": 8,
    "start_time": "2022-04-25T16:07:11.385Z"
   },
   {
    "duration": 1868,
    "start_time": "2022-04-25T16:07:11.395Z"
   },
   {
    "duration": 4,
    "start_time": "2022-04-25T16:07:13.265Z"
   },
   {
    "duration": 33103,
    "start_time": "2022-04-25T16:07:13.271Z"
   },
   {
    "duration": 14,
    "start_time": "2022-04-25T16:07:46.375Z"
   },
   {
    "duration": 13,
    "start_time": "2022-04-25T16:07:46.390Z"
   },
   {
    "duration": 25,
    "start_time": "2022-04-25T16:07:46.405Z"
   },
   {
    "duration": 3726,
    "start_time": "2022-04-25T16:07:46.432Z"
   },
   {
    "duration": 92849,
    "start_time": "2022-04-25T16:07:50.159Z"
   },
   {
    "duration": 6304,
    "start_time": "2022-04-25T16:09:23.010Z"
   },
   {
    "duration": 49684,
    "start_time": "2022-04-25T16:09:29.401Z"
   },
   {
    "duration": 1817,
    "start_time": "2022-04-25T16:10:19.087Z"
   },
   {
    "duration": 248802,
    "start_time": "2022-04-25T16:10:20.905Z"
   },
   {
    "duration": 489,
    "start_time": "2022-04-25T16:14:29.708Z"
   },
   {
    "duration": 2341611,
    "start_time": "2022-04-25T16:14:30.200Z"
   },
   {
    "duration": 55790,
    "start_time": "2022-04-25T16:53:31.812Z"
   }
  ],
  "kernelspec": {
   "display_name": "Python 3 (ipykernel)",
   "language": "python",
   "name": "python3"
  },
  "language_info": {
   "codemirror_mode": {
    "name": "ipython",
    "version": 3
   },
   "file_extension": ".py",
   "mimetype": "text/x-python",
   "name": "python",
   "nbconvert_exporter": "python",
   "pygments_lexer": "ipython3",
   "version": "3.9.7"
  },
  "toc": {
   "base_numbering": 1,
   "nav_menu": {},
   "number_sections": true,
   "sideBar": true,
   "skip_h1_title": true,
   "title_cell": "Содержание",
   "title_sidebar": "Contents",
   "toc_cell": true,
   "toc_position": {
    "height": "calc(100% - 180px)",
    "left": "10px",
    "top": "150px",
    "width": "302.391px"
   },
   "toc_section_display": true,
   "toc_window_display": false
  }
 },
 "nbformat": 4,
 "nbformat_minor": 2
}
