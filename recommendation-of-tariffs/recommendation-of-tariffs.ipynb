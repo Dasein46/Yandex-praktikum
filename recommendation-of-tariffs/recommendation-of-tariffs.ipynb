{
 "cells": [
  {
   "cell_type": "markdown",
   "metadata": {},
   "source": [
    "Привет, меня зовут Артем Хуршудов. Сегодня я проверю твой проект.\n",
    "<br> Дальнейшее общение будет происходить на \"ты\" если это не вызывает никаких проблем.\n",
    "<br> Желательно реагировать на каждый мой комментарий ('исправил', 'не понятно как исправить ошибку', ...)\n",
    "<br> Пожалуйста, не удаляй комментарии ревьюера, так как они повышают качество повторного ревью.\n",
    "\n",
    "Комментарии будут в <font color='green'>зеленой</font>, <font color='blue'>синей</font> или <font color='red'>красной</font> рамках:\n",
    "\n",
    "<div class=\"alert alert-block alert-success\">\n",
    "<b>Успех:</b> Если все сделано отлично\n",
    "</div>\n",
    "\n",
    "<div class=\"alert alert-block alert-info\">\n",
    "<b>Совет: </b> Если можно немного улучшить\n",
    "</div>\n",
    "\n",
    "<div class=\"alert alert-block alert-danger\">\n",
    "<b>Ошибка:</b> Если требуются исправления. Работа не может быть принята с красными комментариями.\n",
    "</div>\n",
    "\n",
    "-------------------\n",
    "\n",
    "Будет очень хорошо, если ты будешь помечать свои действия следующим образом:\n",
    "<div class=\"alert alert-block alert-warning\">\n",
    "<b>Комментарий студента:</b> ...\n",
    "</div>\n",
    "\n",
    "<div class=\"alert alert-block alert-warning\">\n",
    "<b>Изменения:</b> Были внесены следующие изменения ...\n",
    "</div>\n",
    "\n",
    "### <font color='orange'>Общее впечатление</font>\n",
    "* Большое спасибо за проделанную работу. Видно, что приложено много усилий.\n",
    "* Отлично, что правильно использованы train/valid/test наборы.\n",
    "* Выводы и рассуждения получились содержательными, их было интересно читать.\n",
    "* Я оставил несколько советов, надеюсь, что они будут учтены в будущих проектах.\n",
    "* Тебе удалось добиться очень хорошего качества, поздравляю!\n",
    "* Проект может быть зачтен, но я его отправлю назад, чтобы у тебя была возможность задать вопросы и внести правки, при желании. Однако, ты можешь просто вернуть проект в таком же виде и я его зачту.\n"
   ]
  },
  {
   "cell_type": "markdown",
   "metadata": {},
   "source": [
    "### <font color='orange'>Общее впечатление (ревью 2)</font>\n",
    "* Проект зачтен!\n",
    "* Для удобства все новые комментарии обозначены фразой \"ревью 2\".\n",
    "* Удачи в дальнейшем обучении и следующих работах!"
   ]
  },
  {
   "cell_type": "markdown",
   "metadata": {},
   "source": [
    "# Рекомендация тарифов"
   ]
  },
  {
   "cell_type": "markdown",
   "metadata": {},
   "source": [
    "Оператор мобильной связи «Мегалайн» выяснил: многие клиенты пользуются архивными тарифами. Они хотят построить систему, способную проанализировать поведение клиентов и предложить пользователям новый тариф: «Смарт» или «Ультра».\n",
    "В качестве источника информации были выбраны данные о поведении клиентов, которые уже перешли на эти тарифы.\n",
    "\n",
    "**Цель исследования** - построить модель для задачи классификации, которая выберет подходящий тариф пользователям.\n",
    "\n",
    "**Ход исследования**\n",
    "\n",
    "Построим модель с максимально большим значением accuracy. Долю правильных ответов доведем по крайней мере до 0.75. Данные о поведении клиентов взяты из файла users_behavior.csv. Данные уже прошли предобработку.\n",
    "\n",
    "Таким образом, исследование можно разделить на следующие этапы:\n",
    "\n",
    "1. Изучение данных из файла.\n",
    "2. Разбивка данных на выборки.\n",
    "3. Исследование моделей.\n",
    "4. Проверка модели на тестовой выборке.\n",
    "5. Проверка модели на адекватность."
   ]
  },
  {
   "cell_type": "markdown",
   "metadata": {},
   "source": [
    "# Содержание\n",
    "* [Изучение данных из файла](#Изучение-данных-из-файла)\n",
    "* [Разбивка данных на выборки](#Разбивка-данных-на-выборки)\n",
    "* [Исследование моделей](#Исследование-моделей)\n",
    "* [Проверка модели на тестовой выборке](#Проверка-модели-на-тестовой-выборке)\n",
    "* [Проверка модели на адекватность](#Проверка-модели-на-адекватность)"
   ]
  },
  {
   "cell_type": "markdown",
   "metadata": {},
   "source": [
    "## Откройте и изучите файл"
   ]
  },
  {
   "cell_type": "code",
   "execution_count": 14,
   "metadata": {},
   "outputs": [],
   "source": [
    "# импортируем все необходимые для исследования библиотеки\n",
    "import pandas as pd\n",
    "from sklearn.model_selection import train_test_split\n",
    "from sklearn.metrics import accuracy_score\n",
    "from sklearn.tree import DecisionTreeClassifier\n",
    "from sklearn.ensemble import RandomForestClassifier\n",
    "from sklearn.linear_model import LogisticRegression\n",
    "from sklearn.dummy import DummyClassifier"
   ]
  },
  {
   "cell_type": "markdown",
   "metadata": {},
   "source": [
    "<div class=\"alert alert-block alert-success\">\n",
    "<b>Успех:</b> Отлично, что все импорты собраны в первой ячейке ноутбука! Если у того, кто будет запускать твой ноутбук будут отсутствовать некоторые библиотеки, то он это увидит сразу, а не в процессе!\n",
    "</div>"
   ]
  },
  {
   "cell_type": "code",
   "execution_count": 15,
   "metadata": {},
   "outputs": [],
   "source": [
    "# загрузим файл с данными\n",
    "df = pd.read_csv('/datasets/users_behavior.csv')"
   ]
  },
  {
   "cell_type": "code",
   "execution_count": 16,
   "metadata": {},
   "outputs": [
    {
     "data": {
      "text/html": [
       "<div>\n",
       "<style scoped>\n",
       "    .dataframe tbody tr th:only-of-type {\n",
       "        vertical-align: middle;\n",
       "    }\n",
       "\n",
       "    .dataframe tbody tr th {\n",
       "        vertical-align: top;\n",
       "    }\n",
       "\n",
       "    .dataframe thead th {\n",
       "        text-align: right;\n",
       "    }\n",
       "</style>\n",
       "<table border=\"1\" class=\"dataframe\">\n",
       "  <thead>\n",
       "    <tr style=\"text-align: right;\">\n",
       "      <th></th>\n",
       "      <th>calls</th>\n",
       "      <th>minutes</th>\n",
       "      <th>messages</th>\n",
       "      <th>mb_used</th>\n",
       "      <th>is_ultra</th>\n",
       "    </tr>\n",
       "  </thead>\n",
       "  <tbody>\n",
       "    <tr>\n",
       "      <td>0</td>\n",
       "      <td>40.0</td>\n",
       "      <td>311.90</td>\n",
       "      <td>83.0</td>\n",
       "      <td>19915.42</td>\n",
       "      <td>0</td>\n",
       "    </tr>\n",
       "    <tr>\n",
       "      <td>1</td>\n",
       "      <td>85.0</td>\n",
       "      <td>516.75</td>\n",
       "      <td>56.0</td>\n",
       "      <td>22696.96</td>\n",
       "      <td>0</td>\n",
       "    </tr>\n",
       "    <tr>\n",
       "      <td>2</td>\n",
       "      <td>77.0</td>\n",
       "      <td>467.66</td>\n",
       "      <td>86.0</td>\n",
       "      <td>21060.45</td>\n",
       "      <td>0</td>\n",
       "    </tr>\n",
       "    <tr>\n",
       "      <td>3</td>\n",
       "      <td>106.0</td>\n",
       "      <td>745.53</td>\n",
       "      <td>81.0</td>\n",
       "      <td>8437.39</td>\n",
       "      <td>1</td>\n",
       "    </tr>\n",
       "    <tr>\n",
       "      <td>4</td>\n",
       "      <td>66.0</td>\n",
       "      <td>418.74</td>\n",
       "      <td>1.0</td>\n",
       "      <td>14502.75</td>\n",
       "      <td>0</td>\n",
       "    </tr>\n",
       "  </tbody>\n",
       "</table>\n",
       "</div>"
      ],
      "text/plain": [
       "   calls  minutes  messages   mb_used  is_ultra\n",
       "0   40.0   311.90      83.0  19915.42         0\n",
       "1   85.0   516.75      56.0  22696.96         0\n",
       "2   77.0   467.66      86.0  21060.45         0\n",
       "3  106.0   745.53      81.0   8437.39         1\n",
       "4   66.0   418.74       1.0  14502.75         0"
      ]
     },
     "execution_count": 16,
     "metadata": {},
     "output_type": "execute_result"
    }
   ],
   "source": [
    "# выведем на экран первые 5 строк df\n",
    "df.head()"
   ]
  },
  {
   "cell_type": "code",
   "execution_count": 17,
   "metadata": {},
   "outputs": [
    {
     "name": "stdout",
     "output_type": "stream",
     "text": [
      "<class 'pandas.core.frame.DataFrame'>\n",
      "RangeIndex: 3214 entries, 0 to 3213\n",
      "Data columns (total 5 columns):\n",
      "calls       3214 non-null float64\n",
      "minutes     3214 non-null float64\n",
      "messages    3214 non-null float64\n",
      "mb_used     3214 non-null float64\n",
      "is_ultra    3214 non-null int64\n",
      "dtypes: float64(4), int64(1)\n",
      "memory usage: 125.7 KB\n"
     ]
    }
   ],
   "source": [
    "# получим общую информацию о данных в таблице df\n",
    "df.info()"
   ]
  },
  {
   "cell_type": "markdown",
   "metadata": {},
   "source": [
    "Итак, таблица состоит из 3214 объектов и 5 признаков.\n",
    "\n",
    "Согласно документации к данным:\n",
    "\n",
    "- сalls — количество звонков;\n",
    "- minutes — суммарная длительность звонков в минутах;\n",
    "- messages — количество sms-сообщений;\n",
    "- mb_used — израсходованный интернет-трафик в Мб;\n",
    "- is_ultra — каким тарифом пользовался в течение месяца («Ультра» — 1, «Смарт» — 0).\n",
    "Целевым признаком является is_ultra, "
   ]
  },
  {
   "cell_type": "markdown",
   "metadata": {},
   "source": [
    "<div class=\"alert alert-block alert-success\">\n",
    "<b>Успех:</b> Данные загружены корректно, первичный осмотр проведен.\n",
    "</div>"
   ]
  },
  {
   "cell_type": "markdown",
   "metadata": {},
   "source": [
    "## Разбивка данных на выборки"
   ]
  },
  {
   "cell_type": "markdown",
   "metadata": {},
   "source": [
    "Чтобы разбить данные на 3 выборки, сперва произведем разбивку на 2 выборки - обучающую и тестовую (60% и 40% соответственно) с помощью train_test_split. Затем аналогичным способом выделим половину из тестовой выборки для создания валидационной."
   ]
  },
  {
   "cell_type": "code",
   "execution_count": 18,
   "metadata": {},
   "outputs": [],
   "source": [
    "# разбивка на обучающую и тестовую выборки\n",
    "df_train, df_test = train_test_split(df, test_size=0.4)"
   ]
  },
  {
   "cell_type": "code",
   "execution_count": 19,
   "metadata": {},
   "outputs": [],
   "source": [
    "# разбивка на тестовую и валидационную выборки\n",
    "df_test, df_valid = train_test_split(df_test, test_size=0.5)"
   ]
  },
  {
   "cell_type": "code",
   "execution_count": 20,
   "metadata": {},
   "outputs": [],
   "source": [
    "# выделим в каждой выборке признаки и целевой признак для обучения модели\n",
    "# обучающая выборка\n",
    "features_train = df_train.drop(['is_ultra'], axis=1)\n",
    "target_train = df_train['is_ultra']\n",
    "# валидационная выборка\n",
    "features_valid = df_valid.drop(['is_ultra'], axis=1)\n",
    "target_valid = df_valid['is_ultra']\n",
    "# тестовая выборка\n",
    "features_test = df_test.drop(['is_ultra'], axis=1)\n",
    "target_test = df_test['is_ultra']"
   ]
  },
  {
   "cell_type": "code",
   "execution_count": 21,
   "metadata": {},
   "outputs": [
    {
     "name": "stdout",
     "output_type": "stream",
     "text": [
      "Количество строк в обучающей выборке features_train: 1928\n",
      "Количество строк в обучающей выборке target_train: 1928\n",
      "Количество строк в валидационной выборке features_valid: 643\n",
      "Количество строк в валидационной выборке target_valid: 643\n",
      "Количество строк в тестовой выборке features_test: 643\n",
      "Количество строк в тестовой выборке target_test: 643\n"
     ]
    }
   ],
   "source": [
    "# определим размеры полученных наборов для избежания ошибок\n",
    "print('Количество строк в обучающей выборке features_train:', len(features_train))\n",
    "print('Количество строк в обучающей выборке target_train:', len(target_train))\n",
    "print('Количество строк в валидационной выборке features_valid:', len(features_valid))\n",
    "print('Количество строк в валидационной выборке target_valid:', len(target_valid))\n",
    "print('Количество строк в тестовой выборке features_test:', len(features_test))\n",
    "print('Количество строк в тестовой выборке target_test:', len(target_test))"
   ]
  },
  {
   "cell_type": "markdown",
   "metadata": {},
   "source": [
    "В рамках данного этапа исследования разбили выборки на 3 группы - обучающую (60%), валидационную (20%) и тестовую (20%). Также были выделены признаки и целевой признак для дальнейшего обучения модели."
   ]
  },
  {
   "cell_type": "markdown",
   "metadata": {},
   "source": [
    "<div class=\"alert alert-block alert-success\">\n",
    "<b>Успех:</b> Разбиение было сделано верно.\n",
    "</div>\n",
    "\n",
    "<div class=\"alert alert-block alert-info\">\n",
    "<b>Совет: </b> Желательно было напечатать размеры полученных наборов. Иногда, это помогает избежать ошибок.\n",
    "</div>"
   ]
  },
  {
   "cell_type": "markdown",
   "metadata": {},
   "source": [
    "<div class=\"alert alert-block alert-warning\">\n",
    "<b>Комментарий студента:</b> Напечатал размеры полученных наборов.\n",
    "</div>"
   ]
  },
  {
   "cell_type": "markdown",
   "metadata": {},
   "source": [
    "<div class=\"alert alert-block alert-success\">\n",
    "<b>Успех (ревью 2):</b> Спасибо!\n",
    "</div>"
   ]
  },
  {
   "cell_type": "markdown",
   "metadata": {},
   "source": [
    "## Исследование моделей"
   ]
  },
  {
   "cell_type": "markdown",
   "metadata": {},
   "source": [
    "На данном этапе сравним резульаты использования 3 моделей: решающего дерева, случайного леса и регрессии."
   ]
  },
  {
   "cell_type": "markdown",
   "metadata": {},
   "source": [
    "Начнем с решающего дерева. Найдем наилучший результат в зависимости от изменения гиперпараметра max_depth."
   ]
  },
  {
   "cell_type": "code",
   "execution_count": 22,
   "metadata": {},
   "outputs": [
    {
     "name": "stdout",
     "output_type": "stream",
     "text": [
      "Accuracy лучшей модели: 0.80248833592535\n",
      "Лучшая глубина дерева: 6\n"
     ]
    }
   ],
   "source": [
    "# найдем качество модели решающего дерева\n",
    "best_tree_model = None\n",
    "best_tree_result = 0\n",
    "best_depth = 0\n",
    "for depth in range(1, 50):\n",
    "    tree_model = DecisionTreeClassifier(random_state=12345, max_depth=depth) # обучим модель с заданной глубиной дерева\n",
    "    tree_model.fit(features_train, target_train) # обучение модели\n",
    "    valid_predictions=tree_model.predict(features_valid) # получим предсказания модели\n",
    "    tree_result = accuracy_score(target_valid, valid_predictions) # посчитаем качество модели\n",
    "    if tree_result > best_tree_result:\n",
    "        best_tree_model=tree_model\n",
    "        best_tree_result=tree_result\n",
    "        best_depth=depth\n",
    "print('Accuracy лучшей модели:', best_tree_result)\n",
    "print('Лучшая глубина дерева:', best_depth)"
   ]
  },
  {
   "cell_type": "markdown",
   "metadata": {},
   "source": [
    "<div class=\"alert alert-block alert-success\">\n",
    "<b>Успех:</b> Подбор параметров был сделан правильно!\n",
    "</div>"
   ]
  },
  {
   "cell_type": "code",
   "execution_count": 23,
   "metadata": {},
   "outputs": [
    {
     "name": "stdout",
     "output_type": "stream",
     "text": [
      "Accuracy лучшей модели: 0.8133748055987559\n",
      "Лучшее количество деревьев: 32\n",
      "Лучшая глубина дерева: 8\n"
     ]
    }
   ],
   "source": [
    "# перейдем к оценке случайного леса\n",
    "best_forest_model = None\n",
    "best_forest_result = 0\n",
    "best_est = 0\n",
    "best_depth = 0\n",
    "for est in range(1, 50):\n",
    "    for depth in range(1, 10):\n",
    "        forest_model = RandomForestClassifier(random_state=12345, n_estimators=est, max_depth=depth) # обучим модель с заданным количеством деревьев\n",
    "        forest_model.fit(features_train, target_train) # обучение модели\n",
    "        valid_predictions = forest_model.predict(features_valid) # получим предсказания модели\n",
    "        forest_result=accuracy_score(target_valid, valid_predictions) # посчитаем качество модели\n",
    "        if forest_result > best_forest_result:\n",
    "            best_forest_model=forest_model\n",
    "            best_forest_result=forest_result\n",
    "            best_est=est\n",
    "            best_depth=depth\n",
    "print('Accuracy лучшей модели:', best_forest_result)\n",
    "print('Лучшее количество деревьев:', best_est)\n",
    "print('Лучшая глубина дерева:', best_depth)"
   ]
  },
  {
   "cell_type": "markdown",
   "metadata": {},
   "source": [
    "<div class=\"alert alert-block alert-info\">\n",
    "<b>Совет: </b> Тут можно было попробовать сразу несколько параметров.\n",
    "</div>"
   ]
  },
  {
   "cell_type": "markdown",
   "metadata": {},
   "source": [
    "<div class=\"alert alert-block alert-warning\">\n",
    "<b>Комментарий студента:</b> Добавил глубину дерева.\n",
    "</div>"
   ]
  },
  {
   "cell_type": "markdown",
   "metadata": {},
   "source": [
    "<div class=\"alert alert-block alert-success\">\n",
    "<b>Успех (ревью 2):</b> Отлично!\n",
    "</div>"
   ]
  },
  {
   "cell_type": "code",
   "execution_count": 24,
   "metadata": {},
   "outputs": [
    {
     "name": "stdout",
     "output_type": "stream",
     "text": [
      "Accuracy модели логистической регрессии на валидационной выборке: 0.749611197511664\n"
     ]
    },
    {
     "name": "stderr",
     "output_type": "stream",
     "text": [
      "/opt/conda/lib/python3.7/site-packages/sklearn/linear_model/logistic.py:432: FutureWarning: Default solver will be changed to 'lbfgs' in 0.22. Specify a solver to silence this warning.\n",
      "  FutureWarning)\n"
     ]
    }
   ],
   "source": [
    "# перейдем к оценке логистической регрессии\n",
    "regres_model = LogisticRegression(random_state=12345) # проведем инициализацию модели логистической регрессии\n",
    "regres_model.fit(features_train, target_train) # обучим модель на тренировочной выборке\n",
    "valid_predictions = regres_model.predict(features_valid) # получим предсказания модели\n",
    "regres_result = accuracy_score(target_valid, valid_predictions) # посчитаем качество модели\n",
    "print('Accuracy модели логистической регрессии на валидационной выборке:', regres_result)"
   ]
  },
  {
   "cell_type": "markdown",
   "metadata": {},
   "source": [
    "Таким образом, модель решающего дерева и случайного леса показывают схожую точность. Логистическая модель выдает самый худший результат."
   ]
  },
  {
   "cell_type": "markdown",
   "metadata": {},
   "source": [
    "<div class=\"alert alert-block alert-success\">\n",
    "<b>Успех:</b> Этот шаг был сделан хорошо. Радует, что ты попробовал разные модели!\n",
    "</div>"
   ]
  },
  {
   "cell_type": "markdown",
   "metadata": {},
   "source": [
    "## Проверка модели на тестовой выборке"
   ]
  },
  {
   "cell_type": "markdown",
   "metadata": {},
   "source": [
    "Оценим точность каждой модели на тестовой выборке."
   ]
  },
  {
   "cell_type": "code",
   "execution_count": 25,
   "metadata": {},
   "outputs": [
    {
     "name": "stdout",
     "output_type": "stream",
     "text": [
      "Точность модели решающего дерева на тестовой выборке 0.7947122861586314\n",
      "Точность модели случайного леса на тестовой выборке 0.8211508553654744\n",
      "Точность модели логистической регрессии на тестовой выборке 0.7511664074650077\n"
     ]
    }
   ],
   "source": [
    "# оценим точность каждой модели на тестовой выборке\n",
    "test_predictions = best_tree_model.predict(features_test)\n",
    "accuracy_tree = accuracy_score(target_test, test_predictions)\n",
    "print('Точность модели решающего дерева на тестовой выборке',accuracy_tree)\n",
    "test_predictions = best_forest_model.predict(features_test)\n",
    "accuracy_forest = accuracy_score(target_test, test_predictions)\n",
    "print('Точность модели случайного леса на тестовой выборке', accuracy_forest)\n",
    "test_predictions = regres_model.predict(features_test)\n",
    "accuracy_regres = accuracy_score(target_test, test_predictions)\n",
    "print('Точность модели логистической регрессии на тестовой выборке', accuracy_regres)"
   ]
  },
  {
   "cell_type": "markdown",
   "metadata": {},
   "source": [
    "Точность моделей на тестовой выборке незначительно отличается от точности на валидационных данных, что говорит о непереобученности моделей. Самый высокий результат показывает модель случайного леса, но она имеет самую низкую скорость. Модель решающего дерева не сильно отстает в точности."
   ]
  },
  {
   "cell_type": "markdown",
   "metadata": {},
   "source": [
    "<div class=\"alert alert-block alert-success\">\n",
    "<b>Успех:</b> Тестирование было сделано абсолютно верно!\n",
    "</div>"
   ]
  },
  {
   "cell_type": "markdown",
   "metadata": {},
   "source": [
    "## Проверка модели на адекватность"
   ]
  },
  {
   "cell_type": "code",
   "execution_count": 26,
   "metadata": {},
   "outputs": [
    {
     "name": "stdout",
     "output_type": "stream",
     "text": [
      "Точность Dummy модели 0.7091757387247278\n",
      "Точность модели случайного леса 0.8211508553654744\n"
     ]
    }
   ],
   "source": [
    "# сравним точность модели случайного леса с Dummy моделью\n",
    "dummy_clf = DummyClassifier(strategy='most_frequent', random_state=12345)\n",
    "dummy_clf.fit(features_train, target_train)\n",
    "dummy_score = dummy_clf.score(features_test, target_test)\n",
    "print('Точность Dummy модели', dummy_score)\n",
    "print('Точность модели случайного леса', accuracy_forest)"
   ]
  },
  {
   "cell_type": "markdown",
   "metadata": {},
   "source": [
    "Поскольку модель случайного леса лучше предсказывает, чем Dummy модель, то нашу модель можно считать адекватной."
   ]
  },
  {
   "cell_type": "markdown",
   "metadata": {},
   "source": [
    "<div class=\"alert alert-block alert-success\">\n",
    "<b>Успех:</b> Молодец, что здесь использовал готовую дамми модель!\n",
    "</div>"
   ]
  },
  {
   "cell_type": "markdown",
   "metadata": {},
   "source": [
    "## Вывод \n",
    "\n",
    "В процессе исследования мы составляли оптимальную модель для предсказания пользователям \"Мегалайн\" оптимального тарифа. Было рассмотрено 3 модели с различными гиперпараметрами: модель решающего дерева, модель случайного леса и модель логистической регрессии. Модель случайного леса показала наибольшую точность предсказаний. Также данная модель была признана адекватной."
   ]
  },
  {
   "cell_type": "markdown",
   "metadata": {},
   "source": [
    "<div class=\"alert alert-block alert-success\">\n",
    "<b>Успех:</b> Приятно видеть вывод в конце проекта!\n",
    "</div>"
   ]
  },
  {
   "cell_type": "markdown",
   "metadata": {},
   "source": [
    "## Чек-лист готовности проекта"
   ]
  },
  {
   "cell_type": "markdown",
   "metadata": {},
   "source": [
    "Поставьте 'x' в выполненных пунктах. Далее нажмите Shift+Enter."
   ]
  },
  {
   "cell_type": "markdown",
   "metadata": {},
   "source": [
    "- [x] Jupyter Notebook открыт\n",
    "- [x] Весь код исполняется без ошибок\n",
    "- [x] Ячейки с кодом расположены в порядке исполнения\n",
    "- [x] Выполнено задание 1: данные загружены и изучены\n",
    "- [x] Выполнено задание 2: данные разбиты на три выборки\n",
    "- [x] Выполнено задание 3: проведено исследование моделей\n",
    "    - [x] Рассмотрено больше одной модели\n",
    "    - [x] Рассмотрено хотя бы 3 значения гипепараметров для какой-нибудь модели\n",
    "    - [x] Написаны выводы по результатам исследования\n",
    "- [x] Выполнено задание 3: Проведено тестирование\n",
    "- [x] Удалось достичь accuracy не меньше 0.75\n"
   ]
  }
 ],
 "metadata": {
  "ExecuteTimeLog": [
   {
    "duration": 1313,
    "start_time": "2022-01-15T13:03:14.988Z"
   },
   {
    "duration": 27,
    "start_time": "2022-01-15T13:05:33.687Z"
   },
   {
    "duration": 5,
    "start_time": "2022-01-15T13:06:42.898Z"
   },
   {
    "duration": 22,
    "start_time": "2022-01-15T13:06:42.906Z"
   },
   {
    "duration": 20,
    "start_time": "2022-01-15T13:06:42.931Z"
   },
   {
    "duration": 8,
    "start_time": "2022-01-15T13:06:42.954Z"
   },
   {
    "duration": 1120,
    "start_time": "2022-01-17T05:54:27.521Z"
   },
   {
    "duration": 19,
    "start_time": "2022-01-17T05:54:28.642Z"
   },
   {
    "duration": 14,
    "start_time": "2022-01-17T05:54:28.663Z"
   },
   {
    "duration": 18,
    "start_time": "2022-01-17T05:54:28.679Z"
   },
   {
    "duration": 4,
    "start_time": "2022-01-17T05:54:28.699Z"
   },
   {
    "duration": 6,
    "start_time": "2022-01-17T05:54:28.705Z"
   },
   {
    "duration": 367,
    "start_time": "2022-01-17T06:03:13.632Z"
   },
   {
    "duration": 266,
    "start_time": "2022-01-17T06:03:42.410Z"
   },
   {
    "duration": 3,
    "start_time": "2022-01-17T06:03:45.982Z"
   },
   {
    "duration": 23,
    "start_time": "2022-01-17T06:03:45.987Z"
   },
   {
    "duration": 9,
    "start_time": "2022-01-17T06:03:46.012Z"
   },
   {
    "duration": 8,
    "start_time": "2022-01-17T06:03:46.022Z"
   },
   {
    "duration": 6,
    "start_time": "2022-01-17T06:03:46.032Z"
   },
   {
    "duration": 6,
    "start_time": "2022-01-17T06:03:46.040Z"
   },
   {
    "duration": 281,
    "start_time": "2022-01-17T06:03:46.047Z"
   },
   {
    "duration": 4,
    "start_time": "2022-01-17T06:04:47.325Z"
   },
   {
    "duration": 21,
    "start_time": "2022-01-17T06:04:47.330Z"
   },
   {
    "duration": 9,
    "start_time": "2022-01-17T06:04:47.353Z"
   },
   {
    "duration": 11,
    "start_time": "2022-01-17T06:04:47.364Z"
   },
   {
    "duration": 6,
    "start_time": "2022-01-17T06:04:47.376Z"
   },
   {
    "duration": 5,
    "start_time": "2022-01-17T06:04:47.384Z"
   },
   {
    "duration": 9,
    "start_time": "2022-01-17T06:04:47.391Z"
   },
   {
    "duration": 262,
    "start_time": "2022-01-17T06:59:35.167Z"
   },
   {
    "duration": 841,
    "start_time": "2022-01-17T06:59:50.998Z"
   },
   {
    "duration": 271,
    "start_time": "2022-01-17T07:02:29.348Z"
   },
   {
    "duration": 427,
    "start_time": "2022-01-17T07:02:44.693Z"
   },
   {
    "duration": 414,
    "start_time": "2022-01-17T11:33:56.447Z"
   },
   {
    "duration": 1445,
    "start_time": "2022-01-17T11:34:02.226Z"
   },
   {
    "duration": 19,
    "start_time": "2022-01-17T11:34:03.673Z"
   },
   {
    "duration": 28,
    "start_time": "2022-01-17T11:34:03.696Z"
   },
   {
    "duration": 9,
    "start_time": "2022-01-17T11:34:03.727Z"
   },
   {
    "duration": 6,
    "start_time": "2022-01-17T11:34:03.738Z"
   },
   {
    "duration": 6,
    "start_time": "2022-01-17T11:34:03.746Z"
   },
   {
    "duration": 8,
    "start_time": "2022-01-17T11:34:03.754Z"
   },
   {
    "duration": 598,
    "start_time": "2022-01-17T11:34:03.765Z"
   },
   {
    "duration": 6351,
    "start_time": "2022-01-17T11:34:04.366Z"
   },
   {
    "duration": 4,
    "start_time": "2022-01-17T11:44:47.245Z"
   },
   {
    "duration": 21,
    "start_time": "2022-01-17T11:44:47.252Z"
   },
   {
    "duration": 13,
    "start_time": "2022-01-17T11:44:47.275Z"
   },
   {
    "duration": 15,
    "start_time": "2022-01-17T11:44:47.290Z"
   },
   {
    "duration": 9,
    "start_time": "2022-01-17T11:44:47.307Z"
   },
   {
    "duration": 12,
    "start_time": "2022-01-17T11:44:47.319Z"
   },
   {
    "duration": 11,
    "start_time": "2022-01-17T11:44:47.333Z"
   },
   {
    "duration": 536,
    "start_time": "2022-01-17T11:44:47.347Z"
   },
   {
    "duration": 97,
    "start_time": "2022-01-17T11:44:47.886Z"
   },
   {
    "duration": 312,
    "start_time": "2022-01-17T11:44:47.674Z"
   },
   {
    "duration": 5,
    "start_time": "2022-01-17T11:45:04.326Z"
   },
   {
    "duration": 20,
    "start_time": "2022-01-17T11:45:04.334Z"
   },
   {
    "duration": 11,
    "start_time": "2022-01-17T11:45:04.357Z"
   },
   {
    "duration": 11,
    "start_time": "2022-01-17T11:45:04.371Z"
   },
   {
    "duration": 6,
    "start_time": "2022-01-17T11:45:04.385Z"
   },
   {
    "duration": 6,
    "start_time": "2022-01-17T11:45:04.424Z"
   },
   {
    "duration": 10,
    "start_time": "2022-01-17T11:45:04.432Z"
   },
   {
    "duration": 581,
    "start_time": "2022-01-17T11:45:04.445Z"
   },
   {
    "duration": 6255,
    "start_time": "2022-01-17T11:45:05.029Z"
   },
   {
    "duration": 16,
    "start_time": "2022-01-17T11:45:11.286Z"
   },
   {
    "duration": 4,
    "start_time": "2022-01-17T12:00:08.506Z"
   },
   {
    "duration": 22,
    "start_time": "2022-01-17T12:00:08.513Z"
   },
   {
    "duration": 13,
    "start_time": "2022-01-17T12:00:08.538Z"
   },
   {
    "duration": 16,
    "start_time": "2022-01-17T12:00:08.554Z"
   },
   {
    "duration": 18,
    "start_time": "2022-01-17T12:00:08.572Z"
   },
   {
    "duration": 21,
    "start_time": "2022-01-17T12:00:08.592Z"
   },
   {
    "duration": 16,
    "start_time": "2022-01-17T12:00:08.616Z"
   },
   {
    "duration": 630,
    "start_time": "2022-01-17T12:00:08.636Z"
   },
   {
    "duration": 6373,
    "start_time": "2022-01-17T12:00:09.269Z"
   },
   {
    "duration": 14,
    "start_time": "2022-01-17T12:00:15.644Z"
   },
   {
    "duration": 517,
    "start_time": "2022-01-17T13:13:23.398Z"
   },
   {
    "duration": 1109,
    "start_time": "2022-01-17T13:13:42.915Z"
   },
   {
    "duration": 557,
    "start_time": "2022-01-17T13:13:51.561Z"
   },
   {
    "duration": 1256,
    "start_time": "2022-01-17T13:14:04.213Z"
   },
   {
    "duration": 572,
    "start_time": "2022-01-17T13:15:28.081Z"
   },
   {
    "duration": 564,
    "start_time": "2022-01-17T13:16:30.639Z"
   },
   {
    "duration": 533,
    "start_time": "2022-01-17T13:17:24.885Z"
   },
   {
    "duration": 6381,
    "start_time": "2022-01-17T13:19:22.030Z"
   },
   {
    "duration": 304,
    "start_time": "2022-01-17T13:35:34.680Z"
   },
   {
    "duration": 311,
    "start_time": "2022-01-17T13:36:00.283Z"
   },
   {
    "duration": 539,
    "start_time": "2022-01-17T13:39:49.434Z"
   },
   {
    "duration": 536,
    "start_time": "2022-01-17T13:40:00.814Z"
   },
   {
    "duration": 590,
    "start_time": "2022-01-17T13:40:27.803Z"
   },
   {
    "duration": 299,
    "start_time": "2022-01-17T13:40:43.814Z"
   },
   {
    "duration": 554,
    "start_time": "2022-01-17T13:40:52.414Z"
   },
   {
    "duration": 8,
    "start_time": "2022-01-17T13:41:57.064Z"
   },
   {
    "duration": 4,
    "start_time": "2022-01-17T14:34:34.359Z"
   },
   {
    "duration": 234,
    "start_time": "2022-01-17T14:34:34.372Z"
   },
   {
    "duration": 336,
    "start_time": "2022-01-17T14:34:34.610Z"
   },
   {
    "duration": 235,
    "start_time": "2022-01-17T14:34:34.949Z"
   },
   {
    "duration": 228,
    "start_time": "2022-01-17T14:34:35.187Z"
   },
   {
    "duration": 337,
    "start_time": "2022-01-17T14:34:35.417Z"
   },
   {
    "duration": 346,
    "start_time": "2022-01-17T14:34:35.757Z"
   },
   {
    "duration": 1072,
    "start_time": "2022-01-17T14:34:36.106Z"
   },
   {
    "duration": 7320,
    "start_time": "2022-01-17T14:34:37.180Z"
   },
   {
    "duration": 27,
    "start_time": "2022-01-17T14:34:44.503Z"
   },
   {
    "duration": 562,
    "start_time": "2022-01-17T14:34:44.532Z"
   },
   {
    "duration": 4,
    "start_time": "2022-01-17T14:34:52.448Z"
   },
   {
    "duration": 310,
    "start_time": "2022-01-17T14:34:52.455Z"
   },
   {
    "duration": 242,
    "start_time": "2022-01-17T14:34:52.770Z"
   },
   {
    "duration": 217,
    "start_time": "2022-01-17T14:34:53.015Z"
   },
   {
    "duration": 311,
    "start_time": "2022-01-17T14:34:53.235Z"
   },
   {
    "duration": 328,
    "start_time": "2022-01-17T14:34:53.548Z"
   },
   {
    "duration": 199,
    "start_time": "2022-01-17T14:34:53.879Z"
   },
   {
    "duration": 858,
    "start_time": "2022-01-17T14:34:54.080Z"
   },
   {
    "duration": 7351,
    "start_time": "2022-01-17T14:34:54.942Z"
   },
   {
    "duration": 36,
    "start_time": "2022-01-17T14:35:02.296Z"
   },
   {
    "duration": 518,
    "start_time": "2022-01-17T14:35:02.335Z"
   },
   {
    "duration": 6,
    "start_time": "2022-01-17T14:37:05.037Z"
   },
   {
    "duration": 246,
    "start_time": "2022-01-17T14:37:05.045Z"
   },
   {
    "duration": 320,
    "start_time": "2022-01-17T14:37:05.296Z"
   },
   {
    "duration": 216,
    "start_time": "2022-01-17T14:37:05.619Z"
   },
   {
    "duration": 193,
    "start_time": "2022-01-17T14:37:05.839Z"
   },
   {
    "duration": 188,
    "start_time": "2022-01-17T14:37:06.035Z"
   },
   {
    "duration": 264,
    "start_time": "2022-01-17T14:37:06.226Z"
   },
   {
    "duration": 907,
    "start_time": "2022-01-17T14:37:06.493Z"
   },
   {
    "duration": 7604,
    "start_time": "2022-01-17T14:37:07.403Z"
   },
   {
    "duration": 27,
    "start_time": "2022-01-17T14:37:15.011Z"
   },
   {
    "duration": 460,
    "start_time": "2022-01-17T14:37:15.040Z"
   },
   {
    "duration": 17,
    "start_time": "2022-01-17T14:38:13.957Z"
   },
   {
    "duration": 21,
    "start_time": "2022-01-17T15:12:01.811Z"
   },
   {
    "duration": 317,
    "start_time": "2022-01-17T15:14:01.975Z"
   },
   {
    "duration": 23,
    "start_time": "2022-01-17T15:16:13.211Z"
   },
   {
    "duration": 5,
    "start_time": "2022-01-17T15:19:14.881Z"
   },
   {
    "duration": 175,
    "start_time": "2022-01-17T15:19:14.889Z"
   },
   {
    "duration": 203,
    "start_time": "2022-01-17T15:19:15.067Z"
   },
   {
    "duration": 178,
    "start_time": "2022-01-17T15:19:15.273Z"
   },
   {
    "duration": 187,
    "start_time": "2022-01-17T15:19:15.454Z"
   },
   {
    "duration": 245,
    "start_time": "2022-01-17T15:19:15.643Z"
   },
   {
    "duration": 187,
    "start_time": "2022-01-17T15:19:15.891Z"
   },
   {
    "duration": 774,
    "start_time": "2022-01-17T15:19:16.081Z"
   },
   {
    "duration": 6457,
    "start_time": "2022-01-17T15:19:16.859Z"
   },
   {
    "duration": 23,
    "start_time": "2022-01-17T15:19:23.319Z"
   },
   {
    "duration": 246,
    "start_time": "2022-01-17T15:19:23.344Z"
   },
   {
    "duration": 842,
    "start_time": "2022-01-17T19:44:13.571Z"
   },
   {
    "duration": 15,
    "start_time": "2022-01-17T19:44:14.414Z"
   },
   {
    "duration": 12,
    "start_time": "2022-01-17T19:44:14.431Z"
   },
   {
    "duration": 6,
    "start_time": "2022-01-17T19:44:14.445Z"
   },
   {
    "duration": 4,
    "start_time": "2022-01-17T19:44:14.452Z"
   },
   {
    "duration": 5,
    "start_time": "2022-01-17T19:44:14.457Z"
   },
   {
    "duration": 6,
    "start_time": "2022-01-17T19:44:14.464Z"
   },
   {
    "duration": 396,
    "start_time": "2022-01-17T19:44:14.472Z"
   },
   {
    "duration": 4085,
    "start_time": "2022-01-17T19:44:14.869Z"
   },
   {
    "duration": 11,
    "start_time": "2022-01-17T19:44:18.956Z"
   },
   {
    "duration": 14,
    "start_time": "2022-01-17T19:44:18.969Z"
   },
   {
    "duration": 2,
    "start_time": "2022-01-17T19:44:18.984Z"
   },
   {
    "duration": 264,
    "start_time": "2022-01-17T19:51:51.359Z"
   },
   {
    "duration": 207,
    "start_time": "2022-01-17T19:56:10.384Z"
   },
   {
    "duration": 6,
    "start_time": "2022-01-17T19:56:23.585Z"
   },
   {
    "duration": 2,
    "start_time": "2022-01-17T19:57:21.200Z"
   },
   {
    "duration": 19,
    "start_time": "2022-01-17T19:57:21.204Z"
   },
   {
    "duration": 7,
    "start_time": "2022-01-17T19:57:21.224Z"
   },
   {
    "duration": 7,
    "start_time": "2022-01-17T19:57:21.232Z"
   },
   {
    "duration": 5,
    "start_time": "2022-01-17T19:57:21.240Z"
   },
   {
    "duration": 5,
    "start_time": "2022-01-17T19:57:21.246Z"
   },
   {
    "duration": 6,
    "start_time": "2022-01-17T19:57:21.253Z"
   },
   {
    "duration": 377,
    "start_time": "2022-01-17T19:57:21.260Z"
   },
   {
    "duration": 3994,
    "start_time": "2022-01-17T19:57:21.639Z"
   },
   {
    "duration": 8,
    "start_time": "2022-01-17T19:57:25.634Z"
   },
   {
    "duration": 8,
    "start_time": "2022-01-17T19:57:25.644Z"
   },
   {
    "duration": 12,
    "start_time": "2022-01-17T19:57:25.654Z"
   },
   {
    "duration": 6,
    "start_time": "2022-01-17T19:58:25.501Z"
   },
   {
    "duration": 2,
    "start_time": "2022-01-17T20:01:33.701Z"
   },
   {
    "duration": 17,
    "start_time": "2022-01-17T20:01:33.705Z"
   },
   {
    "duration": 7,
    "start_time": "2022-01-17T20:01:33.724Z"
   },
   {
    "duration": 5,
    "start_time": "2022-01-17T20:01:33.733Z"
   },
   {
    "duration": 5,
    "start_time": "2022-01-17T20:01:33.739Z"
   },
   {
    "duration": 4,
    "start_time": "2022-01-17T20:01:33.745Z"
   },
   {
    "duration": 5,
    "start_time": "2022-01-17T20:01:33.751Z"
   },
   {
    "duration": 376,
    "start_time": "2022-01-17T20:01:33.757Z"
   },
   {
    "duration": 4022,
    "start_time": "2022-01-17T20:01:34.135Z"
   },
   {
    "duration": 8,
    "start_time": "2022-01-17T20:01:38.158Z"
   },
   {
    "duration": 11,
    "start_time": "2022-01-17T20:01:38.168Z"
   },
   {
    "duration": 4,
    "start_time": "2022-01-17T20:01:38.180Z"
   },
   {
    "duration": 4,
    "start_time": "2022-01-17T20:03:57.918Z"
   },
   {
    "duration": 19,
    "start_time": "2022-01-17T20:03:57.923Z"
   },
   {
    "duration": 8,
    "start_time": "2022-01-17T20:03:57.943Z"
   },
   {
    "duration": 6,
    "start_time": "2022-01-17T20:03:57.952Z"
   },
   {
    "duration": 5,
    "start_time": "2022-01-17T20:03:57.959Z"
   },
   {
    "duration": 4,
    "start_time": "2022-01-17T20:03:57.965Z"
   },
   {
    "duration": 8,
    "start_time": "2022-01-17T20:03:57.971Z"
   },
   {
    "duration": 374,
    "start_time": "2022-01-17T20:03:57.981Z"
   },
   {
    "duration": 4133,
    "start_time": "2022-01-17T20:03:58.357Z"
   },
   {
    "duration": 8,
    "start_time": "2022-01-17T20:04:02.492Z"
   },
   {
    "duration": 20,
    "start_time": "2022-01-17T20:04:02.501Z"
   },
   {
    "duration": 5,
    "start_time": "2022-01-17T20:04:02.523Z"
   },
   {
    "duration": 3,
    "start_time": "2022-01-17T20:08:27.717Z"
   },
   {
    "duration": 17,
    "start_time": "2022-01-17T20:08:27.721Z"
   },
   {
    "duration": 7,
    "start_time": "2022-01-17T20:08:27.740Z"
   },
   {
    "duration": 6,
    "start_time": "2022-01-17T20:08:27.748Z"
   },
   {
    "duration": 5,
    "start_time": "2022-01-17T20:08:27.755Z"
   },
   {
    "duration": 4,
    "start_time": "2022-01-17T20:08:27.761Z"
   },
   {
    "duration": 6,
    "start_time": "2022-01-17T20:08:27.767Z"
   },
   {
    "duration": 392,
    "start_time": "2022-01-17T20:08:27.775Z"
   },
   {
    "duration": 4111,
    "start_time": "2022-01-17T20:08:28.168Z"
   },
   {
    "duration": 9,
    "start_time": "2022-01-17T20:08:32.281Z"
   },
   {
    "duration": 22,
    "start_time": "2022-01-17T20:08:32.292Z"
   },
   {
    "duration": 5,
    "start_time": "2022-01-17T20:08:32.315Z"
   },
   {
    "duration": 3,
    "start_time": "2022-01-17T20:18:17.615Z"
   },
   {
    "duration": 18,
    "start_time": "2022-01-17T20:18:17.620Z"
   },
   {
    "duration": 8,
    "start_time": "2022-01-17T20:18:17.639Z"
   },
   {
    "duration": 6,
    "start_time": "2022-01-17T20:18:17.649Z"
   },
   {
    "duration": 3,
    "start_time": "2022-01-17T20:18:17.657Z"
   },
   {
    "duration": 7,
    "start_time": "2022-01-17T20:18:17.661Z"
   },
   {
    "duration": 5,
    "start_time": "2022-01-17T20:18:17.669Z"
   },
   {
    "duration": 381,
    "start_time": "2022-01-17T20:18:17.676Z"
   },
   {
    "duration": 3991,
    "start_time": "2022-01-17T20:18:18.059Z"
   },
   {
    "duration": 9,
    "start_time": "2022-01-17T20:18:22.052Z"
   },
   {
    "duration": 11,
    "start_time": "2022-01-17T20:18:22.063Z"
   },
   {
    "duration": 4,
    "start_time": "2022-01-17T20:18:22.076Z"
   },
   {
    "duration": 420,
    "start_time": "2022-01-18T11:33:14.071Z"
   },
   {
    "duration": 1370,
    "start_time": "2022-01-18T11:33:24.932Z"
   },
   {
    "duration": 21,
    "start_time": "2022-01-18T11:33:26.305Z"
   },
   {
    "duration": 30,
    "start_time": "2022-01-18T11:33:26.329Z"
   },
   {
    "duration": 8,
    "start_time": "2022-01-18T11:33:26.362Z"
   },
   {
    "duration": 6,
    "start_time": "2022-01-18T11:33:26.373Z"
   },
   {
    "duration": 5,
    "start_time": "2022-01-18T11:33:26.382Z"
   },
   {
    "duration": 8,
    "start_time": "2022-01-18T11:33:26.390Z"
   },
   {
    "duration": 5,
    "start_time": "2022-01-18T11:33:26.401Z"
   },
   {
    "duration": 618,
    "start_time": "2022-01-18T11:33:26.409Z"
   },
   {
    "duration": 6796,
    "start_time": "2022-01-18T11:33:27.030Z"
   },
   {
    "duration": 30,
    "start_time": "2022-01-18T11:33:33.829Z"
   },
   {
    "duration": 25,
    "start_time": "2022-01-18T11:33:33.862Z"
   },
   {
    "duration": 8,
    "start_time": "2022-01-18T11:33:33.890Z"
   },
   {
    "duration": 505,
    "start_time": "2022-01-18T11:33:49.280Z"
   },
   {
    "duration": 360,
    "start_time": "2022-01-18T11:33:58.421Z"
   },
   {
    "duration": 5,
    "start_time": "2022-01-18T11:34:02.890Z"
   },
   {
    "duration": 5,
    "start_time": "2022-01-18T11:34:48.229Z"
   },
   {
    "duration": 434,
    "start_time": "2022-01-18T11:36:52.361Z"
   },
   {
    "duration": 6,
    "start_time": "2022-01-18T11:38:33.823Z"
   },
   {
    "duration": 9,
    "start_time": "2022-01-18T11:39:44.716Z"
   },
   {
    "duration": 7,
    "start_time": "2022-01-18T11:40:05.465Z"
   },
   {
    "duration": 9,
    "start_time": "2022-01-18T11:41:27.189Z"
   },
   {
    "duration": 8,
    "start_time": "2022-01-18T11:42:22.303Z"
   },
   {
    "duration": 1007,
    "start_time": "2022-01-18T18:39:02.141Z"
   },
   {
    "duration": 17,
    "start_time": "2022-01-18T18:39:03.150Z"
   },
   {
    "duration": 13,
    "start_time": "2022-01-18T18:39:03.169Z"
   },
   {
    "duration": 5,
    "start_time": "2022-01-18T18:39:03.184Z"
   },
   {
    "duration": 4,
    "start_time": "2022-01-18T18:39:03.191Z"
   },
   {
    "duration": 6,
    "start_time": "2022-01-18T18:39:03.196Z"
   },
   {
    "duration": 7,
    "start_time": "2022-01-18T18:39:03.204Z"
   },
   {
    "duration": 5,
    "start_time": "2022-01-18T18:39:03.213Z"
   },
   {
    "duration": 396,
    "start_time": "2022-01-18T18:39:03.220Z"
   },
   {
    "duration": 22726,
    "start_time": "2022-01-18T18:39:03.618Z"
   },
   {
    "duration": 11,
    "start_time": "2022-01-18T18:39:26.346Z"
   },
   {
    "duration": 20,
    "start_time": "2022-01-18T18:39:26.358Z"
   },
   {
    "duration": 5,
    "start_time": "2022-01-18T18:39:26.379Z"
   },
   {
    "duration": 4,
    "start_time": "2022-01-18T18:40:51.853Z"
   },
   {
    "duration": 20,
    "start_time": "2022-01-18T18:40:51.859Z"
   },
   {
    "duration": 8,
    "start_time": "2022-01-18T18:40:51.881Z"
   },
   {
    "duration": 5,
    "start_time": "2022-01-18T18:40:51.891Z"
   },
   {
    "duration": 9,
    "start_time": "2022-01-18T18:40:51.897Z"
   },
   {
    "duration": 6,
    "start_time": "2022-01-18T18:40:51.908Z"
   },
   {
    "duration": 8,
    "start_time": "2022-01-18T18:40:51.915Z"
   },
   {
    "duration": 8,
    "start_time": "2022-01-18T18:40:51.925Z"
   },
   {
    "duration": 409,
    "start_time": "2022-01-18T18:40:51.935Z"
   },
   {
    "duration": 22236,
    "start_time": "2022-01-18T18:40:52.345Z"
   },
   {
    "duration": 12,
    "start_time": "2022-01-18T18:41:14.582Z"
   },
   {
    "duration": 11,
    "start_time": "2022-01-18T18:41:14.595Z"
   },
   {
    "duration": 4,
    "start_time": "2022-01-18T18:41:14.608Z"
   }
  ],
  "kernelspec": {
   "display_name": "Python 3",
   "language": "python",
   "name": "python3"
  },
  "language_info": {
   "codemirror_mode": {
    "name": "ipython",
    "version": 3
   },
   "file_extension": ".py",
   "mimetype": "text/x-python",
   "name": "python",
   "nbconvert_exporter": "python",
   "pygments_lexer": "ipython3",
   "version": "3.7.8"
  },
  "toc": {
   "base_numbering": 1,
   "nav_menu": {},
   "number_sections": true,
   "sideBar": true,
   "skip_h1_title": true,
   "title_cell": "Table of Contents",
   "title_sidebar": "Contents",
   "toc_cell": false,
   "toc_position": {},
   "toc_section_display": true,
   "toc_window_display": false
  }
 },
 "nbformat": 4,
 "nbformat_minor": 2
}
